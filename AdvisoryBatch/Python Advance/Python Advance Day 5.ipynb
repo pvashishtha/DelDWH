{
 "cells": [
  {
   "cell_type": "markdown",
   "id": "fc9a7908",
   "metadata": {},
   "source": [
    "## Python Advance Day 5"
   ]
  },
  {
   "cell_type": "markdown",
   "id": "81e3151b",
   "metadata": {},
   "source": [
    "### Python Modules for Cyber Security"
   ]
  },
  {
   "cell_type": "code",
   "execution_count": null,
   "id": "4dfa3e69",
   "metadata": {},
   "outputs": [],
   "source": [
    "! pip uninstall nmap"
   ]
  },
  {
   "cell_type": "code",
   "execution_count": null,
   "id": "09b10304",
   "metadata": {},
   "outputs": [],
   "source": [
    "! pip uninstall python-nmap"
   ]
  },
  {
   "cell_type": "code",
   "execution_count": null,
   "id": "d7ea07ff",
   "metadata": {},
   "outputs": [],
   "source": [
    "! pip install python-nmap"
   ]
  },
  {
   "cell_type": "code",
   "execution_count": 4,
   "id": "b96eebc8",
   "metadata": {
    "collapsed": true
   },
   "outputs": [
    {
     "data": {
      "text/plain": [
       "['ET',\n",
       " 'PortScanner',\n",
       " 'PortScannerAsync',\n",
       " 'PortScannerError',\n",
       " 'PortScannerHostDict',\n",
       " 'PortScannerTimeout',\n",
       " 'PortScannerYield',\n",
       " 'Process',\n",
       " '__author__',\n",
       " '__builtins__',\n",
       " '__cached__',\n",
       " '__doc__',\n",
       " '__file__',\n",
       " '__last_modification__',\n",
       " '__loader__',\n",
       " '__name__',\n",
       " '__package__',\n",
       " '__path__',\n",
       " '__spec__',\n",
       " '__version__',\n",
       " 'convert_nmap_output_to_encoding',\n",
       " 'csv',\n",
       " 'io',\n",
       " 'nmap',\n",
       " 'os',\n",
       " 're',\n",
       " 'shlex',\n",
       " 'subprocess',\n",
       " 'sys']"
      ]
     },
     "execution_count": 4,
     "metadata": {},
     "output_type": "execute_result"
    }
   ],
   "source": [
    "import nmap\n",
    "dir(nmap)"
   ]
  },
  {
   "cell_type": "code",
   "execution_count": null,
   "id": "5bf63749",
   "metadata": {},
   "outputs": [],
   "source": [
    "# https://nmap.org/download.html#windows"
   ]
  },
  {
   "cell_type": "code",
   "execution_count": 3,
   "id": "805630f9",
   "metadata": {},
   "outputs": [],
   "source": [
    "scanner = nmap.PortScanner()"
   ]
  },
  {
   "cell_type": "code",
   "execution_count": 5,
   "id": "ed319d61",
   "metadata": {},
   "outputs": [
    {
     "data": {
      "text/plain": [
       "(7, 93)"
      ]
     },
     "execution_count": 5,
     "metadata": {},
     "output_type": "execute_result"
    }
   ],
   "source": [
    "scanner.nmap_version()"
   ]
  },
  {
   "cell_type": "code",
   "execution_count": 10,
   "id": "f83415a2",
   "metadata": {},
   "outputs": [
    {
     "data": {
      "text/plain": [
       "{'tcp': {'method': 'syn', 'services': '1-1024'}}"
      ]
     },
     "execution_count": 10,
     "metadata": {},
     "output_type": "execute_result"
    }
   ],
   "source": [
    "ip_addr='127.0.0.1'\n",
    "scanner.scan(ip_addr, '1-1024', '-v -sS')\n",
    "scanner.scaninfo()"
   ]
  },
  {
   "cell_type": "code",
   "execution_count": 11,
   "id": "d14b4d4d",
   "metadata": {},
   "outputs": [
    {
     "name": "stdout",
     "output_type": "stream",
     "text": [
      "IP Address:  up\n"
     ]
    }
   ],
   "source": [
    "print(\"IP Address: \", scanner[ip_addr].state())"
   ]
  },
  {
   "cell_type": "code",
   "execution_count": 12,
   "id": "f5ea87bd",
   "metadata": {},
   "outputs": [
    {
     "name": "stdout",
     "output_type": "stream",
     "text": [
      "Protocols:  ['tcp']\n"
     ]
    }
   ],
   "source": [
    "print(\"Protocols: \", scanner[ip_addr].all_protocols())"
   ]
  },
  {
   "cell_type": "code",
   "execution_count": 13,
   "id": "1c699793",
   "metadata": {},
   "outputs": [
    {
     "name": "stdout",
     "output_type": "stream",
     "text": [
      "Open Ports:  dict_keys([135, 137, 445])\n"
     ]
    }
   ],
   "source": [
    "print(\"Open Ports: \", scanner[ip_addr]['tcp'].keys())"
   ]
  },
  {
   "cell_type": "code",
   "execution_count": 14,
   "id": "4fc861b4",
   "metadata": {},
   "outputs": [
    {
     "name": "stdout",
     "output_type": "stream",
     "text": [
      "{'udp': {'method': 'udp', 'services': '1-1024'}}\n"
     ]
    }
   ],
   "source": [
    "# scan UDp protocol\n",
    "scanner.scan(ip_addr, '1-1024', '-v -sU')\n",
    "print(scanner.scaninfo())"
   ]
  },
  {
   "cell_type": "code",
   "execution_count": 16,
   "id": "b52aa21a",
   "metadata": {},
   "outputs": [
    {
     "name": "stdout",
     "output_type": "stream",
     "text": [
      "IP Address:  up\n",
      "Protocols:  ['udp']\n",
      "Open Ports:  dict_keys([123, 137, 500])\n"
     ]
    }
   ],
   "source": [
    "print(\"IP Address: \", scanner[ip_addr].state())\n",
    "print(\"Protocols: \", scanner[ip_addr].all_protocols())\n",
    "print(\"Open Ports: \", scanner[ip_addr]['udp'].keys())"
   ]
  },
  {
   "cell_type": "code",
   "execution_count": 18,
   "id": "12897ba1",
   "metadata": {},
   "outputs": [
    {
     "name": "stdout",
     "output_type": "stream",
     "text": [
      "{'error': ['NSOCK ERROR [0.2220s] ssl_init_helper(): OpenSSL legacy provider failed to load.\\r\\n\\r\\n'], 'tcp': {'method': 'syn', 'services': '1-1024'}}\n",
      "IP Address:  up\n",
      "Protocols:  ['tcp']\n",
      "Open Ports:  dict_keys([135, 137, 445])\n"
     ]
    }
   ],
   "source": [
    "scanner.scan(ip_addr, '1-1024', '-v -sS -sV -A -O')\n",
    "# enable tcp, version_info, OS detection, traceroute on OS\n",
    "print(scanner.scaninfo())\n",
    "print(\"IP Address: \", scanner[ip_addr].state())\n",
    "print(\"Protocols: \", scanner[ip_addr].all_protocols())\n",
    "print(\"Open Ports: \", scanner[ip_addr]['tcp'].keys())"
   ]
  },
  {
   "cell_type": "code",
   "execution_count": 19,
   "id": "606a2ce2",
   "metadata": {},
   "outputs": [
    {
     "name": "stdout",
     "output_type": "stream",
     "text": [
      "Microsoft Windows 10 1809 - 1909\n"
     ]
    }
   ],
   "source": [
    "print(scanner.scan('127.0.0.1', arguments='-O')['scan']['127.0.0.1']['osmatch'][0]['name'])"
   ]
  },
  {
   "cell_type": "code",
   "execution_count": 20,
   "id": "2dcf1bf5",
   "metadata": {},
   "outputs": [
    {
     "name": "stdout",
     "output_type": "stream",
     "text": [
      "10.143.167.0\n",
      "{'tcp': {'method': 'syn', 'services': '1-1024'}}\n",
      "IP Address:  up\n",
      "Protocols:  ['tcp']\n",
      "Open Ports:  dict_keys([135, 137, 139, 445])\n"
     ]
    }
   ],
   "source": [
    "ip_addr=input()\n",
    "scanner.scan(ip_addr, '1-1024', '-v -sS')\n",
    "print(scanner.scaninfo())\n",
    "print(\"IP Address: \", scanner[ip_addr].state())\n",
    "print(\"Protocols: \", scanner[ip_addr].all_protocols())\n",
    "print(\"Open Ports: \", scanner[ip_addr]['tcp'].keys())"
   ]
  },
  {
   "cell_type": "markdown",
   "id": "e34fd1f9",
   "metadata": {},
   "source": [
    "#### Scapy"
   ]
  },
  {
   "cell_type": "code",
   "execution_count": null,
   "id": "a9b18ad1",
   "metadata": {},
   "outputs": [],
   "source": [
    "! pip install scapy"
   ]
  },
  {
   "cell_type": "code",
   "execution_count": 21,
   "id": "b50f425c",
   "metadata": {},
   "outputs": [],
   "source": [
    "from scapy.all import *"
   ]
  },
  {
   "cell_type": "code",
   "execution_count": 22,
   "id": "f86a64b2",
   "metadata": {
    "collapsed": true
   },
   "outputs": [
    {
     "data": {
      "text/plain": [
       "['VERSION',\n",
       " 'VERSION_MAIN',\n",
       " '_SCAPY_PKG_DIR',\n",
       " '__builtins__',\n",
       " '__cached__',\n",
       " '__doc__',\n",
       " '__file__',\n",
       " '__loader__',\n",
       " '__name__',\n",
       " '__package__',\n",
       " '__path__',\n",
       " '__spec__',\n",
       " '__version__',\n",
       " '_parse_tag',\n",
       " '_tmp',\n",
       " '_version',\n",
       " '_version_from_git_describe',\n",
       " 'all',\n",
       " 'ansmachine',\n",
       " 'arch',\n",
       " 'as_resolvers',\n",
       " 'asn1',\n",
       " 'asn1fields',\n",
       " 'asn1packet',\n",
       " 'automaton',\n",
       " 'autorun',\n",
       " 'base_classes',\n",
       " 'compat',\n",
       " 'config',\n",
       " 'consts',\n",
       " 'contrib',\n",
       " 'dadict',\n",
       " 'data',\n",
       " 'error',\n",
       " 'fields',\n",
       " 'interfaces',\n",
       " 'layers',\n",
       " 'libs',\n",
       " 'main',\n",
       " 'os',\n",
       " 'packet',\n",
       " 'pipetool',\n",
       " 'plist',\n",
       " 'pton_ntop',\n",
       " 're',\n",
       " 'route',\n",
       " 'route6',\n",
       " 'scapypipes',\n",
       " 'sendrecv',\n",
       " 'sessions',\n",
       " 'subprocess',\n",
       " 'supersocket',\n",
       " 'themes',\n",
       " 'utils',\n",
       " 'utils6',\n",
       " 'volatile']"
      ]
     },
     "execution_count": 22,
     "metadata": {},
     "output_type": "execute_result"
    }
   ],
   "source": [
    "dir(scapy)"
   ]
  },
  {
   "cell_type": "code",
   "execution_count": 23,
   "id": "09ad8733",
   "metadata": {
    "collapsed": true
   },
   "outputs": [
    {
     "data": {
      "text/plain": [
       "['ADMANDATORYFORKDC',\n",
       " 'AD_AND_OR',\n",
       " 'AD_IF_RELEVANT',\n",
       " 'AD_KDCIssued',\n",
       " 'AH',\n",
       " 'AKMSuite',\n",
       " 'ARP',\n",
       " 'ARPHDR_ETHER',\n",
       " 'ARPHDR_LOOPBACK',\n",
       " 'ARPHDR_METRICOM',\n",
       " 'ARPHDR_PPP',\n",
       " 'ARPHDR_TUN',\n",
       " 'ARPHRD_ADAPT',\n",
       " 'ARPHRD_ARCNET',\n",
       " 'ARPHRD_ATM',\n",
       " 'ARPHRD_AX25',\n",
       " 'ARPHRD_CAN',\n",
       " 'ARPHRD_CHAOS',\n",
       " 'ARPHRD_CISCO',\n",
       " 'ARPHRD_CSLIP',\n",
       " 'ARPHRD_CSLIP6',\n",
       " 'ARPHRD_DLCI',\n",
       " 'ARPHRD_EETHER',\n",
       " 'ARPHRD_ETHER',\n",
       " 'ARPHRD_FCAL',\n",
       " 'ARPHRD_FCFABRIC',\n",
       " 'ARPHRD_FCPL',\n",
       " 'ARPHRD_FCPP',\n",
       " 'ARPHRD_FDDI',\n",
       " 'ARPHRD_FRAD',\n",
       " 'ARPHRD_IEEE802',\n",
       " 'ARPHRD_IEEE80211',\n",
       " 'ARPHRD_IEEE80211_PRISM',\n",
       " 'ARPHRD_IEEE80211_RADIOTAP',\n",
       " 'ARPHRD_IEEE802154',\n",
       " 'ARPHRD_IEEE802_TR',\n",
       " 'ARPHRD_IRDA',\n",
       " 'ARPHRD_LAPD',\n",
       " 'ARPHRD_LOCALTLK',\n",
       " 'ARPHRD_LOOPBACK',\n",
       " 'ARPHRD_METRICOM',\n",
       " 'ARPHRD_NETLINK',\n",
       " 'ARPHRD_NONE',\n",
       " 'ARPHRD_PPP',\n",
       " 'ARPHRD_PRONET',\n",
       " 'ARPHRD_RAWHDLC',\n",
       " 'ARPHRD_SIT',\n",
       " 'ARPHRD_SLIP',\n",
       " 'ARPHRD_SLIP6',\n",
       " 'ARPHRD_TO_DLT',\n",
       " 'ARPHRD_TUNNEL',\n",
       " 'ARPHRD_VSOCKMON',\n",
       " 'ARP_am',\n",
       " 'ARPingResult',\n",
       " 'ASN1Codec',\n",
       " 'ASN1F_BIT_STRING',\n",
       " 'ASN1F_BIT_STRING_ENCAPS',\n",
       " 'ASN1F_BMP_STRING',\n",
       " 'ASN1F_BOOLEAN',\n",
       " 'ASN1F_CHOICE',\n",
       " 'ASN1F_ENUMERATED',\n",
       " 'ASN1F_EXT_SEQUENCE',\n",
       " 'ASN1F_FLAGS',\n",
       " 'ASN1F_GENERALIZED_TIME',\n",
       " 'ASN1F_GENERAL_STRING',\n",
       " 'ASN1F_IA5_STRING',\n",
       " 'ASN1F_INTEGER',\n",
       " 'ASN1F_IPADDRESS',\n",
       " 'ASN1F_ISO646_STRING',\n",
       " 'ASN1F_KRB_APPLICATION',\n",
       " 'ASN1F_LDAP_Authentication_krbv42DSA',\n",
       " 'ASN1F_LDAP_Authentication_krbv42LDAP',\n",
       " 'ASN1F_LDAP_Authentication_simple',\n",
       " 'ASN1F_NULL',\n",
       " 'ASN1F_NUMERIC_STRING',\n",
       " 'ASN1F_OCSP_BasicResponse',\n",
       " 'ASN1F_OCSP_BasicResponseECDSA',\n",
       " 'ASN1F_OID',\n",
       " 'ASN1F_PACKET',\n",
       " 'ASN1F_PRINTABLE_STRING',\n",
       " 'ASN1F_SEQUENCE',\n",
       " 'ASN1F_SEQUENCE_OF',\n",
       " 'ASN1F_SET',\n",
       " 'ASN1F_SET_OF',\n",
       " 'ASN1F_SNMP_PDU_BULK',\n",
       " 'ASN1F_SNMP_PDU_GET',\n",
       " 'ASN1F_SNMP_PDU_INFORM',\n",
       " 'ASN1F_SNMP_PDU_NEXT',\n",
       " 'ASN1F_SNMP_PDU_RESPONSE',\n",
       " 'ASN1F_SNMP_PDU_SET',\n",
       " 'ASN1F_SNMP_PDU_TRAPv1',\n",
       " 'ASN1F_SNMP_PDU_TRAPv2',\n",
       " 'ASN1F_STRING',\n",
       " 'ASN1F_T61_STRING',\n",
       " 'ASN1F_TIME_TICKS',\n",
       " 'ASN1F_UNIVERSAL_STRING',\n",
       " 'ASN1F_UTC_TIME',\n",
       " 'ASN1F_UTF8_STRING',\n",
       " 'ASN1F_VIDEOTEX_STRING',\n",
       " 'ASN1F_X509_CRL',\n",
       " 'ASN1F_X509_CRLECDSA',\n",
       " 'ASN1F_X509_Cert',\n",
       " 'ASN1F_X509_CertECDSA',\n",
       " 'ASN1F_X509_DirectoryString',\n",
       " 'ASN1F_X509_SubjectPublicKeyInfo',\n",
       " 'ASN1F_X509_SubjectPublicKeyInfoECDSA',\n",
       " 'ASN1F_X509_SubjectPublicKeyInfoRSA',\n",
       " 'ASN1F_badsequence',\n",
       " 'ASN1F_element',\n",
       " 'ASN1F_enum_INTEGER',\n",
       " 'ASN1F_field',\n",
       " 'ASN1F_optional',\n",
       " 'ASN1P_INTEGER',\n",
       " 'ASN1P_OID',\n",
       " 'ASN1P_PRIVSEQ',\n",
       " 'ASN1Packet_metaclass',\n",
       " 'ASN1Tag',\n",
       " 'ASN1_BADTAG',\n",
       " 'ASN1_BIT_STRING',\n",
       " 'ASN1_BMP_STRING',\n",
       " 'ASN1_BOOLEAN',\n",
       " 'ASN1_BadTag_Decoding_Error',\n",
       " 'ASN1_COUNTER32',\n",
       " 'ASN1_Class',\n",
       " 'ASN1_Class_KRB',\n",
       " 'ASN1_Class_LDAP_Authentication',\n",
       " 'ASN1_Class_SNMP',\n",
       " 'ASN1_Class_UNIVERSAL',\n",
       " 'ASN1_Class_metaclass',\n",
       " 'ASN1_Codecs',\n",
       " 'ASN1_Codecs_metaclass',\n",
       " 'ASN1_DECODING_ERROR',\n",
       " 'ASN1_Decoding_Error',\n",
       " 'ASN1_ENUMERATED',\n",
       " 'ASN1_Encoding_Error',\n",
       " 'ASN1_Error',\n",
       " 'ASN1_GAUGE32',\n",
       " 'ASN1_GENERALIZED_TIME',\n",
       " 'ASN1_GENERAL_STRING',\n",
       " 'ASN1_GSSAPI_APPLICATION',\n",
       " 'ASN1_IA5_STRING',\n",
       " 'ASN1_INTEGER',\n",
       " 'ASN1_IPADDRESS',\n",
       " 'ASN1_ISO646_STRING',\n",
       " 'ASN1_LDAP_Authentication_krbv42DSA',\n",
       " 'ASN1_LDAP_Authentication_krbv42LDAP',\n",
       " 'ASN1_LDAP_Authentication_simple',\n",
       " 'ASN1_NULL',\n",
       " 'ASN1_NUMERIC_STRING',\n",
       " 'ASN1_OID',\n",
       " 'ASN1_Object',\n",
       " 'ASN1_Object_metaclass',\n",
       " 'ASN1_PRINTABLE_STRING',\n",
       " 'ASN1_Packet',\n",
       " 'ASN1_SEQUENCE',\n",
       " 'ASN1_SET',\n",
       " 'ASN1_SNMP_PDU_BULK',\n",
       " 'ASN1_SNMP_PDU_GET',\n",
       " 'ASN1_SNMP_PDU_INFORM',\n",
       " 'ASN1_SNMP_PDU_NEXT',\n",
       " 'ASN1_SNMP_PDU_RESPONSE',\n",
       " 'ASN1_SNMP_PDU_SET',\n",
       " 'ASN1_SNMP_PDU_TRAPv1',\n",
       " 'ASN1_SNMP_PDU_TRAPv2',\n",
       " 'ASN1_STRING',\n",
       " 'ASN1_T61_STRING',\n",
       " 'ASN1_TIME_TICKS',\n",
       " 'ASN1_UNIVERSAL_STRING',\n",
       " 'ASN1_UTC_TIME',\n",
       " 'ASN1_UTF8_STRING',\n",
       " 'ASN1_VIDEOTEX_STRING',\n",
       " 'ASN1_force',\n",
       " 'AS_resolver',\n",
       " 'AS_resolver6',\n",
       " 'AS_resolver_cymru',\n",
       " 'AS_resolver_multi',\n",
       " 'AS_resolver_radb',\n",
       " 'AS_resolver_riswhois',\n",
       " 'ATMT',\n",
       " 'ATT_Error_Response',\n",
       " 'ATT_Exchange_MTU_Request',\n",
       " 'ATT_Exchange_MTU_Response',\n",
       " 'ATT_Execute_Write_Request',\n",
       " 'ATT_Execute_Write_Response',\n",
       " 'ATT_Find_By_Type_Value_Request',\n",
       " 'ATT_Find_By_Type_Value_Response',\n",
       " 'ATT_Find_Information_Request',\n",
       " 'ATT_Find_Information_Response',\n",
       " 'ATT_Handle',\n",
       " 'ATT_Handle_UUID128',\n",
       " 'ATT_Handle_Value_Indication',\n",
       " 'ATT_Handle_Value_Notification',\n",
       " 'ATT_Handle_Variable',\n",
       " 'ATT_Hdr',\n",
       " 'ATT_Prepare_Write_Request',\n",
       " 'ATT_Prepare_Write_Response',\n",
       " 'ATT_Read_Blob_Request',\n",
       " 'ATT_Read_Blob_Response',\n",
       " 'ATT_Read_By_Group_Type_Request',\n",
       " 'ATT_Read_By_Group_Type_Response',\n",
       " 'ATT_Read_By_Type_Request',\n",
       " 'ATT_Read_By_Type_Request_128bit',\n",
       " 'ATT_Read_By_Type_Response',\n",
       " 'ATT_Read_Multiple_Request',\n",
       " 'ATT_Read_Multiple_Response',\n",
       " 'ATT_Read_Request',\n",
       " 'ATT_Read_Response',\n",
       " 'ATT_Write_Command',\n",
       " 'ATT_Write_Request',\n",
       " 'ATT_Write_Response',\n",
       " 'AUTH_ALGOS',\n",
       " 'AV_PAIR',\n",
       " 'ActionField',\n",
       " 'All_DHCP_Relay_Agents_and_Servers',\n",
       " 'All_DHCP_Servers',\n",
       " 'AnsiColorTheme',\n",
       " 'AnsweringMachine',\n",
       " 'AnsweringMachineTCP',\n",
       " 'Any',\n",
       " 'AnyField',\n",
       " 'AnyStr',\n",
       " 'AsyncSniffer',\n",
       " 'AttributeType',\n",
       " 'AttributeValue',\n",
       " 'AttributeValueAssertion',\n",
       " 'AuthAlgo',\n",
       " 'AuthorizationData',\n",
       " 'AuthorizationDataItem',\n",
       " 'AutoSource',\n",
       " 'AutoTime',\n",
       " 'Automaton',\n",
       " 'Automaton_metaclass',\n",
       " 'BCDFloatField',\n",
       " 'BDAddrField',\n",
       " 'BER_BadTag_Decoding_Error',\n",
       " 'BER_Decoding_Error',\n",
       " 'BER_Encoding_Error',\n",
       " 'BER_Exception',\n",
       " 'BER_id_dec',\n",
       " 'BER_id_enc',\n",
       " 'BER_len_dec',\n",
       " 'BER_len_enc',\n",
       " 'BER_num_dec',\n",
       " 'BER_num_enc',\n",
       " 'BER_tagging_dec',\n",
       " 'BER_tagging_enc',\n",
       " 'BERcodec_BIT_STRING',\n",
       " 'BERcodec_BMP_STRING',\n",
       " 'BERcodec_BOOLEAN',\n",
       " 'BERcodec_COUNTER32',\n",
       " 'BERcodec_ENUMERATED',\n",
       " 'BERcodec_GAUGE32',\n",
       " 'BERcodec_GENERALIZED_TIME',\n",
       " 'BERcodec_GENERAL_STRING',\n",
       " 'BERcodec_GSSAPI_APPLICATION',\n",
       " 'BERcodec_IA5_STRING',\n",
       " 'BERcodec_INTEGER',\n",
       " 'BERcodec_IPADDRESS',\n",
       " 'BERcodec_ISO646_STRING',\n",
       " 'BERcodec_LDAP_Authentication_krbv42DSA',\n",
       " 'BERcodec_LDAP_Authentication_krbv42LDAP',\n",
       " 'BERcodec_LDAP_Authentication_simple',\n",
       " 'BERcodec_NULL',\n",
       " 'BERcodec_NUMERIC_STRING',\n",
       " 'BERcodec_OID',\n",
       " 'BERcodec_Object',\n",
       " 'BERcodec_PRINTABLE_STRING',\n",
       " 'BERcodec_SEQUENCE',\n",
       " 'BERcodec_SET',\n",
       " 'BERcodec_SNMP_PDU_BULK',\n",
       " 'BERcodec_SNMP_PDU_GET',\n",
       " 'BERcodec_SNMP_PDU_INFORM',\n",
       " 'BERcodec_SNMP_PDU_NEXT',\n",
       " 'BERcodec_SNMP_PDU_RESPONSE',\n",
       " 'BERcodec_SNMP_PDU_SET',\n",
       " 'BERcodec_SNMP_PDU_TRAPv1',\n",
       " 'BERcodec_SNMP_PDU_TRAPv2',\n",
       " 'BERcodec_STRING',\n",
       " 'BERcodec_T61_STRING',\n",
       " 'BERcodec_TIME_TICKS',\n",
       " 'BERcodec_UNIVERSAL_STRING',\n",
       " 'BERcodec_UTC_TIME',\n",
       " 'BERcodec_UTF8_STRING',\n",
       " 'BERcodec_VIDEOTEX_STRING',\n",
       " 'BERcodec_metaclass',\n",
       " 'BIG_ENDIAN',\n",
       " 'BOOTP',\n",
       " 'BOOTP_am',\n",
       " 'BSD',\n",
       " 'BTLE',\n",
       " 'BTLEChanMapField',\n",
       " 'BTLEFeatureField',\n",
       " 'BTLEPhysField',\n",
       " 'BTLE_ADV',\n",
       " 'BTLE_ADV_DIRECT_IND',\n",
       " 'BTLE_ADV_IND',\n",
       " 'BTLE_ADV_NONCONN_IND',\n",
       " 'BTLE_ADV_SCAN_IND',\n",
       " 'BTLE_BTLE_CTRL_opcode',\n",
       " 'BTLE_CONNECT_REQ',\n",
       " 'BTLE_CTRL',\n",
       " 'BTLE_Corp_IDs',\n",
       " 'BTLE_DATA',\n",
       " 'BTLE_EMPTY_PDU',\n",
       " 'BTLE_PPI',\n",
       " 'BTLE_RF',\n",
       " 'BTLE_SCAN_REQ',\n",
       " 'BTLE_SCAN_RSP',\n",
       " 'BTLE_Versions',\n",
       " 'BasePacket',\n",
       " 'BasePacketList',\n",
       " 'BitEnumField',\n",
       " 'BitExtendedField',\n",
       " 'BitField',\n",
       " 'BitFieldLenField',\n",
       " 'BitFixedLenField',\n",
       " 'BitMultiEnumField',\n",
       " 'BitScalingField',\n",
       " 'BlackAndWhite',\n",
       " 'BluetoothCommandError',\n",
       " 'BluetoothHCISocket',\n",
       " 'BluetoothL2CAPSocket',\n",
       " 'BluetoothRFCommSocket',\n",
       " 'BluetoothSocketError',\n",
       " 'BluetoothUserSocket',\n",
       " 'BoundStrLenField',\n",
       " 'BrightTheme',\n",
       " 'ByteEnumField',\n",
       " 'ByteEnumKeysField',\n",
       " 'ByteField',\n",
       " 'CLAIMS_ARRAY',\n",
       " 'CLAIMS_COMPRESSION_FORMAT',\n",
       " 'CLAIMS_SET',\n",
       " 'CLAIMS_SET_METADATA',\n",
       " 'CLAIMS_SET_WRAP',\n",
       " 'CLAIMS_SOURCE_TYPE',\n",
       " 'CLAIM_ENTRY',\n",
       " 'CLAIM_TYPE',\n",
       " 'CLDAP',\n",
       " 'CLIFeeder',\n",
       " 'CLIHighFeeder',\n",
       " 'CMAC',\n",
       " 'COOKED_LINUX_PACKET_TYPES',\n",
       " 'CRYPT_ALGOS',\n",
       " 'CYPHER_BLOCK',\n",
       " 'CacheInstance',\n",
       " 'Callable',\n",
       " 'CharEnumField',\n",
       " 'Checksum',\n",
       " 'ChunkParamField',\n",
       " 'Cipher',\n",
       " 'ClasslessFieldListField',\n",
       " 'ClasslessStaticRoutesField',\n",
       " 'ClientSubnetv4',\n",
       " 'ClientSubnetv6',\n",
       " 'Color',\n",
       " 'ColorOnBlackTheme',\n",
       " 'ColorTable',\n",
       " 'ColorTheme',\n",
       " 'CommandsList',\n",
       " 'CommonAuthVerifier',\n",
       " 'ConditionalField',\n",
       " 'Conf',\n",
       " 'ConfClass',\n",
       " 'ConfigFieldList',\n",
       " 'ConsoleSink',\n",
       " 'ContextManagerCaptureOutput',\n",
       " 'ContextManagerSubprocess',\n",
       " 'CookedLinux',\n",
       " 'CookedLinuxV2',\n",
       " 'CorruptedBits',\n",
       " 'CorruptedBytes',\n",
       " 'CryptAlgo',\n",
       " 'CryptographyDeprecationWarning',\n",
       " 'DADict',\n",
       " 'DADict_Exception',\n",
       " 'DARWIN',\n",
       " 'DCE_RPC_INTERFACES',\n",
       " 'DCE_RPC_INTERFACES_NAMES',\n",
       " 'DCE_RPC_INTERFACES_NAMES_rev',\n",
       " 'DCE_RPC_TRANSFER_SYNTAXES',\n",
       " 'DCE_RPC_TYPE',\n",
       " 'DEFAULT_PRESTART_FILE',\n",
       " 'DEFAULT_STARTUP_FILE',\n",
       " 'DHCP',\n",
       " 'DHCP6',\n",
       " 'DHCP6ClientIAID',\n",
       " 'DHCP6ClientIA_NA',\n",
       " 'DHCP6ClientIA_TA',\n",
       " 'DHCP6ClientUnicastAddr',\n",
       " 'DHCP6CurrentTransactionID',\n",
       " 'DHCP6OptAuth',\n",
       " 'DHCP6OptBCMCSDomains',\n",
       " 'DHCP6OptBCMCSServers',\n",
       " 'DHCP6OptBootFileUrl',\n",
       " 'DHCP6OptClientArchType',\n",
       " 'DHCP6OptClientFQDN',\n",
       " 'DHCP6OptClientId',\n",
       " 'DHCP6OptClientLinkLayerAddr',\n",
       " 'DHCP6OptClientNetworkInterId',\n",
       " 'DHCP6OptDNSDomains',\n",
       " 'DHCP6OptDNSServers',\n",
       " 'DHCP6OptERPDomain',\n",
       " 'DHCP6OptElapsedTime',\n",
       " 'DHCP6OptGeoConf',\n",
       " 'DHCP6OptGeoConfElement',\n",
       " 'DHCP6OptIAAddress',\n",
       " 'DHCP6OptIAPrefix',\n",
       " 'DHCP6OptIA_NA',\n",
       " 'DHCP6OptIA_PD',\n",
       " 'DHCP6OptIA_TA',\n",
       " 'DHCP6OptIfaceId',\n",
       " 'DHCP6OptInfoRefreshTime',\n",
       " 'DHCP6OptLQClientLink',\n",
       " 'DHCP6OptMudUrl',\n",
       " 'DHCP6OptNISDomain',\n",
       " 'DHCP6OptNISPDomain',\n",
       " 'DHCP6OptNISPServers',\n",
       " 'DHCP6OptNISServers',\n",
       " 'DHCP6OptNewPOSIXTimeZone',\n",
       " 'DHCP6OptNewTZDBTimeZone',\n",
       " 'DHCP6OptOptReq',\n",
       " 'DHCP6OptPanaAuthAgent',\n",
       " 'DHCP6OptPref',\n",
       " 'DHCP6OptRapidCommit',\n",
       " 'DHCP6OptReconfAccept',\n",
       " 'DHCP6OptReconfMsg',\n",
       " 'DHCP6OptRelayAgentERO',\n",
       " 'DHCP6OptRelayMsg',\n",
       " 'DHCP6OptRelaySuppliedOpt',\n",
       " 'DHCP6OptRemoteID',\n",
       " 'DHCP6OptSIPDomains',\n",
       " 'DHCP6OptSIPServers',\n",
       " 'DHCP6OptSNTPServers',\n",
       " 'DHCP6OptServerId',\n",
       " 'DHCP6OptServerUnicast',\n",
       " 'DHCP6OptStatusCode',\n",
       " 'DHCP6OptSubscriberID',\n",
       " 'DHCP6OptUnknown',\n",
       " 'DHCP6OptUserClass',\n",
       " 'DHCP6OptVSS',\n",
       " 'DHCP6OptVendorClass',\n",
       " 'DHCP6OptVendorSpecificInfo',\n",
       " 'DHCP6PrefVal',\n",
       " 'DHCP6RelayAgentUnicastAddr',\n",
       " 'DHCP6RelayHopCount',\n",
       " 'DHCP6ServerDUID',\n",
       " 'DHCP6ServerUnicastAddr',\n",
       " 'DHCP6_Advertise',\n",
       " 'DHCP6_Confirm',\n",
       " 'DHCP6_Decline',\n",
       " 'DHCP6_InfoRequest',\n",
       " 'DHCP6_Rebind',\n",
       " 'DHCP6_Reconf',\n",
       " 'DHCP6_RelayForward',\n",
       " 'DHCP6_RelayReply',\n",
       " 'DHCP6_Release',\n",
       " 'DHCP6_Renew',\n",
       " 'DHCP6_Reply',\n",
       " 'DHCP6_Request',\n",
       " 'DHCP6_Solicit',\n",
       " 'DHCPOptions',\n",
       " 'DHCPOptionsField',\n",
       " 'DHCPRevOptions',\n",
       " 'DHCPTypes',\n",
       " 'DHCP_am',\n",
       " 'DHCPv6_am',\n",
       " 'DHRepInfo',\n",
       " 'DIR_PPP',\n",
       " 'DLT_AIRONET_HEADER',\n",
       " 'DLT_ARCNET',\n",
       " 'DLT_ARCNET_LINUX',\n",
       " 'DLT_ATM_CLIP',\n",
       " 'DLT_AX25',\n",
       " 'DLT_AX25_KISS',\n",
       " 'DLT_BLUETOOTH_HCI_H4',\n",
       " 'DLT_BLUETOOTH_HCI_H4_WITH_PHDR',\n",
       " 'DLT_BLUETOOTH_LE_LL',\n",
       " 'DLT_BLUETOOTH_LE_LL_WITH_PHDR',\n",
       " 'DLT_CAN_SOCKETCAN',\n",
       " 'DLT_CHAOS',\n",
       " 'DLT_C_HDLC',\n",
       " 'DLT_EN10MB',\n",
       " 'DLT_EN3MB',\n",
       " 'DLT_ENC',\n",
       " 'DLT_ETHERNET_MPACKET',\n",
       " 'DLT_FC_2',\n",
       " 'DLT_FDDI',\n",
       " 'DLT_FRELAY',\n",
       " 'DLT_HHDLC',\n",
       " 'DLT_IEEE802',\n",
       " 'DLT_IEEE802_11',\n",
       " 'DLT_IEEE802_11_RADIO',\n",
       " 'DLT_IEEE802_11_RADIO_AVS',\n",
       " 'DLT_IEEE802_15_4_NOFCS',\n",
       " 'DLT_IEEE802_15_4_WITHFCS',\n",
       " 'DLT_IPV4',\n",
       " 'DLT_IPV6',\n",
       " 'DLT_IP_OVER_FC',\n",
       " 'DLT_LINUX_IRDA',\n",
       " 'DLT_LINUX_LAPD',\n",
       " 'DLT_LINUX_SLL',\n",
       " 'DLT_LINUX_SLL2',\n",
       " 'DLT_LOOP',\n",
       " 'DLT_LTALK',\n",
       " 'DLT_NETLINK',\n",
       " 'DLT_NULL',\n",
       " 'DLT_PFLOG',\n",
       " 'DLT_PFSYNC',\n",
       " 'DLT_PPI',\n",
       " 'DLT_PPP',\n",
       " 'DLT_PPP_BSDOS',\n",
       " 'DLT_PPP_ETHER',\n",
       " 'DLT_PPP_SERIAL',\n",
       " 'DLT_PPP_WITH_DIR',\n",
       " 'DLT_PRISM_HEADER',\n",
       " 'DLT_PRONET',\n",
       " 'DLT_RAW',\n",
       " 'DLT_RAW_ALT',\n",
       " 'DLT_SLIP',\n",
       " 'DLT_SLIP_BSDOS',\n",
       " 'DLT_SYMANTEC_FIREWALL',\n",
       " 'DLT_USBPCAP',\n",
       " 'DLT_USB_DARWIN',\n",
       " 'DLT_USB_LINUX',\n",
       " 'DLT_VSOCK',\n",
       " 'DNS',\n",
       " 'DNSQR',\n",
       " 'DNSQRField',\n",
       " 'DNSRR',\n",
       " 'DNSRRCountField',\n",
       " 'DNSRRDLV',\n",
       " 'DNSRRDNSKEY',\n",
       " 'DNSRRDS',\n",
       " 'DNSRRField',\n",
       " 'DNSRRMX',\n",
       " 'DNSRRNSEC',\n",
       " 'DNSRRNSEC3',\n",
       " 'DNSRRNSEC3PARAM',\n",
       " 'DNSRROPT',\n",
       " 'DNSRRRSIG',\n",
       " 'DNSRRSOA',\n",
       " 'DNSRRSRV',\n",
       " 'DNSRRTSIG',\n",
       " 'DNSRR_DISPATCHER',\n",
       " 'DNSSEC_CLASSES',\n",
       " 'DNSStrField',\n",
       " 'DNSTextField',\n",
       " 'DNS_am',\n",
       " 'DNSgetstr',\n",
       " 'DUID_EN',\n",
       " 'DUID_LL',\n",
       " 'DUID_LLT',\n",
       " 'DUID_UUID',\n",
       " 'DceRpc',\n",
       " 'DceRpc4',\n",
       " 'DceRpc4Payload',\n",
       " 'DceRpc5',\n",
       " 'DceRpc5AbstractSyntax',\n",
       " 'DceRpc5AlterContext',\n",
       " 'DceRpc5AlterContextResp',\n",
       " 'DceRpc5Auth3',\n",
       " 'DceRpc5Bind',\n",
       " 'DceRpc5BindAck',\n",
       " 'DceRpc5BindNak',\n",
       " 'DceRpc5Context',\n",
       " 'DceRpc5Fault',\n",
       " 'DceRpc5PortAny',\n",
       " 'DceRpc5Request',\n",
       " 'DceRpc5Response',\n",
       " 'DceRpc5Result',\n",
       " 'DceRpc5TransferSyntax',\n",
       " 'DceRpc5Version',\n",
       " 'DceRpcInterface',\n",
       " 'DceRpcOp',\n",
       " 'DceRpcSession',\n",
       " 'Decimal',\n",
       " 'DecoratorCallable',\n",
       " 'DefaultDict',\n",
       " 'DefaultSession',\n",
       " 'DefaultTheme',\n",
       " 'DelayedEval',\n",
       " 'Deque',\n",
       " 'DestField',\n",
       " 'DestIP6Field',\n",
       " 'DestIPField',\n",
       " 'DestMACField',\n",
       " 'Dict',\n",
       " 'DomainNameListField',\n",
       " 'Dot11',\n",
       " 'Dot11ATIM',\n",
       " 'Dot11Ack',\n",
       " 'Dot11AssoReq',\n",
       " 'Dot11AssoResp',\n",
       " 'Dot11Auth',\n",
       " 'Dot11Beacon',\n",
       " 'Dot11CCMP',\n",
       " 'Dot11Deauth',\n",
       " 'Dot11Disas',\n",
       " 'Dot11Elt',\n",
       " 'Dot11EltCountry',\n",
       " 'Dot11EltCountryConstraintTriplet',\n",
       " 'Dot11EltDSSSet',\n",
       " 'Dot11EltERP',\n",
       " 'Dot11EltHTCapabilities',\n",
       " 'Dot11EltMicrosoftWPA',\n",
       " 'Dot11EltRSN',\n",
       " 'Dot11EltRates',\n",
       " 'Dot11EltVendorSpecific',\n",
       " 'Dot11Encrypted',\n",
       " 'Dot11FCS',\n",
       " 'Dot11PacketList',\n",
       " 'Dot11ProbeReq',\n",
       " 'Dot11ProbeResp',\n",
       " 'Dot11QoS',\n",
       " 'Dot11ReassoReq',\n",
       " 'Dot11ReassoResp',\n",
       " 'Dot11TKIP',\n",
       " 'Dot11WEP',\n",
       " 'Dot15d4',\n",
       " 'Dot15d4Ack',\n",
       " 'Dot15d4AuxSecurityHeader',\n",
       " 'Dot15d4Beacon',\n",
       " 'Dot15d4Cmd',\n",
       " 'Dot15d4CmdAssocReq',\n",
       " 'Dot15d4CmdAssocResp',\n",
       " 'Dot15d4CmdCoordRealign',\n",
       " 'Dot15d4CmdCoordRealignPage',\n",
       " 'Dot15d4CmdDisassociation',\n",
       " 'Dot15d4CmdGTSReq',\n",
       " 'Dot15d4Data',\n",
       " 'Dot15d4FCS',\n",
       " 'Dot1AD',\n",
       " 'Dot1Q',\n",
       " 'Dot3',\n",
       " 'DownDrain',\n",
       " 'Drain',\n",
       " 'EAP',\n",
       " 'EAPOL',\n",
       " 'EAP_FAST',\n",
       " 'EAP_MD5',\n",
       " 'EAP_PEAP',\n",
       " 'EAP_TLS',\n",
       " 'EAP_TTLS',\n",
       " 'ECCurve',\n",
       " 'ECDSAPrivateKey',\n",
       " 'ECDSAPrivateKey_OpenSSL',\n",
       " 'ECDSAPublicKey',\n",
       " 'ECDSASignature',\n",
       " 'ECFieldID',\n",
       " 'ECParameters',\n",
       " 'ECSpecifiedDomain',\n",
       " 'EDNS0ClientSubnet',\n",
       " 'EDNS0TLV',\n",
       " 'EDecimal',\n",
       " 'EField',\n",
       " 'EIR_CompleteList128BitServiceUUIDs',\n",
       " 'EIR_CompleteList16BitServiceUUIDs',\n",
       " 'EIR_CompleteLocalName',\n",
       " 'EIR_Device_ID',\n",
       " 'EIR_Element',\n",
       " 'EIR_Flags',\n",
       " 'EIR_Hdr',\n",
       " 'EIR_IncompleteList128BitServiceUUIDs',\n",
       " 'EIR_IncompleteList16BitServiceUUIDs',\n",
       " 'EIR_Manufacturer_Specific_Data',\n",
       " 'EIR_Raw',\n",
       " 'EIR_ServiceData16BitUUID',\n",
       " 'EIR_ShortenedLocalName',\n",
       " 'EIR_TX_Power_Level',\n",
       " 'EPOCH',\n",
       " 'EPacket',\n",
       " 'EPacketField',\n",
       " 'EPacketListField',\n",
       " 'ERFEthernetReader',\n",
       " 'ERFEthernetReader_metaclass',\n",
       " 'ERFEthernetWriter',\n",
       " 'ESP',\n",
       " 'ETHER_ANY',\n",
       " 'ETHER_BROADCAST',\n",
       " 'ETHER_TYPES',\n",
       " 'ETH_P_8021Q',\n",
       " 'ETH_P_ALL',\n",
       " 'ETH_P_ARP',\n",
       " 'ETH_P_IP',\n",
       " 'ETH_P_IPV6',\n",
       " 'ETH_P_MACSEC',\n",
       " 'ETYPE_INFO',\n",
       " 'ETYPE_INFO2',\n",
       " 'ETYPE_INFO_ENTRY',\n",
       " 'ETYPE_INFO_ENTRY2',\n",
       " 'Emph',\n",
       " 'Emphasize',\n",
       " 'Empty',\n",
       " 'EncASRepPart',\n",
       " 'EncKDCRepPart',\n",
       " 'EncKeyPack',\n",
       " 'EncTGSRepPart',\n",
       " 'EncTicketPart',\n",
       " 'EncryptedData',\n",
       " 'EncryptionKey',\n",
       " 'Enum',\n",
       " 'EnumElement',\n",
       " 'EnumField',\n",
       " 'Enum_metaclass',\n",
       " 'Ether',\n",
       " 'EtherDA',\n",
       " 'Event',\n",
       " 'ExternalPrincipalIdentifier',\n",
       " 'FCSField',\n",
       " 'FDSourceSink',\n",
       " 'FILETIME',\n",
       " 'FILE_GET_QUOTA_INFORMATION',\n",
       " 'FILE_ID_BOTH_DIR_INFORMATION',\n",
       " 'FREEBSD',\n",
       " 'Field',\n",
       " 'FieldAttributeException',\n",
       " 'FieldLenField',\n",
       " 'FieldListField',\n",
       " 'FieldValueRangeException',\n",
       " 'Field_metaclass',\n",
       " 'FileAttributes',\n",
       " 'FileEaInformation',\n",
       " 'FileFsAttributeInformation',\n",
       " 'FileFsSizeInformation',\n",
       " 'FileFsVolumeInformation',\n",
       " 'FileIdBothDirectoryInformation',\n",
       " 'FileInformationClasses',\n",
       " 'FileInternalInformation',\n",
       " 'FileNetworkOpenInformation',\n",
       " 'FileStandardInformation',\n",
       " 'FileStreamInformation',\n",
       " 'FixedPointField',\n",
       " 'FlagValue',\n",
       " 'FlagValueIter',\n",
       " 'FlagsField',\n",
       " 'FormatTheme',\n",
       " 'GPRS',\n",
       " 'GRE',\n",
       " 'GRE_PPTP',\n",
       " 'GRErouting',\n",
       " 'GSSAPI_BLOB',\n",
       " 'GapAckField',\n",
       " 'Gen',\n",
       " 'GeneralizedTime',\n",
       " 'Generic',\n",
       " 'GenericPcapWriter',\n",
       " 'GenericRawPcapWriter',\n",
       " 'GetNetflowRecordV9',\n",
       " 'HAO',\n",
       " 'HARDWARE_TYPES',\n",
       " 'HBHOptUnknown',\n",
       " 'HCI_ACL_Hdr',\n",
       " 'HCI_Cmd_Complete_LE_Read_White_List_Size',\n",
       " 'HCI_Cmd_Complete_Read_BD_Addr',\n",
       " 'HCI_Cmd_Connect_Accept_Timeout',\n",
       " 'HCI_Cmd_Disconnect',\n",
       " 'HCI_Cmd_LE_Add_Device_To_White_List',\n",
       " 'HCI_Cmd_LE_Clear_White_List',\n",
       " 'HCI_Cmd_LE_Connection_Update',\n",
       " 'HCI_Cmd_LE_Create_Connection',\n",
       " 'HCI_Cmd_LE_Create_Connection_Cancel',\n",
       " 'HCI_Cmd_LE_Host_Supported',\n",
       " 'HCI_Cmd_LE_Long_Term_Key_Request_Negative_Reply',\n",
       " 'HCI_Cmd_LE_Long_Term_Key_Request_Reply',\n",
       " 'HCI_Cmd_LE_Read_Buffer_Size',\n",
       " 'HCI_Cmd_LE_Read_Remote_Used_Features',\n",
       " 'HCI_Cmd_LE_Read_White_List_Size',\n",
       " 'HCI_Cmd_LE_Remove_Device_From_White_List',\n",
       " 'HCI_Cmd_LE_Set_Advertise_Enable',\n",
       " 'HCI_Cmd_LE_Set_Advertising_Data',\n",
       " 'HCI_Cmd_LE_Set_Advertising_Parameters',\n",
       " 'HCI_Cmd_LE_Set_Random_Address',\n",
       " 'HCI_Cmd_LE_Set_Scan_Enable',\n",
       " 'HCI_Cmd_LE_Set_Scan_Parameters',\n",
       " 'HCI_Cmd_LE_Set_Scan_Response_Data',\n",
       " 'HCI_Cmd_LE_Start_Encryption_Request',\n",
       " 'HCI_Cmd_Read_BD_Addr',\n",
       " 'HCI_Cmd_Reset',\n",
       " 'HCI_Cmd_Set_Event_Filter',\n",
       " 'HCI_Cmd_Set_Event_Mask',\n",
       " 'HCI_Cmd_Write_Extended_Inquiry_Response',\n",
       " 'HCI_Cmd_Write_Local_Name',\n",
       " 'HCI_Command_Hdr',\n",
       " 'HCI_Event_Command_Complete',\n",
       " 'HCI_Event_Command_Status',\n",
       " 'HCI_Event_Disconnection_Complete',\n",
       " 'HCI_Event_Encryption_Change',\n",
       " 'HCI_Event_Hdr',\n",
       " 'HCI_Event_LE_Meta',\n",
       " 'HCI_Event_Number_Of_Completed_Packets',\n",
       " 'HCI_Hdr',\n",
       " 'HCI_LE_Meta_Advertising_Report',\n",
       " 'HCI_LE_Meta_Advertising_Reports',\n",
       " 'HCI_LE_Meta_Connection_Complete',\n",
       " 'HCI_LE_Meta_Connection_Update_Complete',\n",
       " 'HCI_LE_Meta_Long_Term_Key_Request',\n",
       " 'HCI_PHDR_Hdr',\n",
       " 'HDLC',\n",
       " 'HMAC',\n",
       " 'HMAC_MD5',\n",
       " 'HSRP',\n",
       " 'HSRPmd5',\n",
       " 'HTMLTheme',\n",
       " 'HTMLTheme2',\n",
       " 'HTTP_ntlm_negotiate',\n",
       " 'Hash_MD4',\n",
       " 'Hash_MD5',\n",
       " 'HostAddress',\n",
       " 'HostAddresses',\n",
       " 'I',\n",
       " 'IANA_ENTERPRISE_NUMBERS',\n",
       " 'ICMP',\n",
       " 'ICMPEcho_am',\n",
       " 'ICMPTimeStampField',\n",
       " 'ICMPerror',\n",
       " 'ICMPv6DestUnreach',\n",
       " 'ICMPv6EchoReply',\n",
       " 'ICMPv6EchoRequest',\n",
       " 'ICMPv6HAADReply',\n",
       " 'ICMPv6HAADRequest',\n",
       " 'ICMPv6MLDMultAddrRec',\n",
       " 'ICMPv6MLDone',\n",
       " 'ICMPv6MLQuery',\n",
       " 'ICMPv6MLQuery2',\n",
       " 'ICMPv6MLReport',\n",
       " 'ICMPv6MLReport2',\n",
       " 'ICMPv6MPAdv',\n",
       " 'ICMPv6MPSol',\n",
       " 'ICMPv6MRD_Advertisement',\n",
       " 'ICMPv6MRD_Solicitation',\n",
       " 'ICMPv6MRD_Termination',\n",
       " 'ICMPv6NDOptAdvInterval',\n",
       " 'ICMPv6NDOptDNSSL',\n",
       " 'ICMPv6NDOptDstLLAddr',\n",
       " 'ICMPv6NDOptEFA',\n",
       " 'ICMPv6NDOptHAInfo',\n",
       " 'ICMPv6NDOptIPAddr',\n",
       " 'ICMPv6NDOptLLA',\n",
       " 'ICMPv6NDOptMAP',\n",
       " 'ICMPv6NDOptMTU',\n",
       " 'ICMPv6NDOptNewRtrPrefix',\n",
       " 'ICMPv6NDOptPrefixInfo',\n",
       " 'ICMPv6NDOptRDNSS',\n",
       " 'ICMPv6NDOptRedirectedHdr',\n",
       " 'ICMPv6NDOptRouteInfo',\n",
       " 'ICMPv6NDOptShortcutLimit',\n",
       " 'ICMPv6NDOptSrcAddrList',\n",
       " 'ICMPv6NDOptSrcLLAddr',\n",
       " 'ICMPv6NDOptTgtAddrList',\n",
       " 'ICMPv6NDOptUnknown',\n",
       " 'ICMPv6ND_INDAdv',\n",
       " 'ICMPv6ND_INDSol',\n",
       " 'ICMPv6ND_NA',\n",
       " 'ICMPv6ND_NS',\n",
       " 'ICMPv6ND_RA',\n",
       " 'ICMPv6ND_RS',\n",
       " 'ICMPv6ND_Redirect',\n",
       " 'ICMPv6NIQueryIPv4',\n",
       " 'ICMPv6NIQueryIPv6',\n",
       " 'ICMPv6NIQueryNOOP',\n",
       " 'ICMPv6NIQueryName',\n",
       " 'ICMPv6NIReplyIPv4',\n",
       " 'ICMPv6NIReplyIPv6',\n",
       " 'ICMPv6NIReplyNOOP',\n",
       " 'ICMPv6NIReplyName',\n",
       " 'ICMPv6NIReplyRefuse',\n",
       " 'ICMPv6NIReplyUnknown',\n",
       " 'ICMPv6PacketTooBig',\n",
       " 'ICMPv6ParamProblem',\n",
       " 'ICMPv6RPL',\n",
       " 'ICMPv6TimeExceeded',\n",
       " 'ICMPv6Unknown',\n",
       " 'IEEEDoubleField',\n",
       " 'IEEEFloatField',\n",
       " 'IFACES',\n",
       " 'IMMUTABLE_IPV4_OPTIONS',\n",
       " 'IO',\n",
       " 'IP',\n",
       " 'IP6Field',\n",
       " 'IP6FieldLenField',\n",
       " 'IP6ListField',\n",
       " 'IP6PrefixField',\n",
       " 'IPField',\n",
       " 'IPHC_DEFAULT_FL',\n",
       " 'IPHC_DEFAULT_TF',\n",
       " 'IPHC_DEFAULT_VERSION',\n",
       " 'IPID_count',\n",
       " 'IPOption',\n",
       " 'IPOption_Address_Extension',\n",
       " 'IPOption_EOL',\n",
       " 'IPOption_LSRR',\n",
       " 'IPOption_MTU_Probe',\n",
       " 'IPOption_MTU_Reply',\n",
       " 'IPOption_NOP',\n",
       " 'IPOption_RR',\n",
       " 'IPOption_Router_Alert',\n",
       " 'IPOption_SDBM',\n",
       " 'IPOption_SSRR',\n",
       " 'IPOption_Security',\n",
       " 'IPOption_Stream_Id',\n",
       " 'IPOption_Timestamp',\n",
       " 'IPOption_Traceroute',\n",
       " 'IPPROTO_SCTP',\n",
       " 'IPPROTO_VRRP',\n",
       " 'IPPrefixField',\n",
       " 'IPSecIntegrityError',\n",
       " 'IPSession',\n",
       " 'IPTools',\n",
       " 'IPV6_ADDR_6TO4',\n",
       " 'IPV6_ADDR_CAST_MASK',\n",
       " 'IPV6_ADDR_GLOBAL',\n",
       " 'IPV6_ADDR_LINKLOCAL',\n",
       " 'IPV6_ADDR_LOOPBACK',\n",
       " 'IPV6_ADDR_MULTICAST',\n",
       " 'IPV6_ADDR_SCOPE_MASK',\n",
       " 'IPV6_ADDR_SITELOCAL',\n",
       " 'IPV6_ADDR_UNICAST',\n",
       " 'IPV6_ADDR_UNSPECIFIED',\n",
       " 'IP_PROTOS',\n",
       " 'IPerror',\n",
       " 'IPerror6',\n",
       " 'IPv46',\n",
       " 'IPv6',\n",
       " 'IPv6ExtHdrDestOpt',\n",
       " 'IPv6ExtHdrFragment',\n",
       " 'IPv6ExtHdrHopByHop',\n",
       " 'IPv6ExtHdrRouting',\n",
       " 'IPv6ExtHdrSegmentRouting',\n",
       " 'IPv6ExtHdrSegmentRoutingTLV',\n",
       " 'IPv6ExtHdrSegmentRoutingTLVEgressNode',\n",
       " 'IPv6ExtHdrSegmentRoutingTLVHMAC',\n",
       " 'IPv6ExtHdrSegmentRoutingTLVIngressNode',\n",
       " 'IPv6ExtHdrSegmentRoutingTLVPad1',\n",
       " 'IPv6ExtHdrSegmentRoutingTLVPadN',\n",
       " 'IPv6inIP',\n",
       " 'IRT_DEFAULT',\n",
       " 'IRT_MINIMUM',\n",
       " 'ISAKMP',\n",
       " 'ISAKMPAttributeTypes',\n",
       " 'ISAKMPTransformNum',\n",
       " 'ISAKMPTransformSetField',\n",
       " 'ISAKMPTransformTypes',\n",
       " 'ISAKMP_class',\n",
       " 'ISAKMP_exchange_type',\n",
       " 'ISAKMP_payload',\n",
       " 'ISAKMP_payload_Hash',\n",
       " 'ISAKMP_payload_ID',\n",
       " 'ISAKMP_payload_KE',\n",
       " 'ISAKMP_payload_Nonce',\n",
       " 'ISAKMP_payload_Proposal',\n",
       " 'ISAKMP_payload_SA',\n",
       " 'ISAKMP_payload_Transform',\n",
       " 'ISAKMP_payload_VendorID',\n",
       " 'ISAKMP_payload_type',\n",
       " 'IS_64BITS',\n",
       " 'IncrementalValue',\n",
       " 'InheritOriginDNSStrPacket',\n",
       " 'Inject3Sink',\n",
       " 'InjectSink',\n",
       " 'Int32',\n",
       " 'IntAutoTime',\n",
       " 'IntEnum',\n",
       " 'IntEnumField',\n",
       " 'IntEnumKeysField',\n",
       " 'IntField',\n",
       " 'Interceptor',\n",
       " 'InterfaceProvider',\n",
       " 'InvalidTag',\n",
       " 'IrLAPCommand',\n",
       " 'IrLAPHead',\n",
       " 'IrLMP',\n",
       " 'IterSocket',\n",
       " 'Iterable',\n",
       " 'Iterator',\n",
       " 'Jumbo',\n",
       " 'K',\n",
       " 'KBBaseType',\n",
       " 'KERB_VALIDATION_INFO',\n",
       " 'KERB_VALIDATION_INFO_WRAP',\n",
       " 'KRB5_GSS',\n",
       " 'KRB5_GSS_Delete_sec_context_RFC1964',\n",
       " 'KRB5_GSS_GetMIC',\n",
       " 'KRB5_GSS_GetMIC_RFC1964',\n",
       " 'KRB5_GSS_Wrap',\n",
       " 'KRB5_GSS_Wrap_RFC1964',\n",
       " 'KRB5_InitialContextToken_innerContextToken',\n",
       " 'KRB_AP_REP',\n",
       " 'KRB_AP_REQ',\n",
       " 'KRB_AS_REP',\n",
       " 'KRB_AS_REQ',\n",
       " 'KRB_Authenticator',\n",
       " 'KRB_ERROR',\n",
       " 'KRB_InitialContextToken',\n",
       " 'KRB_KDC_REP',\n",
       " 'KRB_KDC_REQ',\n",
       " 'KRB_KDC_REQ_BODY',\n",
       " 'KRB_MSG_TYPES',\n",
       " 'KRB_TGS_REP',\n",
       " 'KRB_TGS_REQ',\n",
       " ...]"
      ]
     },
     "execution_count": 23,
     "metadata": {},
     "output_type": "execute_result"
    }
   ],
   "source": [
    "dir(scapy.all)"
   ]
  },
  {
   "cell_type": "code",
   "execution_count": 31,
   "id": "c3991f0b",
   "metadata": {},
   "outputs": [],
   "source": [
    "request=ARP()"
   ]
  },
  {
   "cell_type": "code",
   "execution_count": 32,
   "id": "0d3311c2",
   "metadata": {},
   "outputs": [
    {
     "name": "stdout",
     "output_type": "stream",
     "text": [
      "ARP who has 0.0.0.0 says 10.143.167.0\n"
     ]
    }
   ],
   "source": [
    "print(request.summary())"
   ]
  },
  {
   "cell_type": "code",
   "execution_count": 33,
   "id": "0ab1c2cf",
   "metadata": {},
   "outputs": [
    {
     "name": "stdout",
     "output_type": "stream",
     "text": [
      "###[ ARP ]### \n",
      "  hwtype    = Ethernet (10Mb)\n",
      "  ptype     = IPv4\n",
      "  hwlen     = None\n",
      "  plen      = None\n",
      "  op        = who-has\n",
      "  hwsrc     = c8:94:02:05:78:85\n",
      "  psrc      = 10.143.167.0\n",
      "  hwdst     = 00:00:00:00:00:00\n",
      "  pdst      = 0.0.0.0\n",
      "\n",
      "None\n"
     ]
    }
   ],
   "source": [
    "print(request.show())"
   ]
  },
  {
   "cell_type": "code",
   "execution_count": 34,
   "id": "1695e5bb",
   "metadata": {
    "collapsed": true
   },
   "outputs": [
    {
     "name": "stdout",
     "output_type": "stream",
     "text": [
      "hwtype     : XShortEnumField                     = 1               ('1')\n",
      "ptype      : XShortEnumField                     = 2048            ('2048')\n",
      "hwlen      : FieldLenField                       = None            ('None')\n",
      "plen       : FieldLenField                       = None            ('None')\n",
      "op         : ShortEnumField                      = 1               ('1')\n",
      "hwsrc      : MultipleTypeField (SourceMACField, StrFixedLenField) = 'c8:94:02:05:78:85' ('None')\n",
      "psrc       : MultipleTypeField (SourceIPField, SourceIP6Field, StrFixedLenField) = '10.143.167.0'  ('None')\n",
      "hwdst      : MultipleTypeField (MACField, StrFixedLenField) = '00:00:00:00:00:00' ('None')\n",
      "pdst       : MultipleTypeField (IPField, IP6Field, StrFixedLenField) = '0.0.0.0'       ('None')\n",
      "None\n"
     ]
    }
   ],
   "source": [
    "print(ls(request))"
   ]
  },
  {
   "cell_type": "code",
   "execution_count": 35,
   "id": "862ede78",
   "metadata": {
    "collapsed": true
   },
   "outputs": [
    {
     "name": "stderr",
     "output_type": "stream",
     "text": [
      "WARNING: Mac address to reach destination not found. Using broadcast.\n",
      "WARNING: Mac address to reach destination not found. Using broadcast.\n"
     ]
    },
    {
     "name": "stdout",
     "output_type": "stream",
     "text": [
      "c8:94:02:05:78:85 > ff:ff:ff:ff:ff:ff (0x9000)\n"
     ]
    },
    {
     "name": "stderr",
     "output_type": "stream",
     "text": [
      "WARNING: more Mac address to reach destination not found. Using broadcast.\n"
     ]
    },
    {
     "name": "stdout",
     "output_type": "stream",
     "text": [
      "###[ Ethernet ]### \n",
      "  dst       = ff:ff:ff:ff:ff:ff\n",
      "  src       = c8:94:02:05:78:85\n",
      "  type      = 0x9000\n",
      "\n",
      "None\n"
     ]
    }
   ],
   "source": [
    "broadcast=Ether()\n",
    "print(broadcast.summary())\n",
    "print(broadcast.show())"
   ]
  },
  {
   "cell_type": "code",
   "execution_count": 36,
   "id": "191c50be",
   "metadata": {
    "collapsed": true
   },
   "outputs": [
    {
     "name": "stdout",
     "output_type": "stream",
     "text": [
      "TCP ftp_data > http S\n",
      "###[ TCP ]### \n",
      "  sport     = ftp_data\n",
      "  dport     = http\n",
      "  seq       = 0\n",
      "  ack       = 0\n",
      "  dataofs   = None\n",
      "  reserved  = 0\n",
      "  flags     = S\n",
      "  window    = 8192\n",
      "  chksum    = None\n",
      "  urgptr    = 0\n",
      "  options   = ''\n",
      "\n",
      "None\n"
     ]
    }
   ],
   "source": [
    "t=TCP()\n",
    "print(t.summary())\n",
    "print(t.show())"
   ]
  },
  {
   "cell_type": "code",
   "execution_count": 37,
   "id": "9953f733",
   "metadata": {
    "collapsed": true
   },
   "outputs": [
    {
     "name": "stdout",
     "output_type": "stream",
     "text": [
      "UDP domain > domain\n",
      "###[ UDP ]### \n",
      "  sport     = domain\n",
      "  dport     = domain\n",
      "  len       = None\n",
      "  chksum    = None\n",
      "\n",
      "None\n"
     ]
    }
   ],
   "source": [
    "t=UDP()\n",
    "print(t.summary())\n",
    "print(t.show())"
   ]
  },
  {
   "cell_type": "code",
   "execution_count": 41,
   "id": "e175369d",
   "metadata": {},
   "outputs": [
    {
     "name": "stdout",
     "output_type": "stream",
     "text": [
      "Begin emission:\n",
      "Finished sending 1 packets.\n",
      "\n",
      "Received 2 packets, got 1 answers, remaining 0 packets\n",
      "10.143.167.0       c8:94:02:05:78:85\n"
     ]
    }
   ],
   "source": [
    "request.pdst='10.143.167.0'\n",
    "broadcast.pdst='ff:ff:ff:ff:ff:ff'\n",
    "req_bcast=broadcast/request\n",
    "clients=srp(req_bcast, timeout=1)[0]\n",
    "for elements in clients:\n",
    "    print(elements[1].psrc+\"       \"+elements[1].hwsrc)"
   ]
  },
  {
   "cell_type": "markdown",
   "id": "fe8c3f58",
   "metadata": {},
   "source": [
    "### Cryptography"
   ]
  },
  {
   "cell_type": "code",
   "execution_count": null,
   "id": "9e19ab33",
   "metadata": {},
   "outputs": [],
   "source": [
    "! pip install cryptography"
   ]
  },
  {
   "cell_type": "code",
   "execution_count": 42,
   "id": "9cc3d435",
   "metadata": {},
   "outputs": [],
   "source": [
    "from cryptography.fernet import Fernet"
   ]
  },
  {
   "cell_type": "code",
   "execution_count": 43,
   "id": "76f351fb",
   "metadata": {},
   "outputs": [
    {
     "data": {
      "text/plain": [
       "b'C5L_7gvthSs2fdTlScSth33IBtY8wCHrROdmHZ67WKU='"
      ]
     },
     "execution_count": 43,
     "metadata": {},
     "output_type": "execute_result"
    }
   ],
   "source": [
    "# KEY - generate_key()\n",
    "key= Fernet.generate_key()\n",
    "key"
   ]
  },
  {
   "cell_type": "code",
   "execution_count": 44,
   "id": "fd12f6c3",
   "metadata": {},
   "outputs": [
    {
     "data": {
      "text/plain": [
       "<cryptography.fernet.Fernet at 0x1a9201ed790>"
      ]
     },
     "execution_count": 44,
     "metadata": {},
     "output_type": "execute_result"
    }
   ],
   "source": [
    "crypto=Fernet(key)\n",
    "crypto"
   ]
  },
  {
   "cell_type": "code",
   "execution_count": 46,
   "id": "e944eb13",
   "metadata": {
    "collapsed": true
   },
   "outputs": [
    {
     "data": {
      "text/plain": [
       "['__class__',\n",
       " '__delattr__',\n",
       " '__dict__',\n",
       " '__dir__',\n",
       " '__doc__',\n",
       " '__eq__',\n",
       " '__format__',\n",
       " '__ge__',\n",
       " '__getattribute__',\n",
       " '__gt__',\n",
       " '__hash__',\n",
       " '__init__',\n",
       " '__init_subclass__',\n",
       " '__le__',\n",
       " '__lt__',\n",
       " '__module__',\n",
       " '__ne__',\n",
       " '__new__',\n",
       " '__reduce__',\n",
       " '__reduce_ex__',\n",
       " '__repr__',\n",
       " '__setattr__',\n",
       " '__sizeof__',\n",
       " '__str__',\n",
       " '__subclasshook__',\n",
       " '__weakref__',\n",
       " '_decrypt_data',\n",
       " '_encrypt_from_parts',\n",
       " '_get_unverified_token_data',\n",
       " '_verify_signature',\n",
       " 'decrypt',\n",
       " 'decrypt_at_time',\n",
       " 'encrypt',\n",
       " 'encrypt_at_time',\n",
       " 'extract_timestamp',\n",
       " 'generate_key']"
      ]
     },
     "execution_count": 46,
     "metadata": {},
     "output_type": "execute_result"
    }
   ],
   "source": [
    "dir(Fernet)"
   ]
  },
  {
   "cell_type": "code",
   "execution_count": 47,
   "id": "599019a9",
   "metadata": {},
   "outputs": [],
   "source": [
    "# 1. Encryption- encrypt(byte_data) - returns cipher text\n",
    "message=b'Happy 50th Birthday Sachin!!!'\n",
    "cipher_text = crypto.encrypt(message)"
   ]
  },
  {
   "cell_type": "code",
   "execution_count": 48,
   "id": "1c61699d",
   "metadata": {},
   "outputs": [
    {
     "name": "stdout",
     "output_type": "stream",
     "text": [
      "b'gAAAAABkQir4F9bNFfvB0AI1FqLqehoEN5-4y45YJkDS77VaFRHna7kMDJOIZ1SrWL4PpVBqikvb0srH71m-gyTFyI_WyMBxnT_cTunkHbWU5Pi0fVYo87A='\n"
     ]
    }
   ],
   "source": [
    "print(cipher_text)"
   ]
  },
  {
   "cell_type": "code",
   "execution_count": 52,
   "id": "9a11ff6e",
   "metadata": {},
   "outputs": [
    {
     "name": "stdout",
     "output_type": "stream",
     "text": [
      "b'Happy 50th Birthday Sachin!!!'\n"
     ]
    }
   ],
   "source": [
    "# 2. DECRYPTION - decrypt(byte_type_cipher_text, ttl=None)\n",
    "# ttl- time to live (lifetime of cipher text)- optional\n",
    "plain_text = crypto.decrypt(cipher_text)\n",
    "print(plain_text)"
   ]
  },
  {
   "cell_type": "code",
   "execution_count": 55,
   "id": "0a1102fb",
   "metadata": {},
   "outputs": [
    {
     "name": "stdout",
     "output_type": "stream",
     "text": [
      "b'gAAAAABkQi2vhhda1LPuC3i3dpUOfbfjg4G8gMhJbEnKzzIgrihGe7H5pQlM10nzWq2z2XB4wUBMPrqX9D5WMCOYRN6fhAmwsEaxXWglw_qFi_5ZhbVy9R4='\n"
     ]
    }
   ],
   "source": [
    "# TTL demo\n",
    "message=b'Happy 50th Birthday Sachin!!!'\n",
    "cipher_text = crypto.encrypt(message)\n",
    "print(cipher_text)"
   ]
  },
  {
   "cell_type": "code",
   "execution_count": 57,
   "id": "edc0d778",
   "metadata": {
    "collapsed": true
   },
   "outputs": [
    {
     "ename": "InvalidToken",
     "evalue": "",
     "output_type": "error",
     "traceback": [
      "\u001b[1;31m---------------------------------------------------------------------------\u001b[0m",
      "\u001b[1;31mInvalidToken\u001b[0m                              Traceback (most recent call last)",
      "Input \u001b[1;32mIn [57]\u001b[0m, in \u001b[0;36m<cell line: 1>\u001b[1;34m()\u001b[0m\n\u001b[1;32m----> 1\u001b[0m plain_text \u001b[38;5;241m=\u001b[39m \u001b[43mcrypto\u001b[49m\u001b[38;5;241;43m.\u001b[39;49m\u001b[43mdecrypt\u001b[49m\u001b[43m(\u001b[49m\u001b[43mcipher_text\u001b[49m\u001b[43m,\u001b[49m\u001b[43m \u001b[49m\u001b[43mttl\u001b[49m\u001b[38;5;241;43m=\u001b[39;49m\u001b[38;5;241;43m10\u001b[39;49m\u001b[43m)\u001b[49m\n\u001b[0;32m      2\u001b[0m \u001b[38;5;28mprint\u001b[39m(plain_text)\n",
      "File \u001b[1;32m~\\Anaconda3\\lib\\site-packages\\cryptography\\fernet.py:80\u001b[0m, in \u001b[0;36mFernet.decrypt\u001b[1;34m(self, token, ttl)\u001b[0m\n\u001b[0;32m     78\u001b[0m \u001b[38;5;28;01melse\u001b[39;00m:\n\u001b[0;32m     79\u001b[0m     time_info \u001b[38;5;241m=\u001b[39m (ttl, \u001b[38;5;28mint\u001b[39m(time\u001b[38;5;241m.\u001b[39mtime()))\n\u001b[1;32m---> 80\u001b[0m \u001b[38;5;28;01mreturn\u001b[39;00m \u001b[38;5;28;43mself\u001b[39;49m\u001b[38;5;241;43m.\u001b[39;49m\u001b[43m_decrypt_data\u001b[49m\u001b[43m(\u001b[49m\u001b[43mdata\u001b[49m\u001b[43m,\u001b[49m\u001b[43m \u001b[49m\u001b[43mtimestamp\u001b[49m\u001b[43m,\u001b[49m\u001b[43m \u001b[49m\u001b[43mtime_info\u001b[49m\u001b[43m)\u001b[49m\n",
      "File \u001b[1;32m~\\Anaconda3\\lib\\site-packages\\cryptography\\fernet.py:132\u001b[0m, in \u001b[0;36mFernet._decrypt_data\u001b[1;34m(self, data, timestamp, time_info)\u001b[0m\n\u001b[0;32m    130\u001b[0m ttl, current_time \u001b[38;5;241m=\u001b[39m time_info\n\u001b[0;32m    131\u001b[0m \u001b[38;5;28;01mif\u001b[39;00m timestamp \u001b[38;5;241m+\u001b[39m ttl \u001b[38;5;241m<\u001b[39m current_time:\n\u001b[1;32m--> 132\u001b[0m     \u001b[38;5;28;01mraise\u001b[39;00m InvalidToken\n\u001b[0;32m    134\u001b[0m \u001b[38;5;28;01mif\u001b[39;00m current_time \u001b[38;5;241m+\u001b[39m _MAX_CLOCK_SKEW \u001b[38;5;241m<\u001b[39m timestamp:\n\u001b[0;32m    135\u001b[0m     \u001b[38;5;28;01mraise\u001b[39;00m InvalidToken\n",
      "\u001b[1;31mInvalidToken\u001b[0m: "
     ]
    }
   ],
   "source": [
    "plain_text = crypto.decrypt(cipher_text, ttl=10)\n",
    "print(plain_text)"
   ]
  },
  {
   "cell_type": "code",
   "execution_count": 60,
   "id": "130c7fca",
   "metadata": {},
   "outputs": [
    {
     "name": "stdout",
     "output_type": "stream",
     "text": [
      "Enter your password to save: deloitte123\n",
      "password stored in DB!  5002d8267e20fbe1b227531f08c7ca011da893d295e171821d103b2a66cb0c2f:081264dcf4cf45cfac8393096135340c\n",
      "Enter correct password again: deloitte123\n",
      "password match!!!\n"
     ]
    }
   ],
   "source": [
    "## Password Matching\n",
    "import uuid\n",
    "import hashlib\n",
    "\n",
    "def hash_password(password):\n",
    "    hexcode=uuid.uuid4().hex\n",
    "    return hashlib.sha256(hexcode.encode() + password.encode()).hexdigest()+':'+hexcode\n",
    "def check_password(hashed_password, user_password):\n",
    "    password, hexcode=hashed_password.split(':')\n",
    "    return password==hashlib.sha256(hexcode.encode() + user_password.encode()).hexdigest()\n",
    "\n",
    "new_pass=input('Enter your password to save: ')\n",
    "hashed_password=hash_password(new_pass)\n",
    "print('password stored in DB! ', hashed_password)\n",
    "\n",
    "check_pass=input('Enter correct password again: ')\n",
    "\n",
    "if check_password(hashed_password, check_pass):\n",
    "    print('password match!!!')\n",
    "else:\n",
    "    print('password not matching...')"
   ]
  },
  {
   "cell_type": "markdown",
   "id": "48052765",
   "metadata": {},
   "source": [
    "### automation testing using Selenium"
   ]
  },
  {
   "cell_type": "code",
   "execution_count": null,
   "id": "34a369d8",
   "metadata": {},
   "outputs": [],
   "source": [
    "! pip install selenium"
   ]
  },
  {
   "cell_type": "code",
   "execution_count": 63,
   "id": "87d0108c",
   "metadata": {},
   "outputs": [],
   "source": [
    "from selenium import webdriver\n",
    "from selenium.webdriver.common.keys import Keys\n",
    "from selenium.webdriver.common.by import By"
   ]
  },
  {
   "cell_type": "code",
   "execution_count": 75,
   "id": "529cb9be",
   "metadata": {},
   "outputs": [],
   "source": [
    "driver=webdriver.Chrome()"
   ]
  },
  {
   "cell_type": "code",
   "execution_count": 76,
   "id": "1f843650",
   "metadata": {},
   "outputs": [],
   "source": [
    "driver.get('https://www.google.co.in')"
   ]
  },
  {
   "cell_type": "code",
   "execution_count": 77,
   "id": "c3e38e65",
   "metadata": {},
   "outputs": [],
   "source": [
    "element=driver.find_element(By.NAME, 'q')"
   ]
  },
  {
   "cell_type": "code",
   "execution_count": 78,
   "id": "885a5a99",
   "metadata": {},
   "outputs": [],
   "source": [
    "element.clear()"
   ]
  },
  {
   "cell_type": "code",
   "execution_count": 79,
   "id": "feedd01a",
   "metadata": {},
   "outputs": [],
   "source": [
    "element.send_keys(\"google bard\")"
   ]
  },
  {
   "cell_type": "code",
   "execution_count": 80,
   "id": "6c977beb",
   "metadata": {},
   "outputs": [],
   "source": [
    "element.send_keys(Keys.RETURN)"
   ]
  },
  {
   "cell_type": "code",
   "execution_count": 81,
   "id": "e765f3d1",
   "metadata": {},
   "outputs": [],
   "source": [
    "assert \"Bard, an experiment by Google\" in driver.page_source"
   ]
  },
  {
   "cell_type": "code",
   "execution_count": 82,
   "id": "6b401e65",
   "metadata": {},
   "outputs": [],
   "source": [
    "driver.close()"
   ]
  },
  {
   "cell_type": "code",
   "execution_count": null,
   "id": "7219ae94",
   "metadata": {},
   "outputs": [],
   "source": []
  },
  {
   "cell_type": "markdown",
   "id": "5addac97",
   "metadata": {},
   "source": [
    "### Advanced File handling"
   ]
  },
  {
   "cell_type": "code",
   "execution_count": 83,
   "id": "47fe289f",
   "metadata": {},
   "outputs": [],
   "source": [
    "# working with CSV files"
   ]
  },
  {
   "cell_type": "code",
   "execution_count": 84,
   "id": "e53c09fa",
   "metadata": {},
   "outputs": [],
   "source": [
    "import csv"
   ]
  },
  {
   "cell_type": "code",
   "execution_count": 88,
   "id": "7c4229fe",
   "metadata": {},
   "outputs": [
    {
     "name": "stdout",
     "output_type": "stream",
     "text": [
      "NAME => MARKS\n",
      "siddharth => 23\n",
      "srikant => 22\n",
      "snigdha => 22\n",
      "sakshi => 28\n",
      "drishti => 27\n",
      "diya => 21\n",
      "simarpreet => 24\n",
      "neha => 23\n",
      "nandini => 26\n",
      "sarvesh => 29\n",
      "rythm => 20\n",
      "akshit => 23\n"
     ]
    }
   ],
   "source": [
    "with open('marks.csv', 'r') as file:\n",
    "    csvreader=csv.reader(file, delimiter=',')\n",
    "    for row in csvreader:\n",
    "        print(f'{row[0]} => {row[1]}')"
   ]
  },
  {
   "cell_type": "code",
   "execution_count": 91,
   "id": "5e180f3c",
   "metadata": {},
   "outputs": [],
   "source": [
    "# writing to csv file\n",
    "with open('marks.csv', 'r') as file:\n",
    "    csvreader=csv.reader(file, delimiter=',')\n",
    "    csvwriter=csv.writer(open('finalmarks.csv', 'w'))\n",
    "    k=0\n",
    "    for row in csvreader:\n",
    "        if k==0:\n",
    "            row.append('PERCENT')\n",
    "            csvwriter.writerow(row)\n",
    "            k+=1\n",
    "        else:\n",
    "            row.append(str(round(int(row[1])*100/30, 2)))\n",
    "            csvwriter.writerow(row)"
   ]
  },
  {
   "cell_type": "code",
   "execution_count": 92,
   "id": "d68de261",
   "metadata": {
    "collapsed": true
   },
   "outputs": [
    {
     "data": {
      "text/html": [
       "<div>\n",
       "<style scoped>\n",
       "    .dataframe tbody tr th:only-of-type {\n",
       "        vertical-align: middle;\n",
       "    }\n",
       "\n",
       "    .dataframe tbody tr th {\n",
       "        vertical-align: top;\n",
       "    }\n",
       "\n",
       "    .dataframe thead th {\n",
       "        text-align: right;\n",
       "    }\n",
       "</style>\n",
       "<table border=\"1\" class=\"dataframe\">\n",
       "  <thead>\n",
       "    <tr style=\"text-align: right;\">\n",
       "      <th></th>\n",
       "      <th>NAME</th>\n",
       "      <th>MARKS</th>\n",
       "      <th>PERCENT</th>\n",
       "    </tr>\n",
       "  </thead>\n",
       "  <tbody>\n",
       "    <tr>\n",
       "      <th>0</th>\n",
       "      <td>siddharth</td>\n",
       "      <td>23</td>\n",
       "      <td>76.67</td>\n",
       "    </tr>\n",
       "    <tr>\n",
       "      <th>1</th>\n",
       "      <td>srikant</td>\n",
       "      <td>22</td>\n",
       "      <td>73.33</td>\n",
       "    </tr>\n",
       "    <tr>\n",
       "      <th>2</th>\n",
       "      <td>snigdha</td>\n",
       "      <td>22</td>\n",
       "      <td>73.33</td>\n",
       "    </tr>\n",
       "    <tr>\n",
       "      <th>3</th>\n",
       "      <td>sakshi</td>\n",
       "      <td>28</td>\n",
       "      <td>93.33</td>\n",
       "    </tr>\n",
       "    <tr>\n",
       "      <th>4</th>\n",
       "      <td>drishti</td>\n",
       "      <td>27</td>\n",
       "      <td>90.00</td>\n",
       "    </tr>\n",
       "    <tr>\n",
       "      <th>5</th>\n",
       "      <td>diya</td>\n",
       "      <td>21</td>\n",
       "      <td>70.00</td>\n",
       "    </tr>\n",
       "    <tr>\n",
       "      <th>6</th>\n",
       "      <td>simarpreet</td>\n",
       "      <td>24</td>\n",
       "      <td>80.00</td>\n",
       "    </tr>\n",
       "    <tr>\n",
       "      <th>7</th>\n",
       "      <td>neha</td>\n",
       "      <td>23</td>\n",
       "      <td>76.67</td>\n",
       "    </tr>\n",
       "    <tr>\n",
       "      <th>8</th>\n",
       "      <td>nandini</td>\n",
       "      <td>26</td>\n",
       "      <td>86.67</td>\n",
       "    </tr>\n",
       "    <tr>\n",
       "      <th>9</th>\n",
       "      <td>sarvesh</td>\n",
       "      <td>29</td>\n",
       "      <td>96.67</td>\n",
       "    </tr>\n",
       "    <tr>\n",
       "      <th>10</th>\n",
       "      <td>rythm</td>\n",
       "      <td>20</td>\n",
       "      <td>66.67</td>\n",
       "    </tr>\n",
       "    <tr>\n",
       "      <th>11</th>\n",
       "      <td>akshit</td>\n",
       "      <td>23</td>\n",
       "      <td>76.67</td>\n",
       "    </tr>\n",
       "  </tbody>\n",
       "</table>\n",
       "</div>"
      ],
      "text/plain": [
       "          NAME  MARKS  PERCENT\n",
       "0    siddharth     23    76.67\n",
       "1      srikant     22    73.33\n",
       "2      snigdha     22    73.33\n",
       "3       sakshi     28    93.33\n",
       "4      drishti     27    90.00\n",
       "5         diya     21    70.00\n",
       "6   simarpreet     24    80.00\n",
       "7         neha     23    76.67\n",
       "8      nandini     26    86.67\n",
       "9      sarvesh     29    96.67\n",
       "10       rythm     20    66.67\n",
       "11      akshit     23    76.67"
      ]
     },
     "execution_count": 92,
     "metadata": {},
     "output_type": "execute_result"
    }
   ],
   "source": [
    "import pandas as pd\n",
    "data=pd.read_csv('finalmarks.csv')\n",
    "data"
   ]
  },
  {
   "cell_type": "code",
   "execution_count": 93,
   "id": "d17132e1",
   "metadata": {},
   "outputs": [],
   "source": [
    "# working with JSON"
   ]
  },
  {
   "cell_type": "code",
   "execution_count": 94,
   "id": "f8a8daa9",
   "metadata": {},
   "outputs": [],
   "source": [
    "import json"
   ]
  },
  {
   "cell_type": "code",
   "execution_count": 95,
   "id": "cfed11c0",
   "metadata": {},
   "outputs": [],
   "source": [
    "file=open('mydata.json')\n",
    "data=file.read()\n",
    "\n",
    "parsed_data = json.loads(data)"
   ]
  },
  {
   "cell_type": "code",
   "execution_count": 96,
   "id": "eb56830f",
   "metadata": {},
   "outputs": [
    {
     "data": {
      "text/plain": [
       "dict"
      ]
     },
     "execution_count": 96,
     "metadata": {},
     "output_type": "execute_result"
    }
   ],
   "source": [
    "type(parsed_data)"
   ]
  },
  {
   "cell_type": "code",
   "execution_count": 97,
   "id": "1e96cedc",
   "metadata": {},
   "outputs": [
    {
     "data": {
      "text/plain": [
       "dict_keys(['Name', 'City', 'Dept'])"
      ]
     },
     "execution_count": 97,
     "metadata": {},
     "output_type": "execute_result"
    }
   ],
   "source": [
    "parsed_data.keys()"
   ]
  },
  {
   "cell_type": "code",
   "execution_count": 98,
   "id": "f9f1c223",
   "metadata": {},
   "outputs": [
    {
     "data": {
      "text/plain": [
       "{'1': 'Prateek', '2': 'Sarfaraz', '3': 'Neha', '4': 'Mahi'}"
      ]
     },
     "execution_count": 98,
     "metadata": {},
     "output_type": "execute_result"
    }
   ],
   "source": [
    "parsed_data['Name']"
   ]
  },
  {
   "cell_type": "code",
   "execution_count": 100,
   "id": "cb73f970",
   "metadata": {},
   "outputs": [
    {
     "data": {
      "text/plain": [
       "'Sarfaraz'"
      ]
     },
     "execution_count": 100,
     "metadata": {},
     "output_type": "execute_result"
    }
   ],
   "source": [
    "parsed_data['Name']['2']"
   ]
  },
  {
   "cell_type": "code",
   "execution_count": 101,
   "id": "ea7469b6",
   "metadata": {},
   "outputs": [
    {
     "data": {
      "text/plain": [
       "{'Name': {'1': 'Prateek', '2': 'Sarfaraz', '3': 'Neha', '4': 'Mahi'},\n",
       " 'City': {'1': 'Delhi', '2': 'Hyderabad', '3': 'Bangalore', '4': 'Mumbai'},\n",
       " 'Dept': {'1': 'DTA', '2': 'Tax', '3': 'Advisory', '4': 'Tax'}}"
      ]
     },
     "execution_count": 101,
     "metadata": {},
     "output_type": "execute_result"
    }
   ],
   "source": [
    "parsed_data"
   ]
  },
  {
   "cell_type": "code",
   "execution_count": 103,
   "id": "58d15491",
   "metadata": {},
   "outputs": [],
   "source": [
    "file2=open('newdata.json', 'w')\n",
    "json.dump(parsed_data, file2, indent=6)"
   ]
  },
  {
   "cell_type": "code",
   "execution_count": 104,
   "id": "06f56a85",
   "metadata": {},
   "outputs": [],
   "source": [
    "file2.close()"
   ]
  },
  {
   "cell_type": "code",
   "execution_count": 105,
   "id": "fb55621e",
   "metadata": {},
   "outputs": [],
   "source": [
    "# XML Parsing"
   ]
  },
  {
   "cell_type": "code",
   "execution_count": 106,
   "id": "ac3e807c",
   "metadata": {},
   "outputs": [],
   "source": [
    "import xml.etree.ElementTree as ET"
   ]
  },
  {
   "cell_type": "code",
   "execution_count": 111,
   "id": "f004a764",
   "metadata": {},
   "outputs": [
    {
     "data": {
      "text/plain": [
       "<Element 'server' at 0x000001A921E28630>"
      ]
     },
     "execution_count": 111,
     "metadata": {},
     "output_type": "execute_result"
    }
   ],
   "source": [
    "tree=ET.parse(\"server.xml\")\n",
    "root=tree.getroot()\n",
    "root"
   ]
  },
  {
   "cell_type": "code",
   "execution_count": 112,
   "id": "695b3b85",
   "metadata": {},
   "outputs": [
    {
     "name": "stdout",
     "output_type": "stream",
     "text": [
      "IP:  10.11.23.254\n",
      "DNS:  8.8.8.8\n",
      "Service Type:  http\n",
      "Service Type:  ftp\n",
      "Port Number:  80\n",
      "Port Number:  21\n"
     ]
    }
   ],
   "source": [
    "for item in root.iter('server'):\n",
    "    for name in item.iter('ip'):\n",
    "        print('IP: ', name.text)\n",
    "    for name in item.iter('dns'):\n",
    "        print('DNS: ', name.text)\n",
    "    for name in item.iter('services1'):\n",
    "        for val in name.iter('type'):\n",
    "            print('Service Type: ', val.text)\n",
    "        for val in name.iter('port'):\n",
    "            print('Port Number: ', val.text)"
   ]
  },
  {
   "cell_type": "code",
   "execution_count": 113,
   "id": "0221091e",
   "metadata": {},
   "outputs": [],
   "source": [
    "# beautifulsoup\n",
    "from bs4 import BeautifulSoup as bs"
   ]
  },
  {
   "cell_type": "code",
   "execution_count": 114,
   "id": "7b96feb0",
   "metadata": {},
   "outputs": [],
   "source": [
    "with open('server.xml') as file:\n",
    "    data=file.read()\n",
    "all_data=bs(data, 'xml')"
   ]
  },
  {
   "cell_type": "code",
   "execution_count": 115,
   "id": "2e03a219",
   "metadata": {},
   "outputs": [
    {
     "name": "stdout",
     "output_type": "stream",
     "text": [
      "[<ip>10.11.23.254</ip>]\n"
     ]
    }
   ],
   "source": [
    "tag_data=all_data.find_all('ip')\n",
    "print(tag_data)"
   ]
  },
  {
   "cell_type": "code",
   "execution_count": 116,
   "id": "c6062ece",
   "metadata": {},
   "outputs": [
    {
     "name": "stdout",
     "output_type": "stream",
     "text": [
      "[<dns>8.8.8.8</dns>]\n"
     ]
    }
   ],
   "source": [
    "tag_data=all_data.find_all('dns')\n",
    "print(tag_data)"
   ]
  },
  {
   "cell_type": "code",
   "execution_count": 117,
   "id": "10d9096f",
   "metadata": {},
   "outputs": [
    {
     "name": "stdout",
     "output_type": "stream",
     "text": [
      "[<type>http</type>, <type>ftp</type>, <type>https</type>]\n"
     ]
    }
   ],
   "source": [
    "tag_data=all_data.find_all('type')\n",
    "print(tag_data)"
   ]
  },
  {
   "cell_type": "code",
   "execution_count": 118,
   "id": "308e6b4e",
   "metadata": {},
   "outputs": [
    {
     "name": "stdout",
     "output_type": "stream",
     "text": [
      "[<port>80</port>, <port>21</port>, <port>443</port>]\n"
     ]
    }
   ],
   "source": [
    "tag_data=all_data.find_all('port')\n",
    "print(tag_data)"
   ]
  },
  {
   "cell_type": "markdown",
   "id": "b54f39c5",
   "metadata": {},
   "source": [
    "### Cloud Storage Access"
   ]
  },
  {
   "cell_type": "code",
   "execution_count": 119,
   "id": "9c5fb0f2",
   "metadata": {},
   "outputs": [],
   "source": [
    "# AWS"
   ]
  },
  {
   "cell_type": "code",
   "execution_count": null,
   "id": "2d128711",
   "metadata": {},
   "outputs": [],
   "source": [
    "! pip install boto3"
   ]
  },
  {
   "cell_type": "code",
   "execution_count": 120,
   "id": "3c095964",
   "metadata": {},
   "outputs": [],
   "source": [
    "import boto3"
   ]
  },
  {
   "cell_type": "code",
   "execution_count": 130,
   "id": "3008a502",
   "metadata": {},
   "outputs": [],
   "source": [
    "AWS_REGION=\"ap-south-1\"\n",
    "ACCESS_KEY=\"YOUR ACCESS KEY HERE\"\n",
    "SECRET_KEY=\"YOUR SECRET KEY HERE\""
   ]
  },
  {
   "cell_type": "code",
   "execution_count": 123,
   "id": "8dee4ecc",
   "metadata": {},
   "outputs": [],
   "source": [
    "client=boto3.client(\"s3\",\n",
    "                   aws_secret_access_key=SECRET_KEY,\n",
    "                   aws_access_key_id=ACCESS_KEY,\n",
    "                   region_name=AWS_REGION)"
   ]
  },
  {
   "cell_type": "code",
   "execution_count": 127,
   "id": "316091f5",
   "metadata": {},
   "outputs": [
    {
     "name": "stdout",
     "output_type": "stream",
     "text": [
      "Listing Account S3 Buckets...\n",
      "-- advisory-cyber-batch\n",
      "-- data-pv-101\n",
      "-- del-cloud-access\n",
      "-- deloitte-dta\n",
      "-- dnyanesh\n",
      "-- mybucket-181911\n",
      "-- mybucket-181912\n",
      "-- studyzone.com\n"
     ]
    }
   ],
   "source": [
    "# List buckets\n",
    "\n",
    "response=client.list_buckets()\n",
    "print('Listing Account S3 Buckets...')\n",
    "for bucket in response['Buckets']:\n",
    "    print(f'-- {bucket[\"Name\"]}')"
   ]
  },
  {
   "cell_type": "code",
   "execution_count": 126,
   "id": "f29ea09d",
   "metadata": {},
   "outputs": [
    {
     "name": "stdout",
     "output_type": "stream",
     "text": [
      "Amazon S3 bucket created!\n"
     ]
    }
   ],
   "source": [
    "# create bucket\n",
    "\n",
    "bucket_name=\"advisory-cyber-batch\"\n",
    "location={\"LocationConstraint\":AWS_REGION}\n",
    "response=client.create_bucket(Bucket=bucket_name,\n",
    "                             CreateBucketConfiguration=location)\n",
    "print(\"Amazon S3 bucket created!\")"
   ]
  },
  {
   "cell_type": "code",
   "execution_count": 128,
   "id": "1132eee6",
   "metadata": {},
   "outputs": [
    {
     "name": "stdout",
     "output_type": "stream",
     "text": [
      "'mydata.json' has been uploaded to 'advisory-cyber-batch'\n",
      "'server.xml' has been uploaded to 'advisory-cyber-batch'\n"
     ]
    }
   ],
   "source": [
    "# upload file to s3\n",
    "def upload_files(file_name, bucket, object_name=None, args=None):\n",
    "    if object_name is None:\n",
    "        object_name=file_name\n",
    "    client.upload_file(file_name, bucket, object_name, ExtraArgs=args)\n",
    "    print(f\"'{file_name}' has been uploaded to '{bucket}'\")\n",
    "    \n",
    "upload_files('mydata.json', 'advisory-cyber-batch')\n",
    "upload_files('server.xml', 'advisory-cyber-batch')"
   ]
  },
  {
   "cell_type": "code",
   "execution_count": 129,
   "id": "a8522d4b",
   "metadata": {},
   "outputs": [
    {
     "name": "stdout",
     "output_type": "stream",
     "text": [
      "File Downloaded!\n"
     ]
    }
   ],
   "source": [
    "# download file from s3\n",
    "s3_resource=boto3.resource(\"s3\",\n",
    "                          aws_secret_access_key=SECRET_KEY,\n",
    "                   aws_access_key_id=ACCESS_KEY,\n",
    "                   region_name=AWS_REGION)\n",
    "\n",
    "s3_object=s3_resource.Object('mybucket-181911', 'panda.jpg')\n",
    "s3_object.download_file('panda.jpg')\n",
    "print('File Downloaded!')"
   ]
  },
  {
   "cell_type": "code",
   "execution_count": null,
   "id": "da90f300",
   "metadata": {},
   "outputs": [],
   "source": []
  }
 ],
 "metadata": {
  "kernelspec": {
   "display_name": "Python 3 (ipykernel)",
   "language": "python",
   "name": "python3"
  },
  "language_info": {
   "codemirror_mode": {
    "name": "ipython",
    "version": 3
   },
   "file_extension": ".py",
   "mimetype": "text/x-python",
   "name": "python",
   "nbconvert_exporter": "python",
   "pygments_lexer": "ipython3",
   "version": "3.9.12"
  }
 },
 "nbformat": 4,
 "nbformat_minor": 5
}
