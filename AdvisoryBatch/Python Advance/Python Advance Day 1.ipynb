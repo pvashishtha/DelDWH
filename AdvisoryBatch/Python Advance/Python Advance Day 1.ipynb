{
 "cells": [
  {
   "cell_type": "markdown",
   "id": "f5af606e",
   "metadata": {},
   "source": [
    "## Python Advance Day 1"
   ]
  },
  {
   "cell_type": "markdown",
   "id": "524c4498",
   "metadata": {},
   "source": [
    "### Object Oriented Programming"
   ]
  },
  {
   "cell_type": "code",
   "execution_count": 1,
   "id": "49c1695d",
   "metadata": {},
   "outputs": [],
   "source": [
    "# Class\n",
    "# Objects\n",
    "# Abstraction\n",
    "# Encapsulation\n",
    "# Polymorphism\n",
    "# Inheritance"
   ]
  },
  {
   "cell_type": "code",
   "execution_count": 7,
   "id": "a5baec5d",
   "metadata": {},
   "outputs": [],
   "source": [
    "# class Syntax\n",
    "class Student:\n",
    "    # data properties\n",
    "    rollno=0\n",
    "    name=''\n",
    "    course=''\n",
    "    sem=0\n",
    "    marks=0\n",
    "    # functional properties\n",
    "    def enroll_student(self):\n",
    "        self.rollno=int(input('Enter Roll No: '))\n",
    "        self.name=input('Enter Full Name: ')\n",
    "        self.course=input('Enter Course Title: ')\n",
    "        self.sem=int(input('Enter Semester: '))\n",
    "    def update_marks(self):\n",
    "        self.marks=int(input('Update Student Marks: '))\n",
    "    def display_info(self):\n",
    "        print(f'Roll: {self.rollno}\\nName: {self.name}')\n",
    "        print(f'Course: {self.course}')\n",
    "        print(f'Semester: {self.sem}\\nMarks: {self.marks}')"
   ]
  },
  {
   "cell_type": "code",
   "execution_count": 8,
   "id": "ba4000ff",
   "metadata": {},
   "outputs": [],
   "source": [
    "# creating objects\n",
    "obj1=Student()"
   ]
  },
  {
   "cell_type": "code",
   "execution_count": 9,
   "id": "9211287d",
   "metadata": {},
   "outputs": [
    {
     "data": {
      "text/plain": [
       "''"
      ]
     },
     "execution_count": 9,
     "metadata": {},
     "output_type": "execute_result"
    }
   ],
   "source": [
    "obj1.name"
   ]
  },
  {
   "cell_type": "code",
   "execution_count": 10,
   "id": "41439b15",
   "metadata": {},
   "outputs": [
    {
     "name": "stdout",
     "output_type": "stream",
     "text": [
      "Enter Roll No: 101\n",
      "Enter Full Name: Prateek\n",
      "Enter Course Title: Python\n",
      "Enter Semester: 2\n"
     ]
    }
   ],
   "source": [
    "obj1.enroll_student()"
   ]
  },
  {
   "cell_type": "code",
   "execution_count": 11,
   "id": "1ce76c4b",
   "metadata": {},
   "outputs": [
    {
     "name": "stdout",
     "output_type": "stream",
     "text": [
      "Enter Roll No: 102\n",
      "Enter Full Name: Diya\n",
      "Enter Course Title: Java\n",
      "Enter Semester: 1\n"
     ]
    }
   ],
   "source": [
    "obj2=Student()\n",
    "obj2.enroll_student()"
   ]
  },
  {
   "cell_type": "code",
   "execution_count": 12,
   "id": "3fb66349",
   "metadata": {},
   "outputs": [
    {
     "name": "stdout",
     "output_type": "stream",
     "text": [
      "Roll: 101\n",
      "Name: Prateek\n",
      "Course: Python\n",
      "Semester: 2\n",
      "Marks: 0\n"
     ]
    }
   ],
   "source": [
    "obj1.display_info()"
   ]
  },
  {
   "cell_type": "code",
   "execution_count": 13,
   "id": "034e0c0d",
   "metadata": {},
   "outputs": [
    {
     "name": "stdout",
     "output_type": "stream",
     "text": [
      "Roll: 102\n",
      "Name: Diya\n",
      "Course: Java\n",
      "Semester: 1\n",
      "Marks: 0\n"
     ]
    }
   ],
   "source": [
    "obj2.display_info()"
   ]
  },
  {
   "cell_type": "code",
   "execution_count": 14,
   "id": "e38eec6b",
   "metadata": {},
   "outputs": [],
   "source": [
    "# class Syntax with default constructor\n",
    "class Student:\n",
    "    # data properties\n",
    "    # functional properties\n",
    "    def __init__(self):   # default constructor- no value args\n",
    "        self.rollno=int(input('Enter Roll No: '))\n",
    "        self.name=input('Enter Full Name: ')\n",
    "        self.course=input('Enter Course Title: ')\n",
    "        self.sem=int(input('Enter Semester: '))\n",
    "    def update_marks(self):\n",
    "        self.marks=int(input('Update Student Marks: '))\n",
    "    def display_info(self):\n",
    "        print(f'Roll: {self.rollno}\\nName: {self.name}')\n",
    "        print(f'Course: {self.course}')\n",
    "        print(f'Semester: {self.sem}\\nMarks: {self.marks}')"
   ]
  },
  {
   "cell_type": "code",
   "execution_count": 15,
   "id": "54ab39be",
   "metadata": {},
   "outputs": [
    {
     "name": "stdout",
     "output_type": "stream",
     "text": [
      "Enter Roll No: 103\n",
      "Enter Full Name: Siddharth\n",
      "Enter Course Title: Python\n",
      "Enter Semester: 1\n"
     ]
    }
   ],
   "source": [
    "obj1=Student()"
   ]
  },
  {
   "cell_type": "code",
   "execution_count": 16,
   "id": "89953eb7",
   "metadata": {},
   "outputs": [],
   "source": [
    "# class Syntax with parametrised constructor\n",
    "class Student:\n",
    "    # data properties\n",
    "    # functional properties\n",
    "    def __init__(self, rollno, name, course, sem, marks):   \n",
    "        # parametrised constructor\n",
    "        self.rollno=rollno\n",
    "        self.name=name\n",
    "        self.course=course\n",
    "        self.sem=sem\n",
    "        self.marks=marks        \n",
    "    def update_marks(self):\n",
    "        self.marks=int(input('Update Student Marks: '))\n",
    "    def display_info(self):\n",
    "        print(f'Roll: {self.rollno}\\nName: {self.name}')\n",
    "        print(f'Course: {self.course}')\n",
    "        print(f'Semester: {self.sem}\\nMarks: {self.marks}')"
   ]
  },
  {
   "cell_type": "code",
   "execution_count": 17,
   "id": "d4161c07",
   "metadata": {},
   "outputs": [],
   "source": [
    "obj1=Student(101, 'Prateek','Python',2,70)"
   ]
  },
  {
   "cell_type": "code",
   "execution_count": 18,
   "id": "d06acf44",
   "metadata": {},
   "outputs": [],
   "source": [
    "obj2=Student(103, 'Srikant','Python', 1, 85)"
   ]
  },
  {
   "cell_type": "code",
   "execution_count": 22,
   "id": "52a7db15",
   "metadata": {},
   "outputs": [
    {
     "name": "stdout",
     "output_type": "stream",
     "text": [
      "Roll: 103\n",
      "Name: Srikant\n",
      "Course: Python\n",
      "Semester: 1\n",
      "Marks: 90\n"
     ]
    }
   ],
   "source": [
    "obj2.display_info()"
   ]
  },
  {
   "cell_type": "code",
   "execution_count": 21,
   "id": "a5070531",
   "metadata": {},
   "outputs": [
    {
     "name": "stdout",
     "output_type": "stream",
     "text": [
      "Update Student Marks: 90\n"
     ]
    }
   ],
   "source": [
    "obj2.update_marks()"
   ]
  },
  {
   "cell_type": "code",
   "execution_count": 31,
   "id": "54f1cabd",
   "metadata": {},
   "outputs": [],
   "source": [
    "# class Syntax with default and parametrised constructor\n",
    "class Student:\n",
    "    # data properties\n",
    "    # functional properties\n",
    "    def __init__(self): # default constructor\n",
    "        self.rollno=0\n",
    "        self.name=''\n",
    "        self.course=''\n",
    "        self.marks=0\n",
    "        self.sem=0\n",
    "    def __init__(self, rollno, name, course, sem, marks):   \n",
    "        # parametrised constructor\n",
    "        self.rollno=rollno\n",
    "        self.name=name\n",
    "        self.course=course\n",
    "        self.sem=sem\n",
    "        self.marks=marks  \n",
    "    def update_marks(self):\n",
    "        self.marks=int(input('Update Student Marks: '))\n",
    "    def display_info(self):\n",
    "        print(f'Roll: {self.rollno}\\nName: {self.name}')\n",
    "        print(f'Course: {self.course}')\n",
    "        print(f'Semester: {self.sem}\\nMarks: {self.marks}')"
   ]
  },
  {
   "cell_type": "code",
   "execution_count": 32,
   "id": "43ed5a17",
   "metadata": {},
   "outputs": [],
   "source": [
    "obj1=Student(109,'Ravi','Java',2,0)"
   ]
  },
  {
   "cell_type": "code",
   "execution_count": 36,
   "id": "ea2a21e0",
   "metadata": {},
   "outputs": [],
   "source": [
    "# class Syntax with default and parametrised constructor\n",
    "class Student:\n",
    "    # data properties\n",
    "    college='Deloitte Tech Academy'\n",
    "    # functional properties\n",
    "    def __init__(self, rollno, name, course, sem, marks):   \n",
    "        # parametrised constructor\n",
    "        self.rollno=rollno\n",
    "        self.name=name\n",
    "        self.course=course\n",
    "        self.sem=sem\n",
    "        self.marks=marks  \n",
    "    def update_marks(self):\n",
    "        self.marks=int(input('Update Student Marks: '))\n",
    "    def display_info(self):\n",
    "        print(f'Roll: {self.rollno}\\nName: {self.name}')\n",
    "        print(f'Course: {self.course}')\n",
    "        print(f'Semester: {self.sem}\\nMarks: {self.marks}')\n",
    "        print(f'Institute: {self.college}')"
   ]
  },
  {
   "cell_type": "code",
   "execution_count": 37,
   "id": "f595b623",
   "metadata": {},
   "outputs": [],
   "source": [
    "obj1=Student(201, 'Prateek', 'Python', 2, 90)\n",
    "obj2=Student(202, 'Saksham', 'Java', 3, 88)"
   ]
  },
  {
   "cell_type": "code",
   "execution_count": 38,
   "id": "9f64105e",
   "metadata": {},
   "outputs": [
    {
     "name": "stdout",
     "output_type": "stream",
     "text": [
      "Roll: 201\n",
      "Name: Prateek\n",
      "Course: Python\n",
      "Semester: 2\n",
      "Marks: 90\n",
      "Institute: Deloitte Tech Academy\n"
     ]
    }
   ],
   "source": [
    "obj1.display_info()"
   ]
  },
  {
   "cell_type": "code",
   "execution_count": 39,
   "id": "188e0dc8",
   "metadata": {},
   "outputs": [
    {
     "name": "stdout",
     "output_type": "stream",
     "text": [
      "Roll: 202\n",
      "Name: Saksham\n",
      "Course: Java\n",
      "Semester: 3\n",
      "Marks: 88\n",
      "Institute: Deloitte Tech Academy\n"
     ]
    }
   ],
   "source": [
    "obj2.display_info()"
   ]
  },
  {
   "cell_type": "code",
   "execution_count": 40,
   "id": "cb59045c",
   "metadata": {},
   "outputs": [],
   "source": [
    "# class Syntax with destructor\n",
    "class Student:\n",
    "    # data properties\n",
    "    college='Deloitte Tech Academy'\n",
    "    # functional properties\n",
    "    def __init__(self, rollno, name, course, sem, marks):   \n",
    "        # parametrised constructor\n",
    "        self.rollno=rollno\n",
    "        self.name=name\n",
    "        self.course=course\n",
    "        self.sem=sem\n",
    "        self.marks=marks  \n",
    "    def update_marks(self):\n",
    "        self.marks=int(input('Update Student Marks: '))\n",
    "    def display_info(self):\n",
    "        print(f'Roll: {self.rollno}\\nName: {self.name}')\n",
    "        print(f'Course: {self.course}')\n",
    "        print(f'Semester: {self.sem}\\nMarks: {self.marks}')\n",
    "        print(f'Institute: {self.college}')\n",
    "    def __del__(self):\n",
    "        print('OBJECT DELETED!')"
   ]
  },
  {
   "cell_type": "code",
   "execution_count": 41,
   "id": "33bc51cb",
   "metadata": {},
   "outputs": [],
   "source": [
    "obj1=Student(101, 'Prateek','Python', 2, 90)"
   ]
  },
  {
   "cell_type": "code",
   "execution_count": 42,
   "id": "6edbd572",
   "metadata": {},
   "outputs": [
    {
     "name": "stdout",
     "output_type": "stream",
     "text": [
      "OBJECT DELETED!\n"
     ]
    }
   ],
   "source": [
    "del obj1"
   ]
  },
  {
   "cell_type": "code",
   "execution_count": 46,
   "id": "6e22ab11",
   "metadata": {},
   "outputs": [
    {
     "data": {
      "text/plain": [
       "101"
      ]
     },
     "execution_count": 46,
     "metadata": {},
     "output_type": "execute_result"
    }
   ],
   "source": [
    "def custid_gen():\n",
    "    for i in range(101,1000):\n",
    "        yield  i\n",
    "custid_no=custid_gen()\n",
    "next(custid_no)"
   ]
  },
  {
   "cell_type": "code",
   "execution_count": 47,
   "id": "a8e6c5a1",
   "metadata": {},
   "outputs": [
    {
     "data": {
      "text/plain": [
       "102"
      ]
     },
     "execution_count": 47,
     "metadata": {},
     "output_type": "execute_result"
    }
   ],
   "source": [
    "next(custid_no)"
   ]
  },
  {
   "cell_type": "code",
   "execution_count": 57,
   "id": "754b3756",
   "metadata": {},
   "outputs": [],
   "source": [
    "# Write an object oriented program code for managing saving \n",
    "# account in a bank - credit, debit, cust_details, etc.\n",
    "class SavingAccount:\n",
    "    def __init__(self, custid_no, name, bal, addr):\n",
    "        self.custid=custid_no\n",
    "        self.name=name\n",
    "        self.bal=bal\n",
    "        self.addr=addr\n",
    "    def credit(self, amount):\n",
    "        self.bal+=amount\n",
    "    def debit(self, amount):\n",
    "        self.bal-=amount\n",
    "    def info(self):\n",
    "        print(f'Name: {self.name}\\nID: {self.custid}')\n",
    "        print(f'Balance: {self.bal}\\nAddress: {self.addr}')\n",
    "    def bal_info(self):\n",
    "        print(f'Balance: {self.bal}')"
   ]
  },
  {
   "cell_type": "code",
   "execution_count": 58,
   "id": "8c9c31f8",
   "metadata": {},
   "outputs": [],
   "source": [
    "c1=SavingAccount(next(custid_no), 'Prateek',1000, 'Delhi')"
   ]
  },
  {
   "cell_type": "code",
   "execution_count": 59,
   "id": "3d8f14d8",
   "metadata": {},
   "outputs": [
    {
     "name": "stdout",
     "output_type": "stream",
     "text": [
      "Name: Prateek\n",
      "ID: 106\n",
      "Balance: 1000\n",
      "Address: Delhi\n"
     ]
    }
   ],
   "source": [
    "c1.info()"
   ]
  },
  {
   "cell_type": "code",
   "execution_count": 60,
   "id": "d874fe70",
   "metadata": {},
   "outputs": [
    {
     "name": "stdout",
     "output_type": "stream",
     "text": [
      "Balance: 23000\n"
     ]
    }
   ],
   "source": [
    "c1.credit(25000)\n",
    "c1.debit(3000)\n",
    "c1.bal_info()"
   ]
  },
  {
   "cell_type": "code",
   "execution_count": 63,
   "id": "7948595f",
   "metadata": {},
   "outputs": [],
   "source": [
    "# Inheritance"
   ]
  },
  {
   "cell_type": "code",
   "execution_count": 64,
   "id": "f4bd2c77",
   "metadata": {},
   "outputs": [],
   "source": [
    "# syntax - Single Inheritance\n",
    "class A:\n",
    "    pass\n",
    "class B(A): # inherit A into B\n",
    "    pass"
   ]
  },
  {
   "cell_type": "code",
   "execution_count": 110,
   "id": "a36f3d03",
   "metadata": {},
   "outputs": [],
   "source": [
    "class A:\n",
    "    def __init__(self, x):\n",
    "        self.x=x\n",
    "    def show_x(self):\n",
    "        print(f'X= {self.x}')"
   ]
  },
  {
   "cell_type": "code",
   "execution_count": 111,
   "id": "609fc681",
   "metadata": {},
   "outputs": [],
   "source": [
    "class B(A):\n",
    "    def __init__(self, x, y):\n",
    "        A.__init__(self, x)\n",
    "        self.y=y\n",
    "    def show_xy(self):\n",
    "        print(f'Sum= {self.x+self.y}')"
   ]
  },
  {
   "cell_type": "code",
   "execution_count": 112,
   "id": "5faebd93",
   "metadata": {},
   "outputs": [],
   "source": [
    "b=B(10,20)"
   ]
  },
  {
   "cell_type": "code",
   "execution_count": 113,
   "id": "a53f21ef",
   "metadata": {},
   "outputs": [
    {
     "name": "stdout",
     "output_type": "stream",
     "text": [
      "Sum= 30\n"
     ]
    }
   ],
   "source": [
    "b.show_xy()"
   ]
  },
  {
   "cell_type": "code",
   "execution_count": 114,
   "id": "fef1c66d",
   "metadata": {},
   "outputs": [],
   "source": [
    "a=A(900)"
   ]
  },
  {
   "cell_type": "code",
   "execution_count": 115,
   "id": "467e8e58",
   "metadata": {},
   "outputs": [
    {
     "name": "stdout",
     "output_type": "stream",
     "text": [
      "X= 900\n"
     ]
    }
   ],
   "source": [
    "a.show_x()"
   ]
  },
  {
   "cell_type": "code",
   "execution_count": 117,
   "id": "2cb7b1fb",
   "metadata": {},
   "outputs": [],
   "source": [
    "# Example Single Inheritance\n",
    "class Vehicle:\n",
    "    def __init__(self, engine_cc, wheels, gears):\n",
    "        self.engine_cc=engine_cc\n",
    "        self.wheels=wheels\n",
    "        self.gears=gears\n",
    "    def move_forward(self):\n",
    "        print('Forward...')\n",
    "    def move_back(self):\n",
    "        print('Backward...')\n",
    "    def show_spec(self):\n",
    "        print(f'Engine CC: {self.engine_cc}')\n",
    "        print(f'Wheels: {self.wheels}\\nGears: {self.gears}')"
   ]
  },
  {
   "cell_type": "code",
   "execution_count": 128,
   "id": "f412399e",
   "metadata": {},
   "outputs": [],
   "source": [
    "class TwoWheeler(Vehicle):\n",
    "    def __init__(self, eng, whl, gr, p_strokes):\n",
    "        Vehicle.__init__(self, eng, whl, gr)\n",
    "        self.p_strokes=p_strokes\n",
    "    def show_spec_tw(self):\n",
    "        self.show_spec()\n",
    "        print(f'Piston Strokes: {self.p_strokes}')\n",
    "    def forward(self):\n",
    "        self.move_forward()\n",
    "    def backward(self):\n",
    "        self.move_back()"
   ]
  },
  {
   "cell_type": "code",
   "execution_count": 129,
   "id": "1bc68f94",
   "metadata": {},
   "outputs": [],
   "source": [
    "scooter=TwoWheeler(120, 2, 4, 2)"
   ]
  },
  {
   "cell_type": "code",
   "execution_count": 130,
   "id": "0f59bf12",
   "metadata": {},
   "outputs": [
    {
     "name": "stdout",
     "output_type": "stream",
     "text": [
      "Engine CC: 120\n",
      "Wheels: 2\n",
      "Gears: 4\n",
      "Piston Strokes: 2\n"
     ]
    }
   ],
   "source": [
    "scooter.show_spec_tw()"
   ]
  },
  {
   "cell_type": "code",
   "execution_count": 136,
   "id": "7d449f23",
   "metadata": {},
   "outputs": [],
   "source": [
    "class Calculator:\n",
    "    def __init__(self, x, y):\n",
    "        self.x=x\n",
    "        self.y=y\n",
    "    def add(self):\n",
    "        return self.x+self.y\n",
    "    def sub(self):\n",
    "        return self.x-self.y\n",
    "    def div(self):\n",
    "        return self.x/self.y\n",
    "    def mul(self):\n",
    "        return self.x*self.y\n",
    "class ScientificCalculator(Calculator):\n",
    "    def __init__(self, x, y):\n",
    "        Calculator.__init__(self, x, y)\n",
    "        self.a=x\n",
    "        self.b=y\n",
    "    def find_exp(self):\n",
    "        return self.a**self.b\n",
    "    def find_log(self):\n",
    "        import math\n",
    "        return math.log(self.a, self.b)\n",
    "    def run_basic(self):\n",
    "        print(self.add())\n",
    "        print(self.sub())\n",
    "        print(self.mul())\n",
    "        print(self.div())"
   ]
  },
  {
   "cell_type": "code",
   "execution_count": 137,
   "id": "502e371b",
   "metadata": {},
   "outputs": [],
   "source": [
    "calc=ScientificCalculator(5,3)"
   ]
  },
  {
   "cell_type": "code",
   "execution_count": 138,
   "id": "9fd49388",
   "metadata": {},
   "outputs": [
    {
     "name": "stdout",
     "output_type": "stream",
     "text": [
      "8\n",
      "2\n",
      "15\n",
      "1.6666666666666667\n"
     ]
    }
   ],
   "source": [
    "calc.run_basic()"
   ]
  },
  {
   "cell_type": "code",
   "execution_count": 139,
   "id": "eb09ee15",
   "metadata": {},
   "outputs": [
    {
     "data": {
      "text/plain": [
       "125"
      ]
     },
     "execution_count": 139,
     "metadata": {},
     "output_type": "execute_result"
    }
   ],
   "source": [
    "calc.find_exp()"
   ]
  },
  {
   "cell_type": "code",
   "execution_count": 140,
   "id": "9820bf0a",
   "metadata": {},
   "outputs": [
    {
     "data": {
      "text/plain": [
       "1.4649735207179269"
      ]
     },
     "execution_count": 140,
     "metadata": {},
     "output_type": "execute_result"
    }
   ],
   "source": [
    "calc.find_log()"
   ]
  },
  {
   "cell_type": "code",
   "execution_count": 141,
   "id": "24af97f5",
   "metadata": {},
   "outputs": [],
   "source": [
    "# Syntax - Multilevel Inheritance\n",
    "class A:\n",
    "    pass\n",
    "class B(A):\n",
    "    pass\n",
    "class C(B):\n",
    "    pass"
   ]
  },
  {
   "cell_type": "code",
   "execution_count": 148,
   "id": "6cfc33d9",
   "metadata": {},
   "outputs": [],
   "source": [
    "# Example Single Inheritance\n",
    "class Vehicle:\n",
    "    def __init__(self, engine_cc, wheels, gears):\n",
    "        self.engine_cc=engine_cc\n",
    "        self.wheels=wheels\n",
    "        self.gears=gears\n",
    "    def move_forward(self):\n",
    "        print('Forward...')\n",
    "    def move_back(self):\n",
    "        print('Backward...')\n",
    "    def show_spec(self):\n",
    "        print(f'Engine CC: {self.engine_cc}')\n",
    "        print(f'Wheels: {self.wheels}\\nGears: {self.gears}')\n",
    "class TwoWheeler(Vehicle):\n",
    "    def __init__(self, eng, whl, gr, p_strokes):\n",
    "        Vehicle.__init__(self, eng, whl, gr)\n",
    "        self.p_strokes=p_strokes\n",
    "    def show_spec_tw(self):\n",
    "        self.show_spec()\n",
    "        print(f'Piston Strokes: {self.p_strokes}')\n",
    "    def forward(self):\n",
    "        self.move_forward()\n",
    "    def backward(self):\n",
    "        self.move_back()\n",
    "class Elec_TwoWheeler(TwoWheeler):\n",
    "    def __init__(self, eng, whl, gr, p_strokes, motor):\n",
    "        super().__init__(eng, whl, gr, p_strokes)\n",
    "        self.motor=motor\n",
    "    def show_spec_tw(self):\n",
    "        TwoWheeler.show_spec_tw(self)\n",
    "        print(f'Motor: {self.motor}')"
   ]
  },
  {
   "cell_type": "code",
   "execution_count": 149,
   "id": "ecb9f9b3",
   "metadata": {},
   "outputs": [],
   "source": [
    "elec_scooter=Elec_TwoWheeler(120, 2, 'CVT', 0, 56.4)"
   ]
  },
  {
   "cell_type": "code",
   "execution_count": 150,
   "id": "7331c018",
   "metadata": {},
   "outputs": [
    {
     "name": "stdout",
     "output_type": "stream",
     "text": [
      "Engine CC: 120\n",
      "Wheels: 2\n",
      "Gears: CVT\n",
      "Piston Strokes: 0\n",
      "Motor: 56.4\n"
     ]
    }
   ],
   "source": [
    "elec_scooter.show_spec_tw() # overriding"
   ]
  },
  {
   "cell_type": "code",
   "execution_count": 158,
   "id": "7869a73f",
   "metadata": {},
   "outputs": [],
   "source": [
    "# Multiple Inheritance\n",
    "class A:\n",
    "    def __init__(self, x):\n",
    "        self.x=x\n",
    "class B:\n",
    "    def __init__(self, y):\n",
    "        self.y=y\n",
    "class C(A,B):\n",
    "    def __init__(self, x, y, z):\n",
    "        A.__init__(self, x)\n",
    "        B.__init__(self, y)\n",
    "        self.z=z\n",
    "    def find_sum(self):\n",
    "        self.z=self.x+self.y\n",
    "        print(f'Sum(Z=X+Y): {self.z}')"
   ]
  },
  {
   "cell_type": "code",
   "execution_count": 159,
   "id": "e32b3525",
   "metadata": {},
   "outputs": [
    {
     "name": "stdout",
     "output_type": "stream",
     "text": [
      "Sum(Z=X+Y): 30\n"
     ]
    }
   ],
   "source": [
    "c=C(10, 20, 0)\n",
    "c.find_sum()"
   ]
  },
  {
   "cell_type": "code",
   "execution_count": 160,
   "id": "6e423075",
   "metadata": {},
   "outputs": [],
   "source": [
    "# Hierarchical inheritance\n",
    "class A:\n",
    "    pass\n",
    "class B(A):\n",
    "    pass\n",
    "class C(A):\n",
    "    pass"
   ]
  },
  {
   "cell_type": "code",
   "execution_count": 163,
   "id": "434252ee",
   "metadata": {},
   "outputs": [],
   "source": [
    "class Number:\n",
    "    def __init__(self, number):\n",
    "        self.number=number\n",
    "    def number_value(self):\n",
    "        return self.number\n",
    "class NumberSQR(Number):\n",
    "    def __init__(self, x):\n",
    "        Number.__init__(self, x)\n",
    "        return None\n",
    "    def findSQR(self):\n",
    "        return self.number_value()**2\n",
    "class NumberCube(Number):\n",
    "    def __init__(self, x):\n",
    "        Number.__init__(self, x)\n",
    "        return None\n",
    "    def findCube(self):\n",
    "        return self.number_value()**3\n",
    "        "
   ]
  },
  {
   "cell_type": "code",
   "execution_count": 164,
   "id": "37a9447b",
   "metadata": {},
   "outputs": [
    {
     "data": {
      "text/plain": [
       "25"
      ]
     },
     "execution_count": 164,
     "metadata": {},
     "output_type": "execute_result"
    }
   ],
   "source": [
    "obj=NumberSQR(5)\n",
    "obj.findSQR()"
   ]
  },
  {
   "cell_type": "code",
   "execution_count": 165,
   "id": "3af4c24e",
   "metadata": {},
   "outputs": [
    {
     "data": {
      "text/plain": [
       "125"
      ]
     },
     "execution_count": 165,
     "metadata": {},
     "output_type": "execute_result"
    }
   ],
   "source": [
    "obj=NumberCube(5)\n",
    "obj.findCube()"
   ]
  },
  {
   "cell_type": "code",
   "execution_count": 196,
   "id": "ca9a4425",
   "metadata": {},
   "outputs": [],
   "source": [
    "# Example;\n",
    "class ColorSet:\n",
    "    def __init__(self, color):\n",
    "        self.color=color\n",
    "        return None\n",
    "    def set_color(self):\n",
    "        from colorama import Fore, Back\n",
    "        if self.color==1:\n",
    "            return Fore.RED+Back.YELLOW\n",
    "        elif self.color==2:\n",
    "            return Fore.RED+Back.BLACK\n",
    "        else:\n",
    "            return Fore.BLUE+Back.GREEN\n",
    "class Style1(ColorSet):\n",
    "    def __init__(self, color):\n",
    "        ColorSet.__init__(self, color)\n",
    "    def print_text(self):\n",
    "        x=self.set_color()\n",
    "        print(x+'Text from Style 1')\n",
    "class Style2(ColorSet):\n",
    "    def __init__(self, color):\n",
    "        ColorSet.__init__(self, color)\n",
    "    def print_text(self):\n",
    "        x=self.set_color()\n",
    "        print(x+'Text from Style 2')\n",
    "class Style3(Style1, Style2):\n",
    "    def __init__(self, color):\n",
    "        Style1.__init__(self, color)\n",
    "        Style2.__init__(self, color+1)\n",
    "        ColorSet.__init__(self, color+2)\n",
    "    def print_text(self):\n",
    "        Style1.print_text(self)\n",
    "        Style2.print_text(self)\n",
    "        x=self.set_color()\n",
    "        print(x+'Text from Style 3')"
   ]
  },
  {
   "cell_type": "code",
   "execution_count": 197,
   "id": "9a3d378d",
   "metadata": {},
   "outputs": [
    {
     "name": "stdout",
     "output_type": "stream",
     "text": [
      "\u001b[31m\u001b[43mText from Style 1\n"
     ]
    }
   ],
   "source": [
    "s1=Style1(1)\n",
    "s1.print_text()"
   ]
  },
  {
   "cell_type": "code",
   "execution_count": 198,
   "id": "4c3e918a",
   "metadata": {},
   "outputs": [
    {
     "name": "stdout",
     "output_type": "stream",
     "text": [
      "\u001b[31m\u001b[40mText from Style 2\n"
     ]
    }
   ],
   "source": [
    "s2=Style2(2)\n",
    "s2.print_text()"
   ]
  },
  {
   "cell_type": "code",
   "execution_count": 200,
   "id": "ea9306be",
   "metadata": {},
   "outputs": [
    {
     "name": "stdout",
     "output_type": "stream",
     "text": [
      "\u001b[34m\u001b[42mText from Style 1\n",
      "\u001b[34m\u001b[42mText from Style 2\n",
      "\u001b[34m\u001b[42mText from Style 3\n"
     ]
    }
   ],
   "source": [
    "s3=Style3(1)\n",
    "s3.print_text() # self.color is overridden"
   ]
  },
  {
   "cell_type": "code",
   "execution_count": 207,
   "id": "6e3014b6",
   "metadata": {},
   "outputs": [],
   "source": [
    "# Overriding\n",
    "class A:\n",
    "    x=100\n",
    "    def print_msg(self):\n",
    "        print('Welcome to Class A')\n",
    "class B(A):\n",
    "    x=200\n",
    "    def print_msg(self): # override the func in parent class\n",
    "        super().print_msg()\n",
    "        print('Welcome to Class B')"
   ]
  },
  {
   "cell_type": "code",
   "execution_count": 208,
   "id": "2e669a24",
   "metadata": {},
   "outputs": [
    {
     "name": "stdout",
     "output_type": "stream",
     "text": [
      "Welcome to Class A\n"
     ]
    }
   ],
   "source": [
    "a=A()\n",
    "a.print_msg()"
   ]
  },
  {
   "cell_type": "code",
   "execution_count": 209,
   "id": "abde1852",
   "metadata": {},
   "outputs": [
    {
     "data": {
      "text/plain": [
       "100"
      ]
     },
     "execution_count": 209,
     "metadata": {},
     "output_type": "execute_result"
    }
   ],
   "source": [
    "a.x"
   ]
  },
  {
   "cell_type": "code",
   "execution_count": 210,
   "id": "8bac3a52",
   "metadata": {},
   "outputs": [
    {
     "name": "stdout",
     "output_type": "stream",
     "text": [
      "Welcome to Class A\n",
      "Welcome to Class B\n"
     ]
    }
   ],
   "source": [
    "b=B()\n",
    "b.print_msg()"
   ]
  },
  {
   "cell_type": "code",
   "execution_count": 211,
   "id": "0106ef29",
   "metadata": {},
   "outputs": [
    {
     "data": {
      "text/plain": [
       "200"
      ]
     },
     "execution_count": 211,
     "metadata": {},
     "output_type": "execute_result"
    }
   ],
   "source": [
    "b.x"
   ]
  },
  {
   "cell_type": "code",
   "execution_count": 212,
   "id": "a5fcfa21",
   "metadata": {},
   "outputs": [],
   "source": [
    "# Access Specifiers"
   ]
  },
  {
   "cell_type": "code",
   "execution_count": 213,
   "id": "7f9f664e",
   "metadata": {},
   "outputs": [],
   "source": [
    "# public, protected, private"
   ]
  },
  {
   "cell_type": "code",
   "execution_count": 215,
   "id": "8a2783d4",
   "metadata": {},
   "outputs": [],
   "source": [
    "# Public\n",
    "# can be accessed outside class, through objects, inherited to any class"
   ]
  },
  {
   "cell_type": "code",
   "execution_count": 231,
   "id": "ed9eab3c",
   "metadata": {},
   "outputs": [],
   "source": [
    "class A:\n",
    "    x=100\n",
    "    def showx(self):\n",
    "        print(f'X={self.x}')\n",
    "class B(A):\n",
    "    y=900\n",
    "    def showxy(self):\n",
    "        self.showx()\n",
    "        print(f'and Y= {self.y}')"
   ]
  },
  {
   "cell_type": "code",
   "execution_count": 232,
   "id": "f7c02c2e",
   "metadata": {},
   "outputs": [
    {
     "data": {
      "text/plain": [
       "100"
      ]
     },
     "execution_count": 232,
     "metadata": {},
     "output_type": "execute_result"
    }
   ],
   "source": [
    "a=A()\n",
    "a.x"
   ]
  },
  {
   "cell_type": "code",
   "execution_count": 233,
   "id": "38e05a1e",
   "metadata": {},
   "outputs": [
    {
     "name": "stdout",
     "output_type": "stream",
     "text": [
      "X=100\n"
     ]
    }
   ],
   "source": [
    "a.showx()"
   ]
  },
  {
   "cell_type": "code",
   "execution_count": 234,
   "id": "00cae4ac",
   "metadata": {},
   "outputs": [
    {
     "data": {
      "text/plain": [
       "100"
      ]
     },
     "execution_count": 234,
     "metadata": {},
     "output_type": "execute_result"
    }
   ],
   "source": [
    "b=B()\n",
    "b.x"
   ]
  },
  {
   "cell_type": "code",
   "execution_count": 235,
   "id": "e3bcdd6a",
   "metadata": {},
   "outputs": [
    {
     "name": "stdout",
     "output_type": "stream",
     "text": [
      "X=100\n"
     ]
    }
   ],
   "source": [
    "b.showx()"
   ]
  },
  {
   "cell_type": "code",
   "execution_count": 236,
   "id": "4b03eaad",
   "metadata": {},
   "outputs": [
    {
     "name": "stdout",
     "output_type": "stream",
     "text": [
      "X=100\n",
      "and Y= 900\n"
     ]
    }
   ],
   "source": [
    "b.showxy()"
   ]
  },
  {
   "cell_type": "code",
   "execution_count": 237,
   "id": "38beb3f9",
   "metadata": {},
   "outputs": [],
   "source": [
    "# protected- works like publick in same module, protected from outside\n",
    "# can not be inherited further outisde module/poackage"
   ]
  },
  {
   "cell_type": "code",
   "execution_count": 238,
   "id": "4867c22c",
   "metadata": {},
   "outputs": [],
   "source": [
    "class A:\n",
    "    _x=100\n",
    "    def _showx(self):\n",
    "        print(f'X={self._x}')\n",
    "class B(A):\n",
    "    y=900\n",
    "    def showxy(self):\n",
    "        self._showx()\n",
    "        print(f'and Y= {self.y}')"
   ]
  },
  {
   "cell_type": "code",
   "execution_count": 240,
   "id": "b2787a85",
   "metadata": {},
   "outputs": [
    {
     "name": "stdout",
     "output_type": "stream",
     "text": [
      "X=100\n"
     ]
    }
   ],
   "source": [
    "a=A()\n",
    "a._showx()"
   ]
  },
  {
   "cell_type": "code",
   "execution_count": 242,
   "id": "6694c478",
   "metadata": {},
   "outputs": [
    {
     "name": "stdout",
     "output_type": "stream",
     "text": [
      "X=100\n"
     ]
    }
   ],
   "source": [
    "b=B()\n",
    "b._showx()"
   ]
  },
  {
   "cell_type": "code",
   "execution_count": 243,
   "id": "d8c945f9",
   "metadata": {},
   "outputs": [
    {
     "name": "stdout",
     "output_type": "stream",
     "text": [
      "X=100\n",
      "and Y= 900\n"
     ]
    }
   ],
   "source": [
    "b.showxy()"
   ]
  },
  {
   "cell_type": "code",
   "execution_count": 244,
   "id": "bd3993aa",
   "metadata": {},
   "outputs": [],
   "source": [
    "# private- not inherited anywhere, not accessed outside class"
   ]
  },
  {
   "cell_type": "code",
   "execution_count": 253,
   "id": "fbfc1ebe",
   "metadata": {},
   "outputs": [],
   "source": [
    "class A:\n",
    "    __x=100\n",
    "    def showx(self):\n",
    "        print(f'X={self.__x}')\n",
    "class B(A):\n",
    "    y=900\n",
    "    def showxy(self):\n",
    "        self.showx()\n",
    "        print(f'and Y= {self.y}')"
   ]
  },
  {
   "cell_type": "code",
   "execution_count": 254,
   "id": "eae70a96",
   "metadata": {},
   "outputs": [
    {
     "name": "stdout",
     "output_type": "stream",
     "text": [
      "X=100\n"
     ]
    }
   ],
   "source": [
    "a=A()\n",
    "a.showx()"
   ]
  },
  {
   "cell_type": "code",
   "execution_count": 255,
   "id": "5f0f7687",
   "metadata": {},
   "outputs": [
    {
     "name": "stdout",
     "output_type": "stream",
     "text": [
      "X=100\n",
      "and Y= 900\n"
     ]
    }
   ],
   "source": [
    "b=B()\n",
    "b.showxy()"
   ]
  },
  {
   "cell_type": "markdown",
   "id": "a380b626",
   "metadata": {},
   "source": [
    "### Special Class Functions / Dundar Functions"
   ]
  },
  {
   "cell_type": "code",
   "execution_count": 289,
   "id": "dc20d26e",
   "metadata": {},
   "outputs": [],
   "source": [
    "class Special:\n",
    "    def __init__(self, x):\n",
    "        self.x=x\n",
    "    def __str__(self):\n",
    "        return \"Object of Class 'Special'\"\n",
    "    def __add__(self, obj):\n",
    "        return self.x + obj.x\n",
    "    def __sub__(self, obj):\n",
    "        return self.x-obj.x\n",
    "    def __mul__(self, obj):\n",
    "        return self.x*obj.x\n",
    "    def __floordiv__(self, obj):\n",
    "        return self.x//obj.x\n",
    "    def __truediv__(self, obj):\n",
    "        return self.x/obj.x\n",
    "    def __lt__(self, obj):\n",
    "        return self.x<obj.x\n",
    "    def __gt__(self, obj):\n",
    "        return self.x>obj.x\n",
    "    def __le__(self, obj):\n",
    "        return self.x<=obj.x\n",
    "    def __ge__(self, obj):\n",
    "        return self.x>=obj.x   \n",
    "    def __eq__(self, obj):\n",
    "        return self.x==obj.x\n",
    "    def __pow__(self, obj):\n",
    "        return self.x**obj.x"
   ]
  },
  {
   "cell_type": "code",
   "execution_count": 290,
   "id": "339b7ba2",
   "metadata": {},
   "outputs": [
    {
     "name": "stdout",
     "output_type": "stream",
     "text": [
      "30\n",
      "-10\n",
      "200\n",
      "0\n",
      "0.5\n",
      "True\n",
      "False\n",
      "True\n",
      "False\n",
      "False\n",
      "100000000000000000000\n"
     ]
    }
   ],
   "source": [
    "s1=Special(10)\n",
    "s2=Special(20)\n",
    "print(s1+s2)\n",
    "print(s1-s2)\n",
    "print(s1*s2)\n",
    "print(s1//s2)\n",
    "print(s1/s2)\n",
    "print(s1<s2)\n",
    "print(s1>s2)\n",
    "print(s1<=s2)\n",
    "print(s1>=s2)\n",
    "print(s1==s2)\n",
    "print(pow(s1,s2))"
   ]
  },
  {
   "cell_type": "code",
   "execution_count": 265,
   "id": "a29f6e62",
   "metadata": {},
   "outputs": [
    {
     "data": {
      "text/plain": [
       "__main__.Special"
      ]
     },
     "execution_count": 265,
     "metadata": {},
     "output_type": "execute_result"
    }
   ],
   "source": [
    "type(s1)"
   ]
  },
  {
   "cell_type": "code",
   "execution_count": null,
   "id": "710d6cdc",
   "metadata": {},
   "outputs": [],
   "source": [
    "'''\n",
    "__abs__\n",
    "__add__\n",
    "__aenter__\n",
    "__aexit__\n",
    "__aiter__\n",
    "__and__\n",
    "__anext__\n",
    "__await__\n",
    "__bool__\n",
    "__bytes__\n",
    "__call__\n",
    "__class__\n",
    "__cmp__\n",
    "__complex__\n",
    "__contains__\n",
    "__delattr__\n",
    "__delete__\n",
    "__delitem__\n",
    "__delslice__\n",
    "__dir__\n",
    "__div__\n",
    "__divmod__\n",
    "__enter__\n",
    "__eq__\n",
    "__exit__\n",
    "__float__\n",
    "__floordiv__\n",
    "__format__\n",
    "__fspath__\n",
    "__ge__\n",
    "__get__\n",
    "__getattribute__\n",
    "__getitem__\n",
    "__getnewargs__\n",
    "__getslice__\n",
    "__gt__\n",
    "__hash__\n",
    "__iadd__\n",
    "__iand__\n",
    "__import__\n",
    "__imul__\n",
    "__index__\n",
    "__init__\n",
    "__init_subclass__\n",
    "__instancecheck__\n",
    "__int__\n",
    "__invert__\n",
    "__ior__\n",
    "__isub__\n",
    "__iter__\n",
    "__ixor__\n",
    "__le__\n",
    "__len__\n",
    "__lshift__\n",
    "__lt__\n",
    "__mod__\n",
    "__mul__\n",
    "__ne__\n",
    "__neg__\n",
    "__new__\n",
    "__next__\n",
    "__nonzero__\n",
    "__or__\n",
    "__pos__\n",
    "__pow__\n",
    "__prepare__\n",
    "__radd__\n",
    "__rand__\n",
    "__rdiv__\n",
    "__rdivmod__\n",
    "__reduce__\n",
    "__reduce_ex__\n",
    "__repr__\n",
    "__reversed__\n",
    "__rfloordiv__\n",
    "__rlshift__\n",
    "__rmod__\n",
    "__rmul__\n",
    "__ror__\n",
    "__round__\n",
    "__rpow__\n",
    "__rrshift__\n",
    "__rshift__\n",
    "__rsub__\n",
    "__rtruediv__\n",
    "__rxor__\n",
    "__set__\n",
    "__setattr__\n",
    "__setitem__\n",
    "__setslice__\n",
    "__sizeof__\n",
    "__str__\n",
    "__sub__\n",
    "__subclasscheck__\n",
    "__subclasses__\n",
    "__truediv__\n",
    "__xor__\n",
    "'''"
   ]
  },
  {
   "cell_type": "code",
   "execution_count": 293,
   "id": "ce7f0149",
   "metadata": {},
   "outputs": [
    {
     "name": "stdout",
     "output_type": "stream",
     "text": [
      "True\n"
     ]
    }
   ],
   "source": [
    "#  isinstance(object, class)\n",
    "print(isinstance(s1, Special))"
   ]
  },
  {
   "cell_type": "code",
   "execution_count": 294,
   "id": "12b4f6c8",
   "metadata": {},
   "outputs": [
    {
     "name": "stdout",
     "output_type": "stream",
     "text": [
      "False\n"
     ]
    }
   ],
   "source": [
    "print(isinstance(s3, Special))"
   ]
  },
  {
   "cell_type": "code",
   "execution_count": 295,
   "id": "564188ca",
   "metadata": {},
   "outputs": [],
   "source": [
    "class A:\n",
    "    pass\n",
    "class B(A):\n",
    "    pass"
   ]
  },
  {
   "cell_type": "code",
   "execution_count": 296,
   "id": "114978ca",
   "metadata": {},
   "outputs": [],
   "source": [
    "a=A()\n",
    "b=B()"
   ]
  },
  {
   "cell_type": "code",
   "execution_count": 299,
   "id": "57a0d40b",
   "metadata": {},
   "outputs": [
    {
     "name": "stdout",
     "output_type": "stream",
     "text": [
      "True\n"
     ]
    }
   ],
   "source": [
    "print(isinstance(b, A))"
   ]
  },
  {
   "cell_type": "code",
   "execution_count": 300,
   "id": "4d980a28",
   "metadata": {},
   "outputs": [
    {
     "name": "stdout",
     "output_type": "stream",
     "text": [
      "False\n"
     ]
    }
   ],
   "source": [
    "print(isinstance(a, B))"
   ]
  },
  {
   "cell_type": "code",
   "execution_count": 301,
   "id": "7f0d36f1",
   "metadata": {},
   "outputs": [],
   "source": [
    "def myfun(x,y):\n",
    "    '''find sum of x and y'''\n",
    "    return x+y"
   ]
  },
  {
   "cell_type": "code",
   "execution_count": 302,
   "id": "6ba183d0",
   "metadata": {},
   "outputs": [
    {
     "name": "stdout",
     "output_type": "stream",
     "text": [
      "find sum of x and y\n"
     ]
    }
   ],
   "source": [
    "print(myfun.__doc__)"
   ]
  },
  {
   "cell_type": "code",
   "execution_count": 303,
   "id": "54e55da0",
   "metadata": {},
   "outputs": [
    {
     "name": "stdout",
     "output_type": "stream",
     "text": [
      "Return the base 10 logarithm of x.\n"
     ]
    }
   ],
   "source": [
    "import math\n",
    "print(math.log10.__doc__)"
   ]
  },
  {
   "cell_type": "code",
   "execution_count": null,
   "id": "8ded393f",
   "metadata": {},
   "outputs": [],
   "source": []
  }
 ],
 "metadata": {
  "kernelspec": {
   "display_name": "Python 3 (ipykernel)",
   "language": "python",
   "name": "python3"
  },
  "language_info": {
   "codemirror_mode": {
    "name": "ipython",
    "version": 3
   },
   "file_extension": ".py",
   "mimetype": "text/x-python",
   "name": "python",
   "nbconvert_exporter": "python",
   "pygments_lexer": "ipython3",
   "version": "3.9.12"
  }
 },
 "nbformat": 4,
 "nbformat_minor": 5
}
