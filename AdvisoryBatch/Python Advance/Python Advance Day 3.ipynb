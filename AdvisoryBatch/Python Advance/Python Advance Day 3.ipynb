{
 "cells": [
  {
   "cell_type": "markdown",
   "id": "8bf9e3e6",
   "metadata": {},
   "source": [
    "## Python Advance Day 3"
   ]
  },
  {
   "cell_type": "code",
   "execution_count": 1,
   "id": "1e313cf6",
   "metadata": {},
   "outputs": [],
   "source": [
    "# implementing module"
   ]
  },
  {
   "cell_type": "code",
   "execution_count": 2,
   "id": "c9fcd357",
   "metadata": {},
   "outputs": [],
   "source": [
    "import basicmath"
   ]
  },
  {
   "cell_type": "code",
   "execution_count": 4,
   "id": "854cfe08",
   "metadata": {},
   "outputs": [
    {
     "data": {
      "text/plain": [
       "65"
      ]
     },
     "execution_count": 4,
     "metadata": {},
     "output_type": "execute_result"
    }
   ],
   "source": [
    "basicmath.add(20,45)"
   ]
  },
  {
   "cell_type": "code",
   "execution_count": 5,
   "id": "419886d4",
   "metadata": {},
   "outputs": [],
   "source": [
    "import basicmath as bm"
   ]
  },
  {
   "cell_type": "code",
   "execution_count": 6,
   "id": "ffe6bd26",
   "metadata": {},
   "outputs": [
    {
     "data": {
      "text/plain": [
       "'This module contains basic mathematical functionalities'"
      ]
     },
     "execution_count": 6,
     "metadata": {},
     "output_type": "execute_result"
    }
   ],
   "source": [
    "bm.__doc__"
   ]
  },
  {
   "cell_type": "code",
   "execution_count": 7,
   "id": "4d75d0d5",
   "metadata": {},
   "outputs": [
    {
     "data": {
      "text/plain": [
       "'Add two numbers: add(x,y)'"
      ]
     },
     "execution_count": 7,
     "metadata": {},
     "output_type": "execute_result"
    }
   ],
   "source": [
    "bm.add.__doc__"
   ]
  },
  {
   "cell_type": "code",
   "execution_count": 8,
   "id": "fbbb896b",
   "metadata": {},
   "outputs": [
    {
     "data": {
      "text/plain": [
       "39304"
      ]
     },
     "execution_count": 8,
     "metadata": {},
     "output_type": "execute_result"
    }
   ],
   "source": [
    "bm.exp(34,3)"
   ]
  },
  {
   "cell_type": "code",
   "execution_count": 10,
   "id": "7efb5984",
   "metadata": {},
   "outputs": [],
   "source": [
    "import advmath as am"
   ]
  },
  {
   "cell_type": "code",
   "execution_count": 11,
   "id": "5d0b9779",
   "metadata": {},
   "outputs": [
    {
     "data": {
      "text/plain": [
       "'find sine of x'"
      ]
     },
     "execution_count": 11,
     "metadata": {},
     "output_type": "execute_result"
    }
   ],
   "source": [
    "am.sine.__doc__"
   ]
  },
  {
   "cell_type": "code",
   "execution_count": 12,
   "id": "cac87f4d",
   "metadata": {},
   "outputs": [
    {
     "data": {
      "text/plain": [
       "1.6532125137753437"
      ]
     },
     "execution_count": 12,
     "metadata": {},
     "output_type": "execute_result"
    }
   ],
   "source": [
    "am.logT(45)"
   ]
  },
  {
   "cell_type": "code",
   "execution_count": 1,
   "id": "be11cc83",
   "metadata": {},
   "outputs": [
    {
     "ename": "ModuleNotFoundError",
     "evalue": "No module named 'basicmath'",
     "output_type": "error",
     "traceback": [
      "\u001b[1;31m---------------------------------------------------------------------------\u001b[0m",
      "\u001b[1;31mModuleNotFoundError\u001b[0m                       Traceback (most recent call last)",
      "Input \u001b[1;32mIn [1]\u001b[0m, in \u001b[0;36m<cell line: 1>\u001b[1;34m()\u001b[0m\n\u001b[1;32m----> 1\u001b[0m \u001b[38;5;28;01mimport\u001b[39;00m \u001b[38;5;21;01mbasicmath\u001b[39;00m\n",
      "\u001b[1;31mModuleNotFoundError\u001b[0m: No module named 'basicmath'"
     ]
    }
   ],
   "source": [
    "import basicmath"
   ]
  },
  {
   "cell_type": "code",
   "execution_count": 2,
   "id": "95279743",
   "metadata": {},
   "outputs": [],
   "source": [
    "import mymath.basicmath"
   ]
  },
  {
   "cell_type": "code",
   "execution_count": 3,
   "id": "3e2642de",
   "metadata": {},
   "outputs": [],
   "source": [
    "import mymath.advmath as am"
   ]
  },
  {
   "cell_type": "code",
   "execution_count": 4,
   "id": "df16cd1d",
   "metadata": {},
   "outputs": [
    {
     "data": {
      "text/plain": [
       "1.6434526764861874"
      ]
     },
     "execution_count": 4,
     "metadata": {},
     "output_type": "execute_result"
    }
   ],
   "source": [
    "am.logT(44)"
   ]
  },
  {
   "cell_type": "code",
   "execution_count": 5,
   "id": "4bbc4990",
   "metadata": {},
   "outputs": [],
   "source": [
    "from mymath import advmath"
   ]
  },
  {
   "cell_type": "code",
   "execution_count": 1,
   "id": "d749ada3",
   "metadata": {},
   "outputs": [],
   "source": [
    "from mymath.easymath import basicmath"
   ]
  },
  {
   "cell_type": "code",
   "execution_count": 3,
   "id": "55ac061e",
   "metadata": {},
   "outputs": [],
   "source": [
    "# Create package \"myutil\" that has module \"utilityfun\"\n",
    "# In your module, write individual functions to:\n",
    "# calculate factorial\n",
    "# check prime number or not"
   ]
  },
  {
   "cell_type": "code",
   "execution_count": 4,
   "id": "a0ae76da",
   "metadata": {},
   "outputs": [],
   "source": [
    "from myutil.utilityfun import *"
   ]
  },
  {
   "cell_type": "code",
   "execution_count": 5,
   "id": "c5882cc4",
   "metadata": {},
   "outputs": [
    {
     "data": {
      "text/plain": [
       "5040"
      ]
     },
     "execution_count": 5,
     "metadata": {},
     "output_type": "execute_result"
    }
   ],
   "source": [
    "factorial(7)"
   ]
  },
  {
   "cell_type": "code",
   "execution_count": 6,
   "id": "1e0284ae",
   "metadata": {},
   "outputs": [
    {
     "data": {
      "text/plain": [
       "True"
      ]
     },
     "execution_count": 6,
     "metadata": {},
     "output_type": "execute_result"
    }
   ],
   "source": [
    "check_prime(13)"
   ]
  },
  {
   "cell_type": "code",
   "execution_count": null,
   "id": "50d75516",
   "metadata": {},
   "outputs": [],
   "source": []
  },
  {
   "cell_type": "markdown",
   "id": "28302450",
   "metadata": {},
   "source": [
    "## NUMPY Module"
   ]
  },
  {
   "cell_type": "code",
   "execution_count": null,
   "id": "dd5c652a",
   "metadata": {},
   "outputs": [],
   "source": [
    "! pip install numpy"
   ]
  },
  {
   "cell_type": "code",
   "execution_count": 7,
   "id": "66c84237",
   "metadata": {},
   "outputs": [],
   "source": [
    "import numpy as np"
   ]
  },
  {
   "cell_type": "code",
   "execution_count": 8,
   "id": "b2c0e96d",
   "metadata": {
    "collapsed": true
   },
   "outputs": [
    {
     "name": "stdout",
     "output_type": "stream",
     "text": [
      "['ALLOW_THREADS', 'AxisError', 'BUFSIZE', 'Bytes0', 'CLIP', 'ComplexWarning', 'DataSource', 'Datetime64', 'ERR_CALL', 'ERR_DEFAULT', 'ERR_IGNORE', 'ERR_LOG', 'ERR_PRINT', 'ERR_RAISE', 'ERR_WARN', 'FLOATING_POINT_SUPPORT', 'FPE_DIVIDEBYZERO', 'FPE_INVALID', 'FPE_OVERFLOW', 'FPE_UNDERFLOW', 'False_', 'Inf', 'Infinity', 'MAXDIMS', 'MAY_SHARE_BOUNDS', 'MAY_SHARE_EXACT', 'MachAr', 'ModuleDeprecationWarning', 'NAN', 'NINF', 'NZERO', 'NaN', 'PINF', 'PZERO', 'RAISE', 'RankWarning', 'SHIFT_DIVIDEBYZERO', 'SHIFT_INVALID', 'SHIFT_OVERFLOW', 'SHIFT_UNDERFLOW', 'ScalarType', 'Str0', 'Tester', 'TooHardError', 'True_', 'UFUNC_BUFSIZE_DEFAULT', 'UFUNC_PYVALS_NAME', 'Uint64', 'VisibleDeprecationWarning', 'WRAP', '_NoValue', '_UFUNC_API', '__NUMPY_SETUP__', '__all__', '__builtins__', '__cached__', '__config__', '__deprecated_attrs__', '__dir__', '__doc__', '__expired_functions__', '__file__', '__getattr__', '__git_version__', '__loader__', '__mkl_version__', '__name__', '__package__', '__path__', '__spec__', '__version__', '_add_newdoc_ufunc', '_distributor_init', '_financial_names', '_globals', '_mat', '_pytesttester', '_version', 'abs', 'absolute', 'add', 'add_docstring', 'add_newdoc', 'add_newdoc_ufunc', 'alen', 'all', 'allclose', 'alltrue', 'amax', 'amin', 'angle', 'any', 'append', 'apply_along_axis', 'apply_over_axes', 'arange', 'arccos', 'arccosh', 'arcsin', 'arcsinh', 'arctan', 'arctan2', 'arctanh', 'argmax', 'argmin', 'argpartition', 'argsort', 'argwhere', 'around', 'array', 'array2string', 'array_equal', 'array_equiv', 'array_repr', 'array_split', 'array_str', 'asanyarray', 'asarray', 'asarray_chkfinite', 'ascontiguousarray', 'asfarray', 'asfortranarray', 'asmatrix', 'asscalar', 'atleast_1d', 'atleast_2d', 'atleast_3d', 'average', 'bartlett', 'base_repr', 'binary_repr', 'bincount', 'bitwise_and', 'bitwise_not', 'bitwise_or', 'bitwise_xor', 'blackman', 'block', 'bmat', 'bool8', 'bool_', 'broadcast', 'broadcast_arrays', 'broadcast_shapes', 'broadcast_to', 'busday_count', 'busday_offset', 'busdaycalendar', 'byte', 'byte_bounds', 'bytes0', 'bytes_', 'c_', 'can_cast', 'cast', 'cbrt', 'cdouble', 'ceil', 'cfloat', 'char', 'character', 'chararray', 'choose', 'clip', 'clongdouble', 'clongfloat', 'column_stack', 'common_type', 'compare_chararrays', 'compat', 'complex128', 'complex64', 'complex_', 'complexfloating', 'compress', 'concatenate', 'conj', 'conjugate', 'convolve', 'copy', 'copysign', 'copyto', 'core', 'corrcoef', 'correlate', 'cos', 'cosh', 'count_nonzero', 'cov', 'cross', 'csingle', 'ctypeslib', 'cumprod', 'cumproduct', 'cumsum', 'datetime64', 'datetime_as_string', 'datetime_data', 'deg2rad', 'degrees', 'delete', 'deprecate', 'deprecate_with_doc', 'diag', 'diag_indices', 'diag_indices_from', 'diagflat', 'diagonal', 'diff', 'digitize', 'disp', 'divide', 'divmod', 'dot', 'double', 'dsplit', 'dstack', 'dtype', 'e', 'ediff1d', 'einsum', 'einsum_path', 'emath', 'empty', 'empty_like', 'equal', 'errstate', 'euler_gamma', 'exp', 'exp2', 'expand_dims', 'expm1', 'extract', 'eye', 'fabs', 'fastCopyAndTranspose', 'fft', 'fill_diagonal', 'find_common_type', 'finfo', 'fix', 'flatiter', 'flatnonzero', 'flexible', 'flip', 'fliplr', 'flipud', 'float16', 'float32', 'float64', 'float_', 'float_power', 'floating', 'floor', 'floor_divide', 'fmax', 'fmin', 'fmod', 'format_float_positional', 'format_float_scientific', 'format_parser', 'frexp', 'frombuffer', 'fromfile', 'fromfunction', 'fromiter', 'frompyfunc', 'fromregex', 'fromstring', 'full', 'full_like', 'gcd', 'generic', 'genfromtxt', 'geomspace', 'get_array_wrap', 'get_include', 'get_printoptions', 'getbufsize', 'geterr', 'geterrcall', 'geterrobj', 'gradient', 'greater', 'greater_equal', 'half', 'hamming', 'hanning', 'heaviside', 'histogram', 'histogram2d', 'histogram_bin_edges', 'histogramdd', 'hsplit', 'hstack', 'hypot', 'i0', 'identity', 'iinfo', 'imag', 'in1d', 'index_exp', 'indices', 'inexact', 'inf', 'info', 'infty', 'inner', 'insert', 'int0', 'int16', 'int32', 'int64', 'int8', 'int_', 'intc', 'integer', 'interp', 'intersect1d', 'intp', 'invert', 'is_busday', 'isclose', 'iscomplex', 'iscomplexobj', 'isfinite', 'isfortran', 'isin', 'isinf', 'isnan', 'isnat', 'isneginf', 'isposinf', 'isreal', 'isrealobj', 'isscalar', 'issctype', 'issubclass_', 'issubdtype', 'issubsctype', 'iterable', 'ix_', 'kaiser', 'kron', 'lcm', 'ldexp', 'left_shift', 'less', 'less_equal', 'lexsort', 'lib', 'linalg', 'linspace', 'little_endian', 'load', 'loads', 'loadtxt', 'log', 'log10', 'log1p', 'log2', 'logaddexp', 'logaddexp2', 'logical_and', 'logical_not', 'logical_or', 'logical_xor', 'logspace', 'longcomplex', 'longdouble', 'longfloat', 'longlong', 'lookfor', 'ma', 'mafromtxt', 'mask_indices', 'mat', 'math', 'matmul', 'matrix', 'matrixlib', 'max', 'maximum', 'maximum_sctype', 'may_share_memory', 'mean', 'median', 'memmap', 'meshgrid', 'mgrid', 'min', 'min_scalar_type', 'minimum', 'mintypecode', 'mkl', 'mod', 'modf', 'moveaxis', 'msort', 'multiply', 'nan', 'nan_to_num', 'nanargmax', 'nanargmin', 'nancumprod', 'nancumsum', 'nanmax', 'nanmean', 'nanmedian', 'nanmin', 'nanpercentile', 'nanprod', 'nanquantile', 'nanstd', 'nansum', 'nanvar', 'nbytes', 'ndarray', 'ndenumerate', 'ndfromtxt', 'ndim', 'ndindex', 'nditer', 'negative', 'nested_iters', 'newaxis', 'nextafter', 'nonzero', 'not_equal', 'numarray', 'number', 'obj2sctype', 'object0', 'object_', 'ogrid', 'oldnumeric', 'ones', 'ones_like', 'os', 'outer', 'packbits', 'pad', 'partition', 'percentile', 'pi', 'piecewise', 'place', 'poly', 'poly1d', 'polyadd', 'polyder', 'polydiv', 'polyfit', 'polyint', 'polymul', 'polynomial', 'polysub', 'polyval', 'positive', 'power', 'printoptions', 'prod', 'product', 'promote_types', 'ptp', 'put', 'put_along_axis', 'putmask', 'quantile', 'r_', 'rad2deg', 'radians', 'random', 'ravel', 'ravel_multi_index', 'real', 'real_if_close', 'rec', 'recarray', 'recfromcsv', 'recfromtxt', 'reciprocal', 'record', 'remainder', 'repeat', 'require', 'reshape', 'resize', 'result_type', 'right_shift', 'rint', 'roll', 'rollaxis', 'roots', 'rot90', 'round', 'round_', 'row_stack', 's_', 'safe_eval', 'save', 'savetxt', 'savez', 'savez_compressed', 'sctype2char', 'sctypeDict', 'sctypes', 'searchsorted', 'select', 'set_numeric_ops', 'set_printoptions', 'set_string_function', 'setbufsize', 'setdiff1d', 'seterr', 'seterrcall', 'seterrobj', 'setxor1d', 'shape', 'shares_memory', 'short', 'show_config', 'sign', 'signbit', 'signedinteger', 'sin', 'sinc', 'single', 'singlecomplex', 'sinh', 'size', 'sometrue', 'sort', 'sort_complex', 'source', 'spacing', 'split', 'sqrt', 'square', 'squeeze', 'stack', 'std', 'str0', 'str_', 'string_', 'subtract', 'sum', 'swapaxes', 'sys', 'take', 'take_along_axis', 'tan', 'tanh', 'tensordot', 'test', 'testing', 'tile', 'timedelta64', 'trace', 'tracemalloc_domain', 'transpose', 'trapz', 'tri', 'tril', 'tril_indices', 'tril_indices_from', 'trim_zeros', 'triu', 'triu_indices', 'triu_indices_from', 'true_divide', 'trunc', 'typecodes', 'typename', 'ubyte', 'ufunc', 'uint', 'uint0', 'uint16', 'uint32', 'uint64', 'uint8', 'uintc', 'uintp', 'ulonglong', 'unicode_', 'union1d', 'unique', 'unpackbits', 'unravel_index', 'unsignedinteger', 'unwrap', 'use_hugepage', 'ushort', 'vander', 'var', 'vdot', 'vectorize', 'version', 'void', 'void0', 'vsplit', 'vstack', 'warnings', 'where', 'who', 'zeros', 'zeros_like']\n"
     ]
    }
   ],
   "source": [
    "print(dir(np))"
   ]
  },
  {
   "cell_type": "code",
   "execution_count": 10,
   "id": "90eb3cde",
   "metadata": {},
   "outputs": [
    {
     "name": "stdout",
     "output_type": "stream",
     "text": [
      "\n",
      "NumPy\n",
      "=====\n",
      "\n",
      "Provides\n",
      "  1. An array object of arbitrary homogeneous items\n",
      "  2. Fast mathematical operations over arrays\n",
      "  3. Linear Algebra, Fourier Transforms, Random Number Generation\n",
      "\n",
      "How to use the documentation\n",
      "----------------------------\n",
      "Documentation is available in two forms: docstrings provided\n",
      "with the code, and a loose standing reference guide, available from\n",
      "`the NumPy homepage <https://www.scipy.org>`_.\n",
      "\n",
      "We recommend exploring the docstrings using\n",
      "`IPython <https://ipython.org>`_, an advanced Python shell with\n",
      "TAB-completion and introspection capabilities.  See below for further\n",
      "instructions.\n",
      "\n",
      "The docstring examples assume that `numpy` has been imported as `np`::\n",
      "\n",
      "  >>> import numpy as np\n",
      "\n",
      "Code snippets are indicated by three greater-than signs::\n",
      "\n",
      "  >>> x = 42\n",
      "  >>> x = x + 1\n",
      "\n",
      "Use the built-in ``help`` function to view a function's docstring::\n",
      "\n",
      "  >>> help(np.sort)\n",
      "  ... # doctest: +SKIP\n",
      "\n",
      "For some objects, ``np.info(obj)`` may provide additional help.  This is\n",
      "particularly true if you see the line \"Help on ufunc object:\" at the top\n",
      "of the help() page.  Ufuncs are implemented in C, not Python, for speed.\n",
      "The native Python help() does not know how to view their help, but our\n",
      "np.info() function does.\n",
      "\n",
      "To search for documents containing a keyword, do::\n",
      "\n",
      "  >>> np.lookfor('keyword')\n",
      "  ... # doctest: +SKIP\n",
      "\n",
      "General-purpose documents like a glossary and help on the basic concepts\n",
      "of numpy are available under the ``doc`` sub-module::\n",
      "\n",
      "  >>> from numpy import doc\n",
      "  >>> help(doc)\n",
      "  ... # doctest: +SKIP\n",
      "\n",
      "Available subpackages\n",
      "---------------------\n",
      "doc\n",
      "    Topical documentation on broadcasting, indexing, etc.\n",
      "lib\n",
      "    Basic functions used by several sub-packages.\n",
      "random\n",
      "    Core Random Tools\n",
      "linalg\n",
      "    Core Linear Algebra Tools\n",
      "fft\n",
      "    Core FFT routines\n",
      "polynomial\n",
      "    Polynomial tools\n",
      "testing\n",
      "    NumPy testing tools\n",
      "f2py\n",
      "    Fortran to Python Interface Generator.\n",
      "distutils\n",
      "    Enhancements to distutils with support for\n",
      "    Fortran compilers support and more.\n",
      "\n",
      "Utilities\n",
      "---------\n",
      "test\n",
      "    Run numpy unittests\n",
      "show_config\n",
      "    Show numpy build configuration\n",
      "dual\n",
      "    Overwrite certain functions with high-performance SciPy tools.\n",
      "    Note: `numpy.dual` is deprecated.  Use the functions from NumPy or Scipy\n",
      "    directly instead of importing them from `numpy.dual`.\n",
      "matlib\n",
      "    Make everything matrices.\n",
      "__version__\n",
      "    NumPy version string\n",
      "\n",
      "Viewing documentation using IPython\n",
      "-----------------------------------\n",
      "Start IPython with the NumPy profile (``ipython -p numpy``), which will\n",
      "import `numpy` under the alias `np`.  Then, use the ``cpaste`` command to\n",
      "paste examples into the shell.  To see which functions are available in\n",
      "`numpy`, type ``np.<TAB>`` (where ``<TAB>`` refers to the TAB key), or use\n",
      "``np.*cos*?<ENTER>`` (where ``<ENTER>`` refers to the ENTER key) to narrow\n",
      "down the list.  To view the docstring for a function, use\n",
      "``np.cos?<ENTER>`` (to view the docstring) and ``np.cos??<ENTER>`` (to view\n",
      "the source code).\n",
      "\n",
      "Copies vs. in-place operation\n",
      "-----------------------------\n",
      "Most of the functions in `numpy` return a copy of the array argument\n",
      "(e.g., `np.sort`).  In-place versions of these functions are often\n",
      "available as array methods, i.e. ``x = np.array([1,2,3]); x.sort()``.\n",
      "Exceptions to this rule are documented.\n",
      "\n",
      "\n"
     ]
    }
   ],
   "source": [
    "print(np.__doc__)"
   ]
  },
  {
   "cell_type": "code",
   "execution_count": 11,
   "id": "884ab0ae",
   "metadata": {},
   "outputs": [],
   "source": [
    "# Arrays"
   ]
  },
  {
   "cell_type": "code",
   "execution_count": 13,
   "id": "f88b6731",
   "metadata": {},
   "outputs": [
    {
     "data": {
      "text/plain": [
       "(1,)"
      ]
     },
     "execution_count": 13,
     "metadata": {},
     "output_type": "execute_result"
    }
   ],
   "source": [
    "a=np.array([1]) # singular/scalar\n",
    "a.shape"
   ]
  },
  {
   "cell_type": "code",
   "execution_count": 14,
   "id": "4ad9c331",
   "metadata": {},
   "outputs": [
    {
     "data": {
      "text/plain": [
       "(5,)"
      ]
     },
     "execution_count": 14,
     "metadata": {},
     "output_type": "execute_result"
    }
   ],
   "source": [
    "a=np.array([1,2,3,4,5]) # vector/ single dim array\n",
    "a.shape"
   ]
  },
  {
   "cell_type": "code",
   "execution_count": 15,
   "id": "019d9815",
   "metadata": {},
   "outputs": [
    {
     "data": {
      "text/plain": [
       "(2, 2)"
      ]
     },
     "execution_count": 15,
     "metadata": {},
     "output_type": "execute_result"
    }
   ],
   "source": [
    "# 2D array\n",
    "a=np.array([\n",
    "    [1,2],\n",
    "    [3,4]\n",
    "])\n",
    "a.shape"
   ]
  },
  {
   "cell_type": "code",
   "execution_count": 16,
   "id": "8bf7a042",
   "metadata": {},
   "outputs": [
    {
     "data": {
      "text/plain": [
       "(2, 4)"
      ]
     },
     "execution_count": 16,
     "metadata": {},
     "output_type": "execute_result"
    }
   ],
   "source": [
    "# 2D array\n",
    "a=np.array([\n",
    "    [1, 2, 3, 4],\n",
    "    [3, 4, 5, 6]\n",
    "])\n",
    "a.shape"
   ]
  },
  {
   "cell_type": "code",
   "execution_count": 19,
   "id": "f7a44538",
   "metadata": {},
   "outputs": [
    {
     "data": {
      "text/plain": [
       "(2, 4)"
      ]
     },
     "execution_count": 19,
     "metadata": {},
     "output_type": "execute_result"
    }
   ],
   "source": [
    "# 2D array\n",
    "a=np.array([\n",
    "    [1, 2, 3, 4],\n",
    "    [3, 4, 5, 7]\n",
    "])\n",
    "a.shape"
   ]
  },
  {
   "cell_type": "code",
   "execution_count": 20,
   "id": "39ed49df",
   "metadata": {},
   "outputs": [
    {
     "data": {
      "text/plain": [
       "array([[1, 2, 3, 4],\n",
       "       [3, 4, 5, 7]])"
      ]
     },
     "execution_count": 20,
     "metadata": {},
     "output_type": "execute_result"
    }
   ],
   "source": [
    "a"
   ]
  },
  {
   "cell_type": "code",
   "execution_count": 21,
   "id": "c94998e9",
   "metadata": {},
   "outputs": [
    {
     "data": {
      "text/plain": [
       "(3, 3, 2)"
      ]
     },
     "execution_count": 21,
     "metadata": {},
     "output_type": "execute_result"
    }
   ],
   "source": [
    "# 3D array\n",
    "a=np.array([\n",
    "    [ [1,2], [3,4], [5,6] ],\n",
    "    [ [7,8], [9,10], [11,12] ],\n",
    "    [ [13,14], [15,16], [17,18] ]\n",
    "])\n",
    "a.shape"
   ]
  },
  {
   "cell_type": "code",
   "execution_count": 26,
   "id": "5be65431",
   "metadata": {},
   "outputs": [],
   "source": [
    "# 2D array - indexing\n",
    "a=np.array([\n",
    "    [1, 2, 3, 4],\n",
    "    [3, 4, 5, 7],\n",
    "    [5, 7, 8, 9]\n",
    "])"
   ]
  },
  {
   "cell_type": "code",
   "execution_count": 27,
   "id": "23d93600",
   "metadata": {},
   "outputs": [
    {
     "data": {
      "text/plain": [
       "5"
      ]
     },
     "execution_count": 27,
     "metadata": {},
     "output_type": "execute_result"
    }
   ],
   "source": [
    "# array[row, col]\n",
    "a[1, 2]"
   ]
  },
  {
   "cell_type": "code",
   "execution_count": 28,
   "id": "6c62b0de",
   "metadata": {},
   "outputs": [
    {
     "data": {
      "text/plain": [
       "4"
      ]
     },
     "execution_count": 28,
     "metadata": {},
     "output_type": "execute_result"
    }
   ],
   "source": [
    "a[0, 3]"
   ]
  },
  {
   "cell_type": "code",
   "execution_count": 29,
   "id": "e9202235",
   "metadata": {},
   "outputs": [
    {
     "data": {
      "text/plain": [
       "array([[3, 4],\n",
       "       [5, 7]])"
      ]
     },
     "execution_count": 29,
     "metadata": {},
     "output_type": "execute_result"
    }
   ],
   "source": [
    "# index-slicing\n",
    "# array[r1:r2, c1:c2]\n",
    "a[0:2, 2:]"
   ]
  },
  {
   "cell_type": "code",
   "execution_count": 30,
   "id": "0af035e3",
   "metadata": {},
   "outputs": [],
   "source": [
    "# 3D slicing - indexing\n",
    "a=np.array([\n",
    "    [ [1,2], [3,4], [5,6] ],\n",
    "    [ [7,8], [9,10], [11,12] ],\n",
    "    [ [13,14], [15,16], [17,18] ]\n",
    "])"
   ]
  },
  {
   "cell_type": "code",
   "execution_count": 33,
   "id": "b3deb29d",
   "metadata": {},
   "outputs": [
    {
     "data": {
      "text/plain": [
       "4"
      ]
     },
     "execution_count": 33,
     "metadata": {},
     "output_type": "execute_result"
    }
   ],
   "source": [
    "a[0, 1, 1]"
   ]
  },
  {
   "cell_type": "code",
   "execution_count": 34,
   "id": "27fd22b5",
   "metadata": {},
   "outputs": [
    {
     "data": {
      "text/plain": [
       "array([[[ 3,  4]],\n",
       "\n",
       "       [[ 9, 10]]])"
      ]
     },
     "execution_count": 34,
     "metadata": {},
     "output_type": "execute_result"
    }
   ],
   "source": [
    "a[0:2, 1:2]"
   ]
  },
  {
   "cell_type": "code",
   "execution_count": 35,
   "id": "77855fbc",
   "metadata": {},
   "outputs": [],
   "source": [
    "a=np.array([\n",
    "    [1, 2, 3],\n",
    "    [10, 20, 30],\n",
    "    [75, 85, 90]\n",
    "])"
   ]
  },
  {
   "cell_type": "code",
   "execution_count": 36,
   "id": "5e8ff0c0",
   "metadata": {},
   "outputs": [
    {
     "data": {
      "text/plain": [
       "(3, 3)"
      ]
     },
     "execution_count": 36,
     "metadata": {},
     "output_type": "execute_result"
    }
   ],
   "source": [
    "a.shape"
   ]
  },
  {
   "cell_type": "code",
   "execution_count": 37,
   "id": "1d93fe7c",
   "metadata": {},
   "outputs": [
    {
     "name": "stdout",
     "output_type": "stream",
     "text": [
      "[ 3 30 75 90]\n"
     ]
    }
   ],
   "source": [
    "# filtering\n",
    "print(a[a%3==0])"
   ]
  },
  {
   "cell_type": "code",
   "execution_count": 38,
   "id": "4d6d4fe6",
   "metadata": {},
   "outputs": [
    {
     "data": {
      "text/plain": [
       "array([[False, False,  True],\n",
       "       [False, False,  True],\n",
       "       [ True, False,  True]])"
      ]
     },
     "execution_count": 38,
     "metadata": {},
     "output_type": "execute_result"
    }
   ],
   "source": [
    "a%3==0"
   ]
  },
  {
   "cell_type": "code",
   "execution_count": 39,
   "id": "5b0bb546",
   "metadata": {},
   "outputs": [
    {
     "data": {
      "text/plain": [
       "dtype('int32')"
      ]
     },
     "execution_count": 39,
     "metadata": {},
     "output_type": "execute_result"
    }
   ],
   "source": [
    "a.dtype"
   ]
  },
  {
   "cell_type": "code",
   "execution_count": 40,
   "id": "581c60fc",
   "metadata": {},
   "outputs": [
    {
     "data": {
      "text/plain": [
       "array([[1., 2., 3.],\n",
       "       [4., 5., 6.]], dtype=float32)"
      ]
     },
     "execution_count": 40,
     "metadata": {},
     "output_type": "execute_result"
    }
   ],
   "source": [
    "a=np.array([[1,2,3], [4,5,6]], dtype='float32')\n",
    "a"
   ]
  },
  {
   "cell_type": "code",
   "execution_count": 47,
   "id": "e3d01bb9",
   "metadata": {},
   "outputs": [
    {
     "data": {
      "text/plain": [
       "array([[1, 2, 3],\n",
       "       [4, 5, 6]], dtype=int16)"
      ]
     },
     "execution_count": 47,
     "metadata": {},
     "output_type": "execute_result"
    }
   ],
   "source": [
    "a=np.array([[1, 2, 3], [4, 5, 6.9]], dtype='int16')\n",
    "a"
   ]
  },
  {
   "cell_type": "code",
   "execution_count": 45,
   "id": "de78143d",
   "metadata": {},
   "outputs": [
    {
     "data": {
      "text/plain": [
       "dtype('float16')"
      ]
     },
     "execution_count": 45,
     "metadata": {},
     "output_type": "execute_result"
    }
   ],
   "source": [
    "a.dtype"
   ]
  },
  {
   "cell_type": "markdown",
   "id": "b992cd35",
   "metadata": {},
   "source": [
    "### mathematical operations"
   ]
  },
  {
   "cell_type": "code",
   "execution_count": 52,
   "id": "cfae3f82",
   "metadata": {},
   "outputs": [],
   "source": [
    "x=np.array([[1,2], [3,4]])\n",
    "y=np.array([[12, 13], [15, 16]])"
   ]
  },
  {
   "cell_type": "code",
   "execution_count": 53,
   "id": "ecb77f5e",
   "metadata": {},
   "outputs": [
    {
     "name": "stdout",
     "output_type": "stream",
     "text": [
      "[[13 15]\n",
      " [18 20]]\n"
     ]
    }
   ],
   "source": [
    "print(x+y)"
   ]
  },
  {
   "cell_type": "code",
   "execution_count": 54,
   "id": "23de06bd",
   "metadata": {},
   "outputs": [
    {
     "name": "stdout",
     "output_type": "stream",
     "text": [
      "[[13 15]\n",
      " [18 20]]\n"
     ]
    }
   ],
   "source": [
    "print(np.add(x,y))"
   ]
  },
  {
   "cell_type": "code",
   "execution_count": 55,
   "id": "871f2a1f",
   "metadata": {},
   "outputs": [
    {
     "name": "stdout",
     "output_type": "stream",
     "text": [
      "[[-11 -11]\n",
      " [-12 -12]]\n"
     ]
    }
   ],
   "source": [
    "print(x-y)"
   ]
  },
  {
   "cell_type": "code",
   "execution_count": 56,
   "id": "d1c0344e",
   "metadata": {},
   "outputs": [
    {
     "name": "stdout",
     "output_type": "stream",
     "text": [
      "[[-11 -11]\n",
      " [-12 -12]]\n"
     ]
    }
   ],
   "source": [
    "print(np.subtract(x,y))"
   ]
  },
  {
   "cell_type": "code",
   "execution_count": 57,
   "id": "37fdad7b",
   "metadata": {},
   "outputs": [
    {
     "name": "stdout",
     "output_type": "stream",
     "text": [
      "[[12 26]\n",
      " [45 64]]\n"
     ]
    }
   ],
   "source": [
    "print(x*y)"
   ]
  },
  {
   "cell_type": "code",
   "execution_count": 58,
   "id": "0344ae01",
   "metadata": {},
   "outputs": [
    {
     "name": "stdout",
     "output_type": "stream",
     "text": [
      "[[12 26]\n",
      " [45 64]]\n"
     ]
    }
   ],
   "source": [
    "print(np.multiply(x,y))"
   ]
  },
  {
   "cell_type": "code",
   "execution_count": 59,
   "id": "dbe93c05",
   "metadata": {},
   "outputs": [
    {
     "name": "stdout",
     "output_type": "stream",
     "text": [
      "[[0.08333333 0.15384615]\n",
      " [0.2        0.25      ]]\n"
     ]
    }
   ],
   "source": [
    "print(x/y)"
   ]
  },
  {
   "cell_type": "code",
   "execution_count": 60,
   "id": "1f7d0d95",
   "metadata": {},
   "outputs": [
    {
     "name": "stdout",
     "output_type": "stream",
     "text": [
      "[[0.08333333 0.15384615]\n",
      " [0.2        0.25      ]]\n"
     ]
    }
   ],
   "source": [
    "print(np.divide(x,y))"
   ]
  },
  {
   "cell_type": "code",
   "execution_count": 61,
   "id": "aeed7ed7",
   "metadata": {},
   "outputs": [],
   "source": [
    "# statistics"
   ]
  },
  {
   "cell_type": "code",
   "execution_count": 62,
   "id": "f01b6054",
   "metadata": {},
   "outputs": [
    {
     "data": {
      "text/plain": [
       "14.0"
      ]
     },
     "execution_count": 62,
     "metadata": {},
     "output_type": "execute_result"
    }
   ],
   "source": [
    "np.mean(y)"
   ]
  },
  {
   "cell_type": "code",
   "execution_count": 63,
   "id": "19d2c559",
   "metadata": {},
   "outputs": [
    {
     "data": {
      "text/plain": [
       "14.0"
      ]
     },
     "execution_count": 63,
     "metadata": {},
     "output_type": "execute_result"
    }
   ],
   "source": [
    "np.median(y)"
   ]
  },
  {
   "cell_type": "code",
   "execution_count": 64,
   "id": "253801b9",
   "metadata": {},
   "outputs": [
    {
     "data": {
      "text/plain": [
       "array([[1, 2],\n",
       "       [3, 4]], dtype=int32)"
      ]
     },
     "execution_count": 64,
     "metadata": {},
     "output_type": "execute_result"
    }
   ],
   "source": [
    "np.mod(x,y)"
   ]
  },
  {
   "cell_type": "code",
   "execution_count": 65,
   "id": "de88f9fe",
   "metadata": {},
   "outputs": [
    {
     "data": {
      "text/plain": [
       "2.5"
      ]
     },
     "execution_count": 65,
     "metadata": {},
     "output_type": "execute_result"
    }
   ],
   "source": [
    "np.var(y)"
   ]
  },
  {
   "cell_type": "code",
   "execution_count": 66,
   "id": "b8546c61",
   "metadata": {},
   "outputs": [
    {
     "data": {
      "text/plain": [
       "array([[0.5, 0.5, 0.5, 0.5],\n",
       "       [0.5, 0.5, 0.5, 0.5],\n",
       "       [0.5, 0.5, 0.5, 0.5],\n",
       "       [0.5, 0.5, 0.5, 0.5]])"
      ]
     },
     "execution_count": 66,
     "metadata": {},
     "output_type": "execute_result"
    }
   ],
   "source": [
    "np.cov(x,y)"
   ]
  },
  {
   "cell_type": "code",
   "execution_count": 67,
   "id": "ae6b9da2",
   "metadata": {},
   "outputs": [
    {
     "data": {
      "text/plain": [
       "1.5811388300841898"
      ]
     },
     "execution_count": 67,
     "metadata": {},
     "output_type": "execute_result"
    }
   ],
   "source": [
    "np.std(y)"
   ]
  },
  {
   "cell_type": "code",
   "execution_count": 71,
   "id": "58f7f341",
   "metadata": {},
   "outputs": [
    {
     "data": {
      "text/plain": [
       "14.7"
      ]
     },
     "execution_count": 71,
     "metadata": {},
     "output_type": "execute_result"
    }
   ],
   "source": [
    "np.average(y, weights=x)"
   ]
  },
  {
   "cell_type": "code",
   "execution_count": 69,
   "id": "47d3aebc",
   "metadata": {},
   "outputs": [
    {
     "data": {
      "text/plain": [
       "14.0"
      ]
     },
     "execution_count": 69,
     "metadata": {},
     "output_type": "execute_result"
    }
   ],
   "source": [
    "np.mean(y)"
   ]
  },
  {
   "cell_type": "code",
   "execution_count": 74,
   "id": "25894963",
   "metadata": {},
   "outputs": [
    {
     "data": {
      "text/plain": [
       "92.5"
      ]
     },
     "execution_count": 74,
     "metadata": {},
     "output_type": "execute_result"
    }
   ],
   "source": [
    "a=np.array([2, 4, 40, 56, 79, 94, 65, 77, 13, 29, 38, 98])\n",
    "np.percentile(a, 90, 0)"
   ]
  },
  {
   "cell_type": "code",
   "execution_count": 75,
   "id": "32f5bbc1",
   "metadata": {},
   "outputs": [
    {
     "data": {
      "text/plain": [
       "2"
      ]
     },
     "execution_count": 75,
     "metadata": {},
     "output_type": "execute_result"
    }
   ],
   "source": [
    "np.amin(a)"
   ]
  },
  {
   "cell_type": "code",
   "execution_count": 76,
   "id": "d3ab3e93",
   "metadata": {},
   "outputs": [
    {
     "data": {
      "text/plain": [
       "98"
      ]
     },
     "execution_count": 76,
     "metadata": {},
     "output_type": "execute_result"
    }
   ],
   "source": [
    "np.amax(a)"
   ]
  },
  {
   "cell_type": "code",
   "execution_count": 77,
   "id": "45047229",
   "metadata": {},
   "outputs": [],
   "source": [
    "# Broadcasting"
   ]
  },
  {
   "cell_type": "code",
   "execution_count": 78,
   "id": "4ed3f329",
   "metadata": {},
   "outputs": [],
   "source": [
    "x=np.array([\n",
    "    [1,2,3],\n",
    "    [4,5,6],\n",
    "    [7,8,9],\n",
    "    [10,11,12]\n",
    "])\n",
    "\n",
    "y=np.array([1, 0, 1])"
   ]
  },
  {
   "cell_type": "code",
   "execution_count": 79,
   "id": "42d1bc11",
   "metadata": {},
   "outputs": [
    {
     "name": "stdout",
     "output_type": "stream",
     "text": [
      "[[ 2  2  4]\n",
      " [ 5  5  7]\n",
      " [ 8  8 10]\n",
      " [11 11 13]]\n"
     ]
    }
   ],
   "source": [
    "print(x+y)"
   ]
  },
  {
   "cell_type": "code",
   "execution_count": 80,
   "id": "9b1343c8",
   "metadata": {},
   "outputs": [
    {
     "name": "stdout",
     "output_type": "stream",
     "text": [
      "[[ 3  6  9]\n",
      " [12 15 18]\n",
      " [21 24 27]\n",
      " [30 33 36]]\n"
     ]
    }
   ],
   "source": [
    "print(x*3)"
   ]
  },
  {
   "cell_type": "code",
   "execution_count": 81,
   "id": "c554c764",
   "metadata": {},
   "outputs": [
    {
     "name": "stdout",
     "output_type": "stream",
     "text": [
      "[[0.5 1.  1.5]\n",
      " [2.  2.5 3. ]\n",
      " [3.5 4.  4.5]\n",
      " [5.  5.5 6. ]]\n"
     ]
    }
   ],
   "source": [
    "print(x/2)"
   ]
  },
  {
   "cell_type": "code",
   "execution_count": 82,
   "id": "b4b4950d",
   "metadata": {},
   "outputs": [
    {
     "name": "stdout",
     "output_type": "stream",
     "text": [
      "[[ 0  2  0]\n",
      " [ 0  5  0]\n",
      " [ 0  8  0]\n",
      " [ 0 11  0]]\n"
     ]
    }
   ],
   "source": [
    "print(x* np.array([0,1,0]))"
   ]
  },
  {
   "cell_type": "code",
   "execution_count": 85,
   "id": "3a1d2d62",
   "metadata": {},
   "outputs": [
    {
     "data": {
      "text/plain": [
       "array([[0, 0, 0],\n",
       "       [0, 0, 0],\n",
       "       [0, 0, 0],\n",
       "       [0, 0, 0]])"
      ]
     },
     "execution_count": 85,
     "metadata": {},
     "output_type": "execute_result"
    }
   ],
   "source": [
    "z=np.empty_like(x)\n",
    "z"
   ]
  },
  {
   "cell_type": "code",
   "execution_count": 86,
   "id": "aee7024c",
   "metadata": {},
   "outputs": [
    {
     "name": "stdout",
     "output_type": "stream",
     "text": [
      "[[ 0  2  2]\n",
      " [ 3  5  5]\n",
      " [ 6  8  8]\n",
      " [ 9 11 11]]\n"
     ]
    }
   ],
   "source": [
    "for i in range(4):\n",
    "    z[i, :] = x[i, :]-y\n",
    "print(z)"
   ]
  },
  {
   "cell_type": "code",
   "execution_count": 87,
   "id": "cbd9a615",
   "metadata": {},
   "outputs": [
    {
     "name": "stdout",
     "output_type": "stream",
     "text": [
      "[[ 1. inf  3.]\n",
      " [ 4. inf  6.]\n",
      " [ 7. inf  9.]\n",
      " [10. inf 12.]]\n"
     ]
    },
    {
     "name": "stderr",
     "output_type": "stream",
     "text": [
      "C:\\Users\\pvashishtha\\AppData\\Local\\Temp\\ipykernel_30072\\1379233019.py:1: RuntimeWarning: divide by zero encountered in true_divide\n",
      "  print(x/y)\n"
     ]
    }
   ],
   "source": [
    "print(x/y)"
   ]
  },
  {
   "cell_type": "code",
   "execution_count": 88,
   "id": "6cb5024b",
   "metadata": {},
   "outputs": [
    {
     "name": "stdout",
     "output_type": "stream",
     "text": [
      "[4.+0.j 5.+0.j 6.+0.j]\n",
      "complex128\n"
     ]
    }
   ],
   "source": [
    "# complex type\n",
    "a=np.array([4, 5, 6], dtype='complex')\n",
    "print(a)\n",
    "print(a.dtype)"
   ]
  },
  {
   "cell_type": "code",
   "execution_count": 89,
   "id": "2902512b",
   "metadata": {},
   "outputs": [
    {
     "data": {
      "text/plain": [
       "array([3.+2.j, 4.+4.j, 5.+6.j])"
      ]
     },
     "execution_count": 89,
     "metadata": {},
     "output_type": "execute_result"
    }
   ],
   "source": [
    "a=np.array([3,4,5])\n",
    "b=np.array([2j, 4j, 6j])\n",
    "a+b"
   ]
  },
  {
   "cell_type": "code",
   "execution_count": 90,
   "id": "c168187e",
   "metadata": {},
   "outputs": [
    {
     "data": {
      "text/plain": [
       "array([[ 1,  2,  3],\n",
       "       [ 4,  5,  6],\n",
       "       [ 7,  8,  9],\n",
       "       [10, 11, 12]])"
      ]
     },
     "execution_count": 90,
     "metadata": {},
     "output_type": "execute_result"
    }
   ],
   "source": [
    "x"
   ]
  },
  {
   "cell_type": "code",
   "execution_count": 91,
   "id": "eb0050dd",
   "metadata": {},
   "outputs": [
    {
     "data": {
      "text/plain": [
       "(4, 3)"
      ]
     },
     "execution_count": 91,
     "metadata": {},
     "output_type": "execute_result"
    }
   ],
   "source": [
    "x.shape"
   ]
  },
  {
   "cell_type": "code",
   "execution_count": 92,
   "id": "23a0db71",
   "metadata": {},
   "outputs": [
    {
     "data": {
      "text/plain": [
       "2"
      ]
     },
     "execution_count": 92,
     "metadata": {},
     "output_type": "execute_result"
    }
   ],
   "source": [
    "x.ndim"
   ]
  },
  {
   "cell_type": "code",
   "execution_count": 94,
   "id": "1a692691",
   "metadata": {},
   "outputs": [
    {
     "data": {
      "text/plain": [
       "array([[ 1,  2,  3],\n",
       "       [ 4,  5,  6],\n",
       "       [ 7,  8,  9],\n",
       "       [10, 11, 12]])"
      ]
     },
     "execution_count": 94,
     "metadata": {},
     "output_type": "execute_result"
    }
   ],
   "source": [
    "# reshaping\n",
    "x"
   ]
  },
  {
   "cell_type": "code",
   "execution_count": 97,
   "id": "c0508f92",
   "metadata": {},
   "outputs": [
    {
     "data": {
      "text/plain": [
       "array([[ 1,  2,  3,  4,  5,  6],\n",
       "       [ 7,  8,  9, 10, 11, 12]])"
      ]
     },
     "execution_count": 97,
     "metadata": {},
     "output_type": "execute_result"
    }
   ],
   "source": [
    "x.reshape(2, 6) # row major"
   ]
  },
  {
   "cell_type": "code",
   "execution_count": 98,
   "id": "25ec55fa",
   "metadata": {},
   "outputs": [
    {
     "data": {
      "text/plain": [
       "array([[ 1,  7,  2,  8,  3,  9],\n",
       "       [ 4, 10,  5, 11,  6, 12]])"
      ]
     },
     "execution_count": 98,
     "metadata": {},
     "output_type": "execute_result"
    }
   ],
   "source": [
    "x.reshape(2,6, order=\"F\") # column major / Fortran type"
   ]
  },
  {
   "cell_type": "code",
   "execution_count": 99,
   "id": "58f9d051",
   "metadata": {},
   "outputs": [
    {
     "data": {
      "text/plain": [
       "8"
      ]
     },
     "execution_count": 99,
     "metadata": {},
     "output_type": "execute_result"
    }
   ],
   "source": [
    "a=np.array([1,2,3,4,5,6], dtype='float64')\n",
    "a.itemsize"
   ]
  },
  {
   "cell_type": "code",
   "execution_count": 102,
   "id": "703b6f64",
   "metadata": {},
   "outputs": [
    {
     "data": {
      "text/plain": [
       "48"
      ]
     },
     "execution_count": 102,
     "metadata": {},
     "output_type": "execute_result"
    }
   ],
   "source": [
    "a.shape[0]*a.itemsize"
   ]
  },
  {
   "cell_type": "code",
   "execution_count": 104,
   "id": "211b86b1",
   "metadata": {},
   "outputs": [
    {
     "data": {
      "text/plain": [
       "48"
      ]
     },
     "execution_count": 104,
     "metadata": {},
     "output_type": "execute_result"
    }
   ],
   "source": [
    "x.shape[0]*x.shape[1]*x.itemsize"
   ]
  },
  {
   "cell_type": "code",
   "execution_count": 105,
   "id": "d8ff9331",
   "metadata": {},
   "outputs": [
    {
     "name": "stdout",
     "output_type": "stream",
     "text": [
      "Total Size:  72 Bytes\n"
     ]
    }
   ],
   "source": [
    "a=np.array([[1,2,3], [4,5,6], [7.5, 8.5, 9.5]])\n",
    "size=1\n",
    "for indx in range(a.ndim):\n",
    "    size*=a.shape[indx]\n",
    "print('Total Size: ', size*a.itemsize, 'Bytes')"
   ]
  },
  {
   "cell_type": "code",
   "execution_count": 106,
   "id": "d63992fc",
   "metadata": {},
   "outputs": [
    {
     "data": {
      "text/plain": [
       "array([[0., 0.],\n",
       "       [0., 0.],\n",
       "       [0., 0.]])"
      ]
     },
     "execution_count": 106,
     "metadata": {},
     "output_type": "execute_result"
    }
   ],
   "source": [
    "# zeros()\n",
    "a=np.zeros((3,2))\n",
    "a"
   ]
  },
  {
   "cell_type": "code",
   "execution_count": 107,
   "id": "38f7662b",
   "metadata": {},
   "outputs": [
    {
     "data": {
      "text/plain": [
       "array([[[1., 1.],\n",
       "        [1., 1.],\n",
       "        [1., 1.]],\n",
       "\n",
       "       [[1., 1.],\n",
       "        [1., 1.],\n",
       "        [1., 1.]],\n",
       "\n",
       "       [[1., 1.],\n",
       "        [1., 1.],\n",
       "        [1., 1.]],\n",
       "\n",
       "       [[1., 1.],\n",
       "        [1., 1.],\n",
       "        [1., 1.]]])"
      ]
     },
     "execution_count": 107,
     "metadata": {},
     "output_type": "execute_result"
    }
   ],
   "source": [
    "# ones\n",
    "a=np.ones((4, 3, 2))\n",
    "a"
   ]
  },
  {
   "cell_type": "code",
   "execution_count": 108,
   "id": "f32a6269",
   "metadata": {},
   "outputs": [
    {
     "data": {
      "text/plain": [
       "list"
      ]
     },
     "execution_count": 108,
     "metadata": {},
     "output_type": "execute_result"
    }
   ],
   "source": [
    "a=[1,2,3,4,5]\n",
    "type(a)"
   ]
  },
  {
   "cell_type": "code",
   "execution_count": 109,
   "id": "bf3d253a",
   "metadata": {},
   "outputs": [
    {
     "data": {
      "text/plain": [
       "numpy.ndarray"
      ]
     },
     "execution_count": 109,
     "metadata": {},
     "output_type": "execute_result"
    }
   ],
   "source": [
    "a=np.array([1,2,3,4,5])\n",
    "type(a)"
   ]
  },
  {
   "cell_type": "code",
   "execution_count": 110,
   "id": "67a3fd47",
   "metadata": {},
   "outputs": [],
   "source": [
    "# arange()"
   ]
  },
  {
   "cell_type": "code",
   "execution_count": 112,
   "id": "e35117c9",
   "metadata": {},
   "outputs": [
    {
     "data": {
      "text/plain": [
       "array([0, 1, 2, 3, 4, 5, 6, 7, 8, 9])"
      ]
     },
     "execution_count": 112,
     "metadata": {},
     "output_type": "execute_result"
    }
   ],
   "source": [
    "np.arange(10)"
   ]
  },
  {
   "cell_type": "code",
   "execution_count": 113,
   "id": "6ede49ea",
   "metadata": {},
   "outputs": [
    {
     "data": {
      "text/plain": [
       "array([10, 11, 12, 13, 14, 15, 16, 17, 18, 19])"
      ]
     },
     "execution_count": 113,
     "metadata": {},
     "output_type": "execute_result"
    }
   ],
   "source": [
    "np.arange(10,20)"
   ]
  },
  {
   "cell_type": "code",
   "execution_count": 114,
   "id": "2f6f0ceb",
   "metadata": {},
   "outputs": [
    {
     "data": {
      "text/plain": [
       "array([10, 14, 18, 22, 26])"
      ]
     },
     "execution_count": 114,
     "metadata": {},
     "output_type": "execute_result"
    }
   ],
   "source": [
    "np.arange(10,30,4)"
   ]
  },
  {
   "cell_type": "code",
   "execution_count": 115,
   "id": "51d0f4c2",
   "metadata": {},
   "outputs": [
    {
     "data": {
      "text/plain": [
       "array([50.        , 52.14285714, 54.28571429, 56.42857143, 58.57142857,\n",
       "       60.71428571, 62.85714286, 65.        , 67.14285714, 69.28571429,\n",
       "       71.42857143, 73.57142857, 75.71428571, 77.85714286, 80.        ])"
      ]
     },
     "execution_count": 115,
     "metadata": {},
     "output_type": "execute_result"
    }
   ],
   "source": [
    "# linspace(start, end, no_of_values) - generates linearly separated numbers\n",
    "np.linspace(50, 80, 15)"
   ]
  },
  {
   "cell_type": "code",
   "execution_count": 119,
   "id": "37ea9d38",
   "metadata": {},
   "outputs": [
    {
     "name": "stderr",
     "output_type": "stream",
     "text": [
      "C:\\Users\\pvashishtha\\AppData\\Local\\Temp\\ipykernel_30072\\1058282523.py:2: DeprecationWarning: `np.int` is a deprecated alias for the builtin `int`. To silence this warning, use `int` by itself. Doing this will not modify any behavior and is safe. When replacing `np.int`, you may wish to use e.g. `np.int64` or `np.int32` to specify the precision. If you wish to review your current use, check the release note link for additional information.\n",
      "Deprecated in NumPy 1.20; for more details and guidance: https://numpy.org/devdocs/release/1.20.0-notes.html#deprecations\n",
      "  x=x.astype(np.int)\n"
     ]
    }
   ],
   "source": [
    "x=np.linspace(50,80,15)\n",
    "x=x.astype(np.int)"
   ]
  },
  {
   "cell_type": "code",
   "execution_count": 120,
   "id": "061f3c6b",
   "metadata": {},
   "outputs": [
    {
     "data": {
      "text/plain": [
       "array([50, 52, 54, 56, 58, 60, 62, 65, 67, 69, 71, 73, 75, 77, 80])"
      ]
     },
     "execution_count": 120,
     "metadata": {},
     "output_type": "execute_result"
    }
   ],
   "source": [
    "x"
   ]
  },
  {
   "cell_type": "code",
   "execution_count": 123,
   "id": "90fe1edf",
   "metadata": {},
   "outputs": [],
   "source": [
    "# matrix multiplication\n",
    "x=np.array([\n",
    "    [1,2,3],\n",
    "    [4,5,6],\n",
    "    [7,8,9],\n",
    "    [10,11,12]\n",
    "])\n",
    "y=x.reshape(3,4)"
   ]
  },
  {
   "cell_type": "code",
   "execution_count": 125,
   "id": "1cbfc5fb",
   "metadata": {},
   "outputs": [
    {
     "data": {
      "text/plain": [
       "array([[ 1,  2,  3,  4],\n",
       "       [ 5,  6,  7,  8],\n",
       "       [ 9, 10, 11, 12]])"
      ]
     },
     "execution_count": 125,
     "metadata": {},
     "output_type": "execute_result"
    }
   ],
   "source": [
    "y"
   ]
  },
  {
   "cell_type": "code",
   "execution_count": 128,
   "id": "2b120c6d",
   "metadata": {},
   "outputs": [
    {
     "name": "stdout",
     "output_type": "stream",
     "text": [
      "X=  [[ 1  2  3]\n",
      " [ 4  5  6]\n",
      " [ 7  8  9]\n",
      " [10 11 12]]\n",
      "Y=  [[ 1  2  3  4]\n",
      " [ 5  6  7  8]\n",
      " [ 9 10 11 12]]\n"
     ]
    },
    {
     "data": {
      "text/plain": [
       "array([[ 38,  44,  50,  56],\n",
       "       [ 83,  98, 113, 128],\n",
       "       [128, 152, 176, 200],\n",
       "       [173, 206, 239, 272]])"
      ]
     },
     "execution_count": 128,
     "metadata": {},
     "output_type": "execute_result"
    }
   ],
   "source": [
    "# 4x3 and 3x4\n",
    "z=np.dot(x, y)\n",
    "print('X= ',x)\n",
    "print('Y= ',y)\n",
    "z"
   ]
  },
  {
   "cell_type": "code",
   "execution_count": 129,
   "id": "f5d8ffcf",
   "metadata": {},
   "outputs": [
    {
     "data": {
      "text/plain": [
       "array([[ 57,  78],\n",
       "       [ 99, 120]])"
      ]
     },
     "execution_count": 129,
     "metadata": {},
     "output_type": "execute_result"
    }
   ],
   "source": [
    "# Linear Algebra\n",
    "# Ax + By = z\n",
    "x=np.array([[1, 2], [3, 4]])\n",
    "y=np.array([[5, 6], [7, 8]])\n",
    "A=12\n",
    "B=9\n",
    "z=A*x + B*y\n",
    "z"
   ]
  },
  {
   "cell_type": "markdown",
   "id": "8f6d237b",
   "metadata": {},
   "source": [
    "#### Random Number generation"
   ]
  },
  {
   "cell_type": "code",
   "execution_count": 130,
   "id": "d1af4c71",
   "metadata": {},
   "outputs": [
    {
     "data": {
      "text/plain": [
       "85"
      ]
     },
     "execution_count": 130,
     "metadata": {},
     "output_type": "execute_result"
    }
   ],
   "source": [
    "np.random.randint(100)"
   ]
  },
  {
   "cell_type": "code",
   "execution_count": 131,
   "id": "1b4d909a",
   "metadata": {},
   "outputs": [
    {
     "data": {
      "text/plain": [
       "83"
      ]
     },
     "execution_count": 131,
     "metadata": {},
     "output_type": "execute_result"
    }
   ],
   "source": [
    "np.random.randint(70, 90)"
   ]
  },
  {
   "cell_type": "code",
   "execution_count": 132,
   "id": "83c500b3",
   "metadata": {},
   "outputs": [
    {
     "data": {
      "text/plain": [
       "array([44, 46, 49, 30, 47, 40, 41, 39, 48, 37, 35, 33, 34, 38, 38, 32, 47,\n",
       "       36, 36, 34])"
      ]
     },
     "execution_count": 132,
     "metadata": {},
     "output_type": "execute_result"
    }
   ],
   "source": [
    "np.random.randint(30, 50, 20)"
   ]
  },
  {
   "cell_type": "code",
   "execution_count": 137,
   "id": "a5439ab7",
   "metadata": {},
   "outputs": [
    {
     "data": {
      "text/plain": [
       "array([[202, 535, 370, 206, 171],\n",
       "       [800, 120, 714, 221, 566],\n",
       "       [314, 430, 558, 187, 472],\n",
       "       [199, 763, 230, 761, 408]])"
      ]
     },
     "execution_count": 137,
     "metadata": {},
     "output_type": "execute_result"
    }
   ],
   "source": [
    "np.random.seed(42)\n",
    "np.random.randint(100, 900, 20).reshape(4,5)"
   ]
  },
  {
   "cell_type": "code",
   "execution_count": 139,
   "id": "5647a641",
   "metadata": {},
   "outputs": [
    {
     "data": {
      "text/plain": [
       "array([0.83244264, 0.21233911, 0.18182497, 0.18340451, 0.30424224,\n",
       "       0.52475643, 0.43194502, 0.29122914, 0.61185289, 0.13949386])"
      ]
     },
     "execution_count": 139,
     "metadata": {},
     "output_type": "execute_result"
    }
   ],
   "source": [
    "np.random.rand(10)"
   ]
  },
  {
   "cell_type": "code",
   "execution_count": 140,
   "id": "d9f07efe",
   "metadata": {},
   "outputs": [
    {
     "data": {
      "text/plain": [
       "array([[0.29214465, 0.36636184, 0.45606998],\n",
       "       [0.78517596, 0.19967378, 0.51423444],\n",
       "       [0.59241457, 0.04645041, 0.60754485],\n",
       "       [0.17052412, 0.06505159, 0.94888554],\n",
       "       [0.96563203, 0.80839735, 0.30461377]])"
      ]
     },
     "execution_count": 140,
     "metadata": {},
     "output_type": "execute_result"
    }
   ],
   "source": [
    "np.random.rand(5,3)"
   ]
  },
  {
   "cell_type": "code",
   "execution_count": 145,
   "id": "f24ef1ab",
   "metadata": {},
   "outputs": [],
   "source": [
    "np.random.seed(42)\n",
    "x=np.random.randint(1, 10, 100).reshape(10,10)\n",
    "y=np.random.rand(10,10)\n",
    "a=5\n",
    "b=3"
   ]
  },
  {
   "cell_type": "code",
   "execution_count": 146,
   "id": "e9ff4a41",
   "metadata": {
    "collapsed": true
   },
   "outputs": [
    {
     "data": {
      "text/plain": [
       "array([[7, 4, 8, 5, 7, 3, 7, 8, 5, 4],\n",
       "       [8, 8, 3, 6, 5, 2, 8, 6, 2, 5],\n",
       "       [1, 6, 9, 1, 3, 7, 4, 9, 3, 5],\n",
       "       [3, 7, 5, 9, 7, 2, 4, 9, 2, 9],\n",
       "       [5, 2, 4, 7, 8, 3, 1, 4, 2, 8],\n",
       "       [4, 2, 6, 6, 4, 6, 2, 2, 4, 8],\n",
       "       [7, 9, 8, 5, 2, 5, 8, 9, 9, 1],\n",
       "       [9, 7, 9, 8, 1, 8, 8, 3, 1, 8],\n",
       "       [3, 3, 1, 5, 7, 9, 7, 9, 8, 2],\n",
       "       [1, 7, 7, 8, 5, 3, 8, 6, 3, 1]])"
      ]
     },
     "execution_count": 146,
     "metadata": {},
     "output_type": "execute_result"
    }
   ],
   "source": [
    "x"
   ]
  },
  {
   "cell_type": "code",
   "execution_count": 147,
   "id": "4ceb305a",
   "metadata": {
    "collapsed": true
   },
   "outputs": [
    {
     "data": {
      "text/plain": [
       "array([[3.82926875e-01, 9.71712095e-01, 8.48913824e-01, 7.21729521e-01,\n",
       "        2.35984920e-01, 2.56068323e-01, 4.04335895e-02, 7.10662890e-01,\n",
       "        1.10890821e-01, 4.39336502e-01],\n",
       "       [2.01719202e-01, 8.95763596e-01, 4.75370223e-01, 5.63275572e-01,\n",
       "        6.95516086e-01, 1.39331454e-01, 6.04417379e-01, 5.39841091e-01,\n",
       "        2.03061225e-01, 9.42853571e-01],\n",
       "       [5.98865466e-01, 6.94784933e-01, 8.80467839e-01, 6.24354048e-01,\n",
       "        2.95633686e-01, 1.05494260e-01, 4.56534570e-01, 2.18440437e-01,\n",
       "        4.16509948e-01, 8.83280259e-01],\n",
       "       [3.24345021e-01, 1.22087955e-01, 3.56297838e-01, 9.06828442e-01,\n",
       "        2.72132249e-01, 6.47690121e-01, 5.20376995e-04, 3.52568856e-01,\n",
       "        3.04781258e-01, 1.64655853e-01],\n",
       "       [5.34089419e-01, 4.84829971e-01, 6.92436033e-01, 2.69412334e-01,\n",
       "        2.44125522e-01, 1.68291042e-01, 2.18764220e-01, 5.58102002e-01,\n",
       "        4.03836171e-01, 6.48922471e-02],\n",
       "       [2.53915414e-01, 2.46876063e-01, 6.96304273e-01, 7.12270590e-01,\n",
       "        1.48086930e-01, 9.97740485e-01, 2.66781014e-01, 9.76614956e-01,\n",
       "        4.11037013e-01, 3.30507329e-02],\n",
       "       [3.45071248e-01, 6.34351345e-01, 6.80705452e-01, 5.30934583e-01,\n",
       "        4.47783165e-01, 5.52893089e-01, 5.92696724e-01, 8.08533263e-02,\n",
       "        3.69654456e-01, 2.42159938e-01],\n",
       "       [8.03139756e-01, 4.70300634e-01, 9.83423141e-01, 3.98824442e-01,\n",
       "        8.16431873e-01, 7.98345125e-01, 1.50717544e-01, 5.08198777e-01,\n",
       "        6.95812807e-01, 8.58358805e-01],\n",
       "       [3.25958905e-01, 2.20241048e-01, 7.11149532e-01, 8.09501046e-01,\n",
       "        3.48665987e-01, 9.61765511e-02, 9.40523264e-01, 3.97572021e-01,\n",
       "        5.17751351e-01, 8.37710106e-01],\n",
       "       [6.75690117e-01, 7.35216119e-01, 2.09071621e-01, 5.41447974e-01,\n",
       "        6.95784399e-01, 2.28550022e-01, 1.74954927e-01, 9.82168343e-01,\n",
       "        5.16635891e-01, 2.60829175e-01]])"
      ]
     },
     "execution_count": 147,
     "metadata": {},
     "output_type": "execute_result"
    }
   ],
   "source": [
    "y"
   ]
  },
  {
   "cell_type": "code",
   "execution_count": 149,
   "id": "4a62f69f",
   "metadata": {
    "collapsed": true
   },
   "outputs": [
    {
     "data": {
      "text/plain": [
       "array([[245.43989897,  82.83267319, 322.16196404, 126.56268051,\n",
       "        245.16706665,  45.19671296, 245.00490463, 321.51512523,\n",
       "        125.03689032,  80.57904969],\n",
       "       [320.12207191, 322.40717726,  45.67793055, 180.95183811,\n",
       "        126.45122788,  20.05823976, 321.09596111, 180.87428521,\n",
       "         20.12370158, 127.66691857],\n",
       "       [  6.07591954, 181.44817831, 407.32567085,   6.16945393,\n",
       "         45.26219783, 245.03338712,  80.62527144, 405.14314867,\n",
       "         45.52044161, 127.34055205],\n",
       "       [ 45.31559908, 245.04471641, 125.38084445, 407.46701347,\n",
       "        245.22216788,  21.25850748,  80.00000081, 405.3729144 ,\n",
       "         20.27867485, 405.08133465],\n",
       "       [125.85575452,  20.7051803 ,  81.43840298, 245.21774902,\n",
       "        320.17879181,  45.08496562,   5.14357335,  80.93443353,\n",
       "         20.48925096, 320.01263301],\n",
       "       [ 80.19341911,  20.18284337, 181.45451892, 181.52198818,\n",
       "         80.06578922, 182.98645823,  20.21351633,  22.86133032,\n",
       "         80.50685428, 320.00327705],\n",
       "       [245.3572225 , 406.20720489, 321.39007974, 125.8456746 ,\n",
       "         20.60152929, 125.9170723 , 321.05386822, 405.01961178,\n",
       "        405.40993325,   5.17592431],\n",
       "       [406.9351004 , 245.66354806, 407.90136322, 320.47718281,\n",
       "          6.99968301, 321.91206482, 320.06814733,  45.77479799,\n",
       "          6.45246639, 322.21033951],\n",
       "       [ 45.31874762,  45.14551836,   6.51720097, 126.96587583,\n",
       "        245.36470391, 405.02774979, 247.65375203, 405.47419054,\n",
       "        320.80419938,  22.10527466],\n",
       "       [  6.3696714 , 246.62162823, 245.13113283, 320.87949773,\n",
       "        126.45234779,  45.15670534, 320.09182768, 182.89396396,\n",
       "         45.80073793,   5.20409558]])"
      ]
     },
     "execution_count": 149,
     "metadata": {},
     "output_type": "execute_result"
    }
   ],
   "source": [
    "z=a*x**2 + b*y**2\n",
    "z"
   ]
  },
  {
   "cell_type": "code",
   "execution_count": 150,
   "id": "9f91ead4",
   "metadata": {
    "collapsed": true
   },
   "outputs": [
    {
     "data": {
      "text/plain": [
       "array([[27.57355773, 32.93313048, 40.62943205, 33.97731638, 24.50523363,\n",
       "        22.25556297, 19.44432912, 28.02902823, 23.31381472, 29.0835463 ],\n",
       "       [23.20788999, 32.68776729, 34.04209126, 31.33234167, 24.1456146 ,\n",
       "        20.75107657, 16.56061707, 26.92051125, 19.18188329, 25.1528576 ],\n",
       "       [23.65192256, 27.0109832 , 33.68551834, 27.27043028, 22.77484141,\n",
       "        21.00621027, 17.72361836, 25.779613  , 21.34876316, 27.14781317],\n",
       "       [28.06237599, 31.4732979 , 34.60058727, 32.90696347, 27.60738964,\n",
       "        22.91970758, 15.8873759 , 30.56800356, 23.65476813, 27.05338745],\n",
       "       [21.63348041, 23.74087597, 26.54893692, 25.94934271, 18.03280006,\n",
       "        16.62138906, 10.26749327, 26.13554048, 17.54538107, 16.8240406 ],\n",
       "       [20.14003756, 22.97218626, 26.55998786, 27.98094307, 17.09596035,\n",
       "        17.39723237, 13.23720278, 26.06622628, 17.59402679, 18.02705452],\n",
       "       [26.84451375, 35.26151854, 44.8182234 , 39.41459304, 27.6298861 ,\n",
       "        25.15654036, 25.88679949, 29.12378875, 24.71857901, 37.20832602],\n",
       "       [26.30980748, 37.2930432 , 38.78491499, 39.86492054, 25.20556113,\n",
       "        26.30387612, 18.59469955, 33.75873179, 21.99393038, 27.5867702 ],\n",
       "       [23.60120148, 24.42887189, 37.47168579, 32.17469956, 22.15572468,\n",
       "        26.96971606, 19.70549896, 28.71372041, 23.43363773, 23.24852008],\n",
       "       [21.24694842, 25.53958731, 32.42995862, 29.38401227, 21.23861864,\n",
       "        20.71634109, 18.00782817, 20.430443  , 19.34043342, 24.8245254 ]])"
      ]
     },
     "execution_count": 150,
     "metadata": {},
     "output_type": "execute_result"
    }
   ],
   "source": [
    "np.dot(x,y)"
   ]
  },
  {
   "cell_type": "code",
   "execution_count": 151,
   "id": "ab526f9d",
   "metadata": {},
   "outputs": [
    {
     "data": {
      "text/plain": [
       "0.48173793239774665"
      ]
     },
     "execution_count": 151,
     "metadata": {},
     "output_type": "execute_result"
    }
   ],
   "source": [
    "np.mean(y)"
   ]
  },
  {
   "cell_type": "code",
   "execution_count": 152,
   "id": "7b29af8a",
   "metadata": {
    "collapsed": true
   },
   "outputs": [
    {
     "data": {
      "text/plain": [
       "array([[ 3.28888889e+00,  1.06666667e+00,  7.33333333e-01,\n",
       "         4.88888889e-01,  8.88888889e-02, -1.46666667e+00,\n",
       "         1.62222222e+00, -9.55555556e-01, -2.44444444e-01,\n",
       "         1.53333333e+00,  3.32564644e-02, -3.08067017e-02,\n",
       "         7.80513391e-03, -1.13672783e-01,  2.16471662e-01,\n",
       "         3.18638511e-02, -5.64668350e-02, -1.07497681e-02,\n",
       "         1.26884097e-01,  1.33017175e-01],\n",
       "       [ 1.06666667e+00,  5.56666667e+00, -2.15555556e+00,\n",
       "         2.32222222e+00, -1.33333333e-01, -2.57777778e+00,\n",
       "         1.01111111e+00,  2.15555556e+00, -1.80000000e+00,\n",
       "         1.70000000e+00,  1.55923023e-01,  2.94728210e-01,\n",
       "         1.34899051e-01, -2.22813872e-01,  3.86308636e-02,\n",
       "        -3.38904585e-01, -1.60042974e-02, -3.57209881e-01,\n",
       "         9.35094451e-02,  2.35710472e-01],\n",
       "       [ 7.33333333e-01, -2.15555556e+00,  8.62222222e+00,\n",
       "         9.33333333e-01, -2.24444444e+00, -3.55555556e-01,\n",
       "         2.40000000e+00,  3.77777778e-01,  3.11111111e-01,\n",
       "         1.64444444e+00,  3.90341868e-01,  9.17722826e-02,\n",
       "        -4.86022499e-02, -1.26191631e-01,  2.02513930e-01,\n",
       "         5.14755170e-01, -5.53355455e-03,  1.49680604e-01,\n",
       "        -1.47407491e-01, -5.63335706e-02],\n",
       "       [ 4.88888889e-01,  2.32222222e+00,  9.33333333e-01,\n",
       "         8.23333333e+00,  4.35555556e+00,  5.77777778e-01,\n",
       "        -2.90000000e+00, -4.88888889e-01, -1.97777778e+00,\n",
       "         2.41111111e+00,  5.21342595e-01,  6.27622433e-01,\n",
       "         2.26978031e-01,  6.24103198e-02, -5.81036280e-02,\n",
       "        -7.14608296e-02, -1.78265975e-01, -1.26996086e-01,\n",
       "         2.48783013e-01,  3.02627344e-01],\n",
       "       [ 8.88888889e-02, -1.33333333e-01, -2.24444444e+00,\n",
       "         4.35555556e+00,  6.48888889e+00,  3.15555556e+00,\n",
       "        -6.24444444e+00, -4.22222222e-01, -2.17777778e+00,\n",
       "        -1.95555556e+00,  9.10402730e-02,  2.43370173e-01,\n",
       "         1.57794386e-01,  2.12025543e-01, -1.64336675e-01,\n",
       "        -2.10633648e-01, -1.59132087e-01,  2.80292222e-01,\n",
       "         1.13792817e-01,  9.56922306e-02],\n",
       "       [-1.46666667e+00, -2.57777778e+00, -3.55555556e-01,\n",
       "         5.77777778e-01,  3.15555556e+00,  4.26666667e+00,\n",
       "        -4.13333333e+00,  2.35555556e+00, -2.40000000e+00,\n",
       "        -2.40000000e+00,  8.63205007e-03, -6.34834568e-03,\n",
       "         2.16054141e-01,  2.38793183e-01, -1.62117352e-01,\n",
       "         7.46873033e-03,  1.01179868e-02,  3.26973952e-01,\n",
       "         1.53969121e-01, -3.10151365e-01],\n",
       "       [ 1.62222222e+00,  1.01111111e+00,  2.40000000e+00,\n",
       "        -2.90000000e+00, -6.24444444e+00, -4.13333333e+00,\n",
       "         8.67777778e+00, -2.88888889e-01,  1.20000000e+00,\n",
       "         3.14444444e+00,  2.23044587e-01, -2.77776878e-01,\n",
       "        -6.87797489e-02, -1.25067062e-01,  4.29610441e-01,\n",
       "         3.54806043e-01,  7.97291067e-02, -2.89488797e-01,\n",
       "        -1.12718807e-01,  1.98046470e-01],\n",
       "       [-9.55555556e-01,  2.15555556e+00,  3.77777778e-01,\n",
       "        -4.88888889e-01, -4.22222222e-01,  2.35555556e+00,\n",
       "        -2.88888889e-01,  1.04000000e+01, -5.75555556e+00,\n",
       "         3.55555556e-01,  3.08030091e-01,  2.91275683e-02,\n",
       "         4.46799839e-01,  1.07861157e-01, -3.86047238e-03,\n",
       "         4.92467433e-02,  2.58209041e-01, -1.55610169e-02,\n",
       "         2.37059509e-01, -4.67956741e-01],\n",
       "       [-2.44444444e-01, -1.80000000e+00,  3.11111111e-01,\n",
       "        -1.97777778e+00, -2.17777778e+00, -2.40000000e+00,\n",
       "         1.20000000e+00, -5.75555556e+00,  8.93333333e+00,\n",
       "         4.88888889e-01, -5.06441351e-01, -3.44858464e-01,\n",
       "        -7.53239330e-01,  1.40877432e-01, -1.57212341e-01,\n",
       "         4.64138384e-01, -1.63786592e-01, -2.66795340e-01,\n",
       "        -2.69511270e-01,  1.87281541e-01],\n",
       "       [ 1.53333333e+00,  1.70000000e+00,  1.64444444e+00,\n",
       "         2.41111111e+00, -1.95555556e+00, -2.40000000e+00,\n",
       "         3.14444444e+00,  3.55555556e-01,  4.88888889e-01,\n",
       "         7.43333333e+00,  3.43033134e-01,  2.27580675e-01,\n",
       "         1.73841183e-02,  5.72923823e-02,  1.33428942e-01,\n",
       "         2.56553178e-01,  2.59505704e-01, -4.35742503e-01,\n",
       "         2.38713250e-01,  3.17264879e-02],\n",
       "       [ 3.32564644e-02,  1.55923023e-01,  3.90341868e-01,\n",
       "         5.21342595e-01,  9.10402730e-02,  8.63205007e-03,\n",
       "         2.23044587e-01,  3.08030091e-01, -5.06441351e-01,\n",
       "         3.43033134e-01,  1.04342309e-01,  3.55369878e-02,\n",
       "         4.06246601e-02,  1.75261603e-02,  3.55934292e-02,\n",
       "         2.88613493e-02,  8.11739880e-03,  5.16376698e-03,\n",
       "        -8.49763248e-03,  3.02394713e-02],\n",
       "       [-3.08067017e-02,  2.94728210e-01,  9.17722826e-02,\n",
       "         6.27622433e-01,  2.43370173e-01, -6.34834568e-03,\n",
       "        -2.77776878e-01,  2.91275683e-02, -3.44858464e-01,\n",
       "         2.27580675e-01,  3.55369878e-02,  7.87201493e-02,\n",
       "         3.58493884e-02, -3.04274266e-02, -1.35033199e-02,\n",
       "        -4.95021340e-02, -1.37915085e-04, -1.56167518e-02,\n",
       "         2.80531775e-02,  6.72627374e-03],\n",
       "       [ 7.80513391e-03,  1.34899051e-01, -4.86022499e-02,\n",
       "         2.26978031e-01,  1.57794386e-01,  2.16054141e-01,\n",
       "        -6.87797489e-02,  4.46799839e-01, -7.53239330e-01,\n",
       "         1.73841183e-02,  4.06246601e-02,  3.58493884e-02,\n",
       "         7.08149635e-02, -1.43083364e-02,  9.88557323e-03,\n",
       "        -4.31231955e-02,  1.20463795e-02,  1.34635797e-02,\n",
       "         4.12700918e-02, -2.11461854e-02],\n",
       "       [-1.13672783e-01, -2.22813872e-01, -1.26191631e-01,\n",
       "         6.24103198e-02,  2.12025543e-01,  2.38793183e-01,\n",
       "        -1.25067062e-01,  1.07861157e-01,  1.40877432e-01,\n",
       "         5.72923823e-02,  1.75261603e-02, -3.04274266e-02,\n",
       "        -1.43083364e-02,  6.84101064e-02, -2.94921734e-03,\n",
       "         5.90082464e-02,  3.24729100e-03,  7.09135596e-03,\n",
       "        -9.24013444e-03,  2.84308666e-03],\n",
       "       [ 2.16471662e-01,  3.86308636e-02,  2.02513930e-01,\n",
       "        -5.81036280e-02, -1.64336675e-01, -1.62117352e-01,\n",
       "         4.29610441e-01, -3.86047238e-03, -1.57212341e-01,\n",
       "         1.33428942e-01,  3.55934292e-02, -1.35033199e-02,\n",
       "         9.88557323e-03, -2.94921734e-03,  4.03156080e-02,\n",
       "         1.99114931e-02,  2.13993896e-03,  8.12314481e-03,\n",
       "        -1.22554943e-02,  2.23876728e-02],\n",
       "       [ 3.18638511e-02, -3.38904585e-01,  5.14755170e-01,\n",
       "        -7.14608296e-02, -2.10633648e-01,  7.46873033e-03,\n",
       "         3.54806043e-01,  4.92467433e-02,  4.64138384e-01,\n",
       "         2.56553178e-01,  2.88613493e-02, -4.95021340e-02,\n",
       "        -4.31231955e-02,  5.90082464e-02,  1.99114931e-02,\n",
       "         1.20077708e-01, -1.33230582e-03, -1.97004312e-03,\n",
       "        -2.58334527e-02,  6.80479033e-03],\n",
       "       [-5.64668350e-02, -1.60042974e-02, -5.53355455e-03,\n",
       "        -1.78265975e-01, -1.59132087e-01,  1.01179868e-02,\n",
       "         7.97291067e-02,  2.58209041e-01, -1.63786592e-01,\n",
       "         2.59505704e-01,  8.11739880e-03, -1.37915085e-04,\n",
       "         1.20463795e-02,  3.24729100e-03,  2.13993896e-03,\n",
       "        -1.33230582e-03,  3.57327632e-02, -4.84804899e-03,\n",
       "         3.19574441e-03, -2.70172811e-02],\n",
       "       [-1.07497681e-02, -3.57209881e-01,  1.49680604e-01,\n",
       "        -1.26996086e-01,  2.80292222e-01,  3.26973952e-01,\n",
       "        -2.89488797e-01, -1.55610169e-02, -2.66795340e-01,\n",
       "        -4.35742503e-01,  5.16376698e-03, -1.56167518e-02,\n",
       "         1.34635797e-02,  7.09135596e-03,  8.12314481e-03,\n",
       "        -1.97004312e-03, -4.84804899e-03,  6.60650394e-02,\n",
       "        -2.25238378e-02, -9.50889285e-03],\n",
       "       [ 1.26884097e-01,  9.35094451e-02, -1.47407491e-01,\n",
       "         2.48783013e-01,  1.13792817e-01,  1.53969121e-01,\n",
       "        -1.12718807e-01,  2.37059509e-01, -2.69511270e-01,\n",
       "         2.38713250e-01, -8.49763248e-03,  2.80531775e-02,\n",
       "         4.12700918e-02, -9.24013444e-03, -1.22554943e-02,\n",
       "        -2.58334527e-02,  3.19574441e-03, -2.25238378e-02,\n",
       "         8.32898303e-02, -3.76070537e-02],\n",
       "       [ 1.33017175e-01,  2.35710472e-01, -5.63335706e-02,\n",
       "         3.02627344e-01,  9.56922306e-02, -3.10151365e-01,\n",
       "         1.98046470e-01, -4.67956741e-01,  1.87281541e-01,\n",
       "         3.17264879e-02,  3.02394713e-02,  6.72627374e-03,\n",
       "        -2.11461854e-02,  2.84308666e-03,  2.23876728e-02,\n",
       "         6.80479033e-03, -2.70172811e-02, -9.50889285e-03,\n",
       "        -3.76070537e-02,  7.55717954e-02]])"
      ]
     },
     "execution_count": 152,
     "metadata": {},
     "output_type": "execute_result"
    }
   ],
   "source": [
    "np.cov(x,y)"
   ]
  },
  {
   "cell_type": "code",
   "execution_count": 158,
   "id": "0da917cc",
   "metadata": {},
   "outputs": [],
   "source": [
    "x=np.random.rand(1000,1000)\n",
    "y=np.random.rand(1000,1000)\n",
    "a=12\n",
    "b=5"
   ]
  },
  {
   "cell_type": "code",
   "execution_count": 159,
   "id": "c90292c2",
   "metadata": {},
   "outputs": [
    {
     "name": "stdout",
     "output_type": "stream",
     "text": [
      "CPU times: total: 46.9 ms\n",
      "Wall time: 32 ms\n"
     ]
    }
   ],
   "source": [
    "%%time\n",
    "z=a*x**2 + b*y**2"
   ]
  },
  {
   "cell_type": "code",
   "execution_count": 160,
   "id": "909e9abb",
   "metadata": {},
   "outputs": [
    {
     "name": "stdout",
     "output_type": "stream",
     "text": [
      "CPU times: total: 250 ms\n",
      "Wall time: 40 ms\n"
     ]
    }
   ],
   "source": [
    "%%time\n",
    "z=np.dot(x,y)"
   ]
  },
  {
   "cell_type": "code",
   "execution_count": 161,
   "id": "7f7e57d9",
   "metadata": {},
   "outputs": [],
   "source": [
    "# comparison of LIST and NP.ARRAY"
   ]
  },
  {
   "cell_type": "code",
   "execution_count": 162,
   "id": "518ceddd",
   "metadata": {},
   "outputs": [
    {
     "name": "stdout",
     "output_type": "stream",
     "text": [
      "CPU times: total: 234 ms\n",
      "Wall time: 235 ms\n"
     ]
    },
    {
     "data": {
      "text/plain": [
       "2000000"
      ]
     },
     "execution_count": 162,
     "metadata": {},
     "output_type": "execute_result"
    }
   ],
   "source": [
    "%%time\n",
    "l1=[x for x in range(1000000)]\n",
    "l2=[x for x in range(1000000)]\n",
    "l3=l1+l2\n",
    "len(l3)"
   ]
  },
  {
   "cell_type": "code",
   "execution_count": 163,
   "id": "e70e13ba",
   "metadata": {},
   "outputs": [
    {
     "name": "stdout",
     "output_type": "stream",
     "text": [
      "CPU times: total: 31.2 ms\n",
      "Wall time: 2 ms\n"
     ]
    }
   ],
   "source": [
    "%%time\n",
    "k=np.random.randint(1000000)\n",
    "p=np.random.randint(1000000)\n",
    "z=k+p"
   ]
  },
  {
   "cell_type": "code",
   "execution_count": null,
   "id": "005754a1",
   "metadata": {},
   "outputs": [],
   "source": []
  },
  {
   "cell_type": "markdown",
   "id": "e51d8be2",
   "metadata": {},
   "source": [
    "## PanDaS"
   ]
  },
  {
   "cell_type": "code",
   "execution_count": 164,
   "id": "770a97f7",
   "metadata": {},
   "outputs": [],
   "source": [
    "# PanDaS - Panel, Dataframe, Series"
   ]
  },
  {
   "cell_type": "code",
   "execution_count": null,
   "id": "8306c3ee",
   "metadata": {},
   "outputs": [],
   "source": [
    "! pip install pandas"
   ]
  },
  {
   "cell_type": "code",
   "execution_count": 165,
   "id": "b22a1cac",
   "metadata": {},
   "outputs": [],
   "source": [
    "import pandas as pd"
   ]
  },
  {
   "cell_type": "code",
   "execution_count": 166,
   "id": "85d53d28",
   "metadata": {
    "collapsed": true
   },
   "outputs": [
    {
     "name": "stdout",
     "output_type": "stream",
     "text": [
      "\n",
      "pandas - a powerful data analysis and manipulation library for Python\n",
      "=====================================================================\n",
      "\n",
      "**pandas** is a Python package providing fast, flexible, and expressive data\n",
      "structures designed to make working with \"relational\" or \"labeled\" data both\n",
      "easy and intuitive. It aims to be the fundamental high-level building block for\n",
      "doing practical, **real world** data analysis in Python. Additionally, it has\n",
      "the broader goal of becoming **the most powerful and flexible open source data\n",
      "analysis / manipulation tool available in any language**. It is already well on\n",
      "its way toward this goal.\n",
      "\n",
      "Main Features\n",
      "-------------\n",
      "Here are just a few of the things that pandas does well:\n",
      "\n",
      "  - Easy handling of missing data in floating point as well as non-floating\n",
      "    point data.\n",
      "  - Size mutability: columns can be inserted and deleted from DataFrame and\n",
      "    higher dimensional objects\n",
      "  - Automatic and explicit data alignment: objects can be explicitly aligned\n",
      "    to a set of labels, or the user can simply ignore the labels and let\n",
      "    `Series`, `DataFrame`, etc. automatically align the data for you in\n",
      "    computations.\n",
      "  - Powerful, flexible group by functionality to perform split-apply-combine\n",
      "    operations on data sets, for both aggregating and transforming data.\n",
      "  - Make it easy to convert ragged, differently-indexed data in other Python\n",
      "    and NumPy data structures into DataFrame objects.\n",
      "  - Intelligent label-based slicing, fancy indexing, and subsetting of large\n",
      "    data sets.\n",
      "  - Intuitive merging and joining data sets.\n",
      "  - Flexible reshaping and pivoting of data sets.\n",
      "  - Hierarchical labeling of axes (possible to have multiple labels per tick).\n",
      "  - Robust IO tools for loading data from flat files (CSV and delimited),\n",
      "    Excel files, databases, and saving/loading data from the ultrafast HDF5\n",
      "    format.\n",
      "  - Time series-specific functionality: date range generation and frequency\n",
      "    conversion, moving window statistics, date shifting and lagging.\n",
      "\n"
     ]
    }
   ],
   "source": [
    "print(pd.__doc__)"
   ]
  },
  {
   "cell_type": "code",
   "execution_count": 167,
   "id": "bcb88dfd",
   "metadata": {
    "collapsed": true
   },
   "outputs": [
    {
     "data": {
      "text/plain": [
       "['BooleanDtype',\n",
       " 'Categorical',\n",
       " 'CategoricalDtype',\n",
       " 'CategoricalIndex',\n",
       " 'DataFrame',\n",
       " 'DateOffset',\n",
       " 'DatetimeIndex',\n",
       " 'DatetimeTZDtype',\n",
       " 'ExcelFile',\n",
       " 'ExcelWriter',\n",
       " 'Flags',\n",
       " 'Float32Dtype',\n",
       " 'Float64Dtype',\n",
       " 'Float64Index',\n",
       " 'Grouper',\n",
       " 'HDFStore',\n",
       " 'Index',\n",
       " 'IndexSlice',\n",
       " 'Int16Dtype',\n",
       " 'Int32Dtype',\n",
       " 'Int64Dtype',\n",
       " 'Int64Index',\n",
       " 'Int8Dtype',\n",
       " 'Interval',\n",
       " 'IntervalDtype',\n",
       " 'IntervalIndex',\n",
       " 'MultiIndex',\n",
       " 'NA',\n",
       " 'NaT',\n",
       " 'NamedAgg',\n",
       " 'Period',\n",
       " 'PeriodDtype',\n",
       " 'PeriodIndex',\n",
       " 'RangeIndex',\n",
       " 'Series',\n",
       " 'SparseDtype',\n",
       " 'StringDtype',\n",
       " 'Timedelta',\n",
       " 'TimedeltaIndex',\n",
       " 'Timestamp',\n",
       " 'UInt16Dtype',\n",
       " 'UInt32Dtype',\n",
       " 'UInt64Dtype',\n",
       " 'UInt64Index',\n",
       " 'UInt8Dtype',\n",
       " '__all__',\n",
       " '__builtins__',\n",
       " '__cached__',\n",
       " '__deprecated_num_index_names',\n",
       " '__dir__',\n",
       " '__doc__',\n",
       " '__docformat__',\n",
       " '__file__',\n",
       " '__getattr__',\n",
       " '__git_version__',\n",
       " '__loader__',\n",
       " '__name__',\n",
       " '__package__',\n",
       " '__path__',\n",
       " '__spec__',\n",
       " '__version__',\n",
       " '_config',\n",
       " '_is_numpy_dev',\n",
       " '_libs',\n",
       " '_testing',\n",
       " '_typing',\n",
       " '_version',\n",
       " 'api',\n",
       " 'array',\n",
       " 'arrays',\n",
       " 'bdate_range',\n",
       " 'compat',\n",
       " 'concat',\n",
       " 'core',\n",
       " 'crosstab',\n",
       " 'cut',\n",
       " 'date_range',\n",
       " 'describe_option',\n",
       " 'errors',\n",
       " 'eval',\n",
       " 'factorize',\n",
       " 'get_dummies',\n",
       " 'get_option',\n",
       " 'infer_freq',\n",
       " 'interval_range',\n",
       " 'io',\n",
       " 'isna',\n",
       " 'isnull',\n",
       " 'json_normalize',\n",
       " 'lreshape',\n",
       " 'melt',\n",
       " 'merge',\n",
       " 'merge_asof',\n",
       " 'merge_ordered',\n",
       " 'notna',\n",
       " 'notnull',\n",
       " 'offsets',\n",
       " 'option_context',\n",
       " 'options',\n",
       " 'pandas',\n",
       " 'period_range',\n",
       " 'pivot',\n",
       " 'pivot_table',\n",
       " 'plotting',\n",
       " 'qcut',\n",
       " 'read_clipboard',\n",
       " 'read_csv',\n",
       " 'read_excel',\n",
       " 'read_feather',\n",
       " 'read_fwf',\n",
       " 'read_gbq',\n",
       " 'read_hdf',\n",
       " 'read_html',\n",
       " 'read_json',\n",
       " 'read_orc',\n",
       " 'read_parquet',\n",
       " 'read_pickle',\n",
       " 'read_sas',\n",
       " 'read_spss',\n",
       " 'read_sql',\n",
       " 'read_sql_query',\n",
       " 'read_sql_table',\n",
       " 'read_stata',\n",
       " 'read_table',\n",
       " 'read_xml',\n",
       " 'reset_option',\n",
       " 'set_eng_float_format',\n",
       " 'set_option',\n",
       " 'show_versions',\n",
       " 'test',\n",
       " 'testing',\n",
       " 'timedelta_range',\n",
       " 'to_datetime',\n",
       " 'to_numeric',\n",
       " 'to_pickle',\n",
       " 'to_timedelta',\n",
       " 'tseries',\n",
       " 'unique',\n",
       " 'util',\n",
       " 'value_counts',\n",
       " 'wide_to_long']"
      ]
     },
     "execution_count": 167,
     "metadata": {},
     "output_type": "execute_result"
    }
   ],
   "source": [
    "dir(pd)"
   ]
  },
  {
   "cell_type": "code",
   "execution_count": 168,
   "id": "8888ce6d",
   "metadata": {},
   "outputs": [],
   "source": [
    "# used to manage data, analyse data\n",
    "# use numpy as backend\n",
    "# Series=1D\n",
    "# Dataframe=2D\n",
    "# Panel=3D\n",
    "\n",
    "# pre-process, clean, manipulation, visualization, analysis"
   ]
  },
  {
   "cell_type": "code",
   "execution_count": 170,
   "id": "a4e5586f",
   "metadata": {},
   "outputs": [
    {
     "data": {
      "text/plain": [
       "0    100\n",
       "1    200\n",
       "2    300\n",
       "3    400\n",
       "4    500\n",
       "dtype: int64"
      ]
     },
     "execution_count": 170,
     "metadata": {},
     "output_type": "execute_result"
    }
   ],
   "source": [
    "# Series\n",
    "s=pd.Series([100, 200, 300, 400, 500])\n",
    "s"
   ]
  },
  {
   "cell_type": "code",
   "execution_count": 171,
   "id": "207ee22e",
   "metadata": {},
   "outputs": [
    {
     "data": {
      "text/plain": [
       "pandas.core.series.Series"
      ]
     },
     "execution_count": 171,
     "metadata": {},
     "output_type": "execute_result"
    }
   ],
   "source": [
    "type(s)"
   ]
  },
  {
   "cell_type": "code",
   "execution_count": 172,
   "id": "ef2a8368",
   "metadata": {},
   "outputs": [
    {
     "data": {
      "text/plain": [
       "(5,)"
      ]
     },
     "execution_count": 172,
     "metadata": {},
     "output_type": "execute_result"
    }
   ],
   "source": [
    "s.shape"
   ]
  },
  {
   "cell_type": "code",
   "execution_count": 173,
   "id": "6da71a93",
   "metadata": {},
   "outputs": [
    {
     "data": {
      "text/html": [
       "<div>\n",
       "<style scoped>\n",
       "    .dataframe tbody tr th:only-of-type {\n",
       "        vertical-align: middle;\n",
       "    }\n",
       "\n",
       "    .dataframe tbody tr th {\n",
       "        vertical-align: top;\n",
       "    }\n",
       "\n",
       "    .dataframe thead th {\n",
       "        text-align: right;\n",
       "    }\n",
       "</style>\n",
       "<table border=\"1\" class=\"dataframe\">\n",
       "  <thead>\n",
       "    <tr style=\"text-align: right;\">\n",
       "      <th></th>\n",
       "      <th>col1</th>\n",
       "      <th>col2</th>\n",
       "    </tr>\n",
       "  </thead>\n",
       "  <tbody>\n",
       "    <tr>\n",
       "      <th>0</th>\n",
       "      <td>1</td>\n",
       "      <td>10</td>\n",
       "    </tr>\n",
       "    <tr>\n",
       "      <th>1</th>\n",
       "      <td>2</td>\n",
       "      <td>20</td>\n",
       "    </tr>\n",
       "    <tr>\n",
       "      <th>2</th>\n",
       "      <td>3</td>\n",
       "      <td>30</td>\n",
       "    </tr>\n",
       "    <tr>\n",
       "      <th>3</th>\n",
       "      <td>4</td>\n",
       "      <td>40</td>\n",
       "    </tr>\n",
       "    <tr>\n",
       "      <th>4</th>\n",
       "      <td>5</td>\n",
       "      <td>50</td>\n",
       "    </tr>\n",
       "  </tbody>\n",
       "</table>\n",
       "</div>"
      ],
      "text/plain": [
       "   col1  col2\n",
       "0     1    10\n",
       "1     2    20\n",
       "2     3    30\n",
       "3     4    40\n",
       "4     5    50"
      ]
     },
     "execution_count": 173,
     "metadata": {},
     "output_type": "execute_result"
    }
   ],
   "source": [
    "# Dataframe - a collection of Series\n",
    "d1={'col1':[1,2,3,4,5], 'col2':[10,20,30,40,50]}\n",
    "df=pd.DataFrame(d1)\n",
    "df"
   ]
  },
  {
   "cell_type": "code",
   "execution_count": 175,
   "id": "4fb30022",
   "metadata": {},
   "outputs": [
    {
     "data": {
      "text/plain": [
       "0    10\n",
       "1    20\n",
       "2    30\n",
       "3    40\n",
       "4    50\n",
       "Name: col2, dtype: int64"
      ]
     },
     "execution_count": 175,
     "metadata": {},
     "output_type": "execute_result"
    }
   ],
   "source": [
    "df['col2']"
   ]
  },
  {
   "cell_type": "code",
   "execution_count": 176,
   "id": "ebe42b02",
   "metadata": {},
   "outputs": [
    {
     "data": {
      "text/plain": [
       "pandas.core.frame.DataFrame"
      ]
     },
     "execution_count": 176,
     "metadata": {},
     "output_type": "execute_result"
    }
   ],
   "source": [
    "type(df)"
   ]
  },
  {
   "cell_type": "code",
   "execution_count": 177,
   "id": "8be5dc2e",
   "metadata": {},
   "outputs": [
    {
     "data": {
      "text/plain": [
       "pandas.core.series.Series"
      ]
     },
     "execution_count": 177,
     "metadata": {},
     "output_type": "execute_result"
    }
   ],
   "source": [
    "type(df['col2'])"
   ]
  },
  {
   "cell_type": "code",
   "execution_count": 178,
   "id": "9ee6c76b",
   "metadata": {},
   "outputs": [],
   "source": [
    "d1={'col1':[1,2,3,4,5], 'col2':[10,20,30,40,50]}\n",
    "d2={'col3':[100,200,300,400,500], 'col4':[15, 25, 35, 45, 55]}\n",
    "df1=pd.DataFrame(d1)\n",
    "df2=pd.DataFrame(d2)"
   ]
  },
  {
   "cell_type": "code",
   "execution_count": 181,
   "id": "8b3bb2bb",
   "metadata": {},
   "outputs": [
    {
     "data": {
      "text/html": [
       "<div>\n",
       "<style scoped>\n",
       "    .dataframe tbody tr th:only-of-type {\n",
       "        vertical-align: middle;\n",
       "    }\n",
       "\n",
       "    .dataframe tbody tr th {\n",
       "        vertical-align: top;\n",
       "    }\n",
       "\n",
       "    .dataframe thead th {\n",
       "        text-align: right;\n",
       "    }\n",
       "</style>\n",
       "<table border=\"1\" class=\"dataframe\">\n",
       "  <thead>\n",
       "    <tr style=\"text-align: right;\">\n",
       "      <th></th>\n",
       "      <th>col1</th>\n",
       "      <th>col2</th>\n",
       "      <th>col3</th>\n",
       "      <th>col4</th>\n",
       "    </tr>\n",
       "  </thead>\n",
       "  <tbody>\n",
       "    <tr>\n",
       "      <th>0</th>\n",
       "      <td>NaN</td>\n",
       "      <td>NaN</td>\n",
       "      <td>NaN</td>\n",
       "      <td>NaN</td>\n",
       "    </tr>\n",
       "    <tr>\n",
       "      <th>1</th>\n",
       "      <td>NaN</td>\n",
       "      <td>NaN</td>\n",
       "      <td>NaN</td>\n",
       "      <td>NaN</td>\n",
       "    </tr>\n",
       "    <tr>\n",
       "      <th>2</th>\n",
       "      <td>NaN</td>\n",
       "      <td>NaN</td>\n",
       "      <td>NaN</td>\n",
       "      <td>NaN</td>\n",
       "    </tr>\n",
       "    <tr>\n",
       "      <th>3</th>\n",
       "      <td>NaN</td>\n",
       "      <td>NaN</td>\n",
       "      <td>NaN</td>\n",
       "      <td>NaN</td>\n",
       "    </tr>\n",
       "    <tr>\n",
       "      <th>4</th>\n",
       "      <td>NaN</td>\n",
       "      <td>NaN</td>\n",
       "      <td>NaN</td>\n",
       "      <td>NaN</td>\n",
       "    </tr>\n",
       "  </tbody>\n",
       "</table>\n",
       "</div>"
      ],
      "text/plain": [
       "   col1  col2  col3  col4\n",
       "0   NaN   NaN   NaN   NaN\n",
       "1   NaN   NaN   NaN   NaN\n",
       "2   NaN   NaN   NaN   NaN\n",
       "3   NaN   NaN   NaN   NaN\n",
       "4   NaN   NaN   NaN   NaN"
      ]
     },
     "execution_count": 181,
     "metadata": {},
     "output_type": "execute_result"
    }
   ],
   "source": [
    "df3=df1+df2\n",
    "df3"
   ]
  },
  {
   "cell_type": "code",
   "execution_count": 183,
   "id": "9085efbe",
   "metadata": {},
   "outputs": [
    {
     "data": {
      "text/html": [
       "<div>\n",
       "<style scoped>\n",
       "    .dataframe tbody tr th:only-of-type {\n",
       "        vertical-align: middle;\n",
       "    }\n",
       "\n",
       "    .dataframe tbody tr th {\n",
       "        vertical-align: top;\n",
       "    }\n",
       "\n",
       "    .dataframe thead th {\n",
       "        text-align: right;\n",
       "    }\n",
       "</style>\n",
       "<table border=\"1\" class=\"dataframe\">\n",
       "  <thead>\n",
       "    <tr style=\"text-align: right;\">\n",
       "      <th></th>\n",
       "      <th>col1</th>\n",
       "      <th>col2</th>\n",
       "      <th>col3</th>\n",
       "      <th>col4</th>\n",
       "    </tr>\n",
       "  </thead>\n",
       "  <tbody>\n",
       "    <tr>\n",
       "      <th>0</th>\n",
       "      <td>1</td>\n",
       "      <td>10</td>\n",
       "      <td>100</td>\n",
       "      <td>15</td>\n",
       "    </tr>\n",
       "    <tr>\n",
       "      <th>1</th>\n",
       "      <td>2</td>\n",
       "      <td>20</td>\n",
       "      <td>200</td>\n",
       "      <td>25</td>\n",
       "    </tr>\n",
       "    <tr>\n",
       "      <th>2</th>\n",
       "      <td>3</td>\n",
       "      <td>30</td>\n",
       "      <td>300</td>\n",
       "      <td>35</td>\n",
       "    </tr>\n",
       "    <tr>\n",
       "      <th>3</th>\n",
       "      <td>4</td>\n",
       "      <td>40</td>\n",
       "      <td>400</td>\n",
       "      <td>45</td>\n",
       "    </tr>\n",
       "    <tr>\n",
       "      <th>4</th>\n",
       "      <td>5</td>\n",
       "      <td>50</td>\n",
       "      <td>500</td>\n",
       "      <td>55</td>\n",
       "    </tr>\n",
       "  </tbody>\n",
       "</table>\n",
       "</div>"
      ],
      "text/plain": [
       "   col1  col2  col3  col4\n",
       "0     1    10   100    15\n",
       "1     2    20   200    25\n",
       "2     3    30   300    35\n",
       "3     4    40   400    45\n",
       "4     5    50   500    55"
      ]
     },
     "execution_count": 183,
     "metadata": {},
     "output_type": "execute_result"
    }
   ],
   "source": [
    "df3=pd.concat([df1, df2], axis=1)\n",
    "df3"
   ]
  },
  {
   "cell_type": "code",
   "execution_count": 184,
   "id": "96f03f05",
   "metadata": {},
   "outputs": [],
   "source": [
    "d1={'col1':[1,2,3,4,5], 'col2':[10,20,30,40,50]}\n",
    "d2={'col1':[100,200,300,400,500], 'col2':[15, 25, 35, 45, 55]}\n",
    "df1=pd.DataFrame(d1)\n",
    "df2=pd.DataFrame(d2)"
   ]
  },
  {
   "cell_type": "code",
   "execution_count": 185,
   "id": "cc105649",
   "metadata": {},
   "outputs": [],
   "source": [
    "df3=pd.concat([df1, df2], axis=0)"
   ]
  },
  {
   "cell_type": "code",
   "execution_count": 186,
   "id": "ccc35925",
   "metadata": {},
   "outputs": [
    {
     "data": {
      "text/html": [
       "<div>\n",
       "<style scoped>\n",
       "    .dataframe tbody tr th:only-of-type {\n",
       "        vertical-align: middle;\n",
       "    }\n",
       "\n",
       "    .dataframe tbody tr th {\n",
       "        vertical-align: top;\n",
       "    }\n",
       "\n",
       "    .dataframe thead th {\n",
       "        text-align: right;\n",
       "    }\n",
       "</style>\n",
       "<table border=\"1\" class=\"dataframe\">\n",
       "  <thead>\n",
       "    <tr style=\"text-align: right;\">\n",
       "      <th></th>\n",
       "      <th>col1</th>\n",
       "      <th>col2</th>\n",
       "    </tr>\n",
       "  </thead>\n",
       "  <tbody>\n",
       "    <tr>\n",
       "      <th>0</th>\n",
       "      <td>1</td>\n",
       "      <td>10</td>\n",
       "    </tr>\n",
       "    <tr>\n",
       "      <th>1</th>\n",
       "      <td>2</td>\n",
       "      <td>20</td>\n",
       "    </tr>\n",
       "    <tr>\n",
       "      <th>2</th>\n",
       "      <td>3</td>\n",
       "      <td>30</td>\n",
       "    </tr>\n",
       "    <tr>\n",
       "      <th>3</th>\n",
       "      <td>4</td>\n",
       "      <td>40</td>\n",
       "    </tr>\n",
       "    <tr>\n",
       "      <th>4</th>\n",
       "      <td>5</td>\n",
       "      <td>50</td>\n",
       "    </tr>\n",
       "    <tr>\n",
       "      <th>0</th>\n",
       "      <td>100</td>\n",
       "      <td>15</td>\n",
       "    </tr>\n",
       "    <tr>\n",
       "      <th>1</th>\n",
       "      <td>200</td>\n",
       "      <td>25</td>\n",
       "    </tr>\n",
       "    <tr>\n",
       "      <th>2</th>\n",
       "      <td>300</td>\n",
       "      <td>35</td>\n",
       "    </tr>\n",
       "    <tr>\n",
       "      <th>3</th>\n",
       "      <td>400</td>\n",
       "      <td>45</td>\n",
       "    </tr>\n",
       "    <tr>\n",
       "      <th>4</th>\n",
       "      <td>500</td>\n",
       "      <td>55</td>\n",
       "    </tr>\n",
       "  </tbody>\n",
       "</table>\n",
       "</div>"
      ],
      "text/plain": [
       "   col1  col2\n",
       "0     1    10\n",
       "1     2    20\n",
       "2     3    30\n",
       "3     4    40\n",
       "4     5    50\n",
       "0   100    15\n",
       "1   200    25\n",
       "2   300    35\n",
       "3   400    45\n",
       "4   500    55"
      ]
     },
     "execution_count": 186,
     "metadata": {},
     "output_type": "execute_result"
    }
   ],
   "source": [
    "df3"
   ]
  },
  {
   "cell_type": "code",
   "execution_count": 187,
   "id": "711f786b",
   "metadata": {},
   "outputs": [],
   "source": [
    "# Pandas Functionalities"
   ]
  },
  {
   "cell_type": "code",
   "execution_count": 188,
   "id": "4949d5e9",
   "metadata": {},
   "outputs": [
    {
     "data": {
      "text/html": [
       "<div>\n",
       "<style scoped>\n",
       "    .dataframe tbody tr th:only-of-type {\n",
       "        vertical-align: middle;\n",
       "    }\n",
       "\n",
       "    .dataframe tbody tr th {\n",
       "        vertical-align: top;\n",
       "    }\n",
       "\n",
       "    .dataframe thead th {\n",
       "        text-align: right;\n",
       "    }\n",
       "</style>\n",
       "<table border=\"1\" class=\"dataframe\">\n",
       "  <thead>\n",
       "    <tr style=\"text-align: right;\">\n",
       "      <th></th>\n",
       "      <th>Name</th>\n",
       "      <th>Age</th>\n",
       "      <th>Gender</th>\n",
       "      <th>City</th>\n",
       "    </tr>\n",
       "  </thead>\n",
       "  <tbody>\n",
       "    <tr>\n",
       "      <th>0</th>\n",
       "      <td>Prateek</td>\n",
       "      <td>37</td>\n",
       "      <td>male</td>\n",
       "      <td>Meerut</td>\n",
       "    </tr>\n",
       "    <tr>\n",
       "      <th>1</th>\n",
       "      <td>Sarfaraz</td>\n",
       "      <td>21</td>\n",
       "      <td>male</td>\n",
       "      <td>Delhi</td>\n",
       "    </tr>\n",
       "    <tr>\n",
       "      <th>2</th>\n",
       "      <td>Diya</td>\n",
       "      <td>22</td>\n",
       "      <td>female</td>\n",
       "      <td>Bangalore</td>\n",
       "    </tr>\n",
       "    <tr>\n",
       "      <th>3</th>\n",
       "      <td>Neha</td>\n",
       "      <td>21</td>\n",
       "      <td>female</td>\n",
       "      <td>Delhi</td>\n",
       "    </tr>\n",
       "    <tr>\n",
       "      <th>4</th>\n",
       "      <td>Sarthak</td>\n",
       "      <td>22</td>\n",
       "      <td>male</td>\n",
       "      <td>Delhi</td>\n",
       "    </tr>\n",
       "    <tr>\n",
       "      <th>5</th>\n",
       "      <td>Shivansh</td>\n",
       "      <td>22</td>\n",
       "      <td>male</td>\n",
       "      <td>Mumbai</td>\n",
       "    </tr>\n",
       "  </tbody>\n",
       "</table>\n",
       "</div>"
      ],
      "text/plain": [
       "       Name  Age  Gender       City\n",
       "0   Prateek   37    male     Meerut\n",
       "1  Sarfaraz   21    male      Delhi\n",
       "2      Diya   22  female  Bangalore\n",
       "3      Neha   21  female      Delhi\n",
       "4   Sarthak   22    male      Delhi\n",
       "5  Shivansh   22    male     Mumbai"
      ]
     },
     "execution_count": 188,
     "metadata": {},
     "output_type": "execute_result"
    }
   ],
   "source": [
    "df=pd.DataFrame({\n",
    "    'Name': ['Prateek', 'Sarfaraz','Diya','Neha','Sarthak','Shivansh'],\n",
    "    'Age':[37, 21, 22, 21, 22, 22],\n",
    "    'Gender':['male','male','female','female','male','male'],\n",
    "    'City':['Meerut','Delhi','Bangalore','Delhi','Delhi','Mumbai']\n",
    "})\n",
    "df"
   ]
  },
  {
   "cell_type": "code",
   "execution_count": 190,
   "id": "1563663a",
   "metadata": {},
   "outputs": [
    {
     "data": {
      "text/html": [
       "<div>\n",
       "<style scoped>\n",
       "    .dataframe tbody tr th:only-of-type {\n",
       "        vertical-align: middle;\n",
       "    }\n",
       "\n",
       "    .dataframe tbody tr th {\n",
       "        vertical-align: top;\n",
       "    }\n",
       "\n",
       "    .dataframe thead th {\n",
       "        text-align: right;\n",
       "    }\n",
       "</style>\n",
       "<table border=\"1\" class=\"dataframe\">\n",
       "  <thead>\n",
       "    <tr style=\"text-align: right;\">\n",
       "      <th></th>\n",
       "      <th>Name</th>\n",
       "      <th>Age</th>\n",
       "      <th>Gender</th>\n",
       "      <th>City</th>\n",
       "    </tr>\n",
       "  </thead>\n",
       "  <tbody>\n",
       "    <tr>\n",
       "      <th>0</th>\n",
       "      <td>Prateek</td>\n",
       "      <td>37</td>\n",
       "      <td>male</td>\n",
       "      <td>Meerut</td>\n",
       "    </tr>\n",
       "    <tr>\n",
       "      <th>1</th>\n",
       "      <td>Sarfaraz</td>\n",
       "      <td>21</td>\n",
       "      <td>male</td>\n",
       "      <td>Delhi</td>\n",
       "    </tr>\n",
       "    <tr>\n",
       "      <th>2</th>\n",
       "      <td>Diya</td>\n",
       "      <td>22</td>\n",
       "      <td>female</td>\n",
       "      <td>Bangalore</td>\n",
       "    </tr>\n",
       "  </tbody>\n",
       "</table>\n",
       "</div>"
      ],
      "text/plain": [
       "       Name  Age  Gender       City\n",
       "0   Prateek   37    male     Meerut\n",
       "1  Sarfaraz   21    male      Delhi\n",
       "2      Diya   22  female  Bangalore"
      ]
     },
     "execution_count": 190,
     "metadata": {},
     "output_type": "execute_result"
    }
   ],
   "source": [
    "df.head(3)"
   ]
  },
  {
   "cell_type": "code",
   "execution_count": 193,
   "id": "da70cfb1",
   "metadata": {},
   "outputs": [
    {
     "data": {
      "text/html": [
       "<div>\n",
       "<style scoped>\n",
       "    .dataframe tbody tr th:only-of-type {\n",
       "        vertical-align: middle;\n",
       "    }\n",
       "\n",
       "    .dataframe tbody tr th {\n",
       "        vertical-align: top;\n",
       "    }\n",
       "\n",
       "    .dataframe thead th {\n",
       "        text-align: right;\n",
       "    }\n",
       "</style>\n",
       "<table border=\"1\" class=\"dataframe\">\n",
       "  <thead>\n",
       "    <tr style=\"text-align: right;\">\n",
       "      <th></th>\n",
       "      <th>Name</th>\n",
       "      <th>Age</th>\n",
       "      <th>Gender</th>\n",
       "      <th>City</th>\n",
       "    </tr>\n",
       "  </thead>\n",
       "  <tbody>\n",
       "    <tr>\n",
       "      <th>4</th>\n",
       "      <td>Sarthak</td>\n",
       "      <td>22</td>\n",
       "      <td>male</td>\n",
       "      <td>Delhi</td>\n",
       "    </tr>\n",
       "    <tr>\n",
       "      <th>5</th>\n",
       "      <td>Shivansh</td>\n",
       "      <td>22</td>\n",
       "      <td>male</td>\n",
       "      <td>Mumbai</td>\n",
       "    </tr>\n",
       "  </tbody>\n",
       "</table>\n",
       "</div>"
      ],
      "text/plain": [
       "       Name  Age Gender    City\n",
       "4   Sarthak   22   male   Delhi\n",
       "5  Shivansh   22   male  Mumbai"
      ]
     },
     "execution_count": 193,
     "metadata": {},
     "output_type": "execute_result"
    }
   ],
   "source": [
    "df.tail(2)"
   ]
  },
  {
   "cell_type": "code",
   "execution_count": 194,
   "id": "0d53639c",
   "metadata": {},
   "outputs": [
    {
     "data": {
      "text/html": [
       "<div>\n",
       "<style scoped>\n",
       "    .dataframe tbody tr th:only-of-type {\n",
       "        vertical-align: middle;\n",
       "    }\n",
       "\n",
       "    .dataframe tbody tr th {\n",
       "        vertical-align: top;\n",
       "    }\n",
       "\n",
       "    .dataframe thead th {\n",
       "        text-align: right;\n",
       "    }\n",
       "</style>\n",
       "<table border=\"1\" class=\"dataframe\">\n",
       "  <thead>\n",
       "    <tr style=\"text-align: right;\">\n",
       "      <th></th>\n",
       "      <th>Name</th>\n",
       "      <th>Age</th>\n",
       "    </tr>\n",
       "  </thead>\n",
       "  <tbody>\n",
       "    <tr>\n",
       "      <th>0</th>\n",
       "      <td>Prateek</td>\n",
       "      <td>37</td>\n",
       "    </tr>\n",
       "    <tr>\n",
       "      <th>1</th>\n",
       "      <td>Sarfaraz</td>\n",
       "      <td>21</td>\n",
       "    </tr>\n",
       "    <tr>\n",
       "      <th>2</th>\n",
       "      <td>Diya</td>\n",
       "      <td>22</td>\n",
       "    </tr>\n",
       "    <tr>\n",
       "      <th>3</th>\n",
       "      <td>Neha</td>\n",
       "      <td>21</td>\n",
       "    </tr>\n",
       "    <tr>\n",
       "      <th>4</th>\n",
       "      <td>Sarthak</td>\n",
       "      <td>22</td>\n",
       "    </tr>\n",
       "    <tr>\n",
       "      <th>5</th>\n",
       "      <td>Shivansh</td>\n",
       "      <td>22</td>\n",
       "    </tr>\n",
       "  </tbody>\n",
       "</table>\n",
       "</div>"
      ],
      "text/plain": [
       "       Name  Age\n",
       "0   Prateek   37\n",
       "1  Sarfaraz   21\n",
       "2      Diya   22\n",
       "3      Neha   21\n",
       "4   Sarthak   22\n",
       "5  Shivansh   22"
      ]
     },
     "execution_count": 194,
     "metadata": {},
     "output_type": "execute_result"
    }
   ],
   "source": [
    "# subsetting by column\n",
    "df[['Name', 'Age']]"
   ]
  },
  {
   "cell_type": "code",
   "execution_count": 195,
   "id": "1e33319b",
   "metadata": {},
   "outputs": [
    {
     "data": {
      "text/html": [
       "<div>\n",
       "<style scoped>\n",
       "    .dataframe tbody tr th:only-of-type {\n",
       "        vertical-align: middle;\n",
       "    }\n",
       "\n",
       "    .dataframe tbody tr th {\n",
       "        vertical-align: top;\n",
       "    }\n",
       "\n",
       "    .dataframe thead th {\n",
       "        text-align: right;\n",
       "    }\n",
       "</style>\n",
       "<table border=\"1\" class=\"dataframe\">\n",
       "  <thead>\n",
       "    <tr style=\"text-align: right;\">\n",
       "      <th></th>\n",
       "      <th>Name</th>\n",
       "      <th>Age</th>\n",
       "      <th>Gender</th>\n",
       "      <th>City</th>\n",
       "    </tr>\n",
       "  </thead>\n",
       "  <tbody>\n",
       "    <tr>\n",
       "      <th>0</th>\n",
       "      <td>Prateek</td>\n",
       "      <td>37</td>\n",
       "      <td>male</td>\n",
       "      <td>Meerut</td>\n",
       "    </tr>\n",
       "    <tr>\n",
       "      <th>2</th>\n",
       "      <td>Diya</td>\n",
       "      <td>22</td>\n",
       "      <td>female</td>\n",
       "      <td>Bangalore</td>\n",
       "    </tr>\n",
       "    <tr>\n",
       "      <th>4</th>\n",
       "      <td>Sarthak</td>\n",
       "      <td>22</td>\n",
       "      <td>male</td>\n",
       "      <td>Delhi</td>\n",
       "    </tr>\n",
       "    <tr>\n",
       "      <th>5</th>\n",
       "      <td>Shivansh</td>\n",
       "      <td>22</td>\n",
       "      <td>male</td>\n",
       "      <td>Mumbai</td>\n",
       "    </tr>\n",
       "  </tbody>\n",
       "</table>\n",
       "</div>"
      ],
      "text/plain": [
       "       Name  Age  Gender       City\n",
       "0   Prateek   37    male     Meerut\n",
       "2      Diya   22  female  Bangalore\n",
       "4   Sarthak   22    male      Delhi\n",
       "5  Shivansh   22    male     Mumbai"
      ]
     },
     "execution_count": 195,
     "metadata": {},
     "output_type": "execute_result"
    }
   ],
   "source": [
    "# filtering\n",
    "df[df['Age']>21]"
   ]
  },
  {
   "cell_type": "code",
   "execution_count": 196,
   "id": "7b666e1d",
   "metadata": {},
   "outputs": [
    {
     "data": {
      "text/html": [
       "<div>\n",
       "<style scoped>\n",
       "    .dataframe tbody tr th:only-of-type {\n",
       "        vertical-align: middle;\n",
       "    }\n",
       "\n",
       "    .dataframe tbody tr th {\n",
       "        vertical-align: top;\n",
       "    }\n",
       "\n",
       "    .dataframe thead th {\n",
       "        text-align: right;\n",
       "    }\n",
       "</style>\n",
       "<table border=\"1\" class=\"dataframe\">\n",
       "  <thead>\n",
       "    <tr style=\"text-align: right;\">\n",
       "      <th></th>\n",
       "      <th>Name</th>\n",
       "      <th>Age</th>\n",
       "      <th>Gender</th>\n",
       "      <th>City</th>\n",
       "    </tr>\n",
       "  </thead>\n",
       "  <tbody>\n",
       "    <tr>\n",
       "      <th>1</th>\n",
       "      <td>Sarfaraz</td>\n",
       "      <td>21</td>\n",
       "      <td>male</td>\n",
       "      <td>Delhi</td>\n",
       "    </tr>\n",
       "    <tr>\n",
       "      <th>3</th>\n",
       "      <td>Neha</td>\n",
       "      <td>21</td>\n",
       "      <td>female</td>\n",
       "      <td>Delhi</td>\n",
       "    </tr>\n",
       "    <tr>\n",
       "      <th>4</th>\n",
       "      <td>Sarthak</td>\n",
       "      <td>22</td>\n",
       "      <td>male</td>\n",
       "      <td>Delhi</td>\n",
       "    </tr>\n",
       "  </tbody>\n",
       "</table>\n",
       "</div>"
      ],
      "text/plain": [
       "       Name  Age  Gender   City\n",
       "1  Sarfaraz   21    male  Delhi\n",
       "3      Neha   21  female  Delhi\n",
       "4   Sarthak   22    male  Delhi"
      ]
     },
     "execution_count": 196,
     "metadata": {},
     "output_type": "execute_result"
    }
   ],
   "source": [
    "df[df['City']=='Delhi']"
   ]
  },
  {
   "cell_type": "code",
   "execution_count": 198,
   "id": "f7690fc2",
   "metadata": {},
   "outputs": [
    {
     "data": {
      "text/html": [
       "<div>\n",
       "<style scoped>\n",
       "    .dataframe tbody tr th:only-of-type {\n",
       "        vertical-align: middle;\n",
       "    }\n",
       "\n",
       "    .dataframe tbody tr th {\n",
       "        vertical-align: top;\n",
       "    }\n",
       "\n",
       "    .dataframe thead th {\n",
       "        text-align: right;\n",
       "    }\n",
       "</style>\n",
       "<table border=\"1\" class=\"dataframe\">\n",
       "  <thead>\n",
       "    <tr style=\"text-align: right;\">\n",
       "      <th></th>\n",
       "      <th>Name</th>\n",
       "      <th>Age</th>\n",
       "      <th>Gender</th>\n",
       "      <th>City</th>\n",
       "    </tr>\n",
       "  </thead>\n",
       "  <tbody>\n",
       "    <tr>\n",
       "      <th>2</th>\n",
       "      <td>Diya</td>\n",
       "      <td>22</td>\n",
       "      <td>female</td>\n",
       "      <td>Bangalore</td>\n",
       "    </tr>\n",
       "    <tr>\n",
       "      <th>3</th>\n",
       "      <td>Neha</td>\n",
       "      <td>21</td>\n",
       "      <td>female</td>\n",
       "      <td>Delhi</td>\n",
       "    </tr>\n",
       "  </tbody>\n",
       "</table>\n",
       "</div>"
      ],
      "text/plain": [
       "   Name  Age  Gender       City\n",
       "2  Diya   22  female  Bangalore\n",
       "3  Neha   21  female      Delhi"
      ]
     },
     "execution_count": 198,
     "metadata": {},
     "output_type": "execute_result"
    }
   ],
   "source": [
    "df[df['Gender']=='female']"
   ]
  },
  {
   "cell_type": "code",
   "execution_count": 199,
   "id": "9cd73320",
   "metadata": {},
   "outputs": [
    {
     "data": {
      "text/html": [
       "<div>\n",
       "<style scoped>\n",
       "    .dataframe tbody tr th:only-of-type {\n",
       "        vertical-align: middle;\n",
       "    }\n",
       "\n",
       "    .dataframe tbody tr th {\n",
       "        vertical-align: top;\n",
       "    }\n",
       "\n",
       "    .dataframe thead th {\n",
       "        text-align: right;\n",
       "    }\n",
       "</style>\n",
       "<table border=\"1\" class=\"dataframe\">\n",
       "  <thead>\n",
       "    <tr style=\"text-align: right;\">\n",
       "      <th></th>\n",
       "      <th>Name</th>\n",
       "      <th>City</th>\n",
       "    </tr>\n",
       "  </thead>\n",
       "  <tbody>\n",
       "    <tr>\n",
       "      <th>2</th>\n",
       "      <td>Diya</td>\n",
       "      <td>Bangalore</td>\n",
       "    </tr>\n",
       "    <tr>\n",
       "      <th>3</th>\n",
       "      <td>Neha</td>\n",
       "      <td>Delhi</td>\n",
       "    </tr>\n",
       "  </tbody>\n",
       "</table>\n",
       "</div>"
      ],
      "text/plain": [
       "   Name       City\n",
       "2  Diya  Bangalore\n",
       "3  Neha      Delhi"
      ]
     },
     "execution_count": 199,
     "metadata": {},
     "output_type": "execute_result"
    }
   ],
   "source": [
    "df[df['Gender']=='female'][['Name','City']]"
   ]
  },
  {
   "cell_type": "code",
   "execution_count": 200,
   "id": "725daf65",
   "metadata": {},
   "outputs": [
    {
     "data": {
      "text/html": [
       "<div>\n",
       "<style scoped>\n",
       "    .dataframe tbody tr th:only-of-type {\n",
       "        vertical-align: middle;\n",
       "    }\n",
       "\n",
       "    .dataframe tbody tr th {\n",
       "        vertical-align: top;\n",
       "    }\n",
       "\n",
       "    .dataframe thead th {\n",
       "        text-align: right;\n",
       "    }\n",
       "</style>\n",
       "<table border=\"1\" class=\"dataframe\">\n",
       "  <thead>\n",
       "    <tr style=\"text-align: right;\">\n",
       "      <th></th>\n",
       "      <th>Name</th>\n",
       "      <th>Age</th>\n",
       "      <th>Gender</th>\n",
       "      <th>City</th>\n",
       "      <th>Department</th>\n",
       "    </tr>\n",
       "  </thead>\n",
       "  <tbody>\n",
       "    <tr>\n",
       "      <th>0</th>\n",
       "      <td>Prateek</td>\n",
       "      <td>37</td>\n",
       "      <td>male</td>\n",
       "      <td>Meerut</td>\n",
       "      <td>DTA</td>\n",
       "    </tr>\n",
       "    <tr>\n",
       "      <th>1</th>\n",
       "      <td>Sarfaraz</td>\n",
       "      <td>21</td>\n",
       "      <td>male</td>\n",
       "      <td>Delhi</td>\n",
       "      <td>ITES</td>\n",
       "    </tr>\n",
       "    <tr>\n",
       "      <th>2</th>\n",
       "      <td>Diya</td>\n",
       "      <td>22</td>\n",
       "      <td>female</td>\n",
       "      <td>Bangalore</td>\n",
       "      <td>IT</td>\n",
       "    </tr>\n",
       "    <tr>\n",
       "      <th>3</th>\n",
       "      <td>Neha</td>\n",
       "      <td>21</td>\n",
       "      <td>female</td>\n",
       "      <td>Delhi</td>\n",
       "      <td>HR</td>\n",
       "    </tr>\n",
       "    <tr>\n",
       "      <th>4</th>\n",
       "      <td>Sarthak</td>\n",
       "      <td>22</td>\n",
       "      <td>male</td>\n",
       "      <td>Delhi</td>\n",
       "      <td>Advisory</td>\n",
       "    </tr>\n",
       "    <tr>\n",
       "      <th>5</th>\n",
       "      <td>Shivansh</td>\n",
       "      <td>22</td>\n",
       "      <td>male</td>\n",
       "      <td>Mumbai</td>\n",
       "      <td>ITES</td>\n",
       "    </tr>\n",
       "  </tbody>\n",
       "</table>\n",
       "</div>"
      ],
      "text/plain": [
       "       Name  Age  Gender       City Department\n",
       "0   Prateek   37    male     Meerut        DTA\n",
       "1  Sarfaraz   21    male      Delhi       ITES\n",
       "2      Diya   22  female  Bangalore         IT\n",
       "3      Neha   21  female      Delhi         HR\n",
       "4   Sarthak   22    male      Delhi   Advisory\n",
       "5  Shivansh   22    male     Mumbai       ITES"
      ]
     },
     "execution_count": 200,
     "metadata": {},
     "output_type": "execute_result"
    }
   ],
   "source": [
    "# append by column\n",
    "df['Department']=['DTA','ITES','IT','HR','Advisory','ITES']\n",
    "df"
   ]
  },
  {
   "cell_type": "code",
   "execution_count": 201,
   "id": "19663bae",
   "metadata": {},
   "outputs": [
    {
     "data": {
      "text/html": [
       "<div>\n",
       "<style scoped>\n",
       "    .dataframe tbody tr th:only-of-type {\n",
       "        vertical-align: middle;\n",
       "    }\n",
       "\n",
       "    .dataframe tbody tr th {\n",
       "        vertical-align: top;\n",
       "    }\n",
       "\n",
       "    .dataframe thead th {\n",
       "        text-align: right;\n",
       "    }\n",
       "</style>\n",
       "<table border=\"1\" class=\"dataframe\">\n",
       "  <thead>\n",
       "    <tr style=\"text-align: right;\">\n",
       "      <th></th>\n",
       "      <th>Name</th>\n",
       "      <th>Age</th>\n",
       "      <th>Gender</th>\n",
       "      <th>City</th>\n",
       "      <th>Department</th>\n",
       "      <th>Salary</th>\n",
       "    </tr>\n",
       "  </thead>\n",
       "  <tbody>\n",
       "    <tr>\n",
       "      <th>0</th>\n",
       "      <td>Prateek</td>\n",
       "      <td>37</td>\n",
       "      <td>male</td>\n",
       "      <td>Meerut</td>\n",
       "      <td>DTA</td>\n",
       "      <td>43000</td>\n",
       "    </tr>\n",
       "    <tr>\n",
       "      <th>1</th>\n",
       "      <td>Sarfaraz</td>\n",
       "      <td>21</td>\n",
       "      <td>male</td>\n",
       "      <td>Delhi</td>\n",
       "      <td>ITES</td>\n",
       "      <td>34000</td>\n",
       "    </tr>\n",
       "    <tr>\n",
       "      <th>2</th>\n",
       "      <td>Diya</td>\n",
       "      <td>22</td>\n",
       "      <td>female</td>\n",
       "      <td>Bangalore</td>\n",
       "      <td>IT</td>\n",
       "      <td>29000</td>\n",
       "    </tr>\n",
       "    <tr>\n",
       "      <th>3</th>\n",
       "      <td>Neha</td>\n",
       "      <td>21</td>\n",
       "      <td>female</td>\n",
       "      <td>Delhi</td>\n",
       "      <td>HR</td>\n",
       "      <td>33000</td>\n",
       "    </tr>\n",
       "    <tr>\n",
       "      <th>4</th>\n",
       "      <td>Sarthak</td>\n",
       "      <td>22</td>\n",
       "      <td>male</td>\n",
       "      <td>Delhi</td>\n",
       "      <td>Advisory</td>\n",
       "      <td>28000</td>\n",
       "    </tr>\n",
       "    <tr>\n",
       "      <th>5</th>\n",
       "      <td>Shivansh</td>\n",
       "      <td>22</td>\n",
       "      <td>male</td>\n",
       "      <td>Mumbai</td>\n",
       "      <td>ITES</td>\n",
       "      <td>41000</td>\n",
       "    </tr>\n",
       "  </tbody>\n",
       "</table>\n",
       "</div>"
      ],
      "text/plain": [
       "       Name  Age  Gender       City Department  Salary\n",
       "0   Prateek   37    male     Meerut        DTA   43000\n",
       "1  Sarfaraz   21    male      Delhi       ITES   34000\n",
       "2      Diya   22  female  Bangalore         IT   29000\n",
       "3      Neha   21  female      Delhi         HR   33000\n",
       "4   Sarthak   22    male      Delhi   Advisory   28000\n",
       "5  Shivansh   22    male     Mumbai       ITES   41000"
      ]
     },
     "execution_count": 201,
     "metadata": {},
     "output_type": "execute_result"
    }
   ],
   "source": [
    "salary=[43000, 34000, 29000, 33000, 28000, 41000]\n",
    "df['Salary']=salary\n",
    "df"
   ]
  },
  {
   "cell_type": "code",
   "execution_count": 202,
   "id": "9829ed35",
   "metadata": {
    "collapsed": true
   },
   "outputs": [
    {
     "data": {
      "text/html": [
       "<div>\n",
       "<style scoped>\n",
       "    .dataframe tbody tr th:only-of-type {\n",
       "        vertical-align: middle;\n",
       "    }\n",
       "\n",
       "    .dataframe tbody tr th {\n",
       "        vertical-align: top;\n",
       "    }\n",
       "\n",
       "    .dataframe thead th {\n",
       "        text-align: right;\n",
       "    }\n",
       "</style>\n",
       "<table border=\"1\" class=\"dataframe\">\n",
       "  <thead>\n",
       "    <tr style=\"text-align: right;\">\n",
       "      <th></th>\n",
       "      <th>Name</th>\n",
       "      <th>Age</th>\n",
       "      <th>Gender</th>\n",
       "      <th>City</th>\n",
       "      <th>Department</th>\n",
       "      <th>Salary</th>\n",
       "    </tr>\n",
       "  </thead>\n",
       "  <tbody>\n",
       "    <tr>\n",
       "      <th>0</th>\n",
       "      <td>Prateek</td>\n",
       "      <td>37</td>\n",
       "      <td>male</td>\n",
       "      <td>Meerut</td>\n",
       "      <td>DTA</td>\n",
       "      <td>43000</td>\n",
       "    </tr>\n",
       "    <tr>\n",
       "      <th>1</th>\n",
       "      <td>Sarfaraz</td>\n",
       "      <td>21</td>\n",
       "      <td>male</td>\n",
       "      <td>Delhi</td>\n",
       "      <td>ITES</td>\n",
       "      <td>34000</td>\n",
       "    </tr>\n",
       "    <tr>\n",
       "      <th>2</th>\n",
       "      <td>Diya</td>\n",
       "      <td>22</td>\n",
       "      <td>female</td>\n",
       "      <td>Bangalore</td>\n",
       "      <td>IT</td>\n",
       "      <td>29000</td>\n",
       "    </tr>\n",
       "    <tr>\n",
       "      <th>3</th>\n",
       "      <td>Neha</td>\n",
       "      <td>21</td>\n",
       "      <td>female</td>\n",
       "      <td>Delhi</td>\n",
       "      <td>HR</td>\n",
       "      <td>33000</td>\n",
       "    </tr>\n",
       "    <tr>\n",
       "      <th>4</th>\n",
       "      <td>Sarthak</td>\n",
       "      <td>22</td>\n",
       "      <td>male</td>\n",
       "      <td>Delhi</td>\n",
       "      <td>Advisory</td>\n",
       "      <td>28000</td>\n",
       "    </tr>\n",
       "    <tr>\n",
       "      <th>5</th>\n",
       "      <td>Shivansh</td>\n",
       "      <td>22</td>\n",
       "      <td>male</td>\n",
       "      <td>Mumbai</td>\n",
       "      <td>ITES</td>\n",
       "      <td>41000</td>\n",
       "    </tr>\n",
       "    <tr>\n",
       "      <th>0</th>\n",
       "      <td>Simant</td>\n",
       "      <td>38</td>\n",
       "      <td>male</td>\n",
       "      <td>Ranchi</td>\n",
       "      <td>DTA</td>\n",
       "      <td>45000</td>\n",
       "    </tr>\n",
       "  </tbody>\n",
       "</table>\n",
       "</div>"
      ],
      "text/plain": [
       "       Name  Age  Gender       City Department  Salary\n",
       "0   Prateek   37    male     Meerut        DTA   43000\n",
       "1  Sarfaraz   21    male      Delhi       ITES   34000\n",
       "2      Diya   22  female  Bangalore         IT   29000\n",
       "3      Neha   21  female      Delhi         HR   33000\n",
       "4   Sarthak   22    male      Delhi   Advisory   28000\n",
       "5  Shivansh   22    male     Mumbai       ITES   41000\n",
       "0    Simant   38    male     Ranchi        DTA   45000"
      ]
     },
     "execution_count": 202,
     "metadata": {},
     "output_type": "execute_result"
    }
   ],
   "source": [
    "# Append records\n",
    "d={'Name':['Simant'], 'Age':[38], 'Gender':['male'], 'City':['Ranchi'], 'Department':['DTA'], 'Salary':[45000]}\n",
    "\n",
    "df=pd.concat([df, pd.DataFrame(d)], axis=0)\n",
    "df"
   ]
  },
  {
   "cell_type": "code",
   "execution_count": 203,
   "id": "de17a588",
   "metadata": {
    "collapsed": true
   },
   "outputs": [
    {
     "data": {
      "text/html": [
       "<div>\n",
       "<style scoped>\n",
       "    .dataframe tbody tr th:only-of-type {\n",
       "        vertical-align: middle;\n",
       "    }\n",
       "\n",
       "    .dataframe tbody tr th {\n",
       "        vertical-align: top;\n",
       "    }\n",
       "\n",
       "    .dataframe thead th {\n",
       "        text-align: right;\n",
       "    }\n",
       "</style>\n",
       "<table border=\"1\" class=\"dataframe\">\n",
       "  <thead>\n",
       "    <tr style=\"text-align: right;\">\n",
       "      <th></th>\n",
       "      <th>index</th>\n",
       "      <th>Name</th>\n",
       "      <th>Age</th>\n",
       "      <th>Gender</th>\n",
       "      <th>City</th>\n",
       "      <th>Department</th>\n",
       "      <th>Salary</th>\n",
       "    </tr>\n",
       "  </thead>\n",
       "  <tbody>\n",
       "    <tr>\n",
       "      <th>0</th>\n",
       "      <td>0</td>\n",
       "      <td>Prateek</td>\n",
       "      <td>37</td>\n",
       "      <td>male</td>\n",
       "      <td>Meerut</td>\n",
       "      <td>DTA</td>\n",
       "      <td>43000</td>\n",
       "    </tr>\n",
       "    <tr>\n",
       "      <th>1</th>\n",
       "      <td>1</td>\n",
       "      <td>Sarfaraz</td>\n",
       "      <td>21</td>\n",
       "      <td>male</td>\n",
       "      <td>Delhi</td>\n",
       "      <td>ITES</td>\n",
       "      <td>34000</td>\n",
       "    </tr>\n",
       "    <tr>\n",
       "      <th>2</th>\n",
       "      <td>2</td>\n",
       "      <td>Diya</td>\n",
       "      <td>22</td>\n",
       "      <td>female</td>\n",
       "      <td>Bangalore</td>\n",
       "      <td>IT</td>\n",
       "      <td>29000</td>\n",
       "    </tr>\n",
       "    <tr>\n",
       "      <th>3</th>\n",
       "      <td>3</td>\n",
       "      <td>Neha</td>\n",
       "      <td>21</td>\n",
       "      <td>female</td>\n",
       "      <td>Delhi</td>\n",
       "      <td>HR</td>\n",
       "      <td>33000</td>\n",
       "    </tr>\n",
       "    <tr>\n",
       "      <th>4</th>\n",
       "      <td>4</td>\n",
       "      <td>Sarthak</td>\n",
       "      <td>22</td>\n",
       "      <td>male</td>\n",
       "      <td>Delhi</td>\n",
       "      <td>Advisory</td>\n",
       "      <td>28000</td>\n",
       "    </tr>\n",
       "    <tr>\n",
       "      <th>5</th>\n",
       "      <td>5</td>\n",
       "      <td>Shivansh</td>\n",
       "      <td>22</td>\n",
       "      <td>male</td>\n",
       "      <td>Mumbai</td>\n",
       "      <td>ITES</td>\n",
       "      <td>41000</td>\n",
       "    </tr>\n",
       "    <tr>\n",
       "      <th>6</th>\n",
       "      <td>0</td>\n",
       "      <td>Simant</td>\n",
       "      <td>38</td>\n",
       "      <td>male</td>\n",
       "      <td>Ranchi</td>\n",
       "      <td>DTA</td>\n",
       "      <td>45000</td>\n",
       "    </tr>\n",
       "  </tbody>\n",
       "</table>\n",
       "</div>"
      ],
      "text/plain": [
       "   index      Name  Age  Gender       City Department  Salary\n",
       "0      0   Prateek   37    male     Meerut        DTA   43000\n",
       "1      1  Sarfaraz   21    male      Delhi       ITES   34000\n",
       "2      2      Diya   22  female  Bangalore         IT   29000\n",
       "3      3      Neha   21  female      Delhi         HR   33000\n",
       "4      4   Sarthak   22    male      Delhi   Advisory   28000\n",
       "5      5  Shivansh   22    male     Mumbai       ITES   41000\n",
       "6      0    Simant   38    male     Ranchi        DTA   45000"
      ]
     },
     "execution_count": 203,
     "metadata": {},
     "output_type": "execute_result"
    }
   ],
   "source": [
    "df=df.reset_index()\n",
    "df"
   ]
  },
  {
   "cell_type": "code",
   "execution_count": 204,
   "id": "aab59c94",
   "metadata": {},
   "outputs": [
    {
     "data": {
      "text/html": [
       "<div>\n",
       "<style scoped>\n",
       "    .dataframe tbody tr th:only-of-type {\n",
       "        vertical-align: middle;\n",
       "    }\n",
       "\n",
       "    .dataframe tbody tr th {\n",
       "        vertical-align: top;\n",
       "    }\n",
       "\n",
       "    .dataframe thead th {\n",
       "        text-align: right;\n",
       "    }\n",
       "</style>\n",
       "<table border=\"1\" class=\"dataframe\">\n",
       "  <thead>\n",
       "    <tr style=\"text-align: right;\">\n",
       "      <th></th>\n",
       "      <th>Name</th>\n",
       "      <th>Age</th>\n",
       "      <th>Gender</th>\n",
       "      <th>City</th>\n",
       "      <th>Department</th>\n",
       "      <th>Salary</th>\n",
       "    </tr>\n",
       "  </thead>\n",
       "  <tbody>\n",
       "    <tr>\n",
       "      <th>0</th>\n",
       "      <td>Prateek</td>\n",
       "      <td>37</td>\n",
       "      <td>male</td>\n",
       "      <td>Meerut</td>\n",
       "      <td>DTA</td>\n",
       "      <td>43000</td>\n",
       "    </tr>\n",
       "    <tr>\n",
       "      <th>1</th>\n",
       "      <td>Sarfaraz</td>\n",
       "      <td>21</td>\n",
       "      <td>male</td>\n",
       "      <td>Delhi</td>\n",
       "      <td>ITES</td>\n",
       "      <td>34000</td>\n",
       "    </tr>\n",
       "    <tr>\n",
       "      <th>2</th>\n",
       "      <td>Diya</td>\n",
       "      <td>22</td>\n",
       "      <td>female</td>\n",
       "      <td>Bangalore</td>\n",
       "      <td>IT</td>\n",
       "      <td>29000</td>\n",
       "    </tr>\n",
       "    <tr>\n",
       "      <th>3</th>\n",
       "      <td>Neha</td>\n",
       "      <td>21</td>\n",
       "      <td>female</td>\n",
       "      <td>Delhi</td>\n",
       "      <td>HR</td>\n",
       "      <td>33000</td>\n",
       "    </tr>\n",
       "    <tr>\n",
       "      <th>4</th>\n",
       "      <td>Sarthak</td>\n",
       "      <td>22</td>\n",
       "      <td>male</td>\n",
       "      <td>Delhi</td>\n",
       "      <td>Advisory</td>\n",
       "      <td>28000</td>\n",
       "    </tr>\n",
       "    <tr>\n",
       "      <th>5</th>\n",
       "      <td>Shivansh</td>\n",
       "      <td>22</td>\n",
       "      <td>male</td>\n",
       "      <td>Mumbai</td>\n",
       "      <td>ITES</td>\n",
       "      <td>41000</td>\n",
       "    </tr>\n",
       "    <tr>\n",
       "      <th>6</th>\n",
       "      <td>Simant</td>\n",
       "      <td>38</td>\n",
       "      <td>male</td>\n",
       "      <td>Ranchi</td>\n",
       "      <td>DTA</td>\n",
       "      <td>45000</td>\n",
       "    </tr>\n",
       "  </tbody>\n",
       "</table>\n",
       "</div>"
      ],
      "text/plain": [
       "       Name  Age  Gender       City Department  Salary\n",
       "0   Prateek   37    male     Meerut        DTA   43000\n",
       "1  Sarfaraz   21    male      Delhi       ITES   34000\n",
       "2      Diya   22  female  Bangalore         IT   29000\n",
       "3      Neha   21  female      Delhi         HR   33000\n",
       "4   Sarthak   22    male      Delhi   Advisory   28000\n",
       "5  Shivansh   22    male     Mumbai       ITES   41000\n",
       "6    Simant   38    male     Ranchi        DTA   45000"
      ]
     },
     "execution_count": 204,
     "metadata": {},
     "output_type": "execute_result"
    }
   ],
   "source": [
    "df=df.drop(['index'], axis=1)\n",
    "df"
   ]
  },
  {
   "cell_type": "code",
   "execution_count": 206,
   "id": "37b4ae95",
   "metadata": {},
   "outputs": [
    {
     "data": {
      "text/html": [
       "<div>\n",
       "<style scoped>\n",
       "    .dataframe tbody tr th:only-of-type {\n",
       "        vertical-align: middle;\n",
       "    }\n",
       "\n",
       "    .dataframe tbody tr th {\n",
       "        vertical-align: top;\n",
       "    }\n",
       "\n",
       "    .dataframe thead th {\n",
       "        text-align: right;\n",
       "    }\n",
       "</style>\n",
       "<table border=\"1\" class=\"dataframe\">\n",
       "  <thead>\n",
       "    <tr style=\"text-align: right;\">\n",
       "      <th></th>\n",
       "      <th>Name</th>\n",
       "      <th>Age</th>\n",
       "      <th>Gender</th>\n",
       "      <th>City</th>\n",
       "      <th>Department</th>\n",
       "      <th>Salary</th>\n",
       "    </tr>\n",
       "  </thead>\n",
       "  <tbody>\n",
       "    <tr>\n",
       "      <th>0</th>\n",
       "      <td>Prateek</td>\n",
       "      <td>37</td>\n",
       "      <td>male</td>\n",
       "      <td>Meerut</td>\n",
       "      <td>DTA</td>\n",
       "      <td>43000</td>\n",
       "    </tr>\n",
       "    <tr>\n",
       "      <th>1</th>\n",
       "      <td>Sarfaraz</td>\n",
       "      <td>21</td>\n",
       "      <td>male</td>\n",
       "      <td>Delhi</td>\n",
       "      <td>ITES</td>\n",
       "      <td>34000</td>\n",
       "    </tr>\n",
       "    <tr>\n",
       "      <th>2</th>\n",
       "      <td>Diya</td>\n",
       "      <td>22</td>\n",
       "      <td>female</td>\n",
       "      <td>Bangalore</td>\n",
       "      <td>IT</td>\n",
       "      <td>29000</td>\n",
       "    </tr>\n",
       "    <tr>\n",
       "      <th>3</th>\n",
       "      <td>Neha</td>\n",
       "      <td>21</td>\n",
       "      <td>female</td>\n",
       "      <td>Delhi</td>\n",
       "      <td>HR</td>\n",
       "      <td>33000</td>\n",
       "    </tr>\n",
       "    <tr>\n",
       "      <th>6</th>\n",
       "      <td>Simant</td>\n",
       "      <td>38</td>\n",
       "      <td>male</td>\n",
       "      <td>Ranchi</td>\n",
       "      <td>DTA</td>\n",
       "      <td>45000</td>\n",
       "    </tr>\n",
       "  </tbody>\n",
       "</table>\n",
       "</div>"
      ],
      "text/plain": [
       "       Name  Age  Gender       City Department  Salary\n",
       "0   Prateek   37    male     Meerut        DTA   43000\n",
       "1  Sarfaraz   21    male      Delhi       ITES   34000\n",
       "2      Diya   22  female  Bangalore         IT   29000\n",
       "3      Neha   21  female      Delhi         HR   33000\n",
       "6    Simant   38    male     Ranchi        DTA   45000"
      ]
     },
     "execution_count": 206,
     "metadata": {},
     "output_type": "execute_result"
    }
   ],
   "source": [
    "# drop a record\n",
    "df.drop([4,5], axis=0, inplace=True)\n",
    "df"
   ]
  },
  {
   "cell_type": "code",
   "execution_count": 207,
   "id": "16438b81",
   "metadata": {},
   "outputs": [
    {
     "data": {
      "text/html": [
       "<div>\n",
       "<style scoped>\n",
       "    .dataframe tbody tr th:only-of-type {\n",
       "        vertical-align: middle;\n",
       "    }\n",
       "\n",
       "    .dataframe tbody tr th {\n",
       "        vertical-align: top;\n",
       "    }\n",
       "\n",
       "    .dataframe thead th {\n",
       "        text-align: right;\n",
       "    }\n",
       "</style>\n",
       "<table border=\"1\" class=\"dataframe\">\n",
       "  <thead>\n",
       "    <tr style=\"text-align: right;\">\n",
       "      <th></th>\n",
       "      <th>Name</th>\n",
       "      <th>Age</th>\n",
       "      <th>Gender</th>\n",
       "      <th>City</th>\n",
       "      <th>Department</th>\n",
       "      <th>Salary</th>\n",
       "    </tr>\n",
       "  </thead>\n",
       "  <tbody>\n",
       "    <tr>\n",
       "      <th>0</th>\n",
       "      <td>Prateek</td>\n",
       "      <td>37</td>\n",
       "      <td>male</td>\n",
       "      <td>Meerut</td>\n",
       "      <td>DTA</td>\n",
       "      <td>43000</td>\n",
       "    </tr>\n",
       "    <tr>\n",
       "      <th>1</th>\n",
       "      <td>Sarfaraz</td>\n",
       "      <td>21</td>\n",
       "      <td>male</td>\n",
       "      <td>Delhi</td>\n",
       "      <td>ITES</td>\n",
       "      <td>34000</td>\n",
       "    </tr>\n",
       "    <tr>\n",
       "      <th>2</th>\n",
       "      <td>Diya</td>\n",
       "      <td>22</td>\n",
       "      <td>female</td>\n",
       "      <td>Bangalore</td>\n",
       "      <td>IT</td>\n",
       "      <td>29000</td>\n",
       "    </tr>\n",
       "    <tr>\n",
       "      <th>3</th>\n",
       "      <td>Neha</td>\n",
       "      <td>21</td>\n",
       "      <td>female</td>\n",
       "      <td>Delhi</td>\n",
       "      <td>HR</td>\n",
       "      <td>33000</td>\n",
       "    </tr>\n",
       "    <tr>\n",
       "      <th>4</th>\n",
       "      <td>Simant</td>\n",
       "      <td>38</td>\n",
       "      <td>male</td>\n",
       "      <td>Ranchi</td>\n",
       "      <td>DTA</td>\n",
       "      <td>45000</td>\n",
       "    </tr>\n",
       "  </tbody>\n",
       "</table>\n",
       "</div>"
      ],
      "text/plain": [
       "       Name  Age  Gender       City Department  Salary\n",
       "0   Prateek   37    male     Meerut        DTA   43000\n",
       "1  Sarfaraz   21    male      Delhi       ITES   34000\n",
       "2      Diya   22  female  Bangalore         IT   29000\n",
       "3      Neha   21  female      Delhi         HR   33000\n",
       "4    Simant   38    male     Ranchi        DTA   45000"
      ]
     },
     "execution_count": 207,
     "metadata": {},
     "output_type": "execute_result"
    }
   ],
   "source": [
    "df.reset_index(inplace=True)\n",
    "df.drop(['index'], axis=1, inplace=True)\n",
    "df"
   ]
  },
  {
   "cell_type": "code",
   "execution_count": 208,
   "id": "7df2aa06",
   "metadata": {},
   "outputs": [
    {
     "name": "stdout",
     "output_type": "stream",
     "text": [
      "<class 'pandas.core.frame.DataFrame'>\n",
      "RangeIndex: 5 entries, 0 to 4\n",
      "Data columns (total 6 columns):\n",
      " #   Column      Non-Null Count  Dtype \n",
      "---  ------      --------------  ----- \n",
      " 0   Name        5 non-null      object\n",
      " 1   Age         5 non-null      int64 \n",
      " 2   Gender      5 non-null      object\n",
      " 3   City        5 non-null      object\n",
      " 4   Department  5 non-null      object\n",
      " 5   Salary      5 non-null      int64 \n",
      "dtypes: int64(2), object(4)\n",
      "memory usage: 368.0+ bytes\n"
     ]
    }
   ],
   "source": [
    "df.info()"
   ]
  },
  {
   "cell_type": "code",
   "execution_count": 209,
   "id": "80d0e28a",
   "metadata": {},
   "outputs": [
    {
     "data": {
      "text/html": [
       "<div>\n",
       "<style scoped>\n",
       "    .dataframe tbody tr th:only-of-type {\n",
       "        vertical-align: middle;\n",
       "    }\n",
       "\n",
       "    .dataframe tbody tr th {\n",
       "        vertical-align: top;\n",
       "    }\n",
       "\n",
       "    .dataframe thead th {\n",
       "        text-align: right;\n",
       "    }\n",
       "</style>\n",
       "<table border=\"1\" class=\"dataframe\">\n",
       "  <thead>\n",
       "    <tr style=\"text-align: right;\">\n",
       "      <th></th>\n",
       "      <th>Age</th>\n",
       "      <th>Salary</th>\n",
       "    </tr>\n",
       "  </thead>\n",
       "  <tbody>\n",
       "    <tr>\n",
       "      <th>count</th>\n",
       "      <td>5.000000</td>\n",
       "      <td>5.000000</td>\n",
       "    </tr>\n",
       "    <tr>\n",
       "      <th>mean</th>\n",
       "      <td>27.800000</td>\n",
       "      <td>36800.000000</td>\n",
       "    </tr>\n",
       "    <tr>\n",
       "      <th>std</th>\n",
       "      <td>8.871302</td>\n",
       "      <td>6870.225615</td>\n",
       "    </tr>\n",
       "    <tr>\n",
       "      <th>min</th>\n",
       "      <td>21.000000</td>\n",
       "      <td>29000.000000</td>\n",
       "    </tr>\n",
       "    <tr>\n",
       "      <th>25%</th>\n",
       "      <td>21.000000</td>\n",
       "      <td>33000.000000</td>\n",
       "    </tr>\n",
       "    <tr>\n",
       "      <th>50%</th>\n",
       "      <td>22.000000</td>\n",
       "      <td>34000.000000</td>\n",
       "    </tr>\n",
       "    <tr>\n",
       "      <th>75%</th>\n",
       "      <td>37.000000</td>\n",
       "      <td>43000.000000</td>\n",
       "    </tr>\n",
       "    <tr>\n",
       "      <th>max</th>\n",
       "      <td>38.000000</td>\n",
       "      <td>45000.000000</td>\n",
       "    </tr>\n",
       "  </tbody>\n",
       "</table>\n",
       "</div>"
      ],
      "text/plain": [
       "             Age        Salary\n",
       "count   5.000000      5.000000\n",
       "mean   27.800000  36800.000000\n",
       "std     8.871302   6870.225615\n",
       "min    21.000000  29000.000000\n",
       "25%    21.000000  33000.000000\n",
       "50%    22.000000  34000.000000\n",
       "75%    37.000000  43000.000000\n",
       "max    38.000000  45000.000000"
      ]
     },
     "execution_count": 209,
     "metadata": {},
     "output_type": "execute_result"
    }
   ],
   "source": [
    "df.describe()"
   ]
  },
  {
   "cell_type": "code",
   "execution_count": 210,
   "id": "6d0394ab",
   "metadata": {},
   "outputs": [
    {
     "data": {
      "text/plain": [
       "Index(['Name', 'Age', 'Gender', 'City', 'Department', 'Salary'], dtype='object')"
      ]
     },
     "execution_count": 210,
     "metadata": {},
     "output_type": "execute_result"
    }
   ],
   "source": [
    "df.columns"
   ]
  },
  {
   "cell_type": "code",
   "execution_count": 211,
   "id": "14f4736c",
   "metadata": {},
   "outputs": [
    {
     "data": {
      "text/plain": [
       "array(['male', 'female'], dtype=object)"
      ]
     },
     "execution_count": 211,
     "metadata": {},
     "output_type": "execute_result"
    }
   ],
   "source": [
    "df['Gender'].unique()"
   ]
  },
  {
   "cell_type": "code",
   "execution_count": 212,
   "id": "03510c8d",
   "metadata": {},
   "outputs": [
    {
     "data": {
      "text/plain": [
       "array(['Meerut', 'Delhi', 'Bangalore', 'Ranchi'], dtype=object)"
      ]
     },
     "execution_count": 212,
     "metadata": {},
     "output_type": "execute_result"
    }
   ],
   "source": [
    "df['City'].unique()"
   ]
  },
  {
   "cell_type": "code",
   "execution_count": 213,
   "id": "a803f8fc",
   "metadata": {},
   "outputs": [
    {
     "data": {
      "text/plain": [
       "DTA     2\n",
       "ITES    1\n",
       "IT      1\n",
       "HR      1\n",
       "Name: Department, dtype: int64"
      ]
     },
     "execution_count": 213,
     "metadata": {},
     "output_type": "execute_result"
    }
   ],
   "source": [
    "df['Department'].value_counts()"
   ]
  },
  {
   "cell_type": "code",
   "execution_count": 214,
   "id": "47b0828e",
   "metadata": {},
   "outputs": [
    {
     "data": {
      "text/plain": [
       "male      3\n",
       "female    2\n",
       "Name: Gender, dtype: int64"
      ]
     },
     "execution_count": 214,
     "metadata": {},
     "output_type": "execute_result"
    }
   ],
   "source": [
    "df['Gender'].value_counts()"
   ]
  },
  {
   "cell_type": "code",
   "execution_count": 215,
   "id": "d4bd5b7b",
   "metadata": {},
   "outputs": [
    {
     "data": {
      "text/html": [
       "<div>\n",
       "<style scoped>\n",
       "    .dataframe tbody tr th:only-of-type {\n",
       "        vertical-align: middle;\n",
       "    }\n",
       "\n",
       "    .dataframe tbody tr th {\n",
       "        vertical-align: top;\n",
       "    }\n",
       "\n",
       "    .dataframe thead th {\n",
       "        text-align: right;\n",
       "    }\n",
       "</style>\n",
       "<table border=\"1\" class=\"dataframe\">\n",
       "  <thead>\n",
       "    <tr style=\"text-align: right;\">\n",
       "      <th></th>\n",
       "      <th>Name</th>\n",
       "      <th>Age</th>\n",
       "      <th>Gender</th>\n",
       "      <th>City</th>\n",
       "      <th>Department</th>\n",
       "      <th>Salary</th>\n",
       "    </tr>\n",
       "  </thead>\n",
       "  <tbody>\n",
       "    <tr>\n",
       "      <th>0</th>\n",
       "      <td>False</td>\n",
       "      <td>False</td>\n",
       "      <td>False</td>\n",
       "      <td>False</td>\n",
       "      <td>False</td>\n",
       "      <td>False</td>\n",
       "    </tr>\n",
       "    <tr>\n",
       "      <th>1</th>\n",
       "      <td>False</td>\n",
       "      <td>False</td>\n",
       "      <td>False</td>\n",
       "      <td>False</td>\n",
       "      <td>False</td>\n",
       "      <td>False</td>\n",
       "    </tr>\n",
       "    <tr>\n",
       "      <th>2</th>\n",
       "      <td>False</td>\n",
       "      <td>False</td>\n",
       "      <td>False</td>\n",
       "      <td>False</td>\n",
       "      <td>False</td>\n",
       "      <td>False</td>\n",
       "    </tr>\n",
       "    <tr>\n",
       "      <th>3</th>\n",
       "      <td>False</td>\n",
       "      <td>False</td>\n",
       "      <td>False</td>\n",
       "      <td>False</td>\n",
       "      <td>False</td>\n",
       "      <td>False</td>\n",
       "    </tr>\n",
       "    <tr>\n",
       "      <th>4</th>\n",
       "      <td>False</td>\n",
       "      <td>False</td>\n",
       "      <td>False</td>\n",
       "      <td>False</td>\n",
       "      <td>False</td>\n",
       "      <td>False</td>\n",
       "    </tr>\n",
       "  </tbody>\n",
       "</table>\n",
       "</div>"
      ],
      "text/plain": [
       "    Name    Age  Gender   City  Department  Salary\n",
       "0  False  False   False  False       False   False\n",
       "1  False  False   False  False       False   False\n",
       "2  False  False   False  False       False   False\n",
       "3  False  False   False  False       False   False\n",
       "4  False  False   False  False       False   False"
      ]
     },
     "execution_count": 215,
     "metadata": {},
     "output_type": "execute_result"
    }
   ],
   "source": [
    "df.isna()"
   ]
  },
  {
   "cell_type": "code",
   "execution_count": 216,
   "id": "da9ebaf9",
   "metadata": {},
   "outputs": [
    {
     "data": {
      "text/plain": [
       "Name          0\n",
       "Age           0\n",
       "Gender        0\n",
       "City          0\n",
       "Department    0\n",
       "Salary        0\n",
       "dtype: int64"
      ]
     },
     "execution_count": 216,
     "metadata": {},
     "output_type": "execute_result"
    }
   ],
   "source": [
    "df.isna().sum()"
   ]
  },
  {
   "cell_type": "code",
   "execution_count": 219,
   "id": "1592c388",
   "metadata": {},
   "outputs": [
    {
     "data": {
      "text/plain": [
       "Name               Diya\n",
       "Age                  22\n",
       "Gender           female\n",
       "City          Bangalore\n",
       "Department           IT\n",
       "Salary            29000\n",
       "Name: 2, dtype: object"
      ]
     },
     "execution_count": 219,
     "metadata": {},
     "output_type": "execute_result"
    }
   ],
   "source": [
    "# locate data by index - loc(index)\n",
    "df.loc[2]"
   ]
  },
  {
   "cell_type": "code",
   "execution_count": 220,
   "id": "ddc22ce8",
   "metadata": {},
   "outputs": [
    {
     "data": {
      "text/plain": [
       "Name            Neha\n",
       "Age               21\n",
       "Gender        female\n",
       "City           Delhi\n",
       "Department        HR\n",
       "Salary         33000\n",
       "Name: 3, dtype: object"
      ]
     },
     "execution_count": 220,
     "metadata": {},
     "output_type": "execute_result"
    }
   ],
   "source": [
    "# iloc[index_int]\n",
    "df.iloc[3]"
   ]
  },
  {
   "cell_type": "code",
   "execution_count": 221,
   "id": "32039617",
   "metadata": {},
   "outputs": [
    {
     "data": {
      "text/html": [
       "<div>\n",
       "<style scoped>\n",
       "    .dataframe tbody tr th:only-of-type {\n",
       "        vertical-align: middle;\n",
       "    }\n",
       "\n",
       "    .dataframe tbody tr th {\n",
       "        vertical-align: top;\n",
       "    }\n",
       "\n",
       "    .dataframe thead th {\n",
       "        text-align: right;\n",
       "    }\n",
       "</style>\n",
       "<table border=\"1\" class=\"dataframe\">\n",
       "  <thead>\n",
       "    <tr style=\"text-align: right;\">\n",
       "      <th></th>\n",
       "      <th>Name</th>\n",
       "      <th>Age</th>\n",
       "      <th>Gender</th>\n",
       "      <th>City</th>\n",
       "      <th>Salary</th>\n",
       "    </tr>\n",
       "    <tr>\n",
       "      <th>Department</th>\n",
       "      <th></th>\n",
       "      <th></th>\n",
       "      <th></th>\n",
       "      <th></th>\n",
       "      <th></th>\n",
       "    </tr>\n",
       "  </thead>\n",
       "  <tbody>\n",
       "    <tr>\n",
       "      <th>DTA</th>\n",
       "      <td>Prateek</td>\n",
       "      <td>37</td>\n",
       "      <td>male</td>\n",
       "      <td>Meerut</td>\n",
       "      <td>43000</td>\n",
       "    </tr>\n",
       "    <tr>\n",
       "      <th>ITES</th>\n",
       "      <td>Sarfaraz</td>\n",
       "      <td>21</td>\n",
       "      <td>male</td>\n",
       "      <td>Delhi</td>\n",
       "      <td>34000</td>\n",
       "    </tr>\n",
       "    <tr>\n",
       "      <th>IT</th>\n",
       "      <td>Diya</td>\n",
       "      <td>22</td>\n",
       "      <td>female</td>\n",
       "      <td>Bangalore</td>\n",
       "      <td>29000</td>\n",
       "    </tr>\n",
       "    <tr>\n",
       "      <th>HR</th>\n",
       "      <td>Neha</td>\n",
       "      <td>21</td>\n",
       "      <td>female</td>\n",
       "      <td>Delhi</td>\n",
       "      <td>33000</td>\n",
       "    </tr>\n",
       "    <tr>\n",
       "      <th>DTA</th>\n",
       "      <td>Simant</td>\n",
       "      <td>38</td>\n",
       "      <td>male</td>\n",
       "      <td>Ranchi</td>\n",
       "      <td>45000</td>\n",
       "    </tr>\n",
       "  </tbody>\n",
       "</table>\n",
       "</div>"
      ],
      "text/plain": [
       "                Name  Age  Gender       City  Salary\n",
       "Department                                          \n",
       "DTA          Prateek   37    male     Meerut   43000\n",
       "ITES        Sarfaraz   21    male      Delhi   34000\n",
       "IT              Diya   22  female  Bangalore   29000\n",
       "HR              Neha   21  female      Delhi   33000\n",
       "DTA           Simant   38    male     Ranchi   45000"
      ]
     },
     "execution_count": 221,
     "metadata": {},
     "output_type": "execute_result"
    }
   ],
   "source": [
    "df=df.set_index('Department')\n",
    "df"
   ]
  },
  {
   "cell_type": "code",
   "execution_count": 222,
   "id": "be4a5a24",
   "metadata": {},
   "outputs": [
    {
     "data": {
      "text/plain": [
       "Name           Diya\n",
       "Age              22\n",
       "Gender       female\n",
       "City      Bangalore\n",
       "Salary        29000\n",
       "Name: IT, dtype: object"
      ]
     },
     "execution_count": 222,
     "metadata": {},
     "output_type": "execute_result"
    }
   ],
   "source": [
    "df.iloc[2]"
   ]
  },
  {
   "cell_type": "code",
   "execution_count": 226,
   "id": "c39ec90d",
   "metadata": {},
   "outputs": [
    {
     "data": {
      "text/plain": [
       "Name           Diya\n",
       "Age              22\n",
       "Gender       female\n",
       "City      Bangalore\n",
       "Salary        29000\n",
       "Name: IT, dtype: object"
      ]
     },
     "execution_count": 226,
     "metadata": {},
     "output_type": "execute_result"
    }
   ],
   "source": [
    "df.loc['IT']"
   ]
  },
  {
   "cell_type": "code",
   "execution_count": 228,
   "id": "6de75b64",
   "metadata": {},
   "outputs": [
    {
     "data": {
      "text/html": [
       "<div>\n",
       "<style scoped>\n",
       "    .dataframe tbody tr th:only-of-type {\n",
       "        vertical-align: middle;\n",
       "    }\n",
       "\n",
       "    .dataframe tbody tr th {\n",
       "        vertical-align: top;\n",
       "    }\n",
       "\n",
       "    .dataframe thead th {\n",
       "        text-align: right;\n",
       "    }\n",
       "</style>\n",
       "<table border=\"1\" class=\"dataframe\">\n",
       "  <thead>\n",
       "    <tr style=\"text-align: right;\">\n",
       "      <th></th>\n",
       "      <th>Department</th>\n",
       "      <th>Name</th>\n",
       "      <th>Age</th>\n",
       "      <th>Gender</th>\n",
       "      <th>City</th>\n",
       "      <th>Salary</th>\n",
       "    </tr>\n",
       "  </thead>\n",
       "  <tbody>\n",
       "    <tr>\n",
       "      <th>0</th>\n",
       "      <td>DTA</td>\n",
       "      <td>Prateek</td>\n",
       "      <td>37</td>\n",
       "      <td>male</td>\n",
       "      <td>Meerut</td>\n",
       "      <td>43000</td>\n",
       "    </tr>\n",
       "    <tr>\n",
       "      <th>1</th>\n",
       "      <td>ITES</td>\n",
       "      <td>Sarfaraz</td>\n",
       "      <td>21</td>\n",
       "      <td>male</td>\n",
       "      <td>Delhi</td>\n",
       "      <td>34000</td>\n",
       "    </tr>\n",
       "    <tr>\n",
       "      <th>2</th>\n",
       "      <td>IT</td>\n",
       "      <td>Diya</td>\n",
       "      <td>22</td>\n",
       "      <td>female</td>\n",
       "      <td>Bangalore</td>\n",
       "      <td>29000</td>\n",
       "    </tr>\n",
       "    <tr>\n",
       "      <th>3</th>\n",
       "      <td>HR</td>\n",
       "      <td>Neha</td>\n",
       "      <td>21</td>\n",
       "      <td>female</td>\n",
       "      <td>Delhi</td>\n",
       "      <td>33000</td>\n",
       "    </tr>\n",
       "    <tr>\n",
       "      <th>4</th>\n",
       "      <td>DTA</td>\n",
       "      <td>Simant</td>\n",
       "      <td>38</td>\n",
       "      <td>male</td>\n",
       "      <td>Ranchi</td>\n",
       "      <td>45000</td>\n",
       "    </tr>\n",
       "  </tbody>\n",
       "</table>\n",
       "</div>"
      ],
      "text/plain": [
       "  Department      Name  Age  Gender       City  Salary\n",
       "0        DTA   Prateek   37    male     Meerut   43000\n",
       "1       ITES  Sarfaraz   21    male      Delhi   34000\n",
       "2         IT      Diya   22  female  Bangalore   29000\n",
       "3         HR      Neha   21  female      Delhi   33000\n",
       "4        DTA    Simant   38    male     Ranchi   45000"
      ]
     },
     "execution_count": 228,
     "metadata": {},
     "output_type": "execute_result"
    }
   ],
   "source": [
    "df.reset_index(inplace=True)\n",
    "df"
   ]
  },
  {
   "cell_type": "code",
   "execution_count": 229,
   "id": "dd9fe283",
   "metadata": {},
   "outputs": [
    {
     "data": {
      "text/html": [
       "<div>\n",
       "<style scoped>\n",
       "    .dataframe tbody tr th:only-of-type {\n",
       "        vertical-align: middle;\n",
       "    }\n",
       "\n",
       "    .dataframe tbody tr th {\n",
       "        vertical-align: top;\n",
       "    }\n",
       "\n",
       "    .dataframe thead th {\n",
       "        text-align: right;\n",
       "    }\n",
       "</style>\n",
       "<table border=\"1\" class=\"dataframe\">\n",
       "  <thead>\n",
       "    <tr style=\"text-align: right;\">\n",
       "      <th></th>\n",
       "      <th>Name</th>\n",
       "      <th>Age</th>\n",
       "      <th>Gender</th>\n",
       "      <th>City</th>\n",
       "      <th>Salary</th>\n",
       "      <th>Department</th>\n",
       "    </tr>\n",
       "  </thead>\n",
       "  <tbody>\n",
       "    <tr>\n",
       "      <th>0</th>\n",
       "      <td>Prateek</td>\n",
       "      <td>37</td>\n",
       "      <td>male</td>\n",
       "      <td>Meerut</td>\n",
       "      <td>43000</td>\n",
       "      <td>DTA</td>\n",
       "    </tr>\n",
       "    <tr>\n",
       "      <th>1</th>\n",
       "      <td>Sarfaraz</td>\n",
       "      <td>21</td>\n",
       "      <td>male</td>\n",
       "      <td>Delhi</td>\n",
       "      <td>34000</td>\n",
       "      <td>ITES</td>\n",
       "    </tr>\n",
       "    <tr>\n",
       "      <th>2</th>\n",
       "      <td>Diya</td>\n",
       "      <td>22</td>\n",
       "      <td>female</td>\n",
       "      <td>Bangalore</td>\n",
       "      <td>29000</td>\n",
       "      <td>IT</td>\n",
       "    </tr>\n",
       "    <tr>\n",
       "      <th>3</th>\n",
       "      <td>Neha</td>\n",
       "      <td>21</td>\n",
       "      <td>female</td>\n",
       "      <td>Delhi</td>\n",
       "      <td>33000</td>\n",
       "      <td>HR</td>\n",
       "    </tr>\n",
       "    <tr>\n",
       "      <th>4</th>\n",
       "      <td>Simant</td>\n",
       "      <td>38</td>\n",
       "      <td>male</td>\n",
       "      <td>Ranchi</td>\n",
       "      <td>45000</td>\n",
       "      <td>DTA</td>\n",
       "    </tr>\n",
       "  </tbody>\n",
       "</table>\n",
       "</div>"
      ],
      "text/plain": [
       "       Name  Age  Gender       City  Salary Department\n",
       "0   Prateek   37    male     Meerut   43000        DTA\n",
       "1  Sarfaraz   21    male      Delhi   34000       ITES\n",
       "2      Diya   22  female  Bangalore   29000         IT\n",
       "3      Neha   21  female      Delhi   33000         HR\n",
       "4    Simant   38    male     Ranchi   45000        DTA"
      ]
     },
     "execution_count": 229,
     "metadata": {},
     "output_type": "execute_result"
    }
   ],
   "source": [
    "cols=['Name','Age','Gender','City','Salary']\n",
    "df=pd.concat([df[cols], df['Department']], axis=1)\n",
    "df"
   ]
  },
  {
   "cell_type": "code",
   "execution_count": 234,
   "id": "3f3a00f7",
   "metadata": {},
   "outputs": [
    {
     "data": {
      "text/html": [
       "<div>\n",
       "<style scoped>\n",
       "    .dataframe tbody tr th:only-of-type {\n",
       "        vertical-align: middle;\n",
       "    }\n",
       "\n",
       "    .dataframe tbody tr th {\n",
       "        vertical-align: top;\n",
       "    }\n",
       "\n",
       "    .dataframe thead th {\n",
       "        text-align: right;\n",
       "    }\n",
       "</style>\n",
       "<table border=\"1\" class=\"dataframe\">\n",
       "  <thead>\n",
       "    <tr style=\"text-align: right;\">\n",
       "      <th></th>\n",
       "      <th>Name</th>\n",
       "      <th>Age</th>\n",
       "      <th>Gender</th>\n",
       "      <th>City</th>\n",
       "      <th>Salary</th>\n",
       "      <th>Department</th>\n",
       "    </tr>\n",
       "  </thead>\n",
       "  <tbody>\n",
       "    <tr>\n",
       "      <th>2</th>\n",
       "      <td>Diya</td>\n",
       "      <td>22</td>\n",
       "      <td>female</td>\n",
       "      <td>Bangalore</td>\n",
       "      <td>29000</td>\n",
       "      <td>IT</td>\n",
       "    </tr>\n",
       "    <tr>\n",
       "      <th>3</th>\n",
       "      <td>Neha</td>\n",
       "      <td>21</td>\n",
       "      <td>female</td>\n",
       "      <td>Delhi</td>\n",
       "      <td>33000</td>\n",
       "      <td>HR</td>\n",
       "    </tr>\n",
       "  </tbody>\n",
       "</table>\n",
       "</div>"
      ],
      "text/plain": [
       "   Name  Age  Gender       City  Salary Department\n",
       "2  Diya   22  female  Bangalore   29000         IT\n",
       "3  Neha   21  female      Delhi   33000         HR"
      ]
     },
     "execution_count": 234,
     "metadata": {},
     "output_type": "execute_result"
    }
   ],
   "source": [
    "# find people with age less than 30 and gender as female\n",
    "df[(df.Age<30) & (df.Gender=='female')]"
   ]
  },
  {
   "cell_type": "markdown",
   "id": "af7fcd69",
   "metadata": {},
   "source": [
    "#### pivot tables"
   ]
  },
  {
   "cell_type": "code",
   "execution_count": 235,
   "id": "45cb4412",
   "metadata": {
    "collapsed": true
   },
   "outputs": [
    {
     "data": {
      "text/html": [
       "<div>\n",
       "<style scoped>\n",
       "    .dataframe tbody tr th:only-of-type {\n",
       "        vertical-align: middle;\n",
       "    }\n",
       "\n",
       "    .dataframe tbody tr th {\n",
       "        vertical-align: top;\n",
       "    }\n",
       "\n",
       "    .dataframe thead th {\n",
       "        text-align: right;\n",
       "    }\n",
       "</style>\n",
       "<table border=\"1\" class=\"dataframe\">\n",
       "  <thead>\n",
       "    <tr style=\"text-align: right;\">\n",
       "      <th></th>\n",
       "      <th>Item</th>\n",
       "      <th>Qty</th>\n",
       "    </tr>\n",
       "  </thead>\n",
       "  <tbody>\n",
       "    <tr>\n",
       "      <th>0</th>\n",
       "      <td>Tea</td>\n",
       "      <td>200</td>\n",
       "    </tr>\n",
       "    <tr>\n",
       "      <th>1</th>\n",
       "      <td>Tea</td>\n",
       "      <td>200</td>\n",
       "    </tr>\n",
       "    <tr>\n",
       "      <th>2</th>\n",
       "      <td>Coffee</td>\n",
       "      <td>320</td>\n",
       "    </tr>\n",
       "    <tr>\n",
       "      <th>3</th>\n",
       "      <td>Coffee</td>\n",
       "      <td>300</td>\n",
       "    </tr>\n",
       "    <tr>\n",
       "      <th>4</th>\n",
       "      <td>Coffee</td>\n",
       "      <td>400</td>\n",
       "    </tr>\n",
       "    <tr>\n",
       "      <th>5</th>\n",
       "      <td>Tea</td>\n",
       "      <td>250</td>\n",
       "    </tr>\n",
       "    <tr>\n",
       "      <th>6</th>\n",
       "      <td>Tea</td>\n",
       "      <td>190</td>\n",
       "    </tr>\n",
       "    <tr>\n",
       "      <th>7</th>\n",
       "      <td>Coffee</td>\n",
       "      <td>170</td>\n",
       "    </tr>\n",
       "    <tr>\n",
       "      <th>8</th>\n",
       "      <td>Tea</td>\n",
       "      <td>210</td>\n",
       "    </tr>\n",
       "    <tr>\n",
       "      <th>9</th>\n",
       "      <td>Coffee</td>\n",
       "      <td>320</td>\n",
       "    </tr>\n",
       "    <tr>\n",
       "      <th>10</th>\n",
       "      <td>Tea</td>\n",
       "      <td>310</td>\n",
       "    </tr>\n",
       "    <tr>\n",
       "      <th>11</th>\n",
       "      <td>Tea</td>\n",
       "      <td>220</td>\n",
       "    </tr>\n",
       "  </tbody>\n",
       "</table>\n",
       "</div>"
      ],
      "text/plain": [
       "      Item  Qty\n",
       "0      Tea  200\n",
       "1      Tea  200\n",
       "2   Coffee  320\n",
       "3   Coffee  300\n",
       "4   Coffee  400\n",
       "5      Tea  250\n",
       "6      Tea  190\n",
       "7   Coffee  170\n",
       "8      Tea  210\n",
       "9   Coffee  320\n",
       "10     Tea  310\n",
       "11     Tea  220"
      ]
     },
     "execution_count": 235,
     "metadata": {},
     "output_type": "execute_result"
    }
   ],
   "source": [
    "data=pd.DataFrame({\n",
    "    'Item':['Tea','Tea','Coffee','Coffee','Coffee', 'Tea', 'Tea', 'Coffee', 'Tea','Coffee', 'Tea','Tea'],\n",
    "    'Qty':[200,200,320,300,400,250,190,170,210,320,310,220]\n",
    "})\n",
    "data"
   ]
  },
  {
   "cell_type": "code",
   "execution_count": 237,
   "id": "08a1215c",
   "metadata": {},
   "outputs": [
    {
     "data": {
      "text/html": [
       "<div>\n",
       "<style scoped>\n",
       "    .dataframe tbody tr th:only-of-type {\n",
       "        vertical-align: middle;\n",
       "    }\n",
       "\n",
       "    .dataframe tbody tr th {\n",
       "        vertical-align: top;\n",
       "    }\n",
       "\n",
       "    .dataframe thead tr th {\n",
       "        text-align: left;\n",
       "    }\n",
       "\n",
       "    .dataframe thead tr:last-of-type th {\n",
       "        text-align: right;\n",
       "    }\n",
       "</style>\n",
       "<table border=\"1\" class=\"dataframe\">\n",
       "  <thead>\n",
       "    <tr>\n",
       "      <th></th>\n",
       "      <th>sum</th>\n",
       "      <th>mean</th>\n",
       "      <th>max</th>\n",
       "      <th>min</th>\n",
       "      <th>count</th>\n",
       "    </tr>\n",
       "    <tr>\n",
       "      <th></th>\n",
       "      <th>Qty</th>\n",
       "      <th>Qty</th>\n",
       "      <th>Qty</th>\n",
       "      <th>Qty</th>\n",
       "      <th>Qty</th>\n",
       "    </tr>\n",
       "    <tr>\n",
       "      <th>Item</th>\n",
       "      <th></th>\n",
       "      <th></th>\n",
       "      <th></th>\n",
       "      <th></th>\n",
       "      <th></th>\n",
       "    </tr>\n",
       "  </thead>\n",
       "  <tbody>\n",
       "    <tr>\n",
       "      <th>Coffee</th>\n",
       "      <td>1510</td>\n",
       "      <td>302.000000</td>\n",
       "      <td>400</td>\n",
       "      <td>170</td>\n",
       "      <td>5</td>\n",
       "    </tr>\n",
       "    <tr>\n",
       "      <th>Tea</th>\n",
       "      <td>1580</td>\n",
       "      <td>225.714286</td>\n",
       "      <td>310</td>\n",
       "      <td>190</td>\n",
       "      <td>7</td>\n",
       "    </tr>\n",
       "  </tbody>\n",
       "</table>\n",
       "</div>"
      ],
      "text/plain": [
       "         sum        mean  max  min count\n",
       "         Qty         Qty  Qty  Qty   Qty\n",
       "Item                                    \n",
       "Coffee  1510  302.000000  400  170     5\n",
       "Tea     1580  225.714286  310  190     7"
      ]
     },
     "execution_count": 237,
     "metadata": {},
     "output_type": "execute_result"
    }
   ],
   "source": [
    "pt=data.pivot_table(index=['Item'],\n",
    "                   values=['Qty'],\n",
    "                   aggfunc=['sum','mean','max','min','count'])\n",
    "pt"
   ]
  },
  {
   "cell_type": "markdown",
   "id": "a9484d02",
   "metadata": {},
   "source": [
    "#### visualization using Pandas"
   ]
  },
  {
   "cell_type": "code",
   "execution_count": 239,
   "id": "f3ca8c59",
   "metadata": {},
   "outputs": [
    {
     "data": {
      "text/plain": [
       "<AxesSubplot:>"
      ]
     },
     "execution_count": 239,
     "metadata": {},
     "output_type": "execute_result"
    },
    {
     "data": {
      "image/png": "[encoded data removed]",
      "text/plain": [
       "<Figure size 432x288 with 1 Axes>"
      ]
     },
     "metadata": {
      "needs_background": "light"
     },
     "output_type": "display_data"
    }
   ],
   "source": [
    "data.plot(kind='bar')"
   ]
  },
  {
   "cell_type": "code",
   "execution_count": 240,
   "id": "c8a06d51",
   "metadata": {},
   "outputs": [
    {
     "data": {
      "text/plain": [
       "<AxesSubplot:xlabel='Item'>"
      ]
     },
     "execution_count": 240,
     "metadata": {},
     "output_type": "execute_result"
    },
    {
     "data": {
      "image/png": "[encoded data removed]",
      "text/plain": [
       "<Figure size 432x288 with 1 Axes>"
      ]
     },
     "metadata": {
      "needs_background": "light"
     },
     "output_type": "display_data"
    }
   ],
   "source": [
    "data.plot(kind='bar', x='Item', y='Qty', color='g')"
   ]
  },
  {
   "cell_type": "code",
   "execution_count": 244,
   "id": "648a81dc",
   "metadata": {},
   "outputs": [
    {
     "data": {
      "text/plain": [
       "<AxesSubplot:xlabel='Item'>"
      ]
     },
     "execution_count": 244,
     "metadata": {},
     "output_type": "execute_result"
    },
    {
     "data": {
      "image/png": "[encoded data removed]",
      "text/plain": [
       "<Figure size 432x288 with 1 Axes>"
      ]
     },
     "metadata": {
      "needs_background": "light"
     },
     "output_type": "display_data"
    }
   ],
   "source": [
    "pt.plot(kind='bar', color=('r','g','b','k','m'))"
   ]
  },
  {
   "cell_type": "code",
   "execution_count": 247,
   "id": "51f75cdb",
   "metadata": {},
   "outputs": [
    {
     "data": {
      "text/plain": [
       "<AxesSubplot:>"
      ]
     },
     "execution_count": 247,
     "metadata": {},
     "output_type": "execute_result"
    },
    {
     "data": {
      "image/png": "[encoded data removed]",
      "text/plain": [
       "<Figure size 432x288 with 1 Axes>"
      ]
     },
     "metadata": {
      "needs_background": "light"
     },
     "output_type": "display_data"
    }
   ],
   "source": [
    "data.plot(kind='barh', color='y')"
   ]
  },
  {
   "cell_type": "code",
   "execution_count": 249,
   "id": "475e0141",
   "metadata": {},
   "outputs": [
    {
     "data": {
      "text/plain": [
       "<AxesSubplot:xlabel='Frequency'>"
      ]
     },
     "execution_count": 249,
     "metadata": {},
     "output_type": "execute_result"
    },
    {
     "data": {
      "image/png": "[encoded data removed]",
      "text/plain": [
       "<Figure size 432x288 with 1 Axes>"
      ]
     },
     "metadata": {
      "needs_background": "light"
     },
     "output_type": "display_data"
    }
   ],
   "source": [
    "data.plot.hist(orientation='horizontal', cumulative=True)"
   ]
  },
  {
   "cell_type": "code",
   "execution_count": 252,
   "id": "b47e4627",
   "metadata": {},
   "outputs": [],
   "source": [
    "import numpy as np\n",
    "np.random.seed(42)\n",
    "a=np.random.rand(50,4)"
   ]
  },
  {
   "cell_type": "code",
   "execution_count": 253,
   "id": "4b800bb5",
   "metadata": {},
   "outputs": [
    {
     "data": {
      "text/html": [
       "<div>\n",
       "<style scoped>\n",
       "    .dataframe tbody tr th:only-of-type {\n",
       "        vertical-align: middle;\n",
       "    }\n",
       "\n",
       "    .dataframe tbody tr th {\n",
       "        vertical-align: top;\n",
       "    }\n",
       "\n",
       "    .dataframe thead th {\n",
       "        text-align: right;\n",
       "    }\n",
       "</style>\n",
       "<table border=\"1\" class=\"dataframe\">\n",
       "  <thead>\n",
       "    <tr style=\"text-align: right;\">\n",
       "      <th></th>\n",
       "      <th>c1</th>\n",
       "      <th>c2</th>\n",
       "      <th>c3</th>\n",
       "      <th>c4</th>\n",
       "    </tr>\n",
       "  </thead>\n",
       "  <tbody>\n",
       "    <tr>\n",
       "      <th>0</th>\n",
       "      <td>0.374540</td>\n",
       "      <td>0.950714</td>\n",
       "      <td>0.731994</td>\n",
       "      <td>0.598658</td>\n",
       "    </tr>\n",
       "    <tr>\n",
       "      <th>1</th>\n",
       "      <td>0.156019</td>\n",
       "      <td>0.155995</td>\n",
       "      <td>0.058084</td>\n",
       "      <td>0.866176</td>\n",
       "    </tr>\n",
       "    <tr>\n",
       "      <th>2</th>\n",
       "      <td>0.601115</td>\n",
       "      <td>0.708073</td>\n",
       "      <td>0.020584</td>\n",
       "      <td>0.969910</td>\n",
       "    </tr>\n",
       "    <tr>\n",
       "      <th>3</th>\n",
       "      <td>0.832443</td>\n",
       "      <td>0.212339</td>\n",
       "      <td>0.181825</td>\n",
       "      <td>0.183405</td>\n",
       "    </tr>\n",
       "    <tr>\n",
       "      <th>4</th>\n",
       "      <td>0.304242</td>\n",
       "      <td>0.524756</td>\n",
       "      <td>0.431945</td>\n",
       "      <td>0.291229</td>\n",
       "    </tr>\n",
       "  </tbody>\n",
       "</table>\n",
       "</div>"
      ],
      "text/plain": [
       "         c1        c2        c3        c4\n",
       "0  0.374540  0.950714  0.731994  0.598658\n",
       "1  0.156019  0.155995  0.058084  0.866176\n",
       "2  0.601115  0.708073  0.020584  0.969910\n",
       "3  0.832443  0.212339  0.181825  0.183405\n",
       "4  0.304242  0.524756  0.431945  0.291229"
      ]
     },
     "execution_count": 253,
     "metadata": {},
     "output_type": "execute_result"
    }
   ],
   "source": [
    "df=pd.DataFrame(a)\n",
    "df.columns=['c1','c2','c3','c4']\n",
    "df.head()"
   ]
  },
  {
   "cell_type": "code",
   "execution_count": 254,
   "id": "7b2efa5b",
   "metadata": {},
   "outputs": [
    {
     "data": {
      "text/plain": [
       "<AxesSubplot:>"
      ]
     },
     "execution_count": 254,
     "metadata": {},
     "output_type": "execute_result"
    },
    {
     "data": {
      "image/png": "[encoded data removed]",
      "text/plain": [
       "<Figure size 432x288 with 1 Axes>"
      ]
     },
     "metadata": {
      "needs_background": "light"
     },
     "output_type": "display_data"
    }
   ],
   "source": [
    "df.plot.bar(stacked=True)"
   ]
  },
  {
   "cell_type": "code",
   "execution_count": 255,
   "id": "c771cf7a",
   "metadata": {},
   "outputs": [
    {
     "data": {
      "text/plain": [
       "array([[<AxesSubplot:title={'center':'c1'}>,\n",
       "        <AxesSubplot:title={'center':'c2'}>],\n",
       "       [<AxesSubplot:title={'center':'c3'}>,\n",
       "        <AxesSubplot:title={'center':'c4'}>]], dtype=object)"
      ]
     },
     "execution_count": 255,
     "metadata": {},
     "output_type": "execute_result"
    },
    {
     "data": {
      "image/png": "[encoded data removed]",
      "text/plain": [
       "<Figure size 432x288 with 4 Axes>"
      ]
     },
     "metadata": {
      "needs_background": "light"
     },
     "output_type": "display_data"
    }
   ],
   "source": [
    "df.diff().hist(color='c')"
   ]
  },
  {
   "cell_type": "code",
   "execution_count": 256,
   "id": "8366db19",
   "metadata": {},
   "outputs": [
    {
     "data": {
      "text/plain": [
       "<AxesSubplot:>"
      ]
     },
     "execution_count": 256,
     "metadata": {},
     "output_type": "execute_result"
    },
    {
     "data": {
      "image/png": "[encoded data removed]",
      "text/plain": [
       "<Figure size 432x288 with 1 Axes>"
      ]
     },
     "metadata": {
      "needs_background": "light"
     },
     "output_type": "display_data"
    }
   ],
   "source": [
    "df.plot.box()"
   ]
  },
  {
   "cell_type": "code",
   "execution_count": 257,
   "id": "7e8e9e7b",
   "metadata": {},
   "outputs": [
    {
     "data": {
      "text/plain": [
       "<AxesSubplot:>"
      ]
     },
     "execution_count": 257,
     "metadata": {},
     "output_type": "execute_result"
    },
    {
     "data": {
      "image/png": "[encoded data removed]",
      "text/plain": [
       "<Figure size 432x288 with 1 Axes>"
      ]
     },
     "metadata": {
      "needs_background": "light"
     },
     "output_type": "display_data"
    }
   ],
   "source": [
    "df.boxplot()"
   ]
  },
  {
   "cell_type": "code",
   "execution_count": 258,
   "id": "36c27d65",
   "metadata": {},
   "outputs": [
    {
     "data": {
      "text/plain": [
       "<AxesSubplot:>"
      ]
     },
     "execution_count": 258,
     "metadata": {},
     "output_type": "execute_result"
    },
    {
     "data": {
      "image/png": "[encoded data removed]",
      "text/plain": [
       "<Figure size 432x288 with 1 Axes>"
      ]
     },
     "metadata": {
      "needs_background": "light"
     },
     "output_type": "display_data"
    }
   ],
   "source": [
    "df.plot.area()"
   ]
  },
  {
   "cell_type": "code",
   "execution_count": 259,
   "id": "890f8ab5",
   "metadata": {},
   "outputs": [
    {
     "data": {
      "text/plain": [
       "<AxesSubplot:xlabel='c1', ylabel='c2'>"
      ]
     },
     "execution_count": 259,
     "metadata": {},
     "output_type": "execute_result"
    },
    {
     "data": {
      "image/png": "[encoded data removed]",
      "text/plain": [
       "<Figure size 432x288 with 1 Axes>"
      ]
     },
     "metadata": {
      "needs_background": "light"
     },
     "output_type": "display_data"
    }
   ],
   "source": [
    "df.plot.scatter(x='c1', y='c2')"
   ]
  },
  {
   "cell_type": "code",
   "execution_count": 264,
   "id": "6ec413f0",
   "metadata": {},
   "outputs": [
    {
     "data": {
      "text/plain": [
       "<AxesSubplot:xlabel='c3', ylabel='c4'>"
      ]
     },
     "execution_count": 264,
     "metadata": {},
     "output_type": "execute_result"
    },
    {
     "data": {
      "image/png": "[encoded data removed]",
      "text/plain": [
       "<Figure size 432x288 with 1 Axes>"
      ]
     },
     "metadata": {
      "needs_background": "light"
     },
     "output_type": "display_data"
    }
   ],
   "source": [
    "ax=df.plot.scatter(x='c1', y='c2', color='r', marker='*', s=100)\n",
    "df.plot.scatter(x='c3', y='c4', ax=ax, color='g', marker='^', s=100)"
   ]
  },
  {
   "cell_type": "code",
   "execution_count": 265,
   "id": "b3d2bdca",
   "metadata": {},
   "outputs": [
    {
     "data": {
      "text/plain": [
       "<AxesSubplot:xlabel='c1', ylabel='c2'>"
      ]
     },
     "execution_count": 265,
     "metadata": {},
     "output_type": "execute_result"
    },
    {
     "data": {
      "image/png": "[encoded data removed]",
      "text/plain": [
       "<Figure size 432x288 with 2 Axes>"
      ]
     },
     "metadata": {
      "needs_background": "light"
     },
     "output_type": "display_data"
    }
   ],
   "source": [
    "df.plot.scatter(x='c1', y='c2', s=100, c='c4')"
   ]
  },
  {
   "cell_type": "code",
   "execution_count": 266,
   "id": "adc4e0f2",
   "metadata": {},
   "outputs": [
    {
     "data": {
      "text/plain": [
       "array([<AxesSubplot:ylabel='c1'>, <AxesSubplot:ylabel='c2'>,\n",
       "       <AxesSubplot:ylabel='c3'>, <AxesSubplot:ylabel='c4'>], dtype=object)"
      ]
     },
     "execution_count": 266,
     "metadata": {},
     "output_type": "execute_result"
    },
    {
     "data": {
      "image/png": "[encoded data removed]",
      "text/plain": [
       "<Figure size 1440x1080 with 4 Axes>"
      ]
     },
     "metadata": {},
     "output_type": "display_data"
    }
   ],
   "source": [
    "df.head(5).plot.pie(subplots=True, figsize=(20,15))"
   ]
  },
  {
   "cell_type": "code",
   "execution_count": 269,
   "id": "98972b94",
   "metadata": {},
   "outputs": [
    {
     "data": {
      "text/plain": [
       "array([<AxesSubplot:ylabel='(sum, Qty)'>,\n",
       "       <AxesSubplot:ylabel='(mean, Qty)'>,\n",
       "       <AxesSubplot:ylabel='(max, Qty)'>,\n",
       "       <AxesSubplot:ylabel='(min, Qty)'>,\n",
       "       <AxesSubplot:ylabel='(count, Qty)'>], dtype=object)"
      ]
     },
     "execution_count": 269,
     "metadata": {},
     "output_type": "execute_result"
    },
    {
     "data": {
      "image/png": "[encoded data removed]",
      "text/plain": [
       "<Figure size 2160x1440 with 5 Axes>"
      ]
     },
     "metadata": {},
     "output_type": "display_data"
    }
   ],
   "source": [
    "pt.plot.pie(subplots=True, figsize=(30,20))"
   ]
  },
  {
   "cell_type": "code",
   "execution_count": null,
   "id": "25305db7",
   "metadata": {},
   "outputs": [],
   "source": []
  }
 ],
 "metadata": {
  "kernelspec": {
   "display_name": "Python 3 (ipykernel)",
   "language": "python",
   "name": "python3"
  },
  "language_info": {
   "codemirror_mode": {
    "name": "ipython",
    "version": 3
   },
   "file_extension": ".py",
   "mimetype": "text/x-python",
   "name": "python",
   "nbconvert_exporter": "python",
   "pygments_lexer": "ipython3",
   "version": "3.9.12"
  }
 },
 "nbformat": 4,
 "nbformat_minor": 5
}
