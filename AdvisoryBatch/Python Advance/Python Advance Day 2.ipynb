{
 "cells": [
  {
   "cell_type": "markdown",
   "id": "dcbac1f9",
   "metadata": {},
   "source": [
    "## Python Advance Day 2"
   ]
  },
  {
   "cell_type": "code",
   "execution_count": 1,
   "id": "ff02ce7c",
   "metadata": {},
   "outputs": [
    {
     "name": "stdout",
     "output_type": "stream",
     "text": [
      "Requirement already satisfied: mysql-connector-python in c:\\users\\pvashishtha\\anaconda3\\lib\\site-packages (8.0.31)\n",
      "Requirement already satisfied: protobuf<=3.20.1,>=3.11.0 in c:\\users\\pvashishtha\\anaconda3\\lib\\site-packages (from mysql-connector-python) (3.19.1)\n"
     ]
    }
   ],
   "source": [
    "! pip install mysql-connector-python"
   ]
  },
  {
   "cell_type": "code",
   "execution_count": 3,
   "id": "4d6d08f5",
   "metadata": {},
   "outputs": [],
   "source": [
    "# 1. connect to Database\n",
    "# 2. create a cursor\n",
    "# 3. CRUD- create, read, update, delete\n",
    "# 4. close the connection"
   ]
  },
  {
   "cell_type": "code",
   "execution_count": 4,
   "id": "eeb0811f",
   "metadata": {},
   "outputs": [],
   "source": [
    "import mysql.connector"
   ]
  },
  {
   "cell_type": "code",
   "execution_count": 5,
   "id": "e79f4eee",
   "metadata": {},
   "outputs": [],
   "source": [
    "host='localhost'\n",
    "user='root'\n",
    "password=''\n",
    "database='hr'\n",
    "port=3306"
   ]
  },
  {
   "cell_type": "code",
   "execution_count": 6,
   "id": "c730f709",
   "metadata": {},
   "outputs": [
    {
     "name": "stdout",
     "output_type": "stream",
     "text": [
      "<mysql.connector.connection_cext.CMySQLConnection object at 0x00000224795E5F40>\n"
     ]
    }
   ],
   "source": [
    "# connect to database\n",
    "try:\n",
    "    conn=mysql.connector.connect(host=host,\n",
    "                                user=user,\n",
    "                                password=password,\n",
    "                                database=database,\n",
    "                                port=port)\n",
    "    print(conn)\n",
    "except:\n",
    "    print('Database not connected!')"
   ]
  },
  {
   "cell_type": "code",
   "execution_count": 7,
   "id": "3daa7f18",
   "metadata": {},
   "outputs": [
    {
     "name": "stdout",
     "output_type": "stream",
     "text": [
      "CMySQLCursor: (Nothing executed yet)\n"
     ]
    }
   ],
   "source": [
    "# create cursor object\n",
    "try:\n",
    "    cur=conn.cursor()\n",
    "    print(cur)\n",
    "except:\n",
    "    print('Cursor could not be created!')"
   ]
  },
  {
   "cell_type": "code",
   "execution_count": 8,
   "id": "9088ae01",
   "metadata": {},
   "outputs": [],
   "source": [
    "# INSERT\n",
    "sql='insert into employee values(104, \"Srikant\", \"2023-03-07\", \"BHuvaneshwar\", 22)'\n",
    "\n",
    "cur.execute(sql)\n",
    "conn.commit()"
   ]
  },
  {
   "cell_type": "code",
   "execution_count": 9,
   "id": "6104a72e",
   "metadata": {},
   "outputs": [],
   "source": [
    "# INSSERT MANY RECORDS\n",
    "sql='insert into employee values(%s, %s, %s, %s, %s)'\n",
    "values=[\n",
    "    (105, \"Akshit\", \"2022-12-09\", \"Ajmer\", 22),\n",
    "    (106, \"Drishti\", \"2023-01-03\", \"Delhi\", 23),\n",
    "    (107, \"Sarfaraz\", \"2023-02-28\", \"Ghaziabad\", 21)\n",
    "]\n",
    "\n",
    "cur.executemany(sql, values)\n",
    "conn.commit()"
   ]
  },
  {
   "cell_type": "code",
   "execution_count": 10,
   "id": "69905532",
   "metadata": {},
   "outputs": [],
   "source": [
    "# READ from DB\n",
    "# read all records or multiple records at once\n",
    "sql='select * from employee'\n",
    "cur.execute(sql)"
   ]
  },
  {
   "cell_type": "code",
   "execution_count": 11,
   "id": "f7b59b7f",
   "metadata": {},
   "outputs": [],
   "source": [
    "resultset=cur.fetchall()"
   ]
  },
  {
   "cell_type": "code",
   "execution_count": 12,
   "id": "79a8e1fd",
   "metadata": {
    "scrolled": true
   },
   "outputs": [
    {
     "name": "stdout",
     "output_type": "stream",
     "text": [
      "----------------------------------------\n",
      "EID: 101\n",
      "Name: Prateek\n",
      "DOJ: 2022-07-11\n",
      "City: Delhi\n",
      "Department ID: 21\n",
      "----------------------------------------\n",
      "----------------------------------------\n",
      "EID: 102\n",
      "Name: Nandini\n",
      "DOJ: 2023-03-01\n",
      "City: Mumbai\n",
      "Department ID: 23\n",
      "----------------------------------------\n",
      "----------------------------------------\n",
      "EID: 104\n",
      "Name: Srikant\n",
      "DOJ: 2023-03-07\n",
      "City: BHuvaneshw\n",
      "Department ID: 22\n",
      "----------------------------------------\n",
      "----------------------------------------\n",
      "EID: 105\n",
      "Name: Akshit\n",
      "DOJ: 2022-12-09\n",
      "City: Ajmer\n",
      "Department ID: 22\n",
      "----------------------------------------\n",
      "----------------------------------------\n",
      "EID: 106\n",
      "Name: Drishti\n",
      "DOJ: 2023-01-03\n",
      "City: Delhi\n",
      "Department ID: 23\n",
      "----------------------------------------\n",
      "----------------------------------------\n",
      "EID: 107\n",
      "Name: Sarfaraz\n",
      "DOJ: 2023-02-28\n",
      "City: Ghaziabad\n",
      "Department ID: 21\n",
      "----------------------------------------\n"
     ]
    }
   ],
   "source": [
    "for record in resultset:\n",
    "    print('----------------------------------------')\n",
    "    print(f'EID: {record[0]}\\nName: {record[1]}')\n",
    "    print(f'DOJ: {record[2]}\\nCity: {record[3]}')\n",
    "    print(f'Department ID: {record[4]}')\n",
    "    print('----------------------------------------')"
   ]
  },
  {
   "cell_type": "code",
   "execution_count": 16,
   "id": "f67fee0e",
   "metadata": {
    "collapsed": true
   },
   "outputs": [
    {
     "name": "stdout",
     "output_type": "stream",
     "text": [
      "----------------------------------------\n",
      "EID: 101\n",
      "Name: Prateek\n",
      "DOJ: 2022-07-11\n",
      "City: Delhi\n",
      "Department ID: 21\n",
      "----------------------------------------\n",
      "----------------------------------------\n",
      "EID: 106\n",
      "Name: Drishti\n",
      "DOJ: 2023-01-03\n",
      "City: Delhi\n",
      "Department ID: 23\n",
      "----------------------------------------\n"
     ]
    }
   ],
   "source": [
    "# read selective data from database - filtering\n",
    "sql='select * from employee where city=\"Delhi\"'\n",
    "cur.execute(sql)\n",
    "resultset=cur.fetchall()\n",
    "for record in resultset:\n",
    "    print('----------------------------------------')\n",
    "    print(f'EID: {record[0]}\\nName: {record[1]}')\n",
    "    print(f'DOJ: {record[2]}\\nCity: {record[3]}')\n",
    "    print(f'Department ID: {record[4]}')\n",
    "    print('----------------------------------------')"
   ]
  },
  {
   "cell_type": "code",
   "execution_count": 18,
   "id": "786ca56a",
   "metadata": {},
   "outputs": [
    {
     "name": "stdout",
     "output_type": "stream",
     "text": [
      "----------------------------------------\n",
      "EID: 101\n",
      "Name: Prateek\n",
      "Department ID: 21\n",
      "----------------------------------------\n",
      "----------------------------------------\n",
      "EID: 106\n",
      "Name: Drishti\n",
      "Department ID: 23\n",
      "----------------------------------------\n"
     ]
    }
   ],
   "source": [
    "# read records after projection\n",
    "sql='select eid, ename, deptid from employee where city=\"Delhi\"'\n",
    "cur.execute(sql)\n",
    "resultset=cur.fetchall()\n",
    "for record in resultset:\n",
    "    print('----------------------------------------')\n",
    "    print(f'EID: {record[0]}\\nName: {record[1]}')\n",
    "    print(f'Department ID: {record[2]}')\n",
    "    print('----------------------------------------')"
   ]
  },
  {
   "cell_type": "code",
   "execution_count": 19,
   "id": "10558825",
   "metadata": {},
   "outputs": [],
   "source": [
    "# READ one record at a time form cursor\n",
    "sql='select eid, ename, deptid from employee where city=\"Delhi\"'\n",
    "cur.execute(sql)"
   ]
  },
  {
   "cell_type": "code",
   "execution_count": 22,
   "id": "3937830a",
   "metadata": {
    "collapsed": true
   },
   "outputs": [
    {
     "name": "stdout",
     "output_type": "stream",
     "text": [
      "-------------------------\n"
     ]
    },
    {
     "ename": "TypeError",
     "evalue": "'NoneType' object is not subscriptable",
     "output_type": "error",
     "traceback": [
      "\u001b[1;31m---------------------------------------------------------------------------\u001b[0m",
      "\u001b[1;31mTypeError\u001b[0m                                 Traceback (most recent call last)",
      "Input \u001b[1;32mIn [22]\u001b[0m, in \u001b[0;36m<cell line: 3>\u001b[1;34m()\u001b[0m\n\u001b[0;32m      1\u001b[0m record\u001b[38;5;241m=\u001b[39mcur\u001b[38;5;241m.\u001b[39mfetchone()\n\u001b[0;32m      2\u001b[0m \u001b[38;5;28mprint\u001b[39m(\u001b[38;5;124m'\u001b[39m\u001b[38;5;124m-------------------------\u001b[39m\u001b[38;5;124m'\u001b[39m)\n\u001b[1;32m----> 3\u001b[0m \u001b[38;5;28mprint\u001b[39m(\u001b[38;5;124mf\u001b[39m\u001b[38;5;124m'\u001b[39m\u001b[38;5;124mEID: \u001b[39m\u001b[38;5;132;01m{\u001b[39;00mrecord[\u001b[38;5;241m0\u001b[39m]\u001b[38;5;132;01m}\u001b[39;00m\u001b[38;5;130;01m\\n\u001b[39;00m\u001b[38;5;124mName: \u001b[39m\u001b[38;5;132;01m{\u001b[39;00mrecord[\u001b[38;5;241m1\u001b[39m]\u001b[38;5;132;01m}\u001b[39;00m\u001b[38;5;130;01m\\n\u001b[39;00m\u001b[38;5;124mDept: \u001b[39m\u001b[38;5;132;01m{\u001b[39;00mrecord[\u001b[38;5;241m2\u001b[39m]\u001b[38;5;132;01m}\u001b[39;00m\u001b[38;5;124m'\u001b[39m)\n",
      "\u001b[1;31mTypeError\u001b[0m: 'NoneType' object is not subscriptable"
     ]
    }
   ],
   "source": [
    "record=cur.fetchone()\n",
    "print('-------------------------')\n",
    "print(f'EID: {record[0]}\\nName: {record[1]}\\nDept: {record[2]}')"
   ]
  },
  {
   "cell_type": "code",
   "execution_count": 23,
   "id": "e527f730",
   "metadata": {},
   "outputs": [
    {
     "name": "stdout",
     "output_type": "stream",
     "text": [
      "CMySQLCursor: select eid, ename, deptid from employee ..\n"
     ]
    }
   ],
   "source": [
    "print(cur)"
   ]
  },
  {
   "cell_type": "code",
   "execution_count": 24,
   "id": "0b8c6a49",
   "metadata": {},
   "outputs": [
    {
     "name": "stderr",
     "output_type": "stream",
     "text": [
      "C:\\Users\\pvashishtha\\Anaconda3\\lib\\site-packages\\pandas\\io\\sql.py:761: UserWarning: pandas only support SQLAlchemy connectable(engine/connection) ordatabase string URI or sqlite3 DBAPI2 connectionother DBAPI2 objects are not tested, please consider using SQLAlchemy\n",
      "  warnings.warn(\n"
     ]
    },
    {
     "data": {
      "text/html": [
       "<div>\n",
       "<style scoped>\n",
       "    .dataframe tbody tr th:only-of-type {\n",
       "        vertical-align: middle;\n",
       "    }\n",
       "\n",
       "    .dataframe tbody tr th {\n",
       "        vertical-align: top;\n",
       "    }\n",
       "\n",
       "    .dataframe thead th {\n",
       "        text-align: right;\n",
       "    }\n",
       "</style>\n",
       "<table border=\"1\" class=\"dataframe\">\n",
       "  <thead>\n",
       "    <tr style=\"text-align: right;\">\n",
       "      <th></th>\n",
       "      <th>eid</th>\n",
       "      <th>ename</th>\n",
       "      <th>doj</th>\n",
       "      <th>city</th>\n",
       "      <th>deptid</th>\n",
       "    </tr>\n",
       "  </thead>\n",
       "  <tbody>\n",
       "    <tr>\n",
       "      <th>0</th>\n",
       "      <td>101</td>\n",
       "      <td>Prateek</td>\n",
       "      <td>2022-07-11</td>\n",
       "      <td>Delhi</td>\n",
       "      <td>21</td>\n",
       "    </tr>\n",
       "    <tr>\n",
       "      <th>1</th>\n",
       "      <td>102</td>\n",
       "      <td>Nandini</td>\n",
       "      <td>2023-03-01</td>\n",
       "      <td>Mumbai</td>\n",
       "      <td>23</td>\n",
       "    </tr>\n",
       "    <tr>\n",
       "      <th>2</th>\n",
       "      <td>104</td>\n",
       "      <td>Srikant</td>\n",
       "      <td>2023-03-07</td>\n",
       "      <td>BHuvaneshw</td>\n",
       "      <td>22</td>\n",
       "    </tr>\n",
       "    <tr>\n",
       "      <th>3</th>\n",
       "      <td>105</td>\n",
       "      <td>Akshit</td>\n",
       "      <td>2022-12-09</td>\n",
       "      <td>Ajmer</td>\n",
       "      <td>22</td>\n",
       "    </tr>\n",
       "    <tr>\n",
       "      <th>4</th>\n",
       "      <td>106</td>\n",
       "      <td>Drishti</td>\n",
       "      <td>2023-01-03</td>\n",
       "      <td>Delhi</td>\n",
       "      <td>23</td>\n",
       "    </tr>\n",
       "    <tr>\n",
       "      <th>5</th>\n",
       "      <td>107</td>\n",
       "      <td>Sarfaraz</td>\n",
       "      <td>2023-02-28</td>\n",
       "      <td>Ghaziabad</td>\n",
       "      <td>21</td>\n",
       "    </tr>\n",
       "  </tbody>\n",
       "</table>\n",
       "</div>"
      ],
      "text/plain": [
       "   eid     ename         doj        city  deptid\n",
       "0  101   Prateek  2022-07-11       Delhi      21\n",
       "1  102   Nandini  2023-03-01      Mumbai      23\n",
       "2  104   Srikant  2023-03-07  BHuvaneshw      22\n",
       "3  105    Akshit  2022-12-09       Ajmer      22\n",
       "4  106   Drishti  2023-01-03       Delhi      23\n",
       "5  107  Sarfaraz  2023-02-28   Ghaziabad      21"
      ]
     },
     "execution_count": 24,
     "metadata": {},
     "output_type": "execute_result"
    }
   ],
   "source": [
    "# Read all data and Display data as Table\n",
    "import pandas as pd\n",
    "sql='select * from employee'\n",
    "data=pd.read_sql(sql, conn)\n",
    "data"
   ]
  },
  {
   "cell_type": "code",
   "execution_count": 26,
   "id": "42d07306",
   "metadata": {},
   "outputs": [],
   "source": [
    "# UPDATE\n",
    "sql='update employee set city=\"Bhuvaneshwar\" where eid=104'\n",
    "cur.execute(sql)\n",
    "conn.commit()"
   ]
  },
  {
   "cell_type": "code",
   "execution_count": 27,
   "id": "bd096e85",
   "metadata": {},
   "outputs": [],
   "source": [
    "# DELETE\n",
    "sql='delete from employee where deptid=23'\n",
    "cur.execute(sql)\n",
    "conn.commit()"
   ]
  },
  {
   "cell_type": "code",
   "execution_count": 28,
   "id": "d10306d4",
   "metadata": {},
   "outputs": [],
   "source": [
    "# ALTER\n",
    "sql='alter table employee modify column eid int primary key'\n",
    "cur.execute(sql)\n",
    "conn.commit()"
   ]
  },
  {
   "cell_type": "code",
   "execution_count": 29,
   "id": "0bb6dbdf",
   "metadata": {},
   "outputs": [
    {
     "name": "stdout",
     "output_type": "stream",
     "text": [
      "2 records updated.\n"
     ]
    }
   ],
   "source": [
    "# UPDATE\n",
    "sql='update employee set city=\"Hyd\" where deptid=22'\n",
    "cur.execute(sql)\n",
    "conn.commit()\n",
    "print(f'{cur.rowcount} records updated.')"
   ]
  },
  {
   "cell_type": "code",
   "execution_count": 30,
   "id": "558868fc",
   "metadata": {},
   "outputs": [
    {
     "name": "stdout",
     "output_type": "stream",
     "text": [
      "2 records deleted.\n"
     ]
    }
   ],
   "source": [
    "# DELETE\n",
    "sql='delete from employee where deptid=22'\n",
    "cur.execute(sql)\n",
    "conn.commit()\n",
    "print(f'{cur.rowcount} records deleted.')"
   ]
  },
  {
   "cell_type": "code",
   "execution_count": 31,
   "id": "03607544",
   "metadata": {},
   "outputs": [
    {
     "name": "stdout",
     "output_type": "stream",
     "text": [
      "Table truncated successfully!\n"
     ]
    }
   ],
   "source": [
    "# TRUNCATE\n",
    "sql='truncate table employee'\n",
    "try:\n",
    "    cur.execute(sql)\n",
    "    conn.commit()\n",
    "except:\n",
    "    print('Can not truncate table')\n",
    "else:\n",
    "    print('Table truncated successfully!')"
   ]
  },
  {
   "cell_type": "code",
   "execution_count": 32,
   "id": "3d482b08",
   "metadata": {},
   "outputs": [
    {
     "name": "stdout",
     "output_type": "stream",
     "text": [
      "Table dropped successfully!\n",
      "Connection and Cursor Closed...\n"
     ]
    }
   ],
   "source": [
    "# DROP\n",
    "sql='drop table employee'\n",
    "try:\n",
    "    cur.execute(sql)\n",
    "    conn.commit()\n",
    "except:\n",
    "    print('Can not drop table')\n",
    "else:\n",
    "    print('Table dropped successfully!')\n",
    "finally:\n",
    "    cur.close()\n",
    "    conn.close()\n",
    "    print('Connection and Cursor Closed...')"
   ]
  },
  {
   "cell_type": "markdown",
   "id": "6f7531be",
   "metadata": {},
   "source": [
    "#### Practice Question:"
   ]
  },
  {
   "cell_type": "code",
   "execution_count": 34,
   "id": "cbb6f8a0",
   "metadata": {},
   "outputs": [],
   "source": [
    "# Problem:\n",
    "# create a class that will implement following methods to interact with\n",
    "# employee database\n",
    "# get_connection()\n",
    "# get_emp_details_from_user()\n",
    "# validate_details()\n",
    "# insert_emp_data()\n",
    "# update_emp_data()\n",
    "# get_emp()\n",
    "# get_all_emp()\n",
    "# remove_emp()\n",
    "# close_connection()\n",
    "\n",
    "### create emp table for internal use:\n",
    "### create table emp(eid int, name varchar(20), email varchar(20));"
   ]
  },
  {
   "cell_type": "code",
   "execution_count": 35,
   "id": "a2c5d1a8",
   "metadata": {},
   "outputs": [],
   "source": [
    "import mysql.connector\n",
    "class Employee:\n",
    "    def __init__(self, host, user, password, database, port):\n",
    "        self.host=host\n",
    "        self.user=user\n",
    "        self.password=password\n",
    "        self.database=database\n",
    "        self.port=port\n",
    "        return None\n",
    "    def get_connection(self):\n",
    "        self.conn=mysql.connector.connect(host=self.host,\n",
    "                                         user=self.user,\n",
    "                                         password=self.password,\n",
    "                                         database=self.database,\n",
    "                                         port=self.port)\n",
    "        self.cur=self.conn.cursor()\n",
    "        return None\n",
    "    def get_details_from_user(self):\n",
    "        self.eid=int(input('Enter ID: '))\n",
    "        self.name=input('Enter Name: ')\n",
    "        self.email=input('Enter Email: ')\n",
    "        return None\n",
    "    def validate_email(self):\n",
    "        if self.email.count('@')==1:\n",
    "            return True\n",
    "        else:\n",
    "            return False\n",
    "    def insert_data(self):\n",
    "        self.get_details_from_user()\n",
    "        validation=self.validate_email()\n",
    "        if validation:\n",
    "            sql=f'insert into emp values({self.eid}, \"{self.name}\", \"{self.email}\")'\n",
    "            self.cur.execute(sql)\n",
    "            self.conn.commit()\n",
    "            print(f'{self.cur.rowcount} record added.')\n",
    "        else:\n",
    "            print('Data Validation Failed!')\n",
    "        return None\n",
    "    def get_emp(self, eid):\n",
    "        sql=f'select * from emp where eid={eid}'\n",
    "        self.cur.execute(sql)\n",
    "        rec=self.cur.fetchone()\n",
    "        print(f'EID: {rec[0]}\\nName: {rec[1]}\\nEmail: {rec[2]}')\n",
    "        return None\n",
    "    def get_all_emp(self):\n",
    "        sql=f'select * from emp'\n",
    "        self.cur.execute(sql)\n",
    "        result=self.cur.fetchall()\n",
    "        for rec in result:\n",
    "            print(f'EID: {rec[0]}\\nName: {rec[1]}\\nEmail: {rec[2]}')\n",
    "        return None\n",
    "    def update_email(self, eid, email):\n",
    "        sql=f'update emp set email=\"{email}\" where eid={eid}'\n",
    "        self.cur.execute(sql)\n",
    "        self.conn.commit()\n",
    "        print(f'{self.cur.rowcount} records updated.')\n",
    "        return None\n",
    "    def remove_emp(self, eid):\n",
    "        sql=f'delete from emp where eid={eid}'\n",
    "        self.cur.execute(sql)\n",
    "        self.conn.commit()\n",
    "        print(f'{self.cur.rowcount} records deleted.')\n",
    "        return None\n",
    "    def close_connection(self):\n",
    "        self.cur.close()\n",
    "        self.conn.close()\n",
    "        return None"
   ]
  },
  {
   "cell_type": "code",
   "execution_count": 36,
   "id": "4438955c",
   "metadata": {},
   "outputs": [],
   "source": [
    "e1=Employee('localhost', 'root', '', 'hr', 3306)"
   ]
  },
  {
   "cell_type": "code",
   "execution_count": 37,
   "id": "d55b3614",
   "metadata": {},
   "outputs": [],
   "source": [
    "e1.get_connection()"
   ]
  },
  {
   "cell_type": "code",
   "execution_count": 41,
   "id": "9814bed3",
   "metadata": {},
   "outputs": [
    {
     "name": "stdout",
     "output_type": "stream",
     "text": [
      "Enter ID: 103\n",
      "Enter Name: Tejeshwai\n",
      "Enter Email: tejeshwai@deloitte.com\n",
      "1 record added.\n"
     ]
    }
   ],
   "source": [
    "e1.insert_data()"
   ]
  },
  {
   "cell_type": "code",
   "execution_count": 42,
   "id": "076bda53",
   "metadata": {},
   "outputs": [
    {
     "name": "stdout",
     "output_type": "stream",
     "text": [
      "EID: 102\n",
      "Name: Siddhath\n",
      "Email: sid@deloitte.com\n"
     ]
    }
   ],
   "source": [
    "e1.get_emp(102)"
   ]
  },
  {
   "cell_type": "code",
   "execution_count": 43,
   "id": "49039b3b",
   "metadata": {},
   "outputs": [
    {
     "name": "stdout",
     "output_type": "stream",
     "text": [
      "EID: 101\n",
      "Name: Prateek\n",
      "Email: prateek@deloitte.com\n",
      "EID: 102\n",
      "Name: Siddhath\n",
      "Email: sid@deloitte.com\n",
      "EID: 103\n",
      "Name: Tejeshwai\n",
      "Email: tejeshwai@deloitte.c\n"
     ]
    }
   ],
   "source": [
    "e1.get_all_emp()"
   ]
  },
  {
   "cell_type": "code",
   "execution_count": 44,
   "id": "52f2bb1c",
   "metadata": {},
   "outputs": [
    {
     "name": "stdout",
     "output_type": "stream",
     "text": [
      "1 records updated.\n"
     ]
    }
   ],
   "source": [
    "e1.update_email(103, 'tej@deloitte.com')"
   ]
  },
  {
   "cell_type": "code",
   "execution_count": 45,
   "id": "b9b46cb0",
   "metadata": {},
   "outputs": [
    {
     "name": "stdout",
     "output_type": "stream",
     "text": [
      "EID: 103\n",
      "Name: Tejeshwai\n",
      "Email: tej@deloitte.com\n"
     ]
    }
   ],
   "source": [
    "e1.get_emp(103)"
   ]
  },
  {
   "cell_type": "code",
   "execution_count": 46,
   "id": "896d37e9",
   "metadata": {},
   "outputs": [
    {
     "name": "stdout",
     "output_type": "stream",
     "text": [
      "1 records deleted.\n"
     ]
    }
   ],
   "source": [
    "e1.remove_emp(103)"
   ]
  },
  {
   "cell_type": "code",
   "execution_count": 47,
   "id": "a464ba42",
   "metadata": {},
   "outputs": [
    {
     "name": "stdout",
     "output_type": "stream",
     "text": [
      "EID: 101\n",
      "Name: Prateek\n",
      "Email: prateek@deloitte.com\n",
      "EID: 102\n",
      "Name: Siddhath\n",
      "Email: sid@deloitte.com\n"
     ]
    }
   ],
   "source": [
    "e1.get_all_emp()"
   ]
  },
  {
   "cell_type": "code",
   "execution_count": 48,
   "id": "7b1024f1",
   "metadata": {},
   "outputs": [],
   "source": [
    "e1.close_connection()"
   ]
  },
  {
   "cell_type": "markdown",
   "id": "c624a153",
   "metadata": {},
   "source": [
    "### Python RegEx"
   ]
  },
  {
   "cell_type": "code",
   "execution_count": 50,
   "id": "0d890766",
   "metadata": {},
   "outputs": [],
   "source": [
    "# Regular Expressions - set of chars that represents a pattern in text"
   ]
  },
  {
   "cell_type": "code",
   "execution_count": 51,
   "id": "bfd1be67",
   "metadata": {},
   "outputs": [],
   "source": [
    "import re"
   ]
  },
  {
   "cell_type": "code",
   "execution_count": 52,
   "id": "b09a7b35",
   "metadata": {},
   "outputs": [
    {
     "name": "stdout",
     "output_type": "stream",
     "text": [
      "['A', 'ASCII', 'DEBUG', 'DOTALL', 'I', 'IGNORECASE', 'L', 'LOCALE', 'M', 'MULTILINE', 'Match', 'Pattern', 'RegexFlag', 'S', 'Scanner', 'T', 'TEMPLATE', 'U', 'UNICODE', 'VERBOSE', 'X', '_MAXCACHE', '__all__', '__builtins__', '__cached__', '__doc__', '__file__', '__loader__', '__name__', '__package__', '__spec__', '__version__', '_cache', '_compile', '_compile_repl', '_expand', '_locale', '_pickle', '_special_chars_map', '_subx', 'compile', 'copyreg', 'enum', 'error', 'escape', 'findall', 'finditer', 'fullmatch', 'functools', 'match', 'purge', 'search', 'split', 'sre_compile', 'sre_parse', 'sub', 'subn', 'template']\n"
     ]
    }
   ],
   "source": [
    "print(dir(re))"
   ]
  },
  {
   "cell_type": "markdown",
   "id": "78026ddd",
   "metadata": {},
   "source": [
    "### search()"
   ]
  },
  {
   "cell_type": "code",
   "execution_count": 55,
   "id": "d9092fe3",
   "metadata": {},
   "outputs": [
    {
     "name": "stdout",
     "output_type": "stream",
     "text": [
      "<re.Match object; span=(8, 12), match='.com'>\n"
     ]
    }
   ],
   "source": [
    "s='deloitte.com'\n",
    "# search the given pattern in text, returns match object\n",
    "match=re.search(r'\\.com', s)\n",
    "print(match)"
   ]
  },
  {
   "cell_type": "code",
   "execution_count": 56,
   "id": "542d95be",
   "metadata": {},
   "outputs": [
    {
     "name": "stdout",
     "output_type": "stream",
     "text": [
      "<re.Match object; span=(1, 4), match='for'>\n"
     ]
    }
   ],
   "source": [
    "s=' for deloitte'\n",
    "print(re.search(r'for', s))"
   ]
  },
  {
   "cell_type": "code",
   "execution_count": 57,
   "id": "b4afca4a",
   "metadata": {},
   "outputs": [
    {
     "name": "stdout",
     "output_type": "stream",
     "text": [
      "<re.Match object; span=(0, 2), match='te'>\n"
     ]
    }
   ],
   "source": [
    "s='tell deloitte'\n",
    "print(re.search(r'\\bte', s))"
   ]
  },
  {
   "cell_type": "code",
   "execution_count": 58,
   "id": "1be689cb",
   "metadata": {},
   "outputs": [
    {
     "name": "stdout",
     "output_type": "stream",
     "text": [
      "<re.Match object; span=(11, 13), match='te'>\n"
     ]
    }
   ],
   "source": [
    "s='tell deloitte'\n",
    "print(re.search(r'te\\b', s))"
   ]
  },
  {
   "cell_type": "code",
   "execution_count": 59,
   "id": "ede0f003",
   "metadata": {},
   "outputs": [
    {
     "name": "stdout",
     "output_type": "stream",
     "text": [
      "<re.Match object; span=(0, 3), match='the'>\n"
     ]
    }
   ],
   "source": [
    "s='the rain and the wind'\n",
    "print(re.search(r'\\Athe', s))"
   ]
  },
  {
   "cell_type": "code",
   "execution_count": 61,
   "id": "a8bfa5c8",
   "metadata": {},
   "outputs": [
    {
     "name": "stdout",
     "output_type": "stream",
     "text": [
      "<re.Match object; span=(9, 11), match='18'>\n"
     ]
    }
   ],
   "source": [
    "s='today is 18 april'\n",
    "print(re.search(r'\\d\\d', s))"
   ]
  },
  {
   "cell_type": "code",
   "execution_count": 63,
   "id": "ac843d9f",
   "metadata": {},
   "outputs": [
    {
     "name": "stdout",
     "output_type": "stream",
     "text": [
      "<re.Match object; span=(9, 11), match='18'>\n"
     ]
    }
   ],
   "source": [
    "s='today is 18 april'\n",
    "print(re.search(r'\\d+', s))"
   ]
  },
  {
   "cell_type": "code",
   "execution_count": 64,
   "id": "daa748aa",
   "metadata": {},
   "outputs": [
    {
     "name": "stdout",
     "output_type": "stream",
     "text": [
      "<re.Match object; span=(5, 6), match=' '>\n"
     ]
    }
   ],
   "source": [
    "s='today is 18 april'\n",
    "print(re.search(r'\\s', s))"
   ]
  },
  {
   "cell_type": "code",
   "execution_count": 65,
   "id": "8b79f0d0",
   "metadata": {},
   "outputs": [
    {
     "name": "stdout",
     "output_type": "stream",
     "text": [
      "<re.Match object; span=(37, 47), match='9808766699'>\n"
     ]
    }
   ],
   "source": [
    "s='Alexa! Please recharge my mobile +91-9808766699'\n",
    "print(re.search(r'\\d{10}', s))"
   ]
  },
  {
   "cell_type": "code",
   "execution_count": 66,
   "id": "e6feb8b6",
   "metadata": {},
   "outputs": [
    {
     "name": "stdout",
     "output_type": "stream",
     "text": [
      "<re.Match object; span=(5, 6), match='!'>\n"
     ]
    }
   ],
   "source": [
    "s='Alexa! Please recharge my mobile +91-9808766699'\n",
    "print(re.search(r'\\W', s))"
   ]
  },
  {
   "cell_type": "markdown",
   "id": "13c6cb13",
   "metadata": {},
   "source": [
    "#### findall()"
   ]
  },
  {
   "cell_type": "code",
   "execution_count": 67,
   "id": "b010aaae",
   "metadata": {},
   "outputs": [
    {
     "name": "stdout",
     "output_type": "stream",
     "text": [
      "['!', ' ', ' ', ' ', ' ', ' ', '+', '-']\n"
     ]
    }
   ],
   "source": [
    "s='Alexa! Please recharge my mobile +91-9808766699'\n",
    "print(re.findall(r'\\W', s))"
   ]
  },
  {
   "cell_type": "code",
   "execution_count": 68,
   "id": "9c6e5d4b",
   "metadata": {},
   "outputs": [
    {
     "name": "stdout",
     "output_type": "stream",
     "text": [
      "['9', '1', '9', '8', '0', '8', '7', '6', '6', '6', '9', '9']\n"
     ]
    }
   ],
   "source": [
    "s='Alexa! Please recharge my mobile +91-9808766699'\n",
    "print(re.findall(r'\\d', s))"
   ]
  },
  {
   "cell_type": "code",
   "execution_count": 69,
   "id": "4452798d",
   "metadata": {},
   "outputs": [
    {
     "name": "stdout",
     "output_type": "stream",
     "text": [
      "['9808766699', '8869088887']\n"
     ]
    }
   ],
   "source": [
    "s='Alexa! Please recharge my mobile +91-9808766699 and +91-8869088887'\n",
    "print(re.findall(r'\\d{10}', s))"
   ]
  },
  {
   "cell_type": "markdown",
   "id": "7dfb254d",
   "metadata": {},
   "source": [
    "#### compile()"
   ]
  },
  {
   "cell_type": "code",
   "execution_count": 70,
   "id": "6f4a7c38",
   "metadata": {},
   "outputs": [],
   "source": [
    "pattern=re.compile(r'\\d{10}')"
   ]
  },
  {
   "cell_type": "code",
   "execution_count": 71,
   "id": "53f3ea31",
   "metadata": {},
   "outputs": [
    {
     "name": "stdout",
     "output_type": "stream",
     "text": [
      "<re.Match object; span=(13, 23), match='9808766699'>\n"
     ]
    }
   ],
   "source": [
    "print(pattern.search('my number is 9808766699'))"
   ]
  },
  {
   "cell_type": "code",
   "execution_count": 72,
   "id": "21b01d53",
   "metadata": {},
   "outputs": [
    {
     "name": "stdout",
     "output_type": "stream",
     "text": [
      "['9808766699', '8869088887']\n"
     ]
    }
   ],
   "source": [
    "print(pattern.findall('my numbers are 9808766699 and 8869088887'))"
   ]
  },
  {
   "cell_type": "code",
   "execution_count": 73,
   "id": "4cf8bc01",
   "metadata": {},
   "outputs": [],
   "source": [
    "text='''Hi!, how are you all? I am feeling good today.\n",
    "Did you notice the pattern on the walls outside?'''\n",
    "pattern=re.compile(r'\\w+')"
   ]
  },
  {
   "cell_type": "code",
   "execution_count": 74,
   "id": "9337802b",
   "metadata": {},
   "outputs": [
    {
     "name": "stdout",
     "output_type": "stream",
     "text": [
      "<re.Match object; span=(0, 2), match='Hi'>\n"
     ]
    }
   ],
   "source": [
    "print(pattern.search(text))"
   ]
  },
  {
   "cell_type": "code",
   "execution_count": 75,
   "id": "01e83ce6",
   "metadata": {},
   "outputs": [
    {
     "name": "stdout",
     "output_type": "stream",
     "text": [
      "['Hi', 'how', 'are', 'you', 'all', 'I', 'am', 'feeling', 'good', 'today', 'Did', 'you', 'notice', 'the', 'pattern', 'on', 'the', 'walls', 'outside']\n"
     ]
    }
   ],
   "source": [
    "print(pattern.findall(text))"
   ]
  },
  {
   "cell_type": "markdown",
   "id": "8d93232e",
   "metadata": {},
   "source": [
    "#### splir()"
   ]
  },
  {
   "cell_type": "code",
   "execution_count": 76,
   "id": "6fa98b69",
   "metadata": {},
   "outputs": [
    {
     "name": "stdout",
     "output_type": "stream",
     "text": [
      "['hello,', 'how', 'are', 'you?', 'my', 'rank', 'is', '90.']\n"
     ]
    }
   ],
   "source": [
    "print(re.split(r'\\s', 'hello, how are you? my rank is 90.'))"
   ]
  },
  {
   "cell_type": "code",
   "execution_count": 79,
   "id": "27e917a2",
   "metadata": {},
   "outputs": [
    {
     "name": "stdout",
     "output_type": "stream",
     "text": [
      "['hello', 'how', 'are', 'you', 'my', 'rank', 'is', '90', '']\n"
     ]
    }
   ],
   "source": [
    "print(re.split(r'\\W+', 'hello, how are you? my rank is 90.'))"
   ]
  },
  {
   "cell_type": "code",
   "execution_count": 80,
   "id": "f9827189",
   "metadata": {},
   "outputs": [
    {
     "name": "stdout",
     "output_type": "stream",
     "text": [
      "['192', '168', '1', '54']\n"
     ]
    }
   ],
   "source": [
    "print(re.split(r'\\.', '192.168.1.54'))"
   ]
  },
  {
   "cell_type": "code",
   "execution_count": 81,
   "id": "04e35af8",
   "metadata": {},
   "outputs": [
    {
     "name": "stdout",
     "output_type": "stream",
     "text": [
      "['prateek', 'deloitte.com']\n"
     ]
    }
   ],
   "source": [
    "print(re.split(r'@', 'prateek@deloitte.com'))"
   ]
  },
  {
   "cell_type": "markdown",
   "id": "e05bebb9",
   "metadata": {},
   "source": [
    "#### sub()"
   ]
  },
  {
   "cell_type": "code",
   "execution_count": 82,
   "id": "5b8fe746",
   "metadata": {},
   "outputs": [],
   "source": [
    "# substitute the substring"
   ]
  },
  {
   "cell_type": "code",
   "execution_count": 83,
   "id": "db4a889f",
   "metadata": {},
   "outputs": [
    {
     "name": "stdout",
     "output_type": "stream",
     "text": [
      "I like to book Uber cabs. Uber is better.\n"
     ]
    }
   ],
   "source": [
    "s='I like to book Uber cabs. Uber is better.'\n",
    "print(re.sub('UBER', 'Ola', s))"
   ]
  },
  {
   "cell_type": "code",
   "execution_count": 84,
   "id": "e009f84c",
   "metadata": {},
   "outputs": [
    {
     "name": "stdout",
     "output_type": "stream",
     "text": [
      "I like to book Ola cabs. Ola is better.\n"
     ]
    }
   ],
   "source": [
    "s='I like to book Uber cabs. Uber is better.'\n",
    "print(re.sub('UBER', 'Ola', s, flags=re.IGNORECASE))"
   ]
  },
  {
   "cell_type": "code",
   "execution_count": 85,
   "id": "032b78a6",
   "metadata": {},
   "outputs": [
    {
     "name": "stdout",
     "output_type": "stream",
     "text": [
      "I like to book Ola cabs. Uber is better.\n"
     ]
    }
   ],
   "source": [
    "s='I like to book Uber cabs. Uber is better.'\n",
    "print(re.sub('UBER', 'Ola', s, flags=re.IGNORECASE, count=1))"
   ]
  },
  {
   "cell_type": "markdown",
   "id": "428ae1c7",
   "metadata": {},
   "source": [
    "### pattern based search"
   ]
  },
  {
   "cell_type": "code",
   "execution_count": 86,
   "id": "aefcfdef",
   "metadata": {},
   "outputs": [
    {
     "name": "stdout",
     "output_type": "stream",
     "text": [
      "<re.Match object; span=(24, 32), match='27 April'>\n"
     ]
    }
   ],
   "source": [
    "s='I am not available from 27 April'\n",
    "pattern='(\\d+) ([A-Za-z]+)'\n",
    "match=re.search(pattern, s)\n",
    "print(match)"
   ]
  },
  {
   "cell_type": "code",
   "execution_count": 87,
   "id": "7fc78226",
   "metadata": {},
   "outputs": [
    {
     "name": "stdout",
     "output_type": "stream",
     "text": [
      "24 to 32\n"
     ]
    }
   ],
   "source": [
    "print(match.start(), match.end(), sep=' to ')"
   ]
  },
  {
   "cell_type": "code",
   "execution_count": 89,
   "id": "2236a097",
   "metadata": {},
   "outputs": [
    {
     "name": "stdout",
     "output_type": "stream",
     "text": [
      "27 April"
     ]
    }
   ],
   "source": [
    "for indx in range(match.start(), match.end()):\n",
    "    print(s[indx], sep='', end='')"
   ]
  },
  {
   "cell_type": "code",
   "execution_count": 90,
   "id": "98bc6c43",
   "metadata": {},
   "outputs": [
    {
     "data": {
      "text/plain": [
       "'27 April'"
      ]
     },
     "execution_count": 90,
     "metadata": {},
     "output_type": "execute_result"
    }
   ],
   "source": [
    "match.group(0)"
   ]
  },
  {
   "cell_type": "code",
   "execution_count": 91,
   "id": "0b9466ab",
   "metadata": {},
   "outputs": [
    {
     "data": {
      "text/plain": [
       "'27'"
      ]
     },
     "execution_count": 91,
     "metadata": {},
     "output_type": "execute_result"
    }
   ],
   "source": [
    "match.group(1)"
   ]
  },
  {
   "cell_type": "code",
   "execution_count": 92,
   "id": "ede0618e",
   "metadata": {},
   "outputs": [
    {
     "data": {
      "text/plain": [
       "'April'"
      ]
     },
     "execution_count": 92,
     "metadata": {},
     "output_type": "execute_result"
    }
   ],
   "source": [
    "match.group(2)"
   ]
  },
  {
   "cell_type": "markdown",
   "id": "9903bec7",
   "metadata": {},
   "source": [
    "### Examples:"
   ]
  },
  {
   "cell_type": "code",
   "execution_count": 96,
   "id": "4bae6a3f",
   "metadata": {},
   "outputs": [],
   "source": [
    "#  find email id from str and extract it.\n",
    "\n",
    "string='my email id is prateek_9090@deloitte.com. you can send me details here.'"
   ]
  },
  {
   "cell_type": "code",
   "execution_count": 97,
   "id": "37604664",
   "metadata": {},
   "outputs": [],
   "source": [
    "pattern=r'([A-Za-z\\_0-9]+)(@deloitte.com)'"
   ]
  },
  {
   "cell_type": "code",
   "execution_count": 98,
   "id": "fbd8e529",
   "metadata": {},
   "outputs": [
    {
     "name": "stdout",
     "output_type": "stream",
     "text": [
      "<re.Match object; span=(15, 40), match='prateek_9090@deloitte.com'>\n"
     ]
    }
   ],
   "source": [
    "print(re.search(pattern, string))"
   ]
  },
  {
   "cell_type": "code",
   "execution_count": 99,
   "id": "0278ba93",
   "metadata": {},
   "outputs": [
    {
     "name": "stdout",
     "output_type": "stream",
     "text": [
      "prateek_9090@deloitte.com\n"
     ]
    }
   ],
   "source": [
    "print(re.search(pattern, string).group(0))"
   ]
  },
  {
   "cell_type": "code",
   "execution_count": 100,
   "id": "86b7859b",
   "metadata": {},
   "outputs": [],
   "source": [
    "# write a function code that returns number of blank spaces, \n",
    "# special characters and words in a long text"
   ]
  },
  {
   "cell_type": "code",
   "execution_count": 104,
   "id": "8bd2d786",
   "metadata": {},
   "outputs": [
    {
     "data": {
      "text/plain": [
       "(6, 3, 7)"
      ]
     },
     "execution_count": 104,
     "metadata": {},
     "output_type": "execute_result"
    }
   ],
   "source": [
    "def counter(s):\n",
    "    pattern_spaces=r'\\s+'\n",
    "    pattern_spcl_chars=r'\\W'\n",
    "    pattern_words=r'\\w+'\n",
    "        \n",
    "    space_count=len(re.findall(pattern_spaces, s))\n",
    "    spcl_chars_count=len(re.findall(pattern_spcl_chars, s))-space_count\n",
    "    word_count=len(re.findall(pattern_words, s))\n",
    "    \n",
    "    return space_count, spcl_chars_count, word_count\n",
    "\n",
    "counter('hello, I am good! How about you?')"
   ]
  },
  {
   "cell_type": "code",
   "execution_count": 102,
   "id": "69890a0b",
   "metadata": {},
   "outputs": [],
   "source": [
    "# sample output=> (6, 3, 7)"
   ]
  },
  {
   "cell_type": "code",
   "execution_count": null,
   "id": "3a4e52d2",
   "metadata": {},
   "outputs": [],
   "source": []
  },
  {
   "cell_type": "code",
   "execution_count": null,
   "id": "01645f12",
   "metadata": {},
   "outputs": [],
   "source": []
  }
 ],
 "metadata": {
  "kernelspec": {
   "display_name": "Python 3 (ipykernel)",
   "language": "python",
   "name": "python3"
  },
  "language_info": {
   "codemirror_mode": {
    "name": "ipython",
    "version": 3
   },
   "file_extension": ".py",
   "mimetype": "text/x-python",
   "name": "python",
   "nbconvert_exporter": "python",
   "pygments_lexer": "ipython3",
   "version": "3.9.12"
  }
 },
 "nbformat": 4,
 "nbformat_minor": 5
}
