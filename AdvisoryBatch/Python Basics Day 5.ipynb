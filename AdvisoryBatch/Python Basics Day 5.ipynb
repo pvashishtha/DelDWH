{
 "cells": [
  {
   "cell_type": "markdown",
   "id": "d8fb95ec",
   "metadata": {},
   "source": [
    "## Python Basics Day 5"
   ]
  },
  {
   "cell_type": "markdown",
   "id": "71dc9f1a",
   "metadata": {},
   "source": [
    "### Utility Modules"
   ]
  },
  {
   "cell_type": "markdown",
   "id": "f6cb7f1e",
   "metadata": {},
   "source": [
    "#### Math Module"
   ]
  },
  {
   "cell_type": "code",
   "execution_count": 1,
   "id": "1ee3bc9e",
   "metadata": {},
   "outputs": [],
   "source": [
    "import math"
   ]
  },
  {
   "cell_type": "code",
   "execution_count": 2,
   "id": "d618f7aa",
   "metadata": {},
   "outputs": [
    {
     "name": "stdout",
     "output_type": "stream",
     "text": [
      "['__doc__', '__loader__', '__name__', '__package__', '__spec__', 'acos', 'acosh', 'asin', 'asinh', 'atan', 'atan2', 'atanh', 'ceil', 'comb', 'copysign', 'cos', 'cosh', 'degrees', 'dist', 'e', 'erf', 'erfc', 'exp', 'expm1', 'fabs', 'factorial', 'floor', 'fmod', 'frexp', 'fsum', 'gamma', 'gcd', 'hypot', 'inf', 'isclose', 'isfinite', 'isinf', 'isnan', 'isqrt', 'lcm', 'ldexp', 'lgamma', 'log', 'log10', 'log1p', 'log2', 'modf', 'nan', 'nextafter', 'perm', 'pi', 'pow', 'prod', 'radians', 'remainder', 'sin', 'sinh', 'sqrt', 'tan', 'tanh', 'tau', 'trunc', 'ulp']\n"
     ]
    }
   ],
   "source": [
    "print(dir(math))"
   ]
  },
  {
   "cell_type": "code",
   "execution_count": 3,
   "id": "ef725086",
   "metadata": {},
   "outputs": [],
   "source": [
    "# modulename.function"
   ]
  },
  {
   "cell_type": "code",
   "execution_count": 4,
   "id": "1c7977fe",
   "metadata": {},
   "outputs": [
    {
     "data": {
      "text/plain": [
       "3.141592653589793"
      ]
     },
     "execution_count": 4,
     "metadata": {},
     "output_type": "execute_result"
    }
   ],
   "source": [
    "math.pi"
   ]
  },
  {
   "cell_type": "code",
   "execution_count": 5,
   "id": "527c724f",
   "metadata": {},
   "outputs": [
    {
     "data": {
      "text/plain": [
       "2.718281828459045"
      ]
     },
     "execution_count": 5,
     "metadata": {},
     "output_type": "execute_result"
    }
   ],
   "source": [
    "math.e"
   ]
  },
  {
   "cell_type": "code",
   "execution_count": 6,
   "id": "7f09bbc0",
   "metadata": {},
   "outputs": [
    {
     "data": {
      "text/plain": [
       "6.283185307179586"
      ]
     },
     "execution_count": 6,
     "metadata": {},
     "output_type": "execute_result"
    }
   ],
   "source": [
    "math.tau"
   ]
  },
  {
   "cell_type": "code",
   "execution_count": 7,
   "id": "1673aea1",
   "metadata": {},
   "outputs": [
    {
     "data": {
      "text/plain": [
       "4"
      ]
     },
     "execution_count": 7,
     "metadata": {},
     "output_type": "execute_result"
    }
   ],
   "source": [
    "math.ceil(3.14)"
   ]
  },
  {
   "cell_type": "code",
   "execution_count": 8,
   "id": "fa5f29f6",
   "metadata": {},
   "outputs": [
    {
     "data": {
      "text/plain": [
       "3"
      ]
     },
     "execution_count": 8,
     "metadata": {},
     "output_type": "execute_result"
    }
   ],
   "source": [
    "math.floor(3.99)"
   ]
  },
  {
   "cell_type": "code",
   "execution_count": 9,
   "id": "be815364",
   "metadata": {},
   "outputs": [
    {
     "data": {
      "text/plain": [
       "0.8509035245341184"
      ]
     },
     "execution_count": 9,
     "metadata": {},
     "output_type": "execute_result"
    }
   ],
   "source": [
    "math.sin(45)"
   ]
  },
  {
   "cell_type": "code",
   "execution_count": 11,
   "id": "523f582f",
   "metadata": {},
   "outputs": [
    {
     "data": {
      "text/plain": [
       "0.017453292519943295"
      ]
     },
     "execution_count": 11,
     "metadata": {},
     "output_type": "execute_result"
    }
   ],
   "source": [
    "math.radians(1)"
   ]
  },
  {
   "cell_type": "code",
   "execution_count": 12,
   "id": "0ee3f78a",
   "metadata": {},
   "outputs": [
    {
     "data": {
      "text/plain": [
       "5156.620156177409"
      ]
     },
     "execution_count": 12,
     "metadata": {},
     "output_type": "execute_result"
    }
   ],
   "source": [
    "math.degrees(90)"
   ]
  },
  {
   "cell_type": "code",
   "execution_count": 13,
   "id": "209d21bc",
   "metadata": {},
   "outputs": [
    {
     "data": {
      "text/plain": [
       "0.7853981633974483"
      ]
     },
     "execution_count": 13,
     "metadata": {},
     "output_type": "execute_result"
    }
   ],
   "source": [
    "math.radians(45)"
   ]
  },
  {
   "cell_type": "code",
   "execution_count": 14,
   "id": "869ac4ec",
   "metadata": {},
   "outputs": [
    {
     "data": {
      "text/plain": [
       "0.7071067811865476"
      ]
     },
     "execution_count": 14,
     "metadata": {},
     "output_type": "execute_result"
    }
   ],
   "source": [
    "math.sin(math.radians(45))"
   ]
  },
  {
   "cell_type": "code",
   "execution_count": 15,
   "id": "8175a263",
   "metadata": {},
   "outputs": [
    {
     "data": {
      "text/plain": [
       "3.5849625007211565"
      ]
     },
     "execution_count": 15,
     "metadata": {},
     "output_type": "execute_result"
    }
   ],
   "source": [
    "math.log(12, 2)"
   ]
  },
  {
   "cell_type": "code",
   "execution_count": 16,
   "id": "09222c7c",
   "metadata": {},
   "outputs": [
    {
     "data": {
      "text/plain": [
       "1.0"
      ]
     },
     "execution_count": 16,
     "metadata": {},
     "output_type": "execute_result"
    }
   ],
   "source": [
    "math.log10(10)"
   ]
  },
  {
   "cell_type": "code",
   "execution_count": 17,
   "id": "9487c037",
   "metadata": {},
   "outputs": [],
   "source": [
    "import math as m"
   ]
  },
  {
   "cell_type": "code",
   "execution_count": 18,
   "id": "fb37b879",
   "metadata": {},
   "outputs": [
    {
     "data": {
      "text/plain": [
       "1.9459101490553132"
      ]
     },
     "execution_count": 18,
     "metadata": {},
     "output_type": "execute_result"
    }
   ],
   "source": [
    "m.log(7)"
   ]
  },
  {
   "cell_type": "code",
   "execution_count": 19,
   "id": "000e4c08",
   "metadata": {},
   "outputs": [],
   "source": [
    "from math import log, log10"
   ]
  },
  {
   "cell_type": "code",
   "execution_count": 20,
   "id": "18e367bb",
   "metadata": {},
   "outputs": [
    {
     "data": {
      "text/plain": [
       "2.1972245773362196"
      ]
     },
     "execution_count": 20,
     "metadata": {},
     "output_type": "execute_result"
    }
   ],
   "source": [
    "log(9)"
   ]
  },
  {
   "cell_type": "code",
   "execution_count": 21,
   "id": "e0c764ae",
   "metadata": {},
   "outputs": [
    {
     "data": {
      "text/plain": [
       "0.9542425094393249"
      ]
     },
     "execution_count": 21,
     "metadata": {},
     "output_type": "execute_result"
    }
   ],
   "source": [
    "log10(9)"
   ]
  },
  {
   "cell_type": "code",
   "execution_count": 22,
   "id": "81feffbf",
   "metadata": {},
   "outputs": [
    {
     "data": {
      "text/plain": [
       "0.47712125471966244"
      ]
     },
     "execution_count": 22,
     "metadata": {},
     "output_type": "execute_result"
    }
   ],
   "source": [
    "from math import log10 as l10\n",
    "l10(3)"
   ]
  },
  {
   "cell_type": "code",
   "execution_count": 23,
   "id": "e00b0120",
   "metadata": {},
   "outputs": [
    {
     "ename": "NameError",
     "evalue": "name 'sin' is not defined",
     "output_type": "error",
     "traceback": [
      "\u001b[1;31m---------------------------------------------------------------------------\u001b[0m",
      "\u001b[1;31mNameError\u001b[0m                                 Traceback (most recent call last)",
      "Input \u001b[1;32mIn [23]\u001b[0m, in \u001b[0;36m<cell line: 1>\u001b[1;34m()\u001b[0m\n\u001b[1;32m----> 1\u001b[0m \u001b[43msin\u001b[49m(\u001b[38;5;241m4\u001b[39m)\n",
      "\u001b[1;31mNameError\u001b[0m: name 'sin' is not defined"
     ]
    }
   ],
   "source": [
    "sin(4)"
   ]
  },
  {
   "cell_type": "code",
   "execution_count": 24,
   "id": "cd714498",
   "metadata": {},
   "outputs": [],
   "source": [
    "from math import *"
   ]
  },
  {
   "cell_type": "code",
   "execution_count": 25,
   "id": "ad52ff46",
   "metadata": {},
   "outputs": [
    {
     "data": {
      "text/plain": [
       "3.141592653589793"
      ]
     },
     "execution_count": 25,
     "metadata": {},
     "output_type": "execute_result"
    }
   ],
   "source": [
    "pi"
   ]
  },
  {
   "cell_type": "code",
   "execution_count": 28,
   "id": "cb367697",
   "metadata": {},
   "outputs": [
    {
     "data": {
      "text/plain": [
       "0.4121184852417566"
      ]
     },
     "execution_count": 28,
     "metadata": {},
     "output_type": "execute_result"
    }
   ],
   "source": [
    "sin(9)"
   ]
  },
  {
   "cell_type": "code",
   "execution_count": 29,
   "id": "9a7c7854",
   "metadata": {},
   "outputs": [
    {
     "data": {
      "text/plain": [
       "8.0"
      ]
     },
     "execution_count": 29,
     "metadata": {},
     "output_type": "execute_result"
    }
   ],
   "source": [
    "math.pow(2,3)"
   ]
  },
  {
   "cell_type": "markdown",
   "id": "f517819a",
   "metadata": {},
   "source": [
    "### Time Module"
   ]
  },
  {
   "cell_type": "code",
   "execution_count": 30,
   "id": "f5a45f6e",
   "metadata": {},
   "outputs": [],
   "source": [
    "import time"
   ]
  },
  {
   "cell_type": "code",
   "execution_count": 31,
   "id": "a7bee564",
   "metadata": {},
   "outputs": [
    {
     "data": {
      "text/plain": [
       "1681447219.5078332"
      ]
     },
     "execution_count": 31,
     "metadata": {},
     "output_type": "execute_result"
    }
   ],
   "source": [
    "time.time()"
   ]
  },
  {
   "cell_type": "code",
   "execution_count": 32,
   "id": "efed4493",
   "metadata": {},
   "outputs": [
    {
     "data": {
      "text/plain": [
       "1681447244.8187113"
      ]
     },
     "execution_count": 32,
     "metadata": {},
     "output_type": "execute_result"
    }
   ],
   "source": [
    "time.time()"
   ]
  },
  {
   "cell_type": "code",
   "execution_count": 33,
   "id": "fe5cf46e",
   "metadata": {},
   "outputs": [],
   "source": [
    "localtime=time.ctime(time.time())"
   ]
  },
  {
   "cell_type": "code",
   "execution_count": 34,
   "id": "c9fca84f",
   "metadata": {},
   "outputs": [
    {
     "data": {
      "text/plain": [
       "'Fri Apr 14 10:11:41 2023'"
      ]
     },
     "execution_count": 34,
     "metadata": {},
     "output_type": "execute_result"
    }
   ],
   "source": [
    "localtime"
   ]
  },
  {
   "cell_type": "code",
   "execution_count": 35,
   "id": "680d0a0b",
   "metadata": {},
   "outputs": [],
   "source": [
    "time.sleep(2)"
   ]
  },
  {
   "cell_type": "code",
   "execution_count": 36,
   "id": "3a64409b",
   "metadata": {},
   "outputs": [
    {
     "name": "stdout",
     "output_type": "stream",
     "text": [
      "D E L O I T T E   U S I "
     ]
    }
   ],
   "source": [
    "s='DELOITTE USI'\n",
    "for char in s:\n",
    "    print(char, end=' ')\n",
    "    time.sleep(1)"
   ]
  },
  {
   "cell_type": "code",
   "execution_count": 37,
   "id": "b527dff3",
   "metadata": {},
   "outputs": [
    {
     "data": {
      "text/plain": [
       "time.struct_time(tm_year=2023, tm_mon=4, tm_mday=14, tm_hour=10, tm_min=14, tm_sec=28, tm_wday=4, tm_yday=104, tm_isdst=0)"
      ]
     },
     "execution_count": 37,
     "metadata": {},
     "output_type": "execute_result"
    }
   ],
   "source": [
    "res=time.localtime(time.time())\n",
    "res"
   ]
  },
  {
   "cell_type": "code",
   "execution_count": 38,
   "id": "299d1a06",
   "metadata": {},
   "outputs": [
    {
     "data": {
      "text/plain": [
       "2023"
      ]
     },
     "execution_count": 38,
     "metadata": {},
     "output_type": "execute_result"
    }
   ],
   "source": [
    "res.tm_year"
   ]
  },
  {
   "cell_type": "code",
   "execution_count": 39,
   "id": "de967bc9",
   "metadata": {},
   "outputs": [
    {
     "data": {
      "text/plain": [
       "14"
      ]
     },
     "execution_count": 39,
     "metadata": {},
     "output_type": "execute_result"
    }
   ],
   "source": [
    "res.tm_mday"
   ]
  },
  {
   "cell_type": "code",
   "execution_count": 40,
   "id": "c76ccdb0",
   "metadata": {},
   "outputs": [
    {
     "data": {
      "text/plain": [
       "10"
      ]
     },
     "execution_count": 40,
     "metadata": {},
     "output_type": "execute_result"
    }
   ],
   "source": [
    "res.tm_hour"
   ]
  },
  {
   "cell_type": "code",
   "execution_count": 41,
   "id": "1907f6e6",
   "metadata": {},
   "outputs": [],
   "source": [
    "# time.mktime(year, month, day, hour, min, sec, \n",
    "#                 weekday, day_of_year, daylight)"
   ]
  },
  {
   "cell_type": "code",
   "execution_count": 43,
   "id": "11787b37",
   "metadata": {},
   "outputs": [],
   "source": [
    "sec=time.mktime((2023, 4, 14, 9, 0, 0, 5, 104, 0))"
   ]
  },
  {
   "cell_type": "code",
   "execution_count": 44,
   "id": "5f947111",
   "metadata": {},
   "outputs": [
    {
     "data": {
      "text/plain": [
       "1681443000.0"
      ]
     },
     "execution_count": 44,
     "metadata": {},
     "output_type": "execute_result"
    }
   ],
   "source": [
    "sec"
   ]
  },
  {
   "cell_type": "code",
   "execution_count": 45,
   "id": "cc8d84a2",
   "metadata": {},
   "outputs": [
    {
     "data": {
      "text/plain": [
       "time.struct_time(tm_year=2023, tm_mon=4, tm_mday=14, tm_hour=10, tm_min=21, tm_sec=6, tm_wday=4, tm_yday=104, tm_isdst=0)"
      ]
     },
     "execution_count": 45,
     "metadata": {},
     "output_type": "execute_result"
    }
   ],
   "source": [
    "# time.strftime()\n",
    "tm=time.localtime()\n",
    "tm"
   ]
  },
  {
   "cell_type": "code",
   "execution_count": 46,
   "id": "9dea8caf",
   "metadata": {},
   "outputs": [
    {
     "data": {
      "text/plain": [
       "'04/14/2023 10:21:06'"
      ]
     },
     "execution_count": 46,
     "metadata": {},
     "output_type": "execute_result"
    }
   ],
   "source": [
    "time.strftime(\"%m/%d/%Y %H:%M:%S\", tm)"
   ]
  },
  {
   "cell_type": "code",
   "execution_count": 47,
   "id": "a3b5b2c3",
   "metadata": {},
   "outputs": [
    {
     "name": "stdout",
     "output_type": "stream",
     "text": [
      "time.struct_time(tm_year=2023, tm_mon=4, tm_mday=14, tm_hour=0, tm_min=0, tm_sec=0, tm_wday=4, tm_yday=104, tm_isdst=-1)\n"
     ]
    }
   ],
   "source": [
    "# time.strptime()\n",
    "\n",
    "tm=\"14 April 2023\"\n",
    "res=time.strptime(tm, \"%d %B %Y\")\n",
    "print(res)"
   ]
  },
  {
   "cell_type": "markdown",
   "id": "c984f33a",
   "metadata": {},
   "source": [
    "#### OS Module"
   ]
  },
  {
   "cell_type": "code",
   "execution_count": 48,
   "id": "428978fa",
   "metadata": {},
   "outputs": [],
   "source": [
    "import os"
   ]
  },
  {
   "cell_type": "code",
   "execution_count": 49,
   "id": "21cd8541",
   "metadata": {},
   "outputs": [
    {
     "data": {
      "text/plain": [
       "'C:\\\\Users\\\\pvashishtha\\\\Desktop\\\\Python Basics'"
      ]
     },
     "execution_count": 49,
     "metadata": {},
     "output_type": "execute_result"
    }
   ],
   "source": [
    "os.getcwd()"
   ]
  },
  {
   "cell_type": "code",
   "execution_count": 50,
   "id": "caee243b",
   "metadata": {},
   "outputs": [],
   "source": [
    "os.chdir('C:\\\\Users\\\\pvashishtha\\\\Desktop')"
   ]
  },
  {
   "cell_type": "code",
   "execution_count": 51,
   "id": "1cb7af6a",
   "metadata": {},
   "outputs": [
    {
     "data": {
      "text/plain": [
       "'C:\\\\Users\\\\pvashishtha\\\\Desktop'"
      ]
     },
     "execution_count": 51,
     "metadata": {},
     "output_type": "execute_result"
    }
   ],
   "source": [
    "os.getcwd()"
   ]
  },
  {
   "cell_type": "code",
   "execution_count": 52,
   "id": "d67edba7",
   "metadata": {},
   "outputs": [],
   "source": [
    "os.chdir('C:\\\\Users\\\\pvashishtha\\\\Desktop\\\\Python Basics')"
   ]
  },
  {
   "cell_type": "code",
   "execution_count": 53,
   "id": "31de068c",
   "metadata": {},
   "outputs": [],
   "source": [
    "os.mkdir('MyFolder1.1')"
   ]
  },
  {
   "cell_type": "code",
   "execution_count": 54,
   "id": "a79fb83a",
   "metadata": {},
   "outputs": [],
   "source": [
    "os.rmdir('MyFolder1.1')"
   ]
  },
  {
   "cell_type": "code",
   "execution_count": 55,
   "id": "64f438eb",
   "metadata": {},
   "outputs": [],
   "source": [
    "os.rename('articles.txt', 'text_to_process.txt')"
   ]
  },
  {
   "cell_type": "code",
   "execution_count": 56,
   "id": "8122f03b",
   "metadata": {},
   "outputs": [],
   "source": [
    "os.unlink('text_to_process.txt')"
   ]
  },
  {
   "cell_type": "code",
   "execution_count": 58,
   "id": "0b292c66",
   "metadata": {
    "collapsed": true
   },
   "outputs": [
    {
     "data": {
      "text/plain": [
       "'C:\\\\Users\\\\pvashishtha\\\\Anaconda3;C:\\\\Users\\\\pvashishtha\\\\Anaconda3\\\\Library\\\\mingw-w64\\\\bin;C:\\\\Users\\\\pvashishtha\\\\Anaconda3\\\\Library\\\\usr\\\\bin;C:\\\\Users\\\\pvashishtha\\\\Anaconda3\\\\Library\\\\bin;C:\\\\Users\\\\pvashishtha\\\\Anaconda3\\\\Scripts;C:\\\\WINDOWS\\\\system32;C:\\\\WINDOWS;C:\\\\WINDOWS\\\\System32\\\\Wbem;C:\\\\WINDOWS\\\\System32\\\\WindowsPowerShell\\\\v1.0\\\\;C:\\\\WINDOWS\\\\System32\\\\OpenSSH\\\\;C:\\\\Users\\\\pvashishtha\\\\AppData\\\\Local\\\\Programs\\\\Python\\\\Python38;C:\\\\Users\\\\pvashishtha\\\\AppData\\\\Local\\\\Programs\\\\Python\\\\Python38\\\\Scripts;C:\\\\Users\\\\pvashishtha\\\\AppData\\\\Local\\\\Microsoft\\\\WindowsApps;C:\\\\Program Files\\\\Microsoft SQL Server\\\\Client SDK\\\\ODBC\\\\170\\\\Tools\\\\Binn\\\\;C:\\\\Program Files (x86)\\\\Microsoft SQL Server\\\\150\\\\Tools\\\\Binn\\\\;C:\\\\Program Files\\\\Microsoft SQL Server\\\\150\\\\Tools\\\\Binn\\\\;C:\\\\Program Files\\\\Microsoft SQL Server\\\\150\\\\DTS\\\\Binn\\\\;C:\\\\Program Files (x86)\\\\Microsoft SQL Server\\\\150\\\\DTS\\\\Binn\\\\;C:\\\\Program Files\\\\Azure Data Studio\\\\bin;C:\\\\Users\\\\pvashishtha\\\\Anaconda3\\\\Scripts;C:\\\\Users\\\\pvashishtha\\\\Anaconda3;C:\\\\Users\\\\pvashishtha\\\\Anaconda3\\\\Scripts;C:\\\\Program Files (x86)\\\\Nmap;C:\\\\Program Files\\\\dotnet\\\\;C:\\\\Users\\\\pvashishtha\\\\AppData\\\\Local\\\\Programs\\\\Python\\\\Python38;C:\\\\Users\\\\pvashishtha\\\\AppData\\\\Local\\\\Programs\\\\Python\\\\Python38\\\\Scripts;C:\\\\Users\\\\pvashishtha\\\\AppData\\\\Local\\\\Microsoft\\\\WindowsApps;C:\\\\Users\\\\pvashishtha\\\\AppData\\\\Local\\\\Programs\\\\Microsoft VS Code\\\\bin;C:\\\\Users\\\\pvashishtha\\\\Anaconda3\\\\condabin;C:\\\\Users\\\\pvashishtha\\\\Anaconda3\\\\Scripts;C:\\\\Program Files\\\\Azure Data Studio\\\\bin;C:\\\\Users\\\\pvashishtha\\\\Anaconda3;C:\\\\Program Files (x86)\\\\Nmap;C:\\\\Program Files (x86)\\\\Nmap;C:\\\\Users\\\\pvashishtha\\\\.dotnet\\\\tools'"
      ]
     },
     "execution_count": 58,
     "metadata": {},
     "output_type": "execute_result"
    }
   ],
   "source": [
    "os.getenv('Path')"
   ]
  },
  {
   "cell_type": "code",
   "execution_count": 59,
   "id": "71698b07",
   "metadata": {},
   "outputs": [
    {
     "data": {
      "text/plain": [
       "'nt'"
      ]
     },
     "execution_count": 59,
     "metadata": {},
     "output_type": "execute_result"
    }
   ],
   "source": [
    "os.name"
   ]
  },
  {
   "cell_type": "code",
   "execution_count": 63,
   "id": "b28c202c",
   "metadata": {},
   "outputs": [
    {
     "data": {
      "text/plain": [
       "'pvashishtha'"
      ]
     },
     "execution_count": 63,
     "metadata": {},
     "output_type": "execute_result"
    }
   ],
   "source": [
    "os.getlogin()"
   ]
  },
  {
   "cell_type": "code",
   "execution_count": 64,
   "id": "713359ae",
   "metadata": {},
   "outputs": [
    {
     "data": {
      "text/plain": [
       "['.ipynb_checkpoints',\n",
       " 'all_data_file.pv',\n",
       " 'first_program.py',\n",
       " 'myfile.txt',\n",
       " 'newfile.txt',\n",
       " 'panda.jpeg',\n",
       " 'panda_copy.jpeg',\n",
       " 'panda_copy_2.jpeg',\n",
       " 'Python Basics Day 1.ipynb',\n",
       " 'Python Basics Day 2.ipynb',\n",
       " 'Python Basics Day 3.ipynb',\n",
       " 'Python Basics Day 4.ipynb',\n",
       " 'Python Basics Day 5.ipynb']"
      ]
     },
     "execution_count": 64,
     "metadata": {},
     "output_type": "execute_result"
    }
   ],
   "source": [
    "os.listdir()"
   ]
  },
  {
   "cell_type": "code",
   "execution_count": 67,
   "id": "756072aa",
   "metadata": {},
   "outputs": [
    {
     "data": {
      "text/plain": [
       "['.ipynb_checkpoints',\n",
       " 'Deloitte Remote Assistance.lnk',\n",
       " 'Deloitte- Tech (Python)',\n",
       " 'desktop.ini',\n",
       " 'FDN_DWH_ETL Fundamentals_Testing_Agile Fundamentals_1wk',\n",
       " 'FDN_Python_2wk',\n",
       " 'FDN_SQL_Adv SQL_1wk',\n",
       " 'Following are the agenda items that I would like to discuss.docx',\n",
       " 'GCP',\n",
       " 'Microsoft Teams.lnk',\n",
       " 'object_oriented_python_tutorial.pdf',\n",
       " 'OneDrive.lnk',\n",
       " 'PRE_SQL_PLSQL_4d',\n",
       " 'PV',\n",
       " 'PyAPI',\n",
       " 'Python Basics',\n",
       " 'subjective_Python_.docx',\n",
       " 'Tech List.xlsx',\n",
       " 'Untitled.ipynb']"
      ]
     },
     "execution_count": 67,
     "metadata": {},
     "output_type": "execute_result"
    }
   ],
   "source": [
    "os.listdir('C:\\\\Users\\\\pvashishtha\\\\Desktop')"
   ]
  },
  {
   "cell_type": "code",
   "execution_count": 68,
   "id": "1295a0c2",
   "metadata": {},
   "outputs": [
    {
     "data": {
      "text/plain": [
       "'C:\\\\User\\\\pvashishtha\\\\Desktop\\\\python_programs'"
      ]
     },
     "execution_count": 68,
     "metadata": {},
     "output_type": "execute_result"
    }
   ],
   "source": [
    "directory='python_programs'\n",
    "parent='C:\\\\User\\\\pvashishtha\\\\Desktop'\n",
    "\n",
    "p=os.path.join(parent, directory)\n",
    "p"
   ]
  },
  {
   "cell_type": "code",
   "execution_count": 78,
   "id": "c6106192",
   "metadata": {},
   "outputs": [],
   "source": [
    "file=os.popen('myfile.txt','r')\n",
    "#file.read()"
   ]
  },
  {
   "cell_type": "code",
   "execution_count": 81,
   "id": "fbf7f4a0",
   "metadata": {},
   "outputs": [
    {
     "data": {
      "text/plain": [
       "5"
      ]
     },
     "execution_count": 81,
     "metadata": {},
     "output_type": "execute_result"
    }
   ],
   "source": [
    "file=os.popen('myfile.txt','w')\n",
    "file.write('hello')"
   ]
  },
  {
   "cell_type": "markdown",
   "id": "31eb38e8",
   "metadata": {},
   "source": [
    "### Random  Module"
   ]
  },
  {
   "cell_type": "code",
   "execution_count": 82,
   "id": "1491de65",
   "metadata": {},
   "outputs": [],
   "source": [
    "import random"
   ]
  },
  {
   "cell_type": "code",
   "execution_count": 84,
   "id": "5627d2f3",
   "metadata": {},
   "outputs": [
    {
     "data": {
      "text/plain": [
       "0.40678550502217947"
      ]
     },
     "execution_count": 84,
     "metadata": {},
     "output_type": "execute_result"
    }
   ],
   "source": [
    "random.random() # it generates random number bet 0 and 1"
   ]
  },
  {
   "cell_type": "code",
   "execution_count": 87,
   "id": "e9ec1cdf",
   "metadata": {},
   "outputs": [
    {
     "data": {
      "text/plain": [
       "73"
      ]
     },
     "execution_count": 87,
     "metadata": {},
     "output_type": "execute_result"
    }
   ],
   "source": [
    "random.randint(70, 100)"
   ]
  },
  {
   "cell_type": "code",
   "execution_count": 89,
   "id": "4a5b0e16",
   "metadata": {},
   "outputs": [
    {
     "name": "stdout",
     "output_type": "stream",
     "text": [
      "96\n",
      "91\n",
      "93\n",
      "91\n",
      "98\n"
     ]
    }
   ],
   "source": [
    "for i in range(5):\n",
    "    print(random.randint(90,99))"
   ]
  },
  {
   "cell_type": "code",
   "execution_count": 93,
   "id": "e9e43afc",
   "metadata": {},
   "outputs": [
    {
     "data": {
      "text/plain": [
       "30"
      ]
     },
     "execution_count": 93,
     "metadata": {},
     "output_type": "execute_result"
    }
   ],
   "source": [
    "random.randrange(30, 50)"
   ]
  },
  {
   "cell_type": "code",
   "execution_count": 96,
   "id": "9426291c",
   "metadata": {},
   "outputs": [
    {
     "data": {
      "text/plain": [
       "46.60791676667587"
      ]
     },
     "execution_count": 96,
     "metadata": {},
     "output_type": "execute_result"
    }
   ],
   "source": [
    "random.uniform(30,50)"
   ]
  },
  {
   "cell_type": "code",
   "execution_count": 97,
   "id": "6acc7dcf",
   "metadata": {},
   "outputs": [
    {
     "data": {
      "text/plain": [
       "0.526614134420619"
      ]
     },
     "execution_count": 97,
     "metadata": {},
     "output_type": "execute_result"
    }
   ],
   "source": [
    "random.gauss(10,20)"
   ]
  },
  {
   "cell_type": "code",
   "execution_count": 100,
   "id": "00d2e148",
   "metadata": {},
   "outputs": [
    {
     "data": {
      "text/plain": [
       "67"
      ]
     },
     "execution_count": 100,
     "metadata": {},
     "output_type": "execute_result"
    }
   ],
   "source": [
    "li=[10,12,15,67,89,54]\n",
    "random.choice(li)"
   ]
  },
  {
   "cell_type": "code",
   "execution_count": 105,
   "id": "af836104",
   "metadata": {},
   "outputs": [
    {
     "data": {
      "text/plain": [
       "3"
      ]
     },
     "execution_count": 105,
     "metadata": {},
     "output_type": "execute_result"
    }
   ],
   "source": [
    "li=[1,2,3,4,5,6]\n",
    "random.choice(li)"
   ]
  },
  {
   "cell_type": "markdown",
   "id": "0a315f55",
   "metadata": {},
   "source": [
    "#### Write a function captcha(n) that generates a captcha security code having uppercase, lowercase alphabets and numbers, having length as 'n'.\n"
   ]
  },
  {
   "cell_type": "code",
   "execution_count": 117,
   "id": "9fd16a77",
   "metadata": {},
   "outputs": [],
   "source": [
    "def captcha(n):\n",
    "    captcha_code=''\n",
    "    up_alpha=[chr(x) for x in range(65,91)]\n",
    "    lo_alpha=[chr(x) for x in range(97, 123)]\n",
    "    num=[x for x in range(10)]\n",
    "    db=[num, up_alpha, lo_alpha]\n",
    "    for i in range(n):\n",
    "        ch=random.choice(db)\n",
    "        char=random.choice(ch)\n",
    "        captcha_code+=str(char)\n",
    "    return captcha_code"
   ]
  },
  {
   "cell_type": "code",
   "execution_count": 122,
   "id": "0662704a",
   "metadata": {},
   "outputs": [
    {
     "data": {
      "text/plain": [
       "'o7yHd8'"
      ]
     },
     "execution_count": 122,
     "metadata": {},
     "output_type": "execute_result"
    }
   ],
   "source": [
    "captcha(6)"
   ]
  },
  {
   "cell_type": "code",
   "execution_count": 136,
   "id": "07df1321",
   "metadata": {},
   "outputs": [
    {
     "data": {
      "text/plain": [
       "[468, 152, 952, 553, 226, 155, 788, 38, 409, 995]"
      ]
     },
     "execution_count": 136,
     "metadata": {},
     "output_type": "execute_result"
    }
   ],
   "source": [
    "# random.choices()\n",
    "\n",
    "random.choices([x for x in range(1000)], k=10)"
   ]
  },
  {
   "cell_type": "code",
   "execution_count": 139,
   "id": "a07bf342",
   "metadata": {},
   "outputs": [],
   "source": [
    "# random.shuffle(list)\n",
    "li=[1,2,3,4,5,6]\n",
    "random.shuffle(li)"
   ]
  },
  {
   "cell_type": "code",
   "execution_count": 140,
   "id": "86e36f85",
   "metadata": {},
   "outputs": [
    {
     "data": {
      "text/plain": [
       "[4, 6, 1, 2, 3, 5]"
      ]
     },
     "execution_count": 140,
     "metadata": {},
     "output_type": "execute_result"
    }
   ],
   "source": [
    "li"
   ]
  },
  {
   "cell_type": "code",
   "execution_count": 141,
   "id": "69821ae5",
   "metadata": {},
   "outputs": [
    {
     "data": {
      "text/plain": [
       "0.07476791151367024"
      ]
     },
     "execution_count": 141,
     "metadata": {},
     "output_type": "execute_result"
    }
   ],
   "source": [
    "random.random()"
   ]
  },
  {
   "cell_type": "code",
   "execution_count": 142,
   "id": "75536927",
   "metadata": {},
   "outputs": [
    {
     "data": {
      "text/plain": [
       "0.6394267984578837"
      ]
     },
     "execution_count": 142,
     "metadata": {},
     "output_type": "execute_result"
    }
   ],
   "source": [
    "random.seed(42)\n",
    "random.random()"
   ]
  },
  {
   "cell_type": "code",
   "execution_count": null,
   "id": "de0d3e46",
   "metadata": {},
   "outputs": [],
   "source": []
  },
  {
   "cell_type": "code",
   "execution_count": 143,
   "id": "866384f3",
   "metadata": {},
   "outputs": [],
   "source": [
    "# filter(function_name, iterable/sequence)"
   ]
  },
  {
   "cell_type": "code",
   "execution_count": 144,
   "id": "9ff29d4f",
   "metadata": {},
   "outputs": [],
   "source": [
    "li=[1,3,5,2,7,9,6,4,2,12,56,44,33,55,67,90]"
   ]
  },
  {
   "cell_type": "code",
   "execution_count": 145,
   "id": "8244a524",
   "metadata": {},
   "outputs": [],
   "source": [
    "def get_even(x):\n",
    "    return x%2==0"
   ]
  },
  {
   "cell_type": "code",
   "execution_count": 147,
   "id": "583cf1d4",
   "metadata": {},
   "outputs": [
    {
     "data": {
      "text/plain": [
       "[2, 6, 4, 2, 12, 56, 44, 90]"
      ]
     },
     "execution_count": 147,
     "metadata": {},
     "output_type": "execute_result"
    }
   ],
   "source": [
    "list(filter(get_even, li))"
   ]
  },
  {
   "cell_type": "code",
   "execution_count": 148,
   "id": "404fb2ed",
   "metadata": {},
   "outputs": [],
   "source": [
    "def get_mul5(x):\n",
    "    return x%5==0"
   ]
  },
  {
   "cell_type": "code",
   "execution_count": 149,
   "id": "f99b3902",
   "metadata": {},
   "outputs": [
    {
     "data": {
      "text/plain": [
       "[5, 55, 90]"
      ]
     },
     "execution_count": 149,
     "metadata": {},
     "output_type": "execute_result"
    }
   ],
   "source": [
    "list(filter(get_mul5, li))"
   ]
  },
  {
   "cell_type": "code",
   "execution_count": 150,
   "id": "6e3e5c61",
   "metadata": {},
   "outputs": [],
   "source": [
    "# lambda"
   ]
  },
  {
   "cell_type": "code",
   "execution_count": 151,
   "id": "5b7e8d73",
   "metadata": {},
   "outputs": [
    {
     "data": {
      "text/plain": [
       "[3, 9, 6, 12, 33, 90]"
      ]
     },
     "execution_count": 151,
     "metadata": {},
     "output_type": "execute_result"
    }
   ],
   "source": [
    "list(filter(lambda x:x%3==0, li))"
   ]
  },
  {
   "cell_type": "code",
   "execution_count": 156,
   "id": "70899bee",
   "metadata": {},
   "outputs": [
    {
     "data": {
      "text/plain": [
       "[1, 3, 5, 2, 7, 9, 6, 4, 2, 12, 56, 44, 33, 55, 67, 90]"
      ]
     },
     "execution_count": 156,
     "metadata": {},
     "output_type": "execute_result"
    }
   ],
   "source": [
    "list(filter(lambda x: x, li))"
   ]
  },
  {
   "cell_type": "code",
   "execution_count": null,
   "id": "44111f56",
   "metadata": {},
   "outputs": [],
   "source": []
  },
  {
   "cell_type": "markdown",
   "id": "782b84e6",
   "metadata": {},
   "source": [
    "#### varibale Length Arguments- Revisited"
   ]
  },
  {
   "cell_type": "code",
   "execution_count": 170,
   "id": "0fe410c1",
   "metadata": {},
   "outputs": [],
   "source": [
    "def myfun(x, y, *args, **kwargs):\n",
    "    print(x,y)\n",
    "    print(sum(args))\n",
    "    print(sum([x for x in kwargs.values()]))"
   ]
  },
  {
   "cell_type": "code",
   "execution_count": 177,
   "id": "25ed9592",
   "metadata": {},
   "outputs": [
    {
     "name": "stdout",
     "output_type": "stream",
     "text": [
      "900 901\n",
      "39\n",
      "60\n"
     ]
    }
   ],
   "source": [
    "myfun(900, 901, 12,13,14,  a=10, b=20, c=30)"
   ]
  },
  {
   "cell_type": "markdown",
   "id": "fe0330e2",
   "metadata": {},
   "source": [
    "### compile"
   ]
  },
  {
   "cell_type": "code",
   "execution_count": 182,
   "id": "d750900d",
   "metadata": {},
   "outputs": [],
   "source": [
    "code='''x=int(input())\n",
    "y=int(input())\n",
    "z=x+y\n",
    "print(f\"Z Value: {z}\")'''"
   ]
  },
  {
   "cell_type": "code",
   "execution_count": 183,
   "id": "1530aa4e",
   "metadata": {},
   "outputs": [],
   "source": [
    "# compile(str_code, filename, mode) # mode= exec | eval\n",
    "compiled_code=compile(code, '', 'exec')"
   ]
  },
  {
   "cell_type": "code",
   "execution_count": 184,
   "id": "c9344487",
   "metadata": {},
   "outputs": [
    {
     "name": "stdout",
     "output_type": "stream",
     "text": [
      "34\n",
      "45\n",
      "Z Value: 79\n"
     ]
    }
   ],
   "source": [
    "exec(compiled_code)"
   ]
  },
  {
   "cell_type": "code",
   "execution_count": 185,
   "id": "6cb3476e",
   "metadata": {},
   "outputs": [],
   "source": [
    "expression='45+67*8/3**5'"
   ]
  },
  {
   "cell_type": "code",
   "execution_count": 187,
   "id": "8fdeb865",
   "metadata": {},
   "outputs": [],
   "source": [
    "compiled_code=compile(expression, '', 'eval')"
   ]
  },
  {
   "cell_type": "code",
   "execution_count": 188,
   "id": "aab4146f",
   "metadata": {},
   "outputs": [
    {
     "data": {
      "text/plain": [
       "47.205761316872426"
      ]
     },
     "execution_count": 188,
     "metadata": {},
     "output_type": "execute_result"
    }
   ],
   "source": [
    "eval(compiled_code)"
   ]
  },
  {
   "cell_type": "markdown",
   "id": "04263375",
   "metadata": {},
   "source": [
    "#### Decorator Revisited"
   ]
  },
  {
   "cell_type": "code",
   "execution_count": 189,
   "id": "7648b1b4",
   "metadata": {},
   "outputs": [],
   "source": [
    "import time\n",
    "\n",
    "def timer(func):\n",
    "    def inner(*args, **kwargs):\n",
    "        start=time.time()\n",
    "        func()\n",
    "        end=time.time()\n",
    "        print(f'Time to Execute: {func.__name__} is: {round((end-start),2)} seconds')\n",
    "    return inner"
   ]
  },
  {
   "cell_type": "code",
   "execution_count": 197,
   "id": "7acd3531",
   "metadata": {},
   "outputs": [],
   "source": [
    "@timer\n",
    "def run_for():\n",
    "    for i in range(10000):\n",
    "        for j in range(10000):\n",
    "            pass\n",
    "        pass\n",
    "    return None"
   ]
  },
  {
   "cell_type": "code",
   "execution_count": 198,
   "id": "641875b8",
   "metadata": {},
   "outputs": [
    {
     "name": "stdout",
     "output_type": "stream",
     "text": [
      "Time to Execute: run_for is: 1.08 seconds\n"
     ]
    }
   ],
   "source": [
    "run_for()"
   ]
  },
  {
   "cell_type": "code",
   "execution_count": 199,
   "id": "1ea75725",
   "metadata": {},
   "outputs": [],
   "source": [
    "@timer\n",
    "def run_msg():\n",
    "    counter=0\n",
    "    for i in range(10000):\n",
    "        counter+=1\n",
    "        for j in range(10000):\n",
    "            counter+=1\n",
    "    print('Counter: ',counter)\n",
    "    return None"
   ]
  },
  {
   "cell_type": "code",
   "execution_count": 200,
   "id": "4ebb2496",
   "metadata": {},
   "outputs": [
    {
     "name": "stdout",
     "output_type": "stream",
     "text": [
      "Counter:  100010000\n",
      "Time to Execute: run_msg is: 3.39 seconds\n"
     ]
    }
   ],
   "source": [
    "run_msg()"
   ]
  },
  {
   "cell_type": "code",
   "execution_count": null,
   "id": "ac7aab36",
   "metadata": {},
   "outputs": [],
   "source": [
    "# "
   ]
  },
  {
   "cell_type": "code",
   "execution_count": null,
   "id": "386eabef",
   "metadata": {},
   "outputs": [],
   "source": []
  },
  {
   "cell_type": "code",
   "execution_count": null,
   "id": "fe5ad727",
   "metadata": {},
   "outputs": [],
   "source": []
  },
  {
   "cell_type": "code",
   "execution_count": null,
   "id": "619f695c",
   "metadata": {},
   "outputs": [],
   "source": []
  },
  {
   "cell_type": "code",
   "execution_count": null,
   "id": "ae646530",
   "metadata": {},
   "outputs": [],
   "source": []
  }
 ],
 "metadata": {
  "kernelspec": {
   "display_name": "Python 3 (ipykernel)",
   "language": "python",
   "name": "python3"
  },
  "language_info": {
   "codemirror_mode": {
    "name": "ipython",
    "version": 3
   },
   "file_extension": ".py",
   "mimetype": "text/x-python",
   "name": "python",
   "nbconvert_exporter": "python",
   "pygments_lexer": "ipython3",
   "version": "3.9.12"
  }
 },
 "nbformat": 4,
 "nbformat_minor": 5
}
