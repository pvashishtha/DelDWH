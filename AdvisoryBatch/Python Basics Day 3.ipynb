{
 "cells": [
  {
   "cell_type": "markdown",
   "id": "6c3460fe",
   "metadata": {},
   "source": [
    "## Python Basics Day 3"
   ]
  },
  {
   "cell_type": "code",
   "execution_count": 5,
   "id": "83cb1514",
   "metadata": {},
   "outputs": [
    {
     "data": {
      "text/plain": [
       "'H*ppy B*rthd*y P*r*d*x'"
      ]
     },
     "execution_count": 5,
     "metadata": {},
     "output_type": "execute_result"
    }
   ],
   "source": [
    "# write a function to accept string argument and replace all\n",
    "# vowels in string with \"*\" symbol.\n",
    "def change_vowels(sentence):\n",
    "    for char in sentence:\n",
    "        if char.lower() in 'aeiou':\n",
    "            sentence=sentence.replace(char, '*')\n",
    "    return sentence\n",
    "change_vowels('Happy Birthday Paradox')"
   ]
  },
  {
   "cell_type": "code",
   "execution_count": 6,
   "id": "55b07a04",
   "metadata": {},
   "outputs": [
    {
     "name": "stdout",
     "output_type": "stream",
     "text": [
      "Happy => 1\n",
      "Joyful => 2\n",
      "Evening => 3\n"
     ]
    }
   ],
   "source": [
    "# write a function that finds the number vowels in ech word \n",
    "# in given string\n",
    "def find_vowels(sentence):\n",
    "    for word in sentence.split():\n",
    "        counter=0\n",
    "        for char in word:\n",
    "            if char.lower() in 'aeiou':\n",
    "                counter+=1\n",
    "        print(f'{word} => {counter}')\n",
    "find_vowels('Happy Joyful Evening')"
   ]
  },
  {
   "cell_type": "markdown",
   "id": "7df22d06",
   "metadata": {},
   "source": [
    "## In Built Data Structures"
   ]
  },
  {
   "cell_type": "code",
   "execution_count": 7,
   "id": "d5146ae2",
   "metadata": {},
   "outputs": [],
   "source": [
    "# Sequences\n",
    "    # strings\n",
    "    # Tuple\n",
    "    # List"
   ]
  },
  {
   "cell_type": "code",
   "execution_count": 8,
   "id": "2e6dcb22",
   "metadata": {},
   "outputs": [],
   "source": [
    "# Non-Sequntial\n",
    "    # Set\n",
    "    # Dictionary"
   ]
  },
  {
   "cell_type": "markdown",
   "id": "ac32ecf7",
   "metadata": {},
   "source": [
    "### Tuple"
   ]
  },
  {
   "cell_type": "code",
   "execution_count": null,
   "id": "9c58fe97",
   "metadata": {},
   "outputs": [],
   "source": [
    "# Sequnce, maintains order of elements,\n",
    "# elements can be ref by indexes\n",
    "# allows slicing\n",
    "# it can have heterogeneous type of data\n",
    "# IMMUTABLE"
   ]
  },
  {
   "cell_type": "code",
   "execution_count": 9,
   "id": "2f6b9e89",
   "metadata": {},
   "outputs": [
    {
     "data": {
      "text/plain": [
       "tuple"
      ]
     },
     "execution_count": 9,
     "metadata": {},
     "output_type": "execute_result"
    }
   ],
   "source": [
    "tup=tuple()\n",
    "type(tup)"
   ]
  },
  {
   "cell_type": "code",
   "execution_count": 10,
   "id": "cf76a0a1",
   "metadata": {},
   "outputs": [],
   "source": [
    "tup= 1,2,3,4"
   ]
  },
  {
   "cell_type": "code",
   "execution_count": 11,
   "id": "16dffa59",
   "metadata": {},
   "outputs": [],
   "source": [
    "tup=(1,2,3,4,5)"
   ]
  },
  {
   "cell_type": "code",
   "execution_count": 12,
   "id": "001e38c8",
   "metadata": {},
   "outputs": [
    {
     "data": {
      "text/plain": [
       "tuple"
      ]
     },
     "execution_count": 12,
     "metadata": {},
     "output_type": "execute_result"
    }
   ],
   "source": [
    "type(tup)"
   ]
  },
  {
   "cell_type": "code",
   "execution_count": 13,
   "id": "f1a17c70",
   "metadata": {},
   "outputs": [
    {
     "data": {
      "text/plain": [
       "1574297337024"
      ]
     },
     "execution_count": 13,
     "metadata": {},
     "output_type": "execute_result"
    }
   ],
   "source": [
    "id(tup)"
   ]
  },
  {
   "cell_type": "code",
   "execution_count": 14,
   "id": "84e289f7",
   "metadata": {},
   "outputs": [
    {
     "data": {
      "text/plain": [
       "5"
      ]
     },
     "execution_count": 14,
     "metadata": {},
     "output_type": "execute_result"
    }
   ],
   "source": [
    "len(tup)"
   ]
  },
  {
   "cell_type": "code",
   "execution_count": 16,
   "id": "19391e47",
   "metadata": {},
   "outputs": [
    {
     "data": {
      "text/plain": [
       "4"
      ]
     },
     "execution_count": 16,
     "metadata": {},
     "output_type": "execute_result"
    }
   ],
   "source": [
    "# indexing \n",
    "tup[3]"
   ]
  },
  {
   "cell_type": "code",
   "execution_count": 17,
   "id": "0a7137da",
   "metadata": {},
   "outputs": [
    {
     "data": {
      "text/plain": [
       "5"
      ]
     },
     "execution_count": 17,
     "metadata": {},
     "output_type": "execute_result"
    }
   ],
   "source": [
    "tup[-1]"
   ]
  },
  {
   "cell_type": "code",
   "execution_count": 18,
   "id": "3e151aea",
   "metadata": {},
   "outputs": [
    {
     "data": {
      "text/plain": [
       "(2, 3)"
      ]
     },
     "execution_count": 18,
     "metadata": {},
     "output_type": "execute_result"
    }
   ],
   "source": [
    "# slicing\n",
    "tup[1:3]"
   ]
  },
  {
   "cell_type": "code",
   "execution_count": 19,
   "id": "99396abc",
   "metadata": {},
   "outputs": [
    {
     "data": {
      "text/plain": [
       "(5, 4, 3, 2, 1)"
      ]
     },
     "execution_count": 19,
     "metadata": {},
     "output_type": "execute_result"
    }
   ],
   "source": [
    "tup[::-1]"
   ]
  },
  {
   "cell_type": "code",
   "execution_count": 20,
   "id": "cc797109",
   "metadata": {},
   "outputs": [
    {
     "data": {
      "text/plain": [
       "(1, 2, 3, 4, 5)"
      ]
     },
     "execution_count": 20,
     "metadata": {},
     "output_type": "execute_result"
    }
   ],
   "source": [
    "tup"
   ]
  },
  {
   "cell_type": "code",
   "execution_count": 21,
   "id": "3c53de56",
   "metadata": {},
   "outputs": [
    {
     "ename": "TypeError",
     "evalue": "'tuple' object does not support item assignment",
     "output_type": "error",
     "traceback": [
      "\u001b[1;31m---------------------------------------------------------------------------\u001b[0m",
      "\u001b[1;31mTypeError\u001b[0m                                 Traceback (most recent call last)",
      "Input \u001b[1;32mIn [21]\u001b[0m, in \u001b[0;36m<cell line: 1>\u001b[1;34m()\u001b[0m\n\u001b[1;32m----> 1\u001b[0m tup[\u001b[38;5;241m2\u001b[39m]\u001b[38;5;241m=\u001b[39m\u001b[38;5;241m30\u001b[39m\n",
      "\u001b[1;31mTypeError\u001b[0m: 'tuple' object does not support item assignment"
     ]
    }
   ],
   "source": [
    "tup[2]=30"
   ]
  },
  {
   "cell_type": "code",
   "execution_count": 22,
   "id": "dfcfe572",
   "metadata": {},
   "outputs": [],
   "source": [
    "tup=(10,20,30,40, 'hello', 45.890, 4+6j, True)"
   ]
  },
  {
   "cell_type": "code",
   "execution_count": 23,
   "id": "626db738",
   "metadata": {},
   "outputs": [
    {
     "data": {
      "text/plain": [
       "(10, 20, 30, 40, 'hello', 45.89, (4+6j), True)"
      ]
     },
     "execution_count": 23,
     "metadata": {},
     "output_type": "execute_result"
    }
   ],
   "source": [
    "tup"
   ]
  },
  {
   "cell_type": "code",
   "execution_count": 24,
   "id": "b332c6a4",
   "metadata": {},
   "outputs": [],
   "source": [
    "tup=(1,2,3, (40,50,60), 'hi')"
   ]
  },
  {
   "cell_type": "code",
   "execution_count": 25,
   "id": "67dc797a",
   "metadata": {},
   "outputs": [
    {
     "data": {
      "text/plain": [
       "5"
      ]
     },
     "execution_count": 25,
     "metadata": {},
     "output_type": "execute_result"
    }
   ],
   "source": [
    "len(tup)"
   ]
  },
  {
   "cell_type": "code",
   "execution_count": 26,
   "id": "896fcf7d",
   "metadata": {},
   "outputs": [
    {
     "data": {
      "text/plain": [
       "(40, 50, 60)"
      ]
     },
     "execution_count": 26,
     "metadata": {},
     "output_type": "execute_result"
    }
   ],
   "source": [
    "tup[3]"
   ]
  },
  {
   "cell_type": "code",
   "execution_count": 27,
   "id": "9b84f86d",
   "metadata": {},
   "outputs": [
    {
     "data": {
      "text/plain": [
       "50"
      ]
     },
     "execution_count": 27,
     "metadata": {},
     "output_type": "execute_result"
    }
   ],
   "source": [
    "tup[3][1]"
   ]
  },
  {
   "cell_type": "code",
   "execution_count": 28,
   "id": "7e6ec1d2",
   "metadata": {},
   "outputs": [
    {
     "name": "stdout",
     "output_type": "stream",
     "text": [
      "(('a', 'b', 'c', 'd'), (10, 20, 30, 40), 'deloitte')\n"
     ]
    }
   ],
   "source": [
    "t1=('a','b','c','d')\n",
    "t2=(10,20,30,40)\n",
    "tup=(t1, t2, 'deloitte')\n",
    "print(tup)"
   ]
  },
  {
   "cell_type": "code",
   "execution_count": 29,
   "id": "3afccc50",
   "metadata": {},
   "outputs": [
    {
     "name": "stdout",
     "output_type": "stream",
     "text": [
      "('a', 'b', 'c', 'd')\n",
      "(10, 20, 30, 40)\n",
      "deloitte\n"
     ]
    }
   ],
   "source": [
    "# iterated\n",
    "\n",
    "for value in tup:\n",
    "    print(value)"
   ]
  },
  {
   "cell_type": "code",
   "execution_count": 33,
   "id": "1eeb4db7",
   "metadata": {},
   "outputs": [
    {
     "name": "stdout",
     "output_type": "stream",
     "text": [
      "20 30 40 50\n"
     ]
    }
   ],
   "source": [
    "# Write a program that accepts space separated integer values as user input\n",
    "# and store values in a tuple. Finally prints the sum of values and\n",
    "# average of values.\n",
    "\n",
    "# Example Input=> '20 30 45 12' Output=> Sum=107, Avg=26.75\n",
    "\n",
    "val=input()"
   ]
  },
  {
   "cell_type": "code",
   "execution_count": 36,
   "id": "be06c1cf",
   "metadata": {},
   "outputs": [],
   "source": [
    "val=(20,30,40,50,60)"
   ]
  },
  {
   "cell_type": "code",
   "execution_count": 37,
   "id": "41f7242f",
   "metadata": {},
   "outputs": [
    {
     "data": {
      "text/plain": [
       "200"
      ]
     },
     "execution_count": 37,
     "metadata": {},
     "output_type": "execute_result"
    }
   ],
   "source": [
    "sum(val)"
   ]
  },
  {
   "cell_type": "code",
   "execution_count": 38,
   "id": "40b581df",
   "metadata": {},
   "outputs": [
    {
     "data": {
      "text/plain": [
       "40.0"
      ]
     },
     "execution_count": 38,
     "metadata": {},
     "output_type": "execute_result"
    }
   ],
   "source": [
    "sum(val)/len(val)"
   ]
  },
  {
   "cell_type": "markdown",
   "id": "3e6d7952",
   "metadata": {},
   "source": [
    "### List"
   ]
  },
  {
   "cell_type": "code",
   "execution_count": 39,
   "id": "8b9eee70",
   "metadata": {},
   "outputs": [],
   "source": [
    "# Sequence\n",
    "# Iterable\n",
    "# Allows heterogeneous values\n",
    "# MUTABLE"
   ]
  },
  {
   "cell_type": "code",
   "execution_count": 40,
   "id": "b4dc0295",
   "metadata": {},
   "outputs": [],
   "source": [
    "li=list()"
   ]
  },
  {
   "cell_type": "code",
   "execution_count": 41,
   "id": "d7d2bd10",
   "metadata": {},
   "outputs": [],
   "source": [
    "li=[1,2,3,4,5]"
   ]
  },
  {
   "cell_type": "code",
   "execution_count": 42,
   "id": "cc375dc8",
   "metadata": {},
   "outputs": [],
   "source": [
    "li=[1,2,3,'hello',3.145, 40-5j, False]"
   ]
  },
  {
   "cell_type": "code",
   "execution_count": 43,
   "id": "19120060",
   "metadata": {},
   "outputs": [],
   "source": [
    "li=[1,2,3, (30,40,50), ['a','b','c'], 'deloitte']"
   ]
  },
  {
   "cell_type": "code",
   "execution_count": 44,
   "id": "b63223bc",
   "metadata": {},
   "outputs": [
    {
     "data": {
      "text/plain": [
       "(30, 40, 50)"
      ]
     },
     "execution_count": 44,
     "metadata": {},
     "output_type": "execute_result"
    }
   ],
   "source": [
    "# indexing\n",
    "li[3]"
   ]
  },
  {
   "cell_type": "code",
   "execution_count": 46,
   "id": "21d74812",
   "metadata": {},
   "outputs": [
    {
     "data": {
      "text/plain": [
       "'c'"
      ]
     },
     "execution_count": 46,
     "metadata": {},
     "output_type": "execute_result"
    }
   ],
   "source": [
    "li[4][2]"
   ]
  },
  {
   "cell_type": "code",
   "execution_count": 48,
   "id": "80b9a6f9",
   "metadata": {},
   "outputs": [
    {
     "data": {
      "text/plain": [
       "[3, (30, 40, 50), ['a', 'b', 'c']]"
      ]
     },
     "execution_count": 48,
     "metadata": {},
     "output_type": "execute_result"
    }
   ],
   "source": [
    "# Slicing\n",
    "li[2:5]"
   ]
  },
  {
   "cell_type": "code",
   "execution_count": 49,
   "id": "c587741c",
   "metadata": {},
   "outputs": [
    {
     "data": {
      "text/plain": [
       "['deloitte', ['a', 'b', 'c'], (30, 40, 50), 3, 2, 1]"
      ]
     },
     "execution_count": 49,
     "metadata": {},
     "output_type": "execute_result"
    }
   ],
   "source": [
    "li[::-1]"
   ]
  },
  {
   "cell_type": "code",
   "execution_count": 50,
   "id": "76d983f7",
   "metadata": {},
   "outputs": [
    {
     "data": {
      "text/plain": [
       "'deloitte'"
      ]
     },
     "execution_count": 50,
     "metadata": {},
     "output_type": "execute_result"
    }
   ],
   "source": [
    "li[5]"
   ]
  },
  {
   "cell_type": "code",
   "execution_count": 51,
   "id": "1b843149",
   "metadata": {},
   "outputs": [
    {
     "data": {
      "text/plain": [
       "[1, 2, 3, (30, 40, 50), ['a', 'b', 'c'], 'Deloitte USI']"
      ]
     },
     "execution_count": 51,
     "metadata": {},
     "output_type": "execute_result"
    }
   ],
   "source": [
    "li[5]='Deloitte USI'\n",
    "li"
   ]
  },
  {
   "cell_type": "code",
   "execution_count": 52,
   "id": "4df9d603",
   "metadata": {},
   "outputs": [
    {
     "data": {
      "text/plain": [
       "[1, 2, 3, 'a', 'b', 'c']"
      ]
     },
     "execution_count": 52,
     "metadata": {},
     "output_type": "execute_result"
    }
   ],
   "source": [
    "# concat\n",
    "li1=[1,2,3]\n",
    "li2=['a','b','c']\n",
    "\n",
    "li=li1+li2\n",
    "li"
   ]
  },
  {
   "cell_type": "code",
   "execution_count": 53,
   "id": "2aaa6ca4",
   "metadata": {},
   "outputs": [
    {
     "data": {
      "text/plain": [
       "[1, 2, 3, 'a', 'b', 'c', 100, 200, 300]"
      ]
     },
     "execution_count": 53,
     "metadata": {},
     "output_type": "execute_result"
    }
   ],
   "source": [
    "li=li+[100,200,300]\n",
    "li"
   ]
  },
  {
   "cell_type": "code",
   "execution_count": 54,
   "id": "dc093be4",
   "metadata": {},
   "outputs": [
    {
     "name": "stdout",
     "output_type": "stream",
     "text": [
      "1\n",
      "2\n",
      "3\n",
      "a\n",
      "b\n",
      "c\n",
      "100\n",
      "200\n",
      "300\n"
     ]
    }
   ],
   "source": [
    "for val in li:\n",
    "    print(val)"
   ]
  },
  {
   "cell_type": "code",
   "execution_count": 59,
   "id": "8395caf3",
   "metadata": {},
   "outputs": [
    {
     "name": "stdout",
     "output_type": "stream",
     "text": [
      "30\n",
      "[1, 4, 9, 16, 25, 36, 49, 64, 81, 100, 121, 144, 169, 196, 225, 256, 289, 324, 361, 400, 441, 484, 529, 576, 625, 676, 729, 784, 841, 900]\n"
     ]
    }
   ],
   "source": [
    "# Create a list that holds square of first N inetegers\n",
    "N=int(input())\n",
    "li=[x**2 for x in range(1, N+1)]\n",
    "# List Comprehension\n",
    "print(li)"
   ]
  },
  {
   "cell_type": "markdown",
   "id": "d109935d",
   "metadata": {},
   "source": [
    "### List Functions"
   ]
  },
  {
   "cell_type": "code",
   "execution_count": 60,
   "id": "60b59bc2",
   "metadata": {},
   "outputs": [],
   "source": [
    "li=[1,2,3,4,5]"
   ]
  },
  {
   "cell_type": "code",
   "execution_count": 67,
   "id": "cf69bd80",
   "metadata": {},
   "outputs": [],
   "source": [
    "# insert(index, value)\n",
    "li.insert(20, 60)"
   ]
  },
  {
   "cell_type": "code",
   "execution_count": 68,
   "id": "0f4cfff3",
   "metadata": {},
   "outputs": [
    {
     "data": {
      "text/plain": [
       "[90, 1, 2, 60, 3, 4, 5, 0, 60]"
      ]
     },
     "execution_count": 68,
     "metadata": {},
     "output_type": "execute_result"
    }
   ],
   "source": [
    "li"
   ]
  },
  {
   "cell_type": "code",
   "execution_count": 69,
   "id": "47e16eae",
   "metadata": {},
   "outputs": [
    {
     "data": {
      "text/plain": [
       "[1, 2, 3, 4, 5, 40]"
      ]
     },
     "execution_count": 69,
     "metadata": {},
     "output_type": "execute_result"
    }
   ],
   "source": [
    "# append(val)\n",
    "li=[1,2,3,4,5]\n",
    "\n",
    "li.append(40)\n",
    "li"
   ]
  },
  {
   "cell_type": "code",
   "execution_count": 70,
   "id": "eec9af45",
   "metadata": {},
   "outputs": [
    {
     "data": {
      "text/plain": [
       "40"
      ]
     },
     "execution_count": 70,
     "metadata": {},
     "output_type": "execute_result"
    }
   ],
   "source": [
    "# pop()\n",
    "li.pop()"
   ]
  },
  {
   "cell_type": "code",
   "execution_count": 71,
   "id": "708c31bc",
   "metadata": {},
   "outputs": [
    {
     "data": {
      "text/plain": [
       "5"
      ]
     },
     "execution_count": 71,
     "metadata": {},
     "output_type": "execute_result"
    }
   ],
   "source": [
    "li.pop()"
   ]
  },
  {
   "cell_type": "code",
   "execution_count": 73,
   "id": "98c1ddb4",
   "metadata": {},
   "outputs": [
    {
     "data": {
      "text/plain": [
       "[1, 3, 4, 5]"
      ]
     },
     "execution_count": 73,
     "metadata": {},
     "output_type": "execute_result"
    }
   ],
   "source": [
    "# remove(value)\n",
    "li=[1,2,3,4,5]\n",
    "li.remove(2)\n",
    "li"
   ]
  },
  {
   "cell_type": "code",
   "execution_count": 74,
   "id": "863f6a32",
   "metadata": {},
   "outputs": [
    {
     "data": {
      "text/plain": [
       "[1, 2, 4, 2, 3, 4, 2, 3, 4]"
      ]
     },
     "execution_count": 74,
     "metadata": {},
     "output_type": "execute_result"
    }
   ],
   "source": [
    "li=[1,2,3,4,2,3,4,2,3,4]\n",
    "li.remove(3)\n",
    "li"
   ]
  },
  {
   "cell_type": "code",
   "execution_count": 76,
   "id": "b2949978",
   "metadata": {},
   "outputs": [
    {
     "data": {
      "text/plain": [
       "[1, 2, 3, 4, 5, 'a', 'b', 'c']"
      ]
     },
     "execution_count": 76,
     "metadata": {},
     "output_type": "execute_result"
    }
   ],
   "source": [
    "# extend(list)\n",
    "li=[1,2,3,4,5]\n",
    "new_list=['a','b','c']\n",
    "\n",
    "li.extend(new_list)\n",
    "li"
   ]
  },
  {
   "cell_type": "code",
   "execution_count": 77,
   "id": "9db5fa2b",
   "metadata": {},
   "outputs": [
    {
     "data": {
      "text/plain": [
       "[1, 1, 2, 3, 5, 5, 7, 8, 8, 9]"
      ]
     },
     "execution_count": 77,
     "metadata": {},
     "output_type": "execute_result"
    }
   ],
   "source": [
    "# sort() # list method - will change list to sorted order\n",
    "li=[1,2,5,1,8,9,5,3,7,8]\n",
    "li.sort()\n",
    "li"
   ]
  },
  {
   "cell_type": "code",
   "execution_count": 78,
   "id": "5911bcf0",
   "metadata": {},
   "outputs": [
    {
     "data": {
      "text/plain": [
       "[1, 1, 2, 3, 5, 5, 7, 8, 8, 9]"
      ]
     },
     "execution_count": 78,
     "metadata": {},
     "output_type": "execute_result"
    }
   ],
   "source": [
    "## sorted() # python core function, will return sorted form, will not change\n",
    "# orginal list\n",
    "li=[1,2,5,1,8,9,5,3,7,8]\n",
    "sorted(li)"
   ]
  },
  {
   "cell_type": "code",
   "execution_count": 79,
   "id": "d51f6baf",
   "metadata": {},
   "outputs": [
    {
     "data": {
      "text/plain": [
       "[1, 2, 5, 1, 8, 9, 5, 3, 7, 8]"
      ]
     },
     "execution_count": 79,
     "metadata": {},
     "output_type": "execute_result"
    }
   ],
   "source": [
    "li"
   ]
  },
  {
   "cell_type": "code",
   "execution_count": 80,
   "id": "707edfd9",
   "metadata": {},
   "outputs": [],
   "source": [
    "# copy()"
   ]
  },
  {
   "cell_type": "code",
   "execution_count": 81,
   "id": "161b1f30",
   "metadata": {},
   "outputs": [],
   "source": [
    "l1=[1,2,3]\n",
    "l2=[]\n",
    " \n",
    "l2=l1 # deep copy"
   ]
  },
  {
   "cell_type": "code",
   "execution_count": 82,
   "id": "5e004787",
   "metadata": {},
   "outputs": [
    {
     "data": {
      "text/plain": [
       "[1, 2, 3]"
      ]
     },
     "execution_count": 82,
     "metadata": {},
     "output_type": "execute_result"
    }
   ],
   "source": [
    "l1"
   ]
  },
  {
   "cell_type": "code",
   "execution_count": 83,
   "id": "d417c3b7",
   "metadata": {},
   "outputs": [
    {
     "data": {
      "text/plain": [
       "[1, 2, 3]"
      ]
     },
     "execution_count": 83,
     "metadata": {},
     "output_type": "execute_result"
    }
   ],
   "source": [
    "l2"
   ]
  },
  {
   "cell_type": "code",
   "execution_count": 87,
   "id": "958ddfc4",
   "metadata": {},
   "outputs": [],
   "source": [
    "l2[0]=1000"
   ]
  },
  {
   "cell_type": "code",
   "execution_count": 88,
   "id": "4dddf7e8",
   "metadata": {},
   "outputs": [
    {
     "data": {
      "text/plain": [
       "[1000, 2, 3]"
      ]
     },
     "execution_count": 88,
     "metadata": {},
     "output_type": "execute_result"
    }
   ],
   "source": [
    "l1"
   ]
  },
  {
   "cell_type": "code",
   "execution_count": 89,
   "id": "d2cd1b74",
   "metadata": {},
   "outputs": [
    {
     "data": {
      "text/plain": [
       "[1000, 2, 3]"
      ]
     },
     "execution_count": 89,
     "metadata": {},
     "output_type": "execute_result"
    }
   ],
   "source": [
    "l2"
   ]
  },
  {
   "cell_type": "code",
   "execution_count": 90,
   "id": "6972cb35",
   "metadata": {},
   "outputs": [],
   "source": [
    "# copy() - creates a shallow copy\n",
    "l1=[1,2,3]\n",
    "l2=l1.copy()"
   ]
  },
  {
   "cell_type": "code",
   "execution_count": 91,
   "id": "36f760d4",
   "metadata": {},
   "outputs": [
    {
     "data": {
      "text/plain": [
       "[1000, 2, 3]"
      ]
     },
     "execution_count": 91,
     "metadata": {},
     "output_type": "execute_result"
    }
   ],
   "source": [
    "l1[0]=1000\n",
    "l1"
   ]
  },
  {
   "cell_type": "code",
   "execution_count": 92,
   "id": "6e1a0fab",
   "metadata": {},
   "outputs": [
    {
     "data": {
      "text/plain": [
       "[1, 2, 3]"
      ]
     },
     "execution_count": 92,
     "metadata": {},
     "output_type": "execute_result"
    }
   ],
   "source": [
    "l2"
   ]
  },
  {
   "cell_type": "code",
   "execution_count": 93,
   "id": "82adafbb",
   "metadata": {},
   "outputs": [
    {
     "data": {
      "text/plain": [
       "1"
      ]
     },
     "execution_count": 93,
     "metadata": {},
     "output_type": "execute_result"
    }
   ],
   "source": [
    "# index(value)\n",
    "li=[10,20,30,40,50,20,30,50]\n",
    "\n",
    "li.index(20)"
   ]
  },
  {
   "cell_type": "code",
   "execution_count": 94,
   "id": "a3f78da7",
   "metadata": {},
   "outputs": [
    {
     "data": {
      "text/plain": [
       "[50, 30, 20, 50, 40, 30, 20, 10]"
      ]
     },
     "execution_count": 94,
     "metadata": {},
     "output_type": "execute_result"
    }
   ],
   "source": [
    "# reverse() # it will change the original list\n",
    "li=[10,20,30,40,50,20,30,50]\n",
    "li.reverse()\n",
    "li"
   ]
  },
  {
   "cell_type": "code",
   "execution_count": 96,
   "id": "26c01f77",
   "metadata": {},
   "outputs": [
    {
     "name": "stdout",
     "output_type": "stream",
     "text": [
      "[50, 30, 20, 50, 40, 30, 20, 10]\n"
     ]
    }
   ],
   "source": [
    "# reversed() 3 returns reversed version of list, but original remains\n",
    "# intact\n",
    "li=[10,20,30,40,50,20,30,50]\n",
    "print(list(reversed(li)))"
   ]
  },
  {
   "cell_type": "code",
   "execution_count": 97,
   "id": "f3e18831",
   "metadata": {},
   "outputs": [
    {
     "data": {
      "text/plain": [
       "[10, 20, 30, 40, 50, 20, 30, 50]"
      ]
     },
     "execution_count": 97,
     "metadata": {},
     "output_type": "execute_result"
    }
   ],
   "source": [
    "li"
   ]
  },
  {
   "cell_type": "code",
   "execution_count": 98,
   "id": "d2912e4d",
   "metadata": {},
   "outputs": [
    {
     "data": {
      "text/plain": [
       "[]"
      ]
     },
     "execution_count": 98,
     "metadata": {},
     "output_type": "execute_result"
    }
   ],
   "source": [
    "# clear() - removes all elements from list, list becomes empty\n",
    "\n",
    "li.clear()\n",
    "li"
   ]
  },
  {
   "cell_type": "code",
   "execution_count": 99,
   "id": "6f459d7a",
   "metadata": {},
   "outputs": [
    {
     "data": {
      "text/plain": [
       "5"
      ]
     },
     "execution_count": 99,
     "metadata": {},
     "output_type": "execute_result"
    }
   ],
   "source": [
    "# count(element) - returns the count of specific element in list\n",
    "li=[1,2,3,1,4,5,1,2,4,6,7,9,8,1,1,4,6,7]\n",
    "li.count(1)"
   ]
  },
  {
   "cell_type": "code",
   "execution_count": 100,
   "id": "80ad9db2",
   "metadata": {},
   "outputs": [
    {
     "data": {
      "text/plain": [
       "1"
      ]
     },
     "execution_count": 100,
     "metadata": {},
     "output_type": "execute_result"
    }
   ],
   "source": [
    "t=(1,2,3,4,5)\n",
    "t.count(1)"
   ]
  },
  {
   "cell_type": "code",
   "execution_count": 104,
   "id": "c62d8e1d",
   "metadata": {},
   "outputs": [
    {
     "data": {
      "text/plain": [
       "[1, 2, 3, 4, 5]"
      ]
     },
     "execution_count": 104,
     "metadata": {},
     "output_type": "execute_result"
    }
   ],
   "source": [
    "sorted(t)"
   ]
  },
  {
   "cell_type": "code",
   "execution_count": 107,
   "id": "94ac6432",
   "metadata": {},
   "outputs": [
    {
     "data": {
      "text/plain": [
       "(5, 4, 3, 2, 1)"
      ]
     },
     "execution_count": 107,
     "metadata": {},
     "output_type": "execute_result"
    }
   ],
   "source": [
    "tuple(reversed(t))"
   ]
  },
  {
   "cell_type": "code",
   "execution_count": 108,
   "id": "1bc04c8e",
   "metadata": {},
   "outputs": [],
   "source": [
    "li=[1,2,3,4,5]\n",
    "t=(1,2,3,4,5)"
   ]
  },
  {
   "cell_type": "code",
   "execution_count": 109,
   "id": "5dceda51",
   "metadata": {},
   "outputs": [
    {
     "data": {
      "text/plain": [
       "15"
      ]
     },
     "execution_count": 109,
     "metadata": {},
     "output_type": "execute_result"
    }
   ],
   "source": [
    "sum(t)"
   ]
  },
  {
   "cell_type": "code",
   "execution_count": 110,
   "id": "5f6c230c",
   "metadata": {},
   "outputs": [
    {
     "data": {
      "text/plain": [
       "15"
      ]
     },
     "execution_count": 110,
     "metadata": {},
     "output_type": "execute_result"
    }
   ],
   "source": [
    "sum(li)"
   ]
  },
  {
   "cell_type": "code",
   "execution_count": 111,
   "id": "a6fd1b7e",
   "metadata": {},
   "outputs": [
    {
     "data": {
      "text/plain": [
       "5"
      ]
     },
     "execution_count": 111,
     "metadata": {},
     "output_type": "execute_result"
    }
   ],
   "source": [
    "max(t)"
   ]
  },
  {
   "cell_type": "code",
   "execution_count": 112,
   "id": "52cdaae3",
   "metadata": {},
   "outputs": [
    {
     "data": {
      "text/plain": [
       "5"
      ]
     },
     "execution_count": 112,
     "metadata": {},
     "output_type": "execute_result"
    }
   ],
   "source": [
    "max(li)"
   ]
  },
  {
   "cell_type": "code",
   "execution_count": 113,
   "id": "d9b060b0",
   "metadata": {},
   "outputs": [
    {
     "data": {
      "text/plain": [
       "1"
      ]
     },
     "execution_count": 113,
     "metadata": {},
     "output_type": "execute_result"
    }
   ],
   "source": [
    "min(t)"
   ]
  },
  {
   "cell_type": "code",
   "execution_count": 114,
   "id": "a5148c85",
   "metadata": {},
   "outputs": [
    {
     "data": {
      "text/plain": [
       "1"
      ]
     },
     "execution_count": 114,
     "metadata": {},
     "output_type": "execute_result"
    }
   ],
   "source": [
    "min(li)"
   ]
  },
  {
   "cell_type": "code",
   "execution_count": 115,
   "id": "4643d411",
   "metadata": {},
   "outputs": [],
   "source": [
    "# Write a program that accepts space separated integer values as user input\n",
    "# and store values in a List. Finally prints the sum of values and\n",
    "# average of values.\n",
    "\n",
    "# Example Input=> '20 30 45 12' Output=> Sum=107, Avg=26.75"
   ]
  },
  {
   "cell_type": "code",
   "execution_count": 117,
   "id": "2483b16a",
   "metadata": {},
   "outputs": [
    {
     "name": "stdout",
     "output_type": "stream",
     "text": [
      "10 20 30 40 50 60\n",
      "210\n",
      "35.0\n"
     ]
    }
   ],
   "source": [
    "# version 1\n",
    "val=input()\n",
    "val=val.split()\n",
    "for indx in range(len(val)):\n",
    "    val[indx]=int(val[indx])\n",
    "print(sum(val))\n",
    "print(sum(val)/len(val))"
   ]
  },
  {
   "cell_type": "code",
   "execution_count": 118,
   "id": "116eacb8",
   "metadata": {},
   "outputs": [
    {
     "name": "stdout",
     "output_type": "stream",
     "text": [
      "10 20 30 40 50 60\n",
      "210\n",
      "35.0\n"
     ]
    }
   ],
   "source": [
    "# version 2\n",
    "val=input()\n",
    "val=val.split()\n",
    "val=[int(x) for x in val]\n",
    "print(sum(val))\n",
    "print(sum(val)/len(val))"
   ]
  },
  {
   "cell_type": "code",
   "execution_count": 119,
   "id": "a726627f",
   "metadata": {},
   "outputs": [
    {
     "name": "stdout",
     "output_type": "stream",
     "text": [
      "10 20 30 40 50 60\n",
      "210\n",
      "35.0\n"
     ]
    }
   ],
   "source": [
    "# version 3\n",
    "val=[int(x) for x in input().split()]\n",
    "print(sum(val))\n",
    "print(sum(val)/len(val))"
   ]
  },
  {
   "cell_type": "markdown",
   "id": "02beb13c",
   "metadata": {},
   "source": [
    "### Question: Write a python function rotate(list, N) to rotate the list elements by N times. [Hint: in one rotation, last element of list comes to front]\n",
    "\n",
    "##### Example: Input=> rotate([1,2,3,4,5], 3) Output=> [3,4,5,1,2]\n",
    "#####                  Input=> rotate([1,2,3,4,5], 12) Output=> [4,5,1,2,3]"
   ]
  },
  {
   "cell_type": "code",
   "execution_count": 129,
   "id": "c967b228",
   "metadata": {},
   "outputs": [],
   "source": [
    "def rotate(li, N):\n",
    "    if N>len(li):\n",
    "        N=N%len(li)\n",
    "    while N>0:\n",
    "        temp=li.pop()\n",
    "        li.insert(0, temp)\n",
    "        N-=1\n",
    "    return li"
   ]
  },
  {
   "cell_type": "code",
   "execution_count": 131,
   "id": "eab49f6f",
   "metadata": {},
   "outputs": [
    {
     "name": "stdout",
     "output_type": "stream",
     "text": [
      "CPU times: total: 0 ns\n",
      "Wall time: 0 ns\n"
     ]
    },
    {
     "data": {
      "text/plain": [
       "[3, 4, 5, 1, 2]"
      ]
     },
     "execution_count": 131,
     "metadata": {},
     "output_type": "execute_result"
    }
   ],
   "source": [
    "%%time\n",
    "rotate([1,2,3,4,5], 100023)"
   ]
  },
  {
   "cell_type": "markdown",
   "id": "9909204e",
   "metadata": {},
   "source": [
    "#### Question: Write python function alternating(list) that checks if the list contains alternating increasing and decreasing values or not.\n",
    "##### Example: \n",
    "###### Input=> alternating([1,3,2,5,3,7]) Output=> True\n",
    "###### Input=> alternating([1,2,2,3,1,5]) Output=> False"
   ]
  },
  {
   "cell_type": "code",
   "execution_count": 136,
   "id": "876d6615",
   "metadata": {},
   "outputs": [],
   "source": [
    "def alternating(li):\n",
    "    for i in range(1,len(li)-1):\n",
    "        if li[i-1]<=li[i]<=li[i+1] or li[i-1]>=li[i]>=li[i+1]:\n",
    "            return False\n",
    "    return True"
   ]
  },
  {
   "cell_type": "code",
   "execution_count": 137,
   "id": "8eec7c8a",
   "metadata": {},
   "outputs": [
    {
     "data": {
      "text/plain": [
       "True"
      ]
     },
     "execution_count": 137,
     "metadata": {},
     "output_type": "execute_result"
    }
   ],
   "source": [
    "alternating([1,3,2,5,3,7])"
   ]
  },
  {
   "cell_type": "code",
   "execution_count": 139,
   "id": "cd142f7c",
   "metadata": {},
   "outputs": [
    {
     "data": {
      "text/plain": [
       "False"
      ]
     },
     "execution_count": 139,
     "metadata": {},
     "output_type": "execute_result"
    }
   ],
   "source": [
    "alternating([1,2,2,3,1,5])"
   ]
  },
  {
   "cell_type": "code",
   "execution_count": 140,
   "id": "51a71183",
   "metadata": {},
   "outputs": [],
   "source": [
    "# Question:\n",
    "# given a list, arrange all negative numbers of the list after all \n",
    "# positive numbers. Order of occurence should be maintained.\n",
    "\n",
    "# example: list=[1,2,-4,-5,7,-3,6,9,-1,2,3]\n",
    "# after processing=> [1,2,7,6,9,2,3,-4,-5,-3,-1]"
   ]
  },
  {
   "cell_type": "code",
   "execution_count": 141,
   "id": "4c774c20",
   "metadata": {},
   "outputs": [],
   "source": [
    "def arrange(li):\n",
    "    pos=[]\n",
    "    neg=[]\n",
    "    for num in li:\n",
    "        if num<0:\n",
    "            neg.append(num)\n",
    "        else:\n",
    "            pos.append(num)\n",
    "    return pos+neg"
   ]
  },
  {
   "cell_type": "code",
   "execution_count": 142,
   "id": "379f007b",
   "metadata": {},
   "outputs": [
    {
     "data": {
      "text/plain": [
       "[1, 2, 7, 6, 9, 2, 3, -4, -5, -3, -1]"
      ]
     },
     "execution_count": 142,
     "metadata": {},
     "output_type": "execute_result"
    }
   ],
   "source": [
    "arrange([1,2,-4,-5,7,-3,6,9,-1,2,3])"
   ]
  },
  {
   "cell_type": "code",
   "execution_count": 145,
   "id": "3582571d",
   "metadata": {},
   "outputs": [
    {
     "data": {
      "text/plain": [
       "[1, 2, 7, 6, 9, 2, 3, -4, -5, -3, -1]"
      ]
     },
     "execution_count": 145,
     "metadata": {},
     "output_type": "execute_result"
    }
   ],
   "source": [
    "def arrange(li):\n",
    "    return [x for x in li if x>=0]+[x for x in li if x<0]\n",
    "arrange([1,2,-4,-5,7,-3,6,9,-1,2,3])"
   ]
  },
  {
   "cell_type": "code",
   "execution_count": null,
   "id": "d6f6a653",
   "metadata": {},
   "outputs": [],
   "source": []
  },
  {
   "cell_type": "code",
   "execution_count": 146,
   "id": "c6f43371",
   "metadata": {},
   "outputs": [],
   "source": [
    "# write a function code that accepts two arguments N and K.\n",
    "# create a list L with N elements, all set to initial value as zero.\n",
    "# If K is even, set all even index values in list L as 1\n",
    "# Else, If K is odd, set all odd index values in list L as 1\n",
    "# finally print the list. (consider \"0\" index as even index)\n",
    "\n",
    "# Example: N=5, K=43\n",
    "# output: [0,1,0,1,0]\n",
    "\n",
    "# Example: N=5, K=26\n",
    "# output: [1,0,1,0,1]"
   ]
  },
  {
   "cell_type": "code",
   "execution_count": 154,
   "id": "1dac847b",
   "metadata": {},
   "outputs": [],
   "source": [
    "def makelist(N,K):\n",
    "    li=[0 for x in range(N)]\n",
    "    if K%2==0:\n",
    "        for indx in range(len(li)):\n",
    "            if indx%2==0:\n",
    "                li[indx]=1\n",
    "    else:\n",
    "        for indx in range(len(li)):\n",
    "            if indx%2!=0:\n",
    "                li[indx]=1\n",
    "    return li"
   ]
  },
  {
   "cell_type": "code",
   "execution_count": 157,
   "id": "7dd179ef",
   "metadata": {},
   "outputs": [],
   "source": [
    "def makelist(N,K):\n",
    "    li=[0 for x in range(N)]\n",
    "    if K%2==0:\n",
    "        li=[1 if indx%2==0 else 0 for indx in range(len(li))]\n",
    "    else:\n",
    "        li=[0 if indx%2==0 else 1 for indx in range(len(li))]\n",
    "    return li"
   ]
  },
  {
   "cell_type": "code",
   "execution_count": 158,
   "id": "50532d80",
   "metadata": {},
   "outputs": [
    {
     "data": {
      "text/plain": [
       "[0, 1, 0, 1, 0, 1]"
      ]
     },
     "execution_count": 158,
     "metadata": {},
     "output_type": "execute_result"
    }
   ],
   "source": [
    "makelist(6,43)"
   ]
  },
  {
   "cell_type": "code",
   "execution_count": 159,
   "id": "9f2c5566",
   "metadata": {},
   "outputs": [
    {
     "data": {
      "text/plain": [
       "[1, 0, 1, 0, 1, 0]"
      ]
     },
     "execution_count": 159,
     "metadata": {},
     "output_type": "execute_result"
    }
   ],
   "source": [
    "makelist(6,26)"
   ]
  },
  {
   "cell_type": "markdown",
   "id": "d4c5e73d",
   "metadata": {},
   "source": [
    "### Dictionary"
   ]
  },
  {
   "cell_type": "code",
   "execution_count": 160,
   "id": "ea5c5798",
   "metadata": {},
   "outputs": [],
   "source": [
    "# contains key-value pairs\n",
    "# there is no order guaranteed\n",
    "# any value id ref by key\n",
    "# keys are immutable\n",
    "# values are mutable\n",
    "# keys can not be duplicated\n",
    "# no indexing or slicing"
   ]
  },
  {
   "cell_type": "code",
   "execution_count": 161,
   "id": "f352c8b7",
   "metadata": {},
   "outputs": [
    {
     "data": {
      "text/plain": [
       "dict"
      ]
     },
     "execution_count": 161,
     "metadata": {},
     "output_type": "execute_result"
    }
   ],
   "source": [
    "d=dict()\n",
    "type(d)"
   ]
  },
  {
   "cell_type": "code",
   "execution_count": 163,
   "id": "69dadff9",
   "metadata": {},
   "outputs": [],
   "source": [
    "d={'a':10, 'b':20, 'c':30, 'd':40, 'e':50}"
   ]
  },
  {
   "cell_type": "code",
   "execution_count": 164,
   "id": "eca3bed3",
   "metadata": {},
   "outputs": [
    {
     "data": {
      "text/plain": [
       "10"
      ]
     },
     "execution_count": 164,
     "metadata": {},
     "output_type": "execute_result"
    }
   ],
   "source": [
    "d['a']"
   ]
  },
  {
   "cell_type": "code",
   "execution_count": 165,
   "id": "b8f01a84",
   "metadata": {},
   "outputs": [
    {
     "data": {
      "text/plain": [
       "40"
      ]
     },
     "execution_count": 165,
     "metadata": {},
     "output_type": "execute_result"
    }
   ],
   "source": [
    "# get(key)\n",
    "d.get('d')"
   ]
  },
  {
   "cell_type": "code",
   "execution_count": 169,
   "id": "06cfb1a5",
   "metadata": {},
   "outputs": [
    {
     "name": "stdout",
     "output_type": "stream",
     "text": [
      "dict_keys(['a', 'b', 'c', 'd', 'e'])\n"
     ]
    }
   ],
   "source": [
    "# keys()\n",
    "print(d.keys())"
   ]
  },
  {
   "cell_type": "code",
   "execution_count": 170,
   "id": "6eb03564",
   "metadata": {},
   "outputs": [
    {
     "data": {
      "text/plain": [
       "dict_values([10, 20, 30, 40, 50])"
      ]
     },
     "execution_count": 170,
     "metadata": {},
     "output_type": "execute_result"
    }
   ],
   "source": [
    "# values()\n",
    "d.values()"
   ]
  },
  {
   "cell_type": "code",
   "execution_count": 171,
   "id": "0749e19d",
   "metadata": {},
   "outputs": [
    {
     "data": {
      "text/plain": [
       "dict_items([('a', 10), ('b', 20), ('c', 30), ('d', 40), ('e', 50)])"
      ]
     },
     "execution_count": 171,
     "metadata": {},
     "output_type": "execute_result"
    }
   ],
   "source": [
    "# items()\n",
    "d.items()"
   ]
  },
  {
   "cell_type": "code",
   "execution_count": 176,
   "id": "6606e27b",
   "metadata": {},
   "outputs": [],
   "source": [
    "# update({key:val})\n",
    "d.update({'f':60})"
   ]
  },
  {
   "cell_type": "code",
   "execution_count": 177,
   "id": "7d2c52bf",
   "metadata": {},
   "outputs": [
    {
     "data": {
      "text/plain": [
       "{'a': 10, 'b': 20, 'c': 30, 'd': 40, 'e': 50, 'f': 60}"
      ]
     },
     "execution_count": 177,
     "metadata": {},
     "output_type": "execute_result"
    }
   ],
   "source": [
    "d"
   ]
  },
  {
   "cell_type": "code",
   "execution_count": 178,
   "id": "5190f52f",
   "metadata": {},
   "outputs": [],
   "source": [
    "d.update({'e':100})"
   ]
  },
  {
   "cell_type": "code",
   "execution_count": 179,
   "id": "f2226f48",
   "metadata": {},
   "outputs": [
    {
     "data": {
      "text/plain": [
       "{'a': 10, 'b': 20, 'c': 30, 'd': 40, 'e': 100, 'f': 60}"
      ]
     },
     "execution_count": 179,
     "metadata": {},
     "output_type": "execute_result"
    }
   ],
   "source": [
    "d"
   ]
  },
  {
   "cell_type": "code",
   "execution_count": 180,
   "id": "92e86629",
   "metadata": {},
   "outputs": [
    {
     "data": {
      "text/plain": [
       "40"
      ]
     },
     "execution_count": 180,
     "metadata": {},
     "output_type": "execute_result"
    }
   ],
   "source": [
    "# setdefault(key, val)\n",
    "d.setdefault('d', 200)"
   ]
  },
  {
   "cell_type": "code",
   "execution_count": 181,
   "id": "259281f9",
   "metadata": {},
   "outputs": [
    {
     "data": {
      "text/plain": [
       "300"
      ]
     },
     "execution_count": 181,
     "metadata": {},
     "output_type": "execute_result"
    }
   ],
   "source": [
    "d.setdefault('g', 300)"
   ]
  },
  {
   "cell_type": "code",
   "execution_count": 182,
   "id": "e9182ebd",
   "metadata": {},
   "outputs": [
    {
     "data": {
      "text/plain": [
       "{'a': 10, 'b': 20, 'c': 30, 'd': 40, 'e': 100, 'f': 60, 'g': 300}"
      ]
     },
     "execution_count": 182,
     "metadata": {},
     "output_type": "execute_result"
    }
   ],
   "source": [
    "d"
   ]
  },
  {
   "cell_type": "code",
   "execution_count": 186,
   "id": "e262626d",
   "metadata": {},
   "outputs": [],
   "source": [
    "# fromkeys(li, def)\n",
    "li=[10, 20, 30, 40, 50, 60]\n",
    "d2=dict.fromkeys(li, None)"
   ]
  },
  {
   "cell_type": "code",
   "execution_count": 187,
   "id": "96b18965",
   "metadata": {},
   "outputs": [
    {
     "data": {
      "text/plain": [
       "{10: None, 20: None, 30: None, 40: None, 50: None, 60: None}"
      ]
     },
     "execution_count": 187,
     "metadata": {},
     "output_type": "execute_result"
    }
   ],
   "source": [
    "d2"
   ]
  },
  {
   "cell_type": "code",
   "execution_count": 188,
   "id": "546d5f67",
   "metadata": {},
   "outputs": [
    {
     "data": {
      "text/plain": [
       "{'a': 10, 'b': 20, 'c': 30, 'd': 40, 'e': 100, 'f': 60, 'g': 300}"
      ]
     },
     "execution_count": 188,
     "metadata": {},
     "output_type": "execute_result"
    }
   ],
   "source": [
    "# copy()\n",
    "d3=d.copy()\n",
    "d3"
   ]
  },
  {
   "cell_type": "code",
   "execution_count": 189,
   "id": "ef9c0e67",
   "metadata": {},
   "outputs": [
    {
     "data": {
      "text/plain": [
       "{}"
      ]
     },
     "execution_count": 189,
     "metadata": {},
     "output_type": "execute_result"
    }
   ],
   "source": [
    "# clear()\n",
    "d.clear()\n",
    "d"
   ]
  },
  {
   "cell_type": "code",
   "execution_count": 190,
   "id": "f9c36ef9",
   "metadata": {},
   "outputs": [
    {
     "data": {
      "text/plain": [
       "500"
      ]
     },
     "execution_count": 190,
     "metadata": {},
     "output_type": "execute_result"
    }
   ],
   "source": [
    "# pop(key)\n",
    "d={1:100, 2:200, 3:300, 4:400, 5:500, 6:600}\n",
    "d.pop(5)"
   ]
  },
  {
   "cell_type": "code",
   "execution_count": 191,
   "id": "188c0902",
   "metadata": {},
   "outputs": [
    {
     "data": {
      "text/plain": [
       "{1: 100, 2: 200, 3: 300, 4: 400, 6: 600}"
      ]
     },
     "execution_count": 191,
     "metadata": {},
     "output_type": "execute_result"
    }
   ],
   "source": [
    "d"
   ]
  },
  {
   "cell_type": "code",
   "execution_count": 192,
   "id": "6950b177",
   "metadata": {},
   "outputs": [
    {
     "data": {
      "text/plain": [
       "(6, 600)"
      ]
     },
     "execution_count": 192,
     "metadata": {},
     "output_type": "execute_result"
    }
   ],
   "source": [
    "# popitem()\n",
    "d.popitem()"
   ]
  },
  {
   "cell_type": "code",
   "execution_count": 193,
   "id": "16d1273b",
   "metadata": {},
   "outputs": [
    {
     "data": {
      "text/plain": [
       "{1: 100, 2: 200, 3: 300, 4: 400}"
      ]
     },
     "execution_count": 193,
     "metadata": {},
     "output_type": "execute_result"
    }
   ],
   "source": [
    "d"
   ]
  },
  {
   "cell_type": "code",
   "execution_count": 194,
   "id": "e8b7cad0",
   "metadata": {},
   "outputs": [],
   "source": [
    "d={1:[1,2,3,4,5], 10:[10,20,30,40,50]}"
   ]
  },
  {
   "cell_type": "code",
   "execution_count": 196,
   "id": "30e1797f",
   "metadata": {},
   "outputs": [
    {
     "data": {
      "text/plain": [
       "[10, 20, 30, 40, 50]"
      ]
     },
     "execution_count": 196,
     "metadata": {},
     "output_type": "execute_result"
    }
   ],
   "source": [
    "d[10]"
   ]
  },
  {
   "cell_type": "code",
   "execution_count": 197,
   "id": "5af22c37",
   "metadata": {},
   "outputs": [],
   "source": [
    "d={'emp1':{'name':'prateek', 'eid':750007, 'access':['BLR','HYD','GUR','MUM','KOL']}}"
   ]
  },
  {
   "cell_type": "code",
   "execution_count": 198,
   "id": "db751f99",
   "metadata": {},
   "outputs": [
    {
     "data": {
      "text/plain": [
       "{'name': 'prateek',\n",
       " 'eid': 750007,\n",
       " 'access': ['BLR', 'HYD', 'GUR', 'MUM', 'KOL']}"
      ]
     },
     "execution_count": 198,
     "metadata": {},
     "output_type": "execute_result"
    }
   ],
   "source": [
    "d['emp1']"
   ]
  },
  {
   "cell_type": "code",
   "execution_count": 199,
   "id": "6f71ba86",
   "metadata": {},
   "outputs": [
    {
     "data": {
      "text/plain": [
       "'prateek'"
      ]
     },
     "execution_count": 199,
     "metadata": {},
     "output_type": "execute_result"
    }
   ],
   "source": [
    "d['emp1']['name']"
   ]
  },
  {
   "cell_type": "code",
   "execution_count": 200,
   "id": "2ed6fb90",
   "metadata": {},
   "outputs": [
    {
     "data": {
      "text/plain": [
       "['BLR', 'HYD', 'GUR', 'MUM', 'KOL']"
      ]
     },
     "execution_count": 200,
     "metadata": {},
     "output_type": "execute_result"
    }
   ],
   "source": [
    "d['emp1']['access']"
   ]
  },
  {
   "cell_type": "code",
   "execution_count": 204,
   "id": "ad3c4f72",
   "metadata": {},
   "outputs": [
    {
     "data": {
      "text/plain": [
       "{1: 10, 2: 20, 4: 40, 13: 30}"
      ]
     },
     "execution_count": 204,
     "metadata": {},
     "output_type": "execute_result"
    }
   ],
   "source": [
    "## Write a function change_dict_key(d, k, k2)\n",
    "## d= dict, k=key, k2=new_key\n",
    "## Write code to replace key 'k' with new key 'k2'\n",
    "def change_dict_key(d,k,k2):\n",
    "    # your code here...\n",
    "    d.update({k2:d.pop(k)})\n",
    "    return d\n",
    "change_dict_key({1:10, 2:20, 3:30, 4:40}, 3, 13)"
   ]
  },
  {
   "cell_type": "code",
   "execution_count": 211,
   "id": "2375331f",
   "metadata": {},
   "outputs": [
    {
     "data": {
      "text/plain": [
       "{1: 100, 2: 200, 3: 300, 4: 400, 6: 600, 7: 700, 9: 900}"
      ]
     },
     "execution_count": 211,
     "metadata": {},
     "output_type": "execute_result"
    }
   ],
   "source": [
    "## Write a function code sort_dict(d) to sort by its keys\n",
    "\n",
    "def sort_dict(d):\n",
    "    d2=dict()\n",
    "    for key in sorted(d.keys()):\n",
    "        d2[key]=d.get(key)\n",
    "    return d2\n",
    "sort_dict({1:100, 9:900, 4:400, 7:700, 2:200, 6:600, 3:300})"
   ]
  },
  {
   "cell_type": "code",
   "execution_count": 212,
   "id": "a9aebd91",
   "metadata": {},
   "outputs": [
    {
     "data": {
      "text/plain": [
       "{1: 1, 2: 8, 3: 27, 4: 64, 5: 125, 6: 216, 7: 343, 8: 512, 9: 729, 10: 1000}"
      ]
     },
     "execution_count": 212,
     "metadata": {},
     "output_type": "execute_result"
    }
   ],
   "source": [
    "# dictionary by comprehension\n",
    "# dict with N as key and N**3 as value\n",
    "d={N:N**3 for N in range(1,11)}\n",
    "d"
   ]
  },
  {
   "cell_type": "code",
   "execution_count": 213,
   "id": "6da68991",
   "metadata": {},
   "outputs": [
    {
     "data": {
      "text/plain": [
       "{1: 100, 2: 200, 3: 300, 4: 400, 6: 600, 7: 700, 9: 900}"
      ]
     },
     "execution_count": 213,
     "metadata": {},
     "output_type": "execute_result"
    }
   ],
   "source": [
    "## Write a function code sort_dict(d) to sort dictionary by its keys\n",
    "\n",
    "def sort_dict(d):\n",
    "    return dict(sorted(d.items()))\n",
    "sort_dict({1:100, 9:900, 4:400, 7:700, 2:200, 6:600, 3:300})"
   ]
  },
  {
   "cell_type": "markdown",
   "id": "4383b15c",
   "metadata": {},
   "source": [
    "### Set"
   ]
  },
  {
   "cell_type": "code",
   "execution_count": 214,
   "id": "3d944ca2",
   "metadata": {},
   "outputs": [],
   "source": [
    "# collection of elements without repetition/redundancy\n",
    "# no duplicates"
   ]
  },
  {
   "cell_type": "code",
   "execution_count": 215,
   "id": "027d9ed2",
   "metadata": {},
   "outputs": [],
   "source": [
    "s=set()"
   ]
  },
  {
   "cell_type": "code",
   "execution_count": 216,
   "id": "11338644",
   "metadata": {},
   "outputs": [],
   "source": [
    "s={1,2,3,4,5}"
   ]
  },
  {
   "cell_type": "code",
   "execution_count": 218,
   "id": "df02477f",
   "metadata": {},
   "outputs": [
    {
     "data": {
      "text/plain": [
       "set"
      ]
     },
     "execution_count": 218,
     "metadata": {},
     "output_type": "execute_result"
    }
   ],
   "source": [
    "li=[1,2,3,4,5]\n",
    "s=set(li)\n",
    "type(s)"
   ]
  },
  {
   "cell_type": "code",
   "execution_count": 219,
   "id": "4e0e2634",
   "metadata": {},
   "outputs": [
    {
     "data": {
      "text/plain": [
       "set"
      ]
     },
     "execution_count": 219,
     "metadata": {},
     "output_type": "execute_result"
    }
   ],
   "source": [
    "t=(10,20,30)\n",
    "s=set(t)\n",
    "type(s)"
   ]
  },
  {
   "cell_type": "code",
   "execution_count": 221,
   "id": "b6f5c04e",
   "metadata": {},
   "outputs": [
    {
     "data": {
      "text/plain": [
       "{1, 2, 4, 5, 6, 7, 9}"
      ]
     },
     "execution_count": 221,
     "metadata": {},
     "output_type": "execute_result"
    }
   ],
   "source": [
    "li=[1,2,5,1,4,2,6,7,9,5,1]\n",
    "s=set(li)\n",
    "s"
   ]
  },
  {
   "cell_type": "code",
   "execution_count": 222,
   "id": "84cf95eb",
   "metadata": {},
   "outputs": [],
   "source": [
    "s1={1,2,3,4,5,6}\n",
    "s2={2,4,6,8,10}"
   ]
  },
  {
   "cell_type": "code",
   "execution_count": 223,
   "id": "f2487c53",
   "metadata": {},
   "outputs": [
    {
     "data": {
      "text/plain": [
       "{1, 2, 3, 4, 5, 6, 8, 10}"
      ]
     },
     "execution_count": 223,
     "metadata": {},
     "output_type": "execute_result"
    }
   ],
   "source": [
    "# union()\n",
    "s1.union(s2)"
   ]
  },
  {
   "cell_type": "code",
   "execution_count": 224,
   "id": "d1caa7de",
   "metadata": {},
   "outputs": [
    {
     "data": {
      "text/plain": [
       "{2, 4, 6}"
      ]
     },
     "execution_count": 224,
     "metadata": {},
     "output_type": "execute_result"
    }
   ],
   "source": [
    "# intersection()\n",
    "s1.intersection(s2)"
   ]
  },
  {
   "cell_type": "code",
   "execution_count": 225,
   "id": "d1c5b0a9",
   "metadata": {},
   "outputs": [
    {
     "data": {
      "text/plain": [
       "{1, 3, 5}"
      ]
     },
     "execution_count": 225,
     "metadata": {},
     "output_type": "execute_result"
    }
   ],
   "source": [
    "# difference()\n",
    "s1.difference(s2)"
   ]
  },
  {
   "cell_type": "code",
   "execution_count": 226,
   "id": "085cf0f4",
   "metadata": {},
   "outputs": [],
   "source": [
    "## other set functions\n",
    "s={1,2,3,4,5,6,7,8,9}"
   ]
  },
  {
   "cell_type": "code",
   "execution_count": 227,
   "id": "1a58c8f7",
   "metadata": {},
   "outputs": [
    {
     "data": {
      "text/plain": [
       "{1, 2, 3, 4, 5, 6, 7, 8, 9, 12}"
      ]
     },
     "execution_count": 227,
     "metadata": {},
     "output_type": "execute_result"
    }
   ],
   "source": [
    "# add(value)\n",
    "s.add(12)\n",
    "s"
   ]
  },
  {
   "cell_type": "code",
   "execution_count": 228,
   "id": "622cfc5a",
   "metadata": {},
   "outputs": [
    {
     "data": {
      "text/plain": [
       "{1, 2, 3, 4, 6, 7, 8, 9, 12}"
      ]
     },
     "execution_count": 228,
     "metadata": {},
     "output_type": "execute_result"
    }
   ],
   "source": [
    "# discard(value)\n",
    "s.discard(5)\n",
    "s"
   ]
  },
  {
   "cell_type": "code",
   "execution_count": 229,
   "id": "04ffa4e7",
   "metadata": {},
   "outputs": [],
   "source": [
    "# remove(value)\n",
    "s.remove(9)"
   ]
  },
  {
   "cell_type": "code",
   "execution_count": 230,
   "id": "daebcc89",
   "metadata": {},
   "outputs": [
    {
     "data": {
      "text/plain": [
       "{1, 2, 3, 4, 6, 7, 8, 12}"
      ]
     },
     "execution_count": 230,
     "metadata": {},
     "output_type": "execute_result"
    }
   ],
   "source": [
    "s"
   ]
  },
  {
   "cell_type": "code",
   "execution_count": 231,
   "id": "393fb0bb",
   "metadata": {},
   "outputs": [],
   "source": [
    "s.discard(100)"
   ]
  },
  {
   "cell_type": "code",
   "execution_count": 232,
   "id": "0e85a3f1",
   "metadata": {},
   "outputs": [
    {
     "ename": "KeyError",
     "evalue": "100",
     "output_type": "error",
     "traceback": [
      "\u001b[1;31m---------------------------------------------------------------------------\u001b[0m",
      "\u001b[1;31mKeyError\u001b[0m                                  Traceback (most recent call last)",
      "Input \u001b[1;32mIn [232]\u001b[0m, in \u001b[0;36m<cell line: 1>\u001b[1;34m()\u001b[0m\n\u001b[1;32m----> 1\u001b[0m \u001b[43ms\u001b[49m\u001b[38;5;241;43m.\u001b[39;49m\u001b[43mremove\u001b[49m\u001b[43m(\u001b[49m\u001b[38;5;241;43m100\u001b[39;49m\u001b[43m)\u001b[49m\n",
      "\u001b[1;31mKeyError\u001b[0m: 100"
     ]
    }
   ],
   "source": [
    "s.remove(100)"
   ]
  },
  {
   "cell_type": "code",
   "execution_count": 234,
   "id": "d5687145",
   "metadata": {},
   "outputs": [
    {
     "data": {
      "text/plain": [
       "1"
      ]
     },
     "execution_count": 234,
     "metadata": {},
     "output_type": "execute_result"
    }
   ],
   "source": [
    "# pop()\n",
    "s.pop()"
   ]
  },
  {
   "cell_type": "code",
   "execution_count": 235,
   "id": "af4d6da9",
   "metadata": {},
   "outputs": [
    {
     "data": {
      "text/plain": [
       "2"
      ]
     },
     "execution_count": 235,
     "metadata": {},
     "output_type": "execute_result"
    }
   ],
   "source": [
    "s.pop()"
   ]
  },
  {
   "cell_type": "code",
   "execution_count": 236,
   "id": "378431d2",
   "metadata": {},
   "outputs": [
    {
     "data": {
      "text/plain": [
       "{3, 4, 6, 7, 8, 12}"
      ]
     },
     "execution_count": 236,
     "metadata": {},
     "output_type": "execute_result"
    }
   ],
   "source": [
    "s"
   ]
  },
  {
   "cell_type": "code",
   "execution_count": 237,
   "id": "500b33d0",
   "metadata": {},
   "outputs": [
    {
     "data": {
      "text/plain": [
       "{3, 4, 6, 7, 8, 10, 12, 20, 30}"
      ]
     },
     "execution_count": 237,
     "metadata": {},
     "output_type": "execute_result"
    }
   ],
   "source": [
    "# update(set/iterable)\n",
    "s.update({10,20,30})\n",
    "s"
   ]
  },
  {
   "cell_type": "code",
   "execution_count": 238,
   "id": "d9b98d4d",
   "metadata": {},
   "outputs": [
    {
     "data": {
      "text/plain": [
       "{3, 4, 6, 7, 8, 10, 12, 20, 30, 100, 200, 300}"
      ]
     },
     "execution_count": 238,
     "metadata": {},
     "output_type": "execute_result"
    }
   ],
   "source": [
    "s.update([100,200,300])\n",
    "s"
   ]
  },
  {
   "cell_type": "code",
   "execution_count": 239,
   "id": "63e97049",
   "metadata": {},
   "outputs": [
    {
     "data": {
      "text/plain": [
       "{3, 4, 6, 7, 8, 10, 12, 20, 30, 100, 200, 300}"
      ]
     },
     "execution_count": 239,
     "metadata": {},
     "output_type": "execute_result"
    }
   ],
   "source": [
    "# copy()\n",
    "s2=s.copy()\n",
    "s2"
   ]
  },
  {
   "cell_type": "code",
   "execution_count": 240,
   "id": "b8b4a6bc",
   "metadata": {},
   "outputs": [
    {
     "data": {
      "text/plain": [
       "set()"
      ]
     },
     "execution_count": 240,
     "metadata": {},
     "output_type": "execute_result"
    }
   ],
   "source": [
    "# clear()\n",
    "s.clear()\n",
    "s"
   ]
  },
  {
   "cell_type": "code",
   "execution_count": 242,
   "id": "66e40278",
   "metadata": {
    "collapsed": true
   },
   "outputs": [
    {
     "name": "stdout",
     "output_type": "stream",
     "text": [
      "1 => 7\n",
      "2 => 3\n",
      "3 => 3\n",
      "4 => 3\n",
      "5 => 3\n",
      "6 => 3\n",
      "7 => 1\n",
      "8 => 3\n",
      "9 => 2\n"
     ]
    }
   ],
   "source": [
    "# Write a code to find and display frequnecy of each element in a given\n",
    "# list\n",
    "li=[1,2,4,1,5,3,6,3,1,7,9,8,5,4,2,1,5,6,1,1,8,9,8,6,4,3,2,1]\n",
    "for item in set(li):\n",
    "    print(f'{item} => {li.count(item)}')"
   ]
  },
  {
   "cell_type": "code",
   "execution_count": 244,
   "id": "98c6370c",
   "metadata": {},
   "outputs": [
    {
     "name": "stdout",
     "output_type": "stream",
     "text": [
      "{1: 7, 2: 3, 4: 3, 5: 3, 3: 3, 6: 3, 7: 1, 9: 2, 8: 3}\n"
     ]
    }
   ],
   "source": [
    "li=[1,2,4,1,5,3,6,3,1,7,9,8,5,4,2,1,5,6,1,1,8,9,8,6,4,3,2,1]\n",
    "d=dict.fromkeys(li,0)\n",
    "for item in li:\n",
    "    d.update({item:d[item]+1})\n",
    "print(d)"
   ]
  },
  {
   "cell_type": "code",
   "execution_count": null,
   "id": "e1c4d641",
   "metadata": {},
   "outputs": [],
   "source": [
    "## Find output:\n",
    "\n",
    "tuple={(1,2,3):3, (4,5,6,7):4, (8,9):5}\n",
    "sum=0\n",
    "for k in tuple:\n",
    "    sum+=len(k)\n",
    "print(sum)"
   ]
  },
  {
   "cell_type": "markdown",
   "id": "0049471b",
   "metadata": {},
   "source": [
    "## Lambda Functions"
   ]
  },
  {
   "cell_type": "code",
   "execution_count": 245,
   "id": "b5c16821",
   "metadata": {},
   "outputs": [],
   "source": [
    "# Inline function\n",
    "# Anonymous function\n",
    "# it uses keyword lambda for definition\n",
    "# it can have any number of args\n",
    "# It must have only single expression/statement\n"
   ]
  },
  {
   "cell_type": "code",
   "execution_count": 246,
   "id": "7db56110",
   "metadata": {},
   "outputs": [],
   "source": [
    "# lambda x,y : x+y"
   ]
  },
  {
   "cell_type": "code",
   "execution_count": 247,
   "id": "edce245c",
   "metadata": {},
   "outputs": [
    {
     "data": {
      "text/plain": [
       "<function __main__.<lambda>(x)>"
      ]
     },
     "execution_count": 247,
     "metadata": {},
     "output_type": "execute_result"
    }
   ],
   "source": [
    "k=lambda x: x**2\n",
    "k"
   ]
  },
  {
   "cell_type": "code",
   "execution_count": 248,
   "id": "2cc416cf",
   "metadata": {},
   "outputs": [
    {
     "data": {
      "text/plain": [
       "64"
      ]
     },
     "execution_count": 248,
     "metadata": {},
     "output_type": "execute_result"
    }
   ],
   "source": [
    "k(8)"
   ]
  },
  {
   "cell_type": "code",
   "execution_count": 249,
   "id": "05ed9487",
   "metadata": {},
   "outputs": [],
   "source": [
    "p=lambda x: x**2"
   ]
  },
  {
   "cell_type": "code",
   "execution_count": 250,
   "id": "1b86a101",
   "metadata": {},
   "outputs": [
    {
     "data": {
      "text/plain": [
       "81"
      ]
     },
     "execution_count": 250,
     "metadata": {},
     "output_type": "execute_result"
    }
   ],
   "source": [
    "p(9)"
   ]
  },
  {
   "cell_type": "code",
   "execution_count": 251,
   "id": "18a8bb4e",
   "metadata": {},
   "outputs": [],
   "source": [
    "def power(n):\n",
    "    return lambda x:x**n"
   ]
  },
  {
   "cell_type": "code",
   "execution_count": 252,
   "id": "b67d6bbb",
   "metadata": {},
   "outputs": [],
   "source": [
    "p2=power(2) # lambda x:x**2\n",
    "p3=power(3) # lambda x:x**3\n",
    "p4=power(4) # lambda x:x**4"
   ]
  },
  {
   "cell_type": "code",
   "execution_count": 253,
   "id": "6095e756",
   "metadata": {},
   "outputs": [
    {
     "data": {
      "text/plain": [
       "81"
      ]
     },
     "execution_count": 253,
     "metadata": {},
     "output_type": "execute_result"
    }
   ],
   "source": [
    "p2(9)"
   ]
  },
  {
   "cell_type": "code",
   "execution_count": 254,
   "id": "3b98bf53",
   "metadata": {},
   "outputs": [
    {
     "data": {
      "text/plain": [
       "64"
      ]
     },
     "execution_count": 254,
     "metadata": {},
     "output_type": "execute_result"
    }
   ],
   "source": [
    "p3(4)"
   ]
  },
  {
   "cell_type": "code",
   "execution_count": 255,
   "id": "49f06c56",
   "metadata": {},
   "outputs": [
    {
     "data": {
      "text/plain": [
       "2401"
      ]
     },
     "execution_count": 255,
     "metadata": {},
     "output_type": "execute_result"
    }
   ],
   "source": [
    "p4(7)"
   ]
  },
  {
   "cell_type": "code",
   "execution_count": 256,
   "id": "c779db9e",
   "metadata": {},
   "outputs": [
    {
     "data": {
      "text/plain": [
       "216"
      ]
     },
     "execution_count": 256,
     "metadata": {},
     "output_type": "execute_result"
    }
   ],
   "source": [
    "power(3)(6)   # lambda 6:6**3"
   ]
  },
  {
   "cell_type": "markdown",
   "id": "e29b4f23",
   "metadata": {},
   "source": [
    "### filter()"
   ]
  },
  {
   "cell_type": "code",
   "execution_count": 257,
   "id": "ed3f2160",
   "metadata": {},
   "outputs": [],
   "source": [
    "def filter_even(x):\n",
    "    return x%2==0"
   ]
  },
  {
   "cell_type": "code",
   "execution_count": 259,
   "id": "d28e8295",
   "metadata": {},
   "outputs": [
    {
     "data": {
      "text/plain": [
       "False"
      ]
     },
     "execution_count": 259,
     "metadata": {},
     "output_type": "execute_result"
    }
   ],
   "source": [
    "filter_even(5)"
   ]
  },
  {
   "cell_type": "code",
   "execution_count": 260,
   "id": "cf289933",
   "metadata": {},
   "outputs": [],
   "source": [
    "# filter(func, iterable)"
   ]
  },
  {
   "cell_type": "code",
   "execution_count": 262,
   "id": "2245247a",
   "metadata": {},
   "outputs": [
    {
     "data": {
      "text/plain": [
       "[4, 2, 6, 8, 6, 4]"
      ]
     },
     "execution_count": 262,
     "metadata": {},
     "output_type": "execute_result"
    }
   ],
   "source": [
    "li=[1,4,2,6,8,7,9,6,5,4,3,1]\n",
    "list(filter(filter_even, li))"
   ]
  },
  {
   "cell_type": "code",
   "execution_count": 263,
   "id": "0bc9ab38",
   "metadata": {},
   "outputs": [
    {
     "data": {
      "text/plain": [
       "[4, 2, 6, 8, 6, 4]"
      ]
     },
     "execution_count": 263,
     "metadata": {},
     "output_type": "execute_result"
    }
   ],
   "source": [
    "# filter() with lambda\n",
    "li=[1,4,2,6,8,7,9,6,5,4,3,1]\n",
    "list(filter(lambda x:x%2==0, li))"
   ]
  },
  {
   "cell_type": "markdown",
   "id": "63127a78",
   "metadata": {},
   "source": [
    "### map()"
   ]
  },
  {
   "cell_type": "code",
   "execution_count": 264,
   "id": "8e97dbe6",
   "metadata": {},
   "outputs": [
    {
     "data": {
      "text/plain": [
       "[1, 64, 8, 216, 512, 343, 729, 216, 125, 64, 27, 1]"
      ]
     },
     "execution_count": 264,
     "metadata": {},
     "output_type": "execute_result"
    }
   ],
   "source": [
    "# map(func, iterable)\n",
    "li=[1,4,2,6,8,7,9,6,5,4,3,1]\n",
    "\n",
    "list(map(lambda x:x**3, li))"
   ]
  },
  {
   "cell_type": "code",
   "execution_count": 265,
   "id": "ee34b0a8",
   "metadata": {},
   "outputs": [
    {
     "data": {
      "text/plain": [
       "[11, 14, 12, 16, 18, 17, 19, 16, 15, 14, 13, 11]"
      ]
     },
     "execution_count": 265,
     "metadata": {},
     "output_type": "execute_result"
    }
   ],
   "source": [
    "list(map(lambda x:x+10, li))"
   ]
  },
  {
   "cell_type": "markdown",
   "id": "864b4bf2",
   "metadata": {},
   "source": [
    "### reduce()"
   ]
  },
  {
   "cell_type": "code",
   "execution_count": 266,
   "id": "ad13b429",
   "metadata": {},
   "outputs": [],
   "source": [
    "from functools import reduce"
   ]
  },
  {
   "cell_type": "code",
   "execution_count": 267,
   "id": "c4532f2e",
   "metadata": {},
   "outputs": [],
   "source": [
    "li=[1,4,2,6,8,7,9,6,5,4,3,1]"
   ]
  },
  {
   "cell_type": "code",
   "execution_count": 268,
   "id": "9d2457fb",
   "metadata": {},
   "outputs": [
    {
     "name": "stdout",
     "output_type": "stream",
     "text": [
      "56\n"
     ]
    }
   ],
   "source": [
    "print(reduce(lambda x,y:x+y, li))"
   ]
  },
  {
   "cell_type": "code",
   "execution_count": 269,
   "id": "f0d68ddf",
   "metadata": {},
   "outputs": [
    {
     "name": "stdout",
     "output_type": "stream",
     "text": [
      "8709120\n"
     ]
    }
   ],
   "source": [
    "print(reduce(lambda x,y:x*y, li))"
   ]
  },
  {
   "cell_type": "code",
   "execution_count": null,
   "id": "ed05433f",
   "metadata": {},
   "outputs": [],
   "source": []
  }
 ],
 "metadata": {
  "kernelspec": {
   "display_name": "Python 3 (ipykernel)",
   "language": "python",
   "name": "python3"
  },
  "language_info": {
   "codemirror_mode": {
    "name": "ipython",
    "version": 3
   },
   "file_extension": ".py",
   "mimetype": "text/x-python",
   "name": "python",
   "nbconvert_exporter": "python",
   "pygments_lexer": "ipython3",
   "version": "3.9.12"
  }
 },
 "nbformat": 4,
 "nbformat_minor": 5
}
