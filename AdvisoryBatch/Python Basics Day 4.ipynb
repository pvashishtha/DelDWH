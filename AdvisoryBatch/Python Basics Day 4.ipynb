{
 "cells": [
  {
   "cell_type": "markdown",
   "id": "e25a6e6c",
   "metadata": {},
   "source": [
    "## Python Basics Day 4"
   ]
  },
  {
   "cell_type": "code",
   "execution_count": 3,
   "id": "0f9b27e1",
   "metadata": {},
   "outputs": [],
   "source": [
    "# Write a function search(d, k) that searches element in dictionary that has\n",
    "# k as key. It returns the key=>value pair if it exists. If the key does not\n",
    "# exist in dictionary d, then returns 'NOT FOUND'\n",
    "\n",
    "def search(d, k):\n",
    "    if k in d.keys():\n",
    "        return (k, d[k])\n",
    "    else:\n",
    "        return 'NOT FOUND'"
   ]
  },
  {
   "cell_type": "code",
   "execution_count": 4,
   "id": "50ebeaa5",
   "metadata": {},
   "outputs": [
    {
     "data": {
      "text/plain": [
       "'NOT FOUND'"
      ]
     },
     "execution_count": 4,
     "metadata": {},
     "output_type": "execute_result"
    }
   ],
   "source": [
    "search({1:100, 2:200, 3:300}, 5)"
   ]
  },
  {
   "cell_type": "code",
   "execution_count": 5,
   "id": "d9c4b1e4",
   "metadata": {},
   "outputs": [
    {
     "data": {
      "text/plain": [
       "(2, 200)"
      ]
     },
     "execution_count": 5,
     "metadata": {},
     "output_type": "execute_result"
    }
   ],
   "source": [
    "search({1:100, 2:200, 3:300}, 2)"
   ]
  },
  {
   "cell_type": "code",
   "execution_count": 6,
   "id": "baff34e7",
   "metadata": {},
   "outputs": [],
   "source": [
    "def search(d, k):\n",
    "    return (k, d[k]) if k in d.keys() else 'NOT FOUND'"
   ]
  },
  {
   "cell_type": "code",
   "execution_count": 7,
   "id": "c0143886",
   "metadata": {},
   "outputs": [
    {
     "data": {
      "text/plain": [
       "(2, 200)"
      ]
     },
     "execution_count": 7,
     "metadata": {},
     "output_type": "execute_result"
    }
   ],
   "source": [
    "search({1:100, 2:200, 3:300}, 2)"
   ]
  },
  {
   "cell_type": "code",
   "execution_count": 8,
   "id": "9f01034b",
   "metadata": {},
   "outputs": [
    {
     "data": {
      "text/plain": [
       "'NOT FOUND'"
      ]
     },
     "execution_count": 8,
     "metadata": {},
     "output_type": "execute_result"
    }
   ],
   "source": [
    "search({1:100, 2:200, 3:300}, 6)"
   ]
  },
  {
   "cell_type": "code",
   "execution_count": 10,
   "id": "292f518c",
   "metadata": {},
   "outputs": [
    {
     "name": "stdout",
     "output_type": "stream",
     "text": [
      "A => Apple\n",
      "B => Ball\n",
      "C => Cat\n",
      "D => Dog\n",
      "E => Elephant\n"
     ]
    }
   ],
   "source": [
    "# For a given dictionary, display all key and value pairs in following \n",
    "# format:   KEY => VALUE\n",
    "\n",
    "d={'A':'Apple', 'B':'Ball', 'C':'Cat','D':'Dog','E':'Elephant'}\n",
    "for k, v in d.items():\n",
    "    print(f'{k} => {v}')"
   ]
  },
  {
   "cell_type": "markdown",
   "id": "2fd4ab47",
   "metadata": {},
   "source": [
    "## File Handling"
   ]
  },
  {
   "cell_type": "code",
   "execution_count": null,
   "id": "53ca174b",
   "metadata": {},
   "outputs": [],
   "source": [
    "'''\n",
    "OPEN-> operations -> CLOSE\n",
    "'''"
   ]
  },
  {
   "cell_type": "code",
   "execution_count": null,
   "id": "468357f4",
   "metadata": {},
   "outputs": [],
   "source": [
    "\n",
    "'''\n",
    "MODES   TEXT FILES   BINARY FILES     POINTER POSITION\n",
    "--------------------------------------------------------\n",
    "READ   'r' | 'r+'    'rb' | 'rb+'      At the begining\n",
    "(throws exception if file does not exist)\n",
    "(if file exist, existing data is preserved)\n",
    "\n",
    "WRITE  'w' | 'w+'    'wb' | 'wb+'      At the begining  \n",
    "(creates new file if it does not exist)\n",
    "(if file exist, existing data is truncated)\n",
    "\n",
    "APPEND 'a' | 'a+'    'ab' | 'ab+'      At the end\n",
    "(if file exist, existing data is preserved)\n",
    "'''"
   ]
  },
  {
   "cell_type": "code",
   "execution_count": null,
   "id": "d4530d83",
   "metadata": {},
   "outputs": [],
   "source": [
    "'''\n",
    "open(), close()\n",
    "read(), readline(), readlines()\n",
    "write()\n",
    "flush()\n",
    "seek(), tell()\n",
    "'''"
   ]
  },
  {
   "cell_type": "markdown",
   "id": "7f41100e",
   "metadata": {},
   "source": [
    "#### file open()"
   ]
  },
  {
   "cell_type": "code",
   "execution_count": 11,
   "id": "736ace84",
   "metadata": {},
   "outputs": [],
   "source": [
    "# create file handle\n",
    "# open(filename/path, mode, [encoding]) returns file_handle_object\n",
    "file=open('myfile.txt', 'w')"
   ]
  },
  {
   "cell_type": "markdown",
   "id": "bf644695",
   "metadata": {},
   "source": [
    "#### write() to file"
   ]
  },
  {
   "cell_type": "code",
   "execution_count": 12,
   "id": "8c5aa732",
   "metadata": {},
   "outputs": [
    {
     "data": {
      "text/plain": [
       "20"
      ]
     },
     "execution_count": 12,
     "metadata": {},
     "output_type": "execute_result"
    }
   ],
   "source": [
    "file.write('Welcome to Deloitte!')"
   ]
  },
  {
   "cell_type": "code",
   "execution_count": 13,
   "id": "b0c54c57",
   "metadata": {},
   "outputs": [],
   "source": [
    "file.flush()"
   ]
  },
  {
   "cell_type": "code",
   "execution_count": 14,
   "id": "5232f69f",
   "metadata": {},
   "outputs": [],
   "source": [
    "file.write('\\nThis is line 2')\n",
    "file.flush()"
   ]
  },
  {
   "cell_type": "code",
   "execution_count": 15,
   "id": "d979ebe4",
   "metadata": {},
   "outputs": [
    {
     "data": {
      "text/plain": [
       "15"
      ]
     },
     "execution_count": 15,
     "metadata": {},
     "output_type": "execute_result"
    }
   ],
   "source": [
    "file.write('\\nThis is line 3')"
   ]
  },
  {
   "cell_type": "code",
   "execution_count": 16,
   "id": "bd92754b",
   "metadata": {},
   "outputs": [],
   "source": [
    "file.close()"
   ]
  },
  {
   "cell_type": "code",
   "execution_count": 17,
   "id": "e95a6c92",
   "metadata": {},
   "outputs": [],
   "source": [
    "file=open('myfile.txt', 'w')"
   ]
  },
  {
   "cell_type": "code",
   "execution_count": 18,
   "id": "fe0555f5",
   "metadata": {},
   "outputs": [],
   "source": [
    "file.write('line1\\nline2\\nline3\\nline4')\n",
    "file.close()"
   ]
  },
  {
   "cell_type": "markdown",
   "id": "136b0f0a",
   "metadata": {},
   "source": [
    "#### read() operation"
   ]
  },
  {
   "cell_type": "code",
   "execution_count": 19,
   "id": "0e7a6695",
   "metadata": {},
   "outputs": [],
   "source": [
    "# open(filename/path, 'r') - returns file handle\n",
    "# read([bytes])"
   ]
  },
  {
   "cell_type": "code",
   "execution_count": 20,
   "id": "8d15f1cd",
   "metadata": {},
   "outputs": [],
   "source": [
    "file=open('myfile.txt', 'r')"
   ]
  },
  {
   "cell_type": "code",
   "execution_count": 21,
   "id": "fb662826",
   "metadata": {},
   "outputs": [
    {
     "name": "stdout",
     "output_type": "stream",
     "text": [
      "line1\n",
      "line2\n",
      "line3\n",
      "line4\n"
     ]
    }
   ],
   "source": [
    "data=file.read()\n",
    "print(data)"
   ]
  },
  {
   "cell_type": "code",
   "execution_count": 22,
   "id": "ce21067b",
   "metadata": {},
   "outputs": [],
   "source": [
    "data=file.read()"
   ]
  },
  {
   "cell_type": "code",
   "execution_count": 23,
   "id": "f6b114be",
   "metadata": {},
   "outputs": [
    {
     "name": "stdout",
     "output_type": "stream",
     "text": [
      "\n"
     ]
    }
   ],
   "source": [
    "print(data)"
   ]
  },
  {
   "cell_type": "code",
   "execution_count": 24,
   "id": "5dee7776",
   "metadata": {},
   "outputs": [
    {
     "data": {
      "text/plain": [
       "0"
      ]
     },
     "execution_count": 24,
     "metadata": {},
     "output_type": "execute_result"
    }
   ],
   "source": [
    "file.seek(0) # bring pointer to desired position"
   ]
  },
  {
   "cell_type": "code",
   "execution_count": 25,
   "id": "77d1ac6a",
   "metadata": {},
   "outputs": [
    {
     "name": "stdout",
     "output_type": "stream",
     "text": [
      "line1\n",
      "line2\n",
      "line3\n",
      "line4\n"
     ]
    }
   ],
   "source": [
    "print(file.read())"
   ]
  },
  {
   "cell_type": "code",
   "execution_count": 26,
   "id": "457201ce",
   "metadata": {},
   "outputs": [],
   "source": [
    "# seek(location, [whence])"
   ]
  },
  {
   "cell_type": "code",
   "execution_count": 27,
   "id": "d3b0f230",
   "metadata": {},
   "outputs": [],
   "source": [
    "# whence - 0, 1, 2"
   ]
  },
  {
   "cell_type": "code",
   "execution_count": 35,
   "id": "dea79502",
   "metadata": {},
   "outputs": [
    {
     "name": "stdout",
     "output_type": "stream",
     "text": [
      "\n",
      "line3\n",
      "line4\n"
     ]
    }
   ],
   "source": [
    "file=open('myfile.txt','r')\n",
    "file.seek(13)\n",
    "print(file.read())"
   ]
  },
  {
   "cell_type": "code",
   "execution_count": 36,
   "id": "ce2537dc",
   "metadata": {},
   "outputs": [],
   "source": [
    "file.close()"
   ]
  },
  {
   "cell_type": "markdown",
   "id": "bc1e232a",
   "metadata": {},
   "source": [
    "#### readline()"
   ]
  },
  {
   "cell_type": "code",
   "execution_count": 37,
   "id": "39ad3783",
   "metadata": {},
   "outputs": [],
   "source": [
    "# readline() - reads one line at a time"
   ]
  },
  {
   "cell_type": "code",
   "execution_count": 38,
   "id": "c24f8333",
   "metadata": {},
   "outputs": [
    {
     "name": "stdout",
     "output_type": "stream",
     "text": [
      "line1\n",
      "\n"
     ]
    }
   ],
   "source": [
    "file=open('myfile.txt','r')\n",
    "print(file.readline())"
   ]
  },
  {
   "cell_type": "code",
   "execution_count": 39,
   "id": "0e12a24b",
   "metadata": {},
   "outputs": [
    {
     "name": "stdout",
     "output_type": "stream",
     "text": [
      "line2\n",
      "\n"
     ]
    }
   ],
   "source": [
    "print(file.readline())"
   ]
  },
  {
   "cell_type": "code",
   "execution_count": 40,
   "id": "73dc9d4a",
   "metadata": {},
   "outputs": [
    {
     "name": "stdout",
     "output_type": "stream",
     "text": [
      "line3\n",
      "\n"
     ]
    }
   ],
   "source": [
    "print(file.readline())"
   ]
  },
  {
   "cell_type": "code",
   "execution_count": 41,
   "id": "7061c9bb",
   "metadata": {},
   "outputs": [
    {
     "name": "stdout",
     "output_type": "stream",
     "text": [
      "line4\n"
     ]
    }
   ],
   "source": [
    "print(file.readline())"
   ]
  },
  {
   "cell_type": "code",
   "execution_count": 42,
   "id": "68bc4f07",
   "metadata": {},
   "outputs": [
    {
     "name": "stdout",
     "output_type": "stream",
     "text": [
      "\n"
     ]
    }
   ],
   "source": [
    "print(file.readline())"
   ]
  },
  {
   "cell_type": "markdown",
   "id": "ea5bac89",
   "metadata": {},
   "source": [
    "#### readlines()"
   ]
  },
  {
   "cell_type": "code",
   "execution_count": 43,
   "id": "fa3456b2",
   "metadata": {},
   "outputs": [],
   "source": [
    "# readlines() - reads all lines into a list"
   ]
  },
  {
   "cell_type": "code",
   "execution_count": 44,
   "id": "6df4dc00",
   "metadata": {},
   "outputs": [
    {
     "data": {
      "text/plain": [
       "0"
      ]
     },
     "execution_count": 44,
     "metadata": {},
     "output_type": "execute_result"
    }
   ],
   "source": [
    "file.seek(0)"
   ]
  },
  {
   "cell_type": "code",
   "execution_count": 45,
   "id": "7ef36e5f",
   "metadata": {},
   "outputs": [],
   "source": [
    "data_list=file.readlines()"
   ]
  },
  {
   "cell_type": "code",
   "execution_count": 46,
   "id": "6749dd59",
   "metadata": {},
   "outputs": [
    {
     "data": {
      "text/plain": [
       "['line1\\n', 'line2\\n', 'line3\\n', 'line4']"
      ]
     },
     "execution_count": 46,
     "metadata": {},
     "output_type": "execute_result"
    }
   ],
   "source": [
    "data_list"
   ]
  },
  {
   "cell_type": "code",
   "execution_count": 48,
   "id": "79751fe7",
   "metadata": {},
   "outputs": [
    {
     "name": "stdout",
     "output_type": "stream",
     "text": [
      "line1\n",
      "line2\n",
      "line3\n",
      "line4"
     ]
    }
   ],
   "source": [
    "for line in data_list:\n",
    "    print(line, end='')"
   ]
  },
  {
   "cell_type": "code",
   "execution_count": 49,
   "id": "e35e121a",
   "metadata": {},
   "outputs": [
    {
     "data": {
      "text/plain": [
       "0"
      ]
     },
     "execution_count": 49,
     "metadata": {},
     "output_type": "execute_result"
    }
   ],
   "source": [
    "file.seek(0)"
   ]
  },
  {
   "cell_type": "code",
   "execution_count": 50,
   "id": "d7490407",
   "metadata": {},
   "outputs": [],
   "source": [
    "# read([bytes]) - allows to read specific number of bytes at a time"
   ]
  },
  {
   "cell_type": "code",
   "execution_count": 51,
   "id": "e2e8db91",
   "metadata": {},
   "outputs": [
    {
     "name": "stdout",
     "output_type": "stream",
     "text": [
      "line1\n",
      "line\n"
     ]
    }
   ],
   "source": [
    "print(file.read(10))"
   ]
  },
  {
   "cell_type": "code",
   "execution_count": 52,
   "id": "77033f13",
   "metadata": {},
   "outputs": [
    {
     "name": "stdout",
     "output_type": "stream",
     "text": [
      "2\n",
      "line3\n",
      "li\n"
     ]
    }
   ],
   "source": [
    "print(file.read(10))"
   ]
  },
  {
   "cell_type": "code",
   "execution_count": 53,
   "id": "8ed42b93",
   "metadata": {},
   "outputs": [
    {
     "name": "stdout",
     "output_type": "stream",
     "text": [
      "ne4\n"
     ]
    }
   ],
   "source": [
    "print(file.read(10))"
   ]
  },
  {
   "cell_type": "code",
   "execution_count": 54,
   "id": "858561d4",
   "metadata": {},
   "outputs": [],
   "source": [
    "file.close()"
   ]
  },
  {
   "cell_type": "code",
   "execution_count": 55,
   "id": "0f469e2a",
   "metadata": {},
   "outputs": [],
   "source": [
    "# write a code to create a text file on desktop and write a grreting\n",
    "# message inside file before closing it.\n",
    "# Hint: 'C:\\\\Users\\\\pvashishtha\\\\Desktop\\\\myfile.txt'\n",
    "\n",
    "file=open('C:\\\\Users\\\\pvashishtha\\\\Desktop\\\\myfile.txt', 'w')\n",
    "file.write('Good Morning')\n",
    "file.flush()\n",
    "file.close()"
   ]
  },
  {
   "cell_type": "markdown",
   "id": "c074cf69",
   "metadata": {},
   "source": [
    "#### Appending to a file"
   ]
  },
  {
   "cell_type": "code",
   "execution_count": 56,
   "id": "c139a72b",
   "metadata": {},
   "outputs": [],
   "source": [
    "# mode- 'a'"
   ]
  },
  {
   "cell_type": "code",
   "execution_count": 57,
   "id": "54853de0",
   "metadata": {},
   "outputs": [],
   "source": [
    "file=open('myfile.txt','a')"
   ]
  },
  {
   "cell_type": "code",
   "execution_count": 58,
   "id": "c7e5c6c7",
   "metadata": {},
   "outputs": [
    {
     "data": {
      "text/plain": [
       "19"
      ]
     },
     "execution_count": 58,
     "metadata": {},
     "output_type": "execute_result"
    }
   ],
   "source": [
    "file.write('this is append no.1')"
   ]
  },
  {
   "cell_type": "code",
   "execution_count": 59,
   "id": "4d4b9207",
   "metadata": {},
   "outputs": [],
   "source": [
    "file.flush()"
   ]
  },
  {
   "cell_type": "code",
   "execution_count": 60,
   "id": "74182473",
   "metadata": {},
   "outputs": [],
   "source": [
    "# tell() - returns current position of file pointer"
   ]
  },
  {
   "cell_type": "code",
   "execution_count": 61,
   "id": "4ae74248",
   "metadata": {},
   "outputs": [
    {
     "data": {
      "text/plain": [
       "45"
      ]
     },
     "execution_count": 61,
     "metadata": {},
     "output_type": "execute_result"
    }
   ],
   "source": [
    "file.tell()"
   ]
  },
  {
   "cell_type": "code",
   "execution_count": 62,
   "id": "aac1d3e5",
   "metadata": {},
   "outputs": [],
   "source": [
    "file.close()"
   ]
  },
  {
   "cell_type": "markdown",
   "id": "0493a380",
   "metadata": {},
   "source": [
    "### r+"
   ]
  },
  {
   "cell_type": "code",
   "execution_count": 63,
   "id": "c4ec0296",
   "metadata": {},
   "outputs": [],
   "source": [
    "# mode= 'r+' => open file in read and write mode, pointer at begining,\n",
    "# old data is preserved"
   ]
  },
  {
   "cell_type": "code",
   "execution_count": 64,
   "id": "bdd0714d",
   "metadata": {},
   "outputs": [
    {
     "name": "stdout",
     "output_type": "stream",
     "text": [
      "line1\n",
      "line2\n",
      "line3\n",
      "line4this is append no.1\n"
     ]
    }
   ],
   "source": [
    "file=open('myfile.txt', 'r+')\n",
    "print(file.read())\n",
    "# pointer now at end of file\n",
    "file.write('\\nThis is new data-001')\n",
    "file.close()"
   ]
  },
  {
   "cell_type": "markdown",
   "id": "2fd476e3",
   "metadata": {},
   "source": [
    "### w+"
   ]
  },
  {
   "cell_type": "code",
   "execution_count": 65,
   "id": "e548d686",
   "metadata": {},
   "outputs": [],
   "source": [
    "# mode= 'w+' => write as well as read data, pointer at begining,\n",
    "# old data will be truncated."
   ]
  },
  {
   "cell_type": "code",
   "execution_count": 66,
   "id": "1f852559",
   "metadata": {},
   "outputs": [
    {
     "name": "stdout",
     "output_type": "stream",
     "text": [
      "This is data written in w+ mode.\n"
     ]
    }
   ],
   "source": [
    "file=open('myfile.txt','w+')\n",
    "file.write('This is data written in w+ mode.')\n",
    "file.flush()\n",
    "# pointer is at end of file now\n",
    "file.seek(0)\n",
    "print(file.read())\n",
    "file.close()"
   ]
  },
  {
   "cell_type": "markdown",
   "id": "5f9de3e9",
   "metadata": {},
   "source": [
    "### a+"
   ]
  },
  {
   "cell_type": "code",
   "execution_count": 67,
   "id": "09778fa0",
   "metadata": {},
   "outputs": [],
   "source": [
    "# mode= 'a+' => open in append as well as read, pointer at end of file\n",
    "# old data will be preserved"
   ]
  },
  {
   "cell_type": "code",
   "execution_count": 68,
   "id": "292bb6bc",
   "metadata": {},
   "outputs": [
    {
     "name": "stdout",
     "output_type": "stream",
     "text": [
      "This is data written in w+ mode.\n",
      "This is new data at line 2\n"
     ]
    }
   ],
   "source": [
    "file=open('myfile.txt','a+')\n",
    "file.write('\\nThis is new data at line 2')\n",
    "file.flush()\n",
    "# pointer is at end\n",
    "file.seek(0)\n",
    "print(file.read())\n",
    "file.close()"
   ]
  },
  {
   "cell_type": "code",
   "execution_count": 70,
   "id": "50b6758a",
   "metadata": {},
   "outputs": [
    {
     "data": {
      "text/plain": [
       "True"
      ]
     },
     "execution_count": 70,
     "metadata": {},
     "output_type": "execute_result"
    }
   ],
   "source": [
    "file.closed # whether file is open or closed?"
   ]
  },
  {
   "cell_type": "code",
   "execution_count": 72,
   "id": "de043f76",
   "metadata": {},
   "outputs": [],
   "source": [
    "# Write a program code to copy text data from one file to another\n",
    "file1=open('myfile.txt','r')\n",
    "file2=open('newfile.txt','w')\n",
    "\n",
    "data=file1.read()\n",
    "file2.write(data)\n",
    "\n",
    "file1.close()\n",
    "file2.close()"
   ]
  },
  {
   "cell_type": "markdown",
   "id": "0a356e01",
   "metadata": {},
   "source": [
    "#### Write python function code process_text(filename) that reads data from the text file and finds the frequency of the words like [ 'the', 'a', 'in' ] from the file text. Also, it must display the sentences from the file that contains word 'the' anywhere in the sentence. "
   ]
  },
  {
   "cell_type": "code",
   "execution_count": 76,
   "id": "9e190ee9",
   "metadata": {},
   "outputs": [
    {
     "name": "stdout",
     "output_type": "stream",
     "text": [
      "THE=>4\n",
      "A=>2\n",
      "IN=>2\n",
      "The sky is pink\n",
      "\n",
      "A balloon is in the sky\n",
      "\n",
      "House is in the woods\n",
      "\n",
      "The last part is horrific!\n"
     ]
    }
   ],
   "source": [
    "def process_text(filename):\n",
    "    file=open(filename,'r')\n",
    "    data=file.read().lower().split()\n",
    "    print(f'THE=>{data.count(\"the\")}')\n",
    "    print(f'A=>{data.count(\"a\")}')\n",
    "    print(f'IN=>{data.count(\"in\")}')\n",
    "    # move to begin\n",
    "    file.seek(0)\n",
    "    lines=file.readlines()\n",
    "    for line in lines:\n",
    "        if 'the' in line.lower():\n",
    "            print(line)\n",
    "    file.close()\n",
    "    \n",
    "process_text('articles.txt')"
   ]
  },
  {
   "cell_type": "markdown",
   "id": "df68db24",
   "metadata": {},
   "source": [
    "### Working with Binary Files"
   ]
  },
  {
   "cell_type": "code",
   "execution_count": 77,
   "id": "5e0598f7",
   "metadata": {},
   "outputs": [],
   "source": [
    "# rb, rb+\n",
    "# wb, wb+\n",
    "# ab, ab+"
   ]
  },
  {
   "cell_type": "code",
   "execution_count": 83,
   "id": "1454a74c",
   "metadata": {},
   "outputs": [
    {
     "data": {
      "text/plain": [
       "541315"
      ]
     },
     "execution_count": 83,
     "metadata": {},
     "output_type": "execute_result"
    }
   ],
   "source": [
    "file=open('panda.jpeg', 'rb')\n",
    "data=file.read()\n",
    "file2=open('panda_copy.jpeg', 'wb')\n",
    "file2.write(data)"
   ]
  },
  {
   "cell_type": "code",
   "execution_count": 85,
   "id": "9932c51f",
   "metadata": {},
   "outputs": [],
   "source": [
    "file.close()\n",
    "file2.close()"
   ]
  },
  {
   "cell_type": "markdown",
   "id": "fbc66f13",
   "metadata": {},
   "source": [
    "### Copying large files, (optional)"
   ]
  },
  {
   "cell_type": "code",
   "execution_count": null,
   "id": "7126c4aa",
   "metadata": {},
   "outputs": [],
   "source": [
    "# write program to copy binary file of large size and\n",
    "# that can work on system with small memory"
   ]
  },
  {
   "cell_type": "code",
   "execution_count": 86,
   "id": "479e5925",
   "metadata": {
    "collapsed": true
   },
   "outputs": [
    {
     "name": "stdout",
     "output_type": "stream",
     "text": [
      "original File Size:  541315\n",
      "Fixed Partitions:  54\n",
      "Last Chunk Size:  1315\n",
      "*** writing full chunk ***\n",
      "*** writing full chunk ***\n",
      "*** writing full chunk ***\n",
      "*** writing full chunk ***\n",
      "*** writing full chunk ***\n",
      "*** writing full chunk ***\n",
      "*** writing full chunk ***\n",
      "*** writing full chunk ***\n",
      "*** writing full chunk ***\n",
      "*** writing full chunk ***\n",
      "*** writing full chunk ***\n",
      "*** writing full chunk ***\n",
      "*** writing full chunk ***\n",
      "*** writing full chunk ***\n",
      "*** writing full chunk ***\n",
      "*** writing full chunk ***\n",
      "*** writing full chunk ***\n",
      "*** writing full chunk ***\n",
      "*** writing full chunk ***\n",
      "*** writing full chunk ***\n",
      "*** writing full chunk ***\n",
      "*** writing full chunk ***\n",
      "*** writing full chunk ***\n",
      "*** writing full chunk ***\n",
      "*** writing full chunk ***\n",
      "*** writing full chunk ***\n",
      "*** writing full chunk ***\n",
      "*** writing full chunk ***\n",
      "*** writing full chunk ***\n",
      "*** writing full chunk ***\n",
      "*** writing full chunk ***\n",
      "*** writing full chunk ***\n",
      "*** writing full chunk ***\n",
      "*** writing full chunk ***\n",
      "*** writing full chunk ***\n",
      "*** writing full chunk ***\n",
      "*** writing full chunk ***\n",
      "*** writing full chunk ***\n",
      "*** writing full chunk ***\n",
      "*** writing full chunk ***\n",
      "*** writing full chunk ***\n",
      "*** writing full chunk ***\n",
      "*** writing full chunk ***\n",
      "*** writing full chunk ***\n",
      "*** writing full chunk ***\n",
      "*** writing full chunk ***\n",
      "*** writing full chunk ***\n",
      "*** writing full chunk ***\n",
      "*** writing full chunk ***\n",
      "*** writing full chunk ***\n",
      "*** writing full chunk ***\n",
      "*** writing full chunk ***\n",
      "*** writing full chunk ***\n",
      "*** writing full chunk ***\n",
      "*** writing last chunk ***\n",
      "File Copy Ended!\n"
     ]
    }
   ],
   "source": [
    "# write code for copying large size file in multiple parts\n",
    "\n",
    "def file_copy(file1, file2, memory_size):\n",
    "    fp1=open(file1, 'rb')#, encoding='UTF-8')\n",
    "    fp2=open(file2,'wb')#, encoding='UTF-8')\n",
    "    fp1.seek(0,2)\n",
    "    file_size=fp1.tell()\n",
    "    print('original File Size: ',file_size)\n",
    "    fixed_partition=file_size//memory_size\n",
    "    remaining_partition_size=file_size-(fixed_partition*memory_size)\n",
    "    print('Fixed Partitions: ', fixed_partition)\n",
    "    print('Last Chunk Size: ',remaining_partition_size)\n",
    "    fp1.seek(0)\n",
    "    for it in range(fixed_partition+1):\n",
    "        if it==fixed_partition:\n",
    "            if remaining_partition_size==0:\n",
    "                break\n",
    "            else:\n",
    "                data=fp1.read(remaining_partition_size)\n",
    "                fp2.write(data)\n",
    "                fp2.flush()\n",
    "                print('*** writing last chunk ***')\n",
    "        else:\n",
    "            data=fp1.read(memory_size)\n",
    "            fp2.write(data)\n",
    "            fp2.flush()\n",
    "            print('*** writing full chunk ***')\n",
    "    fp1.close()\n",
    "    fp2.close()\n",
    "    print('File Copy Ended!')\n",
    "\n",
    "file_copy('panda.jpeg', 'panda_copy_2.jpeg', 10000)"
   ]
  },
  {
   "cell_type": "markdown",
   "id": "c44ec8ae",
   "metadata": {},
   "source": [
    "### Data Serialization"
   ]
  },
  {
   "cell_type": "code",
   "execution_count": 87,
   "id": "2bfa17ea",
   "metadata": {},
   "outputs": [],
   "source": [
    "import pickle"
   ]
  },
  {
   "cell_type": "code",
   "execution_count": 88,
   "id": "8e10f2c1",
   "metadata": {
    "collapsed": true
   },
   "outputs": [
    {
     "name": "stdout",
     "output_type": "stream",
     "text": [
      "['ADDITEMS', 'APPEND', 'APPENDS', 'BINBYTES', 'BINBYTES8', 'BINFLOAT', 'BINGET', 'BININT', 'BININT1', 'BININT2', 'BINPERSID', 'BINPUT', 'BINSTRING', 'BINUNICODE', 'BINUNICODE8', 'BUILD', 'BYTEARRAY8', 'DEFAULT_PROTOCOL', 'DICT', 'DUP', 'EMPTY_DICT', 'EMPTY_LIST', 'EMPTY_SET', 'EMPTY_TUPLE', 'EXT1', 'EXT2', 'EXT4', 'FALSE', 'FLOAT', 'FRAME', 'FROZENSET', 'FunctionType', 'GET', 'GLOBAL', 'HIGHEST_PROTOCOL', 'INST', 'INT', 'LIST', 'LONG', 'LONG1', 'LONG4', 'LONG_BINGET', 'LONG_BINPUT', 'MARK', 'MEMOIZE', 'NEWFALSE', 'NEWOBJ', 'NEWOBJ_EX', 'NEWTRUE', 'NEXT_BUFFER', 'NONE', 'OBJ', 'PERSID', 'POP', 'POP_MARK', 'PROTO', 'PUT', 'PickleBuffer', 'PickleError', 'Pickler', 'PicklingError', 'PyStringMap', 'READONLY_BUFFER', 'REDUCE', 'SETITEM', 'SETITEMS', 'SHORT_BINBYTES', 'SHORT_BINSTRING', 'SHORT_BINUNICODE', 'STACK_GLOBAL', 'STOP', 'STRING', 'TRUE', 'TUPLE', 'TUPLE1', 'TUPLE2', 'TUPLE3', 'UNICODE', 'Unpickler', 'UnpicklingError', '_Framer', '_HAVE_PICKLE_BUFFER', '_Pickler', '_Stop', '_Unframer', '_Unpickler', '__all__', '__builtins__', '__cached__', '__doc__', '__file__', '__loader__', '__name__', '__package__', '__spec__', '_compat_pickle', '_dump', '_dumps', '_extension_cache', '_extension_registry', '_getattribute', '_inverted_registry', '_load', '_loads', '_test', '_tuplesize2code', 'bytes_types', 'codecs', 'compatible_formats', 'decode_long', 'dispatch_table', 'dump', 'dumps', 'encode_long', 'format_version', 'io', 'islice', 'load', 'loads', 'maxsize', 'pack', 'partial', 're', 'sys', 'unpack', 'whichmodule']\n"
     ]
    }
   ],
   "source": [
    "print(dir(pickle))"
   ]
  },
  {
   "cell_type": "code",
   "execution_count": 89,
   "id": "f4d2c2af",
   "metadata": {},
   "outputs": [],
   "source": [
    "li=[10,20,30,40,50]\n",
    "t=('a','b','c','d','e')\n",
    "d={1:100, 'name':'Prateek', 'eid':750007}"
   ]
  },
  {
   "cell_type": "code",
   "execution_count": 90,
   "id": "a6843ce1",
   "metadata": {},
   "outputs": [],
   "source": [
    "data=[li, t, d]"
   ]
  },
  {
   "cell_type": "code",
   "execution_count": 91,
   "id": "38ac5785",
   "metadata": {},
   "outputs": [],
   "source": [
    "file=open('all_data_file.pv', 'wb')"
   ]
  },
  {
   "cell_type": "code",
   "execution_count": 92,
   "id": "89d10cf7",
   "metadata": {},
   "outputs": [],
   "source": [
    "# pickle.dump(data_object, file_handle)\n",
    "pickle.dump(data, file)"
   ]
  },
  {
   "cell_type": "code",
   "execution_count": 93,
   "id": "5bf64836",
   "metadata": {},
   "outputs": [],
   "source": [
    "file.close()"
   ]
  },
  {
   "cell_type": "code",
   "execution_count": 94,
   "id": "4bf8ca7f",
   "metadata": {},
   "outputs": [],
   "source": [
    "# Retrive data back from file"
   ]
  },
  {
   "cell_type": "code",
   "execution_count": 95,
   "id": "ea3294e0",
   "metadata": {},
   "outputs": [],
   "source": [
    "file=open('all_data_file.pv', 'rb')"
   ]
  },
  {
   "cell_type": "code",
   "execution_count": 96,
   "id": "5946b146",
   "metadata": {},
   "outputs": [],
   "source": [
    "data_backup=pickle.load(file)"
   ]
  },
  {
   "cell_type": "code",
   "execution_count": 97,
   "id": "2df343a1",
   "metadata": {},
   "outputs": [
    {
     "data": {
      "text/plain": [
       "[[10, 20, 30, 40, 50],\n",
       " ('a', 'b', 'c', 'd', 'e'),\n",
       " {1: 100, 'name': 'Prateek', 'eid': 750007}]"
      ]
     },
     "execution_count": 97,
     "metadata": {},
     "output_type": "execute_result"
    }
   ],
   "source": [
    "data_backup"
   ]
  },
  {
   "cell_type": "markdown",
   "id": "d49bc445",
   "metadata": {},
   "source": [
    "## Exception Handling"
   ]
  },
  {
   "cell_type": "code",
   "execution_count": 103,
   "id": "a8034b33",
   "metadata": {},
   "outputs": [
    {
     "name": "stdout",
     "output_type": "stream",
     "text": [
      "3\n",
      "0\n"
     ]
    },
    {
     "ename": "ZeroDivisionError",
     "evalue": "integer division or modulo by zero",
     "output_type": "error",
     "traceback": [
      "\u001b[1;31m---------------------------------------------------------------------------\u001b[0m",
      "\u001b[1;31mZeroDivisionError\u001b[0m                         Traceback (most recent call last)",
      "Input \u001b[1;32mIn [103]\u001b[0m, in \u001b[0;36m<cell line: 3>\u001b[1;34m()\u001b[0m\n\u001b[0;32m      1\u001b[0m x\u001b[38;5;241m=\u001b[39m\u001b[38;5;28mint\u001b[39m(\u001b[38;5;28minput\u001b[39m())\n\u001b[0;32m      2\u001b[0m y\u001b[38;5;241m=\u001b[39m\u001b[38;5;28mint\u001b[39m(\u001b[38;5;28minput\u001b[39m())\n\u001b[1;32m----> 3\u001b[0m z\u001b[38;5;241m=\u001b[39m\u001b[43mx\u001b[49m\u001b[38;5;241;43m/\u001b[39;49m\u001b[38;5;241;43m/\u001b[39;49m\u001b[43my\u001b[49m\n\u001b[0;32m      4\u001b[0m \u001b[38;5;28mprint\u001b[39m(\u001b[38;5;124mf\u001b[39m\u001b[38;5;124m'\u001b[39m\u001b[38;5;124mZ value is: \u001b[39m\u001b[38;5;132;01m{\u001b[39;00mz\u001b[38;5;132;01m}\u001b[39;00m\u001b[38;5;124m'\u001b[39m)\n\u001b[0;32m      5\u001b[0m \u001b[38;5;28mprint\u001b[39m(\u001b[38;5;124m'\u001b[39m\u001b[38;5;124mEND!\u001b[39m\u001b[38;5;124m'\u001b[39m)\n",
      "\u001b[1;31mZeroDivisionError\u001b[0m: integer division or modulo by zero"
     ]
    }
   ],
   "source": [
    "x=int(input())\n",
    "y=int(input())\n",
    "z=x//y\n",
    "print(f'Z value is: {z}')\n",
    "print('END!')"
   ]
  },
  {
   "cell_type": "code",
   "execution_count": 102,
   "id": "897f7437",
   "metadata": {},
   "outputs": [
    {
     "name": "stdout",
     "output_type": "stream",
     "text": [
      "3\n",
      "0\n",
      "Error has occured\n",
      "END!\n"
     ]
    }
   ],
   "source": [
    "x=int(input())\n",
    "y=int(input())\n",
    "try:\n",
    "    z=x//y\n",
    "    print(f'Z value is: {z}')\n",
    "except:\n",
    "    print('Error has occured')\n",
    "print('END!')"
   ]
  },
  {
   "cell_type": "code",
   "execution_count": 105,
   "id": "b5987326",
   "metadata": {},
   "outputs": [
    {
     "name": "stdout",
     "output_type": "stream",
     "text": [
      "File is not found!\n",
      "continue processing other data...\n"
     ]
    }
   ],
   "source": [
    "try:\n",
    "    file=open('mydata.txt','r')\n",
    "except:\n",
    "    print('File is not found!')\n",
    "print('continue processing other data...')"
   ]
  },
  {
   "cell_type": "code",
   "execution_count": 114,
   "id": "404727a5",
   "metadata": {},
   "outputs": [
    {
     "name": "stdout",
     "output_type": "stream",
     "text": [
      "23\n",
      "2\n",
      "Error!\n",
      "END!\n"
     ]
    }
   ],
   "source": [
    "# Multiple Exception - Named Exceptions\n",
    "try:\n",
    "    x=int(input())\n",
    "    y=int(input())\n",
    "    z=x//y   # ZeroDivisionError\n",
    "    file=open('myfile.txt','r') # FileNotFoundError\n",
    "    import pickle \n",
    "    pickle.dump(z, file)\n",
    "    file.close()\n",
    "except ZeroDivisionError:\n",
    "    print('Zero Division Error')\n",
    "except FileNotFoundError:\n",
    "    print('File Not Found')\n",
    "except:\n",
    "    print('Error!')\n",
    "print('END!')"
   ]
  },
  {
   "cell_type": "code",
   "execution_count": 121,
   "id": "11d00226",
   "metadata": {},
   "outputs": [
    {
     "name": "stdout",
     "output_type": "stream",
     "text": [
      "23\n",
      "2\n",
      "Try Block Executed Sucessfully\n",
      "END!\n"
     ]
    }
   ],
   "source": [
    "# try-except-else\n",
    "try:\n",
    "    x=int(input())\n",
    "    y=int(input())\n",
    "    z=x//y   # ZeroDivisionError\n",
    "    file=open('myfile.txt','wb') # FileNotFoundError\n",
    "    import pickle \n",
    "    pickle.dump(z, file)\n",
    "    file.close()\n",
    "except ZeroDivisionError:\n",
    "    print('Zero Division Error')\n",
    "except FileNotFoundError:\n",
    "    print('File Not Found')\n",
    "except:\n",
    "    print('Error!')\n",
    "else:\n",
    "    print('Try Block Executed Sucessfully')\n",
    "print('END!')"
   ]
  },
  {
   "cell_type": "code",
   "execution_count": 123,
   "id": "7778071c",
   "metadata": {},
   "outputs": [
    {
     "name": "stdout",
     "output_type": "stream",
     "text": [
      "3\n",
      "2\n",
      "Try Block Executed Sucessfully\n",
      "Final Action\n",
      "END!\n"
     ]
    }
   ],
   "source": [
    "# try-except-else-finally\n",
    "try:\n",
    "    x=int(input())\n",
    "    y=int(input())\n",
    "    z=x//y   # ZeroDivisionError\n",
    "    file=open('myfile.txt','wb') # FileNotFoundError\n",
    "    import pickle \n",
    "    pickle.dump(z, file)\n",
    "    file.close()\n",
    "except ZeroDivisionError:\n",
    "    print('Zero Division Error')\n",
    "except FileNotFoundError:\n",
    "    print('File Not Found')\n",
    "except:\n",
    "    print('Error!')\n",
    "else:\n",
    "    print('Try Block Executed Sucessfully')\n",
    "finally:\n",
    "    print('Final Action')\n",
    "print('END!')"
   ]
  },
  {
   "cell_type": "code",
   "execution_count": 125,
   "id": "4dd817e0",
   "metadata": {},
   "outputs": [
    {
     "ename": "ZeroDivisionError",
     "evalue": "division by zero",
     "output_type": "error",
     "traceback": [
      "\u001b[1;31m---------------------------------------------------------------------------\u001b[0m",
      "\u001b[1;31mZeroDivisionError\u001b[0m                         Traceback (most recent call last)",
      "Input \u001b[1;32mIn [125]\u001b[0m, in \u001b[0;36m<cell line: 2>\u001b[1;34m()\u001b[0m\n\u001b[0;32m      1\u001b[0m \u001b[38;5;66;03m# Exception Arguments\u001b[39;00m\n\u001b[1;32m----> 2\u001b[0m \u001b[38;5;241;43m23\u001b[39;49m\u001b[38;5;241;43m/\u001b[39;49m\u001b[38;5;241;43m0\u001b[39;49m\n",
      "\u001b[1;31mZeroDivisionError\u001b[0m: division by zero"
     ]
    }
   ],
   "source": [
    "# Exception Arguments\n",
    "23/0"
   ]
  },
  {
   "cell_type": "code",
   "execution_count": 126,
   "id": "86bc0678",
   "metadata": {},
   "outputs": [
    {
     "name": "stdout",
     "output_type": "stream",
     "text": [
      "2\n",
      "0\n",
      "Error:  division by zero\n"
     ]
    }
   ],
   "source": [
    "# Exception Arguments\n",
    "try:\n",
    "    x=int(input())\n",
    "    y=int(input())\n",
    "    z=x/y\n",
    "except ZeroDivisionError as arg:\n",
    "    print('Error: ', arg)\n",
    "except:\n",
    "    print(\"Generic Error\")"
   ]
  },
  {
   "cell_type": "code",
   "execution_count": 127,
   "id": "1ea1de03",
   "metadata": {},
   "outputs": [],
   "source": [
    "# User Defined Exception\n",
    "class MyException(Exception):\n",
    "    def __init__(self, msg):\n",
    "        self.msg=msg\n",
    "    def get_msg(self):\n",
    "        return self.msg"
   ]
  },
  {
   "cell_type": "code",
   "execution_count": 128,
   "id": "a9821f34",
   "metadata": {},
   "outputs": [
    {
     "name": "stdout",
     "output_type": "stream",
     "text": [
      "23\n",
      "0\n",
      "Argument Message:  Z Value is less than 100\n"
     ]
    }
   ],
   "source": [
    "try:\n",
    "    x=int(input())\n",
    "    y=int(input())\n",
    "    z=x+y\n",
    "    if z<100:\n",
    "        raise MyException('Z Value is less than 100')\n",
    "    print(f'Z= {z}')\n",
    "except MyException as m:\n",
    "    print('Argument Message: ',m.msg)\n",
    "except:\n",
    "    print('Generic Error!')"
   ]
  },
  {
   "cell_type": "markdown",
   "id": "edac3694",
   "metadata": {},
   "source": [
    "### Practice Questions"
   ]
  },
  {
   "cell_type": "code",
   "execution_count": 137,
   "id": "7aee746f",
   "metadata": {
    "collapsed": true
   },
   "outputs": [
    {
     "name": "stdout",
     "output_type": "stream",
     "text": [
      "525\n",
      "560\n",
      "595\n",
      "630\n",
      "665\n",
      "700\n",
      "735\n",
      "770\n",
      "805\n",
      "840\n",
      "875\n",
      "910\n",
      "945\n",
      "980\n"
     ]
    }
   ],
   "source": [
    "# # write a python code to display all numbers between 500 and 1000 that are\n",
    "## divisible by 7 and are also multiple of 5.\n",
    "for num in range(500,1001):\n",
    "    if num%7==0 and num%5==0:\n",
    "        print(num)"
   ]
  },
  {
   "cell_type": "code",
   "execution_count": 138,
   "id": "e31f6e72",
   "metadata": {},
   "outputs": [
    {
     "data": {
      "text/plain": [
       "{'a': 100, 'b': 200, 'c': 300, 'd': 400, 'e': 900}"
      ]
     },
     "execution_count": 138,
     "metadata": {},
     "output_type": "execute_result"
    }
   ],
   "source": [
    "## write a code to create dictionary from two list\n",
    "## Hint: Use first list for keys and second list for values\n",
    "list1=['a','b','c','d','e']\n",
    "list2=[100,200,300,400,900]\n",
    "d=dict()\n",
    "for i in range(len(list1)):\n",
    "    d[list1[i]]=list2[i]\n",
    "d"
   ]
  },
  {
   "cell_type": "code",
   "execution_count": 139,
   "id": "a9510969",
   "metadata": {},
   "outputs": [
    {
     "data": {
      "text/plain": [
       "{'a': 100, 'b': 200, 'c': 300, 'd': 400, 'e': 900}"
      ]
     },
     "execution_count": 139,
     "metadata": {},
     "output_type": "execute_result"
    }
   ],
   "source": [
    "list1=['a','b','c','d','e']\n",
    "list2=[100,200,300,400,900]\n",
    "d=dict()\n",
    "for key, val in zip(list1, list2):\n",
    "    d[key]=val\n",
    "d"
   ]
  },
  {
   "cell_type": "code",
   "execution_count": null,
   "id": "0041ee20",
   "metadata": {},
   "outputs": [],
   "source": []
  },
  {
   "cell_type": "code",
   "execution_count": 134,
   "id": "ef36ce6f",
   "metadata": {},
   "outputs": [],
   "source": [
    "## write a code to create dictionary from two dictionaries\n",
    "## taking keys from first dictionary and values from second dictionary\n",
    "## check before you proceed, that both dictionary are equal in size\n",
    "\n",
    "# Example: INPUT\n",
    "# temp={'a':'one','b':'two','c':'three','d':'four'}\n",
    "# temp2={1:'A', 2:'B', 3:'C', 4:'D'}\n",
    "# OUTPUT: {'a': 'A', 'b': 'B', 'c': 'C', 'd': 'D'}\n"
   ]
  },
  {
   "cell_type": "code",
   "execution_count": 143,
   "id": "24471062",
   "metadata": {},
   "outputs": [
    {
     "data": {
      "text/plain": [
       "{'a': 'A', 'b': 'B', 'c': 'C', 'd': 'D'}"
      ]
     },
     "execution_count": 143,
     "metadata": {},
     "output_type": "execute_result"
    }
   ],
   "source": [
    "temp={'a':'one','b':'two','c':'three','d':'four'}\n",
    "temp2={1:'A', 2:'B', 3:'C', 4:'D'}\n",
    "d=dict()\n",
    "for key, val in zip(temp.keys(), temp2.values()):\n",
    "    d[key]=val\n",
    "d"
   ]
  },
  {
   "cell_type": "code",
   "execution_count": null,
   "id": "25a1c5e3",
   "metadata": {},
   "outputs": [],
   "source": []
  },
  {
   "cell_type": "code",
   "execution_count": 144,
   "id": "506a847e",
   "metadata": {},
   "outputs": [],
   "source": [
    "# count number of blank spaces, words and other characters in a string\n",
    "# S='hello, are you enjoying the weather today?' # output=> 6, 7, 2\n",
    "s='hello, are you enjoying the weather today?'\n"
   ]
  },
  {
   "cell_type": "code",
   "execution_count": 146,
   "id": "bc5387f6",
   "metadata": {},
   "outputs": [],
   "source": [
    "spaces=s.count(' ')"
   ]
  },
  {
   "cell_type": "code",
   "execution_count": 147,
   "id": "35102bc8",
   "metadata": {},
   "outputs": [],
   "source": [
    "words=len(s.split())"
   ]
  },
  {
   "cell_type": "code",
   "execution_count": 150,
   "id": "b169dc6f",
   "metadata": {},
   "outputs": [],
   "source": [
    "oc=0\n",
    "for char in s:\n",
    "    if not char.isalpha() and not char.isdigit():\n",
    "        oc+=1\n",
    "oc=oc-spaces"
   ]
  },
  {
   "cell_type": "code",
   "execution_count": 151,
   "id": "c8670ba4",
   "metadata": {},
   "outputs": [
    {
     "name": "stdout",
     "output_type": "stream",
     "text": [
      "Space=6, Words=7, Sp.Chars=2\n"
     ]
    }
   ],
   "source": [
    "print(f'Space={spaces}, Words={words}, Sp.Chars={oc}')"
   ]
  },
  {
   "cell_type": "code",
   "execution_count": null,
   "id": "8565000e",
   "metadata": {},
   "outputs": [],
   "source": [
    "oc=0\n",
    "for char in s:\n",
    "    if 97<=ord(char.lower())<=122:\n",
    "        continue\n",
    "    else:\n",
    "        oc+=1\n",
    "oc=oc-spaces"
   ]
  },
  {
   "cell_type": "code",
   "execution_count": 152,
   "id": "3332081d",
   "metadata": {},
   "outputs": [
    {
     "name": "stdout",
     "output_type": "stream",
     "text": [
      "Space=6, Words=7, Sp.Chars=2\n"
     ]
    }
   ],
   "source": [
    "print(f'Space={spaces}, Words={words}, Sp.Chars={oc}')"
   ]
  },
  {
   "cell_type": "code",
   "execution_count": null,
   "id": "51594b60",
   "metadata": {},
   "outputs": [],
   "source": []
  },
  {
   "cell_type": "code",
   "execution_count": 136,
   "id": "1eac7d7f",
   "metadata": {},
   "outputs": [],
   "source": [
    "# accept an integer number from user and find the sum of its digits \n",
    "# down to single digit (1-9)\n",
    "# Lucky Number Calculation:\n",
    "#Example: input=> 1998\n",
    "# output: 9       \n",
    "# 1+9+9+8=27 step 1\n",
    "# 2+7=9      step 2\n",
    "\n",
    "# USING RECURSION\n",
    "\n"
   ]
  },
  {
   "cell_type": "code",
   "execution_count": 153,
   "id": "90d142aa",
   "metadata": {},
   "outputs": [
    {
     "data": {
      "text/plain": [
       "29"
      ]
     },
     "execution_count": 153,
     "metadata": {},
     "output_type": "execute_result"
    }
   ],
   "source": [
    "num=181919\n",
    "sum([int(digit) for digit in str(num)])"
   ]
  },
  {
   "cell_type": "code",
   "execution_count": 3,
   "id": "02386d04",
   "metadata": {},
   "outputs": [],
   "source": [
    "def lucky(n):\n",
    "    if n<10:\n",
    "        return n\n",
    "    else:\n",
    "        return lucky(sum([int(digit) for digit in str(n)]))"
   ]
  },
  {
   "cell_type": "code",
   "execution_count": 4,
   "id": "74d01fbc",
   "metadata": {},
   "outputs": [
    {
     "data": {
      "text/plain": [
       "7"
      ]
     },
     "execution_count": 4,
     "metadata": {},
     "output_type": "execute_result"
    }
   ],
   "source": [
    "lucky(18111985)"
   ]
  },
  {
   "cell_type": "code",
   "execution_count": null,
   "id": "2081df79",
   "metadata": {},
   "outputs": [],
   "source": []
  }
 ],
 "metadata": {
  "kernelspec": {
   "display_name": "Python 3 (ipykernel)",
   "language": "python",
   "name": "python3"
  },
  "language_info": {
   "codemirror_mode": {
    "name": "ipython",
    "version": 3
   },
   "file_extension": ".py",
   "mimetype": "text/x-python",
   "name": "python",
   "nbconvert_exporter": "python",
   "pygments_lexer": "ipython3",
   "version": "3.9.12"
  }
 },
 "nbformat": 4,
 "nbformat_minor": 5
}
