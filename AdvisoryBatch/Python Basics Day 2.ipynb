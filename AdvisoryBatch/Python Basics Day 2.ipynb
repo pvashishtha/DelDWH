{
 "cells": [
  {
   "cell_type": "markdown",
   "id": "8db7f254",
   "metadata": {},
   "source": [
    "## Python Basics Day 2"
   ]
  },
  {
   "cell_type": "markdown",
   "id": "8f870c81",
   "metadata": {},
   "source": [
    "#### Question:\n",
    "Write a program that accepts two values- length of a car and fuel type.\n",
    "If the length is less than 4000mm then calculate tax as per given slab:\n",
    "    \n",
    "    * petrol - 12% of basic price\n",
    "    \n",
    "    * diesel - 15% of basic price\n",
    "In case, length of car is more than or equal to 4000mm then slab is:\n",
    "    \n",
    "    * petrol - 15% of basic price\n",
    "    \n",
    "    * diesel - 20% of basic price\n",
    "* Basic Price to be provided by user.\n",
    "\n",
    "Find and display the final price of a car after taxes."
   ]
  },
  {
   "cell_type": "code",
   "execution_count": 3,
   "id": "247b4a1d",
   "metadata": {},
   "outputs": [
    {
     "name": "stdout",
     "output_type": "stream",
     "text": [
      "Enter Base Price: 980000\n",
      "Enter Fuel type: petrol\n",
      "Enter Car Length in MM: 3995\n",
      "Final Price: 1097600.0\n"
     ]
    }
   ],
   "source": [
    "base_price=int(input('Enter Base Price: '))\n",
    "fuel_type=input('Enter Fuel type: ').lower()\n",
    "length=int(input('Enter Car Length in MM: '))\n",
    "price=0\n",
    "if length<4000:\n",
    "    if fuel_type == 'petrol':\n",
    "        price=base_price+(0.12*base_price)\n",
    "    else:\n",
    "        price=base_price+(0.15*base_price)\n",
    "else:\n",
    "    if fuel_type == 'petrol':\n",
    "        price=base_price+(0.15*base_price)\n",
    "    else:\n",
    "        price=base_price+(0.2*base_price)\n",
    "print(f'Final Price: {price}')"
   ]
  },
  {
   "cell_type": "markdown",
   "id": "a6ab3752",
   "metadata": {},
   "source": [
    "##### The severity of covid infection is determined by the CT cycles it took to detect the virus. CT cycles ranges from 1-30 for a positive case. Using the CT cycles value, determine the severity as per given table:\n",
    "\n",
    "* 1-7   : Severe Infection/Needs Hospitalization\n",
    "* 8-15  : Severe Infection/Hospitalization Not Required\n",
    "* 16-25 : Mild Infection\n",
    "* 26-30 : Recovery Phase Detection\n",
    "* more than 30   : Negative\n",
    "\n",
    "Identify patient's condition based on CT cycle information provided."
   ]
  },
  {
   "cell_type": "code",
   "execution_count": 6,
   "id": "2c7f91da",
   "metadata": {},
   "outputs": [
    {
     "name": "stdout",
     "output_type": "stream",
     "text": [
      "Enter CT Cycle Value: -3\n",
      "Invalid\n"
     ]
    }
   ],
   "source": [
    "ct=int(input('Enter CT Cycle Value: '))\n",
    "if 1<=ct<=7:\n",
    "    print('Severe/Hospitalization')\n",
    "elif 8<=ct<=15:\n",
    "    print('Sever/Home Quarantine')\n",
    "elif 16<=ct<=25:\n",
    "    print('Mild Infection')\n",
    "elif 26<=ct<=30:\n",
    "    print('Recovery Phase')\n",
    "elif ct<1:\n",
    "    print('Invalid')\n",
    "else:\n",
    "    print('Negative')        "
   ]
  },
  {
   "cell_type": "markdown",
   "id": "08c7dc46",
   "metadata": {},
   "source": [
    "## Looping Statements"
   ]
  },
  {
   "cell_type": "markdown",
   "id": "8906246d",
   "metadata": {},
   "source": [
    "### While Loop"
   ]
  },
  {
   "cell_type": "code",
   "execution_count": 8,
   "id": "6e431269",
   "metadata": {},
   "outputs": [
    {
     "name": "stdout",
     "output_type": "stream",
     "text": [
      "Deloitte  Deloitte  Deloitte  Deloitte  Deloitte  Deloitte  Deloitte  Deloitte  Deloitte  Deloitte  "
     ]
    }
   ],
   "source": [
    "i=10\n",
    "while i<20:\n",
    "    print('Deloitte ', end=' ')\n",
    "    i+=1"
   ]
  },
  {
   "cell_type": "code",
   "execution_count": 9,
   "id": "0e5c2833",
   "metadata": {},
   "outputs": [
    {
     "data": {
      "text/plain": [
       "20"
      ]
     },
     "execution_count": 9,
     "metadata": {},
     "output_type": "execute_result"
    }
   ],
   "source": [
    "i"
   ]
  },
  {
   "cell_type": "code",
   "execution_count": 10,
   "id": "5ce37aed",
   "metadata": {},
   "outputs": [
    {
     "name": "stdout",
     "output_type": "stream",
     "text": [
      "0 # 12 # 24 # 36 # 48 # 60 # 72 # 84 # 96 # "
     ]
    }
   ],
   "source": [
    "loop=0\n",
    "while loop<100:\n",
    "    print(loop, end=' # ')\n",
    "    loop=loop+12"
   ]
  },
  {
   "cell_type": "code",
   "execution_count": 11,
   "id": "2fcaa08c",
   "metadata": {},
   "outputs": [
    {
     "name": "stdout",
     "output_type": "stream",
     "text": [
      "100\n",
      "84\n",
      "68\n",
      "52\n",
      "36\n",
      "20\n",
      "4\n"
     ]
    }
   ],
   "source": [
    "# reverse loop\n",
    "loop=100\n",
    "while loop>0:\n",
    "    print(loop)\n",
    "    loop=loop-16"
   ]
  },
  {
   "cell_type": "code",
   "execution_count": 16,
   "id": "bdf4b513",
   "metadata": {},
   "outputs": [
    {
     "name": "stdout",
     "output_type": "stream",
     "text": [
      "SPIDER\n",
      "REDIPS"
     ]
    }
   ],
   "source": [
    "# write a program to reverse a string without slicing method.\n",
    "# Example: 'SPIDER' => 'REDIPS'\n",
    "s=input()\n",
    "l=len(s)\n",
    "i=l-1\n",
    "while i>=0:\n",
    "    print(s[i], end='')\n",
    "    i-=1"
   ]
  },
  {
   "cell_type": "code",
   "execution_count": 17,
   "id": "45ab8597",
   "metadata": {},
   "outputs": [
    {
     "name": "stdout",
     "output_type": "stream",
     "text": [
      "1234\n",
      "4321"
     ]
    }
   ],
   "source": [
    "# write a program to print a number in reverse order of its digits\n",
    "# example: 1234 => 4321\n",
    "num=int(input())\n",
    "while num>0:\n",
    "    print(num%10, end='')\n",
    "    num=num//10"
   ]
  },
  {
   "cell_type": "code",
   "execution_count": 20,
   "id": "41810f6e",
   "metadata": {},
   "outputs": [
    {
     "name": "stdout",
     "output_type": "stream",
     "text": [
      "6\n",
      "Factorial: 720\n"
     ]
    }
   ],
   "source": [
    "# Write a program to find factorial of a number using while loop.\n",
    "# Input=> 6    Output=> 720\n",
    "num=int(input())\n",
    "fact=1\n",
    "while num>1:\n",
    "    fact*=num\n",
    "    num-=1\n",
    "print(f'Factorial: {fact}')"
   ]
  },
  {
   "cell_type": "code",
   "execution_count": 22,
   "id": "9586bc9e",
   "metadata": {
    "collapsed": true
   },
   "outputs": [
    {
     "name": "stdout",
     "output_type": "stream",
     "text": [
      "12321\n",
      "Calindrome\n"
     ]
    }
   ],
   "source": [
    "# Write a program to find whether given input string is Palindrome or \n",
    "# Calindrome or none of them.\n",
    "# Example: 'ABCBA' is Palindrome\n",
    "#          '12321' is Calindrome\n",
    "\n",
    "s=input()\n",
    "if s==s[::-1] and s.isalpha():\n",
    "    print('Palindrome')\n",
    "elif s==s[::-1] and s.isdigit():\n",
    "    print('Calindrome')\n",
    "else:\n",
    "    print('None')"
   ]
  },
  {
   "cell_type": "markdown",
   "id": "3333bcfa",
   "metadata": {},
   "source": [
    "#### While - Else"
   ]
  },
  {
   "cell_type": "code",
   "execution_count": 25,
   "id": "5ce2c307",
   "metadata": {},
   "outputs": [
    {
     "name": "stdout",
     "output_type": "stream",
     "text": [
      "0 - 1 - 2 - 3 - 4 - 5 - 6 - 7 - 8 - 9 - Else in Loop\n"
     ]
    }
   ],
   "source": [
    "i=0\n",
    "while i<10:\n",
    "    print(i, end=' - ')\n",
    "    i+=1\n",
    "else:\n",
    "    print('Else in Loop')"
   ]
  },
  {
   "cell_type": "markdown",
   "id": "ca0c6674",
   "metadata": {},
   "source": [
    "## FOR LOOP"
   ]
  },
  {
   "cell_type": "code",
   "execution_count": 26,
   "id": "f3c7ac09",
   "metadata": {},
   "outputs": [],
   "source": [
    "# range(n)      - enumerate from 0 to n-1\n",
    "# range(n,m)    - enumerate from n to m-1\n",
    "# range(n,m,k)  - enumerate from n to m-1 with increment of k"
   ]
  },
  {
   "cell_type": "code",
   "execution_count": 28,
   "id": "5cefb47d",
   "metadata": {},
   "outputs": [],
   "source": [
    "x=range(10)"
   ]
  },
  {
   "cell_type": "code",
   "execution_count": 30,
   "id": "304d0a48",
   "metadata": {},
   "outputs": [
    {
     "data": {
      "text/plain": [
       "range_iterator"
      ]
     },
     "execution_count": 30,
     "metadata": {},
     "output_type": "execute_result"
    }
   ],
   "source": [
    "x=iter(x)\n",
    "type(x)"
   ]
  },
  {
   "cell_type": "code",
   "execution_count": 31,
   "id": "45e72fa7",
   "metadata": {},
   "outputs": [
    {
     "data": {
      "text/plain": [
       "0"
      ]
     },
     "execution_count": 31,
     "metadata": {},
     "output_type": "execute_result"
    }
   ],
   "source": [
    "next(x)"
   ]
  },
  {
   "cell_type": "code",
   "execution_count": 32,
   "id": "1f69dd89",
   "metadata": {},
   "outputs": [
    {
     "data": {
      "text/plain": [
       "1"
      ]
     },
     "execution_count": 32,
     "metadata": {},
     "output_type": "execute_result"
    }
   ],
   "source": [
    "next(x)"
   ]
  },
  {
   "cell_type": "code",
   "execution_count": 41,
   "id": "f1478790",
   "metadata": {},
   "outputs": [
    {
     "ename": "StopIteration",
     "evalue": "",
     "output_type": "error",
     "traceback": [
      "\u001b[1;31m---------------------------------------------------------------------------\u001b[0m",
      "\u001b[1;31mStopIteration\u001b[0m                             Traceback (most recent call last)",
      "Input \u001b[1;32mIn [41]\u001b[0m, in \u001b[0;36m<cell line: 1>\u001b[1;34m()\u001b[0m\n\u001b[1;32m----> 1\u001b[0m \u001b[38;5;28;43mnext\u001b[39;49m\u001b[43m(\u001b[49m\u001b[43mx\u001b[49m\u001b[43m)\u001b[49m\n",
      "\u001b[1;31mStopIteration\u001b[0m: "
     ]
    }
   ],
   "source": [
    "next(x)"
   ]
  },
  {
   "cell_type": "code",
   "execution_count": 42,
   "id": "b94b5198",
   "metadata": {},
   "outputs": [
    {
     "name": "stdout",
     "output_type": "stream",
     "text": [
      "x=  0\n",
      "x=  1\n",
      "x=  2\n",
      "x=  3\n",
      "x=  4\n",
      "x=  5\n",
      "x=  6\n",
      "x=  7\n",
      "x=  8\n",
      "x=  9\n"
     ]
    }
   ],
   "source": [
    "for x in range(10):\n",
    "    print('x= ',x)"
   ]
  },
  {
   "cell_type": "code",
   "execution_count": 43,
   "id": "4bf9c032",
   "metadata": {},
   "outputs": [
    {
     "name": "stdout",
     "output_type": "stream",
     "text": [
      "x=  20\n",
      "x=  21\n",
      "x=  22\n",
      "x=  23\n",
      "x=  24\n",
      "x=  25\n",
      "x=  26\n",
      "x=  27\n",
      "x=  28\n",
      "x=  29\n"
     ]
    }
   ],
   "source": [
    "for x in range(20,30):\n",
    "    print('x= ',x)"
   ]
  },
  {
   "cell_type": "code",
   "execution_count": 44,
   "id": "25e3a2ee",
   "metadata": {},
   "outputs": [
    {
     "name": "stdout",
     "output_type": "stream",
     "text": [
      "x=  20\n",
      "x=  24\n",
      "x=  28\n",
      "x=  32\n",
      "x=  36\n",
      "x=  40\n",
      "x=  44\n",
      "x=  48\n"
     ]
    }
   ],
   "source": [
    "for x in range(20,50,4):\n",
    "    print('x= ',x)"
   ]
  },
  {
   "cell_type": "code",
   "execution_count": 45,
   "id": "35a9ac35",
   "metadata": {},
   "outputs": [
    {
     "name": "stdout",
     "output_type": "stream",
     "text": [
      "D E L O I T T E "
     ]
    }
   ],
   "source": [
    "for char in 'DELOITTE':\n",
    "    print(char, end=' ')"
   ]
  },
  {
   "cell_type": "code",
   "execution_count": 46,
   "id": "e4fab7c2",
   "metadata": {},
   "outputs": [
    {
     "name": "stdout",
     "output_type": "stream",
     "text": [
      "x=  50\n",
      "x=  45\n",
      "x=  40\n",
      "x=  35\n",
      "x=  30\n",
      "x=  25\n",
      "x=  20\n",
      "x=  15\n"
     ]
    }
   ],
   "source": [
    "# reverse loop\n",
    "\n",
    "for x in range(50,10,-5):\n",
    "    print('x= ',x)"
   ]
  },
  {
   "cell_type": "markdown",
   "id": "a14cdc6d",
   "metadata": {},
   "source": [
    "### BREAK"
   ]
  },
  {
   "cell_type": "code",
   "execution_count": 47,
   "id": "7f2e83ac",
   "metadata": {
    "collapsed": true
   },
   "outputs": [
    {
     "name": "stdout",
     "output_type": "stream",
     "text": [
      "i=  0\n",
      "i=  1\n",
      "i=  2\n",
      "i=  3\n",
      "i=  4\n",
      "i=  5\n",
      "i=  6\n",
      "i=  7\n",
      "i=  8\n",
      "i=  9\n",
      "i=  10\n",
      "i=  11\n",
      "i=  12\n"
     ]
    }
   ],
   "source": [
    "i=0\n",
    "while i<100:\n",
    "    if i==13:\n",
    "        break\n",
    "    print('i= ', i)\n",
    "    i+=1"
   ]
  },
  {
   "cell_type": "code",
   "execution_count": 50,
   "id": "a7271a77",
   "metadata": {},
   "outputs": [
    {
     "name": "stdout",
     "output_type": "stream",
     "text": [
      "2\n",
      "4\n",
      "6\n",
      "8\n",
      "10\n",
      "12\n",
      "14\n",
      "16\n",
      "18\n",
      "20\n",
      "22\n",
      "24\n",
      "26\n",
      "28\n",
      "30\n",
      "32\n"
     ]
    }
   ],
   "source": [
    "for i in range(2,50,2):\n",
    "    if i%17==0:\n",
    "        break\n",
    "    print(i)"
   ]
  },
  {
   "cell_type": "markdown",
   "id": "586b198b",
   "metadata": {},
   "source": [
    "### CONTINUE"
   ]
  },
  {
   "cell_type": "code",
   "execution_count": 3,
   "id": "4fdb0e06",
   "metadata": {
    "collapsed": true
   },
   "outputs": [
    {
     "name": "stdout",
     "output_type": "stream",
     "text": [
      "1\n",
      "5\n",
      "7\n",
      "11\n",
      "13\n",
      "17\n",
      "19\n",
      "23\n",
      "25\n",
      "29\n",
      "31\n",
      "35\n",
      "37\n",
      "41\n",
      "43\n",
      "47\n",
      "49\n",
      "53\n",
      "55\n",
      "59\n",
      "61\n",
      "65\n",
      "67\n",
      "71\n",
      "73\n",
      "77\n",
      "79\n",
      "83\n",
      "85\n",
      "89\n",
      "91\n",
      "95\n",
      "97\n"
     ]
    }
   ],
   "source": [
    "i=0\n",
    "while i<100:\n",
    "    i+=1\n",
    "    if i%2==0 or i%3==0:\n",
    "        continue\n",
    "    print(i)"
   ]
  },
  {
   "cell_type": "code",
   "execution_count": 4,
   "id": "cdd826fc",
   "metadata": {
    "collapsed": true
   },
   "outputs": [
    {
     "name": "stdout",
     "output_type": "stream",
     "text": [
      "114\n",
      "115\n",
      "133\n",
      "138\n",
      "152\n",
      "161\n",
      "171\n",
      "184\n",
      "190\n",
      "207\n",
      "209\n",
      "228\n",
      "230\n",
      "247\n",
      "253\n",
      "266\n",
      "276\n",
      "285\n",
      "299\n",
      "304\n",
      "322\n",
      "323\n",
      "342\n",
      "345\n",
      "361\n",
      "368\n",
      "380\n",
      "391\n",
      "399\n",
      "414\n",
      "418\n",
      "437\n",
      "456\n",
      "460\n",
      "475\n",
      "483\n",
      "494\n",
      "506\n",
      "513\n",
      "529\n",
      "532\n",
      "551\n",
      "552\n",
      "570\n",
      "575\n",
      "589\n",
      "598\n",
      "608\n",
      "621\n",
      "627\n",
      "644\n",
      "646\n",
      "665\n",
      "667\n",
      "684\n",
      "690\n",
      "703\n",
      "713\n",
      "722\n",
      "736\n",
      "741\n",
      "759\n",
      "760\n",
      "779\n",
      "782\n",
      "798\n",
      "805\n",
      "817\n",
      "828\n",
      "836\n",
      "851\n",
      "855\n",
      "874\n",
      "893\n",
      "897\n",
      "912\n",
      "920\n",
      "931\n",
      "943\n",
      "950\n",
      "966\n",
      "969\n",
      "988\n",
      "989\n"
     ]
    }
   ],
   "source": [
    "# Write a code that prints all number between 100 and 999 that are either\n",
    "# multiples of 23 or are divisible by 19.\n",
    "for i in range(100,1000):\n",
    "    if i%19==0 or i%23==0:\n",
    "        print(i)"
   ]
  },
  {
   "cell_type": "code",
   "execution_count": 16,
   "id": "c3fdb512",
   "metadata": {},
   "outputs": [
    {
     "name": "stdout",
     "output_type": "stream",
     "text": [
      "4\n",
      "Not Prime\n"
     ]
    }
   ],
   "source": [
    "# Write a program code to find whether given number is PRIME or not.\n",
    "n=int(input())\n",
    "for i in range(2,n//2+1):\n",
    "    if n%i==0:\n",
    "        print('Not Prime')\n",
    "        break\n",
    "else:\n",
    "    print('Prime')"
   ]
  },
  {
   "cell_type": "markdown",
   "id": "d3c588df",
   "metadata": {},
   "source": [
    "### Question: Find whether the given number is 3-digit AMSTRONG number or not. A 3-digit AMSTRONG number is one where sum of cube of its digits is same as number itself.\n",
    "\n",
    "### Example: 371 is AMSTRONG => 3^3 + 7^3 + 1^3 = 371"
   ]
  },
  {
   "cell_type": "code",
   "execution_count": 21,
   "id": "261cfdab",
   "metadata": {},
   "outputs": [
    {
     "name": "stdout",
     "output_type": "stream",
     "text": [
      "864\n",
      "NOT AMSTRONG\n"
     ]
    }
   ],
   "source": [
    "n=int(input())\n",
    "if n<100 or n>999:\n",
    "    print('INVALID')\n",
    "else:\n",
    "    sum=0\n",
    "    temp=n\n",
    "    while n>0:\n",
    "        sum+=(n%10)**3\n",
    "        n//=10\n",
    "    if sum==temp:\n",
    "        print('AMSTRONG')\n",
    "    else:\n",
    "        print('NOT AMSTRONG')"
   ]
  },
  {
   "cell_type": "markdown",
   "id": "67360305",
   "metadata": {},
   "source": [
    "### Question: Find all 3-digit AMSTRONG numbers."
   ]
  },
  {
   "cell_type": "code",
   "execution_count": 22,
   "id": "efd622bf",
   "metadata": {},
   "outputs": [
    {
     "name": "stdout",
     "output_type": "stream",
     "text": [
      "153\n",
      "370\n",
      "371\n",
      "407\n"
     ]
    }
   ],
   "source": [
    "for n in range(100,1000):\n",
    "    sum=0\n",
    "    temp=n\n",
    "    while n>0:\n",
    "        sum+=(n%10)**3\n",
    "        n//=10\n",
    "    if sum==temp:\n",
    "        print(temp)"
   ]
  },
  {
   "cell_type": "markdown",
   "id": "a5d9ae76",
   "metadata": {},
   "source": [
    "### Question: Write a python program to find lucky number using DOB.\n",
    "\n",
    "Lucky number is calculated by finding sum of all digits of dob down to single digit. It must range from 1 to 9.\n",
    "\n",
    "Example: DOB=> 18111985 then Lucky No => 7\n",
    "\n",
    "1+8+1+1+1+9+8+5 = 34  ===>>> 3+4 = 7"
   ]
  },
  {
   "cell_type": "code",
   "execution_count": 24,
   "id": "db0d8638",
   "metadata": {},
   "outputs": [
    {
     "name": "stdout",
     "output_type": "stream",
     "text": [
      "Enter DOB(ddmmyyyy): 18111985\n",
      "7\n"
     ]
    }
   ],
   "source": [
    "sum=int(input('Enter DOB(ddmmyyyy): '))\n",
    "while True:\n",
    "    dob=sum\n",
    "    sum=0\n",
    "    while dob>0:\n",
    "        sum+=dob%10\n",
    "        dob//=10\n",
    "    if sum<10:\n",
    "        print(sum)\n",
    "        break"
   ]
  },
  {
   "cell_type": "code",
   "execution_count": 34,
   "id": "2b92608c",
   "metadata": {},
   "outputs": [
    {
     "name": "stdout",
     "output_type": "stream",
     "text": [
      "TERMINATOR\n",
      "TeRmInAtOr\n"
     ]
    }
   ],
   "source": [
    "# Write a python code to convert a string into alternating string.\n",
    "# An alternating string has alternate uppercase and lowercase letters.\n",
    "# Example: \"hello deloitte\" => \"HeLlO DeLoItTe\"\n",
    "s1=input()\n",
    "s2=''\n",
    "for i in range(len(s1)):\n",
    "    if i%2==0:\n",
    "        s2+=s1[i].upper()\n",
    "    else:\n",
    "        s2+=s1[i].lower()\n",
    "print(s2)"
   ]
  },
  {
   "cell_type": "code",
   "execution_count": 36,
   "id": "901ff5b0",
   "metadata": {},
   "outputs": [
    {
     "name": "stdout",
     "output_type": "stream",
     "text": [
      "20\n",
      "0 1 1 2 3 5 8 13 21 34 55 89 144 233 377 610 987 1597 2584 4181 "
     ]
    }
   ],
   "source": [
    "# Write a program that generates fibonacci series of N numbers.\n",
    "# Example: N=10 then\n",
    "#  0,1,1,2,3,5,8,13,21,34...\n",
    "N=int(input())\n",
    "prev1=0\n",
    "prev2=1\n",
    "print(prev1, prev2, end=' ')\n",
    "for n in range(2,N):\n",
    "    print(prev1+prev2, end=' ')\n",
    "    temp=prev2\n",
    "    prev2=prev1+prev2\n",
    "    prev1=temp"
   ]
  },
  {
   "cell_type": "markdown",
   "id": "0c4e9104",
   "metadata": {},
   "source": [
    "## Functions in Python"
   ]
  },
  {
   "cell_type": "code",
   "execution_count": null,
   "id": "9765bc3b",
   "metadata": {},
   "outputs": [],
   "source": [
    "# def <func-name>(args list):"
   ]
  },
  {
   "cell_type": "code",
   "execution_count": 41,
   "id": "2d44d685",
   "metadata": {},
   "outputs": [],
   "source": [
    "def Message():\n",
    "    print('Hello Functions!')\n",
    "    return None"
   ]
  },
  {
   "cell_type": "code",
   "execution_count": 42,
   "id": "6dc3117d",
   "metadata": {},
   "outputs": [],
   "source": [
    "def Calc_Sum(x,y):\n",
    "    return x+y"
   ]
  },
  {
   "cell_type": "code",
   "execution_count": 43,
   "id": "8b848855",
   "metadata": {},
   "outputs": [
    {
     "name": "stdout",
     "output_type": "stream",
     "text": [
      "Hello Functions!\n"
     ]
    }
   ],
   "source": [
    "Message()"
   ]
  },
  {
   "cell_type": "code",
   "execution_count": 44,
   "id": "61784cc7",
   "metadata": {},
   "outputs": [
    {
     "data": {
      "text/plain": [
       "101"
      ]
     },
     "execution_count": 44,
     "metadata": {},
     "output_type": "execute_result"
    }
   ],
   "source": [
    "Calc_Sum(23,78)"
   ]
  },
  {
   "cell_type": "code",
   "execution_count": 45,
   "id": "0badad2f",
   "metadata": {},
   "outputs": [],
   "source": [
    "# Function may have default arguments\n",
    "# default args must always follow no-default args\n",
    "def Message(msg, name='Prateek'):\n",
    "    return msg+' '+name"
   ]
  },
  {
   "cell_type": "code",
   "execution_count": 46,
   "id": "59cd04e6",
   "metadata": {},
   "outputs": [
    {
     "data": {
      "text/plain": [
       "'Good Morning Siddharth'"
      ]
     },
     "execution_count": 46,
     "metadata": {},
     "output_type": "execute_result"
    }
   ],
   "source": [
    "Message('Good Morning', 'Siddharth')"
   ]
  },
  {
   "cell_type": "code",
   "execution_count": 47,
   "id": "c7f02169",
   "metadata": {},
   "outputs": [
    {
     "data": {
      "text/plain": [
       "'Good Morning Prateek'"
      ]
     },
     "execution_count": 47,
     "metadata": {},
     "output_type": "execute_result"
    }
   ],
   "source": [
    "Message('Good Morning')"
   ]
  },
  {
   "cell_type": "code",
   "execution_count": 48,
   "id": "03a4579b",
   "metadata": {},
   "outputs": [
    {
     "ename": "SyntaxError",
     "evalue": "non-default argument follows default argument (3938610604.py, line 1)",
     "output_type": "error",
     "traceback": [
      "\u001b[1;36m  Input \u001b[1;32mIn [48]\u001b[1;36m\u001b[0m\n\u001b[1;33m    def Message(name='Prateek', msg):\u001b[0m\n\u001b[1;37m                                   ^\u001b[0m\n\u001b[1;31mSyntaxError\u001b[0m\u001b[1;31m:\u001b[0m non-default argument follows default argument\n"
     ]
    }
   ],
   "source": [
    "def Message(name='Prateek', msg):\n",
    "    return msg+' '+name"
   ]
  },
  {
   "cell_type": "code",
   "execution_count": 49,
   "id": "f2f341cf",
   "metadata": {},
   "outputs": [],
   "source": [
    "# Calling function by Keyword Arguments\n",
    "def Message(name, msg, symbol):\n",
    "    return msg+' '+name+' '+symbol"
   ]
  },
  {
   "cell_type": "code",
   "execution_count": 50,
   "id": "cd5170f1",
   "metadata": {},
   "outputs": [
    {
     "data": {
      "text/plain": [
       "'Siddharth ! Good Day'"
      ]
     },
     "execution_count": 50,
     "metadata": {},
     "output_type": "execute_result"
    }
   ],
   "source": [
    "Message('!', 'Siddharth', 'Good Day')"
   ]
  },
  {
   "cell_type": "code",
   "execution_count": 51,
   "id": "66508b5f",
   "metadata": {},
   "outputs": [
    {
     "data": {
      "text/plain": [
       "'Good Day Prateek :)'"
      ]
     },
     "execution_count": 51,
     "metadata": {},
     "output_type": "execute_result"
    }
   ],
   "source": [
    "Message(msg='Good Day', symbol=':)', name='Prateek')"
   ]
  },
  {
   "cell_type": "code",
   "execution_count": 54,
   "id": "d85823ca",
   "metadata": {},
   "outputs": [
    {
     "name": "stdout",
     "output_type": "stream",
     "text": [
      "outer\n",
      "Inner\n"
     ]
    }
   ],
   "source": [
    "# Functions can also be nested\n",
    "def outer():\n",
    "    print('outer')\n",
    "    def inner():\n",
    "        print('Inner')\n",
    "        return None\n",
    "    inner()\n",
    "    return None\n",
    "\n",
    "outer()"
   ]
  },
  {
   "cell_type": "code",
   "execution_count": 55,
   "id": "1780a26c",
   "metadata": {},
   "outputs": [],
   "source": [
    "# Generator Functions\n",
    "def generate_integer_1_to_9():\n",
    "    for i in range(1,10):\n",
    "        yield i"
   ]
  },
  {
   "cell_type": "code",
   "execution_count": 56,
   "id": "0a1cc949",
   "metadata": {},
   "outputs": [],
   "source": [
    "gen=generate_integer_1_to_9()"
   ]
  },
  {
   "cell_type": "code",
   "execution_count": 57,
   "id": "9f731150",
   "metadata": {},
   "outputs": [
    {
     "data": {
      "text/plain": [
       "generator"
      ]
     },
     "execution_count": 57,
     "metadata": {},
     "output_type": "execute_result"
    }
   ],
   "source": [
    "type(gen)"
   ]
  },
  {
   "cell_type": "code",
   "execution_count": 58,
   "id": "584f8f8e",
   "metadata": {},
   "outputs": [
    {
     "data": {
      "text/plain": [
       "1"
      ]
     },
     "execution_count": 58,
     "metadata": {},
     "output_type": "execute_result"
    }
   ],
   "source": [
    "next(gen)"
   ]
  },
  {
   "cell_type": "code",
   "execution_count": 59,
   "id": "1279eccf",
   "metadata": {},
   "outputs": [
    {
     "data": {
      "text/plain": [
       "2"
      ]
     },
     "execution_count": 59,
     "metadata": {},
     "output_type": "execute_result"
    }
   ],
   "source": [
    "next(gen)"
   ]
  },
  {
   "cell_type": "code",
   "execution_count": 70,
   "id": "d6e755f1",
   "metadata": {},
   "outputs": [],
   "source": [
    "def generate_prime():\n",
    "    for i in range(2,100):\n",
    "        for j in range(2,i//2+1):\n",
    "            if i%j==0:\n",
    "                break\n",
    "        else:\n",
    "            yield i"
   ]
  },
  {
   "cell_type": "code",
   "execution_count": 78,
   "id": "d16cd4cb",
   "metadata": {},
   "outputs": [],
   "source": [
    "prime=generate_prime()"
   ]
  },
  {
   "cell_type": "code",
   "execution_count": 79,
   "id": "e11cc3df",
   "metadata": {},
   "outputs": [
    {
     "name": "stdout",
     "output_type": "stream",
     "text": [
      "2\n",
      "3\n",
      "5\n",
      "7\n",
      "11\n"
     ]
    }
   ],
   "source": [
    "i=0\n",
    "while i<5:\n",
    "    print(next(prime))\n",
    "    i+=1"
   ]
  },
  {
   "cell_type": "code",
   "execution_count": 80,
   "id": "9a0ff785",
   "metadata": {},
   "outputs": [],
   "source": [
    "# Write a function that accepts an integer argument and returns \n",
    "# factorial of that integer number.\n",
    "def factorial(n):\n",
    "    if n<2:\n",
    "        return 1    \n",
    "    return n*factorial(n-1)"
   ]
  },
  {
   "cell_type": "code",
   "execution_count": 81,
   "id": "da2ef3b2",
   "metadata": {},
   "outputs": [
    {
     "data": {
      "text/plain": [
       "720"
      ]
     },
     "execution_count": 81,
     "metadata": {},
     "output_type": "execute_result"
    }
   ],
   "source": [
    "factorial(6)"
   ]
  },
  {
   "cell_type": "code",
   "execution_count": 82,
   "id": "7df72769",
   "metadata": {},
   "outputs": [],
   "source": [
    "# RECURSION in FUNCTIONS\n",
    "# when function calls itself in its definition"
   ]
  },
  {
   "cell_type": "code",
   "execution_count": 83,
   "id": "da2a86d5",
   "metadata": {},
   "outputs": [],
   "source": [
    "# Find Lucky Number from DOB using recursion\n",
    "def lucky(n):\n",
    "    sum=0\n",
    "    while n>0:\n",
    "        sum+=n%10\n",
    "        n//=10\n",
    "    if sum<10:\n",
    "        return sum\n",
    "    else:\n",
    "        return lucky(sum)"
   ]
  },
  {
   "cell_type": "code",
   "execution_count": 85,
   "id": "0f96754c",
   "metadata": {},
   "outputs": [
    {
     "data": {
      "text/plain": [
       "5"
      ]
     },
     "execution_count": 85,
     "metadata": {},
     "output_type": "execute_result"
    }
   ],
   "source": [
    "lucky(19112018)"
   ]
  },
  {
   "cell_type": "code",
   "execution_count": 87,
   "id": "781ff618",
   "metadata": {},
   "outputs": [],
   "source": [
    "# Write a function that performs the encoding of given string using \n",
    "# \"right shift by n\" algorithm.\n",
    "# Function must recieve string and n value as argument. Returns encode\n",
    "# string as result.\n",
    "# Example: encode_str('hello', 2) => 'jgnnq'\n",
    "def encode_str(s,n):\n",
    "    s=s.lower()\n",
    "    se=''\n",
    "    for indx in range(len(s)):\n",
    "        asc=ord(s[indx])+n\n",
    "        if asc>122:\n",
    "            asc=97+(asc-122)-1\n",
    "        se+=chr(asc)\n",
    "    return se"
   ]
  },
  {
   "cell_type": "code",
   "execution_count": 89,
   "id": "ca34d000",
   "metadata": {},
   "outputs": [
    {
     "data": {
      "text/plain": [
       "'jgnnqb'"
      ]
     },
     "execution_count": 89,
     "metadata": {},
     "output_type": "execute_result"
    }
   ],
   "source": [
    "encode_str('helloz', 2)"
   ]
  },
  {
   "cell_type": "markdown",
   "id": "1827874b",
   "metadata": {},
   "source": [
    "### Write a python function rotate(s, n) that rotates the characters of a string n times.\n",
    "\n",
    "Example: rotate('deloitte', 3) => 'ttedeloi'"
   ]
  },
  {
   "cell_type": "code",
   "execution_count": 90,
   "id": "f78aa86d",
   "metadata": {},
   "outputs": [],
   "source": [
    "def rotate(s,n):\n",
    "    if n>len(s):\n",
    "        n=n%len(s)\n",
    "    while n>0:\n",
    "        s=s[-1]+s[:-1]\n",
    "        n-=1\n",
    "    return s"
   ]
  },
  {
   "cell_type": "code",
   "execution_count": 91,
   "id": "a0bd0b89",
   "metadata": {},
   "outputs": [
    {
     "data": {
      "text/plain": [
       "'ttedeloi'"
      ]
     },
     "execution_count": 91,
     "metadata": {},
     "output_type": "execute_result"
    }
   ],
   "source": [
    "rotate('deloitte',3)"
   ]
  },
  {
   "cell_type": "code",
   "execution_count": 101,
   "id": "aa83b3a3",
   "metadata": {},
   "outputs": [],
   "source": [
    "# functional as object\n",
    "def msg():\n",
    "    def inner():\n",
    "        return 'welcome'\n",
    "    return inner"
   ]
  },
  {
   "cell_type": "code",
   "execution_count": 102,
   "id": "44c596a2",
   "metadata": {},
   "outputs": [],
   "source": [
    "x=msg()"
   ]
  },
  {
   "cell_type": "code",
   "execution_count": 103,
   "id": "fc9ddfa3",
   "metadata": {},
   "outputs": [
    {
     "data": {
      "text/plain": [
       "function"
      ]
     },
     "execution_count": 103,
     "metadata": {},
     "output_type": "execute_result"
    }
   ],
   "source": [
    "type(x)"
   ]
  },
  {
   "cell_type": "code",
   "execution_count": 104,
   "id": "825a45db",
   "metadata": {},
   "outputs": [
    {
     "data": {
      "text/plain": [
       "'welcome'"
      ]
     },
     "execution_count": 104,
     "metadata": {},
     "output_type": "execute_result"
    }
   ],
   "source": [
    "x() # inner()"
   ]
  },
  {
   "cell_type": "code",
   "execution_count": 111,
   "id": "02f473d5",
   "metadata": {},
   "outputs": [],
   "source": [
    "# functions can be passed as argument\n",
    "def addition(x,y):\n",
    "    return x+y\n",
    "def multiply(x,y):\n",
    "    return x*y\n",
    "def subtract(x,y):\n",
    "    return x-y"
   ]
  },
  {
   "cell_type": "code",
   "execution_count": 112,
   "id": "a5b83ba7",
   "metadata": {},
   "outputs": [],
   "source": [
    "def newfun(x,y,f):\n",
    "    return f(x,y)"
   ]
  },
  {
   "cell_type": "code",
   "execution_count": 113,
   "id": "faefdce4",
   "metadata": {},
   "outputs": [
    {
     "data": {
      "text/plain": [
       "25"
      ]
     },
     "execution_count": 113,
     "metadata": {},
     "output_type": "execute_result"
    }
   ],
   "source": [
    "newfun(20,5,addition)"
   ]
  },
  {
   "cell_type": "code",
   "execution_count": 114,
   "id": "6651d6f8",
   "metadata": {},
   "outputs": [
    {
     "data": {
      "text/plain": [
       "100"
      ]
     },
     "execution_count": 114,
     "metadata": {},
     "output_type": "execute_result"
    }
   ],
   "source": [
    "newfun(20,5,multiply)"
   ]
  },
  {
   "cell_type": "markdown",
   "id": "b63b3973",
   "metadata": {},
   "source": [
    "#### Variable length arguments in a function"
   ]
  },
  {
   "cell_type": "code",
   "execution_count": 1,
   "id": "c04de3df",
   "metadata": {},
   "outputs": [],
   "source": [
    "def add_num(x,y):\n",
    "    return sum((x,y))"
   ]
  },
  {
   "cell_type": "code",
   "execution_count": 2,
   "id": "8c3830e0",
   "metadata": {},
   "outputs": [
    {
     "data": {
      "text/plain": [
       "60"
      ]
     },
     "execution_count": 2,
     "metadata": {},
     "output_type": "execute_result"
    }
   ],
   "source": [
    "add_num(20,40)"
   ]
  },
  {
   "cell_type": "code",
   "execution_count": 3,
   "id": "f9c5a4c3",
   "metadata": {},
   "outputs": [],
   "source": [
    "def add_num(*args):\n",
    "    return sum(args)"
   ]
  },
  {
   "cell_type": "code",
   "execution_count": 7,
   "id": "747a0f91",
   "metadata": {},
   "outputs": [
    {
     "data": {
      "text/plain": [
       "44"
      ]
     },
     "execution_count": 7,
     "metadata": {},
     "output_type": "execute_result"
    }
   ],
   "source": [
    "add_num(2,3,4,5,6,7,8,9)"
   ]
  },
  {
   "cell_type": "code",
   "execution_count": 8,
   "id": "200e13fe",
   "metadata": {},
   "outputs": [],
   "source": [
    "def add_num(*args, **kwargs):\n",
    "    print(sum(args))\n",
    "    print(kwargs)\n",
    "    return None"
   ]
  },
  {
   "cell_type": "code",
   "execution_count": 10,
   "id": "21f266a0",
   "metadata": {},
   "outputs": [
    {
     "name": "stdout",
     "output_type": "stream",
     "text": [
      "27\n",
      "{'a': 10, 'b': 20}\n"
     ]
    }
   ],
   "source": [
    "add_num(2,3,4,5,6,7, a=10, b=20)"
   ]
  },
  {
   "cell_type": "code",
   "execution_count": 21,
   "id": "d1d6fc83",
   "metadata": {},
   "outputs": [],
   "source": [
    "# DECORATORS\n",
    "\n",
    "def run(func):\n",
    "    def inner(*args, **kwargs):\n",
    "        print('Calculated: ',func(args))\n",
    "    return inner"
   ]
  },
  {
   "cell_type": "code",
   "execution_count": 22,
   "id": "fc93d77f",
   "metadata": {},
   "outputs": [],
   "source": [
    "@run\n",
    "def add_num(args):\n",
    "    return sum(args)"
   ]
  },
  {
   "cell_type": "code",
   "execution_count": 23,
   "id": "53c840d6",
   "metadata": {},
   "outputs": [
    {
     "name": "stdout",
     "output_type": "stream",
     "text": [
      "Calculated:  9\n"
     ]
    }
   ],
   "source": [
    "add_num(2,3,4)"
   ]
  },
  {
   "cell_type": "markdown",
   "id": "41528cf5",
   "metadata": {},
   "source": [
    "#### Question: A naughty boy has habit of hopping in a specific pattern as jumping 1 time, 2 times, 3 times consecutively and then repeat the pattern forever. If he starts from 0, what would be position that this boy will reach after N hops. Write a code to determine the position.\n"
   ]
  },
  {
   "cell_type": "code",
   "execution_count": 24,
   "id": "d66688c6",
   "metadata": {},
   "outputs": [],
   "source": [
    "def hop_pos(n):\n",
    "    pos=0\n",
    "    jump=0\n",
    "    while n>0:\n",
    "        jump+=1\n",
    "        pos+=jump\n",
    "        if jump==3:\n",
    "            jump=0\n",
    "        n-=1\n",
    "    return pos"
   ]
  },
  {
   "cell_type": "code",
   "execution_count": 27,
   "id": "8decf8a4",
   "metadata": {},
   "outputs": [
    {
     "data": {
      "text/plain": [
       "199"
      ]
     },
     "execution_count": 27,
     "metadata": {},
     "output_type": "execute_result"
    }
   ],
   "source": [
    "hop_pos(100)"
   ]
  },
  {
   "cell_type": "code",
   "execution_count": 28,
   "id": "6fdfbaf3",
   "metadata": {},
   "outputs": [],
   "source": [
    "# Part-2: For given position, identify will the naughty boy ever approach\n",
    "# the given position value with his pattern, starting from 0.\n",
    "\n",
    "def check_pos(pos):\n",
    "    if pos%3==0 or pos%6==0 or pos%6==1:\n",
    "        return True\n",
    "    return False"
   ]
  },
  {
   "cell_type": "code",
   "execution_count": 33,
   "id": "d82ab6ee",
   "metadata": {},
   "outputs": [
    {
     "data": {
      "text/plain": [
       "True"
      ]
     },
     "execution_count": 33,
     "metadata": {},
     "output_type": "execute_result"
    }
   ],
   "source": [
    "check_pos(55)"
   ]
  },
  {
   "cell_type": "code",
   "execution_count": null,
   "id": "beb4ad29",
   "metadata": {},
   "outputs": [],
   "source": []
  }
 ],
 "metadata": {
  "kernelspec": {
   "display_name": "Python 3 (ipykernel)",
   "language": "python",
   "name": "python3"
  },
  "language_info": {
   "codemirror_mode": {
    "name": "ipython",
    "version": 3
   },
   "file_extension": ".py",
   "mimetype": "text/x-python",
   "name": "python",
   "nbconvert_exporter": "python",
   "pygments_lexer": "ipython3",
   "version": "3.9.12"
  }
 },
 "nbformat": 4,
 "nbformat_minor": 5
}
