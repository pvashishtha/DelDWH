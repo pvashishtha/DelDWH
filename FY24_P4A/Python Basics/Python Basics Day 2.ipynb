{
 "cells": [
  {
   "cell_type": "markdown",
   "id": "d172e07e",
   "metadata": {},
   "source": [
    "### Python Basics Day 2"
   ]
  },
  {
   "cell_type": "markdown",
   "id": "c1c4368e",
   "metadata": {},
   "source": [
    "### Formatting Strings"
   ]
  },
  {
   "cell_type": "code",
   "execution_count": 2,
   "id": "7f2eb850",
   "metadata": {},
   "outputs": [
    {
     "name": "stdout",
     "output_type": "stream",
     "text": [
      "welcome to deloitte, have a happy journey in your career here!\n"
     ]
    }
   ],
   "source": [
    "print('welcome to %s, have a happy journey in your career here!'%('deloitte'))"
   ]
  },
  {
   "cell_type": "code",
   "execution_count": 3,
   "id": "5afca216",
   "metadata": {},
   "outputs": [
    {
     "name": "stdout",
     "output_type": "stream",
     "text": [
      "welcome to deloitte usi, you will be serving consulting\n"
     ]
    }
   ],
   "source": [
    "print('welcome to %s, you will be serving %s'%('deloitte usi','consulting'))"
   ]
  },
  {
   "cell_type": "code",
   "execution_count": 5,
   "id": "3616dac0",
   "metadata": {},
   "outputs": [
    {
     "name": "stdout",
     "output_type": "stream",
     "text": [
      "welcome Prateek to Deloitte USI\n"
     ]
    }
   ],
   "source": [
    "name='Prateek'\n",
    "company='Deloitte USI'\n",
    "text='welcome %s to %s'%(name, company)\n",
    "print(text)"
   ]
  },
  {
   "cell_type": "markdown",
   "id": "006aca98",
   "metadata": {},
   "source": [
    "#### format()"
   ]
  },
  {
   "cell_type": "code",
   "execution_count": 6,
   "id": "cf513da2",
   "metadata": {},
   "outputs": [
    {
     "name": "stdout",
     "output_type": "stream",
     "text": [
      "Enter your nameprateek\n",
      "Enter companydeloitte\n",
      "Hi prateek, welcome to deloitte\n"
     ]
    }
   ],
   "source": [
    "name=input('Enter your name')\n",
    "comp=input('Enter company')\n",
    "\n",
    "msg='Hi {0}, welcome to {1}'.format(name, comp)\n",
    "print(msg)"
   ]
  },
  {
   "cell_type": "code",
   "execution_count": 7,
   "id": "e8c824e3",
   "metadata": {},
   "outputs": [
    {
     "name": "stdout",
     "output_type": "stream",
     "text": [
      "you have 15000 account balance\n"
     ]
    }
   ],
   "source": [
    "print('you have {0} account balance'.format(15000))"
   ]
  },
  {
   "cell_type": "code",
   "execution_count": 10,
   "id": "37e2a85b",
   "metadata": {},
   "outputs": [
    {
     "name": "stdout",
     "output_type": "stream",
     "text": [
      "welcome prateek to deloitte\n"
     ]
    }
   ],
   "source": [
    "name='prateek'\n",
    "comp='deloitte'\n",
    "print(f'welcome {name} to {comp}')"
   ]
  },
  {
   "cell_type": "code",
   "execution_count": 11,
   "id": "6c975cc4",
   "metadata": {},
   "outputs": [
    {
     "name": "stdout",
     "output_type": "stream",
     "text": [
      "Enter your nameprateek\n",
      "Enter companydeloitte\n",
      "Hi deloitte, welcome to prateek\n"
     ]
    }
   ],
   "source": [
    "name=input('Enter your name')\n",
    "comp=input('Enter company')\n",
    "\n",
    "msg='Hi {1}, welcome to {0}'.format(name, comp)\n",
    "print(msg)"
   ]
  },
  {
   "cell_type": "code",
   "execution_count": 12,
   "id": "e48bc400",
   "metadata": {},
   "outputs": [
    {
     "name": "stdout",
     "output_type": "stream",
     "text": [
      "Value of PI is 3.1456982351\n"
     ]
    }
   ],
   "source": [
    "pi=3.1456982351\n",
    "print(f'Value of PI is {pi}')"
   ]
  },
  {
   "cell_type": "code",
   "execution_count": 13,
   "id": "958d7506",
   "metadata": {},
   "outputs": [
    {
     "name": "stdout",
     "output_type": "stream",
     "text": [
      "Value of PI is 3.15\n"
     ]
    }
   ],
   "source": [
    "pi=3.1456982351\n",
    "print(f'Value of PI is {pi:.2f}')"
   ]
  },
  {
   "cell_type": "code",
   "execution_count": 15,
   "id": "86187e4d",
   "metadata": {},
   "outputs": [
    {
     "name": "stdout",
     "output_type": "stream",
     "text": [
      "deloitte\n",
      "deloitte             |       deloitte       |             deloitte\n"
     ]
    }
   ],
   "source": [
    "# justify your text in formatted string\n",
    "text=input()\n",
    "\n",
    "print(f'{text:<20} | {text:^20} | {text:>20}')"
   ]
  },
  {
   "cell_type": "code",
   "execution_count": 19,
   "id": "5edf2317",
   "metadata": {},
   "outputs": [
    {
     "name": "stdout",
     "output_type": "stream",
     "text": [
      "Enter your password: prateek 18\n",
      "False\n"
     ]
    }
   ],
   "source": [
    "# Write a python script that accepts user password and checks if has:\n",
    "# 1. Length of minimum 8 characters\n",
    "# 2. alphanumeric composition\n",
    "# 3. No blank spaces\n",
    "# If it follows all criteria, then print \"True\" else print \"False\"\n",
    "password=input('Enter your password: ')\n",
    "status=len(password)>=8 and password.isalnum() and password.count(' ')==0\n",
    "print(status)"
   ]
  },
  {
   "cell_type": "markdown",
   "id": "60e0bdcc",
   "metadata": {},
   "source": [
    "### Flow Control"
   ]
  },
  {
   "cell_type": "code",
   "execution_count": 21,
   "id": "8b9ef5c9",
   "metadata": {},
   "outputs": [],
   "source": [
    "# Branching - IF-ELSE\n",
    "# Repetition- LOOP\n",
    "# Jump to a Code- FUNCTIONS"
   ]
  },
  {
   "cell_type": "markdown",
   "id": "30fe5ddd",
   "metadata": {},
   "source": [
    "#### IF - ELSE Conditions- conditional statements"
   ]
  },
  {
   "cell_type": "code",
   "execution_count": null,
   "id": "0bb85311",
   "metadata": {},
   "outputs": [],
   "source": [
    "# if <condition>:     # header\n",
    "    #block of code    # with indentation"
   ]
  },
  {
   "cell_type": "code",
   "execution_count": 25,
   "id": "45551816",
   "metadata": {},
   "outputs": [
    {
     "name": "stdout",
     "output_type": "stream",
     "text": [
      "Hurray! \"a\" is greater than 5\n",
      "After IF\n"
     ]
    }
   ],
   "source": [
    "a=10\n",
    "if a>5:\n",
    "    print('Hurray! \"a\" is greater than 5')\n",
    "print('After IF')"
   ]
  },
  {
   "cell_type": "code",
   "execution_count": 26,
   "id": "35047f2a",
   "metadata": {},
   "outputs": [
    {
     "name": "stdout",
     "output_type": "stream",
     "text": [
      "After IF\n"
     ]
    }
   ],
   "source": [
    "a=1\n",
    "if a>5:\n",
    "    print('Hurray! \"a\" is greater than 5')\n",
    "print('After IF')"
   ]
  },
  {
   "cell_type": "code",
   "execution_count": 27,
   "id": "d2185d41",
   "metadata": {},
   "outputs": [],
   "source": [
    "# if <condn>:\n",
    "    # block of code- action 1\n",
    "# else:\n",
    "    # block of code- action 2\n"
   ]
  },
  {
   "cell_type": "code",
   "execution_count": 30,
   "id": "4eff2945",
   "metadata": {},
   "outputs": [
    {
     "name": "stdout",
     "output_type": "stream",
     "text": [
      "a is less than 10\n",
      "after if-else\n"
     ]
    }
   ],
   "source": [
    "a=10\n",
    "if a>10:\n",
    "    print('a more than 10')\n",
    "else:\n",
    "    print('a is less than 10')\n",
    "print('after if-else')"
   ]
  },
  {
   "cell_type": "code",
   "execution_count": 31,
   "id": "daf0d79b",
   "metadata": {},
   "outputs": [
    {
     "name": "stdout",
     "output_type": "stream",
     "text": [
      "a more than 10\n",
      "after if-else\n"
     ]
    }
   ],
   "source": [
    "a=100\n",
    "if a>10:\n",
    "    print('a more than 10')\n",
    "else:\n",
    "    print('a is less than 10')\n",
    "print('after if-else')"
   ]
  },
  {
   "cell_type": "code",
   "execution_count": 32,
   "id": "27de287e",
   "metadata": {},
   "outputs": [
    {
     "name": "stdout",
     "output_type": "stream",
     "text": [
      "23\n",
      "67\n",
      "b is larger\n",
      "Done!\n"
     ]
    }
   ],
   "source": [
    "# Find the largest of 2 numbers given as input from user\n",
    "a=int(input())\n",
    "b=int(input())\n",
    "if a>b:\n",
    "    print('a is larger')\n",
    "else:\n",
    "    print('b is larger')\n",
    "print('Done!')"
   ]
  },
  {
   "cell_type": "code",
   "execution_count": 33,
   "id": "5e630d59",
   "metadata": {},
   "outputs": [
    {
     "name": "stdout",
     "output_type": "stream",
     "text": [
      "23\n",
      "12\n",
      "67\n",
      "c is largest\n",
      "Done!\n"
     ]
    }
   ],
   "source": [
    "# Find the largest of 3 numbers given as input from user\n",
    "a=int(input())\n",
    "b=int(input())\n",
    "c=int(input())\n",
    "if a>b:\n",
    "    if a>c:\n",
    "        print('a is largest')\n",
    "    else:\n",
    "        print('c is largest')\n",
    "else:\n",
    "    if b>c:\n",
    "        print('b is largest')\n",
    "    else:\n",
    "        print('c is largest')\n",
    "    \n",
    "print('Done!')"
   ]
  },
  {
   "cell_type": "code",
   "execution_count": 35,
   "id": "51c99ed3",
   "metadata": {},
   "outputs": [
    {
     "name": "stdout",
     "output_type": "stream",
     "text": [
      "23\n",
      "45\n",
      "45\n"
     ]
    }
   ],
   "source": [
    "a=int(input())\n",
    "b=int(input())\n",
    "c=int(input())\n",
    "\n",
    "if a>b and a>c:\n",
    "    print('a is largest')\n",
    "if b>a and b>c:\n",
    "    print('b is largest')\n",
    "if c>a and c>b:\n",
    "    print('c is largest')"
   ]
  },
  {
   "cell_type": "code",
   "execution_count": 36,
   "id": "f0075f7f",
   "metadata": {},
   "outputs": [
    {
     "name": "stdout",
     "output_type": "stream",
     "text": [
      "23\n",
      "45\n",
      "67\n",
      "c is largest\n"
     ]
    }
   ],
   "source": [
    "a=int(input())\n",
    "b=int(input())\n",
    "c=int(input())\n",
    "\n",
    "if a>b and a>c:\n",
    "    print('a is largest')\n",
    "else:\n",
    "    if b>a and b>c:\n",
    "        print('b is largest')\n",
    "    else:\n",
    "        print('c is largest')\n",
    "print('done')"
   ]
  },
  {
   "cell_type": "code",
   "execution_count": 37,
   "id": "5428eb4f",
   "metadata": {},
   "outputs": [],
   "source": [
    "# if -elif - else ladder"
   ]
  },
  {
   "cell_type": "code",
   "execution_count": 44,
   "id": "e5766ff9",
   "metadata": {},
   "outputs": [
    {
     "name": "stdout",
     "output_type": "stream",
     "text": [
      "more than 50 and less than 70\n"
     ]
    }
   ],
   "source": [
    "a=62\n",
    "if a>=90:\n",
    "    print('more than 90')\n",
    "elif a>=70 and a<90:\n",
    "    print('more than 70 and less than 90')\n",
    "elif a>=50 and a<70:\n",
    "    print('more than 50 and less than 70')\n",
    "else:\n",
    "    print('no condition match')"
   ]
  },
  {
   "cell_type": "code",
   "execution_count": 48,
   "id": "c07a0c78",
   "metadata": {},
   "outputs": [
    {
     "name": "stdout",
     "output_type": "stream",
     "text": [
      "78.65\n",
      "Final Grades: B\n"
     ]
    }
   ],
   "source": [
    "# write a program that tells the grade of marks obtained:\n",
    "# if more than equal to 90: grade A\n",
    "# if more than equal to 75 and less tha 90: grade B\n",
    "# from range 60 to 74.99, grade C\n",
    "# else failure\n",
    "marks=float(input())\n",
    "grade=''\n",
    "if marks>=90:\n",
    "    grade='A'\n",
    "elif 75<=marks<=89.99:\n",
    "    grade='B'\n",
    "elif 60<=marks<=74.99:\n",
    "    grade='C'\n",
    "else:\n",
    "    grade='F'\n",
    "    \n",
    "print(f'Final Grades: {grade}')"
   ]
  },
  {
   "cell_type": "code",
   "execution_count": 55,
   "id": "20b4222f",
   "metadata": {},
   "outputs": [
    {
     "name": "stdout",
     "output_type": "stream",
     "text": [
      "1700\n",
      "Not a leap year\n"
     ]
    }
   ],
   "source": [
    "# Write a script to find whether given year is leap yer or not\n",
    "year=int(input())\n",
    "\n",
    "if year%100==0:\n",
    "    if year%400==0:\n",
    "        print('Leap Year')\n",
    "    else:\n",
    "        print('Not a leap year')\n",
    "else:\n",
    "    if year%4==0:\n",
    "        print('Leap Year')\n",
    "    else:\n",
    "        print('Not a leap year')"
   ]
  },
  {
   "cell_type": "markdown",
   "id": "dce3c82e",
   "metadata": {},
   "source": [
    "#### Loop Control"
   ]
  },
  {
   "cell_type": "code",
   "execution_count": 56,
   "id": "5f971253",
   "metadata": {},
   "outputs": [],
   "source": [
    "# WHILE Loop\n",
    "# FOR Loop\n"
   ]
  },
  {
   "cell_type": "code",
   "execution_count": 57,
   "id": "ed76364e",
   "metadata": {},
   "outputs": [],
   "source": [
    "# While Loop\n",
    "\n",
    "# iterator variable\n",
    "# while <condition>:           # header\n",
    "    # block of code            # repetive\n",
    "    # iterator-update          # defines the condition for next iteration\n",
    "    "
   ]
  },
  {
   "cell_type": "code",
   "execution_count": 59,
   "id": "d0fd8ee0",
   "metadata": {},
   "outputs": [
    {
     "name": "stdout",
     "output_type": "stream",
     "text": [
      "value of i=0\n",
      "value of i=1\n",
      "value of i=2\n",
      "value of i=3\n",
      "value of i=4\n",
      "value of i=5\n",
      "value of i=6\n",
      "value of i=7\n",
      "value of i=8\n",
      "value of i=9\n",
      "outside loop\n"
     ]
    }
   ],
   "source": [
    "# iterator\n",
    "i=0\n",
    "while i<10:\n",
    "    print(f'value of i={i}')\n",
    "    i+=1\n",
    "print('outside loop')"
   ]
  },
  {
   "cell_type": "code",
   "execution_count": 61,
   "id": "da69f2a7",
   "metadata": {},
   "outputs": [
    {
     "name": "stdout",
     "output_type": "stream",
     "text": [
      "Leap Year: 2000\n",
      "Leap Year: 2004\n",
      "Leap Year: 2008\n",
      "Leap Year: 2012\n",
      "Leap Year: 2016\n",
      "Leap Year: 2020\n"
     ]
    }
   ],
   "source": [
    "# Write a script using while loop to find all leap years between\n",
    "# 2000 and 2023\n",
    "\n",
    "year=2000\n",
    "while year<=2023:\n",
    "    if year%100==0:\n",
    "        if year%400==0:\n",
    "            print('Leap Year:', year)\n",
    "        else:\n",
    "            pass\n",
    "    else:\n",
    "        if year%4==0:\n",
    "            print('Leap Year:', year)\n",
    "        else:\n",
    "            pass\n",
    "    year+=1"
   ]
  },
  {
   "cell_type": "code",
   "execution_count": 69,
   "id": "c5e57eac",
   "metadata": {},
   "outputs": [
    {
     "name": "stdout",
     "output_type": "stream",
     "text": [
      "282589933\n",
      "Not a prime number\n",
      "283\n"
     ]
    }
   ],
   "source": [
    "# Write a code to check whether given number is prime or not\n",
    "num=int(input())\n",
    "i=2\n",
    "while i<num//2+1:\n",
    "    if num%i==0:\n",
    "        print('Not a prime number')\n",
    "        print(i)\n",
    "        break\n",
    "    else:\n",
    "        pass\n",
    "    i+=1\n",
    "else:\n",
    "    print('Prime Number')"
   ]
  },
  {
   "cell_type": "code",
   "execution_count": 72,
   "id": "e5208695",
   "metadata": {},
   "outputs": [
    {
     "name": "stdout",
     "output_type": "stream",
     "text": [
      "8\n",
      "Factorial of 8 is 40320\n"
     ]
    }
   ],
   "source": [
    "# Write a code to find the factorial of a given number\n",
    "# n = n*n-1*n-2....3*2*1\n",
    "\n",
    "n=int(input())\n",
    "i=1\n",
    "fact=1\n",
    "while i<=n:\n",
    "    fact*=i\n",
    "    i+=1\n",
    "print(f'Factorial of {n} is {fact}')"
   ]
  },
  {
   "cell_type": "code",
   "execution_count": 73,
   "id": "8b8fb9fb",
   "metadata": {
    "collapsed": true
   },
   "outputs": [
    {
     "name": "stdout",
     "output_type": "stream",
     "text": [
      "Prime Number:  101\n",
      "Prime Number:  103\n",
      "Prime Number:  107\n",
      "Prime Number:  109\n",
      "Prime Number:  113\n",
      "Prime Number:  127\n",
      "Prime Number:  131\n",
      "Prime Number:  137\n",
      "Prime Number:  139\n",
      "Prime Number:  149\n",
      "Prime Number:  151\n",
      "Prime Number:  157\n",
      "Prime Number:  163\n",
      "Prime Number:  167\n",
      "Prime Number:  173\n",
      "Prime Number:  179\n",
      "Prime Number:  181\n",
      "Prime Number:  191\n",
      "Prime Number:  193\n",
      "Prime Number:  197\n",
      "Prime Number:  199\n",
      "Prime Number:  211\n",
      "Prime Number:  223\n",
      "Prime Number:  227\n",
      "Prime Number:  229\n",
      "Prime Number:  233\n",
      "Prime Number:  239\n",
      "Prime Number:  241\n",
      "Prime Number:  251\n",
      "Prime Number:  257\n",
      "Prime Number:  263\n",
      "Prime Number:  269\n",
      "Prime Number:  271\n",
      "Prime Number:  277\n",
      "Prime Number:  281\n",
      "Prime Number:  283\n",
      "Prime Number:  293\n",
      "Prime Number:  307\n",
      "Prime Number:  311\n",
      "Prime Number:  313\n",
      "Prime Number:  317\n",
      "Prime Number:  331\n",
      "Prime Number:  337\n",
      "Prime Number:  347\n",
      "Prime Number:  349\n",
      "Prime Number:  353\n",
      "Prime Number:  359\n",
      "Prime Number:  367\n",
      "Prime Number:  373\n",
      "Prime Number:  379\n",
      "Prime Number:  383\n",
      "Prime Number:  389\n",
      "Prime Number:  397\n",
      "Prime Number:  401\n",
      "Prime Number:  409\n",
      "Prime Number:  419\n",
      "Prime Number:  421\n",
      "Prime Number:  431\n",
      "Prime Number:  433\n",
      "Prime Number:  439\n",
      "Prime Number:  443\n",
      "Prime Number:  449\n",
      "Prime Number:  457\n",
      "Prime Number:  461\n",
      "Prime Number:  463\n",
      "Prime Number:  467\n",
      "Prime Number:  479\n",
      "Prime Number:  487\n",
      "Prime Number:  491\n",
      "Prime Number:  499\n",
      "Prime Number:  503\n",
      "Prime Number:  509\n",
      "Prime Number:  521\n",
      "Prime Number:  523\n",
      "Prime Number:  541\n",
      "Prime Number:  547\n",
      "Prime Number:  557\n",
      "Prime Number:  563\n",
      "Prime Number:  569\n",
      "Prime Number:  571\n",
      "Prime Number:  577\n",
      "Prime Number:  587\n",
      "Prime Number:  593\n",
      "Prime Number:  599\n",
      "Prime Number:  601\n",
      "Prime Number:  607\n",
      "Prime Number:  613\n",
      "Prime Number:  617\n",
      "Prime Number:  619\n",
      "Prime Number:  631\n",
      "Prime Number:  641\n",
      "Prime Number:  643\n",
      "Prime Number:  647\n",
      "Prime Number:  653\n",
      "Prime Number:  659\n",
      "Prime Number:  661\n",
      "Prime Number:  673\n",
      "Prime Number:  677\n",
      "Prime Number:  683\n",
      "Prime Number:  691\n",
      "Prime Number:  701\n",
      "Prime Number:  709\n",
      "Prime Number:  719\n",
      "Prime Number:  727\n",
      "Prime Number:  733\n",
      "Prime Number:  739\n",
      "Prime Number:  743\n",
      "Prime Number:  751\n",
      "Prime Number:  757\n",
      "Prime Number:  761\n",
      "Prime Number:  769\n",
      "Prime Number:  773\n",
      "Prime Number:  787\n",
      "Prime Number:  797\n",
      "Prime Number:  809\n",
      "Prime Number:  811\n",
      "Prime Number:  821\n",
      "Prime Number:  823\n",
      "Prime Number:  827\n",
      "Prime Number:  829\n",
      "Prime Number:  839\n",
      "Prime Number:  853\n",
      "Prime Number:  857\n",
      "Prime Number:  859\n",
      "Prime Number:  863\n",
      "Prime Number:  877\n",
      "Prime Number:  881\n",
      "Prime Number:  883\n",
      "Prime Number:  887\n",
      "Prime Number:  907\n",
      "Prime Number:  911\n",
      "Prime Number:  919\n",
      "Prime Number:  929\n",
      "Prime Number:  937\n",
      "Prime Number:  941\n",
      "Prime Number:  947\n",
      "Prime Number:  953\n",
      "Prime Number:  967\n",
      "Prime Number:  971\n",
      "Prime Number:  977\n",
      "Prime Number:  983\n",
      "Prime Number:  991\n",
      "Prime Number:  997\n"
     ]
    }
   ],
   "source": [
    "# Find all 3 digit prime numbers\n",
    "num=100\n",
    "while num<1000:\n",
    "    i=2\n",
    "    while i<num//2+1:\n",
    "        if num%i==0:\n",
    "            break\n",
    "        else:\n",
    "            pass\n",
    "        i+=1\n",
    "    else:\n",
    "        print('Prime Number: ', num)\n",
    "    num+=1"
   ]
  },
  {
   "cell_type": "code",
   "execution_count": 75,
   "id": "b4fd0d80",
   "metadata": {},
   "outputs": [
    {
     "name": "stdout",
     "output_type": "stream",
     "text": [
      "hello deloitte i am feeling happy here\n",
      "Consonents Count: 18\n",
      "HELLO DELOITTE I AM FEELING HAPPY HERE\n"
     ]
    }
   ],
   "source": [
    "# Write program to find total number of consonents in a string and \n",
    "# convert it to upper case if count is even, else to lower case if \n",
    "# count is odd.\n",
    "\n",
    "s=input().lower()\n",
    "vowels=s.count('a')+s.count('e')+s.count('i')+s.count('o')+s.count('u')\n",
    "consonents=len(s)-vowels-s.count(' ')\n",
    "print(f'Consonents Count: {consonents}')\n",
    "\n",
    "if consonents%2==0:\n",
    "    print(s.upper())\n",
    "else:\n",
    "    print(s.lower())"
   ]
  },
  {
   "cell_type": "code",
   "execution_count": null,
   "id": "a8213b78",
   "metadata": {},
   "outputs": [],
   "source": []
  },
  {
   "cell_type": "markdown",
   "id": "3f9f644d",
   "metadata": {},
   "source": [
    "#### for loop"
   ]
  },
  {
   "cell_type": "code",
   "execution_count": 80,
   "id": "f24e3dfc",
   "metadata": {},
   "outputs": [],
   "source": [
    "# range()- generates enumeration of numbers\n",
    "\n",
    "# range(n)- enumerates over 0 to n-1\n",
    "# range(m, n)- enumerates over m to n-1\n",
    "# range(m, n, k)- enumerates over m to n-1 with k increment/decrement"
   ]
  },
  {
   "cell_type": "code",
   "execution_count": 81,
   "id": "f4659f9c",
   "metadata": {},
   "outputs": [
    {
     "data": {
      "text/plain": [
       "range(0, 10)"
      ]
     },
     "execution_count": 81,
     "metadata": {},
     "output_type": "execute_result"
    }
   ],
   "source": [
    "range(10) # 0 to 9\n",
    "# 0,1,2,3,4,5,6,7,8,9"
   ]
  },
  {
   "cell_type": "code",
   "execution_count": 82,
   "id": "67fb4760",
   "metadata": {},
   "outputs": [
    {
     "data": {
      "text/plain": [
       "range(5, 15)"
      ]
     },
     "execution_count": 82,
     "metadata": {},
     "output_type": "execute_result"
    }
   ],
   "source": [
    "range(5, 15) # 5 to 14\n",
    "# 5,6,7,8,9,10,11,12,13,14"
   ]
  },
  {
   "cell_type": "code",
   "execution_count": null,
   "id": "37b8f2d5",
   "metadata": {},
   "outputs": [],
   "source": [
    "range(5, 10, 2) # 5 to 9 with increment of 2\n",
    "# 5, 7, 9"
   ]
  },
  {
   "cell_type": "code",
   "execution_count": null,
   "id": "7c6d4918",
   "metadata": {},
   "outputs": [],
   "source": [
    "# for iterable in range(n):        # header\n",
    "    # block\n",
    "    # block\n"
   ]
  },
  {
   "cell_type": "code",
   "execution_count": 84,
   "id": "e6be1c2d",
   "metadata": {},
   "outputs": [
    {
     "name": "stdout",
     "output_type": "stream",
     "text": [
      "0 1 2 3 4 5 6 7 8 9 "
     ]
    }
   ],
   "source": [
    "for i in range(10):\n",
    "    print(i, end=' ')"
   ]
  },
  {
   "cell_type": "code",
   "execution_count": 85,
   "id": "73093297",
   "metadata": {},
   "outputs": [
    {
     "name": "stdout",
     "output_type": "stream",
     "text": [
      "5 6 7 8 9 10 11 12 13 14 "
     ]
    }
   ],
   "source": [
    "for i in range(5, 15):\n",
    "    print(i, end=' ')"
   ]
  },
  {
   "cell_type": "code",
   "execution_count": 86,
   "id": "b6fb71fe",
   "metadata": {},
   "outputs": [
    {
     "name": "stdout",
     "output_type": "stream",
     "text": [
      "5 8 11 14 17 "
     ]
    }
   ],
   "source": [
    "for i in range(5, 20, 3):\n",
    "    print(i, end=' ')"
   ]
  },
  {
   "cell_type": "code",
   "execution_count": 87,
   "id": "adc2868a",
   "metadata": {},
   "outputs": [
    {
     "name": "stdout",
     "output_type": "stream",
     "text": [
      "P R A T E E K "
     ]
    }
   ],
   "source": [
    "for char in 'PRATEEK':\n",
    "    print(char, end=' ')"
   ]
  },
  {
   "cell_type": "code",
   "execution_count": 92,
   "id": "4f91cc18",
   "metadata": {},
   "outputs": [
    {
     "name": "stdout",
     "output_type": "stream",
     "text": [
      "232\n",
      "NOT PRIME\n"
     ]
    }
   ],
   "source": [
    "# Write code using for loop to check prime number\n",
    "num=int(input())\n",
    "for i in range(2, num//2+1):\n",
    "    if num%i==0:\n",
    "        print('NOT PRIME')\n",
    "        break\n",
    "else:\n",
    "    print('PRIME NUMBER')"
   ]
  },
  {
   "cell_type": "code",
   "execution_count": 94,
   "id": "d8b11ff1",
   "metadata": {},
   "outputs": [
    {
     "name": "stdout",
     "output_type": "stream",
     "text": [
      "7\n",
      "Factorial:  5040\n"
     ]
    }
   ],
   "source": [
    "# write code using for lopp to find factorial\n",
    "n=int(input())\n",
    "fact=1\n",
    "for i in range(1, n+1):\n",
    "    fact*=i\n",
    "print('Factorial: ', fact)"
   ]
  },
  {
   "cell_type": "code",
   "execution_count": 98,
   "id": "eee340aa",
   "metadata": {},
   "outputs": [
    {
     "name": "stdout",
     "output_type": "stream",
     "text": [
      "20\n",
      "18\n",
      "16\n",
      "14\n",
      "12\n"
     ]
    }
   ],
   "source": [
    "for i in range(20, 10, -2):\n",
    "    print(i)"
   ]
  },
  {
   "cell_type": "code",
   "execution_count": 102,
   "id": "b6664cfc",
   "metadata": {},
   "outputs": [],
   "source": [
    "# continue\n",
    "# forces to next iteration without executing further statements"
   ]
  },
  {
   "cell_type": "code",
   "execution_count": 105,
   "id": "5c05bc78",
   "metadata": {},
   "outputs": [
    {
     "name": "stdout",
     "output_type": "stream",
     "text": [
      "1\n",
      "3\n",
      "5\n",
      "7\n",
      "9\n"
     ]
    }
   ],
   "source": [
    "i=0\n",
    "while i<10:\n",
    "    if i%2==0:\n",
    "        i+=1\n",
    "        continue\n",
    "    print(i)\n",
    "    i+=1"
   ]
  },
  {
   "cell_type": "code",
   "execution_count": 106,
   "id": "a033e9f0",
   "metadata": {},
   "outputs": [
    {
     "name": "stdout",
     "output_type": "stream",
     "text": [
      "1\n",
      "2\n",
      "4\n",
      "5\n",
      "7\n",
      "8\n"
     ]
    }
   ],
   "source": [
    "for i in range(10):\n",
    "    if i%3==0:\n",
    "        continue\n",
    "    print(i)"
   ]
  },
  {
   "cell_type": "code",
   "execution_count": 112,
   "id": "b72209b2",
   "metadata": {},
   "outputs": [
    {
     "name": "stdout",
     "output_type": "stream",
     "text": [
      "0\n",
      "1\n",
      "2\n",
      "3\n",
      "4\n",
      "5\n",
      "6\n",
      "7\n",
      "Loop Over\n"
     ]
    }
   ],
   "source": [
    "for i in range(100):\n",
    "    if i>7:\n",
    "        continue\n",
    "    print(i)\n",
    "else:\n",
    "    print('Loop Over')"
   ]
  },
  {
   "cell_type": "markdown",
   "id": "df639bbe",
   "metadata": {},
   "source": [
    "#### ternary operator"
   ]
  },
  {
   "cell_type": "code",
   "execution_count": 113,
   "id": "de0e25a8",
   "metadata": {},
   "outputs": [],
   "source": [
    "# action1 if condition else action2"
   ]
  },
  {
   "cell_type": "code",
   "execution_count": 114,
   "id": "2fd9f1e6",
   "metadata": {},
   "outputs": [
    {
     "name": "stdout",
     "output_type": "stream",
     "text": [
      "Grade B\n"
     ]
    }
   ],
   "source": [
    "marks=89\n",
    "if marks>90:\n",
    "    print('Grade A')\n",
    "else:\n",
    "    print('Grade B')"
   ]
  },
  {
   "cell_type": "code",
   "execution_count": 115,
   "id": "2f3121d4",
   "metadata": {},
   "outputs": [
    {
     "data": {
      "text/plain": [
       "'Grade B'"
      ]
     },
     "execution_count": 115,
     "metadata": {},
     "output_type": "execute_result"
    }
   ],
   "source": [
    "'Grade A' if marks>90 else 'Grade B'"
   ]
  },
  {
   "cell_type": "code",
   "execution_count": 116,
   "id": "f8001d94",
   "metadata": {},
   "outputs": [
    {
     "data": {
      "text/plain": [
       "20"
      ]
     },
     "execution_count": 116,
     "metadata": {},
     "output_type": "execute_result"
    }
   ],
   "source": [
    "x=15\n",
    "y=20\n",
    "\n",
    "x if x>y else y"
   ]
  },
  {
   "cell_type": "code",
   "execution_count": 118,
   "id": "91286cd3",
   "metadata": {},
   "outputs": [
    {
     "data": {
      "text/plain": [
       "'Grade B'"
      ]
     },
     "execution_count": 118,
     "metadata": {},
     "output_type": "execute_result"
    }
   ],
   "source": [
    "marks=78\n",
    "\n",
    "'Grade A' if marks>90 else ('Grade B' if 75<marks<90 else 'Grade C')"
   ]
  },
  {
   "cell_type": "code",
   "execution_count": 124,
   "id": "21016eb4",
   "metadata": {},
   "outputs": [
    {
     "name": "stdout",
     "output_type": "stream",
     "text": [
      "0\n",
      "35\n",
      "70\n"
     ]
    }
   ],
   "source": [
    "# write a program code that displays all integers between 0 and 100 that are\n",
    "# divisible by 5 and are multiples of 7 as well.\n",
    "i=0\n",
    "while i<101:\n",
    "    if i%5==0 and i%7==0:\n",
    "        print(i)\n",
    "    i+=1"
   ]
  },
  {
   "cell_type": "code",
   "execution_count": 127,
   "id": "ecd58cf3",
   "metadata": {},
   "outputs": [
    {
     "name": "stdout",
     "output_type": "stream",
     "text": [
      "0\n",
      "35\n",
      "70\n"
     ]
    }
   ],
   "source": [
    "for i in range(101):\n",
    "    if i%5==0 and i%7==0:\n",
    "        print(i)"
   ]
  },
  {
   "cell_type": "code",
   "execution_count": 132,
   "id": "4a0994cf",
   "metadata": {},
   "outputs": [
    {
     "name": "stdout",
     "output_type": "stream",
     "text": [
      "567\n",
      "765"
     ]
    }
   ],
   "source": [
    "# write a program that accepts an inetegr from user and performs check\n",
    "# if the number is 3 digit number or not, if not print 'INVALID'\n",
    "# else prints the number in reverse order of appearing digits.\n",
    "n=int(input())\n",
    "if 100<=n<=999:\n",
    "    temp=n\n",
    "    while temp>0:\n",
    "        print(temp%10, end='')\n",
    "        temp=temp//10\n",
    "else:\n",
    "    print('INVALID')"
   ]
  },
  {
   "cell_type": "code",
   "execution_count": 133,
   "id": "a53c809d",
   "metadata": {},
   "outputs": [
    {
     "name": "stdout",
     "output_type": "stream",
     "text": [
      "687\n",
      "786\n"
     ]
    }
   ],
   "source": [
    "n=int(input())\n",
    "if 100<=n<=999:\n",
    "    print(int(str(n)[::-1]))\n",
    "else:\n",
    "    print('INVALID')"
   ]
  },
  {
   "cell_type": "code",
   "execution_count": 135,
   "id": "b6e15543",
   "metadata": {},
   "outputs": [
    {
     "name": "stdout",
     "output_type": "stream",
     "text": [
      "* \n",
      "* * \n",
      "* * * \n",
      "* * * * \n",
      "* * * * * \n",
      "* * * * * * \n"
     ]
    }
   ],
   "source": [
    "# Write a code to print:\n",
    "# *\n",
    "# * *\n",
    "# * * *\n",
    "# * * * *\n",
    "# * * * * *\n",
    "# * * * * * *\n",
    "n=6\n",
    "for i in range(1, n+1):\n",
    "    print('* '*i)"
   ]
  },
  {
   "cell_type": "code",
   "execution_count": 139,
   "id": "0b6dcf9e",
   "metadata": {},
   "outputs": [
    {
     "name": "stdout",
     "output_type": "stream",
     "text": [
      "1 \n",
      "2 3 \n",
      "4 5 6 \n",
      "7 8 9 10 \n",
      "11 12 13 14 15 \n",
      "16 17 18 19 20 21 \n",
      "22 23 24 25 26 27 28 \n",
      "29 30 31 32 33 34 35 36 \n",
      "37 38 39 40 41 42 43 44 45 \n",
      "46 47 48 49 50 51 52 53 54 55 \n"
     ]
    }
   ],
   "source": [
    "# Write a code to print:\n",
    "# 1\n",
    "# 2 3\n",
    "# 4 5 6\n",
    "# 7 8 9 10\n",
    "n=10\n",
    "i=1\n",
    "k=1\n",
    "while i<n+1:\n",
    "    j=1\n",
    "    while j<=i:\n",
    "        print(k, end=' ')\n",
    "        k+=1\n",
    "        j+=1\n",
    "    print()\n",
    "    i+=1"
   ]
  },
  {
   "cell_type": "code",
   "execution_count": 141,
   "id": "15a0343c",
   "metadata": {},
   "outputs": [
    {
     "name": "stdout",
     "output_type": "stream",
     "text": [
      "        1 \n",
      "       2 2 \n",
      "      3 3 3 \n",
      "     4 4 4 4 \n",
      "    5 5 5 5 5 \n",
      "   6 6 6 6 6 6 \n",
      "  7 7 7 7 7 7 7 \n",
      " 8 8 8 8 8 8 8 8 \n",
      "9 9 9 9 9 9 9 9 9 \n"
     ]
    }
   ],
   "source": [
    "# Write a code to print\n",
    "\n",
    "#     1     \n",
    "#    2 2    \n",
    "#   3 3 3   \n",
    "#  4 4 4 4\n",
    "# 5 5 5 5 5\n",
    "n=9\n",
    "for i in range(1, n+1):\n",
    "    print(' '*(n-i)+(str(i)+' ')*i)"
   ]
  },
  {
   "cell_type": "code",
   "execution_count": 144,
   "id": "d7398717",
   "metadata": {},
   "outputs": [
    {
     "name": "stdout",
     "output_type": "stream",
     "text": [
      "20\n",
      "0,1,1,2,3,5,8,13,21,34,55,89,144,233,377,610,987,1597,2584,4181\n"
     ]
    }
   ],
   "source": [
    "# Write a code to generate and print fibonacci series\n",
    "# N numbers\n",
    "# e.g.  0,1,1,2,3,5,8,13,21,34,55,89.....\n",
    "n=int(input())\n",
    "prev1=0\n",
    "prev2=1\n",
    "print(prev1, prev2, sep=',', end=',')\n",
    "for num in range(n-2):\n",
    "    next_term=prev1+prev2\n",
    "    print(next_term, end=',')\n",
    "    prev1=prev2\n",
    "    prev2=next_term\n",
    "print('\\b')"
   ]
  },
  {
   "cell_type": "code",
   "execution_count": 148,
   "id": "59dd259a",
   "metadata": {},
   "outputs": [
    {
     "name": "stdout",
     "output_type": "stream",
     "text": [
      "674\n",
      "NOT AMSTRONG\n"
     ]
    }
   ],
   "source": [
    "# Write a program code to find whther given number is \n",
    "# 3 digit AMSTRONG number or not.\n",
    "# if number provided is not 3 digit, print INVALID NUMBER\n",
    "# else if number is AMSTRONG print AMSTRONG NUMBER\n",
    "# else print NOT AMSTRONG\n",
    "# Test Cases: 1. 371 => AMSTRONG NUMBER\n",
    "# 2. 689 => NOT AMSTRONG\n",
    "# 3. 7890 => INVALID NUMBER\n",
    "\n",
    "# Hint: A number is amstrong is sum of cube of its didgit is same as number\n",
    "# itself. Example: 371 => 3**3 + 7**3 + 1**3 =371\n",
    "\n",
    "n=int(input())\n",
    "s=0\n",
    "if 100<=n<=999:\n",
    "    temp=n\n",
    "    while temp>0:\n",
    "        s+=(temp%10)**3\n",
    "        temp//=10\n",
    "    if s==n:\n",
    "        print('AMSTRONG NUMBER')\n",
    "    else:\n",
    "        print('NOT AMSTRONG')\n",
    "else:\n",
    "    print('INVALID NUMBER')"
   ]
  },
  {
   "cell_type": "code",
   "execution_count": 159,
   "id": "c166a003",
   "metadata": {},
   "outputs": [
    {
     "name": "stdout",
     "output_type": "stream",
     "text": [
      "128900\n",
      "TIONROTA\n"
     ]
    }
   ],
   "source": [
    "# Write a code that rotates a string characters N times\n",
    "# Example: Input=> ROTATION,  N=3, OUTPUT=> ATIONROT\n",
    "n=int(input())\n",
    "s='ROTATION'\n",
    "n=n%len(s)\n",
    "for i in range(n):\n",
    "    s=s[1:]+s[0]\n",
    "print(s)"
   ]
  },
  {
   "cell_type": "code",
   "execution_count": 162,
   "id": "5c302ba2",
   "metadata": {},
   "outputs": [
    {
     "name": "stdout",
     "output_type": "stream",
     "text": [
      "153\n",
      "370\n",
      "371\n",
      "407\n"
     ]
    }
   ],
   "source": [
    "# find all 3 digit AMSTRONG numbers\n",
    "for n in range(100,1000):\n",
    "    s=0\n",
    "    temp=n\n",
    "    while temp>0:\n",
    "        s+=(temp%10)**3\n",
    "        temp//=10\n",
    "    if s==n:\n",
    "        print(n)\n",
    "    else:\n",
    "        pass"
   ]
  },
  {
   "cell_type": "markdown",
   "id": "5322cbef",
   "metadata": {},
   "source": [
    "### Functions - UDF"
   ]
  },
  {
   "cell_type": "code",
   "execution_count": 164,
   "id": "5cf6f082",
   "metadata": {},
   "outputs": [],
   "source": [
    "# def <function-name>(argument-list):                 # header\n",
    "    # block of code"
   ]
  },
  {
   "cell_type": "code",
   "execution_count": 165,
   "id": "b895fc91",
   "metadata": {},
   "outputs": [],
   "source": [
    "def message():\n",
    "    print('hello world')"
   ]
  },
  {
   "cell_type": "code",
   "execution_count": 166,
   "id": "dcbd562e",
   "metadata": {},
   "outputs": [
    {
     "name": "stdout",
     "output_type": "stream",
     "text": [
      "hello world\n"
     ]
    }
   ],
   "source": [
    "# call a function\n",
    "message()"
   ]
  },
  {
   "cell_type": "code",
   "execution_count": 168,
   "id": "3fd28956",
   "metadata": {},
   "outputs": [],
   "source": [
    "def message(msg):\n",
    "    print(f'Hello, {msg}')"
   ]
  },
  {
   "cell_type": "code",
   "execution_count": 170,
   "id": "7b92b259",
   "metadata": {},
   "outputs": [
    {
     "name": "stdout",
     "output_type": "stream",
     "text": [
      "Hello, Good Evening!\n"
     ]
    }
   ],
   "source": [
    "message('Good Evening!')"
   ]
  },
  {
   "cell_type": "code",
   "execution_count": 171,
   "id": "94c5a7c6",
   "metadata": {},
   "outputs": [],
   "source": [
    "def find_sum_2(x, y):\n",
    "    s=x+y\n",
    "    print(s)"
   ]
  },
  {
   "cell_type": "code",
   "execution_count": 172,
   "id": "b451769a",
   "metadata": {},
   "outputs": [
    {
     "name": "stdout",
     "output_type": "stream",
     "text": [
      "123\n"
     ]
    }
   ],
   "source": [
    "find_sum_2(34, 89)"
   ]
  },
  {
   "cell_type": "code",
   "execution_count": 173,
   "id": "25e253bf",
   "metadata": {},
   "outputs": [],
   "source": [
    "# return statement"
   ]
  },
  {
   "cell_type": "code",
   "execution_count": 174,
   "id": "b6b51778",
   "metadata": {},
   "outputs": [],
   "source": [
    "def find_sum(x,y):\n",
    "    s=x+y\n",
    "    return s"
   ]
  },
  {
   "cell_type": "code",
   "execution_count": 176,
   "id": "98fafa89",
   "metadata": {},
   "outputs": [],
   "source": [
    "su=find_sum(45, 78)"
   ]
  },
  {
   "cell_type": "code",
   "execution_count": 177,
   "id": "6002a19b",
   "metadata": {},
   "outputs": [
    {
     "name": "stdout",
     "output_type": "stream",
     "text": [
      "123\n"
     ]
    }
   ],
   "source": [
    "print(su)"
   ]
  },
  {
   "cell_type": "code",
   "execution_count": 178,
   "id": "5e9d6635",
   "metadata": {},
   "outputs": [],
   "source": [
    "# Functions can have default arguments\n",
    "def find_sum(x, y=10):\n",
    "    s=x+y\n",
    "    return s"
   ]
  },
  {
   "cell_type": "code",
   "execution_count": 179,
   "id": "c64e2c33",
   "metadata": {},
   "outputs": [
    {
     "data": {
      "text/plain": [
       "50"
      ]
     },
     "execution_count": 179,
     "metadata": {},
     "output_type": "execute_result"
    }
   ],
   "source": [
    "find_sum(20, 30)"
   ]
  },
  {
   "cell_type": "code",
   "execution_count": 180,
   "id": "c4e55152",
   "metadata": {},
   "outputs": [
    {
     "data": {
      "text/plain": [
       "55"
      ]
     },
     "execution_count": 180,
     "metadata": {},
     "output_type": "execute_result"
    }
   ],
   "source": [
    "find_sum(45)"
   ]
  },
  {
   "cell_type": "code",
   "execution_count": 181,
   "id": "275fe3ab",
   "metadata": {},
   "outputs": [],
   "source": [
    "# default arguments must always follow non-default arguments"
   ]
  },
  {
   "cell_type": "code",
   "execution_count": 182,
   "id": "72a89bea",
   "metadata": {},
   "outputs": [
    {
     "ename": "SyntaxError",
     "evalue": "non-default argument follows default argument (1476988404.py, line 1)",
     "output_type": "error",
     "traceback": [
      "\u001b[1;36m  Input \u001b[1;32mIn [182]\u001b[1;36m\u001b[0m\n\u001b[1;33m    def find_sum(x=5, y):\u001b[0m\n\u001b[1;37m                       ^\u001b[0m\n\u001b[1;31mSyntaxError\u001b[0m\u001b[1;31m:\u001b[0m non-default argument follows default argument\n"
     ]
    }
   ],
   "source": [
    "def find_sum(x=5, y):\n",
    "    s=x+y\n",
    "    return s"
   ]
  },
  {
   "cell_type": "code",
   "execution_count": 183,
   "id": "bc217bb5",
   "metadata": {},
   "outputs": [],
   "source": [
    "def area_circle(radius, pi=3.14):\n",
    "    return pi*radius**2"
   ]
  },
  {
   "cell_type": "code",
   "execution_count": 184,
   "id": "547d1367",
   "metadata": {},
   "outputs": [
    {
     "data": {
      "text/plain": [
       "38.5"
      ]
     },
     "execution_count": 184,
     "metadata": {},
     "output_type": "execute_result"
    }
   ],
   "source": [
    "area_circle(3.5, 22/7)"
   ]
  },
  {
   "cell_type": "code",
   "execution_count": 185,
   "id": "f083bd31",
   "metadata": {},
   "outputs": [
    {
     "data": {
      "text/plain": [
       "38.465"
      ]
     },
     "execution_count": 185,
     "metadata": {},
     "output_type": "execute_result"
    }
   ],
   "source": [
    "area_circle(3.5)"
   ]
  },
  {
   "cell_type": "code",
   "execution_count": 186,
   "id": "234efd8d",
   "metadata": {},
   "outputs": [],
   "source": [
    "# Calling Function with keyword arguments"
   ]
  },
  {
   "cell_type": "code",
   "execution_count": 187,
   "id": "05fb6cbe",
   "metadata": {},
   "outputs": [],
   "source": [
    "def msg(name, company, location):\n",
    "    return f'Hello {name}, Welcome to {company}. Your Location is {location}'"
   ]
  },
  {
   "cell_type": "code",
   "execution_count": 188,
   "id": "9d9c91d3",
   "metadata": {},
   "outputs": [
    {
     "data": {
      "text/plain": [
       "'Hello Prateek, Welcome to Deloitte USI. Your Location is Bengaluru'"
      ]
     },
     "execution_count": 188,
     "metadata": {},
     "output_type": "execute_result"
    }
   ],
   "source": [
    "msg('Prateek','Deloitte USI','Bengaluru')"
   ]
  },
  {
   "cell_type": "code",
   "execution_count": 189,
   "id": "db21dcca",
   "metadata": {},
   "outputs": [
    {
     "data": {
      "text/plain": [
       "'Hello Bengaluru, Welcome to Deloitte USI. Your Location is Prateek'"
      ]
     },
     "execution_count": 189,
     "metadata": {},
     "output_type": "execute_result"
    }
   ],
   "source": [
    "msg('Bengaluru','Deloitte USI','Prateek')"
   ]
  },
  {
   "cell_type": "code",
   "execution_count": 191,
   "id": "47cee29b",
   "metadata": {},
   "outputs": [
    {
     "data": {
      "text/plain": [
       "'Hello Prateek, Welcome to Deloitte USI. Your Location is Bengaluru'"
      ]
     },
     "execution_count": 191,
     "metadata": {},
     "output_type": "execute_result"
    }
   ],
   "source": [
    "msg(location='Bengaluru', company='Deloitte USI', name='Prateek')"
   ]
  },
  {
   "cell_type": "code",
   "execution_count": 192,
   "id": "4d2c3806",
   "metadata": {},
   "outputs": [],
   "source": [
    "def find_max(a,b,c):\n",
    "    if a>b and a>c:\n",
    "        return a\n",
    "    elif b>a and b>c:\n",
    "        return b\n",
    "    else:\n",
    "        return c"
   ]
  },
  {
   "cell_type": "code",
   "execution_count": 193,
   "id": "6c3d34ae",
   "metadata": {},
   "outputs": [
    {
     "data": {
      "text/plain": [
       "32"
      ]
     },
     "execution_count": 193,
     "metadata": {},
     "output_type": "execute_result"
    }
   ],
   "source": [
    "find_max(20,32,13)"
   ]
  },
  {
   "cell_type": "code",
   "execution_count": 194,
   "id": "653c5508",
   "metadata": {},
   "outputs": [
    {
     "name": "stdout",
     "output_type": "stream",
     "text": [
      "Maximum Number: 44\n"
     ]
    }
   ],
   "source": [
    "print(f'Maximum Number: {find_max(20,30,44)}')"
   ]
  },
  {
   "cell_type": "code",
   "execution_count": 195,
   "id": "a27f15a1",
   "metadata": {},
   "outputs": [],
   "source": [
    "# Write a function code to calculate factorial of number passed as argument\n",
    "def find_factorial(n):\n",
    "    if n<2:\n",
    "        return 1\n",
    "    else:\n",
    "        f=1\n",
    "        for i in range(2, n+1):\n",
    "            f*=i\n",
    "        else:\n",
    "            return f"
   ]
  },
  {
   "cell_type": "code",
   "execution_count": 201,
   "id": "2d4b38b8",
   "metadata": {},
   "outputs": [
    {
     "data": {
      "text/plain": [
       "40320"
      ]
     },
     "execution_count": 201,
     "metadata": {},
     "output_type": "execute_result"
    }
   ],
   "source": [
    "find_factorial(8)"
   ]
  },
  {
   "cell_type": "markdown",
   "id": "630a01c8",
   "metadata": {},
   "source": [
    "###### Recursion"
   ]
  },
  {
   "cell_type": "code",
   "execution_count": 203,
   "id": "ddbb0ad5",
   "metadata": {},
   "outputs": [],
   "source": [
    "# when function calls itself within its definition"
   ]
  },
  {
   "cell_type": "code",
   "execution_count": 204,
   "id": "8429367c",
   "metadata": {},
   "outputs": [],
   "source": [
    "def find_factorial(n):\n",
    "    if n<2:\n",
    "        return 1\n",
    "    else:\n",
    "        return n*find_factorial(n-1)"
   ]
  },
  {
   "cell_type": "code",
   "execution_count": 205,
   "id": "f0466210",
   "metadata": {},
   "outputs": [
    {
     "data": {
      "text/plain": [
       "5040"
      ]
     },
     "execution_count": 205,
     "metadata": {},
     "output_type": "execute_result"
    }
   ],
   "source": [
    "find_factorial(7)"
   ]
  },
  {
   "cell_type": "code",
   "execution_count": 208,
   "id": "84f0114e",
   "metadata": {},
   "outputs": [],
   "source": [
    "# Write a code that generates fibonacci series of N terms using recursion\n",
    "def fib(n):\n",
    "    if n<=1:\n",
    "        return n\n",
    "    else:\n",
    "        return fib(n-1)+fib(n-2)"
   ]
  },
  {
   "cell_type": "code",
   "execution_count": 210,
   "id": "f5533157",
   "metadata": {},
   "outputs": [
    {
     "name": "stdout",
     "output_type": "stream",
     "text": [
      "20\n",
      "0 1 1 2 3 5 8 13 21 34 55 89 144 233 377 610 987 1597 2584 4181 "
     ]
    }
   ],
   "source": [
    "N=int(input())\n",
    "for i in range(N):\n",
    "    print(fib(i), end=' ')"
   ]
  },
  {
   "cell_type": "code",
   "execution_count": 217,
   "id": "261c10ff",
   "metadata": {},
   "outputs": [],
   "source": [
    "# Write a function \"Lucky_Number(dob)\" where dob is of format DDMMYYYY (e.g. 01021985)\n",
    "# This function should calculate sum of digits of dob brought down to single digit\n",
    "# 0+1+0+2+1+9+8+5 = 26  =>   2+6 = 8         return 8\n",
    "\n",
    "def Lucky_Number(dob):\n",
    "    s=0\n",
    "    while dob>0:\n",
    "        s+=dob%10\n",
    "        dob//=10\n",
    "    if s<=9:\n",
    "        return s\n",
    "    else:\n",
    "        return Lucky_Number(s)"
   ]
  },
  {
   "cell_type": "code",
   "execution_count": 218,
   "id": "45c3da32",
   "metadata": {
    "collapsed": true
   },
   "outputs": [
    {
     "name": "stdout",
     "output_type": "stream",
     "text": [
      "01021995\n"
     ]
    },
    {
     "data": {
      "text/plain": [
       "9"
      ]
     },
     "execution_count": 218,
     "metadata": {},
     "output_type": "execute_result"
    }
   ],
   "source": [
    "dob=int(input())\n",
    "Lucky_Number(dob)"
   ]
  },
  {
   "cell_type": "code",
   "execution_count": 219,
   "id": "92663466",
   "metadata": {},
   "outputs": [],
   "source": [
    "# A naughty boy has a hopping hop, he moves all over \n",
    "# places in a specific pattern.\n",
    "# He moves 1 step in first hop\n",
    "# He moves 2 step in second hop\n",
    "# He moves 3 step in third hop\n",
    "# He then repeats the pattern forever.\n",
    "\n",
    "# Given certain number of hops, and starting position\n",
    "# assumed as '0', find the position he will reach.\n",
    "# Write function for the same.\n",
    "\n",
    "def find_pos(n):\n",
    "    pos=0\n",
    "    pos+=(n//3)*6\n",
    "    rem=n%3\n",
    "    if rem==1:\n",
    "        pos+=1\n",
    "    elif rem==2:\n",
    "        pos+=3\n",
    "    else:\n",
    "        pass\n",
    "    return pos"
   ]
  },
  {
   "cell_type": "code",
   "execution_count": 227,
   "id": "11ac1d52",
   "metadata": {},
   "outputs": [
    {
     "data": {
      "text/plain": [
       "17280"
      ]
     },
     "execution_count": 227,
     "metadata": {},
     "output_type": "execute_result"
    }
   ],
   "source": [
    "find_pos(720*12)"
   ]
  },
  {
   "cell_type": "code",
   "execution_count": 6,
   "id": "f359c1a0",
   "metadata": {},
   "outputs": [],
   "source": [
    "def find_pos(n):\n",
    "    pos=0\n",
    "    pos+=(n//3)*6 + round((n%3)*1.4)\n",
    "    return pos"
   ]
  },
  {
   "cell_type": "code",
   "execution_count": 8,
   "id": "d3e6af24",
   "metadata": {},
   "outputs": [
    {
     "data": {
      "text/plain": [
       "99"
      ]
     },
     "execution_count": 8,
     "metadata": {},
     "output_type": "execute_result"
    }
   ],
   "source": [
    "find_pos(50)"
   ]
  },
  {
   "cell_type": "code",
   "execution_count": null,
   "id": "71495e6f",
   "metadata": {},
   "outputs": [],
   "source": []
  },
  {
   "cell_type": "code",
   "execution_count": 15,
   "id": "4e9651e9",
   "metadata": {},
   "outputs": [],
   "source": [
    "# Using function,\n",
    "# for a given position, determine whether it is reachable\n",
    "# using the pattern of naughty boy or not\n",
    "def check(pos):\n",
    "    if pos%3==0 or pos%6==1:\n",
    "        return True\n",
    "    else:\n",
    "        return False"
   ]
  },
  {
   "cell_type": "code",
   "execution_count": 16,
   "id": "67f870a9",
   "metadata": {},
   "outputs": [
    {
     "data": {
      "text/plain": [
       "True"
      ]
     },
     "execution_count": 16,
     "metadata": {},
     "output_type": "execute_result"
    }
   ],
   "source": [
    "check(99)"
   ]
  },
  {
   "cell_type": "markdown",
   "id": "9ce07792",
   "metadata": {},
   "source": [
    "#### Functions As First Class Objects in Python"
   ]
  },
  {
   "cell_type": "code",
   "execution_count": 17,
   "id": "697c343d",
   "metadata": {},
   "outputs": [],
   "source": [
    "def msg():\n",
    "    return 'hello'"
   ]
  },
  {
   "cell_type": "code",
   "execution_count": 18,
   "id": "5ea5672c",
   "metadata": {},
   "outputs": [],
   "source": [
    "# a function can be stored as object"
   ]
  },
  {
   "cell_type": "code",
   "execution_count": 19,
   "id": "89ba1d62",
   "metadata": {},
   "outputs": [],
   "source": [
    "x=msg"
   ]
  },
  {
   "cell_type": "code",
   "execution_count": 20,
   "id": "19dcf002",
   "metadata": {},
   "outputs": [
    {
     "name": "stdout",
     "output_type": "stream",
     "text": [
      "<function msg at 0x000001CE9A6A8D30>\n"
     ]
    }
   ],
   "source": [
    "print(x)"
   ]
  },
  {
   "cell_type": "code",
   "execution_count": 21,
   "id": "d2d31d32",
   "metadata": {},
   "outputs": [
    {
     "data": {
      "text/plain": [
       "'hello'"
      ]
     },
     "execution_count": 21,
     "metadata": {},
     "output_type": "execute_result"
    }
   ],
   "source": [
    "msg()"
   ]
  },
  {
   "cell_type": "code",
   "execution_count": 22,
   "id": "8eb1be7a",
   "metadata": {},
   "outputs": [
    {
     "data": {
      "text/plain": [
       "'hello'"
      ]
     },
     "execution_count": 22,
     "metadata": {},
     "output_type": "execute_result"
    }
   ],
   "source": [
    "x()"
   ]
  },
  {
   "cell_type": "code",
   "execution_count": 23,
   "id": "11c80dc0",
   "metadata": {},
   "outputs": [],
   "source": [
    "# function can be nested,\n",
    "# function can be passed as argument,\n",
    "# function can be returned from another function"
   ]
  },
  {
   "cell_type": "code",
   "execution_count": 43,
   "id": "36918a6e",
   "metadata": {},
   "outputs": [],
   "source": [
    "def outer(func):\n",
    "    def inner():\n",
    "        print(func())\n",
    "        return None\n",
    "    return inner"
   ]
  },
  {
   "cell_type": "code",
   "execution_count": 44,
   "id": "cdff69b7",
   "metadata": {},
   "outputs": [],
   "source": [
    "inner_reference=outer(msg)"
   ]
  },
  {
   "cell_type": "code",
   "execution_count": 45,
   "id": "6b3962a0",
   "metadata": {},
   "outputs": [
    {
     "name": "stdout",
     "output_type": "stream",
     "text": [
      "hello\n"
     ]
    }
   ],
   "source": [
    "inner_reference()"
   ]
  },
  {
   "cell_type": "code",
   "execution_count": 47,
   "id": "d5ca988b",
   "metadata": {},
   "outputs": [
    {
     "data": {
      "text/plain": [
       "'hello'"
      ]
     },
     "execution_count": 47,
     "metadata": {},
     "output_type": "execute_result"
    }
   ],
   "source": []
  },
  {
   "cell_type": "markdown",
   "id": "22393c1b",
   "metadata": {},
   "source": [
    "### Lambda Functions"
   ]
  },
  {
   "cell_type": "code",
   "execution_count": 48,
   "id": "9f3a0603",
   "metadata": {},
   "outputs": [],
   "source": [
    "# Inline Anonymous Function\n",
    "# Accepts any number of args\n",
    "# evaluates a single statement/expression\n",
    "# we use keyword lambda to define it"
   ]
  },
  {
   "cell_type": "code",
   "execution_count": 50,
   "id": "0a225dfc",
   "metadata": {},
   "outputs": [],
   "source": [
    "sqr= lambda x:x**2"
   ]
  },
  {
   "cell_type": "code",
   "execution_count": 51,
   "id": "19355ace",
   "metadata": {},
   "outputs": [
    {
     "data": {
      "text/plain": [
       "16"
      ]
     },
     "execution_count": 51,
     "metadata": {},
     "output_type": "execute_result"
    }
   ],
   "source": [
    "sqr(4)"
   ]
  },
  {
   "cell_type": "code",
   "execution_count": 52,
   "id": "ccf35b8e",
   "metadata": {},
   "outputs": [],
   "source": [
    "# power of lambda functions\n",
    "def power(y):\n",
    "    return lambda x : x**y"
   ]
  },
  {
   "cell_type": "code",
   "execution_count": 53,
   "id": "5bde58fa",
   "metadata": {},
   "outputs": [],
   "source": [
    "p2=power(2) # lambda x:x**2\n",
    "p3=power(3) # lambda x:x**3\n",
    "p4=power(4) # lambda x:x**4"
   ]
  },
  {
   "cell_type": "code",
   "execution_count": 55,
   "id": "e6546f7b",
   "metadata": {},
   "outputs": [
    {
     "data": {
      "text/plain": [
       "9"
      ]
     },
     "execution_count": 55,
     "metadata": {},
     "output_type": "execute_result"
    }
   ],
   "source": [
    "p2(3)"
   ]
  },
  {
   "cell_type": "code",
   "execution_count": 56,
   "id": "ba6a32a0",
   "metadata": {},
   "outputs": [
    {
     "data": {
      "text/plain": [
       "27"
      ]
     },
     "execution_count": 56,
     "metadata": {},
     "output_type": "execute_result"
    }
   ],
   "source": [
    "p3(3)"
   ]
  },
  {
   "cell_type": "code",
   "execution_count": 57,
   "id": "85873e34",
   "metadata": {},
   "outputs": [
    {
     "data": {
      "text/plain": [
       "81"
      ]
     },
     "execution_count": 57,
     "metadata": {},
     "output_type": "execute_result"
    }
   ],
   "source": [
    "p4(3)"
   ]
  },
  {
   "cell_type": "markdown",
   "id": "15fae971",
   "metadata": {},
   "source": [
    "#### Function as Generator"
   ]
  },
  {
   "cell_type": "code",
   "execution_count": 58,
   "id": "bb0747e2",
   "metadata": {},
   "outputs": [],
   "source": [
    "# generators are special type functions\n",
    "# instead of return it use \"yield\""
   ]
  },
  {
   "cell_type": "code",
   "execution_count": 59,
   "id": "17959f9b",
   "metadata": {},
   "outputs": [],
   "source": [
    "def getint(start, end):\n",
    "    for i in range(start, end):\n",
    "        yield i"
   ]
  },
  {
   "cell_type": "code",
   "execution_count": 60,
   "id": "760bf285",
   "metadata": {},
   "outputs": [],
   "source": [
    "seq=getint(20, 30)"
   ]
  },
  {
   "cell_type": "code",
   "execution_count": 73,
   "id": "0fb0298f",
   "metadata": {},
   "outputs": [
    {
     "ename": "StopIteration",
     "evalue": "",
     "output_type": "error",
     "traceback": [
      "\u001b[1;31m---------------------------------------------------------------------------\u001b[0m",
      "\u001b[1;31mStopIteration\u001b[0m                             Traceback (most recent call last)",
      "Input \u001b[1;32mIn [73]\u001b[0m, in \u001b[0;36m<cell line: 2>\u001b[1;34m()\u001b[0m\n\u001b[0;32m      1\u001b[0m \u001b[38;5;66;03m# next()\u001b[39;00m\n\u001b[1;32m----> 2\u001b[0m \u001b[38;5;28;43mnext\u001b[39;49m\u001b[43m(\u001b[49m\u001b[43mseq\u001b[49m\u001b[43m)\u001b[49m\n",
      "\u001b[1;31mStopIteration\u001b[0m: "
     ]
    }
   ],
   "source": [
    "# next()\n",
    "next(seq)"
   ]
  },
  {
   "cell_type": "code",
   "execution_count": 75,
   "id": "f99c4c5c",
   "metadata": {},
   "outputs": [],
   "source": [
    "# Create a lambda function implementation that\n",
    "# calculates number of words in a given sentence\n",
    "scount=lambda s:s.count(' ')+1"
   ]
  },
  {
   "cell_type": "code",
   "execution_count": 76,
   "id": "5aee6564",
   "metadata": {},
   "outputs": [
    {
     "data": {
      "text/plain": [
       "5"
      ]
     },
     "execution_count": 76,
     "metadata": {},
     "output_type": "execute_result"
    }
   ],
   "source": [
    "scount('hello how are you today')"
   ]
  },
  {
   "cell_type": "code",
   "execution_count": 77,
   "id": "2f08ad4f",
   "metadata": {},
   "outputs": [
    {
     "data": {
      "text/plain": [
       "5"
      ]
     },
     "execution_count": 77,
     "metadata": {},
     "output_type": "execute_result"
    }
   ],
   "source": [
    "scount=lambda s:len(s.split())\n",
    "scount('hello how are you today')"
   ]
  },
  {
   "cell_type": "code",
   "execution_count": 78,
   "id": "324c00cb",
   "metadata": {},
   "outputs": [
    {
     "data": {
      "text/plain": [
       "['hello', 'how', 'are', 'you', 'today']"
      ]
     },
     "execution_count": 78,
     "metadata": {},
     "output_type": "execute_result"
    }
   ],
   "source": [
    "'hello how are you  today'.split()"
   ]
  },
  {
   "cell_type": "code",
   "execution_count": 81,
   "id": "08ba46bf",
   "metadata": {},
   "outputs": [
    {
     "data": {
      "text/plain": [
       "57.5"
      ]
     },
     "execution_count": 81,
     "metadata": {},
     "output_type": "execute_result"
    }
   ],
   "source": [
    "get_percent=lambda marks, mx_marks:round(marks/mx_marks*100, 2)\n",
    "get_percent(345, 600)"
   ]
  },
  {
   "cell_type": "markdown",
   "id": "e6727a5d",
   "metadata": {},
   "source": []
  }
 ],
 "metadata": {
  "kernelspec": {
   "display_name": "Python 3 (ipykernel)",
   "language": "python",
   "name": "python3"
  },
  "language_info": {
   "codemirror_mode": {
    "name": "ipython",
    "version": 3
   },
   "file_extension": ".py",
   "mimetype": "text/x-python",
   "name": "python",
   "nbconvert_exporter": "python",
   "pygments_lexer": "ipython3",
   "version": "3.9.12"
  }
 },
 "nbformat": 4,
 "nbformat_minor": 5
}
