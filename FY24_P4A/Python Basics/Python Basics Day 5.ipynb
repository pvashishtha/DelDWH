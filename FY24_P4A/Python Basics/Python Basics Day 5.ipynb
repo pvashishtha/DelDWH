{
 "cells": [
  {
   "cell_type": "markdown",
   "id": "572b56da",
   "metadata": {},
   "source": [
    "## Python Basics Day 5"
   ]
  },
  {
   "cell_type": "markdown",
   "id": "d960b56e",
   "metadata": {},
   "source": [
    "### Serialization of Data"
   ]
  },
  {
   "cell_type": "code",
   "execution_count": 1,
   "id": "78221060",
   "metadata": {},
   "outputs": [],
   "source": [
    "# serialization- converting the programming objects into a binary form."
   ]
  },
  {
   "cell_type": "code",
   "execution_count": 2,
   "id": "e1a970c5",
   "metadata": {},
   "outputs": [],
   "source": [
    "a=100\n",
    "b=3.14\n",
    "c='hello'\n",
    "li=[10,20,30,40,50]\n",
    "t=('a','b','c')\n",
    "d={'A':100, 'B':200, 'C':300}"
   ]
  },
  {
   "cell_type": "code",
   "execution_count": 4,
   "id": "cda72006",
   "metadata": {},
   "outputs": [],
   "source": [
    "people={'Name':'Prateek', 'Department':'DTA','Location':'Bengaluru','DOJ':'11-07-2022'}"
   ]
  },
  {
   "cell_type": "code",
   "execution_count": 5,
   "id": "f2ce2fb4",
   "metadata": {},
   "outputs": [],
   "source": [
    "import pickle"
   ]
  },
  {
   "cell_type": "code",
   "execution_count": 6,
   "id": "97d272af",
   "metadata": {},
   "outputs": [],
   "source": [
    "data=[a,b,c,li,t,d,people]"
   ]
  },
  {
   "cell_type": "code",
   "execution_count": 7,
   "id": "01c090c7",
   "metadata": {},
   "outputs": [
    {
     "data": {
      "text/plain": [
       "[100,\n",
       " 3.14,\n",
       " 'hello',\n",
       " [10, 20, 30, 40, 50],\n",
       " ('a', 'b', 'c'),\n",
       " {'A': 100, 'B': 200, 'C': 300},\n",
       " {'Name': 'Prateek',\n",
       "  'Department': 'DTA',\n",
       "  'Location': 'Bengaluru',\n",
       "  'DOJ': '11-07-2022'}]"
      ]
     },
     "execution_count": 7,
     "metadata": {},
     "output_type": "execute_result"
    }
   ],
   "source": [
    "data"
   ]
  },
  {
   "cell_type": "code",
   "execution_count": 8,
   "id": "dda8147c",
   "metadata": {},
   "outputs": [],
   "source": [
    "# dump(data_object, binary_file_stream )"
   ]
  },
  {
   "cell_type": "code",
   "execution_count": 9,
   "id": "22c0d1b2",
   "metadata": {},
   "outputs": [],
   "source": [
    "file=open('mydata.pv', 'wb')"
   ]
  },
  {
   "cell_type": "code",
   "execution_count": 10,
   "id": "6587a885",
   "metadata": {},
   "outputs": [],
   "source": [
    "pickle.dump(data, file)\n",
    "file.close()"
   ]
  },
  {
   "cell_type": "code",
   "execution_count": 12,
   "id": "f62954d2",
   "metadata": {},
   "outputs": [],
   "source": [
    "# de-serialization- converting back to python objects"
   ]
  },
  {
   "cell_type": "code",
   "execution_count": 13,
   "id": "8f676b1d",
   "metadata": {},
   "outputs": [],
   "source": [
    "# load(file)- return python data object"
   ]
  },
  {
   "cell_type": "code",
   "execution_count": 14,
   "id": "7f94c810",
   "metadata": {},
   "outputs": [],
   "source": [
    "file=open('mydata.pv','rb')\n",
    "data_recover=pickle.load(file)"
   ]
  },
  {
   "cell_type": "code",
   "execution_count": 15,
   "id": "56e4e0a9",
   "metadata": {},
   "outputs": [],
   "source": [
    "file.close()"
   ]
  },
  {
   "cell_type": "code",
   "execution_count": 16,
   "id": "b9fca6f7",
   "metadata": {},
   "outputs": [
    {
     "data": {
      "text/plain": [
       "[100,\n",
       " 3.14,\n",
       " 'hello',\n",
       " [10, 20, 30, 40, 50],\n",
       " ('a', 'b', 'c'),\n",
       " {'A': 100, 'B': 200, 'C': 300},\n",
       " {'Name': 'Prateek',\n",
       "  'Department': 'DTA',\n",
       "  'Location': 'Bengaluru',\n",
       "  'DOJ': '11-07-2022'}]"
      ]
     },
     "execution_count": 16,
     "metadata": {},
     "output_type": "execute_result"
    }
   ],
   "source": [
    "data_recover"
   ]
  },
  {
   "cell_type": "code",
   "execution_count": 18,
   "id": "48257f65",
   "metadata": {},
   "outputs": [
    {
     "data": {
      "text/plain": [
       "{'Name': 'Prateek',\n",
       " 'Department': 'DTA',\n",
       " 'Location': 'Bengaluru',\n",
       " 'DOJ': '11-07-2022'}"
      ]
     },
     "execution_count": 18,
     "metadata": {},
     "output_type": "execute_result"
    }
   ],
   "source": [
    "data_recover[-1]"
   ]
  },
  {
   "cell_type": "markdown",
   "id": "5c425b36",
   "metadata": {},
   "source": [
    "### Exception Handling"
   ]
  },
  {
   "cell_type": "code",
   "execution_count": 19,
   "id": "e87439ee",
   "metadata": {},
   "outputs": [],
   "source": [
    "# Error- Syntax, Semantic, Logical\n",
    "# Errors that occurs at runtime\n",
    "# Errors that occur at compile time"
   ]
  },
  {
   "cell_type": "code",
   "execution_count": 20,
   "id": "a3441e9c",
   "metadata": {},
   "outputs": [],
   "source": [
    "# Errors that occur at runtime - lead to abnormal termination of the program\n",
    "# EXCEPTIONS"
   ]
  },
  {
   "cell_type": "code",
   "execution_count": 22,
   "id": "1b4d86d7",
   "metadata": {},
   "outputs": [],
   "source": [
    "file=open('mydata.pv','rb')"
   ]
  },
  {
   "cell_type": "code",
   "execution_count": 23,
   "id": "3360354a",
   "metadata": {},
   "outputs": [
    {
     "ename": "UnsupportedOperation",
     "evalue": "write",
     "output_type": "error",
     "traceback": [
      "\u001b[1;31m---------------------------------------------------------------------------\u001b[0m",
      "\u001b[1;31mUnsupportedOperation\u001b[0m                      Traceback (most recent call last)",
      "Input \u001b[1;32mIn [23]\u001b[0m, in \u001b[0;36m<cell line: 1>\u001b[1;34m()\u001b[0m\n\u001b[1;32m----> 1\u001b[0m \u001b[43mfile\u001b[49m\u001b[38;5;241;43m.\u001b[39;49m\u001b[43mwrite\u001b[49m\u001b[43m(\u001b[49m\u001b[38;5;124;43mb\u001b[39;49m\u001b[38;5;124;43m'\u001b[39;49m\u001b[38;5;124;43mhello\u001b[39;49m\u001b[38;5;124;43m'\u001b[39;49m\u001b[43m)\u001b[49m\n",
      "\u001b[1;31mUnsupportedOperation\u001b[0m: write"
     ]
    }
   ],
   "source": [
    "file.write(b'hello')"
   ]
  },
  {
   "cell_type": "code",
   "execution_count": 24,
   "id": "da9713a6",
   "metadata": {},
   "outputs": [
    {
     "data": {
      "text/plain": [
       "5.0"
      ]
     },
     "execution_count": 24,
     "metadata": {},
     "output_type": "execute_result"
    }
   ],
   "source": [
    "x=100\n",
    "y=20\n",
    "x/y"
   ]
  },
  {
   "cell_type": "code",
   "execution_count": 25,
   "id": "09a06c5e",
   "metadata": {},
   "outputs": [
    {
     "ename": "ZeroDivisionError",
     "evalue": "division by zero",
     "output_type": "error",
     "traceback": [
      "\u001b[1;31m---------------------------------------------------------------------------\u001b[0m",
      "\u001b[1;31mZeroDivisionError\u001b[0m                         Traceback (most recent call last)",
      "Input \u001b[1;32mIn [25]\u001b[0m, in \u001b[0;36m<cell line: 2>\u001b[1;34m()\u001b[0m\n\u001b[0;32m      1\u001b[0m y\u001b[38;5;241m=\u001b[39my\u001b[38;5;241m-\u001b[39m\u001b[38;5;241m20\u001b[39m\n\u001b[1;32m----> 2\u001b[0m \u001b[43mx\u001b[49m\u001b[38;5;241;43m/\u001b[39;49m\u001b[43my\u001b[49m\n",
      "\u001b[1;31mZeroDivisionError\u001b[0m: division by zero"
     ]
    }
   ],
   "source": [
    "y=y-20\n",
    "x/y"
   ]
  },
  {
   "cell_type": "code",
   "execution_count": 26,
   "id": "ba745528",
   "metadata": {},
   "outputs": [
    {
     "ename": "IndexError",
     "evalue": "list index out of range",
     "output_type": "error",
     "traceback": [
      "\u001b[1;31m---------------------------------------------------------------------------\u001b[0m",
      "\u001b[1;31mIndexError\u001b[0m                                Traceback (most recent call last)",
      "Input \u001b[1;32mIn [26]\u001b[0m, in \u001b[0;36m<cell line: 2>\u001b[1;34m()\u001b[0m\n\u001b[0;32m      1\u001b[0m li\u001b[38;5;241m=\u001b[39m[\u001b[38;5;241m1\u001b[39m,\u001b[38;5;241m2\u001b[39m,\u001b[38;5;241m3\u001b[39m]\n\u001b[1;32m----> 2\u001b[0m \u001b[38;5;28mprint\u001b[39m(\u001b[43mli\u001b[49m\u001b[43m[\u001b[49m\u001b[38;5;241;43m4\u001b[39;49m\u001b[43m]\u001b[49m)\n",
      "\u001b[1;31mIndexError\u001b[0m: list index out of range"
     ]
    }
   ],
   "source": [
    "li=[1,2,3]\n",
    "print(li[4])"
   ]
  },
  {
   "cell_type": "code",
   "execution_count": 27,
   "id": "b32b8917",
   "metadata": {},
   "outputs": [
    {
     "ename": "KeyError",
     "evalue": "3",
     "output_type": "error",
     "traceback": [
      "\u001b[1;31m---------------------------------------------------------------------------\u001b[0m",
      "\u001b[1;31mKeyError\u001b[0m                                  Traceback (most recent call last)",
      "Input \u001b[1;32mIn [27]\u001b[0m, in \u001b[0;36m<cell line: 2>\u001b[1;34m()\u001b[0m\n\u001b[0;32m      1\u001b[0m d\u001b[38;5;241m=\u001b[39m{\u001b[38;5;241m1\u001b[39m:\u001b[38;5;241m10\u001b[39m, \u001b[38;5;241m2\u001b[39m:\u001b[38;5;241m20\u001b[39m}\n\u001b[1;32m----> 2\u001b[0m \u001b[38;5;28mprint\u001b[39m(\u001b[43md\u001b[49m\u001b[43m[\u001b[49m\u001b[38;5;241;43m3\u001b[39;49m\u001b[43m]\u001b[49m)\n",
      "\u001b[1;31mKeyError\u001b[0m: 3"
     ]
    }
   ],
   "source": [
    "d={1:10, 2:20}\n",
    "print(d[3])"
   ]
  },
  {
   "cell_type": "code",
   "execution_count": 29,
   "id": "2dbd41dd",
   "metadata": {},
   "outputs": [
    {
     "ename": "TypeError",
     "evalue": "unsupported operand type(s) for -: 'str' and 'int'",
     "output_type": "error",
     "traceback": [
      "\u001b[1;31m---------------------------------------------------------------------------\u001b[0m",
      "\u001b[1;31mTypeError\u001b[0m                                 Traceback (most recent call last)",
      "Input \u001b[1;32mIn [29]\u001b[0m, in \u001b[0;36m<cell line: 2>\u001b[1;34m()\u001b[0m\n\u001b[0;32m      1\u001b[0m s\u001b[38;5;241m=\u001b[39m\u001b[38;5;124m'\u001b[39m\u001b[38;5;124mhi\u001b[39m\u001b[38;5;124m'\u001b[39m\n\u001b[1;32m----> 2\u001b[0m \u001b[43ms\u001b[49m\u001b[38;5;241;43m-\u001b[39;49m\u001b[38;5;241;43m10\u001b[39;49m\n",
      "\u001b[1;31mTypeError\u001b[0m: unsupported operand type(s) for -: 'str' and 'int'"
     ]
    }
   ],
   "source": [
    "s='hi'\n",
    "s-10"
   ]
  },
  {
   "cell_type": "code",
   "execution_count": 30,
   "id": "821a89e3",
   "metadata": {},
   "outputs": [],
   "source": [
    "# try - except"
   ]
  },
  {
   "cell_type": "code",
   "execution_count": 31,
   "id": "10651de9",
   "metadata": {},
   "outputs": [],
   "source": [
    "try:\n",
    "    # writing code where i expect exception\n",
    "    pass\n",
    "except:\n",
    "    # write remedial code # executed only if exception occur\n",
    "    pass"
   ]
  },
  {
   "cell_type": "code",
   "execution_count": 38,
   "id": "925a5b6a",
   "metadata": {},
   "outputs": [
    {
     "name": "stdout",
     "output_type": "stream",
     "text": [
      "10.0 11.11111111111111 12.5 14.285714285714286 16.666666666666668 20.0 25.0 33.333333333333336 50.0 100.0 You encountered an error!\n",
      "End of program...\n"
     ]
    }
   ],
   "source": [
    "x=100\n",
    "y=10\n",
    "try:\n",
    "    for i in range(y+1):\n",
    "        print(x/y, end=' ')\n",
    "        y-=1\n",
    "except:\n",
    "    print('You encountered an error!')\n",
    "    \n",
    "print('End of program...')"
   ]
  },
  {
   "cell_type": "code",
   "execution_count": 40,
   "id": "ac677ce4",
   "metadata": {},
   "outputs": [
    {
     "name": "stdout",
     "output_type": "stream",
     "text": [
      "File Error!\n"
     ]
    }
   ],
   "source": [
    "try:\n",
    "    file=open('myfile999.txt','r')\n",
    "    print(file.read())\n",
    "except:\n",
    "    print('File Error!')"
   ]
  },
  {
   "cell_type": "code",
   "execution_count": 41,
   "id": "07469e82",
   "metadata": {},
   "outputs": [],
   "source": [
    "# FileNotFoundError\n",
    "# TypeError\n",
    "# KeyError\n",
    "# PermissionError\n",
    "# ZeroDivisionError\n",
    "# IndexError"
   ]
  },
  {
   "cell_type": "code",
   "execution_count": 42,
   "id": "9662fbd2",
   "metadata": {},
   "outputs": [],
   "source": [
    "# Named Errors"
   ]
  },
  {
   "cell_type": "code",
   "execution_count": 51,
   "id": "3db68ce1",
   "metadata": {},
   "outputs": [
    {
     "name": "stdout",
     "output_type": "stream",
     "text": [
      "1 2 3 4 5 Some Error has Occured\n"
     ]
    }
   ],
   "source": [
    "try:\n",
    "    x=100\n",
    "    y=10\n",
    "    z=x//y # zero division\n",
    "    li=[1,2,3,4,5]\n",
    "    for i in range(len(li)):\n",
    "        print(li[i], end=' ')\n",
    "    file=open('myfile.txt')\n",
    "    file.write('hi')\n",
    "except ZeroDivisionError:\n",
    "    print('Y can not be Zero!')\n",
    "except IndexError:\n",
    "    print('Index out of range.')\n",
    "except FileNotFoundError:\n",
    "    print('File not found.')\n",
    "except:\n",
    "    print('Some Error has Occured')"
   ]
  },
  {
   "cell_type": "code",
   "execution_count": 52,
   "id": "7b4486be",
   "metadata": {},
   "outputs": [],
   "source": [
    "# Try-Except-Else"
   ]
  },
  {
   "cell_type": "code",
   "execution_count": 54,
   "id": "f05193a5",
   "metadata": {},
   "outputs": [
    {
     "name": "stdout",
     "output_type": "stream",
     "text": [
      "1 2 3 4 5 Else Block\n",
      "Program End!\n"
     ]
    }
   ],
   "source": [
    "try:\n",
    "    x=100\n",
    "    y=10\n",
    "    z=x//y # zero division\n",
    "    li=[1,2,3,4,5]\n",
    "    for i in range(len(li)):\n",
    "        print(li[i], end=' ')\n",
    "    file=open('myfile.txt')\n",
    "    #file.write('hi')\n",
    "except ZeroDivisionError:\n",
    "    print('Y can not be Zero!')\n",
    "except IndexError:\n",
    "    print('Index out of range.')\n",
    "except FileNotFoundError:\n",
    "    print('File not found.')\n",
    "except:\n",
    "    print('Some Error has Occured')\n",
    "else:\n",
    "    print('Else Block')\n",
    "print('Program End!')"
   ]
  },
  {
   "cell_type": "code",
   "execution_count": 57,
   "id": "99777161",
   "metadata": {},
   "outputs": [
    {
     "name": "stdout",
     "output_type": "stream",
     "text": [
      "Read Error.\n",
      "Done.\n"
     ]
    }
   ],
   "source": [
    "# Case 1: Error in reading\n",
    "try:\n",
    "    file=open('myfile999.txt')\n",
    "    print(file.read())\n",
    "except:\n",
    "    print('Read Error.')\n",
    "else:\n",
    "    print('Read Success!!!')\n",
    "print('Done.')"
   ]
  },
  {
   "cell_type": "code",
   "execution_count": 59,
   "id": "5b7d7ce0",
   "metadata": {},
   "outputs": [
    {
     "name": "stdout",
     "output_type": "stream",
     "text": [
      "Read Success!!!\n",
      "Done.\n"
     ]
    }
   ],
   "source": [
    "# case 2: no error in reading\n",
    "try:\n",
    "    file=open('myfile.txt')\n",
    "    data=file.read()\n",
    "except:\n",
    "    print('Read Error.')\n",
    "else:\n",
    "    print('Read Success!!!')\n",
    "print('Done.')"
   ]
  },
  {
   "cell_type": "code",
   "execution_count": null,
   "id": "5812d51e",
   "metadata": {},
   "outputs": [],
   "source": [
    "# Try-Except-Else-Finally"
   ]
  },
  {
   "cell_type": "code",
   "execution_count": null,
   "id": "003df18b",
   "metadata": {},
   "outputs": [],
   "source": [
    "try:\n",
    "    pass\n",
    "except:\n",
    "    pass\n",
    "else:\n",
    "    pass\n",
    "finally: # always required actions\n",
    "    pass\n",
    "print('Done.')"
   ]
  },
  {
   "cell_type": "code",
   "execution_count": 61,
   "id": "9042fdeb",
   "metadata": {},
   "outputs": [
    {
     "name": "stdout",
     "output_type": "stream",
     "text": [
      "Success\n",
      "Finally file closed\n",
      "Done.\n"
     ]
    }
   ],
   "source": [
    "try:\n",
    "    file=open('myfile.txt', 'w')\n",
    "    file.write('hi')\n",
    "except:\n",
    "    print('Error')\n",
    "else:\n",
    "    print('Success')\n",
    "finally: \n",
    "    file.close()\n",
    "    print('Finally file closed')\n",
    "print('Done.')"
   ]
  },
  {
   "cell_type": "code",
   "execution_count": 62,
   "id": "56df89f4",
   "metadata": {},
   "outputs": [],
   "source": [
    "# Exception Arguments"
   ]
  },
  {
   "cell_type": "code",
   "execution_count": 63,
   "id": "8824cd3f",
   "metadata": {},
   "outputs": [
    {
     "name": "stdout",
     "output_type": "stream",
     "text": [
      "Y can not be zero.\n",
      "division by zero\n"
     ]
    }
   ],
   "source": [
    "try:\n",
    "    x=100\n",
    "    y=0\n",
    "    x/y\n",
    "except ZeroDivisionError as e:\n",
    "    print('Y can not be zero.')\n",
    "    print(e)"
   ]
  },
  {
   "cell_type": "code",
   "execution_count": 64,
   "id": "3d441bf5",
   "metadata": {},
   "outputs": [
    {
     "ename": "ZeroDivisionError",
     "evalue": "division by zero",
     "output_type": "error",
     "traceback": [
      "\u001b[1;31m---------------------------------------------------------------------------\u001b[0m",
      "\u001b[1;31mZeroDivisionError\u001b[0m                         Traceback (most recent call last)",
      "Input \u001b[1;32mIn [64]\u001b[0m, in \u001b[0;36m<cell line: 3>\u001b[1;34m()\u001b[0m\n\u001b[0;32m      1\u001b[0m x\u001b[38;5;241m=\u001b[39m\u001b[38;5;241m100\u001b[39m\n\u001b[0;32m      2\u001b[0m y\u001b[38;5;241m=\u001b[39m\u001b[38;5;241m0\u001b[39m\n\u001b[1;32m----> 3\u001b[0m \u001b[43mx\u001b[49m\u001b[38;5;241;43m/\u001b[39;49m\u001b[43my\u001b[49m\n",
      "\u001b[1;31mZeroDivisionError\u001b[0m: division by zero"
     ]
    }
   ],
   "source": [
    "x=100\n",
    "y=0\n",
    "x/y"
   ]
  },
  {
   "cell_type": "code",
   "execution_count": 66,
   "id": "b644d107",
   "metadata": {},
   "outputs": [
    {
     "name": "stdout",
     "output_type": "stream",
     "text": [
      "name 'x100' is not defined\n"
     ]
    }
   ],
   "source": [
    "try:\n",
    "    x1=100\n",
    "    print(x100)\n",
    "except NameError as e:\n",
    "    print(e)"
   ]
  },
  {
   "cell_type": "code",
   "execution_count": 67,
   "id": "904b0e8c",
   "metadata": {},
   "outputs": [
    {
     "ename": "NameError",
     "evalue": "name 'x100' is not defined",
     "output_type": "error",
     "traceback": [
      "\u001b[1;31m---------------------------------------------------------------------------\u001b[0m",
      "\u001b[1;31mNameError\u001b[0m                                 Traceback (most recent call last)",
      "Input \u001b[1;32mIn [67]\u001b[0m, in \u001b[0;36m<cell line: 2>\u001b[1;34m()\u001b[0m\n\u001b[0;32m      1\u001b[0m x1\u001b[38;5;241m=\u001b[39m\u001b[38;5;241m100\u001b[39m\n\u001b[1;32m----> 2\u001b[0m \u001b[38;5;28mprint\u001b[39m(\u001b[43mx100\u001b[49m)\n",
      "\u001b[1;31mNameError\u001b[0m: name 'x100' is not defined"
     ]
    }
   ],
   "source": [
    "x1=100\n",
    "print(x100)"
   ]
  },
  {
   "cell_type": "code",
   "execution_count": 68,
   "id": "c8df102f",
   "metadata": {},
   "outputs": [],
   "source": [
    "# Consolidated Exceptions"
   ]
  },
  {
   "cell_type": "code",
   "execution_count": 73,
   "id": "7871c596",
   "metadata": {},
   "outputs": [
    {
     "name": "stdout",
     "output_type": "stream",
     "text": [
      "type other error\n"
     ]
    }
   ],
   "source": [
    "try:\n",
    "    x=10\n",
    "    y=10\n",
    "    x/y\n",
    "    file=open('myfile.txt')\n",
    "    li=[1,2,3]\n",
    "    print(lists[3])\n",
    "except (ZeroDivisionError, FileNotFoundError):\n",
    "    print('type 1 error')\n",
    "except IndexError:\n",
    "    print('type 2 error')\n",
    "except:\n",
    "    print('type other error')"
   ]
  },
  {
   "cell_type": "code",
   "execution_count": 78,
   "id": "0fca1805",
   "metadata": {},
   "outputs": [
    {
     "name": "stdout",
     "output_type": "stream",
     "text": [
      "File is open in readonly mode\n",
      "File written in Except\n",
      "File is closed\n"
     ]
    }
   ],
   "source": [
    "try:\n",
    "    file=open('myfile.txt')\n",
    "    file.write('Written in TRY')\n",
    "except:\n",
    "    print('File is open in readonly mode')\n",
    "    file=open('myfile.txt','w')\n",
    "    file.write('Done Writing!')\n",
    "    print('File written in Except')\n",
    "else:\n",
    "    print('Hurray! File is edited.')\n",
    "finally:\n",
    "    file.close()\n",
    "    print(\"File is closed\")"
   ]
  },
  {
   "cell_type": "code",
   "execution_count": 79,
   "id": "4be378bc",
   "metadata": {},
   "outputs": [],
   "source": [
    "# User Defined Exception"
   ]
  },
  {
   "cell_type": "code",
   "execution_count": 86,
   "id": "7cb92572",
   "metadata": {},
   "outputs": [],
   "source": [
    "class DeloitteCustomError(Exception):\n",
    "    def __init__(self, msg):\n",
    "        self.msg=msg\n",
    "        return None\n",
    "    def __repr__(self):\n",
    "        print(self.msg)"
   ]
  },
  {
   "cell_type": "code",
   "execution_count": 89,
   "id": "5413007d",
   "metadata": {},
   "outputs": [
    {
     "name": "stdout",
     "output_type": "stream",
     "text": [
      "Enter text for file: \n",
      "Error:  Text can not be null...\n"
     ]
    }
   ],
   "source": [
    "try:\n",
    "    file=open('myfile.txt','w')\n",
    "    text=input('Enter text for file: ')\n",
    "    if text=='':\n",
    "        raise DeloitteCustomError('Text can not be null...')\n",
    "    file.write(text)\n",
    "    file.close()\n",
    "except DeloitteCustomError as e:\n",
    "    print('Error: ',e)\n",
    "    #raise\n",
    "except:\n",
    "    print('Some Error')"
   ]
  },
  {
   "cell_type": "markdown",
   "id": "5152efb5",
   "metadata": {},
   "source": [
    "#### Variable length arguments in functions"
   ]
  },
  {
   "cell_type": "code",
   "execution_count": 92,
   "id": "ab5fd01b",
   "metadata": {},
   "outputs": [
    {
     "ename": "TypeError",
     "evalue": "findsum() takes 2 positional arguments but 3 were given",
     "output_type": "error",
     "traceback": [
      "\u001b[1;31m---------------------------------------------------------------------------\u001b[0m",
      "\u001b[1;31mTypeError\u001b[0m                                 Traceback (most recent call last)",
      "Input \u001b[1;32mIn [92]\u001b[0m, in \u001b[0;36m<cell line: 3>\u001b[1;34m()\u001b[0m\n\u001b[0;32m      1\u001b[0m \u001b[38;5;28;01mdef\u001b[39;00m \u001b[38;5;21mfindsum\u001b[39m(x,y):\n\u001b[0;32m      2\u001b[0m     \u001b[38;5;28;01mreturn\u001b[39;00m x\u001b[38;5;241m+\u001b[39my\n\u001b[1;32m----> 3\u001b[0m \u001b[43mfindsum\u001b[49m\u001b[43m(\u001b[49m\u001b[38;5;241;43m2\u001b[39;49m\u001b[43m,\u001b[49m\u001b[38;5;241;43m3\u001b[39;49m\u001b[43m,\u001b[49m\u001b[38;5;241;43m4\u001b[39;49m\u001b[43m)\u001b[49m\n",
      "\u001b[1;31mTypeError\u001b[0m: findsum() takes 2 positional arguments but 3 were given"
     ]
    }
   ],
   "source": [
    "def findsum(x,y):\n",
    "    return x+y\n",
    "findsum(2,3,4)"
   ]
  },
  {
   "cell_type": "code",
   "execution_count": 97,
   "id": "99baa57d",
   "metadata": {},
   "outputs": [],
   "source": [
    "def findsum(*args):\n",
    "    print(type(args))\n",
    "    return sum(args)"
   ]
  },
  {
   "cell_type": "code",
   "execution_count": 98,
   "id": "129b0f61",
   "metadata": {},
   "outputs": [
    {
     "name": "stdout",
     "output_type": "stream",
     "text": [
      "<class 'tuple'>\n"
     ]
    },
    {
     "data": {
      "text/plain": [
       "27"
      ]
     },
     "execution_count": 98,
     "metadata": {},
     "output_type": "execute_result"
    }
   ],
   "source": [
    "findsum(2,3,4,5,6,7)"
   ]
  },
  {
   "cell_type": "code",
   "execution_count": 101,
   "id": "ad4a19ce",
   "metadata": {},
   "outputs": [],
   "source": [
    "def getsqr(*n):\n",
    "    for num in n:\n",
    "        print(f'Square of {num} is {num**2}')"
   ]
  },
  {
   "cell_type": "code",
   "execution_count": 103,
   "id": "bfc6cad5",
   "metadata": {},
   "outputs": [
    {
     "name": "stdout",
     "output_type": "stream",
     "text": [
      "Square of 3 is 9\n",
      "Square of 4 is 16\n",
      "Square of 5 is 25\n"
     ]
    }
   ],
   "source": [
    "getsqr(3,4,5)"
   ]
  },
  {
   "cell_type": "code",
   "execution_count": 104,
   "id": "0cab00dd",
   "metadata": {},
   "outputs": [],
   "source": [
    "def change_to_upper(*names):\n",
    "    for name in names:\n",
    "        print(name.upper())"
   ]
  },
  {
   "cell_type": "code",
   "execution_count": 106,
   "id": "9598968e",
   "metadata": {},
   "outputs": [
    {
     "name": "stdout",
     "output_type": "stream",
     "text": [
      "PRATEEK\n",
      "ADITI\n",
      "ARUN\n"
     ]
    }
   ],
   "source": [
    "change_to_upper('prateek','aditi','arun')"
   ]
  },
  {
   "cell_type": "code",
   "execution_count": 115,
   "id": "d7dbb174",
   "metadata": {},
   "outputs": [],
   "source": [
    "def getdata(*names, **kwargs):\n",
    "    for name in names:\n",
    "        print(name.upper())\n",
    "    for key in kwargs.keys():\n",
    "        print(f'{key}:{kwargs[key]}')"
   ]
  },
  {
   "cell_type": "code",
   "execution_count": 117,
   "id": "21741b04",
   "metadata": {},
   "outputs": [
    {
     "name": "stdout",
     "output_type": "stream",
     "text": [
      "PRATEEK\n",
      "ADITI\n",
      "RAJAT\n",
      "HARSHIT\n",
      "people:4\n",
      "level:AM/SM\n"
     ]
    }
   ],
   "source": [
    "getdata('prateek', 'aditi', 'rajat','harshit', people=4, level='AM/SM')"
   ]
  },
  {
   "cell_type": "code",
   "execution_count": null,
   "id": "6ad65409",
   "metadata": {},
   "outputs": [],
   "source": []
  },
  {
   "cell_type": "markdown",
   "id": "8bf56d0f",
   "metadata": {},
   "source": [
    "#### In Built-Functionalities"
   ]
  },
  {
   "cell_type": "code",
   "execution_count": 118,
   "id": "83a7bc2f",
   "metadata": {},
   "outputs": [],
   "source": [
    "# filter(function, iterable)"
   ]
  },
  {
   "cell_type": "code",
   "execution_count": 119,
   "id": "e03e5dbd",
   "metadata": {},
   "outputs": [],
   "source": [
    "def geteven(n):\n",
    "    return n%2==0"
   ]
  },
  {
   "cell_type": "code",
   "execution_count": 122,
   "id": "07416fc5",
   "metadata": {},
   "outputs": [
    {
     "data": {
      "text/plain": [
       "True"
      ]
     },
     "execution_count": 122,
     "metadata": {},
     "output_type": "execute_result"
    }
   ],
   "source": [
    "geteven(6)"
   ]
  },
  {
   "cell_type": "code",
   "execution_count": 125,
   "id": "39526947",
   "metadata": {},
   "outputs": [
    {
     "data": {
      "text/plain": [
       "[2, 4, 6, 2, 8, 90, 18, 14]"
      ]
     },
     "execution_count": 125,
     "metadata": {},
     "output_type": "execute_result"
    }
   ],
   "source": [
    "li=(1,3,2,4,5,6,5,3,2,7,8,9,90,18,45,33,14)\n",
    "list(filter(geteven, li))"
   ]
  },
  {
   "cell_type": "code",
   "execution_count": 126,
   "id": "9f8d1131",
   "metadata": {},
   "outputs": [
    {
     "data": {
      "text/plain": [
       "[2, 4, 6, 2, 8, 90, 18, 14]"
      ]
     },
     "execution_count": 126,
     "metadata": {},
     "output_type": "execute_result"
    }
   ],
   "source": [
    "# filter with lambda\n",
    "li=(1,3,2,4,5,6,5,3,2,7,8,9,90,18,45,33,14)\n",
    "\n",
    "list(filter(lambda x:x%2==0, li))"
   ]
  },
  {
   "cell_type": "code",
   "execution_count": 131,
   "id": "71b56514",
   "metadata": {},
   "outputs": [
    {
     "data": {
      "text/plain": [
       "['A', 'E', 'I', 'O', 'U']"
      ]
     },
     "execution_count": 131,
     "metadata": {},
     "output_type": "execute_result"
    }
   ],
   "source": [
    "li=[chr(x) for x in range(65,91)]\n",
    "list(filter(lambda char:char.lower() in 'aeiou', li))"
   ]
  },
  {
   "cell_type": "code",
   "execution_count": 132,
   "id": "23f23d93",
   "metadata": {},
   "outputs": [],
   "source": [
    "# map(mapping_func, iterable)"
   ]
  },
  {
   "cell_type": "code",
   "execution_count": 133,
   "id": "6a42510f",
   "metadata": {},
   "outputs": [],
   "source": [
    "def addval(n):\n",
    "    return n+10"
   ]
  },
  {
   "cell_type": "code",
   "execution_count": 135,
   "id": "b9aa51d8",
   "metadata": {},
   "outputs": [
    {
     "data": {
      "text/plain": [
       "[11, 13, 12, 14, 15, 16, 15, 13, 12, 17, 18, 19, 100, 28, 55, 43, 24]"
      ]
     },
     "execution_count": 135,
     "metadata": {},
     "output_type": "execute_result"
    }
   ],
   "source": [
    "li=[1,3,2,4,5,6,5,3,2,7,8,9,90,18,45,33,14]\n",
    "\n",
    "list(map(addval, li))"
   ]
  },
  {
   "cell_type": "code",
   "execution_count": 137,
   "id": "fb20cc0f",
   "metadata": {},
   "outputs": [
    {
     "data": {
      "text/plain": [
       "[5, 15, 10, 20, 25, 30, 25, 15, 10, 35, 40, 45, 450, 90, 225, 165, 70]"
      ]
     },
     "execution_count": 137,
     "metadata": {},
     "output_type": "execute_result"
    }
   ],
   "source": [
    "# map with lambda\n",
    "li=[1,3,2,4,5,6,5,3,2,7,8,9,90,18,45,33,14]\n",
    "\n",
    "list(map(lambda n:n*5, li))"
   ]
  },
  {
   "cell_type": "code",
   "execution_count": 138,
   "id": "ba721e04",
   "metadata": {},
   "outputs": [],
   "source": [
    "# reduce(aggfunc, iterable)\n",
    "from functools import reduce"
   ]
  },
  {
   "cell_type": "code",
   "execution_count": 139,
   "id": "eb72cd96",
   "metadata": {},
   "outputs": [],
   "source": [
    "def addnum(x,y):\n",
    "    return x+y"
   ]
  },
  {
   "cell_type": "code",
   "execution_count": 140,
   "id": "3b8fe8bb",
   "metadata": {},
   "outputs": [
    {
     "data": {
      "text/plain": [
       "255"
      ]
     },
     "execution_count": 140,
     "metadata": {},
     "output_type": "execute_result"
    }
   ],
   "source": [
    "li=[1,3,2,4,5,6,5,3,2,7,8,9,90,18,45,33,14]\n",
    "reduce(addnum, li)"
   ]
  },
  {
   "cell_type": "code",
   "execution_count": 143,
   "id": "f3af801a",
   "metadata": {},
   "outputs": [
    {
     "data": {
      "text/plain": [
       "255"
      ]
     },
     "execution_count": 143,
     "metadata": {},
     "output_type": "execute_result"
    }
   ],
   "source": [
    "# reduce() with lambda\n",
    "li=[1,3,2,4,5,6,5,3,2,7,8,9,90,18,45,33,14]\n",
    "reduce(lambda x,y:x+y, li)"
   ]
  },
  {
   "cell_type": "code",
   "execution_count": 145,
   "id": "9ba2dd1c",
   "metadata": {},
   "outputs": [
    {
     "name": "stdout",
     "output_type": "stream",
     "text": [
      "1 a\n",
      "2 b\n",
      "3 c\n"
     ]
    }
   ],
   "source": [
    "# zip()\n",
    "\n",
    "for x, y in zip([1,2,3,5,6,7,8], ['a','b','c']):\n",
    "    print(x,y)"
   ]
  },
  {
   "cell_type": "code",
   "execution_count": 151,
   "id": "87a4a119",
   "metadata": {},
   "outputs": [
    {
     "data": {
      "text/plain": [
       "[2, 4, 5, 6, 5]"
      ]
     },
     "execution_count": 151,
     "metadata": {},
     "output_type": "execute_result"
    }
   ],
   "source": [
    "# slice()\n",
    "li=[1,3,2,4,5,6,5,3,2,7,8,9,90,18,45,33,14]\n",
    "x=slice(2,7)\n",
    "li[x]"
   ]
  },
  {
   "cell_type": "code",
   "execution_count": 152,
   "id": "04e86f8e",
   "metadata": {},
   "outputs": [
    {
     "name": "stdout",
     "output_type": "stream",
     "text": [
      "2\n",
      "4\n",
      "5\n",
      "6\n",
      "5\n"
     ]
    }
   ],
   "source": [
    "for i in li[x]:\n",
    "    print(i)"
   ]
  },
  {
   "cell_type": "code",
   "execution_count": 153,
   "id": "a37fd1bc",
   "metadata": {},
   "outputs": [
    {
     "name": "stdout",
     "output_type": "stream",
     "text": [
      "<memory at 0x0000026E81C0AAC0>\n"
     ]
    }
   ],
   "source": [
    "# memoryview()\n",
    "s=memoryview(b'hello')\n",
    "print(s)"
   ]
  },
  {
   "cell_type": "code",
   "execution_count": 154,
   "id": "e05b2169",
   "metadata": {},
   "outputs": [
    {
     "data": {
      "text/plain": [
       "104"
      ]
     },
     "execution_count": 154,
     "metadata": {},
     "output_type": "execute_result"
    }
   ],
   "source": [
    "s[0]"
   ]
  },
  {
   "cell_type": "code",
   "execution_count": 155,
   "id": "895041f4",
   "metadata": {},
   "outputs": [
    {
     "data": {
      "text/plain": [
       "101"
      ]
     },
     "execution_count": 155,
     "metadata": {},
     "output_type": "execute_result"
    }
   ],
   "source": [
    "s[1]"
   ]
  },
  {
   "cell_type": "code",
   "execution_count": 156,
   "id": "6223f0bc",
   "metadata": {},
   "outputs": [],
   "source": [
    "# divmod()\n",
    "x=5\n",
    "y=2"
   ]
  },
  {
   "cell_type": "code",
   "execution_count": 157,
   "id": "a91aaa33",
   "metadata": {},
   "outputs": [
    {
     "data": {
      "text/plain": [
       "2"
      ]
     },
     "execution_count": 157,
     "metadata": {},
     "output_type": "execute_result"
    }
   ],
   "source": [
    "x//y"
   ]
  },
  {
   "cell_type": "code",
   "execution_count": 158,
   "id": "ce8a3b75",
   "metadata": {},
   "outputs": [
    {
     "data": {
      "text/plain": [
       "1"
      ]
     },
     "execution_count": 158,
     "metadata": {},
     "output_type": "execute_result"
    }
   ],
   "source": [
    "x%y"
   ]
  },
  {
   "cell_type": "code",
   "execution_count": 159,
   "id": "41a06a38",
   "metadata": {},
   "outputs": [
    {
     "data": {
      "text/plain": [
       "(2, 1)"
      ]
     },
     "execution_count": 159,
     "metadata": {},
     "output_type": "execute_result"
    }
   ],
   "source": [
    "divmod(x,y)"
   ]
  },
  {
   "cell_type": "code",
   "execution_count": 160,
   "id": "6c0e2df9",
   "metadata": {},
   "outputs": [
    {
     "name": "stdout",
     "output_type": "stream",
     "text": [
      "\n",
      "Welcome to Python 3.9's help utility!\n",
      "\n",
      "If this is your first time using Python, you should definitely check out\n",
      "the tutorial on the Internet at https://docs.python.org/3.9/tutorial/.\n",
      "\n",
      "Enter the name of any module, keyword, or topic to get help on writing\n",
      "Python programs and using Python modules.  To quit this help utility and\n",
      "return to the interpreter, just type \"quit\".\n",
      "\n",
      "To get a list of available modules, keywords, symbols, or topics, type\n",
      "\"modules\", \"keywords\", \"symbols\", or \"topics\".  Each module also comes\n",
      "with a one-line summary of what it does; to list the modules whose name\n",
      "or summary contain a given string such as \"spam\", type \"modules spam\".\n",
      "\n",
      "help> raise\n",
      "The \"raise\" statement\n",
      "*********************\n",
      "\n",
      "   raise_stmt ::= \"raise\" [expression [\"from\" expression]]\n",
      "\n",
      "If no expressions are present, \"raise\" re-raises the exception that is\n",
      "currently being handled, which is also known as the *active\n",
      "exception*. If there isn’t currently an active exception, a\n",
      "\"RuntimeError\" exception is raised indicating that this is an error.\n",
      "\n",
      "Otherwise, \"raise\" evaluates the first expression as the exception\n",
      "object.  It must be either a subclass or an instance of\n",
      "\"BaseException\". If it is a class, the exception instance will be\n",
      "obtained when needed by instantiating the class with no arguments.\n",
      "\n",
      "The *type* of the exception is the exception instance’s class, the\n",
      "*value* is the instance itself.\n",
      "\n",
      "A traceback object is normally created automatically when an exception\n",
      "is raised and attached to it as the \"__traceback__\" attribute, which\n",
      "is writable. You can create an exception and set your own traceback in\n",
      "one step using the \"with_traceback()\" exception method (which returns\n",
      "the same exception instance, with its traceback set to its argument),\n",
      "like so:\n",
      "\n",
      "   raise Exception(\"foo occurred\").with_traceback(tracebackobj)\n",
      "\n",
      "The \"from\" clause is used for exception chaining: if given, the second\n",
      "*expression* must be another exception class or instance. If the\n",
      "second expression is an exception instance, it will be attached to the\n",
      "raised exception as the \"__cause__\" attribute (which is writable). If\n",
      "the expression is an exception class, the class will be instantiated\n",
      "and the resulting exception instance will be attached to the raised\n",
      "exception as the \"__cause__\" attribute. If the raised exception is not\n",
      "handled, both exceptions will be printed:\n",
      "\n",
      "   >>> try:\n",
      "   ...     print(1 / 0)\n",
      "   ... except Exception as exc:\n",
      "   ...     raise RuntimeError(\"Something bad happened\") from exc\n",
      "   ...\n",
      "   Traceback (most recent call last):\n",
      "     File \"<stdin>\", line 2, in <module>\n",
      "   ZeroDivisionError: division by zero\n",
      "\n",
      "   The above exception was the direct cause of the following exception:\n",
      "\n",
      "   Traceback (most recent call last):\n",
      "     File \"<stdin>\", line 4, in <module>\n",
      "   RuntimeError: Something bad happened\n",
      "\n",
      "A similar mechanism works implicitly if a new exception is raised when\n",
      "an exception is already being handled.  An exception may be handled\n",
      "when an \"except\" or \"finally\" clause, or a \"with\" statement, is used.\n",
      "The previous exception is then attached as the new exception’s\n",
      "\"__context__\" attribute:\n",
      "\n",
      "   >>> try:\n",
      "   ...     print(1 / 0)\n",
      "   ... except:\n",
      "   ...     raise RuntimeError(\"Something bad happened\")\n",
      "   ...\n",
      "   Traceback (most recent call last):\n",
      "     File \"<stdin>\", line 2, in <module>\n",
      "   ZeroDivisionError: division by zero\n",
      "\n",
      "   During handling of the above exception, another exception occurred:\n",
      "\n",
      "   Traceback (most recent call last):\n",
      "     File \"<stdin>\", line 4, in <module>\n",
      "   RuntimeError: Something bad happened\n",
      "\n",
      "Exception chaining can be explicitly suppressed by specifying \"None\"\n",
      "in the \"from\" clause:\n",
      "\n",
      "   >>> try:\n",
      "   ...     print(1 / 0)\n",
      "   ... except:\n",
      "   ...     raise RuntimeError(\"Something bad happened\") from None\n",
      "   ...\n",
      "   Traceback (most recent call last):\n",
      "     File \"<stdin>\", line 4, in <module>\n",
      "   RuntimeError: Something bad happened\n",
      "\n",
      "Additional information on exceptions can be found in section\n",
      "Exceptions, and information about handling exceptions is in section\n",
      "The try statement.\n",
      "\n",
      "Changed in version 3.3: \"None\" is now permitted as \"Y\" in \"raise X\n",
      "from Y\".\n",
      "\n",
      "New in version 3.3: The \"__suppress_context__\" attribute to suppress\n",
      "automatic display of the exception context.\n",
      "\n",
      "Related help topics: EXCEPTIONS\n",
      "\n",
      "help> exception\n",
      "No Python documentation found for 'exception'.\n",
      "Use help() to get the interactive help utility.\n",
      "Use help(str) for help on the str class.\n",
      "\n",
      "help> quit\n",
      "\n",
      "You are now leaving help and returning to the Python interpreter.\n",
      "If you want to ask for help on a particular object directly from the\n",
      "interpreter, you can type \"help(object)\".  Executing \"help('string')\"\n",
      "has the same effect as typing a particular string at the help> prompt.\n"
     ]
    }
   ],
   "source": [
    "# help()\n",
    "help()"
   ]
  },
  {
   "cell_type": "code",
   "execution_count": null,
   "id": "bef89fd5",
   "metadata": {},
   "outputs": [],
   "source": []
  }
 ],
 "metadata": {
  "kernelspec": {
   "display_name": "Python 3 (ipykernel)",
   "language": "python",
   "name": "python3"
  },
  "language_info": {
   "codemirror_mode": {
    "name": "ipython",
    "version": 3
   },
   "file_extension": ".py",
   "mimetype": "text/x-python",
   "name": "python",
   "nbconvert_exporter": "python",
   "pygments_lexer": "ipython3",
   "version": "3.9.12"
  }
 },
 "nbformat": 4,
 "nbformat_minor": 5
}
