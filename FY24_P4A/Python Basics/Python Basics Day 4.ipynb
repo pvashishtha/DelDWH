{
 "cells": [
  {
   "cell_type": "markdown",
   "id": "77f3b051",
   "metadata": {},
   "source": [
    "## Python Basics Day 4"
   ]
  },
  {
   "cell_type": "markdown",
   "id": "c2933030",
   "metadata": {},
   "source": [
    "#### Dictionaries"
   ]
  },
  {
   "cell_type": "code",
   "execution_count": 1,
   "id": "91b4b368",
   "metadata": {},
   "outputs": [],
   "source": [
    "# Non-Sequential\n",
    "# heterogeneous types\n",
    "# \"Key: Value\" Pairs\n",
    "# Values can be any valid python object\n",
    "# Keys can be any valid object\n",
    "# Keys are immutable\n",
    "# Values are mutable\n",
    "# Keys are unique\n",
    "# Dictionary is iterable- over keys"
   ]
  },
  {
   "cell_type": "code",
   "execution_count": 2,
   "id": "59a17043",
   "metadata": {},
   "outputs": [],
   "source": [
    "d=dict()"
   ]
  },
  {
   "cell_type": "code",
   "execution_count": 3,
   "id": "d8ef0da8",
   "metadata": {},
   "outputs": [
    {
     "data": {
      "text/plain": [
       "{'a': 10}"
      ]
     },
     "execution_count": 3,
     "metadata": {},
     "output_type": "execute_result"
    }
   ],
   "source": [
    "d=dict({'a':10})\n",
    "d"
   ]
  },
  {
   "cell_type": "code",
   "execution_count": 4,
   "id": "ad5eadee",
   "metadata": {},
   "outputs": [
    {
     "data": {
      "text/plain": [
       "{'a': 1, 'b': 2, 'c': 3}"
      ]
     },
     "execution_count": 4,
     "metadata": {},
     "output_type": "execute_result"
    }
   ],
   "source": [
    "d={'a':1, 'b':2, 'c':3}\n",
    "d"
   ]
  },
  {
   "cell_type": "code",
   "execution_count": 5,
   "id": "b7c4f73c",
   "metadata": {},
   "outputs": [
    {
     "name": "stdout",
     "output_type": "stream",
     "text": [
      "a\n",
      "b\n",
      "c\n"
     ]
    }
   ],
   "source": [
    "for i in d:\n",
    "    print(i)"
   ]
  },
  {
   "cell_type": "code",
   "execution_count": 6,
   "id": "a67dcd3b",
   "metadata": {},
   "outputs": [
    {
     "data": {
      "text/plain": [
       "dict"
      ]
     },
     "execution_count": 6,
     "metadata": {},
     "output_type": "execute_result"
    }
   ],
   "source": [
    "type(d)"
   ]
  },
  {
   "cell_type": "code",
   "execution_count": 7,
   "id": "bf7e7b60",
   "metadata": {},
   "outputs": [
    {
     "data": {
      "text/plain": [
       "3"
      ]
     },
     "execution_count": 7,
     "metadata": {},
     "output_type": "execute_result"
    }
   ],
   "source": [
    "len(d)"
   ]
  },
  {
   "cell_type": "code",
   "execution_count": 9,
   "id": "a8791da6",
   "metadata": {},
   "outputs": [
    {
     "data": {
      "text/plain": [
       "1945036032320"
      ]
     },
     "execution_count": 9,
     "metadata": {},
     "output_type": "execute_result"
    }
   ],
   "source": [
    "id(d)"
   ]
  },
  {
   "cell_type": "code",
   "execution_count": 10,
   "id": "a70199ff",
   "metadata": {},
   "outputs": [],
   "source": [
    "# indexing"
   ]
  },
  {
   "cell_type": "code",
   "execution_count": 12,
   "id": "152231fe",
   "metadata": {},
   "outputs": [
    {
     "data": {
      "text/plain": [
       "1"
      ]
     },
     "execution_count": 12,
     "metadata": {},
     "output_type": "execute_result"
    }
   ],
   "source": [
    "d['a']"
   ]
  },
  {
   "cell_type": "code",
   "execution_count": 13,
   "id": "de9c1d4f",
   "metadata": {},
   "outputs": [
    {
     "data": {
      "text/plain": [
       "3"
      ]
     },
     "execution_count": 13,
     "metadata": {},
     "output_type": "execute_result"
    }
   ],
   "source": [
    "d['c']"
   ]
  },
  {
   "cell_type": "code",
   "execution_count": 14,
   "id": "0bfaaa17",
   "metadata": {
    "collapsed": true
   },
   "outputs": [
    {
     "ename": "TypeError",
     "evalue": "unhashable type: 'slice'",
     "output_type": "error",
     "traceback": [
      "\u001b[1;31m---------------------------------------------------------------------------\u001b[0m",
      "\u001b[1;31mTypeError\u001b[0m                                 Traceback (most recent call last)",
      "Input \u001b[1;32mIn [14]\u001b[0m, in \u001b[0;36m<cell line: 1>\u001b[1;34m()\u001b[0m\n\u001b[1;32m----> 1\u001b[0m \u001b[43md\u001b[49m\u001b[43m[\u001b[49m\u001b[38;5;124;43m'\u001b[39;49m\u001b[38;5;124;43ma\u001b[39;49m\u001b[38;5;124;43m'\u001b[39;49m\u001b[43m:\u001b[49m\u001b[38;5;124;43m'\u001b[39;49m\u001b[38;5;124;43mc\u001b[39;49m\u001b[38;5;124;43m'\u001b[39;49m\u001b[43m]\u001b[49m\n",
      "\u001b[1;31mTypeError\u001b[0m: unhashable type: 'slice'"
     ]
    }
   ],
   "source": [
    "d['a':'c']"
   ]
  },
  {
   "cell_type": "code",
   "execution_count": 16,
   "id": "310d8d1e",
   "metadata": {},
   "outputs": [],
   "source": [
    "d={'name':'prateek', 'city':'meerut', 'marks':[50,60,70,80,90],\n",
    "  100:True, }"
   ]
  },
  {
   "cell_type": "code",
   "execution_count": 17,
   "id": "7c57d98c",
   "metadata": {},
   "outputs": [],
   "source": [
    "d={(1,2,3):3, (4,5,6,7):4, (10,20):5}"
   ]
  },
  {
   "cell_type": "code",
   "execution_count": 18,
   "id": "d25c3b7b",
   "metadata": {},
   "outputs": [
    {
     "name": "stdout",
     "output_type": "stream",
     "text": [
      "9\n"
     ]
    }
   ],
   "source": [
    "s=0\n",
    "for item in d:\n",
    "    s+=len(item)\n",
    "print(s)"
   ]
  },
  {
   "cell_type": "code",
   "execution_count": 19,
   "id": "a320f9f0",
   "metadata": {},
   "outputs": [
    {
     "ename": "TypeError",
     "evalue": "unhashable type: 'dict'",
     "output_type": "error",
     "traceback": [
      "\u001b[1;31m---------------------------------------------------------------------------\u001b[0m",
      "\u001b[1;31mTypeError\u001b[0m                                 Traceback (most recent call last)",
      "Input \u001b[1;32mIn [19]\u001b[0m, in \u001b[0;36m<cell line: 1>\u001b[1;34m()\u001b[0m\n\u001b[1;32m----> 1\u001b[0m d\u001b[38;5;241m=\u001b[39m{{\u001b[38;5;124m'\u001b[39m\u001b[38;5;124ma\u001b[39m\u001b[38;5;124m'\u001b[39m:\u001b[38;5;241m1\u001b[39m}:\u001b[38;5;241m10\u001b[39m, {\u001b[38;5;124m'\u001b[39m\u001b[38;5;124mb\u001b[39m\u001b[38;5;124m'\u001b[39m:\u001b[38;5;241m2\u001b[39m}:\u001b[38;5;241m20\u001b[39m}\n",
      "\u001b[1;31mTypeError\u001b[0m: unhashable type: 'dict'"
     ]
    }
   ],
   "source": [
    "d={{'a':1}:10, {'b':2}:20}"
   ]
  },
  {
   "cell_type": "code",
   "execution_count": 21,
   "id": "d63d66a3",
   "metadata": {},
   "outputs": [
    {
     "ename": "TypeError",
     "evalue": "unhashable type: 'list'",
     "output_type": "error",
     "traceback": [
      "\u001b[1;31m---------------------------------------------------------------------------\u001b[0m",
      "\u001b[1;31mTypeError\u001b[0m                                 Traceback (most recent call last)",
      "Input \u001b[1;32mIn [21]\u001b[0m, in \u001b[0;36m<cell line: 1>\u001b[1;34m()\u001b[0m\n\u001b[1;32m----> 1\u001b[0m d\u001b[38;5;241m=\u001b[39m{[\u001b[38;5;241m1\u001b[39m,\u001b[38;5;241m2\u001b[39m,\u001b[38;5;241m3\u001b[39m]:\u001b[38;5;241m100\u001b[39m, [\u001b[38;5;241m4\u001b[39m,\u001b[38;5;241m5\u001b[39m,\u001b[38;5;241m6\u001b[39m]:\u001b[38;5;241m200\u001b[39m}\n",
      "\u001b[1;31mTypeError\u001b[0m: unhashable type: 'list'"
     ]
    }
   ],
   "source": [
    "d={[1,2,3]:100, [4,5,6]:200}"
   ]
  },
  {
   "cell_type": "markdown",
   "id": "88036e92",
   "metadata": {},
   "source": [
    "#### Dictionary Methods"
   ]
  },
  {
   "cell_type": "code",
   "execution_count": 28,
   "id": "2a9c805a",
   "metadata": {},
   "outputs": [],
   "source": [
    "d={'a':100, 'b':200, 'c':300}"
   ]
  },
  {
   "cell_type": "code",
   "execution_count": 29,
   "id": "fa93fe76",
   "metadata": {},
   "outputs": [
    {
     "data": {
      "text/plain": [
       "dict_keys(['a', 'b', 'c'])"
      ]
     },
     "execution_count": 29,
     "metadata": {},
     "output_type": "execute_result"
    }
   ],
   "source": [
    "# keys()- list of keys\n",
    "d.keys()"
   ]
  },
  {
   "cell_type": "code",
   "execution_count": 30,
   "id": "4d37c81c",
   "metadata": {},
   "outputs": [
    {
     "data": {
      "text/plain": [
       "dict_values([100, 200, 300])"
      ]
     },
     "execution_count": 30,
     "metadata": {},
     "output_type": "execute_result"
    }
   ],
   "source": [
    "# values()- list of values\n",
    "d.values()"
   ]
  },
  {
   "cell_type": "code",
   "execution_count": 31,
   "id": "33a0b912",
   "metadata": {},
   "outputs": [
    {
     "data": {
      "text/plain": [
       "dict_items([('a', 100), ('b', 200), ('c', 300)])"
      ]
     },
     "execution_count": 31,
     "metadata": {},
     "output_type": "execute_result"
    }
   ],
   "source": [
    "# items()- list of tuples having key and value\n",
    "d.items()"
   ]
  },
  {
   "cell_type": "code",
   "execution_count": 34,
   "id": "dd5e8f78",
   "metadata": {},
   "outputs": [
    {
     "name": "stdout",
     "output_type": "stream",
     "text": [
      "a\n",
      "b\n",
      "c\n"
     ]
    }
   ],
   "source": [
    "for i in d.keys():\n",
    "    print(i)"
   ]
  },
  {
   "cell_type": "code",
   "execution_count": 35,
   "id": "1e48e0da",
   "metadata": {},
   "outputs": [
    {
     "name": "stdout",
     "output_type": "stream",
     "text": [
      "100\n",
      "200\n",
      "300\n"
     ]
    }
   ],
   "source": [
    "for i in d.keys():\n",
    "    print(d[i])"
   ]
  },
  {
   "cell_type": "code",
   "execution_count": 33,
   "id": "2b1b0db7",
   "metadata": {},
   "outputs": [
    {
     "name": "stdout",
     "output_type": "stream",
     "text": [
      "100\n",
      "200\n",
      "300\n"
     ]
    }
   ],
   "source": [
    "for i in d.values():\n",
    "    print(i)"
   ]
  },
  {
   "cell_type": "code",
   "execution_count": 39,
   "id": "2dbf0cf2",
   "metadata": {},
   "outputs": [
    {
     "name": "stdout",
     "output_type": "stream",
     "text": [
      "a => 100\n",
      "b => 200\n",
      "c => 300\n"
     ]
    }
   ],
   "source": [
    "for i in d.items():\n",
    "    print(i[0],'=>', i[1])"
   ]
  },
  {
   "cell_type": "code",
   "execution_count": 40,
   "id": "720444cd",
   "metadata": {},
   "outputs": [
    {
     "data": {
      "text/plain": [
       "100"
      ]
     },
     "execution_count": 40,
     "metadata": {},
     "output_type": "execute_result"
    }
   ],
   "source": [
    "# get()- returns value against a key\n",
    "d.get('a')"
   ]
  },
  {
   "cell_type": "code",
   "execution_count": 41,
   "id": "d5862965",
   "metadata": {},
   "outputs": [
    {
     "data": {
      "text/plain": [
       "100"
      ]
     },
     "execution_count": 41,
     "metadata": {},
     "output_type": "execute_result"
    }
   ],
   "source": [
    "d['a']"
   ]
  },
  {
   "cell_type": "code",
   "execution_count": 42,
   "id": "7dbd9e12",
   "metadata": {},
   "outputs": [
    {
     "ename": "KeyError",
     "evalue": "'e'",
     "output_type": "error",
     "traceback": [
      "\u001b[1;31m---------------------------------------------------------------------------\u001b[0m",
      "\u001b[1;31mKeyError\u001b[0m                                  Traceback (most recent call last)",
      "Input \u001b[1;32mIn [42]\u001b[0m, in \u001b[0;36m<cell line: 1>\u001b[1;34m()\u001b[0m\n\u001b[1;32m----> 1\u001b[0m \u001b[43md\u001b[49m\u001b[43m[\u001b[49m\u001b[38;5;124;43m'\u001b[39;49m\u001b[38;5;124;43me\u001b[39;49m\u001b[38;5;124;43m'\u001b[39;49m\u001b[43m]\u001b[49m\n",
      "\u001b[1;31mKeyError\u001b[0m: 'e'"
     ]
    }
   ],
   "source": [
    "d['e']"
   ]
  },
  {
   "cell_type": "code",
   "execution_count": 43,
   "id": "30280010",
   "metadata": {},
   "outputs": [],
   "source": [
    "d.get('e')"
   ]
  },
  {
   "cell_type": "code",
   "execution_count": 46,
   "id": "c3ada64c",
   "metadata": {},
   "outputs": [
    {
     "data": {
      "text/plain": [
       "{10: None, 20: None, 30: None, 40: None, 50: None}"
      ]
     },
     "execution_count": 46,
     "metadata": {},
     "output_type": "execute_result"
    }
   ],
   "source": [
    "# fromkeys(list, def_val)- creates a dict with keys taken from\n",
    "# list and all elements set to default value.\n",
    "li=[10,20,30,40,50]\n",
    "\n",
    "d2=dict.fromkeys(li, None)\n",
    "d2"
   ]
  },
  {
   "cell_type": "code",
   "execution_count": 48,
   "id": "66f3fea0",
   "metadata": {},
   "outputs": [
    {
     "data": {
      "text/plain": [
       "{10: 100, 20: 400, 30: 900, 40: 1600, 50: 2500}"
      ]
     },
     "execution_count": 48,
     "metadata": {},
     "output_type": "execute_result"
    }
   ],
   "source": [
    "# comprehension\n",
    "d3={x:x**2 for x in li}\n",
    "d3"
   ]
  },
  {
   "cell_type": "code",
   "execution_count": 49,
   "id": "0c237a3c",
   "metadata": {},
   "outputs": [
    {
     "data": {
      "text/plain": [
       "{1: 10, 2: 20, 3: 30, 4: 40, 5: 50, 6: 60}"
      ]
     },
     "execution_count": 49,
     "metadata": {},
     "output_type": "execute_result"
    }
   ],
   "source": [
    "li1=[1,2,3,4,5,6]\n",
    "li2=[10,20,30,40,50,60]\n",
    "\n",
    "d4={x:y for x,y in zip(li1, li2)}\n",
    "d4"
   ]
  },
  {
   "cell_type": "code",
   "execution_count": 50,
   "id": "6bae2fdc",
   "metadata": {},
   "outputs": [
    {
     "data": {
      "text/plain": [
       "<zip at 0x1c4dde58280>"
      ]
     },
     "execution_count": 50,
     "metadata": {},
     "output_type": "execute_result"
    }
   ],
   "source": [
    "zip([1,2,3,4,5], ['a','b','c','d','e'])"
   ]
  },
  {
   "cell_type": "code",
   "execution_count": 53,
   "id": "02cd49a9",
   "metadata": {},
   "outputs": [
    {
     "name": "stdout",
     "output_type": "stream",
     "text": [
      "1 a 10\n",
      "2 b 20\n",
      "3 c 30\n"
     ]
    }
   ],
   "source": [
    "for a, b, c in zip([1,2,3,4,5,6,7], ['a','b','c','d','e'], [10,20,30]):\n",
    "    print(a,b, c)"
   ]
  },
  {
   "cell_type": "code",
   "execution_count": 55,
   "id": "51829a84",
   "metadata": {},
   "outputs": [
    {
     "data": {
      "text/plain": [
       "{'a': 100, 'b': 200, 'c': 300, 'd': 400}"
      ]
     },
     "execution_count": 55,
     "metadata": {},
     "output_type": "execute_result"
    }
   ],
   "source": [
    "# update()- update dictionary with new key-value pair\n",
    "# OR with new value to existing key\n",
    "d.update({'d':400})\n",
    "d"
   ]
  },
  {
   "cell_type": "code",
   "execution_count": 56,
   "id": "f79ce9f5",
   "metadata": {},
   "outputs": [
    {
     "data": {
      "text/plain": [
       "{'a': 100, 'b': 900, 'c': 300, 'd': 400}"
      ]
     },
     "execution_count": 56,
     "metadata": {},
     "output_type": "execute_result"
    }
   ],
   "source": [
    "d.update({'b':900})\n",
    "d"
   ]
  },
  {
   "cell_type": "code",
   "execution_count": 58,
   "id": "cfb32188",
   "metadata": {},
   "outputs": [
    {
     "data": {
      "text/plain": [
       "{'a': 100, 'b': 900, 'd': 400}"
      ]
     },
     "execution_count": 58,
     "metadata": {},
     "output_type": "execute_result"
    }
   ],
   "source": [
    "# pop(key)\n",
    "d.pop('c')\n",
    "d"
   ]
  },
  {
   "cell_type": "code",
   "execution_count": 59,
   "id": "ef70d99b",
   "metadata": {},
   "outputs": [
    {
     "data": {
      "text/plain": [
       "('d', 400)"
      ]
     },
     "execution_count": 59,
     "metadata": {},
     "output_type": "execute_result"
    }
   ],
   "source": [
    "# popitem()\n",
    "d.popitem()"
   ]
  },
  {
   "cell_type": "code",
   "execution_count": 61,
   "id": "7797489a",
   "metadata": {},
   "outputs": [
    {
     "data": {
      "text/plain": [
       "100"
      ]
     },
     "execution_count": 61,
     "metadata": {},
     "output_type": "execute_result"
    }
   ],
   "source": [
    "d.pop('a')"
   ]
  },
  {
   "cell_type": "code",
   "execution_count": 62,
   "id": "bbf3bd91",
   "metadata": {},
   "outputs": [
    {
     "name": "stdout",
     "output_type": "stream",
     "text": [
      "e\n",
      "500\n",
      "f\n",
      "600\n",
      "g\n",
      "700\n"
     ]
    },
    {
     "data": {
      "text/plain": [
       "{'b': 900, 'e': 500, 'f': 600, 'g': 700}"
      ]
     },
     "execution_count": 62,
     "metadata": {},
     "output_type": "execute_result"
    }
   ],
   "source": [
    "for i in range(3):\n",
    "    key=input()\n",
    "    value=int(input())\n",
    "    #d.update({key:value}) # OR\n",
    "    d[key]=value\n",
    "d"
   ]
  },
  {
   "cell_type": "code",
   "execution_count": 65,
   "id": "43bf7629",
   "metadata": {},
   "outputs": [
    {
     "data": {
      "text/plain": [
       "900"
      ]
     },
     "execution_count": 65,
     "metadata": {},
     "output_type": "execute_result"
    }
   ],
   "source": [
    "# setdefault(key, val)- if key exist, return the value\n",
    "# else adds new key value pair\n",
    "d.setdefault('b',1)"
   ]
  },
  {
   "cell_type": "code",
   "execution_count": 66,
   "id": "728c9137",
   "metadata": {},
   "outputs": [
    {
     "data": {
      "text/plain": [
       "1000"
      ]
     },
     "execution_count": 66,
     "metadata": {},
     "output_type": "execute_result"
    }
   ],
   "source": [
    "d.setdefault('k', 1000)"
   ]
  },
  {
   "cell_type": "code",
   "execution_count": 67,
   "id": "f7439c99",
   "metadata": {},
   "outputs": [
    {
     "data": {
      "text/plain": [
       "{'b': 900, 'e': 500, 'f': 600, 'g': 700, 'k': 1000}"
      ]
     },
     "execution_count": 67,
     "metadata": {},
     "output_type": "execute_result"
    }
   ],
   "source": [
    "d"
   ]
  },
  {
   "cell_type": "code",
   "execution_count": 68,
   "id": "f85f42d8",
   "metadata": {},
   "outputs": [
    {
     "data": {
      "text/plain": [
       "{'b': 900, 'e': 500, 'f': 600, 'g': 700, 'k': 1000}"
      ]
     },
     "execution_count": 68,
     "metadata": {},
     "output_type": "execute_result"
    }
   ],
   "source": [
    "# copy()\n",
    "d2=d.copy()\n",
    "d2"
   ]
  },
  {
   "cell_type": "code",
   "execution_count": 69,
   "id": "a05fd6f7",
   "metadata": {},
   "outputs": [
    {
     "data": {
      "text/plain": [
       "{}"
      ]
     },
     "execution_count": 69,
     "metadata": {},
     "output_type": "execute_result"
    }
   ],
   "source": [
    "# clear()\n",
    "d.clear()\n",
    "d"
   ]
  },
  {
   "cell_type": "code",
   "execution_count": 70,
   "id": "37aefe0a",
   "metadata": {},
   "outputs": [],
   "source": [
    "del d"
   ]
  },
  {
   "cell_type": "code",
   "execution_count": 75,
   "id": "39d36df7",
   "metadata": {},
   "outputs": [
    {
     "name": "stdout",
     "output_type": "stream",
     "text": [
      "Bye!\n"
     ]
    }
   ],
   "source": [
    "# Create a menu driven program to perform basic operations on\n",
    "# a LIST. Ex: Insert, Update, Delete values\n",
    "from IPython.display import clear_output\n",
    "li=[]\n",
    "menu='''\n",
    "1. Insert\n",
    "2. Update\n",
    "3. Delete\n",
    "4. Exit'''\n",
    "def list_insert(li):\n",
    "    idx=int(input('Enter Index Location: '))\n",
    "    val=int(input('Enter Value: '))\n",
    "    li.insert(idx, val)\n",
    "def list_update(li):\n",
    "    idx=int(input('Enter Index Location: '))\n",
    "    val=int(input('Enter New Value: '))\n",
    "    li[idx]=val\n",
    "def list_delete(li):\n",
    "    val=int(input('Enter Value: '))\n",
    "    li.remove(val)\n",
    "while True:\n",
    "    print(menu)\n",
    "    choice=int(input())\n",
    "    clear_output()\n",
    "    if choice==1:\n",
    "        list_insert(li)\n",
    "        print('Updated List: ',li)\n",
    "    elif choice==2:\n",
    "        list_update(li)\n",
    "        print('Updated List: ',li)\n",
    "    elif choice==3:\n",
    "        list_delete(li)\n",
    "        print('Updated List: ',li)\n",
    "    elif choice==4:\n",
    "        print('Bye!')\n",
    "        break\n",
    "    else:\n",
    "        break"
   ]
  },
  {
   "cell_type": "code",
   "execution_count": null,
   "id": "508bf933",
   "metadata": {},
   "outputs": [],
   "source": [
    "# Create a menu driven program to perform basic operations on\n",
    "# a DICTIONARY. Ex: Insert, Update, Delete values\n"
   ]
  },
  {
   "cell_type": "code",
   "execution_count": 76,
   "id": "9fff029b",
   "metadata": {},
   "outputs": [
    {
     "data": {
      "text/plain": [
       "{'k1': 100, 'k3': 500, 'k5': 300}"
      ]
     },
     "execution_count": 76,
     "metadata": {},
     "output_type": "execute_result"
    }
   ],
   "source": [
    "# write a program to modify a given dictionary key\n",
    "d={'k1':100, 'k2':300, 'k3':500}\n",
    "# change k2 to k5\n",
    "d['k5']=d.pop('k2')\n",
    "d"
   ]
  },
  {
   "cell_type": "code",
   "execution_count": 77,
   "id": "b25ce9d0",
   "metadata": {},
   "outputs": [
    {
     "data": {
      "text/plain": [
       "{9: 'E', 12: 'B', 20: 'C', 34: 'D', 100: 'A'}"
      ]
     },
     "execution_count": 77,
     "metadata": {},
     "output_type": "execute_result"
    }
   ],
   "source": [
    "# write a program to sort dictionary data by keys\n",
    "d={100:'A', 12:'B', 20:'C', 34:'D', 9:'E'}\n",
    "d={x:d[x] for x in sorted(d.keys())}\n",
    "d"
   ]
  },
  {
   "cell_type": "code",
   "execution_count": 78,
   "id": "808dfbb4",
   "metadata": {},
   "outputs": [
    {
     "name": "stdout",
     "output_type": "stream",
     "text": [
      "[1, 3, 2, 6, 7, 8, 4, 7, 9, 3, -4, -1, -5, -8, -1]\n"
     ]
    }
   ],
   "source": [
    "# Write a code that updates the given list so that all negative \n",
    "# numbers appear after all positive numbers, maintaining the\n",
    "# order of appearance\n",
    "li=[1,3,-4,2,6,7,8,-1,-5,4,7,-8,-1,9,3]\n",
    "# OUTPUT=> [1,3,2,6,7,8,4,7,9,3,-4,-1,-5,-8,-1]\n",
    "li=[x for x in li if x>0]+[x for x in li if x<0]\n",
    "print(li)"
   ]
  },
  {
   "cell_type": "markdown",
   "id": "2b2fe490",
   "metadata": {},
   "source": [
    "#### Set"
   ]
  },
  {
   "cell_type": "code",
   "execution_count": 79,
   "id": "08bef271",
   "metadata": {},
   "outputs": [],
   "source": [
    "# set is collection of values, different types, without repetition\n",
    "# can be used for basic set operations"
   ]
  },
  {
   "cell_type": "code",
   "execution_count": 80,
   "id": "19786b94",
   "metadata": {},
   "outputs": [
    {
     "data": {
      "text/plain": [
       "set"
      ]
     },
     "execution_count": 80,
     "metadata": {},
     "output_type": "execute_result"
    }
   ],
   "source": [
    "# set()\n",
    "s=set()\n",
    "type(s)"
   ]
  },
  {
   "cell_type": "code",
   "execution_count": 81,
   "id": "8b8f5dd5",
   "metadata": {},
   "outputs": [
    {
     "data": {
      "text/plain": [
       "{1, 2, 3, 4}"
      ]
     },
     "execution_count": 81,
     "metadata": {},
     "output_type": "execute_result"
    }
   ],
   "source": [
    "s=set({1,2,3,4})\n",
    "s"
   ]
  },
  {
   "cell_type": "code",
   "execution_count": 83,
   "id": "9352ce0f",
   "metadata": {},
   "outputs": [
    {
     "data": {
      "text/plain": [
       "{1, 2, 3, 4, 5}"
      ]
     },
     "execution_count": 83,
     "metadata": {},
     "output_type": "execute_result"
    }
   ],
   "source": [
    "s={1,2,3,4,5}\n",
    "s"
   ]
  },
  {
   "cell_type": "code",
   "execution_count": 84,
   "id": "c697870e",
   "metadata": {},
   "outputs": [
    {
     "data": {
      "text/plain": [
       "set"
      ]
     },
     "execution_count": 84,
     "metadata": {},
     "output_type": "execute_result"
    }
   ],
   "source": [
    "type(s)"
   ]
  },
  {
   "cell_type": "code",
   "execution_count": 85,
   "id": "0dc2e30a",
   "metadata": {},
   "outputs": [
    {
     "data": {
      "text/plain": [
       "5"
      ]
     },
     "execution_count": 85,
     "metadata": {},
     "output_type": "execute_result"
    }
   ],
   "source": [
    "len(s)"
   ]
  },
  {
   "cell_type": "code",
   "execution_count": 86,
   "id": "849fff84",
   "metadata": {},
   "outputs": [
    {
     "data": {
      "text/plain": [
       "1945047914976"
      ]
     },
     "execution_count": 86,
     "metadata": {},
     "output_type": "execute_result"
    }
   ],
   "source": [
    "id(s)"
   ]
  },
  {
   "cell_type": "code",
   "execution_count": 106,
   "id": "81861a92",
   "metadata": {},
   "outputs": [
    {
     "data": {
      "text/plain": [
       "{(20, 30), 0, 1, 2, 3, 'hi'}"
      ]
     },
     "execution_count": 106,
     "metadata": {},
     "output_type": "execute_result"
    }
   ],
   "source": [
    "s={0,1,2,3,(20,30), 'hi', False, True}\n",
    "s"
   ]
  },
  {
   "cell_type": "code",
   "execution_count": 102,
   "id": "540a7070",
   "metadata": {},
   "outputs": [
    {
     "data": {
      "text/plain": [
       "{1, 2, 3, 4, 5, 6, 7, 8}"
      ]
     },
     "execution_count": 102,
     "metadata": {},
     "output_type": "execute_result"
    }
   ],
   "source": [
    "s={1,1,1,2,3,4,5,6,7,7,8,7,5,3,2,1,1}\n",
    "s"
   ]
  },
  {
   "cell_type": "code",
   "execution_count": 107,
   "id": "12476b56",
   "metadata": {},
   "outputs": [
    {
     "data": {
      "text/plain": [
       "{1, 2, 3, 4, 5, 60}"
      ]
     },
     "execution_count": 107,
     "metadata": {},
     "output_type": "execute_result"
    }
   ],
   "source": [
    "# add(val)\n",
    "s={1,2,3,4,5}\n",
    "s.add(60)\n",
    "s"
   ]
  },
  {
   "cell_type": "code",
   "execution_count": 108,
   "id": "03226cf9",
   "metadata": {},
   "outputs": [
    {
     "data": {
      "text/plain": [
       "1"
      ]
     },
     "execution_count": 108,
     "metadata": {},
     "output_type": "execute_result"
    }
   ],
   "source": [
    "# pop()\n",
    "s.pop()"
   ]
  },
  {
   "cell_type": "code",
   "execution_count": 109,
   "id": "a4229328",
   "metadata": {},
   "outputs": [
    {
     "data": {
      "text/plain": [
       "{2, 3, 5, 60}"
      ]
     },
     "execution_count": 109,
     "metadata": {},
     "output_type": "execute_result"
    }
   ],
   "source": [
    "# remove(val)\n",
    "s.remove(4)\n",
    "s"
   ]
  },
  {
   "cell_type": "code",
   "execution_count": 110,
   "id": "abfe6214",
   "metadata": {},
   "outputs": [
    {
     "name": "stdout",
     "output_type": "stream",
     "text": [
      "2\n",
      "3\n",
      "5\n",
      "60\n"
     ]
    }
   ],
   "source": [
    "for x in s:\n",
    "    print(x)"
   ]
  },
  {
   "cell_type": "code",
   "execution_count": 133,
   "id": "ec5bbf4d",
   "metadata": {},
   "outputs": [
    {
     "data": {
      "text/plain": [
       "{(1, 2, 3), 4, 5, 6, 'hi'}"
      ]
     },
     "execution_count": 133,
     "metadata": {},
     "output_type": "execute_result"
    }
   ],
   "source": [
    "s={(1,2,3),4,5,6,'hi'}\n",
    "s"
   ]
  },
  {
   "cell_type": "code",
   "execution_count": 134,
   "id": "6cc0756e",
   "metadata": {},
   "outputs": [
    {
     "data": {
      "text/plain": [
       "'hi'"
      ]
     },
     "execution_count": 134,
     "metadata": {},
     "output_type": "execute_result"
    }
   ],
   "source": [
    "s.pop()"
   ]
  },
  {
   "cell_type": "code",
   "execution_count": 127,
   "id": "adc5d76d",
   "metadata": {},
   "outputs": [
    {
     "data": {
      "text/plain": [
       "4"
      ]
     },
     "execution_count": 127,
     "metadata": {},
     "output_type": "execute_result"
    }
   ],
   "source": [
    "s.pop()"
   ]
  },
  {
   "cell_type": "code",
   "execution_count": 138,
   "id": "2f82602f",
   "metadata": {},
   "outputs": [
    {
     "data": {
      "text/plain": [
       "{1, 2, 3, 4, 5, 10, 20, 30}"
      ]
     },
     "execution_count": 138,
     "metadata": {},
     "output_type": "execute_result"
    }
   ],
   "source": [
    "# union()\n",
    "s1={1,2,3}\n",
    "s2={10,20,30,2,3,4,5}\n",
    "s=s1.union(s2)\n",
    "s"
   ]
  },
  {
   "cell_type": "code",
   "execution_count": 139,
   "id": "03b9fdd9",
   "metadata": {},
   "outputs": [
    {
     "data": {
      "text/plain": [
       "{2, 3}"
      ]
     },
     "execution_count": 139,
     "metadata": {},
     "output_type": "execute_result"
    }
   ],
   "source": [
    "# intersection\n",
    "s=s1.intersection(s2)\n",
    "s"
   ]
  },
  {
   "cell_type": "code",
   "execution_count": 140,
   "id": "3138fbfe",
   "metadata": {},
   "outputs": [
    {
     "data": {
      "text/plain": [
       "{1}"
      ]
     },
     "execution_count": 140,
     "metadata": {},
     "output_type": "execute_result"
    }
   ],
   "source": [
    "# difference()\n",
    "s1.difference(s2) # s1-s1(intestion)s2"
   ]
  },
  {
   "cell_type": "code",
   "execution_count": 141,
   "id": "f5b42d54",
   "metadata": {},
   "outputs": [
    {
     "data": {
      "text/plain": [
       "True"
      ]
     },
     "execution_count": 141,
     "metadata": {},
     "output_type": "execute_result"
    }
   ],
   "source": [
    "# issubset()\n",
    "{2,3}.issubset(s1)"
   ]
  },
  {
   "cell_type": "code",
   "execution_count": 142,
   "id": "157cc803",
   "metadata": {},
   "outputs": [
    {
     "data": {
      "text/plain": [
       "{1, 2, 3}"
      ]
     },
     "execution_count": 142,
     "metadata": {},
     "output_type": "execute_result"
    }
   ],
   "source": [
    "# copy()\n",
    "s=s1.copy()\n",
    "s"
   ]
  },
  {
   "cell_type": "code",
   "execution_count": 143,
   "id": "175190ac",
   "metadata": {},
   "outputs": [
    {
     "data": {
      "text/plain": [
       "set()"
      ]
     },
     "execution_count": 143,
     "metadata": {},
     "output_type": "execute_result"
    }
   ],
   "source": [
    "# clear()\n",
    "s.clear()\n",
    "s"
   ]
  },
  {
   "cell_type": "code",
   "execution_count": 144,
   "id": "a5baf67d",
   "metadata": {},
   "outputs": [
    {
     "data": {
      "text/plain": [
       "{1, 2, 3, 'a', 'b', 'c'}"
      ]
     },
     "execution_count": 144,
     "metadata": {},
     "output_type": "execute_result"
    }
   ],
   "source": [
    "# update()\n",
    "s1={1,2,3}\n",
    "s2={'a','b','c'}\n",
    "s1.update(s2)\n",
    "s1"
   ]
  },
  {
   "cell_type": "code",
   "execution_count": 147,
   "id": "b9de6c1d",
   "metadata": {},
   "outputs": [
    {
     "data": {
      "text/plain": [
       "{1, 2, 3, 10, 20, 30}"
      ]
     },
     "execution_count": 147,
     "metadata": {},
     "output_type": "execute_result"
    }
   ],
   "source": [
    "s1={1,2,3}\n",
    "li=[10,20,30]\n",
    "s1.update(li)\n",
    "s1"
   ]
  },
  {
   "cell_type": "code",
   "execution_count": 148,
   "id": "33127764",
   "metadata": {},
   "outputs": [
    {
     "data": {
      "text/plain": [
       "{1, 2, 3, 10, 20, 30}"
      ]
     },
     "execution_count": 148,
     "metadata": {},
     "output_type": "execute_result"
    }
   ],
   "source": [
    "s1={1,2,3}\n",
    "li=(10,20,30)\n",
    "s1.update(li)\n",
    "s1"
   ]
  },
  {
   "cell_type": "code",
   "execution_count": 149,
   "id": "48ab59df",
   "metadata": {},
   "outputs": [
    {
     "data": {
      "text/plain": [
       "[1, 2, 3]"
      ]
     },
     "execution_count": 149,
     "metadata": {},
     "output_type": "execute_result"
    }
   ],
   "source": [
    "s1={1,2,3}\n",
    "li=list(s1)\n",
    "li"
   ]
  },
  {
   "cell_type": "code",
   "execution_count": 150,
   "id": "2dfd809a",
   "metadata": {},
   "outputs": [
    {
     "data": {
      "text/plain": [
       "{1, 2, 3, 'a', 'b'}"
      ]
     },
     "execution_count": 150,
     "metadata": {},
     "output_type": "execute_result"
    }
   ],
   "source": [
    "s1={1,2,3}\n",
    "d={'a':10, 'b':20}\n",
    "s1.update(d)\n",
    "s1"
   ]
  },
  {
   "cell_type": "code",
   "execution_count": 153,
   "id": "77c9ec59",
   "metadata": {},
   "outputs": [
    {
     "name": "stdout",
     "output_type": "stream",
     "text": [
      "1=>4\n",
      "2=>3\n",
      "3=>2\n",
      "4=>2\n",
      "5=>3\n",
      "6=>2\n",
      "8=>1\n",
      "9=>1\n"
     ]
    }
   ],
   "source": [
    "# find frequency of elements of list\n",
    "li=[1,4,2,3,5,1,1,2,5,6,8,9,5,6,4,3,2,1]\n",
    "for x in set(li):\n",
    "    print(f'{x}=>{li.count(x)}')"
   ]
  },
  {
   "cell_type": "markdown",
   "id": "b7c8bee4",
   "metadata": {},
   "source": [
    "#### File Handling"
   ]
  },
  {
   "cell_type": "code",
   "execution_count": 154,
   "id": "63172f73",
   "metadata": {},
   "outputs": [],
   "source": [
    "# open()\n",
    "    # read, write, append\n",
    "# close()"
   ]
  },
  {
   "cell_type": "code",
   "execution_count": 155,
   "id": "6303dbcd",
   "metadata": {},
   "outputs": [],
   "source": [
    "# Mode      text files    binary files     Cursor       Existing Data\n",
    "\n",
    "# read       r  | r+       rb | rb+       begining        persist\n",
    "\n",
    "# write      w  | w+       wb | wb+       begining        purged\n",
    "\n",
    "# append     a  | a+       ab | ab+        end            persist"
   ]
  },
  {
   "cell_type": "code",
   "execution_count": 156,
   "id": "5ffa4da9",
   "metadata": {},
   "outputs": [],
   "source": [
    "# File Handle\n",
    "\n",
    "# open(filename/path, mode, [encoding])- return file handle/object"
   ]
  },
  {
   "cell_type": "code",
   "execution_count": 157,
   "id": "71d5cf74",
   "metadata": {},
   "outputs": [],
   "source": [
    "file=open('myfile.txt', 'w')"
   ]
  },
  {
   "cell_type": "code",
   "execution_count": 158,
   "id": "07d2352c",
   "metadata": {},
   "outputs": [],
   "source": [
    "# write(byte_data)- return number of bytes written to file"
   ]
  },
  {
   "cell_type": "code",
   "execution_count": 159,
   "id": "849e209f",
   "metadata": {},
   "outputs": [
    {
     "data": {
      "text/plain": [
       "40"
      ]
     },
     "execution_count": 159,
     "metadata": {},
     "output_type": "execute_result"
    }
   ],
   "source": [
    "file.write('this is my first text using file object!')"
   ]
  },
  {
   "cell_type": "code",
   "execution_count": 160,
   "id": "3f59bec3",
   "metadata": {},
   "outputs": [],
   "source": [
    "# flush()\n",
    "file.flush()"
   ]
  },
  {
   "cell_type": "code",
   "execution_count": 166,
   "id": "4d18bc3a",
   "metadata": {},
   "outputs": [
    {
     "data": {
      "text/plain": [
       "12"
      ]
     },
     "execution_count": 166,
     "metadata": {},
     "output_type": "execute_result"
    }
   ],
   "source": [
    "file.write('another text')"
   ]
  },
  {
   "cell_type": "code",
   "execution_count": 167,
   "id": "0f7cfaf1",
   "metadata": {},
   "outputs": [],
   "source": [
    "file.flush()"
   ]
  },
  {
   "cell_type": "code",
   "execution_count": 168,
   "id": "5a827210",
   "metadata": {},
   "outputs": [
    {
     "data": {
      "text/plain": [
       "16"
      ]
     },
     "execution_count": 168,
     "metadata": {},
     "output_type": "execute_result"
    }
   ],
   "source": [
    "file.write('\\nsecond line text')\n",
    "file.write('\\nthird line text')"
   ]
  },
  {
   "cell_type": "code",
   "execution_count": 169,
   "id": "5bc1edb8",
   "metadata": {},
   "outputs": [],
   "source": [
    "# close()\n",
    "file.close()"
   ]
  },
  {
   "cell_type": "code",
   "execution_count": 170,
   "id": "cf0c9d19",
   "metadata": {},
   "outputs": [],
   "source": [
    "# reading a file"
   ]
  },
  {
   "cell_type": "code",
   "execution_count": 172,
   "id": "1cd78a3f",
   "metadata": {},
   "outputs": [],
   "source": [
    "file=open('myfile.txt','r')"
   ]
  },
  {
   "cell_type": "code",
   "execution_count": 173,
   "id": "fca5b2ed",
   "metadata": {},
   "outputs": [],
   "source": [
    "# read([bytes])"
   ]
  },
  {
   "cell_type": "code",
   "execution_count": 174,
   "id": "2c645f7b",
   "metadata": {},
   "outputs": [
    {
     "data": {
      "text/plain": [
       "'this '"
      ]
     },
     "execution_count": 174,
     "metadata": {},
     "output_type": "execute_result"
    }
   ],
   "source": [
    "file.read(5)"
   ]
  },
  {
   "cell_type": "code",
   "execution_count": 175,
   "id": "af54a4cd",
   "metadata": {},
   "outputs": [
    {
     "data": {
      "text/plain": [
       "'is my first text using file object!another textanother textanother textanother textanother text\\nsecond line text\\nthird line text'"
      ]
     },
     "execution_count": 175,
     "metadata": {},
     "output_type": "execute_result"
    }
   ],
   "source": [
    "file.read() # read all data"
   ]
  },
  {
   "cell_type": "code",
   "execution_count": 176,
   "id": "51ee9999",
   "metadata": {},
   "outputs": [
    {
     "data": {
      "text/plain": [
       "''"
      ]
     },
     "execution_count": 176,
     "metadata": {},
     "output_type": "execute_result"
    }
   ],
   "source": [
    "file.read()"
   ]
  },
  {
   "cell_type": "code",
   "execution_count": 177,
   "id": "9323bdd3",
   "metadata": {},
   "outputs": [],
   "source": [
    "# seek(position, offset)"
   ]
  },
  {
   "cell_type": "code",
   "execution_count": 197,
   "id": "6563895b",
   "metadata": {},
   "outputs": [
    {
     "data": {
      "text/plain": [
       "100"
      ]
     },
     "execution_count": 197,
     "metadata": {},
     "output_type": "execute_result"
    }
   ],
   "source": [
    "file.seek(100,0)"
   ]
  },
  {
   "cell_type": "code",
   "execution_count": 198,
   "id": "c9c3a7ce",
   "metadata": {},
   "outputs": [
    {
     "name": "stdout",
     "output_type": "stream",
     "text": [
      "\n",
      "second line text\n",
      "third line text\n"
     ]
    }
   ],
   "source": [
    "print(file.read())"
   ]
  },
  {
   "cell_type": "code",
   "execution_count": 199,
   "id": "512d15bf",
   "metadata": {},
   "outputs": [],
   "source": [
    "# tell() - returns current curosr position"
   ]
  },
  {
   "cell_type": "code",
   "execution_count": 200,
   "id": "9a6a30bb",
   "metadata": {},
   "outputs": [
    {
     "data": {
      "text/plain": [
       "135"
      ]
     },
     "execution_count": 200,
     "metadata": {},
     "output_type": "execute_result"
    }
   ],
   "source": [
    "file.tell()"
   ]
  },
  {
   "cell_type": "code",
   "execution_count": 201,
   "id": "398b533c",
   "metadata": {},
   "outputs": [],
   "source": [
    "file.close()"
   ]
  },
  {
   "cell_type": "code",
   "execution_count": null,
   "id": "a89828f6",
   "metadata": {},
   "outputs": [],
   "source": [
    "# Seek(position, whence)\n",
    "# whence- \n",
    "# 0 (from begining), \n",
    "# 1 (from current), \n",
    "# 2 (from end)"
   ]
  },
  {
   "cell_type": "code",
   "execution_count": 202,
   "id": "e05186d3",
   "metadata": {},
   "outputs": [],
   "source": [
    "# Appending to a file"
   ]
  },
  {
   "cell_type": "code",
   "execution_count": 204,
   "id": "e07d064a",
   "metadata": {},
   "outputs": [],
   "source": [
    "file=open('myfile.txt', 'a')"
   ]
  },
  {
   "cell_type": "code",
   "execution_count": 205,
   "id": "d6212051",
   "metadata": {},
   "outputs": [],
   "source": [
    "file.write('\\nThis is new data Append!!!')\n",
    "file.close()"
   ]
  },
  {
   "cell_type": "code",
   "execution_count": 206,
   "id": "2787cffa",
   "metadata": {},
   "outputs": [],
   "source": [
    "# working in r+ => read and write"
   ]
  },
  {
   "cell_type": "code",
   "execution_count": 207,
   "id": "c7070293",
   "metadata": {},
   "outputs": [
    {
     "name": "stdout",
     "output_type": "stream",
     "text": [
      "this is my first text using file object!another textanother textanother textanother textanother text\n",
      "second line text\n",
      "third line text\n",
      "This is new data Append!!!\n"
     ]
    }
   ],
   "source": [
    "file=open('myfile.txt','r+')\n",
    "data=file.read()\n",
    "print(data)\n",
    "file.write('\\nThis is R+ mode.')\n",
    "file.close()"
   ]
  },
  {
   "cell_type": "code",
   "execution_count": 208,
   "id": "097349e6",
   "metadata": {},
   "outputs": [],
   "source": [
    "# working with w+"
   ]
  },
  {
   "cell_type": "code",
   "execution_count": 209,
   "id": "26322613",
   "metadata": {},
   "outputs": [],
   "source": [
    "file=open('myfile.txt','w+')"
   ]
  },
  {
   "cell_type": "code",
   "execution_count": 210,
   "id": "bc85a1b2",
   "metadata": {},
   "outputs": [],
   "source": [
    "file.write('This is new text added to file.')\n",
    "file.flush()"
   ]
  },
  {
   "cell_type": "code",
   "execution_count": 212,
   "id": "746769cb",
   "metadata": {},
   "outputs": [
    {
     "data": {
      "text/plain": [
       "'This is new text added to file.'"
      ]
     },
     "execution_count": 212,
     "metadata": {},
     "output_type": "execute_result"
    }
   ],
   "source": [
    "file.seek(0)\n",
    "file.read()"
   ]
  },
  {
   "cell_type": "code",
   "execution_count": 213,
   "id": "5309be32",
   "metadata": {},
   "outputs": [
    {
     "name": "stdout",
     "output_type": "stream",
     "text": [
      "This is new text added to file.\n",
      "hello again!\n"
     ]
    }
   ],
   "source": [
    "file.write('\\nhello again!')\n",
    "file.flush()\n",
    "file.seek(0)\n",
    "print(file.read())"
   ]
  },
  {
   "cell_type": "code",
   "execution_count": 214,
   "id": "e2f7a486",
   "metadata": {},
   "outputs": [],
   "source": [
    "file.close()"
   ]
  },
  {
   "cell_type": "code",
   "execution_count": null,
   "id": "68000ce0",
   "metadata": {},
   "outputs": [],
   "source": [
    "# working with a+ mode"
   ]
  },
  {
   "cell_type": "code",
   "execution_count": 215,
   "id": "567db2b5",
   "metadata": {},
   "outputs": [
    {
     "name": "stdout",
     "output_type": "stream",
     "text": [
      "This is new text added to file.\n",
      "hello again!\n",
      "Appended data from A+ mode.\n"
     ]
    }
   ],
   "source": [
    "file=open('myfile.txt','a+')\n",
    "file.write('\\nAppended data from A+ mode.')\n",
    "file.flush()\n",
    "file.seek(0)\n",
    "print(file.read())\n",
    "file.close()"
   ]
  },
  {
   "cell_type": "code",
   "execution_count": 217,
   "id": "0eab9190",
   "metadata": {},
   "outputs": [],
   "source": [
    "# Write a code to copy a text file data to another file\n"
   ]
  },
  {
   "cell_type": "code",
   "execution_count": 218,
   "id": "36cd0a33",
   "metadata": {},
   "outputs": [
    {
     "name": "stdout",
     "output_type": "stream",
     "text": [
      "This is new text added to file.\n",
      "hello again!\n",
      "Appended data from A+ mode.\n"
     ]
    }
   ],
   "source": [
    "file=open('myfile.txt','r')\n",
    "file2=open('myfile2.txt','w+')\n",
    "file2.write(file.read())\n",
    "file2.flush()\n",
    "file2.seek(0)\n",
    "print(file2.read())\n",
    "file.close()\n",
    "file2.close()"
   ]
  },
  {
   "cell_type": "code",
   "execution_count": 222,
   "id": "13f31df4",
   "metadata": {},
   "outputs": [
    {
     "name": "stdout",
     "output_type": "stream",
     "text": [
      "Words: 14\n",
      "Space: 11\n",
      "Size: 72\n",
      "Vowels: 23\n",
      "Special Chars: 4\n"
     ]
    }
   ],
   "source": [
    "# Use a python code to get file size, number of words, number of \n",
    "# vowels, number of special characters in a text file\n",
    "with open('myfile.txt', 'r') as file:\n",
    "    data=file.read()\n",
    "    spaces=data.count(' ')\n",
    "    words=len(data.split())\n",
    "    size=len(data)\n",
    "    v=0\n",
    "    sp=0\n",
    "    for char in data:\n",
    "        if char.lower() in 'aeiou':\n",
    "            v+=1\n",
    "        if not (65<=ord(char)<=90 or 97<=ord(char)<=122 or char=='\\n'):\n",
    "            sp+=1\n",
    "    print(f'Words: {words}')\n",
    "    print(f'Space: {spaces}')\n",
    "    print(f'Size: {size}')\n",
    "    print(f'Vowels: {v}')\n",
    "    print(f'Special Chars: {sp-spaces}')"
   ]
  },
  {
   "cell_type": "code",
   "execution_count": 227,
   "id": "29d4a3bb",
   "metadata": {},
   "outputs": [
    {
     "name": "stdout",
     "output_type": "stream",
     "text": [
      "72\n",
      "55\n"
     ]
    }
   ],
   "source": [
    "with open('myfile.txt', 'r') as file:\n",
    "    data=file.read()\n",
    "    c=0\n",
    "    for char in data:\n",
    "        if char.isalnum():\n",
    "            c+=1\n",
    "    print(len(data))\n",
    "    print(c)"
   ]
  },
  {
   "cell_type": "code",
   "execution_count": 231,
   "id": "ed67d465",
   "metadata": {
    "collapsed": true
   },
   "outputs": [
    {
     "name": "stdout",
     "output_type": "stream",
     "text": [
      "A girl is playing\n",
      "\n",
      "She is in playground\n",
      "\n",
      "The sky above is pink\n",
      "\n"
     ]
    }
   ],
   "source": [
    "# readline()- reads one line at a time\n",
    "file=open('articles.txt','r')\n",
    "for i in range(3):\n",
    "    print(file.readline())\n",
    "file.close()"
   ]
  },
  {
   "cell_type": "code",
   "execution_count": 232,
   "id": "720a0691",
   "metadata": {
    "collapsed": true
   },
   "outputs": [
    {
     "name": "stdout",
     "output_type": "stream",
     "text": [
      "['A girl is playing\\n', 'She is in playground\\n', 'The sky above is pink\\n', 'A balloon is in the sky\\n', 'The balloon is blue\\n', 'The magic house\\n', 'House of wax\\n', 'House is in the woods']\n"
     ]
    }
   ],
   "source": [
    "# readlines()- read all lines of text into a list\n",
    "file=open('articles.txt','r')\n",
    "print(file.readlines())\n",
    "file.close()"
   ]
  },
  {
   "cell_type": "code",
   "execution_count": null,
   "id": "b28cce10",
   "metadata": {},
   "outputs": [],
   "source": []
  },
  {
   "cell_type": "code",
   "execution_count": null,
   "id": "4de8f0ba",
   "metadata": {},
   "outputs": [],
   "source": []
  },
  {
   "cell_type": "code",
   "execution_count": null,
   "id": "5df1af97",
   "metadata": {},
   "outputs": [],
   "source": []
  },
  {
   "cell_type": "code",
   "execution_count": null,
   "id": "e8d6d390",
   "metadata": {},
   "outputs": [],
   "source": [
    "# create a text file articles.txt\n",
    "# with following text and perform asked operations\n",
    "\n",
    "# A girl is playing\n",
    "# She is in playground\n",
    "# The sky above is pink\n",
    "# A balloon is in the sky\n",
    "# The balloon is blue\n",
    "# The magic house\n",
    "# House of wax\n",
    "# House is in the woods\n",
    "\n",
    "# 1. Find number of  sentenses that has \n",
    "    # words like \"the\", \"a\" and \"in\"\n",
    "# 2. Print only sentences that has word \"the\" in it."
   ]
  },
  {
   "cell_type": "code",
   "execution_count": 235,
   "id": "b0c2d46b",
   "metadata": {},
   "outputs": [
    {
     "name": "stdout",
     "output_type": "stream",
     "text": [
      "The sky above is pink\n",
      "\n",
      "A balloon is in the sky\n",
      "\n",
      "The balloon is blue\n",
      "\n",
      "The magic house\n",
      "\n",
      "House is in the woods\n",
      "\n",
      "Counter: 7\n"
     ]
    }
   ],
   "source": [
    "with open('articles.txt') as file:\n",
    "    data=file.readlines()\n",
    "    counter=0\n",
    "    for line in data:\n",
    "        words=line.lower().split()\n",
    "        if 'the' in words:\n",
    "            print(line)\n",
    "        if 'a' in words or 'in' in words or 'the' in words:\n",
    "            counter+=1\n",
    "    print(f'\\nCounter: {counter}')"
   ]
  },
  {
   "cell_type": "markdown",
   "id": "5a52067b",
   "metadata": {},
   "source": [
    "##### File utility Functions"
   ]
  },
  {
   "cell_type": "code",
   "execution_count": 236,
   "id": "1e70e7bd",
   "metadata": {},
   "outputs": [],
   "source": [
    "file=open('myfile.txt')"
   ]
  },
  {
   "cell_type": "code",
   "execution_count": 237,
   "id": "fb27bcc5",
   "metadata": {},
   "outputs": [
    {
     "data": {
      "text/plain": [
       "False"
      ]
     },
     "execution_count": 237,
     "metadata": {},
     "output_type": "execute_result"
    }
   ],
   "source": [
    "# isatty()- False if active stream else True\n",
    "file.isatty()"
   ]
  },
  {
   "cell_type": "code",
   "execution_count": 239,
   "id": "0639f986",
   "metadata": {},
   "outputs": [
    {
     "data": {
      "text/plain": [
       "False"
      ]
     },
     "execution_count": 239,
     "metadata": {},
     "output_type": "execute_result"
    }
   ],
   "source": [
    "# writable()\n",
    "file.writable()"
   ]
  },
  {
   "cell_type": "code",
   "execution_count": 240,
   "id": "e8686422",
   "metadata": {},
   "outputs": [
    {
     "data": {
      "text/plain": [
       "True"
      ]
     },
     "execution_count": 240,
     "metadata": {},
     "output_type": "execute_result"
    }
   ],
   "source": [
    "# readable()\n",
    "file.readable()"
   ]
  },
  {
   "cell_type": "code",
   "execution_count": 242,
   "id": "3f94c85a",
   "metadata": {},
   "outputs": [
    {
     "data": {
      "text/plain": [
       "4"
      ]
     },
     "execution_count": 242,
     "metadata": {},
     "output_type": "execute_result"
    }
   ],
   "source": [
    "# fileno()\n",
    "file.fileno()"
   ]
  },
  {
   "cell_type": "code",
   "execution_count": 243,
   "id": "757e5b81",
   "metadata": {},
   "outputs": [],
   "source": [
    "# writelines()- write list of lines to file\n",
    "file=open('myfile.txt','w')\n",
    "lines=['hello\\n','hi\\n','welcome to deloitte\\n','END!']\n",
    "file.writelines(lines)\n",
    "file.close()"
   ]
  },
  {
   "cell_type": "markdown",
   "id": "2a9c1f56",
   "metadata": {},
   "source": [
    "#### Working with Binary Files"
   ]
  },
  {
   "cell_type": "code",
   "execution_count": 244,
   "id": "87896e9c",
   "metadata": {
    "collapsed": true
   },
   "outputs": [
    {
     "name": "stdout",
     "output_type": "stream",
     "text": [
      "b'\\xff\\xd8\\xff\\xe0\\x00\\x10JFIF\\x00\\x01\\x01\\x01\\x00\\x00\\x00\\x00\\x00\\x00\\xff\\xe1\\x00.Exif\\x00\\x00MM\\x00*\\x00\\x00\\x00\\x08\\x00\\x02@\\x00\\x00\\x03\\x00\\x00\\x00\\x01\\x00\\x1a\\x00\\x00@\\x01\\x00\\x01\\x00\\x00\\x00\\x01\\x00\\x00\\x00\\x00\\x00\\x00\\x00\\x00\\xff\\xdb\\x00C\\x00\\n\\x07\\x07\\t\\x07\\x06\\n\\t\\x08\\t\\x0b\\x0b\\n\\x0c\\x0f\\x19\\x10\\x0f\\x0e\\x0e\\x0f\\x1e\\x16\\x17\\x12\\x19$ &%# #\"(-90(*6+\"#2D26;=@@@&0FKE>J9?@=\\xff\\xdb\\x00C\\x01\\x0b\\x0b\\x0b\\x0f\\r\\x0f\\x1d\\x10\\x10\\x1d=)#)==================================================\\xff\\xc0\\x00\\x11\\x08\\x01<\\x01\\xda\\x03\\x01\"\\x00\\x02\\x11\\x01\\x03\\x11\\x01\\xff\\xc4\\x00\\x1f\\x00\\x00\\x01\\x05\\x01\\x01\\x01\\x01\\x01\\x01\\x00\\x00\\x00\\x00\\x00\\x00\\x00\\x00\\x01\\x02\\x03\\x04\\x05\\x06\\x07\\x08\\t\\n\\x0b\\xff\\xc4\\x00\\xb5\\x10\\x00\\x02\\x01\\x03\\x03\\x02\\x04\\x03\\x05\\x05\\x04\\x04\\x00\\x00\\x01}\\x01\\x02\\x03\\x00\\x04\\x11\\x05\\x12!1A\\x06\\x13Qa\\x07\"q\\x142\\x81\\x91\\xa1\\x08#B\\xb1\\xc1\\x15R\\xd1\\xf0$3br\\x82\\t\\n\\x16\\x17\\x18\\x19\\x1a%&\\'()*456789:CDEFGHIJSTUVWXYZcdefghijstuvwxyz\\x83\\x84\\x85\\x86\\x87\\x88\\x89\\x8a\\x92\\x93\\x94\\x95\\x96\\x97\\x98\\x99\\x9a\\xa2\\xa3\\xa4\\xa5\\xa6\\xa7\\xa8\\xa9\\xaa\\xb2\\xb3\\xb4\\xb5\\xb6\\xb7\\xb8\\xb9\\xba\\xc2\\xc3\\xc4\\xc5\\xc6\\xc7\\xc8\\xc9\\xca\\xd2\\xd3\\xd4\\xd5\\xd6\\xd7\\xd8\\xd9\\xda\\xe1\\xe2\\xe3\\xe4\\xe5\\xe6\\xe7\\xe8\\xe9\\xea\\xf1\\xf2\\xf3\\xf4\\xf5\\xf6\\xf7\\xf8\\xf9\\xfa\\xff\\xc4\\x00\\x1f\\x01\\x00\\x03\\x01\\x01\\x01\\x01\\x01\\x01\\x01\\x01\\x01\\x00\\x00\\x00\\x00\\x00\\x00\\x01\\x02\\x03\\x04\\x05\\x06\\x07\\x08\\t\\n\\x0b\\xff\\xc4\\x00\\xb5\\x11\\x00\\x02\\x01\\x02\\x04\\x04\\x03\\x04\\x07\\x05\\x04\\x04\\x00\\x01\\x02w\\x00\\x01\\x02\\x03\\x11\\x04\\x05!1\\x06\\x12AQ\\x07aq\\x13\"2\\x81\\x08\\x14B\\x91\\xa1\\xb1\\xc1\\t#3R\\xf0\\x15br\\xd1\\n\\x16$4\\xe1%\\xf1\\x17\\x18\\x19\\x1a&\\'()*56789:CDEFGHIJSTUVWXYZcdefghijstuvwxyz\\x82\\x83\\x84\\x85\\x86\\x87\\x88\\x89\\x8a\\x92\\x93\\x94\\x95\\x96\\x97\\x98\\x99\\x9a\\xa2\\xa3\\xa4\\xa5\\xa6\\xa7\\xa8\\xa9\\xaa\\xb2\\xb3\\xb4\\xb5\\xb6\\xb7\\xb8\\xb9\\xba\\xc2\\xc3\\xc4\\xc5\\xc6\\xc7\\xc8\\xc9\\xca\\xd2\\xd3\\xd4\\xd5\\xd6\\xd7\\xd8\\xd9\\xda\\xe2\\xe3\\xe4\\xe5\\xe6\\xe7\\xe8\\xe9\\xea\\xf2\\xf3\\xf4\\xf5\\xf6\\xf7\\xf8\\xf9\\xfa\\xff\\xda\\x00\\x0c\\x03\\x01\\x00\\x02\\x11\\x03\\x11\\x00?\\x00\\xf3\\x91\\x1e\\xca\\\\\\xf5\\xfaT\\xc62\\x0e\\r!C\\x93\\xc7\\xd6\\x916+\\xf5\\xc5>@Dc\\xdf\\x9azG\\x87\\xe7\\xa5>h\\xcc\\xae6\\x8e\\x00\\xa2\\xe0S\\xa4\\xab\\x7fe(2\\xc6\\x90\\xa2\\x8e\\x9d\\xa9\\x01T\\x83A\\x1cS\\xe4\\xe4\\xd30h\\x01\\x94\\nv(\\xc7\\x14\\xc64\\xd2S\\xc8\\xa4\"\\x80#\\xa2\\x9f\\x8aLP\\x03i\\x05;\\x14s@\\tN\\xa6\\xd3\\xa8\\x01\\xb4S\\xa8\\xa0\\x06T\\xf0\\xc5\\x9c7\\xa7&\\x98\\x13\\x91W\\x13\\t\\x19\\xc7LS@5\\xe4\\xc6@\\xe8;\\xd5W|\\xb1\\xa7H\\xfe\\x9f\\x9dBM0\\x10\\x9ai4\\x1aJ@(4\\xb9\\xe2\\x9b\\xcd(\\xcf\\x14\\x01.x\\x03\\xd6\\xa2\\x93(M8\\x1ey\\xa4\\x93\\x9eh\\x00[\\x86_\\xff\\x00UZ\\x8bRd\\xc7L}*\\x88\\x04\\xd0i\\x08\\xdc\\x8fSG\\xc0n>\\x95e&G\\x1f+\\n\\xe6rEH\\x97\\x0e\\x9d\\xcd\\x02\\xb1\\xd3s\\x8aL\\x1a\\xc5\\x8bR\\x91:\\x9f\\xce\\xae\\xc5\\xa9#\\xe3p\\xfc\\xa8\\x15\\x8bg\"\\x9b\\x93\\xcd\\t4r\\x0e\\x18R\\x90x\\xa0\\x06\\x1c\\xf2i\\xbdqR2\\x10;sM\\xc5 \\x18iFx4\\xa4sM<P1\\xc0\\x9c\\xd3\\x89\\xe0\\xd3\\x05\\x07\\xa8\\x14\\x00\\x81\\xce*\\\\\\x9c\\n\\x8c\\x01\\xcd<P\\x00\\x9c=A#\\x92\\xe7\\x1e\\xbdjz\\xaf&\\x03\\x90=i\\x8d\\x12\\xf6\\xa6\\x93J:\\nJ\\x0674\\xd2iM4\\xd0\\x02f\\x8eizrx\\xaa\\xf2\\xdc\\xa8\\xe1?:\\x00\\x9c\\xb8NI\\xaa\\xd2\\\\\\x93\\x90\\xbd*\\x12\\xec\\xe7$\\xd3\\x0b\\x81L\\x07\\x13\\x9eM0\\xc9\\x8e\\x94\\xd2\\xe4\\xd3h\\x01I\\xcd\\x14\\x94\\xb4\\x80\\xe8\\x02\\x12\\xe35$\\x90\\x90\\x9b\\xb6\\xf0j\\xf3\\xdb\\x08\\xb1\\xb8\\x00z\\xd3$\\'a\\x00q\\x8c\\xd2\\x03?\\x18 \\xe3\\x8e\\x94\\xbei\\x1d>\\x94\\xe2\\x84\\xad0\\xa3s@\\x11I#\\x1a\\x8b\\x19\\x1c\\xd4\\xe5\\x0f\\xa5\\t\\x1ex\\x03\\xafJ.\\x04f\\x14\\xf2\\xf7\\x02s\\xe9P\\xf9g=*\\xdb\\xc4\\xc0\\xf4\\xc5\\x08Tg\"\\x8b\\x81P\\xc7\\x8ei\\x9b\\r];H\\xe9P?\\x1d(\\x02\\x12)\\xa4{T\\xbdh\\xd9E\\xc0\\x80\\x8aB*\\\\\\na\\x06\\x80#\\xc5\\x18\\x14\\xecQ\\x8a`7\\x14\\x94\\xecR`\\xd0\\x01K\\x8aNh\\x04\\xd0\\x04\\xb1\\x0ey\\x1cT\\xb2\\xbe\\x06\\x07\\xd2\\xa3\\x88\\xe3\\x9f\\xd2\\x9b)5H\\x08\\xdd\\x8f<b\\xa2$P\\xe6\\x9b\\x9c\\xf5\\xa4\\x01\\xc5%\\x14s@\\x0b\\xda\\x97\\x03\\x8aAO\\xa0\\x00w\\xa9\\xad\\xa3Ye\\n\\xc3;\\x8e8\\xab\\x96z-\\xc5\\xeci\"\\x0cF}\\xbd\\xf0+\\xb4\\xd0|\\x11\\xe5\\xe2I\\xc6\\xe6\\xceG\\xd2\\x80\\xb9\\xce\\xbf\\x84.$\\xb62[\\xe4\\xe4eT\\xfe\\x7f\\xe1U\\xed\\xfc\\x11\\xa9\\xcd0GM\\xab\\x907\\x01\\x9f\\xf3\\x8a\\xf6+\\x1d1\\x92\"\\x9b8\\xc7\\x1e\\xd5\\xa5o\\xa7(\\x93;@\\x04zu\\xa4\\xc2\\xc7\\x8f\\xdb\\xfc8\\xb9>`\\x91\\xf9\\xe8\\xb8\\x15z\\xcf\\xe1\\xc3\\x0b\\x98\\xfc\\xff\\x00\\x9a4\\x04\\x10{\\xff\\x00\\x93\\x9a\\xf5\\x98\\xec\\x06\\t\\xc7=\\x85N\\x96\\x18\\xfe\\x1eH\\xa5p\\xb1\\xe60\\xfc6\\xb6\\x062\\xca[i,y\\xebL\\xff\\x00\\x85o\\x0e\\xf9\\x1d\\xf2\\x0b\\x1c\\x81\\xd7\\x1f\\xfe\\xba\\xf5ai\\x8e1\\xc5+Y\\x0c\\x03\\xb4{S\\x0b\\x1eA\\x1f\\xc3\\xc9#\\x9eM\\xc5\\x8am\\xe0zVe\\xe7\\x85\\xb5\\x1b+`\\xff\\x00x\\xf2B\\x8a\\xf6\\xe9-\\x80F8\\xff\\x00\\xeb\\xd5W\\xb0I@\\x0e\\xa3\\xa6\\r\\x17\\x0b\\x1e\\x1e,o\\x00q$\\r\\x85 d\\x0e\\xa7\\xff\\x00\\xadU\\xce\\x03\\x959\\x0c\\xa7\\x07#\\x15\\xed\\xf2\\xe8\\xb6\\xee\\x84\\x04^\\xe7\\xa5s\\xf7\\x1e\\t\\xb6\\xcb\\xb0@]\\x89o\\xa9\\xff\\x00\\xebu\\xa0\\x9b\\x1e`p)\\x85s].\\xb1\\xe0\\xab\\xabg\\xdfk\\xb9\\x86\\x00\\x0b\\xd75\\xcf\\xde\\xdb\\xdci\\xa5\\x12\\xea=\\xae\\xcb\\xb8\\x81\\xce9\\xc7\\xe5E\\x80\\x84\\x8cR\\x84\\xe74\\x894rw\\xfc\\xea^\\x00\\xcf\\x18\\xa0\\x06\\x81\\xd6\\x9d\\xc5D\\xf3\\x01\\x801\\x9e\\xfe\\xd5]\\xee\\xba\\xe3\\xa0\\xe0{\\xd1a\\x96\\x1c\\xfc\\xe0T/\\x8f0\\xfdj#r\\t\\xcfn\\xd4\\xe4pNi\\xd8i\\x16:\\na\\xa5\\x0f\\x9c\\xd3d\\x91c\\xcez\\x8e\\xc2\\x90\\x05E,\\xc9\\x1fNMW\\x96\\xe5\\xa48\\x1c\\x0fj\\x84\\xfb\\xd0\\x04\\x92J\\xd2u<Td\\x81\\xd6\\x9a\\xd2\\xf6\\x15\\x1eI\\xa0\\x052\\x13IE\\x14\\x00QKE\\x00%-\\x18\\xa5\\xc5\\x00v\\xf7\\x11L\\xf2\\x1d\\xa08\\xc7\\xe7M8H\\xf6\\xba\\x15 w\\x15\\xabn\\xe8\\x06\\xee\\t\\xce).v8\\xe5x\\xef\\x91Ud$\\xcc\\x11\\x1a\\xf6\\xe9@\\x85OQV\\xaemW\\x04\\xc6\\x08>\\xd5^(\\xa5.2\\x0e\\x0f\\\\\\x8e\\x95\\x0f@\\xba\"x\\x97\\x9cv\\xa6\\xa4|\\x8c\\x0c\\x1a\\xb5q\\x1f\\x96\\x0b\\x15en\\xb9\\x03\\x83P&I\\x04\\x10q\\xc8\"\\x81\\x90M\\xbc\\x9eA\\xf4\\xaa\\xee+X\\xe1\\xc6\\x08\\xaa\\xb2F\\xbc\\xf1\\xd6\\x81\\x99\\xe4\\x11\\x9an*\\xd3\\xc5\\xedQ\\xf9m\\xef@\\x11\\x04\\x14\\x8f\\xc5<\\xa1\\xa6\\xec\\xcd\\x00Di\\x02f\\xa4\\xd9K\\xb4\\xfaP\"-\\x94\\xbeX\\xc5L\"n}\\xa90s\\x8a\\x00\\xacR\\x9aEYx\\x98s\\xd8\\xd0m\\xdb\\x00\\xe3\\xad\\x00T\\xdai1V<\\xb6\\x19\\x18\\xa6\\x98\\x8e7v\\xcd0\\x1b\\x10\\xc6i\\x92\\xe3q\\xc5J\\x80\\x8e\\xd5\\x0c\\x99\\x19\\xce}\\x8dR\\x02\\x03\\xef\\xde\\x9ai\\xc7\\xdf\\xf0\\xa6\\x9f\\xa5 \\n:\\xf4\\xa0\\x02z\\x0e\\xf5\\xd7xW\\xc3Ous\\x1c\\xd3G\\xc0\\xc1\\x00\\x8c\\xe6\\x809\\xfbm:{\\x84\\x1b\\x17 \\x8d\\xc3\\x1d\\xeb\\xa1\\xd2<\\x1b=\\xe1\\x8d\\x99\\x08P\\xe5Xt\\xafI\\xd3\\xbc+\\x142\\x07H\\xc0\\x19\\xc8\\\\t\\xae\\x92\\xc3K\\x8e\\x14 \\xc6\\xa0\\x16\\xcf\\x02\\x98nci^\\x1a\\xb6\\xb7\\x868\\xccc\\xe5\\x03<u\\xc5tv\\xdalC\\x90\\x98\\xe3\\x8a\\xbb\\x15\\xb0@8\\x1e\\xc6\\xac\\x00\\x00\\xe2\\xa4\\nq\\xda\\x84$\\x1ct\\xe3\\x02\\x9e!_N\\xd5c\\x1c\\xf3J\\x063HdI\\x12\\x80>\\xbc\\xd3\\xf6\\x0e\\x0f\\xe7N\\xdb\\xfc\\xf3E1\\x8cL\\x12i\\xc5\\x01\\xcd&0s\\xfc\\xa9\\xc0\\xd0\\x84W1\\x1c\\x1e\\xfc\\xfat\\xa8d\\x84\\x1f\\xe6M]\\'\\x14\\xdc\\x0eF(\\xb0\\x19\\xd2G\\xb3\\xe6\\x1e\\x98\\xa8d\\xc0\\x00z\\x0ekJD\\x07#\\x1d\\xaa\\x84\\xd1\\x9c\\xe7\\xfb\\xbc\\xd2\\x19Y\\xe3S\\x9d\\xca1\\x9e\\xf5\\xcf\\xeb\\x1e\\x1b\\xb6\\xbfI7\\xa0%\\xf8b\\x07$z}+\\xa1~\\x00f9\\xc9\\xce\\x05Cy \\x8a=\\xfd\\xf0p)\\xa14x\\xe6\\xb9\\xe0\\xe9\\xecs4g\\x00\\x1e\\x10v\\x15\\xcd;\\xcb\\x01(\\xed\\xc8\\xe0\\xe0\\xf4\\xae\\xbf\\xc6>)ine\\xb7\\x80\\xe7i\\xdaH\\xef\\\\3\\xb9s\\x96\\xe7\\'$\\xd3\\x15\\x92\\'3\\x12\\rG\\xbc\\xf7\\xe9\\xd6\\xa3-\\xc7\\xb6i\\x85\\xe9\\x81\\'\\x99\\x93\\xf8\\xe6\\xa5I\\x1b\\xd7\\x8e\\xf5[4\\xa0\\x9a@^\\x8el\\x9fJyM\\xe3%\\x89\\x15D>*h\\xe58\\xe7\\xa50\\x1cS9\\xc0\\xe0s\\x93U\\x1c\\x9c\\x9ej\\xf6K\\xa1\\xc7\\xa5Qp\\x01\\xa4\\x03ii)i\\x00QE\\x14\\x00\\xb4\\xb4\\x94P\\x02\\xd3\\xe9\\x94\\xea`u\\xf6wM\\xcag\\xe5\\'#5\\xa2eo4\\xa3v\\xeb\\xefX\\xd1[y\\x84\\xec\\x90\\x829\\xab\\x11\\xbc\\xe6e\\x0epUv\\x92jS\\xb2!i\\xa9\\xae\\x10\\x1c\\x01N1\\xacH\\xccG\\x00sU \\xba!\\x00$3\\x13\\x8e*\\xe5\\xd5\\xe4\\x7ff\\x11\\x0cg\\xbdZe]l\\x86\\xc6\\xebq\\x01\\x0c\\x83\\x19\\xe35F\\xe3JS\\xf3\\xa1+\\xcfn*\\xc4r\\xa8\\x18\\xcf\\xd2\\xad\\xc7\\x87\\x00\\x1a\\x07c\\nK;\\x88\\xf2S\\xe7\\x1d\\xc1\\xebP\\xc9\\'\\x96\\xdf\\xbcF_\\xa8\\xcduf\\xde$\\x00\\xe7\\x83\\xd4U[\\x9bh&%@\\xe9\\xd7\\x8a9@\\xe7\\xf0\\xb2\\x0f\\x94g\\xbf\\x15\\x0b\\xa0\\'\\x06\\xb7\\x7f\\xb0VG%2\\xa4\\x0e\\x08\\xe2\\xa8\\xcb\\xa5][9$\\tW\\xa1\\x04T\\xb8\\xb0\\xb9\\x9e\\xf6\\xeaS+\\xd7\\xbdW1\\x1c\\xf4\\xab\\xc8B;,\\xd1\\xba\\x11\\xea3L\\xf9~\\xf2\\x90@\\xf4\\xedJ\\xc3\\xb9Kf\\rM\\x1c`a\\x8f \\x1ej[\\x8b|\\x11\\xd3\\x91\\x9a\\x8bc\\x0c\\x8aC\\xdc\\x9e_/\\x1f(\\xebU\\xfc\\x93\\x82\\xf8\\xf9s\\x8c\\xd2\\x1c\\xf1\\xeci7\\xb6\\x08\\xeci\\x80\\xe3\\x0fOJ{\\xc60\\xa0u\\xee*1#\\nS!<\\xd0!\\x1e.x\\xa8\\x1a2\\x01\\x04T\\xe2C\\xd0\\xf1\\x9aWF(N2=E+\\x88\\xa4c\\xe2\\xaa\\xcd\\x9f\\xc2\\xaf\\xb8\\xe2\\xaaM\\x13c+\\xc9\\xefT\\x98\\x14\\x8f?Jtq4\\x8e\\x14)\\xf9\\x8e\\x01\\xf5\\xa9\"\\x84\\xbb\\x90G\\xf4\\xae\\xe3\\xc2\\xde\\x1eYB\\xb4\\x81\\x9d\\x0e\\x08`3\\x8f\\xc2\\x98\\x14|=\\xe19\\xee\\x08y\\xa3\\xc8n6\\x91^\\xb3\\xa3\\xe9Im\\x02&\\xc0\\xae\\x00\\x05qRi\\xdad6\\xfbB\\xe0\\x1ct\\x15\\xab\\nbBH\\xdb\\xb4\\xe3#\\x9c\\xd1pH\\x9e\\x18V2\\x06\\x0eq\\x9a\\xb7\\x14c\\x02\\xa3\\x03~?C\\xebVUv\\xae)\\x0cZ(\\xa2\\x98\\x05\\x14Q@\\x05\\x14Q@\\x08FF)0@\\xc0\\xa7QJ\\xc04\\xfd*\\x03\\x91\\xf5\\xa9\\xcf\\x1c\\xd4O\\xc9\\xcd\\x0c\\x06\\x1c\\xf3\\x9a\\x86A\\xd4z\\xf6\\xa9\\\\\\x9aa\\xc3\\xe4\\x9aC(\\\\F\\x008=\\xb8\\x15\\xcek\\x13H\\x96r\\x9eAU {WMp\\x99\\'\\x07\\x80:V\\x1e\\xa7ln`u |\\xc0\\x83In\\x07\\x81\\xdf9{\\xa9\\x0es\\x96$\\x93\\xde\\xab\\x13\\xed]\\x17\\x8a\\xb4\\x88\\xb4\\xcb\\x90\\xb0)#\\'s\\x1f\\xf3\\xd3\\xb5s\\x84\\x9a\\xb2@\\x9aJ)(\\x01iE%.i\\x00\\xa3\\x14\\xe1\\x9ah\\xe6\\x9c\\x0e)\\x81f3\\xf2\\x11\\x9e\\xd8\\xa8%\\x00v\\xfc\\xeaX\\xc8\\xc8\\xa6L\\x0f\\x1e\\xfc\\xd0\\x04\\x14R\\xd1\\x8a@\\x14R\\xe2\\x97\\x14\\x00\\x82\\x9dE\\x18\\xa0\\x04\\xc5/\\xe3F)\\xd8\\xa0\\rx\\xe5\\x9e8\\xf2Wk\\x8e\\xd9\\xea*o\\xed& \\x87\\xee1\\x9a\\x8a\\x1b\\xf4\\x92m\\xb7\\x11\\xe5OSN\\x16\\xab,\\xf2@\\x8e\\x0bcr\\xfa\\xb0\\xf6\\xfaVI\\xb4\\x8c\\x9bH\\xbb\\x15\\xf5\\xbaB\\x8c[\\x0c\\x0f5f3\\xf6\\x82\\\\0a\\xeck\\x1a\\xe6\\xc9K\\x81\\x19R1\\x9d\\xb9\\xebW$\\xb7H|\\xb6\\xb4\\x91\\x95\\x1drrrT\\xfa\\x1fj\\xbed\\x96\\xa3SH\\xd4\\xb8\\x8b\\xc9\\x91P\\x1d\\xd9\\x00\\xe7\\xd2\\xae\\xc5#`f\\xb2\\xec\\xe4o9\\xe0\\x90\\x91)\\\\\\xc6\\xcd\\xca\\xb7\\xb5hZ\\xcb\\x1d\\xd3\\x98\\x890\\xce\\xbc\\x05n\\x03\\x1a\\xa4\\xfa\\x94\\xa4\\x99i\\xe6\\x00\\x00s\\x8aD\\x960wsI#\\xc4\\xf1\\x84\\xce%\\x07\\x05O\\x18\\xa8\\xfe\\xce\\xc7\\x03<\\x13T\\xdd\\x8a\\xf34m\\xefc\\xc8\\x1d*\\xc4\\xd2\\xc4\\x91\\x99$\\x03ny>\\x95\\x85\\xe7$dF\\xe7\\x0c:g\\xbdiX\\xdc\\xa5\\xc0\\xfb<\\x98!\\x860i\\xa9\\\\\\x05{h\\x1c\\x87e\\x05Xp@\\xcde\\xdfhq\\x18K\\xc66\\xb3\\x1c.;\\xd6\\xad\\xbcF\\xc2\\xe4Z\\xc8I\\x82\\\\\\x98\\x89\\xe7i\\xfe\\xef\\xd0\\xd6s\\xde\\xac:\\xb1\\xb7fo\\xb3d\\xb4g\\xd0\\xfa})7\\xdc\\x96\\xecbMcy\\x19\\x1cn\\xda0A\\x1d)\\xb1[\\xcd&wD\\xc0\\x01\\x93\\x81\\x9cWO-\\xccr\\xbf\\xca9\\xefG\\xca\\x80\\x1c\\x00G\\xe1K\\x95\\x14\\xb49\\xb4\\xb2S\\x86\\x0e\\xac\\xa0\\xf3\\x8e\\xd4\\xbfa\\x06p\\xa5~Q\\xd4\\x13\\x8c\\xd5\\xeb\\xa8b.J\\x00\\x0f\\\\\\x8a\\xaa\\xfei\\x03\\x0f\\x92:\\x03\\xcd&\\xac\\x04\\x1a\\x8d\\x9cq:\\xf98\\xc1\\x19\\xe0\\xe6\\xa9\\xec(j\\xfc1J\\xf71\\xa5\\xc0\\xf9\\t\\xc6\\xe1\\xce*\\xdc\\x9at_8\\xce\\x19\\x18\\xa9\\x07\\x8c\\xd46\\x909%\\xb9\\x93\\x1c~`$\\x8e\\x07\\x19\\xa6e\\xa3b;\\x1a\\xb8]cC\\x1e@\\xc9\\xc8\\xa8p\\x1d\\x80\\xcey\\xa4\\x9bj\\xe0\\x9a{\\x95\\xf6oq\\x80\\x06i\\x12\\x1cL\\x12@@\\xcf\\xd6\\xae&\\xdfNG\\x15-\\xb2-\\xc5\\xd2\\xc5\"\\xee\\x0c@\\xe6\\xa9\\x03\\xd0\\xdc\\xd1|=mt\\x11\\x8chN9$g5\\xe8Z.\\x93\\x1d\\x94 *\\xae1\\xc0\\x03\\xa5R\\xf0\\xf6\\x90\\xb6\\xf0\\xae\\xc5*\\x9e\\x84g\\x15\\xd5C\\x0f\\x97\\x803\\x8e\\xc6\\xaf`C\\x12\\xd5\\x0b\\x86\\xc6\\x08\\x1cqV\\xa2\\x88\\x00s\\x9e(\\x00\\xe4q\\xc5L\\x98\\xfa\\x1aC\\x15S\\x07\\xd8\\xd3\\xe9)h\\x00\\xa2\\x8a)\\x80QE\\x14\\x00QE\\x14\\x00PzQH\\xdd?\\x1a\\x00k\\xf4\\xc50\\xf03\\xdf4\\xb28\\xe2\\xa3w\\x1f\\x88\\xa4\\x04`\\xb1\\xc9n\\xbd\\x050\\x9c\\x93\\xe9R\\xef\\x1b:\\xfdj\\x12Gj\\x06C(\\x00cnsYWEI\\xe9\\xff\\x00\\xd6\\xadi\\x1c\\xfbzVU\\xd0\\x19b9\\xee=\\xeaX\\x1c\\x87\\x8b,\\xa3\\xb8\\xb0\\x90\\xc66\\xbb\\x02\\x03\\x11\\x9c{\\xd7\\x91\\xdcF\\xd1H\\xc8\\xd9\\xc8=\\xf8\\xcd{\\x95\\xf4{\\xd0\\xa9@\\xe4\\x8e\\x175\\xe6>$\\xd0\\xe5\\x86\\xe9\\xa7\\x90\\xae\\x1c\\xfd\\xd0x\\x06\\xa92Z\\xb1\\xcaRU\\x99-\\xbc\\xb0y\\x07\\x1cp*\\xb1\\xa6\\x01KIFh\\x01\\xd9\\xa7&:\\x93L\\xa7\\x01@\\x13\\xc6\\x7f:%~\\xd8\\xa2\"*f\\xb72\\x01\\xb0r\\x7fZ\\x18\\x14\\xf1V\\x12\\x15)\\x92y\\xc5DQ\\x90\\xed`A\\x1d\\x88\\xa5\\xdezRw)5\\xd4m\\x18\\xa5\\xa7\\x00($LR\\xe2\\x9c\\x00\\xa5\\xc5\\x007\\x14\\xb8\\xf6\\xa5\\xe6\\x8f\\xce\\x804.\\xad\\xe7\\xb7\\xb9\\nc\\x000\\xc6G4\\xd8O\"B\\xc5e\\x88\\xe5X\\x1e\\x94\\xafq<.70q\\xd9\\xba\\xe6\\xa7\\xb2\\x89o&\\x1c\\xa8g<\\x03Yn\\xee\\x8c.\\xed\\xa8\\xdb\\x94\\x19k\\x8d\\xdbX\\xf3\\x81\\xeb\\xfe\\x06\\x80\\x93\\xbc\\x06l\\x10S\\x040=A\\xad\\x1b\\xad%\\x84m\\x1c\\xc0\\xfb\\xa9\\xe0\\x8a\\x90Fm\\xb4\\xa1k\\xb7z\\xb2\\x90\\x1b\\xb8\\xa2\\xdd\\xc1Y\\xa2\\xaajQ\\xa5\\x9cJ\\xe0\\xee\\x07\\x04\\xf5#\\xff\\x00\\xadG\\x98\\xd7H\\xc5d\\xf9\\x90\\x82\\xac\\rD\\x96q\\\\B[xW_\\x95\\x87z}\\xbe\\x8fs\\x18\\x12F\\x1b\\xcbn\\x0b\\x1e3Ot\\x16V\\x1fu{\"L\\xabp\\xc7*\\x01W\\xad\\x1bie{1:N\\x19I\\xe8{\\x1a\\xcc\\xd4c\\xf3\\x0cp\\xed$\\xa89\\x1dN?\\xc7\\xbdM\\xa6\\xdb\\xc9m\\x04\\xf0\\x16b\\x0f\\xcc\\x87\\x1d\\x0f\\xff\\x00^\\x8b\\xb5\\xb8\\xf9\\xac\\xb4$7\\xab-\\xc7\\x910*\\xecx=j\\xce\\x93p\\xb6\\xf7\\xb1\\x99\\x9b1\\x93\\x85l\\xf45^\\xea\\x18S\\xcb\\xb8\\xc7\\xef%\\\\\\x1fb*+\\'\\x89\\xcc\\xb1s\\xbc\\x9d\\xc1s\\xdf\\xda\\xa5J\\xcd\\r\\xcc\\xea5\\x1b\\xa1q\\x009\\x01wd0\\xed\\\\\\xce\\xaaXO\\xb3\\'\\n\\xd9\\x06\\xac\\\\\\xcb,Zd\\x91\\x86\\r\\x10\\xc9\\x07\\xba\\x9fJ\\xca\\x96\\xe1\\xee$\\xde\\xc7!\\x94\\x11\\xefV\\xe5\\xcc\\x85{\\x97\\xe3\\xbex\\xca\\x9d\\xacr~\\xf1\\xefVd\\xbc\\x92\\xe0+&H#\\xb5d\\xc5p\\xd1?\\x91&\\x04lr\\xac\\x0ep\\x7f\\xfa\\xf5\\xa7\\xa4]C\\x16\\xf8$\\xce\\xf0IR\\x0fZJM4\\x99JMnW\\x92\\xe6A\\x95#i\\xeeMGl\\x19\\xeec\\xdf\\'\\xcb\\x9c\\x9a\\xd2\\x99-^L\\xb9\\xc3\\x11\\x92\\xa7\\xb5g\\xa5\\x93\\x99\\x0c\\x80\\xe60x \\xf4\\xa1\\xbdt\\x1d\\xeeh8d\\xb9\\x1d\\x08V\\xe9\\xeb[\\x1a\\x8cQ\\x13\\x92\\x17\\xe6P\\xc7\\xf2\\xaezR\\xc6H\\xd8\\x1e1\\xcf\\xbe+R\\xf2f\\x91\\xed\\xca7/\\x10S\\xf8U\\'\\xdc\\x1b\\xd5\\x19\\x7f`[\\x87q\\xd8\\x9e\\x0f\\xa5W\\x8e\\xcd\\xa3\\x05du\\xc08\\xdc\\xa35\\xa6.\\x16\\xcc6\\xdf\\\\\\x10k:k\\xe5\\x13\\x10\\x10\\x15<\\x86\\x1cRZ\\x12\\xa4\\xeeO\\xe4\\xc5\\x0c\\xc2)0X\\xe1\\x83g\\x19\\x06\\xba\\xdf\\r\\xe8!\\xca\\xcc\\xc1vg+\\x8eq\\\\\\x14\\xd7\\x9fl\\xbd\\x8d\\x89\\xc6\\xd2\\x01\\xca\\xe7\\x15\\xeb\\x9e\\x13\\xb5\\x8cXF\\xeaI\\x04\\x0c\\x12z\\xff\\x00\\x85Z]KW\\xeatVV\\xca\\x88\\x00#\\xa785\\xa4\\x83n:\\xe0t\\xa8aEA\\xd7\\xebR\\x83\\xd8n\\xc7Z\\x0b\\x17\\x92~\\x9c\\x8ax \\x7fZ\\x86L\\x8eA#\\x1dE8~\\xb4\\x0c\\x98\\x11KQ!\\xff\\x00\\x0e)\\xe1\\x87?\\xca\\x81\\x0e\\xa2\\x900\\xedF\\xe1L\\x05\\xa2\\x9b\\x9eA\\xfd)I8\\xe3\\xd2\\x80\\x16\\x8ai8\\x00\\xf3\\xc51\\xa49\\x00w\\xf4\\xa0\\t8\\x06\\x9b!\\xe2\\x99\\x9c\\xe4\\x93\\xc0\\xa8L\\xb9\\xc9\\xfc9\\xa4!K\\x9c\\xfe\\x95\\x1c\\x8f\\xd4\\xe398\\xa5\\x12\\x0e\\xfe\\x95\\t\\x938\\xc7\\xaf\\x14\\x0cy~1\\xdc\\xd4Rd&G\\x1d\\xb9\\xa7d}O\\\\\\xe6\\x99)n\\t#\\x1d\\xe8c\"y0\\x08\\xc7>\\xf5N\\xe0\\x07L\\x822O5fQ\\x8eq\\xdb\\xebU\\x1fi\\x075,\\x0c\\xcb\\x88\\xd9\\xdc\\xe3\\x80\\x063YwZ|W \\x86\\x00\\x8e\\xf9\\xe75\\xbd1\\x18\\xc0\\xf4\\xe7\\xde\\xb3%\\x8c\\xe4\\xfc\\xbd\\x0ephL\\x19\\xe7\\xba\\xf6\\x90\\xb6\\xe1\\x82*\\x80Nv\\xa8\\xc5q\\xd76\\xed\\x13\\x9c\\x8cW\\xadj\\xd6\\xa6X\\xce\\xe4\\r\\x8eN+\\xcf\\xf5\\x8b6.\\xe5q\\x81\\xc9\\xc0\\xff\\x00<\\xd5\\x92`QA\\xe0\\xf4\\xc7\\xb7\\xa5&E\\x00(\\xcd;\\xebM\\x18\\xf5\\xa7-\\x00Y\\xb6@\\\\g\\xa7\\xbdm\\xd8B\\xd7\\x13\\xa8A\\xf2\\x8eO\\x1d+?M\\xb3y\\x9c\\x00\\xa7\\x04\\xe38\\xae\\x9e\\x14\\x8a\\xc2\\r\\xbd\\x19\\xba\\x9fZ``\\xeb\\xd0\\xacr\\x02\\x079\\xc6k\\x1e\\xb6\\xb5\\xa9\\x84\\xe4`\\x00\\x01\\xe35\\x94c\\x00\\x02z\\x9e\\x95 3\\x14\\xa34\\xefj\\x05\\x00.1\\x8c\\xf7\\xe6\\x96\\x8cz\\xd2\\xe2\\x80\\x14 \\xa3`\\xa5\\x00\\xf4\\x14\\xfd\\x9e\\xd4\\x00\\xb0\\xdc\\xb43\\x82\\xea\\x18/8=\\xebF\\xce\\xd5Cy\\xcd\\xb9\\x12Pv\\xb7Q\\xff\\x00\\xeb\\xa5\\xd4l,\\xe2(\\xd6\\x92y\\xb1\\x13\\x82\\xad\\xc1\\x14E\\x1al\\xf2\\xadfd^\\xa679\\xc1\\xac\\x9bW\\xb1\\x83v:m:\\x11\\xa8\\xd8,7s\\xab\\xcb\\x1f\\xfa\\xa9\\x87\\x07\\xe8j\\x01\\x8bk\\xc9-.P\\xb2\\x91\\x90\\xc0t\\xcf\\xf45\\x9d\"K\\x15\\x98\\xbb\\xb6?\\xba\\'l\\xca\\x0f\\xfa\\xb7\\xff\\x00\\x03\\xd6\\xb4\\xac/\\xe0\\xd5v\\xc7#*\\xdeD02q\\xbcU\\'}\\t2N\\x93=\\xbc\\xa6h\\x01\\x91\\t\\xc9R9Z\\xbd\\x1e\\xa2\\xc4\\x08\\xdc\\x91\\xb0s\\x81\\x9a\\xd0\\x97W\\x82\\xc7RD\\x8f\\xee\\xc8v\\xc9\\x0b\\x8f\\xba\\xde\\xde\\xc6\\xae^\\xd9\\xd9\\xea\\xd0\\x9b\\xbd=\\xc4WJ\\xb88\\xe3?QG/\\x98\\x18\\x0b\"\\\\\\t$\\x8dY\\xa5\\x03\\xee\\xe3\\x05\\x87\\xb7\\xb8\\xa6\\xc3x\\xf6\\x04\\x99\";X\\xe7\\x9eqU>\\xdbqc\\xb9f\\x8b2\\xa3g\\x91\\xcf\\xff\\x00\\xaa\\x96=Yu\\x10#\\xba\\x88\\xa3\\x93\\x85aS\\xba)\"\\xe6\\xa5\\n\\x7fd\\xc7v\\x80\\x01\\xb8\\x82\\xbf\\xadd\\xe9\\xce\\xa2\\xe7\\xcdR\\x1d7\\x06\\xf7\\x1f\\xfdj\\xd6\\xbc\\x98&\\x9a,\\xe6\\x1bs\\xd3\\xde\\xb9\\xef\\xb3Kl\\xe0\\xc6IPy\\xc5\\n\\xd7\\xb0y\\x1b\\x9a\\xe7\\xc9r|\\x93\\x88\\xddAe\\xf5\\xac\\xb8\\xedC\\xb9\\x90\\xbe\\xd8\\x94a\\xb1M\\xfbD\\x8e\\n\\xc8\\xd9\\x0b\\xf2\\x9c\\xf6\\x06\\x88Q\\xfc\\xb7,p\\x8c\\xc0\\x01\\x9e\\xb5-\\xea\\xc4\\x9d\\x8a\\xf78\\x93\\xe5\\x8d\\x80\\xda\\xdc\\x1a\\x1eF\\x89\\xf7&\\xe3\"\\x81\\xc8\\xab\\x86%\\x05cx\\xc6\\xd6\\x1d\\t\\xc55,\\xe5\\xb7\\x91\\xd5@t#\\x8c\\x9e\\xb4^\\xc3m\\x11\\xc7rD\\x80\\xcf\\xf3\\x96<7\\xa5l\\x07h\\xe3.\\x98\\x00\\x8c\\x8e\\xd9\\xa8ml x\\xc9\\x87\\xe6\\'\\x96\\x85\\xff\\x00\\xa1\\xabp\\x85\\x92\\x16\\xb7\\x0e\\xaa3\\x95\\xdf\\xce\\xdai\\xa2\\x94\\x96\\xc5Cr\\xd2c\\x0b\\xc7C\\xedV>\\xd0M\\x9c\\xcaA\\x12 \\x0e\\x95\\xad\\r\\x94Q\\xd8J\\x93\\x04\\x04\\x8e\\x19\\x0eq\\xc5r\\xcf4\\x96\\xf3\\xac\\x8cU\\x8a\\x9c\\x109\\x04Rm\\x92\\xdd\\xc6\\xcdx\\xc0`\\x92w\\x1c\\xf3\\xda\\x9eo\"\\x8e\\xc0\\xc2\\x06X\\x9c\\x92\\x05S\\xbc\\x8b.\\xd2+~\\xec\\x9c\\x83\\x9c\\xd5X\\xe42\\x11\\x10\\xc0\\x19\\xfb\\xd9\\xc6?\\xfa\\xd5\\xac\\x11j7:_\\x07\\xe9\\xcb\\xab\\xea\\xc5\\x180\\xda\\x01\\xdc\\x061^\\xdf\\xa7Z\\x88`U<\\xe0r}k\\xcf~\\x1d\\xe971B\\\\\\xbco\\x13r6\\xff\\x00Z\\xf4\\xc4\\xfd\\xda\\x01\\x8c\\x0c\\xd6\\x8fEb\\xd0\\xf06\\x1e:\\x1f\\xd6\\x8d\\xec\\x08\\xea=\\xe8$\\x1e\\xe3\\x1e\\xd4\\x9b3\\xd5\\x8f\\x1d*lP\\xef79=\\xbbS\\x0c\\xb8\\xe4\\xe7\\x04\\xf5\\xc7J<\\xbc6s\\x9e\\xfdi\\xbeb\\xff\\x00\\x10\\xe2\\x8b\\x0c\\x91%RN\\xd3\\xcfq\\xebM\\x92\\xe0&H\\xe7\\x1c\\xe3\\xd2\\xab\\xc9\\xe5\\x9eS\\x87\\xc6q\\x9cT/&yf\\x0b\\x81\\x90O\\x15V$\\xbd\\x1d\\xca\\x9c\\x1c\\xf2x\\x1d\\xb3S\\x97\\x1c\\x1c\\xf5\\xac!t\\xa2|\\x07V\\xcf8\\x07\\xaf\\xff\\x00^\\xad\\xfd\\xbdP~\\xf0\\x8c\\x83\\xc8\\x02\\x804\\x9c\\x93\\x8c\\x1f\\xad/\\x99\\x80\\x06{qU\\x92m\\xf8\\xc1\\xfag\\xbd)`\\xe3\\x8f^\\xf5 J\\xf2)\\x1c\\x13\\x9c\\xe2\\x98d?\\xae*98L\\x83\\x83\\xd8\\x9a\\x82IBd\\x92I\\xf4\\xa0c\\xdeV\\xe5}i\\xbb\\xc8\\x03<s\\xc79\\xaa\\x92]bN\\xdc\\x0cs\\xda\\x9af\\x0f\\x92\\xc7\\x1e\\xe6\\x80-\\xf9\\x9ds\\xcex\\xfa\\xd1\\xbcd\\x0f\\xf2*\\x9f\\xda\\x14\\x11\\xb4d\\xe3\\xbd(\\xb889 \\x1e\\xfd\\xa8\\x11p\\xf3\\x80\\xa7\\x9e\\xfe\\x94\\xdd\\xe7\\x90{Ux\\xa5\\xe3\\x04\\x8c\\x9e\\x9d\\xa9$$t<c$\\x83\\xd6\\x81\\x84\\xaeO\\nr{\\x9a\\xa7#\\x94<\\x8c\\xf3\\xce*\\xc9*@\\xc0n\\x0f\\xad6D\\xe0s\\x92\\x7fJ\\x96\\xae2\\xa4\\xa8\\x1f\\x078\\xc1\\xe2\\xaa\\xca\\x8a\\x9drO\\xa5]17\\xde\\xe3\\x02\\xaaJ6dg%\\xbf\\x0cP\\x80\\xcb\\xba\\x8d\\xa4F9+\\xc7\\x18\\xaeWW\\xd3X\\xc2\\xcaT\\x03\\xd418\\xc5v\\xdeX9\\xf6\\x1d3\\x8a\\xc5\\xd5m\\xb7\\x92\\\\\\x1f-\\xbbg\\x15HG\\x91\\xde\\xc2\"\\x9c\\xaa\\x90\\xc0\\x7f\\x10\\xefPWG\\xe2\\x1bh\\xd0\\x93\\x19R3\\xc2\\x81\\x8cV5\\xbe\\x9dss\\xcc13\\xfd\\x06i\\x88\\xac\\x83&\\xaf\\xdbX4\\x8a\\x18\\x9cw\\x19\\x19\\xcdmh\\xde\\x0f\\xbb\\xbc!\\xe6B\\xa9\\xf5\\xc15\\xdc\\xd9x*(\\xad\\x8a\\x84\\xdb#\\x0cp\\xc4Qp\\xb1\\xc2[L\\xd6\\x89\\x80\\xdd)\\xcfp\\xf3|\\xee\\xc7\\'\\xd6\\xad\\xf8\\x9e\\xc1tY\\xfc\\xb0C1\\xe8\\xa3\\x9c\\xff\\x00\\xf5\\xab\\x97\\x92\\xeaY~^\\x83\\xd0R\\x02\\xcd\\xec\\xab#\\x80\\xa7!y\\xaa\\xe0\\x93\\x8fj`\\xa9\\x01\\x00P\\x01\\x83F(\\x1954h:\\x9a\\x00\\x8c\\x03\\xe9O\\x08jtE<\\xd0\\x00\\xfc\\x05+\\x80\\xc4\\x1e\\xd4\\xfc\\n8\\xedN\\xd8=h\\x03B?\\xb1\\xdfF\\x0b\\xca\\xd1J\\x0e\\x08\\x03\\x83P]D\\xd6\\xd2\\x03\\xe6\\x07\\x8f\\x19\\r\\xd3\\x15Z)!\\x96C\\xbdLg\\xb3\\x01\\x8a\\xb5q\\n\\xcd\\x00U\\x900\\x03\\x92\\x0fJ\\xc1\\xad59\\xb6\\xdce\\xae\\xb4\\xd6\\xb7,\\x17\\x98\\xa5]\\xb2\\xa7PG\\xf9\\xe6\\xb5/\\xb4\\x88\"\\x11\\xdd[;\"HA\\x8eT?t\\xfa}\\rr\\xb2B\\xc9!U9+\\xdf\\xd6\\xb7\\xf4MqB\\x1b\\x1b\\xf4\\xff\\x00F\\x90`1\\xfe\\x13\\xfe\\x06\\xae:\\x14\\xd7T>\\xf2F\\xbcA\\x1d\\xf2\\x84\\xbbQ\\xf2\\xc88\\xdf\\x8e\\xff\\x00Z\\x92\\xc6\\xe2Hnep\\xc4\\x16\\x8fvGc\\xff\\x00\\xd6?\\xce\\xa2\\xb9\\rm0\\xb7\\xb9+,+\\x96\\x89\\x88\\xe4\\nm\\xbd\\xca\\xc3s\\x83\\x1b\\x14\\xc7*y\\xc0\\xff\\x00\\nR\\xbd\\xc9{\\x17#\\xd4\\xa2\\xd5\\xa1\\x0f2\\x85\\x9e#\\xf3`\\x7f\\x9e*{\\xdd\\x12+\\x85\\xf3\\xb4\\xe9@\\x94\\r\\xc6&8\\xcf\\xb8>\\x95\\x03\\xd9[\\xdbL\\x93\\xab\\xe6\\xdeA\\x90\\xcb\\xdb\\xebKcp\\xcf\\x19P\\xac\\xc8\\xb9(\\xeb\\xce=\\x8f\\xb5;+\\xd9\\x85\\x9e\\xe8n\\xb6\\xfb\\xf4{?9J\\xdc(\\xda\\xe0\\xf1\\xc8\\xaaqK\\x18\\x84\\xb1c\\xbbnU\\x87c\\xef\\xeczU\\x9b\\xab\\xa6\\xb9\\x06)6\\xc8\\x14d\\x12pk4\\xc8\\x88\\x81\\x02\\xe5O \\xd4\\xcd\\x8ft:l$\\x81\\'\\x01L\\xab\\x90\\xc0\\xf0}),\\x06\\xc9\\xa43}\\xd8\\x94\\xe1s\\xd4\\xd3\\xa3\\x88K\\xb27p\\x10\\xfd\\xdd\\xfc\\xe3\\xff\\x00\\xd7Z\\xfan\\x9de,\\xe5\\x1eA#J\\xbbCc\\x1bXR\\x8a\\xbb\\xb8^\\xc6)\\x95\\xaeM\\xb8\\x99\\xc2\\xa2\\xa1C\\x9e3\\xcf\\xf4\\xab\\x1e\\\\P\\xdb\\x0f.\\xe0;\\xb1\\xc0-\\xfc4\\xf9\\xadT\\\\\\x8f=@\\n\\xb9\\n\\xbd\\t\\x1cVm\\xe42B\\xe1\\x82\\x95\\xf3\\x0eV\\xad\\xf6\\x1d\\xaej\\x81s\\x14\\xca ]\\xe2E\\xce\\xe5=)\\xb3X\\xc9n\\x1aI\\xe6\\x1f9\\xce3\\xd2\\xa9iRJ^E\\x91\\xca\\xc7\\xb7\\xd7\\xa5Y\\xb6\\xb5Ic\\xdd<\\xed\"F\\xf9\\xc1\\x15*\\xc9\\xd9\\x85\\x92\\xdc|WM\\r\\xb4\\xd0\\xbb\\xb6\\\\q\\xcfLVl\\xb2\\x04C\\xc9\\xcf_Z\\xb1q\\xb2)\\x0b!\\r\\x80@\\x04\\xf4\\xaa\\x13H$\\'\\x1c\\x13\\xd6\\x9c\"\\xdb\\x08\\xab\\xb23+\\x11\\xc7 \\xf5\\x15gE\\xb6[\\x9dB5\\x9b!\\t\\xc6\\xd09?J\\xa6\\x80\\x02\\x14\\xe3i<\\xf3\\x8cW\\xa0\\xf8\\x17N\\xb3\\xb9\\x99f\\x9aXeX\\xf9V\\x00\\x82\\xbe\\xdf\\xfe\\xba\\xe8J\\xc6\\xdb#\\xd0\\xfc/d\\x96\\xd6I\\xb1Y\\x01\\x1c\\x06\\x1c\\x9a\\xdd#=?\\x13Q\\xda\\xa2$k\\xb3\\x18\\xc7\\x02\\x9d#\\x81\\x9ez\\xf5\\xa1\\x8d\\x0e\\x08\\xa7#\\xae;\\xe6\\xa4\\x11\\x9f\\xe1\\xe3\\xebUF\\xd3\\x81\\xb8g\\x1508\\x03\\x07\\x1cRH\\t\\n\\x0e\\xad\\x9c\\xfbSJ1\\xe5I+\\xec)\\x12E\\'\\xe6\\'\\x1d\\xf9\\xa8o/\\xa0\\xb6L\\xc8\\xea\\x10\\x0c\\xd3\\xb0\\x11__[\\xe9\\xb0\\xbd\\xc4\\x8c\\xa1W\\x92\\xa7\\x8a\\xf2\\xaf\\x12x\\xfe{\\x9b\\xa9\"\\x84\\xa8\\x88\\x1e\\x00\\xe8*\\xdf\\xc4/\\x15\\x1b\\x91\\xf6[G\\r\\x1b}\\xe2\\x0ek\\xcdv,\\x84\\xf9\\xd22\\xb7\\\\\\x01\\x9c}i\\x81\\xdc\\xf8O\\xc42\\xc9r\\xebr\\xe5\\xe3R\\x0e\\xe3\\xda\\xbd\\x0e\\xc2\\xea-K\\xe6C\\xb9I\\xceA\\xff\\x008\\xaf\\x07\\xb7/ey\\x1f\\xef\\x18F\\xdc\\x06^\\xf5\\xec~\\x12\\x85\\xad\\xadWr\\x82\\x8e\\xa0)\\xe9\\x9a@u\\xfd0\\xc1\\xb8\\xe9\\xf4\\xa7\\x82\\xc9\\x19=A\\xe8*\\x82n\\x7f1c$\\x8c\\xe0\\xe7\\xa1\\xabE\\xd8 \\xc7!N\\x0f4\\x00\\xd31.wp\\x00\\xc6\\x0fj\\x82L\\x8c\\x9eNy#\\xa5Xt\\xd8\\x0b\\xb1\\x07\\x1d=\\xea\\xa4\\xbb\\xe4\\x05\\xb8\\xe7\\xa1\\xa9\\xb0\\xc8d8\\x19\\xc1\\xcb\\x1eN*\\x19n\\x00A\\xc7\\xce}{R^\\\\\\x08\\xd3\\x03\\xa2\\x8e\\x0fL\\xd6\\r\\xd6\\xa2\\xc4\\x08\\xd1\\x80\\xdcp9\\xa0E\\xe4\\xd4T\\xb9\\x19\\xce8\\xe0\\xf5\\xa9\\xe3\\xb9\\x12\\x11\\x80v\\x8eN\\x0fZ\\xe6^\\xe2\\xda\\x19\\n4\\xc4\\x1e8\\xf5\\xcdk[\\xbbycl\\x8aS\\xd0\\x1eh\\xb0\\xcd\\x98\\xeeY\\xfeP\\x00\\x1d\\xc9\\xedS\\x17\\'\\x19o\\x9b\\xb0\\xf4\\xac\\xe0H\\x00\\x86\\xe7\\xfb\\xa3\\x93S\\xef\\xcau#=\\xba\\xd0\\x05\\x832\\x8ce\\xb2A\\xed\\xceiL\\xd8\\xe7\\x93\\x9f^\\xd5_\\xcaR\\x067\\x80;\\xd4\\xbb\\x14\\x8c\\x0c\\x8fBOJ\\x91\\x8f\\x92BS\\x8e\\xa6\\xa8\\\\dg\\x8c\\x9e\\xbc\\x1c\\xd4\\xc50p\\xccq\\x8e\\x0f\\xadAq\\x13pT\\x9f\\xa0\\xa6\\x05D\\x99\\xder\\x19\\x00\\x8c\\x0e\\x0ey&\\xab\\xde\\x1d\\xe8T\\x93\\x9e\\xc35+\\xe4\\x0c)\\nI\\xe1Oz\\x82\\xe6=\\xf1\\x9e\\x80\\xfa\\x9e\\xf4\\xd03\\x8e\\xd6\\xec\\xa1$\\xba\\xb9\\xdez\\xa8\\x19\\xfeucA\\x89Q\\x06Ts\\xc1\\xe2\\xad^G\\x19S\\xbf%\\x87L\\x0c\\xe2\\xa2\\xb0\"2s\\xc8\\xcf\\x14\\x98\\x91\\xd6i\\xa5P.\\x060{\\xd6\\xcf\\x9b\\x92\\x10\\x13\\xd3\\x9cW5g!\\x04`{\\xf3[qJ\\x81\\x01<\\x9fa\\x9c\\xd0\\x86\\xcc_\\x14\\xf8~\\xde\\xfe\\xcd\\xdcE\\xfb\\xd3\\xc9`2O\\xe3\\xe9^Qym\\xf6Y\\xde \\x0f\\xcapX\\x82+\\xdd\\xdeA$Dm \\x11\\xc6{\\xd7\\x0b\\xe2\\xef\\x0f\\xab\\xc6fWDU\\x1b\\x8899\\xaa\\xdc\\x9d\\x8f=\\t\\xc7\\xd3\\xf5\\xa7\\x01\\xd2\\xa5\\x11\\x8d\\xf8\\x19 z\\x8cS\\xb6d\\xe7\\x8f\\xa0\\xe2\\x95\\xc0\\x8c%H\\x89\\xefR$\\\\\\xf3\\x8ayLs\\x8a\\x9b\\x80\\xd0\\x87\\x15 \\x03\\x81\\xd6\\x94 \\xc7=i\\xd1\\xa1L\\x12>\\x94\\xc0o\\x97\\xdf\\x1cQ\\x81S\\x1eE&\\x17\\xd4~T\\x01n\\xf3G\\xd4\\xee\\\\\\x14\\x85P\\x01\\x82O\\x15\\x17\\xf6c\\xd9\\x8c\\xdc\\xc8\\xa5\\xb1\\x8f\\x97\\x8cU\\xff\\x00\\xed\\xfb\\x9b\\x88NI\\xdd\\xd0v\\xc5fK\\x1c\\xf7O\\x82\\xcc\\xd9\\xec\\rM\\x91\\x8b]\\xca\\xf7;2H\\x078\\xfb\\xc0Ql\\x82l\\xf9,\\x04\\xb8\\xce\\xd3\\xd0\\xd6\\x9d\\x9f\\x87\\xa5\\xc0\\x92\\xe2\\xedbQ\\xfc#\\x93P_X[\\xc4\\x0c\\x96\\xeceu8;N*\\\\m\\xa8+\\x13\\x89\\xbc\\xeba\\x1d\\xd4[J\\x8cdu\\x1f\\xfdj\\x9e\\xc2\\xd67\\xb6\\x10\\xcd \\x19\\xe29Oo\\xf3\\xd2\\xb1b\\xbd\\x92R\\x10\\x16\\x12)\\xc0\\'\\xb5h[^A2yW*c\\x04\\xe1\\x80\\xe9\\x9fQ\\xe9In&\\x9a\\x15.\\xbe\\xc37\\x9121BJH\\x87\\x9c\\x1fQTn\\xa4m:\\xf0\\x0b9X#\\xfc\\xeb\\x8e\\xde\\xd5\\xb7}eme\\xb0\\xb9ybc\\xdb\\x92=?\\x0c\\x7f*h\\x9bJ\\xbc\\x8c-\\xad\\xc2\\xc7/O\\xde-7t\\xc1;\\x18\\xd3\\\\\\xcb%\\xe3\\xc9\\xb0d\\x1c\\x9cq\\xfesV\\xa4\\xb5\\x86\\xe2\\xdb\\xcd\\xb5\\xc9?\\xc7\\x17R\\xa7\\xd4Pb0\\xdd\\x88\\xa6\\x91\\x0ce\\xb2Xw\\xa9|\\xb6\\x86\\xf3\\xcf\\xb0e\\xe0`\\x80z\\xd46\\x9e\\xe0\\xedc;\\xecw\\x8f\\xb5|\\x89LG\\x90\\xd8\\xfb\\xb5r\\xdb\\xcd\\xb0\\x9e\\x1b\\x87`\\x1f9\\x07\\xdcz\\xfdi\\xd7\\x17\\xfa\\x87\\x9e\\x01WU\\x07\\x0cW\\xb5@e\\x0fu\\xe5\\xb4\\xe3\\x07\\x95f\\xfe\\xb4l\\xb4\\x0b\\xb6\\x17\\x924\\xf7\\x8f ;p\\xe4\\x95<\\x81\\x9a\\xd0\\x06\\x1b\\xa4\\x8a&fVQ\\xb7\\x91\\x9atv\\xec\\xf6\\xa4\\xcd\\x1a3+\\x82\\x18w\\xecjI\\xa4\\x8a\\xd9\\x18@\\xaa\\xdd\\x19I\\x1c\\x8c\\x7f\\x93I\\xb7}B\\xech\\xb0\\x84A7\\xce\\xa1\\x8f\\x1c\\xf1\\x9a\\xcf\\xb8\\x1fc\\xb5\\xda\\xa4\\x8f7\\x93\\xef\\xff\\x00\\xd7\\x15$w28\\x02M\\xbc\\xb1\\xc1=\\xbb\\xd5K\\xfb\\xa5\\x91V2\\t\\x11\\xf1\\x82hJ\\xec\\x1a\\xbd\\x99\\x9fp\\xe49<\\x90y5Y\\xf2;\\xe6\\x9f.\\x0b\\x82\\xacJ\\x91\\xc5G\\x93\\xeb]1VF\\xa9\\x04 \\xb4\\x81pN\\xe3\\x8c\\x0e\\xf5\\xec\\xde\\x0c\\xd2b\\xb5\\xb6\\x8c\\x0c\\xbb.3\\x93\\x9c~U\\xe3\\xd6R\\xacS\\xab2\\xee\\x01\\xbe\\xe9\\xe35\\xed\\x1e\\x11\\xbeYl#\\x7f\\xb3\\xbc\\x0b\\x8cd\\xfc\\xbb\\xbf\\xcf\\xadZ\\x1b;H\\xf6\\x80\\x00\\xc6@\\xe6\\xa3\\x96C\\x9e\\x8b\\xf8\\x0e\\x95Y\\xef\\x03\\xa1+\\xf9\\x8e\\xb5[\\xed\\x8d\\x82>b;\\x903R\\xd8\\xcd\\x08\\xdf\\x922I\\x03\\'\\x8e\\x05K\\xe6\\x1eN\\t\\x18\\xe7\\x8a\\xa5\\x0e\\xd9\\x00;\\xb0\\xa3\\x93\\x91\\xd6\\x9dq*\\xc7\\x19*A\\\\`\\x80:\\xd3@Q\\xd5\\xb5\\xc8\\xac\\xf2\\xa4\\r\\xa0r\\xc0r?\\n\\xf3\\xaf\\x10x\\xb2iL\\x90\\xa3\\x16\\x1d\\x03\\x1e\\xf5/\\x8c5r\\xf24eDc\\x18\\x0c\\rp\\x92J\\xe4\\x9c\\xcb\\xb9s\\x901B\\x1e\\xc4\\xa6A-\\xcc~s\\x1c3\\x8d\\xd9\\xe2\\xae\\xde\\xea\\xb1i\\xba\\x85\\xc5\\xba\\xda\\xab\\xc6[\\x90\\xdcf\\xb2\\xdd7\\xe0\\x83\\xf3g\\x81SI2\\\\\\xa2\\xad\\xf4\\r#\\xa8\\xc2\\xb8l\\x10?\\xc2\\xa9;\\x08\\xab%\\xc2\\xcd#,)\\xb17\\x06T\\xcev\\xd7\\xbcxl,\\xda%\\xa0\\x04oX\\xd4\\x9c\\xf6&\\xbc\\xc3\\xc1\\xfe\\x13\\x9bW\\x98\\xb5\\xbd\\xb8h\\x81\\xc31=\\x05{&\\x9bc\\x15\\x94\\x01\\x15J\\xf1\\xca\\xf54\\x01,@\\x01\\xb4d6px\\xebO\\x1b^0P\\xe0\\x1e\\x95\\r\\xe4\\xab\\x12\\x12U\\x88\\'\\x07\\x07\\x18\\xa6%\\xd7\\x98\\x01_\\xba\\xbdW\\xa6*X\\x01\\x98\\xc8\\x9d0\\xb9\\xc1\\xcf\\xf9\\xe9Q\\xc9*\\x98I\\x04\\x00\\x07\\x00\\xd2;\\xa9?1\\xc0\\xc9\\nA\\xebT.n\\x98;\\x85\\xe4\\xe3\\x908\\xc5\\x16\\x02\\xb6\\xa7r~\\xcd#mP\\x8a8\\x04\\x8eMy\\xbe\\xa5\\xacJ\\x1d\\x86J\\x007\\x11\\xeb]~\\xadz\\x91\\xc7\\x82\\xc3,9\\xc8\\xe9^c\\xaa\\xde}\\xba\\xe9\\xc2\\x1d\\xb1)\\xc6\\xef\\xefP\\xc0\\x8e\\xebU\\x9a\\xe2b\\xfb\\x98z\\x0c\\xd6\\xdf\\x86<BmnUf$\\x82s\\x92s\\\\\\xe4\\xd0\\xac8\\x0e\\x92\\xa1#\\x82\\xe3\\x19\\xa6\\xc4\\xe69\\x01\\x07\\x91\\xc8\\xa0\\x0fs\\xb5\\x0bsl&.\\xa7p\\xceO\\x15`\\x18\\x91v\\x84,GFPFk\\x9a\\xf0\\x96\\xa6\\xd7:j\\x86b]x\\x01\\x8e+\\xa4\\x1ek\\xc7\\xc6S\\x07\\'\\x03\\x15,d\\xa3rr\\x10`u\\xc9\\xce)\\x92\\x12q\\xb4\\xe0\\xfag5\\x1b\\xf9\\xc3\\xb3c\\xa6O\\x19\\xa6}\\xb7a\\n\\xc8\\x01\\x03\\xf1\\xa9cD\\xbf7r0:\\xf7\\xa7\\x17\\\\\\x00\\t\\xe0}*\\x18\\xe4YI!\\x81\\xcf$zS\\xc8\\x0e\\x0ex\\xf4\\xe7\\xad\\x08\\x19Z\\xe5\\xf9;\\x95F=\\x07Z\\xab+\\xb6\\xc5\\xe5q\\x8f\\xbaEMp\\x1f\\x04\\x06\\xc0#\\x8c\\x1a\\xa9\\xe6q\\x86\\x1f6y=j\\x90\\x18\\xd7\\xdbD\\x8cpI#\\x03\\'5B\\xdeO\\x9c\\x8eG<V\\xa5\\xef\\xceH`\\x078\\x04qYYd\\x90\\x83\\xeb\\xc5&$lX\\xdc<D\\xee9\\xcfA[\\x10\\xde\\r\\x83\\'\\x07\\xda\\xb9\\xbbi\\x89p\\x0eH\\xfc\\xaa\\xd4\\xb7+\\x1a\\x16\\xcb\\x0c\\x1e\\x009\\xa4\\x86tR^\\xc4\\x11r\\xc5\\xbf\\xd9\\x1c\\xd7=\\xacL/CGp\\xc2\\x18\\xba\\xe0\\x9eO\\xd2\\xb2nu\\xc4W\\xc2\\xb9.x\\xc18\\xc5e]j(\\t\\x91\\xd9\\x8b\\xb7M\\xe7w\\xe5T\\x03.\\xad\\xed\\xa3\\x93\\x16\\xe1\\x98g\\x19=\\xea\\xb1\\xb7n\\xbbp=\\xa9c\\xbek\\x87\\xc6\\x00S\\xd3\\x03\\xa5^@\\x92`\\x02r=\\xe8\\x11N8\\x8f\\xf7N)\\x1d:\\x00\\x08\\xfdkD\\xda\\xbe9$\\x0f\\xad0B\\x10\\x8e3\\x8e\\xf4\\x80\\xa3\\xe5\\x9fLS\\x93\\x1fZ\\xb8c\\x0ey\\xfc\\xf1Hm\\x94\\xfa\\x0czP\"\\xa1\\xc8\\xe0\\n0}*\\xc7\\x95\\x8e\\t\\x18\\xf6\\xa3b\\xfa\\xd2\\xb8\\xecI\\xe5,\\x90\\xcc\\xb1\\xe01\\x1c`\\xf4\\xff\\x00\\xf5\\xd5\\x07\\xd4nm\\xb1\\x10M\\x84\\x1c3c\\xa5Z\\xb7\\x92)\\x0b\\x03\\x98\\x98\\x0c\\x86S\\x9c\\xd4\\xd71\\xc4\\xe9\\x89\\x8a\\xbat2\\'\\x05~\\xa2\\xb3M\\x98\\xbd=\\x08\\x05\\xd4\\x92\\x01\\x82O\\xd4\\xd5\\xbb-6{\\xa2\\xc60\\xaa\\xbdY\\x8dAg\\xa2\\xca\\xf3\\xa2,\\xc1\\xe2<\\x97\\x07\\xb5lk\\x17\\xf1YF\\x96\\xd6\\xb9\\x01W\\x0c\\xc3\\xbd\\t^\\xed\\xec.k\\xab#\\x9e\\xd4\\x82\\xfd\\xa8\\xacq\\xe1\\x94\\xe1\\xa4\\x03\\x19\\xff\\x00\\xeb\\xd2\\xfd\\x96\\xe5\\x02\\xcb1R\\x8d\\xc8a\\xce~\\xb4\\xc9\\xae\\x05\\xc6T6\\x18\\x8eO\\xadT\\x92;\\x98\\xc0\\x02F)\\x9c\\xf2i]l\\t\\xa6\\xac\\xcd\\xe8\\xa4\\x96h@\\xf9\\xa4\\xc0\\xc0_J\\xcd\\x86\\xc6\\xde9\\x81`\\xcaI\\xcb\\x021\\x8a\\x9bJ\\xba\\x8a\\xdae\\x8ay\\x1a\\x10\\xe7+7P\\xa7\\xd1\\xbd\\xbd\\xebkR\\x12\\xdb\\xc6Z\\xea\\xda9\\xe2n\\x03G\\xce}\\xc5\\t6\\xb5bJ\\xdb\\x98s]\\xd9\\xa4\\xc4\\xbf\\xcb\\x8eWo5^K\\xd5\\x12\\x7f\\xa3\\xb3+0\\xca\\xe7\\xb1\\xebSM\\xa5Y\\xcb\\x08\\x9e2\\xca\\xad\\xce\\x1b\\x8c\\xd4Q\\xd9B\\xf2,\\xd2HD*v\\xb0\\x03\\x95\\xff\\x00\\xeb\\x1a,\\xb6\\r\\x1e\\xc5\\xbb}N[\\xab\\x06,\\xaa\\xe5[\\xe7R1\\xd7\\xbf\\xd3\\xb5Q\\xb8\\xb6\\xfbA\\rjF\\xe5\\x19\\xda\\xc7\\x04V\\x84:w\\xd8\\xee\\x8d\\xc43\\ta\\x93\\xe5`\\x07\\xf0\\x9fo\\xd6\\x96\\xe6\\xca(n\\xb0\\xccQ\\x95\\xb0O\\xa6z\\x11\\xedI\\xbbl-\\x13\\xd0\\xbbg\\x1cid\\xc2G\\x01\\xd60\\xc3\\x07\\xa6{~\\x07\\x9a\\x8f\\xcb\\x13@!\\xc2\\xabcr\\xc8\\x0fO_\\xc0\\xd4\\xd2\\\\\\xc2l\\xda)\\xe2T\\xb8\\x89v\\x99\"\\xe3r\\xf6>\\xe2\\xb2\\xe4Brd\\x93i\\x1c\\xae\\x0f\\x0c=\\xbd\\xe9o\\xa0\\xf7z\\x11^\\'\\x94\\x81\\x04\\xaa\\xcc\\x0eIZ\\xcf\\x98\\xa8\\xc0V\\xcey\\xc9\\xa4\\x96\\xe0\\x1d\\xc3\\'\\x19\\xc8\\xc1\\xe9U\\xdd\\xf22O\\xff\\x00Z\\xb7\\x84m\\xab4\\x8a\\xb2\\xd4B\\x00\\xcfQ\\xcei\\xbcc\\xaesI\\xb9\\xb0px\\xe9Q\\x9c\\xfe};V\\x85\\x9b:\\x1d\\xccVSy\\xcf\\xe4\\x12N\\x07\\x98s\\x8f\\xa0\\xf5\\xf75\\xe9\\x9e\\x1e\\xd5V\\xe4\\x8f:<w\\x0e[ \\xfd1\\xda\\xbc\\x93N\\xb5[\\x89\\xc2\\xb8p\\xb9\\xe4\\x81\\x9a\\xf4\\xad\\x05\"\\xb3\\x8e?:\\xdaD\\x0c@\\x0c\\xe79\\x1d\\xbaz\\xfa\\nkT&wi(\\x91>B8\\xe0`TR;\\xa3\\x93\\x85\\xdb\\x8f\\\\R\\xc5,^X\\xdax\\xe88\\xa8\\xdc\\xa9 \\xb19\\xec*X\\xd14W\\x05\\xc0\\x1b\\xb8\\x1e\\x83\\xa5G{!1\\xbe\\xd2@\\xc7=\\x85,H\\xa7\\n0\\xbc\\xf3\\x93\\x9c\\xd3n\\x11W#\\xa8#\\x07\\x8a\\x10\\x1eQ\\xe2\\xc2\\x82\\xe4\\xed\\xdb\\xb8u+\\xc85\\xcbg\\xe79\\x1fS\\x9c\\xe2\\xbb\\x8f\\x17YH\\x0b\\x14Pc\\xeb\\xc0\\xc6+\\x84\\x906\\xf20\\xdf\\x8546N\\x87\\x18\\xc9\\xfe\\xb5\\xd2\\xf8W\\xc3\\x97\\x1e$\\xd4\\xe3\\xb6\\x85H\\x88\\x1c\\xc9)\\x1ft\\x7f\\x8dex\\x7fE\\x9f\\\\\\xbc\\x10\\xc1\\xf2\\xa8\\xea\\xc4t\\xff\\x00\\x1a\\xf7\\xef\\t\\xf8n\\x0f\\x0eiq\\xc3\\x1f\\xcd#\\x0c\\xbb\\x11\\xd4\\xd3\\xb8\\x8b\\xfan\\x93k\\xa5i\\xf1\\xdaZ\\xc6\\x124\\x1c\\x901\\x9fR}\\xcdK-\\xb8(q\\xf2\\x81\\xce\\x00\\xc9\\xab4\\x8ep\\t\\xc6}\\xa9\\\\\\x0c\\x9b\\x8bQ#\\x8c\\x16\\xfa\\x91\\xd2\\xa9\\xde[\"\"\\x90\\x01e\\x19\\xdc\\x0e\\xdc~U\\xab4\\xa5\\xf3\\xc7S\\xd0v\\xc5C R\\x9c\\xae\\x01\\x18\\xdaE09\\xa7\\x99\\xfc\\xf0\\xaaK\\x06\\xe3\\xa6q\\xf8\\xfe_\\x9dDQ\\xb7\\xb8b\\xbb\\xc9\\xe7<\\xd7Bmc \\x90\\xa5r9\\x1d3\\xefY\\xe9g\\x1cS\\x9922F\\x06x\\xc5\\x16\\x03\\xcf\\xfck\\x1c\\x91\\xda\\xee\\x85q\\x81\\x82\\xd8\\xaf;\\x8c\\xb43\\x12\\x06J\\x8f\\x95\\xb1\\xd0\\xd7\\xbdk\\x9ab\\xea:L\\xa9\\xe5\\x83\\xb8p\\x00\\xc75\\xe1\\xb71\\xcbmy PQ\\x94\\x90T\\xd2h\\x11\\x1f\\xda.\\xb59#\\x85\\x9d\\xa5\\xc1\\xcf=\\x17\\xdc\\x9fAM\\xb8\\xf2\\x84\\xe5`\\xfb\\x8b\\xc2\\x9e\\xb9\\xff\\x00\\xf5\\xd2\\xbd\\xc4\\xe5\\x0c`\\x95V\\xea\\x07\\x19\\xa8B`\\x8d\\xdd}\\xcd6\\xee\\x07}\\xe0\\x1b\\xd4\\xcf\\x91\\'$\\x0e2:W\\xa2\\xec\\xc2n\\x05v\\xe3\\x9c\\x0c\\xd7\\x86\\xe9\\xb7&\\xde`U\\x889\\xcf\\'\\x02\\xbd7\\xc3w\\xebq\\x18\\xdd.\\xf6=T\\x1c\\xd4\\x8fsu\\xe4d<.T\\xff\\x00\\x11j\\xa9+\\x9c\\x9c\\xab\\x05c\\x8c\\x91\\x9cV\\x8b\\xc6\\x8e\\x84\\xe5H\\xc7 \\x8a\\xa3\\x85G ?\\xcd\\xd0q\\x8c\\xd2h\\x10\\x91\\x89\\t\\xf9J\\x93\\x8e\\x08\\xe9@\\x94o)!P\\xc0\\xf3\\xc7J\\xae|\\xc8\\xa6;P\\x10NH\\x07\\x15c|s \\x0e\\xca\\xad\\x8c\\xf3\\xc5J\\x18\\x92\\x00\\x9f7%O9\\x1c\\xe2\\xb2nd\\xc3\\xe4\\xae\\x0erH5\\xa6aa\\x83\\x0b\\x82\\xa3\\x9c\\x13\\xd6\\xb2\\xae\\x02;\\x96\\xe40\\xfb\\xdct\\xaa\\x11V\\xe6#(._\\x93\\xc8\\xacw 92\\x1e\\x07A\\x8cU\\xdb\\xab\\x80\\x99S\\x9d\\x9d7t\"\\xb2%\\xbaH\\xd1\\xc1#\\xeaNh`Mqz\\xb0\\xa6F\\xe4\\xc8\\xe3\\x15\\x85\\x7f\\xabN\\xf9\\n\\xe5S\\xa0\\x19\\xebU\\xaf\\xaf\\xc4\\xc4\\xe7\\x9f\\xd2\\xb3I\\xc9\\xceO\\xe3B@N&\\x93yb\\xd9brI\\xa5\\x92V\\x94\\xe5\\x9f\\'\\xbej\\xbfn\\xf4\\x80\\xb6{\\xd3\\x02\\xd4s\\x10q\\x9f\\xae8\\xcdmi\\x93\\x0c`\\x0eI\\xc9&\\xb9\\xf0H\\xe9\\x9c\\xf7\\xc5iX9wU\\x18\\x00u\\xc9\\xc6)0:qq\\xf2\\x90v\\xfa\\x0c\\xf3L\\x05I?\\xce\\xa3\\x88)\\x03\\xbe{\\xd5\\x9f\\xb3\\xae\\x06\\x0f_\\xd6\\x96\\xa0W|g\\xa0\\xc7\\xb5Fs\\xf4\\x1d1V\\xa4\\x88\\'\\x00\\xd4~Z\\x8es\\xcd+1\\x95[\\x8f\\x94\\x0c\\xfb\\x9e\\xd4\\xdc\\x8fo\\xca\\xad\\xc9\\x18#\\x85\\xa6\\xf9#\\xda\\x8b\\x08\\xce\\x8aC\"H\\xc4(\\xdb\\x8c\\x02*\\xc5\\xb8\\x89\\xc8y%H\\xcfA\\x83\\x90i\\xe6m\\x06\\xf8\\xe7\\xcb\\x92\\xc6V\\xe0\\x94;\\x90\\xfe\\x14\\xd9\\xb4\\xa8\\xb4\\xe0\\xb2\"\\x89\\xa1a\\x90\\xe0\\xe5O\\xf8\\x1a\\xc5ld\\xec\\xd6\\x82\\xf9\\x8d\\x1c\\x8e\\xb6\\xf9\\x08\\xcd\\x82\\xab\\xc05\\xb7gkmsl\\x15\\xedw\\xb60X\\xbeH\\xaeh\\xebS\\x87\\xf2\\xd0(^\\x83jg5-\\xe7\\x9bo\\x07\\x9f\\x031\\x95\\x86N\\xc3\\x8a\\xa4\\xec\\xc8i\\xa2\\xc6\\xad\\xa2\\x0bl\\xcb\\x0cl\\xa9\\xecsT-a\\xf3@\\x04\\xb2\\x0c\\xe3$d\\x7f\\xf5\\xaa\\x08\\xaf\\xae&@\\x97,\\xc3q\\xc1\\xc1\\xa9a\\xbe\\x11\\xc2\\xd1\"\\x02\\xd9\\xe1\\xf7f\\xa5\\xb4\\xde\\xa85\\xea[\\x97G\\xbc\\x8c10\\x97\\x8c\\x0c\\xeeC\\x9c\\xd2X\\xear\\xda\\xc6m\\xdd\\xcc\\x96\\xfd6\\x9e\\xa8}G\\xd3\\xd2\\x9do\\xad\\xdf\\xdbBc\\xc9pz\\x0e\\xbcR\\xc7kk\\xa9\\xc2\\x00\\x9d\\xa0\\x97?1a\\x80i+\\'\\xa3\\x04\\x97Bynb\\xba\\x8d\\x93\\x1f\\xbb#pLt>\\xde\\xd5\\x9c.\"\\x8ati\\xf3\\xb1\\xb8>\\xff\\x00\\xfdz\\xbf\\x15\\xaf\\xd8&*f\\x0e\\xa1IV\\xc6A?\\xfdz\\xa8e\\x8e\\xe1\\xc9x\\xc0\\x939\\xf9y\\x02\\x9e\\x8dj\\x16\\xd4\\xd7\\x8e\\xe1\\x04\\x06H\\n\\x05A\\xf7\\x02\\xf5\\xac\\x8b\\x9b\\xa9.\\x1cI\\xb7\\xf7\\x89\\xc0\\x19\\xea=?\\nu\\xcb\\xbc\\xb0\\x7f\\xad\\xc6\\xde6\\xa7\\x19\\xaa\\xd6\\xdeP\\x7f1\\xf1\\xb9F@<f\\x87\\xae\\x88\\\\\\xa5\\x93\\x13\\x18|\\xd7\\xc2)\\x04\\x00\\xc7\\x91Y\\xd2\\xcc\\xa9lb\\x0eXg+\\xedE\\xe5\\xebL\\xe7<\\xe3\\xa7\\xb5R$\\xe3\\x91\\xefZ\\xc2\\x16\\xd4\\xd61\\xb6\\xacc\\xf4\\xcf\\x07\\xf9\\xd2\\x02\\x07\\xa1\\xa3\\xe5\\x1e\\xbfL\\xe2\\x82\\xea\\x07\\x19\\x1e\\xb5\\xa9cr\\xa4\\x8e\\x08\\x19\\xa6\\x13\\xcf\\x1c\\xfdir\\xa7\\xa7_z>Q\\x9e(\\x02\\xcd\\x94\\xc6)\\x17x_/ \\x9d\\xc3uw:\\x1d\\xce\\x91\\x14\\x91\\xcan&Y\\xd8\\xe0(r\\xd9\\xf5\\xed\\xfc\\xbd+\\xcf\\x0b\\x93Z\\xba-\\xd3\\t\\xd25u\\x8c\\x03\\x93\\x9es\\xfe&\\x84\\xc1\\xa3\\xda-\\xae!\\x94|\\x92\\xe4\\x8e6\\xf55$\\xa5##\\xe6!\\x88\\xe8;V\\x06\\x91z\\xa68\\xc1\\x91[\\xb1\\x11&1\\xf8\\xfa\\xd6\\xe1\\xf2\\xc7\\xce[\\x83\\xcf=\\xe8h\\x11*`\\xa0\\xdcN\\t\\xe3-\\x8c\\xd4\\xa5\\x14\\xa0\\x01\\xf2\\xbdN\\x0ek?\\xe5\\x90\\xf2\\xc7\\xaf\\x18\\xab\\x91 \\xc0T\\x03\\xdf\\'4\\x80\\xa7y\\xa7-\\xf2\\x18\\x9e=\\xc8\\xc3\\x8e1\\\\>\\xa7\\xe0\\x17\\x8e\\xeb\\xf7j\\xed\\x13\\x11\\x81\\x18\\xe4~u\\xe9\\xa9\\n\\xf0\\x06\\xecw\\xc1\\xad{[\\x08\\xda0YK\\x00r\\t=*\\xac\\x179\\xff\\x00\\x06\\xf8mt{ec\\x08\\x8bh\\xc0\\xdd\\x82\\xcd\\xeeH\\xfe\\x95\\xd7$\\x84\\xf1\\x83\\xf5\\xa6t\\xc8\\xe3\\x03\\xa0\\x14\\xf4\\x04\\xf5\\xfc\\x05\\x00?\\xe6\\xcf\\'\"\\xa3\\x94\\x828<\\xf7\\xe7\\xa5;\\x0c\\xbd*9\\x13\\xe4!x\\'\\xaf\\xbd\\x00T~\\x1dH\\xe7p\\xc0\"\\x98\\xdd\\xf0>\\xf7\\'=\\x85:@F\\x13p\\x04\\xf0p?\\xcf\\x15U\\xe5\\xc0\\xe4\\x12\\x1b\\x93\\x9e1L\\t\\x1eF1\\xe0ci\\xe8\\x0fj\\x81\\xcec\\xc8\\x00\\xbepsL%\\x0c\\x839\\\\\\x93\\x9fzl\\x97!8\\x0b\\x93\\x8e\\x0f\\xad\\x02\\x1d W\\x8c\\x13\\xb8\\x1c`\\x8c\\xd7\\x8ex\\xefH:f\\xb2\\xf2\\xc6?s(\\xdc\\xa75\\xebR\\\\o\\xee\\x14\\xaf\\x00W+\\xe3\\xad95\\x1d\\x06I@\\x06Xy\\x0c\\xbd\\xbf\\xfa\\xd4\\x98\\x1eJ\\xf2\\xb7Jars\\xd7>\\x84f\\x9a\\xfb\\x83\\x90G#\\x82=i\\x01=\\x7f0i\\x0c\\x9e\\x127\\xf7\\xc7z\\xf4\\x1f\\t\\x08\\x88\\x1bd\\xc6F\\n\\x95\\xaf>\\xb6\\r$\\x83\\x19\\xfeu\\xe8~\\x15\\xb61\\x80|\\xc2\\xa7\\xa9\\xcf\\x14\\xba\\x8d\\x1d\\xd4i\\x0cH\\x0b\\'\\x98\\xf8\\xc6\\xe1\\xff\\x00\\xd6\\xa8\\xee-Rd$\\x15\\x89\\xb1\\x91\\x83\\x9c\\xfe\\x14\\xa8\\xf2\\xa2\\x00\\x1d]\\x18c\\xa5T\\x90(\\xcb\\xee$\\xfb\\x93H\\n\\xee$\\x19RU\\xc7PEW1\\x0c\\x86b}\\x0eEL\\xf17\\xde\\xec\\xc7 \\x8e)8\\x19e\\xc9 r=\\x7f\\xfdT\\x86C-\\xbe\\xfcy\\x0e\\xc1\\x87$g8\\xac\\xab\\xd7\\x95\\x1c\\x13\\x93\\x9e\\xb9=kBP\\xc9\\x96^\\t\\x19\\x04\\x1e\\xb5\\x97q}\\x8c\\xabm\\x1b\\xba\\xe6\\x9a\\x11\\x9bzY\\xe3p\\xac\\x0b\\xe3\\x80{\\xd7){q,y\\x18\\xdaz\\x1c\\xf3\\x9a\\xe85[\\x85D\\x90\\xae7)\\xcf\\x07\\x15\\xc8\\xdc\\\\\\xb4\\xceX\\xe3>\\xc3\\x19\\xa6\"\\x12\\xe4\\x9c\\x9e\\xf4\\xa3\\x14\\x94b\\x90\\x0e\\x1cQ\\xf8\\xd2P\\x07\\xe5L\\x07\\x8e\\x9f\\xe0jh\\x9c!\\x1cs\\x9c\\xe75\\x00\\xeb\\xebON\\xbe\\xd4\\x01\\xd2X\\xcb\\xe7\\x00\\x19\\x94\\xe0v\\xad\\x80\\x08A\\x8c\\xfbw\\xaesM\\xbb1aU\\x06\\x0f^+e$\\xde\\x01b\\xdf\\xee\\x8a\\x9bXe\\x8d\\x84\\x9ex\\xa5\\x08r\\x15FI\\xedM\\xf3\\x80\\xc6\\xe1\\x8fn\\xb4\\xf4\\x94\\x0eA9#\\xb0\\xc6(\\xb8\\x86\\xb9\\xf2\\xf28<\\xe3\\x8a\\x8fy\\xfe\\xef\\xe9O\\x12)~W$\\x1e\\xb8\\xab\\x7fhO\\xee\\x1f\\xce\\x8d\\x07c\\x93\\x89\"\\xf2|\\xdd\\x98*pA\\xe6\\xb5\\xac\\r\\xbb\\xc6K\\xc9\\x9c\\x9e#\\r\\x85\\xa8\\x01\\xb3\\x8f\\xccPN\\x1dv\\xba\\x9a\\xceH\\xa0.@\\x04\\xa0\\xe00\\x18\\xcdf\\x9a{\\x90\\x9bh\\xdf\\x92K{o\\x9c8U\\x03!UA\\xac\\xf9o\\xc1\\xb9\\xf3@df\\x18\\xdb\\xb39\\x15]%6\\xf0n\\x85\\x9b\\xe68U\\xc5\\tqr\\\\I6\\xd3\\xb4p\\xa1i\\xda\\xe4\\xb8\\xa4M\\x1d\\xed\\xb4a<\\xe5\\xdc\\xacp\\x18\\x8cb\\xa5\\x17QZ\\x9f0A\\x0c\\xf1\\xb1\\xce\\xe3\\xc6>\\xb5X\\xdc\\xe9\\xda\\x8c\\x82\\x07\\x85\\x92f8\\r\\x1f95n]!t\\xcbi7L\\xbb\\xd8}\\xd23\\x9a\\x1cHiu4\\xad\\xael\\xefP4\\xf1\\xc5\\x10\\x03#cSR\\xe2\\xca\\xdeO1f\\x920\\xbd\\xd8\\x03X6\\xf7\\x16\\xf1\\x02|\\xb5,9,x\\x15f\\xde\\xea+\\xa1\\xb1\\x02\\x03\\x9e\\x08\\x19\\xc5+.\\xc2\\xb1=\\xd6\\xa7-\\xd1cl\\xebq\\x1a\\xf2s\\x1e\\xdcT\\x16\\xb2\\x9b\\x89\\x1e\\xd9\\xa0a)\\xe8\\xear\\x05O%\\xc5\\xcd\\x84\\xed\\x100I\\xb4e\\x8a\\x801DW\\xab4l\\x02*\\x06\\xe0\\x94\\xe2\\xa7K\\xec6\\xad\\xd0\\xa3yg\\x14$*LX\\xa0\\xf9\\xb3\\xdc\\xd5\\x19\\x1c\\x0c\\xe0\\xf5\\x1c\\xd5\\xbb\\x83\\x14hW\\xcc.A\\xc8=k:C\\xb8\\xf6\\xf6\\xad\\xe2\\x95\\x8dR\\xd0l\\x8e\\xc4\\xd39\\xc0\\xe0\\x0f|\\xe6\\x9ex\\xe4\\x93\\xd3\\xa50\\x95\\xec\\t\\xaa(i\\x19\\xe4\\x0e\\x0f\\x14\\xcc\\x01\\xd7\\xf5\\xa7\\x94\\xd9\\xc1\\xcf\\xaf\\xd2\\xa3 \\xff\\x00\\xfa\\xe9\\x00\\x0cg\\x80(#\\xbf\\xf5\\xa3\\xf8q\\xfaP\\x07S\\xe9\\xfaP\\x02\\x00O\\x18\\xab\\xf6\"DpQT\\x90z\\xe4\\r\\xb5S\\xd8\\x9agN\\xc7=\\xa9\\x81\\xd8i\\xba\\x92Z\\x9d\\xee\\xeb\\xe7gh\\xda\\x0b\\xed\\xff\\x00\\xeb\\x9a\\xedl\\xaee\\xbc@]\\ndg\\x04\\xf4\\xaf+\\xd2.V\\x1b\\x90\\xdbI\\x90\\x0c\\x03\\x8c\\xe2\\xbb{\\x1dTZ\\xc2\\xb1\\x07f\\xb8\\x7f\\x98\\t\\x1b-\\x8f_l\\xfazS\\xdc[\\x1dl.\\xa8W\\'n:\\xb1\\xeaj\\xd4wK\\x18%J\\x9c\\xf1\\xc9\\xcek\\n\\xda\\xe9d\\x1b\\xa4\\xc3\\xb1\\xe7i8\\xc5[\\x13\\x04\\xc3\\x95Q\\x93\\xc6)\\x0c\\xe9\\xf4\\xa0\\xef bF\\x1b\\xa8\\xc6+\\xa2@\\x15;t\\xaekG\\xb8\\x0eW\\xee\\x86=\\x85tm\\xfe\\xaf\\x90)\\xbd\\x84\\xb7#\\xf9s\\xc6=}jE\\\\\\xfd\\xe6\\xc9\\xf4\\x15I\\xc2\\xe4\\x00\\xb8$\\xf6\\xe3\\x15e\\xe7XP)\\xe4\\xe2\\x8b\\x0c\\x96G\\xd8\\x00\\x18\\xc9\\xe9U$\\x99\\x80\\'\\xab\\x03\\x8c\\xd2=\\xccd\\xe7y\\xc8\\xea:\\xd5[\\x8b\\x85\\xc8,@Rz\\xe74\\xed`\\xb8\\x12\\x0b\\x96\\xc9\\xc1\\x18\\xc9\\xa8\\xa4+\\xb3\\x00\\xe1E5\\xe4\\x04*\\xafF\\x1c6qI\\x19Q\\x8eA\\x04p3\\xcd\\x00Ux\\xfc\\xb4s\\x87\\xc6zg?\\xe7\\xd6\\xa8\\xbc\\xdb\\xdc\\xa3\\x86\\xdc8\\x07\\x91[f%\\x94\\x8c\\x9c\\x8c\\xe7=*\\x8d\\xe4-\\x19 \\x01\\x8e\\xdcf\\x86#*Wa\\x86V\\x0e\\x01\\xc0\\x04\\xf2?\\xfa\\xf5\\x1b\\xba\\xba4n\\xa7k\\x8c0\\xe9\\x9a\\x9aRw\\x93\\xb0\\x0e\\xc6\\xa1\\x95\\xc8\\x1c)8\\x19\\x19\\xefR3\\xca\\xbcI\\xa2\\xb5\\xb5\\xe4\\x92@\\x8c\\xd1g\\x19\\x03\\xa5dEe,\\xc4\\x05\\x04\\xe4\\xf6\\xe6\\xbd\\x8a\\xf3N\\xb6\\xb9\\x8cK$9\\xc8\\xc9\\xc5c\\x1d&\\xde\\xdcb\\x14!\\x89\\xc8 g4\\x01\\xcc\\xe9Z\\x18\\x89\\xd5\\xa6l\\x1fq\\x9c\\xd7cinm\\xe1\\x1brT\\xf2\\x08\\xa8Sl@n\\x0f\\xe82\\xb8\\xc5:\\xe21*\\x11$\\xc3i\\xec\\x0e\\x05H\\xcb\\xdfj\\x94q\\x1c\\xaa\\x1b\\x1c)=)\\xe9\\xa8\\xac\\x9f$\\xc0\\x07\\x07\\xefz\\x1a\\xc4p\\x9cm\\n\\xcd\\x9cpz\\xd4\\xf0\\xdc\\xe1\\xc0e\\nz\\x1c\\x0e\\xb4\\x86kL\\xee\\x88\\xa4:\\xf4\\xc1\\x18\\xcdTK\\xe9\\x84\\x87\\x91\\x81\\xc8 R\\x89\\xa281\\xe7\\x81\\x8c\\x9e\\xd5V\\xe6\\xe1\\x10\\x9e\\n\\xb7\\\\\\x83\\xc1\\xa6\\x04\\x93],\\xa3\\xa6\\x0erE`j\\xae\\xae\\xe4\\xa3*\\x93\\xd7=\\x05\\\\\\x9a\\xe9b\\xf9\\x89\\x1b\\t\\xcf\\xa5sZ\\xc4\\xc8_$1\\x0cx9\\xc6\\x7f\\xfa\\xf5D\\xb2\\x9d\\xf4\\x92\\x90\\xfbeV\\xdb\\xe81X\\x87\\x93\\x93V.f\\x12\\x11\\xb0\\xb0^\\xeay\\xc5W\\xc5 \\x0cR\\x8a(\\xa0\\x02\\x8a3GZ\\x00^\\x07\\xe3J=\\xb8\\xfa\\xd2\\x0c\\x8aZ\\x00\\x9e\\xdd\\xd88\\xc19\\xcf\\x18\\xadQ}*\\x10&\\x0f\\x1c}\\x88\\x18\\xcddG!\\x04c\\x19\\xad8\\xb52!1L\\x82X\\xc8\\xc1\\x0c3\\x8f\\xa5K\\x134\\xed\\xe5\\x82^E\\xc9\\xfa?\\x15j2I\\xf9A>\\xe0\\xe6\\xb9Yv\\xab\\x93\\t\\xfd\\xd9\\xe4\\x02zT\\xd6\\xf7\\xb3\\xc3\\xccm\\x8cry\\xa1j4\\xce\\x9c\\x06<\\x00q\\x9e{T\\xbe@\\xff\\x00&\\xb3\\xb4\\xed}\\x0f\\xcbv\\xbea?\\x86+[\\xfbJ\\xc7\\xdf\\xf2\\xa7`\\xb9\\x9d\\x1e\\x82\\xaf\\xf3<\\xe1\\x80\\xea\\x17\\x93J-l\\xed\\x8f\\xfa\\xa9\\x1d\\x8f\\x03\\'\\x8a#\\xbf\\xb3\\xb0I\\x18\\x81$\\x8b\\xc8^\\xbf\\xca\\x9fms>\\xa3\\x89\\x16\\x11\\n\\x13\\xc1~3X;\\xa5\\xa1\\x8b\\xba!\\x11\\xfd\\xa9\\xd2=\\xab\\x0cjq\\x9cQ \\xb0\\xb6vY$2\\x15?*\\xa7\\x00\\xd4R\\\\\\xc9\\x1b\\x95pS\\'\\xa9\\xe2\\xab=\\xccQ\\xc8f\\x01\\x19\\x8f\\xa0\\xc5J\\x9b\\xd9\\xa1\\'\\xdc\\xbb\\x14\\xeaR3o\\x02\\xa1S\\x85!pj\\x19RK\\x87o\\xb4I9b\\x7f\\xb9\\x9a\\x80\\xeaj\\xe0Jd\"U9\\x0b\\xb7\\xe5\\xa8\\xd3Q\\xba\\x96C\\xb2L#\\x1e[\\xa6\\xdav\\xbe\\xe1mnM\\x13\\xdaY\\xcd\\x89 g\\x0b\\xf7U\\xf8\\xa9\\r\\xec\\x97\\x8e\\x05\\xac\\x01\\x01\\xe0*.*{]\"\\x1dE\\x04\\x82f\\x92D\\xfb\\xec{\\xd5)\\x81\\xc3\\xec\\x91\\x90+\\x10\\x14w\\x15j-\\xf5\\x1aW\\xea]:lV\\xdbZ\\xf2\\xe5Aq\\x92\\x80\\xe7?\\\\U+\\xab\\xa5p\"L\\x04Q\\xf2\\x85\\x18\\x15NB\\x01\\'\\xaf\\xa9<\\xd4\\x0e\\xe3\\xb7^\\xd5\\xaa\\x8aE\\xa8\\xdbq\\xd29$\\xf5\\x1f\\xadVq\\xce\\x7f:y\\xcf\\x1d)\\xa4\\xb7_\\xe5TX\\x9f7\\xaf\\x14\\x85\\x86:\\x9fQ\\x8aBO<\\xb7\\xbd3\\x19\\xfa{R\\x00\\xde\\xc7\\xab\\x1fj\\\\\\xa8\\xe4\\xf2O\\xe1N\\xc2\\x81\\x9e\\xfe\\xf4\\xccu\\xc5\\x00\\x1c\\x1eO\\xe9O\\xce\\x00\\xc7Jf?\\nL\\xd0\\x02\\x83\\xd4\\xe6\\x90\\x9f\\xcc\\xf5\\xcd&\\x7f*i\\xcf\\x14\\x01$r\\x98\\x9c\\x10[#\\x9e\\x0e+_I\\xbco\\xb4\\xf9\\xb2&\\xed\\xa7\\x8c\\xf6\\xc7=O\\xf9\\xe6\\xb1q\\xc8\\xfdjh\\xa4\\x11\\xc8\\x0b\\x02\\xca9\\xdaN3\\xf5\\xa2\\xe0z.\\x8f\\xa8\\xb3\\xe6Y0U\\xbe\\xe9\\x079\\xff\\x00\\xebV\\xc8\\xd4b$)eb\\x0eY\\xb1\\x90?\\xfa\\xf5\\xe7\\xb6\\xba\\x94\\xd7\\x05\\x129\\x02\\xa2\\x8c\\xb3c\\x18\\xf6\\x1e\\xd5\\xb7cx\\xd7\\x01R5o(\\x1c\\x16\\xcewz\\xfd\\x05=\\xc4z\\x1e\\x89}\\x13\\xb8\\x90lb\\xa7\\x8cq\\x8a\\xebE\\xd2J\\x83,\\x06\\x06}k\\xcdl\\xafM\\xb8Bp\\xad\\xd0&pG\\xb9\\xff\\x00\\n\\xe9\\xb4\\xddN)`\\xc2\\x9c\\xba\\xf0p3T\\x81\\xe9\\xa9\\xbb,\\x80\\x80\\xd11\\xc0\\xe7>\\xb5\\xe4\\xb2\\xfcB\\xbe\\xb5\\xbc\\xb9\\xb7\\xb8\\xe5\\xd2wPI=3^\\x98n\\x80M\\xd9\\xe3\\xb0\\x1c\\x9a\\xf2\\x0f\\x88z\\x1c\\xb6\\xda\\x9c\\x9a\\x8d\\xb27\\x919\\xcc\\x80s\\xb5\\xbf\\xfa\\xf4;\\xad\\x81\\x1d~\\x99\\xe3\\xa8odH\\xdfdG<3\\xf4\\xfa\\x9fS[)\\xab$\\xa0\\xc8\\x1d]W\\xa7=}\\xcdxU\\xb5\\xe8\\x8f\\xe5nG\\xad]\\x87Z\\xb9\\xb7$A+\\x00{\\x13\\x9a9\\x90X\\xf6\\xdf\\xedU\\xc0%\\x94\\xe3\\x8c\\x03\\xd2\\xa9\\r]\\x08T\\x05U\\x9f\\x91\\x93\\xd4\\x7f\\x8fJ\\xf2\\xd4\\xd7\\xef\\x10\\x02\\xf3\\x9e\\x9d\\xfb\\xfaUI|A(\\xc7\\xefI`s\\x9a.\\x87c\\xdal\\xf5\\xa8\\xe6\\x18\\xcf\\xcc=\\x07Zt\\xd7\\xa1\\xf9gm\\xbd2\\x05x\\xe5\\x9f\\x8a\\xaf\\x9eha\\x84\\r\\xec\\xc0\\x06\\x03\\x9a\\xf4\\x18ng\\xb9<\\x93\\xf2\\xa8\\'\\x1d\\xe8\\xbd\\xc5cFi\\x89\\x98,lJ\\x1e\\xe0R\\xa6\\xe0\\xe0\\x15%~\\xb8\\xc52\\xda\\x17\\x00\\xbe7\\x1cd)9\\xa9#\\xb8\\xc9\\xf9\\xd7\\xd8g\\xb5M\\x86H\\xf1\\xacq\\x90b\\xdc\\x8c;v\\xac\\xd7\\x91K\\x98\\xd1B\\x00s\\xb4\\x8e\\xbf\\xfdz\\xb9-\\xea\\xc7\\xfe\\xb0\\x10:|\\xa6\\xb1\\xaef]\\xfb\\x83\\xfc\\x8cx\\xc1\\xc50%\\xba1\\x08\\x0b\\xf9\\x83\\x81\\x82\\x0f\\x15\\x91-\\xc4\\x92q\\xe6n^\\xcaF3E\\xd4\\xcdn>\\x7f\\x9c7\\x07<\\xfe\\xb5Q\\xdde\\x00\\xc4q\\xeb\\xce1P\\xc6J\\x04h\\xe7\\x96\\x8c\\xb0\\xc8\\xe3 \\xd3\\xfc\\xd9\\x92<\\xb0\\xde\\x9d2F*$#\\xfd[1<c\\x91\\xd2\\x8f4\\xc4\\x84\\xe0\\x8d\\xbcd\\x1aAr\\xcaL\\xc3\\xe6\\\\m\\xeaA\\xe2\\x98\\xf7\\xaa\\\\$\\xeav\\x9e\\x84\\xf65P\\xdc\\xab\\x86\\x0cI\\xecOz\\xa2n\\xd0\\x92\\xb9\\xc1\\x1dU\\x8d4+\\x93^\\xdd\\x08\\xe3*\\n8\\xce@#\\xfc\\xf3\\\\\\xed\\xf5\\xcaJ\\x8c\\xa4\\x12\\xca~\\\\\\x9cg\\xff\\x00\\xd5V..C\\x82\\xab \\x19=s\\x9c\\x1f\\xf0\\xacI\\x0b\\x17;\\xba\\xe7\\x9a\\xa0\\x1b\\xfc\\xe9i)j@9\\xa0\\xd1I@\\x05\\x19\\xa2\\x81\\xd6\\x80\\x14R\\xf4\\xe6\\x93\\x9a^i\\x80\\xa0\\xd5\\x91\\x1b\\x98s\\xb4\\xed\\xef\\xefU\\x815~\\xcb\\x12\\x90\\x84\\xb3\\x13\\xc0QI\\xdc\\n\\xc00\\x07+\\x81\\xd8g4\\xe1n\\xd2r\\x15\\x80\\xf5\"\\xaeZ\\xda\\xb2^\\x98\\xe4\\\\\\xe0\\xe3\\x9ao\\x930\\x9d\\xb2\\xe6(\\xc3\\x1c{\\xd4\\xdfRo\\xad\\x88\\x05\\xbb\"\\x06\\x04\\x1epy\\xc5?|\\xdf\\xdc\\xfdjs!\\x91\\xca\\xb2|\\xa3\\x8c\\x91\\xd6\\x8f*\\xdf\\xfb\\xaf\\xf9\\xd3\\xb8\\\\\\xe8\\xee\\xb4\\x98a\\x05\\xad\\x1d^M\\xb9\\x18\\x19\\xcf\\xff\\x00^\\xb2\\x92\\xfa\\xfe\\x12\\xbeE\\xbf|\\x06q\\x90\\x0fzH\\xad\\x99\\x1cmg.\\xc7\\xaej\\xc3\\xdf\\x8b\\x0c\\x08\\xfei\\x0f\\xde\\xcf9\\xa8\\xb3B\\xb5\\x86\\\\\\xed\\xf2\\xc3\\xb6g\\xb9\\x90\\xfc\\xc5\\xba-f\\xcb\\x119X\\xc0.\\xde\\x83\\xa5N\\xf7\\x9et\\x84\\x00Wq\\xe5z\\xe2\\x9a\\x13e\\xc9w}\\x88\\x06\\x07\\xfbT\\x96\\xfa\\x83\\xecg\\xa5\\xb4\\xb2\\x10\\x19\\x8e\\xd1\\xc7\\x15\\xbbme\\x05\\x9e\\x9e\\xf7\\x13\\xbf*\\xbc/\\xf9\\xf5\\xaa\\xd8S0\\x05I\\xc8\\xce;\\n\\xb1|\\xa6\\xf6\\x08\\xad\\xa1\\xdd\\xf2\\xfc\\xd2\\x10:Un\\xc4\\xd5\\xec\\x85\\xd2/e\\x89\\x0c\\x89\\x18D\\x94|\\xc4w\\xaa\\xb7\\x13|\\xeev\\xa8\\xdcrH\\x1dj[\\x89\\x82C\\x1cj\\x02\\x84\\x1b@\\x1d\\xea\\x8b\\xcb\\xbf\\xad\\\\cmJQ\\xb6\\xa3\\t#\\xa5@\\xe4\\x12x\\xc1\\x1c\\xf5\\xc6i\\xc4\\x07\\xcf?\\x95F\\xfd\\xb3\\x93\\x8fZ\\xa2\\x80\\xe7\\x9ct4\\xccc\\xa9#\\xf5\\xa5\\xf9q\\xc9\\xc7\\xebI\\x81\\xefH\\x04\\x18\\xf7\\xa6\\x9c\\xfd=1O\\xfd\\x05\\'\\x1dh\\x01\\xb8\\xe9\\x9eOaG$\\xe2\\x82G\\xa7\\xd4\\xd0\\x0ezP\\x02\\x11Hz\\xd3\\x89\\x1f\\x9534\\x800)1\\xd2\\x96\\x8a\\x008\\xdd\\xce\\x7f\\nP;\\x9e\\x9d\\xc0\\xa6\\xd3\\xb7\\x81\\x822[\\xa9\\xf6\\xa0\\t\\xd0\\x90\\x83\\x05\\x82\\x93\\x9d\\xb9\\xfeu\\xb3\\xa7^\\xa4\\x01U7\\x00\\xa3\\x93\\x9cd\\xff\\x00Rk\\x167\\x017>r\\x06\\x00\\xc7Z\\x9a0\\xa4\\x86\\x9c\\xb6\\x17\\x90\\xa3\\x8c\\xd3\\x03\\xa8\\xb7\\x94\\xccU\\xbc\\xd5@G\\x04\\x9c\\x9f|}}kkL\\xbd\\x9e\"\\xbeYU\\x8c\\xf1\\xb8\\x9f\\xe5\\\\e\\x9d\\xc7\\x9d8\\x001\\n2[<\\x01\\xf8\\xff\\x003[6\\xfa\\x8cs9\\x1ea(\\xab\\x96ooO\\xc6\\x9a\\x03\\xd0muh\\xe4\\x03c+\\x0e\\xc0\\x1a\\xce\\xd5\\xe4\\x13Z\\xc8\\x1b\\x067;H\\'9\\xaef;\\x99n\\x01kM\\xd1\\x85<\\x85\\x1d\\x07\\xf8\\x9fJ|z\\xc3\\x04+q\\x18\\xdd\\x8e\\x83\\x9c\\x0fO\\xa95I\\x8a\\xc7\\x1f\\xaaiF\\xc6\\xf3%q\\x13\\x1e\\x83\\x9cV^\\xf2\\x8epr\\x07J\\xeb\\xf5\\x19\"\\x99\\x19\\x19\\xb2w|\\xed\\x9c\\xe3=\\x87\\xd2\\xb9\\xc7\\xb5\\x89\\xaf\\n\\xa1\\xc0\\xed\\x9a\\x96\\x86\\x99M\\xe5\\x91\\xf0\\t>\\xc2\\xa4\\xb6\\xb1\\x9e\\xe9\\xc0\\x8e&~y\\xf6\\xad+}\\'\\xf7\\xc38+\\x9a\\xe8mB\\xc5\\x8f-\\x02\\x8c`\\xf6\\xcd\\t\\x03bx\\x7f\\xc3\\xcbg7\\x9ds\\xb5\\xa6\\x1c*\\x8eB\\xff\\x00\\xf5\\xeb\\xb7\\xb61\\xdb@\\x08\\xc1_\\xe5\\\\\\xd8\\xba\\x11\\xf3\\xf2\\x9e21@\\xd5\\x82\\xbe[\\x84=@9\\xc5V\\x88GV\\xf7\\x11g{3\\r\\x9e\\x87\\x15F\\xfa\\xfe\\x17M\\xd1H\\x03\\xf5U\\'\\x19\\xaeF\\xf7[`\\xa5\\x14\\x9c\\x93\\x80\\x01\\xce*8\\xeeM\\xcc{\\x9c\\x9e\\x9d\\xcfJM\\x81\\xbb\\xf6\\xe90ZE\\xdb\\x93\\x8d\\xb5\\x0f\\xda\\x96H\\xca\\xb8\\x1bO@{VO\\xdb\\\\\\x11\\xb5\\x88\\x18\\xc1\\x07\\x9a\\x8c\\xeaLW\\xe7\\ny\\xc1\\xc0\\xc6j[\\x19nI\\x9bc\\x92r\\xa3\\x90\\x078\\xaa\\xef*\\x9c\\xc9\\x1e\\x07\\x1d\\x05W\\xfbA\\xde@=x\\xcdB_\\x0ex\\xc6NF{\\xd2\\x02\\xdb\\xdf)\\x03\\'?\\xa6*O\\xb6\\xe6?\\x9c\\x0f/\\xa1\\xc75\\x8fq(BH\\x03\\x83\\x9cS\\x85\\xe2\\xc4\\x8b\\x9cl\\'\\x90y\\xc5\\x08\\t&\\x99\\x90\\x96\\x0f\\xc1?+\\x03\\xd4VE\\xd5\\xe6\\xf9\\xf7)9\\x07\\xefz\\xd4\\x97\\x17\\x824h\\xa3`Q\\xba{sY\\xc7\\x93\\xfa\\xd3\\x01\\xee\\xe5\\xce}M6\\x92\\x96\\x90\\x0bG\\xe1E-\\x00%\\x14Q@\\x07\\x1c\\xd1E%\\x00/\\xe5K\\xf8\\xfeT\\x94S\\x01jxd\\x91\\x08\\xc1#\\x1e\\x9cb\\xab\\xd3\\xd1\\xf9\\x19\\xe9@\\x1b6\\xbb\\xbc\\xf4l\\xf2\\xc7\\x9c\\xd4\\xf7\\x12\\xa0.\\x80\\xb0;\\xb2I\\xfe\\x95R\\xd0\\x8d\\xea\\xc8\\x18\\x00y\\xcd]\\xb9\\x11\\x1b\\x99\\x03\\xbf\\xcaNA\\xf5\\xa9\\'\\xa9\\x9bs/h\\xc3c\\xb9&\\xab\\xf9\\xa7\\xd4\\xfeU\\xb8\\x96\\xb6\\xe0p\\x17\\xa6I\"\\xa1\\xf2\\xa2\\xfe\\xea\\xff\\x00\\xdf4\\r\\x9b\\xfeRE\\tX9v\\xe0\\xb9\\x18\\xc7\\xd2\\xab\\xa6\\x99\\x10\\xe3n[\\x19\\'\\xadj\\xa5\\xa9\\xce2\\x0f<\\xb0\\xa7<j\\x9co_N\\x0eqN\\xcb\\xa8^\\xc7;qd\\x10\\x90\\x8a\\xab\\xc6zt\\xaa\\xd1i\\xcb-\\xc8\\xde\\xdb\\x95FN{WCq\\x0cd\\x80\\x87\\x9e\\xe4\\xf1\\x9a\\xc7\\xbdu\\x85\\xce\\xd2\\x03w\\x03\\xbd\\x1c\\xbd\\x81\\x0cp3\\xbb\\x1bN\\xee3\\xe9QKx\\xd8(\\xbc.;\\x1e\\xb5\\x04\\xb7[\\xc1\\x07\\x8e\\xf9\\x1d\\xea\\xbe\\xf3\\x9e\\x08?\\xd2\\xa9$\\x82\\xc3\\x9d\\xc3\\xf2\\x7f<\\xd4G\\x1ds\\xf8\\x1a\\x18\\x8eI\\xf5\\xe9P\\xbc\\x8a3\\x8c\\xfd\\r1\\x84\\x92c8\\x00\\x1fcQ\\x16o\\xff\\x00_4\\xa5\\xf2)\\x9b\\xc6z\\xd2\\x01NO\\xff\\x00Z\\x98N2\\x06h.OO\\xd6\\x93\\x9a@.\\xf2E!&\\x93\\xb7\\xb5!4\\x80\\x074\\xb9\\xc6E!<{\\xd2P\\x01\\x9aZN\\xf4P\\x02\\xd1\\xec)\\xd0\\xc6dp+B\\xdfC\\xb9\\xb8#iM\\xbe\\xb9\\xcd\\x00f\\x1e1\\xe9\\xd6\\x968\\x9eC\\xf2\\x8e;\\x9fJ\\xe9\\xad\\xfc9\\x14@\\x19\\xdb\\xcc \\xf4\\xc6@\\xa9%\\x8a\\xde\\xdc\\x15\\xb7U\\x0cx#\\x19\\xfe}(\\xd8v1\\xa3\\xb3\\xc9]\\xdc\\xe3\\xa8\\x1d\\xa9&\\x01\\x1c\\x8cnbq\\xe8\\x05]H\\x98\\xe7$\\x06\\xe8\\x015!\\xb5#\\x0c\\xcb\\xc9\\xe1\\x98\\xe3\\xf4\\x1e\\xb4\\x01\\x9f\\x18m\\x9b\\x1d\\xbeL\\xe4\\xa8\\x1cR\\x9b\\xa6\\x08\\xc1\\n\\xa2\\x93\\x9d\\xc4\\xe4\\x93R^\\xf9Q`\\x08\\xf6\\x9ct\\xce\\x7f?z\\xa2\\x88\\xdb\\t\\xce3\\xeb\\xda\\x98\\x8e\\x8fA\\xd4\\x84r\\x08\\x89c\\x1b}\\xe6<c\\xff\\x00\\xaekt-\\xb7\\x96N\\xde\\x0f!\\xab\\x82\\xf3\\xa4@\\xa23\\x85^\\xfd+\\xa1\\xd3\\xaf\\x99\\xe1H\\xe7n\\t\\xca\\x9f\\xa5;\\x80\\xfdGD#\\xeeI\\x90\\xcd\\x90\\x01\\xefX\\xef\\xa4\\xcc\\x840 \\x9e\\xb5\\xbdu,\\x98\\x07?\"\\xa6r{\\xe6\\xa85\\xc9\\xe3=\\x86H4\\xae\\x05\\x04\\x96\\xe2\\x1c\\x92NW\\x81\\x9a\\x94\\xea2\\xa0\\'\\x1c\\x83\\xc6;S\\xae\\xa6\\\\\\xe0\\x8eG$\\xd5c\\xb5\\xf2\\xcb\\xd0\\xf5\\x1e\\xb4\\xae\\x05\\x89u)s\\xb9~\\xeb\\x0c\\xfd*\\x9f\\xda\\xa6\\x91\\xce\\xe2pz\\xf6\\xa9P\\xa66\\xb1\\xe3\\x04}*-\\xeb\\x9c\\x1e\\xdc\\x03@\\x12D\\xe4p\\xe4\\x9fC\\xfc\\xaa\\xdf\\xdaJ!\\xdaF\\x0fQ\\xfdj\\x94n\\xb2\\'\\'\\x188\\xcd$o\\xb1\\xfen@\\xe7\\x8a\\x00\\x9d.\\x88$7#\\xb7\\xb5H%\\x0f\\xd4\\x0e\\xb9\\xe2\\xa8\\\\\\x9f.@\\x01\\xe3\\x19\\x1e\\xf4\\x91\\xc9\\x87<\\xf2>\\xef\\xbd\\x00_\\x92A\\x80I\\xc1V\\xc6)<\\xe5\\xf2\\xc6\\xe6\\xe1\\x8e9\\xedT$\\xbc\\x0f\\x1b\\x80p\\xca\\xdb\\x97\\xde\\xabMp\\xcf\\xc0<g#\\xda\\x80-\\xcdr\\x8eI\\xdb\\xb7i\\xc3\\x0f\\xf3\\xfey\\xaaR\\xc9\\xd1T\\xf0;\\xfa\\xd3\\t\\'\\xbfZJ\\x00\\x0f<\\x9a(\\xa5\\xa0\\x02\\x96\\x92\\x8a\\x00Z(\\xa2\\x80\\n(\\xa2\\x80\\n(\\xa2\\x80\\x16\\x81H)i\\x80S\\x86)\\xbcR\\x8e(\\x02\\xe5\\xbc\\xc6\"\\x0fl\\xe0\\x8fZ\\xd2\\x8a\\xf5%%\\x91B\\xed\\x18\\xc3\\x1e\\x95B\\xde=\\x904\\xcd\\x8e8_sUQ\\xde)\\x08\\x1e\\xb9\\xc9\\xefQ\\xd4\\x9d\\xd9\\xbb\\xc1B\\xf2\\xfc\\xdb\\x8e\\x00<f\\x93\\xc9O\\xf9\\xe4?\\xef\\xa3T\\xed\\xa5\\x0e\\x85\\xe4\\x94\\xed^\\xb8\\x1d*o\\xb4\\xda\\xff\\x00\\xcfY?3F\\xa2\\xd4\\xeaE\\xe3&d\\x9d\\x80L\\xe0(\\xe3\\x15\\x0c\\x9a\\xd5\\xb4{\\x94\\xe0c\\xa1\\x03\\xadrw\\x1a\\x94\\xb39\\xf9\\xc9\\x06\\xa23p2G\\xbfz\\xb4\\xac4\\xack^\\xebr\\xcc6\\xae\\x17\\x1d\\x18qY\\xd2\\\\<\\x9c\\xb9\\xc9\\'\\xadV2\\x13\\xd0f\\x93~x\\x02\\x9d\\xca,o\\'\\xf0\\xa42g\\xd8\\xf6\\xa8G\\x1c\\xe4\\x8aW|c\\x90\\xc3\\xb6(\\xb8\\nO\\xad4\\xed\\xc7\\xd0R\\x19I\\xefM\\xce{\\xd0\\x00P\\x9e\\x80\\xd4d\\x01\\xd7\\x1fJq\\xcf@i\\x98\\x03\\xa94\\x802\\xc7\\xbf\\x14\\x9fNh$\\x1aN\\x94\\x80\\r \\xa0\\x9ei\\t\\xed@\\x0b\\x9eqI@\\x1f\\xe3J\\x91\\xb4\\x84\\x04RKt\\x02\\x80\\x10\\x06=\\x01\\xa9c\\xb6\\x96_\\xba\\x8d\\x9f~3Z\\xbaO\\x87\\xf5\\x0b\\x89\\x81H\\x1f\\x93\\x8eG\\x02\\xbd\\x03G\\xf0\\xf7\\xd9\\xb64\\xf0+7\\xf7H\\xc6i\\xd8\\x0e[\\xc3\\xfe\\x1a\\x9aLIs\\x12\\x84\\xec\\t\\xe4\\xfe_\\xd6\\xba\\xa1\\xa5,<m\\x03w\\x1b@\\'\\x15\\xd0Ge\\x14@\\xe2(\\xd1O\\xa7\\x1c\\xd4\\x12BI\\xc0$/p9\\xa4\\xd9I\\x18WVP\\xc6v&\\x1b\\x8eH?\\xd2\\xb2n\\xac\\x98`\\x88\\x8a\\xa7\\xb8\\xc6k\\xa4\\xb8\\xf2\\x90\\x80\\x1c\\x02=9&\\xb3.N\\xfclRp9\\xe3\\xadE\\xca\\xb1\\x87\\x1c+\\x19;\\x10\\x99\\x08\\xe1\\x9c\\xf0\\xbe\\xff\\x00\\x85V\\xb8\\x88Fq\\x90\\xe1\\x06I\\xc61\\xef[2H\\x9b\\n\\x95(\\x0fP\\xa3\\x96\\xff\\x00\\x01Td\\x96\\xdfyQ\\x08\\xd8\\x07s\\x9d\\xdf\\x854\\xc9f\\x15\\xc4>a\\xc1\\xe1Gs\\xc0\\xaa\\xcc\\x9dp0:\\x01\\x8e\\xb5\\xa5s\\'\\xda\\x9f\\x80\\xaa\\xa3\\x93\\x8a\\xa3\"o\\x90\\xa8\\x7f\\x90\\x1c\\x9e\\xd9\\xaa\\x01\\xb6\\xf0\\xa9\\x99AVl\\x9c\\x05\\x1d\\xea\\xf4\\x84\\t\\nd+\\xa8\\xdaH\\xe4\\x0f\\xfe\\xb5Oo\\x12G\\x02\\xbcx\\xcf\\xf0\\xe4\\xe3&\\xb3n\\x1ePY2\\x08\\'\\x90;\\xd0\"\\xc5\\xce\\xa6\\xd2\\xfc\\xa3\\x84R\\x00\\xcf\\x19\\x03\\x81\\xfe5\\x04W+%\\xee\\xe7\\xfb\\x8b\\xf30\\xf6\\x15JG\\xd9\\xdf-\\x9e\\x9e\\x95\\x0f\\x98B8\\x07\\x96\\xe0\\xd0\"\\xdb\\xdc\\x87Y\\x98\\x8es\\x83\\xed\\xcd@nX\\xa6\\x07\\x00\\x1e\\xd5\\x0c\\x84\\x9es\\xc1\\xe4\\xd3A\\xeb\\xe8h\\xb0\\x12\\t\\x9bx9\\xc9\\xceMI$\\x9c\\x82\\xa7\\x8cp=*\\xb8\\xe3?\\x95\\x04\\xf6\\xa0\\x0b\\x06A\\xe5\\x8ex\\'\\x91\\xebH&\\xca\\x1f\\xefv5\\x01=\\x07\\xa5\\'4\\x01,\\xb2\\x17\\xda\\xc4\\xf2F\\xde)\\x9ecg9\\xa6\\xf3E\\x00%-.(\\xa0\\x04\\xa2\\x96\\x8a\\x00J)h\\xa0\\x04\\xa2\\x96\\x8a\\x00(\\xa2\\x8a\\x00(\\xa2\\x96\\x80\\x12\\x8a\\r(\\xa6\\x02R\\x8a(\\xa0\\x02\\x9d\\x18\\x04\\x81\\xebM\\xa7/\\xde\\x14\\x01b\\xe0\\xb3\\x04D\\xfb\\xab\\xd0\\x0e\\xe6\\x9a\\x10\\x94\\xc3\\x1e\\x87\\x07\\x154$\\x8e1\\xc7\\xb74\\xe7\\x92 \\x02\\x1c\\xe7\\xdb\\x9a\\xcd\\xb2\\x07[8\\xb5\\xca\\x90\\xac\\x18`\\x8fZv\\xc8\\xbf\\xd9\\xfc\\xaa\\xbb\\x98\\x8f\\nH\\x00pM7\\xcc4\\xee2-\\xe3\\xa5\\x19=;SNO\\xa0\\xa4\\xe7\\xd6\\xac\\xa2P@\\xed\\xf9S\\xbe^\\xa0\\x8f\\xca\\xa1\\xcd\\x1b\\xc61\\x8f\\xca\\x8b\\x81/ni\\xb9\\x03\\x9c\\x8f\\xa57\\xf3\\xa6\\x9e:P\\x02\\x922h\\xdfL\\xe6\\x8a.\\x02\\xef \\xf1\\xf9\\xd2\\x12i9\\xa4\\xe4\\xf1H\\x07\\x03\\xf9\\xd2u\\xa4\\xc1\\xa9\\xe1A!\\nG\\x04\\xe0P\\x04$q\\xfc\\xe81\\xb0\\xc7}\\xc3\"\\xb5^\\xc5w\\x94p\\x0e8\\xca\\xf3\\x8fJ\\xd5\\xb2\\xd0R\\xe9\\x11$\\x8c\\x80\\x0e\\x03\\x03\\x8c\\xd3\\xb0\\x18\\xf6:%\\xe5\\xd6\\x1a\\x08\\xf7\\xf7\\xc0\\xed]\\x96\\x89\\xe1_/\\xcb\\x96d\\x8dd\\xc7 \\x8c\\x8f\\xff\\x00]l\\xe8\\xba<V\\t\\xfb\\xb2\\xcb\\x8cn\\x07\\xa9\\xae\\xa2+t(\\x0eI\\x18\\xaa\\xd87)X[\\x0bP\\x02/\\xca\\x07OZ\\xb2Ku${c\\x9cT\\xbe\\\\|\\x83\\xbb=8\\xe2\\x9a\\xe8\\xbb\\x08\\x1b\\x81\\x1dy\\xac\\xdb\\xb9I\\x0c\\x98\\x12\\x01\\xf9[h\\xee*\\xa9\\x8d\\xc1\\xcf\\x98\\x01#\\'\\x02\\x9c\\x91\\xc6_\\x04\\xb8U\\xe7=*\\xb5\\xcd\\xcc@\\x9d\\x92\\x03\\xb7\\x93\\xcfJ\\x92\\x92\\xe8C4E\\xe4 \\x91\\xb9G \\x1e\\x82\\xb3n\\xa4[t\\xe5\\xc6[\\xd4t\\xa9\\xd2\\xe5n$<\\xb0S\\xd4\\x9e\\xf5\\x9fzrXs\\xc9\\xfe\\x11\\xc5\\x1d\\x06d\\xdc\\xc8e}\\xd1\\xb1\\xc1\\xe3$c5\\x0c0\\xc40\\xd2G\\xe6m<(=O\\xbd]\\x91\\x16`I\\x18\\xdb\\xdc\\xf1\\xfc\\xaa\\tK[\\xbeVE\\\\\\xf0\\x00\\x19\\xc5\\x0bA2\\xad\\xc9g\\xca\\xc7\\x0chq\\xc8Q\\x92*\\x90\\x8aH\\xc8!\\x14q\\xcb\\x13\\x9c\\xd5\\xc2V\\xe5\\xf1\\xbbb\\xf4$\\x1ae\\xc4V\\xe1\\x02e\\x9dOS\\x9c\\x13\\xff\\x00\\xd6\\xa6\\x89c>\\xd0\\x80\\x16|\\xc8@\\xc0\\x00c\\x15\\x93y0rH\\xc2\\xfa(\\xedSMr\\x91!\\x00p\\x0e\\x02\\x8e1Y\\xd2\\xcb\\xe6\\x1e\\x83\\xdf\\x15B\"w&\\x9bE\\x14\\x08\\t\\xa2\\x8a(\\x00\\xa2\\x8a(\\x00\\xa2\\x8a(\\x00\\xa2\\x8a(\\x00\\xa2\\x8a(\\x00\\xe2\\x8a(\\xa0\\x02\\x8a(\\xa0\\x02\\x8e(\\xa2\\x80\\n)y\\xa2\\x80\\x12\\x96\\x8aJ\\x00\\r\\x1c\\xd2\\xd2P\\x02\\xd1\\x91IK\\x8a`/\\xd2\\xa7\\x85\\x0e\\xf0J\\x923\\xcd6\\x08\\x99\\xcf\\x02\\xb4\\xad\\xec\\xc9\\x03\\x83\\xef@\\x12Iuk\\x1c\"6\\xb4R\\x08\\xc6\\xe1\\xc1\\xfc\\xea\\xbe\\xcb9\\x0eRFF\\xc7\\xdda\\x9c\\xd2]Y8 \\x12\\x15GOSP\\x12!B\\x06\\t\\xf5\\xf5\\xa8d[\\xb1/\\xd9@r\\xc0\\x82\\xbdx=)\\x9b\\x16\\x99\\x14\\xc4#\\x96\\xc9b01\\xda\\xa2\\xf3\\xaal\\xc3Q8\\'\\xad)\\x00g\\x18\\x14F\\x85\\xcd8\\xc6\\x06q\\xdf\\xd2\\xb5,\\x80\\x9e\\xd4\\x0c\\x821\\xd6\\xa4\\xd8?\\xc2\\x9b\\x80O\\x1f\\x89\\xa0\\x03\\xebM\"\\xa5\\xdap\\t\\x18\\x07\\xa6{\\xd4dw\\xa0\\x06\\xd2\\xd2w\\xc9\\xa5\\x03<~&\\x80\\x10\\xf48\\xa4Dg \\x01\\xf8S\\xb0s\\x9a\\\\20#9\\xc6h\\x02\\xdci\\x1b\\x80\\x8c6\\xf1\\x93\\x81\\xd6\\x8f\\xb3\\xb2d\\x85o/?x\\x0e\\x94\\xfbb\\xb2\\xc6\\xa8~S\\x9f\\xbd\\x8a\\x96\"\\xf1I\\x80C\\xa0l\\xe3\\xd6\\x98\\x16m]e1\\x99\\xb8\\x1d\\x0bc=+\\xae\\xd1CB\\x03\\x1d\\x8d\\x119\\x07\\xae+\\x95?\\xea\\xcc\\x9b@\\x04\\xe7\\x04V\\xb6\\x83\\xa8\\x8f0&2\\xb8\\xc6:c\\xf1\\xa1\\x01\\xe8q\\x05\\x90+(\\\\\\x91\\x91\\xcfZ\\xb1\\xe7\\x18\\xd3\\xe7R\\xa7\\xa7\\'\\x19\\xac8o\\xde\\x02\\x10>W\\xd0v\\xa9\\xa1\\xbd\\x92\\xe2r\\xa5I\\x00\\xe0\\x0fZ\\x992\\x925\\x0c\\xcc\\\\\\x049$g&\\x99#\\xca\\xe7\\xe7\\xda\\x83\\xb1\\x07\\xadE\"2\\r\\xc4\\xe0\\x0f\\xe1\\x06\\xab\\x1b\\x86\\x90\\x9d\\xca\\x0ex\\x00q\\x8a\\x8d\\xb7-.\\xc4\\xf2\\xcd\\xb1\\n\\xe0\\xb1n\\xbc\\xe75A\\xe2\\x8d\\xf2d\\x05@\\xe4\\x83\\xc6i\\xb7\\x97^I\\xe0\\xf2=\\xf3\\x8a\\xad,\\xac\\x103\\x93\\xcf9\\xcfO\\xfe\\xbd-\\xc7k\\x0bq$1\\xe7\\x85\\x00\\x0e095\\x99,\\x8b\\x9c\\xaa\\xb7\\'\\x8c\\xf3\\x8a\\xb1!\\xceX\\x0f\\x9d\\x86\\x0e\\x07J\\xcc\\x9aX\\xed\\xc9#w\\xa6\\xe3\\xd2\\x98\\ty.P+\\x06\\xdf\\x9e9\\xebT\\xde6p7\\x10\\x02\\x8c\\xe3\\xaehy\\x84\\x849P\\xc4u\\xe7\\x19\\xac\\xcb\\xfb\\xe5\\xe5wr\\xbd\\x17\\xa5\\x1b\\x93r\\xc4\\x92C\\xf39a\\xbb\\xd3\\xa6k>K\\xe5\\x07k\\x0e1T\\x9e\\xe5\\x8f=A\\xaa\\xcf!~j\\x92%\\xb2k\\x89D\\xaeOl\\xf1\\x8e\\xd5\\\\\\xfdh\\xa4\\xa6 \\xe2\\x8a(\\xa0AE\\x14P\\x01E-\\x14\\x00\\x94QE\\x00\\x14QE\\x00\\x14QE\\x00\\x14QE\\x00\\x14QK@\\t@\\xa5\\xa2\\x80\\x12\\x96\\x92\\x8a\\x00)h\\xa3\\xf1\\xa0\\x00\\xd2\\nZ1\\x8a`\\x1e\\x94\\xf8\\xc1\\xcd \\x15\\xa5ej$ \\xe7\\x1e\\xe6\\x90\\x0f\\xb2\\x84\\xe4\\x12@5\\xbd\\xe4\\xed\\x84\\xb0\\xf9\\x9f\\x1c\\x1cb\\x8b[h\\x82\\x00\\xdf{\\x1d@\\xabr\\xc4\\xbeI+\\xbb\\xa7\\x14\\xc1\\x9c\\xac\\xe5\\x9e\\xe9\\x84\\x85\\x8e\\xe3\\xd0q\\x81Q\\x98\\x96G\\xcb\\x1d\\xb0\\xa0\\xc7\\xd6\\xa5\\xba,\\x1eL\\xb0\\xcb\\x1c\\x03\\xe9P%\\xbf\\x9d\\x01;\\xc2D\\x9d\\xfa\\x96\\xfaTu#\\xa15\\xc0\\x8ci\\x8f*.7\\xb0PO\\xa5eU\\xab\\xa9\\x8f\\x93\\x1c`\\xfc\\xa3\\x9cg5W\\x9fC\\xf9S\\x0b\\x1a\\tnc\\x80\\xc9\\'\\xcaX\\xe0\\x0fJ\\xaed\\x04\\xf1\\xd3\\xb0\\x14]^5\\xe4\\x80\\xe3j\\x81\\x80\\xa3\\xb5F8\\xea\\x7f.\\xb5E\\x8f>\\xfd{c\\xb5\"\\x0f\\xc8u\\xcd\\x01\\xc5!q@\\n\\xe4\\xb9$\\xd4d\\xd3K\\xf4\\xc7jo&\\x80\\x1d\\x81\\xeb\\xcd(\\x19#4\\x81\\t U\\x81\\x0f=N}\\xe8@:\\x10\\xa50\\xc38\\xefN(\\x85\\x88#\\xf1\\xa4\\xc6\\xcc|\\xdf\\x88\\xa6<\\x84\\x1fZ`=\\x07\\x96\\xddr:\\xe3\\xd6\\x95\\x1d\\xb9$w\\xfa\\xd3Jg\\r\\xd0\\x9ez\\xd3\\xe3u\\xc1\\x07\\x82\\xdcR\\x19:j-\\x80\\x8c~\\x84\\xf6\\xabp\\xdc5\\xb1\\x0cv\\xc8\\x1b\\x91\\xb6\\xb2\\x1c7#\\x82=})\\xf0\\xcb\"`\\x13\\x85\\xce\\x00\"\\x81\\x1e\\x83e~\\x9e\\\\l\\x17pa\\xca\\x8e\\xd5\\xb9n\\xeaG\\x98\\x84\\xe0\\x9e\\x84\\xd7\\x0b\\xa4\\xc5;\\xcc\\n\\xc9\\xf2\\xe3\\xbfj\\xe9-\\xd2\\xe6\"\\t*\\xea\\x7f\\x88\\x1e\\x94\\x9d\\xca\\x89\\xbb%\\xe1D\\x00\\x02\\xc4\\xfe\\x95\\\\\\xca\\xcaI\\x93\\x80\\x06q\\x9c\\xe6\\xaaG\\x14\\xd2\\x13\\xb4\\x90I\\xc9\\xc9\\xa6\\\\\\xb9\\xf9S\\xef0\\x18$\\x0e\\xb5\\x9b\\xb9\\xa4l6k\\xc8\\xa2p\\xc6=\\xecNv\\x9esU\\xe5\\xd4\\xc5\\xd1;!\\xf9\\x94\\x127q\\x8ay1\\xc4~}\\xaaOB\\xc78\\xac\\rcSHdYb`A\\x188\\xa6\\x907cR9e\\xe0\\\\\\x93\\xf3\\x9e\\x08\\xedYz\\x8d\\xed\\xbd\\xb0\\x91\\xb2$\\x00\\xfc\\xbc\\xf2k\\x1eo\\x10<\\xc8\\x14\\x120s\\x90z\\xd6,\\xb2\\xb4\\x84\\x96c\\xc9\\xce3M\"\\x1b/\\\\j\\xb2I!e8\\xe7#\\x1d\\xaa\\x9c\\x934\\xa4\\x96\\xfb\\xc7\\xa9\\xa8h\\x15D\\x8e\\xa3\\x9am:\\x81\\x05\\x14RP\\x02\\xd2`\\xd1K@\\x06(\\xa34P\\x01E\\x14q@\\tE-\\x14\\x00\\x94R\\xd1\\xc5\\x00%\\x14\\xb4P\\x02QKI@\\x0bIE\\x14\\x00\\xb4\\x94\\xbd\\xa8\\x14\\x00PE\\x14P\\x01\\xcd\\x19\\xa5\\x06\\x82:\\x8e\\xf4\\xc0AJ\\x01<R\\xa0\\xf6\\xab\\xf6\\xb6\\xc2B8\\x07\\x9eFi\\x0c\\x8e\\xda\\x12O\\x18>\\x99\\xe6\\xb7,,W\\x82r\\x01=\\xfb\\xd3\\xec\\xb4\\xd5\\x00\\x103\\xcf#\\xa5j\\xc5\\x16\\xc1\\x80I\\x1f\\xdd#\\x14\\x01$p.\\xc0:\\x11\\xfa\\xd3od\\xf2`$(8\\x1e\\xb8\\xa9C\\x91\\xce\\xde\\xd5\\x05\\xf3\\x8f\\xb33\\x03\\xf3\\xe3\\xa7Z\\x04\\xce>\\xfa\\xe0M1$\\x90\\x07U\\xc7ZKX\\xfe\\xd3\\x1c\\xad3\\x15\\x8e%\\xc8\\x03\\x8a\\xa9y#Kr\\xc7\\xdf\\xb0\\xc5\\\\\\xb1\\xb4\\x96\\xe8\\x14\\x0c\\xab\\x18\\x19\\x91\\x89\\xe0\\nV!\\xecV\\xb7\\xb6k\\x82I\\xe0g?J\\xbb\\xf6t\\xfe\\xf9\\xa2\\xe6\\xe2(\\xff\\x00sj\\xc7\\xcb\\x1c\\x17\\x03\\x1b\\xbe\\x9e\\xd5[\\x11\\x7fy\\xbf:\\x05vU8\\x14\\x9cu5$\\xc8\\xabq\"\\xa8\\xc0V T^\\xb4\\xcd\\x07f\\x9bE\\x14\\x00\\x82\\x9c9\\xc5\\x02\\xadB\\xa3\\x1d(\\x01\\x91\\xc6A\\x1e\\x9d\\xea\\\\q\\xeajB\\xa3\\x1d;TRpx\\xf4\\xaa\\x01\\x85\\xcfB:PpH\\x03\\x92\\x7fZi\\xe9N$\\xa9\\x8f\\x1cdR\\x18\\x1f\\x93>\\xa0\\xf4=\\xa9\\x0c\\x84\\xe7\\x81\\x81\\xd4\\xd0\\xfd\\x07\\xbdC\\xfc\\'\\xebH\\x07\\xe5\\x8eNN\\x01\\xfc\\xea\\xd47\\x1b0$U \\x1e\\x86\\xabF\\x01\\x07=\\x85M\\xb5I\\xda@\\xc63@\\x8e\\xabH\\xbf\\x8aH\\x08\\x8fb\\x800W\\x18&\\xaeEz#s\\xb0\\xedPp\\x14\\x8c\\xd7#a\\x94\\xbfUR@>\\x95\\xd0\\xc8v.W\\x83\\xbb\\x14=\\x8aF\\xfcw\\xe1\\x10\\x1c\\xfc\\xc4r\\x05C-\\xfa\\x81\\xb0\\x85\\xdc\\xdc\\x93\\xd2\\xb3%b\\xb6\\x83\\x07\\x04\\xe7\\x9e\\xf5FWo\\xb2\\x8eO\\xdd\\xcf\\xe3P\\xb5.\\xf6%\\xd6\\xb5XR1\\x1f\\x9b\\xbd\\xba\\r\\xbcb\\xb9)\\xa5i3\\x92q\\x9c\\xe2\\x9f;\\x16\\x93\\x93\\x9a\\xaf\\xfc\\'\\xebV\\x95\\x88n\\xe2v\\xa5\\x18\\xebH)[\\x8cS$n)zQ\\xe9\\xf4\\xa0v\\xa0\\x02\\x8a\\x0fZ)\\x00\\xb4P(\\xa0\\x04\\xa5\\xa2\\x92\\x80\\x16\\x8aQI@\\x05.\\x06(\\xa5\\xec(\\x01\\xb4R\\xd2\\xf7\\xa0\\x06\\xd1KE\\x00%\\x14Q@\\x05!\\xedJh\\xa0\\x04\\xa5\\xa4\\xa5\\xf4\\xa0\\x02\\x8a=)\\xde\\xb4\\xc0m\\x14\\xbf\\xc3\\xf8\\xd0:R\\x00\\xc59\\x07Jp\\x03mY\\xb7E\\'\\x91\\xde\\x80\\x08\\xed[\\x8c\\x03\\xc8\\xc8\\xcdli\\xd6\\xdb\\x1c\\x1d\\xb8\\xecr:\\xd5\\x8bxch\\xc6Tp*\\xfd\\xbcj\\t\\xc0\\xa42X\\xa2\\xc7 \\x8e:\\xf3R\\xa0;\\xc9l\\xf4\\xe0\\xd3\\x82.O\\x1dE\"\\x8f\\x94{S\\x00c\\x94\\xdap3\\xd0\\xd7=\\xad\\xc9\\x12E\\xb4HU\\xbdCb\\xb7\\xa4b\\xecC\\x1c\\x8c\\xd7#\\xae\\x81\\xe7\\x1f\\xad\\x04\\xb2\\x9d\\x9d\\xbcro\\x9awm\\x8a9=sN\\x8aa4\\x8b\\x04a\\xb63r\\xb9\\xc6j9\\xc9\\x16\\xd1 \\xe1I\\xe4\\n\\x9bDP\\xfa\\xacA\\x86FhZ\\x8a\\xc4\\x9a\\x9d\\xa8\\x8e\\xf4\\'\\n\\xaa\\xbftw\\xaa\\xfba\\xfe\\xf2\\xfeu>\\xb6\\xc7\\xed\\xf3\\x9c\\xf3\\xbb\\x1f\\x85$6p\\xb4\\x11\\xb1NJ\\x82y>\\x94\\x04v?\\xff\\xd9'\n"
     ]
    }
   ],
   "source": [
    "with open('panda.jpeg','rb') as file:\n",
    "    data=file.read()\n",
    "    print(data)"
   ]
  },
  {
   "cell_type": "code",
   "execution_count": 246,
   "id": "b38a89ea",
   "metadata": {},
   "outputs": [],
   "source": [
    "# copy to desktop\n",
    "with open('panda.jpeg','rb') as file:\n",
    "    data=file.read()\n",
    "    file2=open('C:\\\\Users\\\\pvashishtha\\\\Desktop\\\\panda_copy.jpeg','wb')\n",
    "    file2.write(data)"
   ]
  },
  {
   "cell_type": "code",
   "execution_count": 4,
   "id": "02cf2293",
   "metadata": {},
   "outputs": [],
   "source": [
    "# consider you have a large binary file like 1GB size.\n",
    "# RAM allocated to copy data is only 50MB.\n",
    "# Write a function code to copy that large file in parts.\n",
    "def filecopy(filename, dest_filename, ram):\n",
    "    origin=open(filename, 'rb')\n",
    "    dest=open(dest_filename, 'wb')\n",
    "    size=origin.seek(0,2)\n",
    "    origin.seek(0)\n",
    "    print(f'Filename: {filename}')\n",
    "    print(f'File Size: {size} bytes')\n",
    "    partitions=size//ram+(1 if size%ram>0 else 0)\n",
    "    while partitions>0:\n",
    "        data=origin.read(ram)\n",
    "        dest.write(data)\n",
    "        partitions-=1\n",
    "        dest.flush()\n",
    "        print(f'Partition copied...')\n",
    "    origin.close()\n",
    "    dest.close()\n",
    "    print('File Copied!')"
   ]
  },
  {
   "cell_type": "code",
   "execution_count": 6,
   "id": "674b163c",
   "metadata": {},
   "outputs": [
    {
     "name": "stdout",
     "output_type": "stream",
     "text": [
      "Filename: conda.exe\n",
      "File Size: 622731992 bytes\n",
      "Partition copied...\n",
      "Partition copied...\n",
      "Partition copied...\n",
      "Partition copied...\n",
      "Partition copied...\n",
      "Partition copied...\n",
      "Partition copied...\n",
      "Partition copied...\n",
      "Partition copied...\n",
      "Partition copied...\n",
      "Partition copied...\n",
      "Partition copied...\n",
      "Partition copied...\n",
      "File Copied!\n"
     ]
    }
   ],
   "source": [
    "filecopy('conda.exe', 'conda_copy2.exe', 50000000)"
   ]
  },
  {
   "cell_type": "markdown",
   "id": "ab8a3af6",
   "metadata": {},
   "source": [
    "#### Python Library Modules"
   ]
  },
  {
   "cell_type": "code",
   "execution_count": 7,
   "id": "b9b4858b",
   "metadata": {},
   "outputs": [],
   "source": [
    "# math module\n",
    "\n",
    "import math"
   ]
  },
  {
   "cell_type": "code",
   "execution_count": 9,
   "id": "cb988602",
   "metadata": {},
   "outputs": [
    {
     "name": "stdout",
     "output_type": "stream",
     "text": [
      "['__doc__', '__loader__', '__name__', '__package__', '__spec__', 'acos', 'acosh', 'asin', 'asinh', 'atan', 'atan2', 'atanh', 'ceil', 'comb', 'copysign', 'cos', 'cosh', 'degrees', 'dist', 'e', 'erf', 'erfc', 'exp', 'expm1', 'fabs', 'factorial', 'floor', 'fmod', 'frexp', 'fsum', 'gamma', 'gcd', 'hypot', 'inf', 'isclose', 'isfinite', 'isinf', 'isnan', 'isqrt', 'lcm', 'ldexp', 'lgamma', 'log', 'log10', 'log1p', 'log2', 'modf', 'nan', 'nextafter', 'perm', 'pi', 'pow', 'prod', 'radians', 'remainder', 'sin', 'sinh', 'sqrt', 'tan', 'tanh', 'tau', 'trunc', 'ulp']\n"
     ]
    }
   ],
   "source": [
    "print(dir(math))"
   ]
  },
  {
   "cell_type": "code",
   "execution_count": 10,
   "id": "e8beeb7e",
   "metadata": {},
   "outputs": [
    {
     "data": {
      "text/plain": [
       "8.18535277187245"
      ]
     },
     "execution_count": 10,
     "metadata": {},
     "output_type": "execute_result"
    }
   ],
   "source": [
    "math.sqrt(67)"
   ]
  },
  {
   "cell_type": "code",
   "execution_count": 11,
   "id": "89b48b37",
   "metadata": {},
   "outputs": [],
   "source": [
    "import math as m"
   ]
  },
  {
   "cell_type": "code",
   "execution_count": 12,
   "id": "33cc903f",
   "metadata": {},
   "outputs": [
    {
     "data": {
      "text/plain": [
       "8.0"
      ]
     },
     "execution_count": 12,
     "metadata": {},
     "output_type": "execute_result"
    }
   ],
   "source": [
    "m.pow(2,3)"
   ]
  },
  {
   "cell_type": "code",
   "execution_count": 13,
   "id": "76a2f4c8",
   "metadata": {},
   "outputs": [],
   "source": [
    "from math import *"
   ]
  },
  {
   "cell_type": "code",
   "execution_count": 14,
   "id": "951d96b4",
   "metadata": {},
   "outputs": [
    {
     "data": {
      "text/plain": [
       "1.7320508075688772"
      ]
     },
     "execution_count": 14,
     "metadata": {},
     "output_type": "execute_result"
    }
   ],
   "source": [
    "sqrt(3)"
   ]
  },
  {
   "cell_type": "code",
   "execution_count": 15,
   "id": "749c0521",
   "metadata": {},
   "outputs": [],
   "source": [
    "from math import sin, cos, tan"
   ]
  },
  {
   "cell_type": "code",
   "execution_count": 16,
   "id": "c16fee1c",
   "metadata": {},
   "outputs": [
    {
     "data": {
      "text/plain": [
       "0.9877326197620127"
      ]
     },
     "execution_count": 16,
     "metadata": {},
     "output_type": "execute_result"
    }
   ],
   "source": [
    "sin(1.414)"
   ]
  },
  {
   "cell_type": "code",
   "execution_count": 17,
   "id": "1487a114",
   "metadata": {},
   "outputs": [],
   "source": [
    "from math import log2 as l2"
   ]
  },
  {
   "cell_type": "code",
   "execution_count": 18,
   "id": "890e9a9c",
   "metadata": {},
   "outputs": [
    {
     "data": {
      "text/plain": [
       "6.442943495848728"
      ]
     },
     "execution_count": 18,
     "metadata": {},
     "output_type": "execute_result"
    }
   ],
   "source": [
    "l2(87)"
   ]
  },
  {
   "cell_type": "code",
   "execution_count": 20,
   "id": "90aeab32",
   "metadata": {},
   "outputs": [],
   "source": [
    "import math\n",
    "import math as m\n",
    "from math import *\n",
    "from math import sin, cos\n",
    "from math import sin as s, cos as c"
   ]
  },
  {
   "cell_type": "markdown",
   "id": "6a1cf15d",
   "metadata": {},
   "source": [
    "#### Random Module"
   ]
  },
  {
   "cell_type": "code",
   "execution_count": 21,
   "id": "e9c3ed73",
   "metadata": {},
   "outputs": [],
   "source": [
    "import random"
   ]
  },
  {
   "cell_type": "code",
   "execution_count": 22,
   "id": "3c57c5cf",
   "metadata": {},
   "outputs": [
    {
     "data": {
      "text/plain": [
       "0.13253434687945043"
      ]
     },
     "execution_count": 22,
     "metadata": {},
     "output_type": "execute_result"
    }
   ],
   "source": [
    "random.random()"
   ]
  },
  {
   "cell_type": "code",
   "execution_count": 26,
   "id": "4956ceff",
   "metadata": {},
   "outputs": [
    {
     "data": {
      "text/plain": [
       "19"
      ]
     },
     "execution_count": 26,
     "metadata": {},
     "output_type": "execute_result"
    }
   ],
   "source": [
    "random.randint(10,20)"
   ]
  },
  {
   "cell_type": "code",
   "execution_count": 38,
   "id": "9dc4930b",
   "metadata": {},
   "outputs": [
    {
     "data": {
      "text/plain": [
       "15"
      ]
     },
     "execution_count": 38,
     "metadata": {},
     "output_type": "execute_result"
    }
   ],
   "source": [
    "random.randrange(10,50,5)"
   ]
  },
  {
   "cell_type": "code",
   "execution_count": 39,
   "id": "070bb9a4",
   "metadata": {},
   "outputs": [
    {
     "data": {
      "text/plain": [
       "3"
      ]
     },
     "execution_count": 39,
     "metadata": {},
     "output_type": "execute_result"
    }
   ],
   "source": [
    "# choice()- random value selected from a list\n",
    "li=[1,2,3,4,5,6]\n",
    "random.choice(li)"
   ]
  },
  {
   "cell_type": "code",
   "execution_count": 43,
   "id": "fb3f4d4d",
   "metadata": {},
   "outputs": [
    {
     "name": "stdout",
     "output_type": "stream",
     "text": [
      "SPGLF"
     ]
    }
   ],
   "source": [
    "li=[chr(x) for x in range(65,91)]\n",
    "for i in range(5):\n",
    "    print(random.choice(li), end='')"
   ]
  },
  {
   "cell_type": "code",
   "execution_count": 68,
   "id": "8b024641",
   "metadata": {},
   "outputs": [],
   "source": [
    "# create captcha of n chars using a function\n",
    "\n",
    "def captcha(n):\n",
    "    import random\n",
    "    code=''\n",
    "    li=[chr(x) for x in range(65,91)]+[chr(x) for x in range(97,122)]\n",
    "    li=li+[x for x in range(10)]*4\n",
    "    for i in range(n):\n",
    "        code+=str(random.choice(li))\n",
    "    return code"
   ]
  },
  {
   "cell_type": "code",
   "execution_count": 71,
   "id": "5271f8b3",
   "metadata": {},
   "outputs": [
    {
     "data": {
      "text/plain": [
       "'7KOGbL'"
      ]
     },
     "execution_count": 71,
     "metadata": {},
     "output_type": "execute_result"
    }
   ],
   "source": [
    "captcha(6)"
   ]
  },
  {
   "cell_type": "code",
   "execution_count": 72,
   "id": "461b6796",
   "metadata": {},
   "outputs": [],
   "source": [
    "import os"
   ]
  },
  {
   "cell_type": "code",
   "execution_count": 73,
   "id": "69b5324e",
   "metadata": {},
   "outputs": [
    {
     "data": {
      "text/plain": [
       "'C:\\\\Users\\\\pvashishtha\\\\Desktop\\\\Python Basics'"
      ]
     },
     "execution_count": 73,
     "metadata": {},
     "output_type": "execute_result"
    }
   ],
   "source": [
    "os.getcwd()"
   ]
  },
  {
   "cell_type": "code",
   "execution_count": 75,
   "id": "f06a23e8",
   "metadata": {},
   "outputs": [],
   "source": [
    "os.chdir('C:\\\\Users\\\\pvashishtha\\\\Desktop')"
   ]
  },
  {
   "cell_type": "code",
   "execution_count": 76,
   "id": "d2dc3ce8",
   "metadata": {},
   "outputs": [
    {
     "data": {
      "text/plain": [
       "'C:\\\\Users\\\\pvashishtha\\\\Desktop'"
      ]
     },
     "execution_count": 76,
     "metadata": {},
     "output_type": "execute_result"
    }
   ],
   "source": [
    "os.getcwd()"
   ]
  },
  {
   "cell_type": "code",
   "execution_count": 77,
   "id": "159c448d",
   "metadata": {},
   "outputs": [],
   "source": [
    "os.mkdir('DEMO DIR')"
   ]
  },
  {
   "cell_type": "code",
   "execution_count": 78,
   "id": "a4d47dd5",
   "metadata": {
    "collapsed": true
   },
   "outputs": [
    {
     "data": {
      "text/plain": [
       "['.ipynb_checkpoints',\n",
       " 'Cohort 1 DS-DE Team and Use Case Assignments.xlsx',\n",
       " 'DataOps Azure Content Dev',\n",
       " 'Delivery',\n",
       " 'Deloitte Remote Assistance.lnk',\n",
       " 'DEMO DIR',\n",
       " 'desktop.ini',\n",
       " 'FY24_P4_A_Datawarehousing, ETL, Agile and Testing_HYD_GGN(1-24).xlsx',\n",
       " 'Microsoft Teams.lnk',\n",
       " 'OneDrive.lnk',\n",
       " 'P4A_Week 4 Roster_DTA faculties.xlsx',\n",
       " 'panda_copy.jpeg',\n",
       " 'PV',\n",
       " 'Python Basics']"
      ]
     },
     "execution_count": 78,
     "metadata": {},
     "output_type": "execute_result"
    }
   ],
   "source": [
    "os.listdir()"
   ]
  },
  {
   "cell_type": "code",
   "execution_count": 79,
   "id": "1e61f384",
   "metadata": {},
   "outputs": [],
   "source": [
    "os.rmdir('DEMO DIR')"
   ]
  },
  {
   "cell_type": "code",
   "execution_count": 80,
   "id": "35dc00fd",
   "metadata": {},
   "outputs": [],
   "source": [
    "os.unlink('panda_copy.jpeg')"
   ]
  },
  {
   "cell_type": "code",
   "execution_count": 81,
   "id": "2bfca689",
   "metadata": {},
   "outputs": [
    {
     "data": {
      "text/plain": [
       "'nt'"
      ]
     },
     "execution_count": 81,
     "metadata": {},
     "output_type": "execute_result"
    }
   ],
   "source": [
    "os.name"
   ]
  },
  {
   "cell_type": "code",
   "execution_count": null,
   "id": "9e213040",
   "metadata": {},
   "outputs": [],
   "source": []
  }
 ],
 "metadata": {
  "kernelspec": {
   "display_name": "Python 3 (ipykernel)",
   "language": "python",
   "name": "python3"
  },
  "language_info": {
   "codemirror_mode": {
    "name": "ipython",
    "version": 3
   },
   "file_extension": ".py",
   "mimetype": "text/x-python",
   "name": "python",
   "nbconvert_exporter": "python",
   "pygments_lexer": "ipython3",
   "version": "3.9.12"
  }
 },
 "nbformat": 4,
 "nbformat_minor": 5
}
