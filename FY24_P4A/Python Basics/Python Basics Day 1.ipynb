{
 "cells": [
  {
   "cell_type": "markdown",
   "id": "f7e82119",
   "metadata": {},
   "source": [
    "## Python Basics Day 1"
   ]
  },
  {
   "cell_type": "code",
   "execution_count": 1,
   "id": "f5a333d7",
   "metadata": {},
   "outputs": [
    {
     "name": "stdout",
     "output_type": "stream",
     "text": [
      "hello world\n"
     ]
    }
   ],
   "source": [
    "print('hello world')"
   ]
  },
  {
   "cell_type": "code",
   "execution_count": 2,
   "id": "78cbce7d",
   "metadata": {},
   "outputs": [],
   "source": [
    "# print() function\n",
    "# print(val1, val2, val3..., sep=' ', end='\\n', flush=True, file=file)"
   ]
  },
  {
   "cell_type": "code",
   "execution_count": 3,
   "id": "33a99981",
   "metadata": {},
   "outputs": [
    {
     "name": "stdout",
     "output_type": "stream",
     "text": [
      "hi hello welcome\n"
     ]
    }
   ],
   "source": [
    "print('hi', 'hello','welcome')"
   ]
  },
  {
   "cell_type": "code",
   "execution_count": 6,
   "id": "eb44ed12",
   "metadata": {},
   "outputs": [
    {
     "name": "stdout",
     "output_type": "stream",
     "text": [
      "hi@hello@welcome\n"
     ]
    }
   ],
   "source": [
    "print('hi', 'hello','welcome', sep='@')"
   ]
  },
  {
   "cell_type": "code",
   "execution_count": 7,
   "id": "88bf3d06",
   "metadata": {},
   "outputs": [
    {
     "name": "stdout",
     "output_type": "stream",
     "text": [
      "good morning\n",
      "welcome to deloitte\n"
     ]
    }
   ],
   "source": [
    "print('good morning') # default end='\\n' called newline character\n",
    "print('welcome to deloitte')"
   ]
  },
  {
   "cell_type": "code",
   "execution_count": 8,
   "id": "af23a5bc",
   "metadata": {},
   "outputs": [],
   "source": [
    "# Escape Sequence= \\n (newline), \\t (tab), \n",
    "# \\r (carriage return), \\b (backspace)"
   ]
  },
  {
   "cell_type": "code",
   "execution_count": 10,
   "id": "7a0cd269",
   "metadata": {},
   "outputs": [
    {
     "name": "stdout",
     "output_type": "stream",
     "text": [
      "good morning==welcome to deloitte\n"
     ]
    }
   ],
   "source": [
    "print('good morning', end='==')\n",
    "print('welcome to deloitte')"
   ]
  },
  {
   "cell_type": "code",
   "execution_count": 26,
   "id": "11fe20b7",
   "metadata": {},
   "outputs": [
    {
     "name": "stdout",
     "output_type": "stream",
     "text": [
      "20--30--40#"
     ]
    }
   ],
   "source": [
    "print(20, 30, 40, sep='--', end='#')"
   ]
  },
  {
   "cell_type": "code",
   "execution_count": 28,
   "id": "d99aa400",
   "metadata": {},
   "outputs": [
    {
     "name": "stdout",
     "output_type": "stream",
     "text": [
      "I am prateek and I am \r",
      "deloitted\n"
     ]
    }
   ],
   "source": [
    "print('I am prateek and I am \\rdeloitted')"
   ]
  },
  {
   "cell_type": "code",
   "execution_count": 38,
   "id": "aaa3cb0b",
   "metadata": {},
   "outputs": [
    {
     "name": "stdout",
     "output_type": "stream",
     "text": [
      "Welcome to \bDeloitte\b\b\b\b\b\b\b\b\n"
     ]
    }
   ],
   "source": [
    "print('Welcome to \\bDeloitte\\b\\b\\b\\b\\b\\b\\b\\b')"
   ]
  },
  {
   "cell_type": "markdown",
   "id": "238c348a",
   "metadata": {},
   "source": [
    "#### Data Types"
   ]
  },
  {
   "cell_type": "code",
   "execution_count": null,
   "id": "83311ffe",
   "metadata": {},
   "outputs": [],
   "source": [
    "# Integer\n",
    "# Float\n",
    "# String\n",
    "# Complex\n",
    "# Boolean"
   ]
  },
  {
   "cell_type": "code",
   "execution_count": 39,
   "id": "1b3d843d",
   "metadata": {},
   "outputs": [
    {
     "data": {
      "text/plain": [
       "1023"
      ]
     },
     "execution_count": 39,
     "metadata": {},
     "output_type": "execute_result"
    }
   ],
   "source": [
    "345+678"
   ]
  },
  {
   "cell_type": "code",
   "execution_count": 40,
   "id": "8591eb6d",
   "metadata": {},
   "outputs": [
    {
     "data": {
      "text/plain": [
       "90.89"
      ]
     },
     "execution_count": 40,
     "metadata": {},
     "output_type": "execute_result"
    }
   ],
   "source": [
    "45.89+45"
   ]
  },
  {
   "cell_type": "code",
   "execution_count": 41,
   "id": "3bb243b4",
   "metadata": {},
   "outputs": [
    {
     "data": {
      "text/plain": [
       "'hello'"
      ]
     },
     "execution_count": 41,
     "metadata": {},
     "output_type": "execute_result"
    }
   ],
   "source": [
    "'hello'"
   ]
  },
  {
   "cell_type": "code",
   "execution_count": 42,
   "id": "def371d1",
   "metadata": {},
   "outputs": [
    {
     "data": {
      "text/plain": [
       "'hello'"
      ]
     },
     "execution_count": 42,
     "metadata": {},
     "output_type": "execute_result"
    }
   ],
   "source": [
    "\"hello\""
   ]
  },
  {
   "cell_type": "code",
   "execution_count": 43,
   "id": "f7798f51",
   "metadata": {},
   "outputs": [
    {
     "data": {
      "text/plain": [
       "'hello'"
      ]
     },
     "execution_count": 43,
     "metadata": {},
     "output_type": "execute_result"
    }
   ],
   "source": [
    "'''hello'''"
   ]
  },
  {
   "cell_type": "code",
   "execution_count": 44,
   "id": "53359abe",
   "metadata": {},
   "outputs": [
    {
     "data": {
      "text/plain": [
       "'hello'"
      ]
     },
     "execution_count": 44,
     "metadata": {},
     "output_type": "execute_result"
    }
   ],
   "source": [
    "\"\"\"hello\"\"\""
   ]
  },
  {
   "cell_type": "code",
   "execution_count": 45,
   "id": "f39410a0",
   "metadata": {},
   "outputs": [
    {
     "data": {
      "text/plain": [
       "(3+3j)"
      ]
     },
     "execution_count": 45,
     "metadata": {},
     "output_type": "execute_result"
    }
   ],
   "source": [
    "(3+3j)"
   ]
  },
  {
   "cell_type": "code",
   "execution_count": 46,
   "id": "64ac6ddd",
   "metadata": {},
   "outputs": [
    {
     "data": {
      "text/plain": [
       "(3+4j)"
      ]
     },
     "execution_count": 46,
     "metadata": {},
     "output_type": "execute_result"
    }
   ],
   "source": [
    "3+4j"
   ]
  },
  {
   "cell_type": "code",
   "execution_count": 47,
   "id": "2d2a1ae7",
   "metadata": {},
   "outputs": [
    {
     "data": {
      "text/plain": [
       "True"
      ]
     },
     "execution_count": 47,
     "metadata": {},
     "output_type": "execute_result"
    }
   ],
   "source": [
    "True"
   ]
  },
  {
   "cell_type": "code",
   "execution_count": 48,
   "id": "416d548d",
   "metadata": {},
   "outputs": [
    {
     "data": {
      "text/plain": [
       "False"
      ]
     },
     "execution_count": 48,
     "metadata": {},
     "output_type": "execute_result"
    }
   ],
   "source": [
    "False"
   ]
  },
  {
   "cell_type": "markdown",
   "id": "f1cb1103",
   "metadata": {},
   "source": [
    "#### variables in Python"
   ]
  },
  {
   "cell_type": "code",
   "execution_count": 52,
   "id": "49c7aa06",
   "metadata": {},
   "outputs": [],
   "source": [
    "# Naming Convention\n",
    "    # can not start with number like 1var\n",
    "    # can not start with symbol except _ (underscore)\n",
    "    # Can start with any alphabet\n",
    "    # upper case and lowercase are different\n",
    "    # does not reqyure datatype declaration"
   ]
  },
  {
   "cell_type": "code",
   "execution_count": 50,
   "id": "620dc14c",
   "metadata": {},
   "outputs": [],
   "source": [
    "Name='prateek'\n",
    "name=\"prateek\""
   ]
  },
  {
   "cell_type": "code",
   "execution_count": 53,
   "id": "befe214d",
   "metadata": {},
   "outputs": [],
   "source": [
    "a=20\n",
    "b=30"
   ]
  },
  {
   "cell_type": "markdown",
   "id": "788d47b6",
   "metadata": {},
   "source": [
    "### type()"
   ]
  },
  {
   "cell_type": "code",
   "execution_count": 54,
   "id": "bef7750f",
   "metadata": {},
   "outputs": [
    {
     "data": {
      "text/plain": [
       "int"
      ]
     },
     "execution_count": 54,
     "metadata": {},
     "output_type": "execute_result"
    }
   ],
   "source": [
    "type(a)"
   ]
  },
  {
   "cell_type": "code",
   "execution_count": 55,
   "id": "6017ef51",
   "metadata": {},
   "outputs": [
    {
     "data": {
      "text/plain": [
       "float"
      ]
     },
     "execution_count": 55,
     "metadata": {},
     "output_type": "execute_result"
    }
   ],
   "source": [
    "a=3.145\n",
    "type(a)"
   ]
  },
  {
   "cell_type": "code",
   "execution_count": 56,
   "id": "ae379e73",
   "metadata": {},
   "outputs": [
    {
     "data": {
      "text/plain": [
       "str"
      ]
     },
     "execution_count": 56,
     "metadata": {},
     "output_type": "execute_result"
    }
   ],
   "source": [
    "a='deloitte'\n",
    "type(a)"
   ]
  },
  {
   "cell_type": "code",
   "execution_count": 57,
   "id": "28c23ff3",
   "metadata": {},
   "outputs": [
    {
     "data": {
      "text/plain": [
       "complex"
      ]
     },
     "execution_count": 57,
     "metadata": {},
     "output_type": "execute_result"
    }
   ],
   "source": [
    "a=4-5j\n",
    "type(a)"
   ]
  },
  {
   "cell_type": "code",
   "execution_count": 58,
   "id": "ee0641ee",
   "metadata": {},
   "outputs": [
    {
     "data": {
      "text/plain": [
       "bool"
      ]
     },
     "execution_count": 58,
     "metadata": {},
     "output_type": "execute_result"
    }
   ],
   "source": [
    "a=True\n",
    "type(a)"
   ]
  },
  {
   "cell_type": "code",
   "execution_count": 59,
   "id": "f3cb5969",
   "metadata": {},
   "outputs": [],
   "source": [
    "a, b, c = 10, 20, 30"
   ]
  },
  {
   "cell_type": "code",
   "execution_count": 60,
   "id": "9ba7df9a",
   "metadata": {},
   "outputs": [
    {
     "name": "stdout",
     "output_type": "stream",
     "text": [
      "10 20 30\n"
     ]
    }
   ],
   "source": [
    "print(a,b,c)"
   ]
  },
  {
   "cell_type": "code",
   "execution_count": 61,
   "id": "1446aca6",
   "metadata": {},
   "outputs": [
    {
     "name": "stdout",
     "output_type": "stream",
     "text": [
      "hello 578 5.9067\n"
     ]
    }
   ],
   "source": [
    "a,b,c='hello',578, 5.9067\n",
    "print(a,b,c)"
   ]
  },
  {
   "cell_type": "code",
   "execution_count": 62,
   "id": "09b1c592",
   "metadata": {},
   "outputs": [
    {
     "name": "stdout",
     "output_type": "stream",
     "text": [
      "40 60\n"
     ]
    }
   ],
   "source": [
    "a=40\n",
    "b=60\n",
    "print(a, b)"
   ]
  },
  {
   "cell_type": "code",
   "execution_count": 63,
   "id": "8ab9b8ca",
   "metadata": {},
   "outputs": [
    {
     "name": "stdout",
     "output_type": "stream",
     "text": [
      "60 40\n"
     ]
    }
   ],
   "source": [
    "a,b=b,a\n",
    "print(a,b)"
   ]
  },
  {
   "cell_type": "code",
   "execution_count": 68,
   "id": "16ab86f4",
   "metadata": {},
   "outputs": [
    {
     "name": "stdout",
     "output_type": "stream",
     "text": [
      "3207261414885930968356822559405572040480215908955209959325242271230471297808052644836558296493988588361563829290247200922308769776391021589874496264939385380765534880581380575435427622420104627749652977931004916702739618405918847523074615345844372222404623115268454268072479435370045410037724653413846344660911145878875049387879908244319477272937441063749221540366060715219496796022763485799856079652537988001961447995211560493331175621280326063061037505455325184\n"
     ]
    }
   ],
   "source": [
    "a=7999754**67\n",
    "print(a)"
   ]
  },
  {
   "cell_type": "code",
   "execution_count": 70,
   "id": "c5d376da",
   "metadata": {},
   "outputs": [
    {
     "data": {
      "text/plain": [
       "21.941279818902828"
      ]
     },
     "execution_count": 70,
     "metadata": {},
     "output_type": "execute_result"
    }
   ],
   "source": [
    "3.14*6.9876687321346578887876564"
   ]
  },
  {
   "cell_type": "markdown",
   "id": "54a3bdf0",
   "metadata": {},
   "source": [
    "#### id()"
   ]
  },
  {
   "cell_type": "code",
   "execution_count": 71,
   "id": "051adad8",
   "metadata": {},
   "outputs": [],
   "source": [
    "# id() - returns the memory address"
   ]
  },
  {
   "cell_type": "code",
   "execution_count": 72,
   "id": "2305ba59",
   "metadata": {},
   "outputs": [
    {
     "data": {
      "text/plain": [
       "2519331686064"
      ]
     },
     "execution_count": 72,
     "metadata": {},
     "output_type": "execute_result"
    }
   ],
   "source": [
    "a=789\n",
    "id(a)"
   ]
  },
  {
   "cell_type": "code",
   "execution_count": 73,
   "id": "0e81c8df",
   "metadata": {},
   "outputs": [
    {
     "data": {
      "text/plain": [
       "2519331686000"
      ]
     },
     "execution_count": 73,
     "metadata": {},
     "output_type": "execute_result"
    }
   ],
   "source": [
    "b=456\n",
    "id(b)"
   ]
  },
  {
   "cell_type": "code",
   "execution_count": 74,
   "id": "c8d67787",
   "metadata": {},
   "outputs": [
    {
     "name": "stdout",
     "output_type": "stream",
     "text": [
      "2519244827536\n",
      "2519244827856\n"
     ]
    }
   ],
   "source": [
    "a=20\n",
    "b=30\n",
    "print(id(a), id(b), sep='\\n')"
   ]
  },
  {
   "cell_type": "code",
   "execution_count": 75,
   "id": "b2f75bb8",
   "metadata": {},
   "outputs": [
    {
     "name": "stdout",
     "output_type": "stream",
     "text": [
      "2519244827536\n",
      "2519244827536\n"
     ]
    }
   ],
   "source": [
    "b=b-10\n",
    "print(id(a), id(b), sep='\\n')"
   ]
  },
  {
   "cell_type": "code",
   "execution_count": 78,
   "id": "d4eb7e01",
   "metadata": {},
   "outputs": [
    {
     "name": "stdout",
     "output_type": "stream",
     "text": [
      "2519244827536\n",
      "2519244828496\n"
     ]
    }
   ],
   "source": [
    "b=50\n",
    "print(id(a), id(b), sep='\\n')"
   ]
  },
  {
   "cell_type": "code",
   "execution_count": 79,
   "id": "fe9ce61a",
   "metadata": {},
   "outputs": [
    {
     "name": "stdout",
     "output_type": "stream",
     "text": [
      "2519244828496\n",
      "2519244828496\n"
     ]
    }
   ],
   "source": [
    "a=a+30\n",
    "print(id(a), id(b), sep='\\n')"
   ]
  },
  {
   "cell_type": "code",
   "execution_count": 80,
   "id": "8427667a",
   "metadata": {},
   "outputs": [],
   "source": [
    "c=4+6j\n",
    "d=23-3j"
   ]
  },
  {
   "cell_type": "code",
   "execution_count": 81,
   "id": "a4746073",
   "metadata": {},
   "outputs": [
    {
     "data": {
      "text/plain": [
       "complex"
      ]
     },
     "execution_count": 81,
     "metadata": {},
     "output_type": "execute_result"
    }
   ],
   "source": [
    "type(c)"
   ]
  },
  {
   "cell_type": "code",
   "execution_count": 82,
   "id": "40bb8508",
   "metadata": {},
   "outputs": [
    {
     "data": {
      "text/plain": [
       "(27+3j)"
      ]
     },
     "execution_count": 82,
     "metadata": {},
     "output_type": "execute_result"
    }
   ],
   "source": [
    "c+d"
   ]
  },
  {
   "cell_type": "code",
   "execution_count": 83,
   "id": "0ed37ddc",
   "metadata": {},
   "outputs": [],
   "source": [
    "t=True\n",
    "f=False"
   ]
  },
  {
   "cell_type": "markdown",
   "id": "6941efb7",
   "metadata": {},
   "source": [
    "### Operators"
   ]
  },
  {
   "cell_type": "markdown",
   "id": "690f0e8b",
   "metadata": {},
   "source": [
    "#### Arithmetic"
   ]
  },
  {
   "cell_type": "code",
   "execution_count": 84,
   "id": "0ab28391",
   "metadata": {},
   "outputs": [],
   "source": [
    "# +, -, /, *, //, **, %"
   ]
  },
  {
   "cell_type": "code",
   "execution_count": 85,
   "id": "26c14237",
   "metadata": {},
   "outputs": [],
   "source": [
    "a=50\n",
    "b=30"
   ]
  },
  {
   "cell_type": "code",
   "execution_count": 86,
   "id": "ae638a75",
   "metadata": {},
   "outputs": [
    {
     "data": {
      "text/plain": [
       "80"
      ]
     },
     "execution_count": 86,
     "metadata": {},
     "output_type": "execute_result"
    }
   ],
   "source": [
    "a+b"
   ]
  },
  {
   "cell_type": "code",
   "execution_count": 87,
   "id": "2d079d96",
   "metadata": {},
   "outputs": [
    {
     "data": {
      "text/plain": [
       "20"
      ]
     },
     "execution_count": 87,
     "metadata": {},
     "output_type": "execute_result"
    }
   ],
   "source": [
    "a-b"
   ]
  },
  {
   "cell_type": "code",
   "execution_count": 88,
   "id": "fde1d1b3",
   "metadata": {},
   "outputs": [
    {
     "data": {
      "text/plain": [
       "1500"
      ]
     },
     "execution_count": 88,
     "metadata": {},
     "output_type": "execute_result"
    }
   ],
   "source": [
    "a*b"
   ]
  },
  {
   "cell_type": "code",
   "execution_count": 89,
   "id": "8ec7e36d",
   "metadata": {},
   "outputs": [
    {
     "data": {
      "text/plain": [
       "1.6666666666666667"
      ]
     },
     "execution_count": 89,
     "metadata": {},
     "output_type": "execute_result"
    }
   ],
   "source": [
    "a/b"
   ]
  },
  {
   "cell_type": "code",
   "execution_count": 90,
   "id": "6a63abc1",
   "metadata": {},
   "outputs": [
    {
     "data": {
      "text/plain": [
       "20.0"
      ]
     },
     "execution_count": 90,
     "metadata": {},
     "output_type": "execute_result"
    }
   ],
   "source": [
    "40/2"
   ]
  },
  {
   "cell_type": "code",
   "execution_count": 91,
   "id": "e78761b2",
   "metadata": {},
   "outputs": [
    {
     "data": {
      "text/plain": [
       "22.5"
      ]
     },
     "execution_count": 91,
     "metadata": {},
     "output_type": "execute_result"
    }
   ],
   "source": [
    "45/2"
   ]
  },
  {
   "cell_type": "code",
   "execution_count": 92,
   "id": "0250dad0",
   "metadata": {},
   "outputs": [
    {
     "data": {
      "text/plain": [
       "22"
      ]
     },
     "execution_count": 92,
     "metadata": {},
     "output_type": "execute_result"
    }
   ],
   "source": [
    "45//2"
   ]
  },
  {
   "cell_type": "code",
   "execution_count": 93,
   "id": "934edb5a",
   "metadata": {},
   "outputs": [
    {
     "data": {
      "text/plain": [
       "1.6666666666666667"
      ]
     },
     "execution_count": 93,
     "metadata": {},
     "output_type": "execute_result"
    }
   ],
   "source": [
    "a/b # true division"
   ]
  },
  {
   "cell_type": "code",
   "execution_count": 95,
   "id": "828369be",
   "metadata": {},
   "outputs": [
    {
     "data": {
      "text/plain": [
       "1"
      ]
     },
     "execution_count": 95,
     "metadata": {},
     "output_type": "execute_result"
    }
   ],
   "source": [
    "a//b # floor division"
   ]
  },
  {
   "cell_type": "code",
   "execution_count": 96,
   "id": "1f78681e",
   "metadata": {},
   "outputs": [
    {
     "data": {
      "text/plain": [
       "931322574615478515625000000000000000000000000000000"
      ]
     },
     "execution_count": 96,
     "metadata": {},
     "output_type": "execute_result"
    }
   ],
   "source": [
    "a**b"
   ]
  },
  {
   "cell_type": "code",
   "execution_count": 97,
   "id": "91316187",
   "metadata": {},
   "outputs": [
    {
     "data": {
      "text/plain": [
       "243"
      ]
     },
     "execution_count": 97,
     "metadata": {},
     "output_type": "execute_result"
    }
   ],
   "source": [
    "3**5"
   ]
  },
  {
   "cell_type": "code",
   "execution_count": 98,
   "id": "5d289c70",
   "metadata": {},
   "outputs": [
    {
     "data": {
      "text/plain": [
       "1024"
      ]
     },
     "execution_count": 98,
     "metadata": {},
     "output_type": "execute_result"
    }
   ],
   "source": [
    "2**10"
   ]
  },
  {
   "cell_type": "code",
   "execution_count": 99,
   "id": "9e68b25c",
   "metadata": {},
   "outputs": [
    {
     "data": {
      "text/plain": [
       "1.9691845555175274e+33"
      ]
     },
     "execution_count": 99,
     "metadata": {},
     "output_type": "execute_result"
    }
   ],
   "source": [
    "3.14**67"
   ]
  },
  {
   "cell_type": "code",
   "execution_count": 100,
   "id": "749966b9",
   "metadata": {},
   "outputs": [
    {
     "data": {
      "text/plain": [
       "1"
      ]
     },
     "execution_count": 100,
     "metadata": {},
     "output_type": "execute_result"
    }
   ],
   "source": [
    "34%3 # remainder"
   ]
  },
  {
   "cell_type": "code",
   "execution_count": 101,
   "id": "5b5b3df9",
   "metadata": {},
   "outputs": [
    {
     "data": {
      "text/plain": [
       "5"
      ]
     },
     "execution_count": 101,
     "metadata": {},
     "output_type": "execute_result"
    }
   ],
   "source": [
    "37%8"
   ]
  },
  {
   "cell_type": "code",
   "execution_count": 107,
   "id": "9b3c3c4b",
   "metadata": {},
   "outputs": [
    {
     "ename": "TypeError",
     "evalue": "can't mod complex numbers.",
     "output_type": "error",
     "traceback": [
      "\u001b[1;31m---------------------------------------------------------------------------\u001b[0m",
      "\u001b[1;31mTypeError\u001b[0m                                 Traceback (most recent call last)",
      "Input \u001b[1;32mIn [107]\u001b[0m, in \u001b[0;36m<cell line: 1>\u001b[1;34m()\u001b[0m\n\u001b[1;32m----> 1\u001b[0m \u001b[43m(\u001b[49m\u001b[38;5;241;43m3\u001b[39;49m\u001b[38;5;241;43m-\u001b[39;49m\u001b[38;5;241;43m2\u001b[39;49m\u001b[43mj\u001b[49m\u001b[43m)\u001b[49m\u001b[43m \u001b[49m\u001b[38;5;241;43m%\u001b[39;49m\u001b[43m \u001b[49m\u001b[43m(\u001b[49m\u001b[38;5;241;43m4\u001b[39;49m\u001b[38;5;241;43m+\u001b[39;49m\u001b[38;5;241;43m1\u001b[39;49m\u001b[43mj\u001b[49m\u001b[43m)\u001b[49m\n",
      "\u001b[1;31mTypeError\u001b[0m: can't mod complex numbers."
     ]
    }
   ],
   "source": [
    "(3-2j) % (4+1j)"
   ]
  },
  {
   "cell_type": "code",
   "execution_count": 114,
   "id": "b62c03e0",
   "metadata": {},
   "outputs": [
    {
     "data": {
      "text/plain": [
       "(15+10j)"
      ]
     },
     "execution_count": 114,
     "metadata": {},
     "output_type": "execute_result"
    }
   ],
   "source": [
    "(3+2j)*5"
   ]
  },
  {
   "cell_type": "markdown",
   "id": "4cd4a2ae",
   "metadata": {},
   "source": [
    "#### Assignment Operators"
   ]
  },
  {
   "cell_type": "code",
   "execution_count": 115,
   "id": "23c077ba",
   "metadata": {},
   "outputs": [],
   "source": [
    "# =, ==, !=, <=, >="
   ]
  },
  {
   "cell_type": "code",
   "execution_count": 116,
   "id": "1b257d01",
   "metadata": {},
   "outputs": [],
   "source": [
    "a=10\n",
    "b=20\n",
    "a=b"
   ]
  },
  {
   "cell_type": "code",
   "execution_count": 117,
   "id": "6dff0d6c",
   "metadata": {},
   "outputs": [
    {
     "data": {
      "text/plain": [
       "20"
      ]
     },
     "execution_count": 117,
     "metadata": {},
     "output_type": "execute_result"
    }
   ],
   "source": [
    "a"
   ]
  },
  {
   "cell_type": "code",
   "execution_count": 119,
   "id": "81a78010",
   "metadata": {},
   "outputs": [
    {
     "data": {
      "text/plain": [
       "False"
      ]
     },
     "execution_count": 119,
     "metadata": {},
     "output_type": "execute_result"
    }
   ],
   "source": [
    "b=90\n",
    "a==b"
   ]
  },
  {
   "cell_type": "code",
   "execution_count": 120,
   "id": "2ab2b6cf",
   "metadata": {},
   "outputs": [],
   "source": [
    "# +=, -=, /=, //=, **=, %=, *="
   ]
  },
  {
   "cell_type": "code",
   "execution_count": 135,
   "id": "6a4e2d29",
   "metadata": {},
   "outputs": [
    {
     "data": {
      "text/plain": [
       "60"
      ]
     },
     "execution_count": 135,
     "metadata": {},
     "output_type": "execute_result"
    }
   ],
   "source": [
    "a=50\n",
    "a=a+10\n",
    "a"
   ]
  },
  {
   "cell_type": "code",
   "execution_count": 136,
   "id": "fee27dd1",
   "metadata": {},
   "outputs": [
    {
     "data": {
      "text/plain": [
       "70"
      ]
     },
     "execution_count": 136,
     "metadata": {},
     "output_type": "execute_result"
    }
   ],
   "source": [
    "a+=10\n",
    "a"
   ]
  },
  {
   "cell_type": "code",
   "execution_count": 137,
   "id": "b53d7dea",
   "metadata": {},
   "outputs": [
    {
     "data": {
      "text/plain": [
       "40"
      ]
     },
     "execution_count": 137,
     "metadata": {},
     "output_type": "execute_result"
    }
   ],
   "source": [
    "a-=30\n",
    "a"
   ]
  },
  {
   "cell_type": "code",
   "execution_count": 138,
   "id": "57b83835",
   "metadata": {},
   "outputs": [
    {
     "data": {
      "text/plain": [
       "200"
      ]
     },
     "execution_count": 138,
     "metadata": {},
     "output_type": "execute_result"
    }
   ],
   "source": [
    "a*=5\n",
    "a"
   ]
  },
  {
   "cell_type": "code",
   "execution_count": 139,
   "id": "631cd130",
   "metadata": {},
   "outputs": [
    {
     "data": {
      "text/plain": [
       "20"
      ]
     },
     "execution_count": 139,
     "metadata": {},
     "output_type": "execute_result"
    }
   ],
   "source": [
    "a//=10\n",
    "a"
   ]
  },
  {
   "cell_type": "code",
   "execution_count": 140,
   "id": "fc81dff3",
   "metadata": {},
   "outputs": [
    {
     "data": {
      "text/plain": [
       "5.0"
      ]
     },
     "execution_count": 140,
     "metadata": {},
     "output_type": "execute_result"
    }
   ],
   "source": [
    "a/=4\n",
    "a"
   ]
  },
  {
   "cell_type": "code",
   "execution_count": 141,
   "id": "219897c3",
   "metadata": {},
   "outputs": [
    {
     "data": {
      "text/plain": [
       "125.0"
      ]
     },
     "execution_count": 141,
     "metadata": {},
     "output_type": "execute_result"
    }
   ],
   "source": [
    "a**=3\n",
    "a"
   ]
  },
  {
   "cell_type": "code",
   "execution_count": 142,
   "id": "c11bc866",
   "metadata": {},
   "outputs": [
    {
     "data": {
      "text/plain": [
       "1.0"
      ]
     },
     "execution_count": 142,
     "metadata": {},
     "output_type": "execute_result"
    }
   ],
   "source": [
    "a%=4\n",
    "a"
   ]
  },
  {
   "cell_type": "markdown",
   "id": "0e911397",
   "metadata": {},
   "source": [
    "#### Comparison Operators"
   ]
  },
  {
   "cell_type": "code",
   "execution_count": 143,
   "id": "043cb34a",
   "metadata": {},
   "outputs": [],
   "source": [
    "# <, >, <=, >=, ==, !="
   ]
  },
  {
   "cell_type": "code",
   "execution_count": 144,
   "id": "99fd8436",
   "metadata": {},
   "outputs": [],
   "source": [
    "a=20\n",
    "b=30"
   ]
  },
  {
   "cell_type": "code",
   "execution_count": 145,
   "id": "8f045d6f",
   "metadata": {},
   "outputs": [
    {
     "data": {
      "text/plain": [
       "False"
      ]
     },
     "execution_count": 145,
     "metadata": {},
     "output_type": "execute_result"
    }
   ],
   "source": [
    "a==b"
   ]
  },
  {
   "cell_type": "code",
   "execution_count": 146,
   "id": "2e705ef4",
   "metadata": {},
   "outputs": [
    {
     "data": {
      "text/plain": [
       "True"
      ]
     },
     "execution_count": 146,
     "metadata": {},
     "output_type": "execute_result"
    }
   ],
   "source": [
    "a!=b"
   ]
  },
  {
   "cell_type": "code",
   "execution_count": 147,
   "id": "6d819740",
   "metadata": {},
   "outputs": [
    {
     "data": {
      "text/plain": [
       "True"
      ]
     },
     "execution_count": 147,
     "metadata": {},
     "output_type": "execute_result"
    }
   ],
   "source": [
    "a<b"
   ]
  },
  {
   "cell_type": "code",
   "execution_count": 148,
   "id": "e9cc38d4",
   "metadata": {},
   "outputs": [
    {
     "data": {
      "text/plain": [
       "False"
      ]
     },
     "execution_count": 148,
     "metadata": {},
     "output_type": "execute_result"
    }
   ],
   "source": [
    "a>b"
   ]
  },
  {
   "cell_type": "code",
   "execution_count": 150,
   "id": "5728fbc4",
   "metadata": {},
   "outputs": [
    {
     "data": {
      "text/plain": [
       "True"
      ]
     },
     "execution_count": 150,
     "metadata": {},
     "output_type": "execute_result"
    }
   ],
   "source": [
    "a<=b"
   ]
  },
  {
   "cell_type": "code",
   "execution_count": 151,
   "id": "aa2bfe4e",
   "metadata": {},
   "outputs": [
    {
     "data": {
      "text/plain": [
       "False"
      ]
     },
     "execution_count": 151,
     "metadata": {},
     "output_type": "execute_result"
    }
   ],
   "source": [
    "a>=b"
   ]
  },
  {
   "cell_type": "markdown",
   "id": "b047cfcc",
   "metadata": {},
   "source": [
    "#### Logical Operators"
   ]
  },
  {
   "cell_type": "code",
   "execution_count": 152,
   "id": "d69c2f6c",
   "metadata": {},
   "outputs": [],
   "source": [
    "# and, or, not"
   ]
  },
  {
   "cell_type": "code",
   "execution_count": 154,
   "id": "45e7f915",
   "metadata": {},
   "outputs": [
    {
     "data": {
      "text/plain": [
       "False"
      ]
     },
     "execution_count": 154,
     "metadata": {},
     "output_type": "execute_result"
    }
   ],
   "source": [
    "True and False"
   ]
  },
  {
   "cell_type": "code",
   "execution_count": 155,
   "id": "1ebabba9",
   "metadata": {},
   "outputs": [
    {
     "data": {
      "text/plain": [
       "True"
      ]
     },
     "execution_count": 155,
     "metadata": {},
     "output_type": "execute_result"
    }
   ],
   "source": [
    "True or False"
   ]
  },
  {
   "cell_type": "code",
   "execution_count": 156,
   "id": "941d2953",
   "metadata": {},
   "outputs": [
    {
     "data": {
      "text/plain": [
       "True"
      ]
     },
     "execution_count": 156,
     "metadata": {},
     "output_type": "execute_result"
    }
   ],
   "source": [
    "True and not False"
   ]
  },
  {
   "cell_type": "code",
   "execution_count": 157,
   "id": "df905451",
   "metadata": {},
   "outputs": [
    {
     "data": {
      "text/plain": [
       "True"
      ]
     },
     "execution_count": 157,
     "metadata": {},
     "output_type": "execute_result"
    }
   ],
   "source": [
    "(45<89) and (45<90)"
   ]
  },
  {
   "cell_type": "code",
   "execution_count": 158,
   "id": "d2f46e74",
   "metadata": {},
   "outputs": [
    {
     "data": {
      "text/plain": [
       "True"
      ]
     },
     "execution_count": 158,
     "metadata": {},
     "output_type": "execute_result"
    }
   ],
   "source": [
    "a>=b or a<b"
   ]
  },
  {
   "cell_type": "markdown",
   "id": "5cea8ca5",
   "metadata": {},
   "source": [
    "### Bitwise Operators"
   ]
  },
  {
   "cell_type": "code",
   "execution_count": null,
   "id": "abeb428b",
   "metadata": {},
   "outputs": [],
   "source": [
    "# &, |, ~, ^, <<, >>"
   ]
  },
  {
   "cell_type": "code",
   "execution_count": 160,
   "id": "b5a8849d",
   "metadata": {},
   "outputs": [
    {
     "data": {
      "text/plain": [
       "3"
      ]
     },
     "execution_count": 160,
     "metadata": {},
     "output_type": "execute_result"
    }
   ],
   "source": [
    "11 & 3"
   ]
  },
  {
   "cell_type": "code",
   "execution_count": 162,
   "id": "4bd38864",
   "metadata": {},
   "outputs": [
    {
     "data": {
      "text/plain": [
       "11"
      ]
     },
     "execution_count": 162,
     "metadata": {},
     "output_type": "execute_result"
    }
   ],
   "source": [
    "11 | 8"
   ]
  },
  {
   "cell_type": "code",
   "execution_count": 163,
   "id": "58a08426",
   "metadata": {},
   "outputs": [
    {
     "data": {
      "text/plain": [
       "11"
      ]
     },
     "execution_count": 163,
     "metadata": {},
     "output_type": "execute_result"
    }
   ],
   "source": [
    "10 | 3"
   ]
  },
  {
   "cell_type": "code",
   "execution_count": 165,
   "id": "390110b8",
   "metadata": {},
   "outputs": [
    {
     "data": {
      "text/plain": [
       "-10"
      ]
     },
     "execution_count": 165,
     "metadata": {},
     "output_type": "execute_result"
    }
   ],
   "source": [
    "10 ^ ~3"
   ]
  },
  {
   "cell_type": "code",
   "execution_count": 166,
   "id": "1295e621",
   "metadata": {},
   "outputs": [
    {
     "data": {
      "text/plain": [
       "32"
      ]
     },
     "execution_count": 166,
     "metadata": {},
     "output_type": "execute_result"
    }
   ],
   "source": [
    "8<<2"
   ]
  },
  {
   "cell_type": "code",
   "execution_count": 167,
   "id": "959beaa1",
   "metadata": {},
   "outputs": [
    {
     "data": {
      "text/plain": [
       "52"
      ]
     },
     "execution_count": 167,
     "metadata": {},
     "output_type": "execute_result"
    }
   ],
   "source": [
    "13<<2"
   ]
  },
  {
   "cell_type": "code",
   "execution_count": 168,
   "id": "56a2e0dd",
   "metadata": {},
   "outputs": [
    {
     "data": {
      "text/plain": [
       "12"
      ]
     },
     "execution_count": 168,
     "metadata": {},
     "output_type": "execute_result"
    }
   ],
   "source": [
    "96>>3"
   ]
  },
  {
   "cell_type": "code",
   "execution_count": 169,
   "id": "69d6fb6d",
   "metadata": {},
   "outputs": [],
   "source": [
    "# identity operators\n",
    "\n",
    "# is\n",
    "\n",
    "# is not"
   ]
  },
  {
   "cell_type": "code",
   "execution_count": 173,
   "id": "49d42ed4",
   "metadata": {},
   "outputs": [
    {
     "data": {
      "text/plain": [
       "False"
      ]
     },
     "execution_count": 173,
     "metadata": {},
     "output_type": "execute_result"
    }
   ],
   "source": [
    "a=10\n",
    "b=20\n",
    "\n",
    "a is b"
   ]
  },
  {
   "cell_type": "code",
   "execution_count": 174,
   "id": "4cafb1a5",
   "metadata": {},
   "outputs": [
    {
     "data": {
      "text/plain": [
       "True"
      ]
     },
     "execution_count": 174,
     "metadata": {},
     "output_type": "execute_result"
    }
   ],
   "source": [
    "a is not b"
   ]
  },
  {
   "cell_type": "code",
   "execution_count": 175,
   "id": "e50f43cf",
   "metadata": {},
   "outputs": [],
   "source": [
    "# membership\n",
    "\n",
    "# in\n",
    "# not in"
   ]
  },
  {
   "cell_type": "code",
   "execution_count": 176,
   "id": "fc4a2c50",
   "metadata": {},
   "outputs": [
    {
     "data": {
      "text/plain": [
       "True"
      ]
     },
     "execution_count": 176,
     "metadata": {},
     "output_type": "execute_result"
    }
   ],
   "source": [
    "'s' in 'selection'"
   ]
  },
  {
   "cell_type": "code",
   "execution_count": 177,
   "id": "193236bf",
   "metadata": {},
   "outputs": [
    {
     "data": {
      "text/plain": [
       "True"
      ]
     },
     "execution_count": 177,
     "metadata": {},
     "output_type": "execute_result"
    }
   ],
   "source": [
    "'k' not in 'selection'"
   ]
  },
  {
   "cell_type": "markdown",
   "id": "53b62124",
   "metadata": {},
   "source": [
    "#### Some inbuilt functions"
   ]
  },
  {
   "cell_type": "markdown",
   "id": "a26600be",
   "metadata": {},
   "source": [
    "###### len()"
   ]
  },
  {
   "cell_type": "code",
   "execution_count": 178,
   "id": "01e565ba",
   "metadata": {},
   "outputs": [
    {
     "data": {
      "text/plain": [
       "14"
      ]
     },
     "execution_count": 178,
     "metadata": {},
     "output_type": "execute_result"
    }
   ],
   "source": [
    "# len() - length of a sequence\n",
    "s='hello deloitte'\n",
    "len(s)"
   ]
  },
  {
   "cell_type": "markdown",
   "id": "90d77390",
   "metadata": {},
   "source": [
    "###### hex()"
   ]
  },
  {
   "cell_type": "code",
   "execution_count": 179,
   "id": "ba1a868c",
   "metadata": {},
   "outputs": [
    {
     "data": {
      "text/plain": [
       "'0x22'"
      ]
     },
     "execution_count": 179,
     "metadata": {},
     "output_type": "execute_result"
    }
   ],
   "source": [
    "hex(34)"
   ]
  },
  {
   "cell_type": "markdown",
   "id": "cdf5f1d8",
   "metadata": {},
   "source": [
    "###### bin()"
   ]
  },
  {
   "cell_type": "code",
   "execution_count": 180,
   "id": "25a63ab4",
   "metadata": {},
   "outputs": [
    {
     "data": {
      "text/plain": [
       "'0b100010'"
      ]
     },
     "execution_count": 180,
     "metadata": {},
     "output_type": "execute_result"
    }
   ],
   "source": [
    "bin(34)"
   ]
  },
  {
   "cell_type": "markdown",
   "id": "10cf3f22",
   "metadata": {},
   "source": [
    "###### oct()"
   ]
  },
  {
   "cell_type": "code",
   "execution_count": 181,
   "id": "44f485fb",
   "metadata": {},
   "outputs": [
    {
     "data": {
      "text/plain": [
       "'0o16'"
      ]
     },
     "execution_count": 181,
     "metadata": {},
     "output_type": "execute_result"
    }
   ],
   "source": [
    "oct(14)"
   ]
  },
  {
   "cell_type": "markdown",
   "id": "7bf51645",
   "metadata": {},
   "source": [
    "###### hash()"
   ]
  },
  {
   "cell_type": "code",
   "execution_count": 182,
   "id": "98cc0ba4",
   "metadata": {},
   "outputs": [
    {
     "data": {
      "text/plain": [
       "2983519406568194711"
      ]
     },
     "execution_count": 182,
     "metadata": {},
     "output_type": "execute_result"
    }
   ],
   "source": [
    "hash('prateek')"
   ]
  },
  {
   "cell_type": "code",
   "execution_count": 184,
   "id": "e01fbcc4",
   "metadata": {},
   "outputs": [
    {
     "data": {
      "text/plain": [
       "2052200278200420215"
      ]
     },
     "execution_count": 184,
     "metadata": {},
     "output_type": "execute_result"
    }
   ],
   "source": [
    "hash(1911.890)"
   ]
  },
  {
   "cell_type": "markdown",
   "id": "c9347cce",
   "metadata": {},
   "source": [
    "###### int()"
   ]
  },
  {
   "cell_type": "code",
   "execution_count": 185,
   "id": "d87c1daa",
   "metadata": {},
   "outputs": [
    {
     "data": {
      "text/plain": [
       "3"
      ]
     },
     "execution_count": 185,
     "metadata": {},
     "output_type": "execute_result"
    }
   ],
   "source": [
    "x=3.1456658767\n",
    "x=int(x)\n",
    "x"
   ]
  },
  {
   "cell_type": "code",
   "execution_count": 186,
   "id": "683f5d67",
   "metadata": {},
   "outputs": [
    {
     "data": {
      "text/plain": [
       "3"
      ]
     },
     "execution_count": 186,
     "metadata": {},
     "output_type": "execute_result"
    }
   ],
   "source": [
    "x=3.99876\n",
    "x=int(x)\n",
    "x"
   ]
  },
  {
   "cell_type": "code",
   "execution_count": 187,
   "id": "610697f4",
   "metadata": {},
   "outputs": [
    {
     "data": {
      "text/plain": [
       "576"
      ]
     },
     "execution_count": 187,
     "metadata": {},
     "output_type": "execute_result"
    }
   ],
   "source": [
    "s='576'\n",
    "s=int(s)\n",
    "s"
   ]
  },
  {
   "cell_type": "code",
   "execution_count": 188,
   "id": "a7c6f5b9",
   "metadata": {},
   "outputs": [
    {
     "ename": "TypeError",
     "evalue": "can't convert complex to int",
     "output_type": "error",
     "traceback": [
      "\u001b[1;31m---------------------------------------------------------------------------\u001b[0m",
      "\u001b[1;31mTypeError\u001b[0m                                 Traceback (most recent call last)",
      "Input \u001b[1;32mIn [188]\u001b[0m, in \u001b[0;36m<cell line: 1>\u001b[1;34m()\u001b[0m\n\u001b[1;32m----> 1\u001b[0m \u001b[38;5;28;43mint\u001b[39;49m\u001b[43m(\u001b[49m\u001b[38;5;241;43m3\u001b[39;49m\u001b[38;5;241;43m+\u001b[39;49m\u001b[38;5;241;43m6\u001b[39;49m\u001b[43mj\u001b[49m\u001b[43m)\u001b[49m\n",
      "\u001b[1;31mTypeError\u001b[0m: can't convert complex to int"
     ]
    }
   ],
   "source": [
    "int(3+6j)"
   ]
  },
  {
   "cell_type": "code",
   "execution_count": 189,
   "id": "25ea338e",
   "metadata": {},
   "outputs": [
    {
     "data": {
      "text/plain": [
       "1"
      ]
     },
     "execution_count": 189,
     "metadata": {},
     "output_type": "execute_result"
    }
   ],
   "source": [
    "int(True)"
   ]
  },
  {
   "cell_type": "markdown",
   "id": "b3c776c3",
   "metadata": {},
   "source": [
    "###### float()"
   ]
  },
  {
   "cell_type": "code",
   "execution_count": 190,
   "id": "2a1958be",
   "metadata": {},
   "outputs": [
    {
     "data": {
      "text/plain": [
       "67.0"
      ]
     },
     "execution_count": 190,
     "metadata": {},
     "output_type": "execute_result"
    }
   ],
   "source": [
    "x=67\n",
    "x=float(x)\n",
    "x"
   ]
  },
  {
   "cell_type": "code",
   "execution_count": 191,
   "id": "5a67596b",
   "metadata": {},
   "outputs": [
    {
     "data": {
      "text/plain": [
       "56.809"
      ]
     },
     "execution_count": 191,
     "metadata": {},
     "output_type": "execute_result"
    }
   ],
   "source": [
    "s='56.809'\n",
    "s=float(s)\n",
    "s"
   ]
  },
  {
   "cell_type": "code",
   "execution_count": 192,
   "id": "3446ec62",
   "metadata": {},
   "outputs": [
    {
     "data": {
      "text/plain": [
       "67.0"
      ]
     },
     "execution_count": 192,
     "metadata": {},
     "output_type": "execute_result"
    }
   ],
   "source": [
    "s='67'\n",
    "s=float(s)\n",
    "s"
   ]
  },
  {
   "cell_type": "markdown",
   "id": "28e71875",
   "metadata": {},
   "source": [
    "###### str()"
   ]
  },
  {
   "cell_type": "code",
   "execution_count": 193,
   "id": "8ac0e156",
   "metadata": {},
   "outputs": [
    {
     "data": {
      "text/plain": [
       "'90'"
      ]
     },
     "execution_count": 193,
     "metadata": {},
     "output_type": "execute_result"
    }
   ],
   "source": [
    "s=90\n",
    "s=str(s)\n",
    "s"
   ]
  },
  {
   "cell_type": "code",
   "execution_count": 195,
   "id": "e8b9ddc9",
   "metadata": {
    "scrolled": true
   },
   "outputs": [
    {
     "data": {
      "text/plain": [
       "'(3+6j)'"
      ]
     },
     "execution_count": 195,
     "metadata": {},
     "output_type": "execute_result"
    }
   ],
   "source": [
    "s=str(3+6j)\n",
    "s"
   ]
  },
  {
   "cell_type": "markdown",
   "id": "89d020a7",
   "metadata": {},
   "source": [
    "###### pow()"
   ]
  },
  {
   "cell_type": "code",
   "execution_count": 196,
   "id": "b90f5b10",
   "metadata": {},
   "outputs": [
    {
     "data": {
      "text/plain": [
       "2187"
      ]
     },
     "execution_count": 196,
     "metadata": {},
     "output_type": "execute_result"
    }
   ],
   "source": [
    "pow(3,7)"
   ]
  },
  {
   "cell_type": "markdown",
   "id": "f63cc2fb",
   "metadata": {},
   "source": [
    "###### round()"
   ]
  },
  {
   "cell_type": "code",
   "execution_count": 197,
   "id": "0722fd8f",
   "metadata": {},
   "outputs": [
    {
     "data": {
      "text/plain": [
       "3"
      ]
     },
     "execution_count": 197,
     "metadata": {},
     "output_type": "execute_result"
    }
   ],
   "source": [
    "round(3.14)"
   ]
  },
  {
   "cell_type": "code",
   "execution_count": 198,
   "id": "7137eac0",
   "metadata": {},
   "outputs": [
    {
     "data": {
      "text/plain": [
       "4"
      ]
     },
     "execution_count": 198,
     "metadata": {},
     "output_type": "execute_result"
    }
   ],
   "source": [
    "round(3.98)"
   ]
  },
  {
   "cell_type": "code",
   "execution_count": 199,
   "id": "ba96c04b",
   "metadata": {},
   "outputs": [
    {
     "data": {
      "text/plain": [
       "3.146"
      ]
     },
     "execution_count": 199,
     "metadata": {},
     "output_type": "execute_result"
    }
   ],
   "source": [
    "round(3.14587098, 3)"
   ]
  },
  {
   "cell_type": "markdown",
   "id": "df56cbd6",
   "metadata": {},
   "source": [
    "###### ord()"
   ]
  },
  {
   "cell_type": "code",
   "execution_count": 200,
   "id": "9383b608",
   "metadata": {},
   "outputs": [
    {
     "data": {
      "text/plain": [
       "65"
      ]
     },
     "execution_count": 200,
     "metadata": {},
     "output_type": "execute_result"
    }
   ],
   "source": [
    "ord('A') # return ascii value of given character"
   ]
  },
  {
   "cell_type": "code",
   "execution_count": 201,
   "id": "53b701d8",
   "metadata": {},
   "outputs": [
    {
     "data": {
      "text/plain": [
       "90"
      ]
     },
     "execution_count": 201,
     "metadata": {},
     "output_type": "execute_result"
    }
   ],
   "source": [
    "ord('Z')"
   ]
  },
  {
   "cell_type": "code",
   "execution_count": 202,
   "id": "dfdddac9",
   "metadata": {},
   "outputs": [
    {
     "name": "stdout",
     "output_type": "stream",
     "text": [
      "lower case range:  97 122\n"
     ]
    }
   ],
   "source": [
    "print('lower case range: ', ord('a'), ord('z'))"
   ]
  },
  {
   "cell_type": "code",
   "execution_count": 203,
   "id": "a9ba7c9f",
   "metadata": {},
   "outputs": [
    {
     "data": {
      "text/plain": [
       "32"
      ]
     },
     "execution_count": 203,
     "metadata": {},
     "output_type": "execute_result"
    }
   ],
   "source": [
    "ord(' ')"
   ]
  },
  {
   "cell_type": "code",
   "execution_count": 204,
   "id": "c81aadcd",
   "metadata": {},
   "outputs": [
    {
     "data": {
      "text/plain": [
       "36"
      ]
     },
     "execution_count": 204,
     "metadata": {},
     "output_type": "execute_result"
    }
   ],
   "source": [
    "ord('$')"
   ]
  },
  {
   "cell_type": "markdown",
   "id": "5b261415",
   "metadata": {},
   "source": [
    "###### chr()"
   ]
  },
  {
   "cell_type": "code",
   "execution_count": 205,
   "id": "e78d863b",
   "metadata": {},
   "outputs": [
    {
     "data": {
      "text/plain": [
       "'A'"
      ]
     },
     "execution_count": 205,
     "metadata": {},
     "output_type": "execute_result"
    }
   ],
   "source": [
    "chr(65) # returns the character corresponding to ascii value"
   ]
  },
  {
   "cell_type": "code",
   "execution_count": 206,
   "id": "be8d485c",
   "metadata": {},
   "outputs": [
    {
     "data": {
      "text/plain": [
       "'{'"
      ]
     },
     "execution_count": 206,
     "metadata": {},
     "output_type": "execute_result"
    }
   ],
   "source": [
    "chr(123)"
   ]
  },
  {
   "cell_type": "markdown",
   "id": "b7060c41",
   "metadata": {},
   "source": [
    "###### bool()"
   ]
  },
  {
   "cell_type": "code",
   "execution_count": 207,
   "id": "906b4529",
   "metadata": {},
   "outputs": [
    {
     "data": {
      "text/plain": [
       "True"
      ]
     },
     "execution_count": 207,
     "metadata": {},
     "output_type": "execute_result"
    }
   ],
   "source": [
    "bool(90)"
   ]
  },
  {
   "cell_type": "code",
   "execution_count": 208,
   "id": "056a2fd0",
   "metadata": {},
   "outputs": [
    {
     "data": {
      "text/plain": [
       "True"
      ]
     },
     "execution_count": 208,
     "metadata": {},
     "output_type": "execute_result"
    }
   ],
   "source": [
    "bool(-3)"
   ]
  },
  {
   "cell_type": "code",
   "execution_count": 209,
   "id": "620a00ae",
   "metadata": {},
   "outputs": [
    {
     "data": {
      "text/plain": [
       "False"
      ]
     },
     "execution_count": 209,
     "metadata": {},
     "output_type": "execute_result"
    }
   ],
   "source": [
    "bool(0)"
   ]
  },
  {
   "cell_type": "code",
   "execution_count": 210,
   "id": "884c6cde",
   "metadata": {},
   "outputs": [
    {
     "data": {
      "text/plain": [
       "True"
      ]
     },
     "execution_count": 210,
     "metadata": {},
     "output_type": "execute_result"
    }
   ],
   "source": [
    "bool(True)"
   ]
  },
  {
   "cell_type": "code",
   "execution_count": 213,
   "id": "8909bb9c",
   "metadata": {},
   "outputs": [
    {
     "data": {
      "text/plain": [
       "False"
      ]
     },
     "execution_count": 213,
     "metadata": {},
     "output_type": "execute_result"
    }
   ],
   "source": [
    "bool(False)"
   ]
  },
  {
   "cell_type": "markdown",
   "id": "fd185631",
   "metadata": {},
   "source": [
    "###### complex()"
   ]
  },
  {
   "cell_type": "code",
   "execution_count": 215,
   "id": "3b6e58ab",
   "metadata": {},
   "outputs": [
    {
     "name": "stdout",
     "output_type": "stream",
     "text": [
      "(5+0j)\n",
      "<class 'complex'>\n"
     ]
    }
   ],
   "source": [
    "x=5\n",
    "x=complex(x)\n",
    "print(x)\n",
    "print(type(x))"
   ]
  },
  {
   "cell_type": "markdown",
   "id": "de41e053",
   "metadata": {},
   "source": [
    "###### input() - to accept input from the user through console input device"
   ]
  },
  {
   "cell_type": "code",
   "execution_count": 217,
   "id": "ff68980a",
   "metadata": {},
   "outputs": [],
   "source": [
    "# input(str_msg, encoding)"
   ]
  },
  {
   "cell_type": "code",
   "execution_count": 219,
   "id": "0ff4001f",
   "metadata": {},
   "outputs": [
    {
     "name": "stdout",
     "output_type": "stream",
     "text": [
      "Enter your name: pv\n"
     ]
    },
    {
     "data": {
      "text/plain": [
       "'pv'"
      ]
     },
     "execution_count": 219,
     "metadata": {},
     "output_type": "execute_result"
    }
   ],
   "source": [
    "input('Enter your name: ') # returns string always"
   ]
  },
  {
   "cell_type": "code",
   "execution_count": 220,
   "id": "fec246ec",
   "metadata": {},
   "outputs": [
    {
     "name": "stdout",
     "output_type": "stream",
     "text": [
      "Enter Name: prateek\n"
     ]
    }
   ],
   "source": [
    "name=input('Enter Name: ')"
   ]
  },
  {
   "cell_type": "code",
   "execution_count": 221,
   "id": "c654ef5a",
   "metadata": {},
   "outputs": [
    {
     "name": "stdout",
     "output_type": "stream",
     "text": [
      "prateek\n"
     ]
    }
   ],
   "source": [
    "print(name)"
   ]
  },
  {
   "cell_type": "code",
   "execution_count": 222,
   "id": "17f9b94f",
   "metadata": {},
   "outputs": [
    {
     "data": {
      "text/plain": [
       "str"
      ]
     },
     "execution_count": 222,
     "metadata": {},
     "output_type": "execute_result"
    }
   ],
   "source": [
    "type(name)"
   ]
  },
  {
   "cell_type": "code",
   "execution_count": 223,
   "id": "b5b5055d",
   "metadata": {},
   "outputs": [
    {
     "name": "stdout",
     "output_type": "stream",
     "text": [
      "Enter your age: 38\n",
      "38\n",
      "<class 'str'>\n"
     ]
    }
   ],
   "source": [
    "age=input('Enter your age: ')\n",
    "print(age)\n",
    "print(type(age))"
   ]
  },
  {
   "cell_type": "code",
   "execution_count": 225,
   "id": "cd302c11",
   "metadata": {},
   "outputs": [
    {
     "data": {
      "text/plain": [
       "48"
      ]
     },
     "execution_count": 225,
     "metadata": {},
     "output_type": "execute_result"
    }
   ],
   "source": [
    "int(age)+10"
   ]
  },
  {
   "cell_type": "code",
   "execution_count": 226,
   "id": "6f994d01",
   "metadata": {},
   "outputs": [
    {
     "name": "stdout",
     "output_type": "stream",
     "text": [
      "Enter Age: 39\n",
      "<class 'int'>\n"
     ]
    }
   ],
   "source": [
    "age=int(input('Enter Age: '))\n",
    "print(type(age))"
   ]
  },
  {
   "cell_type": "code",
   "execution_count": 229,
   "id": "b48a2eaf",
   "metadata": {},
   "outputs": [
    {
     "name": "stdout",
     "output_type": "stream",
     "text": [
      "Enter first num: 80\n",
      "Enter second num: 86\n",
      "Exponential a**b=  46316835694926478169428394003475163141307993866256225615783033603165251855974400000000000000000000000000000000000000000000000000000000000000000000000000000000000000\n",
      "Ascii characters:  P V\n"
     ]
    }
   ],
   "source": [
    "# Write a program to accept two numbers from user and perform operations:\n",
    "# 1. Exponential a to b\n",
    "# 2. Find the ascii alphabet/character corresponding to the numbers\n",
    "a=int(input('Enter first num: '))\n",
    "b=int(input('Enter second num: '))\n",
    "print('Exponential a**b= ', a**b)\n",
    "print('Ascii characters: ', chr(a), chr(b))"
   ]
  },
  {
   "cell_type": "code",
   "execution_count": 230,
   "id": "13af9152",
   "metadata": {},
   "outputs": [
    {
     "name": "stdout",
     "output_type": "stream",
     "text": [
      "Enter 3 digit number: 456\n",
      "15\n"
     ]
    }
   ],
   "source": [
    "# write a simple step by step python script to find the sum of\n",
    "# digits of 3 digit number\n",
    "# Example: input 456 will result into 4+5+6=15\n",
    "num=int(input('Enter 3 digit number: '))\n",
    "num_sum=0\n",
    "num_sum+=num%10  # picking up last digit\n",
    "num//=10   # eliminating last digit\n",
    "num_sum+=num%10   # picking up last digit of updated number\n",
    "num//=10    # eliminating last digit\n",
    "num_sum+=num   # pickup remaining digit\n",
    "print(num_sum)"
   ]
  },
  {
   "cell_type": "markdown",
   "id": "97c1f4c1",
   "metadata": {},
   "source": [
    "### Strings in Python"
   ]
  },
  {
   "cell_type": "code",
   "execution_count": 231,
   "id": "426c8d44",
   "metadata": {},
   "outputs": [],
   "source": [
    "s='python'\n",
    "s=\"python\"\n",
    "s='''python is great'''\n",
    "s=\"\"\"python is awesome\"\"\""
   ]
  },
  {
   "cell_type": "code",
   "execution_count": 232,
   "id": "73e70785",
   "metadata": {},
   "outputs": [
    {
     "data": {
      "text/plain": [
       "6"
      ]
     },
     "execution_count": 232,
     "metadata": {},
     "output_type": "execute_result"
    }
   ],
   "source": [
    "len('python')"
   ]
  },
  {
   "cell_type": "code",
   "execution_count": 233,
   "id": "94e27386",
   "metadata": {},
   "outputs": [],
   "source": [
    "# strings are sequences in python"
   ]
  },
  {
   "cell_type": "code",
   "execution_count": 238,
   "id": "898e3ef8",
   "metadata": {},
   "outputs": [],
   "source": [
    "# sequence can be refered by indexing"
   ]
  },
  {
   "cell_type": "markdown",
   "id": "ee4cd695",
   "metadata": {},
   "source": [
    "###### indexing"
   ]
  },
  {
   "cell_type": "code",
   "execution_count": 235,
   "id": "42ddd1cc",
   "metadata": {},
   "outputs": [],
   "source": [
    "s='PYTHON'"
   ]
  },
  {
   "cell_type": "code",
   "execution_count": 236,
   "id": "bb03083f",
   "metadata": {},
   "outputs": [
    {
     "data": {
      "text/plain": [
       "'P'"
      ]
     },
     "execution_count": 236,
     "metadata": {},
     "output_type": "execute_result"
    }
   ],
   "source": [
    "s[0]"
   ]
  },
  {
   "cell_type": "code",
   "execution_count": 237,
   "id": "1c6f708b",
   "metadata": {},
   "outputs": [
    {
     "data": {
      "text/plain": [
       "'H'"
      ]
     },
     "execution_count": 237,
     "metadata": {},
     "output_type": "execute_result"
    }
   ],
   "source": [
    "s[3]"
   ]
  },
  {
   "cell_type": "code",
   "execution_count": 239,
   "id": "f5520d21",
   "metadata": {},
   "outputs": [
    {
     "data": {
      "text/plain": [
       "'T'"
      ]
     },
     "execution_count": 239,
     "metadata": {},
     "output_type": "execute_result"
    }
   ],
   "source": [
    "s[-4]"
   ]
  },
  {
   "cell_type": "code",
   "execution_count": 240,
   "id": "6b21aa9c",
   "metadata": {},
   "outputs": [
    {
     "data": {
      "text/plain": [
       "'N'"
      ]
     },
     "execution_count": 240,
     "metadata": {},
     "output_type": "execute_result"
    }
   ],
   "source": [
    "s[-1]"
   ]
  },
  {
   "cell_type": "markdown",
   "id": "b2535258",
   "metadata": {},
   "source": [
    "###### slicing"
   ]
  },
  {
   "cell_type": "code",
   "execution_count": 241,
   "id": "6394d69d",
   "metadata": {},
   "outputs": [],
   "source": [
    "s='PYTHON IS GOOD!'"
   ]
  },
  {
   "cell_type": "code",
   "execution_count": 242,
   "id": "ec596250",
   "metadata": {},
   "outputs": [],
   "source": [
    "# s[start : end] # prints from start to end-1 loc"
   ]
  },
  {
   "cell_type": "code",
   "execution_count": 243,
   "id": "76c86c0e",
   "metadata": {},
   "outputs": [
    {
     "data": {
      "text/plain": [
       "'TH'"
      ]
     },
     "execution_count": 243,
     "metadata": {},
     "output_type": "execute_result"
    }
   ],
   "source": [
    "s[2:4]"
   ]
  },
  {
   "cell_type": "code",
   "execution_count": 248,
   "id": "027ef144",
   "metadata": {},
   "outputs": [
    {
     "data": {
      "text/plain": [
       "'GOOD!'"
      ]
     },
     "execution_count": 248,
     "metadata": {},
     "output_type": "execute_result"
    }
   ],
   "source": [
    "s[10:]"
   ]
  },
  {
   "cell_type": "code",
   "execution_count": 249,
   "id": "32f12d77",
   "metadata": {},
   "outputs": [
    {
     "data": {
      "text/plain": [
       "'PYTHON'"
      ]
     },
     "execution_count": 249,
     "metadata": {},
     "output_type": "execute_result"
    }
   ],
   "source": [
    "s[:6]"
   ]
  },
  {
   "cell_type": "code",
   "execution_count": 250,
   "id": "236155d7",
   "metadata": {},
   "outputs": [
    {
     "data": {
      "text/plain": [
       "'PYTHON IS GOOD!'"
      ]
     },
     "execution_count": 250,
     "metadata": {},
     "output_type": "execute_result"
    }
   ],
   "source": [
    "s[:]"
   ]
  },
  {
   "cell_type": "code",
   "execution_count": 251,
   "id": "7ff9854d",
   "metadata": {},
   "outputs": [
    {
     "data": {
      "text/plain": [
       "'GOOD'"
      ]
     },
     "execution_count": 251,
     "metadata": {},
     "output_type": "execute_result"
    }
   ],
   "source": [
    "s[-5:-1]"
   ]
  },
  {
   "cell_type": "code",
   "execution_count": 254,
   "id": "560a7768",
   "metadata": {},
   "outputs": [
    {
     "data": {
      "text/plain": [
       "'HON IS GO'"
      ]
     },
     "execution_count": 254,
     "metadata": {},
     "output_type": "execute_result"
    }
   ],
   "source": [
    "s[3:-3]"
   ]
  },
  {
   "cell_type": "code",
   "execution_count": 255,
   "id": "a08ed23a",
   "metadata": {},
   "outputs": [
    {
     "data": {
      "text/plain": [
       "'PYTHON IS GOOD!'"
      ]
     },
     "execution_count": 255,
     "metadata": {},
     "output_type": "execute_result"
    }
   ],
   "source": [
    "s[::1]"
   ]
  },
  {
   "cell_type": "code",
   "execution_count": 256,
   "id": "1cf8bf3b",
   "metadata": {},
   "outputs": [
    {
     "data": {
      "text/plain": [
       "'PTO SGO!'"
      ]
     },
     "execution_count": 256,
     "metadata": {},
     "output_type": "execute_result"
    }
   ],
   "source": [
    "s[::2]"
   ]
  },
  {
   "cell_type": "code",
   "execution_count": 258,
   "id": "5496373c",
   "metadata": {},
   "outputs": [
    {
     "data": {
      "text/plain": [
       "'!DOOG SI NOHTYP'"
      ]
     },
     "execution_count": 258,
     "metadata": {},
     "output_type": "execute_result"
    }
   ],
   "source": [
    "s[::-1]"
   ]
  },
  {
   "cell_type": "code",
   "execution_count": 259,
   "id": "8bd7d6bc",
   "metadata": {},
   "outputs": [
    {
     "data": {
      "text/plain": [
       "'!OGS OTP'"
      ]
     },
     "execution_count": 259,
     "metadata": {},
     "output_type": "execute_result"
    }
   ],
   "source": [
    "s[::-2]"
   ]
  },
  {
   "cell_type": "markdown",
   "id": "232a506e",
   "metadata": {},
   "source": [
    "#### String Methods"
   ]
  },
  {
   "cell_type": "code",
   "execution_count": 260,
   "id": "c97729d2",
   "metadata": {},
   "outputs": [
    {
     "data": {
      "text/plain": [
       "'python'"
      ]
     },
     "execution_count": 260,
     "metadata": {},
     "output_type": "execute_result"
    }
   ],
   "source": [
    "# lower()\n",
    "s='PYTHON'\n",
    "s.lower()"
   ]
  },
  {
   "cell_type": "code",
   "execution_count": 261,
   "id": "1021cc16",
   "metadata": {},
   "outputs": [
    {
     "data": {
      "text/plain": [
       "'PYTHON'"
      ]
     },
     "execution_count": 261,
     "metadata": {},
     "output_type": "execute_result"
    }
   ],
   "source": [
    "# upper()\n",
    "s='python'\n",
    "s.upper()"
   ]
  },
  {
   "cell_type": "code",
   "execution_count": 262,
   "id": "eb055610",
   "metadata": {},
   "outputs": [
    {
     "data": {
      "text/plain": [
       "'Y'"
      ]
     },
     "execution_count": 262,
     "metadata": {},
     "output_type": "execute_result"
    }
   ],
   "source": [
    "s='python'\n",
    "s[1].upper()"
   ]
  },
  {
   "cell_type": "code",
   "execution_count": 263,
   "id": "e9c141f5",
   "metadata": {},
   "outputs": [
    {
     "data": {
      "text/plain": [
       "'Hello python trainees'"
      ]
     },
     "execution_count": 263,
     "metadata": {},
     "output_type": "execute_result"
    }
   ],
   "source": [
    "# capitaize()\n",
    "s='hello python trainees'\n",
    "s.capitalize()"
   ]
  },
  {
   "cell_type": "markdown",
   "id": "c70e13f8",
   "metadata": {},
   "source": [
    "###### ***STRINGS ARE IMMUTABLE"
   ]
  },
  {
   "cell_type": "code",
   "execution_count": 265,
   "id": "c7480133",
   "metadata": {},
   "outputs": [
    {
     "data": {
      "text/plain": [
       "'hello python trainees'"
      ]
     },
     "execution_count": 265,
     "metadata": {},
     "output_type": "execute_result"
    }
   ],
   "source": [
    "s"
   ]
  },
  {
   "cell_type": "code",
   "execution_count": 266,
   "id": "3c987879",
   "metadata": {},
   "outputs": [
    {
     "data": {
      "text/plain": [
       "'Hello Python Trainees'"
      ]
     },
     "execution_count": 266,
     "metadata": {},
     "output_type": "execute_result"
    }
   ],
   "source": [
    "# title()\n",
    "s.title()"
   ]
  },
  {
   "cell_type": "code",
   "execution_count": 267,
   "id": "40dfa1dd",
   "metadata": {},
   "outputs": [
    {
     "data": {
      "text/plain": [
       "'Hello Python'"
      ]
     },
     "execution_count": 267,
     "metadata": {},
     "output_type": "execute_result"
    }
   ],
   "source": [
    "s='HELLO PYTHON'\n",
    "s.title()"
   ]
  },
  {
   "cell_type": "code",
   "execution_count": 280,
   "id": "3d6b48ff",
   "metadata": {},
   "outputs": [
    {
     "name": "stdout",
     "output_type": "stream",
     "text": [
      "Enter characters: polop\n",
      "Check:  True\n"
     ]
    }
   ],
   "source": [
    "# Write a python script to check whether string is Calindrome or not\n",
    "a=input('Enter characters: ')\n",
    "print('Check: ', a==a[::-1])"
   ]
  },
  {
   "cell_type": "code",
   "execution_count": 281,
   "id": "b6a21c84",
   "metadata": {},
   "outputs": [
    {
     "name": "stdout",
     "output_type": "stream",
     "text": [
      "Enter number: 18081\n",
      "Check:  True\n"
     ]
    }
   ],
   "source": [
    "# write a program to check whether number is Palindrome or not\n",
    "a=int(input('Enter number: '))\n",
    "print('Check: ', a == int(str(a)[::-1]))"
   ]
  },
  {
   "cell_type": "code",
   "execution_count": 284,
   "id": "b4ecca69",
   "metadata": {},
   "outputs": [
    {
     "data": {
      "text/plain": [
       "False"
      ]
     },
     "execution_count": 284,
     "metadata": {},
     "output_type": "execute_result"
    }
   ],
   "source": [
    "# islower()\n",
    "s='Python'\n",
    "s.islower()"
   ]
  },
  {
   "cell_type": "code",
   "execution_count": 285,
   "id": "e1a2a97c",
   "metadata": {},
   "outputs": [
    {
     "data": {
      "text/plain": [
       "True"
      ]
     },
     "execution_count": 285,
     "metadata": {},
     "output_type": "execute_result"
    }
   ],
   "source": [
    "# isupper()\n",
    "s='PYTHON'\n",
    "s.isupper()"
   ]
  },
  {
   "cell_type": "code",
   "execution_count": 287,
   "id": "ee92b852",
   "metadata": {},
   "outputs": [
    {
     "data": {
      "text/plain": [
       "False"
      ]
     },
     "execution_count": 287,
     "metadata": {},
     "output_type": "execute_result"
    }
   ],
   "source": [
    "# istitle()\n",
    "s.istitle()"
   ]
  },
  {
   "cell_type": "code",
   "execution_count": 290,
   "id": "abeccc09",
   "metadata": {},
   "outputs": [
    {
     "data": {
      "text/plain": [
       "True"
      ]
     },
     "execution_count": 290,
     "metadata": {},
     "output_type": "execute_result"
    }
   ],
   "source": [
    "# isalnum()\n",
    "s='756abn'\n",
    "s.isalnum()"
   ]
  },
  {
   "cell_type": "code",
   "execution_count": 294,
   "id": "bbc6b3b1",
   "metadata": {},
   "outputs": [
    {
     "data": {
      "text/plain": [
       "True"
      ]
     },
     "execution_count": 294,
     "metadata": {},
     "output_type": "execute_result"
    }
   ],
   "source": [
    "# isnumeric()\n",
    "s='678'\n",
    "s.isnumeric()"
   ]
  },
  {
   "cell_type": "code",
   "execution_count": 298,
   "id": "d72b7276",
   "metadata": {},
   "outputs": [
    {
     "data": {
      "text/plain": [
       "True"
      ]
     },
     "execution_count": 298,
     "metadata": {},
     "output_type": "execute_result"
    }
   ],
   "source": [
    "# isdigit()\n",
    "s='809'\n",
    "s.isdigit()"
   ]
  },
  {
   "cell_type": "code",
   "execution_count": 299,
   "id": "fe19448f",
   "metadata": {},
   "outputs": [
    {
     "data": {
      "text/plain": [
       "True"
      ]
     },
     "execution_count": 299,
     "metadata": {},
     "output_type": "execute_result"
    }
   ],
   "source": [
    "# isascii()\n",
    "s='hello123'\n",
    "s.isascii()"
   ]
  },
  {
   "cell_type": "code",
   "execution_count": 301,
   "id": "8d857e2a",
   "metadata": {},
   "outputs": [
    {
     "data": {
      "text/plain": [
       "True"
      ]
     },
     "execution_count": 301,
     "metadata": {},
     "output_type": "execute_result"
    }
   ],
   "source": [
    "s='hello 123#'\n",
    "s.isascii()"
   ]
  },
  {
   "cell_type": "code",
   "execution_count": 302,
   "id": "4f18a004",
   "metadata": {},
   "outputs": [
    {
     "data": {
      "text/plain": [
       "False"
      ]
     },
     "execution_count": 302,
     "metadata": {},
     "output_type": "execute_result"
    }
   ],
   "source": [
    "# isspace()\n",
    "s='hello 123'\n",
    "s.isspace()"
   ]
  },
  {
   "cell_type": "code",
   "execution_count": 303,
   "id": "6a49eba5",
   "metadata": {},
   "outputs": [
    {
     "data": {
      "text/plain": [
       "True"
      ]
     },
     "execution_count": 303,
     "metadata": {},
     "output_type": "execute_result"
    }
   ],
   "source": [
    "s[5].isspace()"
   ]
  },
  {
   "cell_type": "code",
   "execution_count": 304,
   "id": "1601067c",
   "metadata": {},
   "outputs": [
    {
     "data": {
      "text/plain": [
       "5"
      ]
     },
     "execution_count": 304,
     "metadata": {},
     "output_type": "execute_result"
    }
   ],
   "source": [
    "# count()\n",
    "s='ABRAKADABRA'\n",
    "s.count('A')"
   ]
  },
  {
   "cell_type": "code",
   "execution_count": 305,
   "id": "6844ebec",
   "metadata": {},
   "outputs": [
    {
     "data": {
      "text/plain": [
       "8"
      ]
     },
     "execution_count": 305,
     "metadata": {},
     "output_type": "execute_result"
    }
   ],
   "source": [
    "s='hello, how are you? I am feeling good today!'\n",
    "s.count(' ')"
   ]
  },
  {
   "cell_type": "code",
   "execution_count": 311,
   "id": "6611bbbf",
   "metadata": {},
   "outputs": [
    {
     "data": {
      "text/plain": [
       "'hello, how are you? I am feeling good today!                '"
      ]
     },
     "execution_count": 311,
     "metadata": {},
     "output_type": "execute_result"
    }
   ],
   "source": [
    "# ljust()\n",
    "s.ljust(60)"
   ]
  },
  {
   "cell_type": "code",
   "execution_count": 308,
   "id": "3bb690c9",
   "metadata": {},
   "outputs": [
    {
     "data": {
      "text/plain": [
       "'                hello, how are you? I am feeling good today!'"
      ]
     },
     "execution_count": 308,
     "metadata": {},
     "output_type": "execute_result"
    }
   ],
   "source": [
    "# rjust()\n",
    "s.rjust(60)"
   ]
  },
  {
   "cell_type": "code",
   "execution_count": 309,
   "id": "b15aba4c",
   "metadata": {},
   "outputs": [
    {
     "data": {
      "text/plain": [
       "'        hello, how are you? I am feeling good today!        '"
      ]
     },
     "execution_count": 309,
     "metadata": {},
     "output_type": "execute_result"
    }
   ],
   "source": [
    "# center()\n",
    "s.center(60)"
   ]
  },
  {
   "cell_type": "code",
   "execution_count": 312,
   "id": "0209113d",
   "metadata": {},
   "outputs": [
    {
     "data": {
      "text/plain": [
       "6"
      ]
     },
     "execution_count": 312,
     "metadata": {},
     "output_type": "execute_result"
    }
   ],
   "source": [
    "# index()\n",
    "s='hello deloitte, I am here!'\n",
    "s.index('deloitte')"
   ]
  },
  {
   "cell_type": "code",
   "execution_count": 313,
   "id": "197390be",
   "metadata": {},
   "outputs": [
    {
     "ename": "ValueError",
     "evalue": "substring not found",
     "output_type": "error",
     "traceback": [
      "\u001b[1;31m---------------------------------------------------------------------------\u001b[0m",
      "\u001b[1;31mValueError\u001b[0m                                Traceback (most recent call last)",
      "Input \u001b[1;32mIn [313]\u001b[0m, in \u001b[0;36m<cell line: 1>\u001b[1;34m()\u001b[0m\n\u001b[1;32m----> 1\u001b[0m \u001b[43ms\u001b[49m\u001b[38;5;241;43m.\u001b[39;49m\u001b[43mindex\u001b[49m\u001b[43m(\u001b[49m\u001b[38;5;124;43m'\u001b[39;49m\u001b[38;5;124;43mhi\u001b[39;49m\u001b[38;5;124;43m'\u001b[39;49m\u001b[43m)\u001b[49m\n",
      "\u001b[1;31mValueError\u001b[0m: substring not found"
     ]
    }
   ],
   "source": [
    "s.index('hi')"
   ]
  },
  {
   "cell_type": "code",
   "execution_count": 314,
   "id": "7b5d29d0",
   "metadata": {},
   "outputs": [
    {
     "data": {
      "text/plain": [
       "6"
      ]
     },
     "execution_count": 314,
     "metadata": {},
     "output_type": "execute_result"
    }
   ],
   "source": [
    "# find()\n",
    "s.find('deloitte')"
   ]
  },
  {
   "cell_type": "code",
   "execution_count": 315,
   "id": "8f3133e8",
   "metadata": {},
   "outputs": [
    {
     "data": {
      "text/plain": [
       "-1"
      ]
     },
     "execution_count": 315,
     "metadata": {},
     "output_type": "execute_result"
    }
   ],
   "source": [
    "s.find('hi')"
   ]
  },
  {
   "cell_type": "code",
   "execution_count": 316,
   "id": "105739bd",
   "metadata": {},
   "outputs": [],
   "source": [
    "s='peter piper peter piper peter piper peter piper'"
   ]
  },
  {
   "cell_type": "code",
   "execution_count": 318,
   "id": "38ebda7d",
   "metadata": {},
   "outputs": [
    {
     "data": {
      "text/plain": [
       "36"
      ]
     },
     "execution_count": 318,
     "metadata": {},
     "output_type": "execute_result"
    }
   ],
   "source": [
    "# rindex()\n",
    "s.rindex('peter')"
   ]
  },
  {
   "cell_type": "code",
   "execution_count": 319,
   "id": "9413e7a4",
   "metadata": {},
   "outputs": [
    {
     "data": {
      "text/plain": [
       "42"
      ]
     },
     "execution_count": 319,
     "metadata": {},
     "output_type": "execute_result"
    }
   ],
   "source": [
    "# rfind()\n",
    "s.rfind('piper')"
   ]
  },
  {
   "cell_type": "code",
   "execution_count": 320,
   "id": "929db221",
   "metadata": {},
   "outputs": [],
   "source": [
    "# strip() - remove blank spaces or charcters from either ends\n",
    "s='     deloitte USI       '"
   ]
  },
  {
   "cell_type": "code",
   "execution_count": 321,
   "id": "73d9bdc3",
   "metadata": {},
   "outputs": [
    {
     "data": {
      "text/plain": [
       "'deloitte USI'"
      ]
     },
     "execution_count": 321,
     "metadata": {},
     "output_type": "execute_result"
    }
   ],
   "source": [
    "s.strip()"
   ]
  },
  {
   "cell_type": "code",
   "execution_count": 322,
   "id": "108b0224",
   "metadata": {},
   "outputs": [
    {
     "data": {
      "text/plain": [
       "'deloitte USI       '"
      ]
     },
     "execution_count": 322,
     "metadata": {},
     "output_type": "execute_result"
    }
   ],
   "source": [
    "# lstrip()\n",
    "s.lstrip()"
   ]
  },
  {
   "cell_type": "code",
   "execution_count": 323,
   "id": "f137e189",
   "metadata": {},
   "outputs": [
    {
     "data": {
      "text/plain": [
       "'     deloitte USI'"
      ]
     },
     "execution_count": 323,
     "metadata": {},
     "output_type": "execute_result"
    }
   ],
   "source": [
    "# rstrip()\n",
    "s.rstrip()"
   ]
  },
  {
   "cell_type": "code",
   "execution_count": 326,
   "id": "2cf9d03f",
   "metadata": {},
   "outputs": [],
   "source": [
    "s=\"##~~~$$$@@@DEL@ITTE U$I@~##@~$$\""
   ]
  },
  {
   "cell_type": "code",
   "execution_count": 327,
   "id": "8697a861",
   "metadata": {},
   "outputs": [
    {
     "name": "stdout",
     "output_type": "stream",
     "text": [
      "##~~~$$$@@@DEL@ITTE U$I\n",
      "DEL@ITTE U$I@~##@~$$\n",
      "DEL@ITTE U$I\n"
     ]
    }
   ],
   "source": [
    "print(s.rstrip('~@#$'))\n",
    "print(s.lstrip('~@#$'))\n",
    "print(s.strip('~@#$'))"
   ]
  },
  {
   "cell_type": "code",
   "execution_count": 329,
   "id": "6f02b816",
   "metadata": {},
   "outputs": [
    {
     "data": {
      "text/plain": [
       "'This is ### and I dont know what it is'"
      ]
     },
     "execution_count": 329,
     "metadata": {},
     "output_type": "execute_result"
    }
   ],
   "source": [
    "s='This is ### and I dont know what it is'\n",
    "s.strip('#')"
   ]
  },
  {
   "cell_type": "code",
   "execution_count": 330,
   "id": "de584678",
   "metadata": {},
   "outputs": [
    {
     "data": {
      "text/plain": [
       "' and I dont know what it is'"
      ]
     },
     "execution_count": 330,
     "metadata": {},
     "output_type": "execute_result"
    }
   ],
   "source": [
    "s[9:].strip('#')"
   ]
  },
  {
   "cell_type": "code",
   "execution_count": 334,
   "id": "20e484a2",
   "metadata": {},
   "outputs": [],
   "source": [
    "# split() - splits string with specific separator and returns list\n",
    "s='192.168.10.45'"
   ]
  },
  {
   "cell_type": "code",
   "execution_count": 336,
   "id": "8a2cd8d4",
   "metadata": {},
   "outputs": [
    {
     "data": {
      "text/plain": [
       "['192', '168', '10', '45']"
      ]
     },
     "execution_count": 336,
     "metadata": {},
     "output_type": "execute_result"
    }
   ],
   "source": [
    "s.split('.')"
   ]
  },
  {
   "cell_type": "code",
   "execution_count": 337,
   "id": "7af2fedc",
   "metadata": {},
   "outputs": [
    {
     "data": {
      "text/plain": [
       "['here', 'I', 'am', 'using', 'python', 'for', 'scripting']"
      ]
     },
     "execution_count": 337,
     "metadata": {},
     "output_type": "execute_result"
    }
   ],
   "source": [
    "s='here I am using python for scripting'\n",
    "s.split()"
   ]
  },
  {
   "cell_type": "code",
   "execution_count": 338,
   "id": "50d30edc",
   "metadata": {},
   "outputs": [
    {
     "data": {
      "text/plain": [
       "['Daman ', ' Diu']"
      ]
     },
     "execution_count": 338,
     "metadata": {},
     "output_type": "execute_result"
    }
   ],
   "source": [
    "s='Daman and Diu'\n",
    "s.split('and')"
   ]
  },
  {
   "cell_type": "code",
   "execution_count": 340,
   "id": "82349c91",
   "metadata": {},
   "outputs": [
    {
     "data": {
      "text/plain": [
       "'192.168.10.45'"
      ]
     },
     "execution_count": 340,
     "metadata": {},
     "output_type": "execute_result"
    }
   ],
   "source": [
    "# join() - takes list and join by given separator\n",
    "values=['192','168','10','45']\n",
    "'.'.join(values)"
   ]
  },
  {
   "cell_type": "code",
   "execution_count": 341,
   "id": "8873b3fc",
   "metadata": {},
   "outputs": [
    {
     "data": {
      "text/plain": [
       "'192-168-10-45'"
      ]
     },
     "execution_count": 341,
     "metadata": {},
     "output_type": "execute_result"
    }
   ],
   "source": [
    "'-'.join(values)"
   ]
  },
  {
   "cell_type": "code",
   "execution_count": 344,
   "id": "be51af8c",
   "metadata": {},
   "outputs": [
    {
     "data": {
      "text/plain": [
       "('welcome to ', 'deloitte', ' new trainees. you are part of deloitte now')"
      ]
     },
     "execution_count": 344,
     "metadata": {},
     "output_type": "execute_result"
    }
   ],
   "source": [
    "# partition()\n",
    "s='welcome to deloitte new trainees. you are part of deloitte now'\n",
    "s.partition('deloitte')"
   ]
  },
  {
   "cell_type": "code",
   "execution_count": 345,
   "id": "4c0cfaf6",
   "metadata": {},
   "outputs": [
    {
     "data": {
      "text/plain": [
       "('welcome to deloitte new trainees. you are part of ', 'deloitte', ' now')"
      ]
     },
     "execution_count": 345,
     "metadata": {},
     "output_type": "execute_result"
    }
   ],
   "source": [
    "# rpartition()\n",
    "s.rpartition('deloitte')"
   ]
  },
  {
   "cell_type": "code",
   "execution_count": 346,
   "id": "789519cd",
   "metadata": {},
   "outputs": [
    {
     "data": {
      "text/plain": [
       "True"
      ]
     },
     "execution_count": 346,
     "metadata": {},
     "output_type": "execute_result"
    }
   ],
   "source": [
    "# startswith()\n",
    "s='deloitte usi is in india and us has only deloitte'\n",
    "s.startswith('deloitte')"
   ]
  },
  {
   "cell_type": "code",
   "execution_count": 347,
   "id": "0e6514a6",
   "metadata": {},
   "outputs": [
    {
     "data": {
      "text/plain": [
       "True"
      ]
     },
     "execution_count": 347,
     "metadata": {},
     "output_type": "execute_result"
    }
   ],
   "source": [
    "# endswith()\n",
    "s.endswith('deloitte')"
   ]
  },
  {
   "cell_type": "code",
   "execution_count": 348,
   "id": "e52b6c86",
   "metadata": {},
   "outputs": [
    {
     "data": {
      "text/plain": [
       "'hELLO'"
      ]
     },
     "execution_count": 348,
     "metadata": {},
     "output_type": "execute_result"
    }
   ],
   "source": [
    "# swapcase()\n",
    "s='Hello'\n",
    "s.swapcase()"
   ]
  },
  {
   "cell_type": "code",
   "execution_count": 349,
   "id": "f7a32847",
   "metadata": {},
   "outputs": [
    {
     "data": {
      "text/plain": [
       "True"
      ]
     },
     "execution_count": 349,
     "metadata": {},
     "output_type": "execute_result"
    }
   ],
   "source": [
    "# isidentifier()\n",
    "s='demo'\n",
    "s.isidentifier()"
   ]
  },
  {
   "cell_type": "code",
   "execution_count": 350,
   "id": "4cef796e",
   "metadata": {},
   "outputs": [
    {
     "data": {
      "text/plain": [
       "False"
      ]
     },
     "execution_count": 350,
     "metadata": {},
     "output_type": "execute_result"
    }
   ],
   "source": [
    "s='123demo'\n",
    "s.isidentifier()"
   ]
  },
  {
   "cell_type": "code",
   "execution_count": 351,
   "id": "eacf4d1e",
   "metadata": {},
   "outputs": [
    {
     "data": {
      "text/plain": [
       "['hello, how are you?',\n",
       " 'This is session for python foundations.',\n",
       " 'tomorrow we may have online class, yet to confirm.']"
      ]
     },
     "execution_count": 351,
     "metadata": {},
     "output_type": "execute_result"
    }
   ],
   "source": [
    "# splitlines()\n",
    "s='''hello, how are you?\n",
    "This is session for python foundations.\n",
    "tomorrow we may have online class, yet to confirm.'''\n",
    "\n",
    "s.splitlines()"
   ]
  },
  {
   "cell_type": "code",
   "execution_count": 352,
   "id": "72c3aed5",
   "metadata": {},
   "outputs": [
    {
     "data": {
      "text/plain": [
       "'00000230'"
      ]
     },
     "execution_count": 352,
     "metadata": {},
     "output_type": "execute_result"
    }
   ],
   "source": [
    "# zfill() - fills zero\n",
    "s='230'\n",
    "s.zfill(8)"
   ]
  },
  {
   "cell_type": "code",
   "execution_count": 355,
   "id": "ab36cdc2",
   "metadata": {},
   "outputs": [
    {
     "data": {
      "text/plain": [
       "'00001011'"
      ]
     },
     "execution_count": 355,
     "metadata": {},
     "output_type": "execute_result"
    }
   ],
   "source": [
    "s='1011'\n",
    "s.zfill(8)"
   ]
  },
  {
   "cell_type": "code",
   "execution_count": null,
   "id": "e2ab01bd",
   "metadata": {},
   "outputs": [],
   "source": []
  },
  {
   "cell_type": "code",
   "execution_count": 354,
   "id": "2e16e893",
   "metadata": {},
   "outputs": [],
   "source": [
    "# concatenation\n",
    "s1='hello'\n",
    "s2='python'"
   ]
  },
  {
   "cell_type": "code",
   "execution_count": 360,
   "id": "491e4505",
   "metadata": {},
   "outputs": [
    {
     "data": {
      "text/plain": [
       "'hellopython'"
      ]
     },
     "execution_count": 360,
     "metadata": {},
     "output_type": "execute_result"
    }
   ],
   "source": [
    "s1+s2"
   ]
  },
  {
   "cell_type": "code",
   "execution_count": 361,
   "id": "f189c626",
   "metadata": {},
   "outputs": [
    {
     "data": {
      "text/plain": [
       "'hellohellohello'"
      ]
     },
     "execution_count": 361,
     "metadata": {},
     "output_type": "execute_result"
    }
   ],
   "source": [
    "s1*3"
   ]
  },
  {
   "cell_type": "code",
   "execution_count": 363,
   "id": "dbfb3265",
   "metadata": {},
   "outputs": [
    {
     "data": {
      "text/plain": [
       "'i like coke and sandwich'"
      ]
     },
     "execution_count": 363,
     "metadata": {},
     "output_type": "execute_result"
    }
   ],
   "source": [
    "# replace(substr, new_substr)\n",
    "s='i like pizza and sandwich'\n",
    "s.replace('pizza','coke')"
   ]
  },
  {
   "cell_type": "code",
   "execution_count": 367,
   "id": "2c776a27",
   "metadata": {},
   "outputs": [
    {
     "data": {
      "text/plain": [
       "'i like coke, but coke is also not good for health'"
      ]
     },
     "execution_count": 367,
     "metadata": {},
     "output_type": "execute_result"
    }
   ],
   "source": [
    "s='i like pizza, but pizza is also not good for health'\n",
    "s.replace('pizza','coke')"
   ]
  },
  {
   "cell_type": "code",
   "execution_count": 371,
   "id": "42d29f93",
   "metadata": {},
   "outputs": [
    {
     "data": {
      "text/plain": [
       "'i like coke, but pizza is also not good for health'"
      ]
     },
     "execution_count": 371,
     "metadata": {},
     "output_type": "execute_result"
    }
   ],
   "source": [
    "s='i like pizza, but pizza is also not good for health'\n",
    "s.replace('pizza','coke', 1)"
   ]
  },
  {
   "cell_type": "code",
   "execution_count": 372,
   "id": "b76cb0e2",
   "metadata": {},
   "outputs": [
    {
     "data": {
      "text/plain": [
       "'i like pizza, but coke is also not good for health'"
      ]
     },
     "execution_count": 372,
     "metadata": {},
     "output_type": "execute_result"
    }
   ],
   "source": [
    "s[:12]+s[12:].replace('pizza','coke')"
   ]
  },
  {
   "cell_type": "code",
   "execution_count": 374,
   "id": "1863f268",
   "metadata": {},
   "outputs": [
    {
     "name": "stdout",
     "output_type": "stream",
     "text": [
      "A:  1\n",
      "E:  10\n",
      "I:  3\n",
      "O:  2\n",
      "U:  2\n"
     ]
    }
   ],
   "source": [
    "# Write a program to find the count of each vovels in a sentence\n",
    "\n",
    "s='betty bit some bitter butter to make the bitter butter better'\n",
    "s=s.lower()\n",
    "print('A: ', s.count('a'))\n",
    "print('E: ', s.count('e'))\n",
    "print('I: ', s.count('i'))\n",
    "print('O: ', s.count('o'))\n",
    "print('U: ', s.count('u'))"
   ]
  },
  {
   "cell_type": "code",
   "execution_count": 377,
   "id": "ba6bcbf3",
   "metadata": {},
   "outputs": [
    {
     "name": "stdout",
     "output_type": "stream",
     "text": [
      "hello \tpython\n"
     ]
    }
   ],
   "source": [
    "# expandtabs()\n",
    "s='hello \\tpython'\n",
    "print(s)"
   ]
  },
  {
   "cell_type": "code",
   "execution_count": 384,
   "id": "c607dd92",
   "metadata": {},
   "outputs": [
    {
     "data": {
      "text/plain": [
       "'hello               python'"
      ]
     },
     "execution_count": 384,
     "metadata": {},
     "output_type": "execute_result"
    }
   ],
   "source": [
    "s.expandtabs(20)"
   ]
  },
  {
   "cell_type": "code",
   "execution_count": 389,
   "id": "513d6f12",
   "metadata": {},
   "outputs": [],
   "source": [
    "# maketrans()- creates a translation table\n",
    "# translate()- translates as per tr table\n",
    "s='I have $100 and i want to spend $70'"
   ]
  },
  {
   "cell_type": "code",
   "execution_count": 394,
   "id": "3bbaaa6c",
   "metadata": {},
   "outputs": [],
   "source": [
    "table=str.maketrans({'$':'INR'})"
   ]
  },
  {
   "cell_type": "code",
   "execution_count": 395,
   "id": "98d4aa70",
   "metadata": {},
   "outputs": [
    {
     "name": "stdout",
     "output_type": "stream",
     "text": [
      "I have INR100 and i want to spend INR70\n"
     ]
    }
   ],
   "source": [
    "print(s.translate(table))"
   ]
  },
  {
   "cell_type": "code",
   "execution_count": 396,
   "id": "d0aa48f6",
   "metadata": {},
   "outputs": [],
   "source": [
    "# Accept a 3 digit number from user and find sum of its digits.\n",
    "# Also return True or False based on whether the sum is even or odd\n",
    "# True for Even and False for Odd"
   ]
  },
  {
   "cell_type": "code",
   "execution_count": 398,
   "id": "9a9c12a8",
   "metadata": {},
   "outputs": [
    {
     "name": "stdout",
     "output_type": "stream",
     "text": [
      "Enter a 3 digit number: 455\n",
      "True\n"
     ]
    }
   ],
   "source": [
    "num=input('Enter a 3 digit number: ')\n",
    "num_sum=int(num[0])+int(num[1])+int(num[2])\n",
    "print(num_sum%2==0)"
   ]
  },
  {
   "cell_type": "code",
   "execution_count": 400,
   "id": "468c12c2",
   "metadata": {},
   "outputs": [
    {
     "name": "stdout",
     "output_type": "stream",
     "text": [
      "ONSTELLATIONC\n"
     ]
    }
   ],
   "source": [
    "# for a given string, rotate the characters by 1 position\n",
    "# STRING: \"CONSTELLATION\"\n",
    "# OUTPUT: \"ONSTELLATIONC\"\n",
    "s='CONSTELLATION'\n",
    "print(s[1:]+s[0])"
   ]
  },
  {
   "cell_type": "code",
   "execution_count": 401,
   "id": "d3a4069b",
   "metadata": {},
   "outputs": [
    {
     "name": "stdout",
     "output_type": "stream",
     "text": [
      "NCONSTELLATIO\n"
     ]
    }
   ],
   "source": [
    "print(s[-1]+s[:-1])"
   ]
  },
  {
   "cell_type": "code",
   "execution_count": null,
   "id": "c4e318a8",
   "metadata": {},
   "outputs": [],
   "source": []
  },
  {
   "cell_type": "code",
   "execution_count": null,
   "id": "e840ee81",
   "metadata": {},
   "outputs": [],
   "source": []
  },
  {
   "cell_type": "code",
   "execution_count": null,
   "id": "bcf6eecb",
   "metadata": {},
   "outputs": [],
   "source": []
  },
  {
   "cell_type": "code",
   "execution_count": null,
   "id": "ad74847c",
   "metadata": {},
   "outputs": [],
   "source": []
  },
  {
   "cell_type": "code",
   "execution_count": null,
   "id": "b583b928",
   "metadata": {},
   "outputs": [],
   "source": []
  },
  {
   "cell_type": "code",
   "execution_count": null,
   "id": "c16dfe2e",
   "metadata": {},
   "outputs": [],
   "source": []
  },
  {
   "cell_type": "code",
   "execution_count": null,
   "id": "4aa8c12e",
   "metadata": {},
   "outputs": [],
   "source": []
  },
  {
   "cell_type": "code",
   "execution_count": null,
   "id": "8cb39848",
   "metadata": {},
   "outputs": [],
   "source": []
  },
  {
   "cell_type": "code",
   "execution_count": null,
   "id": "cffcec7a",
   "metadata": {},
   "outputs": [],
   "source": []
  },
  {
   "cell_type": "code",
   "execution_count": null,
   "id": "12e1fe27",
   "metadata": {},
   "outputs": [],
   "source": []
  },
  {
   "cell_type": "code",
   "execution_count": null,
   "id": "5bcc49f7",
   "metadata": {},
   "outputs": [],
   "source": []
  },
  {
   "cell_type": "code",
   "execution_count": null,
   "id": "b35db1b2",
   "metadata": {},
   "outputs": [],
   "source": []
  },
  {
   "cell_type": "code",
   "execution_count": null,
   "id": "125c4b1a",
   "metadata": {},
   "outputs": [],
   "source": []
  },
  {
   "cell_type": "code",
   "execution_count": null,
   "id": "1b653dc9",
   "metadata": {},
   "outputs": [],
   "source": []
  },
  {
   "cell_type": "code",
   "execution_count": null,
   "id": "a0ad905b",
   "metadata": {},
   "outputs": [],
   "source": []
  },
  {
   "cell_type": "code",
   "execution_count": null,
   "id": "9dd16881",
   "metadata": {},
   "outputs": [],
   "source": []
  },
  {
   "cell_type": "code",
   "execution_count": null,
   "id": "5a857023",
   "metadata": {},
   "outputs": [],
   "source": []
  },
  {
   "cell_type": "code",
   "execution_count": null,
   "id": "e75e7c23",
   "metadata": {},
   "outputs": [],
   "source": []
  },
  {
   "cell_type": "code",
   "execution_count": null,
   "id": "f6cd85ac",
   "metadata": {},
   "outputs": [],
   "source": []
  },
  {
   "cell_type": "code",
   "execution_count": null,
   "id": "38cc0e8c",
   "metadata": {},
   "outputs": [],
   "source": []
  },
  {
   "cell_type": "code",
   "execution_count": null,
   "id": "25b0c9db",
   "metadata": {},
   "outputs": [],
   "source": [
    "\n"
   ]
  }
 ],
 "metadata": {
  "kernelspec": {
   "display_name": "Python 3 (ipykernel)",
   "language": "python",
   "name": "python3"
  },
  "language_info": {
   "codemirror_mode": {
    "name": "ipython",
    "version": 3
   },
   "file_extension": ".py",
   "mimetype": "text/x-python",
   "name": "python",
   "nbconvert_exporter": "python",
   "pygments_lexer": "ipython3",
   "version": "3.9.12"
  }
 },
 "nbformat": 4,
 "nbformat_minor": 5
}
