{
 "cells": [
  {
   "cell_type": "markdown",
   "id": "53b821e0",
   "metadata": {},
   "source": [
    "## Python Basics Day 3"
   ]
  },
  {
   "cell_type": "markdown",
   "id": "85e2a092",
   "metadata": {},
   "source": [
    "#### Data Structures"
   ]
  },
  {
   "cell_type": "code",
   "execution_count": 1,
   "id": "e838df19",
   "metadata": {},
   "outputs": [],
   "source": [
    "# Sequences:\n",
    "    # string\n",
    "    # tuple\n",
    "    # list\n",
    "# Non-Seqeunces Collection\n",
    "    # Dictionary\n",
    "    # Set"
   ]
  },
  {
   "cell_type": "markdown",
   "id": "8573fce6",
   "metadata": {},
   "source": [
    "#### Tuple"
   ]
  },
  {
   "cell_type": "code",
   "execution_count": 2,
   "id": "0831aecf",
   "metadata": {},
   "outputs": [],
   "source": [
    "# collection of values\n",
    "# can store heterogeneous data- diff data types\n",
    "# can store any valid python object\n",
    "# IMMUTABLE- can not be modified/ but can be replaced\n",
    "# indexed, sliced"
   ]
  },
  {
   "cell_type": "code",
   "execution_count": 3,
   "id": "e1a42017",
   "metadata": {},
   "outputs": [],
   "source": [
    "# tuple()\n",
    "t=tuple()"
   ]
  },
  {
   "cell_type": "code",
   "execution_count": 4,
   "id": "358600c1",
   "metadata": {},
   "outputs": [
    {
     "name": "stdout",
     "output_type": "stream",
     "text": [
      "<class 'tuple'>\n"
     ]
    }
   ],
   "source": [
    "print(type(t))"
   ]
  },
  {
   "cell_type": "code",
   "execution_count": 6,
   "id": "2713efd7",
   "metadata": {},
   "outputs": [],
   "source": [
    "t=tuple((1,2,3,4,5))"
   ]
  },
  {
   "cell_type": "code",
   "execution_count": 7,
   "id": "c45b98fc",
   "metadata": {},
   "outputs": [],
   "source": [
    "t=(1,2,3,4,5)"
   ]
  },
  {
   "cell_type": "code",
   "execution_count": 8,
   "id": "d237fd4a",
   "metadata": {},
   "outputs": [],
   "source": [
    "t=()"
   ]
  },
  {
   "cell_type": "code",
   "execution_count": 9,
   "id": "03176868",
   "metadata": {},
   "outputs": [],
   "source": [
    "t=(1,2,3, 'hello','hi', 3.14, (3-2j), False)"
   ]
  },
  {
   "cell_type": "code",
   "execution_count": 10,
   "id": "e6156ff4",
   "metadata": {},
   "outputs": [],
   "source": [
    "t=(1,2,3, 'hello',(10,20,30), 3.14, (3-2j), False)"
   ]
  },
  {
   "cell_type": "code",
   "execution_count": 11,
   "id": "f7cdd21f",
   "metadata": {},
   "outputs": [],
   "source": [
    "t=(1,2,3,4,5)"
   ]
  },
  {
   "cell_type": "code",
   "execution_count": 12,
   "id": "78e2aaf3",
   "metadata": {},
   "outputs": [
    {
     "data": {
      "text/plain": [
       "1"
      ]
     },
     "execution_count": 12,
     "metadata": {},
     "output_type": "execute_result"
    }
   ],
   "source": [
    "# indexing\n",
    "t[0]"
   ]
  },
  {
   "cell_type": "code",
   "execution_count": 13,
   "id": "d4eb5c59",
   "metadata": {},
   "outputs": [
    {
     "data": {
      "text/plain": [
       "5"
      ]
     },
     "execution_count": 13,
     "metadata": {},
     "output_type": "execute_result"
    }
   ],
   "source": [
    "t[-1]"
   ]
  },
  {
   "cell_type": "code",
   "execution_count": 14,
   "id": "878d2417",
   "metadata": {},
   "outputs": [
    {
     "data": {
      "text/plain": [
       "(5, 4, 3, 2, 1)"
      ]
     },
     "execution_count": 14,
     "metadata": {},
     "output_type": "execute_result"
    }
   ],
   "source": [
    "t[::-1]"
   ]
  },
  {
   "cell_type": "code",
   "execution_count": 15,
   "id": "98f9c659",
   "metadata": {},
   "outputs": [
    {
     "data": {
      "text/plain": [
       "(1, 2, 3, 4, 5)"
      ]
     },
     "execution_count": 15,
     "metadata": {},
     "output_type": "execute_result"
    }
   ],
   "source": [
    "t"
   ]
  },
  {
   "cell_type": "code",
   "execution_count": 16,
   "id": "3734dc37",
   "metadata": {},
   "outputs": [],
   "source": [
    "t=(1,2,3, 'hello',(10,20,30), 3.14, (3-2j), False)"
   ]
  },
  {
   "cell_type": "code",
   "execution_count": 17,
   "id": "28968f24",
   "metadata": {},
   "outputs": [
    {
     "data": {
      "text/plain": [
       "'hello'"
      ]
     },
     "execution_count": 17,
     "metadata": {},
     "output_type": "execute_result"
    }
   ],
   "source": [
    "t[3]"
   ]
  },
  {
   "cell_type": "code",
   "execution_count": 18,
   "id": "c86c8295",
   "metadata": {},
   "outputs": [
    {
     "data": {
      "text/plain": [
       "(10, 20, 30)"
      ]
     },
     "execution_count": 18,
     "metadata": {},
     "output_type": "execute_result"
    }
   ],
   "source": [
    "t[4]"
   ]
  },
  {
   "cell_type": "code",
   "execution_count": 19,
   "id": "65e640ce",
   "metadata": {},
   "outputs": [
    {
     "data": {
      "text/plain": [
       "10"
      ]
     },
     "execution_count": 19,
     "metadata": {},
     "output_type": "execute_result"
    }
   ],
   "source": [
    "t[4][0]"
   ]
  },
  {
   "cell_type": "code",
   "execution_count": 20,
   "id": "e1d5efca",
   "metadata": {},
   "outputs": [
    {
     "data": {
      "text/plain": [
       "(30, 20, 10)"
      ]
     },
     "execution_count": 20,
     "metadata": {},
     "output_type": "execute_result"
    }
   ],
   "source": [
    "t[4][::-1]"
   ]
  },
  {
   "cell_type": "code",
   "execution_count": 21,
   "id": "eea3be2e",
   "metadata": {},
   "outputs": [
    {
     "data": {
      "text/plain": [
       "tuple"
      ]
     },
     "execution_count": 21,
     "metadata": {},
     "output_type": "execute_result"
    }
   ],
   "source": [
    "type(t)"
   ]
  },
  {
   "cell_type": "code",
   "execution_count": 22,
   "id": "e145bbe2",
   "metadata": {},
   "outputs": [
    {
     "data": {
      "text/plain": [
       "8"
      ]
     },
     "execution_count": 22,
     "metadata": {},
     "output_type": "execute_result"
    }
   ],
   "source": [
    "len(t)"
   ]
  },
  {
   "cell_type": "code",
   "execution_count": 23,
   "id": "ec2efbfe",
   "metadata": {},
   "outputs": [
    {
     "data": {
      "text/plain": [
       "1865595760832"
      ]
     },
     "execution_count": 23,
     "metadata": {},
     "output_type": "execute_result"
    }
   ],
   "source": [
    "id(t)"
   ]
  },
  {
   "cell_type": "code",
   "execution_count": 24,
   "id": "35ef6d5d",
   "metadata": {},
   "outputs": [
    {
     "data": {
      "text/plain": [
       "(1, 2, 3, 4, 5, 6, 7, 8, 9)"
      ]
     },
     "execution_count": 24,
     "metadata": {},
     "output_type": "execute_result"
    }
   ],
   "source": [
    "# slicing\n",
    "t=(1,2,3,4,5,6,7,8,9)\n",
    "t[:]"
   ]
  },
  {
   "cell_type": "code",
   "execution_count": 25,
   "id": "bebdebce",
   "metadata": {},
   "outputs": [
    {
     "data": {
      "text/plain": [
       "(1, 2, 3, 4, 5)"
      ]
     },
     "execution_count": 25,
     "metadata": {},
     "output_type": "execute_result"
    }
   ],
   "source": [
    "t[:5]"
   ]
  },
  {
   "cell_type": "code",
   "execution_count": 26,
   "id": "b6700555",
   "metadata": {},
   "outputs": [
    {
     "data": {
      "text/plain": [
       "(6, 7, 8)"
      ]
     },
     "execution_count": 26,
     "metadata": {},
     "output_type": "execute_result"
    }
   ],
   "source": [
    "t[5:8]"
   ]
  },
  {
   "cell_type": "code",
   "execution_count": 28,
   "id": "fee0d551",
   "metadata": {},
   "outputs": [
    {
     "data": {
      "text/plain": [
       "6"
      ]
     },
     "execution_count": 28,
     "metadata": {},
     "output_type": "execute_result"
    }
   ],
   "source": [
    "# count()\n",
    "t=(1,2,3,45,2,1,6,8,6,5,2,2,1,1,1,6,1,8,5)\n",
    "t.count(1)"
   ]
  },
  {
   "cell_type": "code",
   "execution_count": 31,
   "id": "5cbeb483",
   "metadata": {},
   "outputs": [
    {
     "data": {
      "text/plain": [
       "3"
      ]
     },
     "execution_count": 31,
     "metadata": {},
     "output_type": "execute_result"
    }
   ],
   "source": [
    "# index()\n",
    "t.index(45)"
   ]
  },
  {
   "cell_type": "code",
   "execution_count": 33,
   "id": "8409715e",
   "metadata": {},
   "outputs": [
    {
     "ename": "TypeError",
     "evalue": "'tuple' object does not support item assignment",
     "output_type": "error",
     "traceback": [
      "\u001b[1;31m---------------------------------------------------------------------------\u001b[0m",
      "\u001b[1;31mTypeError\u001b[0m                                 Traceback (most recent call last)",
      "Input \u001b[1;32mIn [33]\u001b[0m, in \u001b[0;36m<cell line: 1>\u001b[1;34m()\u001b[0m\n\u001b[1;32m----> 1\u001b[0m t[\u001b[38;5;241m0\u001b[39m]\u001b[38;5;241m=\u001b[39m\u001b[38;5;241m100\u001b[39m\n",
      "\u001b[1;31mTypeError\u001b[0m: 'tuple' object does not support item assignment"
     ]
    }
   ],
   "source": [
    "t[0]=100"
   ]
  },
  {
   "cell_type": "code",
   "execution_count": 35,
   "id": "bd5aa902",
   "metadata": {},
   "outputs": [
    {
     "data": {
      "text/plain": [
       "(1, 2, 3, 10, 20, 30)"
      ]
     },
     "execution_count": 35,
     "metadata": {},
     "output_type": "execute_result"
    }
   ],
   "source": [
    "t1=(1,2,3)\n",
    "t2=(10,20,30)\n",
    "t3=t1+t2\n",
    "t3"
   ]
  },
  {
   "cell_type": "code",
   "execution_count": 36,
   "id": "59036cdf",
   "metadata": {},
   "outputs": [],
   "source": [
    "# inbuilt functions for iterables"
   ]
  },
  {
   "cell_type": "code",
   "execution_count": 37,
   "id": "d8f089b3",
   "metadata": {},
   "outputs": [
    {
     "data": {
      "text/plain": [
       "106"
      ]
     },
     "execution_count": 37,
     "metadata": {},
     "output_type": "execute_result"
    }
   ],
   "source": [
    "# sum()\n",
    "sum(t)"
   ]
  },
  {
   "cell_type": "code",
   "execution_count": 38,
   "id": "bcb4b265",
   "metadata": {},
   "outputs": [
    {
     "data": {
      "text/plain": [
       "45"
      ]
     },
     "execution_count": 38,
     "metadata": {},
     "output_type": "execute_result"
    }
   ],
   "source": [
    "# max()\n",
    "max(t)"
   ]
  },
  {
   "cell_type": "code",
   "execution_count": 39,
   "id": "26b8b301",
   "metadata": {},
   "outputs": [
    {
     "data": {
      "text/plain": [
       "1"
      ]
     },
     "execution_count": 39,
     "metadata": {},
     "output_type": "execute_result"
    }
   ],
   "source": [
    "# min()\n",
    "min(t)"
   ]
  },
  {
   "cell_type": "code",
   "execution_count": 41,
   "id": "2f24ff12",
   "metadata": {},
   "outputs": [
    {
     "data": {
      "text/plain": [
       "3.14"
      ]
     },
     "execution_count": 41,
     "metadata": {},
     "output_type": "execute_result"
    }
   ],
   "source": [
    "t=(1,2,3, 3.14, True)\n",
    "max(t)"
   ]
  },
  {
   "cell_type": "code",
   "execution_count": 42,
   "id": "c08a10e6",
   "metadata": {},
   "outputs": [
    {
     "data": {
      "text/plain": [
       "1"
      ]
     },
     "execution_count": 42,
     "metadata": {},
     "output_type": "execute_result"
    }
   ],
   "source": [
    "min(t)"
   ]
  },
  {
   "cell_type": "code",
   "execution_count": 51,
   "id": "9ed9099c",
   "metadata": {},
   "outputs": [
    {
     "data": {
      "text/plain": [
       "'sanya'"
      ]
     },
     "execution_count": 51,
     "metadata": {},
     "output_type": "execute_result"
    }
   ],
   "source": [
    "t=('Samar', 'sandhya', 'sanya')\n",
    "max(t)"
   ]
  },
  {
   "cell_type": "code",
   "execution_count": 52,
   "id": "3339e3a9",
   "metadata": {},
   "outputs": [
    {
     "data": {
      "text/plain": [
       "'Samar'"
      ]
     },
     "execution_count": 52,
     "metadata": {},
     "output_type": "execute_result"
    }
   ],
   "source": [
    "min(t)"
   ]
  },
  {
   "cell_type": "code",
   "execution_count": 48,
   "id": "86965a1d",
   "metadata": {},
   "outputs": [
    {
     "name": "stdout",
     "output_type": "stream",
     "text": [
      "10\n",
      "20\n",
      "30\n",
      "40\n",
      "60\n",
      "90\n"
     ]
    }
   ],
   "source": [
    "# iterations\n",
    "t=(10,20,30,40,60,90)\n",
    "\n",
    "for num in t:\n",
    "    print(num)"
   ]
  },
  {
   "cell_type": "code",
   "execution_count": 53,
   "id": "ef25644a",
   "metadata": {},
   "outputs": [],
   "source": [
    "t=('a','b','c','arun','Paresh', 'sathvik')"
   ]
  },
  {
   "cell_type": "code",
   "execution_count": 54,
   "id": "764530be",
   "metadata": {},
   "outputs": [
    {
     "data": {
      "text/plain": [
       "'sathvik'"
      ]
     },
     "execution_count": 54,
     "metadata": {},
     "output_type": "execute_result"
    }
   ],
   "source": [
    "max(t)"
   ]
  },
  {
   "cell_type": "code",
   "execution_count": 55,
   "id": "efa5a561",
   "metadata": {},
   "outputs": [
    {
     "data": {
      "text/plain": [
       "'Paresh'"
      ]
     },
     "execution_count": 55,
     "metadata": {},
     "output_type": "execute_result"
    }
   ],
   "source": [
    "min(t)"
   ]
  },
  {
   "cell_type": "code",
   "execution_count": 58,
   "id": "5479de46",
   "metadata": {},
   "outputs": [],
   "source": [
    "# From a tuple that contains marks of 5 subjects\n",
    "# find the percentage and division\n",
    "# 60-100 : First\n",
    "# 45-59 : Second\n",
    "# 33-45 : Third\n",
    "# <33 : Fail\n",
    "t=(78,87,90,67,73)\n",
    "per=sum(t)"
   ]
  },
  {
   "cell_type": "code",
   "execution_count": 64,
   "id": "a8113cb6",
   "metadata": {},
   "outputs": [
    {
     "name": "stdout",
     "output_type": "stream",
     "text": [
      "23\n",
      "45\n",
      "67\n",
      "87\n",
      "90\n"
     ]
    }
   ],
   "source": [
    "t=()\n",
    "for i in range(5):\n",
    "    t=t+(int(input()),)"
   ]
  },
  {
   "cell_type": "markdown",
   "id": "51d34449",
   "metadata": {},
   "source": [
    "### Lists"
   ]
  },
  {
   "cell_type": "code",
   "execution_count": 72,
   "id": "48d1f7c4",
   "metadata": {},
   "outputs": [],
   "source": [
    "# list()\n",
    "l=list()"
   ]
  },
  {
   "cell_type": "code",
   "execution_count": 74,
   "id": "b470d713",
   "metadata": {},
   "outputs": [
    {
     "name": "stdout",
     "output_type": "stream",
     "text": [
      "<class 'list'>\n"
     ]
    }
   ],
   "source": [
    "print(type(l))"
   ]
  },
  {
   "cell_type": "code",
   "execution_count": 75,
   "id": "65cd4bbf",
   "metadata": {},
   "outputs": [
    {
     "data": {
      "text/plain": [
       "1865596353216"
      ]
     },
     "execution_count": 75,
     "metadata": {},
     "output_type": "execute_result"
    }
   ],
   "source": [
    "id(l)"
   ]
  },
  {
   "cell_type": "code",
   "execution_count": 76,
   "id": "1fde5a29",
   "metadata": {},
   "outputs": [
    {
     "data": {
      "text/plain": [
       "[1, 2, 3, 4, 5]"
      ]
     },
     "execution_count": 76,
     "metadata": {},
     "output_type": "execute_result"
    }
   ],
   "source": [
    "l=[1,2,3,4,5]\n",
    "l"
   ]
  },
  {
   "cell_type": "code",
   "execution_count": 77,
   "id": "e9cde332",
   "metadata": {},
   "outputs": [],
   "source": [
    "l=[1,2,3, 'hello',3.789, True, (3-2j)]"
   ]
  },
  {
   "cell_type": "code",
   "execution_count": 78,
   "id": "863cc101",
   "metadata": {},
   "outputs": [
    {
     "data": {
      "text/plain": [
       "[1, 2, 3, 'hi', 3.145, (19, 20, 21), [100, 200, 300], True]"
      ]
     },
     "execution_count": 78,
     "metadata": {},
     "output_type": "execute_result"
    }
   ],
   "source": [
    "l=[1,2,3, 'hi', 3.145, (19,20,21), [100,200,300], True]\n",
    "l"
   ]
  },
  {
   "cell_type": "code",
   "execution_count": 79,
   "id": "c3bfeaed",
   "metadata": {},
   "outputs": [
    {
     "data": {
      "text/plain": [
       "(19, 20, 21)"
      ]
     },
     "execution_count": 79,
     "metadata": {},
     "output_type": "execute_result"
    }
   ],
   "source": [
    "l[5]"
   ]
  },
  {
   "cell_type": "code",
   "execution_count": 80,
   "id": "d8be37ea",
   "metadata": {},
   "outputs": [
    {
     "data": {
      "text/plain": [
       "20"
      ]
     },
     "execution_count": 80,
     "metadata": {},
     "output_type": "execute_result"
    }
   ],
   "source": [
    "l[5][1]"
   ]
  },
  {
   "cell_type": "code",
   "execution_count": 81,
   "id": "74dbde3e",
   "metadata": {},
   "outputs": [
    {
     "data": {
      "text/plain": [
       "[100, 200, 300]"
      ]
     },
     "execution_count": 81,
     "metadata": {},
     "output_type": "execute_result"
    }
   ],
   "source": [
    "l[6]"
   ]
  },
  {
   "cell_type": "code",
   "execution_count": 82,
   "id": "b2e9e5e6",
   "metadata": {},
   "outputs": [
    {
     "data": {
      "text/plain": [
       "300"
      ]
     },
     "execution_count": 82,
     "metadata": {},
     "output_type": "execute_result"
    }
   ],
   "source": [
    "l[6][2]"
   ]
  },
  {
   "cell_type": "code",
   "execution_count": 83,
   "id": "1984c983",
   "metadata": {},
   "outputs": [],
   "source": [
    "l=[1,2,3, (100,200,[1.5, 2.5, 3.5])]"
   ]
  },
  {
   "cell_type": "code",
   "execution_count": 84,
   "id": "ad3c5eac",
   "metadata": {},
   "outputs": [
    {
     "data": {
      "text/plain": [
       "2.5"
      ]
     },
     "execution_count": 84,
     "metadata": {},
     "output_type": "execute_result"
    }
   ],
   "source": [
    "l[3][2][1]"
   ]
  },
  {
   "cell_type": "code",
   "execution_count": 85,
   "id": "cba340aa",
   "metadata": {},
   "outputs": [
    {
     "data": {
      "text/plain": [
       "[1, 2, 3]"
      ]
     },
     "execution_count": 85,
     "metadata": {},
     "output_type": "execute_result"
    }
   ],
   "source": [
    "l[:3]"
   ]
  },
  {
   "cell_type": "code",
   "execution_count": 86,
   "id": "b69dfa66",
   "metadata": {},
   "outputs": [
    {
     "data": {
      "text/plain": [
       "(100, 200, [1.5, 2.5, 3.5])"
      ]
     },
     "execution_count": 86,
     "metadata": {},
     "output_type": "execute_result"
    }
   ],
   "source": [
    "l[-1]"
   ]
  },
  {
   "cell_type": "code",
   "execution_count": 87,
   "id": "5273cd47",
   "metadata": {},
   "outputs": [
    {
     "data": {
      "text/plain": [
       "[(100, 200, [1.5, 2.5, 3.5]), 3, 2, 1]"
      ]
     },
     "execution_count": 87,
     "metadata": {},
     "output_type": "execute_result"
    }
   ],
   "source": [
    "l[::-1]"
   ]
  },
  {
   "cell_type": "code",
   "execution_count": 88,
   "id": "8ec31e7e",
   "metadata": {},
   "outputs": [
    {
     "name": "stdout",
     "output_type": "stream",
     "text": [
      "1\n",
      "2\n",
      "3\n",
      "(100, 200, [1.5, 2.5, 3.5])\n"
     ]
    }
   ],
   "source": [
    "for item in l:\n",
    "    print(item)"
   ]
  },
  {
   "cell_type": "code",
   "execution_count": 89,
   "id": "29fe6a67",
   "metadata": {},
   "outputs": [
    {
     "data": {
      "text/plain": [
       "4"
      ]
     },
     "execution_count": 89,
     "metadata": {},
     "output_type": "execute_result"
    }
   ],
   "source": [
    "len(l)"
   ]
  },
  {
   "cell_type": "code",
   "execution_count": 90,
   "id": "193926c2",
   "metadata": {},
   "outputs": [],
   "source": [
    "# list are mutable\n",
    "l=[1,2,3,4,5]"
   ]
  },
  {
   "cell_type": "code",
   "execution_count": 91,
   "id": "b281b2a2",
   "metadata": {},
   "outputs": [],
   "source": [
    "l[3]=400"
   ]
  },
  {
   "cell_type": "code",
   "execution_count": 92,
   "id": "f3fdf7ff",
   "metadata": {},
   "outputs": [
    {
     "data": {
      "text/plain": [
       "[1, 2, 3, 400, 5]"
      ]
     },
     "execution_count": 92,
     "metadata": {},
     "output_type": "execute_result"
    }
   ],
   "source": [
    "l"
   ]
  },
  {
   "cell_type": "code",
   "execution_count": 93,
   "id": "40fea823",
   "metadata": {},
   "outputs": [
    {
     "name": "stdout",
     "output_type": "stream",
     "text": [
      "[15.0, 30.0, 45.0, 60.0, 75.0]\n"
     ]
    }
   ],
   "source": [
    "l=[10,20,30,40,50]\n",
    "for i in range(len(l)):\n",
    "    l[i]=l[i]*1.5\n",
    "print(l)"
   ]
  },
  {
   "cell_type": "markdown",
   "id": "90626b7f",
   "metadata": {},
   "source": [
    "##### List Methods"
   ]
  },
  {
   "cell_type": "code",
   "execution_count": 94,
   "id": "91c25717",
   "metadata": {},
   "outputs": [
    {
     "data": {
      "text/plain": [
       "7"
      ]
     },
     "execution_count": 94,
     "metadata": {},
     "output_type": "execute_result"
    }
   ],
   "source": [
    "# count()\n",
    "l=[1,2,3,1,2,1,2,1,2,3,5,6,4,2,2,2,4,67]\n",
    "l.count(2)"
   ]
  },
  {
   "cell_type": "code",
   "execution_count": 95,
   "id": "18660b1a",
   "metadata": {},
   "outputs": [
    {
     "data": {
      "text/plain": [
       "10"
      ]
     },
     "execution_count": 95,
     "metadata": {},
     "output_type": "execute_result"
    }
   ],
   "source": [
    "# index()\n",
    "l.index(5)"
   ]
  },
  {
   "cell_type": "code",
   "execution_count": 97,
   "id": "6e88bfaa",
   "metadata": {},
   "outputs": [
    {
     "data": {
      "text/plain": [
       "[1, 2, 200, 3, 4, 5]"
      ]
     },
     "execution_count": 97,
     "metadata": {},
     "output_type": "execute_result"
    }
   ],
   "source": [
    "# insert(index, value)\n",
    "l=[1,2,3,4,5]\n",
    "l.insert(2, 200)\n",
    "l"
   ]
  },
  {
   "cell_type": "code",
   "execution_count": 98,
   "id": "69b1f962",
   "metadata": {},
   "outputs": [
    {
     "data": {
      "text/plain": [
       "[1, 2, 20, 3, 4, 5]"
      ]
     },
     "execution_count": 98,
     "metadata": {},
     "output_type": "execute_result"
    }
   ],
   "source": [
    "l[2]=20\n",
    "l"
   ]
  },
  {
   "cell_type": "code",
   "execution_count": 99,
   "id": "39fa94e2",
   "metadata": {},
   "outputs": [
    {
     "data": {
      "text/plain": [
       "[1, 2, 20, 3, 4, 5, 10]"
      ]
     },
     "execution_count": 99,
     "metadata": {},
     "output_type": "execute_result"
    }
   ],
   "source": [
    "l.insert(100, 10)\n",
    "l"
   ]
  },
  {
   "cell_type": "code",
   "execution_count": 102,
   "id": "2283a5dc",
   "metadata": {},
   "outputs": [
    {
     "data": {
      "text/plain": [
       "[90, 1, 2, 20, 3, 4, 5, 30, 50, 10]"
      ]
     },
     "execution_count": 102,
     "metadata": {},
     "output_type": "execute_result"
    }
   ],
   "source": [
    "l.insert(-10, 90)\n",
    "l"
   ]
  },
  {
   "cell_type": "code",
   "execution_count": 103,
   "id": "6762512a",
   "metadata": {},
   "outputs": [
    {
     "data": {
      "text/plain": [
       "[90, 1, 2, 20, 3, 4, 5, 30, 50, 10, 500]"
      ]
     },
     "execution_count": 103,
     "metadata": {},
     "output_type": "execute_result"
    }
   ],
   "source": [
    "# append(val) - end of the list\n",
    "l.append(500)\n",
    "l"
   ]
  },
  {
   "cell_type": "code",
   "execution_count": 104,
   "id": "b5554fcb",
   "metadata": {},
   "outputs": [
    {
     "data": {
      "text/plain": [
       "[90, 1, 2, 3, 4, 5, 30, 50, 10, 500]"
      ]
     },
     "execution_count": 104,
     "metadata": {},
     "output_type": "execute_result"
    }
   ],
   "source": [
    "# remove(val)\n",
    "l.remove(20)\n",
    "l"
   ]
  },
  {
   "cell_type": "code",
   "execution_count": 105,
   "id": "c4720d1d",
   "metadata": {},
   "outputs": [
    {
     "data": {
      "text/plain": [
       "[90, 1, 2, 4, 5, 30, 50, 10, 500]"
      ]
     },
     "execution_count": 105,
     "metadata": {},
     "output_type": "execute_result"
    }
   ],
   "source": [
    "# pop(index)\n",
    "l.pop(3)\n",
    "l"
   ]
  },
  {
   "cell_type": "code",
   "execution_count": 106,
   "id": "b0b1b753",
   "metadata": {},
   "outputs": [
    {
     "data": {
      "text/plain": [
       "500"
      ]
     },
     "execution_count": 106,
     "metadata": {},
     "output_type": "execute_result"
    }
   ],
   "source": [
    "l.pop()"
   ]
  },
  {
   "cell_type": "code",
   "execution_count": 107,
   "id": "152934f7",
   "metadata": {},
   "outputs": [
    {
     "data": {
      "text/plain": [
       "[1, 2, 3, 10, 20, 30]"
      ]
     },
     "execution_count": 107,
     "metadata": {},
     "output_type": "execute_result"
    }
   ],
   "source": [
    "# concatenation\n",
    "l1=[1,2,3]\n",
    "l2=[10,20,30]\n",
    "l3=l1+l2\n",
    "l3"
   ]
  },
  {
   "cell_type": "code",
   "execution_count": 114,
   "id": "586aa28e",
   "metadata": {},
   "outputs": [
    {
     "data": {
      "text/plain": [
       "[1, 2, 4, 5, 6, 1, 3, 5, 2]"
      ]
     },
     "execution_count": 114,
     "metadata": {},
     "output_type": "execute_result"
    }
   ],
   "source": [
    "l=[1,2,4,5,6,2,1,3,5,2]\n",
    "idx=l.index(2,2) # index(val, occurence)\n",
    "l.pop(idx)\n",
    "l"
   ]
  },
  {
   "cell_type": "code",
   "execution_count": 127,
   "id": "e4ae9f98",
   "metadata": {},
   "outputs": [],
   "source": [
    "# sort()- sort the list making change to original list \n",
    "    # object\n",
    "l=[26, 19, 20, 7, 11, 12, 30, 15, 3, 17, 21, 2, 10, 6, 5, \n",
    "  4, 18, 19, 21, 17, 9, 19, 18, 5, 20, 27, 16, 10, 23, 8, \n",
    "  8, 4, 18]"
   ]
  },
  {
   "cell_type": "code",
   "execution_count": 128,
   "id": "b5dafc12",
   "metadata": {},
   "outputs": [],
   "source": [
    "l.sort()"
   ]
  },
  {
   "cell_type": "code",
   "execution_count": 129,
   "id": "d1b48db1",
   "metadata": {},
   "outputs": [
    {
     "name": "stdout",
     "output_type": "stream",
     "text": [
      "[2, 3, 4, 4, 5, 5, 6, 7, 8, 8, 9, 10, 10, 11, 12, 15, 16, 17, 17, 18, 18, 18, 19, 19, 19, 20, 20, 21, 21, 23, 26, 27, 30]\n"
     ]
    }
   ],
   "source": [
    "print(l)"
   ]
  },
  {
   "cell_type": "code",
   "execution_count": 130,
   "id": "f7572024",
   "metadata": {
    "collapsed": true
   },
   "outputs": [
    {
     "data": {
      "text/plain": [
       "[2,\n",
       " 3,\n",
       " 4,\n",
       " 4,\n",
       " 5,\n",
       " 5,\n",
       " 6,\n",
       " 7,\n",
       " 8,\n",
       " 8,\n",
       " 9,\n",
       " 10,\n",
       " 10,\n",
       " 11,\n",
       " 12,\n",
       " 15,\n",
       " 16,\n",
       " 17,\n",
       " 17,\n",
       " 18,\n",
       " 18,\n",
       " 18,\n",
       " 19,\n",
       " 19,\n",
       " 19,\n",
       " 20,\n",
       " 20,\n",
       " 21,\n",
       " 21,\n",
       " 23,\n",
       " 26,\n",
       " 27,\n",
       " 30]"
      ]
     },
     "execution_count": 130,
     "metadata": {},
     "output_type": "execute_result"
    }
   ],
   "source": [
    "# sorted()- inbuilt python function\n",
    "# NOT a list function\n",
    "# will not change original object\n",
    "\n",
    "l=[26, 19, 20, 7, 11, 12, 30, 15, 3, 17, 21, 2, 10, 6, 5, \n",
    "  4, 18, 19, 21, 17, 9, 19, 18, 5, 20, 27, 16, 10, 23, 8, \n",
    "  8, 4, 18]\n",
    "\n",
    "sorted(l)"
   ]
  },
  {
   "cell_type": "code",
   "execution_count": 131,
   "id": "26cb5ca5",
   "metadata": {
    "collapsed": true
   },
   "outputs": [
    {
     "data": {
      "text/plain": [
       "[26,\n",
       " 19,\n",
       " 20,\n",
       " 7,\n",
       " 11,\n",
       " 12,\n",
       " 30,\n",
       " 15,\n",
       " 3,\n",
       " 17,\n",
       " 21,\n",
       " 2,\n",
       " 10,\n",
       " 6,\n",
       " 5,\n",
       " 4,\n",
       " 18,\n",
       " 19,\n",
       " 21,\n",
       " 17,\n",
       " 9,\n",
       " 19,\n",
       " 18,\n",
       " 5,\n",
       " 20,\n",
       " 27,\n",
       " 16,\n",
       " 10,\n",
       " 23,\n",
       " 8,\n",
       " 8,\n",
       " 4,\n",
       " 18]"
      ]
     },
     "execution_count": 131,
     "metadata": {},
     "output_type": "execute_result"
    }
   ],
   "source": [
    "l"
   ]
  },
  {
   "cell_type": "code",
   "execution_count": 132,
   "id": "dcc3e019",
   "metadata": {},
   "outputs": [
    {
     "name": "stdout",
     "output_type": "stream",
     "text": [
      "[9, 8, 7, 6, 5, 4, 3, 2, 1]\n"
     ]
    }
   ],
   "source": [
    "# reverse()- list function to reverse a list object\n",
    "# original object will change\n",
    "l=[1,2,3,4,5,6,7,8,9]\n",
    "l.reverse()\n",
    "print(l)"
   ]
  },
  {
   "cell_type": "code",
   "execution_count": 134,
   "id": "89256dc5",
   "metadata": {},
   "outputs": [
    {
     "data": {
      "text/plain": [
       "[9, 8, 7, 6, 5, 4, 3, 2, 1]"
      ]
     },
     "execution_count": 134,
     "metadata": {},
     "output_type": "execute_result"
    }
   ],
   "source": [
    "# reversed()- python inbuilt function\n",
    "# NOT a list func\n",
    "# will not change list, returns reversed form of values\n",
    "l=[1,2,3,4,5,6,7,8,9]\n",
    "list(reversed(l))"
   ]
  },
  {
   "cell_type": "code",
   "execution_count": 135,
   "id": "6b48207e",
   "metadata": {},
   "outputs": [
    {
     "data": {
      "text/plain": [
       "[1, 2, 3, 4, 5, 6, 7, 8, 9]"
      ]
     },
     "execution_count": 135,
     "metadata": {},
     "output_type": "execute_result"
    }
   ],
   "source": [
    "l"
   ]
  },
  {
   "cell_type": "code",
   "execution_count": 137,
   "id": "ee245f29",
   "metadata": {},
   "outputs": [
    {
     "data": {
      "text/plain": [
       "[56, 32, 16, 9, 8, 7, 7, 4, 4, 2, 1, 1]"
      ]
     },
     "execution_count": 137,
     "metadata": {},
     "output_type": "execute_result"
    }
   ],
   "source": [
    "# sort(reverse=True/False)\n",
    "l=[1,9,4,7,2,1,4,8,7,56,32,16]\n",
    "l.sort(reverse=True) # descending order\n",
    "l"
   ]
  },
  {
   "cell_type": "code",
   "execution_count": 138,
   "id": "b2bc3ef5",
   "metadata": {},
   "outputs": [
    {
     "data": {
      "text/plain": [
       "[56, 32, 16, 9, 8, 7, 7, 4, 4, 2, 1, 1]"
      ]
     },
     "execution_count": 138,
     "metadata": {},
     "output_type": "execute_result"
    }
   ],
   "source": [
    "l=[1,9,4,7,2,1,4,8,7,56,32,16]\n",
    "sorted(l, reverse=True)"
   ]
  },
  {
   "cell_type": "code",
   "execution_count": 139,
   "id": "14f6df41",
   "metadata": {},
   "outputs": [
    {
     "data": {
      "text/plain": [
       "[1, 2, 3, 4, 'a', 'b', 'c']"
      ]
     },
     "execution_count": 139,
     "metadata": {},
     "output_type": "execute_result"
    }
   ],
   "source": [
    "# extend()\n",
    "# extends a list by another list values\n",
    "l=[1,2,3,4]\n",
    "l2=['a','b','c']\n",
    "\n",
    "l.extend(l2)\n",
    "l"
   ]
  },
  {
   "cell_type": "code",
   "execution_count": 140,
   "id": "03279bc4",
   "metadata": {},
   "outputs": [],
   "source": [
    "# copy a list to another"
   ]
  },
  {
   "cell_type": "code",
   "execution_count": 141,
   "id": "f34a2973",
   "metadata": {},
   "outputs": [],
   "source": [
    "l1=[1,2,3,4,5]"
   ]
  },
  {
   "cell_type": "code",
   "execution_count": 142,
   "id": "10863a85",
   "metadata": {},
   "outputs": [],
   "source": [
    "l2=l1"
   ]
  },
  {
   "cell_type": "code",
   "execution_count": 144,
   "id": "1ddbd967",
   "metadata": {},
   "outputs": [
    {
     "data": {
      "text/plain": [
       "[1, 2, 3, 4, 5]"
      ]
     },
     "execution_count": 144,
     "metadata": {},
     "output_type": "execute_result"
    }
   ],
   "source": [
    "l2"
   ]
  },
  {
   "cell_type": "code",
   "execution_count": 145,
   "id": "fb11e6d9",
   "metadata": {},
   "outputs": [],
   "source": [
    "l2[0]=100"
   ]
  },
  {
   "cell_type": "code",
   "execution_count": 146,
   "id": "21b6adad",
   "metadata": {},
   "outputs": [
    {
     "data": {
      "text/plain": [
       "[100, 2, 3, 4, 5]"
      ]
     },
     "execution_count": 146,
     "metadata": {},
     "output_type": "execute_result"
    }
   ],
   "source": [
    "l2"
   ]
  },
  {
   "cell_type": "code",
   "execution_count": 147,
   "id": "a9e7b806",
   "metadata": {},
   "outputs": [
    {
     "data": {
      "text/plain": [
       "[100, 2, 3, 4, 5]"
      ]
     },
     "execution_count": 147,
     "metadata": {},
     "output_type": "execute_result"
    }
   ],
   "source": [
    "l1"
   ]
  },
  {
   "cell_type": "code",
   "execution_count": 155,
   "id": "1d8e4d77",
   "metadata": {},
   "outputs": [
    {
     "name": "stdout",
     "output_type": "stream",
     "text": [
      "[1, 2, 3, 4, 5]\n",
      "[1, 2, 3, 4, 5]\n",
      "[100, 2, 3, 4, 5]\n"
     ]
    }
   ],
   "source": [
    "# copy() - deep copy\n",
    "l1=[1,2,3,4,5]\n",
    "l2=l1.copy()\n",
    "print(l1)\n",
    "l2[0]=100\n",
    "print(l1, l2, sep='\\n')"
   ]
  },
  {
   "cell_type": "code",
   "execution_count": 156,
   "id": "a1149b25",
   "metadata": {},
   "outputs": [
    {
     "data": {
      "text/plain": [
       "[]"
      ]
     },
     "execution_count": 156,
     "metadata": {},
     "output_type": "execute_result"
    }
   ],
   "source": [
    "# clear()\n",
    "l.clear()\n",
    "l"
   ]
  },
  {
   "cell_type": "code",
   "execution_count": 157,
   "id": "95c7a252",
   "metadata": {},
   "outputs": [],
   "source": [
    "# del\n",
    "del l"
   ]
  },
  {
   "cell_type": "code",
   "execution_count": 158,
   "id": "d7e27f84",
   "metadata": {},
   "outputs": [
    {
     "name": "stdout",
     "output_type": "stream",
     "text": [
      "Enter number of terms: 10\n",
      "[1, 8, 27, 64, 125, 216, 343, 512, 729, 1000]\n"
     ]
    }
   ],
   "source": [
    "# Accept a integer from user N and create a list that has \n",
    "# cube of first N integers.\n",
    "N=int(input('Enter number of terms: '))\n",
    "li=[]\n",
    "for i in range(1, N+1):\n",
    "    li.append(i**3)\n",
    "print(li)"
   ]
  },
  {
   "cell_type": "code",
   "execution_count": 159,
   "id": "1a074ae8",
   "metadata": {},
   "outputs": [
    {
     "name": "stdout",
     "output_type": "stream",
     "text": [
      "Enter number of terms: 10\n"
     ]
    },
    {
     "data": {
      "text/plain": [
       "[1, 8, 27, 64, 125, 216, 343, 512, 729, 1000]"
      ]
     },
     "execution_count": 159,
     "metadata": {},
     "output_type": "execute_result"
    }
   ],
   "source": [
    "# list comprehension\n",
    "N=int(input('Enter number of terms: '))\n",
    "li=[x**3 for x in range(1,N+1)]\n",
    "li"
   ]
  },
  {
   "cell_type": "code",
   "execution_count": 160,
   "id": "8e2cb066",
   "metadata": {},
   "outputs": [],
   "source": [
    "# Write a function rotate_list(li, n) that rotates list \n",
    "# by \"n\" times. \n",
    "# Example: Input=>   [1,2,3,4,5,6,7,8]\n",
    "# n=4      Output=> [5,6,7,8,1,2,3,4]"
   ]
  },
  {
   "cell_type": "code",
   "execution_count": 168,
   "id": "093a18da",
   "metadata": {},
   "outputs": [],
   "source": [
    "def rotate_list(li,n):\n",
    "    n=n%len(li)\n",
    "    for r in range(n):\n",
    "        li.append(li.pop(0))\n",
    "    return li"
   ]
  },
  {
   "cell_type": "code",
   "execution_count": 169,
   "id": "7cf6e576",
   "metadata": {},
   "outputs": [
    {
     "data": {
      "text/plain": [
       "[8, 1, 2, 3, 4, 5, 6, 7]"
      ]
     },
     "execution_count": 169,
     "metadata": {},
     "output_type": "execute_result"
    }
   ],
   "source": [
    "rotate_list([1,2,3,4,5,6,7,8], 415)"
   ]
  },
  {
   "cell_type": "code",
   "execution_count": 170,
   "id": "09294393",
   "metadata": {},
   "outputs": [],
   "source": [
    "def rotate_list(li,n):\n",
    "    n=n%len(li)\n",
    "    li=li[n:]+li[:n]\n",
    "    return li"
   ]
  },
  {
   "cell_type": "code",
   "execution_count": 171,
   "id": "43f450bb",
   "metadata": {},
   "outputs": [
    {
     "data": {
      "text/plain": [
       "[8, 1, 2, 3, 4, 5, 6, 7]"
      ]
     },
     "execution_count": 171,
     "metadata": {},
     "output_type": "execute_result"
    }
   ],
   "source": [
    "rotate_list([1,2,3,4,5,6,7,8], 415)"
   ]
  },
  {
   "cell_type": "code",
   "execution_count": 178,
   "id": "c4442184",
   "metadata": {},
   "outputs": [
    {
     "name": "stdout",
     "output_type": "stream",
     "text": [
      "1,2,3,4,5,6,7,8,9\n",
      "List: [1, 2, 3, 4, 5, 6, 7, 8, 9]\n",
      "Sum: 45\n",
      "Max: 9\n",
      "Min: 1\n"
     ]
    }
   ],
   "source": [
    "# Write a program that accepts comma separated integers\n",
    "# values from user and forms a list of those values\n",
    "# to find sum, min, and max\n",
    "# Example: Input=> 1,2,3,4,5,6,7\n",
    "\n",
    "li=[int(x) for x in input().split(',')]\n",
    "\n",
    "print(f'List: {li}')\n",
    "print(f'Sum: {sum(li)}')\n",
    "print(f'Max: {max(li)}')\n",
    "print(f'Min: {min(li)}')"
   ]
  },
  {
   "cell_type": "code",
   "execution_count": 181,
   "id": "525ada4c",
   "metadata": {},
   "outputs": [
    {
     "name": "stdout",
     "output_type": "stream",
     "text": [
      "shruti\n",
      "ShRuTi"
     ]
    }
   ],
   "source": [
    "# Write a python function alternate(s) that accepts a \n",
    "# string and converts it as follows:\n",
    "\n",
    "# If string has EVEN length, then it should start with\n",
    "# Upper case letter and print alternate character as\n",
    "# upper case and remaining alternate as lower\n",
    "\n",
    "# If string has ODD length, then it should start with\n",
    "# Lower case letter and print alternate character as\n",
    "# Lower case and remaining alternate as Upper\n",
    "\n",
    "# Example: prateek => length=7 Output=> pRaTeEk\n",
    "s=input()\n",
    "if len(s)%2==0:\n",
    "    for i in range(len(s)):\n",
    "        if i%2==0:\n",
    "            print(s[i].upper(), end='')\n",
    "        else:\n",
    "            print(s[i].lower(), end='')\n",
    "else:\n",
    "    for i in range(len(s)):\n",
    "        if i%2==0:\n",
    "            print(s[i].lower(), end='')\n",
    "        else:\n",
    "            print(s[i].upper(), end='')"
   ]
  },
  {
   "cell_type": "code",
   "execution_count": null,
   "id": "4fc46c3d",
   "metadata": {},
   "outputs": [],
   "source": []
  },
  {
   "cell_type": "code",
   "execution_count": null,
   "id": "df8919e6",
   "metadata": {},
   "outputs": [],
   "source": []
  },
  {
   "cell_type": "code",
   "execution_count": 185,
   "id": "df9a2a24",
   "metadata": {},
   "outputs": [
    {
     "name": "stdout",
     "output_type": "stream",
     "text": [
      "Even Sum: 64\n",
      "Odd Sum: 72\n"
     ]
    }
   ],
   "source": [
    "# using a list given below, find sum of all even numbers\n",
    "# and odd numbers\n",
    "\n",
    "li=[1,4,2,5,8,9,5,6,6,3,12,14,13,17,19,12]\n",
    "sum_even=0\n",
    "sum_odd=0\n",
    "for num in li:\n",
    "    if num%2==0:\n",
    "        sum_even+=num\n",
    "    else:\n",
    "        sum_odd+=num\n",
    "print(f'Even Sum: {sum_even}')\n",
    "print(f'Odd Sum: {sum_odd}')"
   ]
  },
  {
   "cell_type": "code",
   "execution_count": 186,
   "id": "a7f390cd",
   "metadata": {},
   "outputs": [
    {
     "name": "stdout",
     "output_type": "stream",
     "text": [
      "Even Sum: 64\n",
      "Odd Sum: 72\n"
     ]
    }
   ],
   "source": [
    "sum_even=sum([x for x in li if x%2==0])\n",
    "sum_odd=sum([x for x in li if x%2!=0])\n",
    "print(f'Even Sum: {sum_even}')\n",
    "print(f'Odd Sum: {sum_odd}')"
   ]
  },
  {
   "cell_type": "code",
   "execution_count": null,
   "id": "15d8b36c",
   "metadata": {},
   "outputs": [],
   "source": []
  },
  {
   "cell_type": "code",
   "execution_count": null,
   "id": "fb87ed6a",
   "metadata": {},
   "outputs": [],
   "source": []
  },
  {
   "cell_type": "code",
   "execution_count": 187,
   "id": "659a1d16",
   "metadata": {},
   "outputs": [
    {
     "name": "stdout",
     "output_type": "stream",
     "text": [
      "List Updated: [1, 3, 5, 7, 10, 12, 6, 8]\n"
     ]
    }
   ],
   "source": [
    "# Arrange the list vaues such that all even numbers\n",
    "# will be arranged after all odd numbers\n",
    "# maintaining the order of appearence in list\n",
    "# Example: li=[1,10,3,12,5,6,7,8]\n",
    "#    OUTPUT=> [1,3,5,7,10,12,6,8]\n",
    "even=[]\n",
    "odd=[]\n",
    "li=[1,10,3,12,5,6,7,8]\n",
    "for el in li:\n",
    "    if el%2==0:\n",
    "        even.append(el)\n",
    "    else:\n",
    "        odd.append(el)\n",
    "print(f'List Updated: {odd+even}')"
   ]
  },
  {
   "cell_type": "code",
   "execution_count": 189,
   "id": "6c15f3f2",
   "metadata": {},
   "outputs": [
    {
     "name": "stdout",
     "output_type": "stream",
     "text": [
      "1 => 5\n",
      "2 => 2\n",
      "5 => 2\n",
      "3 => 1\n",
      "4 => 1\n",
      "6 => 1\n",
      "7 => 1\n"
     ]
    }
   ],
   "source": [
    "# write a program to find frequency of \n",
    "# each unique element in a list\n",
    "li=[1,2,5,1,3,1,4,5,2,1,6,7,1]\n",
    "check=[]\n",
    "for num in li:\n",
    "    if num not in check:\n",
    "        print(f'{num} => {li.count(num)}')\n",
    "        check.append(num)"
   ]
  },
  {
   "cell_type": "code",
   "execution_count": null,
   "id": "a362d455",
   "metadata": {},
   "outputs": [],
   "source": []
  },
  {
   "cell_type": "code",
   "execution_count": null,
   "id": "3770ad67",
   "metadata": {},
   "outputs": [],
   "source": []
  },
  {
   "cell_type": "code",
   "execution_count": null,
   "id": "4b840066",
   "metadata": {},
   "outputs": [],
   "source": []
  },
  {
   "cell_type": "code",
   "execution_count": null,
   "id": "d91b6b0f",
   "metadata": {},
   "outputs": [],
   "source": []
  },
  {
   "cell_type": "code",
   "execution_count": null,
   "id": "70aac552",
   "metadata": {},
   "outputs": [],
   "source": []
  },
  {
   "cell_type": "code",
   "execution_count": 191,
   "id": "7e34a597",
   "metadata": {},
   "outputs": [
    {
     "name": "stdout",
     "output_type": "stream",
     "text": [
      "Distance 59 - 2: 57\n",
      "Distance 59 - 5: 54\n",
      "Distance 59 - 1: 58\n",
      "Distance 59 - 36: 23\n",
      "Distance 59 - 59: 0\n",
      "Distance 59 - 8: 51\n",
      "Distance 59 - 5: 54\n",
      "Distance 59 - 1: 58\n",
      "Distance 59 - 23: 36\n",
      "Max Distance Pair: 59-1\n",
      "Max Distance: 58\n"
     ]
    }
   ],
   "source": [
    "# write a code to find distance of all numbers in a list\n",
    "# from maximum value. Also find pair with maximum distance\n",
    "# in these pairs.\n",
    "li=[2,5,1,36,59,8,5,1,23]\n",
    "mx=max(li)\n",
    "md=-1\n",
    "mdnode=0\n",
    "for node in li:\n",
    "    print(f'Distance {mx} - {node}: {mx-node}')\n",
    "    if mx-node>md:\n",
    "        md=mx-node\n",
    "        mdnode=node\n",
    "print(f'Max Distance Pair: {mx}-{mdnode}')\n",
    "print(f'Max Distance: {md}')"
   ]
  },
  {
   "cell_type": "code",
   "execution_count": 193,
   "id": "d206c09c",
   "metadata": {},
   "outputs": [],
   "source": [
    "# Write a python function code \"alternating(li)\" that\n",
    "# checks if the list has alternating values or not.\n",
    "# It returns True if vaues are alternating\n",
    "# Else return False\n",
    "#Example: Input=> alternating([1,4,2,7,3,5]) => True\n",
    "#         Input=> alternating([1,6,3,2,5,9]) => False\n",
    "#         Input=> alternating([1,3,2,2,5,1]) => False\n",
    "#         Input=> alternating([9,5,7,8,2,4]) => False\n",
    "def alternating(li):\n",
    "    status=True\n",
    "    for i in range(1, len(li)-1):\n",
    "        if (li[i-1]>=li[i]>=li[i+1]) or (li[i-1]<=li[i]<=li[i+1]):\n",
    "            status=False\n",
    "            break\n",
    "    return status"
   ]
  },
  {
   "cell_type": "code",
   "execution_count": 194,
   "id": "45a0bcb3",
   "metadata": {},
   "outputs": [
    {
     "data": {
      "text/plain": [
       "True"
      ]
     },
     "execution_count": 194,
     "metadata": {},
     "output_type": "execute_result"
    }
   ],
   "source": [
    "alternating([1,4,2,7,3,5])"
   ]
  },
  {
   "cell_type": "code",
   "execution_count": 195,
   "id": "fd1ac3d7",
   "metadata": {},
   "outputs": [
    {
     "data": {
      "text/plain": [
       "False"
      ]
     },
     "execution_count": 195,
     "metadata": {},
     "output_type": "execute_result"
    }
   ],
   "source": [
    "alternating([1,6,3,2,5,9])"
   ]
  },
  {
   "cell_type": "code",
   "execution_count": 196,
   "id": "1d647dcd",
   "metadata": {},
   "outputs": [
    {
     "data": {
      "text/plain": [
       "False"
      ]
     },
     "execution_count": 196,
     "metadata": {},
     "output_type": "execute_result"
    }
   ],
   "source": [
    "alternating([1,3,2,2,5,1])"
   ]
  },
  {
   "cell_type": "code",
   "execution_count": 197,
   "id": "4e4e6dec",
   "metadata": {},
   "outputs": [
    {
     "data": {
      "text/plain": [
       "False"
      ]
     },
     "execution_count": 197,
     "metadata": {},
     "output_type": "execute_result"
    }
   ],
   "source": [
    "alternating([9,5,7,8,2,4])"
   ]
  },
  {
   "cell_type": "code",
   "execution_count": null,
   "id": "2c4076c1",
   "metadata": {},
   "outputs": [],
   "source": []
  }
 ],
 "metadata": {
  "kernelspec": {
   "display_name": "Python 3 (ipykernel)",
   "language": "python",
   "name": "python3"
  },
  "language_info": {
   "codemirror_mode": {
    "name": "ipython",
    "version": 3
   },
   "file_extension": ".py",
   "mimetype": "text/x-python",
   "name": "python",
   "nbconvert_exporter": "python",
   "pygments_lexer": "ipython3",
   "version": "3.9.12"
  }
 },
 "nbformat": 4,
 "nbformat_minor": 5
}
