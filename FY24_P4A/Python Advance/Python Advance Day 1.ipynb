{
 "cells": [
  {
   "cell_type": "markdown",
   "id": "fc95eceb",
   "metadata": {},
   "source": [
    "## Python Advance Day 1"
   ]
  },
  {
   "cell_type": "markdown",
   "id": "1dd9e776",
   "metadata": {},
   "source": [
    "#### Object Oriented Programming in Python"
   ]
  },
  {
   "cell_type": "code",
   "execution_count": 2,
   "id": "0bb0937d",
   "metadata": {},
   "outputs": [],
   "source": [
    "# Procedure Oriented Programming- collection of functions"
   ]
  },
  {
   "cell_type": "code",
   "execution_count": 3,
   "id": "b692d373",
   "metadata": {},
   "outputs": [],
   "source": [
    "# OOP- focuses on creating a design around objects"
   ]
  },
  {
   "cell_type": "code",
   "execution_count": 4,
   "id": "5a5ba8aa",
   "metadata": {},
   "outputs": [],
   "source": [
    "# Object- represents any real world entity"
   ]
  },
  {
   "cell_type": "code",
   "execution_count": 12,
   "id": "56be4a04",
   "metadata": {},
   "outputs": [],
   "source": [
    "# Class- collection of objects having same properties"
   ]
  },
  {
   "cell_type": "code",
   "execution_count": 7,
   "id": "e138091b",
   "metadata": {},
   "outputs": [],
   "source": [
    "# Abstraction- Revealing only essential details and hiding\n",
    "    # implementation details"
   ]
  },
  {
   "cell_type": "code",
   "execution_count": 8,
   "id": "01338729",
   "metadata": {},
   "outputs": [],
   "source": [
    "# Encapsulation- wrapping of data and operations into single unit-\"class\""
   ]
  },
  {
   "cell_type": "code",
   "execution_count": 9,
   "id": "c6cf7f45",
   "metadata": {},
   "outputs": [],
   "source": [
    "# Inheritance- inheriting properties from parent to child class"
   ]
  },
  {
   "cell_type": "code",
   "execution_count": 13,
   "id": "fa8fd86a",
   "metadata": {},
   "outputs": [],
   "source": [
    "# Polymorphism- \"many forms\" overriding"
   ]
  },
  {
   "cell_type": "markdown",
   "id": "5d253e9d",
   "metadata": {},
   "source": [
    "##### syntax for classes and objects"
   ]
  },
  {
   "cell_type": "code",
   "execution_count": 14,
   "id": "6d24f6f5",
   "metadata": {},
   "outputs": [],
   "source": [
    "#class <name>:\n",
    "    # block of code\n",
    "    # data- variables & constants with values\n",
    "    # operations- functions to maniupulate data and perform task"
   ]
  },
  {
   "cell_type": "code",
   "execution_count": 17,
   "id": "2eedf443",
   "metadata": {},
   "outputs": [],
   "source": [
    "class Student:\n",
    "    name=''\n",
    "    roll=0\n",
    "    course=''\n",
    "        \n",
    "    def enroll():\n",
    "        pass\n",
    "    def promote():\n",
    "        pass\n",
    "    def detain():\n",
    "        pass\n",
    "    def rustication():\n",
    "        pass\n",
    "    def send_notification():\n",
    "        pass\n",
    "    def register_incident():\n",
    "        pass"
   ]
  },
  {
   "cell_type": "code",
   "execution_count": 18,
   "id": "be651fa5",
   "metadata": {},
   "outputs": [],
   "source": [
    "# creating objects"
   ]
  },
  {
   "cell_type": "code",
   "execution_count": 19,
   "id": "a1893057",
   "metadata": {},
   "outputs": [],
   "source": [
    "arun=Student()"
   ]
  },
  {
   "cell_type": "code",
   "execution_count": 22,
   "id": "1a2346ed",
   "metadata": {},
   "outputs": [
    {
     "data": {
      "text/plain": [
       "__main__.Student"
      ]
     },
     "execution_count": 22,
     "metadata": {},
     "output_type": "execute_result"
    }
   ],
   "source": [
    "type(arun) # user defined data type"
   ]
  },
  {
   "cell_type": "code",
   "execution_count": 23,
   "id": "814b4707",
   "metadata": {},
   "outputs": [],
   "source": [
    "ritwik=Student()"
   ]
  },
  {
   "cell_type": "markdown",
   "id": "cafb9775",
   "metadata": {},
   "source": [
    "##### Constructor"
   ]
  },
  {
   "cell_type": "code",
   "execution_count": 26,
   "id": "25eff2e5",
   "metadata": {},
   "outputs": [],
   "source": [
    "# special class function\n",
    "# to create and initialize the class objects\n",
    "# invoked automatically whenever we create any object\n",
    "# __init__()\n",
    "# this function always returns None"
   ]
  },
  {
   "cell_type": "code",
   "execution_count": null,
   "id": "83f4167c",
   "metadata": {},
   "outputs": [],
   "source": [
    "# self- self referencing argument\n",
    "# points to calling object\n",
    "# alias to calling object"
   ]
  },
  {
   "cell_type": "code",
   "execution_count": 32,
   "id": "81471191",
   "metadata": {},
   "outputs": [],
   "source": [
    "class Student:\n",
    "    def __init__(self, name, course, rollno, duration):\n",
    "        self.name=name\n",
    "        self.course=course\n",
    "        self.rollno=rollno\n",
    "        self.duration=duration\n",
    "        return None\n",
    "    def display_info(self):\n",
    "        print(f'Name : {self.name}')\n",
    "        print(f'Course : {self.course}')\n",
    "        print(f'Roll No : {self.rollno}')\n",
    "        print(f'Duration : {self.duration}')\n",
    "        return None"
   ]
  },
  {
   "cell_type": "code",
   "execution_count": 33,
   "id": "d3d852ee",
   "metadata": {},
   "outputs": [],
   "source": [
    "arun=Student('Arun Kumar','JAVA',101,6)"
   ]
  },
  {
   "cell_type": "code",
   "execution_count": 34,
   "id": "e4506f5c",
   "metadata": {},
   "outputs": [],
   "source": [
    "ritwik=Student('Ritwik','Python',102,4)"
   ]
  },
  {
   "cell_type": "code",
   "execution_count": 35,
   "id": "56c67fdb",
   "metadata": {},
   "outputs": [
    {
     "data": {
      "text/plain": [
       "'Arun Kumar'"
      ]
     },
     "execution_count": 35,
     "metadata": {},
     "output_type": "execute_result"
    }
   ],
   "source": [
    "arun.name"
   ]
  },
  {
   "cell_type": "code",
   "execution_count": 37,
   "id": "f614d34f",
   "metadata": {},
   "outputs": [
    {
     "data": {
      "text/plain": [
       "6"
      ]
     },
     "execution_count": 37,
     "metadata": {},
     "output_type": "execute_result"
    }
   ],
   "source": [
    "arun.duration"
   ]
  },
  {
   "cell_type": "code",
   "execution_count": 40,
   "id": "19539753",
   "metadata": {},
   "outputs": [
    {
     "name": "stdout",
     "output_type": "stream",
     "text": [
      "Name : Arun Kumar\n",
      "Course : JAVA\n",
      "Roll No : 101\n",
      "Duration : 6\n"
     ]
    }
   ],
   "source": [
    "arun.display_info() # Abstraction"
   ]
  },
  {
   "cell_type": "code",
   "execution_count": 39,
   "id": "00111605",
   "metadata": {},
   "outputs": [
    {
     "name": "stdout",
     "output_type": "stream",
     "text": [
      "Name : Ritwik\n",
      "Course : Python\n",
      "Roll No : 102\n",
      "Duration : 4\n"
     ]
    }
   ],
   "source": [
    "ritwik.display_info()"
   ]
  },
  {
   "cell_type": "code",
   "execution_count": 41,
   "id": "74532b30",
   "metadata": {},
   "outputs": [],
   "source": [
    "# Destructor"
   ]
  },
  {
   "cell_type": "code",
   "execution_count": 59,
   "id": "df8f6502",
   "metadata": {},
   "outputs": [],
   "source": [
    "class Student:\n",
    "    def __init__(self, name, course, rollno, duration):\n",
    "        self.name=name\n",
    "        self.course=course\n",
    "        self.rollno=rollno\n",
    "        self.duration=duration\n",
    "        return None\n",
    "    def display_info(self):\n",
    "        print(f'Name : {self.name}')\n",
    "        print(f'Course : {self.course}')\n",
    "        print(f'Roll No : {self.rollno}')\n",
    "        print(f'Duration : {self.duration}')\n",
    "        return None\n",
    "    def __del__(self):\n",
    "        print('Object Deleted!')"
   ]
  },
  {
   "cell_type": "code",
   "execution_count": 60,
   "id": "4d9384ed",
   "metadata": {},
   "outputs": [],
   "source": [
    "obj1=Student('Prateek','Python',103,4)"
   ]
  },
  {
   "cell_type": "code",
   "execution_count": 61,
   "id": "b6653882",
   "metadata": {},
   "outputs": [
    {
     "name": "stdout",
     "output_type": "stream",
     "text": [
      "Name : Prateek\n",
      "Course : Python\n",
      "Roll No : 103\n",
      "Duration : 4\n"
     ]
    }
   ],
   "source": [
    "obj1.display_info()"
   ]
  },
  {
   "cell_type": "code",
   "execution_count": 62,
   "id": "c736b923",
   "metadata": {},
   "outputs": [
    {
     "name": "stdout",
     "output_type": "stream",
     "text": [
      "Object Deleted!\n"
     ]
    }
   ],
   "source": [
    "del obj1"
   ]
  },
  {
   "cell_type": "code",
   "execution_count": 63,
   "id": "f09b50a3",
   "metadata": {},
   "outputs": [],
   "source": [
    "def getclass():\n",
    "    obj2=Student('Prateek','Python',103,4)\n",
    "    obj2.display_info()\n",
    "    return None"
   ]
  },
  {
   "cell_type": "code",
   "execution_count": 64,
   "id": "d82c175a",
   "metadata": {
    "scrolled": true
   },
   "outputs": [
    {
     "name": "stdout",
     "output_type": "stream",
     "text": [
      "Name : Prateek\n",
      "Course : Python\n",
      "Roll No : 103\n",
      "Duration : 4\n",
      "Object Deleted!\n"
     ]
    }
   ],
   "source": [
    "getclass()"
   ]
  },
  {
   "cell_type": "code",
   "execution_count": 81,
   "id": "1eca1f89",
   "metadata": {},
   "outputs": [],
   "source": [
    "# Write a OOP code to implement following functionalities for Student\n",
    "# 1. Enroll student\n",
    "# 2. Display student info\n",
    "# 3. Update student details like course\n",
    "# 4. Calculate fees for student based on fixed monthly charge and duration\n",
    "class Student:\n",
    "    def __init__(self, name, course, rollno, duration):\n",
    "        self.name=name\n",
    "        self.course=course\n",
    "        self.rollno=rollno\n",
    "        self.duration=duration\n",
    "        self.fees=0\n",
    "        return None\n",
    "    def display_info(self):\n",
    "        print(f'Name : {self.name}')\n",
    "        print(f'Course : {self.course}')\n",
    "        print(f'Roll No : {self.rollno}')\n",
    "        print(f'Duration : {self.duration}')\n",
    "        print(f'Fees : {self.fees}')\n",
    "        return None\n",
    "    def calculate_fees(self):\n",
    "        per_month=1000\n",
    "        self.fees=self.duration*per_month\n",
    "        return None\n",
    "    def update_course(self, new_course, new_duration):\n",
    "        self.course=new_course\n",
    "        self.duration=new_duration\n",
    "        self.calculate_fees()\n",
    "        return None\n",
    "    def __del__(self):\n",
    "        print('Object Deleted!')"
   ]
  },
  {
   "cell_type": "code",
   "execution_count": 82,
   "id": "ac84b2e9",
   "metadata": {},
   "outputs": [
    {
     "name": "stdout",
     "output_type": "stream",
     "text": [
      "Object Deleted!\n"
     ]
    }
   ],
   "source": [
    "obj=Student('Prateek','JAVA',102,6)"
   ]
  },
  {
   "cell_type": "code",
   "execution_count": 83,
   "id": "61739ae8",
   "metadata": {},
   "outputs": [
    {
     "name": "stdout",
     "output_type": "stream",
     "text": [
      "Name : Prateek\n",
      "Course : JAVA\n",
      "Roll No : 102\n",
      "Duration : 6\n",
      "Fees : 0\n"
     ]
    }
   ],
   "source": [
    "obj.display_info()"
   ]
  },
  {
   "cell_type": "code",
   "execution_count": 84,
   "id": "a028ffb4",
   "metadata": {},
   "outputs": [],
   "source": [
    "obj.calculate_fees()"
   ]
  },
  {
   "cell_type": "code",
   "execution_count": 85,
   "id": "00e85ca6",
   "metadata": {},
   "outputs": [
    {
     "name": "stdout",
     "output_type": "stream",
     "text": [
      "Name : Prateek\n",
      "Course : JAVA\n",
      "Roll No : 102\n",
      "Duration : 6\n",
      "Fees : 6000\n"
     ]
    }
   ],
   "source": [
    "obj.display_info()"
   ]
  },
  {
   "cell_type": "code",
   "execution_count": 86,
   "id": "cd029d99",
   "metadata": {},
   "outputs": [],
   "source": [
    "obj.update_course('Python',4)"
   ]
  },
  {
   "cell_type": "code",
   "execution_count": 87,
   "id": "1af7ef41",
   "metadata": {},
   "outputs": [
    {
     "name": "stdout",
     "output_type": "stream",
     "text": [
      "Name : Prateek\n",
      "Course : Python\n",
      "Roll No : 102\n",
      "Duration : 4\n",
      "Fees : 4000\n"
     ]
    }
   ],
   "source": [
    "obj.display_info()"
   ]
  },
  {
   "cell_type": "code",
   "execution_count": 88,
   "id": "8553d278",
   "metadata": {},
   "outputs": [
    {
     "name": "stdout",
     "output_type": "stream",
     "text": [
      "Name : Prateek\n",
      "Course : PHP\n",
      "Roll No : 102\n",
      "Duration : 2\n",
      "Fees : 2000\n"
     ]
    }
   ],
   "source": [
    "obj.update_course('PHP',2)\n",
    "obj.display_info()"
   ]
  },
  {
   "cell_type": "code",
   "execution_count": 93,
   "id": "b5098b16",
   "metadata": {},
   "outputs": [],
   "source": [
    "class Student:\n",
    "    college='Deloitte University'\n",
    "    def __init__(self, name, roll):\n",
    "        self.name=name\n",
    "        self.roll=roll\n",
    "    def display(self):\n",
    "        print(f'Name: {self.name}')\n",
    "        print(f'Roll No: {self.roll}')\n",
    "        print(f'College: {self.college}')"
   ]
  },
  {
   "cell_type": "code",
   "execution_count": 94,
   "id": "6d1f4d0c",
   "metadata": {},
   "outputs": [],
   "source": [
    "obj=Student('Prateek',1011)"
   ]
  },
  {
   "cell_type": "code",
   "execution_count": 95,
   "id": "7c373f04",
   "metadata": {},
   "outputs": [
    {
     "name": "stdout",
     "output_type": "stream",
     "text": [
      "Name: Prateek\n",
      "Roll No: 1011\n",
      "College: Deloitte University\n"
     ]
    }
   ],
   "source": [
    "obj.display()"
   ]
  },
  {
   "cell_type": "code",
   "execution_count": 96,
   "id": "c1d0b9ea",
   "metadata": {},
   "outputs": [],
   "source": [
    "obj2=Student('Aditi',1002)"
   ]
  },
  {
   "cell_type": "code",
   "execution_count": 97,
   "id": "40cd75d8",
   "metadata": {},
   "outputs": [
    {
     "name": "stdout",
     "output_type": "stream",
     "text": [
      "Name: Aditi\n",
      "Roll No: 1002\n",
      "College: Deloitte University\n"
     ]
    }
   ],
   "source": [
    "obj2.display()"
   ]
  },
  {
   "cell_type": "code",
   "execution_count": 98,
   "id": "196b778f",
   "metadata": {},
   "outputs": [],
   "source": [
    "class Student:\n",
    "    college='Deloitte University'\n",
    "    def __init__(self, name, roll):\n",
    "        self.name=name\n",
    "        self.roll=roll\n",
    "    def display(self):\n",
    "        print(f'Name: {self.name}')\n",
    "        print(f'Roll No: {self.roll}')\n",
    "        print(f'College: {self.college}')\n",
    "    def display(self):\n",
    "        print('This is dummy function')"
   ]
  },
  {
   "cell_type": "code",
   "execution_count": 99,
   "id": "5d08a688",
   "metadata": {},
   "outputs": [],
   "source": [
    "obj=Student('Amit',1003)"
   ]
  },
  {
   "cell_type": "code",
   "execution_count": 100,
   "id": "fa67417e",
   "metadata": {},
   "outputs": [
    {
     "name": "stdout",
     "output_type": "stream",
     "text": [
      "This is dummy function\n"
     ]
    }
   ],
   "source": [
    "obj.display()"
   ]
  },
  {
   "cell_type": "markdown",
   "id": "09bbf5cc",
   "metadata": {},
   "source": [
    "#### Inheritance"
   ]
  },
  {
   "cell_type": "code",
   "execution_count": 102,
   "id": "c047fbcd",
   "metadata": {},
   "outputs": [],
   "source": [
    "class A:      # class A is parent class\n",
    "    pass\n",
    "class B(A):   # class B is child class # inheritance\n",
    "    pass"
   ]
  },
  {
   "cell_type": "code",
   "execution_count": 103,
   "id": "38c661eb",
   "metadata": {},
   "outputs": [],
   "source": [
    "# Types:\n",
    "    # Single\n",
    "    # Multilevel\n",
    "    # Multiple\n",
    "    # Hierarchical\n",
    "    # Hybrid"
   ]
  },
  {
   "cell_type": "code",
   "execution_count": 104,
   "id": "f17c6958",
   "metadata": {},
   "outputs": [],
   "source": [
    "# Single Inheritance"
   ]
  },
  {
   "cell_type": "code",
   "execution_count": 114,
   "id": "dc13949b",
   "metadata": {},
   "outputs": [],
   "source": [
    "class A:\n",
    "    def __init__(self, x):\n",
    "        self.x=x\n",
    "    def displayx(self):\n",
    "        print('X= ',self.x)\n",
    "\n",
    "class B(A):\n",
    "    def __init__(self, x, y):\n",
    "        A.__init__(self, x)\n",
    "        self.y=y\n",
    "    def displayy(self):\n",
    "        A.displayx(self)\n",
    "        print('Y= ',self.y)"
   ]
  },
  {
   "cell_type": "code",
   "execution_count": 117,
   "id": "9898ea75",
   "metadata": {},
   "outputs": [],
   "source": [
    "a=A(20)\n",
    "b=B(100, 30)"
   ]
  },
  {
   "cell_type": "code",
   "execution_count": 118,
   "id": "075bb3a9",
   "metadata": {},
   "outputs": [
    {
     "data": {
      "text/plain": [
       "20"
      ]
     },
     "execution_count": 118,
     "metadata": {},
     "output_type": "execute_result"
    }
   ],
   "source": [
    "a.x"
   ]
  },
  {
   "cell_type": "code",
   "execution_count": 119,
   "id": "3868ee14",
   "metadata": {},
   "outputs": [
    {
     "name": "stdout",
     "output_type": "stream",
     "text": [
      "X=  20\n"
     ]
    }
   ],
   "source": [
    "a.displayx()"
   ]
  },
  {
   "cell_type": "code",
   "execution_count": 120,
   "id": "5eb8763f",
   "metadata": {},
   "outputs": [
    {
     "data": {
      "text/plain": [
       "30"
      ]
     },
     "execution_count": 120,
     "metadata": {},
     "output_type": "execute_result"
    }
   ],
   "source": [
    "b.y"
   ]
  },
  {
   "cell_type": "code",
   "execution_count": 121,
   "id": "fc223b6b",
   "metadata": {},
   "outputs": [
    {
     "name": "stdout",
     "output_type": "stream",
     "text": [
      "X=  100\n",
      "Y=  30\n"
     ]
    }
   ],
   "source": [
    "b.displayy()"
   ]
  },
  {
   "cell_type": "code",
   "execution_count": 122,
   "id": "85d471bd",
   "metadata": {},
   "outputs": [
    {
     "data": {
      "text/plain": [
       "100"
      ]
     },
     "execution_count": 122,
     "metadata": {},
     "output_type": "execute_result"
    }
   ],
   "source": [
    "b.x"
   ]
  },
  {
   "cell_type": "code",
   "execution_count": 125,
   "id": "c6143a26",
   "metadata": {},
   "outputs": [],
   "source": [
    "class A:\n",
    "    def __init__(self, x):\n",
    "        self.x=x\n",
    "    def displayx(self):\n",
    "        print('X= ',self.x)\n",
    "\n",
    "class B(A):\n",
    "    def __init__(self, x, y):\n",
    "        super().__init__(x)\n",
    "        self.y=y\n",
    "    def displayy(self):\n",
    "        super().displayx()\n",
    "        print('Y= ',self.y)"
   ]
  },
  {
   "cell_type": "code",
   "execution_count": 126,
   "id": "aad7c4fc",
   "metadata": {},
   "outputs": [],
   "source": [
    "b=B(100,30)"
   ]
  },
  {
   "cell_type": "code",
   "execution_count": 127,
   "id": "452974ed",
   "metadata": {},
   "outputs": [
    {
     "name": "stdout",
     "output_type": "stream",
     "text": [
      "X=  100\n",
      "Y=  30\n"
     ]
    }
   ],
   "source": [
    "b.displayy()"
   ]
  },
  {
   "cell_type": "code",
   "execution_count": 128,
   "id": "2750de4e",
   "metadata": {},
   "outputs": [],
   "source": [
    "# Multilevel Inheritance\n",
    "class A:\n",
    "    pass\n",
    "class B(A):\n",
    "    pass\n",
    "class C(B):\n",
    "    pass"
   ]
  },
  {
   "cell_type": "code",
   "execution_count": 138,
   "id": "36d6cf01",
   "metadata": {},
   "outputs": [],
   "source": [
    "class A:\n",
    "    def __init__(self, x):\n",
    "        self.x=x\n",
    "    def displayx(self):\n",
    "        print('X= ',self.x)\n",
    "class B(A):\n",
    "    def __init__(self, x, y):\n",
    "        super().__init__(x)\n",
    "        self.y=y\n",
    "    def displayy(self):\n",
    "        super().displayx()\n",
    "        print('Y= ',self.y)\n",
    "class C(B):\n",
    "    def __init__(self, x, y, z):\n",
    "        super().__init__(x, y)\n",
    "        self.z=z\n",
    "    def displayz(self):\n",
    "        super().displayy()\n",
    "        print('Z= ',self.z)"
   ]
  },
  {
   "cell_type": "code",
   "execution_count": 139,
   "id": "d1e20236",
   "metadata": {},
   "outputs": [],
   "source": [
    "c=C(10,20,30)"
   ]
  },
  {
   "cell_type": "code",
   "execution_count": 140,
   "id": "688b12e4",
   "metadata": {},
   "outputs": [
    {
     "name": "stdout",
     "output_type": "stream",
     "text": [
      "X=  10\n",
      "Y=  20\n",
      "Z=  30\n"
     ]
    }
   ],
   "source": [
    "c.displayz()"
   ]
  },
  {
   "cell_type": "code",
   "execution_count": 141,
   "id": "60de36dd",
   "metadata": {},
   "outputs": [],
   "source": [
    "# Hierarchical Inheritance"
   ]
  },
  {
   "cell_type": "code",
   "execution_count": 142,
   "id": "2566faf8",
   "metadata": {},
   "outputs": [],
   "source": [
    "class A:\n",
    "    pass\n",
    "class B(A):\n",
    "    pass\n",
    "class C(A):\n",
    "    pass"
   ]
  },
  {
   "cell_type": "code",
   "execution_count": 143,
   "id": "41662d6c",
   "metadata": {},
   "outputs": [],
   "source": [
    "class A:\n",
    "    def __init__(self, x):\n",
    "        self.x=x\n",
    "    def displayx(self):\n",
    "        print('X= ',self.x)\n",
    "class B(A):\n",
    "    def __init__(self, x, y):\n",
    "        A.__init__(self, x)\n",
    "        self.y=y\n",
    "    def displayy(self):\n",
    "        A.displayx(self)\n",
    "        print('Y= ',self.y)\n",
    "class C(A):\n",
    "    def __init__(self, x, z):\n",
    "        A.__init__(self, x)\n",
    "        self.z=z\n",
    "    def displayz(self):\n",
    "        A.displayx(self)\n",
    "        print('Z= ',self.z)"
   ]
  },
  {
   "cell_type": "code",
   "execution_count": 144,
   "id": "2811e8a7",
   "metadata": {},
   "outputs": [],
   "source": [
    "# CAR=> SEDAN\n",
    "# CAR=> SUV\n",
    "# CAR=> HATCHBACK"
   ]
  },
  {
   "cell_type": "code",
   "execution_count": 145,
   "id": "1ee3af76",
   "metadata": {},
   "outputs": [
    {
     "name": "stdout",
     "output_type": "stream",
     "text": [
      "X=  10\n",
      "Y=  20\n"
     ]
    }
   ],
   "source": [
    "b=B(10,20)\n",
    "b.displayy()"
   ]
  },
  {
   "cell_type": "code",
   "execution_count": 146,
   "id": "dd82ec11",
   "metadata": {},
   "outputs": [
    {
     "name": "stdout",
     "output_type": "stream",
     "text": [
      "X=  100\n",
      "Z=  200\n"
     ]
    }
   ],
   "source": [
    "c=C(100,200)\n",
    "c.displayz()"
   ]
  },
  {
   "cell_type": "code",
   "execution_count": 147,
   "id": "ea626844",
   "metadata": {},
   "outputs": [],
   "source": [
    "# Multiple Inheritance"
   ]
  },
  {
   "cell_type": "code",
   "execution_count": 148,
   "id": "661bc738",
   "metadata": {},
   "outputs": [],
   "source": [
    "class A:\n",
    "    pass\n",
    "class B:\n",
    "    pass\n",
    "class C(A, B):\n",
    "    pass"
   ]
  },
  {
   "cell_type": "code",
   "execution_count": 159,
   "id": "8a4c46a8",
   "metadata": {},
   "outputs": [],
   "source": [
    "class A:\n",
    "    def __init__(self, x):\n",
    "        self.x=x\n",
    "    def dispx(self):\n",
    "        print('X= ',self.x)\n",
    "class B:\n",
    "    def __init__(self, y):\n",
    "        self.y=y\n",
    "    def dispy(self):\n",
    "        print('Y= ',self.y)\n",
    "\n",
    "class C(A,B):\n",
    "    def __init__(self, x, y, z):\n",
    "        A.__init__(self, x)\n",
    "        B.__init__(self, y)\n",
    "        self.z=z\n",
    "    def dispz(self):\n",
    "        A.dispx(self)\n",
    "        B.dispy(self)\n",
    "        print('Z= ',self.z)"
   ]
  },
  {
   "cell_type": "code",
   "execution_count": 160,
   "id": "62a697d1",
   "metadata": {},
   "outputs": [
    {
     "name": "stdout",
     "output_type": "stream",
     "text": [
      "X=  10\n",
      "Y=  20\n",
      "Z=  40\n"
     ]
    }
   ],
   "source": [
    "c=C(10,20,40)\n",
    "c.dispz()"
   ]
  },
  {
   "cell_type": "code",
   "execution_count": 161,
   "id": "c6539cd0",
   "metadata": {},
   "outputs": [],
   "source": [
    "# Hybrid Inheritance"
   ]
  },
  {
   "cell_type": "code",
   "execution_count": null,
   "id": "ef096ca7",
   "metadata": {},
   "outputs": [],
   "source": []
  },
  {
   "cell_type": "markdown",
   "id": "3ea3d9bc",
   "metadata": {},
   "source": [
    "##### Method Overriding- Polymorphism"
   ]
  },
  {
   "cell_type": "code",
   "execution_count": 162,
   "id": "40c72688",
   "metadata": {},
   "outputs": [],
   "source": [
    "# A case where we have same method in parent as well as child class\n",
    "# same name, same signature\n",
    "# preference is given to child class method for execution\n",
    "# This is a runtime phenomenon\n"
   ]
  },
  {
   "cell_type": "code",
   "execution_count": 173,
   "id": "50fdeb23",
   "metadata": {},
   "outputs": [],
   "source": [
    "class A:\n",
    "    def hello(self):\n",
    "        print('hello A')\n",
    "class B(A):\n",
    "    def hello(self):\n",
    "        print('hello B')"
   ]
  },
  {
   "cell_type": "code",
   "execution_count": 174,
   "id": "9c43cc6e",
   "metadata": {},
   "outputs": [],
   "source": [
    "b=B()"
   ]
  },
  {
   "cell_type": "code",
   "execution_count": 175,
   "id": "7184dd08",
   "metadata": {},
   "outputs": [
    {
     "name": "stdout",
     "output_type": "stream",
     "text": [
      "hello B\n"
     ]
    }
   ],
   "source": [
    "b.hello() # function overriding"
   ]
  },
  {
   "cell_type": "code",
   "execution_count": 178,
   "id": "ae07531f",
   "metadata": {},
   "outputs": [
    {
     "name": "stdout",
     "output_type": "stream",
     "text": [
      "hello B\n"
     ]
    }
   ],
   "source": [
    "b.hello()"
   ]
  },
  {
   "cell_type": "code",
   "execution_count": 177,
   "id": "6a7a00db",
   "metadata": {},
   "outputs": [
    {
     "name": "stdout",
     "output_type": "stream",
     "text": [
      "hello A\n"
     ]
    }
   ],
   "source": [
    "a=A()\n",
    "a.hello()"
   ]
  },
  {
   "cell_type": "markdown",
   "id": "6216c07c",
   "metadata": {},
   "source": [
    "#### Special / Dundar Functions"
   ]
  },
  {
   "cell_type": "code",
   "execution_count": 179,
   "id": "455370a2",
   "metadata": {},
   "outputs": [],
   "source": [
    "class myclass:\n",
    "    def __init__(self, x):\n",
    "        self.x=x"
   ]
  },
  {
   "cell_type": "code",
   "execution_count": 180,
   "id": "61034951",
   "metadata": {},
   "outputs": [],
   "source": [
    "a1=myclass(40)"
   ]
  },
  {
   "cell_type": "code",
   "execution_count": 181,
   "id": "b4673e6d",
   "metadata": {},
   "outputs": [],
   "source": [
    "a2=myclass(60)"
   ]
  },
  {
   "cell_type": "code",
   "execution_count": 182,
   "id": "aa9a0d0c",
   "metadata": {},
   "outputs": [
    {
     "ename": "TypeError",
     "evalue": "unsupported operand type(s) for +: 'myclass' and 'myclass'",
     "output_type": "error",
     "traceback": [
      "\u001b[1;31m---------------------------------------------------------------------------\u001b[0m",
      "\u001b[1;31mTypeError\u001b[0m                                 Traceback (most recent call last)",
      "Input \u001b[1;32mIn [182]\u001b[0m, in \u001b[0;36m<cell line: 1>\u001b[1;34m()\u001b[0m\n\u001b[1;32m----> 1\u001b[0m \u001b[38;5;28mprint\u001b[39m(\u001b[43ma1\u001b[49m\u001b[38;5;241;43m+\u001b[39;49m\u001b[43ma2\u001b[49m)\n",
      "\u001b[1;31mTypeError\u001b[0m: unsupported operand type(s) for +: 'myclass' and 'myclass'"
     ]
    }
   ],
   "source": [
    "print(a1+a2)"
   ]
  },
  {
   "cell_type": "code",
   "execution_count": 213,
   "id": "858b393b",
   "metadata": {},
   "outputs": [],
   "source": [
    "class myclass:\n",
    "    def __init__(self, x):\n",
    "        self.x=x\n",
    "    def __add__(self, obj):\n",
    "        return self.x+obj.x\n",
    "    def __sub__(self, obj):\n",
    "        return self.x-obj.x\n",
    "    def __mul__(self, obj):\n",
    "        return self.x*obj.x\n",
    "    def __truediv__(self, obj):\n",
    "        return self.x/obj.x\n",
    "    def __floordiv__(self, obj):\n",
    "        return self.x//obj.x\n",
    "    def __str__(self):\n",
    "        return \"String Representation\"\n",
    "    def __repr__(self):\n",
    "        return 'Object Representation'\n",
    "    def __lt__(self, obj):\n",
    "        return self.x<obj.x\n",
    "    def __gt__(self, obj):\n",
    "        return self.x>obj.x\n",
    "    def __le__(self, obj):\n",
    "        return self.x<=obj.x\n",
    "    def __ge__(self, obj):\n",
    "        return self.x>=obj.x\n",
    "    def __eq__(self, obj):\n",
    "        return self.x==obj.x"
   ]
  },
  {
   "cell_type": "code",
   "execution_count": 214,
   "id": "74dc281c",
   "metadata": {},
   "outputs": [],
   "source": [
    "a1=myclass(40)\n",
    "a2=myclass(60)"
   ]
  },
  {
   "cell_type": "code",
   "execution_count": 215,
   "id": "b90476fc",
   "metadata": {},
   "outputs": [
    {
     "name": "stdout",
     "output_type": "stream",
     "text": [
      "100\n"
     ]
    }
   ],
   "source": [
    "print(a1+a2)"
   ]
  },
  {
   "cell_type": "code",
   "execution_count": 216,
   "id": "35b59bb1",
   "metadata": {},
   "outputs": [
    {
     "data": {
      "text/plain": [
       "-20"
      ]
     },
     "execution_count": 216,
     "metadata": {},
     "output_type": "execute_result"
    }
   ],
   "source": [
    "a1-a2"
   ]
  },
  {
   "cell_type": "code",
   "execution_count": 217,
   "id": "e6009756",
   "metadata": {},
   "outputs": [
    {
     "data": {
      "text/plain": [
       "2400"
      ]
     },
     "execution_count": 217,
     "metadata": {},
     "output_type": "execute_result"
    }
   ],
   "source": [
    "a1*a2"
   ]
  },
  {
   "cell_type": "code",
   "execution_count": 218,
   "id": "11547551",
   "metadata": {},
   "outputs": [
    {
     "data": {
      "text/plain": [
       "0.6666666666666666"
      ]
     },
     "execution_count": 218,
     "metadata": {},
     "output_type": "execute_result"
    }
   ],
   "source": [
    "a1/a2"
   ]
  },
  {
   "cell_type": "code",
   "execution_count": 219,
   "id": "87717cca",
   "metadata": {},
   "outputs": [
    {
     "data": {
      "text/plain": [
       "0"
      ]
     },
     "execution_count": 219,
     "metadata": {},
     "output_type": "execute_result"
    }
   ],
   "source": [
    "a1//a2"
   ]
  },
  {
   "cell_type": "code",
   "execution_count": 220,
   "id": "ce0e27e6",
   "metadata": {},
   "outputs": [
    {
     "data": {
      "text/plain": [
       "'String Representation'"
      ]
     },
     "execution_count": 220,
     "metadata": {},
     "output_type": "execute_result"
    }
   ],
   "source": [
    "str(a1)"
   ]
  },
  {
   "cell_type": "code",
   "execution_count": 221,
   "id": "ddc1f7cb",
   "metadata": {},
   "outputs": [
    {
     "data": {
      "text/plain": [
       "'Object Representation'"
      ]
     },
     "execution_count": 221,
     "metadata": {},
     "output_type": "execute_result"
    }
   ],
   "source": [
    "repr(a2)"
   ]
  },
  {
   "cell_type": "code",
   "execution_count": 222,
   "id": "0fd2f242",
   "metadata": {},
   "outputs": [
    {
     "data": {
      "text/plain": [
       "True"
      ]
     },
     "execution_count": 222,
     "metadata": {},
     "output_type": "execute_result"
    }
   ],
   "source": [
    "a1<a2"
   ]
  },
  {
   "cell_type": "code",
   "execution_count": 223,
   "id": "04829276",
   "metadata": {},
   "outputs": [
    {
     "data": {
      "text/plain": [
       "True"
      ]
     },
     "execution_count": 223,
     "metadata": {},
     "output_type": "execute_result"
    }
   ],
   "source": [
    "a1<=a2"
   ]
  },
  {
   "cell_type": "code",
   "execution_count": 224,
   "id": "1943d5ac",
   "metadata": {},
   "outputs": [
    {
     "data": {
      "text/plain": [
       "False"
      ]
     },
     "execution_count": 224,
     "metadata": {},
     "output_type": "execute_result"
    }
   ],
   "source": [
    "a1>=a2"
   ]
  },
  {
   "cell_type": "code",
   "execution_count": 225,
   "id": "00886a50",
   "metadata": {},
   "outputs": [
    {
     "data": {
      "text/plain": [
       "False"
      ]
     },
     "execution_count": 225,
     "metadata": {},
     "output_type": "execute_result"
    }
   ],
   "source": [
    "a1>a2"
   ]
  },
  {
   "cell_type": "code",
   "execution_count": 226,
   "id": "34fdddda",
   "metadata": {},
   "outputs": [
    {
     "data": {
      "text/plain": [
       "False"
      ]
     },
     "execution_count": 226,
     "metadata": {},
     "output_type": "execute_result"
    }
   ],
   "source": [
    "a1==a2"
   ]
  },
  {
   "cell_type": "code",
   "execution_count": null,
   "id": "018534ca",
   "metadata": {},
   "outputs": [],
   "source": []
  }
 ],
 "metadata": {
  "kernelspec": {
   "display_name": "Python 3 (ipykernel)",
   "language": "python",
   "name": "python3"
  },
  "language_info": {
   "codemirror_mode": {
    "name": "ipython",
    "version": 3
   },
   "file_extension": ".py",
   "mimetype": "text/x-python",
   "name": "python",
   "nbconvert_exporter": "python",
   "pygments_lexer": "ipython3",
   "version": "3.9.12"
  }
 },
 "nbformat": 4,
 "nbformat_minor": 5
}
