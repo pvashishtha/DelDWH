{
 "cells": [
  {
   "cell_type": "markdown",
   "id": "e5601e2a",
   "metadata": {},
   "source": [
    "## Python Advance Day 2"
   ]
  },
  {
   "cell_type": "markdown",
   "id": "ff311219",
   "metadata": {},
   "source": [
    "#### OOP Examples"
   ]
  },
  {
   "cell_type": "code",
   "execution_count": 26,
   "id": "38b66a45",
   "metadata": {},
   "outputs": [],
   "source": [
    "class Employee:\n",
    "    fullname=None\n",
    "    department=None\n",
    "    eid=None\n",
    "    designation=None\n",
    "    leave=None\n",
    "    date=None\n",
    "    \n",
    "    def __init__(self, fullname, dept, eid, dsg):\n",
    "        self.fullname=fullname\n",
    "        self.department=dept\n",
    "        self.eid=eid\n",
    "        self.designation=dsg\n",
    "        self.leave=0\n",
    "        self.date=''\n",
    "        return None\n",
    "    def show_basic_info(self):\n",
    "        data=f'''\n",
    "        Emp ID: {self.eid}\n",
    "        Full Name: {self.fullname}\n",
    "        Department: {self.department}\n",
    "        Designation: {self.designation}\n",
    "        PL/CL: {self.leave}\n",
    "        Next PL/CL Date={self.date}'''\n",
    "        print(data)\n",
    "    def apply_leave(self):\n",
    "        self.date=input()\n",
    "        print('Leave Applied for: ', self.date)\n",
    "        \n",
    "class Manager(Employee):\n",
    "    team_size=None\n",
    "    project_title=None\n",
    "    def __init__(self, fname, dept, eid, dsg, ts, pt):\n",
    "        Employee.__init__(self, fname, dept, eid, dsg)\n",
    "        self.team_size=ts\n",
    "        self.project_title=pt\n",
    "        return None\n",
    "    def show_basic_info(self):\n",
    "        Employee.show_basic_info(self)\n",
    "        data=f'''\n",
    "        Team Size: {self.team_size}\n",
    "        Project: {self.project_title}'''\n",
    "        print(data)\n",
    "    def approve_leave(self, obj):\n",
    "        obj.leave+=1"
   ]
  },
  {
   "cell_type": "code",
   "execution_count": 37,
   "id": "3d650ade",
   "metadata": {},
   "outputs": [
    {
     "name": "stdout",
     "output_type": "stream",
     "text": [
      "\n",
      "        Emp ID: 1022\n",
      "        Full Name: Prateek V\n",
      "        Department: DTA\n",
      "        Designation: Trainee\n",
      "        PL/CL: 0\n",
      "        Next PL/CL Date=\n"
     ]
    }
   ],
   "source": [
    "emp=Employee('Prateek V', 'DTA', 1022, 'Trainee')\n",
    "emp.show_basic_info()"
   ]
  },
  {
   "cell_type": "code",
   "execution_count": 38,
   "id": "38a8e3a7",
   "metadata": {},
   "outputs": [],
   "source": [
    "mgr=Manager('Sachin','Tax',1034,'Exec Manager', 12, 'ABC Corp.')"
   ]
  },
  {
   "cell_type": "code",
   "execution_count": 39,
   "id": "cd895663",
   "metadata": {},
   "outputs": [
    {
     "name": "stdout",
     "output_type": "stream",
     "text": [
      "\n",
      "        Emp ID: 1034\n",
      "        Full Name: Sachin\n",
      "        Department: Tax\n",
      "        Designation: Exec Manager\n",
      "        PL/CL: 0\n",
      "        Next PL/CL Date=\n",
      "\n",
      "        Team Size: 12\n",
      "        Project: ABC Corp.\n"
     ]
    }
   ],
   "source": [
    "mgr.show_basic_info()"
   ]
  },
  {
   "cell_type": "code",
   "execution_count": 40,
   "id": "c061ab90",
   "metadata": {},
   "outputs": [
    {
     "name": "stdout",
     "output_type": "stream",
     "text": [
      "10-Oct-23\n",
      "Leave Applied for:  10-Oct-23\n"
     ]
    }
   ],
   "source": [
    "emp.apply_leave()"
   ]
  },
  {
   "cell_type": "code",
   "execution_count": 42,
   "id": "d7273cc6",
   "metadata": {},
   "outputs": [],
   "source": [
    "mgr.approve_leave(emp)"
   ]
  },
  {
   "cell_type": "code",
   "execution_count": 43,
   "id": "299d545c",
   "metadata": {},
   "outputs": [
    {
     "name": "stdout",
     "output_type": "stream",
     "text": [
      "\n",
      "        Emp ID: 1022\n",
      "        Full Name: Prateek V\n",
      "        Department: DTA\n",
      "        Designation: Trainee\n",
      "        PL/CL: 1\n",
      "        Next PL/CL Date=10-Oct-23\n"
     ]
    }
   ],
   "source": [
    "emp.show_basic_info()"
   ]
  },
  {
   "cell_type": "code",
   "execution_count": null,
   "id": "52f591de",
   "metadata": {},
   "outputs": [],
   "source": []
  },
  {
   "cell_type": "code",
   "execution_count": 44,
   "id": "21df149f",
   "metadata": {},
   "outputs": [
    {
     "name": "stdout",
     "output_type": "stream",
     "text": [
      "10-Nov-23\n",
      "Leave Applied for:  10-Nov-23\n"
     ]
    }
   ],
   "source": [
    "emp.apply_leave()"
   ]
  },
  {
   "cell_type": "code",
   "execution_count": 46,
   "id": "15790005",
   "metadata": {},
   "outputs": [],
   "source": [
    "mgr.approve_leave(emp)"
   ]
  },
  {
   "cell_type": "code",
   "execution_count": 47,
   "id": "51f93a21",
   "metadata": {},
   "outputs": [
    {
     "name": "stdout",
     "output_type": "stream",
     "text": [
      "\n",
      "        Emp ID: 1022\n",
      "        Full Name: Prateek V\n",
      "        Department: DTA\n",
      "        Designation: Trainee\n",
      "        PL/CL: 2\n",
      "        Next PL/CL Date=10-Nov-23\n"
     ]
    }
   ],
   "source": [
    "emp.show_basic_info()"
   ]
  },
  {
   "cell_type": "markdown",
   "id": "d81003c3",
   "metadata": {},
   "source": [
    "#### Access Modifiers"
   ]
  },
  {
   "cell_type": "code",
   "execution_count": 49,
   "id": "56733cf2",
   "metadata": {},
   "outputs": [],
   "source": [
    "# Public Member- Accesible anywhere by object and inheritance\n",
    "# Protected Member- Accesibleby object and only in inherited class\n",
    "# Private Member- Not accesible outside class by object or inheritance"
   ]
  },
  {
   "cell_type": "code",
   "execution_count": 61,
   "id": "92d5fbf5",
   "metadata": {},
   "outputs": [],
   "source": [
    "# public members\n",
    "class Parent:\n",
    "    var1=None\n",
    "    def __init__(self, var1):\n",
    "        self.var1=var1\n",
    "    def show(self):\n",
    "        print(f'Var1: {self.var1}')\n",
    "        \n",
    "class Child(Parent):\n",
    "    def __init__(self, var1):\n",
    "        Parent.__init__(self, var1)\n",
    "    def show_here(self):\n",
    "        self.var1+=20\n",
    "        Parent.show(self)"
   ]
  },
  {
   "cell_type": "code",
   "execution_count": 62,
   "id": "569904cd",
   "metadata": {},
   "outputs": [],
   "source": [
    "p=Parent(100)"
   ]
  },
  {
   "cell_type": "code",
   "execution_count": 63,
   "id": "acfc2819",
   "metadata": {},
   "outputs": [
    {
     "data": {
      "text/plain": [
       "100"
      ]
     },
     "execution_count": 63,
     "metadata": {},
     "output_type": "execute_result"
    }
   ],
   "source": [
    "p.var1"
   ]
  },
  {
   "cell_type": "code",
   "execution_count": 64,
   "id": "1ceb8c70",
   "metadata": {},
   "outputs": [
    {
     "name": "stdout",
     "output_type": "stream",
     "text": [
      "Var1: 100\n"
     ]
    }
   ],
   "source": [
    "p.show()"
   ]
  },
  {
   "cell_type": "code",
   "execution_count": 65,
   "id": "d3b5c998",
   "metadata": {},
   "outputs": [],
   "source": [
    "c=Child(200)"
   ]
  },
  {
   "cell_type": "code",
   "execution_count": 66,
   "id": "a061228c",
   "metadata": {},
   "outputs": [
    {
     "data": {
      "text/plain": [
       "200"
      ]
     },
     "execution_count": 66,
     "metadata": {},
     "output_type": "execute_result"
    }
   ],
   "source": [
    "c.var1"
   ]
  },
  {
   "cell_type": "code",
   "execution_count": 67,
   "id": "878ffa95",
   "metadata": {},
   "outputs": [
    {
     "name": "stdout",
     "output_type": "stream",
     "text": [
      "Var1: 200\n"
     ]
    }
   ],
   "source": [
    "c.show()"
   ]
  },
  {
   "cell_type": "code",
   "execution_count": 70,
   "id": "c568f5be",
   "metadata": {},
   "outputs": [
    {
     "name": "stdout",
     "output_type": "stream",
     "text": [
      "Var1: 260\n"
     ]
    }
   ],
   "source": [
    "c.show_here()"
   ]
  },
  {
   "cell_type": "code",
   "execution_count": 71,
   "id": "0d62115f",
   "metadata": {},
   "outputs": [],
   "source": [
    "# Protected members- Name starts with '_' (underscore) symbol\n",
    "class Parent:\n",
    "    _var1=None\n",
    "    def __init__(self, var1):\n",
    "        self._var1=var1\n",
    "    def _show(self):\n",
    "        print(f'Var1: {self._var1}')\n",
    "        \n",
    "class Child(Parent):\n",
    "    def __init__(self, var1):\n",
    "        Parent.__init__(self, var1)\n",
    "    def show_here(self):\n",
    "        self._var1+=20\n",
    "        Parent._show(self)"
   ]
  },
  {
   "cell_type": "code",
   "execution_count": 72,
   "id": "96400362",
   "metadata": {},
   "outputs": [
    {
     "data": {
      "text/plain": [
       "50"
      ]
     },
     "execution_count": 72,
     "metadata": {},
     "output_type": "execute_result"
    }
   ],
   "source": [
    "p=Parent(50)\n",
    "p._var1"
   ]
  },
  {
   "cell_type": "code",
   "execution_count": 73,
   "id": "bc47659b",
   "metadata": {},
   "outputs": [
    {
     "name": "stdout",
     "output_type": "stream",
     "text": [
      "Var1: 50\n"
     ]
    }
   ],
   "source": [
    "p._show()"
   ]
  },
  {
   "cell_type": "code",
   "execution_count": 74,
   "id": "af0ec369",
   "metadata": {},
   "outputs": [
    {
     "data": {
      "text/plain": [
       "80"
      ]
     },
     "execution_count": 74,
     "metadata": {},
     "output_type": "execute_result"
    }
   ],
   "source": [
    "c=Child(80)\n",
    "c._var1"
   ]
  },
  {
   "cell_type": "code",
   "execution_count": 75,
   "id": "0b1c6e1e",
   "metadata": {},
   "outputs": [
    {
     "name": "stdout",
     "output_type": "stream",
     "text": [
      "Var1: 80\n"
     ]
    }
   ],
   "source": [
    "c._show()"
   ]
  },
  {
   "cell_type": "code",
   "execution_count": 76,
   "id": "9e721bb7",
   "metadata": {},
   "outputs": [
    {
     "name": "stdout",
     "output_type": "stream",
     "text": [
      "Var1: 100\n"
     ]
    }
   ],
   "source": [
    "c.show_here()"
   ]
  },
  {
   "cell_type": "code",
   "execution_count": 93,
   "id": "d56133aa",
   "metadata": {},
   "outputs": [],
   "source": [
    "# Private members- not be called outside, nor inherited\n",
    "# Use '__' (double underscore)\n",
    "    \n",
    "class Parent:\n",
    "    __var1=None\n",
    "    def __init__(self, var1):\n",
    "        self.__var1=var1\n",
    "    def __show(self):\n",
    "        print(f'Var1: {self.__var1}')\n",
    "    def access_member(self):\n",
    "        self.__show()\n",
    "        \n",
    "class Child(Parent):\n",
    "    def __init__(self, var1):\n",
    "        Parent.__init__(self, var1)\n",
    "    def show_here(self):\n",
    "        self.__var1+=20\n",
    "        Parent.__show(self)"
   ]
  },
  {
   "cell_type": "code",
   "execution_count": 94,
   "id": "5be2d2a7",
   "metadata": {},
   "outputs": [
    {
     "ename": "AttributeError",
     "evalue": "'Parent' object has no attribute '__var1'",
     "output_type": "error",
     "traceback": [
      "\u001b[1;31m---------------------------------------------------------------------------\u001b[0m",
      "\u001b[1;31mAttributeError\u001b[0m                            Traceback (most recent call last)",
      "Input \u001b[1;32mIn [94]\u001b[0m, in \u001b[0;36m<cell line: 2>\u001b[1;34m()\u001b[0m\n\u001b[0;32m      1\u001b[0m p\u001b[38;5;241m=\u001b[39mParent(\u001b[38;5;241m400\u001b[39m)\n\u001b[1;32m----> 2\u001b[0m \u001b[43mp\u001b[49m\u001b[38;5;241;43m.\u001b[39;49m\u001b[43m__var1\u001b[49m\n",
      "\u001b[1;31mAttributeError\u001b[0m: 'Parent' object has no attribute '__var1'"
     ]
    }
   ],
   "source": [
    "p=Parent(400)\n",
    "p.__var1"
   ]
  },
  {
   "cell_type": "code",
   "execution_count": 95,
   "id": "4cd809fb",
   "metadata": {},
   "outputs": [
    {
     "ename": "AttributeError",
     "evalue": "'Parent' object has no attribute '__show'",
     "output_type": "error",
     "traceback": [
      "\u001b[1;31m---------------------------------------------------------------------------\u001b[0m",
      "\u001b[1;31mAttributeError\u001b[0m                            Traceback (most recent call last)",
      "Input \u001b[1;32mIn [95]\u001b[0m, in \u001b[0;36m<cell line: 1>\u001b[1;34m()\u001b[0m\n\u001b[1;32m----> 1\u001b[0m \u001b[43mp\u001b[49m\u001b[38;5;241;43m.\u001b[39;49m\u001b[43m__show\u001b[49m()\n",
      "\u001b[1;31mAttributeError\u001b[0m: 'Parent' object has no attribute '__show'"
     ]
    }
   ],
   "source": [
    "p.__show()"
   ]
  },
  {
   "cell_type": "code",
   "execution_count": 96,
   "id": "88f4dd02",
   "metadata": {},
   "outputs": [
    {
     "ename": "AttributeError",
     "evalue": "'Child' object has no attribute '__var1'",
     "output_type": "error",
     "traceback": [
      "\u001b[1;31m---------------------------------------------------------------------------\u001b[0m",
      "\u001b[1;31mAttributeError\u001b[0m                            Traceback (most recent call last)",
      "Input \u001b[1;32mIn [96]\u001b[0m, in \u001b[0;36m<cell line: 2>\u001b[1;34m()\u001b[0m\n\u001b[0;32m      1\u001b[0m c\u001b[38;5;241m=\u001b[39mChild(\u001b[38;5;241m500\u001b[39m)\n\u001b[1;32m----> 2\u001b[0m \u001b[43mc\u001b[49m\u001b[38;5;241;43m.\u001b[39;49m\u001b[43m__var1\u001b[49m\n",
      "\u001b[1;31mAttributeError\u001b[0m: 'Child' object has no attribute '__var1'"
     ]
    }
   ],
   "source": [
    "c=Child(500)\n",
    "c.__var1"
   ]
  },
  {
   "cell_type": "code",
   "execution_count": 97,
   "id": "a066712a",
   "metadata": {},
   "outputs": [
    {
     "ename": "AttributeError",
     "evalue": "'Child' object has no attribute '__show'",
     "output_type": "error",
     "traceback": [
      "\u001b[1;31m---------------------------------------------------------------------------\u001b[0m",
      "\u001b[1;31mAttributeError\u001b[0m                            Traceback (most recent call last)",
      "Input \u001b[1;32mIn [97]\u001b[0m, in \u001b[0;36m<cell line: 1>\u001b[1;34m()\u001b[0m\n\u001b[1;32m----> 1\u001b[0m \u001b[43mc\u001b[49m\u001b[38;5;241;43m.\u001b[39;49m\u001b[43m__show\u001b[49m()\n",
      "\u001b[1;31mAttributeError\u001b[0m: 'Child' object has no attribute '__show'"
     ]
    }
   ],
   "source": [
    "c.__show()"
   ]
  },
  {
   "cell_type": "code",
   "execution_count": 98,
   "id": "cf008986",
   "metadata": {},
   "outputs": [
    {
     "ename": "AttributeError",
     "evalue": "'Child' object has no attribute '_Child__var1'",
     "output_type": "error",
     "traceback": [
      "\u001b[1;31m---------------------------------------------------------------------------\u001b[0m",
      "\u001b[1;31mAttributeError\u001b[0m                            Traceback (most recent call last)",
      "Input \u001b[1;32mIn [98]\u001b[0m, in \u001b[0;36m<cell line: 1>\u001b[1;34m()\u001b[0m\n\u001b[1;32m----> 1\u001b[0m \u001b[43mc\u001b[49m\u001b[38;5;241;43m.\u001b[39;49m\u001b[43mshow_here\u001b[49m\u001b[43m(\u001b[49m\u001b[43m)\u001b[49m\n",
      "Input \u001b[1;32mIn [93]\u001b[0m, in \u001b[0;36mChild.show_here\u001b[1;34m(self)\u001b[0m\n\u001b[0;32m     15\u001b[0m \u001b[38;5;28;01mdef\u001b[39;00m \u001b[38;5;21mshow_here\u001b[39m(\u001b[38;5;28mself\u001b[39m):\n\u001b[1;32m---> 16\u001b[0m     \u001b[38;5;28mself\u001b[39m\u001b[38;5;241m.\u001b[39m__var1\u001b[38;5;241m+\u001b[39m\u001b[38;5;241m=\u001b[39m\u001b[38;5;241m20\u001b[39m\n\u001b[0;32m     17\u001b[0m     Parent\u001b[38;5;241m.\u001b[39m__show(\u001b[38;5;28mself\u001b[39m)\n",
      "\u001b[1;31mAttributeError\u001b[0m: 'Child' object has no attribute '_Child__var1'"
     ]
    }
   ],
   "source": [
    "c.show_here()"
   ]
  },
  {
   "cell_type": "code",
   "execution_count": 99,
   "id": "d3e451b4",
   "metadata": {},
   "outputs": [
    {
     "name": "stdout",
     "output_type": "stream",
     "text": [
      "Var1: 400\n"
     ]
    }
   ],
   "source": [
    "p.access_member()"
   ]
  },
  {
   "cell_type": "markdown",
   "id": "bd05ca25",
   "metadata": {},
   "source": [
    "### Working with MySQL Database"
   ]
  },
  {
   "cell_type": "code",
   "execution_count": 101,
   "id": "232e0e73",
   "metadata": {},
   "outputs": [
    {
     "name": "stdout",
     "output_type": "stream",
     "text": [
      "Requirement already satisfied: mysql-connector-python in c:\\users\\pvashishtha\\anaconda3\\lib\\site-packages (8.0.31)\n",
      "Requirement already satisfied: protobuf<=3.20.1,>=3.11.0 in c:\\users\\pvashishtha\\anaconda3\\lib\\site-packages (from mysql-connector-python) (3.19.1)\n"
     ]
    }
   ],
   "source": [
    "! pip install mysql-connector-python"
   ]
  },
  {
   "cell_type": "code",
   "execution_count": 102,
   "id": "0468eeaa",
   "metadata": {},
   "outputs": [],
   "source": [
    "import mysql.connector"
   ]
  },
  {
   "cell_type": "code",
   "execution_count": 103,
   "id": "d462a12a",
   "metadata": {},
   "outputs": [],
   "source": [
    "# create connection parameters\n",
    "host='localhost'\n",
    "user='root'\n",
    "password=''\n",
    "port=3390\n",
    "database='employee'"
   ]
  },
  {
   "cell_type": "code",
   "execution_count": 104,
   "id": "e67f0045",
   "metadata": {},
   "outputs": [
    {
     "name": "stdout",
     "output_type": "stream",
     "text": [
      "<mysql.connector.connection_cext.CMySQLConnection object at 0x000001A9A9E00940>\n"
     ]
    }
   ],
   "source": [
    "# establish connection\n",
    "try:\n",
    "    conn=mysql.connector.connect(host=host,\n",
    "                                user=user,\n",
    "                                password=password,\n",
    "                                port=port,\n",
    "                                database=database)\n",
    "    print(conn)\n",
    "except:\n",
    "    print('Connection could not be created!')"
   ]
  },
  {
   "cell_type": "code",
   "execution_count": 105,
   "id": "d895c65d",
   "metadata": {},
   "outputs": [
    {
     "name": "stdout",
     "output_type": "stream",
     "text": [
      "CMySQLCursor: (Nothing executed yet)\n"
     ]
    }
   ],
   "source": [
    "# create a Cursor object\n",
    "try:\n",
    "    cur=conn.cursor()\n",
    "    print(cur)\n",
    "except:\n",
    "    print('Cursor not created')"
   ]
  },
  {
   "cell_type": "code",
   "execution_count": 106,
   "id": "ae8616f2",
   "metadata": {},
   "outputs": [],
   "source": [
    "# READING DATABASE\n",
    "sql='select * from emp where eid=101'\n",
    "cur.execute(sql)"
   ]
  },
  {
   "cell_type": "code",
   "execution_count": 108,
   "id": "633ded2f",
   "metadata": {},
   "outputs": [],
   "source": [
    "result=cur.fetchone()"
   ]
  },
  {
   "cell_type": "code",
   "execution_count": 109,
   "id": "5bee7954",
   "metadata": {},
   "outputs": [
    {
     "name": "stdout",
     "output_type": "stream",
     "text": [
      "(101, 'Prateek', 'Vashishtha', 'Meerut', 90, 24000.0, datetime.date(2022, 7, 11))\n"
     ]
    }
   ],
   "source": [
    "print(result)"
   ]
  },
  {
   "cell_type": "code",
   "execution_count": 110,
   "id": "1a0f8ffe",
   "metadata": {},
   "outputs": [
    {
     "name": "stdout",
     "output_type": "stream",
     "text": [
      "====================\n",
      "EID: 101\n",
      "FIRST NAME: Prateek\n",
      "LAST NAME: Vashishtha\n",
      "CITY: Meerut\n",
      "DEPT: 90\n",
      "SALARY: 24000.0\n",
      "DOJ: 2022-07-11\n",
      "====================\n"
     ]
    }
   ],
   "source": [
    "print('====================')\n",
    "print(f'EID: {result[0]}')\n",
    "print(f'FIRST NAME: {result[1]}')\n",
    "print(f'LAST NAME: {result[2]}')\n",
    "print(f'CITY: {result[3]}')\n",
    "print(f'DEPT: {result[4]}')\n",
    "print(f'SALARY: {result[5]}')\n",
    "print(f'DOJ: {result[6]}')\n",
    "print('====================')"
   ]
  },
  {
   "cell_type": "code",
   "execution_count": 111,
   "id": "e2697b12",
   "metadata": {},
   "outputs": [],
   "source": [
    "# READING MULTIPLE RECORDS\n",
    "sql='select * from emp'\n",
    "cur.execute(sql)"
   ]
  },
  {
   "cell_type": "code",
   "execution_count": 118,
   "id": "4cda8534",
   "metadata": {},
   "outputs": [],
   "source": [
    "result=cur.fetchone()"
   ]
  },
  {
   "cell_type": "code",
   "execution_count": 119,
   "id": "a0061dc5",
   "metadata": {
    "collapsed": true
   },
   "outputs": [
    {
     "name": "stdout",
     "output_type": "stream",
     "text": [
      "====================\n"
     ]
    },
    {
     "ename": "TypeError",
     "evalue": "'NoneType' object is not subscriptable",
     "output_type": "error",
     "traceback": [
      "\u001b[1;31m---------------------------------------------------------------------------\u001b[0m",
      "\u001b[1;31mTypeError\u001b[0m                                 Traceback (most recent call last)",
      "Input \u001b[1;32mIn [119]\u001b[0m, in \u001b[0;36m<cell line: 2>\u001b[1;34m()\u001b[0m\n\u001b[0;32m      1\u001b[0m \u001b[38;5;28mprint\u001b[39m(\u001b[38;5;124m'\u001b[39m\u001b[38;5;124m====================\u001b[39m\u001b[38;5;124m'\u001b[39m)\n\u001b[1;32m----> 2\u001b[0m \u001b[38;5;28mprint\u001b[39m(\u001b[38;5;124mf\u001b[39m\u001b[38;5;124m'\u001b[39m\u001b[38;5;124mEID: \u001b[39m\u001b[38;5;132;01m{\u001b[39;00mresult[\u001b[38;5;241m0\u001b[39m]\u001b[38;5;132;01m}\u001b[39;00m\u001b[38;5;124m'\u001b[39m)\n\u001b[0;32m      3\u001b[0m \u001b[38;5;28mprint\u001b[39m(\u001b[38;5;124mf\u001b[39m\u001b[38;5;124m'\u001b[39m\u001b[38;5;124mFIRST NAME: \u001b[39m\u001b[38;5;132;01m{\u001b[39;00mresult[\u001b[38;5;241m1\u001b[39m]\u001b[38;5;132;01m}\u001b[39;00m\u001b[38;5;124m'\u001b[39m)\n\u001b[0;32m      4\u001b[0m \u001b[38;5;28mprint\u001b[39m(\u001b[38;5;124mf\u001b[39m\u001b[38;5;124m'\u001b[39m\u001b[38;5;124mLAST NAME: \u001b[39m\u001b[38;5;132;01m{\u001b[39;00mresult[\u001b[38;5;241m2\u001b[39m]\u001b[38;5;132;01m}\u001b[39;00m\u001b[38;5;124m'\u001b[39m)\n",
      "\u001b[1;31mTypeError\u001b[0m: 'NoneType' object is not subscriptable"
     ]
    }
   ],
   "source": [
    "print('====================')\n",
    "print(f'EID: {result[0]}')\n",
    "print(f'FIRST NAME: {result[1]}')\n",
    "print(f'LAST NAME: {result[2]}')\n",
    "print(f'CITY: {result[3]}')\n",
    "print(f'DEPT: {result[4]}')\n",
    "print(f'SALARY: {result[5]}')\n",
    "print(f'DOJ: {result[6]}')\n",
    "print('====================')"
   ]
  },
  {
   "cell_type": "code",
   "execution_count": 120,
   "id": "49c994b8",
   "metadata": {},
   "outputs": [],
   "source": [
    "# FETCHING ALL DATA AT ONCE\n",
    "sql='select * from emp'\n",
    "cur.execute(sql)\n",
    "result=cur.fetchall()"
   ]
  },
  {
   "cell_type": "code",
   "execution_count": 121,
   "id": "dca4465a",
   "metadata": {
    "collapsed": true
   },
   "outputs": [
    {
     "data": {
      "text/plain": [
       "[(101,\n",
       "  'Prateek',\n",
       "  'Vashishtha',\n",
       "  'Meerut',\n",
       "  90,\n",
       "  24000.0,\n",
       "  datetime.date(2022, 7, 11)),\n",
       " (102, 'Simant', 'Setu', 'Ranchi', 90, 25000.0, datetime.date(2022, 9, 25)),\n",
       " (103, 'Amit', 'Kumar', 'Mumbai', 93, 12000.0, datetime.date(2023, 1, 15))]"
      ]
     },
     "execution_count": 121,
     "metadata": {},
     "output_type": "execute_result"
    }
   ],
   "source": [
    "result"
   ]
  },
  {
   "cell_type": "code",
   "execution_count": 122,
   "id": "ee285dbc",
   "metadata": {},
   "outputs": [
    {
     "name": "stdout",
     "output_type": "stream",
     "text": [
      "====================\n",
      "EID: 101\n",
      "FIRST NAME: Prateek\n",
      "LAST NAME: Vashishtha\n",
      "CITY: Meerut\n",
      "DEPT: 90\n",
      "SALARY: 24000.0\n",
      "DOJ: 2022-07-11\n",
      "====================\n",
      "====================\n",
      "EID: 102\n",
      "FIRST NAME: Simant\n",
      "LAST NAME: Setu\n",
      "CITY: Ranchi\n",
      "DEPT: 90\n",
      "SALARY: 25000.0\n",
      "DOJ: 2022-09-25\n",
      "====================\n",
      "====================\n",
      "EID: 103\n",
      "FIRST NAME: Amit\n",
      "LAST NAME: Kumar\n",
      "CITY: Mumbai\n",
      "DEPT: 93\n",
      "SALARY: 12000.0\n",
      "DOJ: 2023-01-15\n",
      "====================\n"
     ]
    }
   ],
   "source": [
    "for record in result:\n",
    "    print('====================')\n",
    "    print(f'EID: {record[0]}')\n",
    "    print(f'FIRST NAME: {record[1]}')\n",
    "    print(f'LAST NAME: {record[2]}')\n",
    "    print(f'CITY: {record[3]}')\n",
    "    print(f'DEPT: {record[4]}')\n",
    "    print(f'SALARY: {record[5]}')\n",
    "    print(f'DOJ: {record[6]}')\n",
    "    print('====================')"
   ]
  },
  {
   "cell_type": "code",
   "execution_count": 123,
   "id": "6615a4d2",
   "metadata": {},
   "outputs": [],
   "source": [
    "# INSERT INTO DATABASE\n",
    "sql='insert into emp values(104, \"Sachin\", \"Goyal\", \"Jaipur\", 95, 18000, \"2023-09-10\")'\n",
    "cur.execute(sql)"
   ]
  },
  {
   "cell_type": "code",
   "execution_count": 125,
   "id": "b7d5234f",
   "metadata": {},
   "outputs": [],
   "source": [
    "conn.commit()"
   ]
  },
  {
   "cell_type": "code",
   "execution_count": 127,
   "id": "e3350fa5",
   "metadata": {},
   "outputs": [
    {
     "name": "stdout",
     "output_type": "stream",
     "text": [
      "enter EID: 107\n",
      "enter Fname: Aditi\n",
      "enter Lname: Agarwal\n",
      "enter City: Raipur\n",
      "enter Dept: 94\n",
      "enter Salary: 19000\n",
      "enter DOJ: 2023-09-16\n"
     ]
    }
   ],
   "source": [
    "eid=int(input('enter EID: '))\n",
    "fname=input('enter Fname: ')\n",
    "lname=input('enter Lname: ')\n",
    "city=input('enter City: ')\n",
    "dept=int(input('enter Dept: '))\n",
    "sal=float(input('enter Salary: '))\n",
    "doj=input('enter DOJ: ')"
   ]
  },
  {
   "cell_type": "code",
   "execution_count": 129,
   "id": "d6703a2d",
   "metadata": {},
   "outputs": [],
   "source": [
    "sql=f'insert into emp values({eid}, \"{fname}\", \"{lname}\", \"{city}\", {dept}, {sal}, \"{doj}\")'\n",
    "cur.execute(sql)\n",
    "conn.commit()"
   ]
  },
  {
   "cell_type": "code",
   "execution_count": 132,
   "id": "5b5cbdde",
   "metadata": {},
   "outputs": [],
   "source": [
    "# INSERT MULTIPLE RECORDS\n",
    "sql=f'insert into emp values(%s,%s,%s,%s,%s,%s,%s)'\n",
    "data=[\n",
    "    (108, \"Arun\", \"Kumar\", \"Aluva\", 90, 20000, \"2023-08-18\"),\n",
    "    (109, \"Harshit\", \"Tyagi\", \"Ghaziabad\", 92, 19000, \"2023-08-23\"),\n",
    "    (110, \"Krati\", \"Verma\", \"Badaun\", 91, 23000, \"2022-12-30\")\n",
    "]"
   ]
  },
  {
   "cell_type": "code",
   "execution_count": 133,
   "id": "a753ac2c",
   "metadata": {},
   "outputs": [],
   "source": [
    "cur.executemany(sql, data)\n",
    "conn.commit()"
   ]
  },
  {
   "cell_type": "code",
   "execution_count": 135,
   "id": "605d9581",
   "metadata": {},
   "outputs": [],
   "source": [
    "# update the city for EID=101 to Bengaluru\n",
    "sql='update emp set city=\"Bengaluru\" where eid=101'\n",
    "cur.execute(sql)\n",
    "conn.commit()"
   ]
  },
  {
   "cell_type": "code",
   "execution_count": 136,
   "id": "5013e6e1",
   "metadata": {},
   "outputs": [],
   "source": [
    "# Allowing 15% increment to all, update all salaries\n",
    "sql='update emp set salary=salary*1.15'\n",
    "cur.execute(sql)\n",
    "conn.commit()"
   ]
  },
  {
   "cell_type": "code",
   "execution_count": 137,
   "id": "11f0c394",
   "metadata": {},
   "outputs": [],
   "source": [
    "# Delete the record(s) which have salary less than 15000\n",
    "sql='delete from emp where salary<15000'\n",
    "cur.execute(sql)\n",
    "conn.commit()"
   ]
  },
  {
   "cell_type": "code",
   "execution_count": 138,
   "id": "ca58e027",
   "metadata": {},
   "outputs": [],
   "source": [
    "cur.close()\n",
    "conn.close()"
   ]
  },
  {
   "cell_type": "code",
   "execution_count": null,
   "id": "27f59238",
   "metadata": {},
   "outputs": [],
   "source": [
    "# Write an object oriented code to perform databaseoperations for Employee\n",
    "# Create a class Employee, work with emp database to perform\n",
    "# 1. Create new employee data\n",
    "# 2. Update employee details like city, department, etc\n",
    "# 3. Delete any employee data\n",
    "# 4. Show specific employee data\n",
    "# 5. Show all employee report\n",
    "# 6. Also, validate data before entering into database\n"
   ]
  },
  {
   "cell_type": "code",
   "execution_count": 160,
   "id": "0595a694",
   "metadata": {},
   "outputs": [],
   "source": [
    "class Employee:\n",
    "    def __init__(self, host, user, password, port, database):\n",
    "        import mysql.connector\n",
    "        self.host=host\n",
    "        self.user=user\n",
    "        self.password=password\n",
    "        self.port=port\n",
    "        self.database=database\n",
    "    def get_connection(self):\n",
    "        try:\n",
    "            self.conn=mysql.connector.connect(host=self.host,\n",
    "                                             user=self.user,\n",
    "                                             password=self.password,\n",
    "                                             port=self.port,\n",
    "                                             database=self.database)\n",
    "            self.cur=self.conn.cursor()\n",
    "        except:\n",
    "            print('Some error creating connection or cursor')\n",
    "            self.conn=None\n",
    "            self.cur=None\n",
    "    def validate_dept(self,dept):\n",
    "        if 90<=dept<=99:\n",
    "            return True\n",
    "        return False\n",
    "    def create_user(self, eid, fname, lname, city, dept, sal, doj):\n",
    "        sql=f'insert into emp values({eid},\"{fname}\",\"{lname}\",\"{city}\",{dept},{sal},\"{doj}\")'\n",
    "        if self.validate_dept(dept):\n",
    "            self.cur.execute(sql)\n",
    "            self.conn.commit()\n",
    "        else:\n",
    "            print('Department not allowed!')\n",
    "        print(f'{self.cur.rowcount} row(s) inserted!')\n",
    "    def delete_user(self, eid):\n",
    "        sql=f'delete from emp where eid={eid}'\n",
    "        self.cur.execute(sql)\n",
    "        self.conn.commit()\n",
    "        print(f'{self.cur.rowcount} row(s) deleted!')\n",
    "    def update_user_city(self, eid, city):\n",
    "        sql=f'update emp set city=\"{city}\" where eid={eid}'\n",
    "        self.cur.execute(sql)\n",
    "        self.conn.commit()\n",
    "        print(f'{self.cur.rowcount} row(s) updated!')\n",
    "    def show(self,result):\n",
    "        print(f'EID: {result[0]}')\n",
    "        print(f'FIRST NAME: {result[1]}')\n",
    "        print(f'LAST NAME: {result[2]}')\n",
    "        print(f'CITY: {result[3]}')\n",
    "        print(f'DEPT: {result[4]}')\n",
    "        print(f'SALARY: {result[5]}')\n",
    "        print(f'DOJ: {result[6]}')\n",
    "        print('====================')\n",
    "    def show_user(self, eid):\n",
    "        sql=f'select * from emp where eid={eid}'\n",
    "        self.cur.execute(sql)\n",
    "        result=self.cur.fetchone()\n",
    "        self.show(result)\n",
    "    def show_all_users(self):\n",
    "        sql=f'select * from emp'\n",
    "        self.cur.execute(sql)\n",
    "        result=self.cur.fetchall()\n",
    "        for row in result:\n",
    "            self.show(row)\n",
    "    def close_connection(self):\n",
    "        self.cur.close()\n",
    "        self.conn.close()\n",
    "        return True\n",
    "    def __del__(self):\n",
    "        return 'Object Deleted!'   "
   ]
  },
  {
   "cell_type": "code",
   "execution_count": 162,
   "id": "2282362c",
   "metadata": {},
   "outputs": [],
   "source": [
    "obj=Employee('localhost','root','',3390,'employee')"
   ]
  },
  {
   "cell_type": "code",
   "execution_count": 163,
   "id": "86e6cbb5",
   "metadata": {},
   "outputs": [],
   "source": [
    "obj.get_connection()"
   ]
  },
  {
   "cell_type": "code",
   "execution_count": 164,
   "id": "4ba84a69",
   "metadata": {},
   "outputs": [
    {
     "name": "stdout",
     "output_type": "stream",
     "text": [
      "1 row(s) inserted!\n"
     ]
    }
   ],
   "source": [
    "obj.create_user(111, 'Sumit','Agarwal','Delhi',99,28000,'2023-09-11')"
   ]
  },
  {
   "cell_type": "code",
   "execution_count": 165,
   "id": "f51d87c0",
   "metadata": {},
   "outputs": [
    {
     "name": "stdout",
     "output_type": "stream",
     "text": [
      "0 row(s) updated!\n"
     ]
    }
   ],
   "source": [
    "obj.update_user_city(102, 'Mumbai')"
   ]
  },
  {
   "cell_type": "code",
   "execution_count": 166,
   "id": "3b3c8664",
   "metadata": {},
   "outputs": [
    {
     "name": "stdout",
     "output_type": "stream",
     "text": [
      "0 row(s) deleted!\n"
     ]
    }
   ],
   "source": [
    "obj.delete_user(102)"
   ]
  },
  {
   "cell_type": "code",
   "execution_count": 167,
   "id": "89f364c6",
   "metadata": {},
   "outputs": [
    {
     "name": "stdout",
     "output_type": "stream",
     "text": [
      "EID: 101\n",
      "FIRST NAME: Prateek\n",
      "LAST NAME: Vashishtha\n",
      "CITY: Bengaluru\n",
      "DEPT: 90\n",
      "SALARY: 27600.0\n",
      "DOJ: 2022-07-11\n",
      "====================\n"
     ]
    }
   ],
   "source": [
    "obj.show_user(101)"
   ]
  },
  {
   "cell_type": "code",
   "execution_count": 168,
   "id": "1a50585b",
   "metadata": {},
   "outputs": [
    {
     "name": "stdout",
     "output_type": "stream",
     "text": [
      "EID: 101\n",
      "FIRST NAME: Prateek\n",
      "LAST NAME: Vashishtha\n",
      "CITY: Bengaluru\n",
      "DEPT: 90\n",
      "SALARY: 27600.0\n",
      "DOJ: 2022-07-11\n",
      "====================\n",
      "EID: 104\n",
      "FIRST NAME: Sachin\n",
      "LAST NAME: Goyal\n",
      "CITY: Jaipur\n",
      "DEPT: 95\n",
      "SALARY: 20700.0\n",
      "DOJ: 2023-09-10\n",
      "====================\n",
      "EID: 107\n",
      "FIRST NAME: Aditi\n",
      "LAST NAME: Agarwal\n",
      "CITY: Raipur\n",
      "DEPT: 94\n",
      "SALARY: 21850.0\n",
      "DOJ: 2023-09-16\n",
      "====================\n",
      "EID: 108\n",
      "FIRST NAME: Arun\n",
      "LAST NAME: Kumar\n",
      "CITY: Aluva\n",
      "DEPT: 90\n",
      "SALARY: 23000.0\n",
      "DOJ: 2023-08-18\n",
      "====================\n",
      "EID: 109\n",
      "FIRST NAME: Harshit\n",
      "LAST NAME: Tyagi\n",
      "CITY: Ghaziabad\n",
      "DEPT: 92\n",
      "SALARY: 21850.0\n",
      "DOJ: 2023-08-23\n",
      "====================\n",
      "EID: 110\n",
      "FIRST NAME: Krati\n",
      "LAST NAME: Verma\n",
      "CITY: Badaun\n",
      "DEPT: 91\n",
      "SALARY: 26450.0\n",
      "DOJ: 2022-12-30\n",
      "====================\n",
      "EID: 111\n",
      "FIRST NAME: Sumit\n",
      "LAST NAME: Agarwal\n",
      "CITY: Delhi\n",
      "DEPT: 99\n",
      "SALARY: 28000.0\n",
      "DOJ: 2023-09-11\n",
      "====================\n",
      "EID: 111\n",
      "FIRST NAME: Sumit\n",
      "LAST NAME: Agarwal\n",
      "CITY: Delhi\n",
      "DEPT: 99\n",
      "SALARY: 28000.0\n",
      "DOJ: 2023-09-11\n",
      "====================\n"
     ]
    }
   ],
   "source": [
    "obj.show_all_users()"
   ]
  },
  {
   "cell_type": "code",
   "execution_count": 169,
   "id": "387c668b",
   "metadata": {},
   "outputs": [
    {
     "data": {
      "text/plain": [
       "True"
      ]
     },
     "execution_count": 169,
     "metadata": {},
     "output_type": "execute_result"
    }
   ],
   "source": [
    "obj.close_connection()"
   ]
  },
  {
   "cell_type": "code",
   "execution_count": 170,
   "id": "cde0be74",
   "metadata": {},
   "outputs": [],
   "source": [
    "del obj"
   ]
  },
  {
   "cell_type": "markdown",
   "id": "8e60d43c",
   "metadata": {},
   "source": [
    "#### RegEx"
   ]
  },
  {
   "cell_type": "code",
   "execution_count": 172,
   "id": "7bca0f1f",
   "metadata": {},
   "outputs": [],
   "source": [
    "import re"
   ]
  },
  {
   "cell_type": "code",
   "execution_count": 173,
   "id": "5a0b3049",
   "metadata": {},
   "outputs": [
    {
     "name": "stdout",
     "output_type": "stream",
     "text": [
      "['A', 'ASCII', 'DEBUG', 'DOTALL', 'I', 'IGNORECASE', 'L', 'LOCALE', 'M', 'MULTILINE', 'Match', 'Pattern', 'RegexFlag', 'S', 'Scanner', 'T', 'TEMPLATE', 'U', 'UNICODE', 'VERBOSE', 'X', '_MAXCACHE', '__all__', '__builtins__', '__cached__', '__doc__', '__file__', '__loader__', '__name__', '__package__', '__spec__', '__version__', '_cache', '_compile', '_compile_repl', '_expand', '_locale', '_pickle', '_special_chars_map', '_subx', 'compile', 'copyreg', 'enum', 'error', 'escape', 'findall', 'finditer', 'fullmatch', 'functools', 'match', 'purge', 'search', 'split', 'sre_compile', 'sre_parse', 'sub', 'subn', 'template']\n"
     ]
    }
   ],
   "source": [
    "print(dir(re))"
   ]
  },
  {
   "cell_type": "markdown",
   "id": "84aeb8b6",
   "metadata": {},
   "source": [
    "#### Search()"
   ]
  },
  {
   "cell_type": "code",
   "execution_count": 174,
   "id": "77c38eff",
   "metadata": {},
   "outputs": [],
   "source": [
    "# re.search(pattern, string)- returns match object"
   ]
  },
  {
   "cell_type": "code",
   "execution_count": 179,
   "id": "f7e6f391",
   "metadata": {},
   "outputs": [
    {
     "name": "stdout",
     "output_type": "stream",
     "text": [
      "<re.Match object; span=(8, 9), match='.'>\n"
     ]
    }
   ],
   "source": [
    "s='deloitte.com'\n",
    "match=re.search('\\.', s)\n",
    "print(match)"
   ]
  },
  {
   "cell_type": "code",
   "execution_count": 180,
   "id": "7c9abc55",
   "metadata": {},
   "outputs": [
    {
     "name": "stdout",
     "output_type": "stream",
     "text": [
      "<re.Match object; span=(0, 2), match='te'>\n"
     ]
    }
   ],
   "source": [
    "s='tell deloitte'\n",
    "match=re.search(r'^te', s)\n",
    "print(match)"
   ]
  },
  {
   "cell_type": "code",
   "execution_count": 181,
   "id": "65844233",
   "metadata": {},
   "outputs": [
    {
     "name": "stdout",
     "output_type": "stream",
     "text": [
      "<re.Match object; span=(11, 13), match='te'>\n"
     ]
    }
   ],
   "source": [
    "s='tell deloitte'\n",
    "match=re.search(r'te$', s)\n",
    "print(match)"
   ]
  },
  {
   "cell_type": "code",
   "execution_count": 185,
   "id": "e1a905ef",
   "metadata": {},
   "outputs": [
    {
     "name": "stdout",
     "output_type": "stream",
     "text": [
      "<re.Match object; span=(19, 22), match='120'>\n"
     ]
    }
   ],
   "source": [
    "s='deloitte\"s project 120 is awesome'\n",
    "match=re.search('\\d{3}', s)\n",
    "print(match)"
   ]
  },
  {
   "cell_type": "code",
   "execution_count": 190,
   "id": "c1ce51a6",
   "metadata": {},
   "outputs": [
    {
     "name": "stdout",
     "output_type": "stream",
     "text": [
      "<re.Match object; span=(24, 34), match='9837777890'>\n"
     ]
    }
   ],
   "source": [
    "s='my mobile number is +91-9837777890'\n",
    "print(re.search('\\d{10}',s))"
   ]
  },
  {
   "cell_type": "code",
   "execution_count": 194,
   "id": "4d17d5b4",
   "metadata": {},
   "outputs": [
    {
     "name": "stdout",
     "output_type": "stream",
     "text": [
      "<re.Match object; span=(24, 34), match='9837777890'>\n"
     ]
    }
   ],
   "source": [
    "s='my mobile number is +91-9837777890'\n",
    "print(re.search('\\d+$',s))"
   ]
  },
  {
   "cell_type": "markdown",
   "id": "3ee7a194",
   "metadata": {},
   "source": [
    "#### findall()"
   ]
  },
  {
   "cell_type": "code",
   "execution_count": 197,
   "id": "b60bdd6b",
   "metadata": {},
   "outputs": [
    {
     "name": "stdout",
     "output_type": "stream",
     "text": [
      "['9808799900', '9837772567']\n"
     ]
    }
   ],
   "source": [
    "s='I have two mobiles, +91-9808799900 and +91-98377725678'\n",
    "print(re.findall(r'\\d{10}', s))"
   ]
  },
  {
   "cell_type": "code",
   "execution_count": 200,
   "id": "90a18064",
   "metadata": {},
   "outputs": [
    {
     "name": "stdout",
     "output_type": "stream",
     "text": [
      "['9808766699']\n"
     ]
    }
   ],
   "source": [
    "s='Alexa! kindly recharge my mobile +91-9808766699'\n",
    "print(re.findall(r'\\d{10}', s))"
   ]
  },
  {
   "cell_type": "code",
   "execution_count": 201,
   "id": "bb469338",
   "metadata": {},
   "outputs": [
    {
     "name": "stdout",
     "output_type": "stream",
     "text": [
      "['9', '1', '9', '8', '0', '8', '7', '6', '6', '6', '9', '9']\n"
     ]
    }
   ],
   "source": [
    "s='Alexa! kindly recharge my mobile +91-9808766699'\n",
    "print(re.findall(r'\\d', s))"
   ]
  },
  {
   "cell_type": "code",
   "execution_count": 202,
   "id": "961d88f3",
   "metadata": {},
   "outputs": [
    {
     "name": "stdout",
     "output_type": "stream",
     "text": [
      "['A', 'l', 'e', 'x', 'a', 'k', 'i', 'n', 'd', 'l', 'y', 'r', 'e', 'c', 'h', 'a', 'r', 'g', 'e', 'm', 'y', 'm', 'o', 'b', 'i', 'l', 'e', '9', '1', '9', '8', '0', '8', '7', '6', '6', '6', '9', '9']\n"
     ]
    }
   ],
   "source": [
    "s='Alexa! kindly recharge my mobile +91-9808766699'\n",
    "print(re.findall(r'\\w', s))"
   ]
  },
  {
   "cell_type": "code",
   "execution_count": 204,
   "id": "53c3ee5d",
   "metadata": {},
   "outputs": [
    {
     "name": "stdout",
     "output_type": "stream",
     "text": [
      "['Alexa', 'kindly', 'recharge', 'my', 'mobile', '91', '9808766699']\n"
     ]
    }
   ],
   "source": [
    "s='Alexa! kindly recharge my mobile +91-9808766699'\n",
    "print(re.findall(r'\\w+', s))"
   ]
  },
  {
   "cell_type": "code",
   "execution_count": 205,
   "id": "c7b61963",
   "metadata": {},
   "outputs": [
    {
     "name": "stdout",
     "output_type": "stream",
     "text": [
      "['!', ' ', ' ', ' ', ' ', ' ', '+', '-']\n"
     ]
    }
   ],
   "source": [
    "s='Alexa! kindly recharge my mobile +91-9808766699'\n",
    "print(re.findall(r'\\W', s))"
   ]
  },
  {
   "cell_type": "code",
   "execution_count": 206,
   "id": "3cb2fbce",
   "metadata": {},
   "outputs": [
    {
     "name": "stdout",
     "output_type": "stream",
     "text": [
      "[' ', ' ', ' ', ' ', ' ']\n"
     ]
    }
   ],
   "source": [
    "s='Alexa! kindly recharge my mobile +91-9808766699'\n",
    "print(re.findall(r'\\s', s))"
   ]
  },
  {
   "cell_type": "code",
   "execution_count": 207,
   "id": "5be6eeef",
   "metadata": {},
   "outputs": [
    {
     "name": "stdout",
     "output_type": "stream",
     "text": [
      "['A', 'l', 'e', 'x', 'a', '!', 'k', 'i', 'n', 'd', 'l', 'y', 'r', 'e', 'c', 'h', 'a', 'r', 'g', 'e', 'm', 'y', 'm', 'o', 'b', 'i', 'l', 'e', '+', '9', '1', '-', '9', '8', '0', '8', '7', '6', '6', '6', '9', '9']\n"
     ]
    }
   ],
   "source": [
    "s='Alexa! kindly recharge my mobile +91-9808766699'\n",
    "print(re.findall(r'\\S', s))"
   ]
  },
  {
   "cell_type": "code",
   "execution_count": 208,
   "id": "e01adf3e",
   "metadata": {},
   "outputs": [
    {
     "name": "stdout",
     "output_type": "stream",
     "text": [
      "['Alexa!', 'kindly', 'recharge', 'my', 'mobile', '+91-9808766699']\n"
     ]
    }
   ],
   "source": [
    "s='Alexa! kindly recharge my mobile +91-9808766699'\n",
    "print(re.findall(r'\\S+', s))"
   ]
  },
  {
   "cell_type": "markdown",
   "id": "31d6b053",
   "metadata": {},
   "source": [
    "#### Compile()"
   ]
  },
  {
   "cell_type": "code",
   "execution_count": 209,
   "id": "843e06ac",
   "metadata": {},
   "outputs": [],
   "source": [
    "pattern=re.compile(r'\\d{10}')"
   ]
  },
  {
   "cell_type": "code",
   "execution_count": 210,
   "id": "55afa528",
   "metadata": {},
   "outputs": [
    {
     "data": {
      "text/plain": [
       "<re.Match object; span=(10, 20), match='2974839830'>"
      ]
     },
     "execution_count": 210,
     "metadata": {},
     "output_type": "execute_result"
    }
   ],
   "source": [
    "re.search(pattern, 'my mobile 9808777788')\n",
    "re.search(pattern, 'my mobile 9887687123')\n",
    "re.search(pattern, 'my mobile 2974839830')"
   ]
  },
  {
   "cell_type": "code",
   "execution_count": 212,
   "id": "daaab887",
   "metadata": {},
   "outputs": [
    {
     "data": {
      "text/plain": [
       "['1234567890', '9876543210']"
      ]
     },
     "execution_count": 212,
     "metadata": {},
     "output_type": "execute_result"
    }
   ],
   "source": [
    "re.findall(pattern, '123456789000 and 9876543210 are numbers')"
   ]
  },
  {
   "cell_type": "code",
   "execution_count": 222,
   "id": "e170872c",
   "metadata": {},
   "outputs": [
    {
     "name": "stdout",
     "output_type": "stream",
     "text": [
      "Words:21\n",
      "Spaces:20\n",
      "Sp. Chars:5\n"
     ]
    }
   ],
   "source": [
    "# For a given string, find number of words, blank spaces and \n",
    "# special characters\n",
    "s='''I am good. how are you? do you know what is date today?\n",
    "I'm sure you know that date is 27.'''\n",
    "\n",
    "words=len(re.findall(r'\\S+',s))\n",
    "spaces=len(re.findall(r'\\s',s))\n",
    "spchars=len(re.findall(r'\\W',s))-spaces\n",
    "\n",
    "print(f'Words:{words}\\nSpaces:{spaces}\\nSp. Chars:{spchars}')"
   ]
  },
  {
   "cell_type": "markdown",
   "id": "8d734a2a",
   "metadata": {},
   "source": [
    "#### Split()"
   ]
  },
  {
   "cell_type": "code",
   "execution_count": 224,
   "id": "351fb4c7",
   "metadata": {},
   "outputs": [
    {
     "data": {
      "text/plain": [
       "['hello', 'how', 'are', 'you', '']"
      ]
     },
     "execution_count": 224,
     "metadata": {},
     "output_type": "execute_result"
    }
   ],
   "source": [
    "re.split(r'\\W+','hello, how are you?')"
   ]
  },
  {
   "cell_type": "code",
   "execution_count": 225,
   "id": "313f24a2",
   "metadata": {},
   "outputs": [
    {
     "data": {
      "text/plain": [
       "['hello,', 'how', 'are', 'you?']"
      ]
     },
     "execution_count": 225,
     "metadata": {},
     "output_type": "execute_result"
    }
   ],
   "source": [
    "re.split(r'\\s+','hello, how are you?')"
   ]
  },
  {
   "cell_type": "code",
   "execution_count": 226,
   "id": "d632ff4a",
   "metadata": {},
   "outputs": [
    {
     "data": {
      "text/plain": [
       "['192', '168', '19', '56']"
      ]
     },
     "execution_count": 226,
     "metadata": {},
     "output_type": "execute_result"
    }
   ],
   "source": [
    "re.split(r'\\.','192.168.19.56')"
   ]
  },
  {
   "cell_type": "markdown",
   "id": "3979e7a5",
   "metadata": {},
   "source": [
    "#### Sub()"
   ]
  },
  {
   "cell_type": "code",
   "execution_count": 227,
   "id": "b716df8c",
   "metadata": {},
   "outputs": [],
   "source": [
    "# sub(old_substr, new_substr, string, options)\n",
    "# substite old substr with new substr within string"
   ]
  },
  {
   "cell_type": "code",
   "execution_count": 228,
   "id": "272cfd0d",
   "metadata": {},
   "outputs": [],
   "source": [
    "s='I like to ride Uber cabs, Uber is better.'"
   ]
  },
  {
   "cell_type": "code",
   "execution_count": 231,
   "id": "1fdfd150",
   "metadata": {},
   "outputs": [
    {
     "name": "stdout",
     "output_type": "stream",
     "text": [
      "I like to ride Uber cabs, Uber is better.\n"
     ]
    }
   ],
   "source": [
    "print(re.sub('uber', 'ola', s))"
   ]
  },
  {
   "cell_type": "code",
   "execution_count": 232,
   "id": "3318ecc4",
   "metadata": {},
   "outputs": [
    {
     "name": "stdout",
     "output_type": "stream",
     "text": [
      "I like to ride ola cabs, ola is better.\n"
     ]
    }
   ],
   "source": [
    "print(re.sub('uber', 'ola', s, flags=re.IGNORECASE))"
   ]
  },
  {
   "cell_type": "code",
   "execution_count": 233,
   "id": "fab8c3ef",
   "metadata": {},
   "outputs": [
    {
     "name": "stdout",
     "output_type": "stream",
     "text": [
      "I like to ride ola cabs, Uber is better.\n"
     ]
    }
   ],
   "source": [
    "print(re.sub('uber', 'ola', s, flags=re.IGNORECASE, count=1))"
   ]
  },
  {
   "cell_type": "code",
   "execution_count": 234,
   "id": "2e68b2cd",
   "metadata": {},
   "outputs": [],
   "source": [
    "# searching through a match object"
   ]
  },
  {
   "cell_type": "code",
   "execution_count": 235,
   "id": "e976c728",
   "metadata": {},
   "outputs": [],
   "source": [
    "s='I am not available on 19 November'"
   ]
  },
  {
   "cell_type": "code",
   "execution_count": 236,
   "id": "3770953d",
   "metadata": {},
   "outputs": [],
   "source": [
    "pattern=re.compile(r'(\\d{2})(\\s)([A-Za-z]+)')\n",
    "match=re.search(pattern, s)"
   ]
  },
  {
   "cell_type": "code",
   "execution_count": 237,
   "id": "dc509573",
   "metadata": {},
   "outputs": [
    {
     "name": "stdout",
     "output_type": "stream",
     "text": [
      "<re.Match object; span=(22, 33), match='19 November'>\n"
     ]
    }
   ],
   "source": [
    "print(match)"
   ]
  },
  {
   "cell_type": "code",
   "execution_count": 238,
   "id": "a18b9143",
   "metadata": {},
   "outputs": [
    {
     "name": "stdout",
     "output_type": "stream",
     "text": [
      "22 to 33\n"
     ]
    }
   ],
   "source": [
    "print(match.start(), match.end(), sep=' to ')"
   ]
  },
  {
   "cell_type": "code",
   "execution_count": 240,
   "id": "2bc7f07c",
   "metadata": {},
   "outputs": [
    {
     "data": {
      "text/plain": [
       "'19 November'"
      ]
     },
     "execution_count": 240,
     "metadata": {},
     "output_type": "execute_result"
    }
   ],
   "source": [
    "s[match.start(): match.end()]"
   ]
  },
  {
   "cell_type": "code",
   "execution_count": 241,
   "id": "169c3592",
   "metadata": {},
   "outputs": [
    {
     "name": "stdout",
     "output_type": "stream",
     "text": [
      "19 November\n"
     ]
    }
   ],
   "source": [
    "print(match.group(0))"
   ]
  },
  {
   "cell_type": "code",
   "execution_count": 242,
   "id": "fac358e3",
   "metadata": {},
   "outputs": [
    {
     "name": "stdout",
     "output_type": "stream",
     "text": [
      "19\n"
     ]
    }
   ],
   "source": [
    "print(match.group(1))"
   ]
  },
  {
   "cell_type": "code",
   "execution_count": 243,
   "id": "5e2bae3d",
   "metadata": {},
   "outputs": [
    {
     "name": "stdout",
     "output_type": "stream",
     "text": [
      " \n"
     ]
    }
   ],
   "source": [
    "print(match.group(2))"
   ]
  },
  {
   "cell_type": "code",
   "execution_count": 246,
   "id": "d41bf315",
   "metadata": {},
   "outputs": [
    {
     "name": "stdout",
     "output_type": "stream",
     "text": [
      "November\n"
     ]
    }
   ],
   "source": [
    "print(match.group(3))"
   ]
  },
  {
   "cell_type": "code",
   "execution_count": 289,
   "id": "0799d180",
   "metadata": {},
   "outputs": [],
   "source": [
    "# find the email id & extract from the statement string.\n",
    "\n",
    "s='my email id is prateek_9090@deloitte.com you can text me details here.'"
   ]
  },
  {
   "cell_type": "code",
   "execution_count": 290,
   "id": "5f938721",
   "metadata": {},
   "outputs": [
    {
     "name": "stdout",
     "output_type": "stream",
     "text": [
      "<re.Match object; span=(15, 41), match='prateek_9090@deloitte.com '>\n"
     ]
    }
   ],
   "source": [
    "print(re.search(r'(\\w+)(@)([A-Za-z]+)(\\.)(\\w{2,3})\\s',s))"
   ]
  },
  {
   "cell_type": "markdown",
   "id": "76210b38",
   "metadata": {},
   "source": [
    "#### utility modules"
   ]
  },
  {
   "cell_type": "code",
   "execution_count": 291,
   "id": "34afc696",
   "metadata": {},
   "outputs": [],
   "source": [
    "from datetime import date"
   ]
  },
  {
   "cell_type": "code",
   "execution_count": 294,
   "id": "ef577db3",
   "metadata": {},
   "outputs": [
    {
     "name": "stdout",
     "output_type": "stream",
     "text": [
      "year: 2023\n",
      "month: 10\n",
      "day: 3\n"
     ]
    }
   ],
   "source": [
    "dt=date.today()\n",
    "print(f'year: {dt.year}')\n",
    "print(f'month: {dt.month}')\n",
    "print(f'day: {dt.day}')"
   ]
  },
  {
   "cell_type": "code",
   "execution_count": 295,
   "id": "9f505639",
   "metadata": {},
   "outputs": [],
   "source": [
    "from datetime import datetime"
   ]
  },
  {
   "cell_type": "code",
   "execution_count": 297,
   "id": "77c3d4fc",
   "metadata": {},
   "outputs": [
    {
     "data": {
      "text/plain": [
       "datetime.datetime(2023, 10, 3, 18, 4, 30, 960032)"
      ]
     },
     "execution_count": 297,
     "metadata": {},
     "output_type": "execute_result"
    }
   ],
   "source": [
    "datetime.now()"
   ]
  },
  {
   "cell_type": "code",
   "execution_count": 298,
   "id": "caf95e8c",
   "metadata": {},
   "outputs": [
    {
     "name": "stdout",
     "output_type": "stream",
     "text": [
      "year: 2023\n",
      "month: 10\n",
      "day: 3\n",
      "hour: 18\n",
      "minute: 5\n",
      "second: 34\n"
     ]
    }
   ],
   "source": [
    "dt=datetime.now()\n",
    "print(f'year: {dt.year}')\n",
    "print(f'month: {dt.month}')\n",
    "print(f'day: {dt.day}')\n",
    "print(f'hour: {dt.hour}')\n",
    "print(f'minute: {dt.minute}')\n",
    "print(f'second: {dt.second}')"
   ]
  },
  {
   "cell_type": "code",
   "execution_count": 299,
   "id": "1e434fb2",
   "metadata": {},
   "outputs": [
    {
     "data": {
      "text/plain": [
       "1696336565.588229"
      ]
     },
     "execution_count": 299,
     "metadata": {},
     "output_type": "execute_result"
    }
   ],
   "source": [
    "ts=datetime.now().timestamp()\n",
    "ts"
   ]
  },
  {
   "cell_type": "code",
   "execution_count": 300,
   "id": "8228fb4c",
   "metadata": {},
   "outputs": [],
   "source": [
    "from datetime import time"
   ]
  },
  {
   "cell_type": "code",
   "execution_count": 301,
   "id": "3bdde204",
   "metadata": {},
   "outputs": [
    {
     "data": {
      "text/plain": [
       "datetime.time(0, 0)"
      ]
     },
     "execution_count": 301,
     "metadata": {},
     "output_type": "execute_result"
    }
   ],
   "source": [
    "time()"
   ]
  },
  {
   "cell_type": "code",
   "execution_count": 302,
   "id": "0b555ac0",
   "metadata": {},
   "outputs": [
    {
     "data": {
      "text/plain": [
       "datetime.time(18, 30)"
      ]
     },
     "execution_count": 302,
     "metadata": {},
     "output_type": "execute_result"
    }
   ],
   "source": [
    "time(18,30,0)"
   ]
  },
  {
   "cell_type": "code",
   "execution_count": 303,
   "id": "24e895a1",
   "metadata": {},
   "outputs": [],
   "source": [
    "dt=datetime(2001,11,19,1,15,4)"
   ]
  },
  {
   "cell_type": "code",
   "execution_count": 304,
   "id": "17d61e50",
   "metadata": {},
   "outputs": [
    {
     "data": {
      "text/plain": [
       "1006112704.0"
      ]
     },
     "execution_count": 304,
     "metadata": {},
     "output_type": "execute_result"
    }
   ],
   "source": [
    "dt.timestamp()"
   ]
  },
  {
   "cell_type": "code",
   "execution_count": 305,
   "id": "7ed59dc7",
   "metadata": {},
   "outputs": [
    {
     "name": "stdout",
     "output_type": "stream",
     "text": [
      "Enter Birth Day: 19\n",
      "Enter Birth Month: 11\n",
      "Enter Birth Year: 2001\n"
     ]
    }
   ],
   "source": [
    "# find age of person by dob\n",
    "day=int(input('Enter Birth Day: '))\n",
    "month=int(input('Enter Birth Month: '))\n",
    "year=int(input('Enter Birth Year: '))\n",
    "\n",
    "dt1=datetime(year=year, month=month, day=day)\n",
    "dt2=datetime.today()"
   ]
  },
  {
   "cell_type": "code",
   "execution_count": 307,
   "id": "68b836d9",
   "metadata": {},
   "outputs": [
    {
     "data": {
      "text/plain": [
       "datetime.timedelta(days=7988, seconds=65685, microseconds=376923)"
      ]
     },
     "execution_count": 307,
     "metadata": {},
     "output_type": "execute_result"
    }
   ],
   "source": [
    "dt=dt2-dt1\n",
    "dt"
   ]
  },
  {
   "cell_type": "code",
   "execution_count": 309,
   "id": "b324d394",
   "metadata": {},
   "outputs": [
    {
     "data": {
      "text/plain": [
       "21.884931506849316"
      ]
     },
     "execution_count": 309,
     "metadata": {},
     "output_type": "execute_result"
    }
   ],
   "source": [
    "dt.days/365"
   ]
  },
  {
   "cell_type": "code",
   "execution_count": 317,
   "id": "c5c4346b",
   "metadata": {},
   "outputs": [
    {
     "data": {
      "text/plain": [
       "datetime.timedelta(days=-364)"
      ]
     },
     "execution_count": 317,
     "metadata": {},
     "output_type": "execute_result"
    }
   ],
   "source": [
    "dt1=datetime(year=1971, month=1, day=1)\n",
    "dt2=datetime(year=1970, month=1, day=2)\n",
    "dt2-dt1"
   ]
  },
  {
   "cell_type": "code",
   "execution_count": 318,
   "id": "fd942e02",
   "metadata": {},
   "outputs": [
    {
     "data": {
      "text/plain": [
       "31516200.0"
      ]
     },
     "execution_count": 318,
     "metadata": {},
     "output_type": "execute_result"
    }
   ],
   "source": [
    "dt1.timestamp()"
   ]
  },
  {
   "cell_type": "code",
   "execution_count": 325,
   "id": "c8e4b442",
   "metadata": {},
   "outputs": [
    {
     "data": {
      "text/plain": [
       "1672416000"
      ]
     },
     "execution_count": 325,
     "metadata": {},
     "output_type": "execute_result"
    }
   ],
   "source": [
    "365*24*60*60*53+280*60*60"
   ]
  },
  {
   "cell_type": "code",
   "execution_count": 323,
   "id": "9dfd958c",
   "metadata": {},
   "outputs": [
    {
     "data": {
      "text/plain": [
       "1696337449.679775"
      ]
     },
     "execution_count": 323,
     "metadata": {},
     "output_type": "execute_result"
    }
   ],
   "source": [
    "datetime.now().timestamp()"
   ]
  },
  {
   "cell_type": "code",
   "execution_count": null,
   "id": "1fe596dc",
   "metadata": {},
   "outputs": [],
   "source": []
  },
  {
   "cell_type": "code",
   "execution_count": null,
   "id": "a83d0456",
   "metadata": {},
   "outputs": [],
   "source": []
  },
  {
   "cell_type": "code",
   "execution_count": null,
   "id": "43a2e455",
   "metadata": {},
   "outputs": [],
   "source": []
  },
  {
   "cell_type": "code",
   "execution_count": null,
   "id": "28c8c58b",
   "metadata": {},
   "outputs": [],
   "source": []
  },
  {
   "cell_type": "code",
   "execution_count": null,
   "id": "49d4d137",
   "metadata": {},
   "outputs": [],
   "source": []
  },
  {
   "cell_type": "code",
   "execution_count": null,
   "id": "1ed65393",
   "metadata": {},
   "outputs": [],
   "source": []
  },
  {
   "cell_type": "code",
   "execution_count": null,
   "id": "23abb614",
   "metadata": {},
   "outputs": [],
   "source": []
  },
  {
   "cell_type": "code",
   "execution_count": null,
   "id": "7fab481e",
   "metadata": {},
   "outputs": [],
   "source": []
  },
  {
   "cell_type": "code",
   "execution_count": null,
   "id": "f73e61a0",
   "metadata": {},
   "outputs": [],
   "source": []
  },
  {
   "cell_type": "code",
   "execution_count": null,
   "id": "402b12d7",
   "metadata": {},
   "outputs": [],
   "source": []
  },
  {
   "cell_type": "code",
   "execution_count": null,
   "id": "2a948083",
   "metadata": {},
   "outputs": [],
   "source": []
  },
  {
   "cell_type": "code",
   "execution_count": null,
   "id": "46d86d12",
   "metadata": {},
   "outputs": [],
   "source": []
  },
  {
   "cell_type": "code",
   "execution_count": null,
   "id": "25f01db0",
   "metadata": {},
   "outputs": [],
   "source": []
  },
  {
   "cell_type": "code",
   "execution_count": null,
   "id": "fd82dd45",
   "metadata": {},
   "outputs": [],
   "source": []
  },
  {
   "cell_type": "code",
   "execution_count": null,
   "id": "606b6a7c",
   "metadata": {},
   "outputs": [],
   "source": []
  },
  {
   "cell_type": "code",
   "execution_count": null,
   "id": "8a0f5d74",
   "metadata": {},
   "outputs": [],
   "source": []
  },
  {
   "cell_type": "code",
   "execution_count": null,
   "id": "44cf6fbc",
   "metadata": {},
   "outputs": [],
   "source": []
  },
  {
   "cell_type": "code",
   "execution_count": null,
   "id": "fd9c8dc3",
   "metadata": {},
   "outputs": [],
   "source": []
  },
  {
   "cell_type": "code",
   "execution_count": null,
   "id": "a55ee952",
   "metadata": {},
   "outputs": [],
   "source": []
  },
  {
   "cell_type": "code",
   "execution_count": null,
   "id": "c20b1f66",
   "metadata": {},
   "outputs": [],
   "source": []
  },
  {
   "cell_type": "code",
   "execution_count": null,
   "id": "03e042ea",
   "metadata": {},
   "outputs": [],
   "source": []
  },
  {
   "cell_type": "code",
   "execution_count": null,
   "id": "ba007dfc",
   "metadata": {},
   "outputs": [],
   "source": []
  },
  {
   "cell_type": "code",
   "execution_count": null,
   "id": "9c4fedb9",
   "metadata": {},
   "outputs": [],
   "source": []
  },
  {
   "cell_type": "code",
   "execution_count": null,
   "id": "84758120",
   "metadata": {},
   "outputs": [],
   "source": []
  },
  {
   "cell_type": "code",
   "execution_count": null,
   "id": "23c1304f",
   "metadata": {},
   "outputs": [],
   "source": []
  },
  {
   "cell_type": "code",
   "execution_count": null,
   "id": "59c5b5fb",
   "metadata": {},
   "outputs": [],
   "source": []
  },
  {
   "cell_type": "code",
   "execution_count": null,
   "id": "896c4af1",
   "metadata": {},
   "outputs": [],
   "source": []
  },
  {
   "cell_type": "code",
   "execution_count": null,
   "id": "ec1ec552",
   "metadata": {},
   "outputs": [],
   "source": []
  },
  {
   "cell_type": "code",
   "execution_count": null,
   "id": "6ca88725",
   "metadata": {},
   "outputs": [],
   "source": []
  },
  {
   "cell_type": "code",
   "execution_count": null,
   "id": "204a7750",
   "metadata": {},
   "outputs": [],
   "source": []
  },
  {
   "cell_type": "code",
   "execution_count": null,
   "id": "cf260b9d",
   "metadata": {},
   "outputs": [],
   "source": []
  },
  {
   "cell_type": "code",
   "execution_count": null,
   "id": "1ce1b098",
   "metadata": {},
   "outputs": [],
   "source": []
  },
  {
   "cell_type": "code",
   "execution_count": null,
   "id": "8ed4a407",
   "metadata": {},
   "outputs": [],
   "source": []
  },
  {
   "cell_type": "code",
   "execution_count": null,
   "id": "6c433807",
   "metadata": {},
   "outputs": [],
   "source": []
  },
  {
   "cell_type": "code",
   "execution_count": null,
   "id": "099e95d4",
   "metadata": {},
   "outputs": [],
   "source": []
  },
  {
   "cell_type": "code",
   "execution_count": null,
   "id": "1e896a25",
   "metadata": {},
   "outputs": [],
   "source": []
  },
  {
   "cell_type": "code",
   "execution_count": null,
   "id": "e20dd5b2",
   "metadata": {},
   "outputs": [],
   "source": []
  },
  {
   "cell_type": "code",
   "execution_count": null,
   "id": "559b0151",
   "metadata": {},
   "outputs": [],
   "source": []
  },
  {
   "cell_type": "code",
   "execution_count": null,
   "id": "6adf2949",
   "metadata": {},
   "outputs": [],
   "source": []
  },
  {
   "cell_type": "code",
   "execution_count": null,
   "id": "52c82a56",
   "metadata": {},
   "outputs": [],
   "source": []
  },
  {
   "cell_type": "code",
   "execution_count": null,
   "id": "4537e548",
   "metadata": {},
   "outputs": [],
   "source": []
  },
  {
   "cell_type": "code",
   "execution_count": null,
   "id": "c0579cea",
   "metadata": {},
   "outputs": [],
   "source": []
  },
  {
   "cell_type": "code",
   "execution_count": null,
   "id": "08efccc9",
   "metadata": {},
   "outputs": [],
   "source": []
  },
  {
   "cell_type": "code",
   "execution_count": null,
   "id": "0107ce2c",
   "metadata": {},
   "outputs": [],
   "source": []
  },
  {
   "cell_type": "code",
   "execution_count": null,
   "id": "6034f623",
   "metadata": {},
   "outputs": [],
   "source": []
  },
  {
   "cell_type": "code",
   "execution_count": null,
   "id": "3a6d9ddb",
   "metadata": {},
   "outputs": [],
   "source": []
  },
  {
   "cell_type": "code",
   "execution_count": null,
   "id": "b4e73d29",
   "metadata": {},
   "outputs": [],
   "source": []
  }
 ],
 "metadata": {
  "kernelspec": {
   "display_name": "Python 3 (ipykernel)",
   "language": "python",
   "name": "python3"
  },
  "language_info": {
   "codemirror_mode": {
    "name": "ipython",
    "version": 3
   },
   "file_extension": ".py",
   "mimetype": "text/x-python",
   "name": "python",
   "nbconvert_exporter": "python",
   "pygments_lexer": "ipython3",
   "version": "3.9.12"
  }
 },
 "nbformat": 4,
 "nbformat_minor": 5
}
