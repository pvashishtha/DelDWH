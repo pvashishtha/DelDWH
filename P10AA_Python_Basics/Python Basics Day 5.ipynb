{
 "cells": [
  {
   "cell_type": "markdown",
   "id": "5953fd49",
   "metadata": {},
   "source": [
    "### Python Basics Day 5"
   ]
  },
  {
   "cell_type": "markdown",
   "id": "b692f106",
   "metadata": {},
   "source": [
    "##### Utility Modules"
   ]
  },
  {
   "cell_type": "code",
   "execution_count": 2,
   "id": "996429f5",
   "metadata": {},
   "outputs": [],
   "source": [
    "from datetime import date"
   ]
  },
  {
   "cell_type": "code",
   "execution_count": 6,
   "id": "e35248a8",
   "metadata": {},
   "outputs": [
    {
     "name": "stdout",
     "output_type": "stream",
     "text": [
      "Year: 2023\n",
      "Month: 3\n",
      "Day: 3\n"
     ]
    }
   ],
   "source": [
    "dt=date.today()\n",
    "print(f'Year: {dt.year}')\n",
    "print(f'Month: {dt.month}')\n",
    "print(f'Day: {dt.day}')"
   ]
  },
  {
   "cell_type": "code",
   "execution_count": 8,
   "id": "be80d46f",
   "metadata": {},
   "outputs": [],
   "source": [
    "from datetime import datetime\n",
    "dt=datetime.now()"
   ]
  },
  {
   "cell_type": "code",
   "execution_count": 11,
   "id": "4fdf48bb",
   "metadata": {},
   "outputs": [
    {
     "data": {
      "text/plain": [
       "15"
      ]
     },
     "execution_count": 11,
     "metadata": {},
     "output_type": "execute_result"
    }
   ],
   "source": [
    "dt.second"
   ]
  },
  {
   "cell_type": "code",
   "execution_count": 12,
   "id": "f7405fa0",
   "metadata": {},
   "outputs": [
    {
     "name": "stdout",
     "output_type": "stream",
     "text": [
      "2032-05-11\n"
     ]
    }
   ],
   "source": [
    "ts=date.fromtimestamp(1967874532)\n",
    "print(ts)"
   ]
  },
  {
   "cell_type": "code",
   "execution_count": 13,
   "id": "d59cfaa7",
   "metadata": {},
   "outputs": [],
   "source": [
    "from datetime import time"
   ]
  },
  {
   "cell_type": "code",
   "execution_count": 14,
   "id": "77120506",
   "metadata": {},
   "outputs": [
    {
     "data": {
      "text/plain": [
       "datetime.time(0, 0)"
      ]
     },
     "execution_count": 14,
     "metadata": {},
     "output_type": "execute_result"
    }
   ],
   "source": [
    "time()"
   ]
  },
  {
   "cell_type": "code",
   "execution_count": 15,
   "id": "8d8b0bcd",
   "metadata": {},
   "outputs": [
    {
     "data": {
      "text/plain": [
       "datetime.time(10, 12, 45)"
      ]
     },
     "execution_count": 15,
     "metadata": {},
     "output_type": "execute_result"
    }
   ],
   "source": [
    "time(10, 12, 45)"
   ]
  },
  {
   "cell_type": "code",
   "execution_count": 20,
   "id": "7ba7885a",
   "metadata": {},
   "outputs": [],
   "source": [
    "dt=datetime(2023, 3, 3, 16, 34, 56, 567)"
   ]
  },
  {
   "cell_type": "code",
   "execution_count": 21,
   "id": "04433e8c",
   "metadata": {},
   "outputs": [
    {
     "data": {
      "text/plain": [
       "16"
      ]
     },
     "execution_count": 21,
     "metadata": {},
     "output_type": "execute_result"
    }
   ],
   "source": [
    "dt.hour"
   ]
  },
  {
   "cell_type": "code",
   "execution_count": 22,
   "id": "55995496",
   "metadata": {},
   "outputs": [
    {
     "data": {
      "text/plain": [
       "1677841496.000567"
      ]
     },
     "execution_count": 22,
     "metadata": {},
     "output_type": "execute_result"
    }
   ],
   "source": [
    "dt.timestamp()"
   ]
  },
  {
   "cell_type": "code",
   "execution_count": 23,
   "id": "badd16d2",
   "metadata": {},
   "outputs": [],
   "source": [
    "dt1=datetime(year=2002, month=11, day=11)\n",
    "dt2=datetime.today()"
   ]
  },
  {
   "cell_type": "code",
   "execution_count": 25,
   "id": "db6369a8",
   "metadata": {},
   "outputs": [],
   "source": [
    "td=dt2-dt1"
   ]
  },
  {
   "cell_type": "code",
   "execution_count": 28,
   "id": "af86440e",
   "metadata": {},
   "outputs": [
    {
     "data": {
      "text/plain": [
       "20"
      ]
     },
     "execution_count": 28,
     "metadata": {},
     "output_type": "execute_result"
    }
   ],
   "source": [
    "td.days//365"
   ]
  },
  {
   "cell_type": "code",
   "execution_count": 31,
   "id": "c7b1cef4",
   "metadata": {},
   "outputs": [
    {
     "data": {
      "text/plain": [
       "3"
      ]
     },
     "execution_count": 31,
     "metadata": {},
     "output_type": "execute_result"
    }
   ],
   "source": [
    "td.days%365//30"
   ]
  },
  {
   "cell_type": "code",
   "execution_count": 36,
   "id": "0acf4fab",
   "metadata": {},
   "outputs": [
    {
     "data": {
      "text/plain": [
       "27"
      ]
     },
     "execution_count": 36,
     "metadata": {},
     "output_type": "execute_result"
    }
   ],
   "source": [
    "(td.days%365)%30"
   ]
  },
  {
   "cell_type": "code",
   "execution_count": 37,
   "id": "d34db3fa",
   "metadata": {},
   "outputs": [],
   "source": [
    "import time"
   ]
  },
  {
   "cell_type": "code",
   "execution_count": 39,
   "id": "45c9bdab",
   "metadata": {},
   "outputs": [
    {
     "name": "stdout",
     "output_type": "stream",
     "text": [
      "D E L O I T T E   U S I "
     ]
    }
   ],
   "source": [
    "for i in \"DELOITTE USI\":\n",
    "    print(i, end=' ')\n",
    "    time.sleep(0.3)"
   ]
  },
  {
   "cell_type": "code",
   "execution_count": 77,
   "id": "945779a8",
   "metadata": {},
   "outputs": [],
   "source": [
    "Input=['mornig',1,'evening',3,'afternoon',2]\n",
    "Keys=['phase','id']\n",
    "Output=[]"
   ]
  },
  {
   "cell_type": "code",
   "execution_count": 78,
   "id": "03428215",
   "metadata": {
    "collapsed": true
   },
   "outputs": [
    {
     "data": {
      "text/plain": [
       "[{'phase': 'mornig', 'id': 1},\n",
       " {'phase': 'evening', 'id': 3},\n",
       " {'phase': 'afternoon', 'id': 2}]"
      ]
     },
     "execution_count": 78,
     "metadata": {},
     "output_type": "execute_result"
    }
   ],
   "source": [
    "i=0\n",
    "while i<len(Input):\n",
    "    Output.append({Keys[0]:Input[i], Keys[1]:Input[i+1]})\n",
    "    i+=2\n",
    "Output"
   ]
  },
  {
   "cell_type": "code",
   "execution_count": 79,
   "id": "7940f1fb",
   "metadata": {},
   "outputs": [
    {
     "data": {
      "text/plain": [
       "[{'phase': 'mornig', 'id': 1},\n",
       " {'phase': 'afternoon', 'id': 2},\n",
       " {'phase': 'evening', 'id': 3}]"
      ]
     },
     "execution_count": 79,
     "metadata": {},
     "output_type": "execute_result"
    }
   ],
   "source": [
    "Final=[]\n",
    "for d in sorted([item['id'] for item in Output]):\n",
    "    for item in Output:\n",
    "        if item['id']==d:\n",
    "            Final.append(item)\n",
    "Final"
   ]
  },
  {
   "cell_type": "markdown",
   "id": "9b672e28",
   "metadata": {},
   "source": [
    "### ZIP()"
   ]
  },
  {
   "cell_type": "code",
   "execution_count": 84,
   "id": "78a95084",
   "metadata": {},
   "outputs": [
    {
     "name": "stdout",
     "output_type": "stream",
     "text": [
      "a 1\n",
      "b 2\n",
      "c 3\n",
      "d 4\n",
      "e 5\n"
     ]
    }
   ],
   "source": [
    "A=['a','b','c','d','e']\n",
    "B=[1,2,3,4,5,6,7,8,9]\n",
    "\n",
    "for x,y in zip(A,B):\n",
    "    print(x,y)"
   ]
  },
  {
   "cell_type": "code",
   "execution_count": 85,
   "id": "7d6dc6ab",
   "metadata": {},
   "outputs": [
    {
     "name": "stdout",
     "output_type": "stream",
     "text": [
      "a 1 10\n",
      "b 2 20\n",
      "c 3 30\n"
     ]
    }
   ],
   "source": [
    "A=['a','b','c','d','e']\n",
    "B=[1,2,3,4,5,6,7,8,9]\n",
    "C=[10,20,30]\n",
    "\n",
    "for x,y,z in zip(A,B,C):\n",
    "    print(x,y,z)"
   ]
  },
  {
   "cell_type": "markdown",
   "id": "6c2b9c74",
   "metadata": {},
   "source": [
    "#### Question:  \n",
    "A list rotation consists of taking the last element and moving it to the front. For instance, if we rotate the list [1,2,3,4,5], we get [5,1,2,3,4]. If we rotate it again, we get [4,5,1,2,3]. Write a Python function rotatelist(ls,k) that takes a list ls and a positive integer k and returns the list ls after k rotations. If k is not positive, your function should return ls unchanged. Note that your function should not change ls itself, and should return the rotated list.\n",
    "#### Here are some examples to show how your function should work:\n",
    "• rotatelist([1,2,3,4,5], 1) #output is [5, 1, 2, 3, 4]\n",
    "\n",
    "• rotatelist([1,2,3,4,5], 3) #output is [3, 4, 5, 1, 2]\n",
    "\n",
    "• rotatelist([1,2,3,4,5], 12) #output is[4, 5, 1, 2, 3]"
   ]
  },
  {
   "cell_type": "code",
   "execution_count": null,
   "id": "fc44d354",
   "metadata": {},
   "outputs": [],
   "source": []
  },
  {
   "cell_type": "code",
   "execution_count": null,
   "id": "057780db",
   "metadata": {},
   "outputs": [],
   "source": []
  },
  {
   "cell_type": "code",
   "execution_count": null,
   "id": "fcc79e7d",
   "metadata": {},
   "outputs": [],
   "source": []
  },
  {
   "cell_type": "code",
   "execution_count": null,
   "id": "0001a50f",
   "metadata": {},
   "outputs": [],
   "source": []
  },
  {
   "cell_type": "code",
   "execution_count": null,
   "id": "15bfb33e",
   "metadata": {},
   "outputs": [],
   "source": []
  },
  {
   "cell_type": "code",
   "execution_count": null,
   "id": "4825a619",
   "metadata": {},
   "outputs": [],
   "source": []
  },
  {
   "cell_type": "code",
   "execution_count": null,
   "id": "cec7e42f",
   "metadata": {},
   "outputs": [],
   "source": []
  },
  {
   "cell_type": "code",
   "execution_count": null,
   "id": "711a4fc8",
   "metadata": {},
   "outputs": [],
   "source": []
  },
  {
   "cell_type": "code",
   "execution_count": null,
   "id": "23f7e8ed",
   "metadata": {},
   "outputs": [],
   "source": []
  },
  {
   "cell_type": "code",
   "execution_count": null,
   "id": "812ed642",
   "metadata": {},
   "outputs": [],
   "source": []
  },
  {
   "cell_type": "code",
   "execution_count": null,
   "id": "6114f5b6",
   "metadata": {},
   "outputs": [],
   "source": []
  },
  {
   "cell_type": "code",
   "execution_count": null,
   "id": "d2d3db2a",
   "metadata": {},
   "outputs": [],
   "source": []
  },
  {
   "cell_type": "code",
   "execution_count": null,
   "id": "c94071c2",
   "metadata": {},
   "outputs": [],
   "source": []
  },
  {
   "cell_type": "code",
   "execution_count": null,
   "id": "39a1ceec",
   "metadata": {},
   "outputs": [],
   "source": []
  },
  {
   "cell_type": "code",
   "execution_count": null,
   "id": "51f6f629",
   "metadata": {},
   "outputs": [],
   "source": []
  },
  {
   "cell_type": "code",
   "execution_count": null,
   "id": "5c1de1ba",
   "metadata": {},
   "outputs": [],
   "source": []
  },
  {
   "cell_type": "code",
   "execution_count": null,
   "id": "deac3f1c",
   "metadata": {},
   "outputs": [],
   "source": []
  },
  {
   "cell_type": "code",
   "execution_count": null,
   "id": "d22d4ebb",
   "metadata": {},
   "outputs": [],
   "source": []
  },
  {
   "cell_type": "code",
   "execution_count": null,
   "id": "cc22a764",
   "metadata": {},
   "outputs": [],
   "source": []
  },
  {
   "cell_type": "code",
   "execution_count": null,
   "id": "7382ec9b",
   "metadata": {},
   "outputs": [],
   "source": []
  },
  {
   "cell_type": "code",
   "execution_count": null,
   "id": "3d515c45",
   "metadata": {},
   "outputs": [],
   "source": []
  },
  {
   "cell_type": "code",
   "execution_count": null,
   "id": "5c114c20",
   "metadata": {},
   "outputs": [],
   "source": []
  },
  {
   "cell_type": "code",
   "execution_count": null,
   "id": "08d75a51",
   "metadata": {},
   "outputs": [],
   "source": []
  }
 ],
 "metadata": {
  "kernelspec": {
   "display_name": "Python 3 (ipykernel)",
   "language": "python",
   "name": "python3"
  },
  "language_info": {
   "codemirror_mode": {
    "name": "ipython",
    "version": 3
   },
   "file_extension": ".py",
   "mimetype": "text/x-python",
   "name": "python",
   "nbconvert_exporter": "python",
   "pygments_lexer": "ipython3",
   "version": "3.9.12"
  }
 },
 "nbformat": 4,
 "nbformat_minor": 5
}
