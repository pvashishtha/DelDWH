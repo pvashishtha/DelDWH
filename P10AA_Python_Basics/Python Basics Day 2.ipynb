{
 "cells": [
  {
   "cell_type": "markdown",
   "id": "9d51d9a5",
   "metadata": {},
   "source": [
    "### Python Basics Day 2"
   ]
  },
  {
   "cell_type": "code",
   "execution_count": 5,
   "id": "e8ecdcbf",
   "metadata": {},
   "outputs": [
    {
     "name": "stdout",
     "output_type": "stream",
     "text": [
      "prateek\n",
      "Vowel Found\n"
     ]
    }
   ],
   "source": [
    "# write a program to find if the given username contains\n",
    "# any vowel or not\n",
    "\n",
    "x=input().lower()\n",
    "if 'a' in x or 'e' in x or 'i' in x or 'o' in x or 'u' in x:\n",
    "    print('Vowel Found')\n",
    "else:\n",
    "    print('No Vowel')"
   ]
  },
  {
   "cell_type": "code",
   "execution_count": 6,
   "id": "677f7269",
   "metadata": {},
   "outputs": [
    {
     "name": "stdout",
     "output_type": "stream",
     "text": [
      "prateek\n",
      "keetarp\n"
     ]
    }
   ],
   "source": [
    "# write a code to print given string in reverse order\n",
    "s=input()\n",
    "print(s[::-1])"
   ]
  },
  {
   "cell_type": "code",
   "execution_count": 7,
   "id": "d59d06d5",
   "metadata": {},
   "outputs": [
    {
     "name": "stdout",
     "output_type": "stream",
     "text": [
      "ettioled\n"
     ]
    }
   ],
   "source": [
    "s='deloitte'\n",
    "print(s[::-1])"
   ]
  },
  {
   "cell_type": "code",
   "execution_count": 9,
   "id": "549c1ab6",
   "metadata": {},
   "outputs": [
    {
     "name": "stdout",
     "output_type": "stream",
     "text": [
      "dlit\n"
     ]
    }
   ],
   "source": [
    "print(s[::2])"
   ]
  },
  {
   "cell_type": "code",
   "execution_count": 11,
   "id": "e96d2afc",
   "metadata": {},
   "outputs": [
    {
     "name": "stdout",
     "output_type": "stream",
     "text": [
      "Pr_teek\n",
      "Valid\n"
     ]
    }
   ],
   "source": [
    "# validate a password for having:\n",
    "# First character as uppercase alphabet, and\n",
    "# an underscore symbol as mandatory symbol anywhere\n",
    "\n",
    "password=input()\n",
    "\n",
    "if 65<=ord(password[0])<=90 and '_' in password:\n",
    "    print('Valid')\n",
    "else:\n",
    "    print('Invalid')"
   ]
  },
  {
   "cell_type": "code",
   "execution_count": 12,
   "id": "84c6e737",
   "metadata": {},
   "outputs": [
    {
     "name": "stdout",
     "output_type": "stream",
     "text": [
      "Pr_teek\n",
      "Valid\n"
     ]
    }
   ],
   "source": [
    "password=input()\n",
    "\n",
    "if password[0].isupper() and '_' in password:\n",
    "    print('Valid')\n",
    "else:\n",
    "    print('Invalid')"
   ]
  },
  {
   "cell_type": "markdown",
   "id": "63fa7664",
   "metadata": {},
   "source": [
    "### Loop Control"
   ]
  },
  {
   "cell_type": "markdown",
   "id": "e331e487",
   "metadata": {},
   "source": [
    "##### While Loop"
   ]
  },
  {
   "cell_type": "code",
   "execution_count": 15,
   "id": "d678434c",
   "metadata": {},
   "outputs": [
    {
     "name": "stdout",
     "output_type": "stream",
     "text": [
      "Iteration:  0\n",
      "Iteration:  1\n",
      "Iteration:  2\n",
      "Iteration:  3\n",
      "Iteration:  4\n",
      "After Loop\n"
     ]
    }
   ],
   "source": [
    "i=0\n",
    "while i<5:\n",
    "    print('Iteration: ',i)\n",
    "    i+=1\n",
    "print('After Loop')"
   ]
  },
  {
   "cell_type": "code",
   "execution_count": 17,
   "id": "52366d57",
   "metadata": {},
   "outputs": [
    {
     "name": "stdout",
     "output_type": "stream",
     "text": [
      "prateek\n",
      "char at 0 is: p\n",
      "char at 1 is: r\n",
      "char at 2 is: a\n",
      "char at 3 is: t\n",
      "char at 4 is: e\n",
      "char at 5 is: e\n",
      "char at 6 is: k\n",
      "After Loop\n"
     ]
    }
   ],
   "source": [
    "s=input()\n",
    "i=0\n",
    "while i<len(s):\n",
    "    print(f'char at {i} is: {s[i]}')\n",
    "    i+=1\n",
    "print('After Loop')"
   ]
  },
  {
   "cell_type": "code",
   "execution_count": 18,
   "id": "9cd1f56e",
   "metadata": {},
   "outputs": [
    {
     "name": "stdout",
     "output_type": "stream",
     "text": [
      "87969\n",
      "96978"
     ]
    }
   ],
   "source": [
    "# Write a code to print given long integer in reverse\n",
    "n=int(input())\n",
    "while n>0:\n",
    "    print(n%10, end='')\n",
    "    n=n//10"
   ]
  },
  {
   "cell_type": "code",
   "execution_count": 19,
   "id": "e73d02dd",
   "metadata": {
    "collapsed": true
   },
   "outputs": [
    {
     "name": "stdout",
     "output_type": "stream",
     "text": [
      "7889\n",
      "9887\n"
     ]
    }
   ],
   "source": [
    "n=int(input())\n",
    "print(int(str(n)[::-1]))"
   ]
  },
  {
   "cell_type": "markdown",
   "id": "d3854a18",
   "metadata": {},
   "source": [
    "#### range() function"
   ]
  },
  {
   "cell_type": "code",
   "execution_count": 21,
   "id": "35fd8888",
   "metadata": {},
   "outputs": [],
   "source": [
    "# range(n) - n is integer\n",
    "# enumerate imtegers from 0 to n-1\n",
    "\n",
    "x=iter(range(10))"
   ]
  },
  {
   "cell_type": "code",
   "execution_count": 32,
   "id": "fd1acc3e",
   "metadata": {
    "collapsed": true
   },
   "outputs": [
    {
     "ename": "StopIteration",
     "evalue": "",
     "output_type": "error",
     "traceback": [
      "\u001b[1;31m---------------------------------------------------------------------------\u001b[0m",
      "\u001b[1;31mStopIteration\u001b[0m                             Traceback (most recent call last)",
      "Input \u001b[1;32mIn [32]\u001b[0m, in \u001b[0;36m<cell line: 1>\u001b[1;34m()\u001b[0m\n\u001b[1;32m----> 1\u001b[0m \u001b[38;5;28;43mnext\u001b[39;49m\u001b[43m(\u001b[49m\u001b[43mx\u001b[49m\u001b[43m)\u001b[49m\n",
      "\u001b[1;31mStopIteration\u001b[0m: "
     ]
    }
   ],
   "source": [
    "next(x)"
   ]
  },
  {
   "cell_type": "code",
   "execution_count": 33,
   "id": "1c828a89",
   "metadata": {},
   "outputs": [],
   "source": [
    "# range(m,n) - enumerates from m to n-1\n",
    "\n",
    "x=iter(range(10, 15))"
   ]
  },
  {
   "cell_type": "code",
   "execution_count": 38,
   "id": "c85f6ebb",
   "metadata": {},
   "outputs": [
    {
     "data": {
      "text/plain": [
       "14"
      ]
     },
     "execution_count": 38,
     "metadata": {},
     "output_type": "execute_result"
    }
   ],
   "source": [
    "next(x)"
   ]
  },
  {
   "cell_type": "code",
   "execution_count": 39,
   "id": "a934ac54",
   "metadata": {},
   "outputs": [],
   "source": [
    "# range(m, n, k) - enumerate form m to n-1 with increment\n",
    "# of 'k'\n",
    "x=iter(range(10,20,3))"
   ]
  },
  {
   "cell_type": "code",
   "execution_count": 43,
   "id": "6ed12598",
   "metadata": {},
   "outputs": [
    {
     "data": {
      "text/plain": [
       "19"
      ]
     },
     "execution_count": 43,
     "metadata": {},
     "output_type": "execute_result"
    }
   ],
   "source": [
    "next(x)"
   ]
  },
  {
   "cell_type": "markdown",
   "id": "ef2fa4d7",
   "metadata": {},
   "source": [
    "### for loop"
   ]
  },
  {
   "cell_type": "code",
   "execution_count": 44,
   "id": "e161618a",
   "metadata": {},
   "outputs": [
    {
     "name": "stdout",
     "output_type": "stream",
     "text": [
      "0\n",
      "1\n",
      "2\n",
      "3\n",
      "4\n",
      "5\n",
      "6\n",
      "7\n",
      "8\n",
      "9\n"
     ]
    }
   ],
   "source": [
    "for num in range(10):\n",
    "    print(num)"
   ]
  },
  {
   "cell_type": "code",
   "execution_count": 45,
   "id": "f85c73f6",
   "metadata": {},
   "outputs": [
    {
     "name": "stdout",
     "output_type": "stream",
     "text": [
      "10\n",
      "11\n",
      "12\n",
      "13\n",
      "14\n"
     ]
    }
   ],
   "source": [
    "for num in range(10,15):\n",
    "    print(num)"
   ]
  },
  {
   "cell_type": "code",
   "execution_count": 46,
   "id": "75cc6d83",
   "metadata": {},
   "outputs": [
    {
     "name": "stdout",
     "output_type": "stream",
     "text": [
      "10\n",
      "13\n",
      "16\n",
      "19\n"
     ]
    }
   ],
   "source": [
    "for num in range(10,20,3):\n",
    "    print(num)"
   ]
  },
  {
   "cell_type": "code",
   "execution_count": 47,
   "id": "1ff8023c",
   "metadata": {},
   "outputs": [],
   "source": [
    "s='deloitte'\n",
    "x=iter(s)"
   ]
  },
  {
   "cell_type": "code",
   "execution_count": 52,
   "id": "fbc467b2",
   "metadata": {},
   "outputs": [
    {
     "data": {
      "text/plain": [
       "'i'"
      ]
     },
     "execution_count": 52,
     "metadata": {},
     "output_type": "execute_result"
    }
   ],
   "source": [
    "next(x)"
   ]
  },
  {
   "cell_type": "code",
   "execution_count": 53,
   "id": "6e79fedd",
   "metadata": {},
   "outputs": [
    {
     "name": "stdout",
     "output_type": "stream",
     "text": [
      "d e l o i t t e "
     ]
    }
   ],
   "source": [
    "for char in 'deloitte':\n",
    "    print(char, end=' ')"
   ]
  },
  {
   "cell_type": "markdown",
   "id": "0fad556d",
   "metadata": {},
   "source": [
    "#### while - else"
   ]
  },
  {
   "cell_type": "code",
   "execution_count": 56,
   "id": "9d72c209",
   "metadata": {},
   "outputs": [
    {
     "name": "stdout",
     "output_type": "stream",
     "text": [
      "\n",
      "While has ended\n",
      "After while-else\n"
     ]
    }
   ],
   "source": [
    "i=10\n",
    "while i<5:\n",
    "    print(i, end='\\t')\n",
    "    i+=1\n",
    "else:\n",
    "    print('\\nWhile has ended')\n",
    "print('After while-else')"
   ]
  },
  {
   "cell_type": "code",
   "execution_count": 57,
   "id": "2ece3cf7",
   "metadata": {},
   "outputs": [
    {
     "name": "stdout",
     "output_type": "stream",
     "text": [
      "Enter No. of Lines: 6\n",
      "* \n",
      "* * \n",
      "* * * \n",
      "* * * * \n",
      "* * * * * \n",
      "* * * * * * \n"
     ]
    }
   ],
   "source": [
    "# Write a code to print:\n",
    "# *\n",
    "# * *\n",
    "# * * *\n",
    "# * * * *\n",
    "# * * * * *\n",
    "# * * * * * *\n",
    "\n",
    "n=int(input('Enter No. of Lines: '))\n",
    "i=1\n",
    "while i<=n:\n",
    "    print('* '*i)\n",
    "    i+=1"
   ]
  },
  {
   "cell_type": "code",
   "execution_count": 58,
   "id": "a551a3f6",
   "metadata": {},
   "outputs": [
    {
     "name": "stdout",
     "output_type": "stream",
     "text": [
      "Enter no. of lines: 5\n",
      "    #\n",
      "   ##\n",
      "  ###\n",
      " ####\n",
      "#####\n"
     ]
    }
   ],
   "source": [
    "# Write a code to print:\n",
    "\n",
    "     #\n",
    "    ##\n",
    "   ###\n",
    "  ####\n",
    " #####\n",
    "######\n",
    "\n",
    "n=int(input('Enter no. of lines: '))\n",
    "i=1\n",
    "while i<=n:\n",
    "    print(' '*(n-i), end='')\n",
    "    print('#'*i)\n",
    "    i+=1"
   ]
  },
  {
   "cell_type": "code",
   "execution_count": 60,
   "id": "ad00c11b",
   "metadata": {},
   "outputs": [
    {
     "name": "stdout",
     "output_type": "stream",
     "text": [
      "Enter no. of lines: 5\n",
      "    #\n",
      "   ##\n",
      "  ###\n",
      " ####\n",
      "#####\n"
     ]
    }
   ],
   "source": [
    "n=int(input('Enter no. of lines: '))\n",
    "for i in range(1,n+1):\n",
    "    print(('#'*i).rjust(n))"
   ]
  },
  {
   "cell_type": "code",
   "execution_count": 67,
   "id": "e4d7c687",
   "metadata": {},
   "outputs": [
    {
     "name": "stdout",
     "output_type": "stream",
     "text": [
      "Enter no. of lines: 8\n",
      "        1 \n",
      "       2 2 \n",
      "      3 3 3 \n",
      "     4 4 4 4 \n",
      "    5 5 5 5 5 \n",
      "   6 6 6 6 6 6 \n",
      "  7 7 7 7 7 7 7 \n",
      " 8 8 8 8 8 8 8 8 \n"
     ]
    }
   ],
   "source": [
    "# Write a code to print\n",
    "\n",
    "#     1     \n",
    "#    2 2    \n",
    "#   3 3 3   \n",
    "#  4 4 4 4\n",
    "# 5 5 5 5 5\n",
    "\n",
    "n=int(input('Enter no. of lines: '))\n",
    "for i in range(1, n+1):\n",
    "    print(' '*(n-i), (str(i)+' ')*i)"
   ]
  },
  {
   "cell_type": "code",
   "execution_count": 68,
   "id": "89948de8",
   "metadata": {},
   "outputs": [
    {
     "name": "stdout",
     "output_type": "stream",
     "text": [
      "hey i am not feeling good!\n",
      "Vowels:  9\n",
      "Consonents:  11\n"
     ]
    }
   ],
   "source": [
    "# Write a code to count number of \n",
    "# vowels and consonents in a sentence.\n",
    "\n",
    "s=input()\n",
    "v=0\n",
    "c=0\n",
    "for char in s.lower():\n",
    "    if char.isalpha():\n",
    "        if char in 'aeiou':\n",
    "            v+=1\n",
    "        else:\n",
    "            c+=1\n",
    "print('Vowels: ',v)\n",
    "print('Consonents: ',c)"
   ]
  },
  {
   "cell_type": "code",
   "execution_count": 75,
   "id": "a36826f0",
   "metadata": {},
   "outputs": [
    {
     "name": "stdout",
     "output_type": "stream",
     "text": [
      "5\n",
      "Factorial 5 = 120\n"
     ]
    }
   ],
   "source": [
    "# Write a code to calculate factorial of a number\n",
    "# factorial=n*(n-1)*(n-2)....2*1\n",
    "\n",
    "# factorial of 5 is 5*4*3*2*1 = 120\n",
    "\n",
    "n=int(input())\n",
    "temp=n\n",
    "fact=1\n",
    "while n>0:\n",
    "    fact*=n\n",
    "    n-=1\n",
    "print(f'Factorial {temp} = {fact}')"
   ]
  },
  {
   "cell_type": "code",
   "execution_count": 86,
   "id": "e3e98dc3",
   "metadata": {},
   "outputs": [
    {
     "name": "stdout",
     "output_type": "stream",
     "text": [
      "13\n",
      "Prime\n"
     ]
    }
   ],
   "source": [
    "# Write a program code to find whetehr a given\n",
    "# number is prime number or not?\n",
    "\n",
    "num=int(input())\n",
    "flag=0\n",
    "for n in range(2,num):\n",
    "    if num%n==0:\n",
    "        flag=1\n",
    "        print('Not Prime')\n",
    "        break\n",
    "if flag!=1:\n",
    "    print('Prime')"
   ]
  },
  {
   "cell_type": "code",
   "execution_count": 87,
   "id": "96709fdf",
   "metadata": {},
   "outputs": [
    {
     "name": "stdout",
     "output_type": "stream",
     "text": [
      "13\n",
      "Prime\n"
     ]
    }
   ],
   "source": [
    "num=int(input())\n",
    "for n in range(2,num):\n",
    "    if num%n==0:\n",
    "        print('Not Prime')\n",
    "        break\n",
    "else:\n",
    "    print('Prime')"
   ]
  },
  {
   "cell_type": "code",
   "execution_count": 97,
   "id": "4fa56ba4",
   "metadata": {},
   "outputs": [
    {
     "name": "stdout",
     "output_type": "stream",
     "text": [
      "10\n",
      "0,1,1,2,3,5,8,13,21,34"
     ]
    }
   ],
   "source": [
    "# Write a code to generate and print fibonacci series\n",
    "# N numbers\n",
    "# e.g.  0,1,1,2,3,5,8,13,21,34,55,89.....\n",
    "\n",
    "N=int(input())\n",
    "prev1=0\n",
    "prev2=1\n",
    "print(prev1,prev2,sep=',',end='')\n",
    "for i in range(N-2):\n",
    "    cur=prev1+prev2\n",
    "    prev1=prev2\n",
    "    prev2=cur\n",
    "    print(',',cur, sep='',end='')"
   ]
  },
  {
   "cell_type": "code",
   "execution_count": null,
   "id": "e049d8fc",
   "metadata": {},
   "outputs": [],
   "source": [
    "# Print Arithmetic progression series of N terms\n",
    "# nth_term= A+(n-1)*D\n",
    "\n",
    "N=int(input('No. of Terms: '))\n",
    "D=int(input('Difference: '))\n",
    "A=int(input('Starting: '))\n",
    "cur=0\n",
    "for i in range(1,N+1):\n",
    "    cur=A+(i-1)*D\n",
    "    print(cur, end=' ')"
   ]
  },
  {
   "cell_type": "markdown",
   "id": "fb6f6ea6",
   "metadata": {},
   "source": [
    "### Functions"
   ]
  },
  {
   "cell_type": "code",
   "execution_count": 103,
   "id": "099bb782",
   "metadata": {},
   "outputs": [],
   "source": [
    "def message():\n",
    "    print('hello world from a function')\n",
    "    return None"
   ]
  },
  {
   "cell_type": "code",
   "execution_count": 104,
   "id": "e02ab2b2",
   "metadata": {},
   "outputs": [
    {
     "name": "stdout",
     "output_type": "stream",
     "text": [
      "hello world from a function\n"
     ]
    }
   ],
   "source": [
    "message()"
   ]
  },
  {
   "cell_type": "code",
   "execution_count": 106,
   "id": "553d8b30",
   "metadata": {},
   "outputs": [
    {
     "name": "stdout",
     "output_type": "stream",
     "text": [
      "Sum is:  90\n"
     ]
    }
   ],
   "source": [
    "def find_sum(x, y):\n",
    "    summ=x+y\n",
    "    return summ\n",
    "\n",
    "x=find_sum(34,56)\n",
    "print('Sum is: ',x)"
   ]
  },
  {
   "cell_type": "code",
   "execution_count": 110,
   "id": "86e8447e",
   "metadata": {},
   "outputs": [
    {
     "data": {
      "text/plain": [
       "True"
      ]
     },
     "execution_count": 110,
     "metadata": {},
     "output_type": "execute_result"
    }
   ],
   "source": [
    "# write a function that returns boolean status for\n",
    "# number on whether it is prime or not?\n",
    "def is_prime(num):\n",
    "    for n in range(2, num):\n",
    "        if num%n==0:\n",
    "            return False\n",
    "    else:\n",
    "        return True\n",
    "\n",
    "is_prime(13)"
   ]
  },
  {
   "cell_type": "code",
   "execution_count": 113,
   "id": "2477dce3",
   "metadata": {
    "collapsed": true
   },
   "outputs": [
    {
     "name": "stdout",
     "output_type": "stream",
     "text": [
      "2 => Prime\n",
      "3 => Prime\n",
      "5 => Prime\n",
      "7 => Prime\n",
      "11 => Prime\n",
      "13 => Prime\n",
      "17 => Prime\n",
      "19 => Prime\n",
      "23 => Prime\n",
      "29 => Prime\n",
      "31 => Prime\n",
      "37 => Prime\n",
      "41 => Prime\n",
      "43 => Prime\n",
      "47 => Prime\n",
      "53 => Prime\n",
      "59 => Prime\n",
      "61 => Prime\n",
      "67 => Prime\n",
      "71 => Prime\n",
      "73 => Prime\n",
      "79 => Prime\n",
      "83 => Prime\n",
      "89 => Prime\n",
      "97 => Prime\n"
     ]
    }
   ],
   "source": [
    "for i in range(2,100):\n",
    "    if is_prime(i):\n",
    "        print(i, '=> Prime')"
   ]
  },
  {
   "cell_type": "markdown",
   "id": "16d8ac9e",
   "metadata": {},
   "source": [
    "##### Default Arguments"
   ]
  },
  {
   "cell_type": "code",
   "execution_count": 115,
   "id": "0c3b11fd",
   "metadata": {},
   "outputs": [
    {
     "data": {
      "text/plain": [
       "37"
      ]
     },
     "execution_count": 115,
     "metadata": {},
     "output_type": "execute_result"
    }
   ],
   "source": [
    "def add_nums(x,y,z=20):\n",
    "    return x+y+z\n",
    "\n",
    "add_nums(10,13,14)"
   ]
  },
  {
   "cell_type": "code",
   "execution_count": 116,
   "id": "d14e3665",
   "metadata": {},
   "outputs": [
    {
     "data": {
      "text/plain": [
       "45"
      ]
     },
     "execution_count": 116,
     "metadata": {},
     "output_type": "execute_result"
    }
   ],
   "source": [
    "add_nums(10,15)"
   ]
  },
  {
   "cell_type": "code",
   "execution_count": 117,
   "id": "67deaa14",
   "metadata": {},
   "outputs": [
    {
     "data": {
      "text/plain": [
       "'Welcome Prateek to USI'"
      ]
     },
     "execution_count": 117,
     "metadata": {},
     "output_type": "execute_result"
    }
   ],
   "source": [
    "def greet(name, company='Deloitte'):\n",
    "    return f'Welcome {name} to {company}'\n",
    "\n",
    "greet('Prateek','USI')"
   ]
  },
  {
   "cell_type": "code",
   "execution_count": 118,
   "id": "43036754",
   "metadata": {},
   "outputs": [
    {
     "data": {
      "text/plain": [
       "'Welcome Prateek to Deloitte'"
      ]
     },
     "execution_count": 118,
     "metadata": {},
     "output_type": "execute_result"
    }
   ],
   "source": [
    "greet('Prateek')"
   ]
  },
  {
   "cell_type": "code",
   "execution_count": 119,
   "id": "4aa406ef",
   "metadata": {},
   "outputs": [
    {
     "ename": "SyntaxError",
     "evalue": "non-default argument follows default argument (1336941433.py, line 1)",
     "output_type": "error",
     "traceback": [
      "\u001b[1;36m  Input \u001b[1;32mIn [119]\u001b[1;36m\u001b[0m\n\u001b[1;33m    def greet(company='Deloitte', name):\u001b[0m\n\u001b[1;37m                                      ^\u001b[0m\n\u001b[1;31mSyntaxError\u001b[0m\u001b[1;31m:\u001b[0m non-default argument follows default argument\n"
     ]
    }
   ],
   "source": [
    "def greet(company='Deloitte', name):\n",
    "    return f'Welcome {name} to {company}'"
   ]
  },
  {
   "cell_type": "markdown",
   "id": "c590b9af",
   "metadata": {},
   "source": [
    "#### Keyword Arguments"
   ]
  },
  {
   "cell_type": "code",
   "execution_count": 120,
   "id": "6e84a607",
   "metadata": {},
   "outputs": [],
   "source": [
    "def greet(name, company):\n",
    "    return f'Welcome {name} to {company}'"
   ]
  },
  {
   "cell_type": "code",
   "execution_count": 122,
   "id": "fa55cd24",
   "metadata": {},
   "outputs": [
    {
     "data": {
      "text/plain": [
       "'Welcome prateek to deloitte'"
      ]
     },
     "execution_count": 122,
     "metadata": {},
     "output_type": "execute_result"
    }
   ],
   "source": [
    "greet(company='deloitte',name='prateek')"
   ]
  },
  {
   "cell_type": "code",
   "execution_count": null,
   "id": "52f3047e",
   "metadata": {},
   "outputs": [],
   "source": [
    "# write a function that return factorial of a number\n",
    "def fact(n):\n",
    "    factorial=1\n",
    "    for i in range(1,n+1):\n",
    "        factorial*=i\n",
    "    return factorial\n",
    "\n",
    "fact(7)"
   ]
  },
  {
   "cell_type": "markdown",
   "id": "c0e908ea",
   "metadata": {},
   "source": [
    "#### Recursion in Functions\n",
    "A phenomena where function calls itself during execution.\n",
    "The intermediate return results are kept in stacka and\n",
    "all are purged out to get final result."
   ]
  },
  {
   "cell_type": "code",
   "execution_count": 125,
   "id": "2e8333b8",
   "metadata": {},
   "outputs": [
    {
     "data": {
      "text/plain": [
       "720"
      ]
     },
     "execution_count": 125,
     "metadata": {},
     "output_type": "execute_result"
    }
   ],
   "source": [
    "def fact(n):\n",
    "    if n<=1:\n",
    "        return 1\n",
    "    else:\n",
    "        return n*fact(n-1)\n",
    "\n",
    "fact(6)"
   ]
  },
  {
   "cell_type": "code",
   "execution_count": 127,
   "id": "6efeed04",
   "metadata": {},
   "outputs": [
    {
     "name": "stdout",
     "output_type": "stream",
     "text": [
      "Enter no of terms: 10\n",
      "0 1 1 2 3 5 8 13 21 34 "
     ]
    }
   ],
   "source": [
    "# write a code using recursion to generate \n",
    "# fibonacci series of N terms\n",
    "\n",
    "def fib(n):\n",
    "    if n<=1:\n",
    "        return n\n",
    "    else:\n",
    "        return fib(n-1)+fib(n-2)\n",
    "    \n",
    "N=int(input('Enter no of terms: '))\n",
    "for i in range(N):\n",
    "    print(fib(i), end=' ')"
   ]
  },
  {
   "cell_type": "code",
   "execution_count": 128,
   "id": "e65b370e",
   "metadata": {},
   "outputs": [],
   "source": [
    "# write a function that finds whether entered 3 digit \n",
    "# number is amstrong or not.\n",
    "# An number is amstrong if sum of cube of its digits is \n",
    "# same as number itself\n",
    "# example: 371=> 3**3 + 7**3 + 1**3 = 371\n",
    "# if number is not 3 digit, print 'INVALID'\n",
    "# if number is 3 digit and not amstrong, \n",
    "#   print 'NOT AMSTRONG'\n",
    "# else print \"AMSTRONG\"\n",
    "\n",
    "def amstrong(n):\n",
    "    if 100<=n<=999:\n",
    "        summ=0\n",
    "        temp=n\n",
    "        while n>0:\n",
    "            summ+=(n%10)**3\n",
    "            n=n//10\n",
    "        if summ==temp:\n",
    "            print('AMSTRONG')\n",
    "        else:\n",
    "            print('NOT AMSTRONG')\n",
    "    else:\n",
    "        print('INVALID')"
   ]
  },
  {
   "cell_type": "code",
   "execution_count": 133,
   "id": "95579895",
   "metadata": {},
   "outputs": [
    {
     "name": "stdout",
     "output_type": "stream",
     "text": [
      "INVALID\n"
     ]
    }
   ],
   "source": [
    "amstrong(8299)"
   ]
  },
  {
   "cell_type": "code",
   "execution_count": 139,
   "id": "fe710ec5",
   "metadata": {},
   "outputs": [],
   "source": [
    "def amstrong(n):\n",
    "    if len(str(n))==3:\n",
    "        s=str(n)\n",
    "        summ=int(s[0])**3 + int(s[1])**3 + int(s[2])**3\n",
    "        if summ==n:\n",
    "            print('AMSTRONG')\n",
    "        else:\n",
    "            print(\"NOT AMSTRONG\")\n",
    "    else:\n",
    "        print('INVALID')"
   ]
  },
  {
   "cell_type": "code",
   "execution_count": 140,
   "id": "5af685a2",
   "metadata": {},
   "outputs": [
    {
     "name": "stdout",
     "output_type": "stream",
     "text": [
      "INVALID\n"
     ]
    }
   ],
   "source": [
    "amstrong(3781)"
   ]
  },
  {
   "cell_type": "code",
   "execution_count": 142,
   "id": "d3cc01b1",
   "metadata": {},
   "outputs": [
    {
     "name": "stdout",
     "output_type": "stream",
     "text": [
      "153\n",
      "370\n",
      "371\n",
      "407\n"
     ]
    }
   ],
   "source": [
    "# Find all 3 digit AMSTRONG numbers\n",
    "def amstrong(n):\n",
    "    if 100<=n<=999:\n",
    "        summ=0\n",
    "        temp=n\n",
    "        while n>0:\n",
    "            summ+=(n%10)**3\n",
    "            n=n//10\n",
    "        if summ==temp:\n",
    "            print(temp)        \n",
    "for i in range(100,1000):\n",
    "    amstrong(i)"
   ]
  },
  {
   "cell_type": "markdown",
   "id": "605a8199",
   "metadata": {},
   "source": [
    "### Lambda Functions"
   ]
  },
  {
   "cell_type": "code",
   "execution_count": 143,
   "id": "ac875802",
   "metadata": {},
   "outputs": [],
   "source": [
    "# lambda <args>:<expr>\n",
    "\n",
    "summ = lambda x,y : x+y"
   ]
  },
  {
   "cell_type": "code",
   "execution_count": 144,
   "id": "e0d9aba1",
   "metadata": {},
   "outputs": [
    {
     "data": {
      "text/plain": [
       "7"
      ]
     },
     "execution_count": 144,
     "metadata": {},
     "output_type": "execute_result"
    }
   ],
   "source": [
    "summ(3,4)"
   ]
  },
  {
   "cell_type": "code",
   "execution_count": 145,
   "id": "14663930",
   "metadata": {},
   "outputs": [],
   "source": [
    "def find_power(n):\n",
    "    return lambda x:x**n"
   ]
  },
  {
   "cell_type": "code",
   "execution_count": 148,
   "id": "82d0ca94",
   "metadata": {},
   "outputs": [],
   "source": [
    "sqr=find_power(2)  # lambda x:x**2\n",
    "cube=find_power(3) # lambda x:x**3\n",
    "p4=find_power(4)   # lambda x:x**4"
   ]
  },
  {
   "cell_type": "code",
   "execution_count": 149,
   "id": "b10ef76a",
   "metadata": {},
   "outputs": [
    {
     "data": {
      "text/plain": [
       "16"
      ]
     },
     "execution_count": 149,
     "metadata": {},
     "output_type": "execute_result"
    }
   ],
   "source": [
    "sqr(4)"
   ]
  },
  {
   "cell_type": "code",
   "execution_count": 150,
   "id": "20ba47ba",
   "metadata": {},
   "outputs": [
    {
     "data": {
      "text/plain": [
       "729"
      ]
     },
     "execution_count": 150,
     "metadata": {},
     "output_type": "execute_result"
    }
   ],
   "source": [
    "cube(9)"
   ]
  },
  {
   "cell_type": "code",
   "execution_count": 151,
   "id": "b10b989b",
   "metadata": {},
   "outputs": [
    {
     "data": {
      "text/plain": [
       "81"
      ]
     },
     "execution_count": 151,
     "metadata": {},
     "output_type": "execute_result"
    }
   ],
   "source": [
    "p4(3)"
   ]
  },
  {
   "cell_type": "markdown",
   "id": "a153af3c",
   "metadata": {},
   "source": [
    "### Generators"
   ]
  },
  {
   "cell_type": "code",
   "execution_count": 170,
   "id": "d9c3189a",
   "metadata": {},
   "outputs": [],
   "source": [
    "def get_integers(n):\n",
    "    for i in range(n):\n",
    "        yield i**2"
   ]
  },
  {
   "cell_type": "code",
   "execution_count": 171,
   "id": "d485d7c6",
   "metadata": {},
   "outputs": [],
   "source": [
    "vals=get_integers(100)"
   ]
  },
  {
   "cell_type": "code",
   "execution_count": 172,
   "id": "5cafadde",
   "metadata": {},
   "outputs": [
    {
     "data": {
      "text/plain": [
       "<generator object get_integers at 0x00000200B484D0B0>"
      ]
     },
     "execution_count": 172,
     "metadata": {},
     "output_type": "execute_result"
    }
   ],
   "source": [
    "vals"
   ]
  },
  {
   "cell_type": "code",
   "execution_count": 173,
   "id": "96308f74",
   "metadata": {},
   "outputs": [
    {
     "name": "stdout",
     "output_type": "stream",
     "text": [
      "0 1 4 9 16 25 36 49 64 81 100 121 144 169 196 225 256 289 324 361 400 441 484 529 576 625 676 729 784 841 900 961 1024 1089 1156 1225 1296 1369 1444 1521 1600 1681 1764 1849 1936 2025 2116 2209 2304 2401 2500 2601 2704 2809 2916 3025 3136 3249 3364 3481 3600 3721 3844 3969 4096 4225 4356 4489 4624 4761 4900 5041 5184 5329 5476 5625 5776 5929 6084 6241 6400 6561 6724 6889 7056 7225 7396 7569 7744 7921 8100 8281 8464 8649 8836 9025 9216 9409 9604 9801 "
     ]
    }
   ],
   "source": [
    "for value in vals:\n",
    "    print(value, end=' ')"
   ]
  },
  {
   "cell_type": "code",
   "execution_count": 174,
   "id": "c3c3391c",
   "metadata": {},
   "outputs": [],
   "source": [
    "gen=get_integers(10)"
   ]
  },
  {
   "cell_type": "code",
   "execution_count": 177,
   "id": "ae35f112",
   "metadata": {},
   "outputs": [
    {
     "data": {
      "text/plain": [
       "4"
      ]
     },
     "execution_count": 177,
     "metadata": {},
     "output_type": "execute_result"
    }
   ],
   "source": [
    "next(gen)"
   ]
  },
  {
   "cell_type": "code",
   "execution_count": 183,
   "id": "8d80a502",
   "metadata": {},
   "outputs": [
    {
     "name": "stdout",
     "output_type": "stream",
     "text": [
      "Position:  199\n"
     ]
    }
   ],
   "source": [
    "# A naughty boy has a hopping hop, he moves all over \n",
    "# places in a specific pattern.\n",
    "# He moves 1 step in first hop\n",
    "# He moves 2 step in second hop\n",
    "# He moves 3 step in third hop\n",
    "# He then repeats the pattern forever.\n",
    "\n",
    "# Given certain number of hops, and starting position\n",
    "# assumed as '0', find the position he will reach.\n",
    "\n",
    "def find_position(hops):\n",
    "    complete_cycle=hops//3\n",
    "    remaining_hops=hops%3\n",
    "    if remaining_hops==0:\n",
    "        print('Position: ', complete_cycle*6)\n",
    "    elif remaining_hops==1:\n",
    "        print('Position: ', complete_cycle*6+1)\n",
    "    elif remaining_hops==2:\n",
    "        print('Position: ', complete_cycle*6+3)\n",
    "    else:\n",
    "        pass\n",
    "find_position(100)"
   ]
  },
  {
   "cell_type": "code",
   "execution_count": 192,
   "id": "b2c4fec6",
   "metadata": {},
   "outputs": [
    {
     "name": "stdout",
     "output_type": "stream",
     "text": [
      "Not reachable\n"
     ]
    }
   ],
   "source": [
    "# for a given position, determine whether it is reachable\n",
    "# using the pattern of naughty boy or not\n",
    "\n",
    "def reachable(pos):\n",
    "    if pos%3==0 or pos%6==1:\n",
    "        print('Reachable')\n",
    "    else:\n",
    "        print('Not reachable')\n",
    "reachable(4)"
   ]
  },
  {
   "cell_type": "code",
   "execution_count": 206,
   "id": "015a7d1b",
   "metadata": {},
   "outputs": [],
   "source": [
    "# write a function \"validate(password)\" that accepts \n",
    "# user password and checks for validation as follows:\n",
    "# 1. It must have upper case letter (A-Z)\n",
    "# 2. It must have lower case letter (a-z)\n",
    "# 3. Length must be between 8 and 16 (both included)\n",
    "# 4. Must have special character BUT only among\n",
    "#      '#' , '@' , '_'\n",
    "# 5. Must have atleast one digit (0-9)\n",
    "\n",
    "# if it follows all critria, return TRUE else FALSE\n",
    "\n",
    "def validate(password):\n",
    "    f_upper=0\n",
    "    f_lower=0\n",
    "    f_num=0\n",
    "    f_sc=0\n",
    "    if 8<=len(password)<=16:\n",
    "        for char in password:\n",
    "            if ord(char) in range(65,91):\n",
    "                f_upper=1\n",
    "            if ord(char) in range(97, 123):\n",
    "                f_lower=1\n",
    "            if char.isdigit():\n",
    "                f_num=1\n",
    "            if char in '@#_':\n",
    "                f_sc=1\n",
    "        if f_upper==1 and f_lower==1 and f_num==1 and f_sc==1:\n",
    "            return True\n",
    "        else:\n",
    "            return False\n",
    "    else:\n",
    "        return False"
   ]
  },
  {
   "cell_type": "code",
   "execution_count": 209,
   "id": "9b0e91e0",
   "metadata": {},
   "outputs": [
    {
     "data": {
      "text/plain": [
       "True"
      ]
     },
     "execution_count": 209,
     "metadata": {},
     "output_type": "execute_result"
    }
   ],
   "source": [
    "validate('pv1811A@A')"
   ]
  },
  {
   "cell_type": "code",
   "execution_count": 214,
   "id": "f0efdf7c",
   "metadata": {},
   "outputs": [],
   "source": [
    "# Write a python function alternate(s) that accepts a \n",
    "# string and converts it as follows:\n",
    "\n",
    "# If string has EVEN length, then it should start with\n",
    "# Upper case letter and print alternate character as\n",
    "# upper case and remaining alternate as lower\n",
    "\n",
    "# If string has ODD length, then it should start with\n",
    "# Lower case letter and print alternate character as\n",
    "# Lower case and remaining alternate as Upper\n",
    "\n",
    "# Example: prateek => length=7 Output=> pRaTeEk\n",
    "\n",
    "def alternate(s):\n",
    "    new_str=''\n",
    "    if len(s)%2==0:\n",
    "        for idx in range(len(s)):\n",
    "            if idx%2==0:\n",
    "                new_str+=s[idx].upper()\n",
    "            else:\n",
    "                new_str+=s[idx].lower()\n",
    "    else:\n",
    "        for idx in range(len(s)):\n",
    "            if idx%2!=0:\n",
    "                new_str+=s[idx].upper()\n",
    "            else:\n",
    "                new_str+=s[idx].lower()\n",
    "    \n",
    "    return new_str"
   ]
  },
  {
   "cell_type": "code",
   "execution_count": 215,
   "id": "887f10aa",
   "metadata": {},
   "outputs": [
    {
     "data": {
      "text/plain": [
       "'pRaTeEk'"
      ]
     },
     "execution_count": 215,
     "metadata": {},
     "output_type": "execute_result"
    }
   ],
   "source": [
    "alternate('prateek')"
   ]
  },
  {
   "cell_type": "code",
   "execution_count": null,
   "id": "89de23a1",
   "metadata": {},
   "outputs": [],
   "source": []
  }
 ],
 "metadata": {
  "kernelspec": {
   "display_name": "Python 3 (ipykernel)",
   "language": "python",
   "name": "python3"
  },
  "language_info": {
   "codemirror_mode": {
    "name": "ipython",
    "version": 3
   },
   "file_extension": ".py",
   "mimetype": "text/x-python",
   "name": "python",
   "nbconvert_exporter": "python",
   "pygments_lexer": "ipython3",
   "version": "3.9.12"
  }
 },
 "nbformat": 4,
 "nbformat_minor": 5
}
