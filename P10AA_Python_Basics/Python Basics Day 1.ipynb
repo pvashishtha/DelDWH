{
 "cells": [
  {
   "cell_type": "markdown",
   "id": "2d40495b",
   "metadata": {},
   "source": [
    "## Python Basics Day 1"
   ]
  },
  {
   "cell_type": "markdown",
   "id": "f094ba69",
   "metadata": {},
   "source": [
    "#### Python Basics"
   ]
  },
  {
   "cell_type": "code",
   "execution_count": 2,
   "id": "ce39a7c3",
   "metadata": {},
   "outputs": [
    {
     "name": "stdout",
     "output_type": "stream",
     "text": [
      "Hello World\n"
     ]
    }
   ],
   "source": [
    "print('Hello World')"
   ]
  },
  {
   "cell_type": "code",
   "execution_count": 3,
   "id": "9abf4ef0",
   "metadata": {},
   "outputs": [
    {
     "name": "stdout",
     "output_type": "stream",
     "text": [
      "Enter a number: 34\n"
     ]
    },
    {
     "data": {
      "text/plain": [
       "'34'"
      ]
     },
     "execution_count": 3,
     "metadata": {},
     "output_type": "execute_result"
    }
   ],
   "source": [
    "input('Enter a number: ')"
   ]
  },
  {
   "cell_type": "code",
   "execution_count": 1,
   "id": "68b4df6d",
   "metadata": {},
   "outputs": [],
   "source": [
    "# print(a,b,c, sep=' ', end='\\n', flush=False, file=file)"
   ]
  },
  {
   "cell_type": "code",
   "execution_count": 2,
   "id": "a272973d",
   "metadata": {},
   "outputs": [
    {
     "name": "stdout",
     "output_type": "stream",
     "text": [
      "hello hi welcome\n"
     ]
    }
   ],
   "source": [
    "print('hello','hi','welcome')"
   ]
  },
  {
   "cell_type": "code",
   "execution_count": 5,
   "id": "c73a4551",
   "metadata": {},
   "outputs": [
    {
     "name": "stdout",
     "output_type": "stream",
     "text": [
      "hello#hi#welcome\n"
     ]
    }
   ],
   "source": [
    "print('hello','hi','welcome', sep='#')"
   ]
  },
  {
   "cell_type": "code",
   "execution_count": 6,
   "id": "69a492b4",
   "metadata": {},
   "outputs": [
    {
     "name": "stdout",
     "output_type": "stream",
     "text": [
      "hi\n",
      "hello\n",
      "Hola!\n"
     ]
    }
   ],
   "source": [
    "print('hi')\n",
    "print('hello')\n",
    "print('Hola!')"
   ]
  },
  {
   "cell_type": "code",
   "execution_count": 9,
   "id": "749c99af",
   "metadata": {},
   "outputs": [
    {
     "name": "stdout",
     "output_type": "stream",
     "text": [
      "hi--hello@@Hola!\n",
      "end\n"
     ]
    }
   ],
   "source": [
    "print('hi', end='--')\n",
    "print('hello', end='@@')\n",
    "print('Hola!') # end='\\n' by default\n",
    "print('end')"
   ]
  },
  {
   "cell_type": "markdown",
   "id": "421379ed",
   "metadata": {},
   "source": [
    "### Creating and using variables"
   ]
  },
  {
   "cell_type": "code",
   "execution_count": 10,
   "id": "df4cbe32",
   "metadata": {},
   "outputs": [],
   "source": [
    "# <var-name>=<value>\n",
    "\n",
    "x=10\n",
    "y=20"
   ]
  },
  {
   "cell_type": "code",
   "execution_count": 11,
   "id": "a4dfe83c",
   "metadata": {},
   "outputs": [],
   "source": [
    "s='hello'"
   ]
  },
  {
   "cell_type": "code",
   "execution_count": 12,
   "id": "7d16212b",
   "metadata": {},
   "outputs": [],
   "source": [
    "# integer, float, string, complex"
   ]
  },
  {
   "cell_type": "code",
   "execution_count": 13,
   "id": "0f0d325e",
   "metadata": {},
   "outputs": [],
   "source": [
    "a=34\n",
    "b=3.14\n",
    "c='deloitte'\n",
    "d=23+8j"
   ]
  },
  {
   "cell_type": "code",
   "execution_count": 14,
   "id": "1641ebe3",
   "metadata": {},
   "outputs": [],
   "source": [
    "# boolean\n",
    "k=True\n",
    "m=False"
   ]
  },
  {
   "cell_type": "code",
   "execution_count": 15,
   "id": "5c88be6c",
   "metadata": {},
   "outputs": [
    {
     "data": {
      "text/plain": [
       "int"
      ]
     },
     "execution_count": 15,
     "metadata": {},
     "output_type": "execute_result"
    }
   ],
   "source": [
    "# type()\n",
    "\n",
    "type(a)"
   ]
  },
  {
   "cell_type": "code",
   "execution_count": 16,
   "id": "d20a5d3d",
   "metadata": {},
   "outputs": [
    {
     "data": {
      "text/plain": [
       "float"
      ]
     },
     "execution_count": 16,
     "metadata": {},
     "output_type": "execute_result"
    }
   ],
   "source": [
    "type(b)"
   ]
  },
  {
   "cell_type": "code",
   "execution_count": 17,
   "id": "9a54f192",
   "metadata": {},
   "outputs": [
    {
     "data": {
      "text/plain": [
       "str"
      ]
     },
     "execution_count": 17,
     "metadata": {},
     "output_type": "execute_result"
    }
   ],
   "source": [
    "type(c)"
   ]
  },
  {
   "cell_type": "code",
   "execution_count": 18,
   "id": "905c74ba",
   "metadata": {},
   "outputs": [
    {
     "data": {
      "text/plain": [
       "complex"
      ]
     },
     "execution_count": 18,
     "metadata": {},
     "output_type": "execute_result"
    }
   ],
   "source": [
    "type(d)"
   ]
  },
  {
   "cell_type": "code",
   "execution_count": 19,
   "id": "8ca5abb4",
   "metadata": {},
   "outputs": [
    {
     "data": {
      "text/plain": [
       "bool"
      ]
     },
     "execution_count": 19,
     "metadata": {},
     "output_type": "execute_result"
    }
   ],
   "source": [
    "type(k)"
   ]
  },
  {
   "cell_type": "code",
   "execution_count": 20,
   "id": "e7c06478",
   "metadata": {},
   "outputs": [
    {
     "name": "stdout",
     "output_type": "stream",
     "text": [
      "10,20,30\n"
     ]
    }
   ],
   "source": [
    "a,b,c=10,20,30\n",
    "print(a,b,c, sep=',')"
   ]
  },
  {
   "cell_type": "code",
   "execution_count": 21,
   "id": "e94c6c7e",
   "metadata": {},
   "outputs": [],
   "source": [
    "# var name conventions\n",
    "    # must start with letter or _\n",
    "    # _ symbol is only allowed\n",
    "    # do not start with number\n",
    "    # we can use numbers in between and at the end\n",
    "    # 123name  ## invalid\n",
    "    # name123 ## valid\n",
    "    # full_name ## valid\n"
   ]
  },
  {
   "cell_type": "code",
   "execution_count": 22,
   "id": "90996059",
   "metadata": {},
   "outputs": [
    {
     "name": "stdout",
     "output_type": "stream",
     "text": [
      "300 100\n"
     ]
    }
   ],
   "source": [
    "a=100\n",
    "b=300\n",
    "\n",
    "# swap the values in var a and b\n",
    "a,b=b,a\n",
    "\n",
    "print(a,b)"
   ]
  },
  {
   "cell_type": "code",
   "execution_count": 23,
   "id": "4dbb6627",
   "metadata": {},
   "outputs": [
    {
     "name": "stdout",
     "output_type": "stream",
     "text": [
      "Enter a number: 34\n",
      "34 <class 'str'>\n"
     ]
    }
   ],
   "source": [
    "# data type from input()\n",
    "x=input('Enter a number: ')\n",
    "print(x, type(x))"
   ]
  },
  {
   "cell_type": "code",
   "execution_count": 24,
   "id": "9221adea",
   "metadata": {},
   "outputs": [
    {
     "data": {
      "text/plain": [
       "str"
      ]
     },
     "execution_count": 24,
     "metadata": {},
     "output_type": "execute_result"
    }
   ],
   "source": [
    "# typecast variables\n",
    "type(x)"
   ]
  },
  {
   "cell_type": "code",
   "execution_count": 25,
   "id": "41dacd4e",
   "metadata": {},
   "outputs": [
    {
     "data": {
      "text/plain": [
       "int"
      ]
     },
     "execution_count": 25,
     "metadata": {},
     "output_type": "execute_result"
    }
   ],
   "source": [
    "x=int(x) #explicit conversion\n",
    "type(x)"
   ]
  },
  {
   "cell_type": "code",
   "execution_count": 28,
   "id": "91c385c0",
   "metadata": {},
   "outputs": [
    {
     "name": "stdout",
     "output_type": "stream",
     "text": [
      "Enter number: 4\n",
      "<class 'float'>\n",
      "4.0\n"
     ]
    }
   ],
   "source": [
    "x=input('Enter number: ')\n",
    "x=float(x) # float conversion\n",
    "print(type(x))\n",
    "print(x)"
   ]
  },
  {
   "cell_type": "code",
   "execution_count": 30,
   "id": "af5d36a3",
   "metadata": {},
   "outputs": [
    {
     "name": "stdout",
     "output_type": "stream",
     "text": [
      "Enter Number: 3.14\n"
     ]
    }
   ],
   "source": [
    "x=float(input('Enter Number: '))"
   ]
  },
  {
   "cell_type": "markdown",
   "id": "2d857acf",
   "metadata": {},
   "source": [
    "#### Simple Mathematical Operators"
   ]
  },
  {
   "cell_type": "code",
   "execution_count": 34,
   "id": "64708959",
   "metadata": {},
   "outputs": [
    {
     "name": "stdout",
     "output_type": "stream",
     "text": [
      "a+b= 125\n",
      "a-b= 75\n",
      "a*b= 2500\n",
      "a/3= 33.333333333333336\n",
      "a//3= 33\n",
      "a%3= 1\n"
     ]
    }
   ],
   "source": [
    "a=100\n",
    "b=25\n",
    "print('a+b=',a+b)\n",
    "print('a-b=',a-b)\n",
    "print('a*b=',a*b)\n",
    "print('a/3=',a/3)\n",
    "print('a//3=',a//3)\n",
    "print('a%3=',a%3)"
   ]
  },
  {
   "cell_type": "code",
   "execution_count": 35,
   "id": "384d4404",
   "metadata": {},
   "outputs": [
    {
     "name": "stdout",
     "output_type": "stream",
     "text": [
      "512\n"
     ]
    }
   ],
   "source": [
    "# exponential\n",
    "print(8**3)"
   ]
  },
  {
   "cell_type": "code",
   "execution_count": 42,
   "id": "660deaa2",
   "metadata": {},
   "outputs": [
    {
     "data": {
      "text/plain": [
       "(79-2j)"
      ]
     },
     "execution_count": 42,
     "metadata": {},
     "output_type": "execute_result"
    }
   ],
   "source": [
    "a=56-6j\n",
    "b=23+4j\n",
    "a+b"
   ]
  },
  {
   "cell_type": "code",
   "execution_count": 37,
   "id": "ea91ce56",
   "metadata": {},
   "outputs": [
    {
     "data": {
      "text/plain": [
       "(33-10j)"
      ]
     },
     "execution_count": 37,
     "metadata": {},
     "output_type": "execute_result"
    }
   ],
   "source": [
    "a-b"
   ]
  },
  {
   "cell_type": "code",
   "execution_count": 38,
   "id": "43155fc6",
   "metadata": {},
   "outputs": [
    {
     "name": "stdout",
     "output_type": "stream",
     "text": [
      "-67\n"
     ]
    }
   ],
   "source": [
    "a=67\n",
    "print(-a)"
   ]
  },
  {
   "cell_type": "markdown",
   "id": "8e0e5b2a",
   "metadata": {},
   "source": [
    "### ord() and chr()"
   ]
  },
  {
   "cell_type": "code",
   "execution_count": 43,
   "id": "04f138de",
   "metadata": {},
   "outputs": [
    {
     "data": {
      "text/plain": [
       "65"
      ]
     },
     "execution_count": 43,
     "metadata": {},
     "output_type": "execute_result"
    }
   ],
   "source": [
    "# ord() returns ascii code\n",
    "\n",
    "ord('A')"
   ]
  },
  {
   "cell_type": "code",
   "execution_count": 44,
   "id": "e5f859eb",
   "metadata": {},
   "outputs": [
    {
     "data": {
      "text/plain": [
       "97"
      ]
     },
     "execution_count": 44,
     "metadata": {},
     "output_type": "execute_result"
    }
   ],
   "source": [
    "ord('a')"
   ]
  },
  {
   "cell_type": "code",
   "execution_count": 45,
   "id": "4513f5bd",
   "metadata": {},
   "outputs": [
    {
     "data": {
      "text/plain": [
       "'B'"
      ]
     },
     "execution_count": 45,
     "metadata": {},
     "output_type": "execute_result"
    }
   ],
   "source": [
    "chr(66)"
   ]
  },
  {
   "cell_type": "code",
   "execution_count": 46,
   "id": "25d52e76",
   "metadata": {},
   "outputs": [
    {
     "data": {
      "text/plain": [
       "'V'"
      ]
     },
     "execution_count": 46,
     "metadata": {},
     "output_type": "execute_result"
    }
   ],
   "source": [
    "chr(86)"
   ]
  },
  {
   "cell_type": "code",
   "execution_count": 47,
   "id": "23191a0d",
   "metadata": {},
   "outputs": [
    {
     "data": {
      "text/plain": [
       "'z'"
      ]
     },
     "execution_count": 47,
     "metadata": {},
     "output_type": "execute_result"
    }
   ],
   "source": [
    "chr(122)"
   ]
  },
  {
   "cell_type": "code",
   "execution_count": 48,
   "id": "76192ebb",
   "metadata": {},
   "outputs": [],
   "source": [
    "# uppercase- 65-90\n",
    "# lowercase- 97-122"
   ]
  },
  {
   "cell_type": "code",
   "execution_count": 49,
   "id": "48dc9246",
   "metadata": {},
   "outputs": [
    {
     "data": {
      "text/plain": [
       "' '"
      ]
     },
     "execution_count": 49,
     "metadata": {},
     "output_type": "execute_result"
    }
   ],
   "source": [
    "chr(32)"
   ]
  },
  {
   "cell_type": "code",
   "execution_count": 51,
   "id": "03944d40",
   "metadata": {},
   "outputs": [
    {
     "data": {
      "text/plain": [
       "'_'"
      ]
     },
     "execution_count": 51,
     "metadata": {},
     "output_type": "execute_result"
    }
   ],
   "source": [
    "chr(95)"
   ]
  },
  {
   "cell_type": "code",
   "execution_count": 54,
   "id": "badd018b",
   "metadata": {},
   "outputs": [
    {
     "name": "stdout",
     "output_type": "stream",
     "text": [
      "for initials P.V. it is 8086\n"
     ]
    }
   ],
   "source": [
    "# find your vehicle lucky number by using your name initials\n",
    "\n",
    "print('for initials P.V. it is ', ord('P'),ord('V'), sep='')"
   ]
  },
  {
   "cell_type": "markdown",
   "id": "f6908073",
   "metadata": {},
   "source": [
    "#### id() function for memory location"
   ]
  },
  {
   "cell_type": "code",
   "execution_count": 55,
   "id": "6d3b5d7c",
   "metadata": {},
   "outputs": [
    {
     "data": {
      "text/plain": [
       "3010341923408"
      ]
     },
     "execution_count": 55,
     "metadata": {},
     "output_type": "execute_result"
    }
   ],
   "source": [
    "# id(object)\n",
    "x=10\n",
    "id(x)"
   ]
  },
  {
   "cell_type": "code",
   "execution_count": 56,
   "id": "9c1a9649",
   "metadata": {},
   "outputs": [
    {
     "data": {
      "text/plain": [
       "3010341923728"
      ]
     },
     "execution_count": 56,
     "metadata": {},
     "output_type": "execute_result"
    }
   ],
   "source": [
    "y=20\n",
    "id(y)"
   ]
  },
  {
   "cell_type": "code",
   "execution_count": 57,
   "id": "65d5a443",
   "metadata": {},
   "outputs": [
    {
     "name": "stdout",
     "output_type": "stream",
     "text": [
      "20 20\n",
      "3010341923728  3010341923728\n"
     ]
    }
   ],
   "source": [
    "x=x+10\n",
    "print(x,y)\n",
    "print(id(x), id(y), sep='  ')"
   ]
  },
  {
   "cell_type": "markdown",
   "id": "960999ca",
   "metadata": {},
   "source": [
    "#### Comparison & Assignment Operators"
   ]
  },
  {
   "cell_type": "code",
   "execution_count": 60,
   "id": "b4b36767",
   "metadata": {},
   "outputs": [],
   "source": [
    "# <, >, ==, !=, <=, >=\n",
    "# return boolean results"
   ]
  },
  {
   "cell_type": "code",
   "execution_count": 61,
   "id": "6d45e927",
   "metadata": {},
   "outputs": [
    {
     "name": "stdout",
     "output_type": "stream",
     "text": [
      "True\n",
      "False\n"
     ]
    }
   ],
   "source": [
    "a=20\n",
    "b=30\n",
    "print(a<b)\n",
    "print(a>b)"
   ]
  },
  {
   "cell_type": "code",
   "execution_count": 62,
   "id": "b70d291c",
   "metadata": {},
   "outputs": [
    {
     "name": "stdout",
     "output_type": "stream",
     "text": [
      "True\n"
     ]
    }
   ],
   "source": [
    "print(10==10)"
   ]
  },
  {
   "cell_type": "code",
   "execution_count": 64,
   "id": "49bac29a",
   "metadata": {},
   "outputs": [
    {
     "name": "stdout",
     "output_type": "stream",
     "text": [
      "True\n"
     ]
    }
   ],
   "source": [
    "print('hi'!='hello')"
   ]
  },
  {
   "cell_type": "code",
   "execution_count": 65,
   "id": "b2ce0275",
   "metadata": {},
   "outputs": [
    {
     "name": "stdout",
     "output_type": "stream",
     "text": [
      "False\n"
     ]
    }
   ],
   "source": [
    "print('prateek'=='Prateek')"
   ]
  },
  {
   "cell_type": "markdown",
   "id": "4d9367c1",
   "metadata": {},
   "source": [
    "#### logical operators"
   ]
  },
  {
   "cell_type": "code",
   "execution_count": 66,
   "id": "e4727272",
   "metadata": {},
   "outputs": [
    {
     "data": {
      "text/plain": [
       "True"
      ]
     },
     "execution_count": 66,
     "metadata": {},
     "output_type": "execute_result"
    }
   ],
   "source": [
    "# and, or, not\n",
    "\n",
    "a<b and a>10"
   ]
  },
  {
   "cell_type": "code",
   "execution_count": 67,
   "id": "f7268cd1",
   "metadata": {},
   "outputs": [],
   "source": [
    "# True and True = True\n",
    "# True and False = False\n",
    "# False and True = False\n",
    "# False and False = False"
   ]
  },
  {
   "cell_type": "code",
   "execution_count": 69,
   "id": "76d0b3af",
   "metadata": {},
   "outputs": [
    {
     "data": {
      "text/plain": [
       "True"
      ]
     },
     "execution_count": 69,
     "metadata": {},
     "output_type": "execute_result"
    }
   ],
   "source": [
    "# OR\n",
    "\n",
    "a>b or a>10\n",
    "# True or True = True\n",
    "# True or False = True\n",
    "# False or True = True\n",
    "# False or False = False"
   ]
  },
  {
   "cell_type": "code",
   "execution_count": 70,
   "id": "168682ad",
   "metadata": {},
   "outputs": [
    {
     "data": {
      "text/plain": [
       "False"
      ]
     },
     "execution_count": 70,
     "metadata": {},
     "output_type": "execute_result"
    }
   ],
   "source": [
    "a>b or not a>10\n",
    "# False or not True"
   ]
  },
  {
   "cell_type": "markdown",
   "id": "b47ad07d",
   "metadata": {},
   "source": [
    "#### Bitwise Operators"
   ]
  },
  {
   "cell_type": "code",
   "execution_count": 71,
   "id": "5bddd6f3",
   "metadata": {},
   "outputs": [],
   "source": [
    "# & , |, ^"
   ]
  },
  {
   "cell_type": "code",
   "execution_count": 74,
   "id": "6737da92",
   "metadata": {},
   "outputs": [
    {
     "name": "stdout",
     "output_type": "stream",
     "text": [
      "30\n"
     ]
    }
   ],
   "source": [
    "print(10 | 20) # 1010 | 10100"
   ]
  },
  {
   "cell_type": "code",
   "execution_count": 75,
   "id": "facb35dd",
   "metadata": {},
   "outputs": [
    {
     "name": "stdout",
     "output_type": "stream",
     "text": [
      "5\n"
     ]
    }
   ],
   "source": [
    "print(5 & 13) # 0101 & 1101"
   ]
  },
  {
   "cell_type": "code",
   "execution_count": 77,
   "id": "7a1ba6b2",
   "metadata": {},
   "outputs": [
    {
     "name": "stdout",
     "output_type": "stream",
     "text": [
      "7\n"
     ]
    }
   ],
   "source": [
    "print(11 ^ 12) # 1011 ^ 1100"
   ]
  },
  {
   "cell_type": "markdown",
   "id": "49c6c0f6",
   "metadata": {},
   "source": [
    "### shorthand assignment"
   ]
  },
  {
   "cell_type": "code",
   "execution_count": 78,
   "id": "85522b2c",
   "metadata": {},
   "outputs": [],
   "source": [
    "x=10\n",
    "x=x+5"
   ]
  },
  {
   "cell_type": "code",
   "execution_count": 79,
   "id": "7c5359cc",
   "metadata": {},
   "outputs": [],
   "source": [
    "x+=5 # x=x+5\n",
    "\n",
    "# +=, -=, *=, /=, //=, %="
   ]
  },
  {
   "cell_type": "code",
   "execution_count": 80,
   "id": "e582250e",
   "metadata": {},
   "outputs": [
    {
     "ename": "SyntaxError",
     "evalue": "invalid syntax (2140656166.py, line 1)",
     "output_type": "error",
     "traceback": [
      "\u001b[1;36m  Input \u001b[1;32mIn [80]\u001b[1;36m\u001b[0m\n\u001b[1;33m    print(x+=5)\u001b[0m\n\u001b[1;37m           ^\u001b[0m\n\u001b[1;31mSyntaxError\u001b[0m\u001b[1;31m:\u001b[0m invalid syntax\n"
     ]
    }
   ],
   "source": [
    "print(x+=5) # error"
   ]
  },
  {
   "cell_type": "code",
   "execution_count": null,
   "id": "d6c69af1",
   "metadata": {},
   "outputs": [],
   "source": [
    "x+=5\n",
    "x-=5\n",
    "x*=5\n",
    "x%=3"
   ]
  },
  {
   "cell_type": "markdown",
   "id": "4f774c65",
   "metadata": {},
   "source": [
    "#### Operator Precedence"
   ]
  },
  {
   "cell_type": "code",
   "execution_count": 81,
   "id": "86032839",
   "metadata": {},
   "outputs": [
    {
     "name": "stdout",
     "output_type": "stream",
     "text": [
      "-70.0\n"
     ]
    }
   ],
   "source": [
    "print(23+45/3-6**2*3)"
   ]
  },
  {
   "cell_type": "code",
   "execution_count": 82,
   "id": "6e0b08dd",
   "metadata": {},
   "outputs": [],
   "source": [
    "# bitwise shift operators"
   ]
  },
  {
   "cell_type": "code",
   "execution_count": 83,
   "id": "188dcf1e",
   "metadata": {},
   "outputs": [],
   "source": [
    "# << left shift, >> right shift"
   ]
  },
  {
   "cell_type": "code",
   "execution_count": 85,
   "id": "ac254f80",
   "metadata": {},
   "outputs": [
    {
     "data": {
      "text/plain": [
       "128"
      ]
     },
     "execution_count": 85,
     "metadata": {},
     "output_type": "execute_result"
    }
   ],
   "source": [
    "16<<3"
   ]
  },
  {
   "cell_type": "code",
   "execution_count": 86,
   "id": "e13696d4",
   "metadata": {},
   "outputs": [
    {
     "data": {
      "text/plain": [
       "8"
      ]
     },
     "execution_count": 86,
     "metadata": {},
     "output_type": "execute_result"
    }
   ],
   "source": [
    "128>>4"
   ]
  },
  {
   "cell_type": "code",
   "execution_count": 89,
   "id": "883471aa",
   "metadata": {},
   "outputs": [
    {
     "data": {
      "text/plain": [
       "12"
      ]
     },
     "execution_count": 89,
     "metadata": {},
     "output_type": "execute_result"
    }
   ],
   "source": [
    "192>>4"
   ]
  },
  {
   "cell_type": "markdown",
   "id": "5fffbfde",
   "metadata": {},
   "source": [
    "#### integer variables/values"
   ]
  },
  {
   "cell_type": "code",
   "execution_count": 90,
   "id": "7f6b0bc7",
   "metadata": {},
   "outputs": [],
   "source": [
    "x=278"
   ]
  },
  {
   "cell_type": "code",
   "execution_count": 94,
   "id": "23c9be15",
   "metadata": {},
   "outputs": [
    {
     "name": "stdout",
     "output_type": "stream",
     "text": [
      "1085694143391558309197410987543741039861500533658123687734609225601639035635377811020178986662427840881219829734156912063918519734557639671957211145916914621942801903081132234436159144230732551890632365588927700644127676669164407541542375678745974493160178520612124391841931868103573457759631690256928076388370563334975641400832910518644641270952406580873684746905742491745265178043750191215907752614707088913916429858760223914459904351310292616133366691977835020608085961812587221060401649469733057684414434681291710455932528224798647255187343380784382549899083431977449114954064967290200259987315761261338330201901060928330137180661737461782613840629050022902029031616800731290085307763332148091393764695401654636151967698533786523107974128821000877443319619716170920237747210539223405737991058345988712877724766950159227617401410996278913476356543774528627066407546110861848596546629655739065423473034077834967466785126628793791424477798376156321786384707125923274507328405487053834167676006353424692859767292102298071077341416498510319262940390240650820770449577594689162516400137549715926775545491754525906491791311619338940905586304575643652469269841708670639134387143120961718148082578623820321831213295347441623870533434972258333348938362159812434357213588780954696090442012481244658271080758619818606517093481208907655012283904377803201629280815380670637692460631210891247073224791252725694728866072548257105237503605378774025950427061503682696027482616683172821578470545212126582095660786867715699518188947415654807011556930439718828986036382652845128103487811039331248469850671085533062831185062158435136353767853714774193276139744948201462998857124396274969969770821746122670407917757681907592726997922227989861223040736550684023903296121048393575307961798847617431126702478123093017349816962734873054283716854752519039288737233172417102131463218872357168537946755713922697067304713962443511554513278520439488703716490155760726180032937984\n"
     ]
    }
   ],
   "source": [
    "x=2788**566\n",
    "print(x)"
   ]
  },
  {
   "cell_type": "markdown",
   "id": "ec8acb20",
   "metadata": {},
   "source": [
    "#### strings in python"
   ]
  },
  {
   "cell_type": "code",
   "execution_count": 95,
   "id": "9e42171e",
   "metadata": {},
   "outputs": [],
   "source": [
    "s='hello'\n",
    "s=\"welcome\""
   ]
  },
  {
   "cell_type": "code",
   "execution_count": 96,
   "id": "362280aa",
   "metadata": {},
   "outputs": [],
   "source": [
    "s='''triple quoted strings'''\n",
    "\n",
    "s=\"\"\"triple quoted strings\"\"\""
   ]
  },
  {
   "cell_type": "code",
   "execution_count": 97,
   "id": "94112314",
   "metadata": {},
   "outputs": [],
   "source": [
    "s='''Dear Colleagues,\n",
    "Welcome to Deloitte!\n",
    "We are pleased to have your company in office this year.'''"
   ]
  },
  {
   "cell_type": "code",
   "execution_count": 98,
   "id": "e578be1b",
   "metadata": {},
   "outputs": [
    {
     "name": "stdout",
     "output_type": "stream",
     "text": [
      "Dear Colleagues,\n",
      "Welcome to Deloitte!\n",
      "We are pleased to have your company in office this year.\n"
     ]
    }
   ],
   "source": [
    "print(s)"
   ]
  },
  {
   "cell_type": "code",
   "execution_count": 100,
   "id": "a5898cb2",
   "metadata": {},
   "outputs": [
    {
     "data": {
      "text/plain": [
       "'Dear Colleagues,\\nWelcome to Deloitte!\\nWe are pleased to have your company in office this year.'"
      ]
     },
     "execution_count": 100,
     "metadata": {},
     "output_type": "execute_result"
    }
   ],
   "source": [
    "s"
   ]
  },
  {
   "cell_type": "code",
   "execution_count": 101,
   "id": "9f1c825e",
   "metadata": {},
   "outputs": [
    {
     "name": "stdout",
     "output_type": "stream",
     "text": [
      "hello\n",
      "hi\n",
      "bye\n"
     ]
    }
   ],
   "source": [
    "s='hello\\nhi\\nbye'\n",
    "print(s)"
   ]
  },
  {
   "cell_type": "code",
   "execution_count": 102,
   "id": "0b73847b",
   "metadata": {},
   "outputs": [
    {
     "data": {
      "text/plain": [
       "str"
      ]
     },
     "execution_count": 102,
     "metadata": {},
     "output_type": "execute_result"
    }
   ],
   "source": [
    "type(s)"
   ]
  },
  {
   "cell_type": "code",
   "execution_count": 103,
   "id": "edf05b6d",
   "metadata": {},
   "outputs": [],
   "source": [
    "# strings are sequences"
   ]
  },
  {
   "cell_type": "code",
   "execution_count": 104,
   "id": "6240ea1c",
   "metadata": {},
   "outputs": [],
   "source": [
    "s='HELLO DELOITTE'"
   ]
  },
  {
   "cell_type": "code",
   "execution_count": 106,
   "id": "9e35699b",
   "metadata": {},
   "outputs": [
    {
     "data": {
      "text/plain": [
       "'L'"
      ]
     },
     "execution_count": 106,
     "metadata": {},
     "output_type": "execute_result"
    }
   ],
   "source": [
    "s[3] # indexing"
   ]
  },
  {
   "cell_type": "code",
   "execution_count": 107,
   "id": "1bc591bf",
   "metadata": {},
   "outputs": [
    {
     "data": {
      "text/plain": [
       "'T'"
      ]
     },
     "execution_count": 107,
     "metadata": {},
     "output_type": "execute_result"
    }
   ],
   "source": [
    "s[-2]"
   ]
  },
  {
   "cell_type": "code",
   "execution_count": 108,
   "id": "5d242c19",
   "metadata": {},
   "outputs": [
    {
     "data": {
      "text/plain": [
       "'HELLO'"
      ]
     },
     "execution_count": 108,
     "metadata": {},
     "output_type": "execute_result"
    }
   ],
   "source": [
    "# index based slicing str[start:end]=> start to end-1\n",
    "s[0:5] # 0 to index 4"
   ]
  },
  {
   "cell_type": "code",
   "execution_count": 110,
   "id": "26235767",
   "metadata": {},
   "outputs": [
    {
     "data": {
      "text/plain": [
       "'OITT'"
      ]
     },
     "execution_count": 110,
     "metadata": {},
     "output_type": "execute_result"
    }
   ],
   "source": [
    "s[-5:-1] # from -5 to (-1-1) i.e. -2"
   ]
  },
  {
   "cell_type": "code",
   "execution_count": 113,
   "id": "6770f5e5",
   "metadata": {},
   "outputs": [
    {
     "data": {
      "text/plain": [
       "'TTE'"
      ]
     },
     "execution_count": 113,
     "metadata": {},
     "output_type": "execute_result"
    }
   ],
   "source": [
    "s[-3:]"
   ]
  },
  {
   "cell_type": "code",
   "execution_count": 114,
   "id": "be58c2ee",
   "metadata": {},
   "outputs": [
    {
     "data": {
      "text/plain": [
       "'HELLO DELOIT'"
      ]
     },
     "execution_count": 114,
     "metadata": {},
     "output_type": "execute_result"
    }
   ],
   "source": [
    "s[:-2]"
   ]
  },
  {
   "cell_type": "markdown",
   "id": "ed9ba5d3",
   "metadata": {},
   "source": [
    "#### Strings are Immutable"
   ]
  },
  {
   "cell_type": "code",
   "execution_count": 115,
   "id": "158a9ee0",
   "metadata": {},
   "outputs": [
    {
     "data": {
      "text/plain": [
       "'o'"
      ]
     },
     "execution_count": 115,
     "metadata": {},
     "output_type": "execute_result"
    }
   ],
   "source": [
    "s='deloitte'\n",
    "s[3]"
   ]
  },
  {
   "cell_type": "code",
   "execution_count": 116,
   "id": "8ad60dd8",
   "metadata": {},
   "outputs": [
    {
     "ename": "TypeError",
     "evalue": "'str' object does not support item assignment",
     "output_type": "error",
     "traceback": [
      "\u001b[1;31m---------------------------------------------------------------------------\u001b[0m",
      "\u001b[1;31mTypeError\u001b[0m                                 Traceback (most recent call last)",
      "Input \u001b[1;32mIn [116]\u001b[0m, in \u001b[0;36m<cell line: 1>\u001b[1;34m()\u001b[0m\n\u001b[1;32m----> 1\u001b[0m s[\u001b[38;5;241m3\u001b[39m]\u001b[38;5;241m=\u001b[39m\u001b[38;5;124m'\u001b[39m\u001b[38;5;124mk\u001b[39m\u001b[38;5;124m'\u001b[39m\n",
      "\u001b[1;31mTypeError\u001b[0m: 'str' object does not support item assignment"
     ]
    }
   ],
   "source": [
    "s[3]='k'"
   ]
  },
  {
   "cell_type": "markdown",
   "id": "bbf3a322",
   "metadata": {},
   "source": [
    "### String Inbuilt Functions"
   ]
  },
  {
   "cell_type": "code",
   "execution_count": 117,
   "id": "8cc637d2",
   "metadata": {},
   "outputs": [],
   "source": [
    "s='deloitte USI'"
   ]
  },
  {
   "cell_type": "code",
   "execution_count": 118,
   "id": "a790de31",
   "metadata": {},
   "outputs": [
    {
     "name": "stdout",
     "output_type": "stream",
     "text": [
      "DELOITTE USI\n"
     ]
    }
   ],
   "source": [
    "# changing case\n",
    "print(s.upper())"
   ]
  },
  {
   "cell_type": "code",
   "execution_count": 119,
   "id": "0116d00b",
   "metadata": {},
   "outputs": [
    {
     "data": {
      "text/plain": [
       "'deloitte usi'"
      ]
     },
     "execution_count": 119,
     "metadata": {},
     "output_type": "execute_result"
    }
   ],
   "source": [
    "s.lower()"
   ]
  },
  {
   "cell_type": "code",
   "execution_count": 122,
   "id": "a3e2de8a",
   "metadata": {},
   "outputs": [
    {
     "data": {
      "text/plain": [
       "'Deloitte usi'"
      ]
     },
     "execution_count": 122,
     "metadata": {},
     "output_type": "execute_result"
    }
   ],
   "source": [
    "s.capitalize()"
   ]
  },
  {
   "cell_type": "code",
   "execution_count": 123,
   "id": "9da5ea23",
   "metadata": {},
   "outputs": [
    {
     "data": {
      "text/plain": [
       "'Deloitte Usi'"
      ]
     },
     "execution_count": 123,
     "metadata": {},
     "output_type": "execute_result"
    }
   ],
   "source": [
    "s.title()"
   ]
  },
  {
   "cell_type": "code",
   "execution_count": 127,
   "id": "5d512fad",
   "metadata": {},
   "outputs": [
    {
     "data": {
      "text/plain": [
       "'hello'"
      ]
     },
     "execution_count": 127,
     "metadata": {},
     "output_type": "execute_result"
    }
   ],
   "source": [
    "# strip\n",
    "s='   hello       '\n",
    "s.strip()"
   ]
  },
  {
   "cell_type": "code",
   "execution_count": 128,
   "id": "1ae0e374",
   "metadata": {},
   "outputs": [
    {
     "data": {
      "text/plain": [
       "'hello'"
      ]
     },
     "execution_count": 128,
     "metadata": {},
     "output_type": "execute_result"
    }
   ],
   "source": [
    "s='###hello########'\n",
    "s.strip('#')"
   ]
  },
  {
   "cell_type": "code",
   "execution_count": 134,
   "id": "6f19ae17",
   "metadata": {},
   "outputs": [
    {
     "data": {
      "text/plain": [
       "'hello welcome'"
      ]
     },
     "execution_count": 134,
     "metadata": {},
     "output_type": "execute_result"
    }
   ],
   "source": [
    "s='   ###~~~hello welcome~~##       '\n",
    "s.strip(' #~')"
   ]
  },
  {
   "cell_type": "code",
   "execution_count": 135,
   "id": "55a5fc05",
   "metadata": {},
   "outputs": [
    {
     "data": {
      "text/plain": [
       "'hello welcome~~##       '"
      ]
     },
     "execution_count": 135,
     "metadata": {},
     "output_type": "execute_result"
    }
   ],
   "source": [
    "s.lstrip(' #~')"
   ]
  },
  {
   "cell_type": "code",
   "execution_count": 136,
   "id": "afd00b8c",
   "metadata": {},
   "outputs": [
    {
     "data": {
      "text/plain": [
       "'   ###~~~hello welcome'"
      ]
     },
     "execution_count": 136,
     "metadata": {},
     "output_type": "execute_result"
    }
   ],
   "source": [
    "s.rstrip(' #~')"
   ]
  },
  {
   "cell_type": "code",
   "execution_count": 138,
   "id": "9b7eefea",
   "metadata": {},
   "outputs": [
    {
     "data": {
      "text/plain": [
       "['hello', 'hi', 'welcome', 'to', 'deloitte']"
      ]
     },
     "execution_count": 138,
     "metadata": {},
     "output_type": "execute_result"
    }
   ],
   "source": [
    "## split()\n",
    "s='hello hi welcome to deloitte'\n",
    "s.split()"
   ]
  },
  {
   "cell_type": "code",
   "execution_count": 140,
   "id": "b1910bca",
   "metadata": {},
   "outputs": [
    {
     "data": {
      "text/plain": [
       "['split', 'function']"
      ]
     },
     "execution_count": 140,
     "metadata": {},
     "output_type": "execute_result"
    }
   ],
   "source": [
    "s='split-function'\n",
    "s.split('-')"
   ]
  },
  {
   "cell_type": "code",
   "execution_count": 141,
   "id": "952b438d",
   "metadata": {},
   "outputs": [
    {
     "data": {
      "text/plain": [
       "['192', '168', '34', '156']"
      ]
     },
     "execution_count": 141,
     "metadata": {},
     "output_type": "execute_result"
    }
   ],
   "source": [
    "s='192.168.34.156'\n",
    "s.split('.')"
   ]
  },
  {
   "cell_type": "code",
   "execution_count": 142,
   "id": "465ca77d",
   "metadata": {},
   "outputs": [
    {
     "name": "stdout",
     "output_type": "stream",
     "text": [
      "User:  prateek\n",
      "Domain:  deloitte.com\n"
     ]
    }
   ],
   "source": [
    "s='prateek@deloitte.com'\n",
    "print('User: ', s.split('@')[0])\n",
    "print('Domain: ', s.split('@')[1])"
   ]
  },
  {
   "cell_type": "code",
   "execution_count": 143,
   "id": "f890f6ee",
   "metadata": {},
   "outputs": [
    {
     "data": {
      "text/plain": [
       "['prateek', 'deloitte.com']"
      ]
     },
     "execution_count": 143,
     "metadata": {},
     "output_type": "execute_result"
    }
   ],
   "source": [
    "s.split('@')"
   ]
  },
  {
   "cell_type": "code",
   "execution_count": 145,
   "id": "da1d823c",
   "metadata": {},
   "outputs": [
    {
     "data": {
      "text/plain": [
       "'prateek@deloitte.com'"
      ]
     },
     "execution_count": 145,
     "metadata": {},
     "output_type": "execute_result"
    }
   ],
   "source": [
    "# join\n",
    "\n",
    "s='prateek#deloitte.com'\n",
    "'@'.join(s.split('#'))"
   ]
  },
  {
   "cell_type": "code",
   "execution_count": 146,
   "id": "f413d24e",
   "metadata": {},
   "outputs": [],
   "source": [
    "# checking functions - returns bool result"
   ]
  },
  {
   "cell_type": "code",
   "execution_count": 147,
   "id": "80060552",
   "metadata": {},
   "outputs": [
    {
     "data": {
      "text/plain": [
       "False"
      ]
     },
     "execution_count": 147,
     "metadata": {},
     "output_type": "execute_result"
    }
   ],
   "source": [
    "s='hello123'\n",
    "s.isalpha()"
   ]
  },
  {
   "cell_type": "code",
   "execution_count": 148,
   "id": "01cf5296",
   "metadata": {},
   "outputs": [
    {
     "data": {
      "text/plain": [
       "True"
      ]
     },
     "execution_count": 148,
     "metadata": {},
     "output_type": "execute_result"
    }
   ],
   "source": [
    "s.isalnum()"
   ]
  },
  {
   "cell_type": "code",
   "execution_count": 149,
   "id": "c737b3bd",
   "metadata": {},
   "outputs": [
    {
     "data": {
      "text/plain": [
       "True"
      ]
     },
     "execution_count": 149,
     "metadata": {},
     "output_type": "execute_result"
    }
   ],
   "source": [
    "s='102'\n",
    "s.isdecimal()"
   ]
  },
  {
   "cell_type": "code",
   "execution_count": 151,
   "id": "cc7e0ca5",
   "metadata": {},
   "outputs": [
    {
     "data": {
      "text/plain": [
       "True"
      ]
     },
     "execution_count": 151,
     "metadata": {},
     "output_type": "execute_result"
    }
   ],
   "source": [
    "s='1101'\n",
    "s.isdigit()"
   ]
  },
  {
   "cell_type": "code",
   "execution_count": 155,
   "id": "eca519ee",
   "metadata": {},
   "outputs": [
    {
     "data": {
      "text/plain": [
       "True"
      ]
     },
     "execution_count": 155,
     "metadata": {},
     "output_type": "execute_result"
    }
   ],
   "source": [
    "s='calculate_factorial'\n",
    "s.isidentifier()"
   ]
  },
  {
   "cell_type": "code",
   "execution_count": 158,
   "id": "2bbb18cc",
   "metadata": {},
   "outputs": [
    {
     "data": {
      "text/plain": [
       "False"
      ]
     },
     "execution_count": 158,
     "metadata": {},
     "output_type": "execute_result"
    }
   ],
   "source": [
    "s='31.465'\n",
    "s.isnumeric()"
   ]
  },
  {
   "cell_type": "code",
   "execution_count": 159,
   "id": "47fc7853",
   "metadata": {},
   "outputs": [],
   "source": [
    "# Other functions"
   ]
  },
  {
   "cell_type": "code",
   "execution_count": 160,
   "id": "3734c67c",
   "metadata": {},
   "outputs": [
    {
     "data": {
      "text/plain": [
       "['prateek', 'gmail.com']"
      ]
     },
     "execution_count": 160,
     "metadata": {},
     "output_type": "execute_result"
    }
   ],
   "source": [
    "s='prateek@gmail.com'\n",
    "s.split('@')"
   ]
  },
  {
   "cell_type": "code",
   "execution_count": 161,
   "id": "97f4abc1",
   "metadata": {},
   "outputs": [
    {
     "data": {
      "text/plain": [
       "('prateek', '@', 'gmail.com')"
      ]
     },
     "execution_count": 161,
     "metadata": {},
     "output_type": "execute_result"
    }
   ],
   "source": [
    "s.partition('@')"
   ]
  },
  {
   "cell_type": "code",
   "execution_count": 162,
   "id": "3380a003",
   "metadata": {},
   "outputs": [
    {
     "data": {
      "text/plain": [
       "('pr', '@', 'teek@deloitte.com')"
      ]
     },
     "execution_count": 162,
     "metadata": {},
     "output_type": "execute_result"
    }
   ],
   "source": [
    "s='pr@teek@deloitte.com'\n",
    "s.partition('@')"
   ]
  },
  {
   "cell_type": "code",
   "execution_count": 163,
   "id": "704b9de6",
   "metadata": {},
   "outputs": [
    {
     "data": {
      "text/plain": [
       "('pr@teek', '@', 'deloitte.com')"
      ]
     },
     "execution_count": 163,
     "metadata": {},
     "output_type": "execute_result"
    }
   ],
   "source": [
    "s.rpartition('@')"
   ]
  },
  {
   "cell_type": "code",
   "execution_count": 164,
   "id": "86fe0d52",
   "metadata": {},
   "outputs": [
    {
     "data": {
      "text/plain": [
       "'HELLO usi'"
      ]
     },
     "execution_count": 164,
     "metadata": {},
     "output_type": "execute_result"
    }
   ],
   "source": [
    "s='hello USI'\n",
    "s.swapcase()"
   ]
  },
  {
   "cell_type": "code",
   "execution_count": 165,
   "id": "3ea7f3bb",
   "metadata": {},
   "outputs": [
    {
     "data": {
      "text/plain": [
       "True"
      ]
     },
     "execution_count": 165,
     "metadata": {},
     "output_type": "execute_result"
    }
   ],
   "source": [
    "s='hello'\n",
    "s.islower()"
   ]
  },
  {
   "cell_type": "code",
   "execution_count": 166,
   "id": "566034ac",
   "metadata": {},
   "outputs": [
    {
     "data": {
      "text/plain": [
       "False"
      ]
     },
     "execution_count": 166,
     "metadata": {},
     "output_type": "execute_result"
    }
   ],
   "source": [
    "s.isupper()"
   ]
  },
  {
   "cell_type": "code",
   "execution_count": 172,
   "id": "f7445aa2",
   "metadata": {},
   "outputs": [
    {
     "data": {
      "text/plain": [
       "True"
      ]
     },
     "execution_count": 172,
     "metadata": {},
     "output_type": "execute_result"
    }
   ],
   "source": [
    "s='Hello'\n",
    "s[1:].islower()"
   ]
  },
  {
   "cell_type": "code",
   "execution_count": 173,
   "id": "0e2874ba",
   "metadata": {},
   "outputs": [
    {
     "data": {
      "text/plain": [
       "'00000234'"
      ]
     },
     "execution_count": 173,
     "metadata": {},
     "output_type": "execute_result"
    }
   ],
   "source": [
    "s='234'\n",
    "s.zfill(8)"
   ]
  },
  {
   "cell_type": "code",
   "execution_count": 174,
   "id": "275b9859",
   "metadata": {},
   "outputs": [
    {
     "data": {
      "text/plain": [
       "'0000000000001011'"
      ]
     },
     "execution_count": 174,
     "metadata": {},
     "output_type": "execute_result"
    }
   ],
   "source": [
    "s='1011'\n",
    "s.zfill(16)"
   ]
  },
  {
   "cell_type": "code",
   "execution_count": 177,
   "id": "1eddf557",
   "metadata": {},
   "outputs": [
    {
     "name": "stdout",
     "output_type": "stream",
     "text": [
      "deloitte                      \n",
      "           deloitte           \n",
      "                      deloitte\n"
     ]
    }
   ],
   "source": [
    "s='deloitte'\n",
    "print(s.ljust(30)) # left align in 30 char space\n",
    "print(s.center(30)) # center align in 30 char space\n",
    "print(s.rjust(30)) # right ailgn in 30 char space"
   ]
  },
  {
   "cell_type": "code",
   "execution_count": 179,
   "id": "0822c85a",
   "metadata": {},
   "outputs": [
    {
     "data": {
      "text/plain": [
       "9"
      ]
     },
     "execution_count": 179,
     "metadata": {},
     "output_type": "execute_result"
    }
   ],
   "source": [
    "s='deloitte USI'\n",
    "s.index('USI')"
   ]
  },
  {
   "cell_type": "code",
   "execution_count": 180,
   "id": "139c0490",
   "metadata": {},
   "outputs": [
    {
     "data": {
      "text/plain": [
       "3"
      ]
     },
     "execution_count": 180,
     "metadata": {},
     "output_type": "execute_result"
    }
   ],
   "source": [
    "s='hi DOM, how are you DOM'\n",
    "s.index('DOM')"
   ]
  },
  {
   "cell_type": "code",
   "execution_count": 181,
   "id": "03eadf72",
   "metadata": {},
   "outputs": [
    {
     "data": {
      "text/plain": [
       "20"
      ]
     },
     "execution_count": 181,
     "metadata": {},
     "output_type": "execute_result"
    }
   ],
   "source": [
    "s.rindex('DOM')"
   ]
  },
  {
   "cell_type": "code",
   "execution_count": 182,
   "id": "5a3c447c",
   "metadata": {},
   "outputs": [
    {
     "data": {
      "text/plain": [
       "3"
      ]
     },
     "execution_count": 182,
     "metadata": {},
     "output_type": "execute_result"
    }
   ],
   "source": [
    "s.find('DOM')"
   ]
  },
  {
   "cell_type": "code",
   "execution_count": 183,
   "id": "30f3096c",
   "metadata": {},
   "outputs": [
    {
     "data": {
      "text/plain": [
       "20"
      ]
     },
     "execution_count": 183,
     "metadata": {},
     "output_type": "execute_result"
    }
   ],
   "source": [
    "s.rfind('DOM')"
   ]
  },
  {
   "cell_type": "code",
   "execution_count": 184,
   "id": "52ecad16",
   "metadata": {},
   "outputs": [
    {
     "ename": "ValueError",
     "evalue": "substring not found",
     "output_type": "error",
     "traceback": [
      "\u001b[1;31m---------------------------------------------------------------------------\u001b[0m",
      "\u001b[1;31mValueError\u001b[0m                                Traceback (most recent call last)",
      "Input \u001b[1;32mIn [184]\u001b[0m, in \u001b[0;36m<cell line: 1>\u001b[1;34m()\u001b[0m\n\u001b[1;32m----> 1\u001b[0m \u001b[43ms\u001b[49m\u001b[38;5;241;43m.\u001b[39;49m\u001b[43mindex\u001b[49m\u001b[43m(\u001b[49m\u001b[38;5;124;43m'\u001b[39;49m\u001b[38;5;124;43mDON\u001b[39;49m\u001b[38;5;124;43m'\u001b[39;49m\u001b[43m)\u001b[49m\n",
      "\u001b[1;31mValueError\u001b[0m: substring not found"
     ]
    }
   ],
   "source": [
    "s.index('DON')"
   ]
  },
  {
   "cell_type": "code",
   "execution_count": 185,
   "id": "3fee3d1e",
   "metadata": {},
   "outputs": [
    {
     "data": {
      "text/plain": [
       "-1"
      ]
     },
     "execution_count": 185,
     "metadata": {},
     "output_type": "execute_result"
    }
   ],
   "source": [
    "s.find('DON')"
   ]
  },
  {
   "cell_type": "code",
   "execution_count": 186,
   "id": "c6e3f849",
   "metadata": {},
   "outputs": [
    {
     "data": {
      "text/plain": [
       "True"
      ]
     },
     "execution_count": 186,
     "metadata": {},
     "output_type": "execute_result"
    }
   ],
   "source": [
    "s='tell deloitte'\n",
    "s.endswith('te')"
   ]
  },
  {
   "cell_type": "code",
   "execution_count": 187,
   "id": "d3e32388",
   "metadata": {},
   "outputs": [
    {
     "data": {
      "text/plain": [
       "True"
      ]
     },
     "execution_count": 187,
     "metadata": {},
     "output_type": "execute_result"
    }
   ],
   "source": [
    "s.startswith('te')"
   ]
  },
  {
   "cell_type": "code",
   "execution_count": 188,
   "id": "0f65b339",
   "metadata": {},
   "outputs": [
    {
     "name": "stdout",
     "output_type": "stream",
     "text": [
      "hello\thow are you?\n"
     ]
    }
   ],
   "source": [
    "s='hello\\thow are you?'\n",
    "print(s)"
   ]
  },
  {
   "cell_type": "code",
   "execution_count": 190,
   "id": "f26e7ec9",
   "metadata": {},
   "outputs": [
    {
     "data": {
      "text/plain": [
       "'hello               how are you?'"
      ]
     },
     "execution_count": 190,
     "metadata": {},
     "output_type": "execute_result"
    }
   ],
   "source": [
    "s.expandtabs(20)"
   ]
  },
  {
   "cell_type": "code",
   "execution_count": 191,
   "id": "173a6a96",
   "metadata": {},
   "outputs": [
    {
     "name": "stdout",
     "output_type": "stream",
     "text": [
      "PR@TEEK\n"
     ]
    }
   ],
   "source": [
    "tr_table=str.maketrans('A', '@')\n",
    "s='PRATEEK'\n",
    "print(s.translate(tr_table))"
   ]
  },
  {
   "cell_type": "code",
   "execution_count": 192,
   "id": "3f15b7bf",
   "metadata": {},
   "outputs": [
    {
     "data": {
      "text/plain": [
       "'hello deloitte India'"
      ]
     },
     "execution_count": 192,
     "metadata": {},
     "output_type": "execute_result"
    }
   ],
   "source": [
    "'hello deloitte USI'.replace('USI', 'India')"
   ]
  },
  {
   "cell_type": "code",
   "execution_count": 194,
   "id": "3b096fa9",
   "metadata": {},
   "outputs": [
    {
     "data": {
      "text/plain": [
       "'hi jerry, how are u jerry, bye tom'"
      ]
     },
     "execution_count": 194,
     "metadata": {},
     "output_type": "execute_result"
    }
   ],
   "source": [
    "'hi tom, how are u tom, bye tom'.replace('tom','jerry', 2)"
   ]
  },
  {
   "cell_type": "code",
   "execution_count": 195,
   "id": "239f10ba",
   "metadata": {},
   "outputs": [
    {
     "data": {
      "text/plain": [
       "30"
      ]
     },
     "execution_count": 195,
     "metadata": {},
     "output_type": "execute_result"
    }
   ],
   "source": [
    "s='hi tom, how are u tom, bye tom'\n",
    "len(s)"
   ]
  },
  {
   "cell_type": "code",
   "execution_count": 197,
   "id": "6b9a3b20",
   "metadata": {},
   "outputs": [
    {
     "data": {
      "text/plain": [
       "['hello', 'how are you?', 'bye for now', 'meet tomorrow']"
      ]
     },
     "execution_count": 197,
     "metadata": {},
     "output_type": "execute_result"
    }
   ],
   "source": [
    "s='''hello\n",
    "how are you?\n",
    "bye for now\n",
    "meet tomorrow'''\n",
    "\n",
    "s.splitlines()"
   ]
  },
  {
   "cell_type": "code",
   "execution_count": 201,
   "id": "342a703f",
   "metadata": {},
   "outputs": [
    {
     "name": "stdout",
     "output_type": "stream",
     "text": [
      "Words:  9\n",
      "Lines:  4\n"
     ]
    }
   ],
   "source": [
    "# Write a code to count \n",
    "# number of lines & number of words\n",
    "# in a multiline string\n",
    "s='''hello\n",
    "how are you?\n",
    "bye for now\n",
    "meet tomorrow'''\n",
    "print('Words: ',len(s.split()))\n",
    "print('Lines: ',len(s.splitlines()))"
   ]
  },
  {
   "cell_type": "code",
   "execution_count": 204,
   "id": "10dcd5c0",
   "metadata": {},
   "outputs": [
    {
     "name": "stdout",
     "output_type": "stream",
     "text": [
      "what? is your name george?\n"
     ]
    }
   ],
   "source": [
    "# write a code to replace \n",
    "# first occurence of dot with question mark \n",
    "# in given string\n",
    "# and remove all other dot symbols\n",
    "\n",
    "s='what. is. your. name. george.?'\n",
    "s=s.replace('.', '?',1).replace('.','')\n",
    "print(s)"
   ]
  },
  {
   "cell_type": "code",
   "execution_count": 205,
   "id": "7988c6aa",
   "metadata": {},
   "outputs": [
    {
     "data": {
      "text/plain": [
       "5"
      ]
     },
     "execution_count": 205,
     "metadata": {},
     "output_type": "execute_result"
    }
   ],
   "source": [
    "# count\n",
    "s='abrakadabra'\n",
    "s.count('a')"
   ]
  },
  {
   "cell_type": "code",
   "execution_count": 206,
   "id": "f61a96eb",
   "metadata": {},
   "outputs": [
    {
     "data": {
      "text/plain": [
       "3"
      ]
     },
     "execution_count": 206,
     "metadata": {},
     "output_type": "execute_result"
    }
   ],
   "source": [
    "s='hi tom, are u tom? tom is my best frnd!'\n",
    "s.count('tom')"
   ]
  },
  {
   "cell_type": "code",
   "execution_count": 207,
   "id": "95f2e328",
   "metadata": {},
   "outputs": [
    {
     "data": {
      "text/plain": [
       "9"
      ]
     },
     "execution_count": 207,
     "metadata": {},
     "output_type": "execute_result"
    }
   ],
   "source": [
    "s.count(' ')"
   ]
  },
  {
   "cell_type": "code",
   "execution_count": 209,
   "id": "d121ea12",
   "metadata": {},
   "outputs": [
    {
     "data": {
      "text/plain": [
       "b'hi tom, are u tom? tom is my best frnd!'"
      ]
     },
     "execution_count": 209,
     "metadata": {},
     "output_type": "execute_result"
    }
   ],
   "source": [
    "s.encode('utf-8')"
   ]
  },
  {
   "cell_type": "code",
   "execution_count": 210,
   "id": "f86da526",
   "metadata": {},
   "outputs": [
    {
     "data": {
      "text/plain": [
       "6"
      ]
     },
     "execution_count": 210,
     "metadata": {},
     "output_type": "execute_result"
    }
   ],
   "source": [
    "s='hello'\n",
    "s.count('')"
   ]
  },
  {
   "cell_type": "code",
   "execution_count": 211,
   "id": "11803c26",
   "metadata": {},
   "outputs": [],
   "source": [
    "# concatination\n",
    "s1='hello'\n",
    "s2='deloitte'"
   ]
  },
  {
   "cell_type": "code",
   "execution_count": 212,
   "id": "bacef3e7",
   "metadata": {},
   "outputs": [
    {
     "data": {
      "text/plain": [
       "'hellodeloitte'"
      ]
     },
     "execution_count": 212,
     "metadata": {},
     "output_type": "execute_result"
    }
   ],
   "source": [
    "s1+s2"
   ]
  },
  {
   "cell_type": "code",
   "execution_count": 213,
   "id": "938c08cc",
   "metadata": {},
   "outputs": [
    {
     "data": {
      "text/plain": [
       "'hellohellohellohellohello'"
      ]
     },
     "execution_count": 213,
     "metadata": {},
     "output_type": "execute_result"
    }
   ],
   "source": [
    "s1*5"
   ]
  },
  {
   "cell_type": "code",
   "execution_count": 217,
   "id": "45fbec41",
   "metadata": {},
   "outputs": [
    {
     "data": {
      "text/plain": [
       "'* * * * * * * * * * '"
      ]
     },
     "execution_count": 217,
     "metadata": {},
     "output_type": "execute_result"
    }
   ],
   "source": [
    "'* '*10"
   ]
  },
  {
   "cell_type": "markdown",
   "id": "97da5077",
   "metadata": {},
   "source": [
    "### Formatting the strings - format() or f''"
   ]
  },
  {
   "cell_type": "code",
   "execution_count": 218,
   "id": "cdabc12e",
   "metadata": {},
   "outputs": [
    {
     "name": "stdout",
     "output_type": "stream",
     "text": [
      "Welcome Raghav, You are now in Deloitte\n"
     ]
    }
   ],
   "source": [
    "# format()\n",
    "s='Welcome {0}, You are now in {1}'\n",
    "print(s.format('Raghav', 'Deloitte'))"
   ]
  },
  {
   "cell_type": "code",
   "execution_count": 219,
   "id": "8f0ab78a",
   "metadata": {},
   "outputs": [
    {
     "data": {
      "text/plain": [
       "'Welcome Prateek, You are now in Deloitte'"
      ]
     },
     "execution_count": 219,
     "metadata": {},
     "output_type": "execute_result"
    }
   ],
   "source": [
    "name='Prateek'\n",
    "company='Deloitte'\n",
    "\n",
    "s.format(name, company)"
   ]
  },
  {
   "cell_type": "code",
   "execution_count": 220,
   "id": "1f8604a8",
   "metadata": {},
   "outputs": [
    {
     "name": "stdout",
     "output_type": "stream",
     "text": [
      "Delhi has 27.6 degree temperature today\n"
     ]
    }
   ],
   "source": [
    "city='Delhi'\n",
    "temp=27.6\n",
    "print('{0} has {1} degree temperature today'.format(city, temp))"
   ]
  },
  {
   "cell_type": "code",
   "execution_count": 221,
   "id": "84dd3555",
   "metadata": {},
   "outputs": [
    {
     "data": {
      "text/plain": [
       "'tom and jerry'"
      ]
     },
     "execution_count": 221,
     "metadata": {},
     "output_type": "execute_result"
    }
   ],
   "source": [
    "\"{0} and {1}\".format('tom','jerry')"
   ]
  },
  {
   "cell_type": "code",
   "execution_count": 222,
   "id": "eaf2c794",
   "metadata": {},
   "outputs": [
    {
     "data": {
      "text/plain": [
       "'jerry and tom'"
      ]
     },
     "execution_count": 222,
     "metadata": {},
     "output_type": "execute_result"
    }
   ],
   "source": [
    "\"{1} and {0}\".format('tom','jerry')"
   ]
  },
  {
   "cell_type": "code",
   "execution_count": 223,
   "id": "65908a4a",
   "metadata": {},
   "outputs": [
    {
     "data": {
      "text/plain": [
       "'tom and jerry'"
      ]
     },
     "execution_count": 223,
     "metadata": {},
     "output_type": "execute_result"
    }
   ],
   "source": [
    "\"{cat} and {mouse}\".format(cat='tom',mouse='jerry')"
   ]
  },
  {
   "cell_type": "code",
   "execution_count": 225,
   "id": "ba75f3b9",
   "metadata": {},
   "outputs": [
    {
     "name": "stdout",
     "output_type": "stream",
     "text": [
      "tom and jerry\n"
     ]
    }
   ],
   "source": [
    "cat='tom'\n",
    "mouse='jerry'\n",
    "print(f'{cat} and {mouse}')"
   ]
  },
  {
   "cell_type": "code",
   "execution_count": 230,
   "id": "038b7275",
   "metadata": {},
   "outputs": [
    {
     "name": "stdout",
     "output_type": "stream",
     "text": [
      "Deloitte        |    Deloitte    |        Deloitte\n"
     ]
    }
   ],
   "source": [
    "print('{0:<16}|{1:^16}|{2:>16}'.format('Deloitte','Deloitte','Deloitte'))"
   ]
  },
  {
   "cell_type": "code",
   "execution_count": 233,
   "id": "bdf05dd5",
   "metadata": {},
   "outputs": [
    {
     "name": "stdout",
     "output_type": "stream",
     "text": [
      "Deloitte        |    Deloitte    |        Deloitte\n"
     ]
    }
   ],
   "source": [
    "print('{x:<16}|{x:^16}|{x:>16}'.format(x='Deloitte'))"
   ]
  },
  {
   "cell_type": "markdown",
   "id": "0b07e5f4",
   "metadata": {},
   "source": [
    "#### Flow Control - conditional statements"
   ]
  },
  {
   "cell_type": "code",
   "execution_count": 235,
   "id": "61e17804",
   "metadata": {},
   "outputs": [
    {
     "name": "stdout",
     "output_type": "stream",
     "text": [
      "a is big number\n",
      "End\n"
     ]
    }
   ],
   "source": [
    "a=10000\n",
    "if a<1000:\n",
    "    print('a is small number')\n",
    "else:\n",
    "    print('a is big number')\n",
    "print('End')"
   ]
  },
  {
   "cell_type": "code",
   "execution_count": 240,
   "id": "87e94a43",
   "metadata": {},
   "outputs": [
    {
     "name": "stdout",
     "output_type": "stream",
     "text": [
      "DELOITTE\n",
      "You have chosen a right company DELOITTE\n",
      "Good Luck!\n"
     ]
    }
   ],
   "source": [
    "company=input()\n",
    "if company.lower()=='deloitte':\n",
    "    print(f'You have chosen a right company {company}')\n",
    "else:\n",
    "    print(f'Are you sure you like {company}')\n",
    "print('Good Luck!')"
   ]
  },
  {
   "cell_type": "code",
   "execution_count": 241,
   "id": "2e5793aa",
   "metadata": {},
   "outputs": [
    {
     "name": "stdout",
     "output_type": "stream",
     "text": [
      "20\n",
      "21\n",
      "b is largest\n"
     ]
    }
   ],
   "source": [
    "# find the largest of 2 nos entered by user\n",
    "a=int(input())\n",
    "b=int(input())\n",
    "if a>b:\n",
    "    print('a is largest')\n",
    "else:\n",
    "    print('b is largest')"
   ]
  },
  {
   "cell_type": "code",
   "execution_count": 243,
   "id": "dcd6f60e",
   "metadata": {},
   "outputs": [
    {
     "name": "stdout",
     "output_type": "stream",
     "text": [
      "23\n",
      "23\n",
      "both are equal\n"
     ]
    }
   ],
   "source": [
    "# conditional ladder\n",
    "a=int(input())\n",
    "b=int(input())\n",
    "if a>b:\n",
    "    print('a is larger')\n",
    "elif a==b:\n",
    "    print('both are equal')\n",
    "elif b>a:\n",
    "    print('b is larger')\n",
    "else:\n",
    "    print('unsolved issue')"
   ]
  },
  {
   "cell_type": "code",
   "execution_count": 246,
   "id": "eed660ff",
   "metadata": {},
   "outputs": [
    {
     "name": "stdout",
     "output_type": "stream",
     "text": [
      "20\n",
      "30\n",
      "15\n",
      "b is largest\n"
     ]
    }
   ],
   "source": [
    "# find largest of 3 nos\n",
    "a=int(input())\n",
    "b=int(input())\n",
    "c=int(input())\n",
    "if a>b:\n",
    "    if a>c:\n",
    "        print('a is largest')\n",
    "    else:\n",
    "        print('c is largest')\n",
    "else:\n",
    "    if b>c:\n",
    "        print('b is largest')\n",
    "    else:\n",
    "        print('c is largest')"
   ]
  },
  {
   "cell_type": "code",
   "execution_count": 252,
   "id": "210e437e",
   "metadata": {},
   "outputs": [
    {
     "name": "stdout",
     "output_type": "stream",
     "text": [
      "10\n",
      "10\n",
      "5\n",
      "ambiguous values\n"
     ]
    }
   ],
   "source": [
    "# find largest of 3 nos\n",
    "a=int(input())\n",
    "b=int(input())\n",
    "c=int(input())\n",
    "if a>b and a>c:\n",
    "    print('a is largest')\n",
    "elif b>a and b>c:\n",
    "    print('b is largest')\n",
    "elif c>a and c>b:\n",
    "    print('c is largest')\n",
    "elif a==b or b==c or a==c:\n",
    "    print('ambiguity in resolution')\n",
    "else:\n",
    "    print('may be some/all are same')"
   ]
  },
  {
   "cell_type": "code",
   "execution_count": 254,
   "id": "4a70ecf7",
   "metadata": {},
   "outputs": [
    {
     "name": "stdout",
     "output_type": "stream",
     "text": [
      "Enter String Sentence: hello   hi and bye\n",
      "Trimming Required\n"
     ]
    }
   ],
   "source": [
    "# accept a string from user and check whether it is\n",
    "# proper string or not.\n",
    "# A proper string is one which contains \n",
    "# number of blank spaces one less than number of words\n",
    "# if it is not proper, print=> \"Trimming Required\"\n",
    "\n",
    "s=input('Enter String Sentence: ')\n",
    "if s.count(' ')==len(s.split())-1:\n",
    "    print('Proper String')\n",
    "else:\n",
    "    print('Trimming Required')"
   ]
  },
  {
   "cell_type": "markdown",
   "id": "4a937a85",
   "metadata": {},
   "source": [
    "#### tertiary operation"
   ]
  },
  {
   "cell_type": "code",
   "execution_count": 255,
   "id": "8a5702e6",
   "metadata": {},
   "outputs": [
    {
     "data": {
      "text/plain": [
       "20"
      ]
     },
     "execution_count": 255,
     "metadata": {},
     "output_type": "execute_result"
    }
   ],
   "source": [
    "a=10\n",
    "b=20\n",
    "\n",
    "a if a>b else b"
   ]
  },
  {
   "cell_type": "code",
   "execution_count": 264,
   "id": "1da547fb",
   "metadata": {},
   "outputs": [
    {
     "name": "stdout",
     "output_type": "stream",
     "text": [
      "102\n",
      "Invalid Input\n"
     ]
    }
   ],
   "source": [
    "# For a given percentage of student, allocate grades as:\n",
    "# 90-100 => A grade\n",
    "# 75-89.99 => B grade\n",
    "# 60-74.99 => C grade\n",
    "# 40-59.99 => D grade \n",
    "# less than 40 => Fail\n",
    "\n",
    "p=float(input())\n",
    "if 100>=p>=90:\n",
    "    print('A Grade')\n",
    "elif 89.99>=p>=75:\n",
    "    print('B Grade')\n",
    "elif 74.99>=p>=60:\n",
    "    print('C Grade')\n",
    "elif 59.99>=p>=40:\n",
    "    print('D Grade')\n",
    "elif 39.99>=p>=0:\n",
    "    print('Fail')\n",
    "else:\n",
    "    print('Invalid Input')"
   ]
  },
  {
   "cell_type": "code",
   "execution_count": null,
   "id": "22e733df",
   "metadata": {},
   "outputs": [],
   "source": []
  }
 ],
 "metadata": {
  "kernelspec": {
   "display_name": "Python 3 (ipykernel)",
   "language": "python",
   "name": "python3"
  },
  "language_info": {
   "codemirror_mode": {
    "name": "ipython",
    "version": 3
   },
   "file_extension": ".py",
   "mimetype": "text/x-python",
   "name": "python",
   "nbconvert_exporter": "python",
   "pygments_lexer": "ipython3",
   "version": "3.9.12"
  }
 },
 "nbformat": 4,
 "nbformat_minor": 5
}
