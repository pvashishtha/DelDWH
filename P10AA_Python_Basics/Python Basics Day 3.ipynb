{
 "cells": [
  {
   "cell_type": "markdown",
   "id": "2e626b5f",
   "metadata": {},
   "source": [
    "### Python Basics Day 3"
   ]
  },
  {
   "cell_type": "code",
   "execution_count": 4,
   "id": "edbba77b",
   "metadata": {},
   "outputs": [
    {
     "data": {
      "text/plain": [
       "'PYHAP'"
      ]
     },
     "execution_count": 4,
     "metadata": {},
     "output_type": "execute_result"
    }
   ],
   "source": [
    "# Write a code to rotate a string by \"n\" characters\n",
    "# from the front characters:\n",
    "#Example:\n",
    "# Input=> rotate(\"HAPPY\", 3)\n",
    "# Output=> \"PYHAP\"\n",
    "\n",
    "def rotate(text, rot_freq):\n",
    "    rot_freq=rot_freq%len(text)\n",
    "    for _ in range(rot_freq):\n",
    "        text=text[1:]+text[0]\n",
    "    return text\n",
    "rotate('HAPPY',3)"
   ]
  },
  {
   "cell_type": "code",
   "execution_count": 5,
   "id": "58db378a",
   "metadata": {},
   "outputs": [
    {
     "data": {
      "text/plain": [
       "'ppyha'"
      ]
     },
     "execution_count": 5,
     "metadata": {},
     "output_type": "execute_result"
    }
   ],
   "source": [
    "def rotate(text, rot):\n",
    "    rot=rot%len(text)\n",
    "    return text[rot:]+text[:rot]\n",
    "rotate('happy', 17)"
   ]
  },
  {
   "cell_type": "markdown",
   "id": "88e5ec52",
   "metadata": {},
   "source": [
    "### Data Structures in Python"
   ]
  },
  {
   "cell_type": "code",
   "execution_count": 6,
   "id": "7325ae7c",
   "metadata": {},
   "outputs": [],
   "source": [
    "# Sequences:\n",
    "    # string\n",
    "    # tuple\n",
    "    # list\n",
    "# non-sequence:\n",
    "    # dictionary\n",
    "    # set"
   ]
  },
  {
   "cell_type": "markdown",
   "id": "7facf4ad",
   "metadata": {},
   "source": [
    "### TUPLE"
   ]
  },
  {
   "cell_type": "code",
   "execution_count": 7,
   "id": "65df161b",
   "metadata": {},
   "outputs": [],
   "source": [
    "# sequence based data structure\n",
    "# immutable- can not be changed/modified\n",
    "# it can be ref thru indexes"
   ]
  },
  {
   "cell_type": "code",
   "execution_count": 8,
   "id": "bd76d6c9",
   "metadata": {},
   "outputs": [],
   "source": [
    "# create tuple\n",
    "t=tuple()"
   ]
  },
  {
   "cell_type": "code",
   "execution_count": 9,
   "id": "859af054",
   "metadata": {},
   "outputs": [],
   "source": [
    "t=(1,2,3,4,5)"
   ]
  },
  {
   "cell_type": "code",
   "execution_count": 10,
   "id": "7c932015",
   "metadata": {},
   "outputs": [],
   "source": [
    "t=1,2,3,4,5"
   ]
  },
  {
   "cell_type": "code",
   "execution_count": 12,
   "id": "75ddd888",
   "metadata": {},
   "outputs": [
    {
     "name": "stdout",
     "output_type": "stream",
     "text": [
      "<class 'tuple'>\n"
     ]
    }
   ],
   "source": [
    "print(type(t))"
   ]
  },
  {
   "cell_type": "code",
   "execution_count": 13,
   "id": "514b756e",
   "metadata": {},
   "outputs": [
    {
     "name": "stdout",
     "output_type": "stream",
     "text": [
      "(1, 2, 3, 4, 5)\n"
     ]
    }
   ],
   "source": [
    "print(t)"
   ]
  },
  {
   "cell_type": "code",
   "execution_count": 14,
   "id": "3b03855e",
   "metadata": {},
   "outputs": [
    {
     "data": {
      "text/plain": [
       "5"
      ]
     },
     "execution_count": 14,
     "metadata": {},
     "output_type": "execute_result"
    }
   ],
   "source": [
    "len(t)"
   ]
  },
  {
   "cell_type": "code",
   "execution_count": 15,
   "id": "eb9a250e",
   "metadata": {},
   "outputs": [
    {
     "name": "stdout",
     "output_type": "stream",
     "text": [
      "1\n",
      "2\n",
      "3\n",
      "4\n",
      "5\n"
     ]
    }
   ],
   "source": [
    "# tuple is an iterable\n",
    "for data in t:\n",
    "    print(data)"
   ]
  },
  {
   "cell_type": "code",
   "execution_count": 16,
   "id": "606eb15b",
   "metadata": {},
   "outputs": [],
   "source": [
    "# tuple data can be heterogeneous\n",
    "\n",
    "t=(1,2,3, 'prateek', 3.145, 4+2j, (4,5,6), True)"
   ]
  },
  {
   "cell_type": "code",
   "execution_count": 18,
   "id": "9190d771",
   "metadata": {},
   "outputs": [
    {
     "data": {
      "text/plain": [
       "'prateek'"
      ]
     },
     "execution_count": 18,
     "metadata": {},
     "output_type": "execute_result"
    }
   ],
   "source": [
    "# tuple can be indexed\n",
    "\n",
    "t[3]"
   ]
  },
  {
   "cell_type": "code",
   "execution_count": 19,
   "id": "136232e9",
   "metadata": {},
   "outputs": [
    {
     "data": {
      "text/plain": [
       "(4, 5, 6)"
      ]
     },
     "execution_count": 19,
     "metadata": {},
     "output_type": "execute_result"
    }
   ],
   "source": [
    "t[6]"
   ]
  },
  {
   "cell_type": "code",
   "execution_count": 20,
   "id": "612f6bb2",
   "metadata": {},
   "outputs": [
    {
     "data": {
      "text/plain": [
       "5"
      ]
     },
     "execution_count": 20,
     "metadata": {},
     "output_type": "execute_result"
    }
   ],
   "source": [
    "t[6][1]"
   ]
  },
  {
   "cell_type": "code",
   "execution_count": 21,
   "id": "35a9ed55",
   "metadata": {},
   "outputs": [
    {
     "ename": "TypeError",
     "evalue": "'tuple' object does not support item assignment",
     "output_type": "error",
     "traceback": [
      "\u001b[1;31m---------------------------------------------------------------------------\u001b[0m",
      "\u001b[1;31mTypeError\u001b[0m                                 Traceback (most recent call last)",
      "Input \u001b[1;32mIn [21]\u001b[0m, in \u001b[0;36m<cell line: 1>\u001b[1;34m()\u001b[0m\n\u001b[1;32m----> 1\u001b[0m t[\u001b[38;5;241m1\u001b[39m]\u001b[38;5;241m=\u001b[39m\u001b[38;5;241m200\u001b[39m\n",
      "\u001b[1;31mTypeError\u001b[0m: 'tuple' object does not support item assignment"
     ]
    }
   ],
   "source": [
    "t[1]=200"
   ]
  },
  {
   "cell_type": "code",
   "execution_count": 24,
   "id": "430779c5",
   "metadata": {},
   "outputs": [
    {
     "data": {
      "text/plain": [
       "('prateek', 3.145, (4+2j))"
      ]
     },
     "execution_count": 24,
     "metadata": {},
     "output_type": "execute_result"
    }
   ],
   "source": [
    "t[3:6]"
   ]
  },
  {
   "cell_type": "code",
   "execution_count": 25,
   "id": "8bd819ca",
   "metadata": {},
   "outputs": [
    {
     "data": {
      "text/plain": [
       "(4, 5, 6)"
      ]
     },
     "execution_count": 25,
     "metadata": {},
     "output_type": "execute_result"
    }
   ],
   "source": [
    "t[-2]"
   ]
  },
  {
   "cell_type": "code",
   "execution_count": 26,
   "id": "3d045522",
   "metadata": {},
   "outputs": [
    {
     "data": {
      "text/plain": [
       "(True, (4, 5, 6), (4+2j), 3.145, 'prateek', 3, 2, 1)"
      ]
     },
     "execution_count": 26,
     "metadata": {},
     "output_type": "execute_result"
    }
   ],
   "source": [
    "t[::-1]"
   ]
  },
  {
   "cell_type": "code",
   "execution_count": 32,
   "id": "dc24a5e5",
   "metadata": {},
   "outputs": [
    {
     "data": {
      "text/plain": [
       "(60, 70, 10, 20, 30, 40, 50)"
      ]
     },
     "execution_count": 32,
     "metadata": {},
     "output_type": "execute_result"
    }
   ],
   "source": [
    "# write a program to rotate tuple elements\n",
    "t=(10,20,30,40,50,60,70)\n",
    "rot=12\n",
    "rot=rot%len(t)\n",
    "t=t[rot:]+t[:rot]\n",
    "t"
   ]
  },
  {
   "cell_type": "code",
   "execution_count": 40,
   "id": "d216bcb4",
   "metadata": {},
   "outputs": [
    {
     "name": "stdout",
     "output_type": "stream",
     "text": [
      "1\n",
      "2\n",
      "3\n",
      "4\n",
      "5\n"
     ]
    },
    {
     "data": {
      "text/plain": [
       "('1', '2', '3', '4', '5')"
      ]
     },
     "execution_count": 40,
     "metadata": {},
     "output_type": "execute_result"
    }
   ],
   "source": [
    "# taking user inputs in tuple\n",
    "t=()\n",
    "for i in range(5):\n",
    "    t=t+tuple(input())\n",
    "t"
   ]
  },
  {
   "cell_type": "markdown",
   "id": "287247d3",
   "metadata": {},
   "source": [
    " "
   ]
  },
  {
   "cell_type": "code",
   "execution_count": 42,
   "id": "74c4f958",
   "metadata": {},
   "outputs": [
    {
     "name": "stdout",
     "output_type": "stream",
     "text": [
      "Sum of Even:  64\n",
      "Sum of Odd:  72\n"
     ]
    }
   ],
   "source": [
    "# using a tuple given below, find sum of all even numbers\n",
    "# and odd numbers\n",
    "\n",
    "t=(1,4,2,5,8,9,5,6,6,3,12,14,13,17,19,12)\n",
    "sum_even=0\n",
    "sum_odd=0\n",
    "for val in t:\n",
    "    if val%2==0:\n",
    "        sum_even+=val\n",
    "    else:\n",
    "        sum_odd+=val\n",
    "print('Sum of Even: ', sum_even)\n",
    "print('Sum of Odd: ', sum_odd)"
   ]
  },
  {
   "cell_type": "markdown",
   "id": "63863397",
   "metadata": {},
   "source": [
    "#### LIST"
   ]
  },
  {
   "cell_type": "code",
   "execution_count": 43,
   "id": "4a1d3fd1",
   "metadata": {},
   "outputs": [],
   "source": [
    "# List is a sequence, ordered values\n",
    "# List is iterable\n",
    "# List can be indexed\n",
    "# List is mutable\n",
    "# List has several inbuilt functions"
   ]
  },
  {
   "cell_type": "code",
   "execution_count": 44,
   "id": "4f7ae830",
   "metadata": {},
   "outputs": [],
   "source": [
    "li=list()"
   ]
  },
  {
   "cell_type": "code",
   "execution_count": 45,
   "id": "c0dfb4f3",
   "metadata": {},
   "outputs": [],
   "source": [
    "li=[1,2,3,4,5]"
   ]
  },
  {
   "cell_type": "code",
   "execution_count": 46,
   "id": "b3974073",
   "metadata": {},
   "outputs": [
    {
     "name": "stdout",
     "output_type": "stream",
     "text": [
      "<class 'list'>\n"
     ]
    }
   ],
   "source": [
    "print(type(li))"
   ]
  },
  {
   "cell_type": "code",
   "execution_count": 47,
   "id": "0ee1c9c8",
   "metadata": {},
   "outputs": [
    {
     "data": {
      "text/plain": [
       "2"
      ]
     },
     "execution_count": 47,
     "metadata": {},
     "output_type": "execute_result"
    }
   ],
   "source": [
    "li[1]"
   ]
  },
  {
   "cell_type": "code",
   "execution_count": 48,
   "id": "7d6663e6",
   "metadata": {},
   "outputs": [
    {
     "data": {
      "text/plain": [
       "[1, 2, 3]"
      ]
     },
     "execution_count": 48,
     "metadata": {},
     "output_type": "execute_result"
    }
   ],
   "source": [
    "li[:3]"
   ]
  },
  {
   "cell_type": "code",
   "execution_count": 49,
   "id": "c7cdaff0",
   "metadata": {},
   "outputs": [
    {
     "data": {
      "text/plain": [
       "5"
      ]
     },
     "execution_count": 49,
     "metadata": {},
     "output_type": "execute_result"
    }
   ],
   "source": [
    "len(li)"
   ]
  },
  {
   "cell_type": "code",
   "execution_count": 50,
   "id": "a08a08dc",
   "metadata": {},
   "outputs": [
    {
     "data": {
      "text/plain": [
       "[1, 2, 3, 4, 'a', 'b', 'c']"
      ]
     },
     "execution_count": 50,
     "metadata": {},
     "output_type": "execute_result"
    }
   ],
   "source": [
    "li1=[1,2,3,4]\n",
    "li2=['a','b','c']\n",
    "li3=li1+li2\n",
    "li3"
   ]
  },
  {
   "cell_type": "code",
   "execution_count": 51,
   "id": "2e0ef013",
   "metadata": {},
   "outputs": [],
   "source": [
    "li=[1,2,3, 'a','b', 'Prateek',3.145, 4-3j, False, (7,8,9), ['A','B','C']]"
   ]
  },
  {
   "cell_type": "code",
   "execution_count": 53,
   "id": "1e24f73a",
   "metadata": {},
   "outputs": [
    {
     "name": "stdout",
     "output_type": "stream",
     "text": [
      "[1, 2, 3, 'a', 'b', 'Prateek', 3.145, (4-3j), False, (7, 8, 9), ['A', 'B', 'C']]\n"
     ]
    }
   ],
   "source": [
    "print(li)"
   ]
  },
  {
   "cell_type": "code",
   "execution_count": 54,
   "id": "1a49187f",
   "metadata": {},
   "outputs": [
    {
     "data": {
      "text/plain": [
       "['A', 'B', 'C']"
      ]
     },
     "execution_count": 54,
     "metadata": {},
     "output_type": "execute_result"
    }
   ],
   "source": [
    "li[-1]"
   ]
  },
  {
   "cell_type": "code",
   "execution_count": 55,
   "id": "da0f963f",
   "metadata": {},
   "outputs": [
    {
     "data": {
      "text/plain": [
       "'C'"
      ]
     },
     "execution_count": 55,
     "metadata": {},
     "output_type": "execute_result"
    }
   ],
   "source": [
    "li[-1][2]"
   ]
  },
  {
   "cell_type": "code",
   "execution_count": 56,
   "id": "8f2236fe",
   "metadata": {},
   "outputs": [
    {
     "name": "stdout",
     "output_type": "stream",
     "text": [
      "1\n",
      "2\n",
      "3\n",
      "a\n",
      "b\n",
      "Prateek\n",
      "3.145\n",
      "(4-3j)\n",
      "False\n",
      "(7, 8, 9)\n",
      "['A', 'B', 'C']\n"
     ]
    }
   ],
   "source": [
    "for element in li:\n",
    "    print(element)"
   ]
  },
  {
   "cell_type": "code",
   "execution_count": 57,
   "id": "0bd30c75",
   "metadata": {},
   "outputs": [
    {
     "data": {
      "text/plain": [
       "[0, 1, 2, 3, 4, 5, 6, 7, 8, 9]"
      ]
     },
     "execution_count": 57,
     "metadata": {},
     "output_type": "execute_result"
    }
   ],
   "source": [
    "k=list(range(10))\n",
    "k"
   ]
  },
  {
   "cell_type": "code",
   "execution_count": 58,
   "id": "a67fcec9",
   "metadata": {},
   "outputs": [
    {
     "data": {
      "text/plain": [
       "[1, 2, 3, 4]"
      ]
     },
     "execution_count": 58,
     "metadata": {},
     "output_type": "execute_result"
    }
   ],
   "source": [
    "k=list((1,2,3,4))\n",
    "k"
   ]
  },
  {
   "cell_type": "code",
   "execution_count": 59,
   "id": "b8dcf343",
   "metadata": {},
   "outputs": [],
   "source": [
    "# write a code to find maximum & minimum value from a list\n",
    "li=[1,4,9,6,2,5,13,17,19,99,23,6,7,3]"
   ]
  },
  {
   "cell_type": "code",
   "execution_count": 61,
   "id": "5e527443",
   "metadata": {},
   "outputs": [
    {
     "name": "stdout",
     "output_type": "stream",
     "text": [
      "99\n"
     ]
    }
   ],
   "source": [
    "mx=li[0]\n",
    "for num in li:\n",
    "    if num>mx:\n",
    "        mx=num\n",
    "print(mx)"
   ]
  },
  {
   "cell_type": "code",
   "execution_count": 62,
   "id": "510833f2",
   "metadata": {},
   "outputs": [
    {
     "data": {
      "text/plain": [
       "99"
      ]
     },
     "execution_count": 62,
     "metadata": {},
     "output_type": "execute_result"
    }
   ],
   "source": [
    "# max()\n",
    "max(li)"
   ]
  },
  {
   "cell_type": "code",
   "execution_count": 63,
   "id": "5b163c57",
   "metadata": {},
   "outputs": [
    {
     "data": {
      "text/plain": [
       "1"
      ]
     },
     "execution_count": 63,
     "metadata": {},
     "output_type": "execute_result"
    }
   ],
   "source": [
    "# min()\n",
    "min(li)"
   ]
  },
  {
   "cell_type": "code",
   "execution_count": 64,
   "id": "197f381e",
   "metadata": {},
   "outputs": [
    {
     "data": {
      "text/plain": [
       "214"
      ]
     },
     "execution_count": 64,
     "metadata": {},
     "output_type": "execute_result"
    }
   ],
   "source": [
    "# sum()\n",
    "sum(li)"
   ]
  },
  {
   "cell_type": "markdown",
   "id": "784d977a",
   "metadata": {},
   "source": [
    "### List Functions"
   ]
  },
  {
   "cell_type": "code",
   "execution_count": 65,
   "id": "07d75cc3",
   "metadata": {},
   "outputs": [],
   "source": [
    "li=[1,2,3,4,5]"
   ]
  },
  {
   "cell_type": "code",
   "execution_count": 66,
   "id": "2c10e872",
   "metadata": {},
   "outputs": [
    {
     "data": {
      "text/plain": [
       "[1, 2, 3, 4, 5, 6]"
      ]
     },
     "execution_count": 66,
     "metadata": {},
     "output_type": "execute_result"
    }
   ],
   "source": [
    "# append(val)\n",
    "li.append(6)\n",
    "li"
   ]
  },
  {
   "cell_type": "code",
   "execution_count": 69,
   "id": "e230e575",
   "metadata": {},
   "outputs": [
    {
     "data": {
      "text/plain": [
       "[1, 90, 2, 3, 4, 5, 6, 1, 1]"
      ]
     },
     "execution_count": 69,
     "metadata": {},
     "output_type": "execute_result"
    }
   ],
   "source": [
    "# insert(indx, val)\n",
    "li.insert(1, 90)\n",
    "li"
   ]
  },
  {
   "cell_type": "code",
   "execution_count": 70,
   "id": "dcfd1603",
   "metadata": {},
   "outputs": [
    {
     "data": {
      "text/plain": [
       "[1, 90, 2, 3, 5, 6, 1, 1]"
      ]
     },
     "execution_count": 70,
     "metadata": {},
     "output_type": "execute_result"
    }
   ],
   "source": [
    "# remove(val)\n",
    "li.remove(4)\n",
    "li"
   ]
  },
  {
   "cell_type": "code",
   "execution_count": 72,
   "id": "74ca315d",
   "metadata": {},
   "outputs": [
    {
     "data": {
      "text/plain": [
       "0"
      ]
     },
     "execution_count": 72,
     "metadata": {},
     "output_type": "execute_result"
    }
   ],
   "source": [
    "# index(val)\n",
    "li.index(1)"
   ]
  },
  {
   "cell_type": "code",
   "execution_count": 73,
   "id": "0987d4d1",
   "metadata": {},
   "outputs": [
    {
     "data": {
      "text/plain": [
       "5"
      ]
     },
     "execution_count": 73,
     "metadata": {},
     "output_type": "execute_result"
    }
   ],
   "source": [
    "# pop(index)\n",
    "li.pop(4)"
   ]
  },
  {
   "cell_type": "code",
   "execution_count": 74,
   "id": "f2c7f891",
   "metadata": {},
   "outputs": [
    {
     "data": {
      "text/plain": [
       "[1, 90, 2, 3, 6, 1, 1]"
      ]
     },
     "execution_count": 74,
     "metadata": {},
     "output_type": "execute_result"
    }
   ],
   "source": [
    "li"
   ]
  },
  {
   "cell_type": "code",
   "execution_count": 76,
   "id": "64d738a4",
   "metadata": {},
   "outputs": [
    {
     "data": {
      "text/plain": [
       "[1, 90, 2, 3, 6, 1, 1, 'a', 'b', 'c', 'a', 'b', 'c']"
      ]
     },
     "execution_count": 76,
     "metadata": {},
     "output_type": "execute_result"
    }
   ],
   "source": [
    "# extend(list)\n",
    "li2=['a','b','c']\n",
    "li.extend(li2)\n",
    "li"
   ]
  },
  {
   "cell_type": "code",
   "execution_count": 78,
   "id": "2bb73611",
   "metadata": {},
   "outputs": [
    {
     "data": {
      "text/plain": [
       "['a', 'b', 'c', 'a', 'b', 'c', 'a', 'b', 'c']"
      ]
     },
     "execution_count": 78,
     "metadata": {},
     "output_type": "execute_result"
    }
   ],
   "source": [
    "li2*3"
   ]
  },
  {
   "cell_type": "code",
   "execution_count": 79,
   "id": "ebb77f39",
   "metadata": {},
   "outputs": [
    {
     "data": {
      "text/plain": [
       "[1, 2, 3, 4, 6, 7, 8, 9]"
      ]
     },
     "execution_count": 79,
     "metadata": {},
     "output_type": "execute_result"
    }
   ],
   "source": [
    "# sort()\n",
    "li=[9,4,1,6,2,7,8,3]\n",
    "li.sort() # will update list with sorted values\n",
    "li"
   ]
  },
  {
   "cell_type": "code",
   "execution_count": 80,
   "id": "8bfa1897",
   "metadata": {},
   "outputs": [
    {
     "data": {
      "text/plain": [
       "[1, 2, 3, 4, 6, 7, 8, 9]"
      ]
     },
     "execution_count": 80,
     "metadata": {},
     "output_type": "execute_result"
    }
   ],
   "source": [
    "# copy()\n",
    "k=li.copy()\n",
    "k"
   ]
  },
  {
   "cell_type": "code",
   "execution_count": 81,
   "id": "0c838fae",
   "metadata": {},
   "outputs": [
    {
     "name": "stdout",
     "output_type": "stream",
     "text": [
      "[1, 2, 3, 4, 6, 7, 8, 9, 45]\n",
      "[1, 2, 3, 4, 6, 7, 8, 9]\n"
     ]
    }
   ],
   "source": [
    "k.append(45)\n",
    "print(k)\n",
    "print(li)"
   ]
  },
  {
   "cell_type": "code",
   "execution_count": 83,
   "id": "16d217e6",
   "metadata": {},
   "outputs": [],
   "source": [
    "# without copy func.\n",
    "k=li"
   ]
  },
  {
   "cell_type": "code",
   "execution_count": 84,
   "id": "e2fe19d5",
   "metadata": {},
   "outputs": [
    {
     "name": "stdout",
     "output_type": "stream",
     "text": [
      "[1, 2, 3, 4, 6, 7, 8, 9, 45]\n",
      "[1, 2, 3, 4, 6, 7, 8, 9, 45]\n"
     ]
    }
   ],
   "source": [
    "k.append(45)\n",
    "print(k)\n",
    "print(li)"
   ]
  },
  {
   "cell_type": "code",
   "execution_count": 85,
   "id": "2543a688",
   "metadata": {},
   "outputs": [
    {
     "data": {
      "text/plain": [
       "1758840067840"
      ]
     },
     "execution_count": 85,
     "metadata": {},
     "output_type": "execute_result"
    }
   ],
   "source": [
    "id(k)"
   ]
  },
  {
   "cell_type": "code",
   "execution_count": 86,
   "id": "4655f9c2",
   "metadata": {},
   "outputs": [
    {
     "data": {
      "text/plain": [
       "1758840067840"
      ]
     },
     "execution_count": 86,
     "metadata": {},
     "output_type": "execute_result"
    }
   ],
   "source": [
    "id(li)"
   ]
  },
  {
   "cell_type": "code",
   "execution_count": 89,
   "id": "1fb206db",
   "metadata": {},
   "outputs": [
    {
     "data": {
      "text/plain": [
       "5"
      ]
     },
     "execution_count": 89,
     "metadata": {},
     "output_type": "execute_result"
    }
   ],
   "source": [
    "# count(val)\n",
    "li=[1,2,5,1,3,1,4,5,2,1,6,7,1]\n",
    "li.count(1)"
   ]
  },
  {
   "cell_type": "code",
   "execution_count": 92,
   "id": "69412fda",
   "metadata": {},
   "outputs": [
    {
     "name": "stdout",
     "output_type": "stream",
     "text": [
      "1=>5\n",
      "2=>2\n",
      "5=>2\n",
      "3=>1\n",
      "4=>1\n",
      "6=>1\n",
      "7=>1\n"
     ]
    }
   ],
   "source": [
    "# write a program to find frequence of \n",
    "# each element in a list\n",
    "li=[1,2,5,1,3,1,4,5,2,1,6,7,1]\n",
    "checked=[]\n",
    "for i in li:\n",
    "    if i in checked:\n",
    "        pass\n",
    "    else:\n",
    "        print(f'{i}=>{li.count(i)}')\n",
    "        checked.append(i)"
   ]
  },
  {
   "cell_type": "code",
   "execution_count": 96,
   "id": "bf2978cd",
   "metadata": {},
   "outputs": [
    {
     "name": "stdout",
     "output_type": "stream",
     "text": [
      "1=>5\n",
      "2=>2\n",
      "3=>1\n",
      "4=>1\n",
      "5=>2\n",
      "6=>1\n",
      "7=>1\n"
     ]
    }
   ],
   "source": [
    "li=[1,2,5,1,3,1,4,5,2,1,6,7,1]\n",
    "li.sort()\n",
    "i=0\n",
    "while i<len(li):\n",
    "    c=li.count(li[i])\n",
    "    print(f'{li[i]}=>{c}')\n",
    "    i=i+c"
   ]
  },
  {
   "cell_type": "code",
   "execution_count": 99,
   "id": "b5c6df58",
   "metadata": {},
   "outputs": [
    {
     "data": {
      "text/plain": [
       "[1, 3, 5, 7, 9]"
      ]
     },
     "execution_count": 99,
     "metadata": {},
     "output_type": "execute_result"
    }
   ],
   "source": [
    "# reverse()\n",
    "li=[9,7,5,3,1]\n",
    "li.reverse()\n",
    "li"
   ]
  },
  {
   "cell_type": "code",
   "execution_count": 101,
   "id": "ee0c1322",
   "metadata": {},
   "outputs": [
    {
     "data": {
      "text/plain": [
       "[9, 7, 5, 3, 1]"
      ]
     },
     "execution_count": 101,
     "metadata": {},
     "output_type": "execute_result"
    }
   ],
   "source": [
    "li.sort()\n",
    "li.reverse()\n",
    "li"
   ]
  },
  {
   "cell_type": "code",
   "execution_count": 103,
   "id": "0e88e736",
   "metadata": {},
   "outputs": [
    {
     "data": {
      "text/plain": [
       "[9, 7, 5, 3, 1]"
      ]
     },
     "execution_count": 103,
     "metadata": {},
     "output_type": "execute_result"
    }
   ],
   "source": [
    "li.sort(reverse=True)\n",
    "li"
   ]
  },
  {
   "cell_type": "code",
   "execution_count": 104,
   "id": "5137f004",
   "metadata": {},
   "outputs": [
    {
     "data": {
      "text/plain": [
       "[]"
      ]
     },
     "execution_count": 104,
     "metadata": {},
     "output_type": "execute_result"
    }
   ],
   "source": [
    "# clear()\n",
    "li.clear()\n",
    "li"
   ]
  },
  {
   "cell_type": "code",
   "execution_count": 107,
   "id": "3aec2c8a",
   "metadata": {},
   "outputs": [
    {
     "name": "stdout",
     "output_type": "stream",
     "text": [
      "59-2=57\n",
      "59-5=54\n",
      "59-1=58\n",
      "59-36=23\n",
      "Max Distance:  58\n"
     ]
    }
   ],
   "source": [
    "# write a code to find distance of all numbers in a list\n",
    "# from maximum value. Also find pair with maximum distance\n",
    "# in these pairs.\n",
    "# select only pairs with diff taken from left of max\n",
    "\n",
    "li=[2,5,1,36,59,8,5,1,23]\n",
    "mx=max(li)\n",
    "idx=li.index(mx)\n",
    "sum_list=[]\n",
    "for num in li[:idx]:\n",
    "    s=mx-num\n",
    "    sum_list.append(s)\n",
    "    print(f'{mx}-{num}={s}')\n",
    "print('Max Distance: ',max(sum_list))"
   ]
  },
  {
   "cell_type": "code",
   "execution_count": 108,
   "id": "a452b1ca",
   "metadata": {},
   "outputs": [
    {
     "data": {
      "text/plain": [
       "7"
      ]
     },
     "execution_count": 108,
     "metadata": {},
     "output_type": "execute_result"
    }
   ],
   "source": [
    "# Write a python function lucky_number(dob) that accepts\n",
    "# dob of person in integer format as 'DDMMYYYY'\n",
    "# The function must return sum of digits brought down\n",
    "# to single digit (0-9) as lucky number.\n",
    "\n",
    "def lucky_number(dob):\n",
    "    digit_sum=0\n",
    "    while dob>0:\n",
    "        digit_sum+=dob%10\n",
    "        dob//=10\n",
    "    if digit_sum>9:\n",
    "        return lucky_number(digit_sum)\n",
    "    else:\n",
    "        return digit_sum\n",
    "lucky_number(18111985)"
   ]
  },
  {
   "cell_type": "code",
   "execution_count": 109,
   "id": "992c7373",
   "metadata": {},
   "outputs": [
    {
     "data": {
      "text/plain": [
       "34"
      ]
     },
     "execution_count": 109,
     "metadata": {},
     "output_type": "execute_result"
    }
   ],
   "source": [
    "dob=18111985\n",
    "sum_digits=sum([int(x) for x in str(dob)])\n",
    "sum_digits"
   ]
  },
  {
   "cell_type": "code",
   "execution_count": 110,
   "id": "0ced1422",
   "metadata": {},
   "outputs": [
    {
     "data": {
      "text/plain": [
       "7"
      ]
     },
     "execution_count": 110,
     "metadata": {},
     "output_type": "execute_result"
    }
   ],
   "source": [
    "def lucky_number(dob):\n",
    "    digit_sum=sum([int(x) for x in str(dob)])\n",
    "    if digit_sum>9:\n",
    "        return lucky_number(digit_sum)\n",
    "    else:\n",
    "        return digit_sum\n",
    "lucky_number(18111985)"
   ]
  },
  {
   "cell_type": "code",
   "execution_count": 111,
   "id": "ad47d59f",
   "metadata": {},
   "outputs": [
    {
     "data": {
      "text/plain": [
       "[0, 1, 4, 9, 16, 25, 36, 49, 64, 81]"
      ]
     },
     "execution_count": 111,
     "metadata": {},
     "output_type": "execute_result"
    }
   ],
   "source": [
    "li=[x**2 for x in range(10)]\n",
    "li"
   ]
  },
  {
   "cell_type": "code",
   "execution_count": 112,
   "id": "d9b3713b",
   "metadata": {},
   "outputs": [
    {
     "data": {
      "text/plain": [
       "['D', 'E', 'L', 'O', 'I', 'T', 'T', 'E']"
      ]
     },
     "execution_count": 112,
     "metadata": {},
     "output_type": "execute_result"
    }
   ],
   "source": [
    "# list comprehension\n",
    "[char for char in \"DELOITTE\"]"
   ]
  },
  {
   "cell_type": "code",
   "execution_count": 113,
   "id": "726d902d",
   "metadata": {},
   "outputs": [
    {
     "data": {
      "text/plain": [
       "[1, 8, 1, 1, 1, 9, 8, 5]"
      ]
     },
     "execution_count": 113,
     "metadata": {},
     "output_type": "execute_result"
    }
   ],
   "source": [
    "[int(x) for x in str(18111985)]"
   ]
  },
  {
   "cell_type": "code",
   "execution_count": 119,
   "id": "da9eb0e2",
   "metadata": {},
   "outputs": [
    {
     "name": "stdout",
     "output_type": "stream",
     "text": [
      "[10, 12, 4, 8, 6, 24, 28]\n"
     ]
    }
   ],
   "source": [
    "li=[10,12,13,4,5,7,9,8,6,11,21,24,28]\n",
    "\n",
    "print([x for x in li if x%2==0])"
   ]
  },
  {
   "cell_type": "markdown",
   "id": "dbb9074e",
   "metadata": {},
   "source": [
    "### Dictionary"
   ]
  },
  {
   "cell_type": "code",
   "execution_count": 120,
   "id": "e0feca4d",
   "metadata": {},
   "outputs": [],
   "source": [
    "# Not a sequence\n",
    "# does not guaranty order\n",
    "# KEY:VALUE\n",
    "# Keys are immutable\n",
    "# values can be modified\n",
    "# key or value can be any valid python object"
   ]
  },
  {
   "cell_type": "code",
   "execution_count": 121,
   "id": "8a3496dd",
   "metadata": {},
   "outputs": [],
   "source": [
    "d=dict()"
   ]
  },
  {
   "cell_type": "code",
   "execution_count": 133,
   "id": "189731dd",
   "metadata": {},
   "outputs": [],
   "source": [
    "d={'a':100, 'b':200, 'c':300}"
   ]
  },
  {
   "cell_type": "code",
   "execution_count": 123,
   "id": "504d0700",
   "metadata": {},
   "outputs": [
    {
     "data": {
      "text/plain": [
       "3"
      ]
     },
     "execution_count": 123,
     "metadata": {},
     "output_type": "execute_result"
    }
   ],
   "source": [
    "len(d)"
   ]
  },
  {
   "cell_type": "code",
   "execution_count": 124,
   "id": "38ef5d2d",
   "metadata": {},
   "outputs": [
    {
     "name": "stdout",
     "output_type": "stream",
     "text": [
      "<class 'dict'>\n"
     ]
    }
   ],
   "source": [
    "print(type(d))"
   ]
  },
  {
   "cell_type": "code",
   "execution_count": 125,
   "id": "b2c03cbd",
   "metadata": {},
   "outputs": [
    {
     "data": {
      "text/plain": [
       "1758840104064"
      ]
     },
     "execution_count": 125,
     "metadata": {},
     "output_type": "execute_result"
    }
   ],
   "source": [
    "id(d)"
   ]
  },
  {
   "cell_type": "code",
   "execution_count": 127,
   "id": "9dc34f9e",
   "metadata": {},
   "outputs": [
    {
     "data": {
      "text/plain": [
       "100"
      ]
     },
     "execution_count": 127,
     "metadata": {},
     "output_type": "execute_result"
    }
   ],
   "source": [
    "# indexing by keys\n",
    "d['a']"
   ]
  },
  {
   "cell_type": "code",
   "execution_count": 128,
   "id": "c8218179",
   "metadata": {},
   "outputs": [
    {
     "data": {
      "text/plain": [
       "{'a': 100, 'b': 200, 'c': 900}"
      ]
     },
     "execution_count": 128,
     "metadata": {},
     "output_type": "execute_result"
    }
   ],
   "source": [
    "d['c']=900\n",
    "d"
   ]
  },
  {
   "cell_type": "code",
   "execution_count": 131,
   "id": "f811556e",
   "metadata": {},
   "outputs": [
    {
     "name": "stdout",
     "output_type": "stream",
     "text": [
      "d[a]=>100\n",
      "d[b]=>200\n",
      "d[c]=>900\n"
     ]
    }
   ],
   "source": [
    "for x in d:\n",
    "    print(f'd[{x}]=>{d[x]}')"
   ]
  },
  {
   "cell_type": "markdown",
   "id": "73d547eb",
   "metadata": {},
   "source": [
    "#### Dictionary Functions"
   ]
  },
  {
   "cell_type": "code",
   "execution_count": 132,
   "id": "03adfdda",
   "metadata": {},
   "outputs": [],
   "source": [
    "# dict()\n",
    "d=dict()"
   ]
  },
  {
   "cell_type": "code",
   "execution_count": 134,
   "id": "f6ad9035",
   "metadata": {},
   "outputs": [
    {
     "data": {
      "text/plain": [
       "100"
      ]
     },
     "execution_count": 134,
     "metadata": {},
     "output_type": "execute_result"
    }
   ],
   "source": [
    "# get(key)\n",
    "d.get('a')"
   ]
  },
  {
   "cell_type": "code",
   "execution_count": 135,
   "id": "44aeccc7",
   "metadata": {},
   "outputs": [
    {
     "data": {
      "text/plain": [
       "100"
      ]
     },
     "execution_count": 135,
     "metadata": {},
     "output_type": "execute_result"
    }
   ],
   "source": [
    "d['a']"
   ]
  },
  {
   "cell_type": "code",
   "execution_count": 136,
   "id": "f01b2f2f",
   "metadata": {},
   "outputs": [
    {
     "data": {
      "text/plain": [
       "dict_keys(['a', 'b', 'c'])"
      ]
     },
     "execution_count": 136,
     "metadata": {},
     "output_type": "execute_result"
    }
   ],
   "source": [
    "# keys()\n",
    "d.keys()"
   ]
  },
  {
   "cell_type": "code",
   "execution_count": 137,
   "id": "d4130098",
   "metadata": {},
   "outputs": [
    {
     "data": {
      "text/plain": [
       "dict_values([100, 200, 300])"
      ]
     },
     "execution_count": 137,
     "metadata": {},
     "output_type": "execute_result"
    }
   ],
   "source": [
    "# values()\n",
    "d.values()"
   ]
  },
  {
   "cell_type": "code",
   "execution_count": 138,
   "id": "7dae8a54",
   "metadata": {},
   "outputs": [
    {
     "data": {
      "text/plain": [
       "dict_items([('a', 100), ('b', 200), ('c', 300)])"
      ]
     },
     "execution_count": 138,
     "metadata": {},
     "output_type": "execute_result"
    }
   ],
   "source": [
    "# items()\n",
    "d.items()"
   ]
  },
  {
   "cell_type": "code",
   "execution_count": 140,
   "id": "f31e0c11",
   "metadata": {},
   "outputs": [
    {
     "data": {
      "text/plain": [
       "{10: 'A', 20: 'A', 30: 'A', 40: 'A', 50: 'A', 60: 'A'}"
      ]
     },
     "execution_count": 140,
     "metadata": {},
     "output_type": "execute_result"
    }
   ],
   "source": [
    "# fromkeys(list_keys, def_val)\n",
    "li=[10,20,30,40,50,60]\n",
    "d2={}\n",
    "d2=d2.fromkeys(li, 'A')\n",
    "d2"
   ]
  },
  {
   "cell_type": "code",
   "execution_count": 141,
   "id": "24193658",
   "metadata": {},
   "outputs": [
    {
     "data": {
      "text/plain": [
       "{'a': 100, 'b': 200, 'c': 300}"
      ]
     },
     "execution_count": 141,
     "metadata": {},
     "output_type": "execute_result"
    }
   ],
   "source": [
    "d"
   ]
  },
  {
   "cell_type": "code",
   "execution_count": 143,
   "id": "b13b7456",
   "metadata": {},
   "outputs": [
    {
     "data": {
      "text/plain": [
       "300"
      ]
     },
     "execution_count": 143,
     "metadata": {},
     "output_type": "execute_result"
    }
   ],
   "source": [
    "# pop(key) - removes key value and return value\n",
    "d.pop('c')"
   ]
  },
  {
   "cell_type": "code",
   "execution_count": 145,
   "id": "4993d216",
   "metadata": {},
   "outputs": [
    {
     "data": {
      "text/plain": [
       "('b', 200)"
      ]
     },
     "execution_count": 145,
     "metadata": {},
     "output_type": "execute_result"
    }
   ],
   "source": [
    "# popitem() - removes and return key-val pair in tuple\n",
    "d.popitem()"
   ]
  },
  {
   "cell_type": "code",
   "execution_count": 150,
   "id": "a4787668",
   "metadata": {},
   "outputs": [
    {
     "data": {
      "text/plain": [
       "{'a': 100, 'd': 1200}"
      ]
     },
     "execution_count": 150,
     "metadata": {},
     "output_type": "execute_result"
    }
   ],
   "source": [
    "# update((key, val))\n",
    "d.update({'d':1200})\n",
    "d"
   ]
  },
  {
   "cell_type": "code",
   "execution_count": 151,
   "id": "df2934ea",
   "metadata": {},
   "outputs": [],
   "source": [
    "d.update({'a':600})"
   ]
  },
  {
   "cell_type": "code",
   "execution_count": 152,
   "id": "9f5a4cf3",
   "metadata": {},
   "outputs": [
    {
     "data": {
      "text/plain": [
       "{'a': 600, 'd': 1200}"
      ]
     },
     "execution_count": 152,
     "metadata": {},
     "output_type": "execute_result"
    }
   ],
   "source": [
    "d"
   ]
  },
  {
   "cell_type": "code",
   "execution_count": 153,
   "id": "a55fa6f1",
   "metadata": {},
   "outputs": [],
   "source": [
    "d.update({'e':1200, 'f':700, 'g':1010})"
   ]
  },
  {
   "cell_type": "code",
   "execution_count": 154,
   "id": "b507095d",
   "metadata": {},
   "outputs": [
    {
     "data": {
      "text/plain": [
       "{'a': 600, 'd': 1200, 'e': 1200, 'f': 700, 'g': 1010}"
      ]
     },
     "execution_count": 154,
     "metadata": {},
     "output_type": "execute_result"
    }
   ],
   "source": [
    "d"
   ]
  },
  {
   "cell_type": "code",
   "execution_count": 155,
   "id": "2b3f4673",
   "metadata": {},
   "outputs": [],
   "source": [
    "d={(1,2,3):3, (4,5):2, (6,7,8,9):4}"
   ]
  },
  {
   "cell_type": "code",
   "execution_count": 157,
   "id": "e1a659a0",
   "metadata": {},
   "outputs": [
    {
     "name": "stdout",
     "output_type": "stream",
     "text": [
      "3\n",
      "2\n",
      "4\n"
     ]
    }
   ],
   "source": [
    "for item in d:\n",
    "    print(len(item))"
   ]
  },
  {
   "cell_type": "code",
   "execution_count": 159,
   "id": "590e978b",
   "metadata": {},
   "outputs": [
    {
     "data": {
      "text/plain": [
       "{'k1': 100, 'k3': 500, 'k5': 300}"
      ]
     },
     "execution_count": 159,
     "metadata": {},
     "output_type": "execute_result"
    }
   ],
   "source": [
    "# write a program to modify a given dictionary key\n",
    "d={'k1':100, 'k2':300, 'k3':500}\n",
    "# change k2 to k5\n",
    "d['k5']=d.pop('k2')\n",
    "d"
   ]
  },
  {
   "cell_type": "code",
   "execution_count": 160,
   "id": "8c96e937",
   "metadata": {},
   "outputs": [
    {
     "data": {
      "text/plain": [
       "{'k1': 100, 'k3': 500, 'k5': 1700}"
      ]
     },
     "execution_count": 160,
     "metadata": {},
     "output_type": "execute_result"
    }
   ],
   "source": [
    "d2=d\n",
    "d2['k5']=1700\n",
    "d2"
   ]
  },
  {
   "cell_type": "code",
   "execution_count": 161,
   "id": "e1ccdc80",
   "metadata": {},
   "outputs": [
    {
     "data": {
      "text/plain": [
       "{'k1': 100, 'k3': 500, 'k5': 1700}"
      ]
     },
     "execution_count": 161,
     "metadata": {},
     "output_type": "execute_result"
    }
   ],
   "source": [
    "d"
   ]
  },
  {
   "cell_type": "code",
   "execution_count": 162,
   "id": "93b132da",
   "metadata": {},
   "outputs": [
    {
     "data": {
      "text/plain": [
       "{'k1': 100, 'k3': 500, 'k5': 6702}"
      ]
     },
     "execution_count": 162,
     "metadata": {},
     "output_type": "execute_result"
    }
   ],
   "source": [
    "# copy()\n",
    "d2=d.copy()\n",
    "d2['k5']=6702\n",
    "d2"
   ]
  },
  {
   "cell_type": "code",
   "execution_count": 163,
   "id": "16cce6b6",
   "metadata": {},
   "outputs": [
    {
     "data": {
      "text/plain": [
       "{'k1': 100, 'k3': 500, 'k5': 1700}"
      ]
     },
     "execution_count": 163,
     "metadata": {},
     "output_type": "execute_result"
    }
   ],
   "source": [
    "d"
   ]
  },
  {
   "cell_type": "code",
   "execution_count": 164,
   "id": "54244f5e",
   "metadata": {},
   "outputs": [
    {
     "data": {
      "text/plain": [
       "{}"
      ]
     },
     "execution_count": 164,
     "metadata": {},
     "output_type": "execute_result"
    }
   ],
   "source": [
    "# clear()\n",
    "d2.clear()\n",
    "d2"
   ]
  },
  {
   "cell_type": "code",
   "execution_count": 167,
   "id": "5b6eb12d",
   "metadata": {},
   "outputs": [
    {
     "name": "stdout",
     "output_type": "stream",
     "text": [
      "Enter Number of Terms: 15\n",
      "{0: 0, 1: 1, 2: 8, 3: 27, 4: 64, 5: 125, 6: 216, 7: 343, 8: 512, 9: 729, 10: 1000, 11: 1331, 12: 1728, 13: 2197, 14: 2744}\n"
     ]
    }
   ],
   "source": [
    "# create a dictionary that has integers as key and \n",
    "# cube of ineteger as value against each integer number\n",
    "\n",
    "# d={1:1, 2:8, 3:27, 4:64, 5:125, ...}\n",
    "\n",
    "N=int(input('Enter Number of Terms: '))\n",
    "d={x:x**3 for x in range(N)}\n",
    "print(d)"
   ]
  },
  {
   "cell_type": "markdown",
   "id": "1ce96b3b",
   "metadata": {},
   "source": [
    "#### SET"
   ]
  },
  {
   "cell_type": "code",
   "execution_count": 186,
   "id": "5f18360f",
   "metadata": {},
   "outputs": [],
   "source": [
    "s=set()"
   ]
  },
  {
   "cell_type": "code",
   "execution_count": 187,
   "id": "d7c25109",
   "metadata": {},
   "outputs": [],
   "source": [
    "s={1,2,3,4,5}"
   ]
  },
  {
   "cell_type": "code",
   "execution_count": 188,
   "id": "0f51d051",
   "metadata": {},
   "outputs": [],
   "source": [
    "s={1,2,3,4,'a','b','c'}"
   ]
  },
  {
   "cell_type": "code",
   "execution_count": 189,
   "id": "b1c3fd71",
   "metadata": {},
   "outputs": [
    {
     "name": "stdout",
     "output_type": "stream",
     "text": [
      "<class 'set'>\n"
     ]
    }
   ],
   "source": [
    "print(type(s))"
   ]
  },
  {
   "cell_type": "code",
   "execution_count": 190,
   "id": "eef06e25",
   "metadata": {},
   "outputs": [
    {
     "data": {
      "text/plain": [
       "7"
      ]
     },
     "execution_count": 190,
     "metadata": {},
     "output_type": "execute_result"
    }
   ],
   "source": [
    "len(s)"
   ]
  },
  {
   "cell_type": "code",
   "execution_count": 191,
   "id": "da7d75c3",
   "metadata": {},
   "outputs": [
    {
     "data": {
      "text/plain": [
       "1758840654976"
      ]
     },
     "execution_count": 191,
     "metadata": {},
     "output_type": "execute_result"
    }
   ],
   "source": [
    "id(s)"
   ]
  },
  {
   "cell_type": "code",
   "execution_count": 192,
   "id": "4fb1ccb7",
   "metadata": {},
   "outputs": [],
   "source": [
    "s.add(4)"
   ]
  },
  {
   "cell_type": "code",
   "execution_count": 193,
   "id": "17eed8da",
   "metadata": {},
   "outputs": [
    {
     "data": {
      "text/plain": [
       "{1, 2, 3, 4, 'a', 'b', 'c'}"
      ]
     },
     "execution_count": 193,
     "metadata": {},
     "output_type": "execute_result"
    }
   ],
   "source": [
    "s"
   ]
  },
  {
   "cell_type": "code",
   "execution_count": 194,
   "id": "2622a74b",
   "metadata": {},
   "outputs": [],
   "source": [
    "s1={1,2,3,4,5,6,7,8,9}\n",
    "s2={5,6,7,8,10,11,12,13}"
   ]
  },
  {
   "cell_type": "code",
   "execution_count": 195,
   "id": "e20174a6",
   "metadata": {},
   "outputs": [
    {
     "data": {
      "text/plain": [
       "{1, 2, 3, 4, 5, 6, 7, 8, 9, 10, 11, 12, 13}"
      ]
     },
     "execution_count": 195,
     "metadata": {},
     "output_type": "execute_result"
    }
   ],
   "source": [
    "# union()\n",
    "s1.union(s2)"
   ]
  },
  {
   "cell_type": "code",
   "execution_count": 196,
   "id": "db786f21",
   "metadata": {},
   "outputs": [
    {
     "data": {
      "text/plain": [
       "{5, 6, 7, 8}"
      ]
     },
     "execution_count": 196,
     "metadata": {},
     "output_type": "execute_result"
    }
   ],
   "source": [
    "# intersection\n",
    "s1.intersection(s2)"
   ]
  },
  {
   "cell_type": "code",
   "execution_count": 197,
   "id": "55d9b0c5",
   "metadata": {},
   "outputs": [
    {
     "data": {
      "text/plain": [
       "{1, 2, 3, 4, 9}"
      ]
     },
     "execution_count": 197,
     "metadata": {},
     "output_type": "execute_result"
    }
   ],
   "source": [
    "# difference\n",
    "s1.difference(s2)"
   ]
  },
  {
   "cell_type": "code",
   "execution_count": 198,
   "id": "217a26c8",
   "metadata": {},
   "outputs": [
    {
     "data": {
      "text/plain": [
       "{1, 2, 3, 4, 5, 6, 7, 8, 9}"
      ]
     },
     "execution_count": 198,
     "metadata": {},
     "output_type": "execute_result"
    }
   ],
   "source": [
    "# copy()\n",
    "x=s1.copy()\n",
    "x"
   ]
  },
  {
   "cell_type": "code",
   "execution_count": 199,
   "id": "151af171",
   "metadata": {},
   "outputs": [
    {
     "data": {
      "text/plain": [
       "set()"
      ]
     },
     "execution_count": 199,
     "metadata": {},
     "output_type": "execute_result"
    }
   ],
   "source": [
    "# clear()\n",
    "s1.clear()\n",
    "s1"
   ]
  },
  {
   "cell_type": "code",
   "execution_count": 200,
   "id": "2d98626c",
   "metadata": {},
   "outputs": [],
   "source": [
    "s={1,2,3,4,5,6,7,8,9}"
   ]
  },
  {
   "cell_type": "code",
   "execution_count": 204,
   "id": "83ee1e49",
   "metadata": {},
   "outputs": [
    {
     "data": {
      "text/plain": [
       "3"
      ]
     },
     "execution_count": 204,
     "metadata": {},
     "output_type": "execute_result"
    }
   ],
   "source": [
    "# pop() # removes front element\n",
    "s.pop()"
   ]
  },
  {
   "cell_type": "code",
   "execution_count": 205,
   "id": "ed01f73a",
   "metadata": {},
   "outputs": [
    {
     "data": {
      "text/plain": [
       "{4, 5, 6, 7, 8, 9}"
      ]
     },
     "execution_count": 205,
     "metadata": {},
     "output_type": "execute_result"
    }
   ],
   "source": [
    "s"
   ]
  },
  {
   "cell_type": "code",
   "execution_count": 206,
   "id": "b7433c08",
   "metadata": {},
   "outputs": [],
   "source": [
    "# remove()\n",
    "s.remove(8)"
   ]
  },
  {
   "cell_type": "code",
   "execution_count": 207,
   "id": "13b6fd2a",
   "metadata": {},
   "outputs": [
    {
     "data": {
      "text/plain": [
       "{4, 5, 6, 7, 9}"
      ]
     },
     "execution_count": 207,
     "metadata": {},
     "output_type": "execute_result"
    }
   ],
   "source": [
    "s"
   ]
  },
  {
   "cell_type": "code",
   "execution_count": 208,
   "id": "2e9c5ae5",
   "metadata": {},
   "outputs": [
    {
     "data": {
      "text/plain": [
       "True"
      ]
     },
     "execution_count": 208,
     "metadata": {},
     "output_type": "execute_result"
    }
   ],
   "source": [
    "sub={5,6,7}\n",
    "sub.issubset(s)"
   ]
  },
  {
   "cell_type": "code",
   "execution_count": 209,
   "id": "162f4a70",
   "metadata": {},
   "outputs": [
    {
     "data": {
      "text/plain": [
       "True"
      ]
     },
     "execution_count": 209,
     "metadata": {},
     "output_type": "execute_result"
    }
   ],
   "source": [
    "sup={0,1,2,3,4,5,6,7,8,9}\n",
    "sup.issuperset(s)"
   ]
  },
  {
   "cell_type": "code",
   "execution_count": 210,
   "id": "0e45a47f",
   "metadata": {},
   "outputs": [
    {
     "data": {
      "text/plain": [
       "True"
      ]
     },
     "execution_count": 210,
     "metadata": {},
     "output_type": "execute_result"
    }
   ],
   "source": [
    "s.issubset(sup)"
   ]
  },
  {
   "cell_type": "code",
   "execution_count": 212,
   "id": "7060a10a",
   "metadata": {
    "collapsed": true
   },
   "outputs": [
    {
     "name": "stdout",
     "output_type": "stream",
     "text": [
      "1=>7\n",
      "2=>4\n",
      "3=>2\n",
      "4=>2\n",
      "5=>3\n",
      "6=>2\n",
      "8=>1\n",
      "9=>2\n"
     ]
    }
   ],
   "source": [
    "# code to find freq of elements of a list\n",
    "li=[1,2,1,1,4,5,2,6,8,3,1,1,5,6,9,9,3,2,4,5,2,1,1]\n",
    "for item in set(li):\n",
    "    print(f'{item}=>{li.count(item)}')"
   ]
  },
  {
   "cell_type": "code",
   "execution_count": 214,
   "id": "2edacaf2",
   "metadata": {},
   "outputs": [
    {
     "name": "stdout",
     "output_type": "stream",
     "text": [
      "{1: 7, 2: 4, 3: 2, 4: 2, 5: 3, 6: 2, 8: 1, 9: 2}\n"
     ]
    }
   ],
   "source": [
    "# code to find freq of elements of a list\n",
    "li=[1,2,1,1,4,5,2,6,8,3,1,1,5,6,9,9,3,2,4,5,2,1,1]\n",
    "print({x:li.count(x) for x in set(li)})"
   ]
  },
  {
   "cell_type": "markdown",
   "id": "eab75474",
   "metadata": {},
   "source": [
    "#### Some more inbuilt functions"
   ]
  },
  {
   "cell_type": "code",
   "execution_count": 216,
   "id": "41867a98",
   "metadata": {},
   "outputs": [
    {
     "data": {
      "text/plain": [
       "[5, 4, 3, 2, 1]"
      ]
     },
     "execution_count": 216,
     "metadata": {},
     "output_type": "execute_result"
    }
   ],
   "source": [
    "# reversed()\n",
    "li=[1,2,3,4,5]\n",
    "list(reversed(li))"
   ]
  },
  {
   "cell_type": "code",
   "execution_count": 217,
   "id": "e28c5cb2",
   "metadata": {},
   "outputs": [
    {
     "data": {
      "text/plain": [
       "[1, 2, 3, 4, 5]"
      ]
     },
     "execution_count": 217,
     "metadata": {},
     "output_type": "execute_result"
    }
   ],
   "source": [
    "li"
   ]
  },
  {
   "cell_type": "code",
   "execution_count": 218,
   "id": "dc6bcb21",
   "metadata": {},
   "outputs": [
    {
     "name": "stdout",
     "output_type": "stream",
     "text": [
      "5\n",
      "4\n",
      "3\n",
      "2\n",
      "1\n"
     ]
    }
   ],
   "source": [
    "for i in reversed(li):\n",
    "    print(i)"
   ]
  },
  {
   "cell_type": "code",
   "execution_count": 220,
   "id": "d84061e7",
   "metadata": {},
   "outputs": [
    {
     "data": {
      "text/plain": [
       "[1, 4, 7, 9, 9, 10]"
      ]
     },
     "execution_count": 220,
     "metadata": {},
     "output_type": "execute_result"
    }
   ],
   "source": [
    "# sorted()\n",
    "li=[9,4,1,7,9,10]\n",
    "sorted(li)"
   ]
  },
  {
   "cell_type": "code",
   "execution_count": 222,
   "id": "72afc3a4",
   "metadata": {},
   "outputs": [
    {
     "data": {
      "text/plain": [
       "[1, 4, 7, 9, 9, 10]"
      ]
     },
     "execution_count": 222,
     "metadata": {},
     "output_type": "execute_result"
    }
   ],
   "source": [
    "k=sorted(li)\n",
    "k"
   ]
  },
  {
   "cell_type": "code",
   "execution_count": 223,
   "id": "78a6b51e",
   "metadata": {},
   "outputs": [
    {
     "data": {
      "text/plain": [
       "[0, 1, 2, 3, 4, 9]"
      ]
     },
     "execution_count": 223,
     "metadata": {},
     "output_type": "execute_result"
    }
   ],
   "source": [
    "d={3:30, 2:20, 9:90, 1:10, 4:40, 0:0}\n",
    "sorted(d)"
   ]
  },
  {
   "cell_type": "code",
   "execution_count": 225,
   "id": "ac0fa4b7",
   "metadata": {},
   "outputs": [],
   "source": [
    "# write a program to sort dictionary data by keys\n",
    "d={100:'A', 12:'B', 20:'C', 34:'D', 9:'E'}"
   ]
  },
  {
   "cell_type": "code",
   "execution_count": 226,
   "id": "fba7ea48",
   "metadata": {},
   "outputs": [
    {
     "name": "stdout",
     "output_type": "stream",
     "text": [
      "{9: 'E', 12: 'B', 20: 'C', 34: 'D', 100: 'A'}\n"
     ]
    }
   ],
   "source": [
    "print({x:d[x] for x in sorted(d)})"
   ]
  },
  {
   "cell_type": "markdown",
   "id": "f56b0e5c",
   "metadata": {},
   "source": [
    "### RegEx"
   ]
  },
  {
   "cell_type": "code",
   "execution_count": 227,
   "id": "3ed81885",
   "metadata": {},
   "outputs": [],
   "source": [
    "import re"
   ]
  },
  {
   "cell_type": "code",
   "execution_count": 229,
   "id": "3202093f",
   "metadata": {
    "collapsed": true
   },
   "outputs": [
    {
     "data": {
      "text/plain": [
       "['__name__',\n",
       " '__doc__',\n",
       " '__package__',\n",
       " '__loader__',\n",
       " '__spec__',\n",
       " '__file__',\n",
       " '__cached__',\n",
       " '__builtins__',\n",
       " 'enum',\n",
       " 'sre_compile',\n",
       " 'sre_parse',\n",
       " 'functools',\n",
       " '_locale',\n",
       " '__all__',\n",
       " '__version__',\n",
       " 'RegexFlag',\n",
       " 'ASCII',\n",
       " 'A',\n",
       " 'IGNORECASE',\n",
       " 'I',\n",
       " 'LOCALE',\n",
       " 'L',\n",
       " 'UNICODE',\n",
       " 'U',\n",
       " 'MULTILINE',\n",
       " 'M',\n",
       " 'DOTALL',\n",
       " 'S',\n",
       " 'VERBOSE',\n",
       " 'X',\n",
       " 'TEMPLATE',\n",
       " 'T',\n",
       " 'DEBUG',\n",
       " 'error',\n",
       " 'match',\n",
       " 'fullmatch',\n",
       " 'search',\n",
       " 'sub',\n",
       " 'subn',\n",
       " 'split',\n",
       " 'findall',\n",
       " 'finditer',\n",
       " 'compile',\n",
       " 'purge',\n",
       " 'template',\n",
       " '_special_chars_map',\n",
       " 'escape',\n",
       " 'Pattern',\n",
       " 'Match',\n",
       " '_cache',\n",
       " '_MAXCACHE',\n",
       " '_compile',\n",
       " '_compile_repl',\n",
       " '_expand',\n",
       " '_subx',\n",
       " 'copyreg',\n",
       " '_pickle',\n",
       " 'Scanner']"
      ]
     },
     "execution_count": 229,
     "metadata": {},
     "output_type": "execute_result"
    }
   ],
   "source": [
    "re.__dir__()"
   ]
  },
  {
   "cell_type": "code",
   "execution_count": 231,
   "id": "bc08119b",
   "metadata": {},
   "outputs": [
    {
     "name": "stdout",
     "output_type": "stream",
     "text": [
      "<re.Match object; span=(8, 9), match='.'>\n"
     ]
    }
   ],
   "source": [
    "s='Deloitte.com'\n",
    "match=re.search(r'\\.', s)\n",
    "print(match)"
   ]
  },
  {
   "cell_type": "code",
   "execution_count": 232,
   "id": "6b10956b",
   "metadata": {},
   "outputs": [
    {
     "name": "stdout",
     "output_type": "stream",
     "text": [
      "<re.Match object; span=(0, 2), match='te'>\n"
     ]
    }
   ],
   "source": [
    "s='tell deloitte'\n",
    "print(re.search(r'\\Ate', s))"
   ]
  },
  {
   "cell_type": "code",
   "execution_count": 233,
   "id": "ca1e60e2",
   "metadata": {},
   "outputs": [
    {
     "name": "stdout",
     "output_type": "stream",
     "text": [
      "<re.Match object; span=(11, 13), match='te'>\n"
     ]
    }
   ],
   "source": [
    "s='tell deloitte'\n",
    "print(re.search(r'te\\b', s))"
   ]
  },
  {
   "cell_type": "code",
   "execution_count": 237,
   "id": "0d9bd34a",
   "metadata": {},
   "outputs": [
    {
     "name": "stdout",
     "output_type": "stream",
     "text": [
      "<re.Match object; span=(9, 12), match='369'>\n"
     ]
    }
   ],
   "source": [
    "s='deloitte 36900 degree cameras'\n",
    "print(re.search(r'\\d{3}', s))"
   ]
  },
  {
   "cell_type": "code",
   "execution_count": 239,
   "id": "1b27ec68",
   "metadata": {},
   "outputs": [
    {
     "name": "stdout",
     "output_type": "stream",
     "text": [
      "<re.Match object; span=(9, 14), match='36900'>\n"
     ]
    }
   ],
   "source": [
    "s='deloitte 36900 degree cameras'\n",
    "print(re.search(r'\\d+', s))"
   ]
  },
  {
   "cell_type": "code",
   "execution_count": 240,
   "id": "c2862023",
   "metadata": {},
   "outputs": [
    {
     "name": "stdout",
     "output_type": "stream",
     "text": [
      "<re.Match object; span=(30, 40), match='9808766699'>\n"
     ]
    }
   ],
   "source": [
    "s='Alexa! recharge my mobile +91-9808766699 from airtel.'\n",
    "print(re.search(r'\\d{10}', s))"
   ]
  },
  {
   "cell_type": "code",
   "execution_count": 244,
   "id": "7727d544",
   "metadata": {},
   "outputs": [
    {
     "name": "stdout",
     "output_type": "stream",
     "text": [
      "<re.Match object; span=(26, 29), match='+91'>\n"
     ]
    }
   ],
   "source": [
    "s='Alexa! recharge my mobile +91-9808766699 from airtel.'\n",
    "print(re.search(r'\\W\\d{2}', s))"
   ]
  },
  {
   "cell_type": "code",
   "execution_count": 245,
   "id": "838f09cc",
   "metadata": {},
   "outputs": [
    {
     "name": "stdout",
     "output_type": "stream",
     "text": [
      "<re.Match object; span=(0, 3), match='Hi,'>\n"
     ]
    }
   ],
   "source": [
    "s='Hi, I am from deloitte.'\n",
    "print(re.search(r'\\S*', s))"
   ]
  },
  {
   "cell_type": "code",
   "execution_count": 247,
   "id": "356839d5",
   "metadata": {},
   "outputs": [
    {
     "name": "stdout",
     "output_type": "stream",
     "text": [
      "['8869088887', '9808976669']\n"
     ]
    }
   ],
   "source": [
    "# findall()\n",
    "\n",
    "s='hi, my mobile number is 8869088887 and 98089766699'\n",
    "print(re.findall(r'\\d{10}', s))"
   ]
  },
  {
   "cell_type": "code",
   "execution_count": 248,
   "id": "9142ea5a",
   "metadata": {},
   "outputs": [
    {
     "name": "stdout",
     "output_type": "stream",
     "text": [
      "['hi', '', '', 'my', '', 'mobile', '', 'number', '', 'is', '', '8869088887', '', 'and', '', '98089766699', '']\n"
     ]
    }
   ],
   "source": [
    "# findall()\n",
    "\n",
    "s='hi, my mobile number is 8869088887 and 98089766699'\n",
    "print(re.findall(r'\\w*', s))"
   ]
  },
  {
   "cell_type": "code",
   "execution_count": 250,
   "id": "7187f1a1",
   "metadata": {},
   "outputs": [
    {
     "name": "stdout",
     "output_type": "stream",
     "text": [
      "['', '', ', ', '', ' ', '', '', ' ', '', '', '', '', '', '', '', ' ', '', '', '', '', '!!! ', '', '', '', ' ', '', '', '', ' ', '', '', '', '', ' ', '', '', '', '', '', '', '', ' ', '', '', '', '', '??', '']\n"
     ]
    }
   ],
   "source": [
    "# findall()\n",
    "\n",
    "s='hi, I am feeling good!!! Are you also feeling same??'\n",
    "print(re.findall(r'\\W*', s))"
   ]
  },
  {
   "cell_type": "code",
   "execution_count": 251,
   "id": "05063af7",
   "metadata": {},
   "outputs": [],
   "source": [
    "# compile\n",
    "pattern=re.compile('\\d{10}')"
   ]
  },
  {
   "cell_type": "code",
   "execution_count": 252,
   "id": "91f3e11c",
   "metadata": {},
   "outputs": [
    {
     "data": {
      "text/plain": [
       "<re.Match object; span=(13, 23), match='1234567890'>"
      ]
     },
     "execution_count": 252,
     "metadata": {},
     "output_type": "execute_result"
    }
   ],
   "source": [
    "pattern.search('my number is 1234567890')"
   ]
  },
  {
   "cell_type": "code",
   "execution_count": 253,
   "id": "97dde3af",
   "metadata": {},
   "outputs": [],
   "source": [
    "# example\n",
    "\n",
    "s='''I am good. how are you? do you know what is date today?\n",
    "I'm sure you know that date is 16.'''\n",
    "\n",
    "pattern=re.compile('\\w+')"
   ]
  },
  {
   "cell_type": "code",
   "execution_count": 254,
   "id": "25965355",
   "metadata": {},
   "outputs": [
    {
     "name": "stdout",
     "output_type": "stream",
     "text": [
      "<re.Match object; span=(0, 1), match='I'>\n"
     ]
    }
   ],
   "source": [
    "print(pattern.search(s))"
   ]
  },
  {
   "cell_type": "code",
   "execution_count": 255,
   "id": "322a4d4d",
   "metadata": {},
   "outputs": [
    {
     "name": "stdout",
     "output_type": "stream",
     "text": [
      "['I', 'am', 'good', 'how', 'are', 'you', 'do', 'you', 'know', 'what', 'is', 'date', 'today', 'I', 'm', 'sure', 'you', 'know', 'that', 'date', 'is', '16']\n"
     ]
    }
   ],
   "source": [
    "print(pattern.findall(s))"
   ]
  },
  {
   "cell_type": "code",
   "execution_count": 275,
   "id": "8353a65c",
   "metadata": {},
   "outputs": [
    {
     "name": "stdout",
     "output_type": "stream",
     "text": [
      "Words: 22\n",
      "Spaces: 19\n",
      "Sp. Chars: 5\n"
     ]
    }
   ],
   "source": [
    "s='''I am good. how are you? do you know what is date today?\n",
    "I'm sure you know that date is 16.'''\n",
    "pattern_words=re.compile('\\w+')\n",
    "words=len(pattern_words.findall(s))\n",
    "spaces=len(re.findall(r'\\s+', s))-len(re.findall(r'\\n', s))\n",
    "sp_chars=len(re.findall(r'\\W',s))-len(re.findall(r'\\s+', s))\n",
    "\n",
    "print(f'Words: {words}\\nSpaces: {spaces}\\nSp. Chars: {sp_chars}')"
   ]
  },
  {
   "cell_type": "code",
   "execution_count": 276,
   "id": "25e1c801",
   "metadata": {},
   "outputs": [
    {
     "name": "stdout",
     "output_type": "stream",
     "text": [
      "['hello', 'how', 'are', 'you', '']\n"
     ]
    }
   ],
   "source": [
    "# split()\n",
    "print(re.split('\\W+', 'hello how are you?'))"
   ]
  },
  {
   "cell_type": "code",
   "execution_count": 277,
   "id": "e6200dde",
   "metadata": {},
   "outputs": [
    {
     "name": "stdout",
     "output_type": "stream",
     "text": [
      "['hello', 'how', 'are', 'you?']\n"
     ]
    }
   ],
   "source": [
    "# split()\n",
    "print(re.split('\\s+', 'hello how are you?'))"
   ]
  },
  {
   "cell_type": "code",
   "execution_count": 278,
   "id": "8dd46af4",
   "metadata": {},
   "outputs": [
    {
     "name": "stdout",
     "output_type": "stream",
     "text": [
      "['hello ', ' are you?']\n"
     ]
    }
   ],
   "source": [
    "# split()\n",
    "print(re.split('how', 'hello how are you?'))"
   ]
  },
  {
   "cell_type": "code",
   "execution_count": 281,
   "id": "bf65adff",
   "metadata": {},
   "outputs": [
    {
     "name": "stdout",
     "output_type": "stream",
     "text": [
      "I like to ride Ola cabs. Ola is better!\n"
     ]
    }
   ],
   "source": [
    "# sub()\n",
    "s='I like to ride Uber cabs. Uber is better!'\n",
    "print(re.sub('UBER', 'Ola', s, flags=re.IGNORECASE))"
   ]
  },
  {
   "cell_type": "code",
   "execution_count": 282,
   "id": "3c42babb",
   "metadata": {},
   "outputs": [
    {
     "name": "stdout",
     "output_type": "stream",
     "text": [
      "I like to ride Ola cabs. Uber is better!\n"
     ]
    }
   ],
   "source": [
    "# sub()\n",
    "s='I like to ride Uber cabs. Uber is better!'\n",
    "print(re.sub('UBER', 'Ola', s, flags=re.IGNORECASE, count=1))"
   ]
  },
  {
   "cell_type": "markdown",
   "id": "e8e3edc6",
   "metadata": {},
   "source": [
    "###### Searching"
   ]
  },
  {
   "cell_type": "code",
   "execution_count": 283,
   "id": "78b3e183",
   "metadata": {},
   "outputs": [
    {
     "name": "stdout",
     "output_type": "stream",
     "text": [
      "<re.Match object; span=(24, 32), match='08 March'>\n"
     ]
    }
   ],
   "source": [
    "s='I am not available from 08 March'\n",
    "pattern=r'(\\d+) ([A-Za-z]+)'\n",
    "match=re.search(pattern, s)\n",
    "print(match)"
   ]
  },
  {
   "cell_type": "code",
   "execution_count": 284,
   "id": "5fec254a",
   "metadata": {},
   "outputs": [
    {
     "name": "stdout",
     "output_type": "stream",
     "text": [
      "24 to 32\n"
     ]
    }
   ],
   "source": [
    "print(match.start(), match.end(), sep=' to ')"
   ]
  },
  {
   "cell_type": "code",
   "execution_count": 285,
   "id": "6beee02e",
   "metadata": {},
   "outputs": [
    {
     "data": {
      "text/plain": [
       "'08 March'"
      ]
     },
     "execution_count": 285,
     "metadata": {},
     "output_type": "execute_result"
    }
   ],
   "source": [
    "match.group(0)"
   ]
  },
  {
   "cell_type": "code",
   "execution_count": 286,
   "id": "6e1f9d2e",
   "metadata": {},
   "outputs": [
    {
     "data": {
      "text/plain": [
       "'08'"
      ]
     },
     "execution_count": 286,
     "metadata": {},
     "output_type": "execute_result"
    }
   ],
   "source": [
    "match.group(1)"
   ]
  },
  {
   "cell_type": "code",
   "execution_count": 287,
   "id": "42bd85e2",
   "metadata": {},
   "outputs": [
    {
     "data": {
      "text/plain": [
       "'March'"
      ]
     },
     "execution_count": 287,
     "metadata": {},
     "output_type": "execute_result"
    }
   ],
   "source": [
    "match.group(2)"
   ]
  },
  {
   "cell_type": "code",
   "execution_count": 288,
   "id": "c783fc01",
   "metadata": {},
   "outputs": [],
   "source": [
    "# find the email id & extract from the statement string.\n",
    "\n",
    "s='my email id is prateek9090@deloitte.com. you can text me details here.'"
   ]
  },
  {
   "cell_type": "code",
   "execution_count": 290,
   "id": "6cd2e1fe",
   "metadata": {},
   "outputs": [
    {
     "data": {
      "text/plain": [
       "<re.Match object; span=(15, 39), match='prateek9090@deloitte.com'>"
      ]
     },
     "execution_count": 290,
     "metadata": {},
     "output_type": "execute_result"
    }
   ],
   "source": [
    "re.search(r'([A-Za-z0-9]+)(@)(\\w+)(.)(\\w+)', s)"
   ]
  },
  {
   "cell_type": "markdown",
   "id": "e359a0f9",
   "metadata": {},
   "source": [
    "#### abs()"
   ]
  },
  {
   "cell_type": "code",
   "execution_count": 291,
   "id": "fd10d949",
   "metadata": {},
   "outputs": [
    {
     "data": {
      "text/plain": [
       "23"
      ]
     },
     "execution_count": 291,
     "metadata": {},
     "output_type": "execute_result"
    }
   ],
   "source": [
    "abs(23)"
   ]
  },
  {
   "cell_type": "code",
   "execution_count": 292,
   "id": "3f628388",
   "metadata": {},
   "outputs": [
    {
     "data": {
      "text/plain": [
       "567"
      ]
     },
     "execution_count": 292,
     "metadata": {},
     "output_type": "execute_result"
    }
   ],
   "source": [
    "abs(-567)"
   ]
  },
  {
   "cell_type": "markdown",
   "id": "ad3f436f",
   "metadata": {},
   "source": [
    "### bin()"
   ]
  },
  {
   "cell_type": "code",
   "execution_count": 293,
   "id": "e989d3d0",
   "metadata": {},
   "outputs": [
    {
     "data": {
      "text/plain": [
       "'0b100010'"
      ]
     },
     "execution_count": 293,
     "metadata": {},
     "output_type": "execute_result"
    }
   ],
   "source": [
    "bin(34)"
   ]
  },
  {
   "cell_type": "markdown",
   "id": "b0338624",
   "metadata": {},
   "source": [
    "### hash()"
   ]
  },
  {
   "cell_type": "code",
   "execution_count": 295,
   "id": "f5819b72",
   "metadata": {},
   "outputs": [
    {
     "data": {
      "text/plain": [
       "8676012324067761782"
      ]
     },
     "execution_count": 295,
     "metadata": {},
     "output_type": "execute_result"
    }
   ],
   "source": [
    "hash('prateek')"
   ]
  },
  {
   "cell_type": "markdown",
   "id": "6a516f69",
   "metadata": {},
   "source": [
    "#### any()"
   ]
  },
  {
   "cell_type": "code",
   "execution_count": 297,
   "id": "786c1997",
   "metadata": {},
   "outputs": [
    {
     "data": {
      "text/plain": [
       "True"
      ]
     },
     "execution_count": 297,
     "metadata": {},
     "output_type": "execute_result"
    }
   ],
   "source": [
    "any([0,0,0,0,1,0,0,0])"
   ]
  },
  {
   "cell_type": "code",
   "execution_count": 298,
   "id": "4739375d",
   "metadata": {},
   "outputs": [
    {
     "data": {
      "text/plain": [
       "True"
      ]
     },
     "execution_count": 298,
     "metadata": {},
     "output_type": "execute_result"
    }
   ],
   "source": [
    "any([23,45,67,0,0,0])"
   ]
  },
  {
   "cell_type": "code",
   "execution_count": 299,
   "id": "28bc74a6",
   "metadata": {},
   "outputs": [
    {
     "data": {
      "text/plain": [
       "True"
      ]
     },
     "execution_count": 299,
     "metadata": {},
     "output_type": "execute_result"
    }
   ],
   "source": [
    "any([False, False, False, True])"
   ]
  },
  {
   "cell_type": "code",
   "execution_count": 301,
   "id": "281ddb09",
   "metadata": {},
   "outputs": [
    {
     "data": {
      "text/plain": [
       "True"
      ]
     },
     "execution_count": 301,
     "metadata": {},
     "output_type": "execute_result"
    }
   ],
   "source": [
    "any([23>45, 45<3, 4==2, 14%3==2])"
   ]
  },
  {
   "cell_type": "markdown",
   "id": "877a9b2c",
   "metadata": {},
   "source": [
    "### all()"
   ]
  },
  {
   "cell_type": "code",
   "execution_count": 303,
   "id": "e688064b",
   "metadata": {},
   "outputs": [
    {
     "data": {
      "text/plain": [
       "False"
      ]
     },
     "execution_count": 303,
     "metadata": {},
     "output_type": "execute_result"
    }
   ],
   "source": [
    "all([1,1,1,1,1,1,1,0,1,1,1,1])"
   ]
  },
  {
   "cell_type": "code",
   "execution_count": 304,
   "id": "5d4536b5",
   "metadata": {},
   "outputs": [
    {
     "data": {
      "text/plain": [
       "False"
      ]
     },
     "execution_count": 304,
     "metadata": {},
     "output_type": "execute_result"
    }
   ],
   "source": [
    "all([1,1,1,1,1,1,1,1,1,11,None])"
   ]
  },
  {
   "cell_type": "code",
   "execution_count": 307,
   "id": "9e5b574e",
   "metadata": {},
   "outputs": [
    {
     "data": {
      "text/plain": [
       "False"
      ]
     },
     "execution_count": 307,
     "metadata": {},
     "output_type": "execute_result"
    }
   ],
   "source": [
    "all([True, True, True, True, False])"
   ]
  },
  {
   "cell_type": "code",
   "execution_count": 308,
   "id": "dec6fdc3",
   "metadata": {},
   "outputs": [
    {
     "data": {
      "text/plain": [
       "True"
      ]
     },
     "execution_count": 308,
     "metadata": {},
     "output_type": "execute_result"
    }
   ],
   "source": [
    "all([' ',1,1,1])"
   ]
  },
  {
   "cell_type": "code",
   "execution_count": 309,
   "id": "53172eb6",
   "metadata": {},
   "outputs": [
    {
     "data": {
      "text/plain": [
       "False"
      ]
     },
     "execution_count": 309,
     "metadata": {},
     "output_type": "execute_result"
    }
   ],
   "source": [
    "all([x for x in range(-100,100,1)])"
   ]
  },
  {
   "cell_type": "markdown",
   "id": "4c68ba2f",
   "metadata": {},
   "source": [
    "### hex()"
   ]
  },
  {
   "cell_type": "code",
   "execution_count": 310,
   "id": "3dd6e0cd",
   "metadata": {},
   "outputs": [
    {
     "data": {
      "text/plain": [
       "'0x2d'"
      ]
     },
     "execution_count": 310,
     "metadata": {},
     "output_type": "execute_result"
    }
   ],
   "source": [
    "hex(45)"
   ]
  },
  {
   "cell_type": "code",
   "execution_count": 311,
   "id": "a8f8fbfb",
   "metadata": {},
   "outputs": [
    {
     "data": {
      "text/plain": [
       "'0x1a85'"
      ]
     },
     "execution_count": 311,
     "metadata": {},
     "output_type": "execute_result"
    }
   ],
   "source": [
    "hex(6789)"
   ]
  },
  {
   "cell_type": "markdown",
   "id": "efa900fa",
   "metadata": {},
   "source": [
    "### compile(), eval(), exec()"
   ]
  },
  {
   "cell_type": "code",
   "execution_count": 316,
   "id": "3ca87281",
   "metadata": {},
   "outputs": [],
   "source": [
    "s='''x=int(input('Enter X: '))\n",
    "y=int(input('Enter Y: '))\n",
    "s=x+y\n",
    "print('Sum is: ',s)'''\n",
    "# compile(code_str, file, mode=[eval, exec])\n",
    "code=compile(s, 'myfile', 'exec')"
   ]
  },
  {
   "cell_type": "code",
   "execution_count": 317,
   "id": "2794f2bc",
   "metadata": {},
   "outputs": [
    {
     "name": "stdout",
     "output_type": "stream",
     "text": [
      "Enter X: 45\n",
      "Enter Y: 56\n",
      "Sum is:  101\n"
     ]
    }
   ],
   "source": [
    "exec(code)"
   ]
  },
  {
   "cell_type": "code",
   "execution_count": 318,
   "id": "ede9477b",
   "metadata": {},
   "outputs": [
    {
     "data": {
      "text/plain": [
       "65"
      ]
     },
     "execution_count": 318,
     "metadata": {},
     "output_type": "execute_result"
    }
   ],
   "source": [
    "# eval()\n",
    "\n",
    "eval('45+67//3-23%3')"
   ]
  },
  {
   "cell_type": "code",
   "execution_count": 322,
   "id": "2c5e82cf",
   "metadata": {},
   "outputs": [
    {
     "name": "stdout",
     "output_type": "stream",
     "text": [
      "Enter Expression: 56-7//2**8\n",
      "56\n"
     ]
    }
   ],
   "source": [
    "print(eval(input('Enter Expression: ')))"
   ]
  },
  {
   "cell_type": "code",
   "execution_count": null,
   "id": "ab699684",
   "metadata": {},
   "outputs": [],
   "source": []
  },
  {
   "cell_type": "code",
   "execution_count": null,
   "id": "6e78bf4c",
   "metadata": {},
   "outputs": [],
   "source": []
  },
  {
   "cell_type": "code",
   "execution_count": null,
   "id": "0f1f2ffd",
   "metadata": {},
   "outputs": [],
   "source": []
  },
  {
   "cell_type": "code",
   "execution_count": null,
   "id": "4ae831cd",
   "metadata": {},
   "outputs": [],
   "source": []
  },
  {
   "cell_type": "code",
   "execution_count": null,
   "id": "37db6fd2",
   "metadata": {},
   "outputs": [],
   "source": []
  },
  {
   "cell_type": "code",
   "execution_count": null,
   "id": "37a5816b",
   "metadata": {},
   "outputs": [],
   "source": []
  }
 ],
 "metadata": {
  "kernelspec": {
   "display_name": "Python 3 (ipykernel)",
   "language": "python",
   "name": "python3"
  },
  "language_info": {
   "codemirror_mode": {
    "name": "ipython",
    "version": 3
   },
   "file_extension": ".py",
   "mimetype": "text/x-python",
   "name": "python",
   "nbconvert_exporter": "python",
   "pygments_lexer": "ipython3",
   "version": "3.9.12"
  }
 },
 "nbformat": 4,
 "nbformat_minor": 5
}
