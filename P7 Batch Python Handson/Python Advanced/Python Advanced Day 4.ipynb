{
 "cells": [
  {
   "cell_type": "markdown",
   "id": "1da69965",
   "metadata": {},
   "source": [
    "## Python Advanced Day 4"
   ]
  },
  {
   "cell_type": "markdown",
   "id": "b258e676",
   "metadata": {},
   "source": [
    "### Pandas"
   ]
  },
  {
   "cell_type": "code",
   "execution_count": null,
   "id": "76e208e5",
   "metadata": {},
   "outputs": [],
   "source": [
    "! pip install pandas"
   ]
  },
  {
   "cell_type": "code",
   "execution_count": 1,
   "id": "18745b27",
   "metadata": {},
   "outputs": [],
   "source": [
    "import pandas as pd"
   ]
  },
  {
   "cell_type": "code",
   "execution_count": 3,
   "id": "bc897884",
   "metadata": {
    "scrolled": true
   },
   "outputs": [
    {
     "name": "stdout",
     "output_type": "stream",
     "text": [
      "\n",
      "pandas - a powerful data analysis and manipulation library for Python\n",
      "=====================================================================\n",
      "\n",
      "**pandas** is a Python package providing fast, flexible, and expressive data\n",
      "structures designed to make working with \"relational\" or \"labeled\" data both\n",
      "easy and intuitive. It aims to be the fundamental high-level building block for\n",
      "doing practical, **real world** data analysis in Python. Additionally, it has\n",
      "the broader goal of becoming **the most powerful and flexible open source data\n",
      "analysis / manipulation tool available in any language**. It is already well on\n",
      "its way toward this goal.\n",
      "\n",
      "Main Features\n",
      "-------------\n",
      "Here are just a few of the things that pandas does well:\n",
      "\n",
      "  - Easy handling of missing data in floating point as well as non-floating\n",
      "    point data.\n",
      "  - Size mutability: columns can be inserted and deleted from DataFrame and\n",
      "    higher dimensional objects\n",
      "  - Automatic and explicit data alignment: objects can be explicitly aligned\n",
      "    to a set of labels, or the user can simply ignore the labels and let\n",
      "    `Series`, `DataFrame`, etc. automatically align the data for you in\n",
      "    computations.\n",
      "  - Powerful, flexible group by functionality to perform split-apply-combine\n",
      "    operations on data sets, for both aggregating and transforming data.\n",
      "  - Make it easy to convert ragged, differently-indexed data in other Python\n",
      "    and NumPy data structures into DataFrame objects.\n",
      "  - Intelligent label-based slicing, fancy indexing, and subsetting of large\n",
      "    data sets.\n",
      "  - Intuitive merging and joining data sets.\n",
      "  - Flexible reshaping and pivoting of data sets.\n",
      "  - Hierarchical labeling of axes (possible to have multiple labels per tick).\n",
      "  - Robust IO tools for loading data from flat files (CSV and delimited),\n",
      "    Excel files, databases, and saving/loading data from the ultrafast HDF5\n",
      "    format.\n",
      "  - Time series-specific functionality: date range generation and frequency\n",
      "    conversion, moving window statistics, date shifting and lagging.\n",
      "\n"
     ]
    }
   ],
   "source": [
    "print(pd.__doc__)"
   ]
  },
  {
   "cell_type": "code",
   "execution_count": 4,
   "id": "1291ddad",
   "metadata": {},
   "outputs": [
    {
     "data": {
      "text/plain": [
       "0    1\n",
       "1    2\n",
       "2    3\n",
       "3    4\n",
       "4    5\n",
       "dtype: int64"
      ]
     },
     "execution_count": 4,
     "metadata": {},
     "output_type": "execute_result"
    }
   ],
   "source": [
    "s=pd.Series([1,2,3,4,5])\n",
    "s"
   ]
  },
  {
   "cell_type": "code",
   "execution_count": 5,
   "id": "b2ab2a6c",
   "metadata": {},
   "outputs": [
    {
     "data": {
      "text/plain": [
       "pandas.core.series.Series"
      ]
     },
     "execution_count": 5,
     "metadata": {},
     "output_type": "execute_result"
    }
   ],
   "source": [
    "type(s)"
   ]
  },
  {
   "cell_type": "code",
   "execution_count": 6,
   "id": "f1f59c6b",
   "metadata": {},
   "outputs": [
    {
     "data": {
      "text/plain": [
       "(5,)"
      ]
     },
     "execution_count": 6,
     "metadata": {},
     "output_type": "execute_result"
    }
   ],
   "source": [
    "s.shape"
   ]
  },
  {
   "cell_type": "code",
   "execution_count": 7,
   "id": "8a81b8df",
   "metadata": {},
   "outputs": [],
   "source": [
    "d1={'col1':[1,2,3], 'col2':[10,20,30]}\n",
    "d2={'col3':[11,12,13], 'col4':[100,200,300]}\n",
    "\n",
    "df1=pd.DataFrame(d1)\n",
    "df2=pd.DataFrame(d2)"
   ]
  },
  {
   "cell_type": "code",
   "execution_count": 8,
   "id": "bf8e091f",
   "metadata": {},
   "outputs": [
    {
     "data": {
      "text/html": [
       "<div>\n",
       "<style scoped>\n",
       "    .dataframe tbody tr th:only-of-type {\n",
       "        vertical-align: middle;\n",
       "    }\n",
       "\n",
       "    .dataframe tbody tr th {\n",
       "        vertical-align: top;\n",
       "    }\n",
       "\n",
       "    .dataframe thead th {\n",
       "        text-align: right;\n",
       "    }\n",
       "</style>\n",
       "<table border=\"1\" class=\"dataframe\">\n",
       "  <thead>\n",
       "    <tr style=\"text-align: right;\">\n",
       "      <th></th>\n",
       "      <th>col1</th>\n",
       "      <th>col2</th>\n",
       "    </tr>\n",
       "  </thead>\n",
       "  <tbody>\n",
       "    <tr>\n",
       "      <th>0</th>\n",
       "      <td>1</td>\n",
       "      <td>10</td>\n",
       "    </tr>\n",
       "    <tr>\n",
       "      <th>1</th>\n",
       "      <td>2</td>\n",
       "      <td>20</td>\n",
       "    </tr>\n",
       "    <tr>\n",
       "      <th>2</th>\n",
       "      <td>3</td>\n",
       "      <td>30</td>\n",
       "    </tr>\n",
       "  </tbody>\n",
       "</table>\n",
       "</div>"
      ],
      "text/plain": [
       "   col1  col2\n",
       "0     1    10\n",
       "1     2    20\n",
       "2     3    30"
      ]
     },
     "execution_count": 8,
     "metadata": {},
     "output_type": "execute_result"
    }
   ],
   "source": [
    "df1"
   ]
  },
  {
   "cell_type": "code",
   "execution_count": 9,
   "id": "1305c226",
   "metadata": {},
   "outputs": [
    {
     "data": {
      "text/html": [
       "<div>\n",
       "<style scoped>\n",
       "    .dataframe tbody tr th:only-of-type {\n",
       "        vertical-align: middle;\n",
       "    }\n",
       "\n",
       "    .dataframe tbody tr th {\n",
       "        vertical-align: top;\n",
       "    }\n",
       "\n",
       "    .dataframe thead th {\n",
       "        text-align: right;\n",
       "    }\n",
       "</style>\n",
       "<table border=\"1\" class=\"dataframe\">\n",
       "  <thead>\n",
       "    <tr style=\"text-align: right;\">\n",
       "      <th></th>\n",
       "      <th>col3</th>\n",
       "      <th>col4</th>\n",
       "    </tr>\n",
       "  </thead>\n",
       "  <tbody>\n",
       "    <tr>\n",
       "      <th>0</th>\n",
       "      <td>11</td>\n",
       "      <td>100</td>\n",
       "    </tr>\n",
       "    <tr>\n",
       "      <th>1</th>\n",
       "      <td>12</td>\n",
       "      <td>200</td>\n",
       "    </tr>\n",
       "    <tr>\n",
       "      <th>2</th>\n",
       "      <td>13</td>\n",
       "      <td>300</td>\n",
       "    </tr>\n",
       "  </tbody>\n",
       "</table>\n",
       "</div>"
      ],
      "text/plain": [
       "   col3  col4\n",
       "0    11   100\n",
       "1    12   200\n",
       "2    13   300"
      ]
     },
     "execution_count": 9,
     "metadata": {},
     "output_type": "execute_result"
    }
   ],
   "source": [
    "df2"
   ]
  },
  {
   "cell_type": "code",
   "execution_count": 10,
   "id": "05b3fd56",
   "metadata": {},
   "outputs": [
    {
     "data": {
      "text/plain": [
       "pandas.core.frame.DataFrame"
      ]
     },
     "execution_count": 10,
     "metadata": {},
     "output_type": "execute_result"
    }
   ],
   "source": [
    "type(df1)"
   ]
  },
  {
   "cell_type": "code",
   "execution_count": 11,
   "id": "9512f907",
   "metadata": {},
   "outputs": [
    {
     "data": {
      "text/plain": [
       "(3, 2)"
      ]
     },
     "execution_count": 11,
     "metadata": {},
     "output_type": "execute_result"
    }
   ],
   "source": [
    "df1.shape"
   ]
  },
  {
   "cell_type": "code",
   "execution_count": 13,
   "id": "0a1bc78b",
   "metadata": {},
   "outputs": [
    {
     "data": {
      "text/plain": [
       "0    10\n",
       "1    20\n",
       "2    30\n",
       "Name: col2, dtype: int64"
      ]
     },
     "execution_count": 13,
     "metadata": {},
     "output_type": "execute_result"
    }
   ],
   "source": [
    "df1['col2']"
   ]
  },
  {
   "cell_type": "code",
   "execution_count": 14,
   "id": "3132ac47",
   "metadata": {},
   "outputs": [
    {
     "data": {
      "text/plain": [
       "pandas.core.series.Series"
      ]
     },
     "execution_count": 14,
     "metadata": {},
     "output_type": "execute_result"
    }
   ],
   "source": [
    "type(df1['col1'])"
   ]
  },
  {
   "cell_type": "code",
   "execution_count": 16,
   "id": "fa2528bb",
   "metadata": {},
   "outputs": [
    {
     "data": {
      "text/plain": [
       "20"
      ]
     },
     "execution_count": 16,
     "metadata": {},
     "output_type": "execute_result"
    }
   ],
   "source": [
    "df1['col2'][1]"
   ]
  },
  {
   "cell_type": "code",
   "execution_count": 17,
   "id": "a53e4511",
   "metadata": {},
   "outputs": [
    {
     "data": {
      "text/html": [
       "<div>\n",
       "<style scoped>\n",
       "    .dataframe tbody tr th:only-of-type {\n",
       "        vertical-align: middle;\n",
       "    }\n",
       "\n",
       "    .dataframe tbody tr th {\n",
       "        vertical-align: top;\n",
       "    }\n",
       "\n",
       "    .dataframe thead th {\n",
       "        text-align: right;\n",
       "    }\n",
       "</style>\n",
       "<table border=\"1\" class=\"dataframe\">\n",
       "  <thead>\n",
       "    <tr style=\"text-align: right;\">\n",
       "      <th></th>\n",
       "      <th>col1</th>\n",
       "      <th>col2</th>\n",
       "      <th>col3</th>\n",
       "      <th>col4</th>\n",
       "    </tr>\n",
       "  </thead>\n",
       "  <tbody>\n",
       "    <tr>\n",
       "      <th>0</th>\n",
       "      <td>NaN</td>\n",
       "      <td>NaN</td>\n",
       "      <td>NaN</td>\n",
       "      <td>NaN</td>\n",
       "    </tr>\n",
       "    <tr>\n",
       "      <th>1</th>\n",
       "      <td>NaN</td>\n",
       "      <td>NaN</td>\n",
       "      <td>NaN</td>\n",
       "      <td>NaN</td>\n",
       "    </tr>\n",
       "    <tr>\n",
       "      <th>2</th>\n",
       "      <td>NaN</td>\n",
       "      <td>NaN</td>\n",
       "      <td>NaN</td>\n",
       "      <td>NaN</td>\n",
       "    </tr>\n",
       "  </tbody>\n",
       "</table>\n",
       "</div>"
      ],
      "text/plain": [
       "   col1  col2  col3  col4\n",
       "0   NaN   NaN   NaN   NaN\n",
       "1   NaN   NaN   NaN   NaN\n",
       "2   NaN   NaN   NaN   NaN"
      ]
     },
     "execution_count": 17,
     "metadata": {},
     "output_type": "execute_result"
    }
   ],
   "source": [
    "df3=df1+df2\n",
    "df3"
   ]
  },
  {
   "cell_type": "code",
   "execution_count": 18,
   "id": "8270ef3c",
   "metadata": {},
   "outputs": [
    {
     "data": {
      "text/html": [
       "<div>\n",
       "<style scoped>\n",
       "    .dataframe tbody tr th:only-of-type {\n",
       "        vertical-align: middle;\n",
       "    }\n",
       "\n",
       "    .dataframe tbody tr th {\n",
       "        vertical-align: top;\n",
       "    }\n",
       "\n",
       "    .dataframe thead th {\n",
       "        text-align: right;\n",
       "    }\n",
       "</style>\n",
       "<table border=\"1\" class=\"dataframe\">\n",
       "  <thead>\n",
       "    <tr style=\"text-align: right;\">\n",
       "      <th></th>\n",
       "      <th>col1</th>\n",
       "      <th>col2</th>\n",
       "      <th>col3</th>\n",
       "      <th>col4</th>\n",
       "    </tr>\n",
       "  </thead>\n",
       "  <tbody>\n",
       "    <tr>\n",
       "      <th>0</th>\n",
       "      <td>1.0</td>\n",
       "      <td>10.0</td>\n",
       "      <td>NaN</td>\n",
       "      <td>NaN</td>\n",
       "    </tr>\n",
       "    <tr>\n",
       "      <th>1</th>\n",
       "      <td>2.0</td>\n",
       "      <td>20.0</td>\n",
       "      <td>NaN</td>\n",
       "      <td>NaN</td>\n",
       "    </tr>\n",
       "    <tr>\n",
       "      <th>2</th>\n",
       "      <td>3.0</td>\n",
       "      <td>30.0</td>\n",
       "      <td>NaN</td>\n",
       "      <td>NaN</td>\n",
       "    </tr>\n",
       "    <tr>\n",
       "      <th>0</th>\n",
       "      <td>NaN</td>\n",
       "      <td>NaN</td>\n",
       "      <td>11.0</td>\n",
       "      <td>100.0</td>\n",
       "    </tr>\n",
       "    <tr>\n",
       "      <th>1</th>\n",
       "      <td>NaN</td>\n",
       "      <td>NaN</td>\n",
       "      <td>12.0</td>\n",
       "      <td>200.0</td>\n",
       "    </tr>\n",
       "    <tr>\n",
       "      <th>2</th>\n",
       "      <td>NaN</td>\n",
       "      <td>NaN</td>\n",
       "      <td>13.0</td>\n",
       "      <td>300.0</td>\n",
       "    </tr>\n",
       "  </tbody>\n",
       "</table>\n",
       "</div>"
      ],
      "text/plain": [
       "   col1  col2  col3   col4\n",
       "0   1.0  10.0   NaN    NaN\n",
       "1   2.0  20.0   NaN    NaN\n",
       "2   3.0  30.0   NaN    NaN\n",
       "0   NaN   NaN  11.0  100.0\n",
       "1   NaN   NaN  12.0  200.0\n",
       "2   NaN   NaN  13.0  300.0"
      ]
     },
     "execution_count": 18,
     "metadata": {},
     "output_type": "execute_result"
    }
   ],
   "source": [
    "df3=pd.concat([df1, df2])\n",
    "df3"
   ]
  },
  {
   "cell_type": "code",
   "execution_count": 19,
   "id": "fddc485a",
   "metadata": {},
   "outputs": [
    {
     "data": {
      "text/html": [
       "<div>\n",
       "<style scoped>\n",
       "    .dataframe tbody tr th:only-of-type {\n",
       "        vertical-align: middle;\n",
       "    }\n",
       "\n",
       "    .dataframe tbody tr th {\n",
       "        vertical-align: top;\n",
       "    }\n",
       "\n",
       "    .dataframe thead th {\n",
       "        text-align: right;\n",
       "    }\n",
       "</style>\n",
       "<table border=\"1\" class=\"dataframe\">\n",
       "  <thead>\n",
       "    <tr style=\"text-align: right;\">\n",
       "      <th></th>\n",
       "      <th>col1</th>\n",
       "      <th>col2</th>\n",
       "      <th>col3</th>\n",
       "      <th>col4</th>\n",
       "    </tr>\n",
       "  </thead>\n",
       "  <tbody>\n",
       "    <tr>\n",
       "      <th>0</th>\n",
       "      <td>1</td>\n",
       "      <td>10</td>\n",
       "      <td>11</td>\n",
       "      <td>100</td>\n",
       "    </tr>\n",
       "    <tr>\n",
       "      <th>1</th>\n",
       "      <td>2</td>\n",
       "      <td>20</td>\n",
       "      <td>12</td>\n",
       "      <td>200</td>\n",
       "    </tr>\n",
       "    <tr>\n",
       "      <th>2</th>\n",
       "      <td>3</td>\n",
       "      <td>30</td>\n",
       "      <td>13</td>\n",
       "      <td>300</td>\n",
       "    </tr>\n",
       "  </tbody>\n",
       "</table>\n",
       "</div>"
      ],
      "text/plain": [
       "   col1  col2  col3  col4\n",
       "0     1    10    11   100\n",
       "1     2    20    12   200\n",
       "2     3    30    13   300"
      ]
     },
     "execution_count": 19,
     "metadata": {},
     "output_type": "execute_result"
    }
   ],
   "source": [
    "df3=pd.concat([df1, df2], axis=1)\n",
    "df3"
   ]
  },
  {
   "cell_type": "code",
   "execution_count": 20,
   "id": "0aff1503",
   "metadata": {},
   "outputs": [
    {
     "data": {
      "text/html": [
       "<div>\n",
       "<style scoped>\n",
       "    .dataframe tbody tr th:only-of-type {\n",
       "        vertical-align: middle;\n",
       "    }\n",
       "\n",
       "    .dataframe tbody tr th {\n",
       "        vertical-align: top;\n",
       "    }\n",
       "\n",
       "    .dataframe thead th {\n",
       "        text-align: right;\n",
       "    }\n",
       "</style>\n",
       "<table border=\"1\" class=\"dataframe\">\n",
       "  <thead>\n",
       "    <tr style=\"text-align: right;\">\n",
       "      <th></th>\n",
       "      <th>col1</th>\n",
       "      <th>col2</th>\n",
       "    </tr>\n",
       "  </thead>\n",
       "  <tbody>\n",
       "    <tr>\n",
       "      <th>0</th>\n",
       "      <td>1</td>\n",
       "      <td>10</td>\n",
       "    </tr>\n",
       "    <tr>\n",
       "      <th>1</th>\n",
       "      <td>2</td>\n",
       "      <td>20</td>\n",
       "    </tr>\n",
       "    <tr>\n",
       "      <th>2</th>\n",
       "      <td>3</td>\n",
       "      <td>30</td>\n",
       "    </tr>\n",
       "    <tr>\n",
       "      <th>0</th>\n",
       "      <td>11</td>\n",
       "      <td>100</td>\n",
       "    </tr>\n",
       "    <tr>\n",
       "      <th>1</th>\n",
       "      <td>12</td>\n",
       "      <td>200</td>\n",
       "    </tr>\n",
       "    <tr>\n",
       "      <th>2</th>\n",
       "      <td>13</td>\n",
       "      <td>300</td>\n",
       "    </tr>\n",
       "  </tbody>\n",
       "</table>\n",
       "</div>"
      ],
      "text/plain": [
       "   col1  col2\n",
       "0     1    10\n",
       "1     2    20\n",
       "2     3    30\n",
       "0    11   100\n",
       "1    12   200\n",
       "2    13   300"
      ]
     },
     "execution_count": 20,
     "metadata": {},
     "output_type": "execute_result"
    }
   ],
   "source": [
    "d1={'col1':[1,2,3], 'col2':[10,20,30]}\n",
    "d2={'col1':[11,12,13], 'col2':[100,200,300]}\n",
    "\n",
    "df1=pd.DataFrame(d1)\n",
    "df2=pd.DataFrame(d2)\n",
    "\n",
    "df3=pd.concat([df1, df2], axis=0)\n",
    "df3"
   ]
  },
  {
   "cell_type": "code",
   "execution_count": 21,
   "id": "103cbc27",
   "metadata": {},
   "outputs": [
    {
     "data": {
      "text/html": [
       "<div>\n",
       "<style scoped>\n",
       "    .dataframe tbody tr th:only-of-type {\n",
       "        vertical-align: middle;\n",
       "    }\n",
       "\n",
       "    .dataframe tbody tr th {\n",
       "        vertical-align: top;\n",
       "    }\n",
       "\n",
       "    .dataframe thead th {\n",
       "        text-align: right;\n",
       "    }\n",
       "</style>\n",
       "<table border=\"1\" class=\"dataframe\">\n",
       "  <thead>\n",
       "    <tr style=\"text-align: right;\">\n",
       "      <th></th>\n",
       "      <th>Name</th>\n",
       "      <th>Gender</th>\n",
       "      <th>City:</th>\n",
       "      <th>Age</th>\n",
       "    </tr>\n",
       "  </thead>\n",
       "  <tbody>\n",
       "    <tr>\n",
       "      <th>0</th>\n",
       "      <td>Prateek</td>\n",
       "      <td>male</td>\n",
       "      <td>Delhi</td>\n",
       "      <td>37</td>\n",
       "    </tr>\n",
       "    <tr>\n",
       "      <th>1</th>\n",
       "      <td>Madhushree</td>\n",
       "      <td>female</td>\n",
       "      <td>Hubli</td>\n",
       "      <td>21</td>\n",
       "    </tr>\n",
       "    <tr>\n",
       "      <th>2</th>\n",
       "      <td>Srigouri</td>\n",
       "      <td>female</td>\n",
       "      <td>Bangalore</td>\n",
       "      <td>20</td>\n",
       "    </tr>\n",
       "    <tr>\n",
       "      <th>3</th>\n",
       "      <td>Saurav</td>\n",
       "      <td>male</td>\n",
       "      <td>Kolkatta</td>\n",
       "      <td>22</td>\n",
       "    </tr>\n",
       "    <tr>\n",
       "      <th>4</th>\n",
       "      <td>Prajwal</td>\n",
       "      <td>male</td>\n",
       "      <td>Delhi</td>\n",
       "      <td>23</td>\n",
       "    </tr>\n",
       "    <tr>\n",
       "      <th>5</th>\n",
       "      <td>Anusha</td>\n",
       "      <td>female</td>\n",
       "      <td>Managlore</td>\n",
       "      <td>21</td>\n",
       "    </tr>\n",
       "  </tbody>\n",
       "</table>\n",
       "</div>"
      ],
      "text/plain": [
       "         Name  Gender      City:  Age\n",
       "0     Prateek    male      Delhi   37\n",
       "1  Madhushree  female      Hubli   21\n",
       "2    Srigouri  female  Bangalore   20\n",
       "3      Saurav    male   Kolkatta   22\n",
       "4     Prajwal    male      Delhi   23\n",
       "5      Anusha  female  Managlore   21"
      ]
     },
     "execution_count": 21,
     "metadata": {},
     "output_type": "execute_result"
    }
   ],
   "source": [
    "df=pd.DataFrame(\n",
    "{\n",
    "    'Name':['Prateek','Madhushree','Srigouri','Saurav','Prajwal','Anusha'],\n",
    "    'Gender':['male','female','female','male','male','female'],\n",
    "    'City:':['Delhi','Hubli','Bangalore','Kolkatta','Delhi','Managlore'],\n",
    "    'Age':[37, 21, 20, 22, 23, 21]\n",
    "}\n",
    ")\n",
    "df"
   ]
  },
  {
   "cell_type": "code",
   "execution_count": 23,
   "id": "352bda01",
   "metadata": {},
   "outputs": [
    {
     "data": {
      "text/html": [
       "<div>\n",
       "<style scoped>\n",
       "    .dataframe tbody tr th:only-of-type {\n",
       "        vertical-align: middle;\n",
       "    }\n",
       "\n",
       "    .dataframe tbody tr th {\n",
       "        vertical-align: top;\n",
       "    }\n",
       "\n",
       "    .dataframe thead th {\n",
       "        text-align: right;\n",
       "    }\n",
       "</style>\n",
       "<table border=\"1\" class=\"dataframe\">\n",
       "  <thead>\n",
       "    <tr style=\"text-align: right;\">\n",
       "      <th></th>\n",
       "      <th>Name</th>\n",
       "      <th>Gender</th>\n",
       "      <th>City:</th>\n",
       "      <th>Age</th>\n",
       "    </tr>\n",
       "  </thead>\n",
       "  <tbody>\n",
       "    <tr>\n",
       "      <th>0</th>\n",
       "      <td>Prateek</td>\n",
       "      <td>male</td>\n",
       "      <td>Delhi</td>\n",
       "      <td>37</td>\n",
       "    </tr>\n",
       "    <tr>\n",
       "      <th>1</th>\n",
       "      <td>Madhushree</td>\n",
       "      <td>female</td>\n",
       "      <td>Hubli</td>\n",
       "      <td>21</td>\n",
       "    </tr>\n",
       "  </tbody>\n",
       "</table>\n",
       "</div>"
      ],
      "text/plain": [
       "         Name  Gender  City:  Age\n",
       "0     Prateek    male  Delhi   37\n",
       "1  Madhushree  female  Hubli   21"
      ]
     },
     "execution_count": 23,
     "metadata": {},
     "output_type": "execute_result"
    }
   ],
   "source": [
    "df.head(2)"
   ]
  },
  {
   "cell_type": "code",
   "execution_count": 24,
   "id": "82ec7201",
   "metadata": {},
   "outputs": [
    {
     "data": {
      "text/html": [
       "<div>\n",
       "<style scoped>\n",
       "    .dataframe tbody tr th:only-of-type {\n",
       "        vertical-align: middle;\n",
       "    }\n",
       "\n",
       "    .dataframe tbody tr th {\n",
       "        vertical-align: top;\n",
       "    }\n",
       "\n",
       "    .dataframe thead th {\n",
       "        text-align: right;\n",
       "    }\n",
       "</style>\n",
       "<table border=\"1\" class=\"dataframe\">\n",
       "  <thead>\n",
       "    <tr style=\"text-align: right;\">\n",
       "      <th></th>\n",
       "      <th>Name</th>\n",
       "      <th>Gender</th>\n",
       "      <th>City:</th>\n",
       "      <th>Age</th>\n",
       "    </tr>\n",
       "  </thead>\n",
       "  <tbody>\n",
       "    <tr>\n",
       "      <th>3</th>\n",
       "      <td>Saurav</td>\n",
       "      <td>male</td>\n",
       "      <td>Kolkatta</td>\n",
       "      <td>22</td>\n",
       "    </tr>\n",
       "    <tr>\n",
       "      <th>4</th>\n",
       "      <td>Prajwal</td>\n",
       "      <td>male</td>\n",
       "      <td>Delhi</td>\n",
       "      <td>23</td>\n",
       "    </tr>\n",
       "    <tr>\n",
       "      <th>5</th>\n",
       "      <td>Anusha</td>\n",
       "      <td>female</td>\n",
       "      <td>Managlore</td>\n",
       "      <td>21</td>\n",
       "    </tr>\n",
       "  </tbody>\n",
       "</table>\n",
       "</div>"
      ],
      "text/plain": [
       "      Name  Gender      City:  Age\n",
       "3   Saurav    male   Kolkatta   22\n",
       "4  Prajwal    male      Delhi   23\n",
       "5   Anusha  female  Managlore   21"
      ]
     },
     "execution_count": 24,
     "metadata": {},
     "output_type": "execute_result"
    }
   ],
   "source": [
    "df.tail(3)"
   ]
  },
  {
   "cell_type": "code",
   "execution_count": 29,
   "id": "dc0e4bda",
   "metadata": {},
   "outputs": [
    {
     "data": {
      "text/html": [
       "<div>\n",
       "<style scoped>\n",
       "    .dataframe tbody tr th:only-of-type {\n",
       "        vertical-align: middle;\n",
       "    }\n",
       "\n",
       "    .dataframe tbody tr th {\n",
       "        vertical-align: top;\n",
       "    }\n",
       "\n",
       "    .dataframe thead th {\n",
       "        text-align: right;\n",
       "    }\n",
       "</style>\n",
       "<table border=\"1\" class=\"dataframe\">\n",
       "  <thead>\n",
       "    <tr style=\"text-align: right;\">\n",
       "      <th></th>\n",
       "      <th>Name</th>\n",
       "      <th>City:</th>\n",
       "    </tr>\n",
       "  </thead>\n",
       "  <tbody>\n",
       "    <tr>\n",
       "      <th>0</th>\n",
       "      <td>Prateek</td>\n",
       "      <td>Delhi</td>\n",
       "    </tr>\n",
       "    <tr>\n",
       "      <th>1</th>\n",
       "      <td>Madhushree</td>\n",
       "      <td>Hubli</td>\n",
       "    </tr>\n",
       "    <tr>\n",
       "      <th>2</th>\n",
       "      <td>Srigouri</td>\n",
       "      <td>Bangalore</td>\n",
       "    </tr>\n",
       "    <tr>\n",
       "      <th>3</th>\n",
       "      <td>Saurav</td>\n",
       "      <td>Kolkatta</td>\n",
       "    </tr>\n",
       "    <tr>\n",
       "      <th>4</th>\n",
       "      <td>Prajwal</td>\n",
       "      <td>Delhi</td>\n",
       "    </tr>\n",
       "    <tr>\n",
       "      <th>5</th>\n",
       "      <td>Anusha</td>\n",
       "      <td>Managlore</td>\n",
       "    </tr>\n",
       "  </tbody>\n",
       "</table>\n",
       "</div>"
      ],
      "text/plain": [
       "         Name      City:\n",
       "0     Prateek      Delhi\n",
       "1  Madhushree      Hubli\n",
       "2    Srigouri  Bangalore\n",
       "3      Saurav   Kolkatta\n",
       "4     Prajwal      Delhi\n",
       "5      Anusha  Managlore"
      ]
     },
     "execution_count": 29,
     "metadata": {},
     "output_type": "execute_result"
    }
   ],
   "source": [
    "# filetr by column name\n",
    "df[['Name', 'City:']]"
   ]
  },
  {
   "cell_type": "code",
   "execution_count": 30,
   "id": "49c1af4e",
   "metadata": {},
   "outputs": [
    {
     "data": {
      "text/html": [
       "<div>\n",
       "<style scoped>\n",
       "    .dataframe tbody tr th:only-of-type {\n",
       "        vertical-align: middle;\n",
       "    }\n",
       "\n",
       "    .dataframe tbody tr th {\n",
       "        vertical-align: top;\n",
       "    }\n",
       "\n",
       "    .dataframe thead th {\n",
       "        text-align: right;\n",
       "    }\n",
       "</style>\n",
       "<table border=\"1\" class=\"dataframe\">\n",
       "  <thead>\n",
       "    <tr style=\"text-align: right;\">\n",
       "      <th></th>\n",
       "      <th>Name</th>\n",
       "      <th>Gender</th>\n",
       "      <th>City:</th>\n",
       "      <th>Age</th>\n",
       "    </tr>\n",
       "  </thead>\n",
       "  <tbody>\n",
       "    <tr>\n",
       "      <th>0</th>\n",
       "      <td>Prateek</td>\n",
       "      <td>male</td>\n",
       "      <td>Delhi</td>\n",
       "      <td>37</td>\n",
       "    </tr>\n",
       "    <tr>\n",
       "      <th>4</th>\n",
       "      <td>Prajwal</td>\n",
       "      <td>male</td>\n",
       "      <td>Delhi</td>\n",
       "      <td>23</td>\n",
       "    </tr>\n",
       "  </tbody>\n",
       "</table>\n",
       "</div>"
      ],
      "text/plain": [
       "      Name Gender  City:  Age\n",
       "0  Prateek   male  Delhi   37\n",
       "4  Prajwal   male  Delhi   23"
      ]
     },
     "execution_count": 30,
     "metadata": {},
     "output_type": "execute_result"
    }
   ],
   "source": [
    "# filetr by column value\n",
    "df[df['Age']>22]"
   ]
  },
  {
   "cell_type": "code",
   "execution_count": 31,
   "id": "49f279e3",
   "metadata": {},
   "outputs": [
    {
     "data": {
      "text/plain": [
       "0     True\n",
       "1    False\n",
       "2    False\n",
       "3    False\n",
       "4     True\n",
       "5    False\n",
       "Name: Age, dtype: bool"
      ]
     },
     "execution_count": 31,
     "metadata": {},
     "output_type": "execute_result"
    }
   ],
   "source": [
    "df['Age']>22"
   ]
  },
  {
   "cell_type": "code",
   "execution_count": 32,
   "id": "6c06d619",
   "metadata": {},
   "outputs": [
    {
     "data": {
      "text/html": [
       "<div>\n",
       "<style scoped>\n",
       "    .dataframe tbody tr th:only-of-type {\n",
       "        vertical-align: middle;\n",
       "    }\n",
       "\n",
       "    .dataframe tbody tr th {\n",
       "        vertical-align: top;\n",
       "    }\n",
       "\n",
       "    .dataframe thead th {\n",
       "        text-align: right;\n",
       "    }\n",
       "</style>\n",
       "<table border=\"1\" class=\"dataframe\">\n",
       "  <thead>\n",
       "    <tr style=\"text-align: right;\">\n",
       "      <th></th>\n",
       "      <th>Name</th>\n",
       "      <th>Gender</th>\n",
       "      <th>City:</th>\n",
       "      <th>Age</th>\n",
       "    </tr>\n",
       "  </thead>\n",
       "  <tbody>\n",
       "    <tr>\n",
       "      <th>1</th>\n",
       "      <td>Madhushree</td>\n",
       "      <td>female</td>\n",
       "      <td>Hubli</td>\n",
       "      <td>21</td>\n",
       "    </tr>\n",
       "  </tbody>\n",
       "</table>\n",
       "</div>"
      ],
      "text/plain": [
       "         Name  Gender  City:  Age\n",
       "1  Madhushree  female  Hubli   21"
      ]
     },
     "execution_count": 32,
     "metadata": {},
     "output_type": "execute_result"
    }
   ],
   "source": [
    "df[df['City:']=='Hubli']"
   ]
  },
  {
   "cell_type": "code",
   "execution_count": 36,
   "id": "f5d9176e",
   "metadata": {},
   "outputs": [
    {
     "data": {
      "text/html": [
       "<div>\n",
       "<style scoped>\n",
       "    .dataframe tbody tr th:only-of-type {\n",
       "        vertical-align: middle;\n",
       "    }\n",
       "\n",
       "    .dataframe tbody tr th {\n",
       "        vertical-align: top;\n",
       "    }\n",
       "\n",
       "    .dataframe thead th {\n",
       "        text-align: right;\n",
       "    }\n",
       "</style>\n",
       "<table border=\"1\" class=\"dataframe\">\n",
       "  <thead>\n",
       "    <tr style=\"text-align: right;\">\n",
       "      <th></th>\n",
       "      <th>Name</th>\n",
       "      <th>Gender</th>\n",
       "      <th>City:</th>\n",
       "      <th>Age</th>\n",
       "    </tr>\n",
       "  </thead>\n",
       "  <tbody>\n",
       "    <tr>\n",
       "      <th>1</th>\n",
       "      <td>Madhushree</td>\n",
       "      <td>female</td>\n",
       "      <td>Hubli</td>\n",
       "      <td>21</td>\n",
       "    </tr>\n",
       "    <tr>\n",
       "      <th>2</th>\n",
       "      <td>Srigouri</td>\n",
       "      <td>female</td>\n",
       "      <td>Bangalore</td>\n",
       "      <td>20</td>\n",
       "    </tr>\n",
       "    <tr>\n",
       "      <th>5</th>\n",
       "      <td>Anusha</td>\n",
       "      <td>female</td>\n",
       "      <td>Managlore</td>\n",
       "      <td>21</td>\n",
       "    </tr>\n",
       "  </tbody>\n",
       "</table>\n",
       "</div>"
      ],
      "text/plain": [
       "         Name  Gender      City:  Age\n",
       "1  Madhushree  female      Hubli   21\n",
       "2    Srigouri  female  Bangalore   20\n",
       "5      Anusha  female  Managlore   21"
      ]
     },
     "execution_count": 36,
     "metadata": {},
     "output_type": "execute_result"
    }
   ],
   "source": [
    "df[df['Gender']=='female']"
   ]
  },
  {
   "cell_type": "code",
   "execution_count": 37,
   "id": "2a0ae7a6",
   "metadata": {},
   "outputs": [
    {
     "data": {
      "text/html": [
       "<div>\n",
       "<style scoped>\n",
       "    .dataframe tbody tr th:only-of-type {\n",
       "        vertical-align: middle;\n",
       "    }\n",
       "\n",
       "    .dataframe tbody tr th {\n",
       "        vertical-align: top;\n",
       "    }\n",
       "\n",
       "    .dataframe thead th {\n",
       "        text-align: right;\n",
       "    }\n",
       "</style>\n",
       "<table border=\"1\" class=\"dataframe\">\n",
       "  <thead>\n",
       "    <tr style=\"text-align: right;\">\n",
       "      <th></th>\n",
       "      <th>Name</th>\n",
       "      <th>City:</th>\n",
       "    </tr>\n",
       "  </thead>\n",
       "  <tbody>\n",
       "    <tr>\n",
       "      <th>1</th>\n",
       "      <td>Madhushree</td>\n",
       "      <td>Hubli</td>\n",
       "    </tr>\n",
       "    <tr>\n",
       "      <th>2</th>\n",
       "      <td>Srigouri</td>\n",
       "      <td>Bangalore</td>\n",
       "    </tr>\n",
       "    <tr>\n",
       "      <th>5</th>\n",
       "      <td>Anusha</td>\n",
       "      <td>Managlore</td>\n",
       "    </tr>\n",
       "  </tbody>\n",
       "</table>\n",
       "</div>"
      ],
      "text/plain": [
       "         Name      City:\n",
       "1  Madhushree      Hubli\n",
       "2    Srigouri  Bangalore\n",
       "5      Anusha  Managlore"
      ]
     },
     "execution_count": 37,
     "metadata": {},
     "output_type": "execute_result"
    }
   ],
   "source": [
    "# filetr by values and col again\n",
    "df[df['Gender']=='female'][['Name', 'City:']]"
   ]
  },
  {
   "cell_type": "code",
   "execution_count": 38,
   "id": "a44060f2",
   "metadata": {},
   "outputs": [
    {
     "data": {
      "text/html": [
       "<div>\n",
       "<style scoped>\n",
       "    .dataframe tbody tr th:only-of-type {\n",
       "        vertical-align: middle;\n",
       "    }\n",
       "\n",
       "    .dataframe tbody tr th {\n",
       "        vertical-align: top;\n",
       "    }\n",
       "\n",
       "    .dataframe thead th {\n",
       "        text-align: right;\n",
       "    }\n",
       "</style>\n",
       "<table border=\"1\" class=\"dataframe\">\n",
       "  <thead>\n",
       "    <tr style=\"text-align: right;\">\n",
       "      <th></th>\n",
       "      <th>Name</th>\n",
       "      <th>Gender</th>\n",
       "      <th>City:</th>\n",
       "      <th>Age</th>\n",
       "      <th>Department</th>\n",
       "    </tr>\n",
       "  </thead>\n",
       "  <tbody>\n",
       "    <tr>\n",
       "      <th>0</th>\n",
       "      <td>Prateek</td>\n",
       "      <td>male</td>\n",
       "      <td>Delhi</td>\n",
       "      <td>37</td>\n",
       "      <td>DTA</td>\n",
       "    </tr>\n",
       "    <tr>\n",
       "      <th>1</th>\n",
       "      <td>Madhushree</td>\n",
       "      <td>female</td>\n",
       "      <td>Hubli</td>\n",
       "      <td>21</td>\n",
       "      <td>Audit</td>\n",
       "    </tr>\n",
       "    <tr>\n",
       "      <th>2</th>\n",
       "      <td>Srigouri</td>\n",
       "      <td>female</td>\n",
       "      <td>Bangalore</td>\n",
       "      <td>20</td>\n",
       "      <td>Tax</td>\n",
       "    </tr>\n",
       "    <tr>\n",
       "      <th>3</th>\n",
       "      <td>Saurav</td>\n",
       "      <td>male</td>\n",
       "      <td>Kolkatta</td>\n",
       "      <td>22</td>\n",
       "      <td>Audit</td>\n",
       "    </tr>\n",
       "    <tr>\n",
       "      <th>4</th>\n",
       "      <td>Prajwal</td>\n",
       "      <td>male</td>\n",
       "      <td>Delhi</td>\n",
       "      <td>23</td>\n",
       "      <td>Audit</td>\n",
       "    </tr>\n",
       "    <tr>\n",
       "      <th>5</th>\n",
       "      <td>Anusha</td>\n",
       "      <td>female</td>\n",
       "      <td>Managlore</td>\n",
       "      <td>21</td>\n",
       "      <td>Analytics</td>\n",
       "    </tr>\n",
       "  </tbody>\n",
       "</table>\n",
       "</div>"
      ],
      "text/plain": [
       "         Name  Gender      City:  Age Department\n",
       "0     Prateek    male      Delhi   37        DTA\n",
       "1  Madhushree  female      Hubli   21      Audit\n",
       "2    Srigouri  female  Bangalore   20        Tax\n",
       "3      Saurav    male   Kolkatta   22      Audit\n",
       "4     Prajwal    male      Delhi   23      Audit\n",
       "5      Anusha  female  Managlore   21  Analytics"
      ]
     },
     "execution_count": 38,
     "metadata": {},
     "output_type": "execute_result"
    }
   ],
   "source": [
    "dept=['DTA','Audit','Tax','Audit','Audit','Analytics']\n",
    "\n",
    "df['Department']=dept\n",
    "df"
   ]
  },
  {
   "cell_type": "code",
   "execution_count": 41,
   "id": "bc1f89c7",
   "metadata": {},
   "outputs": [
    {
     "data": {
      "text/html": [
       "<div>\n",
       "<style scoped>\n",
       "    .dataframe tbody tr th:only-of-type {\n",
       "        vertical-align: middle;\n",
       "    }\n",
       "\n",
       "    .dataframe tbody tr th {\n",
       "        vertical-align: top;\n",
       "    }\n",
       "\n",
       "    .dataframe thead th {\n",
       "        text-align: right;\n",
       "    }\n",
       "</style>\n",
       "<table border=\"1\" class=\"dataframe\">\n",
       "  <thead>\n",
       "    <tr style=\"text-align: right;\">\n",
       "      <th></th>\n",
       "      <th>Name</th>\n",
       "      <th>Gender</th>\n",
       "      <th>City:</th>\n",
       "      <th>Age</th>\n",
       "      <th>Department</th>\n",
       "    </tr>\n",
       "  </thead>\n",
       "  <tbody>\n",
       "    <tr>\n",
       "      <th>0</th>\n",
       "      <td>Prateek</td>\n",
       "      <td>male</td>\n",
       "      <td>Delhi</td>\n",
       "      <td>37</td>\n",
       "      <td>DTA</td>\n",
       "    </tr>\n",
       "    <tr>\n",
       "      <th>1</th>\n",
       "      <td>Madhushree</td>\n",
       "      <td>female</td>\n",
       "      <td>Hubli</td>\n",
       "      <td>21</td>\n",
       "      <td>Audit</td>\n",
       "    </tr>\n",
       "    <tr>\n",
       "      <th>2</th>\n",
       "      <td>Srigouri</td>\n",
       "      <td>female</td>\n",
       "      <td>Bangalore</td>\n",
       "      <td>20</td>\n",
       "      <td>Tax</td>\n",
       "    </tr>\n",
       "    <tr>\n",
       "      <th>3</th>\n",
       "      <td>Saurav</td>\n",
       "      <td>male</td>\n",
       "      <td>Kolkatta</td>\n",
       "      <td>22</td>\n",
       "      <td>Audit</td>\n",
       "    </tr>\n",
       "    <tr>\n",
       "      <th>4</th>\n",
       "      <td>Prajwal</td>\n",
       "      <td>male</td>\n",
       "      <td>Delhi</td>\n",
       "      <td>23</td>\n",
       "      <td>Audit</td>\n",
       "    </tr>\n",
       "    <tr>\n",
       "      <th>5</th>\n",
       "      <td>Anusha</td>\n",
       "      <td>female</td>\n",
       "      <td>Managlore</td>\n",
       "      <td>21</td>\n",
       "      <td>Analytics</td>\n",
       "    </tr>\n",
       "    <tr>\n",
       "      <th>0</th>\n",
       "      <td>Simant</td>\n",
       "      <td>male</td>\n",
       "      <td>Mumbai</td>\n",
       "      <td>36</td>\n",
       "      <td>DTA</td>\n",
       "    </tr>\n",
       "  </tbody>\n",
       "</table>\n",
       "</div>"
      ],
      "text/plain": [
       "         Name  Gender      City:  Age Department\n",
       "0     Prateek    male      Delhi   37        DTA\n",
       "1  Madhushree  female      Hubli   21      Audit\n",
       "2    Srigouri  female  Bangalore   20        Tax\n",
       "3      Saurav    male   Kolkatta   22      Audit\n",
       "4     Prajwal    male      Delhi   23      Audit\n",
       "5      Anusha  female  Managlore   21  Analytics\n",
       "0      Simant    male     Mumbai   36        DTA"
      ]
     },
     "execution_count": 41,
     "metadata": {},
     "output_type": "execute_result"
    }
   ],
   "source": [
    "d={'Name':['Simant'],'Gender':['male'],'City:':['Mumbai'],'Age':[36], 'Department':['DTA']}\n",
    "\n",
    "df=pd.concat([df, pd.DataFrame(d)], axis=0)\n",
    "df"
   ]
  },
  {
   "cell_type": "code",
   "execution_count": 42,
   "id": "55223074",
   "metadata": {},
   "outputs": [
    {
     "data": {
      "text/html": [
       "<div>\n",
       "<style scoped>\n",
       "    .dataframe tbody tr th:only-of-type {\n",
       "        vertical-align: middle;\n",
       "    }\n",
       "\n",
       "    .dataframe tbody tr th {\n",
       "        vertical-align: top;\n",
       "    }\n",
       "\n",
       "    .dataframe thead th {\n",
       "        text-align: right;\n",
       "    }\n",
       "</style>\n",
       "<table border=\"1\" class=\"dataframe\">\n",
       "  <thead>\n",
       "    <tr style=\"text-align: right;\">\n",
       "      <th></th>\n",
       "      <th>index</th>\n",
       "      <th>Name</th>\n",
       "      <th>Gender</th>\n",
       "      <th>City:</th>\n",
       "      <th>Age</th>\n",
       "      <th>Department</th>\n",
       "    </tr>\n",
       "  </thead>\n",
       "  <tbody>\n",
       "    <tr>\n",
       "      <th>0</th>\n",
       "      <td>0</td>\n",
       "      <td>Prateek</td>\n",
       "      <td>male</td>\n",
       "      <td>Delhi</td>\n",
       "      <td>37</td>\n",
       "      <td>DTA</td>\n",
       "    </tr>\n",
       "    <tr>\n",
       "      <th>1</th>\n",
       "      <td>1</td>\n",
       "      <td>Madhushree</td>\n",
       "      <td>female</td>\n",
       "      <td>Hubli</td>\n",
       "      <td>21</td>\n",
       "      <td>Audit</td>\n",
       "    </tr>\n",
       "    <tr>\n",
       "      <th>2</th>\n",
       "      <td>2</td>\n",
       "      <td>Srigouri</td>\n",
       "      <td>female</td>\n",
       "      <td>Bangalore</td>\n",
       "      <td>20</td>\n",
       "      <td>Tax</td>\n",
       "    </tr>\n",
       "    <tr>\n",
       "      <th>3</th>\n",
       "      <td>3</td>\n",
       "      <td>Saurav</td>\n",
       "      <td>male</td>\n",
       "      <td>Kolkatta</td>\n",
       "      <td>22</td>\n",
       "      <td>Audit</td>\n",
       "    </tr>\n",
       "    <tr>\n",
       "      <th>4</th>\n",
       "      <td>4</td>\n",
       "      <td>Prajwal</td>\n",
       "      <td>male</td>\n",
       "      <td>Delhi</td>\n",
       "      <td>23</td>\n",
       "      <td>Audit</td>\n",
       "    </tr>\n",
       "    <tr>\n",
       "      <th>5</th>\n",
       "      <td>5</td>\n",
       "      <td>Anusha</td>\n",
       "      <td>female</td>\n",
       "      <td>Managlore</td>\n",
       "      <td>21</td>\n",
       "      <td>Analytics</td>\n",
       "    </tr>\n",
       "    <tr>\n",
       "      <th>6</th>\n",
       "      <td>0</td>\n",
       "      <td>Simant</td>\n",
       "      <td>male</td>\n",
       "      <td>Mumbai</td>\n",
       "      <td>36</td>\n",
       "      <td>DTA</td>\n",
       "    </tr>\n",
       "  </tbody>\n",
       "</table>\n",
       "</div>"
      ],
      "text/plain": [
       "   index        Name  Gender      City:  Age Department\n",
       "0      0     Prateek    male      Delhi   37        DTA\n",
       "1      1  Madhushree  female      Hubli   21      Audit\n",
       "2      2    Srigouri  female  Bangalore   20        Tax\n",
       "3      3      Saurav    male   Kolkatta   22      Audit\n",
       "4      4     Prajwal    male      Delhi   23      Audit\n",
       "5      5      Anusha  female  Managlore   21  Analytics\n",
       "6      0      Simant    male     Mumbai   36        DTA"
      ]
     },
     "execution_count": 42,
     "metadata": {},
     "output_type": "execute_result"
    }
   ],
   "source": [
    "df=df.reset_index()\n",
    "df"
   ]
  },
  {
   "cell_type": "code",
   "execution_count": 44,
   "id": "e507731c",
   "metadata": {},
   "outputs": [
    {
     "data": {
      "text/html": [
       "<div>\n",
       "<style scoped>\n",
       "    .dataframe tbody tr th:only-of-type {\n",
       "        vertical-align: middle;\n",
       "    }\n",
       "\n",
       "    .dataframe tbody tr th {\n",
       "        vertical-align: top;\n",
       "    }\n",
       "\n",
       "    .dataframe thead th {\n",
       "        text-align: right;\n",
       "    }\n",
       "</style>\n",
       "<table border=\"1\" class=\"dataframe\">\n",
       "  <thead>\n",
       "    <tr style=\"text-align: right;\">\n",
       "      <th></th>\n",
       "      <th>Name</th>\n",
       "      <th>Gender</th>\n",
       "      <th>City:</th>\n",
       "      <th>Age</th>\n",
       "      <th>Department</th>\n",
       "    </tr>\n",
       "  </thead>\n",
       "  <tbody>\n",
       "    <tr>\n",
       "      <th>0</th>\n",
       "      <td>Prateek</td>\n",
       "      <td>male</td>\n",
       "      <td>Delhi</td>\n",
       "      <td>37</td>\n",
       "      <td>DTA</td>\n",
       "    </tr>\n",
       "    <tr>\n",
       "      <th>1</th>\n",
       "      <td>Madhushree</td>\n",
       "      <td>female</td>\n",
       "      <td>Hubli</td>\n",
       "      <td>21</td>\n",
       "      <td>Audit</td>\n",
       "    </tr>\n",
       "    <tr>\n",
       "      <th>2</th>\n",
       "      <td>Srigouri</td>\n",
       "      <td>female</td>\n",
       "      <td>Bangalore</td>\n",
       "      <td>20</td>\n",
       "      <td>Tax</td>\n",
       "    </tr>\n",
       "    <tr>\n",
       "      <th>3</th>\n",
       "      <td>Saurav</td>\n",
       "      <td>male</td>\n",
       "      <td>Kolkatta</td>\n",
       "      <td>22</td>\n",
       "      <td>Audit</td>\n",
       "    </tr>\n",
       "    <tr>\n",
       "      <th>4</th>\n",
       "      <td>Prajwal</td>\n",
       "      <td>male</td>\n",
       "      <td>Delhi</td>\n",
       "      <td>23</td>\n",
       "      <td>Audit</td>\n",
       "    </tr>\n",
       "    <tr>\n",
       "      <th>5</th>\n",
       "      <td>Anusha</td>\n",
       "      <td>female</td>\n",
       "      <td>Managlore</td>\n",
       "      <td>21</td>\n",
       "      <td>Analytics</td>\n",
       "    </tr>\n",
       "    <tr>\n",
       "      <th>6</th>\n",
       "      <td>Simant</td>\n",
       "      <td>male</td>\n",
       "      <td>Mumbai</td>\n",
       "      <td>36</td>\n",
       "      <td>DTA</td>\n",
       "    </tr>\n",
       "  </tbody>\n",
       "</table>\n",
       "</div>"
      ],
      "text/plain": [
       "         Name  Gender      City:  Age Department\n",
       "0     Prateek    male      Delhi   37        DTA\n",
       "1  Madhushree  female      Hubli   21      Audit\n",
       "2    Srigouri  female  Bangalore   20        Tax\n",
       "3      Saurav    male   Kolkatta   22      Audit\n",
       "4     Prajwal    male      Delhi   23      Audit\n",
       "5      Anusha  female  Managlore   21  Analytics\n",
       "6      Simant    male     Mumbai   36        DTA"
      ]
     },
     "execution_count": 44,
     "metadata": {},
     "output_type": "execute_result"
    }
   ],
   "source": [
    "df=df.drop(['index'], axis=1)\n",
    "df"
   ]
  },
  {
   "cell_type": "code",
   "execution_count": 45,
   "id": "19801afe",
   "metadata": {},
   "outputs": [
    {
     "name": "stdout",
     "output_type": "stream",
     "text": [
      "<class 'pandas.core.frame.DataFrame'>\n",
      "RangeIndex: 7 entries, 0 to 6\n",
      "Data columns (total 5 columns):\n",
      " #   Column      Non-Null Count  Dtype \n",
      "---  ------      --------------  ----- \n",
      " 0   Name        7 non-null      object\n",
      " 1   Gender      7 non-null      object\n",
      " 2   City:       7 non-null      object\n",
      " 3   Age         7 non-null      int64 \n",
      " 4   Department  7 non-null      object\n",
      "dtypes: int64(1), object(4)\n",
      "memory usage: 408.0+ bytes\n"
     ]
    }
   ],
   "source": [
    "df.info()"
   ]
  },
  {
   "cell_type": "code",
   "execution_count": 46,
   "id": "6a2671b4",
   "metadata": {},
   "outputs": [
    {
     "data": {
      "text/plain": [
       "Index(['Name', 'Gender', 'City:', 'Age', 'Department'], dtype='object')"
      ]
     },
     "execution_count": 46,
     "metadata": {},
     "output_type": "execute_result"
    }
   ],
   "source": [
    "df.columns"
   ]
  },
  {
   "cell_type": "code",
   "execution_count": 47,
   "id": "fe744376",
   "metadata": {},
   "outputs": [
    {
     "data": {
      "text/html": [
       "<div>\n",
       "<style scoped>\n",
       "    .dataframe tbody tr th:only-of-type {\n",
       "        vertical-align: middle;\n",
       "    }\n",
       "\n",
       "    .dataframe tbody tr th {\n",
       "        vertical-align: top;\n",
       "    }\n",
       "\n",
       "    .dataframe thead th {\n",
       "        text-align: right;\n",
       "    }\n",
       "</style>\n",
       "<table border=\"1\" class=\"dataframe\">\n",
       "  <thead>\n",
       "    <tr style=\"text-align: right;\">\n",
       "      <th></th>\n",
       "      <th>Age</th>\n",
       "    </tr>\n",
       "  </thead>\n",
       "  <tbody>\n",
       "    <tr>\n",
       "      <th>count</th>\n",
       "      <td>7.000000</td>\n",
       "    </tr>\n",
       "    <tr>\n",
       "      <th>mean</th>\n",
       "      <td>25.714286</td>\n",
       "    </tr>\n",
       "    <tr>\n",
       "      <th>std</th>\n",
       "      <td>7.432234</td>\n",
       "    </tr>\n",
       "    <tr>\n",
       "      <th>min</th>\n",
       "      <td>20.000000</td>\n",
       "    </tr>\n",
       "    <tr>\n",
       "      <th>25%</th>\n",
       "      <td>21.000000</td>\n",
       "    </tr>\n",
       "    <tr>\n",
       "      <th>50%</th>\n",
       "      <td>22.000000</td>\n",
       "    </tr>\n",
       "    <tr>\n",
       "      <th>75%</th>\n",
       "      <td>29.500000</td>\n",
       "    </tr>\n",
       "    <tr>\n",
       "      <th>max</th>\n",
       "      <td>37.000000</td>\n",
       "    </tr>\n",
       "  </tbody>\n",
       "</table>\n",
       "</div>"
      ],
      "text/plain": [
       "             Age\n",
       "count   7.000000\n",
       "mean   25.714286\n",
       "std     7.432234\n",
       "min    20.000000\n",
       "25%    21.000000\n",
       "50%    22.000000\n",
       "75%    29.500000\n",
       "max    37.000000"
      ]
     },
     "execution_count": 47,
     "metadata": {},
     "output_type": "execute_result"
    }
   ],
   "source": [
    "df.describe()"
   ]
  },
  {
   "cell_type": "code",
   "execution_count": 48,
   "id": "beecb806",
   "metadata": {},
   "outputs": [
    {
     "data": {
      "text/plain": [
       "array(['Delhi', 'Hubli', 'Bangalore', 'Kolkatta', 'Managlore', 'Mumbai'],\n",
       "      dtype=object)"
      ]
     },
     "execution_count": 48,
     "metadata": {},
     "output_type": "execute_result"
    }
   ],
   "source": [
    "df['City:'].unique()"
   ]
  },
  {
   "cell_type": "code",
   "execution_count": 49,
   "id": "9d0cb615",
   "metadata": {},
   "outputs": [
    {
     "data": {
      "text/plain": [
       "array(['male', 'female'], dtype=object)"
      ]
     },
     "execution_count": 49,
     "metadata": {},
     "output_type": "execute_result"
    }
   ],
   "source": [
    "df['Gender'].unique()"
   ]
  },
  {
   "cell_type": "code",
   "execution_count": 52,
   "id": "892d46ca",
   "metadata": {},
   "outputs": [
    {
     "data": {
      "text/plain": [
       "male      4\n",
       "female    3\n",
       "Name: Gender, dtype: int64"
      ]
     },
     "execution_count": 52,
     "metadata": {},
     "output_type": "execute_result"
    }
   ],
   "source": [
    "df['Gender'].value_counts()"
   ]
  },
  {
   "cell_type": "code",
   "execution_count": 54,
   "id": "2d2d7ac0",
   "metadata": {},
   "outputs": [
    {
     "data": {
      "text/plain": [
       "Audit        3\n",
       "DTA          2\n",
       "Tax          1\n",
       "Analytics    1\n",
       "Name: Department, dtype: int64"
      ]
     },
     "execution_count": 54,
     "metadata": {},
     "output_type": "execute_result"
    }
   ],
   "source": [
    "df['Department'].value_counts()"
   ]
  },
  {
   "cell_type": "code",
   "execution_count": 55,
   "id": "6a6c7569",
   "metadata": {},
   "outputs": [
    {
     "data": {
      "text/html": [
       "<div>\n",
       "<style scoped>\n",
       "    .dataframe tbody tr th:only-of-type {\n",
       "        vertical-align: middle;\n",
       "    }\n",
       "\n",
       "    .dataframe tbody tr th {\n",
       "        vertical-align: top;\n",
       "    }\n",
       "\n",
       "    .dataframe thead th {\n",
       "        text-align: right;\n",
       "    }\n",
       "</style>\n",
       "<table border=\"1\" class=\"dataframe\">\n",
       "  <thead>\n",
       "    <tr style=\"text-align: right;\">\n",
       "      <th></th>\n",
       "      <th>Name</th>\n",
       "      <th>Gender</th>\n",
       "      <th>City:</th>\n",
       "      <th>Age</th>\n",
       "      <th>Department</th>\n",
       "    </tr>\n",
       "  </thead>\n",
       "  <tbody>\n",
       "    <tr>\n",
       "      <th>0</th>\n",
       "      <td>Prateek</td>\n",
       "      <td>male</td>\n",
       "      <td>Delhi</td>\n",
       "      <td>37</td>\n",
       "      <td>DTA</td>\n",
       "    </tr>\n",
       "    <tr>\n",
       "      <th>1</th>\n",
       "      <td>Madhushree</td>\n",
       "      <td>female</td>\n",
       "      <td>Hubli</td>\n",
       "      <td>21</td>\n",
       "      <td>Audit</td>\n",
       "    </tr>\n",
       "    <tr>\n",
       "      <th>2</th>\n",
       "      <td>Srigouri</td>\n",
       "      <td>female</td>\n",
       "      <td>Bangalore</td>\n",
       "      <td>20</td>\n",
       "      <td>Tax</td>\n",
       "    </tr>\n",
       "    <tr>\n",
       "      <th>3</th>\n",
       "      <td>Saurav</td>\n",
       "      <td>male</td>\n",
       "      <td>Kolkatta</td>\n",
       "      <td>22</td>\n",
       "      <td>Audit</td>\n",
       "    </tr>\n",
       "    <tr>\n",
       "      <th>4</th>\n",
       "      <td>Prajwal</td>\n",
       "      <td>male</td>\n",
       "      <td>Delhi</td>\n",
       "      <td>23</td>\n",
       "      <td>Audit</td>\n",
       "    </tr>\n",
       "    <tr>\n",
       "      <th>5</th>\n",
       "      <td>Anusha</td>\n",
       "      <td>female</td>\n",
       "      <td>Managlore</td>\n",
       "      <td>21</td>\n",
       "      <td>Analytics</td>\n",
       "    </tr>\n",
       "    <tr>\n",
       "      <th>6</th>\n",
       "      <td>Simant</td>\n",
       "      <td>male</td>\n",
       "      <td>Mumbai</td>\n",
       "      <td>36</td>\n",
       "      <td>DTA</td>\n",
       "    </tr>\n",
       "    <tr>\n",
       "      <th>7</th>\n",
       "      <td>Rohit</td>\n",
       "      <td>male</td>\n",
       "      <td>None</td>\n",
       "      <td>35</td>\n",
       "      <td>None</td>\n",
       "    </tr>\n",
       "  </tbody>\n",
       "</table>\n",
       "</div>"
      ],
      "text/plain": [
       "         Name  Gender      City:  Age Department\n",
       "0     Prateek    male      Delhi   37        DTA\n",
       "1  Madhushree  female      Hubli   21      Audit\n",
       "2    Srigouri  female  Bangalore   20        Tax\n",
       "3      Saurav    male   Kolkatta   22      Audit\n",
       "4     Prajwal    male      Delhi   23      Audit\n",
       "5      Anusha  female  Managlore   21  Analytics\n",
       "6      Simant    male     Mumbai   36        DTA\n",
       "7       Rohit    male       None   35       None"
      ]
     },
     "execution_count": 55,
     "metadata": {},
     "output_type": "execute_result"
    }
   ],
   "source": [
    "d={'Name':['Rohit'], 'Gender':['male'], 'City:':[None], 'Age':[35], 'Department':[None]}\n",
    "df=pd.concat([df, pd.DataFrame(d)], axis=0)\n",
    "df=df.reset_index()\n",
    "df=df.drop(['index'],axis=1)\n",
    "df"
   ]
  },
  {
   "cell_type": "code",
   "execution_count": 62,
   "id": "e20b482f",
   "metadata": {},
   "outputs": [
    {
     "data": {
      "text/html": [
       "<div>\n",
       "<style scoped>\n",
       "    .dataframe tbody tr th:only-of-type {\n",
       "        vertical-align: middle;\n",
       "    }\n",
       "\n",
       "    .dataframe tbody tr th {\n",
       "        vertical-align: top;\n",
       "    }\n",
       "\n",
       "    .dataframe thead th {\n",
       "        text-align: right;\n",
       "    }\n",
       "</style>\n",
       "<table border=\"1\" class=\"dataframe\">\n",
       "  <thead>\n",
       "    <tr style=\"text-align: right;\">\n",
       "      <th></th>\n",
       "      <th>Name</th>\n",
       "      <th>Gender</th>\n",
       "      <th>City:</th>\n",
       "      <th>Age</th>\n",
       "      <th>Department</th>\n",
       "    </tr>\n",
       "  </thead>\n",
       "  <tbody>\n",
       "    <tr>\n",
       "      <th>0</th>\n",
       "      <td>False</td>\n",
       "      <td>False</td>\n",
       "      <td>False</td>\n",
       "      <td>False</td>\n",
       "      <td>False</td>\n",
       "    </tr>\n",
       "    <tr>\n",
       "      <th>1</th>\n",
       "      <td>False</td>\n",
       "      <td>False</td>\n",
       "      <td>False</td>\n",
       "      <td>False</td>\n",
       "      <td>False</td>\n",
       "    </tr>\n",
       "    <tr>\n",
       "      <th>2</th>\n",
       "      <td>False</td>\n",
       "      <td>False</td>\n",
       "      <td>False</td>\n",
       "      <td>False</td>\n",
       "      <td>False</td>\n",
       "    </tr>\n",
       "    <tr>\n",
       "      <th>3</th>\n",
       "      <td>False</td>\n",
       "      <td>False</td>\n",
       "      <td>False</td>\n",
       "      <td>False</td>\n",
       "      <td>False</td>\n",
       "    </tr>\n",
       "    <tr>\n",
       "      <th>4</th>\n",
       "      <td>False</td>\n",
       "      <td>False</td>\n",
       "      <td>False</td>\n",
       "      <td>False</td>\n",
       "      <td>False</td>\n",
       "    </tr>\n",
       "    <tr>\n",
       "      <th>5</th>\n",
       "      <td>False</td>\n",
       "      <td>False</td>\n",
       "      <td>False</td>\n",
       "      <td>False</td>\n",
       "      <td>False</td>\n",
       "    </tr>\n",
       "    <tr>\n",
       "      <th>6</th>\n",
       "      <td>False</td>\n",
       "      <td>False</td>\n",
       "      <td>False</td>\n",
       "      <td>False</td>\n",
       "      <td>False</td>\n",
       "    </tr>\n",
       "    <tr>\n",
       "      <th>7</th>\n",
       "      <td>False</td>\n",
       "      <td>False</td>\n",
       "      <td>True</td>\n",
       "      <td>False</td>\n",
       "      <td>True</td>\n",
       "    </tr>\n",
       "  </tbody>\n",
       "</table>\n",
       "</div>"
      ],
      "text/plain": [
       "    Name  Gender  City:    Age  Department\n",
       "0  False   False  False  False       False\n",
       "1  False   False  False  False       False\n",
       "2  False   False  False  False       False\n",
       "3  False   False  False  False       False\n",
       "4  False   False  False  False       False\n",
       "5  False   False  False  False       False\n",
       "6  False   False  False  False       False\n",
       "7  False   False   True  False        True"
      ]
     },
     "execution_count": 62,
     "metadata": {},
     "output_type": "execute_result"
    }
   ],
   "source": [
    "df.isna()"
   ]
  },
  {
   "cell_type": "code",
   "execution_count": 63,
   "id": "5686965e",
   "metadata": {},
   "outputs": [
    {
     "data": {
      "text/plain": [
       "Name          0\n",
       "Gender        0\n",
       "City:         1\n",
       "Age           0\n",
       "Department    1\n",
       "dtype: int64"
      ]
     },
     "execution_count": 63,
     "metadata": {},
     "output_type": "execute_result"
    }
   ],
   "source": [
    "df.isna().sum()"
   ]
  },
  {
   "cell_type": "code",
   "execution_count": 66,
   "id": "168e89aa",
   "metadata": {},
   "outputs": [
    {
     "data": {
      "text/plain": [
       "pandas.core.series.Series"
      ]
     },
     "execution_count": 66,
     "metadata": {},
     "output_type": "execute_result"
    }
   ],
   "source": [
    "# locating records and values\n",
    "df.loc[5]"
   ]
  },
  {
   "cell_type": "code",
   "execution_count": 65,
   "id": "eb35fa91",
   "metadata": {},
   "outputs": [
    {
     "data": {
      "text/plain": [
       "'Managlore'"
      ]
     },
     "execution_count": 65,
     "metadata": {},
     "output_type": "execute_result"
    }
   ],
   "source": [
    "df['City:'].loc[5]"
   ]
  },
  {
   "cell_type": "code",
   "execution_count": 67,
   "id": "6521dbef",
   "metadata": {},
   "outputs": [
    {
     "data": {
      "text/plain": [
       "Name             Anusha\n",
       "Gender           female\n",
       "City:         Managlore\n",
       "Age                  21\n",
       "Department    Analytics\n",
       "Name: 5, dtype: object"
      ]
     },
     "execution_count": 67,
     "metadata": {},
     "output_type": "execute_result"
    }
   ],
   "source": [
    "df.iloc[5]"
   ]
  },
  {
   "cell_type": "code",
   "execution_count": 68,
   "id": "0f51c83a",
   "metadata": {},
   "outputs": [
    {
     "data": {
      "text/html": [
       "<div>\n",
       "<style scoped>\n",
       "    .dataframe tbody tr th:only-of-type {\n",
       "        vertical-align: middle;\n",
       "    }\n",
       "\n",
       "    .dataframe tbody tr th {\n",
       "        vertical-align: top;\n",
       "    }\n",
       "\n",
       "    .dataframe thead th {\n",
       "        text-align: right;\n",
       "    }\n",
       "</style>\n",
       "<table border=\"1\" class=\"dataframe\">\n",
       "  <thead>\n",
       "    <tr style=\"text-align: right;\">\n",
       "      <th></th>\n",
       "      <th>Name</th>\n",
       "      <th>Gender</th>\n",
       "      <th>City:</th>\n",
       "      <th>Age</th>\n",
       "      <th>Department</th>\n",
       "      <th>tags</th>\n",
       "    </tr>\n",
       "  </thead>\n",
       "  <tbody>\n",
       "    <tr>\n",
       "      <th>0</th>\n",
       "      <td>Prateek</td>\n",
       "      <td>male</td>\n",
       "      <td>Delhi</td>\n",
       "      <td>37</td>\n",
       "      <td>DTA</td>\n",
       "      <td>a</td>\n",
       "    </tr>\n",
       "    <tr>\n",
       "      <th>1</th>\n",
       "      <td>Madhushree</td>\n",
       "      <td>female</td>\n",
       "      <td>Hubli</td>\n",
       "      <td>21</td>\n",
       "      <td>Audit</td>\n",
       "      <td>b</td>\n",
       "    </tr>\n",
       "    <tr>\n",
       "      <th>2</th>\n",
       "      <td>Srigouri</td>\n",
       "      <td>female</td>\n",
       "      <td>Bangalore</td>\n",
       "      <td>20</td>\n",
       "      <td>Tax</td>\n",
       "      <td>c</td>\n",
       "    </tr>\n",
       "    <tr>\n",
       "      <th>3</th>\n",
       "      <td>Saurav</td>\n",
       "      <td>male</td>\n",
       "      <td>Kolkatta</td>\n",
       "      <td>22</td>\n",
       "      <td>Audit</td>\n",
       "      <td>d</td>\n",
       "    </tr>\n",
       "    <tr>\n",
       "      <th>4</th>\n",
       "      <td>Prajwal</td>\n",
       "      <td>male</td>\n",
       "      <td>Delhi</td>\n",
       "      <td>23</td>\n",
       "      <td>Audit</td>\n",
       "      <td>e</td>\n",
       "    </tr>\n",
       "    <tr>\n",
       "      <th>5</th>\n",
       "      <td>Anusha</td>\n",
       "      <td>female</td>\n",
       "      <td>Managlore</td>\n",
       "      <td>21</td>\n",
       "      <td>Analytics</td>\n",
       "      <td>f</td>\n",
       "    </tr>\n",
       "    <tr>\n",
       "      <th>6</th>\n",
       "      <td>Simant</td>\n",
       "      <td>male</td>\n",
       "      <td>Mumbai</td>\n",
       "      <td>36</td>\n",
       "      <td>DTA</td>\n",
       "      <td>g</td>\n",
       "    </tr>\n",
       "    <tr>\n",
       "      <th>7</th>\n",
       "      <td>Rohit</td>\n",
       "      <td>male</td>\n",
       "      <td>None</td>\n",
       "      <td>35</td>\n",
       "      <td>None</td>\n",
       "      <td>h</td>\n",
       "    </tr>\n",
       "  </tbody>\n",
       "</table>\n",
       "</div>"
      ],
      "text/plain": [
       "         Name  Gender      City:  Age Department tags\n",
       "0     Prateek    male      Delhi   37        DTA    a\n",
       "1  Madhushree  female      Hubli   21      Audit    b\n",
       "2    Srigouri  female  Bangalore   20        Tax    c\n",
       "3      Saurav    male   Kolkatta   22      Audit    d\n",
       "4     Prajwal    male      Delhi   23      Audit    e\n",
       "5      Anusha  female  Managlore   21  Analytics    f\n",
       "6      Simant    male     Mumbai   36        DTA    g\n",
       "7       Rohit    male       None   35       None    h"
      ]
     },
     "execution_count": 68,
     "metadata": {},
     "output_type": "execute_result"
    }
   ],
   "source": [
    "df['tags']=pd.Series(['a','b','c','d','e','f','g','h'])\n",
    "df"
   ]
  },
  {
   "cell_type": "code",
   "execution_count": 69,
   "id": "632fc77f",
   "metadata": {},
   "outputs": [
    {
     "data": {
      "text/html": [
       "<div>\n",
       "<style scoped>\n",
       "    .dataframe tbody tr th:only-of-type {\n",
       "        vertical-align: middle;\n",
       "    }\n",
       "\n",
       "    .dataframe tbody tr th {\n",
       "        vertical-align: top;\n",
       "    }\n",
       "\n",
       "    .dataframe thead th {\n",
       "        text-align: right;\n",
       "    }\n",
       "</style>\n",
       "<table border=\"1\" class=\"dataframe\">\n",
       "  <thead>\n",
       "    <tr style=\"text-align: right;\">\n",
       "      <th></th>\n",
       "      <th>Name</th>\n",
       "      <th>Gender</th>\n",
       "      <th>City:</th>\n",
       "      <th>Age</th>\n",
       "      <th>Department</th>\n",
       "    </tr>\n",
       "    <tr>\n",
       "      <th>tags</th>\n",
       "      <th></th>\n",
       "      <th></th>\n",
       "      <th></th>\n",
       "      <th></th>\n",
       "      <th></th>\n",
       "    </tr>\n",
       "  </thead>\n",
       "  <tbody>\n",
       "    <tr>\n",
       "      <th>a</th>\n",
       "      <td>Prateek</td>\n",
       "      <td>male</td>\n",
       "      <td>Delhi</td>\n",
       "      <td>37</td>\n",
       "      <td>DTA</td>\n",
       "    </tr>\n",
       "    <tr>\n",
       "      <th>b</th>\n",
       "      <td>Madhushree</td>\n",
       "      <td>female</td>\n",
       "      <td>Hubli</td>\n",
       "      <td>21</td>\n",
       "      <td>Audit</td>\n",
       "    </tr>\n",
       "    <tr>\n",
       "      <th>c</th>\n",
       "      <td>Srigouri</td>\n",
       "      <td>female</td>\n",
       "      <td>Bangalore</td>\n",
       "      <td>20</td>\n",
       "      <td>Tax</td>\n",
       "    </tr>\n",
       "    <tr>\n",
       "      <th>d</th>\n",
       "      <td>Saurav</td>\n",
       "      <td>male</td>\n",
       "      <td>Kolkatta</td>\n",
       "      <td>22</td>\n",
       "      <td>Audit</td>\n",
       "    </tr>\n",
       "    <tr>\n",
       "      <th>e</th>\n",
       "      <td>Prajwal</td>\n",
       "      <td>male</td>\n",
       "      <td>Delhi</td>\n",
       "      <td>23</td>\n",
       "      <td>Audit</td>\n",
       "    </tr>\n",
       "    <tr>\n",
       "      <th>f</th>\n",
       "      <td>Anusha</td>\n",
       "      <td>female</td>\n",
       "      <td>Managlore</td>\n",
       "      <td>21</td>\n",
       "      <td>Analytics</td>\n",
       "    </tr>\n",
       "    <tr>\n",
       "      <th>g</th>\n",
       "      <td>Simant</td>\n",
       "      <td>male</td>\n",
       "      <td>Mumbai</td>\n",
       "      <td>36</td>\n",
       "      <td>DTA</td>\n",
       "    </tr>\n",
       "    <tr>\n",
       "      <th>h</th>\n",
       "      <td>Rohit</td>\n",
       "      <td>male</td>\n",
       "      <td>None</td>\n",
       "      <td>35</td>\n",
       "      <td>None</td>\n",
       "    </tr>\n",
       "  </tbody>\n",
       "</table>\n",
       "</div>"
      ],
      "text/plain": [
       "            Name  Gender      City:  Age Department\n",
       "tags                                               \n",
       "a        Prateek    male      Delhi   37        DTA\n",
       "b     Madhushree  female      Hubli   21      Audit\n",
       "c       Srigouri  female  Bangalore   20        Tax\n",
       "d         Saurav    male   Kolkatta   22      Audit\n",
       "e        Prajwal    male      Delhi   23      Audit\n",
       "f         Anusha  female  Managlore   21  Analytics\n",
       "g         Simant    male     Mumbai   36        DTA\n",
       "h          Rohit    male       None   35       None"
      ]
     },
     "execution_count": 69,
     "metadata": {},
     "output_type": "execute_result"
    }
   ],
   "source": [
    "df.set_index('tags', inplace=True)\n",
    "df"
   ]
  },
  {
   "cell_type": "code",
   "execution_count": 70,
   "id": "3453f61a",
   "metadata": {},
   "outputs": [
    {
     "data": {
      "text/plain": [
       "Name            Saurav\n",
       "Gender            male\n",
       "City:         Kolkatta\n",
       "Age                 22\n",
       "Department       Audit\n",
       "Name: d, dtype: object"
      ]
     },
     "execution_count": 70,
     "metadata": {},
     "output_type": "execute_result"
    }
   ],
   "source": [
    "df.loc['d']"
   ]
  },
  {
   "cell_type": "code",
   "execution_count": 71,
   "id": "1cd8ec94",
   "metadata": {},
   "outputs": [
    {
     "data": {
      "text/plain": [
       "Name          Prajwal\n",
       "Gender           male\n",
       "City:           Delhi\n",
       "Age                23\n",
       "Department      Audit\n",
       "Name: e, dtype: object"
      ]
     },
     "execution_count": 71,
     "metadata": {},
     "output_type": "execute_result"
    }
   ],
   "source": [
    "df.iloc[4]"
   ]
  },
  {
   "cell_type": "code",
   "execution_count": 73,
   "id": "39853552",
   "metadata": {},
   "outputs": [
    {
     "data": {
      "text/plain": [
       "Index(['f', 'g', 'h'], dtype='object', name='tags')"
      ]
     },
     "execution_count": 73,
     "metadata": {},
     "output_type": "execute_result"
    }
   ],
   "source": [
    "df.tail(3).index"
   ]
  },
  {
   "cell_type": "code",
   "execution_count": 74,
   "id": "83f77c9b",
   "metadata": {},
   "outputs": [
    {
     "data": {
      "text/html": [
       "<div>\n",
       "<style scoped>\n",
       "    .dataframe tbody tr th:only-of-type {\n",
       "        vertical-align: middle;\n",
       "    }\n",
       "\n",
       "    .dataframe tbody tr th {\n",
       "        vertical-align: top;\n",
       "    }\n",
       "\n",
       "    .dataframe thead th {\n",
       "        text-align: right;\n",
       "    }\n",
       "</style>\n",
       "<table border=\"1\" class=\"dataframe\">\n",
       "  <thead>\n",
       "    <tr style=\"text-align: right;\">\n",
       "      <th></th>\n",
       "      <th>Name</th>\n",
       "      <th>Gender</th>\n",
       "      <th>City:</th>\n",
       "      <th>Age</th>\n",
       "      <th>Department</th>\n",
       "    </tr>\n",
       "    <tr>\n",
       "      <th>tags</th>\n",
       "      <th></th>\n",
       "      <th></th>\n",
       "      <th></th>\n",
       "      <th></th>\n",
       "      <th></th>\n",
       "    </tr>\n",
       "  </thead>\n",
       "  <tbody>\n",
       "    <tr>\n",
       "      <th>a</th>\n",
       "      <td>Prateek</td>\n",
       "      <td>male</td>\n",
       "      <td>Delhi</td>\n",
       "      <td>37</td>\n",
       "      <td>DTA</td>\n",
       "    </tr>\n",
       "    <tr>\n",
       "      <th>b</th>\n",
       "      <td>Madhushree</td>\n",
       "      <td>female</td>\n",
       "      <td>Hubli</td>\n",
       "      <td>21</td>\n",
       "      <td>Audit</td>\n",
       "    </tr>\n",
       "    <tr>\n",
       "      <th>c</th>\n",
       "      <td>Srigouri</td>\n",
       "      <td>female</td>\n",
       "      <td>Bangalore</td>\n",
       "      <td>20</td>\n",
       "      <td>Tax</td>\n",
       "    </tr>\n",
       "    <tr>\n",
       "      <th>d</th>\n",
       "      <td>Saurav</td>\n",
       "      <td>male</td>\n",
       "      <td>Kolkatta</td>\n",
       "      <td>22</td>\n",
       "      <td>Audit</td>\n",
       "    </tr>\n",
       "    <tr>\n",
       "      <th>e</th>\n",
       "      <td>Prajwal</td>\n",
       "      <td>male</td>\n",
       "      <td>Delhi</td>\n",
       "      <td>23</td>\n",
       "      <td>Audit</td>\n",
       "    </tr>\n",
       "    <tr>\n",
       "      <th>f</th>\n",
       "      <td>Anusha</td>\n",
       "      <td>female</td>\n",
       "      <td>Managlore</td>\n",
       "      <td>21</td>\n",
       "      <td>Analytics</td>\n",
       "    </tr>\n",
       "  </tbody>\n",
       "</table>\n",
       "</div>"
      ],
      "text/plain": [
       "            Name  Gender      City:  Age Department\n",
       "tags                                               \n",
       "a        Prateek    male      Delhi   37        DTA\n",
       "b     Madhushree  female      Hubli   21      Audit\n",
       "c       Srigouri  female  Bangalore   20        Tax\n",
       "d         Saurav    male   Kolkatta   22      Audit\n",
       "e        Prajwal    male      Delhi   23      Audit\n",
       "f         Anusha  female  Managlore   21  Analytics"
      ]
     },
     "execution_count": 74,
     "metadata": {},
     "output_type": "execute_result"
    }
   ],
   "source": [
    "df.drop(df.tail(2).index, inplace=True)\n",
    "df"
   ]
  },
  {
   "cell_type": "code",
   "execution_count": 79,
   "id": "fe55a54e",
   "metadata": {},
   "outputs": [
    {
     "data": {
      "text/html": [
       "<div>\n",
       "<style scoped>\n",
       "    .dataframe tbody tr th:only-of-type {\n",
       "        vertical-align: middle;\n",
       "    }\n",
       "\n",
       "    .dataframe tbody tr th {\n",
       "        vertical-align: top;\n",
       "    }\n",
       "\n",
       "    .dataframe thead th {\n",
       "        text-align: right;\n",
       "    }\n",
       "</style>\n",
       "<table border=\"1\" class=\"dataframe\">\n",
       "  <thead>\n",
       "    <tr style=\"text-align: right;\">\n",
       "      <th></th>\n",
       "      <th>Name</th>\n",
       "      <th>Gender</th>\n",
       "      <th>City:</th>\n",
       "      <th>Age</th>\n",
       "      <th>Department</th>\n",
       "    </tr>\n",
       "    <tr>\n",
       "      <th>tags</th>\n",
       "      <th></th>\n",
       "      <th></th>\n",
       "      <th></th>\n",
       "      <th></th>\n",
       "      <th></th>\n",
       "    </tr>\n",
       "  </thead>\n",
       "  <tbody>\n",
       "    <tr>\n",
       "      <th>a</th>\n",
       "      <td>Prateek</td>\n",
       "      <td>male</td>\n",
       "      <td>Delhi</td>\n",
       "      <td>37</td>\n",
       "      <td>DTA</td>\n",
       "    </tr>\n",
       "    <tr>\n",
       "      <th>b</th>\n",
       "      <td>Madhushree</td>\n",
       "      <td>female</td>\n",
       "      <td>Hubli</td>\n",
       "      <td>21</td>\n",
       "      <td>Audit</td>\n",
       "    </tr>\n",
       "    <tr>\n",
       "      <th>c</th>\n",
       "      <td>Srigouri</td>\n",
       "      <td>female</td>\n",
       "      <td>Bangalore</td>\n",
       "      <td>20</td>\n",
       "      <td>Tax</td>\n",
       "    </tr>\n",
       "    <tr>\n",
       "      <th>d</th>\n",
       "      <td>Saurav</td>\n",
       "      <td>male</td>\n",
       "      <td>Kolkatta</td>\n",
       "      <td>22</td>\n",
       "      <td>Audit</td>\n",
       "    </tr>\n",
       "  </tbody>\n",
       "</table>\n",
       "</div>"
      ],
      "text/plain": [
       "            Name  Gender      City:  Age Department\n",
       "tags                                               \n",
       "a        Prateek    male      Delhi   37        DTA\n",
       "b     Madhushree  female      Hubli   21      Audit\n",
       "c       Srigouri  female  Bangalore   20        Tax\n",
       "d         Saurav    male   Kolkatta   22      Audit"
      ]
     },
     "execution_count": 79,
     "metadata": {},
     "output_type": "execute_result"
    }
   ],
   "source": [
    "df[:-2]"
   ]
  },
  {
   "cell_type": "code",
   "execution_count": 80,
   "id": "29647d64",
   "metadata": {},
   "outputs": [
    {
     "data": {
      "text/html": [
       "<div>\n",
       "<style scoped>\n",
       "    .dataframe tbody tr th:only-of-type {\n",
       "        vertical-align: middle;\n",
       "    }\n",
       "\n",
       "    .dataframe tbody tr th {\n",
       "        vertical-align: top;\n",
       "    }\n",
       "\n",
       "    .dataframe thead th {\n",
       "        text-align: right;\n",
       "    }\n",
       "</style>\n",
       "<table border=\"1\" class=\"dataframe\">\n",
       "  <thead>\n",
       "    <tr style=\"text-align: right;\">\n",
       "      <th></th>\n",
       "      <th>Name</th>\n",
       "      <th>Gender</th>\n",
       "      <th>City:</th>\n",
       "      <th>Age</th>\n",
       "      <th>Department</th>\n",
       "    </tr>\n",
       "    <tr>\n",
       "      <th>tags</th>\n",
       "      <th></th>\n",
       "      <th></th>\n",
       "      <th></th>\n",
       "      <th></th>\n",
       "      <th></th>\n",
       "    </tr>\n",
       "  </thead>\n",
       "  <tbody>\n",
       "    <tr>\n",
       "      <th>b</th>\n",
       "      <td>Madhushree</td>\n",
       "      <td>female</td>\n",
       "      <td>Hubli</td>\n",
       "      <td>21</td>\n",
       "      <td>Audit</td>\n",
       "    </tr>\n",
       "    <tr>\n",
       "      <th>c</th>\n",
       "      <td>Srigouri</td>\n",
       "      <td>female</td>\n",
       "      <td>Bangalore</td>\n",
       "      <td>20</td>\n",
       "      <td>Tax</td>\n",
       "    </tr>\n",
       "    <tr>\n",
       "      <th>d</th>\n",
       "      <td>Saurav</td>\n",
       "      <td>male</td>\n",
       "      <td>Kolkatta</td>\n",
       "      <td>22</td>\n",
       "      <td>Audit</td>\n",
       "    </tr>\n",
       "    <tr>\n",
       "      <th>e</th>\n",
       "      <td>Prajwal</td>\n",
       "      <td>male</td>\n",
       "      <td>Delhi</td>\n",
       "      <td>23</td>\n",
       "      <td>Audit</td>\n",
       "    </tr>\n",
       "    <tr>\n",
       "      <th>f</th>\n",
       "      <td>Anusha</td>\n",
       "      <td>female</td>\n",
       "      <td>Managlore</td>\n",
       "      <td>21</td>\n",
       "      <td>Analytics</td>\n",
       "    </tr>\n",
       "  </tbody>\n",
       "</table>\n",
       "</div>"
      ],
      "text/plain": [
       "            Name  Gender      City:  Age Department\n",
       "tags                                               \n",
       "b     Madhushree  female      Hubli   21      Audit\n",
       "c       Srigouri  female  Bangalore   20        Tax\n",
       "d         Saurav    male   Kolkatta   22      Audit\n",
       "e        Prajwal    male      Delhi   23      Audit\n",
       "f         Anusha  female  Managlore   21  Analytics"
      ]
     },
     "execution_count": 80,
     "metadata": {},
     "output_type": "execute_result"
    }
   ],
   "source": [
    "df.drop(['a'], inplace=True)\n",
    "df"
   ]
  },
  {
   "cell_type": "code",
   "execution_count": 81,
   "id": "f6bcb5eb",
   "metadata": {},
   "outputs": [
    {
     "data": {
      "text/plain": [
       "23"
      ]
     },
     "execution_count": 81,
     "metadata": {},
     "output_type": "execute_result"
    }
   ],
   "source": [
    "# statistics\n",
    "df['Age'].max()"
   ]
  },
  {
   "cell_type": "code",
   "execution_count": 82,
   "id": "fb058ec4",
   "metadata": {},
   "outputs": [
    {
     "data": {
      "text/plain": [
       "20"
      ]
     },
     "execution_count": 82,
     "metadata": {},
     "output_type": "execute_result"
    }
   ],
   "source": [
    "df['Age'].min()"
   ]
  },
  {
   "cell_type": "code",
   "execution_count": 83,
   "id": "df166be9",
   "metadata": {},
   "outputs": [
    {
     "data": {
      "text/plain": [
       "21.4"
      ]
     },
     "execution_count": 83,
     "metadata": {},
     "output_type": "execute_result"
    }
   ],
   "source": [
    "df['Age'].mean()"
   ]
  },
  {
   "cell_type": "code",
   "execution_count": 85,
   "id": "f13ffb4b",
   "metadata": {},
   "outputs": [
    {
     "data": {
      "text/plain": [
       "21.0"
      ]
     },
     "execution_count": 85,
     "metadata": {},
     "output_type": "execute_result"
    }
   ],
   "source": [
    "df['Age'].median()"
   ]
  },
  {
   "cell_type": "code",
   "execution_count": 86,
   "id": "def04723",
   "metadata": {},
   "outputs": [
    {
     "data": {
      "text/plain": [
       "0    21\n",
       "Name: Age, dtype: int64"
      ]
     },
     "execution_count": 86,
     "metadata": {},
     "output_type": "execute_result"
    }
   ],
   "source": [
    "df['Age'].mode()"
   ]
  },
  {
   "cell_type": "code",
   "execution_count": 87,
   "id": "18db6970",
   "metadata": {},
   "outputs": [
    {
     "data": {
      "text/plain": [
       "5"
      ]
     },
     "execution_count": 87,
     "metadata": {},
     "output_type": "execute_result"
    }
   ],
   "source": [
    "df['Age'].count()"
   ]
  },
  {
   "cell_type": "code",
   "execution_count": 89,
   "id": "bd4f3285",
   "metadata": {},
   "outputs": [
    {
     "data": {
      "text/plain": [
       "1.140175425099138"
      ]
     },
     "execution_count": 89,
     "metadata": {},
     "output_type": "execute_result"
    }
   ],
   "source": [
    "df['Age'].std()"
   ]
  },
  {
   "cell_type": "code",
   "execution_count": 90,
   "id": "b55fad0e",
   "metadata": {},
   "outputs": [
    {
     "data": {
      "text/plain": [
       "1.3"
      ]
     },
     "execution_count": 90,
     "metadata": {},
     "output_type": "execute_result"
    }
   ],
   "source": [
    "df['Age'].var()"
   ]
  },
  {
   "cell_type": "code",
   "execution_count": 92,
   "id": "e865a178",
   "metadata": {},
   "outputs": [
    {
     "data": {
      "text/plain": [
       "min     20.000000\n",
       "max     23.000000\n",
       "mean    21.400000\n",
       "std      1.140175\n",
       "var      1.300000\n",
       "Name: Age, dtype: float64"
      ]
     },
     "execution_count": 92,
     "metadata": {},
     "output_type": "execute_result"
    }
   ],
   "source": [
    "# agg()\n",
    "\n",
    "func=['min','max','mean', 'std', 'var']\n",
    "\n",
    "df['Age'].agg(func)"
   ]
  },
  {
   "cell_type": "code",
   "execution_count": 93,
   "id": "67e8d8f8",
   "metadata": {},
   "outputs": [
    {
     "data": {
      "text/plain": [
       "tags\n",
       "b    26\n",
       "c    25\n",
       "d    27\n",
       "e    28\n",
       "f    26\n",
       "Name: Age, dtype: int64"
      ]
     },
     "execution_count": 93,
     "metadata": {},
     "output_type": "execute_result"
    }
   ],
   "source": [
    "res=df['Age'].agg(lambda x: x+5)\n",
    "res"
   ]
  },
  {
   "cell_type": "code",
   "execution_count": 94,
   "id": "436aebf5",
   "metadata": {},
   "outputs": [
    {
     "data": {
      "text/plain": [
       "Index         462\n",
       "Name          322\n",
       "Gender        311\n",
       "City:         321\n",
       "Age            40\n",
       "Department    312\n",
       "dtype: int64"
      ]
     },
     "execution_count": 94,
     "metadata": {},
     "output_type": "execute_result"
    }
   ],
   "source": [
    "df.memory_usage(deep=True)"
   ]
  },
  {
   "cell_type": "code",
   "execution_count": 96,
   "id": "787cbc2a",
   "metadata": {},
   "outputs": [
    {
     "data": {
      "text/plain": [
       "tags\n",
       "b    21.0\n",
       "c    20.0\n",
       "d    22.0\n",
       "e    23.0\n",
       "f    21.0\n",
       "Name: Age, dtype: float64"
      ]
     },
     "execution_count": 96,
     "metadata": {},
     "output_type": "execute_result"
    }
   ],
   "source": [
    "df['Age'].astype('float64')"
   ]
  },
  {
   "cell_type": "code",
   "execution_count": 98,
   "id": "ce282205",
   "metadata": {},
   "outputs": [
    {
     "data": {
      "text/plain": [
       "Department\n",
       "Analytics    21.0\n",
       "Audit        22.0\n",
       "Tax          20.0\n",
       "Name: Age, dtype: float64"
      ]
     },
     "execution_count": 98,
     "metadata": {},
     "output_type": "execute_result"
    }
   ],
   "source": [
    "df.groupby(by='Department').Age.mean()"
   ]
  },
  {
   "cell_type": "code",
   "execution_count": 99,
   "id": "5577b284",
   "metadata": {},
   "outputs": [
    {
     "data": {
      "text/html": [
       "<div>\n",
       "<style scoped>\n",
       "    .dataframe tbody tr th:only-of-type {\n",
       "        vertical-align: middle;\n",
       "    }\n",
       "\n",
       "    .dataframe tbody tr th {\n",
       "        vertical-align: top;\n",
       "    }\n",
       "\n",
       "    .dataframe thead th {\n",
       "        text-align: right;\n",
       "    }\n",
       "</style>\n",
       "<table border=\"1\" class=\"dataframe\">\n",
       "  <thead>\n",
       "    <tr style=\"text-align: right;\">\n",
       "      <th></th>\n",
       "      <th>Name</th>\n",
       "      <th>Gender</th>\n",
       "      <th>City:</th>\n",
       "      <th>Age</th>\n",
       "      <th>Department</th>\n",
       "    </tr>\n",
       "    <tr>\n",
       "      <th>tags</th>\n",
       "      <th></th>\n",
       "      <th></th>\n",
       "      <th></th>\n",
       "      <th></th>\n",
       "      <th></th>\n",
       "    </tr>\n",
       "  </thead>\n",
       "  <tbody>\n",
       "    <tr>\n",
       "      <th>f</th>\n",
       "      <td>Anusha</td>\n",
       "      <td>female</td>\n",
       "      <td>Managlore</td>\n",
       "      <td>21</td>\n",
       "      <td>Analytics</td>\n",
       "    </tr>\n",
       "    <tr>\n",
       "      <th>b</th>\n",
       "      <td>Madhushree</td>\n",
       "      <td>female</td>\n",
       "      <td>Hubli</td>\n",
       "      <td>21</td>\n",
       "      <td>Audit</td>\n",
       "    </tr>\n",
       "    <tr>\n",
       "      <th>e</th>\n",
       "      <td>Prajwal</td>\n",
       "      <td>male</td>\n",
       "      <td>Delhi</td>\n",
       "      <td>23</td>\n",
       "      <td>Audit</td>\n",
       "    </tr>\n",
       "    <tr>\n",
       "      <th>d</th>\n",
       "      <td>Saurav</td>\n",
       "      <td>male</td>\n",
       "      <td>Kolkatta</td>\n",
       "      <td>22</td>\n",
       "      <td>Audit</td>\n",
       "    </tr>\n",
       "    <tr>\n",
       "      <th>c</th>\n",
       "      <td>Srigouri</td>\n",
       "      <td>female</td>\n",
       "      <td>Bangalore</td>\n",
       "      <td>20</td>\n",
       "      <td>Tax</td>\n",
       "    </tr>\n",
       "  </tbody>\n",
       "</table>\n",
       "</div>"
      ],
      "text/plain": [
       "            Name  Gender      City:  Age Department\n",
       "tags                                               \n",
       "f         Anusha  female  Managlore   21  Analytics\n",
       "b     Madhushree  female      Hubli   21      Audit\n",
       "e        Prajwal    male      Delhi   23      Audit\n",
       "d         Saurav    male   Kolkatta   22      Audit\n",
       "c       Srigouri  female  Bangalore   20        Tax"
      ]
     },
     "execution_count": 99,
     "metadata": {},
     "output_type": "execute_result"
    }
   ],
   "source": [
    "df.sort_values(by='Name')"
   ]
  },
  {
   "cell_type": "code",
   "execution_count": null,
   "id": "02ee93a3",
   "metadata": {},
   "outputs": [],
   "source": [
    "df['City:'].fillna('Banaglore', inplace=True)"
   ]
  },
  {
   "cell_type": "code",
   "execution_count": null,
   "id": "35c44267",
   "metadata": {},
   "outputs": [],
   "source": [
    "df['Age'].fillna(df['Age'].mean(), inplace=True)"
   ]
  },
  {
   "cell_type": "code",
   "execution_count": 102,
   "id": "47293e5d",
   "metadata": {},
   "outputs": [
    {
     "data": {
      "text/html": [
       "<div>\n",
       "<style scoped>\n",
       "    .dataframe tbody tr th:only-of-type {\n",
       "        vertical-align: middle;\n",
       "    }\n",
       "\n",
       "    .dataframe tbody tr th {\n",
       "        vertical-align: top;\n",
       "    }\n",
       "\n",
       "    .dataframe thead th {\n",
       "        text-align: right;\n",
       "    }\n",
       "</style>\n",
       "<table border=\"1\" class=\"dataframe\">\n",
       "  <thead>\n",
       "    <tr style=\"text-align: right;\">\n",
       "      <th></th>\n",
       "      <th>Name</th>\n",
       "      <th>Gender</th>\n",
       "      <th>City:</th>\n",
       "      <th>Age</th>\n",
       "      <th>Department</th>\n",
       "    </tr>\n",
       "    <tr>\n",
       "      <th>tags</th>\n",
       "      <th></th>\n",
       "      <th></th>\n",
       "      <th></th>\n",
       "      <th></th>\n",
       "      <th></th>\n",
       "    </tr>\n",
       "  </thead>\n",
       "  <tbody>\n",
       "    <tr>\n",
       "      <th>c</th>\n",
       "      <td>Srigouri</td>\n",
       "      <td>female</td>\n",
       "      <td>Bangalore</td>\n",
       "      <td>20</td>\n",
       "      <td>Tax</td>\n",
       "    </tr>\n",
       "  </tbody>\n",
       "</table>\n",
       "</div>"
      ],
      "text/plain": [
       "          Name  Gender      City:  Age Department\n",
       "tags                                             \n",
       "c     Srigouri  female  Bangalore   20        Tax"
      ]
     },
     "execution_count": 102,
     "metadata": {},
     "output_type": "execute_result"
    }
   ],
   "source": [
    "# dual filtering\n",
    "df[(df.Age<21) & (df.Gender=='female')]"
   ]
  },
  {
   "cell_type": "code",
   "execution_count": 106,
   "id": "c95b4877",
   "metadata": {},
   "outputs": [
    {
     "data": {
      "text/html": [
       "<div>\n",
       "<style scoped>\n",
       "    .dataframe tbody tr th:only-of-type {\n",
       "        vertical-align: middle;\n",
       "    }\n",
       "\n",
       "    .dataframe tbody tr th {\n",
       "        vertical-align: top;\n",
       "    }\n",
       "\n",
       "    .dataframe thead th {\n",
       "        text-align: right;\n",
       "    }\n",
       "</style>\n",
       "<table border=\"1\" class=\"dataframe\">\n",
       "  <thead>\n",
       "    <tr style=\"text-align: right;\">\n",
       "      <th></th>\n",
       "      <th>Item</th>\n",
       "      <th>Qty</th>\n",
       "    </tr>\n",
       "  </thead>\n",
       "  <tbody>\n",
       "    <tr>\n",
       "      <th>0</th>\n",
       "      <td>tea</td>\n",
       "      <td>100</td>\n",
       "    </tr>\n",
       "    <tr>\n",
       "      <th>1</th>\n",
       "      <td>coffee</td>\n",
       "      <td>200</td>\n",
       "    </tr>\n",
       "    <tr>\n",
       "      <th>2</th>\n",
       "      <td>tea</td>\n",
       "      <td>220</td>\n",
       "    </tr>\n",
       "    <tr>\n",
       "      <th>3</th>\n",
       "      <td>coffee</td>\n",
       "      <td>210</td>\n",
       "    </tr>\n",
       "    <tr>\n",
       "      <th>4</th>\n",
       "      <td>coffee</td>\n",
       "      <td>180</td>\n",
       "    </tr>\n",
       "    <tr>\n",
       "      <th>5</th>\n",
       "      <td>tea</td>\n",
       "      <td>190</td>\n",
       "    </tr>\n",
       "    <tr>\n",
       "      <th>6</th>\n",
       "      <td>tea</td>\n",
       "      <td>110</td>\n",
       "    </tr>\n",
       "    <tr>\n",
       "      <th>7</th>\n",
       "      <td>tea</td>\n",
       "      <td>130</td>\n",
       "    </tr>\n",
       "    <tr>\n",
       "      <th>8</th>\n",
       "      <td>coffee</td>\n",
       "      <td>240</td>\n",
       "    </tr>\n",
       "    <tr>\n",
       "      <th>9</th>\n",
       "      <td>juice</td>\n",
       "      <td>320</td>\n",
       "    </tr>\n",
       "    <tr>\n",
       "      <th>10</th>\n",
       "      <td>juice</td>\n",
       "      <td>140</td>\n",
       "    </tr>\n",
       "  </tbody>\n",
       "</table>\n",
       "</div>"
      ],
      "text/plain": [
       "      Item  Qty\n",
       "0      tea  100\n",
       "1   coffee  200\n",
       "2      tea  220\n",
       "3   coffee  210\n",
       "4   coffee  180\n",
       "5      tea  190\n",
       "6      tea  110\n",
       "7      tea  130\n",
       "8   coffee  240\n",
       "9    juice  320\n",
       "10   juice  140"
      ]
     },
     "execution_count": 106,
     "metadata": {},
     "output_type": "execute_result"
    }
   ],
   "source": [
    "# pivot tables\n",
    "\n",
    "d={'Item':['tea','coffee','tea','coffee','coffee','tea','tea','tea','coffee', 'juice','juice'],\n",
    "  'Qty':[100,200,220,210,180,190,110,130,240, 320, 140]}\n",
    "temp=pd.DataFrame(d)\n",
    "temp"
   ]
  },
  {
   "cell_type": "code",
   "execution_count": 107,
   "id": "23b127a4",
   "metadata": {},
   "outputs": [
    {
     "data": {
      "text/html": [
       "<div>\n",
       "<style scoped>\n",
       "    .dataframe tbody tr th:only-of-type {\n",
       "        vertical-align: middle;\n",
       "    }\n",
       "\n",
       "    .dataframe tbody tr th {\n",
       "        vertical-align: top;\n",
       "    }\n",
       "\n",
       "    .dataframe thead tr th {\n",
       "        text-align: left;\n",
       "    }\n",
       "\n",
       "    .dataframe thead tr:last-of-type th {\n",
       "        text-align: right;\n",
       "    }\n",
       "</style>\n",
       "<table border=\"1\" class=\"dataframe\">\n",
       "  <thead>\n",
       "    <tr>\n",
       "      <th></th>\n",
       "      <th>max</th>\n",
       "      <th>min</th>\n",
       "      <th>mean</th>\n",
       "    </tr>\n",
       "    <tr>\n",
       "      <th></th>\n",
       "      <th>Qty</th>\n",
       "      <th>Qty</th>\n",
       "      <th>Qty</th>\n",
       "    </tr>\n",
       "    <tr>\n",
       "      <th>Item</th>\n",
       "      <th></th>\n",
       "      <th></th>\n",
       "      <th></th>\n",
       "    </tr>\n",
       "  </thead>\n",
       "  <tbody>\n",
       "    <tr>\n",
       "      <th>coffee</th>\n",
       "      <td>240</td>\n",
       "      <td>180</td>\n",
       "      <td>207.5</td>\n",
       "    </tr>\n",
       "    <tr>\n",
       "      <th>juice</th>\n",
       "      <td>320</td>\n",
       "      <td>140</td>\n",
       "      <td>230.0</td>\n",
       "    </tr>\n",
       "    <tr>\n",
       "      <th>tea</th>\n",
       "      <td>220</td>\n",
       "      <td>100</td>\n",
       "      <td>150.0</td>\n",
       "    </tr>\n",
       "  </tbody>\n",
       "</table>\n",
       "</div>"
      ],
      "text/plain": [
       "        max  min   mean\n",
       "        Qty  Qty    Qty\n",
       "Item                   \n",
       "coffee  240  180  207.5\n",
       "juice   320  140  230.0\n",
       "tea     220  100  150.0"
      ]
     },
     "execution_count": 107,
     "metadata": {},
     "output_type": "execute_result"
    }
   ],
   "source": [
    "pt=temp.pivot_table(index=['Item'],\n",
    "                   values=['Qty'],\n",
    "                   aggfunc=['max','min','mean'])\n",
    "pt"
   ]
  },
  {
   "cell_type": "markdown",
   "id": "e7202d8c",
   "metadata": {},
   "source": [
    "#### Visualizations"
   ]
  },
  {
   "cell_type": "code",
   "execution_count": 108,
   "id": "f77e64c5",
   "metadata": {},
   "outputs": [
    {
     "data": {
      "text/html": [
       "<div>\n",
       "<style scoped>\n",
       "    .dataframe tbody tr th:only-of-type {\n",
       "        vertical-align: middle;\n",
       "    }\n",
       "\n",
       "    .dataframe tbody tr th {\n",
       "        vertical-align: top;\n",
       "    }\n",
       "\n",
       "    .dataframe thead th {\n",
       "        text-align: right;\n",
       "    }\n",
       "</style>\n",
       "<table border=\"1\" class=\"dataframe\">\n",
       "  <thead>\n",
       "    <tr style=\"text-align: right;\">\n",
       "      <th></th>\n",
       "      <th>Item</th>\n",
       "      <th>Qty</th>\n",
       "    </tr>\n",
       "  </thead>\n",
       "  <tbody>\n",
       "    <tr>\n",
       "      <th>0</th>\n",
       "      <td>tea</td>\n",
       "      <td>100</td>\n",
       "    </tr>\n",
       "    <tr>\n",
       "      <th>1</th>\n",
       "      <td>coffee</td>\n",
       "      <td>200</td>\n",
       "    </tr>\n",
       "    <tr>\n",
       "      <th>2</th>\n",
       "      <td>tea</td>\n",
       "      <td>220</td>\n",
       "    </tr>\n",
       "    <tr>\n",
       "      <th>3</th>\n",
       "      <td>coffee</td>\n",
       "      <td>210</td>\n",
       "    </tr>\n",
       "    <tr>\n",
       "      <th>4</th>\n",
       "      <td>coffee</td>\n",
       "      <td>180</td>\n",
       "    </tr>\n",
       "    <tr>\n",
       "      <th>5</th>\n",
       "      <td>tea</td>\n",
       "      <td>190</td>\n",
       "    </tr>\n",
       "    <tr>\n",
       "      <th>6</th>\n",
       "      <td>tea</td>\n",
       "      <td>110</td>\n",
       "    </tr>\n",
       "    <tr>\n",
       "      <th>7</th>\n",
       "      <td>tea</td>\n",
       "      <td>130</td>\n",
       "    </tr>\n",
       "    <tr>\n",
       "      <th>8</th>\n",
       "      <td>coffee</td>\n",
       "      <td>240</td>\n",
       "    </tr>\n",
       "    <tr>\n",
       "      <th>9</th>\n",
       "      <td>juice</td>\n",
       "      <td>320</td>\n",
       "    </tr>\n",
       "    <tr>\n",
       "      <th>10</th>\n",
       "      <td>juice</td>\n",
       "      <td>140</td>\n",
       "    </tr>\n",
       "  </tbody>\n",
       "</table>\n",
       "</div>"
      ],
      "text/plain": [
       "      Item  Qty\n",
       "0      tea  100\n",
       "1   coffee  200\n",
       "2      tea  220\n",
       "3   coffee  210\n",
       "4   coffee  180\n",
       "5      tea  190\n",
       "6      tea  110\n",
       "7      tea  130\n",
       "8   coffee  240\n",
       "9    juice  320\n",
       "10   juice  140"
      ]
     },
     "execution_count": 108,
     "metadata": {},
     "output_type": "execute_result"
    }
   ],
   "source": [
    "temp"
   ]
  },
  {
   "cell_type": "code",
   "execution_count": 109,
   "id": "a52e8642",
   "metadata": {},
   "outputs": [
    {
     "data": {
      "text/plain": [
       "<AxesSubplot:>"
      ]
     },
     "execution_count": 109,
     "metadata": {},
     "output_type": "execute_result"
    },
    {
     "data": {
      "image/png": "[encoded data removed]",
      "text/plain": [
       "<Figure size 432x288 with 1 Axes>"
      ]
     },
     "metadata": {
      "needs_background": "light"
     },
     "output_type": "display_data"
    }
   ],
   "source": [
    "temp.plot()"
   ]
  },
  {
   "cell_type": "code",
   "execution_count": 112,
   "id": "edf9840d",
   "metadata": {},
   "outputs": [
    {
     "data": {
      "text/plain": [
       "<AxesSubplot:>"
      ]
     },
     "execution_count": 112,
     "metadata": {},
     "output_type": "execute_result"
    },
    {
     "data": {
      "image/png": "[encoded data removed]",
      "text/plain": [
       "<Figure size 432x288 with 1 Axes>"
      ]
     },
     "metadata": {
      "needs_background": "light"
     },
     "output_type": "display_data"
    }
   ],
   "source": [
    "temp.plot(kind='bar', color='m')"
   ]
  },
  {
   "cell_type": "code",
   "execution_count": 115,
   "id": "b51e3b95",
   "metadata": {},
   "outputs": [
    {
     "data": {
      "text/plain": [
       "<AxesSubplot:xlabel='Item'>"
      ]
     },
     "execution_count": 115,
     "metadata": {},
     "output_type": "execute_result"
    },
    {
     "data": {
      "image/png": "[encoded data removed]",
      "text/plain": [
       "<Figure size 432x288 with 1 Axes>"
      ]
     },
     "metadata": {
      "needs_background": "light"
     },
     "output_type": "display_data"
    }
   ],
   "source": [
    "pt.plot(kind='bar', color=('b','g','r'))"
   ]
  },
  {
   "cell_type": "code",
   "execution_count": 116,
   "id": "418176c6",
   "metadata": {},
   "outputs": [
    {
     "data": {
      "text/plain": [
       "<AxesSubplot:ylabel='Item'>"
      ]
     },
     "execution_count": 116,
     "metadata": {},
     "output_type": "execute_result"
    },
    {
     "data": {
      "image/png": "[encoded data removed]",
      "text/plain": [
       "<Figure size 432x288 with 1 Axes>"
      ]
     },
     "metadata": {
      "needs_background": "light"
     },
     "output_type": "display_data"
    }
   ],
   "source": [
    "pt.plot(kind='barh', color=('b','g','r'))"
   ]
  },
  {
   "cell_type": "code",
   "execution_count": 120,
   "id": "d6fa7826",
   "metadata": {},
   "outputs": [
    {
     "data": {
      "text/plain": [
       "<AxesSubplot:ylabel='tea'>"
      ]
     },
     "execution_count": 120,
     "metadata": {},
     "output_type": "execute_result"
    },
    {
     "data": {
      "image/png": "[encoded data removed]",
      "text/plain": [
       "<Figure size 432x288 with 1 Axes>"
      ]
     },
     "metadata": {},
     "output_type": "display_data"
    }
   ],
   "source": [
    "pt.loc['tea'].plot(kind='pie')"
   ]
  },
  {
   "cell_type": "code",
   "execution_count": 124,
   "id": "ed2c5c64",
   "metadata": {},
   "outputs": [],
   "source": [
    "import numpy as np\n",
    "np.random.seed(42)\n",
    "a=np.random.rand(50,4)"
   ]
  },
  {
   "cell_type": "code",
   "execution_count": 125,
   "id": "ea604441",
   "metadata": {
    "collapsed": true
   },
   "outputs": [
    {
     "data": {
      "text/html": [
       "<div>\n",
       "<style scoped>\n",
       "    .dataframe tbody tr th:only-of-type {\n",
       "        vertical-align: middle;\n",
       "    }\n",
       "\n",
       "    .dataframe tbody tr th {\n",
       "        vertical-align: top;\n",
       "    }\n",
       "\n",
       "    .dataframe thead th {\n",
       "        text-align: right;\n",
       "    }\n",
       "</style>\n",
       "<table border=\"1\" class=\"dataframe\">\n",
       "  <thead>\n",
       "    <tr style=\"text-align: right;\">\n",
       "      <th></th>\n",
       "      <th>c1</th>\n",
       "      <th>c2</th>\n",
       "      <th>c3</th>\n",
       "      <th>c4</th>\n",
       "    </tr>\n",
       "  </thead>\n",
       "  <tbody>\n",
       "    <tr>\n",
       "      <th>0</th>\n",
       "      <td>0.374540</td>\n",
       "      <td>0.950714</td>\n",
       "      <td>0.731994</td>\n",
       "      <td>0.598658</td>\n",
       "    </tr>\n",
       "    <tr>\n",
       "      <th>1</th>\n",
       "      <td>0.156019</td>\n",
       "      <td>0.155995</td>\n",
       "      <td>0.058084</td>\n",
       "      <td>0.866176</td>\n",
       "    </tr>\n",
       "    <tr>\n",
       "      <th>2</th>\n",
       "      <td>0.601115</td>\n",
       "      <td>0.708073</td>\n",
       "      <td>0.020584</td>\n",
       "      <td>0.969910</td>\n",
       "    </tr>\n",
       "    <tr>\n",
       "      <th>3</th>\n",
       "      <td>0.832443</td>\n",
       "      <td>0.212339</td>\n",
       "      <td>0.181825</td>\n",
       "      <td>0.183405</td>\n",
       "    </tr>\n",
       "    <tr>\n",
       "      <th>4</th>\n",
       "      <td>0.304242</td>\n",
       "      <td>0.524756</td>\n",
       "      <td>0.431945</td>\n",
       "      <td>0.291229</td>\n",
       "    </tr>\n",
       "    <tr>\n",
       "      <th>5</th>\n",
       "      <td>0.611853</td>\n",
       "      <td>0.139494</td>\n",
       "      <td>0.292145</td>\n",
       "      <td>0.366362</td>\n",
       "    </tr>\n",
       "    <tr>\n",
       "      <th>6</th>\n",
       "      <td>0.456070</td>\n",
       "      <td>0.785176</td>\n",
       "      <td>0.199674</td>\n",
       "      <td>0.514234</td>\n",
       "    </tr>\n",
       "    <tr>\n",
       "      <th>7</th>\n",
       "      <td>0.592415</td>\n",
       "      <td>0.046450</td>\n",
       "      <td>0.607545</td>\n",
       "      <td>0.170524</td>\n",
       "    </tr>\n",
       "    <tr>\n",
       "      <th>8</th>\n",
       "      <td>0.065052</td>\n",
       "      <td>0.948886</td>\n",
       "      <td>0.965632</td>\n",
       "      <td>0.808397</td>\n",
       "    </tr>\n",
       "    <tr>\n",
       "      <th>9</th>\n",
       "      <td>0.304614</td>\n",
       "      <td>0.097672</td>\n",
       "      <td>0.684233</td>\n",
       "      <td>0.440152</td>\n",
       "    </tr>\n",
       "    <tr>\n",
       "      <th>10</th>\n",
       "      <td>0.122038</td>\n",
       "      <td>0.495177</td>\n",
       "      <td>0.034389</td>\n",
       "      <td>0.909320</td>\n",
       "    </tr>\n",
       "    <tr>\n",
       "      <th>11</th>\n",
       "      <td>0.258780</td>\n",
       "      <td>0.662522</td>\n",
       "      <td>0.311711</td>\n",
       "      <td>0.520068</td>\n",
       "    </tr>\n",
       "    <tr>\n",
       "      <th>12</th>\n",
       "      <td>0.546710</td>\n",
       "      <td>0.184854</td>\n",
       "      <td>0.969585</td>\n",
       "      <td>0.775133</td>\n",
       "    </tr>\n",
       "    <tr>\n",
       "      <th>13</th>\n",
       "      <td>0.939499</td>\n",
       "      <td>0.894827</td>\n",
       "      <td>0.597900</td>\n",
       "      <td>0.921874</td>\n",
       "    </tr>\n",
       "    <tr>\n",
       "      <th>14</th>\n",
       "      <td>0.088493</td>\n",
       "      <td>0.195983</td>\n",
       "      <td>0.045227</td>\n",
       "      <td>0.325330</td>\n",
       "    </tr>\n",
       "    <tr>\n",
       "      <th>15</th>\n",
       "      <td>0.388677</td>\n",
       "      <td>0.271349</td>\n",
       "      <td>0.828738</td>\n",
       "      <td>0.356753</td>\n",
       "    </tr>\n",
       "    <tr>\n",
       "      <th>16</th>\n",
       "      <td>0.280935</td>\n",
       "      <td>0.542696</td>\n",
       "      <td>0.140924</td>\n",
       "      <td>0.802197</td>\n",
       "    </tr>\n",
       "    <tr>\n",
       "      <th>17</th>\n",
       "      <td>0.074551</td>\n",
       "      <td>0.986887</td>\n",
       "      <td>0.772245</td>\n",
       "      <td>0.198716</td>\n",
       "    </tr>\n",
       "    <tr>\n",
       "      <th>18</th>\n",
       "      <td>0.005522</td>\n",
       "      <td>0.815461</td>\n",
       "      <td>0.706857</td>\n",
       "      <td>0.729007</td>\n",
       "    </tr>\n",
       "    <tr>\n",
       "      <th>19</th>\n",
       "      <td>0.771270</td>\n",
       "      <td>0.074045</td>\n",
       "      <td>0.358466</td>\n",
       "      <td>0.115869</td>\n",
       "    </tr>\n",
       "    <tr>\n",
       "      <th>20</th>\n",
       "      <td>0.863103</td>\n",
       "      <td>0.623298</td>\n",
       "      <td>0.330898</td>\n",
       "      <td>0.063558</td>\n",
       "    </tr>\n",
       "    <tr>\n",
       "      <th>21</th>\n",
       "      <td>0.310982</td>\n",
       "      <td>0.325183</td>\n",
       "      <td>0.729606</td>\n",
       "      <td>0.637557</td>\n",
       "    </tr>\n",
       "    <tr>\n",
       "      <th>22</th>\n",
       "      <td>0.887213</td>\n",
       "      <td>0.472215</td>\n",
       "      <td>0.119594</td>\n",
       "      <td>0.713245</td>\n",
       "    </tr>\n",
       "    <tr>\n",
       "      <th>23</th>\n",
       "      <td>0.760785</td>\n",
       "      <td>0.561277</td>\n",
       "      <td>0.770967</td>\n",
       "      <td>0.493796</td>\n",
       "    </tr>\n",
       "    <tr>\n",
       "      <th>24</th>\n",
       "      <td>0.522733</td>\n",
       "      <td>0.427541</td>\n",
       "      <td>0.025419</td>\n",
       "      <td>0.107891</td>\n",
       "    </tr>\n",
       "    <tr>\n",
       "      <th>25</th>\n",
       "      <td>0.031429</td>\n",
       "      <td>0.636410</td>\n",
       "      <td>0.314356</td>\n",
       "      <td>0.508571</td>\n",
       "    </tr>\n",
       "    <tr>\n",
       "      <th>26</th>\n",
       "      <td>0.907566</td>\n",
       "      <td>0.249292</td>\n",
       "      <td>0.410383</td>\n",
       "      <td>0.755551</td>\n",
       "    </tr>\n",
       "    <tr>\n",
       "      <th>27</th>\n",
       "      <td>0.228798</td>\n",
       "      <td>0.076980</td>\n",
       "      <td>0.289751</td>\n",
       "      <td>0.161221</td>\n",
       "    </tr>\n",
       "    <tr>\n",
       "      <th>28</th>\n",
       "      <td>0.929698</td>\n",
       "      <td>0.808120</td>\n",
       "      <td>0.633404</td>\n",
       "      <td>0.871461</td>\n",
       "    </tr>\n",
       "    <tr>\n",
       "      <th>29</th>\n",
       "      <td>0.803672</td>\n",
       "      <td>0.186570</td>\n",
       "      <td>0.892559</td>\n",
       "      <td>0.539342</td>\n",
       "    </tr>\n",
       "    <tr>\n",
       "      <th>30</th>\n",
       "      <td>0.807440</td>\n",
       "      <td>0.896091</td>\n",
       "      <td>0.318003</td>\n",
       "      <td>0.110052</td>\n",
       "    </tr>\n",
       "    <tr>\n",
       "      <th>31</th>\n",
       "      <td>0.227935</td>\n",
       "      <td>0.427108</td>\n",
       "      <td>0.818015</td>\n",
       "      <td>0.860731</td>\n",
       "    </tr>\n",
       "    <tr>\n",
       "      <th>32</th>\n",
       "      <td>0.006952</td>\n",
       "      <td>0.510747</td>\n",
       "      <td>0.417411</td>\n",
       "      <td>0.222108</td>\n",
       "    </tr>\n",
       "    <tr>\n",
       "      <th>33</th>\n",
       "      <td>0.119865</td>\n",
       "      <td>0.337615</td>\n",
       "      <td>0.942910</td>\n",
       "      <td>0.323203</td>\n",
       "    </tr>\n",
       "    <tr>\n",
       "      <th>34</th>\n",
       "      <td>0.518791</td>\n",
       "      <td>0.703019</td>\n",
       "      <td>0.363630</td>\n",
       "      <td>0.971782</td>\n",
       "    </tr>\n",
       "    <tr>\n",
       "      <th>35</th>\n",
       "      <td>0.962447</td>\n",
       "      <td>0.251782</td>\n",
       "      <td>0.497249</td>\n",
       "      <td>0.300878</td>\n",
       "    </tr>\n",
       "    <tr>\n",
       "      <th>36</th>\n",
       "      <td>0.284840</td>\n",
       "      <td>0.036887</td>\n",
       "      <td>0.609564</td>\n",
       "      <td>0.502679</td>\n",
       "    </tr>\n",
       "    <tr>\n",
       "      <th>37</th>\n",
       "      <td>0.051479</td>\n",
       "      <td>0.278646</td>\n",
       "      <td>0.908266</td>\n",
       "      <td>0.239562</td>\n",
       "    </tr>\n",
       "    <tr>\n",
       "      <th>38</th>\n",
       "      <td>0.144895</td>\n",
       "      <td>0.489453</td>\n",
       "      <td>0.985650</td>\n",
       "      <td>0.242055</td>\n",
       "    </tr>\n",
       "    <tr>\n",
       "      <th>39</th>\n",
       "      <td>0.672136</td>\n",
       "      <td>0.761620</td>\n",
       "      <td>0.237638</td>\n",
       "      <td>0.728216</td>\n",
       "    </tr>\n",
       "    <tr>\n",
       "      <th>40</th>\n",
       "      <td>0.367783</td>\n",
       "      <td>0.632306</td>\n",
       "      <td>0.633530</td>\n",
       "      <td>0.535775</td>\n",
       "    </tr>\n",
       "    <tr>\n",
       "      <th>41</th>\n",
       "      <td>0.090290</td>\n",
       "      <td>0.835302</td>\n",
       "      <td>0.320780</td>\n",
       "      <td>0.186519</td>\n",
       "    </tr>\n",
       "    <tr>\n",
       "      <th>42</th>\n",
       "      <td>0.040775</td>\n",
       "      <td>0.590893</td>\n",
       "      <td>0.677564</td>\n",
       "      <td>0.016588</td>\n",
       "    </tr>\n",
       "    <tr>\n",
       "      <th>43</th>\n",
       "      <td>0.512093</td>\n",
       "      <td>0.226496</td>\n",
       "      <td>0.645173</td>\n",
       "      <td>0.174366</td>\n",
       "    </tr>\n",
       "    <tr>\n",
       "      <th>44</th>\n",
       "      <td>0.690938</td>\n",
       "      <td>0.386735</td>\n",
       "      <td>0.936730</td>\n",
       "      <td>0.137521</td>\n",
       "    </tr>\n",
       "    <tr>\n",
       "      <th>45</th>\n",
       "      <td>0.341066</td>\n",
       "      <td>0.113474</td>\n",
       "      <td>0.924694</td>\n",
       "      <td>0.877339</td>\n",
       "    </tr>\n",
       "    <tr>\n",
       "      <th>46</th>\n",
       "      <td>0.257942</td>\n",
       "      <td>0.659984</td>\n",
       "      <td>0.817222</td>\n",
       "      <td>0.555201</td>\n",
       "    </tr>\n",
       "    <tr>\n",
       "      <th>47</th>\n",
       "      <td>0.529651</td>\n",
       "      <td>0.241852</td>\n",
       "      <td>0.093103</td>\n",
       "      <td>0.897216</td>\n",
       "    </tr>\n",
       "    <tr>\n",
       "      <th>48</th>\n",
       "      <td>0.900418</td>\n",
       "      <td>0.633101</td>\n",
       "      <td>0.339030</td>\n",
       "      <td>0.349210</td>\n",
       "    </tr>\n",
       "    <tr>\n",
       "      <th>49</th>\n",
       "      <td>0.725956</td>\n",
       "      <td>0.897110</td>\n",
       "      <td>0.887086</td>\n",
       "      <td>0.779876</td>\n",
       "    </tr>\n",
       "  </tbody>\n",
       "</table>\n",
       "</div>"
      ],
      "text/plain": [
       "          c1        c2        c3        c4\n",
       "0   0.374540  0.950714  0.731994  0.598658\n",
       "1   0.156019  0.155995  0.058084  0.866176\n",
       "2   0.601115  0.708073  0.020584  0.969910\n",
       "3   0.832443  0.212339  0.181825  0.183405\n",
       "4   0.304242  0.524756  0.431945  0.291229\n",
       "5   0.611853  0.139494  0.292145  0.366362\n",
       "6   0.456070  0.785176  0.199674  0.514234\n",
       "7   0.592415  0.046450  0.607545  0.170524\n",
       "8   0.065052  0.948886  0.965632  0.808397\n",
       "9   0.304614  0.097672  0.684233  0.440152\n",
       "10  0.122038  0.495177  0.034389  0.909320\n",
       "11  0.258780  0.662522  0.311711  0.520068\n",
       "12  0.546710  0.184854  0.969585  0.775133\n",
       "13  0.939499  0.894827  0.597900  0.921874\n",
       "14  0.088493  0.195983  0.045227  0.325330\n",
       "15  0.388677  0.271349  0.828738  0.356753\n",
       "16  0.280935  0.542696  0.140924  0.802197\n",
       "17  0.074551  0.986887  0.772245  0.198716\n",
       "18  0.005522  0.815461  0.706857  0.729007\n",
       "19  0.771270  0.074045  0.358466  0.115869\n",
       "20  0.863103  0.623298  0.330898  0.063558\n",
       "21  0.310982  0.325183  0.729606  0.637557\n",
       "22  0.887213  0.472215  0.119594  0.713245\n",
       "23  0.760785  0.561277  0.770967  0.493796\n",
       "24  0.522733  0.427541  0.025419  0.107891\n",
       "25  0.031429  0.636410  0.314356  0.508571\n",
       "26  0.907566  0.249292  0.410383  0.755551\n",
       "27  0.228798  0.076980  0.289751  0.161221\n",
       "28  0.929698  0.808120  0.633404  0.871461\n",
       "29  0.803672  0.186570  0.892559  0.539342\n",
       "30  0.807440  0.896091  0.318003  0.110052\n",
       "31  0.227935  0.427108  0.818015  0.860731\n",
       "32  0.006952  0.510747  0.417411  0.222108\n",
       "33  0.119865  0.337615  0.942910  0.323203\n",
       "34  0.518791  0.703019  0.363630  0.971782\n",
       "35  0.962447  0.251782  0.497249  0.300878\n",
       "36  0.284840  0.036887  0.609564  0.502679\n",
       "37  0.051479  0.278646  0.908266  0.239562\n",
       "38  0.144895  0.489453  0.985650  0.242055\n",
       "39  0.672136  0.761620  0.237638  0.728216\n",
       "40  0.367783  0.632306  0.633530  0.535775\n",
       "41  0.090290  0.835302  0.320780  0.186519\n",
       "42  0.040775  0.590893  0.677564  0.016588\n",
       "43  0.512093  0.226496  0.645173  0.174366\n",
       "44  0.690938  0.386735  0.936730  0.137521\n",
       "45  0.341066  0.113474  0.924694  0.877339\n",
       "46  0.257942  0.659984  0.817222  0.555201\n",
       "47  0.529651  0.241852  0.093103  0.897216\n",
       "48  0.900418  0.633101  0.339030  0.349210\n",
       "49  0.725956  0.897110  0.887086  0.779876"
      ]
     },
     "execution_count": 125,
     "metadata": {},
     "output_type": "execute_result"
    }
   ],
   "source": [
    "dfx=pd.DataFrame(a)\n",
    "dfx.columns=['c1','c2','c3','c4']\n",
    "dfx"
   ]
  },
  {
   "cell_type": "code",
   "execution_count": 126,
   "id": "02c0336a",
   "metadata": {},
   "outputs": [
    {
     "data": {
      "text/plain": [
       "<AxesSubplot:xlabel='Item'>"
      ]
     },
     "execution_count": 126,
     "metadata": {},
     "output_type": "execute_result"
    },
    {
     "data": {
      "image/png": "[encoded data removed]",
      "text/plain": [
       "<Figure size 432x288 with 1 Axes>"
      ]
     },
     "metadata": {
      "needs_background": "light"
     },
     "output_type": "display_data"
    }
   ],
   "source": [
    "pt.plot.bar(stacked=True)"
   ]
  },
  {
   "cell_type": "code",
   "execution_count": 128,
   "id": "ef24cd53",
   "metadata": {},
   "outputs": [
    {
     "data": {
      "text/plain": [
       "<AxesSubplot:>"
      ]
     },
     "execution_count": 128,
     "metadata": {},
     "output_type": "execute_result"
    },
    {
     "data": {
      "image/png": "[encoded data removed]",
      "text/plain": [
       "<Figure size 432x288 with 1 Axes>"
      ]
     },
     "metadata": {
      "needs_background": "light"
     },
     "output_type": "display_data"
    }
   ],
   "source": [
    "dfx[:10].plot.bar(stacked=True)"
   ]
  },
  {
   "cell_type": "code",
   "execution_count": 131,
   "id": "117ef486",
   "metadata": {},
   "outputs": [
    {
     "data": {
      "text/plain": [
       "<AxesSubplot:>"
      ]
     },
     "execution_count": 131,
     "metadata": {},
     "output_type": "execute_result"
    },
    {
     "data": {
      "image/png": "[encoded data removed]",
      "text/plain": [
       "<Figure size 432x288 with 1 Axes>"
      ]
     },
     "metadata": {
      "needs_background": "light"
     },
     "output_type": "display_data"
    }
   ],
   "source": [
    "dfx[:5].plot()"
   ]
  },
  {
   "cell_type": "code",
   "execution_count": 132,
   "id": "0fe500d9",
   "metadata": {},
   "outputs": [
    {
     "data": {
      "text/plain": [
       "<AxesSubplot:ylabel='Frequency'>"
      ]
     },
     "execution_count": 132,
     "metadata": {},
     "output_type": "execute_result"
    },
    {
     "data": {
      "image/png": "[encoded data removed]",
      "text/plain": [
       "<Figure size 432x288 with 1 Axes>"
      ]
     },
     "metadata": {
      "needs_background": "light"
     },
     "output_type": "display_data"
    }
   ],
   "source": [
    "dfx.plot.hist(cumulative=True)"
   ]
  },
  {
   "cell_type": "code",
   "execution_count": 136,
   "id": "8af1876a",
   "metadata": {},
   "outputs": [
    {
     "data": {
      "text/plain": [
       "array([[<AxesSubplot:title={'center':'c1'}>,\n",
       "        <AxesSubplot:title={'center':'c2'}>],\n",
       "       [<AxesSubplot:title={'center':'c3'}>,\n",
       "        <AxesSubplot:title={'center':'c4'}>]], dtype=object)"
      ]
     },
     "execution_count": 136,
     "metadata": {},
     "output_type": "execute_result"
    },
    {
     "data": {
      "image/png": "[encoded data removed]",
      "text/plain": [
       "<Figure size 432x288 with 4 Axes>"
      ]
     },
     "metadata": {
      "needs_background": "light"
     },
     "output_type": "display_data"
    }
   ],
   "source": [
    "dfx.diff().hist(color=('y'))"
   ]
  },
  {
   "cell_type": "code",
   "execution_count": 137,
   "id": "e180fd3c",
   "metadata": {},
   "outputs": [
    {
     "data": {
      "text/plain": [
       "<AxesSubplot:>"
      ]
     },
     "execution_count": 137,
     "metadata": {},
     "output_type": "execute_result"
    },
    {
     "data": {
      "image/png": "[encoded data removed]",
      "text/plain": [
       "<Figure size 432x288 with 1 Axes>"
      ]
     },
     "metadata": {
      "needs_background": "light"
     },
     "output_type": "display_data"
    }
   ],
   "source": [
    "dfx.plot.box()"
   ]
  },
  {
   "cell_type": "code",
   "execution_count": 138,
   "id": "e9af3cdb",
   "metadata": {},
   "outputs": [
    {
     "data": {
      "text/plain": [
       "<AxesSubplot:>"
      ]
     },
     "execution_count": 138,
     "metadata": {},
     "output_type": "execute_result"
    },
    {
     "data": {
      "image/png": "[encoded data removed]",
      "text/plain": [
       "<Figure size 432x288 with 1 Axes>"
      ]
     },
     "metadata": {
      "needs_background": "light"
     },
     "output_type": "display_data"
    }
   ],
   "source": [
    "dfx.boxplot()"
   ]
  },
  {
   "cell_type": "code",
   "execution_count": 139,
   "id": "bafb49e9",
   "metadata": {},
   "outputs": [
    {
     "data": {
      "text/plain": [
       "<AxesSubplot:>"
      ]
     },
     "execution_count": 139,
     "metadata": {},
     "output_type": "execute_result"
    },
    {
     "data": {
      "image/png": "[encoded data removed]",
      "text/plain": [
       "<Figure size 432x288 with 1 Axes>"
      ]
     },
     "metadata": {
      "needs_background": "light"
     },
     "output_type": "display_data"
    }
   ],
   "source": [
    "dfx.plot.area()"
   ]
  },
  {
   "cell_type": "code",
   "execution_count": 143,
   "id": "0d42e5b1",
   "metadata": {},
   "outputs": [
    {
     "data": {
      "text/plain": [
       "<AxesSubplot:xlabel='c1', ylabel='c4'>"
      ]
     },
     "execution_count": 143,
     "metadata": {},
     "output_type": "execute_result"
    },
    {
     "data": {
      "image/png": "[encoded data removed]",
      "text/plain": [
       "<Figure size 432x288 with 1 Axes>"
      ]
     },
     "metadata": {
      "needs_background": "light"
     },
     "output_type": "display_data"
    }
   ],
   "source": [
    "dfx.plot.scatter(x='c1', y='c4', color='r', marker='^', s=100)"
   ]
  },
  {
   "cell_type": "code",
   "execution_count": 145,
   "id": "935f656a",
   "metadata": {},
   "outputs": [
    {
     "data": {
      "text/plain": [
       "<AxesSubplot:xlabel='c2', ylabel='c3'>"
      ]
     },
     "execution_count": 145,
     "metadata": {},
     "output_type": "execute_result"
    },
    {
     "data": {
      "image/png": "[encoded data removed]",
      "text/plain": [
       "<Figure size 432x288 with 1 Axes>"
      ]
     },
     "metadata": {
      "needs_background": "light"
     },
     "output_type": "display_data"
    }
   ],
   "source": [
    "ax=dfx.plot.scatter(x='c1', y='c4', color='g', marker='^', s=100)\n",
    "\n",
    "dfx.plot.scatter(x='c2', y='c3', color='r', marker='*', s=100, ax=ax)"
   ]
  },
  {
   "cell_type": "code",
   "execution_count": 146,
   "id": "42e90964",
   "metadata": {},
   "outputs": [
    {
     "data": {
      "text/plain": [
       "<AxesSubplot:xlabel='c1', ylabel='c4'>"
      ]
     },
     "execution_count": 146,
     "metadata": {},
     "output_type": "execute_result"
    },
    {
     "data": {
      "image/png": "[encoded data removed]",
      "text/plain": [
       "<Figure size 432x288 with 2 Axes>"
      ]
     },
     "metadata": {
      "needs_background": "light"
     },
     "output_type": "display_data"
    }
   ],
   "source": [
    "dfx.plot.scatter(x='c1', y='c4', s=100, c='c4')"
   ]
  },
  {
   "cell_type": "code",
   "execution_count": 147,
   "id": "50063d71",
   "metadata": {},
   "outputs": [
    {
     "data": {
      "text/plain": [
       "array([<AxesSubplot:ylabel='c1'>, <AxesSubplot:ylabel='c2'>,\n",
       "       <AxesSubplot:ylabel='c3'>, <AxesSubplot:ylabel='c4'>], dtype=object)"
      ]
     },
     "execution_count": 147,
     "metadata": {},
     "output_type": "execute_result"
    },
    {
     "data": {
      "image/png": "[encoded data removed]",
      "text/plain": [
       "<Figure size 2160x1440 with 4 Axes>"
      ]
     },
     "metadata": {},
     "output_type": "display_data"
    }
   ],
   "source": [
    "dfx.head(5).plot.pie(subplots=True, figsize=(30,20))"
   ]
  },
  {
   "cell_type": "code",
   "execution_count": 149,
   "id": "df947e79",
   "metadata": {},
   "outputs": [
    {
     "data": {
      "text/plain": [
       "array([<AxesSubplot:title={'center':'c1'}>,\n",
       "       <AxesSubplot:title={'center':'c2'}>,\n",
       "       <AxesSubplot:title={'center':'c3'}>,\n",
       "       <AxesSubplot:title={'center':'c4'}>], dtype=object)"
      ]
     },
     "execution_count": 149,
     "metadata": {},
     "output_type": "execute_result"
    },
    {
     "data": {
      "image/png": "[encoded data removed]",
      "text/plain": [
       "<Figure size 2160x1440 with 4 Axes>"
      ]
     },
     "metadata": {
      "needs_background": "light"
     },
     "output_type": "display_data"
    }
   ],
   "source": [
    "dfx.head(5).plot.bar(subplots=True, figsize=(30,20))"
   ]
  },
  {
   "cell_type": "markdown",
   "id": "f0009990",
   "metadata": {},
   "source": [
    "### Reading Excel in Pandas"
   ]
  },
  {
   "cell_type": "code",
   "execution_count": 152,
   "id": "323ebfc4",
   "metadata": {},
   "outputs": [],
   "source": [
    "data=pd.read_excel('C:\\\\Users\\\\pvashishtha\\\\Desktop\\\\Python Advanced\\\\marks.xlsx')"
   ]
  },
  {
   "cell_type": "code",
   "execution_count": 153,
   "id": "5996a06f",
   "metadata": {
    "collapsed": true
   },
   "outputs": [
    {
     "data": {
      "text/html": [
       "<div>\n",
       "<style scoped>\n",
       "    .dataframe tbody tr th:only-of-type {\n",
       "        vertical-align: middle;\n",
       "    }\n",
       "\n",
       "    .dataframe tbody tr th {\n",
       "        vertical-align: top;\n",
       "    }\n",
       "\n",
       "    .dataframe thead th {\n",
       "        text-align: right;\n",
       "    }\n",
       "</style>\n",
       "<table border=\"1\" class=\"dataframe\">\n",
       "  <thead>\n",
       "    <tr style=\"text-align: right;\">\n",
       "      <th></th>\n",
       "      <th>name</th>\n",
       "      <th>marks</th>\n",
       "    </tr>\n",
       "  </thead>\n",
       "  <tbody>\n",
       "    <tr>\n",
       "      <th>0</th>\n",
       "      <td>Dhananjay Patil</td>\n",
       "      <td>22</td>\n",
       "    </tr>\n",
       "    <tr>\n",
       "      <th>1</th>\n",
       "      <td>Jeevanandham J</td>\n",
       "      <td>27</td>\n",
       "    </tr>\n",
       "    <tr>\n",
       "      <th>2</th>\n",
       "      <td>Gogulnath V</td>\n",
       "      <td>27</td>\n",
       "    </tr>\n",
       "    <tr>\n",
       "      <th>3</th>\n",
       "      <td>Prajwal Mirji</td>\n",
       "      <td>28</td>\n",
       "    </tr>\n",
       "    <tr>\n",
       "      <th>4</th>\n",
       "      <td>Varun Sangeet</td>\n",
       "      <td>29</td>\n",
       "    </tr>\n",
       "    <tr>\n",
       "      <th>5</th>\n",
       "      <td>Pratiksha Budarkattimath</td>\n",
       "      <td>26</td>\n",
       "    </tr>\n",
       "    <tr>\n",
       "      <th>6</th>\n",
       "      <td>Sheetal Hiremath</td>\n",
       "      <td>13</td>\n",
       "    </tr>\n",
       "    <tr>\n",
       "      <th>7</th>\n",
       "      <td>Srigouri Kulkarni</td>\n",
       "      <td>20</td>\n",
       "    </tr>\n",
       "    <tr>\n",
       "      <th>8</th>\n",
       "      <td>Soumya S Bhujang</td>\n",
       "      <td>20</td>\n",
       "    </tr>\n",
       "    <tr>\n",
       "      <th>9</th>\n",
       "      <td>Keerti Bhagwat</td>\n",
       "      <td>20</td>\n",
       "    </tr>\n",
       "    <tr>\n",
       "      <th>10</th>\n",
       "      <td>Maruti Desurkar</td>\n",
       "      <td>24</td>\n",
       "    </tr>\n",
       "    <tr>\n",
       "      <th>11</th>\n",
       "      <td>Apoorva Naregal</td>\n",
       "      <td>18</td>\n",
       "    </tr>\n",
       "    <tr>\n",
       "      <th>12</th>\n",
       "      <td>Divya Pathak</td>\n",
       "      <td>28</td>\n",
       "    </tr>\n",
       "    <tr>\n",
       "      <th>13</th>\n",
       "      <td>Saurav Rai</td>\n",
       "      <td>24</td>\n",
       "    </tr>\n",
       "    <tr>\n",
       "      <th>14</th>\n",
       "      <td>Maria Sebastian</td>\n",
       "      <td>15</td>\n",
       "    </tr>\n",
       "    <tr>\n",
       "      <th>15</th>\n",
       "      <td>Sanjai Kanth P</td>\n",
       "      <td>25</td>\n",
       "    </tr>\n",
       "    <tr>\n",
       "      <th>16</th>\n",
       "      <td>Madhushri Jadhav</td>\n",
       "      <td>21</td>\n",
       "    </tr>\n",
       "    <tr>\n",
       "      <th>17</th>\n",
       "      <td>Anusha Kengapur</td>\n",
       "      <td>19</td>\n",
       "    </tr>\n",
       "    <tr>\n",
       "      <th>18</th>\n",
       "      <td>Sahaya Jai Kishoe Jenalraj</td>\n",
       "      <td>25</td>\n",
       "    </tr>\n",
       "    <tr>\n",
       "      <th>19</th>\n",
       "      <td>Chandran R</td>\n",
       "      <td>26</td>\n",
       "    </tr>\n",
       "    <tr>\n",
       "      <th>20</th>\n",
       "      <td>Kaviya G</td>\n",
       "      <td>20</td>\n",
       "    </tr>\n",
       "    <tr>\n",
       "      <th>21</th>\n",
       "      <td>Riya Arawatagi</td>\n",
       "      <td>20</td>\n",
       "    </tr>\n",
       "    <tr>\n",
       "      <th>22</th>\n",
       "      <td>K S Vaishnavi Vaishnavi</td>\n",
       "      <td>26</td>\n",
       "    </tr>\n",
       "    <tr>\n",
       "      <th>23</th>\n",
       "      <td>Harini S</td>\n",
       "      <td>23</td>\n",
       "    </tr>\n",
       "    <tr>\n",
       "      <th>24</th>\n",
       "      <td>Neelambika Y H</td>\n",
       "      <td>26</td>\n",
       "    </tr>\n",
       "    <tr>\n",
       "      <th>25</th>\n",
       "      <td>Rachita Shankagoudashani</td>\n",
       "      <td>16</td>\n",
       "    </tr>\n",
       "    <tr>\n",
       "      <th>26</th>\n",
       "      <td>Vaishnavi Narayan Patil</td>\n",
       "      <td>26</td>\n",
       "    </tr>\n",
       "    <tr>\n",
       "      <th>27</th>\n",
       "      <td>Hariharan Suresh</td>\n",
       "      <td>23</td>\n",
       "    </tr>\n",
       "    <tr>\n",
       "      <th>28</th>\n",
       "      <td>Saishankar Yenagi</td>\n",
       "      <td>22</td>\n",
       "    </tr>\n",
       "    <tr>\n",
       "      <th>29</th>\n",
       "      <td>Neha G Kulkarni</td>\n",
       "      <td>21</td>\n",
       "    </tr>\n",
       "    <tr>\n",
       "      <th>30</th>\n",
       "      <td>Aditi Yuvaraj</td>\n",
       "      <td>21</td>\n",
       "    </tr>\n",
       "    <tr>\n",
       "      <th>31</th>\n",
       "      <td>Pallavi Mudakavi</td>\n",
       "      <td>21</td>\n",
       "    </tr>\n",
       "    <tr>\n",
       "      <th>32</th>\n",
       "      <td>Kamalaxi Hasabi</td>\n",
       "      <td>20</td>\n",
       "    </tr>\n",
       "    <tr>\n",
       "      <th>33</th>\n",
       "      <td>Shivani Rao</td>\n",
       "      <td>21</td>\n",
       "    </tr>\n",
       "    <tr>\n",
       "      <th>34</th>\n",
       "      <td>Megha Meharwade</td>\n",
       "      <td>20</td>\n",
       "    </tr>\n",
       "    <tr>\n",
       "      <th>35</th>\n",
       "      <td>Manisha Shetti</td>\n",
       "      <td>25</td>\n",
       "    </tr>\n",
       "  </tbody>\n",
       "</table>\n",
       "</div>"
      ],
      "text/plain": [
       "                          name  marks\n",
       "0              Dhananjay Patil     22\n",
       "1               Jeevanandham J     27\n",
       "2                  Gogulnath V     27\n",
       "3                Prajwal Mirji     28\n",
       "4                Varun Sangeet     29\n",
       "5     Pratiksha Budarkattimath     26\n",
       "6             Sheetal Hiremath     13\n",
       "7            Srigouri Kulkarni     20\n",
       "8             Soumya S Bhujang     20\n",
       "9               Keerti Bhagwat     20\n",
       "10             Maruti Desurkar     24\n",
       "11             Apoorva Naregal     18\n",
       "12                Divya Pathak     28\n",
       "13                  Saurav Rai     24\n",
       "14             Maria Sebastian     15\n",
       "15              Sanjai Kanth P     25\n",
       "16            Madhushri Jadhav     21\n",
       "17             Anusha Kengapur     19\n",
       "18  Sahaya Jai Kishoe Jenalraj     25\n",
       "19                  Chandran R     26\n",
       "20                    Kaviya G     20\n",
       "21              Riya Arawatagi     20\n",
       "22     K S Vaishnavi Vaishnavi     26\n",
       "23                    Harini S     23\n",
       "24              Neelambika Y H     26\n",
       "25    Rachita Shankagoudashani     16\n",
       "26     Vaishnavi Narayan Patil     26\n",
       "27            Hariharan Suresh     23\n",
       "28           Saishankar Yenagi     22\n",
       "29             Neha G Kulkarni     21\n",
       "30               Aditi Yuvaraj     21\n",
       "31            Pallavi Mudakavi     21\n",
       "32             Kamalaxi Hasabi     20\n",
       "33                 Shivani Rao     21\n",
       "34             Megha Meharwade     20\n",
       "35              Manisha Shetti     25"
      ]
     },
     "execution_count": 153,
     "metadata": {},
     "output_type": "execute_result"
    }
   ],
   "source": [
    "data"
   ]
  },
  {
   "cell_type": "code",
   "execution_count": 165,
   "id": "84d325de",
   "metadata": {},
   "outputs": [],
   "source": [
    "mx=data['marks'].max()"
   ]
  },
  {
   "cell_type": "code",
   "execution_count": 166,
   "id": "de547d02",
   "metadata": {},
   "outputs": [],
   "source": [
    "mn=data['marks'].min()"
   ]
  },
  {
   "cell_type": "code",
   "execution_count": 167,
   "id": "b742405a",
   "metadata": {},
   "outputs": [],
   "source": [
    "av=data['marks'].mean()"
   ]
  },
  {
   "cell_type": "code",
   "execution_count": 160,
   "id": "c39741b0",
   "metadata": {},
   "outputs": [
    {
     "data": {
      "text/html": [
       "<div>\n",
       "<style scoped>\n",
       "    .dataframe tbody tr th:only-of-type {\n",
       "        vertical-align: middle;\n",
       "    }\n",
       "\n",
       "    .dataframe tbody tr th {\n",
       "        vertical-align: top;\n",
       "    }\n",
       "\n",
       "    .dataframe thead th {\n",
       "        text-align: right;\n",
       "    }\n",
       "</style>\n",
       "<table border=\"1\" class=\"dataframe\">\n",
       "  <thead>\n",
       "    <tr style=\"text-align: right;\">\n",
       "      <th></th>\n",
       "      <th>name</th>\n",
       "      <th>marks</th>\n",
       "    </tr>\n",
       "  </thead>\n",
       "  <tbody>\n",
       "    <tr>\n",
       "      <th>0</th>\n",
       "      <td>Dhananjay Patil</td>\n",
       "      <td>22</td>\n",
       "    </tr>\n",
       "    <tr>\n",
       "      <th>6</th>\n",
       "      <td>Sheetal Hiremath</td>\n",
       "      <td>13</td>\n",
       "    </tr>\n",
       "    <tr>\n",
       "      <th>7</th>\n",
       "      <td>Srigouri Kulkarni</td>\n",
       "      <td>20</td>\n",
       "    </tr>\n",
       "    <tr>\n",
       "      <th>8</th>\n",
       "      <td>Soumya S Bhujang</td>\n",
       "      <td>20</td>\n",
       "    </tr>\n",
       "    <tr>\n",
       "      <th>9</th>\n",
       "      <td>Keerti Bhagwat</td>\n",
       "      <td>20</td>\n",
       "    </tr>\n",
       "    <tr>\n",
       "      <th>11</th>\n",
       "      <td>Apoorva Naregal</td>\n",
       "      <td>18</td>\n",
       "    </tr>\n",
       "    <tr>\n",
       "      <th>14</th>\n",
       "      <td>Maria Sebastian</td>\n",
       "      <td>15</td>\n",
       "    </tr>\n",
       "    <tr>\n",
       "      <th>16</th>\n",
       "      <td>Madhushri Jadhav</td>\n",
       "      <td>21</td>\n",
       "    </tr>\n",
       "    <tr>\n",
       "      <th>17</th>\n",
       "      <td>Anusha Kengapur</td>\n",
       "      <td>19</td>\n",
       "    </tr>\n",
       "    <tr>\n",
       "      <th>20</th>\n",
       "      <td>Kaviya G</td>\n",
       "      <td>20</td>\n",
       "    </tr>\n",
       "    <tr>\n",
       "      <th>21</th>\n",
       "      <td>Riya Arawatagi</td>\n",
       "      <td>20</td>\n",
       "    </tr>\n",
       "    <tr>\n",
       "      <th>25</th>\n",
       "      <td>Rachita Shankagoudashani</td>\n",
       "      <td>16</td>\n",
       "    </tr>\n",
       "    <tr>\n",
       "      <th>28</th>\n",
       "      <td>Saishankar Yenagi</td>\n",
       "      <td>22</td>\n",
       "    </tr>\n",
       "    <tr>\n",
       "      <th>29</th>\n",
       "      <td>Neha G Kulkarni</td>\n",
       "      <td>21</td>\n",
       "    </tr>\n",
       "    <tr>\n",
       "      <th>30</th>\n",
       "      <td>Aditi Yuvaraj</td>\n",
       "      <td>21</td>\n",
       "    </tr>\n",
       "    <tr>\n",
       "      <th>31</th>\n",
       "      <td>Pallavi Mudakavi</td>\n",
       "      <td>21</td>\n",
       "    </tr>\n",
       "    <tr>\n",
       "      <th>32</th>\n",
       "      <td>Kamalaxi Hasabi</td>\n",
       "      <td>20</td>\n",
       "    </tr>\n",
       "    <tr>\n",
       "      <th>33</th>\n",
       "      <td>Shivani Rao</td>\n",
       "      <td>21</td>\n",
       "    </tr>\n",
       "    <tr>\n",
       "      <th>34</th>\n",
       "      <td>Megha Meharwade</td>\n",
       "      <td>20</td>\n",
       "    </tr>\n",
       "  </tbody>\n",
       "</table>\n",
       "</div>"
      ],
      "text/plain": [
       "                        name  marks\n",
       "0            Dhananjay Patil     22\n",
       "6           Sheetal Hiremath     13\n",
       "7          Srigouri Kulkarni     20\n",
       "8           Soumya S Bhujang     20\n",
       "9             Keerti Bhagwat     20\n",
       "11           Apoorva Naregal     18\n",
       "14           Maria Sebastian     15\n",
       "16          Madhushri Jadhav     21\n",
       "17           Anusha Kengapur     19\n",
       "20                  Kaviya G     20\n",
       "21            Riya Arawatagi     20\n",
       "25  Rachita Shankagoudashani     16\n",
       "28         Saishankar Yenagi     22\n",
       "29           Neha G Kulkarni     21\n",
       "30             Aditi Yuvaraj     21\n",
       "31          Pallavi Mudakavi     21\n",
       "32           Kamalaxi Hasabi     20\n",
       "33               Shivani Rao     21\n",
       "34           Megha Meharwade     20"
      ]
     },
     "execution_count": 160,
     "metadata": {},
     "output_type": "execute_result"
    }
   ],
   "source": [
    "data[data['marks']<data['marks'].mean()]"
   ]
  },
  {
   "cell_type": "code",
   "execution_count": 161,
   "id": "31b2e8a3",
   "metadata": {},
   "outputs": [
    {
     "data": {
      "text/html": [
       "<div>\n",
       "<style scoped>\n",
       "    .dataframe tbody tr th:only-of-type {\n",
       "        vertical-align: middle;\n",
       "    }\n",
       "\n",
       "    .dataframe tbody tr th {\n",
       "        vertical-align: top;\n",
       "    }\n",
       "\n",
       "    .dataframe thead th {\n",
       "        text-align: right;\n",
       "    }\n",
       "</style>\n",
       "<table border=\"1\" class=\"dataframe\">\n",
       "  <thead>\n",
       "    <tr style=\"text-align: right;\">\n",
       "      <th></th>\n",
       "      <th>name</th>\n",
       "      <th>marks</th>\n",
       "    </tr>\n",
       "  </thead>\n",
       "  <tbody>\n",
       "    <tr>\n",
       "      <th>4</th>\n",
       "      <td>Varun Sangeet</td>\n",
       "      <td>29</td>\n",
       "    </tr>\n",
       "  </tbody>\n",
       "</table>\n",
       "</div>"
      ],
      "text/plain": [
       "            name  marks\n",
       "4  Varun Sangeet     29"
      ]
     },
     "execution_count": 161,
     "metadata": {},
     "output_type": "execute_result"
    }
   ],
   "source": [
    "data[data['marks']==data['marks'].max()]"
   ]
  },
  {
   "cell_type": "code",
   "execution_count": 162,
   "id": "32ae4999",
   "metadata": {},
   "outputs": [
    {
     "data": {
      "text/html": [
       "<div>\n",
       "<style scoped>\n",
       "    .dataframe tbody tr th:only-of-type {\n",
       "        vertical-align: middle;\n",
       "    }\n",
       "\n",
       "    .dataframe tbody tr th {\n",
       "        vertical-align: top;\n",
       "    }\n",
       "\n",
       "    .dataframe thead th {\n",
       "        text-align: right;\n",
       "    }\n",
       "</style>\n",
       "<table border=\"1\" class=\"dataframe\">\n",
       "  <thead>\n",
       "    <tr style=\"text-align: right;\">\n",
       "      <th></th>\n",
       "      <th>name</th>\n",
       "      <th>marks</th>\n",
       "    </tr>\n",
       "  </thead>\n",
       "  <tbody>\n",
       "    <tr>\n",
       "      <th>6</th>\n",
       "      <td>Sheetal Hiremath</td>\n",
       "      <td>13</td>\n",
       "    </tr>\n",
       "  </tbody>\n",
       "</table>\n",
       "</div>"
      ],
      "text/plain": [
       "               name  marks\n",
       "6  Sheetal Hiremath     13"
      ]
     },
     "execution_count": 162,
     "metadata": {},
     "output_type": "execute_result"
    }
   ],
   "source": [
    "data[data['marks']==data['marks'].min()]"
   ]
  },
  {
   "cell_type": "code",
   "execution_count": 173,
   "id": "36361b77",
   "metadata": {},
   "outputs": [
    {
     "data": {
      "text/plain": [
       "<AxesSubplot:>"
      ]
     },
     "execution_count": 173,
     "metadata": {},
     "output_type": "execute_result"
    },
    {
     "data": {
      "image/png": "[encoded data removed]",
      "text/plain": [
       "<Figure size 432x288 with 1 Axes>"
      ]
     },
     "metadata": {
      "needs_background": "light"
     },
     "output_type": "display_data"
    }
   ],
   "source": [
    "pd.Series([mx, av, mn]).plot(kind='bar')"
   ]
  },
  {
   "cell_type": "code",
   "execution_count": 174,
   "id": "9839b0b5",
   "metadata": {},
   "outputs": [],
   "source": [
    "data['percentage']=round(data['marks']*100/30,2)"
   ]
  },
  {
   "cell_type": "code",
   "execution_count": 175,
   "id": "635d25ae",
   "metadata": {},
   "outputs": [
    {
     "data": {
      "text/html": [
       "<div>\n",
       "<style scoped>\n",
       "    .dataframe tbody tr th:only-of-type {\n",
       "        vertical-align: middle;\n",
       "    }\n",
       "\n",
       "    .dataframe tbody tr th {\n",
       "        vertical-align: top;\n",
       "    }\n",
       "\n",
       "    .dataframe thead th {\n",
       "        text-align: right;\n",
       "    }\n",
       "</style>\n",
       "<table border=\"1\" class=\"dataframe\">\n",
       "  <thead>\n",
       "    <tr style=\"text-align: right;\">\n",
       "      <th></th>\n",
       "      <th>name</th>\n",
       "      <th>marks</th>\n",
       "      <th>percentage</th>\n",
       "    </tr>\n",
       "  </thead>\n",
       "  <tbody>\n",
       "    <tr>\n",
       "      <th>0</th>\n",
       "      <td>Dhananjay Patil</td>\n",
       "      <td>22</td>\n",
       "      <td>73.33</td>\n",
       "    </tr>\n",
       "    <tr>\n",
       "      <th>1</th>\n",
       "      <td>Jeevanandham J</td>\n",
       "      <td>27</td>\n",
       "      <td>90.00</td>\n",
       "    </tr>\n",
       "    <tr>\n",
       "      <th>2</th>\n",
       "      <td>Gogulnath V</td>\n",
       "      <td>27</td>\n",
       "      <td>90.00</td>\n",
       "    </tr>\n",
       "    <tr>\n",
       "      <th>3</th>\n",
       "      <td>Prajwal Mirji</td>\n",
       "      <td>28</td>\n",
       "      <td>93.33</td>\n",
       "    </tr>\n",
       "    <tr>\n",
       "      <th>4</th>\n",
       "      <td>Varun Sangeet</td>\n",
       "      <td>29</td>\n",
       "      <td>96.67</td>\n",
       "    </tr>\n",
       "    <tr>\n",
       "      <th>5</th>\n",
       "      <td>Pratiksha Budarkattimath</td>\n",
       "      <td>26</td>\n",
       "      <td>86.67</td>\n",
       "    </tr>\n",
       "    <tr>\n",
       "      <th>6</th>\n",
       "      <td>Sheetal Hiremath</td>\n",
       "      <td>13</td>\n",
       "      <td>43.33</td>\n",
       "    </tr>\n",
       "    <tr>\n",
       "      <th>7</th>\n",
       "      <td>Srigouri Kulkarni</td>\n",
       "      <td>20</td>\n",
       "      <td>66.67</td>\n",
       "    </tr>\n",
       "    <tr>\n",
       "      <th>8</th>\n",
       "      <td>Soumya S Bhujang</td>\n",
       "      <td>20</td>\n",
       "      <td>66.67</td>\n",
       "    </tr>\n",
       "    <tr>\n",
       "      <th>9</th>\n",
       "      <td>Keerti Bhagwat</td>\n",
       "      <td>20</td>\n",
       "      <td>66.67</td>\n",
       "    </tr>\n",
       "    <tr>\n",
       "      <th>10</th>\n",
       "      <td>Maruti Desurkar</td>\n",
       "      <td>24</td>\n",
       "      <td>80.00</td>\n",
       "    </tr>\n",
       "    <tr>\n",
       "      <th>11</th>\n",
       "      <td>Apoorva Naregal</td>\n",
       "      <td>18</td>\n",
       "      <td>60.00</td>\n",
       "    </tr>\n",
       "    <tr>\n",
       "      <th>12</th>\n",
       "      <td>Divya Pathak</td>\n",
       "      <td>28</td>\n",
       "      <td>93.33</td>\n",
       "    </tr>\n",
       "    <tr>\n",
       "      <th>13</th>\n",
       "      <td>Saurav Rai</td>\n",
       "      <td>24</td>\n",
       "      <td>80.00</td>\n",
       "    </tr>\n",
       "    <tr>\n",
       "      <th>14</th>\n",
       "      <td>Maria Sebastian</td>\n",
       "      <td>15</td>\n",
       "      <td>50.00</td>\n",
       "    </tr>\n",
       "    <tr>\n",
       "      <th>15</th>\n",
       "      <td>Sanjai Kanth P</td>\n",
       "      <td>25</td>\n",
       "      <td>83.33</td>\n",
       "    </tr>\n",
       "    <tr>\n",
       "      <th>16</th>\n",
       "      <td>Madhushri Jadhav</td>\n",
       "      <td>21</td>\n",
       "      <td>70.00</td>\n",
       "    </tr>\n",
       "    <tr>\n",
       "      <th>17</th>\n",
       "      <td>Anusha Kengapur</td>\n",
       "      <td>19</td>\n",
       "      <td>63.33</td>\n",
       "    </tr>\n",
       "    <tr>\n",
       "      <th>18</th>\n",
       "      <td>Sahaya Jai Kishoe Jenalraj</td>\n",
       "      <td>25</td>\n",
       "      <td>83.33</td>\n",
       "    </tr>\n",
       "    <tr>\n",
       "      <th>19</th>\n",
       "      <td>Chandran R</td>\n",
       "      <td>26</td>\n",
       "      <td>86.67</td>\n",
       "    </tr>\n",
       "    <tr>\n",
       "      <th>20</th>\n",
       "      <td>Kaviya G</td>\n",
       "      <td>20</td>\n",
       "      <td>66.67</td>\n",
       "    </tr>\n",
       "    <tr>\n",
       "      <th>21</th>\n",
       "      <td>Riya Arawatagi</td>\n",
       "      <td>20</td>\n",
       "      <td>66.67</td>\n",
       "    </tr>\n",
       "    <tr>\n",
       "      <th>22</th>\n",
       "      <td>K S Vaishnavi Vaishnavi</td>\n",
       "      <td>26</td>\n",
       "      <td>86.67</td>\n",
       "    </tr>\n",
       "    <tr>\n",
       "      <th>23</th>\n",
       "      <td>Harini S</td>\n",
       "      <td>23</td>\n",
       "      <td>76.67</td>\n",
       "    </tr>\n",
       "    <tr>\n",
       "      <th>24</th>\n",
       "      <td>Neelambika Y H</td>\n",
       "      <td>26</td>\n",
       "      <td>86.67</td>\n",
       "    </tr>\n",
       "    <tr>\n",
       "      <th>25</th>\n",
       "      <td>Rachita Shankagoudashani</td>\n",
       "      <td>16</td>\n",
       "      <td>53.33</td>\n",
       "    </tr>\n",
       "    <tr>\n",
       "      <th>26</th>\n",
       "      <td>Vaishnavi Narayan Patil</td>\n",
       "      <td>26</td>\n",
       "      <td>86.67</td>\n",
       "    </tr>\n",
       "    <tr>\n",
       "      <th>27</th>\n",
       "      <td>Hariharan Suresh</td>\n",
       "      <td>23</td>\n",
       "      <td>76.67</td>\n",
       "    </tr>\n",
       "    <tr>\n",
       "      <th>28</th>\n",
       "      <td>Saishankar Yenagi</td>\n",
       "      <td>22</td>\n",
       "      <td>73.33</td>\n",
       "    </tr>\n",
       "    <tr>\n",
       "      <th>29</th>\n",
       "      <td>Neha G Kulkarni</td>\n",
       "      <td>21</td>\n",
       "      <td>70.00</td>\n",
       "    </tr>\n",
       "    <tr>\n",
       "      <th>30</th>\n",
       "      <td>Aditi Yuvaraj</td>\n",
       "      <td>21</td>\n",
       "      <td>70.00</td>\n",
       "    </tr>\n",
       "    <tr>\n",
       "      <th>31</th>\n",
       "      <td>Pallavi Mudakavi</td>\n",
       "      <td>21</td>\n",
       "      <td>70.00</td>\n",
       "    </tr>\n",
       "    <tr>\n",
       "      <th>32</th>\n",
       "      <td>Kamalaxi Hasabi</td>\n",
       "      <td>20</td>\n",
       "      <td>66.67</td>\n",
       "    </tr>\n",
       "    <tr>\n",
       "      <th>33</th>\n",
       "      <td>Shivani Rao</td>\n",
       "      <td>21</td>\n",
       "      <td>70.00</td>\n",
       "    </tr>\n",
       "    <tr>\n",
       "      <th>34</th>\n",
       "      <td>Megha Meharwade</td>\n",
       "      <td>20</td>\n",
       "      <td>66.67</td>\n",
       "    </tr>\n",
       "    <tr>\n",
       "      <th>35</th>\n",
       "      <td>Manisha Shetti</td>\n",
       "      <td>25</td>\n",
       "      <td>83.33</td>\n",
       "    </tr>\n",
       "  </tbody>\n",
       "</table>\n",
       "</div>"
      ],
      "text/plain": [
       "                          name  marks  percentage\n",
       "0              Dhananjay Patil     22       73.33\n",
       "1               Jeevanandham J     27       90.00\n",
       "2                  Gogulnath V     27       90.00\n",
       "3                Prajwal Mirji     28       93.33\n",
       "4                Varun Sangeet     29       96.67\n",
       "5     Pratiksha Budarkattimath     26       86.67\n",
       "6             Sheetal Hiremath     13       43.33\n",
       "7            Srigouri Kulkarni     20       66.67\n",
       "8             Soumya S Bhujang     20       66.67\n",
       "9               Keerti Bhagwat     20       66.67\n",
       "10             Maruti Desurkar     24       80.00\n",
       "11             Apoorva Naregal     18       60.00\n",
       "12                Divya Pathak     28       93.33\n",
       "13                  Saurav Rai     24       80.00\n",
       "14             Maria Sebastian     15       50.00\n",
       "15              Sanjai Kanth P     25       83.33\n",
       "16            Madhushri Jadhav     21       70.00\n",
       "17             Anusha Kengapur     19       63.33\n",
       "18  Sahaya Jai Kishoe Jenalraj     25       83.33\n",
       "19                  Chandran R     26       86.67\n",
       "20                    Kaviya G     20       66.67\n",
       "21              Riya Arawatagi     20       66.67\n",
       "22     K S Vaishnavi Vaishnavi     26       86.67\n",
       "23                    Harini S     23       76.67\n",
       "24              Neelambika Y H     26       86.67\n",
       "25    Rachita Shankagoudashani     16       53.33\n",
       "26     Vaishnavi Narayan Patil     26       86.67\n",
       "27            Hariharan Suresh     23       76.67\n",
       "28           Saishankar Yenagi     22       73.33\n",
       "29             Neha G Kulkarni     21       70.00\n",
       "30               Aditi Yuvaraj     21       70.00\n",
       "31            Pallavi Mudakavi     21       70.00\n",
       "32             Kamalaxi Hasabi     20       66.67\n",
       "33                 Shivani Rao     21       70.00\n",
       "34             Megha Meharwade     20       66.67\n",
       "35              Manisha Shetti     25       83.33"
      ]
     },
     "execution_count": 175,
     "metadata": {},
     "output_type": "execute_result"
    }
   ],
   "source": [
    "data"
   ]
  },
  {
   "cell_type": "code",
   "execution_count": 184,
   "id": "83073692",
   "metadata": {
    "collapsed": true
   },
   "outputs": [
    {
     "data": {
      "text/html": [
       "<div>\n",
       "<style scoped>\n",
       "    .dataframe tbody tr th:only-of-type {\n",
       "        vertical-align: middle;\n",
       "    }\n",
       "\n",
       "    .dataframe tbody tr th {\n",
       "        vertical-align: top;\n",
       "    }\n",
       "\n",
       "    .dataframe thead th {\n",
       "        text-align: right;\n",
       "    }\n",
       "</style>\n",
       "<table border=\"1\" class=\"dataframe\">\n",
       "  <thead>\n",
       "    <tr style=\"text-align: right;\">\n",
       "      <th></th>\n",
       "      <th>name</th>\n",
       "      <th>marks</th>\n",
       "      <th>percentage</th>\n",
       "      <th>status</th>\n",
       "    </tr>\n",
       "  </thead>\n",
       "  <tbody>\n",
       "    <tr>\n",
       "      <th>0</th>\n",
       "      <td>Dhananjay Patil</td>\n",
       "      <td>22</td>\n",
       "      <td>73.33</td>\n",
       "      <td>pass</td>\n",
       "    </tr>\n",
       "    <tr>\n",
       "      <th>1</th>\n",
       "      <td>Jeevanandham J</td>\n",
       "      <td>27</td>\n",
       "      <td>90.00</td>\n",
       "      <td>pass</td>\n",
       "    </tr>\n",
       "    <tr>\n",
       "      <th>2</th>\n",
       "      <td>Gogulnath V</td>\n",
       "      <td>27</td>\n",
       "      <td>90.00</td>\n",
       "      <td>pass</td>\n",
       "    </tr>\n",
       "    <tr>\n",
       "      <th>3</th>\n",
       "      <td>Prajwal Mirji</td>\n",
       "      <td>28</td>\n",
       "      <td>93.33</td>\n",
       "      <td>pass</td>\n",
       "    </tr>\n",
       "    <tr>\n",
       "      <th>4</th>\n",
       "      <td>Varun Sangeet</td>\n",
       "      <td>29</td>\n",
       "      <td>96.67</td>\n",
       "      <td>pass</td>\n",
       "    </tr>\n",
       "    <tr>\n",
       "      <th>5</th>\n",
       "      <td>Pratiksha Budarkattimath</td>\n",
       "      <td>26</td>\n",
       "      <td>86.67</td>\n",
       "      <td>pass</td>\n",
       "    </tr>\n",
       "    <tr>\n",
       "      <th>6</th>\n",
       "      <td>Sheetal Hiremath</td>\n",
       "      <td>13</td>\n",
       "      <td>43.33</td>\n",
       "      <td>fail</td>\n",
       "    </tr>\n",
       "    <tr>\n",
       "      <th>7</th>\n",
       "      <td>Srigouri Kulkarni</td>\n",
       "      <td>20</td>\n",
       "      <td>66.67</td>\n",
       "      <td>fail</td>\n",
       "    </tr>\n",
       "    <tr>\n",
       "      <th>8</th>\n",
       "      <td>Soumya S Bhujang</td>\n",
       "      <td>20</td>\n",
       "      <td>66.67</td>\n",
       "      <td>fail</td>\n",
       "    </tr>\n",
       "    <tr>\n",
       "      <th>9</th>\n",
       "      <td>Keerti Bhagwat</td>\n",
       "      <td>20</td>\n",
       "      <td>66.67</td>\n",
       "      <td>fail</td>\n",
       "    </tr>\n",
       "    <tr>\n",
       "      <th>10</th>\n",
       "      <td>Maruti Desurkar</td>\n",
       "      <td>24</td>\n",
       "      <td>80.00</td>\n",
       "      <td>pass</td>\n",
       "    </tr>\n",
       "    <tr>\n",
       "      <th>11</th>\n",
       "      <td>Apoorva Naregal</td>\n",
       "      <td>18</td>\n",
       "      <td>60.00</td>\n",
       "      <td>fail</td>\n",
       "    </tr>\n",
       "    <tr>\n",
       "      <th>12</th>\n",
       "      <td>Divya Pathak</td>\n",
       "      <td>28</td>\n",
       "      <td>93.33</td>\n",
       "      <td>pass</td>\n",
       "    </tr>\n",
       "    <tr>\n",
       "      <th>13</th>\n",
       "      <td>Saurav Rai</td>\n",
       "      <td>24</td>\n",
       "      <td>80.00</td>\n",
       "      <td>pass</td>\n",
       "    </tr>\n",
       "    <tr>\n",
       "      <th>14</th>\n",
       "      <td>Maria Sebastian</td>\n",
       "      <td>15</td>\n",
       "      <td>50.00</td>\n",
       "      <td>fail</td>\n",
       "    </tr>\n",
       "    <tr>\n",
       "      <th>15</th>\n",
       "      <td>Sanjai Kanth P</td>\n",
       "      <td>25</td>\n",
       "      <td>83.33</td>\n",
       "      <td>pass</td>\n",
       "    </tr>\n",
       "    <tr>\n",
       "      <th>16</th>\n",
       "      <td>Madhushri Jadhav</td>\n",
       "      <td>21</td>\n",
       "      <td>70.00</td>\n",
       "      <td>pass</td>\n",
       "    </tr>\n",
       "    <tr>\n",
       "      <th>17</th>\n",
       "      <td>Anusha Kengapur</td>\n",
       "      <td>19</td>\n",
       "      <td>63.33</td>\n",
       "      <td>fail</td>\n",
       "    </tr>\n",
       "    <tr>\n",
       "      <th>18</th>\n",
       "      <td>Sahaya Jai Kishoe Jenalraj</td>\n",
       "      <td>25</td>\n",
       "      <td>83.33</td>\n",
       "      <td>pass</td>\n",
       "    </tr>\n",
       "    <tr>\n",
       "      <th>19</th>\n",
       "      <td>Chandran R</td>\n",
       "      <td>26</td>\n",
       "      <td>86.67</td>\n",
       "      <td>pass</td>\n",
       "    </tr>\n",
       "    <tr>\n",
       "      <th>20</th>\n",
       "      <td>Kaviya G</td>\n",
       "      <td>20</td>\n",
       "      <td>66.67</td>\n",
       "      <td>fail</td>\n",
       "    </tr>\n",
       "    <tr>\n",
       "      <th>21</th>\n",
       "      <td>Riya Arawatagi</td>\n",
       "      <td>20</td>\n",
       "      <td>66.67</td>\n",
       "      <td>fail</td>\n",
       "    </tr>\n",
       "    <tr>\n",
       "      <th>22</th>\n",
       "      <td>K S Vaishnavi Vaishnavi</td>\n",
       "      <td>26</td>\n",
       "      <td>86.67</td>\n",
       "      <td>pass</td>\n",
       "    </tr>\n",
       "    <tr>\n",
       "      <th>23</th>\n",
       "      <td>Harini S</td>\n",
       "      <td>23</td>\n",
       "      <td>76.67</td>\n",
       "      <td>pass</td>\n",
       "    </tr>\n",
       "    <tr>\n",
       "      <th>24</th>\n",
       "      <td>Neelambika Y H</td>\n",
       "      <td>26</td>\n",
       "      <td>86.67</td>\n",
       "      <td>pass</td>\n",
       "    </tr>\n",
       "    <tr>\n",
       "      <th>25</th>\n",
       "      <td>Rachita Shankagoudashani</td>\n",
       "      <td>16</td>\n",
       "      <td>53.33</td>\n",
       "      <td>fail</td>\n",
       "    </tr>\n",
       "    <tr>\n",
       "      <th>26</th>\n",
       "      <td>Vaishnavi Narayan Patil</td>\n",
       "      <td>26</td>\n",
       "      <td>86.67</td>\n",
       "      <td>pass</td>\n",
       "    </tr>\n",
       "    <tr>\n",
       "      <th>27</th>\n",
       "      <td>Hariharan Suresh</td>\n",
       "      <td>23</td>\n",
       "      <td>76.67</td>\n",
       "      <td>pass</td>\n",
       "    </tr>\n",
       "    <tr>\n",
       "      <th>28</th>\n",
       "      <td>Saishankar Yenagi</td>\n",
       "      <td>22</td>\n",
       "      <td>73.33</td>\n",
       "      <td>pass</td>\n",
       "    </tr>\n",
       "    <tr>\n",
       "      <th>29</th>\n",
       "      <td>Neha G Kulkarni</td>\n",
       "      <td>21</td>\n",
       "      <td>70.00</td>\n",
       "      <td>pass</td>\n",
       "    </tr>\n",
       "    <tr>\n",
       "      <th>30</th>\n",
       "      <td>Aditi Yuvaraj</td>\n",
       "      <td>21</td>\n",
       "      <td>70.00</td>\n",
       "      <td>pass</td>\n",
       "    </tr>\n",
       "    <tr>\n",
       "      <th>31</th>\n",
       "      <td>Pallavi Mudakavi</td>\n",
       "      <td>21</td>\n",
       "      <td>70.00</td>\n",
       "      <td>pass</td>\n",
       "    </tr>\n",
       "    <tr>\n",
       "      <th>32</th>\n",
       "      <td>Kamalaxi Hasabi</td>\n",
       "      <td>20</td>\n",
       "      <td>66.67</td>\n",
       "      <td>fail</td>\n",
       "    </tr>\n",
       "    <tr>\n",
       "      <th>33</th>\n",
       "      <td>Shivani Rao</td>\n",
       "      <td>21</td>\n",
       "      <td>70.00</td>\n",
       "      <td>pass</td>\n",
       "    </tr>\n",
       "    <tr>\n",
       "      <th>34</th>\n",
       "      <td>Megha Meharwade</td>\n",
       "      <td>20</td>\n",
       "      <td>66.67</td>\n",
       "      <td>fail</td>\n",
       "    </tr>\n",
       "    <tr>\n",
       "      <th>35</th>\n",
       "      <td>Manisha Shetti</td>\n",
       "      <td>25</td>\n",
       "      <td>83.33</td>\n",
       "      <td>pass</td>\n",
       "    </tr>\n",
       "  </tbody>\n",
       "</table>\n",
       "</div>"
      ],
      "text/plain": [
       "                          name  marks  percentage status\n",
       "0              Dhananjay Patil     22       73.33   pass\n",
       "1               Jeevanandham J     27       90.00   pass\n",
       "2                  Gogulnath V     27       90.00   pass\n",
       "3                Prajwal Mirji     28       93.33   pass\n",
       "4                Varun Sangeet     29       96.67   pass\n",
       "5     Pratiksha Budarkattimath     26       86.67   pass\n",
       "6             Sheetal Hiremath     13       43.33   fail\n",
       "7            Srigouri Kulkarni     20       66.67   fail\n",
       "8             Soumya S Bhujang     20       66.67   fail\n",
       "9               Keerti Bhagwat     20       66.67   fail\n",
       "10             Maruti Desurkar     24       80.00   pass\n",
       "11             Apoorva Naregal     18       60.00   fail\n",
       "12                Divya Pathak     28       93.33   pass\n",
       "13                  Saurav Rai     24       80.00   pass\n",
       "14             Maria Sebastian     15       50.00   fail\n",
       "15              Sanjai Kanth P     25       83.33   pass\n",
       "16            Madhushri Jadhav     21       70.00   pass\n",
       "17             Anusha Kengapur     19       63.33   fail\n",
       "18  Sahaya Jai Kishoe Jenalraj     25       83.33   pass\n",
       "19                  Chandran R     26       86.67   pass\n",
       "20                    Kaviya G     20       66.67   fail\n",
       "21              Riya Arawatagi     20       66.67   fail\n",
       "22     K S Vaishnavi Vaishnavi     26       86.67   pass\n",
       "23                    Harini S     23       76.67   pass\n",
       "24              Neelambika Y H     26       86.67   pass\n",
       "25    Rachita Shankagoudashani     16       53.33   fail\n",
       "26     Vaishnavi Narayan Patil     26       86.67   pass\n",
       "27            Hariharan Suresh     23       76.67   pass\n",
       "28           Saishankar Yenagi     22       73.33   pass\n",
       "29             Neha G Kulkarni     21       70.00   pass\n",
       "30               Aditi Yuvaraj     21       70.00   pass\n",
       "31            Pallavi Mudakavi     21       70.00   pass\n",
       "32             Kamalaxi Hasabi     20       66.67   fail\n",
       "33                 Shivani Rao     21       70.00   pass\n",
       "34             Megha Meharwade     20       66.67   fail\n",
       "35              Manisha Shetti     25       83.33   pass"
      ]
     },
     "execution_count": 184,
     "metadata": {},
     "output_type": "execute_result"
    }
   ],
   "source": [
    "data.loc[data['marks']>=21, 'status']='pass'\n",
    "data.loc[data['marks']<21, 'status']='fail'\n",
    "data"
   ]
  },
  {
   "cell_type": "code",
   "execution_count": 185,
   "id": "3bfde403",
   "metadata": {
    "collapsed": true
   },
   "outputs": [
    {
     "data": {
      "text/html": [
       "<div>\n",
       "<style scoped>\n",
       "    .dataframe tbody tr th:only-of-type {\n",
       "        vertical-align: middle;\n",
       "    }\n",
       "\n",
       "    .dataframe tbody tr th {\n",
       "        vertical-align: top;\n",
       "    }\n",
       "\n",
       "    .dataframe thead th {\n",
       "        text-align: right;\n",
       "    }\n",
       "</style>\n",
       "<table border=\"1\" class=\"dataframe\">\n",
       "  <thead>\n",
       "    <tr style=\"text-align: right;\">\n",
       "      <th></th>\n",
       "      <th>name</th>\n",
       "      <th>marks</th>\n",
       "      <th>percentage</th>\n",
       "      <th>status</th>\n",
       "    </tr>\n",
       "  </thead>\n",
       "  <tbody>\n",
       "    <tr>\n",
       "      <th>0</th>\n",
       "      <td>Dhananjay Patil</td>\n",
       "      <td>22</td>\n",
       "      <td>73.33</td>\n",
       "      <td>pass</td>\n",
       "    </tr>\n",
       "    <tr>\n",
       "      <th>1</th>\n",
       "      <td>Jeevanandham J</td>\n",
       "      <td>27</td>\n",
       "      <td>90.00</td>\n",
       "      <td>pass</td>\n",
       "    </tr>\n",
       "    <tr>\n",
       "      <th>2</th>\n",
       "      <td>Gogulnath V</td>\n",
       "      <td>27</td>\n",
       "      <td>90.00</td>\n",
       "      <td>pass</td>\n",
       "    </tr>\n",
       "    <tr>\n",
       "      <th>3</th>\n",
       "      <td>Prajwal Mirji</td>\n",
       "      <td>28</td>\n",
       "      <td>93.33</td>\n",
       "      <td>pass</td>\n",
       "    </tr>\n",
       "    <tr>\n",
       "      <th>4</th>\n",
       "      <td>Varun Sangeet</td>\n",
       "      <td>29</td>\n",
       "      <td>96.67</td>\n",
       "      <td>pass</td>\n",
       "    </tr>\n",
       "    <tr>\n",
       "      <th>5</th>\n",
       "      <td>Pratiksha Budarkattimath</td>\n",
       "      <td>26</td>\n",
       "      <td>86.67</td>\n",
       "      <td>pass</td>\n",
       "    </tr>\n",
       "    <tr>\n",
       "      <th>6</th>\n",
       "      <td>Sheetal Hiremath</td>\n",
       "      <td>13</td>\n",
       "      <td>43.33</td>\n",
       "      <td>fail</td>\n",
       "    </tr>\n",
       "    <tr>\n",
       "      <th>7</th>\n",
       "      <td>Srigouri Kulkarni</td>\n",
       "      <td>20</td>\n",
       "      <td>66.67</td>\n",
       "      <td>fail</td>\n",
       "    </tr>\n",
       "    <tr>\n",
       "      <th>8</th>\n",
       "      <td>Soumya S Bhujang</td>\n",
       "      <td>20</td>\n",
       "      <td>66.67</td>\n",
       "      <td>fail</td>\n",
       "    </tr>\n",
       "    <tr>\n",
       "      <th>9</th>\n",
       "      <td>Keerti Bhagwat</td>\n",
       "      <td>20</td>\n",
       "      <td>66.67</td>\n",
       "      <td>fail</td>\n",
       "    </tr>\n",
       "    <tr>\n",
       "      <th>10</th>\n",
       "      <td>Maruti Desurkar</td>\n",
       "      <td>24</td>\n",
       "      <td>80.00</td>\n",
       "      <td>pass</td>\n",
       "    </tr>\n",
       "    <tr>\n",
       "      <th>11</th>\n",
       "      <td>Apoorva Naregal</td>\n",
       "      <td>18</td>\n",
       "      <td>60.00</td>\n",
       "      <td>fail</td>\n",
       "    </tr>\n",
       "    <tr>\n",
       "      <th>12</th>\n",
       "      <td>Divya Pathak</td>\n",
       "      <td>28</td>\n",
       "      <td>93.33</td>\n",
       "      <td>pass</td>\n",
       "    </tr>\n",
       "    <tr>\n",
       "      <th>13</th>\n",
       "      <td>Saurav Rai</td>\n",
       "      <td>24</td>\n",
       "      <td>80.00</td>\n",
       "      <td>pass</td>\n",
       "    </tr>\n",
       "    <tr>\n",
       "      <th>14</th>\n",
       "      <td>Maria Sebastian</td>\n",
       "      <td>15</td>\n",
       "      <td>50.00</td>\n",
       "      <td>fail</td>\n",
       "    </tr>\n",
       "    <tr>\n",
       "      <th>15</th>\n",
       "      <td>Sanjai Kanth P</td>\n",
       "      <td>25</td>\n",
       "      <td>83.33</td>\n",
       "      <td>pass</td>\n",
       "    </tr>\n",
       "    <tr>\n",
       "      <th>16</th>\n",
       "      <td>Madhushri Jadhav</td>\n",
       "      <td>21</td>\n",
       "      <td>70.00</td>\n",
       "      <td>pass</td>\n",
       "    </tr>\n",
       "    <tr>\n",
       "      <th>17</th>\n",
       "      <td>Anusha Kengapur</td>\n",
       "      <td>19</td>\n",
       "      <td>63.33</td>\n",
       "      <td>fail</td>\n",
       "    </tr>\n",
       "    <tr>\n",
       "      <th>18</th>\n",
       "      <td>Sahaya Jai Kishoe Jenalraj</td>\n",
       "      <td>25</td>\n",
       "      <td>83.33</td>\n",
       "      <td>pass</td>\n",
       "    </tr>\n",
       "    <tr>\n",
       "      <th>19</th>\n",
       "      <td>Chandran R</td>\n",
       "      <td>26</td>\n",
       "      <td>86.67</td>\n",
       "      <td>pass</td>\n",
       "    </tr>\n",
       "    <tr>\n",
       "      <th>20</th>\n",
       "      <td>Kaviya G</td>\n",
       "      <td>20</td>\n",
       "      <td>66.67</td>\n",
       "      <td>fail</td>\n",
       "    </tr>\n",
       "    <tr>\n",
       "      <th>21</th>\n",
       "      <td>Riya Arawatagi</td>\n",
       "      <td>20</td>\n",
       "      <td>66.67</td>\n",
       "      <td>fail</td>\n",
       "    </tr>\n",
       "    <tr>\n",
       "      <th>22</th>\n",
       "      <td>K S Vaishnavi Vaishnavi</td>\n",
       "      <td>26</td>\n",
       "      <td>86.67</td>\n",
       "      <td>pass</td>\n",
       "    </tr>\n",
       "    <tr>\n",
       "      <th>23</th>\n",
       "      <td>Harini S</td>\n",
       "      <td>23</td>\n",
       "      <td>76.67</td>\n",
       "      <td>pass</td>\n",
       "    </tr>\n",
       "    <tr>\n",
       "      <th>24</th>\n",
       "      <td>Neelambika Y H</td>\n",
       "      <td>26</td>\n",
       "      <td>86.67</td>\n",
       "      <td>pass</td>\n",
       "    </tr>\n",
       "    <tr>\n",
       "      <th>25</th>\n",
       "      <td>Rachita Shankagoudashani</td>\n",
       "      <td>16</td>\n",
       "      <td>53.33</td>\n",
       "      <td>fail</td>\n",
       "    </tr>\n",
       "    <tr>\n",
       "      <th>26</th>\n",
       "      <td>Vaishnavi Narayan Patil</td>\n",
       "      <td>26</td>\n",
       "      <td>86.67</td>\n",
       "      <td>pass</td>\n",
       "    </tr>\n",
       "    <tr>\n",
       "      <th>27</th>\n",
       "      <td>Hariharan Suresh</td>\n",
       "      <td>23</td>\n",
       "      <td>76.67</td>\n",
       "      <td>pass</td>\n",
       "    </tr>\n",
       "    <tr>\n",
       "      <th>28</th>\n",
       "      <td>Saishankar Yenagi</td>\n",
       "      <td>22</td>\n",
       "      <td>73.33</td>\n",
       "      <td>pass</td>\n",
       "    </tr>\n",
       "    <tr>\n",
       "      <th>29</th>\n",
       "      <td>Neha G Kulkarni</td>\n",
       "      <td>21</td>\n",
       "      <td>70.00</td>\n",
       "      <td>pass</td>\n",
       "    </tr>\n",
       "    <tr>\n",
       "      <th>30</th>\n",
       "      <td>Aditi Yuvaraj</td>\n",
       "      <td>21</td>\n",
       "      <td>70.00</td>\n",
       "      <td>pass</td>\n",
       "    </tr>\n",
       "    <tr>\n",
       "      <th>31</th>\n",
       "      <td>Pallavi Mudakavi</td>\n",
       "      <td>21</td>\n",
       "      <td>70.00</td>\n",
       "      <td>pass</td>\n",
       "    </tr>\n",
       "    <tr>\n",
       "      <th>32</th>\n",
       "      <td>Kamalaxi Hasabi</td>\n",
       "      <td>20</td>\n",
       "      <td>66.67</td>\n",
       "      <td>fail</td>\n",
       "    </tr>\n",
       "    <tr>\n",
       "      <th>33</th>\n",
       "      <td>Shivani Rao</td>\n",
       "      <td>21</td>\n",
       "      <td>70.00</td>\n",
       "      <td>pass</td>\n",
       "    </tr>\n",
       "    <tr>\n",
       "      <th>34</th>\n",
       "      <td>Megha Meharwade</td>\n",
       "      <td>20</td>\n",
       "      <td>66.67</td>\n",
       "      <td>fail</td>\n",
       "    </tr>\n",
       "    <tr>\n",
       "      <th>35</th>\n",
       "      <td>Manisha Shetti</td>\n",
       "      <td>25</td>\n",
       "      <td>83.33</td>\n",
       "      <td>pass</td>\n",
       "    </tr>\n",
       "  </tbody>\n",
       "</table>\n",
       "</div>"
      ],
      "text/plain": [
       "                          name  marks  percentage status\n",
       "0              Dhananjay Patil     22       73.33   pass\n",
       "1               Jeevanandham J     27       90.00   pass\n",
       "2                  Gogulnath V     27       90.00   pass\n",
       "3                Prajwal Mirji     28       93.33   pass\n",
       "4                Varun Sangeet     29       96.67   pass\n",
       "5     Pratiksha Budarkattimath     26       86.67   pass\n",
       "6             Sheetal Hiremath     13       43.33   fail\n",
       "7            Srigouri Kulkarni     20       66.67   fail\n",
       "8             Soumya S Bhujang     20       66.67   fail\n",
       "9               Keerti Bhagwat     20       66.67   fail\n",
       "10             Maruti Desurkar     24       80.00   pass\n",
       "11             Apoorva Naregal     18       60.00   fail\n",
       "12                Divya Pathak     28       93.33   pass\n",
       "13                  Saurav Rai     24       80.00   pass\n",
       "14             Maria Sebastian     15       50.00   fail\n",
       "15              Sanjai Kanth P     25       83.33   pass\n",
       "16            Madhushri Jadhav     21       70.00   pass\n",
       "17             Anusha Kengapur     19       63.33   fail\n",
       "18  Sahaya Jai Kishoe Jenalraj     25       83.33   pass\n",
       "19                  Chandran R     26       86.67   pass\n",
       "20                    Kaviya G     20       66.67   fail\n",
       "21              Riya Arawatagi     20       66.67   fail\n",
       "22     K S Vaishnavi Vaishnavi     26       86.67   pass\n",
       "23                    Harini S     23       76.67   pass\n",
       "24              Neelambika Y H     26       86.67   pass\n",
       "25    Rachita Shankagoudashani     16       53.33   fail\n",
       "26     Vaishnavi Narayan Patil     26       86.67   pass\n",
       "27            Hariharan Suresh     23       76.67   pass\n",
       "28           Saishankar Yenagi     22       73.33   pass\n",
       "29             Neha G Kulkarni     21       70.00   pass\n",
       "30               Aditi Yuvaraj     21       70.00   pass\n",
       "31            Pallavi Mudakavi     21       70.00   pass\n",
       "32             Kamalaxi Hasabi     20       66.67   fail\n",
       "33                 Shivani Rao     21       70.00   pass\n",
       "34             Megha Meharwade     20       66.67   fail\n",
       "35              Manisha Shetti     25       83.33   pass"
      ]
     },
     "execution_count": 185,
     "metadata": {},
     "output_type": "execute_result"
    }
   ],
   "source": [
    "data['status']=data['marks'].apply(lambda x: 'pass' if x>=21 else 'fail')\n",
    "data"
   ]
  },
  {
   "cell_type": "code",
   "execution_count": 186,
   "id": "67da2f28",
   "metadata": {},
   "outputs": [
    {
     "data": {
      "text/plain": [
       "pass    24\n",
       "fail    12\n",
       "Name: status, dtype: int64"
      ]
     },
     "execution_count": 186,
     "metadata": {},
     "output_type": "execute_result"
    }
   ],
   "source": [
    "data['status'].value_counts()"
   ]
  },
  {
   "cell_type": "code",
   "execution_count": 187,
   "id": "b5c42b0b",
   "metadata": {},
   "outputs": [
    {
     "data": {
      "text/plain": [
       "<AxesSubplot:>"
      ]
     },
     "execution_count": 187,
     "metadata": {},
     "output_type": "execute_result"
    },
    {
     "data": {
      "image/png": "[encoded data removed]",
      "text/plain": [
       "<Figure size 432x288 with 1 Axes>"
      ]
     },
     "metadata": {
      "needs_background": "light"
     },
     "output_type": "display_data"
    }
   ],
   "source": [
    "data['status'].value_counts().plot.bar()"
   ]
  },
  {
   "cell_type": "code",
   "execution_count": 190,
   "id": "a75751a0",
   "metadata": {},
   "outputs": [
    {
     "name": "stdout",
     "output_type": "stream",
     "text": [
      "32\n"
     ]
    }
   ],
   "source": [
    "# reading HTML\n",
    "ht=pd.read_html('https://en.wikipedia.org/wiki/London')\n",
    "print(len(ht))"
   ]
  },
  {
   "cell_type": "code",
   "execution_count": 195,
   "id": "d7ab733c",
   "metadata": {},
   "outputs": [
    {
     "data": {
      "text/html": [
       "<div>\n",
       "<style scoped>\n",
       "    .dataframe tbody tr th:only-of-type {\n",
       "        vertical-align: middle;\n",
       "    }\n",
       "\n",
       "    .dataframe tbody tr th {\n",
       "        vertical-align: top;\n",
       "    }\n",
       "\n",
       "    .dataframe thead tr th {\n",
       "        text-align: left;\n",
       "    }\n",
       "</style>\n",
       "<table border=\"1\" class=\"dataframe\">\n",
       "  <thead>\n",
       "    <tr>\n",
       "      <th></th>\n",
       "      <th colspan=\"2\" halign=\"left\">Country of Birth</th>\n",
       "      <th>Population</th>\n",
       "      <th>Percent</th>\n",
       "    </tr>\n",
       "    <tr>\n",
       "      <th></th>\n",
       "      <th colspan=\"2\" halign=\"left\">United Kingdom</th>\n",
       "      <th>5,223,986</th>\n",
       "      <th>59.4</th>\n",
       "    </tr>\n",
       "    <tr>\n",
       "      <th></th>\n",
       "      <th>Non-United Kingdom</th>\n",
       "      <th>Non-United Kingdom.1</th>\n",
       "      <th>3,575,739</th>\n",
       "      <th>40.6</th>\n",
       "    </tr>\n",
       "  </thead>\n",
       "  <tbody>\n",
       "    <tr>\n",
       "      <th>0</th>\n",
       "      <td>NaN</td>\n",
       "      <td>India</td>\n",
       "      <td>322644</td>\n",
       "      <td>3.7</td>\n",
       "    </tr>\n",
       "    <tr>\n",
       "      <th>1</th>\n",
       "      <td>NaN</td>\n",
       "      <td>Romania</td>\n",
       "      <td>175991</td>\n",
       "      <td>2.0</td>\n",
       "    </tr>\n",
       "    <tr>\n",
       "      <th>2</th>\n",
       "      <td>NaN</td>\n",
       "      <td>Poland</td>\n",
       "      <td>149397</td>\n",
       "      <td>1.7</td>\n",
       "    </tr>\n",
       "    <tr>\n",
       "      <th>3</th>\n",
       "      <td>NaN</td>\n",
       "      <td>Bangladesh</td>\n",
       "      <td>138895</td>\n",
       "      <td>1.6</td>\n",
       "    </tr>\n",
       "    <tr>\n",
       "      <th>4</th>\n",
       "      <td>NaN</td>\n",
       "      <td>Pakistan</td>\n",
       "      <td>129774</td>\n",
       "      <td>1.5</td>\n",
       "    </tr>\n",
       "    <tr>\n",
       "      <th>5</th>\n",
       "      <td>NaN</td>\n",
       "      <td>Italy</td>\n",
       "      <td>126059</td>\n",
       "      <td>1.4</td>\n",
       "    </tr>\n",
       "    <tr>\n",
       "      <th>6</th>\n",
       "      <td>NaN</td>\n",
       "      <td>Nigeria</td>\n",
       "      <td>117145</td>\n",
       "      <td>1.3</td>\n",
       "    </tr>\n",
       "    <tr>\n",
       "      <th>7</th>\n",
       "      <td>NaN</td>\n",
       "      <td>Ireland</td>\n",
       "      <td>96566</td>\n",
       "      <td>1.1</td>\n",
       "    </tr>\n",
       "    <tr>\n",
       "      <th>8</th>\n",
       "      <td>NaN</td>\n",
       "      <td>Sri Lanka</td>\n",
       "      <td>80379</td>\n",
       "      <td>0.9</td>\n",
       "    </tr>\n",
       "    <tr>\n",
       "      <th>9</th>\n",
       "      <td>NaN</td>\n",
       "      <td>France</td>\n",
       "      <td>77715</td>\n",
       "      <td>0.9</td>\n",
       "    </tr>\n",
       "    <tr>\n",
       "      <th>10</th>\n",
       "      <td>NaN</td>\n",
       "      <td>Others</td>\n",
       "      <td>2161174</td>\n",
       "      <td>24.6</td>\n",
       "    </tr>\n",
       "    <tr>\n",
       "      <th>11</th>\n",
       "      <td>Total</td>\n",
       "      <td>Total</td>\n",
       "      <td>8799725</td>\n",
       "      <td>100.0</td>\n",
       "    </tr>\n",
       "  </tbody>\n",
       "</table>\n",
       "</div>"
      ],
      "text/plain": [
       "     Country of Birth                      Population Percent\n",
       "       United Kingdom                       5,223,986    59.4\n",
       "   Non-United Kingdom Non-United Kingdom.1  3,575,739    40.6\n",
       "0                 NaN                India     322644     3.7\n",
       "1                 NaN              Romania     175991     2.0\n",
       "2                 NaN               Poland     149397     1.7\n",
       "3                 NaN           Bangladesh     138895     1.6\n",
       "4                 NaN             Pakistan     129774     1.5\n",
       "5                 NaN                Italy     126059     1.4\n",
       "6                 NaN              Nigeria     117145     1.3\n",
       "7                 NaN              Ireland      96566     1.1\n",
       "8                 NaN            Sri Lanka      80379     0.9\n",
       "9                 NaN               France      77715     0.9\n",
       "10                NaN               Others    2161174    24.6\n",
       "11              Total                Total    8799725   100.0"
      ]
     },
     "execution_count": 195,
     "metadata": {},
     "output_type": "execute_result"
    }
   ],
   "source": [
    "ht[7]"
   ]
  },
  {
   "cell_type": "code",
   "execution_count": 196,
   "id": "90ebaf7f",
   "metadata": {
    "collapsed": true
   },
   "outputs": [
    {
     "data": {
      "text/html": [
       "<div>\n",
       "<style scoped>\n",
       "    .dataframe tbody tr th:only-of-type {\n",
       "        vertical-align: middle;\n",
       "    }\n",
       "\n",
       "    .dataframe tbody tr th {\n",
       "        vertical-align: top;\n",
       "    }\n",
       "\n",
       "    .dataframe thead th {\n",
       "        text-align: right;\n",
       "    }\n",
       "</style>\n",
       "<table border=\"1\" class=\"dataframe\">\n",
       "  <thead>\n",
       "    <tr style=\"text-align: right;\">\n",
       "      <th></th>\n",
       "      <th>name</th>\n",
       "      <th>marks</th>\n",
       "    </tr>\n",
       "  </thead>\n",
       "  <tbody>\n",
       "    <tr>\n",
       "      <th>0</th>\n",
       "      <td>Dhananjay Patil</td>\n",
       "      <td>22</td>\n",
       "    </tr>\n",
       "    <tr>\n",
       "      <th>1</th>\n",
       "      <td>Jeevanandham J</td>\n",
       "      <td>27</td>\n",
       "    </tr>\n",
       "    <tr>\n",
       "      <th>2</th>\n",
       "      <td>Gogulnath V</td>\n",
       "      <td>27</td>\n",
       "    </tr>\n",
       "    <tr>\n",
       "      <th>3</th>\n",
       "      <td>Prajwal Mirji</td>\n",
       "      <td>28</td>\n",
       "    </tr>\n",
       "    <tr>\n",
       "      <th>4</th>\n",
       "      <td>Varun Sangeet</td>\n",
       "      <td>29</td>\n",
       "    </tr>\n",
       "    <tr>\n",
       "      <th>5</th>\n",
       "      <td>Pratiksha Budarkattimath</td>\n",
       "      <td>26</td>\n",
       "    </tr>\n",
       "    <tr>\n",
       "      <th>6</th>\n",
       "      <td>Sheetal Hiremath</td>\n",
       "      <td>13</td>\n",
       "    </tr>\n",
       "    <tr>\n",
       "      <th>7</th>\n",
       "      <td>Srigouri Kulkarni</td>\n",
       "      <td>20</td>\n",
       "    </tr>\n",
       "    <tr>\n",
       "      <th>8</th>\n",
       "      <td>Soumya S Bhujang</td>\n",
       "      <td>20</td>\n",
       "    </tr>\n",
       "    <tr>\n",
       "      <th>9</th>\n",
       "      <td>Keerti Bhagwat</td>\n",
       "      <td>20</td>\n",
       "    </tr>\n",
       "    <tr>\n",
       "      <th>10</th>\n",
       "      <td>Maruti Desurkar</td>\n",
       "      <td>24</td>\n",
       "    </tr>\n",
       "    <tr>\n",
       "      <th>11</th>\n",
       "      <td>Apoorva Naregal</td>\n",
       "      <td>18</td>\n",
       "    </tr>\n",
       "    <tr>\n",
       "      <th>12</th>\n",
       "      <td>Divya Pathak</td>\n",
       "      <td>28</td>\n",
       "    </tr>\n",
       "    <tr>\n",
       "      <th>13</th>\n",
       "      <td>Saurav Rai</td>\n",
       "      <td>24</td>\n",
       "    </tr>\n",
       "    <tr>\n",
       "      <th>14</th>\n",
       "      <td>Maria Sebastian</td>\n",
       "      <td>15</td>\n",
       "    </tr>\n",
       "    <tr>\n",
       "      <th>15</th>\n",
       "      <td>Sanjai Kanth P</td>\n",
       "      <td>25</td>\n",
       "    </tr>\n",
       "    <tr>\n",
       "      <th>16</th>\n",
       "      <td>Madhushri Jadhav</td>\n",
       "      <td>21</td>\n",
       "    </tr>\n",
       "    <tr>\n",
       "      <th>17</th>\n",
       "      <td>Anusha Kengapur</td>\n",
       "      <td>19</td>\n",
       "    </tr>\n",
       "    <tr>\n",
       "      <th>18</th>\n",
       "      <td>Sahaya Jai Kishoe Jenalraj</td>\n",
       "      <td>25</td>\n",
       "    </tr>\n",
       "    <tr>\n",
       "      <th>19</th>\n",
       "      <td>Chandran R</td>\n",
       "      <td>26</td>\n",
       "    </tr>\n",
       "    <tr>\n",
       "      <th>20</th>\n",
       "      <td>Kaviya G</td>\n",
       "      <td>20</td>\n",
       "    </tr>\n",
       "    <tr>\n",
       "      <th>21</th>\n",
       "      <td>Riya Arawatagi</td>\n",
       "      <td>20</td>\n",
       "    </tr>\n",
       "    <tr>\n",
       "      <th>22</th>\n",
       "      <td>K S Vaishnavi Vaishnavi</td>\n",
       "      <td>26</td>\n",
       "    </tr>\n",
       "    <tr>\n",
       "      <th>23</th>\n",
       "      <td>Harini S</td>\n",
       "      <td>23</td>\n",
       "    </tr>\n",
       "    <tr>\n",
       "      <th>24</th>\n",
       "      <td>Neelambika Y H</td>\n",
       "      <td>26</td>\n",
       "    </tr>\n",
       "    <tr>\n",
       "      <th>25</th>\n",
       "      <td>Rachita Shankagoudashani</td>\n",
       "      <td>16</td>\n",
       "    </tr>\n",
       "    <tr>\n",
       "      <th>26</th>\n",
       "      <td>Vaishnavi Narayan Patil</td>\n",
       "      <td>26</td>\n",
       "    </tr>\n",
       "    <tr>\n",
       "      <th>27</th>\n",
       "      <td>Hariharan Suresh</td>\n",
       "      <td>23</td>\n",
       "    </tr>\n",
       "    <tr>\n",
       "      <th>28</th>\n",
       "      <td>Saishankar Yenagi</td>\n",
       "      <td>22</td>\n",
       "    </tr>\n",
       "    <tr>\n",
       "      <th>29</th>\n",
       "      <td>Neha G Kulkarni</td>\n",
       "      <td>21</td>\n",
       "    </tr>\n",
       "    <tr>\n",
       "      <th>30</th>\n",
       "      <td>Aditi Yuvaraj</td>\n",
       "      <td>21</td>\n",
       "    </tr>\n",
       "    <tr>\n",
       "      <th>31</th>\n",
       "      <td>Pallavi Mudakavi</td>\n",
       "      <td>21</td>\n",
       "    </tr>\n",
       "    <tr>\n",
       "      <th>32</th>\n",
       "      <td>Kamalaxi Hasabi</td>\n",
       "      <td>20</td>\n",
       "    </tr>\n",
       "    <tr>\n",
       "      <th>33</th>\n",
       "      <td>Shivani Rao</td>\n",
       "      <td>21</td>\n",
       "    </tr>\n",
       "    <tr>\n",
       "      <th>34</th>\n",
       "      <td>Megha Meharwade</td>\n",
       "      <td>20</td>\n",
       "    </tr>\n",
       "    <tr>\n",
       "      <th>35</th>\n",
       "      <td>Manisha Shetti</td>\n",
       "      <td>25</td>\n",
       "    </tr>\n",
       "  </tbody>\n",
       "</table>\n",
       "</div>"
      ],
      "text/plain": [
       "                          name  marks\n",
       "0              Dhananjay Patil     22\n",
       "1               Jeevanandham J     27\n",
       "2                  Gogulnath V     27\n",
       "3                Prajwal Mirji     28\n",
       "4                Varun Sangeet     29\n",
       "5     Pratiksha Budarkattimath     26\n",
       "6             Sheetal Hiremath     13\n",
       "7            Srigouri Kulkarni     20\n",
       "8             Soumya S Bhujang     20\n",
       "9               Keerti Bhagwat     20\n",
       "10             Maruti Desurkar     24\n",
       "11             Apoorva Naregal     18\n",
       "12                Divya Pathak     28\n",
       "13                  Saurav Rai     24\n",
       "14             Maria Sebastian     15\n",
       "15              Sanjai Kanth P     25\n",
       "16            Madhushri Jadhav     21\n",
       "17             Anusha Kengapur     19\n",
       "18  Sahaya Jai Kishoe Jenalraj     25\n",
       "19                  Chandran R     26\n",
       "20                    Kaviya G     20\n",
       "21              Riya Arawatagi     20\n",
       "22     K S Vaishnavi Vaishnavi     26\n",
       "23                    Harini S     23\n",
       "24              Neelambika Y H     26\n",
       "25    Rachita Shankagoudashani     16\n",
       "26     Vaishnavi Narayan Patil     26\n",
       "27            Hariharan Suresh     23\n",
       "28           Saishankar Yenagi     22\n",
       "29             Neha G Kulkarni     21\n",
       "30               Aditi Yuvaraj     21\n",
       "31            Pallavi Mudakavi     21\n",
       "32             Kamalaxi Hasabi     20\n",
       "33                 Shivani Rao     21\n",
       "34             Megha Meharwade     20\n",
       "35              Manisha Shetti     25"
      ]
     },
     "execution_count": 196,
     "metadata": {},
     "output_type": "execute_result"
    }
   ],
   "source": [
    "csv=pd.read_csv('marks.csv')\n",
    "csv"
   ]
  },
  {
   "cell_type": "code",
   "execution_count": 197,
   "id": "bd63e8f2",
   "metadata": {},
   "outputs": [
    {
     "data": {
      "text/html": [
       "<div>\n",
       "<style scoped>\n",
       "    .dataframe tbody tr th:only-of-type {\n",
       "        vertical-align: middle;\n",
       "    }\n",
       "\n",
       "    .dataframe tbody tr th {\n",
       "        vertical-align: top;\n",
       "    }\n",
       "\n",
       "    .dataframe thead th {\n",
       "        text-align: right;\n",
       "    }\n",
       "</style>\n",
       "<table border=\"1\" class=\"dataframe\">\n",
       "  <thead>\n",
       "    <tr style=\"text-align: right;\">\n",
       "      <th></th>\n",
       "      <th>name</th>\n",
       "      <th>marks</th>\n",
       "      <th>status</th>\n",
       "    </tr>\n",
       "  </thead>\n",
       "  <tbody>\n",
       "    <tr>\n",
       "      <th>0</th>\n",
       "      <td>prateek</td>\n",
       "      <td>90</td>\n",
       "      <td>pass</td>\n",
       "    </tr>\n",
       "    <tr>\n",
       "      <th>1</th>\n",
       "      <td>nitin</td>\n",
       "      <td>80</td>\n",
       "      <td>pass</td>\n",
       "    </tr>\n",
       "    <tr>\n",
       "      <th>2</th>\n",
       "      <td>rohit</td>\n",
       "      <td>65</td>\n",
       "      <td>fail</td>\n",
       "    </tr>\n",
       "    <tr>\n",
       "      <th>3</th>\n",
       "      <td>sumit</td>\n",
       "      <td>95</td>\n",
       "      <td>topper</td>\n",
       "    </tr>\n",
       "  </tbody>\n",
       "</table>\n",
       "</div>"
      ],
      "text/plain": [
       "      name   marks   status\n",
       "0  prateek      90     pass\n",
       "1    nitin      80     pass\n",
       "2    rohit      65     fail\n",
       "3    sumit      95   topper"
      ]
     },
     "execution_count": 197,
     "metadata": {},
     "output_type": "execute_result"
    }
   ],
   "source": [
    "data=pd.read_csv('mytext.txt', delimiter=',')\n",
    "data"
   ]
  },
  {
   "cell_type": "code",
   "execution_count": 199,
   "id": "b64f1c32",
   "metadata": {},
   "outputs": [],
   "source": [
    "data.to_csv('newdata.csv')"
   ]
  },
  {
   "cell_type": "code",
   "execution_count": 202,
   "id": "a147ec83",
   "metadata": {},
   "outputs": [],
   "source": [
    "html='''\n",
    "<html><head></head><body>\n",
    "<table><head><th>Name<th>City\n",
    "<tr><td>prateek<td>Meerut\n",
    "<tr><td>sheetal<td>Hubli\n",
    "<tr><td>Sanjai<td>Chennai\n",
    "<tr><td>Dhananjai<td>Mumbai\n",
    "<tr><td>Saurav<td>Kolkatta\n",
    "<tr><td>Keerthi<td>Bangalore\n",
    "</body></html>\n",
    "'''"
   ]
  },
  {
   "cell_type": "code",
   "execution_count": 205,
   "id": "b2003ffe",
   "metadata": {},
   "outputs": [
    {
     "data": {
      "text/html": [
       "<div>\n",
       "<style scoped>\n",
       "    .dataframe tbody tr th:only-of-type {\n",
       "        vertical-align: middle;\n",
       "    }\n",
       "\n",
       "    .dataframe tbody tr th {\n",
       "        vertical-align: top;\n",
       "    }\n",
       "\n",
       "    .dataframe thead th {\n",
       "        text-align: right;\n",
       "    }\n",
       "</style>\n",
       "<table border=\"1\" class=\"dataframe\">\n",
       "  <thead>\n",
       "    <tr style=\"text-align: right;\">\n",
       "      <th></th>\n",
       "      <th>name</th>\n",
       "      <th>city</th>\n",
       "    </tr>\n",
       "  </thead>\n",
       "  <tbody>\n",
       "    <tr>\n",
       "      <th>0</th>\n",
       "      <td>prateek</td>\n",
       "      <td>Meerut</td>\n",
       "    </tr>\n",
       "    <tr>\n",
       "      <th>1</th>\n",
       "      <td>sheetal</td>\n",
       "      <td>Hubli</td>\n",
       "    </tr>\n",
       "    <tr>\n",
       "      <th>2</th>\n",
       "      <td>Sanjai</td>\n",
       "      <td>Chennai</td>\n",
       "    </tr>\n",
       "    <tr>\n",
       "      <th>3</th>\n",
       "      <td>Dhananjai</td>\n",
       "      <td>Mumbai</td>\n",
       "    </tr>\n",
       "    <tr>\n",
       "      <th>4</th>\n",
       "      <td>Saurav</td>\n",
       "      <td>Kolkatta</td>\n",
       "    </tr>\n",
       "    <tr>\n",
       "      <th>5</th>\n",
       "      <td>Keerthi</td>\n",
       "      <td>Bangalore</td>\n",
       "    </tr>\n",
       "  </tbody>\n",
       "</table>\n",
       "</div>"
      ],
      "text/plain": [
       "        name       city\n",
       "0    prateek     Meerut\n",
       "1    sheetal      Hubli\n",
       "2     Sanjai    Chennai\n",
       "3  Dhananjai     Mumbai\n",
       "4     Saurav   Kolkatta\n",
       "5    Keerthi  Bangalore"
      ]
     },
     "execution_count": 205,
     "metadata": {},
     "output_type": "execute_result"
    }
   ],
   "source": [
    "ht=pd.read_html(html)\n",
    "ht[0].columns=['name','city']\n",
    "ht[0]"
   ]
  },
  {
   "cell_type": "code",
   "execution_count": 208,
   "id": "95fa82ee",
   "metadata": {},
   "outputs": [
    {
     "data": {
      "text/html": [
       "<div>\n",
       "<style scoped>\n",
       "    .dataframe tbody tr th:only-of-type {\n",
       "        vertical-align: middle;\n",
       "    }\n",
       "\n",
       "    .dataframe tbody tr th {\n",
       "        vertical-align: top;\n",
       "    }\n",
       "\n",
       "    .dataframe thead th {\n",
       "        text-align: right;\n",
       "    }\n",
       "</style>\n",
       "<table border=\"1\" class=\"dataframe\">\n",
       "  <thead>\n",
       "    <tr style=\"text-align: right;\">\n",
       "      <th></th>\n",
       "      <th>name</th>\n",
       "      <th>city</th>\n",
       "    </tr>\n",
       "  </thead>\n",
       "  <tbody>\n",
       "    <tr>\n",
       "      <th>r1</th>\n",
       "      <td>prateek</td>\n",
       "      <td>delhi</td>\n",
       "    </tr>\n",
       "    <tr>\n",
       "      <th>r2</th>\n",
       "      <td>aditi</td>\n",
       "      <td>mumbai</td>\n",
       "    </tr>\n",
       "  </tbody>\n",
       "</table>\n",
       "</div>"
      ],
      "text/plain": [
       "       name    city\n",
       "r1  prateek   delhi\n",
       "r2    aditi  mumbai"
      ]
     },
     "execution_count": 208,
     "metadata": {},
     "output_type": "execute_result"
    }
   ],
   "source": [
    "data=pd.read_json('data.json')\n",
    "data"
   ]
  },
  {
   "cell_type": "code",
   "execution_count": null,
   "id": "2f2c3bd3",
   "metadata": {},
   "outputs": [],
   "source": [
    "import code"
   ]
  },
  {
   "cell_type": "code",
   "execution_count": null,
   "id": "af3aeb79",
   "metadata": {},
   "outputs": [],
   "source": [
    "code.fact(5)"
   ]
  },
  {
   "cell_type": "code",
   "execution_count": null,
   "id": "7fa57120",
   "metadata": {},
   "outputs": [],
   "source": []
  },
  {
   "cell_type": "code",
   "execution_count": null,
   "id": "7382e86c",
   "metadata": {},
   "outputs": [],
   "source": []
  }
 ],
 "metadata": {
  "kernelspec": {
   "display_name": "Python 3 (ipykernel)",
   "language": "python",
   "name": "python3"
  },
  "language_info": {
   "codemirror_mode": {
    "name": "ipython",
    "version": 3
   },
   "file_extension": ".py",
   "mimetype": "text/x-python",
   "name": "python",
   "nbconvert_exporter": "python",
   "pygments_lexer": "ipython3",
   "version": "3.9.12"
  }
 },
 "nbformat": 4,
 "nbformat_minor": 5
}
