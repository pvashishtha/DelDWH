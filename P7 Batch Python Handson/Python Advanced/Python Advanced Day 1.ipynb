{
 "cells": [
  {
   "cell_type": "markdown",
   "id": "7853b70d",
   "metadata": {},
   "source": [
    "## Python Advanced Day 1"
   ]
  },
  {
   "cell_type": "markdown",
   "id": "b5580486",
   "metadata": {},
   "source": [
    "### Object Oriented Programming"
   ]
  },
  {
   "cell_type": "code",
   "execution_count": 1,
   "id": "e0f4c2d7",
   "metadata": {},
   "outputs": [],
   "source": [
    "# class <class-name> :     # Class name should start with upper case letter\n",
    "#       props---\n",
    "#       def method1():\n",
    "#       def method2():"
   ]
  },
  {
   "cell_type": "code",
   "execution_count": 2,
   "id": "69d97013",
   "metadata": {},
   "outputs": [],
   "source": [
    "class Student:\n",
    "    rollno=0\n",
    "    name=''\n",
    "    course=''\n",
    "    \n",
    "    def admit_student():\n",
    "        pass\n",
    "    def suspend_student():\n",
    "        pass\n",
    "    def generate_student_result():\n",
    "        pass\n",
    "    def show_all_student_details():\n",
    "        pass\n",
    "    "
   ]
  },
  {
   "cell_type": "code",
   "execution_count": 3,
   "id": "675931aa",
   "metadata": {},
   "outputs": [],
   "source": [
    "# constructor of a class\n",
    "# it is used for initialization\n",
    "# it is automnatically invoked when we create object of a class\n",
    "# it is defined by name __init__\n",
    "\n",
    "class Student:\n",
    "    def __init__(self):        # default constructor\n",
    "        self.rollno=0\n",
    "        self.name=''\n",
    "        self.course=''\n",
    "        return None\n",
    "    def show_details(self):\n",
    "        print(f'{self.name} having roll no as {self.rollno} studies {self.course}')"
   ]
  },
  {
   "cell_type": "code",
   "execution_count": 4,
   "id": "9c4a2e01",
   "metadata": {},
   "outputs": [],
   "source": [
    "rachita=Student()"
   ]
  },
  {
   "cell_type": "code",
   "execution_count": 5,
   "id": "33c42328",
   "metadata": {},
   "outputs": [],
   "source": [
    "rachita.rollno=101\n",
    "rachita.name='Rachita'\n",
    "rachita.course='Python'"
   ]
  },
  {
   "cell_type": "code",
   "execution_count": 6,
   "id": "159e2004",
   "metadata": {},
   "outputs": [
    {
     "name": "stdout",
     "output_type": "stream",
     "text": [
      "Rachita having roll no as 101 studies Python\n",
      "Rachita having roll no as 101 studies Python\n"
     ]
    }
   ],
   "source": [
    "rachita.show_details()"
   ]
  },
  {
   "cell_type": "code",
   "execution_count": 7,
   "id": "e38caa8a",
   "metadata": {},
   "outputs": [
    {
     "name": "stdout",
     "output_type": "stream",
     "text": [
      "Keshav having roll no as 103 studies Java\n",
      "Keshav having roll no as 103 studies Java\n"
     ]
    }
   ],
   "source": [
    "keshav=Student()\n",
    "keshav.rollno=103\n",
    "keshav.name='Keshav'\n",
    "keshav.course='Java'\n",
    "keshav.show_details()"
   ]
  },
  {
   "cell_type": "code",
   "execution_count": 14,
   "id": "8a909848",
   "metadata": {},
   "outputs": [],
   "source": [
    "# parametrised constructor\n",
    "\n",
    "class Student:\n",
    "    def __init__(self, rollno, name, course):\n",
    "        self.rollno=rollno\n",
    "        self.name=name\n",
    "        self.course=course\n",
    "        return None\n",
    "    def show_details(self):\n",
    "        print(f'{self.name} having roll no as {self.rollno} studies {self.course}')\n",
    "        return None\n",
    "    \n",
    "    def __del__(self):\n",
    "        print(f'Object {self} Removed from Memory: {id(self)}')"
   ]
  },
  {
   "cell_type": "code",
   "execution_count": 15,
   "id": "0bcf3e0d",
   "metadata": {},
   "outputs": [],
   "source": [
    "obj1=Student(1001, 'Saurabh','Python')\n",
    "obj2=Student(1002, 'Divya','Java')"
   ]
  },
  {
   "cell_type": "code",
   "execution_count": 16,
   "id": "2e9bf131",
   "metadata": {},
   "outputs": [
    {
     "name": "stdout",
     "output_type": "stream",
     "text": [
      "Saurabh having roll no as 1001 studies Python\n",
      "Saurabh having roll no as 1001 studies Python\n"
     ]
    }
   ],
   "source": [
    "obj1.show_details()"
   ]
  },
  {
   "cell_type": "code",
   "execution_count": 17,
   "id": "fc690ef8",
   "metadata": {},
   "outputs": [
    {
     "name": "stdout",
     "output_type": "stream",
     "text": [
      "Divya having roll no as 1002 studies Java\n",
      "Divya having roll no as 1002 studies Java\n"
     ]
    }
   ],
   "source": [
    "obj2.show_details()"
   ]
  },
  {
   "cell_type": "code",
   "execution_count": 18,
   "id": "6490a0c6",
   "metadata": {},
   "outputs": [
    {
     "name": "stdout",
     "output_type": "stream",
     "text": [
      "Object <__main__.Student object at 0x000001E25102A340> Removed from Memory: 2071533364032\n",
      "Object <__main__.Student object at 0x000001E25102A340> Removed from Memory: 2071533364032\n"
     ]
    }
   ],
   "source": [
    "del obj1"
   ]
  },
  {
   "cell_type": "code",
   "execution_count": 19,
   "id": "f85c3515",
   "metadata": {},
   "outputs": [
    {
     "name": "stdout",
     "output_type": "stream",
     "text": [
      "Object <__main__.Student object at 0x000001E25102A250> Removed from Memory: 2071533363792\n",
      "Object <__main__.Student object at 0x000001E25102A250> Removed from Memory: 2071533363792\n"
     ]
    }
   ],
   "source": [
    "del obj2"
   ]
  },
  {
   "cell_type": "code",
   "execution_count": 20,
   "id": "bd94f39f",
   "metadata": {},
   "outputs": [],
   "source": [
    "# Write a class for employee that performs following operations:\n",
    "# add employee details\n",
    "# modify employee\n",
    "# remove employee\n",
    "# show employee details\n",
    "# calculates employee bonus from salary"
   ]
  },
  {
   "cell_type": "code",
   "execution_count": 44,
   "id": "0e732b70",
   "metadata": {},
   "outputs": [],
   "source": [
    "class Employee:\n",
    "    def __init__(self):\n",
    "        self.eid, self.ename, self.sal, self.bonus, self.dept=self.add_emp()\n",
    "        return None\n",
    "    def add_emp(self):\n",
    "        eid=int(input('Enter EID: '))\n",
    "        ename=input('Enter Name: ')\n",
    "        sal=float(input('Enter Salary: '))\n",
    "        bonus=0\n",
    "        dept=input('Enter Department: ')\n",
    "        return eid, ename, sal, bonus, dept\n",
    "    def edit_emp_sal(self, sal):\n",
    "        self.sal=sal\n",
    "        return 'Salary Updated'\n",
    "    def show_emp(self):\n",
    "        print(f'EID: {self.eid}\\nName: {self.ename}')\n",
    "        print(f'Department: {self.dept}\\nSalary: {self.sal}')\n",
    "        print(f'Bonus Accrued: {self.bonus}')\n",
    "        return None\n",
    "    def calc_bonus(self, factor):\n",
    "        self.bonus+=self.sal*factor\n",
    "        return self.bonus\n",
    "    def remove_emp(self):\n",
    "        del self\n",
    "        return f'Emp Deleted'\n",
    "    def __del__(self):\n",
    "        return None"
   ]
  },
  {
   "cell_type": "code",
   "execution_count": 45,
   "id": "2c4b141c",
   "metadata": {
    "collapsed": true
   },
   "outputs": [
    {
     "name": "stdout",
     "output_type": "stream",
     "text": [
      "Enter EID: 92\n",
      "Enter Name: prateek\n",
      "Enter Salary: 26000\n",
      "Enter Department: ITES\n"
     ]
    }
   ],
   "source": [
    "obj1=Employee()"
   ]
  },
  {
   "cell_type": "code",
   "execution_count": 46,
   "id": "5e498dde",
   "metadata": {
    "collapsed": true
   },
   "outputs": [
    {
     "name": "stdout",
     "output_type": "stream",
     "text": [
      "EID: 92\n",
      "Name: prateek\n",
      "Department: ITES\n",
      "Salary: 26000.0\n",
      "Bonus Accrued: 0\n",
      "EID: 92\n",
      "Name: prateek\n",
      "Department: ITES\n",
      "Salary: 26000.0\n",
      "Bonus Accrued: 0\n"
     ]
    }
   ],
   "source": [
    "obj1.show_emp()"
   ]
  },
  {
   "cell_type": "code",
   "execution_count": 47,
   "id": "3e4e3727",
   "metadata": {
    "collapsed": true
   },
   "outputs": [
    {
     "data": {
      "text/plain": [
       "'Salary Updated'"
      ]
     },
     "execution_count": 47,
     "metadata": {},
     "output_type": "execute_result"
    },
    {
     "data": {
      "text/plain": [
       "'Salary Updated'"
      ]
     },
     "execution_count": 47,
     "metadata": {},
     "output_type": "execute_result"
    }
   ],
   "source": [
    "obj1.edit_emp_sal(32000)"
   ]
  },
  {
   "cell_type": "code",
   "execution_count": 48,
   "id": "ef297705",
   "metadata": {
    "collapsed": true
   },
   "outputs": [
    {
     "data": {
      "text/plain": [
       "38400.0"
      ]
     },
     "execution_count": 48,
     "metadata": {},
     "output_type": "execute_result"
    },
    {
     "data": {
      "text/plain": [
       "38400.0"
      ]
     },
     "execution_count": 48,
     "metadata": {},
     "output_type": "execute_result"
    }
   ],
   "source": [
    "obj1.calc_bonus(1.2)"
   ]
  },
  {
   "cell_type": "code",
   "execution_count": 49,
   "id": "74d345a0",
   "metadata": {
    "collapsed": true
   },
   "outputs": [
    {
     "name": "stdout",
     "output_type": "stream",
     "text": [
      "EID: 92\n",
      "Name: prateek\n",
      "Department: ITES\n",
      "Salary: 32000\n",
      "Bonus Accrued: 38400.0\n",
      "EID: 92\n",
      "Name: prateek\n",
      "Department: ITES\n",
      "Salary: 32000\n",
      "Bonus Accrued: 38400.0\n"
     ]
    }
   ],
   "source": [
    "obj1.show_emp()"
   ]
  },
  {
   "cell_type": "code",
   "execution_count": 50,
   "id": "c9020606",
   "metadata": {
    "collapsed": true
   },
   "outputs": [
    {
     "data": {
      "text/plain": [
       "'Emp Deleted'"
      ]
     },
     "execution_count": 50,
     "metadata": {},
     "output_type": "execute_result"
    },
    {
     "data": {
      "text/plain": [
       "'Emp Deleted'"
      ]
     },
     "execution_count": 50,
     "metadata": {},
     "output_type": "execute_result"
    }
   ],
   "source": [
    "obj1.remove_emp()"
   ]
  },
  {
   "cell_type": "markdown",
   "id": "d666269e",
   "metadata": {},
   "source": [
    "#### Creating collection of objects"
   ]
  },
  {
   "cell_type": "code",
   "execution_count": 1,
   "id": "7d039e1e",
   "metadata": {},
   "outputs": [],
   "source": [
    "class Student:\n",
    "    def __init__(self, rollno, name, course):\n",
    "        self.rollno=rollno\n",
    "        self.name=name\n",
    "        self.course=course\n",
    "        return None\n",
    "    def show_details(self):\n",
    "        print(f'{self.name} has rollno as {self.rollno} in course {self.course}')\n",
    "        return None\n",
    "    def show_all(self, std_list):\n",
    "        for obj in std_list:\n",
    "            print(f'{obj.name} has rollno as {obj.rollno} in course {obj.course}')\n",
    "        return None"
   ]
  },
  {
   "cell_type": "code",
   "execution_count": 2,
   "id": "8c1ef308",
   "metadata": {},
   "outputs": [],
   "source": [
    "std_list=[]"
   ]
  },
  {
   "cell_type": "code",
   "execution_count": 9,
   "id": "0dfa2786",
   "metadata": {},
   "outputs": [
    {
     "name": "stdout",
     "output_type": "stream",
     "text": [
      "\n",
      "\n",
      "1. Add Student\n",
      "2. Show Student by Roll No\n",
      "3. Show All Students\n",
      "4. Exit\n"
     ]
    },
    {
     "ename": "KeyboardInterrupt",
     "evalue": "Interrupted by user",
     "output_type": "error",
     "traceback": [
      "\u001b[1;31m---------------------------------------------------------------------------\u001b[0m",
      "\u001b[1;31mKeyboardInterrupt\u001b[0m                         Traceback (most recent call last)",
      "Input \u001b[1;32mIn [9]\u001b[0m, in \u001b[0;36m<cell line: 2>\u001b[1;34m()\u001b[0m\n\u001b[0;32m      4\u001b[0m \u001b[38;5;28mprint\u001b[39m(\u001b[38;5;124m'\u001b[39m\u001b[38;5;124m3. Show All Students\u001b[39m\u001b[38;5;124m'\u001b[39m)\n\u001b[0;32m      5\u001b[0m \u001b[38;5;28mprint\u001b[39m(\u001b[38;5;124m'\u001b[39m\u001b[38;5;124m4. Exit\u001b[39m\u001b[38;5;124m'\u001b[39m)\n\u001b[1;32m----> 6\u001b[0m choice\u001b[38;5;241m=\u001b[39m\u001b[38;5;28mint\u001b[39m(\u001b[38;5;28;43minput\u001b[39;49m\u001b[43m(\u001b[49m\u001b[43m)\u001b[49m)\n\u001b[0;32m      7\u001b[0m \u001b[38;5;28;01mif\u001b[39;00m choice\u001b[38;5;241m==\u001b[39m\u001b[38;5;241m1\u001b[39m:\n\u001b[0;32m      8\u001b[0m     roll\u001b[38;5;241m=\u001b[39m\u001b[38;5;28mint\u001b[39m(\u001b[38;5;28minput\u001b[39m(\u001b[38;5;124m'\u001b[39m\u001b[38;5;124mEnter Roll No: \u001b[39m\u001b[38;5;124m'\u001b[39m))\n",
      "File \u001b[1;32m~\\Anaconda3\\lib\\site-packages\\ipykernel\\kernelbase.py:1075\u001b[0m, in \u001b[0;36mKernel.raw_input\u001b[1;34m(self, prompt)\u001b[0m\n\u001b[0;32m   1071\u001b[0m \u001b[38;5;28;01mif\u001b[39;00m \u001b[38;5;129;01mnot\u001b[39;00m \u001b[38;5;28mself\u001b[39m\u001b[38;5;241m.\u001b[39m_allow_stdin:\n\u001b[0;32m   1072\u001b[0m     \u001b[38;5;28;01mraise\u001b[39;00m StdinNotImplementedError(\n\u001b[0;32m   1073\u001b[0m         \u001b[38;5;124m\"\u001b[39m\u001b[38;5;124mraw_input was called, but this frontend does not support input requests.\u001b[39m\u001b[38;5;124m\"\u001b[39m\n\u001b[0;32m   1074\u001b[0m     )\n\u001b[1;32m-> 1075\u001b[0m \u001b[38;5;28;01mreturn\u001b[39;00m \u001b[38;5;28;43mself\u001b[39;49m\u001b[38;5;241;43m.\u001b[39;49m\u001b[43m_input_request\u001b[49m\u001b[43m(\u001b[49m\n\u001b[0;32m   1076\u001b[0m \u001b[43m    \u001b[49m\u001b[38;5;28;43mstr\u001b[39;49m\u001b[43m(\u001b[49m\u001b[43mprompt\u001b[49m\u001b[43m)\u001b[49m\u001b[43m,\u001b[49m\n\u001b[0;32m   1077\u001b[0m \u001b[43m    \u001b[49m\u001b[38;5;28;43mself\u001b[39;49m\u001b[38;5;241;43m.\u001b[39;49m\u001b[43m_parent_ident\u001b[49m\u001b[43m[\u001b[49m\u001b[38;5;124;43m\"\u001b[39;49m\u001b[38;5;124;43mshell\u001b[39;49m\u001b[38;5;124;43m\"\u001b[39;49m\u001b[43m]\u001b[49m\u001b[43m,\u001b[49m\n\u001b[0;32m   1078\u001b[0m \u001b[43m    \u001b[49m\u001b[38;5;28;43mself\u001b[39;49m\u001b[38;5;241;43m.\u001b[39;49m\u001b[43mget_parent\u001b[49m\u001b[43m(\u001b[49m\u001b[38;5;124;43m\"\u001b[39;49m\u001b[38;5;124;43mshell\u001b[39;49m\u001b[38;5;124;43m\"\u001b[39;49m\u001b[43m)\u001b[49m\u001b[43m,\u001b[49m\n\u001b[0;32m   1079\u001b[0m \u001b[43m    \u001b[49m\u001b[43mpassword\u001b[49m\u001b[38;5;241;43m=\u001b[39;49m\u001b[38;5;28;43;01mFalse\u001b[39;49;00m\u001b[43m,\u001b[49m\n\u001b[0;32m   1080\u001b[0m \u001b[43m\u001b[49m\u001b[43m)\u001b[49m\n",
      "File \u001b[1;32m~\\Anaconda3\\lib\\site-packages\\ipykernel\\kernelbase.py:1120\u001b[0m, in \u001b[0;36mKernel._input_request\u001b[1;34m(self, prompt, ident, parent, password)\u001b[0m\n\u001b[0;32m   1117\u001b[0m             \u001b[38;5;28;01mbreak\u001b[39;00m\n\u001b[0;32m   1118\u001b[0m \u001b[38;5;28;01mexcept\u001b[39;00m \u001b[38;5;167;01mKeyboardInterrupt\u001b[39;00m:\n\u001b[0;32m   1119\u001b[0m     \u001b[38;5;66;03m# re-raise KeyboardInterrupt, to truncate traceback\u001b[39;00m\n\u001b[1;32m-> 1120\u001b[0m     \u001b[38;5;28;01mraise\u001b[39;00m \u001b[38;5;167;01mKeyboardInterrupt\u001b[39;00m(\u001b[38;5;124m\"\u001b[39m\u001b[38;5;124mInterrupted by user\u001b[39m\u001b[38;5;124m\"\u001b[39m) \u001b[38;5;28;01mfrom\u001b[39;00m \u001b[38;5;28mNone\u001b[39m\n\u001b[0;32m   1121\u001b[0m \u001b[38;5;28;01mexcept\u001b[39;00m \u001b[38;5;167;01mException\u001b[39;00m:\n\u001b[0;32m   1122\u001b[0m     \u001b[38;5;28mself\u001b[39m\u001b[38;5;241m.\u001b[39mlog\u001b[38;5;241m.\u001b[39mwarning(\u001b[38;5;124m\"\u001b[39m\u001b[38;5;124mInvalid Message:\u001b[39m\u001b[38;5;124m\"\u001b[39m, exc_info\u001b[38;5;241m=\u001b[39m\u001b[38;5;28;01mTrue\u001b[39;00m)\n",
      "\u001b[1;31mKeyboardInterrupt\u001b[0m: Interrupted by user"
     ]
    }
   ],
   "source": [
    "while True:\n",
    "    print('\\n\\n1. Add Student')\n",
    "    print('2. Show Student by Roll No')\n",
    "    print('3. Show All Students')\n",
    "    print('4. Exit')\n",
    "    choice=int(input())\n",
    "    if choice==1:\n",
    "        roll=int(input('Enter Roll No: '))\n",
    "        name=input('Enter Name: ')\n",
    "        course=input('Enter Course: ')\n",
    "        std_list.append(Student(roll, name, course))\n",
    "        print('Added New Student Data... \\n')\n",
    "    elif choice==2:\n",
    "        roll=int(input('Enter Roll No to Search: '))\n",
    "        for obj in std_list:\n",
    "            if obj.rollno==roll:\n",
    "                obj.show_details()\n",
    "    elif choice==3:\n",
    "        Student.show_all(Student, std_list)\n",
    "    else:\n",
    "        break"
   ]
  },
  {
   "cell_type": "code",
   "execution_count": 6,
   "id": "f2c862a9",
   "metadata": {},
   "outputs": [
    {
     "data": {
      "text/plain": [
       "[<__main__.Student at 0x19d95989e50>,\n",
       " <__main__.Student at 0x19d95989df0>,\n",
       " <__main__.Student at 0x19d95989f40>]"
      ]
     },
     "execution_count": 6,
     "metadata": {},
     "output_type": "execute_result"
    }
   ],
   "source": [
    "std_list"
   ]
  },
  {
   "cell_type": "markdown",
   "id": "be58fb7b",
   "metadata": {},
   "source": [
    "## Inheritance"
   ]
  },
  {
   "cell_type": "markdown",
   "id": "99284164",
   "metadata": {},
   "source": [
    "#### Single"
   ]
  },
  {
   "cell_type": "code",
   "execution_count": 10,
   "id": "b744105d",
   "metadata": {},
   "outputs": [],
   "source": [
    "class A:\n",
    "    def __init__(self, var_x):\n",
    "        self.x=var_x\n",
    "        return None\n",
    "    def show_x(self):\n",
    "        print(f'Value X= {self.x}')\n",
    "        return None\n",
    "\n",
    "class B(A):\n",
    "    def __init__(self, var_y):\n",
    "        self.y=var_y\n",
    "        return None\n",
    "    def show_y(self):\n",
    "        print(f'Value Y= {self.y}')\n",
    "        return None\n",
    "    def show_xy(self):\n",
    "        self.show_x()\n",
    "        self.show_y()\n",
    "        return None"
   ]
  },
  {
   "cell_type": "code",
   "execution_count": 11,
   "id": "ff839fbd",
   "metadata": {},
   "outputs": [
    {
     "data": {
      "text/plain": [
       "23"
      ]
     },
     "execution_count": 11,
     "metadata": {},
     "output_type": "execute_result"
    }
   ],
   "source": [
    "a=A(23)\n",
    "a.x"
   ]
  },
  {
   "cell_type": "code",
   "execution_count": 12,
   "id": "59a5c83f",
   "metadata": {},
   "outputs": [
    {
     "name": "stdout",
     "output_type": "stream",
     "text": [
      "Value X= 23\n"
     ]
    }
   ],
   "source": [
    "a.show_x()"
   ]
  },
  {
   "cell_type": "code",
   "execution_count": 15,
   "id": "dee4d8df",
   "metadata": {},
   "outputs": [
    {
     "name": "stdout",
     "output_type": "stream",
     "text": [
      "34\n",
      "Value Y= 34\n"
     ]
    }
   ],
   "source": [
    "b=B(34)\n",
    "print(b.y)\n",
    "b.show_y()"
   ]
  },
  {
   "cell_type": "code",
   "execution_count": 17,
   "id": "7092b135",
   "metadata": {},
   "outputs": [
    {
     "name": "stdout",
     "output_type": "stream",
     "text": [
      "Value X= 90\n",
      "Value Y= 34\n"
     ]
    }
   ],
   "source": [
    "b.x=90\n",
    "b.show_xy()"
   ]
  },
  {
   "cell_type": "code",
   "execution_count": 18,
   "id": "e3eef0b9",
   "metadata": {},
   "outputs": [
    {
     "name": "stdout",
     "output_type": "stream",
     "text": [
      "Value X= 90\n"
     ]
    }
   ],
   "source": [
    "b.show_x()"
   ]
  },
  {
   "cell_type": "markdown",
   "id": "457e7d2c",
   "metadata": {},
   "source": [
    "#### Multilevel"
   ]
  },
  {
   "cell_type": "code",
   "execution_count": 19,
   "id": "9f2ab06d",
   "metadata": {},
   "outputs": [],
   "source": [
    "class A:\n",
    "    def __init__(self, x):\n",
    "        self.x=x\n",
    "    def show_x(self):\n",
    "        print('value X= ',self.x)\n",
    "class B(A):\n",
    "    def __init__(self, x,y):\n",
    "        A.__init__(self, x)\n",
    "        self.y=y\n",
    "    def show_xy(self):\n",
    "        self.show_x()\n",
    "        print(f'Value Y= {self.y}')\n",
    "class C(B):\n",
    "    def __init__(self, x, y, z):\n",
    "        B.__init__(self, x, y)\n",
    "        self.z=z\n",
    "    def show_xyz(self):\n",
    "        self.show_xy()\n",
    "        print(f'Vlaue Z= {self.z}')\n"
   ]
  },
  {
   "cell_type": "code",
   "execution_count": 20,
   "id": "c1da1828",
   "metadata": {},
   "outputs": [],
   "source": [
    "obj_c=C(10,20,30)"
   ]
  },
  {
   "cell_type": "code",
   "execution_count": 21,
   "id": "0bae7b2f",
   "metadata": {},
   "outputs": [
    {
     "name": "stdout",
     "output_type": "stream",
     "text": [
      "value X=  10\n",
      "Value Y= 20\n",
      "Vlaue Z= 30\n"
     ]
    }
   ],
   "source": [
    "obj_c.show_xyz()"
   ]
  },
  {
   "cell_type": "code",
   "execution_count": 24,
   "id": "316dac23",
   "metadata": {},
   "outputs": [
    {
     "data": {
      "text/plain": [
       "True"
      ]
     },
     "execution_count": 24,
     "metadata": {},
     "output_type": "execute_result"
    }
   ],
   "source": [
    "isinstance(obj_c,C)"
   ]
  },
  {
   "cell_type": "code",
   "execution_count": 25,
   "id": "67d753f4",
   "metadata": {},
   "outputs": [
    {
     "data": {
      "text/plain": [
       "True"
      ]
     },
     "execution_count": 25,
     "metadata": {},
     "output_type": "execute_result"
    }
   ],
   "source": [
    "isinstance(obj_c,B)"
   ]
  },
  {
   "cell_type": "code",
   "execution_count": 26,
   "id": "e0a85cdd",
   "metadata": {},
   "outputs": [
    {
     "data": {
      "text/plain": [
       "True"
      ]
     },
     "execution_count": 26,
     "metadata": {},
     "output_type": "execute_result"
    }
   ],
   "source": [
    "isinstance(obj_c,A)"
   ]
  },
  {
   "cell_type": "code",
   "execution_count": 27,
   "id": "5de1cff2",
   "metadata": {},
   "outputs": [],
   "source": [
    "obj_b=B(90,100)"
   ]
  },
  {
   "cell_type": "code",
   "execution_count": 29,
   "id": "bf7090e3",
   "metadata": {},
   "outputs": [
    {
     "data": {
      "text/plain": [
       "True"
      ]
     },
     "execution_count": 29,
     "metadata": {},
     "output_type": "execute_result"
    }
   ],
   "source": [
    "isinstance(obj_b,A)"
   ]
  },
  {
   "cell_type": "code",
   "execution_count": 30,
   "id": "bccc3d5d",
   "metadata": {},
   "outputs": [
    {
     "data": {
      "text/plain": [
       "True"
      ]
     },
     "execution_count": 30,
     "metadata": {},
     "output_type": "execute_result"
    }
   ],
   "source": [
    "isinstance(obj_b, B)"
   ]
  },
  {
   "cell_type": "code",
   "execution_count": 31,
   "id": "37dfc2cc",
   "metadata": {},
   "outputs": [
    {
     "data": {
      "text/plain": [
       "False"
      ]
     },
     "execution_count": 31,
     "metadata": {},
     "output_type": "execute_result"
    }
   ],
   "source": [
    "isinstance(obj_b,C)"
   ]
  },
  {
   "cell_type": "markdown",
   "id": "578a5e1d",
   "metadata": {},
   "source": [
    "#### Overriding Parent Class Methods"
   ]
  },
  {
   "cell_type": "code",
   "execution_count": 37,
   "id": "8530bf86",
   "metadata": {},
   "outputs": [],
   "source": [
    "class A:\n",
    "    def __init__(self):\n",
    "        self.a='Class A'\n",
    "    def show(self):\n",
    "        print(self.a)\n",
    "        \n",
    "class B(A):\n",
    "    def __init__(self):\n",
    "        A.__init__(self)\n",
    "        self.b='Class B'\n",
    "    def show(self):\n",
    "        print(self.a, '\\n', self.b)"
   ]
  },
  {
   "cell_type": "code",
   "execution_count": 38,
   "id": "8f9cf9f6",
   "metadata": {},
   "outputs": [
    {
     "name": "stdout",
     "output_type": "stream",
     "text": [
      "Class A \n",
      " Class B\n"
     ]
    }
   ],
   "source": [
    "obj_b=B()\n",
    "obj_b.show()"
   ]
  },
  {
   "cell_type": "code",
   "execution_count": 55,
   "id": "fb555e8c",
   "metadata": {},
   "outputs": [],
   "source": [
    "class A:\n",
    "    def show(self):\n",
    "        print('Class A')\n",
    "        \n",
    "class B(A):\n",
    "    def show(self):\n",
    "        #A.show(self)\n",
    "        print('Class B')"
   ]
  },
  {
   "cell_type": "code",
   "execution_count": 56,
   "id": "b1db9c8a",
   "metadata": {},
   "outputs": [],
   "source": [
    "b=B()"
   ]
  },
  {
   "cell_type": "code",
   "execution_count": 57,
   "id": "2319a142",
   "metadata": {},
   "outputs": [
    {
     "name": "stdout",
     "output_type": "stream",
     "text": [
      "Class B\n"
     ]
    }
   ],
   "source": [
    "b.show()"
   ]
  },
  {
   "cell_type": "markdown",
   "id": "79b964b2",
   "metadata": {},
   "source": [
    "#### Hierarchical Inheritance"
   ]
  },
  {
   "cell_type": "code",
   "execution_count": 58,
   "id": "ac118a54",
   "metadata": {},
   "outputs": [],
   "source": [
    "class Welcome:\n",
    "    def msg(self):\n",
    "        print('Welcome to Deloitte!!!')\n",
    "class DepartmentD1(Welcome):\n",
    "    def dep1(self):\n",
    "        Welcome.msg(self)\n",
    "        print('You are into Taxation')\n",
    "class DepartmentD2(Welcome):\n",
    "    def dep2(self):\n",
    "        Welcome.msg(self)\n",
    "        print('You are into Audit')"
   ]
  },
  {
   "cell_type": "code",
   "execution_count": 59,
   "id": "901fc455",
   "metadata": {},
   "outputs": [
    {
     "name": "stdout",
     "output_type": "stream",
     "text": [
      "Welcome to Deloitte!!!\n",
      "You are into Taxation\n"
     ]
    }
   ],
   "source": [
    "d1=DepartmentD1()\n",
    "d1.dep1()"
   ]
  },
  {
   "cell_type": "code",
   "execution_count": 60,
   "id": "c80d11aa",
   "metadata": {},
   "outputs": [
    {
     "name": "stdout",
     "output_type": "stream",
     "text": [
      "Welcome to Deloitte!!!\n",
      "You are into Audit\n"
     ]
    }
   ],
   "source": [
    "d2=DepartmentD2()\n",
    "d2.dep2()"
   ]
  },
  {
   "cell_type": "code",
   "execution_count": 61,
   "id": "ef9d5c98",
   "metadata": {},
   "outputs": [],
   "source": [
    "class Animal:\n",
    "    def say(self):\n",
    "        print('Has 4 Limbs')\n",
    "class Dog(Animal):\n",
    "    def say(self):\n",
    "        Animal.say(self)\n",
    "        print('It Barks')\n",
    "class Cat(Animal):\n",
    "    def say(self):\n",
    "        Animal.say(self)\n",
    "        print('It Meows')"
   ]
  },
  {
   "cell_type": "code",
   "execution_count": 62,
   "id": "a67d5d91",
   "metadata": {},
   "outputs": [
    {
     "name": "stdout",
     "output_type": "stream",
     "text": [
      "Has 4 Limbs\n",
      "It Barks\n"
     ]
    }
   ],
   "source": [
    "d=Dog()\n",
    "d.say()"
   ]
  },
  {
   "cell_type": "code",
   "execution_count": 63,
   "id": "23660e04",
   "metadata": {},
   "outputs": [
    {
     "name": "stdout",
     "output_type": "stream",
     "text": [
      "Has 4 Limbs\n",
      "It Meows\n"
     ]
    }
   ],
   "source": [
    "c=Cat()\n",
    "c.say()"
   ]
  },
  {
   "cell_type": "markdown",
   "id": "20d3ed6a",
   "metadata": {},
   "source": [
    "#### Multiple Inheritance"
   ]
  },
  {
   "cell_type": "code",
   "execution_count": 69,
   "id": "058433ce",
   "metadata": {},
   "outputs": [],
   "source": [
    "class Animal:\n",
    "    def Limbs(self):\n",
    "        print('Has 4 Limbs')\n",
    "class Dog:\n",
    "    def Sound(self):\n",
    "        print('It Barks!')\n",
    "class Cat:\n",
    "    def Sound(self):\n",
    "        print('It Meows!')\n",
    "        \n",
    "class GSD(Animal, Dog): # mulitple\n",
    "    def color_pattern(self):\n",
    "        print('Black & Brown Patches')\n",
    "        \n",
    "class ABC(Animal, Cat): # multiple\n",
    "    def color_pattern(self):\n",
    "        print('Shiny Black with Grey Eyes')\n"
   ]
  },
  {
   "cell_type": "code",
   "execution_count": 70,
   "id": "6176d208",
   "metadata": {},
   "outputs": [
    {
     "name": "stdout",
     "output_type": "stream",
     "text": [
      "Has 4 Limbs\n",
      "It Barks!\n",
      "Black & Brown Patches\n"
     ]
    }
   ],
   "source": [
    "g=GSD()\n",
    "g.Limbs()\n",
    "g.Sound()\n",
    "g.color_pattern()"
   ]
  },
  {
   "cell_type": "code",
   "execution_count": 72,
   "id": "17017489",
   "metadata": {},
   "outputs": [
    {
     "name": "stdout",
     "output_type": "stream",
     "text": [
      "Has 4 Limbs\n",
      "It Meows!\n",
      "Shiny Black with Grey Eyes\n"
     ]
    }
   ],
   "source": [
    "c=ABC()\n",
    "c.Limbs()\n",
    "c.Sound()\n",
    "c.color_pattern()"
   ]
  },
  {
   "cell_type": "markdown",
   "id": "87949326",
   "metadata": {},
   "source": [
    "##### Question:\n",
    "    Write a python code using multiple inheritance as follows:\n",
    "    class Student that derives properties and behavior related to\n",
    "    subjects and teachers from Subject class and Teacher class respectively."
   ]
  },
  {
   "cell_type": "code",
   "execution_count": 95,
   "id": "04812491",
   "metadata": {},
   "outputs": [],
   "source": [
    "class Subject:\n",
    "    def __init__(self, subject_list):\n",
    "        self.subject_list=subject_list\n",
    "    def show_subjects(self):\n",
    "        for sub in self.subject_list:\n",
    "            print('Subject: ',sub)\n",
    "class Teacher:\n",
    "    def __init__(self, teacher_list):\n",
    "        self.teacher_list=teacher_list\n",
    "    def show_teachers(self):\n",
    "        for teach in self.teacher_list:\n",
    "            print('Teacher: ',teach)\n",
    "        \n",
    "class Student(Teacher, Subject):\n",
    "    def __init__(self, sname, sroll, subject_list, teacher_list):\n",
    "        Subject.__init__(self, subject_list)\n",
    "        Teacher.__init__(self, teacher_list)\n",
    "        self.sname=sname\n",
    "        self.sroll=sroll\n",
    "    def show_student(self):\n",
    "        print(f'Name: {self.sname}')\n",
    "        print(f'Roll No: {self.sroll}')\n",
    "        print('Subjects: ')\n",
    "        self.show_subjects()\n",
    "        print('Teachers: ')\n",
    "        self.show_teachers()"
   ]
  },
  {
   "cell_type": "code",
   "execution_count": 96,
   "id": "0898d1c3",
   "metadata": {},
   "outputs": [],
   "source": [
    "s1=Student('Prateek',90,['Python','SQL','Java'], ['Dyaneshwar','Nikita','Anand'])"
   ]
  },
  {
   "cell_type": "code",
   "execution_count": 97,
   "id": "001fb9b7",
   "metadata": {},
   "outputs": [
    {
     "name": "stdout",
     "output_type": "stream",
     "text": [
      "Name: Prateek\n",
      "Roll No: 90\n",
      "Subjects: \n",
      "Subject:  Python\n",
      "Subject:  SQL\n",
      "Subject:  Java\n",
      "Teachers: \n",
      "Teacher:  Dyaneshwar\n",
      "Teacher:  Nikita\n",
      "Teacher:  Anand\n"
     ]
    }
   ],
   "source": [
    "s1.show_student()"
   ]
  },
  {
   "cell_type": "code",
   "execution_count": 90,
   "id": "f948bf66",
   "metadata": {},
   "outputs": [
    {
     "data": {
      "text/plain": [
       "['Python', 'SQL', 'Java']"
      ]
     },
     "execution_count": 90,
     "metadata": {},
     "output_type": "execute_result"
    }
   ],
   "source": [
    "s1.subject_list"
   ]
  },
  {
   "cell_type": "code",
   "execution_count": 91,
   "id": "23343cdf",
   "metadata": {},
   "outputs": [
    {
     "data": {
      "text/plain": [
       "['Dyaneshwar', 'Nikita', 'Anand']"
      ]
     },
     "execution_count": 91,
     "metadata": {},
     "output_type": "execute_result"
    }
   ],
   "source": [
    "s1.teacher_list"
   ]
  },
  {
   "cell_type": "markdown",
   "id": "05397f9a",
   "metadata": {},
   "source": [
    "## Access Modifiers"
   ]
  },
  {
   "cell_type": "code",
   "execution_count": 98,
   "id": "c1e00ad7",
   "metadata": {},
   "outputs": [],
   "source": [
    "# public, private and protected member"
   ]
  },
  {
   "cell_type": "code",
   "execution_count": 99,
   "id": "2cddc640",
   "metadata": {},
   "outputs": [],
   "source": [
    "# public\n",
    "class A:\n",
    "    def __init__(self, x):\n",
    "        self.x=x #public instance variable\n",
    "    def show(self): # public function\n",
    "        print('Value X= ', self.x)"
   ]
  },
  {
   "cell_type": "code",
   "execution_count": 105,
   "id": "37d47f87",
   "metadata": {},
   "outputs": [],
   "source": [
    "class B(A):\n",
    "    def __init__(self,x,y):\n",
    "        A.__init__(self, x)\n",
    "        self.y=y\n",
    "    def sumxy(self):\n",
    "        print('X+Y= ', self.x+self.y)"
   ]
  },
  {
   "cell_type": "code",
   "execution_count": 106,
   "id": "3c8484b2",
   "metadata": {},
   "outputs": [],
   "source": [
    "obj=A(77)"
   ]
  },
  {
   "cell_type": "code",
   "execution_count": 107,
   "id": "a0ecaf6a",
   "metadata": {},
   "outputs": [
    {
     "data": {
      "text/plain": [
       "77"
      ]
     },
     "execution_count": 107,
     "metadata": {},
     "output_type": "execute_result"
    }
   ],
   "source": [
    "obj.x"
   ]
  },
  {
   "cell_type": "code",
   "execution_count": 108,
   "id": "3d6e085f",
   "metadata": {},
   "outputs": [
    {
     "name": "stdout",
     "output_type": "stream",
     "text": [
      "Value X=  77\n"
     ]
    }
   ],
   "source": [
    "obj.show()"
   ]
  },
  {
   "cell_type": "code",
   "execution_count": 109,
   "id": "457b1e81",
   "metadata": {},
   "outputs": [],
   "source": [
    "b=B(30, 40)"
   ]
  },
  {
   "cell_type": "code",
   "execution_count": 113,
   "id": "5b883e97",
   "metadata": {},
   "outputs": [
    {
     "name": "stdout",
     "output_type": "stream",
     "text": [
      "X+Y=  70\n"
     ]
    }
   ],
   "source": [
    "b.sumxy()"
   ]
  },
  {
   "cell_type": "code",
   "execution_count": 115,
   "id": "133a6108",
   "metadata": {},
   "outputs": [],
   "source": [
    "# protected\n",
    "class A:\n",
    "    def __init__(self, x):\n",
    "        self._x=x #protected instance variable\n",
    "    def _show(self): # protected function\n",
    "        print('Value X= ', self._x)\n",
    "    def show_protected_members(self): # public function\n",
    "        self._show()\n",
    "    def get_x(self):\n",
    "        return self._x\n",
    "class B(A):\n",
    "    def __init__(self,x,y):\n",
    "        A.__init__(self, x)\n",
    "        self.y=y\n",
    "    def sumxy(self):\n",
    "        print('X+Y= ', self.get_x()+self.y)"
   ]
  },
  {
   "cell_type": "code",
   "execution_count": 116,
   "id": "0d9435ab",
   "metadata": {},
   "outputs": [],
   "source": [
    "a=A(20)"
   ]
  },
  {
   "cell_type": "code",
   "execution_count": 117,
   "id": "98611a0e",
   "metadata": {},
   "outputs": [
    {
     "data": {
      "text/plain": [
       "20"
      ]
     },
     "execution_count": 117,
     "metadata": {},
     "output_type": "execute_result"
    }
   ],
   "source": [
    "a._x"
   ]
  },
  {
   "cell_type": "code",
   "execution_count": 118,
   "id": "8d367a73",
   "metadata": {},
   "outputs": [
    {
     "name": "stdout",
     "output_type": "stream",
     "text": [
      "Value X=  20\n"
     ]
    }
   ],
   "source": [
    "a._show()"
   ]
  },
  {
   "cell_type": "code",
   "execution_count": 119,
   "id": "f6b1cb57",
   "metadata": {},
   "outputs": [],
   "source": [
    "b=B(70,80)"
   ]
  },
  {
   "cell_type": "code",
   "execution_count": 123,
   "id": "2950d9a5",
   "metadata": {},
   "outputs": [
    {
     "name": "stdout",
     "output_type": "stream",
     "text": [
      "X+Y=  150\n"
     ]
    }
   ],
   "source": [
    "b.sumxy()"
   ]
  },
  {
   "cell_type": "code",
   "execution_count": 124,
   "id": "ac5f6823",
   "metadata": {},
   "outputs": [],
   "source": [
    "b._x=900"
   ]
  },
  {
   "cell_type": "code",
   "execution_count": 143,
   "id": "e842691c",
   "metadata": {},
   "outputs": [],
   "source": [
    "# private members\n",
    "class A:\n",
    "    def __init__(self, x):\n",
    "        self.__x=x #private instance variable\n",
    "    def __show(self): # private function\n",
    "        print('Value X= ', self.__x)\n",
    "    def get_x(self):\n",
    "        return self.__x\n",
    "    def show_private_members(self):\n",
    "        self.__show()\n",
    "    \n",
    "class B(A):\n",
    "    def __init__(self,x,y):\n",
    "        A.__init__(self, x)\n",
    "        self.y=y\n",
    "    def sumxy(self):\n",
    "        print('X+Y= ', self.get_x()+self.y)"
   ]
  },
  {
   "cell_type": "code",
   "execution_count": 144,
   "id": "d2ffdee2",
   "metadata": {},
   "outputs": [],
   "source": [
    "a=A(67)"
   ]
  },
  {
   "cell_type": "code",
   "execution_count": 145,
   "id": "5a4379d5",
   "metadata": {},
   "outputs": [
    {
     "ename": "AttributeError",
     "evalue": "'A' object has no attribute '__x'",
     "output_type": "error",
     "traceback": [
      "\u001b[1;31m---------------------------------------------------------------------------\u001b[0m",
      "\u001b[1;31mAttributeError\u001b[0m                            Traceback (most recent call last)",
      "Input \u001b[1;32mIn [145]\u001b[0m, in \u001b[0;36m<cell line: 1>\u001b[1;34m()\u001b[0m\n\u001b[1;32m----> 1\u001b[0m \u001b[43ma\u001b[49m\u001b[38;5;241;43m.\u001b[39;49m\u001b[43m__x\u001b[49m\n",
      "\u001b[1;31mAttributeError\u001b[0m: 'A' object has no attribute '__x'"
     ]
    }
   ],
   "source": [
    "a.__x"
   ]
  },
  {
   "cell_type": "code",
   "execution_count": 146,
   "id": "8758c510",
   "metadata": {},
   "outputs": [
    {
     "ename": "AttributeError",
     "evalue": "'A' object has no attribute '__show'",
     "output_type": "error",
     "traceback": [
      "\u001b[1;31m---------------------------------------------------------------------------\u001b[0m",
      "\u001b[1;31mAttributeError\u001b[0m                            Traceback (most recent call last)",
      "Input \u001b[1;32mIn [146]\u001b[0m, in \u001b[0;36m<cell line: 1>\u001b[1;34m()\u001b[0m\n\u001b[1;32m----> 1\u001b[0m \u001b[43ma\u001b[49m\u001b[38;5;241;43m.\u001b[39;49m\u001b[43m__show\u001b[49m()\n",
      "\u001b[1;31mAttributeError\u001b[0m: 'A' object has no attribute '__show'"
     ]
    }
   ],
   "source": [
    "a.__show()"
   ]
  },
  {
   "cell_type": "code",
   "execution_count": 147,
   "id": "be5c720f",
   "metadata": {},
   "outputs": [],
   "source": [
    "b=B(45, 78)"
   ]
  },
  {
   "cell_type": "code",
   "execution_count": 148,
   "id": "31eb3ec9",
   "metadata": {},
   "outputs": [
    {
     "name": "stdout",
     "output_type": "stream",
     "text": [
      "X+Y=  123\n"
     ]
    }
   ],
   "source": [
    "b.sumxy()"
   ]
  },
  {
   "cell_type": "code",
   "execution_count": 139,
   "id": "62227b79",
   "metadata": {},
   "outputs": [
    {
     "ename": "AttributeError",
     "evalue": "'B' object has no attribute '__show'",
     "output_type": "error",
     "traceback": [
      "\u001b[1;31m---------------------------------------------------------------------------\u001b[0m",
      "\u001b[1;31mAttributeError\u001b[0m                            Traceback (most recent call last)",
      "Input \u001b[1;32mIn [139]\u001b[0m, in \u001b[0;36m<cell line: 1>\u001b[1;34m()\u001b[0m\n\u001b[1;32m----> 1\u001b[0m \u001b[43mb\u001b[49m\u001b[38;5;241;43m.\u001b[39;49m\u001b[43m__show\u001b[49m()\n",
      "\u001b[1;31mAttributeError\u001b[0m: 'B' object has no attribute '__show'"
     ]
    }
   ],
   "source": [
    "b.__show()"
   ]
  },
  {
   "cell_type": "code",
   "execution_count": 140,
   "id": "5d0d4ec5",
   "metadata": {},
   "outputs": [
    {
     "data": {
      "text/plain": [
       "45"
      ]
     },
     "execution_count": 140,
     "metadata": {},
     "output_type": "execute_result"
    }
   ],
   "source": [
    "b.get_x()"
   ]
  },
  {
   "cell_type": "code",
   "execution_count": 152,
   "id": "218f7ac8",
   "metadata": {},
   "outputs": [
    {
     "name": "stdout",
     "output_type": "stream",
     "text": [
      "Value X=  45\n"
     ]
    }
   ],
   "source": [
    "b.show_private_members()"
   ]
  },
  {
   "cell_type": "code",
   "execution_count": 159,
   "id": "804be1fa",
   "metadata": {},
   "outputs": [],
   "source": [
    "# All in one example\n",
    "class A:\n",
    "    def __init__(self, a, b, c):\n",
    "        self.a=a # public\n",
    "        self._b=b # protected\n",
    "        self.__c=c # private\n",
    "        return None\n",
    "    def get_b(self):\n",
    "        return self._b\n",
    "    def get_c(self):\n",
    "        return self.__c"
   ]
  },
  {
   "cell_type": "code",
   "execution_count": 160,
   "id": "86e4668f",
   "metadata": {},
   "outputs": [],
   "source": [
    "obj=A(10,20,30)"
   ]
  },
  {
   "cell_type": "code",
   "execution_count": 162,
   "id": "4b902452",
   "metadata": {},
   "outputs": [
    {
     "data": {
      "text/plain": [
       "60"
      ]
     },
     "execution_count": 162,
     "metadata": {},
     "output_type": "execute_result"
    }
   ],
   "source": [
    "obj.a + obj.get_b() + obj.get_c()"
   ]
  },
  {
   "cell_type": "markdown",
   "id": "beab7d9d",
   "metadata": {},
   "source": [
    "#### Magic Methods"
   ]
  },
  {
   "cell_type": "code",
   "execution_count": 166,
   "id": "f0ed43b8",
   "metadata": {},
   "outputs": [],
   "source": [
    "class A:\n",
    "    def __init__(self, x, y):\n",
    "        self.x=x\n",
    "        self.y=y\n",
    "        return None\n",
    "    def __str__(self):\n",
    "        return 'This is sample class'\n",
    "    def __del__(self):\n",
    "        return None"
   ]
  },
  {
   "cell_type": "code",
   "execution_count": 167,
   "id": "42183fd3",
   "metadata": {},
   "outputs": [],
   "source": [
    "a=A(6,7)"
   ]
  },
  {
   "cell_type": "code",
   "execution_count": 168,
   "id": "438bd7c6",
   "metadata": {},
   "outputs": [
    {
     "data": {
      "text/plain": [
       "'This is sample class'"
      ]
     },
     "execution_count": 168,
     "metadata": {},
     "output_type": "execute_result"
    }
   ],
   "source": [
    "str(a) # will call __str__ method"
   ]
  },
  {
   "cell_type": "code",
   "execution_count": 169,
   "id": "b9b4e1c8",
   "metadata": {},
   "outputs": [],
   "source": [
    "class A:\n",
    "    def __new__(cls):\n",
    "        print('__new__ called...')\n",
    "        instance=object.__new__(cls)\n",
    "        return instance\n",
    "    def __init__(self):\n",
    "        print('__init__ called...')   "
   ]
  },
  {
   "cell_type": "code",
   "execution_count": 170,
   "id": "fc77ff4a",
   "metadata": {},
   "outputs": [
    {
     "name": "stdout",
     "output_type": "stream",
     "text": [
      "__new__ called...\n",
      "__init__ called...\n"
     ]
    }
   ],
   "source": [
    "a=A()"
   ]
  },
  {
   "cell_type": "code",
   "execution_count": 174,
   "id": "257d9a86",
   "metadata": {},
   "outputs": [],
   "source": [
    "class A:\n",
    "    def __init__(self, x):\n",
    "        self.x=x\n",
    "        return None\n",
    "    def __add__(self, other):\n",
    "        return self.x+other.x"
   ]
  },
  {
   "cell_type": "code",
   "execution_count": 175,
   "id": "4e3eeb7a",
   "metadata": {},
   "outputs": [
    {
     "data": {
      "text/plain": [
       "1568"
      ]
     },
     "execution_count": 175,
     "metadata": {},
     "output_type": "execute_result"
    }
   ],
   "source": [
    "a1=A(890)\n",
    "a2=A(678)\n",
    "\n",
    "a1+a2"
   ]
  },
  {
   "cell_type": "code",
   "execution_count": 178,
   "id": "094d9561",
   "metadata": {},
   "outputs": [],
   "source": [
    "class A:\n",
    "    def __init__(self, x, y):\n",
    "        self.x=x\n",
    "        self.y=y\n",
    "        return None\n",
    "    def __add__(self, other):\n",
    "        temp=A(0,0)\n",
    "        temp.x=self.x+other.x\n",
    "        temp.y=self.y+other.y\n",
    "        result=temp.x*temp.y\n",
    "        return result"
   ]
  },
  {
   "cell_type": "code",
   "execution_count": 179,
   "id": "7bcf2d63",
   "metadata": {},
   "outputs": [
    {
     "data": {
      "text/plain": [
       "48"
      ]
     },
     "execution_count": 179,
     "metadata": {},
     "output_type": "execute_result"
    }
   ],
   "source": [
    "a1=A(4, 5)\n",
    "a2=A(2, 3)\n",
    "a1+a2"
   ]
  },
  {
   "cell_type": "code",
   "execution_count": 180,
   "id": "ccb90b40",
   "metadata": {},
   "outputs": [],
   "source": [
    "# __sub__, __mul__, __div__, __mod__, __exp__, __abs__\n",
    "# __lt__, __gt__, __ge__, __le__, __eq__, __ne__\n",
    "# __rand__, __float__, __int__, __round__, __sum__\n",
    "# __and__, __or__, __not__, __bool__, __hex__, __pow__"
   ]
  },
  {
   "cell_type": "code",
   "execution_count": 181,
   "id": "5efa47a0",
   "metadata": {},
   "outputs": [],
   "source": [
    "class A:\n",
    "    def __init__(self, x):\n",
    "        self.x=x\n",
    "    def __add__(self, other):\n",
    "        return self.x+other.x\n",
    "    def __sub__(self, other):\n",
    "        return self.x-other.x\n",
    "    def __mul__(self, other):\n",
    "        return self.x*other.x\n",
    "    def __div__(self, other):\n",
    "        return self.x/other.x\n",
    "    def __eq__(self, other):\n",
    "        return self.x==other.x\n",
    "    def __lt__(self, other):\n",
    "        return self.x<other.x\n",
    "    def __gt__(self, other):\n",
    "        return self.x>other.x\n",
    "    "
   ]
  },
  {
   "cell_type": "code",
   "execution_count": 182,
   "id": "7eca52d0",
   "metadata": {},
   "outputs": [
    {
     "data": {
      "text/plain": [
       "54"
      ]
     },
     "execution_count": 182,
     "metadata": {},
     "output_type": "execute_result"
    }
   ],
   "source": [
    "a1=A(50)\n",
    "a2=A(4)\n",
    "\n",
    "a1+a2"
   ]
  },
  {
   "cell_type": "code",
   "execution_count": 183,
   "id": "a161a3ce",
   "metadata": {},
   "outputs": [
    {
     "data": {
      "text/plain": [
       "46"
      ]
     },
     "execution_count": 183,
     "metadata": {},
     "output_type": "execute_result"
    }
   ],
   "source": [
    "a1-a2"
   ]
  },
  {
   "cell_type": "code",
   "execution_count": 184,
   "id": "a5c5e35a",
   "metadata": {},
   "outputs": [
    {
     "data": {
      "text/plain": [
       "200"
      ]
     },
     "execution_count": 184,
     "metadata": {},
     "output_type": "execute_result"
    }
   ],
   "source": [
    "a1*a2"
   ]
  },
  {
   "cell_type": "code",
   "execution_count": 187,
   "id": "111cc022",
   "metadata": {},
   "outputs": [
    {
     "data": {
      "text/plain": [
       "False"
      ]
     },
     "execution_count": 187,
     "metadata": {},
     "output_type": "execute_result"
    }
   ],
   "source": [
    "a1==a2"
   ]
  },
  {
   "cell_type": "code",
   "execution_count": 188,
   "id": "71e5bf7a",
   "metadata": {},
   "outputs": [
    {
     "data": {
      "text/plain": [
       "False"
      ]
     },
     "execution_count": 188,
     "metadata": {},
     "output_type": "execute_result"
    }
   ],
   "source": [
    "a1<a2"
   ]
  },
  {
   "cell_type": "code",
   "execution_count": 189,
   "id": "574807d6",
   "metadata": {},
   "outputs": [
    {
     "data": {
      "text/plain": [
       "True"
      ]
     },
     "execution_count": 189,
     "metadata": {},
     "output_type": "execute_result"
    }
   ],
   "source": [
    "a1>a2\n"
   ]
  },
  {
   "cell_type": "code",
   "execution_count": null,
   "id": "b3fc4efe",
   "metadata": {},
   "outputs": [],
   "source": []
  }
 ],
 "metadata": {
  "kernelspec": {
   "display_name": "Python 3 (ipykernel)",
   "language": "python",
   "name": "python3"
  },
  "language_info": {
   "codemirror_mode": {
    "name": "ipython",
    "version": 3
   },
   "file_extension": ".py",
   "mimetype": "text/x-python",
   "name": "python",
   "nbconvert_exporter": "python",
   "pygments_lexer": "ipython3",
   "version": "3.9.12"
  }
 },
 "nbformat": 4,
 "nbformat_minor": 5
}
