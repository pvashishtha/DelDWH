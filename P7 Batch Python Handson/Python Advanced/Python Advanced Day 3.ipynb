{
 "cells": [
  {
   "cell_type": "markdown",
   "id": "b7f15500",
   "metadata": {},
   "source": [
    "## Python Advanced Day 3"
   ]
  },
  {
   "cell_type": "markdown",
   "id": "1c13514d",
   "metadata": {},
   "source": [
    "### NumPy Basics"
   ]
  },
  {
   "cell_type": "code",
   "execution_count": null,
   "id": "68370025",
   "metadata": {},
   "outputs": [],
   "source": [
    "! pip install numpy"
   ]
  },
  {
   "cell_type": "code",
   "execution_count": 1,
   "id": "d6465dc4",
   "metadata": {},
   "outputs": [],
   "source": [
    "import numpy as np"
   ]
  },
  {
   "cell_type": "code",
   "execution_count": 2,
   "id": "e4ef0e23",
   "metadata": {
    "collapsed": true
   },
   "outputs": [
    {
     "name": "stdout",
     "output_type": "stream",
     "text": [
      "\n",
      "NumPy\n",
      "=====\n",
      "\n",
      "Provides\n",
      "  1. An array object of arbitrary homogeneous items\n",
      "  2. Fast mathematical operations over arrays\n",
      "  3. Linear Algebra, Fourier Transforms, Random Number Generation\n",
      "\n",
      "How to use the documentation\n",
      "----------------------------\n",
      "Documentation is available in two forms: docstrings provided\n",
      "with the code, and a loose standing reference guide, available from\n",
      "`the NumPy homepage <https://www.scipy.org>`_.\n",
      "\n",
      "We recommend exploring the docstrings using\n",
      "`IPython <https://ipython.org>`_, an advanced Python shell with\n",
      "TAB-completion and introspection capabilities.  See below for further\n",
      "instructions.\n",
      "\n",
      "The docstring examples assume that `numpy` has been imported as `np`::\n",
      "\n",
      "  >>> import numpy as np\n",
      "\n",
      "Code snippets are indicated by three greater-than signs::\n",
      "\n",
      "  >>> x = 42\n",
      "  >>> x = x + 1\n",
      "\n",
      "Use the built-in ``help`` function to view a function's docstring::\n",
      "\n",
      "  >>> help(np.sort)\n",
      "  ... # doctest: +SKIP\n",
      "\n",
      "For some objects, ``np.info(obj)`` may provide additional help.  This is\n",
      "particularly true if you see the line \"Help on ufunc object:\" at the top\n",
      "of the help() page.  Ufuncs are implemented in C, not Python, for speed.\n",
      "The native Python help() does not know how to view their help, but our\n",
      "np.info() function does.\n",
      "\n",
      "To search for documents containing a keyword, do::\n",
      "\n",
      "  >>> np.lookfor('keyword')\n",
      "  ... # doctest: +SKIP\n",
      "\n",
      "General-purpose documents like a glossary and help on the basic concepts\n",
      "of numpy are available under the ``doc`` sub-module::\n",
      "\n",
      "  >>> from numpy import doc\n",
      "  >>> help(doc)\n",
      "  ... # doctest: +SKIP\n",
      "\n",
      "Available subpackages\n",
      "---------------------\n",
      "doc\n",
      "    Topical documentation on broadcasting, indexing, etc.\n",
      "lib\n",
      "    Basic functions used by several sub-packages.\n",
      "random\n",
      "    Core Random Tools\n",
      "linalg\n",
      "    Core Linear Algebra Tools\n",
      "fft\n",
      "    Core FFT routines\n",
      "polynomial\n",
      "    Polynomial tools\n",
      "testing\n",
      "    NumPy testing tools\n",
      "f2py\n",
      "    Fortran to Python Interface Generator.\n",
      "distutils\n",
      "    Enhancements to distutils with support for\n",
      "    Fortran compilers support and more.\n",
      "\n",
      "Utilities\n",
      "---------\n",
      "test\n",
      "    Run numpy unittests\n",
      "show_config\n",
      "    Show numpy build configuration\n",
      "dual\n",
      "    Overwrite certain functions with high-performance SciPy tools.\n",
      "    Note: `numpy.dual` is deprecated.  Use the functions from NumPy or Scipy\n",
      "    directly instead of importing them from `numpy.dual`.\n",
      "matlib\n",
      "    Make everything matrices.\n",
      "__version__\n",
      "    NumPy version string\n",
      "\n",
      "Viewing documentation using IPython\n",
      "-----------------------------------\n",
      "Start IPython with the NumPy profile (``ipython -p numpy``), which will\n",
      "import `numpy` under the alias `np`.  Then, use the ``cpaste`` command to\n",
      "paste examples into the shell.  To see which functions are available in\n",
      "`numpy`, type ``np.<TAB>`` (where ``<TAB>`` refers to the TAB key), or use\n",
      "``np.*cos*?<ENTER>`` (where ``<ENTER>`` refers to the ENTER key) to narrow\n",
      "down the list.  To view the docstring for a function, use\n",
      "``np.cos?<ENTER>`` (to view the docstring) and ``np.cos??<ENTER>`` (to view\n",
      "the source code).\n",
      "\n",
      "Copies vs. in-place operation\n",
      "-----------------------------\n",
      "Most of the functions in `numpy` return a copy of the array argument\n",
      "(e.g., `np.sort`).  In-place versions of these functions are often\n",
      "available as array methods, i.e. ``x = np.array([1,2,3]); x.sort()``.\n",
      "Exceptions to this rule are documented.\n",
      "\n",
      "\n"
     ]
    }
   ],
   "source": [
    "print(np.__doc__)"
   ]
  },
  {
   "cell_type": "code",
   "execution_count": 3,
   "id": "9565e670",
   "metadata": {},
   "outputs": [
    {
     "data": {
      "text/plain": [
       "(1,)"
      ]
     },
     "execution_count": 3,
     "metadata": {},
     "output_type": "execute_result"
    }
   ],
   "source": [
    "# scalar/singular\n",
    "a=np.array([1])\n",
    "a.shape"
   ]
  },
  {
   "cell_type": "code",
   "execution_count": 4,
   "id": "083f69a9",
   "metadata": {},
   "outputs": [
    {
     "data": {
      "text/plain": [
       "(5,)"
      ]
     },
     "execution_count": 4,
     "metadata": {},
     "output_type": "execute_result"
    }
   ],
   "source": [
    "# vector\n",
    "a=np.array([1,2,3,4,5])\n",
    "a.shape"
   ]
  },
  {
   "cell_type": "code",
   "execution_count": 7,
   "id": "3bb40d09",
   "metadata": {},
   "outputs": [
    {
     "data": {
      "text/plain": [
       "(2, 2)"
      ]
     },
     "execution_count": 7,
     "metadata": {},
     "output_type": "execute_result"
    }
   ],
   "source": [
    "# 2-D array\n",
    "a=np.array(\n",
    "        [\n",
    "            [1,2],\n",
    "            [3,4]\n",
    "        ]\n",
    "        )\n",
    "a.shape"
   ]
  },
  {
   "cell_type": "code",
   "execution_count": 8,
   "id": "cdf7da8b",
   "metadata": {},
   "outputs": [
    {
     "data": {
      "text/plain": [
       "(4, 3)"
      ]
     },
     "execution_count": 8,
     "metadata": {},
     "output_type": "execute_result"
    }
   ],
   "source": [
    "a=np.array([\n",
    "    [1,2,3],\n",
    "    [4,5,6],\n",
    "    [7,8,9],\n",
    "    [10,11,12]\n",
    "])\n",
    "a.shape"
   ]
  },
  {
   "cell_type": "code",
   "execution_count": 10,
   "id": "87ea2af7",
   "metadata": {},
   "outputs": [
    {
     "data": {
      "text/plain": [
       "3"
      ]
     },
     "execution_count": 10,
     "metadata": {},
     "output_type": "execute_result"
    }
   ],
   "source": [
    "# access by indexes: array[row,col]\n",
    "a[0,2]"
   ]
  },
  {
   "cell_type": "code",
   "execution_count": 11,
   "id": "97178a51",
   "metadata": {},
   "outputs": [
    {
     "data": {
      "text/plain": [
       "12"
      ]
     },
     "execution_count": 11,
     "metadata": {},
     "output_type": "execute_result"
    }
   ],
   "source": [
    "a[3,2]"
   ]
  },
  {
   "cell_type": "code",
   "execution_count": 15,
   "id": "247d4b04",
   "metadata": {},
   "outputs": [
    {
     "name": "stdout",
     "output_type": "stream",
     "text": [
      "[[ 1  2  3]\n",
      " [ 4  5  6]\n",
      " [ 7  8  9]\n",
      " [10 11 12]]\n",
      "\n",
      "[[4 5]\n",
      " [7 8]]\n"
     ]
    }
   ],
   "source": [
    "# slicing: array[r1:r2, c1:c2]\n",
    "print(a)\n",
    "print()\n",
    "print(a[1:3, 0:2])"
   ]
  },
  {
   "cell_type": "code",
   "execution_count": 16,
   "id": "b319d364",
   "metadata": {},
   "outputs": [
    {
     "data": {
      "text/plain": [
       "array([[1, 2],\n",
       "       [4, 5],\n",
       "       [7, 8]])"
      ]
     },
     "execution_count": 16,
     "metadata": {},
     "output_type": "execute_result"
    }
   ],
   "source": [
    "a[:3, :2]"
   ]
  },
  {
   "cell_type": "code",
   "execution_count": 17,
   "id": "ec541b84",
   "metadata": {},
   "outputs": [
    {
     "data": {
      "text/plain": [
       "array([[ 8,  9],\n",
       "       [11, 12]])"
      ]
     },
     "execution_count": 17,
     "metadata": {},
     "output_type": "execute_result"
    }
   ],
   "source": [
    "a[2:, 1:]"
   ]
  },
  {
   "cell_type": "code",
   "execution_count": 19,
   "id": "db7ca484",
   "metadata": {},
   "outputs": [
    {
     "name": "stdout",
     "output_type": "stream",
     "text": [
      "[ 3  6  9 12]\n"
     ]
    }
   ],
   "source": [
    "# filetr array values\n",
    "print(a[a%3==0])"
   ]
  },
  {
   "cell_type": "code",
   "execution_count": 22,
   "id": "eca32647",
   "metadata": {},
   "outputs": [
    {
     "data": {
      "text/plain": [
       "array([ 6,  7,  8,  9, 10, 11, 12])"
      ]
     },
     "execution_count": 22,
     "metadata": {},
     "output_type": "execute_result"
    }
   ],
   "source": [
    "a[a>5]"
   ]
  },
  {
   "cell_type": "code",
   "execution_count": 24,
   "id": "2023b850",
   "metadata": {},
   "outputs": [
    {
     "data": {
      "text/plain": [
       "(2, 3, 3)"
      ]
     },
     "execution_count": 24,
     "metadata": {},
     "output_type": "execute_result"
    }
   ],
   "source": [
    "# 3-D arrays\n",
    "a=np.array([\n",
    "    [[1.2, 1.2, 1.3], [2.1, 2.2, 2.3], [3.1, 3.2, 3.3]],\n",
    "    [[4.1, 4.2, 4.3], [5.1, 5.2, 5.3], [6.1, 6.2, 6.3]]\n",
    "])\n",
    "a.shape"
   ]
  },
  {
   "cell_type": "code",
   "execution_count": 25,
   "id": "29b56b86",
   "metadata": {},
   "outputs": [
    {
     "data": {
      "text/plain": [
       "6.2"
      ]
     },
     "execution_count": 25,
     "metadata": {},
     "output_type": "execute_result"
    }
   ],
   "source": [
    "a[1, 2, 1]"
   ]
  },
  {
   "cell_type": "code",
   "execution_count": 27,
   "id": "83a6bbed",
   "metadata": {},
   "outputs": [
    {
     "name": "stdout",
     "output_type": "stream",
     "text": [
      "float64\n"
     ]
    }
   ],
   "source": [
    "a=np.array([[10, 20], [3.14, 40]])\n",
    "print(a.dtype)"
   ]
  },
  {
   "cell_type": "code",
   "execution_count": 26,
   "id": "8326750b",
   "metadata": {},
   "outputs": [
    {
     "data": {
      "text/plain": [
       "numpy.ndarray"
      ]
     },
     "execution_count": 26,
     "metadata": {},
     "output_type": "execute_result"
    }
   ],
   "source": [
    "type(a)"
   ]
  },
  {
   "cell_type": "code",
   "execution_count": 28,
   "id": "3cc59dc6",
   "metadata": {},
   "outputs": [
    {
     "data": {
      "text/plain": [
       "array([[10.  , 20.  ],\n",
       "       [ 3.14, 40.  ]])"
      ]
     },
     "execution_count": 28,
     "metadata": {},
     "output_type": "execute_result"
    }
   ],
   "source": [
    "a"
   ]
  },
  {
   "cell_type": "code",
   "execution_count": 29,
   "id": "125f7fc0",
   "metadata": {},
   "outputs": [
    {
     "name": "stdout",
     "output_type": "stream",
     "text": [
      "float32\n"
     ]
    }
   ],
   "source": [
    "a=np.array([[10, 20], [3.14, 40]], dtype='float32')\n",
    "print(a.dtype)"
   ]
  },
  {
   "cell_type": "code",
   "execution_count": 30,
   "id": "d6f04ddd",
   "metadata": {},
   "outputs": [
    {
     "name": "stdout",
     "output_type": "stream",
     "text": [
      "int64\n"
     ]
    }
   ],
   "source": [
    "a=np.array([[10, 20], [3.14, 40]], dtype='int64')\n",
    "print(a.dtype)"
   ]
  },
  {
   "cell_type": "code",
   "execution_count": 31,
   "id": "6dabf4c3",
   "metadata": {},
   "outputs": [
    {
     "data": {
      "text/plain": [
       "array([[10, 20],\n",
       "       [ 3, 40]], dtype=int64)"
      ]
     },
     "execution_count": 31,
     "metadata": {},
     "output_type": "execute_result"
    }
   ],
   "source": [
    "a"
   ]
  },
  {
   "cell_type": "markdown",
   "id": "cda119fb",
   "metadata": {},
   "source": [
    "#### Mathematical Operations on nparray"
   ]
  },
  {
   "cell_type": "code",
   "execution_count": 32,
   "id": "f3cf8f8c",
   "metadata": {},
   "outputs": [],
   "source": [
    "x=np.array([[10, 20], [30, 40]])\n",
    "y=np.array([[5, 6], [7, 8]])"
   ]
  },
  {
   "cell_type": "code",
   "execution_count": 33,
   "id": "f1d1fe37",
   "metadata": {},
   "outputs": [
    {
     "name": "stdout",
     "output_type": "stream",
     "text": [
      "[[15 26]\n",
      " [37 48]]\n"
     ]
    }
   ],
   "source": [
    "print(x+y)"
   ]
  },
  {
   "cell_type": "code",
   "execution_count": 34,
   "id": "3e38448d",
   "metadata": {},
   "outputs": [
    {
     "name": "stdout",
     "output_type": "stream",
     "text": [
      "[[15 26]\n",
      " [37 48]]\n"
     ]
    }
   ],
   "source": [
    "print(np.add(x,y))"
   ]
  },
  {
   "cell_type": "code",
   "execution_count": 35,
   "id": "708fa82d",
   "metadata": {},
   "outputs": [
    {
     "name": "stdout",
     "output_type": "stream",
     "text": [
      "[[ 5 14]\n",
      " [23 32]]\n"
     ]
    }
   ],
   "source": [
    "print(x-y)"
   ]
  },
  {
   "cell_type": "code",
   "execution_count": 36,
   "id": "37e34a75",
   "metadata": {},
   "outputs": [
    {
     "name": "stdout",
     "output_type": "stream",
     "text": [
      "[[ 5 14]\n",
      " [23 32]]\n"
     ]
    }
   ],
   "source": [
    "print(np.subtract(x,y))"
   ]
  },
  {
   "cell_type": "code",
   "execution_count": 37,
   "id": "34af7c18",
   "metadata": {},
   "outputs": [
    {
     "name": "stdout",
     "output_type": "stream",
     "text": [
      "[[ 50 120]\n",
      " [210 320]]\n"
     ]
    }
   ],
   "source": [
    "print(x*y)"
   ]
  },
  {
   "cell_type": "code",
   "execution_count": 38,
   "id": "870463d6",
   "metadata": {},
   "outputs": [
    {
     "name": "stdout",
     "output_type": "stream",
     "text": [
      "[[ 50 120]\n",
      " [210 320]]\n"
     ]
    }
   ],
   "source": [
    "print(np.multiply(x,y))"
   ]
  },
  {
   "cell_type": "code",
   "execution_count": 39,
   "id": "fdc2966a",
   "metadata": {},
   "outputs": [
    {
     "name": "stdout",
     "output_type": "stream",
     "text": [
      "[[2.         3.33333333]\n",
      " [4.28571429 5.        ]]\n"
     ]
    }
   ],
   "source": [
    "print(x/y)"
   ]
  },
  {
   "cell_type": "code",
   "execution_count": 40,
   "id": "4865d169",
   "metadata": {},
   "outputs": [
    {
     "name": "stdout",
     "output_type": "stream",
     "text": [
      "[[2.         3.33333333]\n",
      " [4.28571429 5.        ]]\n"
     ]
    }
   ],
   "source": [
    "print(np.divide(x,y))"
   ]
  },
  {
   "cell_type": "code",
   "execution_count": 41,
   "id": "3ee1f62e",
   "metadata": {},
   "outputs": [
    {
     "name": "stdout",
     "output_type": "stream",
     "text": [
      "[[3.16227766 4.47213595]\n",
      " [5.47722558 6.32455532]]\n"
     ]
    }
   ],
   "source": [
    "print(np.sqrt(x))"
   ]
  },
  {
   "cell_type": "code",
   "execution_count": 42,
   "id": "b625b0d8",
   "metadata": {},
   "outputs": [
    {
     "name": "stdout",
     "output_type": "stream",
     "text": [
      "25.0\n"
     ]
    }
   ],
   "source": [
    "print(np.mean(x))"
   ]
  },
  {
   "cell_type": "code",
   "execution_count": 43,
   "id": "fb98079d",
   "metadata": {},
   "outputs": [
    {
     "name": "stdout",
     "output_type": "stream",
     "text": [
      "25.0\n"
     ]
    }
   ],
   "source": [
    "print(np.average(x))"
   ]
  },
  {
   "cell_type": "code",
   "execution_count": 44,
   "id": "1608d0fe",
   "metadata": {},
   "outputs": [
    {
     "name": "stdout",
     "output_type": "stream",
     "text": [
      "31.333333333333332\n"
     ]
    }
   ],
   "source": [
    "print(np.average(x, weights=[[0.5, 1.5], [2, 3.5]]))"
   ]
  },
  {
   "cell_type": "code",
   "execution_count": 46,
   "id": "efced3da",
   "metadata": {},
   "outputs": [
    {
     "name": "stdout",
     "output_type": "stream",
     "text": [
      "25.0\n"
     ]
    }
   ],
   "source": [
    "print(np.median(x))"
   ]
  },
  {
   "cell_type": "code",
   "execution_count": 47,
   "id": "87842271",
   "metadata": {},
   "outputs": [
    {
     "name": "stdout",
     "output_type": "stream",
     "text": [
      "[[0 2]\n",
      " [2 0]]\n"
     ]
    }
   ],
   "source": [
    "print(np.mod(x,y))"
   ]
  },
  {
   "cell_type": "code",
   "execution_count": 48,
   "id": "6b55d395",
   "metadata": {},
   "outputs": [
    {
     "name": "stdout",
     "output_type": "stream",
     "text": [
      "40\n"
     ]
    }
   ],
   "source": [
    "print(np.amax(x))"
   ]
  },
  {
   "cell_type": "code",
   "execution_count": 49,
   "id": "d7800dda",
   "metadata": {},
   "outputs": [
    {
     "name": "stdout",
     "output_type": "stream",
     "text": [
      "10\n"
     ]
    }
   ],
   "source": [
    "print(np.amin(x))"
   ]
  },
  {
   "cell_type": "code",
   "execution_count": 50,
   "id": "28004fb6",
   "metadata": {},
   "outputs": [
    {
     "name": "stdout",
     "output_type": "stream",
     "text": [
      "11.180339887498949\n"
     ]
    }
   ],
   "source": [
    "print(np.std(x))"
   ]
  },
  {
   "cell_type": "code",
   "execution_count": 51,
   "id": "760c9b9f",
   "metadata": {},
   "outputs": [
    {
     "name": "stdout",
     "output_type": "stream",
     "text": [
      "125.0\n"
     ]
    }
   ],
   "source": [
    "print(np.var(x))"
   ]
  },
  {
   "cell_type": "code",
   "execution_count": 52,
   "id": "3d22d694",
   "metadata": {},
   "outputs": [
    {
     "name": "stdout",
     "output_type": "stream",
     "text": [
      "[[50.  50.   5.   5. ]\n",
      " [50.  50.   5.   5. ]\n",
      " [ 5.   5.   0.5  0.5]\n",
      " [ 5.   5.   0.5  0.5]]\n"
     ]
    }
   ],
   "source": [
    "print(np.cov(x,y))"
   ]
  },
  {
   "cell_type": "code",
   "execution_count": 58,
   "id": "072d9140",
   "metadata": {},
   "outputs": [
    {
     "name": "stdout",
     "output_type": "stream",
     "text": [
      "23.0\n"
     ]
    }
   ],
   "source": [
    "# percentile\n",
    "scores=np.array([18, 19, 22, 23, 21, 25, 21, 23, 29, 28, 27, 27, 27, 28, 21, 19, 17, 15, 26, 25, 27])\n",
    "print(np.percentile(scores, 50, 0))"
   ]
  },
  {
   "cell_type": "code",
   "execution_count": 59,
   "id": "7f58fc73",
   "metadata": {},
   "outputs": [],
   "source": [
    "# Broadcasting\n",
    "x=np.array([\n",
    "    [1,2,3],\n",
    "    [4,5,6],\n",
    "    [7,8,9],\n",
    "    [10,11,12]\n",
    "])\n",
    "y=np.array([10, 0, 100])"
   ]
  },
  {
   "cell_type": "code",
   "execution_count": 61,
   "id": "a095912c",
   "metadata": {},
   "outputs": [
    {
     "data": {
      "text/plain": [
       "array([[0, 0, 0],\n",
       "       [0, 0, 0],\n",
       "       [0, 0, 0],\n",
       "       [0, 0, 0]])"
      ]
     },
     "execution_count": 61,
     "metadata": {},
     "output_type": "execute_result"
    }
   ],
   "source": [
    "z=np.empty_like(x)\n",
    "z"
   ]
  },
  {
   "cell_type": "code",
   "execution_count": 62,
   "id": "4df1dbfd",
   "metadata": {},
   "outputs": [
    {
     "data": {
      "text/plain": [
       "array([[ 1,  2,  3],\n",
       "       [ 4,  5,  6],\n",
       "       [ 7,  8,  9],\n",
       "       [10, 11, 12]])"
      ]
     },
     "execution_count": 62,
     "metadata": {},
     "output_type": "execute_result"
    }
   ],
   "source": [
    "x"
   ]
  },
  {
   "cell_type": "code",
   "execution_count": 63,
   "id": "8afc5242",
   "metadata": {},
   "outputs": [
    {
     "data": {
      "text/plain": [
       "array([ 10,   0, 100])"
      ]
     },
     "execution_count": 63,
     "metadata": {},
     "output_type": "execute_result"
    }
   ],
   "source": [
    "y"
   ]
  },
  {
   "cell_type": "code",
   "execution_count": 64,
   "id": "0890973d",
   "metadata": {},
   "outputs": [
    {
     "data": {
      "text/plain": [
       "array([[ 11,   2, 103],\n",
       "       [ 14,   5, 106],\n",
       "       [ 17,   8, 109],\n",
       "       [ 20,  11, 112]])"
      ]
     },
     "execution_count": 64,
     "metadata": {},
     "output_type": "execute_result"
    }
   ],
   "source": [
    "z=x+y\n",
    "z"
   ]
  },
  {
   "cell_type": "code",
   "execution_count": 65,
   "id": "e3b6993b",
   "metadata": {},
   "outputs": [
    {
     "data": {
      "text/plain": [
       "array([[ 13,  26,  39],\n",
       "       [ 52,  65,  78],\n",
       "       [ 91, 104, 117],\n",
       "       [130, 143, 156]])"
      ]
     },
     "execution_count": 65,
     "metadata": {},
     "output_type": "execute_result"
    }
   ],
   "source": [
    "z=x*13\n",
    "z"
   ]
  },
  {
   "cell_type": "code",
   "execution_count": 66,
   "id": "7c69784f",
   "metadata": {},
   "outputs": [
    {
     "data": {
      "text/plain": [
       "array([[  10,    0,  300],\n",
       "       [  40,    0,  600],\n",
       "       [  70,    0,  900],\n",
       "       [ 100,    0, 1200]])"
      ]
     },
     "execution_count": 66,
     "metadata": {},
     "output_type": "execute_result"
    }
   ],
   "source": [
    "z=x*y\n",
    "z"
   ]
  },
  {
   "cell_type": "code",
   "execution_count": 68,
   "id": "ad4f6055",
   "metadata": {},
   "outputs": [
    {
     "data": {
      "text/plain": [
       "array([[-4, -3, -2],\n",
       "       [-1,  0,  1],\n",
       "       [ 2,  3,  4],\n",
       "       [ 5,  6,  7]])"
      ]
     },
     "execution_count": 68,
     "metadata": {},
     "output_type": "execute_result"
    }
   ],
   "source": [
    "z=x-5\n",
    "z"
   ]
  },
  {
   "cell_type": "code",
   "execution_count": 74,
   "id": "b352eb50",
   "metadata": {},
   "outputs": [
    {
     "data": {
      "text/plain": [
       "array([[11, 99, 99],\n",
       "       [99, 11, 99],\n",
       "       [99, 99, 11],\n",
       "       [99, 99, 99]])"
      ]
     },
     "execution_count": 74,
     "metadata": {},
     "output_type": "execute_result"
    }
   ],
   "source": [
    "for i in range(4):\n",
    "    for j in range(3):\n",
    "        if i==j:\n",
    "            x[i, j] = 11\n",
    "x"
   ]
  },
  {
   "cell_type": "code",
   "execution_count": 75,
   "id": "5aad50cf",
   "metadata": {},
   "outputs": [
    {
     "data": {
      "text/plain": [
       "array([4.+0.j, 5.+0.j, 6.+0.j])"
      ]
     },
     "execution_count": 75,
     "metadata": {},
     "output_type": "execute_result"
    }
   ],
   "source": [
    "a=np.array([4,5,6], dtype='complex')\n",
    "a"
   ]
  },
  {
   "cell_type": "code",
   "execution_count": 76,
   "id": "64dda1d2",
   "metadata": {},
   "outputs": [
    {
     "data": {
      "text/plain": [
       "dtype('complex128')"
      ]
     },
     "execution_count": 76,
     "metadata": {},
     "output_type": "execute_result"
    }
   ],
   "source": [
    "a.dtype"
   ]
  },
  {
   "cell_type": "code",
   "execution_count": 77,
   "id": "850484ff",
   "metadata": {},
   "outputs": [
    {
     "data": {
      "text/plain": [
       "array([[11, 99, 99],\n",
       "       [99, 11, 99],\n",
       "       [99, 99, 11],\n",
       "       [99, 99, 99]])"
      ]
     },
     "execution_count": 77,
     "metadata": {},
     "output_type": "execute_result"
    }
   ],
   "source": [
    "x"
   ]
  },
  {
   "cell_type": "code",
   "execution_count": 78,
   "id": "10d7ea14",
   "metadata": {},
   "outputs": [
    {
     "data": {
      "text/plain": [
       "(4, 3)"
      ]
     },
     "execution_count": 78,
     "metadata": {},
     "output_type": "execute_result"
    }
   ],
   "source": [
    "x.shape"
   ]
  },
  {
   "cell_type": "code",
   "execution_count": 79,
   "id": "08494b28",
   "metadata": {},
   "outputs": [
    {
     "data": {
      "text/plain": [
       "2"
      ]
     },
     "execution_count": 79,
     "metadata": {},
     "output_type": "execute_result"
    }
   ],
   "source": [
    "x.ndim"
   ]
  },
  {
   "cell_type": "code",
   "execution_count": 80,
   "id": "31329311",
   "metadata": {},
   "outputs": [
    {
     "data": {
      "text/plain": [
       "array([[11, 99, 99],\n",
       "       [99, 11, 99],\n",
       "       [99, 99, 11],\n",
       "       [99, 99, 99]])"
      ]
     },
     "execution_count": 80,
     "metadata": {},
     "output_type": "execute_result"
    }
   ],
   "source": [
    "x"
   ]
  },
  {
   "cell_type": "code",
   "execution_count": 81,
   "id": "7588c0fa",
   "metadata": {},
   "outputs": [
    {
     "data": {
      "text/plain": [
       "array([[11, 99, 99, 99, 11, 99],\n",
       "       [99, 99, 11, 99, 99, 99]])"
      ]
     },
     "execution_count": 81,
     "metadata": {},
     "output_type": "execute_result"
    }
   ],
   "source": [
    "x.reshape(2,6)"
   ]
  },
  {
   "cell_type": "code",
   "execution_count": 83,
   "id": "b69be0b7",
   "metadata": {},
   "outputs": [
    {
     "data": {
      "text/plain": [
       "array([[[11, 99, 99],\n",
       "        [99, 11, 99]],\n",
       "\n",
       "       [[99, 99, 11],\n",
       "        [99, 99, 99]]])"
      ]
     },
     "execution_count": 83,
     "metadata": {},
     "output_type": "execute_result"
    }
   ],
   "source": [
    "x.reshape(2,2,3)"
   ]
  },
  {
   "cell_type": "code",
   "execution_count": 84,
   "id": "fbf04c52",
   "metadata": {},
   "outputs": [
    {
     "data": {
      "text/plain": [
       "4"
      ]
     },
     "execution_count": 84,
     "metadata": {},
     "output_type": "execute_result"
    }
   ],
   "source": [
    "x.itemsize"
   ]
  },
  {
   "cell_type": "code",
   "execution_count": 86,
   "id": "6d4c560f",
   "metadata": {},
   "outputs": [
    {
     "data": {
      "text/plain": [
       "8"
      ]
     },
     "execution_count": 86,
     "metadata": {},
     "output_type": "execute_result"
    }
   ],
   "source": [
    "a=np.array([1,2,3,4,5], dtype='int64')\n",
    "a.itemsize"
   ]
  },
  {
   "cell_type": "code",
   "execution_count": 89,
   "id": "eeca4a43",
   "metadata": {},
   "outputs": [
    {
     "data": {
      "text/plain": [
       "array([[0, 0, 0, 0],\n",
       "       [0, 0, 0, 0],\n",
       "       [0, 0, 0, 0]])"
      ]
     },
     "execution_count": 89,
     "metadata": {},
     "output_type": "execute_result"
    }
   ],
   "source": [
    "a=np.zeros((3,4), dtype='int32')\n",
    "a"
   ]
  },
  {
   "cell_type": "code",
   "execution_count": 91,
   "id": "80c009a0",
   "metadata": {},
   "outputs": [
    {
     "data": {
      "text/plain": [
       "array([[[[1., 1.],\n",
       "         [1., 1.],\n",
       "         [1., 1.]],\n",
       "\n",
       "        [[1., 1.],\n",
       "         [1., 1.],\n",
       "         [1., 1.]]],\n",
       "\n",
       "\n",
       "       [[[1., 1.],\n",
       "         [1., 1.],\n",
       "         [1., 1.]],\n",
       "\n",
       "        [[1., 1.],\n",
       "         [1., 1.],\n",
       "         [1., 1.]]]])"
      ]
     },
     "execution_count": 91,
     "metadata": {},
     "output_type": "execute_result"
    }
   ],
   "source": [
    "a=np.ones((2,2,3,2))\n",
    "a"
   ]
  },
  {
   "cell_type": "code",
   "execution_count": 92,
   "id": "430026f8",
   "metadata": {},
   "outputs": [],
   "source": [
    "# generate arrays automatically"
   ]
  },
  {
   "cell_type": "code",
   "execution_count": 93,
   "id": "c93c86db",
   "metadata": {},
   "outputs": [
    {
     "data": {
      "text/plain": [
       "array([10, 11, 12, 13, 14, 15, 16, 17, 18, 19, 20, 21, 22, 23, 24, 25, 26,\n",
       "       27, 28, 29, 30, 31, 32, 33, 34, 35, 36, 37, 38, 39])"
      ]
     },
     "execution_count": 93,
     "metadata": {},
     "output_type": "execute_result"
    }
   ],
   "source": [
    "a=np.arange(10, 40)\n",
    "a"
   ]
  },
  {
   "cell_type": "code",
   "execution_count": 94,
   "id": "543aee66",
   "metadata": {},
   "outputs": [
    {
     "data": {
      "text/plain": [
       "array([[10, 11, 12, 13, 14, 15],\n",
       "       [16, 17, 18, 19, 20, 21],\n",
       "       [22, 23, 24, 25, 26, 27],\n",
       "       [28, 29, 30, 31, 32, 33],\n",
       "       [34, 35, 36, 37, 38, 39]])"
      ]
     },
     "execution_count": 94,
     "metadata": {},
     "output_type": "execute_result"
    }
   ],
   "source": [
    "a.reshape(5,6)"
   ]
  },
  {
   "cell_type": "code",
   "execution_count": 95,
   "id": "31e2830b",
   "metadata": {},
   "outputs": [
    {
     "data": {
      "text/plain": [
       "array([50.        , 52.14285714, 54.28571429, 56.42857143, 58.57142857,\n",
       "       60.71428571, 62.85714286, 65.        , 67.14285714, 69.28571429,\n",
       "       71.42857143, 73.57142857, 75.71428571, 77.85714286, 80.        ])"
      ]
     },
     "execution_count": 95,
     "metadata": {},
     "output_type": "execute_result"
    }
   ],
   "source": [
    "a=np.linspace(50, 80, 15)\n",
    "a"
   ]
  },
  {
   "cell_type": "code",
   "execution_count": 98,
   "id": "ee141fa0",
   "metadata": {},
   "outputs": [
    {
     "data": {
      "text/plain": [
       "2.142857142857143"
      ]
     },
     "execution_count": 98,
     "metadata": {},
     "output_type": "execute_result"
    }
   ],
   "source": [
    "30/14"
   ]
  },
  {
   "cell_type": "code",
   "execution_count": 108,
   "id": "2852656d",
   "metadata": {},
   "outputs": [
    {
     "name": "stdout",
     "output_type": "stream",
     "text": [
      "[[ 1  2  3]\n",
      " [ 4  5  6]\n",
      " [ 7  8  9]\n",
      " [10 11 12]]\n",
      "\n",
      "[[10 11 12 13]\n",
      " [14 15 16 17]\n",
      " [18 19 20 21]]\n",
      "\n",
      "[[ 92  98 104 110]\n",
      " [218 233 248 263]\n",
      " [344 368 392 416]\n",
      " [470 503 536 569]]\n"
     ]
    }
   ],
   "source": [
    "x=np.arange(1, 13).reshape((4,3))\n",
    "z=np.arange(10,22).reshape((3,4))\n",
    "w=np.dot(x,z)\n",
    "print(x)\n",
    "print()\n",
    "print(z)\n",
    "print()\n",
    "print(w)"
   ]
  },
  {
   "cell_type": "code",
   "execution_count": 111,
   "id": "35b47e20",
   "metadata": {},
   "outputs": [
    {
     "data": {
      "text/plain": [
       "9536"
      ]
     },
     "execution_count": 111,
     "metadata": {},
     "output_type": "execute_result"
    }
   ],
   "source": [
    "# Random Numbers\n",
    "np.random.randint(10000)"
   ]
  },
  {
   "cell_type": "code",
   "execution_count": 112,
   "id": "9d2ef6dd",
   "metadata": {},
   "outputs": [
    {
     "data": {
      "text/plain": [
       "571"
      ]
     },
     "execution_count": 112,
     "metadata": {},
     "output_type": "execute_result"
    }
   ],
   "source": [
    "np.random.randint(500,600)"
   ]
  },
  {
   "cell_type": "code",
   "execution_count": 113,
   "id": "31953ec7",
   "metadata": {},
   "outputs": [
    {
     "data": {
      "text/plain": [
       "array([61, 62, 58, 56, 89, 82, 57, 66, 67, 50, 81, 82, 63, 73, 87, 58, 50,\n",
       "       62, 84, 80])"
      ]
     },
     "execution_count": 113,
     "metadata": {},
     "output_type": "execute_result"
    }
   ],
   "source": [
    "np.random.randint(50, 90, 20)"
   ]
  },
  {
   "cell_type": "code",
   "execution_count": 114,
   "id": "53bec4ee",
   "metadata": {},
   "outputs": [
    {
     "data": {
      "text/plain": [
       "array([[27, 25, 27, 21],\n",
       "       [27, 21, 22, 28],\n",
       "       [26, 26, 29, 27]])"
      ]
     },
     "execution_count": 114,
     "metadata": {},
     "output_type": "execute_result"
    }
   ],
   "source": [
    "a=np.random.randint(20, 30, 12).reshape((3,4))\n",
    "a"
   ]
  },
  {
   "cell_type": "code",
   "execution_count": 115,
   "id": "71345e5b",
   "metadata": {},
   "outputs": [
    {
     "data": {
      "text/plain": [
       "array([[26, 23, 27, 24],\n",
       "       [26, 29, 22, 26],\n",
       "       [27, 24, 23, 27]])"
      ]
     },
     "execution_count": 115,
     "metadata": {},
     "output_type": "execute_result"
    }
   ],
   "source": [
    "np.random.seed(42)\n",
    "a=np.random.randint(20, 30, 12).reshape((3,4))\n",
    "a"
   ]
  },
  {
   "cell_type": "code",
   "execution_count": 116,
   "id": "0a284276",
   "metadata": {},
   "outputs": [
    {
     "data": {
      "text/plain": [
       "array([0.70807258, 0.02058449, 0.96990985, 0.83244264, 0.21233911,\n",
       "       0.18182497, 0.18340451, 0.30424224, 0.52475643, 0.43194502,\n",
       "       0.29122914, 0.61185289])"
      ]
     },
     "execution_count": 116,
     "metadata": {},
     "output_type": "execute_result"
    }
   ],
   "source": [
    "np.random.rand(12)"
   ]
  },
  {
   "cell_type": "code",
   "execution_count": 117,
   "id": "98a79fc3",
   "metadata": {},
   "outputs": [
    {
     "data": {
      "text/plain": [
       "array([[0.13949386, 0.29214465, 0.36636184],\n",
       "       [0.45606998, 0.78517596, 0.19967378],\n",
       "       [0.51423444, 0.59241457, 0.04645041],\n",
       "       [0.60754485, 0.17052412, 0.06505159]])"
      ]
     },
     "execution_count": 117,
     "metadata": {},
     "output_type": "execute_result"
    }
   ],
   "source": [
    "np.random.rand(12).reshape((4,3))"
   ]
  },
  {
   "cell_type": "code",
   "execution_count": 118,
   "id": "081d0595",
   "metadata": {},
   "outputs": [
    {
     "data": {
      "text/plain": [
       "array([[0.94888554, 0.96563203],\n",
       "       [0.80839735, 0.30461377],\n",
       "       [0.09767211, 0.68423303]])"
      ]
     },
     "execution_count": 118,
     "metadata": {},
     "output_type": "execute_result"
    }
   ],
   "source": [
    "np.random.rand(3,2)"
   ]
  },
  {
   "cell_type": "code",
   "execution_count": 119,
   "id": "cbdd65c3",
   "metadata": {},
   "outputs": [
    {
     "data": {
      "text/plain": [
       "array([[[0.44015249, 0.12203823, 0.49517691],\n",
       "        [0.03438852, 0.9093204 , 0.25877998]],\n",
       "\n",
       "       [[0.66252228, 0.31171108, 0.52006802],\n",
       "        [0.54671028, 0.18485446, 0.96958463]],\n",
       "\n",
       "       [[0.77513282, 0.93949894, 0.89482735],\n",
       "        [0.59789998, 0.92187424, 0.0884925 ]]])"
      ]
     },
     "execution_count": 119,
     "metadata": {},
     "output_type": "execute_result"
    }
   ],
   "source": [
    "np.random.rand(3,2, 3)"
   ]
  },
  {
   "cell_type": "code",
   "execution_count": 123,
   "id": "e933f300",
   "metadata": {},
   "outputs": [
    {
     "name": "stdout",
     "output_type": "stream",
     "text": [
      "[[31.00112583 15.42860045 36.95266542]\n",
      " [20.16923474 32.16599632 47.81565813]\n",
      " [10.0023363  32.97663468 36.85244453]]\n"
     ]
    }
   ],
   "source": [
    "# exmaple\n",
    "np.random.seed(42)\n",
    "a=5\n",
    "b=3\n",
    "x=np.random.randint(0, 10, 9).reshape((3,3))\n",
    "y=np.random.rand(3,3)\n",
    "z=a*x+b*y\n",
    "print(z)"
   ]
  },
  {
   "cell_type": "code",
   "execution_count": 124,
   "id": "54334d70",
   "metadata": {},
   "outputs": [
    {
     "data": {
      "text/plain": [
       "29.262744043470928"
      ]
     },
     "execution_count": 124,
     "metadata": {},
     "output_type": "execute_result"
    }
   ],
   "source": [
    "np.mean(z)"
   ]
  },
  {
   "cell_type": "code",
   "execution_count": 126,
   "id": "0a6169a7",
   "metadata": {},
   "outputs": [
    {
     "data": {
      "text/plain": [
       "array([[ 4.33333333,  1.83333333, -0.5       ,  0.48696531, -0.04140078,\n",
       "        -0.64275264],\n",
       "       [ 1.83333333,  6.33333333,  6.        ,  0.45471345,  1.06525697,\n",
       "         0.65703153],\n",
       "       [-0.5       ,  6.        ,  7.        ,  0.22175897,  1.21493473,\n",
       "         1.11241914],\n",
       "       [ 0.48696531,  0.45471345,  0.22175897,  0.06585161,  0.04379827,\n",
       "        -0.03066202],\n",
       "       [-0.04140078,  1.06525697,  1.21493473,  0.04379827,  0.21134582,\n",
       "         0.18712576],\n",
       "       [-0.64275264,  0.65703153,  1.11241914, -0.03066202,  0.18712576,\n",
       "         0.25061398]])"
      ]
     },
     "execution_count": 126,
     "metadata": {},
     "output_type": "execute_result"
    }
   ],
   "source": [
    "np.cov(x,y)"
   ]
  },
  {
   "cell_type": "code",
   "execution_count": 127,
   "id": "e1c3d2b7",
   "metadata": {},
   "outputs": [],
   "source": [
    "# compare NumPy arrays with List"
   ]
  },
  {
   "cell_type": "code",
   "execution_count": 128,
   "id": "728f95d4",
   "metadata": {},
   "outputs": [
    {
     "name": "stdout",
     "output_type": "stream",
     "text": [
      "CPU times: total: 203 ms\n",
      "Wall time: 208 ms\n"
     ]
    }
   ],
   "source": [
    "%%time\n",
    "l1=[n for n in range(1000000)]\n",
    "l2=[n for n in range(1000000)]\n",
    "l3=l1+l2"
   ]
  },
  {
   "cell_type": "code",
   "execution_count": 130,
   "id": "44f8ae09",
   "metadata": {},
   "outputs": [
    {
     "name": "stdout",
     "output_type": "stream",
     "text": [
      "CPU times: total: 46.9 ms\n",
      "Wall time: 46.2 ms\n"
     ]
    }
   ],
   "source": [
    "%%time\n",
    "x=np.random.rand(1000,1000)\n",
    "y=np.random.rand(1000,1000)\n",
    "z=x**2 + y**2"
   ]
  },
  {
   "cell_type": "markdown",
   "id": "97497a54",
   "metadata": {},
   "source": [
    "#### My Modules"
   ]
  },
  {
   "cell_type": "code",
   "execution_count": 131,
   "id": "0220531f",
   "metadata": {},
   "outputs": [],
   "source": [
    "import basicmath"
   ]
  },
  {
   "cell_type": "code",
   "execution_count": 132,
   "id": "a2d73a18",
   "metadata": {},
   "outputs": [
    {
     "data": {
      "text/plain": [
       "79"
      ]
     },
     "execution_count": 132,
     "metadata": {},
     "output_type": "execute_result"
    }
   ],
   "source": [
    "basicmath.addition(23,56)"
   ]
  },
  {
   "cell_type": "code",
   "execution_count": 134,
   "id": "fe6f5adc",
   "metadata": {},
   "outputs": [
    {
     "data": {
      "text/plain": [
       "58"
      ]
     },
     "execution_count": 134,
     "metadata": {},
     "output_type": "execute_result"
    }
   ],
   "source": [
    "from basicmath import subtraction, sqr\n",
    "subtraction(90, 32)"
   ]
  },
  {
   "cell_type": "code",
   "execution_count": 135,
   "id": "72c7755b",
   "metadata": {},
   "outputs": [
    {
     "data": {
      "text/plain": [
       "7569"
      ]
     },
     "execution_count": 135,
     "metadata": {},
     "output_type": "execute_result"
    }
   ],
   "source": [
    "sqr(87)"
   ]
  },
  {
   "cell_type": "code",
   "execution_count": 136,
   "id": "860371b7",
   "metadata": {},
   "outputs": [
    {
     "data": {
      "text/plain": [
       "'Divisor Can Not be Zero!'"
      ]
     },
     "execution_count": 136,
     "metadata": {},
     "output_type": "execute_result"
    }
   ],
   "source": [
    "from basicmath import division as dv\n",
    "dv(45, 0)"
   ]
  },
  {
   "cell_type": "code",
   "execution_count": 137,
   "id": "4d8a9b21",
   "metadata": {},
   "outputs": [
    {
     "data": {
      "text/plain": [
       "15.0"
      ]
     },
     "execution_count": 137,
     "metadata": {},
     "output_type": "execute_result"
    }
   ],
   "source": [
    "dv(45,3)"
   ]
  },
  {
   "cell_type": "code",
   "execution_count": 139,
   "id": "cc5635b4",
   "metadata": {},
   "outputs": [],
   "source": [
    "import scientificmath as sm"
   ]
  },
  {
   "cell_type": "code",
   "execution_count": 140,
   "id": "6a33b963",
   "metadata": {},
   "outputs": [
    {
     "data": {
      "text/plain": [
       "1661.9025137490005"
      ]
     },
     "execution_count": 140,
     "metadata": {},
     "output_type": "execute_result"
    }
   ],
   "source": [
    "sm.area_circle(23)"
   ]
  },
  {
   "cell_type": "code",
   "execution_count": 141,
   "id": "48d6432e",
   "metadata": {},
   "outputs": [],
   "source": [
    "# check packages"
   ]
  },
  {
   "cell_type": "code",
   "execution_count": 145,
   "id": "2be579e2",
   "metadata": {},
   "outputs": [],
   "source": [
    "import wonderfulmath.basicmath as bm"
   ]
  },
  {
   "cell_type": "code",
   "execution_count": 146,
   "id": "7e5a3722",
   "metadata": {},
   "outputs": [
    {
     "data": {
      "text/plain": [
       "19.5"
      ]
     },
     "execution_count": 146,
     "metadata": {},
     "output_type": "execute_result"
    }
   ],
   "source": [
    "bm.division(78,4)"
   ]
  },
  {
   "cell_type": "code",
   "execution_count": 147,
   "id": "2731e891",
   "metadata": {},
   "outputs": [],
   "source": [
    "from wonderfulmath.advance import scientificmath as sm"
   ]
  },
  {
   "cell_type": "code",
   "execution_count": 148,
   "id": "9e1ad645",
   "metadata": {},
   "outputs": [
    {
     "data": {
      "text/plain": [
       "3631.681107549801"
      ]
     },
     "execution_count": 148,
     "metadata": {},
     "output_type": "execute_result"
    }
   ],
   "source": [
    "sm.area_circle(34)"
   ]
  },
  {
   "cell_type": "code",
   "execution_count": 149,
   "id": "6bf0bc86",
   "metadata": {},
   "outputs": [
    {
     "data": {
      "text/plain": [
       "3.141592653589793"
      ]
     },
     "execution_count": 149,
     "metadata": {},
     "output_type": "execute_result"
    }
   ],
   "source": [
    "sm.PIE"
   ]
  },
  {
   "cell_type": "code",
   "execution_count": 152,
   "id": "3b4bf0cd",
   "metadata": {},
   "outputs": [
    {
     "data": {
      "text/plain": [
       "inf"
      ]
     },
     "execution_count": 152,
     "metadata": {},
     "output_type": "execute_result"
    }
   ],
   "source": [
    "sm.INFINITI"
   ]
  },
  {
   "cell_type": "code",
   "execution_count": 153,
   "id": "cb29d4c1",
   "metadata": {},
   "outputs": [
    {
     "data": {
      "text/plain": [
       "2.718281828459045"
      ]
     },
     "execution_count": 153,
     "metadata": {},
     "output_type": "execute_result"
    }
   ],
   "source": [
    "sm.E"
   ]
  },
  {
   "cell_type": "markdown",
   "id": "06955434",
   "metadata": {},
   "source": [
    "### Generators in Python"
   ]
  },
  {
   "cell_type": "code",
   "execution_count": 156,
   "id": "1ed12b17",
   "metadata": {},
   "outputs": [],
   "source": [
    "# generate values and yeild back\n",
    "\n",
    "def generate_numbers():\n",
    "    for i in range(1,11):\n",
    "        yield i"
   ]
  },
  {
   "cell_type": "code",
   "execution_count": 158,
   "id": "03dfb072",
   "metadata": {},
   "outputs": [],
   "source": [
    "num=generate_numbers()"
   ]
  },
  {
   "cell_type": "code",
   "execution_count": 159,
   "id": "14abae23",
   "metadata": {},
   "outputs": [
    {
     "name": "stdout",
     "output_type": "stream",
     "text": [
      "1\n",
      "2\n",
      "3\n",
      "4\n",
      "5\n",
      "6\n",
      "7\n",
      "8\n",
      "9\n",
      "10\n"
     ]
    }
   ],
   "source": [
    "for i in num:\n",
    "    print(i)"
   ]
  },
  {
   "cell_type": "code",
   "execution_count": 160,
   "id": "e3ca839c",
   "metadata": {},
   "outputs": [],
   "source": [
    "num=generate_numbers()"
   ]
  },
  {
   "cell_type": "code",
   "execution_count": 172,
   "id": "9d3ec1dd",
   "metadata": {},
   "outputs": [
    {
     "ename": "StopIteration",
     "evalue": "",
     "output_type": "error",
     "traceback": [
      "\u001b[1;31m---------------------------------------------------------------------------\u001b[0m",
      "\u001b[1;31mStopIteration\u001b[0m                             Traceback (most recent call last)",
      "Input \u001b[1;32mIn [172]\u001b[0m, in \u001b[0;36m<cell line: 1>\u001b[1;34m()\u001b[0m\n\u001b[1;32m----> 1\u001b[0m \u001b[38;5;28;43mnext\u001b[39;49m\u001b[43m(\u001b[49m\u001b[43mnum\u001b[49m\u001b[43m)\u001b[49m\n",
      "\u001b[1;31mStopIteration\u001b[0m: "
     ]
    }
   ],
   "source": [
    "next(num)"
   ]
  },
  {
   "cell_type": "code",
   "execution_count": 173,
   "id": "a50ce46f",
   "metadata": {},
   "outputs": [],
   "source": [
    "def random_generator():\n",
    "    import random\n",
    "    for _ in range(10):\n",
    "        yield random.randint(1,100)"
   ]
  },
  {
   "cell_type": "code",
   "execution_count": 174,
   "id": "e74b871e",
   "metadata": {},
   "outputs": [
    {
     "data": {
      "text/plain": [
       "72"
      ]
     },
     "execution_count": 174,
     "metadata": {},
     "output_type": "execute_result"
    }
   ],
   "source": [
    "rg=random_generator()\n",
    "next(rg)"
   ]
  },
  {
   "cell_type": "code",
   "execution_count": 175,
   "id": "219e98e9",
   "metadata": {},
   "outputs": [
    {
     "name": "stdout",
     "output_type": "stream",
     "text": [
      "[30, 34, 72, 92, 96, 29, 4, 22, 51, 34]\n",
      "[98, 69, 57, 92, 37, 28, 66, 84, 72, 92]\n",
      "[55, 53, 74, 48, 16, 96, 60, 88, 42, 34]\n",
      "[21, 95, 43, 28, 58, 41, 44, 15, 3, 87]\n",
      "[32, 72, 29, 10, 29, 24, 96, 48, 76, 49]\n"
     ]
    }
   ],
   "source": [
    "for _ in range(5):\n",
    "    rg=random_generator()\n",
    "    print(list(rg))"
   ]
  },
  {
   "cell_type": "code",
   "execution_count": 176,
   "id": "c591764f",
   "metadata": {},
   "outputs": [
    {
     "data": {
      "text/plain": [
       "[]"
      ]
     },
     "execution_count": 176,
     "metadata": {},
     "output_type": "execute_result"
    }
   ],
   "source": [
    "list(rg)"
   ]
  },
  {
   "cell_type": "code",
   "execution_count": 177,
   "id": "4045caaa",
   "metadata": {},
   "outputs": [
    {
     "name": "stdout",
     "output_type": "stream",
     "text": [
      "40\n",
      "53\n",
      "7\n",
      "87\n",
      "29\n"
     ]
    }
   ],
   "source": [
    "rg=random_generator()\n",
    "for _ in range(5):\n",
    "    print(next(rg))"
   ]
  },
  {
   "cell_type": "code",
   "execution_count": 178,
   "id": "cf09b29e",
   "metadata": {},
   "outputs": [
    {
     "data": {
      "text/plain": [
       "85"
      ]
     },
     "execution_count": 178,
     "metadata": {},
     "output_type": "execute_result"
    }
   ],
   "source": [
    "next(rg)"
   ]
  },
  {
   "cell_type": "markdown",
   "id": "a2aee6df",
   "metadata": {},
   "source": [
    "## Decorators"
   ]
  },
  {
   "cell_type": "code",
   "execution_count": 179,
   "id": "e0961517",
   "metadata": {},
   "outputs": [
    {
     "name": "stdout",
     "output_type": "stream",
     "text": [
      "HELLO DELOITTE\n"
     ]
    }
   ],
   "source": [
    "# func as an object\n",
    "\n",
    "def message(msg):\n",
    "    return msg.upper()\n",
    "\n",
    "print(message('Hello Deloitte'))"
   ]
  },
  {
   "cell_type": "code",
   "execution_count": 180,
   "id": "10aad755",
   "metadata": {},
   "outputs": [],
   "source": [
    "callout=message"
   ]
  },
  {
   "cell_type": "code",
   "execution_count": 181,
   "id": "2309f1a2",
   "metadata": {},
   "outputs": [
    {
     "data": {
      "text/plain": [
       "'HELLO PYTHON'"
      ]
     },
     "execution_count": 181,
     "metadata": {},
     "output_type": "execute_result"
    }
   ],
   "source": [
    "callout('hello python')"
   ]
  },
  {
   "cell_type": "code",
   "execution_count": 182,
   "id": "570b5ec3",
   "metadata": {},
   "outputs": [
    {
     "name": "stdout",
     "output_type": "stream",
     "text": [
      "<function message at 0x000001C269BB1B80>\n"
     ]
    }
   ],
   "source": [
    "print(callout)"
   ]
  },
  {
   "cell_type": "code",
   "execution_count": 183,
   "id": "023bba22",
   "metadata": {},
   "outputs": [],
   "source": [
    "# func as parameter to another func\n",
    "\n",
    "def soft(text):\n",
    "    return text.lower()\n",
    "def loud(text):\n",
    "    return text.upper()\n",
    "\n",
    "def display(func):\n",
    "    msg=func('Hi! I am deloitted!!!')\n",
    "    print(msg)"
   ]
  },
  {
   "cell_type": "code",
   "execution_count": 184,
   "id": "305b407b",
   "metadata": {},
   "outputs": [
    {
     "name": "stdout",
     "output_type": "stream",
     "text": [
      "hi! i am deloitted!!!\n"
     ]
    }
   ],
   "source": [
    "display(soft)"
   ]
  },
  {
   "cell_type": "code",
   "execution_count": 185,
   "id": "152c7a75",
   "metadata": {},
   "outputs": [
    {
     "name": "stdout",
     "output_type": "stream",
     "text": [
      "HI! I AM DELOITTED!!!\n"
     ]
    }
   ],
   "source": [
    "display(loud)"
   ]
  },
  {
   "cell_type": "code",
   "execution_count": 186,
   "id": "f819606b",
   "metadata": {},
   "outputs": [],
   "source": [
    "# return func from another func\n",
    "\n",
    "def find_exp(x): # outer\n",
    "    def exp(y): # inner\n",
    "        return x**y\n",
    "    return exp"
   ]
  },
  {
   "cell_type": "code",
   "execution_count": 187,
   "id": "fb989f92",
   "metadata": {},
   "outputs": [],
   "source": [
    "exponential=find_exp(5)   # def exp(y): return 5**y"
   ]
  },
  {
   "cell_type": "code",
   "execution_count": 188,
   "id": "696ff334",
   "metadata": {},
   "outputs": [
    {
     "data": {
      "text/plain": [
       "25"
      ]
     },
     "execution_count": 188,
     "metadata": {},
     "output_type": "execute_result"
    }
   ],
   "source": [
    "exponential(2)"
   ]
  },
  {
   "cell_type": "markdown",
   "id": "134d05eb",
   "metadata": {},
   "source": [
    "#### Decorator Style"
   ]
  },
  {
   "cell_type": "code",
   "execution_count": 189,
   "id": "22043bb2",
   "metadata": {},
   "outputs": [],
   "source": [
    "def outer(func):\n",
    "    def inner(name):\n",
    "        print('Start Inner')\n",
    "        ret=func()\n",
    "        print(name+' '+ret)\n",
    "        print('End Inner')\n",
    "    return inner\n",
    "\n",
    "def message():\n",
    "    return 'Welcome to Deloitte!!!'\n",
    "def message_new():\n",
    "    return 'Welcome to Deloitte USI!!!'"
   ]
  },
  {
   "cell_type": "code",
   "execution_count": 191,
   "id": "de22c3a7",
   "metadata": {},
   "outputs": [
    {
     "name": "stdout",
     "output_type": "stream",
     "text": [
      "Start Inner\n",
      "Prateek Welcome to Deloitte!!!\n",
      "End Inner\n",
      "None\n"
     ]
    }
   ],
   "source": [
    "# option 1\n",
    "call=outer(message)\n",
    "'''\n",
    "call=\n",
    "def inner(name):\n",
    "        print('Start Inner')\n",
    "        ret=message()\n",
    "        print(name+' '+ret)\n",
    "        print('End Inner')\n",
    "'''\n",
    "print(call('Prateek'))"
   ]
  },
  {
   "cell_type": "code",
   "execution_count": 192,
   "id": "33afe6fb",
   "metadata": {},
   "outputs": [
    {
     "name": "stdout",
     "output_type": "stream",
     "text": [
      "Start Inner\n",
      "Apoorva Welcome to Deloitte USI!!!\n",
      "End Inner\n"
     ]
    }
   ],
   "source": [
    "call=outer(message_new)\n",
    "call('Apoorva')"
   ]
  },
  {
   "cell_type": "code",
   "execution_count": 194,
   "id": "e67cd2ca",
   "metadata": {},
   "outputs": [
    {
     "name": "stdout",
     "output_type": "stream",
     "text": [
      "Start Inner\n",
      "Saurav Welcome to Deloitte!!!\n",
      "End Inner\n"
     ]
    }
   ],
   "source": [
    "# option 2\n",
    "outer(message)('Saurav')"
   ]
  },
  {
   "cell_type": "code",
   "execution_count": 195,
   "id": "53f5c914",
   "metadata": {},
   "outputs": [],
   "source": [
    "# option 3: decorator syntax\n",
    "def outer(func):\n",
    "    def inner(*args, **kwargs):\n",
    "        print('Start Inner')\n",
    "        ret=func()\n",
    "        print(ret)\n",
    "        print('End Inner')\n",
    "    return inner"
   ]
  },
  {
   "cell_type": "code",
   "execution_count": 199,
   "id": "ae42d624",
   "metadata": {},
   "outputs": [],
   "source": [
    "@outer\n",
    "def  message():\n",
    "    return 'Welcome to Python Training'\n",
    "@outer\n",
    "def message_new():\n",
    "    return 'Python is Best!'"
   ]
  },
  {
   "cell_type": "code",
   "execution_count": 200,
   "id": "3aa7b153",
   "metadata": {},
   "outputs": [
    {
     "name": "stdout",
     "output_type": "stream",
     "text": [
      "Start Inner\n",
      "Welcome to Python Training\n",
      "End Inner\n"
     ]
    }
   ],
   "source": [
    "message()"
   ]
  },
  {
   "cell_type": "code",
   "execution_count": 201,
   "id": "0a1e22e1",
   "metadata": {},
   "outputs": [
    {
     "name": "stdout",
     "output_type": "stream",
     "text": [
      "Start Inner\n",
      "Python is Best!\n",
      "End Inner\n"
     ]
    }
   ],
   "source": [
    "message_new()"
   ]
  },
  {
   "cell_type": "code",
   "execution_count": 202,
   "id": "c059ba7d",
   "metadata": {},
   "outputs": [],
   "source": [
    "def outer(func):\n",
    "    def inner(*args, **kwargs):\n",
    "        print('Inner Starts!')\n",
    "        ret=func(*args, **kwargs)\n",
    "        print('Inner Ends!')\n",
    "        return ret\n",
    "    return inner\n",
    "@outer\n",
    "def find_sum(*args):\n",
    "    print('Calculating Sum...')\n",
    "    return sum(args)"
   ]
  },
  {
   "cell_type": "code",
   "execution_count": 203,
   "id": "5c820f90",
   "metadata": {},
   "outputs": [
    {
     "name": "stdout",
     "output_type": "stream",
     "text": [
      "Inner Starts!\n",
      "Calculating Sum...\n",
      "Inner Ends!\n"
     ]
    },
    {
     "data": {
      "text/plain": [
       "30"
      ]
     },
     "execution_count": 203,
     "metadata": {},
     "output_type": "execute_result"
    }
   ],
   "source": [
    "find_sum(10,20)"
   ]
  },
  {
   "cell_type": "code",
   "execution_count": 204,
   "id": "41908b9d",
   "metadata": {},
   "outputs": [
    {
     "name": "stdout",
     "output_type": "stream",
     "text": [
      "Inner Starts!\n",
      "Calculating Sum...\n",
      "Inner Ends!\n"
     ]
    },
    {
     "data": {
      "text/plain": [
       "150"
      ]
     },
     "execution_count": 204,
     "metadata": {},
     "output_type": "execute_result"
    }
   ],
   "source": [
    "find_sum(10,20,30,40,50)"
   ]
  },
  {
   "cell_type": "code",
   "execution_count": 205,
   "id": "0bc2c955",
   "metadata": {},
   "outputs": [],
   "source": [
    "# write decorator func code that calculates running/execution time\n",
    "# for any input function"
   ]
  },
  {
   "cell_type": "code",
   "execution_count": 214,
   "id": "c6f108ad",
   "metadata": {},
   "outputs": [],
   "source": [
    "import time\n",
    "def timer(func):\n",
    "    def inner():\n",
    "        start=time.time()\n",
    "        func()\n",
    "        end=time.time()\n",
    "        time_delta=round((end-start),2)\n",
    "        print('Execution Time for '+func.__name__+' is:')\n",
    "        print(str(time_delta*100)+' miliseconds')\n",
    "    return inner"
   ]
  },
  {
   "cell_type": "code",
   "execution_count": 215,
   "id": "8fe3c6d4",
   "metadata": {},
   "outputs": [],
   "source": [
    "@timer\n",
    "def run_for():\n",
    "    for _ in range(10000):\n",
    "        for _ in range(10000):\n",
    "            pass\n",
    "        pass\n",
    "    return None"
   ]
  },
  {
   "cell_type": "code",
   "execution_count": 216,
   "id": "f3817330",
   "metadata": {},
   "outputs": [
    {
     "name": "stdout",
     "output_type": "stream",
     "text": [
      "Execution Time for run_for is:\n",
      "101.0 miliseconds\n"
     ]
    }
   ],
   "source": [
    "run_for()"
   ]
  },
  {
   "cell_type": "code",
   "execution_count": 217,
   "id": "77321ac7",
   "metadata": {},
   "outputs": [
    {
     "name": "stdout",
     "output_type": "stream",
     "text": [
      "Mean Result:  499999.5\n",
      "Execution Time for sum_list is:\n",
      "21.0 miliseconds\n"
     ]
    }
   ],
   "source": [
    "@timer\n",
    "def sum_list():\n",
    "    import numpy as np\n",
    "    l1=[n for n in range(1000000)]\n",
    "    l2=[n for n in range(1000000)]\n",
    "    l3=l1+l2\n",
    "    print('Mean Result: ', np.mean(np.array(l3)))\n",
    "    return None\n",
    "sum_list()"
   ]
  },
  {
   "cell_type": "code",
   "execution_count": null,
   "id": "3430238f",
   "metadata": {},
   "outputs": [],
   "source": []
  },
  {
   "cell_type": "code",
   "execution_count": null,
   "id": "ab87866e",
   "metadata": {},
   "outputs": [],
   "source": []
  },
  {
   "cell_type": "code",
   "execution_count": null,
   "id": "7ada7ccb",
   "metadata": {},
   "outputs": [],
   "source": []
  },
  {
   "cell_type": "code",
   "execution_count": null,
   "id": "7e2c4566",
   "metadata": {},
   "outputs": [],
   "source": []
  },
  {
   "cell_type": "code",
   "execution_count": null,
   "id": "777af13d",
   "metadata": {},
   "outputs": [],
   "source": []
  },
  {
   "cell_type": "code",
   "execution_count": null,
   "id": "dcc38187",
   "metadata": {},
   "outputs": [],
   "source": []
  },
  {
   "cell_type": "code",
   "execution_count": null,
   "id": "b71815d6",
   "metadata": {},
   "outputs": [],
   "source": []
  },
  {
   "cell_type": "code",
   "execution_count": null,
   "id": "18ee0052",
   "metadata": {},
   "outputs": [],
   "source": []
  },
  {
   "cell_type": "code",
   "execution_count": null,
   "id": "532a36d5",
   "metadata": {},
   "outputs": [],
   "source": []
  },
  {
   "cell_type": "code",
   "execution_count": null,
   "id": "6de73f24",
   "metadata": {},
   "outputs": [],
   "source": []
  },
  {
   "cell_type": "code",
   "execution_count": null,
   "id": "336fc6f2",
   "metadata": {},
   "outputs": [],
   "source": []
  },
  {
   "cell_type": "code",
   "execution_count": null,
   "id": "709f131c",
   "metadata": {},
   "outputs": [],
   "source": []
  },
  {
   "cell_type": "code",
   "execution_count": null,
   "id": "b4a706aa",
   "metadata": {},
   "outputs": [],
   "source": []
  },
  {
   "cell_type": "code",
   "execution_count": null,
   "id": "df395a0e",
   "metadata": {},
   "outputs": [],
   "source": []
  },
  {
   "cell_type": "code",
   "execution_count": null,
   "id": "a789eb3d",
   "metadata": {},
   "outputs": [],
   "source": []
  },
  {
   "cell_type": "code",
   "execution_count": null,
   "id": "ee300465",
   "metadata": {},
   "outputs": [],
   "source": []
  },
  {
   "cell_type": "code",
   "execution_count": null,
   "id": "4e7f43ce",
   "metadata": {},
   "outputs": [],
   "source": []
  },
  {
   "cell_type": "code",
   "execution_count": null,
   "id": "90af17c1",
   "metadata": {},
   "outputs": [],
   "source": []
  },
  {
   "cell_type": "code",
   "execution_count": null,
   "id": "befd40e8",
   "metadata": {},
   "outputs": [],
   "source": []
  },
  {
   "cell_type": "code",
   "execution_count": null,
   "id": "e934406a",
   "metadata": {},
   "outputs": [],
   "source": []
  },
  {
   "cell_type": "code",
   "execution_count": null,
   "id": "d104c44d",
   "metadata": {},
   "outputs": [],
   "source": []
  },
  {
   "cell_type": "code",
   "execution_count": null,
   "id": "bdb290a2",
   "metadata": {},
   "outputs": [],
   "source": []
  },
  {
   "cell_type": "code",
   "execution_count": null,
   "id": "e6e1c7da",
   "metadata": {},
   "outputs": [],
   "source": []
  },
  {
   "cell_type": "code",
   "execution_count": null,
   "id": "100670a9",
   "metadata": {},
   "outputs": [],
   "source": []
  },
  {
   "cell_type": "code",
   "execution_count": null,
   "id": "2986eb87",
   "metadata": {},
   "outputs": [],
   "source": []
  },
  {
   "cell_type": "code",
   "execution_count": null,
   "id": "c3778a5a",
   "metadata": {},
   "outputs": [],
   "source": []
  },
  {
   "cell_type": "code",
   "execution_count": null,
   "id": "0abf1d7d",
   "metadata": {},
   "outputs": [],
   "source": []
  },
  {
   "cell_type": "code",
   "execution_count": null,
   "id": "2a7c724e",
   "metadata": {},
   "outputs": [],
   "source": []
  },
  {
   "cell_type": "code",
   "execution_count": null,
   "id": "83428791",
   "metadata": {},
   "outputs": [],
   "source": []
  },
  {
   "cell_type": "code",
   "execution_count": null,
   "id": "79da8122",
   "metadata": {},
   "outputs": [],
   "source": []
  },
  {
   "cell_type": "code",
   "execution_count": null,
   "id": "014de28c",
   "metadata": {},
   "outputs": [],
   "source": []
  },
  {
   "cell_type": "code",
   "execution_count": null,
   "id": "4b96aadc",
   "metadata": {},
   "outputs": [],
   "source": []
  },
  {
   "cell_type": "code",
   "execution_count": null,
   "id": "b7a037f2",
   "metadata": {},
   "outputs": [],
   "source": []
  },
  {
   "cell_type": "code",
   "execution_count": null,
   "id": "2fa51614",
   "metadata": {},
   "outputs": [],
   "source": []
  },
  {
   "cell_type": "code",
   "execution_count": null,
   "id": "d7df0bbd",
   "metadata": {},
   "outputs": [],
   "source": []
  },
  {
   "cell_type": "code",
   "execution_count": null,
   "id": "2de90669",
   "metadata": {},
   "outputs": [],
   "source": []
  }
 ],
 "metadata": {
  "kernelspec": {
   "display_name": "Python 3 (ipykernel)",
   "language": "python",
   "name": "python3"
  },
  "language_info": {
   "codemirror_mode": {
    "name": "ipython",
    "version": 3
   },
   "file_extension": ".py",
   "mimetype": "text/x-python",
   "name": "python",
   "nbconvert_exporter": "python",
   "pygments_lexer": "ipython3",
   "version": "3.9.12"
  }
 },
 "nbformat": 4,
 "nbformat_minor": 5
}
