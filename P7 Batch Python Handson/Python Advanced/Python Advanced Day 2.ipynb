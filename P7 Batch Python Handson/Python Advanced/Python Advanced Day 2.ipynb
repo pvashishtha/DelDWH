{
 "cells": [
  {
   "cell_type": "markdown",
   "id": "3aa50a83",
   "metadata": {},
   "source": [
    "## Pyhton Advanced Day 2"
   ]
  },
  {
   "cell_type": "markdown",
   "id": "ccd941f0",
   "metadata": {},
   "source": [
    "#### MySQL with Python"
   ]
  },
  {
   "cell_type": "code",
   "execution_count": 1,
   "id": "9602923a",
   "metadata": {},
   "outputs": [
    {
     "name": "stdout",
     "output_type": "stream",
     "text": [
      "Requirement already satisfied: mysql-connector-python in c:\\users\\pvashishtha\\anaconda3\\lib\\site-packages (8.0.31)\n",
      "Requirement already satisfied: protobuf<=3.20.1,>=3.11.0 in c:\\users\\pvashishtha\\anaconda3\\lib\\site-packages (from mysql-connector-python) (3.19.1)\n"
     ]
    }
   ],
   "source": [
    "! pip install mysql-connector-python\n",
    "\n",
    "# ! pip install pymysql"
   ]
  },
  {
   "cell_type": "code",
   "execution_count": 2,
   "id": "7a510270",
   "metadata": {},
   "outputs": [],
   "source": [
    "# 1. connect to database\n",
    "# 2. create a DB cursor\n",
    "# 3. CRUD operations\n",
    "# 4. close connection"
   ]
  },
  {
   "cell_type": "code",
   "execution_count": 35,
   "id": "bf797bad",
   "metadata": {},
   "outputs": [],
   "source": [
    "# connect to database\n",
    "\n",
    "host='localhost'\n",
    "user='root'\n",
    "password=''\n",
    "database='product'\n",
    "port=3366\n",
    "\n",
    "import mysql.connector"
   ]
  },
  {
   "cell_type": "code",
   "execution_count": 36,
   "id": "d4114635",
   "metadata": {},
   "outputs": [
    {
     "name": "stdout",
     "output_type": "stream",
     "text": [
      "<mysql.connector.connection_cext.CMySQLConnection object at 0x0000023771295A60>\n"
     ]
    }
   ],
   "source": [
    "try:\n",
    "    conn=mysql.connector.connect(host=host,\n",
    "                                user=user,\n",
    "                                password=password,\n",
    "                                database=database,\n",
    "                                port=port)\n",
    "    print(conn)\n",
    "except:\n",
    "    print('Database Not Connected!')"
   ]
  },
  {
   "cell_type": "code",
   "execution_count": 5,
   "id": "430dabe8",
   "metadata": {},
   "outputs": [
    {
     "name": "stdout",
     "output_type": "stream",
     "text": [
      "CMySQLCursor: (Nothing executed yet)\n"
     ]
    }
   ],
   "source": [
    "# create cursor\n",
    "try:\n",
    "    cur=conn.cursor()\n",
    "    print(cur)\n",
    "except:\n",
    "    print('Cursor Not Created!')"
   ]
  },
  {
   "cell_type": "code",
   "execution_count": 6,
   "id": "f0beef95",
   "metadata": {},
   "outputs": [
    {
     "name": "stdout",
     "output_type": "stream",
     "text": [
      "CMySQLCursor: insert into product_sales values(12, \"sa..\n"
     ]
    }
   ],
   "source": [
    "# insert \n",
    "\n",
    "sql='insert into product_sales values(12, \"salt\", 29.50, 250, \"2023-01-08\")'\n",
    "\n",
    "cur.execute(sql)\n",
    "conn.commit()\n",
    "print(cur)"
   ]
  },
  {
   "cell_type": "code",
   "execution_count": 7,
   "id": "6cf1b078",
   "metadata": {},
   "outputs": [
    {
     "name": "stdout",
     "output_type": "stream",
     "text": [
      "CMySQLCursor: insert into product_sales values(13, \"de..\n"
     ]
    }
   ],
   "source": [
    "# insert \n",
    "\n",
    "sql='insert into product_sales values(13, \"detergent\", 329.50, 150, \"2023-01-02\")'\n",
    "\n",
    "cur.execute(sql)\n",
    "conn.commit()\n",
    "print(cur)"
   ]
  },
  {
   "cell_type": "code",
   "execution_count": 8,
   "id": "775c708a",
   "metadata": {},
   "outputs": [],
   "source": [
    "# insert many records at once\n",
    "sql='insert into product_sales values(%s, %s, %s, %s, %s)'\n",
    "\n",
    "vals=[\n",
    "    (14, \"toothpaste\", 45.0, 120, \"2022-11-14\"),\n",
    "    (15, \"toothbrush\", 15.0, 220, \"2022-11-16\"),\n",
    "    (16, \"cheese\", 92.60, 70, \"2022-12-27\"),\n",
    "    (17, \"bread\", 45.0, 40, \"2023-01-09\")\n",
    "]\n",
    "\n",
    "cur.executemany(sql, vals)\n",
    "conn.commit()"
   ]
  },
  {
   "cell_type": "code",
   "execution_count": 9,
   "id": "ca0c630d",
   "metadata": {},
   "outputs": [],
   "source": [
    "# read data from DB\n",
    "sql='select * from product_sales'\n",
    "cur.execute(sql)"
   ]
  },
  {
   "cell_type": "code",
   "execution_count": 10,
   "id": "f4b0ce46",
   "metadata": {},
   "outputs": [
    {
     "name": "stdout",
     "output_type": "stream",
     "text": [
      "_______________________________________\n",
      "PID: 10\n",
      "Product: soap\n",
      "Price: 35.9\n",
      "Qty: 120\n",
      "Mfg Date: 2022-12-07\n",
      "_______________________________________\n",
      "_______________________________________\n",
      "PID: 11\n",
      "Product: shampoo\n",
      "Price: 99.99\n",
      "Qty: 50\n",
      "Mfg Date: 2022-11-09\n",
      "_______________________________________\n",
      "_______________________________________\n",
      "PID: 12\n",
      "Product: salt\n",
      "Price: 29.5\n",
      "Qty: 250\n",
      "Mfg Date: 2023-01-08\n",
      "_______________________________________\n",
      "_______________________________________\n",
      "PID: 13\n",
      "Product: detergent\n",
      "Price: 99.99\n",
      "Qty: 150\n",
      "Mfg Date: 2023-01-02\n",
      "_______________________________________\n",
      "_______________________________________\n",
      "PID: 14\n",
      "Product: toothpaste\n",
      "Price: 45.0\n",
      "Qty: 120\n",
      "Mfg Date: 2022-11-14\n",
      "_______________________________________\n",
      "_______________________________________\n",
      "PID: 15\n",
      "Product: toothbrush\n",
      "Price: 15.0\n",
      "Qty: 220\n",
      "Mfg Date: 2022-11-16\n",
      "_______________________________________\n",
      "_______________________________________\n",
      "PID: 16\n",
      "Product: cheese\n",
      "Price: 92.6\n",
      "Qty: 70\n",
      "Mfg Date: 2022-12-27\n",
      "_______________________________________\n",
      "_______________________________________\n",
      "PID: 17\n",
      "Product: bread\n",
      "Price: 45.0\n",
      "Qty: 40\n",
      "Mfg Date: 2023-01-09\n",
      "_______________________________________\n"
     ]
    }
   ],
   "source": [
    "result=cur.fetchall()\n",
    "for record in result:\n",
    "    print('_______________________________________')\n",
    "    print(f'PID: {record[0]}\\nProduct: {record[1]}')\n",
    "    print(f'Price: {record[2]}\\nQty: {record[3]}')\n",
    "    print(f'Mfg Date: {record[4]}')\n",
    "    print('_______________________________________')"
   ]
  },
  {
   "cell_type": "code",
   "execution_count": 11,
   "id": "141d8964",
   "metadata": {},
   "outputs": [
    {
     "name": "stdout",
     "output_type": "stream",
     "text": [
      "_______________________________________\n",
      "PID: 13\n",
      "Product: detergent\n",
      "Price: 87.5\n",
      "Qty: 150\n",
      "Mfg Date: 2023-01-02\n",
      "_______________________________________\n"
     ]
    }
   ],
   "source": [
    "# update\n",
    "sql='update product_sales set price=87.50 where pid=13'\n",
    "cur.execute(sql)\n",
    "conn.commit()\n",
    "\n",
    "sql='select * from product_sales where pid=13'\n",
    "cur.execute(sql)\n",
    "result=cur.fetchall()\n",
    "for record in result:\n",
    "    print('_______________________________________')\n",
    "    print(f'PID: {record[0]}\\nProduct: {record[1]}')\n",
    "    print(f'Price: {record[2]}\\nQty: {record[3]}')\n",
    "    print(f'Mfg Date: {record[4]}')\n",
    "    print('_______________________________________')"
   ]
  },
  {
   "cell_type": "code",
   "execution_count": 12,
   "id": "8d67fdf4",
   "metadata": {},
   "outputs": [],
   "source": [
    "# delete\n",
    "\n",
    "sql='delete from product_sales where pid=11'\n",
    "cur.execute(sql)\n",
    "conn.commit()\n"
   ]
  },
  {
   "cell_type": "code",
   "execution_count": 13,
   "id": "70e0bb91",
   "metadata": {},
   "outputs": [
    {
     "name": "stdout",
     "output_type": "stream",
     "text": [
      "_______________________________________\n",
      "PID: 16\n",
      "Product: cheese\n",
      "Price: 92.6\n",
      "Qty: 70\n",
      "Mfg Date: 2022-12-27\n",
      "_______________________________________\n"
     ]
    }
   ],
   "source": [
    "# fetch one record at a time - highest price product\n",
    "sql='select * from product_sales order by price desc'\n",
    "cur.execute(sql)\n",
    "record=cur.fetchone() # fecthes one record only at a time\n",
    "print('_______________________________________')\n",
    "print(f'PID: {record[0]}\\nProduct: {record[1]}')\n",
    "print(f'Price: {record[2]}\\nQty: {record[3]}')\n",
    "print(f'Mfg Date: {record[4]}')\n",
    "print('_______________________________________')"
   ]
  },
  {
   "cell_type": "code",
   "execution_count": 21,
   "id": "ea156742",
   "metadata": {},
   "outputs": [
    {
     "name": "stdout",
     "output_type": "stream",
     "text": [
      "Table Dropped\n"
     ]
    }
   ],
   "source": [
    "# DROP | TRUNCATE\n",
    "sql='drop table product_sales'\n",
    "try:\n",
    "    cur.execute(sql)\n",
    "    conn.commit()\n",
    "    print('Table Dropped')\n",
    "except:\n",
    "    print('DROP | TRUNC Error!')"
   ]
  },
  {
   "cell_type": "code",
   "execution_count": 37,
   "id": "d6378c54",
   "metadata": {},
   "outputs": [],
   "source": [
    "# close\n",
    "cur.close()\n",
    "conn.close()"
   ]
  },
  {
   "cell_type": "markdown",
   "id": "c1edfd8c",
   "metadata": {},
   "source": [
    "#### Student Data"
   ]
  },
  {
   "cell_type": "code",
   "execution_count": 44,
   "id": "85305e7d",
   "metadata": {},
   "outputs": [],
   "source": [
    "import mysql.connector\n",
    "class Student:\n",
    "    def __init__(self, host, user, password, database, port):\n",
    "        self.host=host\n",
    "        self.user=user\n",
    "        self.password=password\n",
    "        self.database=database\n",
    "        self.port=port\n",
    "        self.conn=None\n",
    "        self.cur=None\n",
    "        return None\n",
    "    def get_connection(self):\n",
    "        self.conn=mysql.connector.connect(host=self.host,\n",
    "                                         user=self.user,\n",
    "                                         password=self.password,\n",
    "                                         database=self.database,\n",
    "                                         port=self.port)\n",
    "        self.cur=self.conn.cursor()\n",
    "        return None\n",
    "    def close_connection(self):\n",
    "        self.cur.close()\n",
    "        self.conn.close()\n",
    "    def validate(self, email):\n",
    "        if email.index('@')>0:\n",
    "            return True\n",
    "        else:\n",
    "            return False\n",
    "        return False\n",
    "    def create_student_data(self):\n",
    "        # take user inputs\n",
    "        # call get_connection()\n",
    "        # call validate()\n",
    "        # insert using conn and cur\n",
    "        # commit\n",
    "        # call close_connection()\n",
    "        roll=int(input('Roll No: '))\n",
    "        name=input('Name: ')\n",
    "        email=input('Email: ')\n",
    "        course=input('Course: ')\n",
    "        date=input('Start Date: ')\n",
    "        try:\n",
    "            self.get_connection()\n",
    "            if self.validate(email):\n",
    "                sql=f'insert into student values({roll},\"{name}\",\"{email}\",\"{course}\",\"{date}\")'\n",
    "                self.cur.execute(sql)\n",
    "                self.conn.commit()\n",
    "            else:\n",
    "                print('Problem Creating Database Record!')\n",
    "        except:\n",
    "            print('Error!!!')\n",
    "            raise\n",
    "        else:\n",
    "            print('Record Added!')\n",
    "        finally:\n",
    "            self.close_connection()"
   ]
  },
  {
   "cell_type": "code",
   "execution_count": 49,
   "id": "563ec4a1",
   "metadata": {},
   "outputs": [
    {
     "name": "stdout",
     "output_type": "stream",
     "text": [
      "Roll No: 120\n",
      "Name: Saumya\n",
      "Email: saumya@deloitte.com\n",
      "Course: PHP\n",
      "Start Date: 2023-01-09\n",
      "Record Added!\n"
     ]
    }
   ],
   "source": [
    "obj1=Student('localhost','root','','student',3366)\n",
    "obj1.create_student_data()"
   ]
  },
  {
   "cell_type": "markdown",
   "id": "2b1b792b",
   "metadata": {},
   "source": [
    "### Reading SQL Data using Pandas"
   ]
  },
  {
   "cell_type": "code",
   "execution_count": 50,
   "id": "1b6c2819",
   "metadata": {},
   "outputs": [
    {
     "name": "stderr",
     "output_type": "stream",
     "text": [
      "C:\\Users\\pvashishtha\\Anaconda3\\lib\\site-packages\\pandas\\io\\sql.py:761: UserWarning: pandas only support SQLAlchemy connectable(engine/connection) ordatabase string URI or sqlite3 DBAPI2 connectionother DBAPI2 objects are not tested, please consider using SQLAlchemy\n",
      "  warnings.warn(\n"
     ]
    },
    {
     "data": {
      "text/html": [
       "<div>\n",
       "<style scoped>\n",
       "    .dataframe tbody tr th:only-of-type {\n",
       "        vertical-align: middle;\n",
       "    }\n",
       "\n",
       "    .dataframe tbody tr th {\n",
       "        vertical-align: top;\n",
       "    }\n",
       "\n",
       "    .dataframe thead th {\n",
       "        text-align: right;\n",
       "    }\n",
       "</style>\n",
       "<table border=\"1\" class=\"dataframe\">\n",
       "  <thead>\n",
       "    <tr style=\"text-align: right;\">\n",
       "      <th></th>\n",
       "      <th>roll</th>\n",
       "      <th>name</th>\n",
       "      <th>email</th>\n",
       "      <th>course</th>\n",
       "      <th>stdate</th>\n",
       "    </tr>\n",
       "  </thead>\n",
       "  <tbody>\n",
       "    <tr>\n",
       "      <th>0</th>\n",
       "      <td>109</td>\n",
       "      <td>Prateek</td>\n",
       "      <td>pv@deloitte.com</td>\n",
       "      <td>Python</td>\n",
       "      <td>2023-01-02</td>\n",
       "    </tr>\n",
       "    <tr>\n",
       "      <th>1</th>\n",
       "      <td>110</td>\n",
       "      <td>riya</td>\n",
       "      <td>riya@deloitte.com</td>\n",
       "      <td>java</td>\n",
       "      <td>2022-12-01</td>\n",
       "    </tr>\n",
       "    <tr>\n",
       "      <th>2</th>\n",
       "      <td>120</td>\n",
       "      <td>Saumya</td>\n",
       "      <td>saumya@deloitte.com</td>\n",
       "      <td>PHP</td>\n",
       "      <td>2023-01-09</td>\n",
       "    </tr>\n",
       "  </tbody>\n",
       "</table>\n",
       "</div>"
      ],
      "text/plain": [
       "   roll     name                email  course      stdate\n",
       "0   109  Prateek      pv@deloitte.com  Python  2023-01-02\n",
       "1   110     riya    riya@deloitte.com    java  2022-12-01\n",
       "2   120   Saumya  saumya@deloitte.com     PHP  2023-01-09"
      ]
     },
     "execution_count": 50,
     "metadata": {},
     "output_type": "execute_result"
    }
   ],
   "source": [
    "host='localhost'\n",
    "user='root'\n",
    "password=''\n",
    "database='student'\n",
    "port=3366\n",
    "\n",
    "import mysql.connector\n",
    "\n",
    "conn=mysql.connector.connect(host=host, user=user, \n",
    "                            password=password, database=database,\n",
    "                            port=port)\n",
    "\n",
    "import pandas as pd\n",
    "sql=\"select * from student\"\n",
    "data=pd.read_sql(sql, conn)\n",
    "data"
   ]
  },
  {
   "cell_type": "code",
   "execution_count": null,
   "id": "c6fd0f82",
   "metadata": {},
   "outputs": [],
   "source": []
  },
  {
   "cell_type": "markdown",
   "id": "ba6dc859",
   "metadata": {},
   "source": [
    "## RegEx"
   ]
  },
  {
   "cell_type": "code",
   "execution_count": 51,
   "id": "ab3760d4",
   "metadata": {},
   "outputs": [],
   "source": [
    "import re"
   ]
  },
  {
   "cell_type": "code",
   "execution_count": 53,
   "id": "4dbb68a0",
   "metadata": {
    "scrolled": true
   },
   "outputs": [
    {
     "data": {
      "text/plain": [
       "['__name__',\n",
       " '__doc__',\n",
       " '__package__',\n",
       " '__loader__',\n",
       " '__spec__',\n",
       " '__file__',\n",
       " '__cached__',\n",
       " '__builtins__',\n",
       " 'enum',\n",
       " 'sre_compile',\n",
       " 'sre_parse',\n",
       " 'functools',\n",
       " '_locale',\n",
       " '__all__',\n",
       " '__version__',\n",
       " 'RegexFlag',\n",
       " 'ASCII',\n",
       " 'A',\n",
       " 'IGNORECASE',\n",
       " 'I',\n",
       " 'LOCALE',\n",
       " 'L',\n",
       " 'UNICODE',\n",
       " 'U',\n",
       " 'MULTILINE',\n",
       " 'M',\n",
       " 'DOTALL',\n",
       " 'S',\n",
       " 'VERBOSE',\n",
       " 'X',\n",
       " 'TEMPLATE',\n",
       " 'T',\n",
       " 'DEBUG',\n",
       " 'error',\n",
       " 'match',\n",
       " 'fullmatch',\n",
       " 'search',\n",
       " 'sub',\n",
       " 'subn',\n",
       " 'split',\n",
       " 'findall',\n",
       " 'finditer',\n",
       " 'compile',\n",
       " 'purge',\n",
       " 'template',\n",
       " '_special_chars_map',\n",
       " 'escape',\n",
       " 'Pattern',\n",
       " 'Match',\n",
       " '_cache',\n",
       " '_MAXCACHE',\n",
       " '_compile',\n",
       " '_compile_repl',\n",
       " '_expand',\n",
       " '_subx',\n",
       " 'copyreg',\n",
       " '_pickle',\n",
       " 'Scanner']"
      ]
     },
     "execution_count": 53,
     "metadata": {},
     "output_type": "execute_result"
    }
   ],
   "source": [
    "re.__dir__()"
   ]
  },
  {
   "cell_type": "markdown",
   "id": "a28f8469",
   "metadata": {},
   "source": [
    "#### search()"
   ]
  },
  {
   "cell_type": "code",
   "execution_count": 54,
   "id": "f8ced877",
   "metadata": {},
   "outputs": [
    {
     "name": "stdout",
     "output_type": "stream",
     "text": [
      "<re.Match object; span=(8, 9), match='.'>\n"
     ]
    }
   ],
   "source": [
    "s='deloitte.com'\n",
    "\n",
    "match=re.search(r'\\.', s)\n",
    "print(match)"
   ]
  },
  {
   "cell_type": "code",
   "execution_count": 55,
   "id": "120623f5",
   "metadata": {},
   "outputs": [
    {
     "name": "stdout",
     "output_type": "stream",
     "text": [
      "<re.Match object; span=(0, 4), match='from'>\n"
     ]
    }
   ],
   "source": [
    "s='from Deloitte'\n",
    "print(re.search('from', s))"
   ]
  },
  {
   "cell_type": "code",
   "execution_count": 57,
   "id": "665e5dd3",
   "metadata": {},
   "outputs": [
    {
     "name": "stdout",
     "output_type": "stream",
     "text": [
      "<re.Match object; span=(5, 8), match='Del'>\n"
     ]
    }
   ],
   "source": [
    "s='from Deloitte'\n",
    "print(re.search('Del', s))"
   ]
  },
  {
   "cell_type": "code",
   "execution_count": 59,
   "id": "af3623e8",
   "metadata": {},
   "outputs": [
    {
     "name": "stdout",
     "output_type": "stream",
     "text": [
      "<re.Match object; span=(0, 2), match='te'>\n"
     ]
    }
   ],
   "source": [
    "s='telecast deloitte'\n",
    "print(re.search(r'\\bte', s))"
   ]
  },
  {
   "cell_type": "code",
   "execution_count": 60,
   "id": "b5397b6f",
   "metadata": {},
   "outputs": [
    {
     "name": "stdout",
     "output_type": "stream",
     "text": [
      "<re.Match object; span=(15, 17), match='te'>\n"
     ]
    }
   ],
   "source": [
    "s='telecast deloitte'\n",
    "print(re.search(r'te\\b', s))"
   ]
  },
  {
   "cell_type": "code",
   "execution_count": 61,
   "id": "91922c22",
   "metadata": {},
   "outputs": [
    {
     "name": "stdout",
     "output_type": "stream",
     "text": [
      "<re.Match object; span=(0, 3), match='the'>\n"
     ]
    }
   ],
   "source": [
    "s='the begining of the rain'\n",
    "print(re.search(r'\\Athe', s))"
   ]
  },
  {
   "cell_type": "code",
   "execution_count": 62,
   "id": "35173bc1",
   "metadata": {},
   "outputs": [
    {
     "name": "stdout",
     "output_type": "stream",
     "text": [
      "<re.Match object; span=(1, 4), match='ain'>\n"
     ]
    }
   ],
   "source": [
    "s='raining in the training'\n",
    "print(re.search(r'\\Bain', s))"
   ]
  },
  {
   "cell_type": "code",
   "execution_count": 63,
   "id": "c8eaeed5",
   "metadata": {},
   "outputs": [
    {
     "name": "stdout",
     "output_type": "stream",
     "text": [
      "<re.Match object; span=(6, 9), match='123'>\n"
     ]
    }
   ],
   "source": [
    "s='hello 123 testing'\n",
    "print(re.search(r'\\d\\d\\d', s))"
   ]
  },
  {
   "cell_type": "code",
   "execution_count": 64,
   "id": "6b5320f3",
   "metadata": {},
   "outputs": [
    {
     "name": "stdout",
     "output_type": "stream",
     "text": [
      "<re.Match object; span=(5, 6), match=' '>\n"
     ]
    }
   ],
   "source": [
    "s='hello 123 testing'\n",
    "print(re.search(r'\\s', s))"
   ]
  },
  {
   "cell_type": "code",
   "execution_count": 66,
   "id": "57b7751c",
   "metadata": {},
   "outputs": [
    {
     "data": {
      "text/plain": [
       "'12'"
      ]
     },
     "execution_count": 66,
     "metadata": {},
     "output_type": "execute_result"
    }
   ],
   "source": [
    "re.search(r'\\d\\d', s)[0]"
   ]
  },
  {
   "cell_type": "code",
   "execution_count": 68,
   "id": "4e4b5c44",
   "metadata": {},
   "outputs": [
    {
     "data": {
      "text/plain": [
       "<re.Match object; span=(21, 26), match='98087'>"
      ]
     },
     "execution_count": 68,
     "metadata": {},
     "output_type": "execute_result"
    }
   ],
   "source": [
    "re.search(r'\\d{5}', 'my mobile num is +91-9808766699. do not call!')"
   ]
  },
  {
   "cell_type": "code",
   "execution_count": 69,
   "id": "cc30ac7b",
   "metadata": {},
   "outputs": [
    {
     "data": {
      "text/plain": [
       "'9808766699'"
      ]
     },
     "execution_count": 69,
     "metadata": {},
     "output_type": "execute_result"
    }
   ],
   "source": [
    "re.search(r'\\d{10}', 'my mobile num is +91-9808766699. do not call!')[0]"
   ]
  },
  {
   "cell_type": "code",
   "execution_count": 70,
   "id": "ae7687a0",
   "metadata": {},
   "outputs": [
    {
     "name": "stdout",
     "output_type": "stream",
     "text": [
      "<re.Match object; span=(5, 6), match='!'>\n"
     ]
    }
   ],
   "source": [
    "print(re.search(r'\\W', \"Hello! I am Alexa.\"))"
   ]
  },
  {
   "cell_type": "markdown",
   "id": "6efc3e2a",
   "metadata": {},
   "source": [
    "### findall()"
   ]
  },
  {
   "cell_type": "code",
   "execution_count": 71,
   "id": "0dd4040f",
   "metadata": {},
   "outputs": [
    {
     "name": "stdout",
     "output_type": "stream",
     "text": [
      "['9', '1', '9', '8', '0', '8', '1', '2', '3', '4', '5', '6']\n"
     ]
    }
   ],
   "source": [
    "s='Hi Alexa! recharge my mobile +91-9808123456'\n",
    "print(re.findall(r'\\d', s))"
   ]
  },
  {
   "cell_type": "code",
   "execution_count": 73,
   "id": "32669a00",
   "metadata": {},
   "outputs": [
    {
     "name": "stdout",
     "output_type": "stream",
     "text": [
      "['9808123456', '9837771001']\n"
     ]
    }
   ],
   "source": [
    "s=' I have two mobile number viz 9808123456 and 9837771001'\n",
    "print(re.findall(r'\\d{10}',s))"
   ]
  },
  {
   "cell_type": "markdown",
   "id": "04cee17d",
   "metadata": {},
   "source": [
    "### compile()"
   ]
  },
  {
   "cell_type": "code",
   "execution_count": 74,
   "id": "a87fcdeb",
   "metadata": {},
   "outputs": [],
   "source": [
    "pattern=re.compile(r'\\d{10}')"
   ]
  },
  {
   "cell_type": "code",
   "execution_count": 76,
   "id": "40463a0c",
   "metadata": {},
   "outputs": [
    {
     "name": "stdout",
     "output_type": "stream",
     "text": [
      "<re.Match object; span=(13, 23), match='9808123456'>\n"
     ]
    }
   ],
   "source": [
    "print(pattern.search('my mobile is 9808123456 and 9837371201'))"
   ]
  },
  {
   "cell_type": "code",
   "execution_count": 77,
   "id": "206d8fc6",
   "metadata": {},
   "outputs": [
    {
     "name": "stdout",
     "output_type": "stream",
     "text": [
      "['9808123456', '9837371201']\n"
     ]
    }
   ],
   "source": [
    "print(pattern.findall('my mobile is 9808123456 and 9837371201'))"
   ]
  },
  {
   "cell_type": "code",
   "execution_count": 78,
   "id": "f75c79b6",
   "metadata": {},
   "outputs": [],
   "source": [
    "s='''How are you all? I am feeling good today.\n",
    "Do you know what is date today? Is it january 10.'''"
   ]
  },
  {
   "cell_type": "code",
   "execution_count": 79,
   "id": "58ac975c",
   "metadata": {},
   "outputs": [],
   "source": [
    "pattern=re.compile(r'\\w+')"
   ]
  },
  {
   "cell_type": "code",
   "execution_count": 80,
   "id": "3a4e3af6",
   "metadata": {},
   "outputs": [
    {
     "name": "stdout",
     "output_type": "stream",
     "text": [
      "<re.Match object; span=(0, 3), match='How'>\n"
     ]
    }
   ],
   "source": [
    "print(pattern.search(s))"
   ]
  },
  {
   "cell_type": "code",
   "execution_count": 81,
   "id": "1c5e81a6",
   "metadata": {},
   "outputs": [
    {
     "name": "stdout",
     "output_type": "stream",
     "text": [
      "['How', 'are', 'you', 'all', 'I', 'am', 'feeling', 'good', 'today', 'Do', 'you', 'know', 'what', 'is', 'date', 'today', 'Is', 'it', 'january', '10']\n"
     ]
    }
   ],
   "source": [
    "print(pattern.findall(s))"
   ]
  },
  {
   "cell_type": "markdown",
   "id": "4ffcecf0",
   "metadata": {},
   "source": [
    "### split()"
   ]
  },
  {
   "cell_type": "code",
   "execution_count": 82,
   "id": "07361236",
   "metadata": {},
   "outputs": [
    {
     "name": "stdout",
     "output_type": "stream",
     "text": [
      "['hello', 'how', 'are', 'you', 'my', 'rank', 'is', '100']\n"
     ]
    }
   ],
   "source": [
    "print(re.split(r'\\W+', 'hello how are you? my rank is 100'))"
   ]
  },
  {
   "cell_type": "code",
   "execution_count": 84,
   "id": "f6d22ed4",
   "metadata": {},
   "outputs": [
    {
     "name": "stdout",
     "output_type": "stream",
     "text": [
      "['hello', 'how', 'are', 'you?', 'my', 'rank', 'is', '100.']\n"
     ]
    }
   ],
   "source": [
    "print(re.split(r'\\s', 'hello how are you? my rank is 100.'))"
   ]
  },
  {
   "cell_type": "code",
   "execution_count": 86,
   "id": "d4d6ea1c",
   "metadata": {},
   "outputs": [
    {
     "name": "stdout",
     "output_type": "stream",
     "text": [
      "['my rank is ', ' and your rank is ', '']\n"
     ]
    }
   ],
   "source": [
    "print(re.split(r'\\d+', 'my rank is 100 and your rank is 99'))"
   ]
  },
  {
   "cell_type": "code",
   "execution_count": 87,
   "id": "4e3ad6c8",
   "metadata": {},
   "outputs": [
    {
     "name": "stdout",
     "output_type": "stream",
     "text": [
      "['192', '168', '56', '234']\n"
     ]
    }
   ],
   "source": [
    "print(re.split(r'\\.','192.168.56.234'))"
   ]
  },
  {
   "cell_type": "code",
   "execution_count": 88,
   "id": "c181aa3e",
   "metadata": {},
   "outputs": [
    {
     "name": "stdout",
     "output_type": "stream",
     "text": [
      "['prateek', 'deloitte.com']\n"
     ]
    }
   ],
   "source": [
    "print(re.split(r'@','prateek@deloitte.com'))"
   ]
  },
  {
   "cell_type": "markdown",
   "id": "a15553ba",
   "metadata": {},
   "source": [
    "### sub()"
   ]
  },
  {
   "cell_type": "code",
   "execution_count": 89,
   "id": "c7098cb6",
   "metadata": {},
   "outputs": [],
   "source": [
    "# substitute the substring"
   ]
  },
  {
   "cell_type": "code",
   "execution_count": 92,
   "id": "b1a37db7",
   "metadata": {},
   "outputs": [
    {
     "name": "stdout",
     "output_type": "stream",
     "text": [
      "I like to book OLA cabs. OLA is better.\n"
     ]
    }
   ],
   "source": [
    "s='I like to book Uber cabs. Uber is better.'\n",
    "print(re.sub('UBER', 'OLA', s, flags=re.IGNORECASE))"
   ]
  },
  {
   "cell_type": "code",
   "execution_count": 93,
   "id": "eff42273",
   "metadata": {},
   "outputs": [
    {
     "name": "stdout",
     "output_type": "stream",
     "text": [
      "I like to book OLA cabs. Uber is better.\n"
     ]
    }
   ],
   "source": [
    "s='I like to book Uber cabs. Uber is better.'\n",
    "print(re.sub('UBER', 'OLA', s, flags=re.IGNORECASE, count=1))"
   ]
  },
  {
   "cell_type": "code",
   "execution_count": 98,
   "id": "35da5e94",
   "metadata": {},
   "outputs": [
    {
     "name": "stdout",
     "output_type": "stream",
     "text": [
      "Peter POLE has baught a POLE so that peter POLE can use the pipe\n"
     ]
    }
   ],
   "source": [
    "s='Peter pipe has baught a pipe so that peter pipe can use the pipe'\n",
    "print(re.sub('PIPE', 'POLE', s, flags=re.IGNORECASE, count=3))"
   ]
  },
  {
   "cell_type": "markdown",
   "id": "8af1ef61",
   "metadata": {},
   "source": [
    "### Pattern Based Searching"
   ]
  },
  {
   "cell_type": "code",
   "execution_count": 99,
   "id": "6cb056ff",
   "metadata": {},
   "outputs": [
    {
     "name": "stdout",
     "output_type": "stream",
     "text": [
      "<re.Match object; span=(36, 46), match='16 January'>\n"
     ]
    }
   ],
   "source": [
    "s='I am not available for meeting from 16 January'\n",
    "pattern='(\\d{2}) ([A-Za-z]+)'\n",
    "match=re.search(pattern, s)\n",
    "print(match)"
   ]
  },
  {
   "cell_type": "code",
   "execution_count": 100,
   "id": "203766ed",
   "metadata": {},
   "outputs": [
    {
     "name": "stdout",
     "output_type": "stream",
     "text": [
      "36 46\n"
     ]
    }
   ],
   "source": [
    "print(match.start(), match.end())"
   ]
  },
  {
   "cell_type": "code",
   "execution_count": 101,
   "id": "e3568e0a",
   "metadata": {},
   "outputs": [
    {
     "name": "stdout",
     "output_type": "stream",
     "text": [
      "16 January"
     ]
    }
   ],
   "source": [
    "for char in range(match.start(), match.end()):\n",
    "    print(s[char], end='')"
   ]
  },
  {
   "cell_type": "code",
   "execution_count": 102,
   "id": "a73cbe96",
   "metadata": {},
   "outputs": [
    {
     "name": "stdout",
     "output_type": "stream",
     "text": [
      "16 January\n"
     ]
    }
   ],
   "source": [
    "print(match[0])"
   ]
  },
  {
   "cell_type": "code",
   "execution_count": 103,
   "id": "431acbad",
   "metadata": {},
   "outputs": [
    {
     "name": "stdout",
     "output_type": "stream",
     "text": [
      "16\n"
     ]
    }
   ],
   "source": [
    "print(match.group(1))"
   ]
  },
  {
   "cell_type": "code",
   "execution_count": 104,
   "id": "b224d178",
   "metadata": {},
   "outputs": [
    {
     "name": "stdout",
     "output_type": "stream",
     "text": [
      "January\n"
     ]
    }
   ],
   "source": [
    "print(match.group(2))"
   ]
  },
  {
   "cell_type": "code",
   "execution_count": 105,
   "id": "37e1740c",
   "metadata": {},
   "outputs": [],
   "source": [
    "#  find email id from str and extract it.\n",
    "\n",
    "string='my email id is prateek_9090@deloitte.com. send email here'"
   ]
  },
  {
   "cell_type": "code",
   "execution_count": 109,
   "id": "c4459a78",
   "metadata": {},
   "outputs": [
    {
     "name": "stdout",
     "output_type": "stream",
     "text": [
      "prateek_9090@deloitte.com\n"
     ]
    }
   ],
   "source": [
    "pattern='([A-Za-z\\_0-9]+)(@deloitte.com)'\n",
    "match=re.search(pattern, string)\n",
    "print(match.group(0))"
   ]
  },
  {
   "cell_type": "code",
   "execution_count": 110,
   "id": "2e77f464",
   "metadata": {},
   "outputs": [],
   "source": [
    "# write a function code that returns number of blank spaces, \n",
    "# special characters and words in a long text"
   ]
  },
  {
   "cell_type": "code",
   "execution_count": 113,
   "id": "d63bebdd",
   "metadata": {},
   "outputs": [],
   "source": [
    "def counters(text):\n",
    "    pattern_spaces='\\s'\n",
    "    pattern_spcl_chars='(\\W|\\_|\\%)'\n",
    "    pattern_words='\\w+'\n",
    "    \n",
    "    spaces=len(re.findall(pattern_spaces, text))\n",
    "    spcl_chars=len(re.findall(pattern_spcl_chars, text))- spaces\n",
    "    words=len(re.findall(pattern_words, text))\n",
    "    \n",
    "    return spaces, spcl_chars, words"
   ]
  },
  {
   "cell_type": "code",
   "execution_count": 114,
   "id": "8c19e830",
   "metadata": {},
   "outputs": [
    {
     "data": {
      "text/plain": [
       "(8, 5, 9)"
      ]
     },
     "execution_count": 114,
     "metadata": {},
     "output_type": "execute_result"
    }
   ],
   "source": [
    "counters('hello deloitte! are you okay? I am, probably, fine.')"
   ]
  },
  {
   "cell_type": "code",
   "execution_count": null,
   "id": "dfd88d73",
   "metadata": {},
   "outputs": [],
   "source": []
  },
  {
   "cell_type": "code",
   "execution_count": null,
   "id": "7802b86b",
   "metadata": {},
   "outputs": [],
   "source": []
  },
  {
   "cell_type": "code",
   "execution_count": null,
   "id": "a91782ee",
   "metadata": {},
   "outputs": [],
   "source": []
  },
  {
   "cell_type": "code",
   "execution_count": null,
   "id": "0679b8f9",
   "metadata": {},
   "outputs": [],
   "source": []
  },
  {
   "cell_type": "code",
   "execution_count": null,
   "id": "a3c9de0f",
   "metadata": {},
   "outputs": [],
   "source": []
  },
  {
   "cell_type": "code",
   "execution_count": null,
   "id": "d4a9db22",
   "metadata": {},
   "outputs": [],
   "source": []
  },
  {
   "cell_type": "code",
   "execution_count": null,
   "id": "db50dbf3",
   "metadata": {},
   "outputs": [],
   "source": []
  },
  {
   "cell_type": "code",
   "execution_count": null,
   "id": "bd71389b",
   "metadata": {},
   "outputs": [],
   "source": []
  },
  {
   "cell_type": "code",
   "execution_count": null,
   "id": "ec99291e",
   "metadata": {},
   "outputs": [],
   "source": []
  },
  {
   "cell_type": "code",
   "execution_count": null,
   "id": "fd878d2b",
   "metadata": {},
   "outputs": [],
   "source": []
  },
  {
   "cell_type": "code",
   "execution_count": null,
   "id": "66ef9e31",
   "metadata": {},
   "outputs": [],
   "source": []
  },
  {
   "cell_type": "code",
   "execution_count": null,
   "id": "a4a1cd72",
   "metadata": {},
   "outputs": [],
   "source": []
  },
  {
   "cell_type": "code",
   "execution_count": null,
   "id": "935dbc56",
   "metadata": {},
   "outputs": [],
   "source": []
  },
  {
   "cell_type": "code",
   "execution_count": null,
   "id": "0cf1642e",
   "metadata": {},
   "outputs": [],
   "source": []
  },
  {
   "cell_type": "code",
   "execution_count": null,
   "id": "c75bdd96",
   "metadata": {},
   "outputs": [],
   "source": []
  },
  {
   "cell_type": "code",
   "execution_count": null,
   "id": "6e84fba9",
   "metadata": {},
   "outputs": [],
   "source": []
  },
  {
   "cell_type": "code",
   "execution_count": null,
   "id": "5aaf2caa",
   "metadata": {},
   "outputs": [],
   "source": []
  },
  {
   "cell_type": "code",
   "execution_count": null,
   "id": "ebccb004",
   "metadata": {},
   "outputs": [],
   "source": []
  },
  {
   "cell_type": "code",
   "execution_count": null,
   "id": "df8b5cf0",
   "metadata": {},
   "outputs": [],
   "source": []
  },
  {
   "cell_type": "code",
   "execution_count": null,
   "id": "8c8b0d46",
   "metadata": {},
   "outputs": [],
   "source": []
  },
  {
   "cell_type": "code",
   "execution_count": null,
   "id": "84fe9c6a",
   "metadata": {},
   "outputs": [],
   "source": []
  },
  {
   "cell_type": "code",
   "execution_count": null,
   "id": "e6479d95",
   "metadata": {},
   "outputs": [],
   "source": []
  },
  {
   "cell_type": "markdown",
   "id": "2a25cde3",
   "metadata": {},
   "source": []
  }
 ],
 "metadata": {
  "kernelspec": {
   "display_name": "Python 3 (ipykernel)",
   "language": "python",
   "name": "python3"
  },
  "language_info": {
   "codemirror_mode": {
    "name": "ipython",
    "version": 3
   },
   "file_extension": ".py",
   "mimetype": "text/x-python",
   "name": "python",
   "nbconvert_exporter": "python",
   "pygments_lexer": "ipython3",
   "version": "3.9.12"
  }
 },
 "nbformat": 4,
 "nbformat_minor": 5
}
