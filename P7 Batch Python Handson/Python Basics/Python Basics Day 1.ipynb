{
 "cells": [
  {
   "cell_type": "markdown",
   "id": "8a6fe773",
   "metadata": {},
   "source": [
    "## Python Basics Day 1"
   ]
  },
  {
   "cell_type": "code",
   "execution_count": 3,
   "id": "af63b50f",
   "metadata": {},
   "outputs": [
    {
     "data": {
      "text/plain": [
       "135"
      ]
     },
     "execution_count": 3,
     "metadata": {},
     "output_type": "execute_result"
    }
   ],
   "source": [
    "45+90\n",
    "# this is simple calculation"
   ]
  },
  {
   "cell_type": "code",
   "execution_count": 5,
   "id": "7abcad04",
   "metadata": {},
   "outputs": [
    {
     "name": "stdout",
     "output_type": "stream",
     "text": [
      "hello world\n"
     ]
    }
   ],
   "source": [
    "#print function example\n",
    "print('hello world')"
   ]
  },
  {
   "cell_type": "markdown",
   "id": "ac2ecb0b",
   "metadata": {},
   "source": [
    "### print() function"
   ]
  },
  {
   "cell_type": "code",
   "execution_count": 8,
   "id": "6d96d8f7",
   "metadata": {},
   "outputs": [],
   "source": [
    "# print(val(s), sep=' ', end='\\n', flush=False, file=file)"
   ]
  },
  {
   "cell_type": "code",
   "execution_count": 9,
   "id": "427a4a03",
   "metadata": {},
   "outputs": [
    {
     "name": "stdout",
     "output_type": "stream",
     "text": [
      "hi hello welcome\n"
     ]
    }
   ],
   "source": [
    "print('hi','hello','welcome')"
   ]
  },
  {
   "cell_type": "code",
   "execution_count": 13,
   "id": "c850f691",
   "metadata": {},
   "outputs": [
    {
     "name": "stdout",
     "output_type": "stream",
     "text": [
      "hi | 678 | welcome\n"
     ]
    }
   ],
   "source": [
    "print('hi',678,'welcome', sep=' | ')"
   ]
  },
  {
   "cell_type": "code",
   "execution_count": 14,
   "id": "643772a5",
   "metadata": {},
   "outputs": [
    {
     "name": "stdout",
     "output_type": "stream",
     "text": [
      "welcome\n",
      "Deloitte\n"
     ]
    }
   ],
   "source": [
    "print('welcome')\n",
    "print('Deloitte')"
   ]
  },
  {
   "cell_type": "code",
   "execution_count": 15,
   "id": "644feb0c",
   "metadata": {},
   "outputs": [
    {
     "name": "stdout",
     "output_type": "stream",
     "text": [
      "welcome Deloitte\n"
     ]
    }
   ],
   "source": [
    "print('welcome', end=' ')\n",
    "print('Deloitte')"
   ]
  },
  {
   "cell_type": "code",
   "execution_count": 16,
   "id": "11f88511",
   "metadata": {},
   "outputs": [
    {
     "name": "stdout",
     "output_type": "stream",
     "text": [
      "welcome--to--Deloitte#"
     ]
    }
   ],
   "source": [
    "print('welcome','to','Deloitte',sep='--', end='#')"
   ]
  },
  {
   "cell_type": "markdown",
   "id": "8bd89b93",
   "metadata": {},
   "source": [
    "### data types"
   ]
  },
  {
   "cell_type": "code",
   "execution_count": 17,
   "id": "43f436fc",
   "metadata": {},
   "outputs": [
    {
     "data": {
      "text/plain": [
       "45"
      ]
     },
     "execution_count": 17,
     "metadata": {},
     "output_type": "execute_result"
    }
   ],
   "source": [
    "# integer\n",
    "45"
   ]
  },
  {
   "cell_type": "code",
   "execution_count": 18,
   "id": "cbe81242",
   "metadata": {},
   "outputs": [
    {
     "data": {
      "text/plain": [
       "45.89"
      ]
     },
     "execution_count": 18,
     "metadata": {},
     "output_type": "execute_result"
    }
   ],
   "source": [
    "# floating\n",
    "45.890"
   ]
  },
  {
   "cell_type": "code",
   "execution_count": 19,
   "id": "bcf1f08e",
   "metadata": {},
   "outputs": [
    {
     "data": {
      "text/plain": [
       "'hello'"
      ]
     },
     "execution_count": 19,
     "metadata": {},
     "output_type": "execute_result"
    }
   ],
   "source": [
    "# string/char\n",
    "'hello'"
   ]
  },
  {
   "cell_type": "code",
   "execution_count": 20,
   "id": "61b7f9d8",
   "metadata": {},
   "outputs": [
    {
     "name": "stdout",
     "output_type": "stream",
     "text": [
      "hello deloitte\n",
      "hello python\n",
      "triple delight\n",
      "another triple text\n"
     ]
    }
   ],
   "source": [
    "print('hello deloitte')\n",
    "print(\"hello python\")\n",
    "print('''triple delight''')\n",
    "print(\"\"\"another triple text\"\"\")"
   ]
  },
  {
   "cell_type": "code",
   "execution_count": 21,
   "id": "ec6e38b0",
   "metadata": {},
   "outputs": [
    {
     "data": {
      "text/plain": [
       "'hello this is multi line text.\\nthis is something new with python.\\nyou may not find this in other prog langs!'"
      ]
     },
     "execution_count": 21,
     "metadata": {},
     "output_type": "execute_result"
    }
   ],
   "source": [
    "'''hello this is multi line text.\n",
    "this is something new with python.\n",
    "you may not find this in other prog langs!'''"
   ]
  },
  {
   "cell_type": "markdown",
   "id": "d446c618",
   "metadata": {},
   "source": [
    "### Variables in Python"
   ]
  },
  {
   "cell_type": "code",
   "execution_count": 22,
   "id": "de142059",
   "metadata": {},
   "outputs": [],
   "source": [
    "x=10"
   ]
  },
  {
   "cell_type": "code",
   "execution_count": 23,
   "id": "336fe4d2",
   "metadata": {},
   "outputs": [
    {
     "name": "stdout",
     "output_type": "stream",
     "text": [
      "10\n"
     ]
    }
   ],
   "source": [
    "print(x)"
   ]
  },
  {
   "cell_type": "code",
   "execution_count": 25,
   "id": "875e3b02",
   "metadata": {},
   "outputs": [],
   "source": [
    "y=67.098765\n",
    "s='A'\n",
    "c='hello'"
   ]
  },
  {
   "cell_type": "code",
   "execution_count": 27,
   "id": "ae9962f0",
   "metadata": {},
   "outputs": [
    {
     "name": "stdout",
     "output_type": "stream",
     "text": [
      "10 , 67.098765 , A , hello..."
     ]
    }
   ],
   "source": [
    "print(x, y, s, c, sep=' , ', end='...')"
   ]
  },
  {
   "cell_type": "code",
   "execution_count": 28,
   "id": "acc19980",
   "metadata": {},
   "outputs": [],
   "source": [
    "temp_sensor=45.78\n",
    "student_name='prateek v'"
   ]
  },
  {
   "cell_type": "markdown",
   "id": "00ca09f4",
   "metadata": {},
   "source": [
    "#### type()"
   ]
  },
  {
   "cell_type": "code",
   "execution_count": 29,
   "id": "a1717efc",
   "metadata": {},
   "outputs": [
    {
     "data": {
      "text/plain": [
       "int"
      ]
     },
     "execution_count": 29,
     "metadata": {},
     "output_type": "execute_result"
    }
   ],
   "source": [
    "type(x)"
   ]
  },
  {
   "cell_type": "code",
   "execution_count": 30,
   "id": "f9317462",
   "metadata": {},
   "outputs": [
    {
     "data": {
      "text/plain": [
       "str"
      ]
     },
     "execution_count": 30,
     "metadata": {},
     "output_type": "execute_result"
    }
   ],
   "source": [
    "type(student_name)"
   ]
  },
  {
   "cell_type": "code",
   "execution_count": 31,
   "id": "e9518ba2",
   "metadata": {},
   "outputs": [
    {
     "data": {
      "text/plain": [
       "float"
      ]
     },
     "execution_count": 31,
     "metadata": {},
     "output_type": "execute_result"
    }
   ],
   "source": [
    "type(y)"
   ]
  },
  {
   "cell_type": "markdown",
   "id": "1b23b498",
   "metadata": {},
   "source": [
    "#### id()"
   ]
  },
  {
   "cell_type": "code",
   "execution_count": 32,
   "id": "83a39dc7",
   "metadata": {},
   "outputs": [
    {
     "data": {
      "text/plain": [
       "3067866933840"
      ]
     },
     "execution_count": 32,
     "metadata": {},
     "output_type": "execute_result"
    }
   ],
   "source": [
    "id(x)"
   ]
  },
  {
   "cell_type": "code",
   "execution_count": 33,
   "id": "5f2caa23",
   "metadata": {},
   "outputs": [
    {
     "data": {
      "text/plain": [
       "3067949760880"
      ]
     },
     "execution_count": 33,
     "metadata": {},
     "output_type": "execute_result"
    }
   ],
   "source": [
    "id(student_name)"
   ]
  },
  {
   "cell_type": "markdown",
   "id": "cd2e0689",
   "metadata": {},
   "source": [
    "#### chr() and ord()"
   ]
  },
  {
   "cell_type": "code",
   "execution_count": 34,
   "id": "cbe1d0e4",
   "metadata": {},
   "outputs": [
    {
     "data": {
      "text/plain": [
       "'A'"
      ]
     },
     "execution_count": 34,
     "metadata": {},
     "output_type": "execute_result"
    }
   ],
   "source": [
    "chr(65)"
   ]
  },
  {
   "cell_type": "code",
   "execution_count": 35,
   "id": "e9d8f190",
   "metadata": {},
   "outputs": [
    {
     "name": "stdout",
     "output_type": "stream",
     "text": [
      "P.V."
     ]
    }
   ],
   "source": [
    "print(chr(80), chr(86), sep='.', end='.')"
   ]
  },
  {
   "cell_type": "code",
   "execution_count": 36,
   "id": "72997614",
   "metadata": {},
   "outputs": [
    {
     "data": {
      "text/plain": [
       "80"
      ]
     },
     "execution_count": 36,
     "metadata": {},
     "output_type": "execute_result"
    }
   ],
   "source": [
    "ord('P')"
   ]
  },
  {
   "cell_type": "markdown",
   "id": "1660ea3a",
   "metadata": {},
   "source": [
    "## Operators"
   ]
  },
  {
   "cell_type": "markdown",
   "id": "c7ccc955",
   "metadata": {},
   "source": [
    "#### Arithmetic Operators"
   ]
  },
  {
   "cell_type": "code",
   "execution_count": 37,
   "id": "3eaece36",
   "metadata": {},
   "outputs": [],
   "source": [
    "# +, -, /, //, *, %, **"
   ]
  },
  {
   "cell_type": "code",
   "execution_count": 40,
   "id": "533a4e56",
   "metadata": {},
   "outputs": [
    {
     "name": "stdout",
     "output_type": "stream",
     "text": [
      "a+b= 23\n",
      "a-b= 17\n",
      "a/b= 6.666666666666667\n",
      "a//b= 6\n",
      "a*b= 60\n",
      "a%b= 2\n",
      "a**b= 8000\n"
     ]
    }
   ],
   "source": [
    "a=20\n",
    "b=3\n",
    "print('a+b=',a+b)\n",
    "print('a-b=',a-b)\n",
    "print('a/b=',a/b) # simple division\n",
    "print('a//b=',a//b) # integer division\n",
    "print('a*b=',a*b)\n",
    "print('a%b=',a%b) # modulus/remainder\n",
    "print('a**b=',a**b) #exponential (a raise to power b)"
   ]
  },
  {
   "cell_type": "markdown",
   "id": "5d60b7fd",
   "metadata": {},
   "source": [
    "### 45+50//3-4*18/3"
   ]
  },
  {
   "cell_type": "code",
   "execution_count": 41,
   "id": "bb72f561",
   "metadata": {},
   "outputs": [
    {
     "name": "stdout",
     "output_type": "stream",
     "text": [
      "37.0\n"
     ]
    }
   ],
   "source": [
    "print(45+50//3-4*18/3)"
   ]
  },
  {
   "cell_type": "code",
   "execution_count": 42,
   "id": "c5d03893",
   "metadata": {},
   "outputs": [
    {
     "name": "stdout",
     "output_type": "stream",
     "text": [
      "-87320.33333333333\n"
     ]
    }
   ],
   "source": [
    "print(45+50//3-4**9/3)"
   ]
  },
  {
   "cell_type": "code",
   "execution_count": 50,
   "id": "58a83dd1",
   "metadata": {},
   "outputs": [
    {
     "name": "stdout",
     "output_type": "stream",
     "text": [
      "61.66666666666667\n"
     ]
    }
   ],
   "source": [
    "print(45+50%4**9/3)"
   ]
  },
  {
   "cell_type": "markdown",
   "id": "7f2a94e0",
   "metadata": {},
   "source": [
    "#### Complex Numbers"
   ]
  },
  {
   "cell_type": "code",
   "execution_count": 55,
   "id": "a8c7d199",
   "metadata": {},
   "outputs": [
    {
     "name": "stdout",
     "output_type": "stream",
     "text": [
      "(79+4j)\n"
     ]
    }
   ],
   "source": [
    "# 34+7j\n",
    "a=34+7j\n",
    "b=45-3j\n",
    "print(a+b)"
   ]
  },
  {
   "cell_type": "markdown",
   "id": "d93a0288",
   "metadata": {},
   "source": [
    "#### Boolean"
   ]
  },
  {
   "cell_type": "code",
   "execution_count": 56,
   "id": "9f6149b8",
   "metadata": {},
   "outputs": [],
   "source": [
    "# True | False"
   ]
  },
  {
   "cell_type": "code",
   "execution_count": 57,
   "id": "9daab5b7",
   "metadata": {},
   "outputs": [],
   "source": [
    "flag=True"
   ]
  },
  {
   "cell_type": "markdown",
   "id": "481d8ce4",
   "metadata": {},
   "source": [
    "#### Assignment & Comparison Operators"
   ]
  },
  {
   "cell_type": "code",
   "execution_count": null,
   "id": "728af0b3",
   "metadata": {},
   "outputs": [],
   "source": [
    "# =, ==, !=, <=, >=, <, >"
   ]
  },
  {
   "cell_type": "code",
   "execution_count": 58,
   "id": "44c31db3",
   "metadata": {},
   "outputs": [],
   "source": [
    "a=56\n",
    "b=56"
   ]
  },
  {
   "cell_type": "code",
   "execution_count": 59,
   "id": "631d5322",
   "metadata": {},
   "outputs": [
    {
     "name": "stdout",
     "output_type": "stream",
     "text": [
      "True\n"
     ]
    }
   ],
   "source": [
    "print(a==b)"
   ]
  },
  {
   "cell_type": "code",
   "execution_count": 61,
   "id": "711ccc70",
   "metadata": {},
   "outputs": [
    {
     "name": "stdout",
     "output_type": "stream",
     "text": [
      "True\n",
      "False\n"
     ]
    }
   ],
   "source": [
    "a=20\n",
    "b=30\n",
    "print(a<b)\n",
    "print(a>b)"
   ]
  },
  {
   "cell_type": "code",
   "execution_count": 63,
   "id": "72196045",
   "metadata": {},
   "outputs": [
    {
     "name": "stdout",
     "output_type": "stream",
     "text": [
      "True\n"
     ]
    }
   ],
   "source": [
    "print(a!=b)"
   ]
  },
  {
   "cell_type": "markdown",
   "id": "dc8e3495",
   "metadata": {},
   "source": [
    "#### Logical Operators"
   ]
  },
  {
   "cell_type": "code",
   "execution_count": null,
   "id": "490438e7",
   "metadata": {},
   "outputs": [],
   "source": [
    "# and, or , not"
   ]
  },
  {
   "cell_type": "code",
   "execution_count": 64,
   "id": "2bc705ac",
   "metadata": {},
   "outputs": [
    {
     "name": "stdout",
     "output_type": "stream",
     "text": [
      "False\n",
      "True\n",
      "True\n"
     ]
    }
   ],
   "source": [
    "print(True and False)\n",
    "print(True or False)\n",
    "print(True and not False)"
   ]
  },
  {
   "cell_type": "code",
   "execution_count": 65,
   "id": "021fa7ae",
   "metadata": {},
   "outputs": [
    {
     "name": "stdout",
     "output_type": "stream",
     "text": [
      "True\n"
     ]
    }
   ],
   "source": [
    "x=45\n",
    "y=44\n",
    "print(not(x<y) and (x>=y))"
   ]
  },
  {
   "cell_type": "markdown",
   "id": "3d8c1500",
   "metadata": {},
   "source": [
    "### Bitwise Operators"
   ]
  },
  {
   "cell_type": "code",
   "execution_count": 66,
   "id": "ae2145ed",
   "metadata": {},
   "outputs": [],
   "source": [
    "num1=b'10110001'\n",
    "num2=b'00011100'"
   ]
  },
  {
   "cell_type": "code",
   "execution_count": 70,
   "id": "feb1b77b",
   "metadata": {},
   "outputs": [],
   "source": [
    "# & (and), |(or), ~(not), ^(XOR), <<(left shift), >>(right shift)"
   ]
  },
  {
   "cell_type": "code",
   "execution_count": 73,
   "id": "0c2ab399",
   "metadata": {},
   "outputs": [
    {
     "data": {
      "text/plain": [
       "64"
      ]
     },
     "execution_count": 73,
     "metadata": {},
     "output_type": "execute_result"
    }
   ],
   "source": [
    "1011 & 1100"
   ]
  },
  {
   "cell_type": "code",
   "execution_count": 74,
   "id": "c1198314",
   "metadata": {},
   "outputs": [
    {
     "data": {
      "text/plain": [
       "2047"
      ]
     },
     "execution_count": 74,
     "metadata": {},
     "output_type": "execute_result"
    }
   ],
   "source": [
    "1011 | 1100"
   ]
  },
  {
   "cell_type": "code",
   "execution_count": 87,
   "id": "482bc38e",
   "metadata": {},
   "outputs": [
    {
     "data": {
      "text/plain": [
       "0"
      ]
     },
     "execution_count": 87,
     "metadata": {},
     "output_type": "execute_result"
    }
   ],
   "source": [
    "0b1000 & ~0b1011"
   ]
  },
  {
   "cell_type": "code",
   "execution_count": 85,
   "id": "484d291a",
   "metadata": {},
   "outputs": [
    {
     "name": "stdout",
     "output_type": "stream",
     "text": [
      "32\n"
     ]
    }
   ],
   "source": [
    "print(2<<4)"
   ]
  },
  {
   "cell_type": "code",
   "execution_count": 86,
   "id": "469b8b56",
   "metadata": {},
   "outputs": [
    {
     "name": "stdout",
     "output_type": "stream",
     "text": [
      "8\n"
     ]
    }
   ],
   "source": [
    "print(64>>3)"
   ]
  },
  {
   "cell_type": "code",
   "execution_count": 89,
   "id": "971490e7",
   "metadata": {},
   "outputs": [
    {
     "name": "stdout",
     "output_type": "stream",
     "text": [
      "31\n"
     ]
    }
   ],
   "source": [
    "print(255>>3) # shift without rotation"
   ]
  },
  {
   "cell_type": "markdown",
   "id": "582eaf36",
   "metadata": {},
   "source": [
    "#### Assignment on Evaluation"
   ]
  },
  {
   "cell_type": "code",
   "execution_count": 95,
   "id": "213d39ac",
   "metadata": {},
   "outputs": [],
   "source": [
    "x=10\n",
    "y=20"
   ]
  },
  {
   "cell_type": "code",
   "execution_count": 96,
   "id": "ee4b1e4e",
   "metadata": {},
   "outputs": [],
   "source": [
    "x+=y # x=x+y"
   ]
  },
  {
   "cell_type": "code",
   "execution_count": 97,
   "id": "0959844a",
   "metadata": {},
   "outputs": [
    {
     "data": {
      "text/plain": [
       "30"
      ]
     },
     "execution_count": 97,
     "metadata": {},
     "output_type": "execute_result"
    }
   ],
   "source": [
    "x"
   ]
  },
  {
   "cell_type": "code",
   "execution_count": 98,
   "id": "77bb9b01",
   "metadata": {},
   "outputs": [
    {
     "data": {
      "text/plain": [
       "150"
      ]
     },
     "execution_count": 98,
     "metadata": {},
     "output_type": "execute_result"
    }
   ],
   "source": [
    "x*=5\n",
    "x"
   ]
  },
  {
   "cell_type": "code",
   "execution_count": 99,
   "id": "7fca6b05",
   "metadata": {},
   "outputs": [
    {
     "data": {
      "text/plain": [
       "50.0"
      ]
     },
     "execution_count": 99,
     "metadata": {},
     "output_type": "execute_result"
    }
   ],
   "source": [
    "x/=3\n",
    "x"
   ]
  },
  {
   "cell_type": "code",
   "execution_count": 100,
   "id": "e671f4a2",
   "metadata": {},
   "outputs": [
    {
     "data": {
      "text/plain": [
       "int"
      ]
     },
     "execution_count": 100,
     "metadata": {},
     "output_type": "execute_result"
    }
   ],
   "source": [
    "x=150\n",
    "type(x)"
   ]
  },
  {
   "cell_type": "code",
   "execution_count": 101,
   "id": "9430e9fd",
   "metadata": {},
   "outputs": [
    {
     "name": "stdout",
     "output_type": "stream",
     "text": [
      "50.0\n"
     ]
    },
    {
     "data": {
      "text/plain": [
       "float"
      ]
     },
     "execution_count": 101,
     "metadata": {},
     "output_type": "execute_result"
    }
   ],
   "source": [
    "x/=3\n",
    "print(x)\n",
    "type(x)"
   ]
  },
  {
   "cell_type": "code",
   "execution_count": 102,
   "id": "7f206840",
   "metadata": {},
   "outputs": [
    {
     "data": {
      "text/plain": [
       "float"
      ]
     },
     "execution_count": 102,
     "metadata": {},
     "output_type": "execute_result"
    }
   ],
   "source": [
    "type(21/3)"
   ]
  },
  {
   "cell_type": "code",
   "execution_count": 103,
   "id": "9fd00599",
   "metadata": {},
   "outputs": [
    {
     "data": {
      "text/plain": [
       "float"
      ]
     },
     "execution_count": 103,
     "metadata": {},
     "output_type": "execute_result"
    }
   ],
   "source": [
    "type(21.6/3)"
   ]
  },
  {
   "cell_type": "code",
   "execution_count": 104,
   "id": "1b954a84",
   "metadata": {},
   "outputs": [
    {
     "data": {
      "text/plain": [
       "float"
      ]
     },
     "execution_count": 104,
     "metadata": {},
     "output_type": "execute_result"
    }
   ],
   "source": [
    "type(21/3.0)"
   ]
  },
  {
   "cell_type": "markdown",
   "id": "decf0065",
   "metadata": {},
   "source": [
    "#### identity Operator"
   ]
  },
  {
   "cell_type": "code",
   "execution_count": 105,
   "id": "bfa49063",
   "metadata": {},
   "outputs": [],
   "source": [
    "# is\n",
    "# is not\n"
   ]
  },
  {
   "cell_type": "code",
   "execution_count": 106,
   "id": "ae0e637e",
   "metadata": {},
   "outputs": [],
   "source": [
    "x=10\n",
    "y=10"
   ]
  },
  {
   "cell_type": "code",
   "execution_count": 107,
   "id": "2cfdca36",
   "metadata": {},
   "outputs": [
    {
     "data": {
      "text/plain": [
       "True"
      ]
     },
     "execution_count": 107,
     "metadata": {},
     "output_type": "execute_result"
    }
   ],
   "source": [
    "x is y"
   ]
  },
  {
   "cell_type": "code",
   "execution_count": 108,
   "id": "96954bbe",
   "metadata": {},
   "outputs": [],
   "source": [
    "z=20"
   ]
  },
  {
   "cell_type": "code",
   "execution_count": 109,
   "id": "c443177b",
   "metadata": {},
   "outputs": [
    {
     "data": {
      "text/plain": [
       "False"
      ]
     },
     "execution_count": 109,
     "metadata": {},
     "output_type": "execute_result"
    }
   ],
   "source": [
    "x is z"
   ]
  },
  {
   "cell_type": "code",
   "execution_count": 110,
   "id": "8c25a9ae",
   "metadata": {},
   "outputs": [
    {
     "data": {
      "text/plain": [
       "True"
      ]
     },
     "execution_count": 110,
     "metadata": {},
     "output_type": "execute_result"
    }
   ],
   "source": [
    "x is not z"
   ]
  },
  {
   "cell_type": "markdown",
   "id": "86b28632",
   "metadata": {},
   "source": [
    "#### membership operators"
   ]
  },
  {
   "cell_type": "code",
   "execution_count": 111,
   "id": "44dc12e6",
   "metadata": {},
   "outputs": [],
   "source": [
    "# in\n",
    "# not in"
   ]
  },
  {
   "cell_type": "code",
   "execution_count": 112,
   "id": "65286064",
   "metadata": {},
   "outputs": [],
   "source": [
    "s='hello'"
   ]
  },
  {
   "cell_type": "code",
   "execution_count": 113,
   "id": "e4c6d6f7",
   "metadata": {},
   "outputs": [
    {
     "data": {
      "text/plain": [
       "True"
      ]
     },
     "execution_count": 113,
     "metadata": {},
     "output_type": "execute_result"
    }
   ],
   "source": [
    "'e' in s"
   ]
  },
  {
   "cell_type": "code",
   "execution_count": 114,
   "id": "038df6ee",
   "metadata": {},
   "outputs": [
    {
     "data": {
      "text/plain": [
       "True"
      ]
     },
     "execution_count": 114,
     "metadata": {},
     "output_type": "execute_result"
    }
   ],
   "source": [
    "'p' not in s"
   ]
  },
  {
   "cell_type": "markdown",
   "id": "5ce0c1e6",
   "metadata": {},
   "source": [
    "#### multiple variable assignment"
   ]
  },
  {
   "cell_type": "code",
   "execution_count": 115,
   "id": "ec9be6c8",
   "metadata": {},
   "outputs": [],
   "source": [
    "a=10\n",
    "b=20\n",
    "c=30"
   ]
  },
  {
   "cell_type": "code",
   "execution_count": 116,
   "id": "045128b5",
   "metadata": {},
   "outputs": [],
   "source": [
    "a,b,c=10,20,30"
   ]
  },
  {
   "cell_type": "code",
   "execution_count": 117,
   "id": "460d605c",
   "metadata": {},
   "outputs": [],
   "source": [
    "x=300\n",
    "y=500"
   ]
  },
  {
   "cell_type": "code",
   "execution_count": 118,
   "id": "4c60e59f",
   "metadata": {},
   "outputs": [
    {
     "data": {
      "text/plain": [
       "300"
      ]
     },
     "execution_count": 118,
     "metadata": {},
     "output_type": "execute_result"
    }
   ],
   "source": [
    "x"
   ]
  },
  {
   "cell_type": "code",
   "execution_count": 119,
   "id": "716bc677",
   "metadata": {},
   "outputs": [
    {
     "data": {
      "text/plain": [
       "500"
      ]
     },
     "execution_count": 119,
     "metadata": {},
     "output_type": "execute_result"
    }
   ],
   "source": [
    "y"
   ]
  },
  {
   "cell_type": "code",
   "execution_count": 120,
   "id": "4fc71865",
   "metadata": {},
   "outputs": [
    {
     "name": "stdout",
     "output_type": "stream",
     "text": [
      "500 300\n"
     ]
    }
   ],
   "source": [
    "x,y=y,x\n",
    "print(x,y)"
   ]
  },
  {
   "cell_type": "code",
   "execution_count": 123,
   "id": "3b837ca7",
   "metadata": {},
   "outputs": [
    {
     "data": {
      "text/plain": [
       "3.142857142857143"
      ]
     },
     "execution_count": 123,
     "metadata": {},
     "output_type": "execute_result"
    }
   ],
   "source": [
    "z=22/7\n",
    "z"
   ]
  },
  {
   "cell_type": "code",
   "execution_count": 128,
   "id": "600a9f83",
   "metadata": {},
   "outputs": [
    {
     "name": "stdout",
     "output_type": "stream",
     "text": [
      "227868638315346493555294714989129962000238639117418134141788173135880066302713353847993928806947840666712297210620782620810333345808720272377999185572065602497601645110174900947755699369734960702495956968691824971697242560752558065143434291831476959146939300985721801343980987374320891364169310077707148073997545135984050245399208231023970568915017366216155437235714165421783991157863605496540757563698900434000338267861068658060518973543170567956976723113192669763230630168449954170580624773917073993776574006799058955389703658436827431709965544689354626488584989925477788179008830722000395752450292879732747208002248155645170350168523825540395707020745334649907480680928870076698086493406369390327643467551405105643132124381245051614711630066872385082447827202081056629770907813883653328957473350258963632828556319388584009449386481185674612109012995909691623263289365811187580510039217721446428301232080638309800719604258114141126592483909561501309808618393307116519500308494067650448923508116665727798032678559151376967095028598380836336721650020874793273463184215156041189422307557137299406752151206280133349921857291894252594905510865994118504863519790437972339747411300011222964842508405865974479247088391174409079671650661348524251493541610167487435848159505323932284226819719490086407238353949051431567341204191305534628840254009143742514046755668990999202912250852541261917932456220242328051730507232002039186861517514228346371389739266510631153301487643854069542896348978941652761292992414253984925770615953946041237953451916781695886831519450740557670401058330585972146682960121900796516163042611097767798735827649733547121477305686192108416640988512843865845153577200834848131311938937353191201442145822042196619735179479299332252808867205843333258852891627638944147396511836870635806114119472264497389128788787544095502341110542165036792623268367378481667101177057708269617046119776179064071421808143783895835856651563845552757255788347549043130368\n"
     ]
    }
   ],
   "source": [
    "x=98**985\n",
    "print(x)"
   ]
  },
  {
   "cell_type": "code",
   "execution_count": null,
   "id": "c7e7933b",
   "metadata": {},
   "outputs": [],
   "source": []
  },
  {
   "cell_type": "markdown",
   "id": "071c9900",
   "metadata": {},
   "source": [
    "### input() function"
   ]
  },
  {
   "cell_type": "code",
   "execution_count": 129,
   "id": "56bc4757",
   "metadata": {},
   "outputs": [],
   "source": [
    "# to accept user input"
   ]
  },
  {
   "cell_type": "code",
   "execution_count": 131,
   "id": "2df9e742",
   "metadata": {},
   "outputs": [
    {
     "name": "stdout",
     "output_type": "stream",
     "text": [
      "Enter Your Name: Prateek\n"
     ]
    }
   ],
   "source": [
    "name=input('Enter Your Name: ')"
   ]
  },
  {
   "cell_type": "code",
   "execution_count": 132,
   "id": "7d5975b8",
   "metadata": {},
   "outputs": [
    {
     "name": "stdout",
     "output_type": "stream",
     "text": [
      "Prateek\n"
     ]
    }
   ],
   "source": [
    "print(name)"
   ]
  },
  {
   "cell_type": "code",
   "execution_count": 133,
   "id": "d49746a2",
   "metadata": {},
   "outputs": [
    {
     "name": "stdout",
     "output_type": "stream",
     "text": [
      "Enter Your Percentage: 76.90\n",
      "76.90\n"
     ]
    }
   ],
   "source": [
    "percent=input('Enter Your Percentage: ')\n",
    "print(percent)"
   ]
  },
  {
   "cell_type": "code",
   "execution_count": 134,
   "id": "8d58963e",
   "metadata": {},
   "outputs": [
    {
     "data": {
      "text/plain": [
       "str"
      ]
     },
     "execution_count": 134,
     "metadata": {},
     "output_type": "execute_result"
    }
   ],
   "source": [
    "type(percent)"
   ]
  },
  {
   "cell_type": "markdown",
   "id": "9c1d49ea",
   "metadata": {},
   "source": [
    "### Type Conversion"
   ]
  },
  {
   "cell_type": "code",
   "execution_count": 135,
   "id": "d14a1c67",
   "metadata": {},
   "outputs": [],
   "source": [
    "# int(), str(), float()"
   ]
  },
  {
   "cell_type": "code",
   "execution_count": 136,
   "id": "df2a1873",
   "metadata": {},
   "outputs": [
    {
     "data": {
      "text/plain": [
       "str"
      ]
     },
     "execution_count": 136,
     "metadata": {},
     "output_type": "execute_result"
    }
   ],
   "source": [
    "type(percent)"
   ]
  },
  {
   "cell_type": "code",
   "execution_count": 138,
   "id": "d1e059ef",
   "metadata": {},
   "outputs": [],
   "source": [
    "percent=float(percent)"
   ]
  },
  {
   "cell_type": "code",
   "execution_count": 139,
   "id": "5dac6eed",
   "metadata": {},
   "outputs": [
    {
     "data": {
      "text/plain": [
       "float"
      ]
     },
     "execution_count": 139,
     "metadata": {},
     "output_type": "execute_result"
    }
   ],
   "source": [
    "type(percent)"
   ]
  },
  {
   "cell_type": "code",
   "execution_count": 140,
   "id": "9ca48032",
   "metadata": {},
   "outputs": [
    {
     "name": "stdout",
     "output_type": "stream",
     "text": [
      "Enter Date: 18\n"
     ]
    }
   ],
   "source": [
    "x=input('Enter Date: ')"
   ]
  },
  {
   "cell_type": "code",
   "execution_count": 141,
   "id": "3ec27b42",
   "metadata": {},
   "outputs": [
    {
     "data": {
      "text/plain": [
       "str"
      ]
     },
     "execution_count": 141,
     "metadata": {},
     "output_type": "execute_result"
    }
   ],
   "source": [
    "type(x)"
   ]
  },
  {
   "cell_type": "code",
   "execution_count": 142,
   "id": "33d82bbd",
   "metadata": {},
   "outputs": [
    {
     "data": {
      "text/plain": [
       "int"
      ]
     },
     "execution_count": 142,
     "metadata": {},
     "output_type": "execute_result"
    }
   ],
   "source": [
    "x=int(x)\n",
    "type(x)"
   ]
  },
  {
   "cell_type": "code",
   "execution_count": 143,
   "id": "ab1bedb6",
   "metadata": {},
   "outputs": [
    {
     "name": "stdout",
     "output_type": "stream",
     "text": [
      "Enter Age: 37\n"
     ]
    },
    {
     "data": {
      "text/plain": [
       "int"
      ]
     },
     "execution_count": 143,
     "metadata": {},
     "output_type": "execute_result"
    }
   ],
   "source": [
    "age=int(input('Enter Age: '))\n",
    "type(age)"
   ]
  },
  {
   "cell_type": "code",
   "execution_count": null,
   "id": "9f49d263",
   "metadata": {},
   "outputs": [],
   "source": [
    "# calculate a weighted average for number:\n",
    "# numbers: 10,23,45,67,43,21,17,19,34\n",
    "# weights: 2, 3, 4, 2, 1, 3, 4, 2, 1\n"
   ]
  },
  {
   "cell_type": "code",
   "execution_count": 144,
   "id": "9e7e9ae0",
   "metadata": {},
   "outputs": [],
   "source": [
    "# Ex. number: 7895, last_digit=5\n",
    "# find the last digit of any given number\n",
    "# find second to last digit also"
   ]
  },
  {
   "cell_type": "code",
   "execution_count": 145,
   "id": "067f58f4",
   "metadata": {},
   "outputs": [
    {
     "name": "stdout",
     "output_type": "stream",
     "text": [
      "Enter Number: 7896\n",
      "last digit:  6\n"
     ]
    }
   ],
   "source": [
    "num=int(input('Enter Number: '))\n",
    "print('last digit: ',num%10)"
   ]
  },
  {
   "cell_type": "code",
   "execution_count": 147,
   "id": "c58c3834",
   "metadata": {},
   "outputs": [
    {
     "name": "stdout",
     "output_type": "stream",
     "text": [
      "Enter Number: 7896\n",
      "second last digit:  9\n"
     ]
    }
   ],
   "source": [
    "num=int(input('Enter Number: '))\n",
    "temp=num//10\n",
    "print('second last digit: ',temp%10)"
   ]
  },
  {
   "cell_type": "code",
   "execution_count": 148,
   "id": "2d2b14ff",
   "metadata": {},
   "outputs": [],
   "source": [
    "# find simple interest amount for entered values of \n",
    "# PRINCIPAL, ROI, YEARS"
   ]
  },
  {
   "cell_type": "code",
   "execution_count": 152,
   "id": "9a2c5e72",
   "metadata": {},
   "outputs": [
    {
     "name": "stdout",
     "output_type": "stream",
     "text": [
      "Enter Principal Amount: 25000\n",
      "Enter RIO: 7.50\n",
      "Enter Years: 12\n"
     ]
    }
   ],
   "source": [
    "p=int(input('Enter Principal Amount: '))\n",
    "r=float(input('Enter RIO: '))\n",
    "t=int(input('Enter Years: '))"
   ]
  },
  {
   "cell_type": "code",
   "execution_count": 155,
   "id": "a1e3078f",
   "metadata": {},
   "outputs": [
    {
     "name": "stdout",
     "output_type": "stream",
     "text": [
      "Amount(SI):  47500.0\n"
     ]
    }
   ],
   "source": [
    "# simple interest amount\n",
    "print('Amount(SI): ', p+(p*r*t)/100)"
   ]
  },
  {
   "cell_type": "code",
   "execution_count": 156,
   "id": "db55c452",
   "metadata": {},
   "outputs": [
    {
     "name": "stdout",
     "output_type": "stream",
     "text": [
      "Amount(CI):  59544.48997566485\n"
     ]
    }
   ],
   "source": [
    "# compound interest\n",
    "print('Amount(CI): ', p*(1+r/100)**t)"
   ]
  },
  {
   "cell_type": "markdown",
   "id": "6a1f18b7",
   "metadata": {},
   "source": [
    "#### Strings"
   ]
  },
  {
   "cell_type": "code",
   "execution_count": 157,
   "id": "4311abf5",
   "metadata": {},
   "outputs": [],
   "source": [
    "# Sequence of characters\n",
    "s='welcome to deloitte'"
   ]
  },
  {
   "cell_type": "code",
   "execution_count": 158,
   "id": "0691ab61",
   "metadata": {},
   "outputs": [
    {
     "data": {
      "text/plain": [
       "19"
      ]
     },
     "execution_count": 158,
     "metadata": {},
     "output_type": "execute_result"
    }
   ],
   "source": [
    "len(s)"
   ]
  },
  {
   "cell_type": "code",
   "execution_count": 159,
   "id": "2429edac",
   "metadata": {},
   "outputs": [
    {
     "data": {
      "text/plain": [
       "'helloindia'"
      ]
     },
     "execution_count": 159,
     "metadata": {},
     "output_type": "execute_result"
    }
   ],
   "source": [
    "a='hello'\n",
    "b='india'\n",
    "a+b"
   ]
  },
  {
   "cell_type": "code",
   "execution_count": 164,
   "id": "e49b027c",
   "metadata": {},
   "outputs": [
    {
     "data": {
      "text/plain": [
       "'hellohellohellohellohellohellohellohellohellohellohellohellohellohellohellohellohellohellohellohellohellohellohellohellohellohellohellohellohellohellohellohellohellohellohellohellohellohellohellohellohellohellohellohellohellohellohellohellohellohello'"
      ]
     },
     "execution_count": 164,
     "metadata": {},
     "output_type": "execute_result"
    }
   ],
   "source": [
    "a*50"
   ]
  },
  {
   "cell_type": "code",
   "execution_count": 166,
   "id": "79d58c37",
   "metadata": {},
   "outputs": [],
   "source": [
    "a='india' # strings are immutable"
   ]
  },
  {
   "cell_type": "code",
   "execution_count": 167,
   "id": "16dd7907",
   "metadata": {},
   "outputs": [],
   "source": [
    "a='India'"
   ]
  },
  {
   "cell_type": "code",
   "execution_count": 168,
   "id": "49be0f99",
   "metadata": {},
   "outputs": [
    {
     "data": {
      "text/plain": [
       "'I'"
      ]
     },
     "execution_count": 168,
     "metadata": {},
     "output_type": "execute_result"
    }
   ],
   "source": [
    "a[0]"
   ]
  },
  {
   "cell_type": "code",
   "execution_count": 169,
   "id": "55913ec4",
   "metadata": {},
   "outputs": [
    {
     "data": {
      "text/plain": [
       "'a'"
      ]
     },
     "execution_count": 169,
     "metadata": {},
     "output_type": "execute_result"
    }
   ],
   "source": [
    "a[-1]"
   ]
  },
  {
   "cell_type": "code",
   "execution_count": 170,
   "id": "ee5a0a8e",
   "metadata": {},
   "outputs": [
    {
     "data": {
      "text/plain": [
       "'n'"
      ]
     },
     "execution_count": 170,
     "metadata": {},
     "output_type": "execute_result"
    }
   ],
   "source": [
    "a[-4]"
   ]
  },
  {
   "cell_type": "code",
   "execution_count": 171,
   "id": "586c52eb",
   "metadata": {},
   "outputs": [
    {
     "ename": "TypeError",
     "evalue": "'str' object does not support item assignment",
     "output_type": "error",
     "traceback": [
      "\u001b[1;31m---------------------------------------------------------------------------\u001b[0m",
      "\u001b[1;31mTypeError\u001b[0m                                 Traceback (most recent call last)",
      "Input \u001b[1;32mIn [171]\u001b[0m, in \u001b[0;36m<cell line: 1>\u001b[1;34m()\u001b[0m\n\u001b[1;32m----> 1\u001b[0m a[\u001b[38;5;241m-\u001b[39m\u001b[38;5;241m1\u001b[39m]\u001b[38;5;241m=\u001b[39m\u001b[38;5;124m'\u001b[39m\u001b[38;5;124mA\u001b[39m\u001b[38;5;124m'\u001b[39m\n",
      "\u001b[1;31mTypeError\u001b[0m: 'str' object does not support item assignment"
     ]
    }
   ],
   "source": [
    "a[-1]='A'"
   ]
  },
  {
   "cell_type": "code",
   "execution_count": 172,
   "id": "b58bfba5",
   "metadata": {},
   "outputs": [
    {
     "data": {
      "text/plain": [
       "'IndiaIndiaIndia'"
      ]
     },
     "execution_count": 172,
     "metadata": {},
     "output_type": "execute_result"
    }
   ],
   "source": [
    "a=a*3\n",
    "a"
   ]
  },
  {
   "cell_type": "code",
   "execution_count": 173,
   "id": "122a336e",
   "metadata": {},
   "outputs": [
    {
     "data": {
      "text/plain": [
       "'Del'"
      ]
     },
     "execution_count": 173,
     "metadata": {},
     "output_type": "execute_result"
    }
   ],
   "source": [
    "s='Deloitte'\n",
    "s[0:3] #slicing"
   ]
  },
  {
   "cell_type": "code",
   "execution_count": 174,
   "id": "78dc3bd5",
   "metadata": {},
   "outputs": [
    {
     "data": {
      "text/plain": [
       "'tt'"
      ]
     },
     "execution_count": 174,
     "metadata": {},
     "output_type": "execute_result"
    }
   ],
   "source": [
    "s[-3:-1] # s[m,n] will return m to n-1 chars."
   ]
  },
  {
   "cell_type": "code",
   "execution_count": 175,
   "id": "0e6b1d92",
   "metadata": {},
   "outputs": [
    {
     "data": {
      "text/plain": [
       "'Deloi'"
      ]
     },
     "execution_count": 175,
     "metadata": {},
     "output_type": "execute_result"
    }
   ],
   "source": [
    "s[:5]"
   ]
  },
  {
   "cell_type": "code",
   "execution_count": 176,
   "id": "52b585eb",
   "metadata": {},
   "outputs": [
    {
     "data": {
      "text/plain": [
       "'itte'"
      ]
     },
     "execution_count": 176,
     "metadata": {},
     "output_type": "execute_result"
    }
   ],
   "source": [
    "s[4:]"
   ]
  },
  {
   "cell_type": "code",
   "execution_count": 177,
   "id": "f63bd35a",
   "metadata": {},
   "outputs": [
    {
     "data": {
      "text/plain": [
       "'Deloitte'"
      ]
     },
     "execution_count": 177,
     "metadata": {},
     "output_type": "execute_result"
    }
   ],
   "source": [
    "s[:]"
   ]
  },
  {
   "cell_type": "code",
   "execution_count": 185,
   "id": "f2dc03b5",
   "metadata": {},
   "outputs": [
    {
     "data": {
      "text/plain": [
       "'ettioleD'"
      ]
     },
     "execution_count": 185,
     "metadata": {},
     "output_type": "execute_result"
    }
   ],
   "source": [
    "s[::-1] # reverse"
   ]
  },
  {
   "cell_type": "code",
   "execution_count": 186,
   "id": "f8923315",
   "metadata": {},
   "outputs": [
    {
     "data": {
      "text/plain": [
       "'Dot'"
      ]
     },
     "execution_count": 186,
     "metadata": {},
     "output_type": "execute_result"
    }
   ],
   "source": [
    "s[::3] #skip"
   ]
  },
  {
   "cell_type": "code",
   "execution_count": 190,
   "id": "ae44f636",
   "metadata": {},
   "outputs": [
    {
     "data": {
      "text/plain": [
       "'cm odlit.ti sbs opn.'"
      ]
     },
     "execution_count": 190,
     "metadata": {},
     "output_type": "execute_result"
    }
   ],
   "source": [
    "s='welcome to deloitte. this is best company.'\n",
    "s[3::2]"
   ]
  },
  {
   "cell_type": "markdown",
   "id": "9fa76e34",
   "metadata": {},
   "source": [
    "### Strings inbuilt functions"
   ]
  },
  {
   "cell_type": "code",
   "execution_count": 191,
   "id": "9da60a86",
   "metadata": {},
   "outputs": [],
   "source": [
    "s='deloitte is best'"
   ]
  },
  {
   "cell_type": "code",
   "execution_count": 193,
   "id": "f8ca5ec3",
   "metadata": {},
   "outputs": [
    {
     "data": {
      "text/plain": [
       "'DELOITTE IS BEST'"
      ]
     },
     "execution_count": 193,
     "metadata": {},
     "output_type": "execute_result"
    }
   ],
   "source": [
    "s.upper()"
   ]
  },
  {
   "cell_type": "code",
   "execution_count": 194,
   "id": "4fdb5470",
   "metadata": {},
   "outputs": [
    {
     "data": {
      "text/plain": [
       "'deloitte'"
      ]
     },
     "execution_count": 194,
     "metadata": {},
     "output_type": "execute_result"
    }
   ],
   "source": [
    "s='DELOITTE'\n",
    "s.lower()"
   ]
  },
  {
   "cell_type": "code",
   "execution_count": 196,
   "id": "053e2370",
   "metadata": {},
   "outputs": [
    {
     "data": {
      "text/plain": [
       "'Welcome To Deloitte'"
      ]
     },
     "execution_count": 196,
     "metadata": {},
     "output_type": "execute_result"
    }
   ],
   "source": [
    "s='welcome to deloitte'\n",
    "s.title()"
   ]
  },
  {
   "cell_type": "code",
   "execution_count": 199,
   "id": "e12103ee",
   "metadata": {},
   "outputs": [
    {
     "data": {
      "text/plain": [
       "'hello, i am feeling lucky!     '"
      ]
     },
     "execution_count": 199,
     "metadata": {},
     "output_type": "execute_result"
    }
   ],
   "source": [
    "s='      hello, i am feeling lucky!     '\n",
    "s.lstrip()"
   ]
  },
  {
   "cell_type": "code",
   "execution_count": 200,
   "id": "dacbc270",
   "metadata": {},
   "outputs": [
    {
     "data": {
      "text/plain": [
       "'      hello, i am feeling lucky!'"
      ]
     },
     "execution_count": 200,
     "metadata": {},
     "output_type": "execute_result"
    }
   ],
   "source": [
    "s.rstrip()"
   ]
  },
  {
   "cell_type": "code",
   "execution_count": 201,
   "id": "f8c91ecb",
   "metadata": {},
   "outputs": [
    {
     "data": {
      "text/plain": [
       "'hello, i am feeling lucky!'"
      ]
     },
     "execution_count": 201,
     "metadata": {},
     "output_type": "execute_result"
    }
   ],
   "source": [
    "s.strip()"
   ]
  },
  {
   "cell_type": "code",
   "execution_count": 202,
   "id": "4697a01f",
   "metadata": {},
   "outputs": [
    {
     "data": {
      "text/plain": [
       "['welcome', 'to', 'deloitte']"
      ]
     },
     "execution_count": 202,
     "metadata": {},
     "output_type": "execute_result"
    }
   ],
   "source": [
    "s='welcome to deloitte'\n",
    "s.split(' ')"
   ]
  },
  {
   "cell_type": "code",
   "execution_count": 207,
   "id": "81288968",
   "metadata": {},
   "outputs": [
    {
     "data": {
      "text/plain": [
       "['this',\n",
       " 'is',\n",
       " 'a',\n",
       " 'long',\n",
       " 'string.',\n",
       " 'can',\n",
       " 'you',\n",
       " 'find',\n",
       " 'number',\n",
       " 'of',\n",
       " 'words?']"
      ]
     },
     "execution_count": 207,
     "metadata": {},
     "output_type": "execute_result"
    }
   ],
   "source": [
    "s='''this is a long string. can you find number of words?'''\n",
    "s.split(' ')"
   ]
  },
  {
   "cell_type": "code",
   "execution_count": 208,
   "id": "51cf7945",
   "metadata": {},
   "outputs": [
    {
     "data": {
      "text/plain": [
       "11"
      ]
     },
     "execution_count": 208,
     "metadata": {},
     "output_type": "execute_result"
    }
   ],
   "source": [
    "len(s.split(' '))"
   ]
  },
  {
   "cell_type": "code",
   "execution_count": 209,
   "id": "70649100",
   "metadata": {},
   "outputs": [
    {
     "data": {
      "text/plain": [
       "['192', '168', '90', '56']"
      ]
     },
     "execution_count": 209,
     "metadata": {},
     "output_type": "execute_result"
    }
   ],
   "source": [
    "s='192.168.90.56'\n",
    "s.split('.')"
   ]
  },
  {
   "cell_type": "code",
   "execution_count": 210,
   "id": "b6602988",
   "metadata": {},
   "outputs": [
    {
     "data": {
      "text/plain": [
       "['+91', '9808766699']"
      ]
     },
     "execution_count": 210,
     "metadata": {},
     "output_type": "execute_result"
    }
   ],
   "source": [
    "s='+91-9808766699'\n",
    "s.split('-')"
   ]
  },
  {
   "cell_type": "code",
   "execution_count": 211,
   "id": "3e18d2d4",
   "metadata": {},
   "outputs": [
    {
     "data": {
      "text/plain": [
       "['4567', '9088', '0101', '7008']"
      ]
     },
     "execution_count": 211,
     "metadata": {},
     "output_type": "execute_result"
    }
   ],
   "source": [
    "s='4567-9088-0101-7008'\n",
    "s.split('-')"
   ]
  },
  {
   "cell_type": "code",
   "execution_count": 212,
   "id": "b8bc2792",
   "metadata": {},
   "outputs": [
    {
     "name": "stdout",
     "output_type": "stream",
     "text": [
      "34 45 67 89 32 10\n"
     ]
    }
   ],
   "source": [
    "vals=input()"
   ]
  },
  {
   "cell_type": "code",
   "execution_count": 213,
   "id": "e090e2f3",
   "metadata": {},
   "outputs": [
    {
     "data": {
      "text/plain": [
       "'34 45 67 89 32 10'"
      ]
     },
     "execution_count": 213,
     "metadata": {},
     "output_type": "execute_result"
    }
   ],
   "source": [
    "vals"
   ]
  },
  {
   "cell_type": "code",
   "execution_count": 214,
   "id": "3031daad",
   "metadata": {},
   "outputs": [
    {
     "data": {
      "text/plain": [
       "['34', '45', '67', '89', '32', '10']"
      ]
     },
     "execution_count": 214,
     "metadata": {},
     "output_type": "execute_result"
    }
   ],
   "source": [
    "vals=vals.split(' ')\n",
    "vals"
   ]
  },
  {
   "cell_type": "code",
   "execution_count": 215,
   "id": "846f268e",
   "metadata": {},
   "outputs": [
    {
     "name": "stdout",
     "output_type": "stream",
     "text": [
      "10 20 30 40 50\n"
     ]
    }
   ],
   "source": [
    "vals=input().split(' ')"
   ]
  },
  {
   "cell_type": "code",
   "execution_count": 216,
   "id": "82385669",
   "metadata": {},
   "outputs": [
    {
     "data": {
      "text/plain": [
       "['10', '20', '30', '40', '50']"
      ]
     },
     "execution_count": 216,
     "metadata": {},
     "output_type": "execute_result"
    }
   ],
   "source": [
    "vals"
   ]
  },
  {
   "cell_type": "code",
   "execution_count": 218,
   "id": "019c3535",
   "metadata": {},
   "outputs": [
    {
     "data": {
      "text/plain": [
       "['hello', 'how', 'are', 'you']"
      ]
     },
     "execution_count": 218,
     "metadata": {},
     "output_type": "execute_result"
    }
   ],
   "source": [
    "s='hello how are you'\n",
    "s.split()"
   ]
  },
  {
   "cell_type": "code",
   "execution_count": 219,
   "id": "d1580fbf",
   "metadata": {},
   "outputs": [
    {
     "ename": "ValueError",
     "evalue": "empty separator",
     "output_type": "error",
     "traceback": [
      "\u001b[1;31m---------------------------------------------------------------------------\u001b[0m",
      "\u001b[1;31mValueError\u001b[0m                                Traceback (most recent call last)",
      "Input \u001b[1;32mIn [219]\u001b[0m, in \u001b[0;36m<cell line: 1>\u001b[1;34m()\u001b[0m\n\u001b[1;32m----> 1\u001b[0m \u001b[43ms\u001b[49m\u001b[38;5;241;43m.\u001b[39;49m\u001b[43msplit\u001b[49m\u001b[43m(\u001b[49m\u001b[38;5;124;43m'\u001b[39;49m\u001b[38;5;124;43m'\u001b[39;49m\u001b[43m)\u001b[49m\n",
      "\u001b[1;31mValueError\u001b[0m: empty separator"
     ]
    }
   ],
   "source": [
    "s.split('')"
   ]
  },
  {
   "cell_type": "code",
   "execution_count": 220,
   "id": "0b838492",
   "metadata": {},
   "outputs": [
    {
     "data": {
      "text/plain": [
       "True"
      ]
     },
     "execution_count": 220,
     "metadata": {},
     "output_type": "execute_result"
    }
   ],
   "source": [
    "s='hello'\n",
    "s.isalpha()"
   ]
  },
  {
   "cell_type": "code",
   "execution_count": 221,
   "id": "c99353d2",
   "metadata": {},
   "outputs": [
    {
     "data": {
      "text/plain": [
       "False"
      ]
     },
     "execution_count": 221,
     "metadata": {},
     "output_type": "execute_result"
    }
   ],
   "source": [
    "s='hello123'\n",
    "s.isalpha() # should have only alphabets"
   ]
  },
  {
   "cell_type": "code",
   "execution_count": 223,
   "id": "a008e33a",
   "metadata": {},
   "outputs": [
    {
     "data": {
      "text/plain": [
       "False"
      ]
     },
     "execution_count": 223,
     "metadata": {},
     "output_type": "execute_result"
    }
   ],
   "source": [
    "s='hello 123'\n",
    "s.isalnum()"
   ]
  },
  {
   "cell_type": "code",
   "execution_count": 224,
   "id": "ad7a12d9",
   "metadata": {},
   "outputs": [
    {
     "data": {
      "text/plain": [
       "True"
      ]
     },
     "execution_count": 224,
     "metadata": {},
     "output_type": "execute_result"
    }
   ],
   "source": [
    "s='hello123'\n",
    "s.isalnum() # only alphabet and number, no other char"
   ]
  },
  {
   "cell_type": "code",
   "execution_count": 225,
   "id": "835af000",
   "metadata": {},
   "outputs": [
    {
     "data": {
      "text/plain": [
       "True"
      ]
     },
     "execution_count": 225,
     "metadata": {},
     "output_type": "execute_result"
    }
   ],
   "source": [
    "s='10034'\n",
    "s.isdecimal()"
   ]
  },
  {
   "cell_type": "code",
   "execution_count": 232,
   "id": "ed435598",
   "metadata": {},
   "outputs": [
    {
     "data": {
      "text/plain": [
       "False"
      ]
     },
     "execution_count": 232,
     "metadata": {},
     "output_type": "execute_result"
    }
   ],
   "source": [
    "s='Deloitte USI'\n",
    "s.isupper()"
   ]
  },
  {
   "cell_type": "code",
   "execution_count": 233,
   "id": "5c9165b0",
   "metadata": {},
   "outputs": [
    {
     "data": {
      "text/plain": [
       "False"
      ]
     },
     "execution_count": 233,
     "metadata": {},
     "output_type": "execute_result"
    }
   ],
   "source": [
    "s.islower()"
   ]
  },
  {
   "cell_type": "code",
   "execution_count": 234,
   "id": "8f96cbf4",
   "metadata": {},
   "outputs": [
    {
     "data": {
      "text/plain": [
       "True"
      ]
     },
     "execution_count": 234,
     "metadata": {},
     "output_type": "execute_result"
    }
   ],
   "source": [
    "s='DELOITTE'\n",
    "s.isupper()"
   ]
  },
  {
   "cell_type": "code",
   "execution_count": 235,
   "id": "0aec8e88",
   "metadata": {},
   "outputs": [],
   "source": [
    "## Examples"
   ]
  },
  {
   "cell_type": "code",
   "execution_count": 236,
   "id": "950ab430",
   "metadata": {},
   "outputs": [
    {
     "data": {
      "text/plain": [
       "False"
      ]
     },
     "execution_count": 236,
     "metadata": {},
     "output_type": "execute_result"
    }
   ],
   "source": [
    "s1='Deloitte'\n",
    "s2='DELOITTE'\n",
    "\n",
    "s1 is s2"
   ]
  },
  {
   "cell_type": "code",
   "execution_count": 238,
   "id": "5dbfd438",
   "metadata": {},
   "outputs": [
    {
     "data": {
      "text/plain": [
       "True"
      ]
     },
     "execution_count": 238,
     "metadata": {},
     "output_type": "execute_result"
    }
   ],
   "source": [
    "s1='hello'\n",
    "s2='hello'\n",
    "s1 is s2"
   ]
  },
  {
   "cell_type": "code",
   "execution_count": 239,
   "id": "c532399d",
   "metadata": {},
   "outputs": [
    {
     "data": {
      "text/plain": [
       "True"
      ]
     },
     "execution_count": 239,
     "metadata": {},
     "output_type": "execute_result"
    }
   ],
   "source": [
    "s='my name is prateek'\n",
    "'prateek' in s"
   ]
  },
  {
   "cell_type": "code",
   "execution_count": 240,
   "id": "a0ef5548",
   "metadata": {},
   "outputs": [],
   "source": [
    "### multi line string"
   ]
  },
  {
   "cell_type": "code",
   "execution_count": 241,
   "id": "e0aef34b",
   "metadata": {},
   "outputs": [],
   "source": [
    "st='''this is first line.\n",
    "this is second line.\n",
    "this is third line now!'''"
   ]
  },
  {
   "cell_type": "code",
   "execution_count": 242,
   "id": "b38b02e3",
   "metadata": {},
   "outputs": [
    {
     "data": {
      "text/plain": [
       "'this is first line.\\nthis is second line.\\nthis is third line now!'"
      ]
     },
     "execution_count": 242,
     "metadata": {},
     "output_type": "execute_result"
    }
   ],
   "source": [
    "st"
   ]
  },
  {
   "cell_type": "code",
   "execution_count": 243,
   "id": "13d30a8f",
   "metadata": {},
   "outputs": [
    {
     "name": "stdout",
     "output_type": "stream",
     "text": [
      "this is first line.\n",
      "this is second line.\n",
      "this is third line now!\n"
     ]
    }
   ],
   "source": [
    "print(st)"
   ]
  },
  {
   "cell_type": "markdown",
   "id": "98378178",
   "metadata": {},
   "source": [
    "### Formatted Strings"
   ]
  },
  {
   "cell_type": "code",
   "execution_count": 244,
   "id": "9bf23384",
   "metadata": {},
   "outputs": [],
   "source": [
    "name='Prateek'\n",
    "city='Delhi'"
   ]
  },
  {
   "cell_type": "code",
   "execution_count": 245,
   "id": "2990d226",
   "metadata": {},
   "outputs": [
    {
     "name": "stdout",
     "output_type": "stream",
     "text": [
      "My name is  Prateek I belong to  Delhi\n"
     ]
    }
   ],
   "source": [
    "print('My name is ', name, 'I belong to ', city)"
   ]
  },
  {
   "cell_type": "code",
   "execution_count": 246,
   "id": "434b9737",
   "metadata": {},
   "outputs": [
    {
     "name": "stdout",
     "output_type": "stream",
     "text": [
      "My name is Prateek, I belong to Delhi\n"
     ]
    }
   ],
   "source": [
    "print('My name is %s, I belong to %s'%(name , city))"
   ]
  },
  {
   "cell_type": "code",
   "execution_count": 247,
   "id": "cc7bcfaf",
   "metadata": {},
   "outputs": [
    {
     "name": "stdout",
     "output_type": "stream",
     "text": [
      "My name is Prateek, I belong to Delhi\n"
     ]
    }
   ],
   "source": [
    "print('My name is {0}, I belong to {1}'.format(name, city))"
   ]
  },
  {
   "cell_type": "code",
   "execution_count": 249,
   "id": "b251582e",
   "metadata": {},
   "outputs": [
    {
     "name": "stdout",
     "output_type": "stream",
     "text": [
      "My name is Prateek, I belong to Delhi\n"
     ]
    }
   ],
   "source": [
    "print('My name is {1}, I belong to {0}'.format(city, name))"
   ]
  },
  {
   "cell_type": "code",
   "execution_count": 252,
   "id": "75c90a49",
   "metadata": {},
   "outputs": [
    {
     "name": "stdout",
     "output_type": "stream",
     "text": [
      "My name is Prateek, I belong to Delhi\n"
     ]
    }
   ],
   "source": [
    "print(f'My name is {name}, I belong to {city}')"
   ]
  },
  {
   "cell_type": "code",
   "execution_count": 257,
   "id": "675c31f9",
   "metadata": {},
   "outputs": [
    {
     "data": {
      "text/plain": [
       "True"
      ]
     },
     "execution_count": 257,
     "metadata": {},
     "output_type": "execute_result"
    }
   ],
   "source": [
    "## Check whether entered string is palindrome or not\n",
    "s='hahah'\n",
    "s2=s[::-1]\n",
    "s==s2"
   ]
  },
  {
   "cell_type": "code",
   "execution_count": 259,
   "id": "31a5d627",
   "metadata": {},
   "outputs": [
    {
     "data": {
      "text/plain": [
       "['this is first line.', 'this is second line.', 'this is third line now!']"
      ]
     },
     "execution_count": 259,
     "metadata": {},
     "output_type": "execute_result"
    }
   ],
   "source": [
    "st.splitlines()"
   ]
  },
  {
   "cell_type": "code",
   "execution_count": 261,
   "id": "ccad231b",
   "metadata": {},
   "outputs": [
    {
     "data": {
      "text/plain": [
       "'Icecrystal'"
      ]
     },
     "execution_count": 261,
     "metadata": {},
     "output_type": "execute_result"
    }
   ],
   "source": [
    "s='Iceland'\n",
    "s.replace('land', 'crystal')"
   ]
  },
  {
   "cell_type": "code",
   "execution_count": 262,
   "id": "6a3478a0",
   "metadata": {},
   "outputs": [
    {
     "data": {
      "text/plain": [
       "4"
      ]
     },
     "execution_count": 262,
     "metadata": {},
     "output_type": "execute_result"
    }
   ],
   "source": [
    "s.index('a')"
   ]
  },
  {
   "cell_type": "code",
   "execution_count": 263,
   "id": "9bc00275",
   "metadata": {},
   "outputs": [
    {
     "data": {
      "text/plain": [
       "4"
      ]
     },
     "execution_count": 263,
     "metadata": {},
     "output_type": "execute_result"
    }
   ],
   "source": [
    "s='deloitte india'\n",
    "s.index('i')"
   ]
  },
  {
   "cell_type": "code",
   "execution_count": 264,
   "id": "87531f32",
   "metadata": {},
   "outputs": [
    {
     "data": {
      "text/plain": [
       "12"
      ]
     },
     "execution_count": 264,
     "metadata": {},
     "output_type": "execute_result"
    }
   ],
   "source": [
    "s.rindex('i')"
   ]
  },
  {
   "cell_type": "code",
   "execution_count": 266,
   "id": "41ebba1b",
   "metadata": {},
   "outputs": [
    {
     "data": {
      "text/plain": [
       "('hello ', 'del', 'oitte india')"
      ]
     },
     "execution_count": 266,
     "metadata": {},
     "output_type": "execute_result"
    }
   ],
   "source": [
    "s='hello deloitte india'\n",
    "s.partition('del')"
   ]
  },
  {
   "cell_type": "code",
   "execution_count": 267,
   "id": "3040c48f",
   "metadata": {},
   "outputs": [
    {
     "data": {
      "text/plain": [
       "('hello deloitte', ' ', 'india')"
      ]
     },
     "execution_count": 267,
     "metadata": {},
     "output_type": "execute_result"
    }
   ],
   "source": [
    "s='hello deloitte india'\n",
    "s.rpartition(' ')"
   ]
  },
  {
   "cell_type": "code",
   "execution_count": 270,
   "id": "5ebb8389",
   "metadata": {},
   "outputs": [
    {
     "data": {
      "text/plain": [
       "('prateek', '@', 'deloitte.com')"
      ]
     },
     "execution_count": 270,
     "metadata": {},
     "output_type": "execute_result"
    }
   ],
   "source": [
    "s='prateek@deloitte.com'\n",
    "s.partition('@')"
   ]
  },
  {
   "cell_type": "code",
   "execution_count": 3,
   "id": "c0518b7d",
   "metadata": {},
   "outputs": [
    {
     "name": "stdout",
     "output_type": "stream",
     "text": [
      "Deloitte             |       Deloitte       |             Deloitte\n"
     ]
    }
   ],
   "source": [
    "comp='Deloitte'\n",
    "print(f'{comp:<20} | {comp:^20} | {comp:>20}')"
   ]
  },
  {
   "cell_type": "code",
   "execution_count": 4,
   "id": "a010cd45",
   "metadata": {},
   "outputs": [],
   "source": [
    "# more string functions"
   ]
  },
  {
   "cell_type": "code",
   "execution_count": 5,
   "id": "556c29eb",
   "metadata": {},
   "outputs": [
    {
     "name": "stdout",
     "output_type": "stream",
     "text": [
      "Hello Mr. Prateek, Welcome to Deloitte\n"
     ]
    }
   ],
   "source": [
    "print(\"Hello {salutation}. {name}, Welcome to {company}\".format(salutation='Mr', name='Prateek',\n",
    "                                                               company='Deloitte'))"
   ]
  },
  {
   "cell_type": "code",
   "execution_count": 9,
   "id": "85ff35bb",
   "metadata": {},
   "outputs": [
    {
     "name": "stdout",
     "output_type": "stream",
     "text": [
      "spider-man is out of country. let's celebrate no-web january\n",
      "hello how are you? \t \"Mr. Harry Potter\" \n"
     ]
    }
   ],
   "source": [
    "s='spider-man is out of country. let\\'s celebrate no-web january'\n",
    "\n",
    "s2=\"hello how are you? \\t \\\"Mr. Harry Potter\\\" \"\n",
    "\n",
    "print(s,s2, sep='\\n')"
   ]
  },
  {
   "cell_type": "code",
   "execution_count": 10,
   "id": "063cf0fd",
   "metadata": {},
   "outputs": [
    {
     "data": {
      "text/plain": [
       "True"
      ]
     },
     "execution_count": 10,
     "metadata": {},
     "output_type": "execute_result"
    }
   ],
   "source": [
    "s.startswith('spider')"
   ]
  },
  {
   "cell_type": "code",
   "execution_count": 11,
   "id": "91641655",
   "metadata": {},
   "outputs": [
    {
     "data": {
      "text/plain": [
       "True"
      ]
     },
     "execution_count": 11,
     "metadata": {},
     "output_type": "execute_result"
    }
   ],
   "source": [
    "s.endswith('ary')"
   ]
  },
  {
   "cell_type": "code",
   "execution_count": 14,
   "id": "82c70531",
   "metadata": {},
   "outputs": [
    {
     "data": {
      "text/plain": [
       "True"
      ]
     },
     "execution_count": 14,
     "metadata": {},
     "output_type": "execute_result"
    }
   ],
   "source": [
    "s2.endswith('\" ')"
   ]
  },
  {
   "cell_type": "code",
   "execution_count": 15,
   "id": "fabf7ea2",
   "metadata": {},
   "outputs": [
    {
     "data": {
      "text/plain": [
       "'hello--hi--welcome--pizza--pie'"
      ]
     },
     "execution_count": 15,
     "metadata": {},
     "output_type": "execute_result"
    }
   ],
   "source": [
    "# join together multiple strings\n",
    "seq=('hello','hi','welcome','pizza','pie')\n",
    "\"--\".join(seq)"
   ]
  },
  {
   "cell_type": "code",
   "execution_count": 17,
   "id": "82dd807c",
   "metadata": {},
   "outputs": [
    {
     "name": "stdout",
     "output_type": "stream",
     "text": [
      "Enter your first name: prateek\n",
      "Enter your surname/family name: vashishtha\n",
      "Select domain name: (deloitte.com/deloitte.us/deloitte.in)deloitte.in\n",
      "Congrats!!! Your new email is: pvashishtha@deloitte.in\n"
     ]
    }
   ],
   "source": [
    "name=input('Enter your first name: ')\n",
    "surname=input('Enter your surname/family name: ')\n",
    "domain=input('Select domain name: (deloitte.com/deloitte.us/deloitte.in)')\n",
    "\n",
    "email_initials=name[0]+surname\n",
    "\n",
    "email='@'.join((email_initials, domain))\n",
    "print(f'Congrats!!! Your new email is: {email}')"
   ]
  },
  {
   "cell_type": "code",
   "execution_count": 18,
   "id": "6751863f",
   "metadata": {},
   "outputs": [],
   "source": [
    "# count occurences\n",
    "\n",
    "s='peter piper pie has pie and pie is peter piper\\'s pie.'"
   ]
  },
  {
   "cell_type": "code",
   "execution_count": 19,
   "id": "c5259f1a",
   "metadata": {},
   "outputs": [
    {
     "data": {
      "text/plain": [
       "4"
      ]
     },
     "execution_count": 19,
     "metadata": {},
     "output_type": "execute_result"
    }
   ],
   "source": [
    "s.count('pie')"
   ]
  },
  {
   "cell_type": "code",
   "execution_count": 24,
   "id": "cb4347fa",
   "metadata": {},
   "outputs": [
    {
     "data": {
      "text/plain": [
       "3"
      ]
     },
     "execution_count": 24,
     "metadata": {},
     "output_type": "execute_result"
    }
   ],
   "source": [
    "s.count('pie', 15, len(s))"
   ]
  },
  {
   "cell_type": "code",
   "execution_count": 25,
   "id": "ea68f61a",
   "metadata": {},
   "outputs": [
    {
     "data": {
      "text/plain": [
       "2"
      ]
     },
     "execution_count": 25,
     "metadata": {},
     "output_type": "execute_result"
    }
   ],
   "source": [
    "# count number of occurences for vowels in a given string\n",
    "s.count('a')"
   ]
  },
  {
   "cell_type": "code",
   "execution_count": 28,
   "id": "89ab14cc",
   "metadata": {},
   "outputs": [
    {
     "data": {
      "text/plain": [
       "'#######Deloitte######'"
      ]
     },
     "execution_count": 28,
     "metadata": {},
     "output_type": "execute_result"
    }
   ],
   "source": [
    "# center align\n",
    "s='Deloitte'\n",
    "s.center(21, '#') #center(width, fillchars)"
   ]
  },
  {
   "cell_type": "code",
   "execution_count": 31,
   "id": "5d03c108",
   "metadata": {},
   "outputs": [
    {
     "data": {
      "text/plain": [
       "'One fine day'"
      ]
     },
     "execution_count": 31,
     "metadata": {},
     "output_type": "execute_result"
    }
   ],
   "source": [
    "s='ONE FINE DAY'\n",
    "s.capitalize()"
   ]
  },
  {
   "cell_type": "code",
   "execution_count": 32,
   "id": "9c49d1d9",
   "metadata": {},
   "outputs": [
    {
     "data": {
      "text/plain": [
       "'one fine day'"
      ]
     },
     "execution_count": 32,
     "metadata": {},
     "output_type": "execute_result"
    }
   ],
   "source": [
    "s.swapcase()"
   ]
  },
  {
   "cell_type": "code",
   "execution_count": 34,
   "id": "511a193a",
   "metadata": {},
   "outputs": [],
   "source": [
    "# searching\n",
    "s='peter piper pie has pie and pie is peter piper\\'s pie.'"
   ]
  },
  {
   "cell_type": "code",
   "execution_count": 35,
   "id": "d121eddd",
   "metadata": {},
   "outputs": [
    {
     "data": {
      "text/plain": [
       "12"
      ]
     },
     "execution_count": 35,
     "metadata": {},
     "output_type": "execute_result"
    }
   ],
   "source": [
    "s.index('pie')"
   ]
  },
  {
   "cell_type": "code",
   "execution_count": 36,
   "id": "46b4f62c",
   "metadata": {},
   "outputs": [
    {
     "data": {
      "text/plain": [
       "49"
      ]
     },
     "execution_count": 36,
     "metadata": {},
     "output_type": "execute_result"
    }
   ],
   "source": [
    "s.rindex('pie')"
   ]
  },
  {
   "cell_type": "code",
   "execution_count": 37,
   "id": "ffb512d0",
   "metadata": {},
   "outputs": [
    {
     "data": {
      "text/plain": [
       "12"
      ]
     },
     "execution_count": 37,
     "metadata": {},
     "output_type": "execute_result"
    }
   ],
   "source": [
    "s.find('pie')"
   ]
  },
  {
   "cell_type": "code",
   "execution_count": 38,
   "id": "5e80b292",
   "metadata": {},
   "outputs": [
    {
     "data": {
      "text/plain": [
       "20"
      ]
     },
     "execution_count": 38,
     "metadata": {},
     "output_type": "execute_result"
    }
   ],
   "source": [
    "s.find('pie', 15)"
   ]
  },
  {
   "cell_type": "code",
   "execution_count": 40,
   "id": "95c8fd95",
   "metadata": {},
   "outputs": [
    {
     "data": {
      "text/plain": [
       "20"
      ]
     },
     "execution_count": 40,
     "metadata": {},
     "output_type": "execute_result"
    }
   ],
   "source": [
    "s.rfind('pie', 15, 25)"
   ]
  },
  {
   "cell_type": "code",
   "execution_count": 43,
   "id": "a0ab48a3",
   "metadata": {},
   "outputs": [],
   "source": [
    "# decoding and encoding\n",
    "s='hello january'\n",
    "msg=s.encode(encoding='UTF-8', errors='strict')"
   ]
  },
  {
   "cell_type": "code",
   "execution_count": 44,
   "id": "c5b57cbd",
   "metadata": {},
   "outputs": [
    {
     "name": "stdout",
     "output_type": "stream",
     "text": [
      "b'hello january'\n"
     ]
    }
   ],
   "source": [
    "print(msg)"
   ]
  },
  {
   "cell_type": "code",
   "execution_count": 46,
   "id": "2f207661",
   "metadata": {},
   "outputs": [
    {
     "name": "stdout",
     "output_type": "stream",
     "text": [
      "hello january\n"
     ]
    }
   ],
   "source": [
    "asc=msg.decode(encoding='ascii')\n",
    "print(asc)"
   ]
  },
  {
   "cell_type": "code",
   "execution_count": 47,
   "id": "49a7a3d8",
   "metadata": {},
   "outputs": [
    {
     "data": {
      "text/plain": [
       "True"
      ]
     },
     "execution_count": 47,
     "metadata": {},
     "output_type": "execute_result"
    }
   ],
   "source": [
    "asc.isascii()"
   ]
  },
  {
   "cell_type": "code",
   "execution_count": 54,
   "id": "8557d9bc",
   "metadata": {},
   "outputs": [],
   "source": [
    "# expanding tab size\n",
    "s='hello \\t deloitte'\n",
    "s=s.expandtabs(tabsize=50)"
   ]
  },
  {
   "cell_type": "code",
   "execution_count": 55,
   "id": "6d021250",
   "metadata": {},
   "outputs": [
    {
     "name": "stdout",
     "output_type": "stream",
     "text": [
      "hello                                              deloitte\n"
     ]
    }
   ],
   "source": [
    "print(s)"
   ]
  },
  {
   "cell_type": "code",
   "execution_count": 57,
   "id": "6c90f926",
   "metadata": {},
   "outputs": [],
   "source": [
    "s='peter piper pie has pie and pie is peter piper\\'s pie.'"
   ]
  },
  {
   "cell_type": "code",
   "execution_count": 58,
   "id": "84efe70c",
   "metadata": {},
   "outputs": [
    {
     "data": {
      "text/plain": [
       "\"peter piper cake has cake and cake is peter piper's cake.\""
      ]
     },
     "execution_count": 58,
     "metadata": {},
     "output_type": "execute_result"
    }
   ],
   "source": [
    "s.replace('pie', 'cake')"
   ]
  },
  {
   "cell_type": "code",
   "execution_count": 60,
   "id": "7317effb",
   "metadata": {},
   "outputs": [
    {
     "data": {
      "text/plain": [
       "\"peter piper cake has cake and pie is peter piper's pie.\""
      ]
     },
     "execution_count": 60,
     "metadata": {},
     "output_type": "execute_result"
    }
   ],
   "source": [
    "s.replace('pie', 'cake', 2)"
   ]
  },
  {
   "cell_type": "code",
   "execution_count": 62,
   "id": "299976ff",
   "metadata": {},
   "outputs": [
    {
     "data": {
      "text/plain": [
       "'t'"
      ]
     },
     "execution_count": 62,
     "metadata": {},
     "output_type": "execute_result"
    }
   ],
   "source": [
    "max(s)"
   ]
  },
  {
   "cell_type": "code",
   "execution_count": 63,
   "id": "f388c9d7",
   "metadata": {},
   "outputs": [
    {
     "data": {
      "text/plain": [
       "' '"
      ]
     },
     "execution_count": 63,
     "metadata": {},
     "output_type": "execute_result"
    }
   ],
   "source": [
    "min(s)"
   ]
  },
  {
   "cell_type": "code",
   "execution_count": 64,
   "id": "5f596c66",
   "metadata": {},
   "outputs": [
    {
     "data": {
      "text/plain": [
       "116"
      ]
     },
     "execution_count": 64,
     "metadata": {},
     "output_type": "execute_result"
    }
   ],
   "source": [
    "ord('t')"
   ]
  },
  {
   "cell_type": "code",
   "execution_count": 65,
   "id": "10cedfba",
   "metadata": {},
   "outputs": [
    {
     "data": {
      "text/plain": [
       "32"
      ]
     },
     "execution_count": 65,
     "metadata": {},
     "output_type": "execute_result"
    }
   ],
   "source": [
    "ord(' ')"
   ]
  },
  {
   "cell_type": "code",
   "execution_count": 66,
   "id": "af9429b0",
   "metadata": {},
   "outputs": [
    {
     "data": {
      "text/plain": [
       "'0000000000111000'"
      ]
     },
     "execution_count": 66,
     "metadata": {},
     "output_type": "execute_result"
    }
   ],
   "source": [
    "# zfill()\n",
    "\n",
    "s='111000'\n",
    "s.zfill(16)"
   ]
  },
  {
   "cell_type": "code",
   "execution_count": 67,
   "id": "0f30226d",
   "metadata": {},
   "outputs": [
    {
     "name": "stdout",
     "output_type": "stream",
     "text": [
      "Hello\\nWordl\n"
     ]
    }
   ],
   "source": [
    "print(r\"Hello\\nWordl\")"
   ]
  },
  {
   "cell_type": "code",
   "execution_count": 71,
   "id": "95638f70",
   "metadata": {},
   "outputs": [
    {
     "name": "stdout",
     "output_type": "stream",
     "text": [
      "Hello\\'s World\n"
     ]
    }
   ],
   "source": [
    "print(r'Hello\\'s World')"
   ]
  },
  {
   "cell_type": "code",
   "execution_count": null,
   "id": "d18baf9d",
   "metadata": {},
   "outputs": [],
   "source": []
  },
  {
   "cell_type": "code",
   "execution_count": null,
   "id": "de771402",
   "metadata": {},
   "outputs": [],
   "source": []
  },
  {
   "cell_type": "code",
   "execution_count": null,
   "id": "a1187149",
   "metadata": {},
   "outputs": [],
   "source": []
  },
  {
   "cell_type": "code",
   "execution_count": null,
   "id": "1ee08ceb",
   "metadata": {},
   "outputs": [],
   "source": []
  },
  {
   "cell_type": "code",
   "execution_count": null,
   "id": "866f39cb",
   "metadata": {},
   "outputs": [],
   "source": []
  },
  {
   "cell_type": "code",
   "execution_count": null,
   "id": "f720098b",
   "metadata": {},
   "outputs": [],
   "source": []
  },
  {
   "cell_type": "code",
   "execution_count": null,
   "id": "caa90499",
   "metadata": {},
   "outputs": [],
   "source": []
  },
  {
   "cell_type": "code",
   "execution_count": null,
   "id": "dfa6850b",
   "metadata": {},
   "outputs": [],
   "source": []
  },
  {
   "cell_type": "code",
   "execution_count": null,
   "id": "8926a1c8",
   "metadata": {},
   "outputs": [],
   "source": []
  },
  {
   "cell_type": "code",
   "execution_count": null,
   "id": "006cd582",
   "metadata": {},
   "outputs": [],
   "source": []
  },
  {
   "cell_type": "code",
   "execution_count": null,
   "id": "f379913a",
   "metadata": {},
   "outputs": [],
   "source": []
  },
  {
   "cell_type": "code",
   "execution_count": null,
   "id": "458861a5",
   "metadata": {},
   "outputs": [],
   "source": []
  },
  {
   "cell_type": "code",
   "execution_count": null,
   "id": "05c5b900",
   "metadata": {},
   "outputs": [],
   "source": []
  },
  {
   "cell_type": "code",
   "execution_count": null,
   "id": "71b71cbc",
   "metadata": {},
   "outputs": [],
   "source": []
  }
 ],
 "metadata": {
  "kernelspec": {
   "display_name": "Python 3 (ipykernel)",
   "language": "python",
   "name": "python3"
  },
  "language_info": {
   "codemirror_mode": {
    "name": "ipython",
    "version": 3
   },
   "file_extension": ".py",
   "mimetype": "text/x-python",
   "name": "python",
   "nbconvert_exporter": "python",
   "pygments_lexer": "ipython3",
   "version": "3.9.12"
  }
 },
 "nbformat": 4,
 "nbformat_minor": 5
}
