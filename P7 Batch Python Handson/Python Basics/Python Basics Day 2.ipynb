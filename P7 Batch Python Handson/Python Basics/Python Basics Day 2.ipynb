{
 "cells": [
  {
   "cell_type": "markdown",
   "id": "2e8054fc",
   "metadata": {},
   "source": [
    "### Python Basics Day 2"
   ]
  },
  {
   "cell_type": "markdown",
   "id": "f2a40b18",
   "metadata": {},
   "source": [
    "### Conditional Statements (if-else blocks)"
   ]
  },
  {
   "cell_type": "code",
   "execution_count": 12,
   "id": "d3695ce5",
   "metadata": {},
   "outputs": [
    {
     "name": "stdout",
     "output_type": "stream",
     "text": [
      "a is bigger number\n"
     ]
    }
   ],
   "source": [
    "a=200\n",
    "b=1500\n",
    "if a<b:\n",
    "    print('a is bigger number')\n",
    "else:\n",
    "    print('b is bigger number')"
   ]
  },
  {
   "cell_type": "code",
   "execution_count": 13,
   "id": "4081f741",
   "metadata": {},
   "outputs": [
    {
     "name": "stdout",
     "output_type": "stream",
     "text": [
      "b is bigger number\n"
     ]
    }
   ],
   "source": [
    "a=2000\n",
    "b=1500\n",
    "if a<b:\n",
    "    print('a is bigger number')\n",
    "else:\n",
    "    print('b is bigger number')"
   ]
  },
  {
   "cell_type": "code",
   "execution_count": 14,
   "id": "3e2046bc",
   "metadata": {},
   "outputs": [
    {
     "name": "stdout",
     "output_type": "stream",
     "text": [
      "a is greater than 100\n",
      "a is also greater than 500\n"
     ]
    }
   ],
   "source": [
    "a=1000\n",
    "#nesting if statement\n",
    "if a>100:\n",
    "    print('a is greater than 100')\n",
    "    if a>500:\n",
    "        print('a is also greater than 500')\n",
    "        if a>1000:\n",
    "            print('a is greater than 1000 also')"
   ]
  },
  {
   "cell_type": "code",
   "execution_count": 16,
   "id": "a4b0bcbb",
   "metadata": {},
   "outputs": [
    {
     "name": "stdout",
     "output_type": "stream",
     "text": [
      "a lies between 100 and 1000\n"
     ]
    }
   ],
   "source": [
    "a=998\n",
    "if a>100 and a<1000:\n",
    "    print('a lies between 100 and 1000')"
   ]
  },
  {
   "cell_type": "code",
   "execution_count": 26,
   "id": "35a77325",
   "metadata": {},
   "outputs": [
    {
     "name": "stdout",
     "output_type": "stream",
     "text": [
      "c is greatest\n"
     ]
    }
   ],
   "source": [
    "a=1000\n",
    "b=2000\n",
    "c=15000\n",
    "\n",
    "if a>b and a>c:\n",
    "    print('a is greatest')\n",
    "if b>a and b>c:\n",
    "    print('b is greatest')\n",
    "if c>a and c>b:\n",
    "    print('c is greatest')"
   ]
  },
  {
   "cell_type": "code",
   "execution_count": 27,
   "id": "1650dfb3",
   "metadata": {},
   "outputs": [
    {
     "name": "stdout",
     "output_type": "stream",
     "text": [
      "c is greatest\n"
     ]
    }
   ],
   "source": [
    "if a>b:\n",
    "    if a>c:\n",
    "        print('a is greatest')\n",
    "else:\n",
    "    if b>c:\n",
    "        print('b is greatest')\n",
    "    else:\n",
    "        print('c is greatest')"
   ]
  },
  {
   "cell_type": "code",
   "execution_count": 28,
   "id": "65db6bc1",
   "metadata": {},
   "outputs": [
    {
     "name": "stdout",
     "output_type": "stream",
     "text": [
      "c is greatest\n"
     ]
    }
   ],
   "source": [
    "# if-elif-else ladder\n",
    "\n",
    "if a>b and a>c:\n",
    "    print('a is greatest')\n",
    "elif b>a and b>c:\n",
    "    print('b is greatest')\n",
    "else:\n",
    "    print('c is greatest')"
   ]
  },
  {
   "cell_type": "code",
   "execution_count": 34,
   "id": "fdb6e929",
   "metadata": {},
   "outputs": [
    {
     "name": "stdout",
     "output_type": "stream",
     "text": [
      "vowel found at step 4\n"
     ]
    }
   ],
   "source": [
    "s='hllllo'\n",
    "\n",
    "if 'a' in s:\n",
    "    print('vowel found at step 1')\n",
    "elif 'e' in s:\n",
    "    print('vowel found at step 2')\n",
    "elif 'i' in s:\n",
    "    print('vowel found at step 3')\n",
    "elif 'o' in s:\n",
    "    print('vowel found at step 4')\n",
    "elif 'u' in s:\n",
    "    print('vowel found at step 5')\n",
    "else:\n",
    "    print('no vowel found!!!')"
   ]
  },
  {
   "cell_type": "code",
   "execution_count": 35,
   "id": "5c05cd3b",
   "metadata": {},
   "outputs": [],
   "source": [
    "# write code to find string is palindrome or not"
   ]
  },
  {
   "cell_type": "code",
   "execution_count": 37,
   "id": "84742a49",
   "metadata": {},
   "outputs": [],
   "source": [
    "# For a given integer value n, perform following:\n",
    "### 1. if n is odd number, print 'wierd number'\n",
    "### 2. if n is even and in special range between 0 and 9, print 'right number'\n",
    "### 3. if n is even and greater than or equal to 10, print 'wierdly right number'"
   ]
  },
  {
   "cell_type": "code",
   "execution_count": null,
   "id": "c5132353",
   "metadata": {},
   "outputs": [],
   "source": []
  },
  {
   "cell_type": "code",
   "execution_count": 39,
   "id": "6c07a61e",
   "metadata": {},
   "outputs": [
    {
     "name": "stdout",
     "output_type": "stream",
     "text": [
      "Palindrome\n"
     ]
    }
   ],
   "source": [
    "s='piefiifeip'\n",
    "\n",
    "if s==s[::-1]:\n",
    "    print('Palindrome')\n",
    "else:\n",
    "    print('Not palindrome')"
   ]
  },
  {
   "cell_type": "code",
   "execution_count": 43,
   "id": "3424c988",
   "metadata": {},
   "outputs": [
    {
     "name": "stdout",
     "output_type": "stream",
     "text": [
      "-8\n",
      "negatively wierd number\n"
     ]
    }
   ],
   "source": [
    "n=int(input())\n",
    "\n",
    "if n%2!=0:\n",
    "    print('wierd number')\n",
    "else:\n",
    "    if n>=0 and n<=9:\n",
    "        print('right number')\n",
    "    elif n>=10:\n",
    "        print('wierdly right number')\n",
    "    else:\n",
    "        print('negatively wierd number')"
   ]
  },
  {
   "cell_type": "code",
   "execution_count": 44,
   "id": "97e21c6a",
   "metadata": {},
   "outputs": [],
   "source": [
    "# write a code to receive 2 names as input from user and check if:\n",
    "### 1. names are equal in length, print \"same length\"\n",
    "### 2. names are equal in length and same in value, irrespective of case, then print \"exactly same\"\n",
    "### 3. in any other case print, \"different people\""
   ]
  },
  {
   "cell_type": "code",
   "execution_count": 49,
   "id": "a2be2425",
   "metadata": {},
   "outputs": [
    {
     "name": "stdout",
     "output_type": "stream",
     "text": [
      "prateek\n",
      "Prateek\n",
      "exactly same\n"
     ]
    }
   ],
   "source": [
    "n1=input().lower()\n",
    "n2=input().lower()\n",
    "if len(n1)==len(n2):\n",
    "    if n1 == n2:\n",
    "        print('exactly same')\n",
    "    else:\n",
    "        print('same length')\n",
    "else:\n",
    "    print('different people')"
   ]
  },
  {
   "cell_type": "markdown",
   "id": "9ad91b27",
   "metadata": {},
   "source": [
    "#### Ternary Operator"
   ]
  },
  {
   "cell_type": "code",
   "execution_count": 55,
   "id": "9d32f5ab",
   "metadata": {},
   "outputs": [
    {
     "name": "stdout",
     "output_type": "stream",
     "text": [
      "b\n"
     ]
    }
   ],
   "source": [
    "a=1000\n",
    "b=1000\n",
    "\n",
    "if a>b:\n",
    "    print('a')\n",
    "else:\n",
    "    print('b')"
   ]
  },
  {
   "cell_type": "code",
   "execution_count": 56,
   "id": "5e90dcd3",
   "metadata": {},
   "outputs": [
    {
     "data": {
      "text/plain": [
       "'b'"
      ]
     },
     "execution_count": 56,
     "metadata": {},
     "output_type": "execute_result"
    }
   ],
   "source": [
    "'a' if a>b else 'b'"
   ]
  },
  {
   "cell_type": "code",
   "execution_count": 57,
   "id": "6ffef68b",
   "metadata": {},
   "outputs": [
    {
     "data": {
      "text/plain": [
       "'same'"
      ]
     },
     "execution_count": 57,
     "metadata": {},
     "output_type": "execute_result"
    }
   ],
   "source": [
    "'same' if a==b else 'a' if a>b else 'b'"
   ]
  },
  {
   "cell_type": "code",
   "execution_count": 58,
   "id": "34868398",
   "metadata": {},
   "outputs": [
    {
     "name": "stdout",
     "output_type": "stream",
     "text": [
      "same\n"
     ]
    }
   ],
   "source": [
    "if a==b:\n",
    "    print('same')\n",
    "else:\n",
    "    if a>b:\n",
    "        print('a')\n",
    "    else:\n",
    "        print('b')"
   ]
  },
  {
   "cell_type": "code",
   "execution_count": 59,
   "id": "b49ab86c",
   "metadata": {},
   "outputs": [],
   "source": [
    "# Write a code to implement the game: ROCK, PAPER, SCISSOR using conditional statements only"
   ]
  },
  {
   "cell_type": "code",
   "execution_count": 61,
   "id": "a834dfaa",
   "metadata": {},
   "outputs": [
    {
     "name": "stdout",
     "output_type": "stream",
     "text": [
      "rock\n",
      "paper\n",
      "P2 wins\n"
     ]
    }
   ],
   "source": [
    "p1=input().lower()\n",
    "p2=input().lower()\n",
    "if p1=='rock' and p2=='scissor':\n",
    "    print('P1 wins')\n",
    "elif p1=='rock' and p2=='paper':\n",
    "    print('P2 wins')\n",
    "elif p1=='paper' and p2=='scissor':\n",
    "    print('P2 wins')\n",
    "elif p1=='paper' and p2=='rock':\n",
    "    print('P1 wins')\n",
    "elif p1=='scissor' and p2=='rock':\n",
    "    print('P2 wins')\n",
    "elif p1=='scissor' and p2=='paper':\n",
    "    print('P1 wins')\n",
    "else:\n",
    "    print('wrong input(s)')"
   ]
  },
  {
   "cell_type": "code",
   "execution_count": 66,
   "id": "6abcd2e4",
   "metadata": {},
   "outputs": [
    {
     "name": "stdout",
     "output_type": "stream",
     "text": [
      "scissor\n",
      "rock\n",
      "P2 wins\n"
     ]
    }
   ],
   "source": [
    "p1=input().lower()\n",
    "p2=input().lower()\n",
    "if (p1=='rock' and p2=='scissor') or (p1=='paper' and p2=='rock') or (p1=='scissor' and p2=='paper'):\n",
    "    print('P1 wins')\n",
    "elif (p1=='rock' and p2=='paper') or (p1=='paper' and p2=='scissor') or (p1=='scissor' and p2=='rock'):\n",
    "    print('P2 wins')\n",
    "else:\n",
    "    print('wrong input(s)')"
   ]
  },
  {
   "cell_type": "markdown",
   "id": "bb0a0580",
   "metadata": {},
   "source": [
    "## Flow Control- Loops"
   ]
  },
  {
   "cell_type": "markdown",
   "id": "ff01eba1",
   "metadata": {},
   "source": [
    "### WHILE LOOP"
   ]
  },
  {
   "cell_type": "code",
   "execution_count": 75,
   "id": "5ca4f110",
   "metadata": {},
   "outputs": [
    {
     "name": "stdout",
     "output_type": "stream",
     "text": [
      "D.  |  D.  |  D.  |  D.  |  D.  |  D.  |  D.  |  D.  |  D.  |  D.  |  "
     ]
    }
   ],
   "source": [
    "i=0\n",
    "while i<10:\n",
    "    print('D.', end='  |  ')\n",
    "    i+=1"
   ]
  },
  {
   "cell_type": "code",
   "execution_count": null,
   "id": "14af46da",
   "metadata": {},
   "outputs": [],
   "source": [
    "# infinite loop\n",
    "i=0\n",
    "while i<10:\n",
    "    print(i)"
   ]
  },
  {
   "cell_type": "code",
   "execution_count": null,
   "id": "446e0d88",
   "metadata": {},
   "outputs": [],
   "source": [
    "# infinite loop\n",
    "i=100\n",
    "while i>0:\n",
    "    print(i)\n",
    "    i+=1"
   ]
  },
  {
   "cell_type": "code",
   "execution_count": null,
   "id": "e04b091a",
   "metadata": {},
   "outputs": [],
   "source": [
    "# infinite loop\n",
    "while(True):\n",
    "    print('hi')"
   ]
  },
  {
   "cell_type": "code",
   "execution_count": null,
   "id": "53eba377",
   "metadata": {},
   "outputs": [],
   "source": [
    "i=0\n",
    "while True:\n",
    "    print('loop run...')\n",
    "    i+=1\n",
    "    if i%5==0:\n",
    "        break"
   ]
  },
  {
   "cell_type": "code",
   "execution_count": 76,
   "id": "1adfd67c",
   "metadata": {},
   "outputs": [],
   "source": [
    "# write a code to accept integer input from user and print it back on screen until user enters\n",
    "# number 777"
   ]
  },
  {
   "cell_type": "code",
   "execution_count": 2,
   "id": "eb990fdd",
   "metadata": {},
   "outputs": [
    {
     "name": "stdout",
     "output_type": "stream",
     "text": [
      "54\n",
      "Input:  54\n",
      "87\n",
      "Input:  87\n",
      "777\n",
      "exit...\n"
     ]
    }
   ],
   "source": [
    "while True:\n",
    "    n=int(input())\n",
    "    if n==777:\n",
    "        print('exit...')\n",
    "        break\n",
    "    else:\n",
    "        print('Input: ', n)"
   ]
  },
  {
   "cell_type": "code",
   "execution_count": 3,
   "id": "1b42846c",
   "metadata": {},
   "outputs": [
    {
     "name": "stdout",
     "output_type": "stream",
     "text": [
      "45\n",
      "45\n",
      "32\n",
      "32\n",
      "67\n",
      "67\n",
      "777\n",
      "777\n"
     ]
    }
   ],
   "source": [
    "n=0\n",
    "while n!=777:\n",
    "    n=int(input())\n",
    "    print(n)"
   ]
  },
  {
   "cell_type": "code",
   "execution_count": 6,
   "id": "d26d2d67",
   "metadata": {},
   "outputs": [],
   "source": [
    "# find factorial of number using while loop"
   ]
  },
  {
   "cell_type": "code",
   "execution_count": 11,
   "id": "b7b8fd69",
   "metadata": {},
   "outputs": [
    {
     "name": "stdout",
     "output_type": "stream",
     "text": [
      "5\n",
      "120\n"
     ]
    }
   ],
   "source": [
    "n=int(input())\n",
    "fact=1\n",
    "while n>0:\n",
    "    if n<=0:\n",
    "        break\n",
    "    fact*=n\n",
    "    n-=1\n",
    "print(fact)"
   ]
  },
  {
   "cell_type": "code",
   "execution_count": 12,
   "id": "595d1a95",
   "metadata": {},
   "outputs": [],
   "source": [
    "# write a code to display all number that are divisible by 6,\n",
    "### starting from 100 and goes upto 1\n",
    "#### example: 96, 90, 84, 78, 72, 66, ...... 12, 6"
   ]
  },
  {
   "cell_type": "code",
   "execution_count": 20,
   "id": "97f9443e",
   "metadata": {},
   "outputs": [
    {
     "name": "stdout",
     "output_type": "stream",
     "text": [
      "    96      90      84      78      72      66      60      54      48      42      36      30      24      18      12      6      "
     ]
    }
   ],
   "source": [
    "i=100\n",
    "while i>0:\n",
    "    print(i if i%6==0 else '', end=' ')\n",
    "    i-=1"
   ]
  },
  {
   "cell_type": "code",
   "execution_count": 1,
   "id": "3885815e",
   "metadata": {},
   "outputs": [
    {
     "name": "stdout",
     "output_type": "stream",
     "text": [
      "96\n",
      "90\n",
      "84\n",
      "78\n",
      "72\n",
      "66\n",
      "60\n",
      "54\n",
      "48\n",
      "42\n",
      "36\n",
      "30\n",
      "24\n",
      "18\n",
      "12\n",
      "6\n"
     ]
    }
   ],
   "source": [
    "n=100\n",
    "while n>0:\n",
    "    if n%6==0:\n",
    "        print(n)\n",
    "    n-=1"
   ]
  },
  {
   "cell_type": "code",
   "execution_count": null,
   "id": "f45eb2f6",
   "metadata": {},
   "outputs": [],
   "source": [
    "# write a code that will convert inserted string to encoded form using following:\n",
    "## 1. convert the string to upper case\n",
    "## 2. display orginal string in upper case\n",
    "## 3. ENCODE string using the method of changing each character to next alphabet in sequence\n",
    "\n",
    "## Example: Input--> START\n",
    "        #  Output--> TUBSU"
   ]
  },
  {
   "cell_type": "code",
   "execution_count": 10,
   "id": "46145647",
   "metadata": {},
   "outputs": [
    {
     "name": "stdout",
     "output_type": "stream",
     "text": [
      "zebra\n",
      "ZEBRA\n",
      "AFCSB"
     ]
    }
   ],
   "source": [
    "msg=input().upper()\n",
    "print(msg)\n",
    "ch=0\n",
    "while ch<len(msg):\n",
    "    x=ord(msg[ch])\n",
    "    x+=1\n",
    "    if x>90:\n",
    "        x-=26\n",
    "    print(chr(x), end='')\n",
    "    ch+=1"
   ]
  },
  {
   "cell_type": "code",
   "execution_count": null,
   "id": "da7bad01",
   "metadata": {},
   "outputs": [],
   "source": [
    "# print this pattern:\n",
    "L1 *\n",
    "L2 * *\n",
    "L3 * * *\n",
    "L4 * * * *\n",
    "L5 * * * * *"
   ]
  },
  {
   "cell_type": "code",
   "execution_count": 12,
   "id": "0e7f0c28",
   "metadata": {},
   "outputs": [
    {
     "name": "stdout",
     "output_type": "stream",
     "text": [
      "L1 *\n",
      "L2 * *\n",
      "L3 * * *\n",
      "L4 * * * *\n",
      "L5 * * * * *\n"
     ]
    }
   ],
   "source": [
    "line=1\n",
    "while line<=5:\n",
    "    print('L'+str(line), end='')\n",
    "    i=0\n",
    "    while i<line:\n",
    "        print(' *', end='')\n",
    "        i+=1\n",
    "    line+=1\n",
    "    print()"
   ]
  },
  {
   "cell_type": "code",
   "execution_count": null,
   "id": "044dd517",
   "metadata": {},
   "outputs": [],
   "source": [
    "# print this pattern:\n",
    "L1         *\n",
    "L2       * *\n",
    "L3     * * *\n",
    "L4   * * * *\n",
    "L5 * * * * *"
   ]
  },
  {
   "cell_type": "code",
   "execution_count": 24,
   "id": "dafe4595",
   "metadata": {},
   "outputs": [
    {
     "name": "stdout",
     "output_type": "stream",
     "text": [
      "L1         *\n",
      "L2       * *\n",
      "L3     * * *\n",
      "L4   * * * *\n",
      "L5 * * * * *\n"
     ]
    }
   ],
   "source": [
    "lines=5\n",
    "i=1\n",
    "while i<=lines:\n",
    "    print('L'+str(i), end='')\n",
    "    j=0\n",
    "    while j<(lines-i):\n",
    "        print('  ', end='')\n",
    "        j+=1\n",
    "    k=0\n",
    "    while k<i:\n",
    "        print(' *', end='')\n",
    "        k+=1\n",
    "    i+=1\n",
    "    print()"
   ]
  },
  {
   "cell_type": "code",
   "execution_count": 34,
   "id": "2510517d",
   "metadata": {},
   "outputs": [
    {
     "name": "stdout",
     "output_type": "stream",
     "text": [
      "          ^\n",
      "         ^ ^\n",
      "        ^ ^ ^\n",
      "       ^ ^ ^ ^\n",
      "      ^ ^ ^ ^ ^\n",
      "     ^ ^ ^ ^ ^ ^\n",
      "    ^ ^ ^ ^ ^ ^ ^\n",
      "   ^ ^ ^ ^ ^ ^ ^ ^\n",
      "  ^ ^ ^ ^ ^ ^ ^ ^ ^\n",
      " ^ ^ ^ ^ ^ ^ ^ ^ ^ ^\n"
     ]
    }
   ],
   "source": [
    "# using single while loop\n",
    "lines=10\n",
    "i=1\n",
    "while i<=lines:\n",
    "    #print('L'+str(i), end='')\n",
    "    print(' '*(lines-i), end='')\n",
    "    print(' ^'*i, end='')\n",
    "    i+=1\n",
    "    print()"
   ]
  },
  {
   "cell_type": "markdown",
   "id": "95c894a7",
   "metadata": {},
   "source": [
    "#### While - Else"
   ]
  },
  {
   "cell_type": "code",
   "execution_count": 37,
   "id": "9075530b",
   "metadata": {},
   "outputs": [
    {
     "name": "stdout",
     "output_type": "stream",
     "text": [
      "Inside While\n",
      "Inside While\n",
      "Inside While\n",
      "Inside While\n",
      "Inside Else\n"
     ]
    }
   ],
   "source": [
    "i=1\n",
    "while i<5:\n",
    "    print('Inside While')\n",
    "    i+=1\n",
    "else:\n",
    "    print('Inside Else')"
   ]
  },
  {
   "cell_type": "code",
   "execution_count": null,
   "id": "dbb89613",
   "metadata": {},
   "outputs": [],
   "source": []
  },
  {
   "cell_type": "markdown",
   "id": "4bf8e58e",
   "metadata": {},
   "source": [
    "### FOR LOOP"
   ]
  },
  {
   "cell_type": "code",
   "execution_count": null,
   "id": "e491a220",
   "metadata": {},
   "outputs": [],
   "source": [
    "# for i in range():\n",
    "\n",
    "# 1. for i in range(n): # loop runs from 0 to n-1\n",
    "# 2. for i in range(n,m): # loop runs from n to m-1\n",
    "# 3. for i in range(n,m,k): # loop runs form n to m-1 with k increments/decrements"
   ]
  },
  {
   "cell_type": "code",
   "execution_count": 38,
   "id": "c9cc8fe3",
   "metadata": {},
   "outputs": [
    {
     "data": {
      "text/plain": [
       "range(0, 10)"
      ]
     },
     "execution_count": 38,
     "metadata": {},
     "output_type": "execute_result"
    }
   ],
   "source": [
    "# range()\n",
    "\n",
    "range(10)"
   ]
  },
  {
   "cell_type": "code",
   "execution_count": 40,
   "id": "b8e014be",
   "metadata": {},
   "outputs": [
    {
     "name": "stdout",
     "output_type": "stream",
     "text": [
      "0 1 2 3 4 5 6 7 8 9 "
     ]
    }
   ],
   "source": [
    "for i in range(10):\n",
    "    print(i, end=' ')"
   ]
  },
  {
   "cell_type": "code",
   "execution_count": 41,
   "id": "700f93c6",
   "metadata": {},
   "outputs": [
    {
     "name": "stdout",
     "output_type": "stream",
     "text": [
      "10 11 12 13 14 15 16 17 18 19 20 21 22 23 24 25 26 27 28 29 "
     ]
    }
   ],
   "source": [
    "for i in range(10,30):\n",
    "    print(i, end=' ')"
   ]
  },
  {
   "cell_type": "code",
   "execution_count": 42,
   "id": "b76c6e4f",
   "metadata": {},
   "outputs": [
    {
     "name": "stdout",
     "output_type": "stream",
     "text": [
      "10 12 14 16 18 20 22 24 26 28 "
     ]
    }
   ],
   "source": [
    "for i in range(10,30,2):\n",
    "    print(i,end=' ')"
   ]
  },
  {
   "cell_type": "code",
   "execution_count": 43,
   "id": "a263e831",
   "metadata": {},
   "outputs": [
    {
     "name": "stdout",
     "output_type": "stream",
     "text": [
      "100 95 90 85 80 75 70 65 60 55 50 45 40 35 30 25 20 15 "
     ]
    }
   ],
   "source": [
    "for i in range(100, 10, -5):\n",
    "    print(i, end=' ')"
   ]
  },
  {
   "cell_type": "code",
   "execution_count": 46,
   "id": "435dbd6e",
   "metadata": {},
   "outputs": [
    {
     "name": "stdout",
     "output_type": "stream",
     "text": [
      "h\n",
      "e\n",
      "l\n",
      "l\n",
      "o\n"
     ]
    }
   ],
   "source": [
    "# strings as a sequence\n",
    "\n",
    "for char in 'hello':\n",
    "    print(char)"
   ]
  },
  {
   "cell_type": "code",
   "execution_count": 50,
   "id": "35c6a9f9",
   "metadata": {},
   "outputs": [],
   "source": [
    "# count the number of special characters,\n",
    "# vowels and consonents in a given long string, using for loop"
   ]
  },
  {
   "cell_type": "code",
   "execution_count": 51,
   "id": "d4afea66",
   "metadata": {},
   "outputs": [],
   "source": [
    "message=\"Hello, How are you? This is beautiful evening!\""
   ]
  },
  {
   "cell_type": "code",
   "execution_count": 57,
   "id": "385ad97c",
   "metadata": {},
   "outputs": [
    {
     "name": "stdout",
     "output_type": "stream",
     "text": [
      "H e l l o ,   H o w   a r e   y o u ?   T h i s   i s   b e a u t i f u l   e v e n i n g ! \n",
      "Special Characters= 10\n",
      "Vowels=17\n",
      "Consonents=19\n"
     ]
    }
   ],
   "source": [
    "sc=0\n",
    "v=0\n",
    "c=0\n",
    "for char in message:\n",
    "    print(char, end=' ')\n",
    "    if ord(char) in range(65, 65+26) or ord(char) in range(97, 97+26):\n",
    "        # check vowels and consonents\n",
    "        if char.lower() in ('a','e','i','o','u'):\n",
    "            v+=1\n",
    "        else:\n",
    "            c+=1\n",
    "    else:\n",
    "        # spcl chars\n",
    "        sc+=1\n",
    "print(f'\\nSpecial Characters= {sc}\\nVowels={v}\\nConsonents={c}')"
   ]
  },
  {
   "cell_type": "code",
   "execution_count": 58,
   "id": "cb267dcf",
   "metadata": {},
   "outputs": [],
   "source": [
    "# write a code using for loop to check whether given number is prime number or not"
   ]
  },
  {
   "cell_type": "code",
   "execution_count": 79,
   "id": "1c570b45",
   "metadata": {},
   "outputs": [
    {
     "name": "stdout",
     "output_type": "stream",
     "text": [
      "2\n",
      "PRIME\n"
     ]
    }
   ],
   "source": [
    "num=int(input())\n",
    "i=0\n",
    "for i in range(2, num//2):\n",
    "    if num%i==0:\n",
    "        print('NOT PRIME')\n",
    "        break\n",
    "if i==num//2-1:\n",
    "    print(\"PRIME\")"
   ]
  },
  {
   "cell_type": "code",
   "execution_count": 80,
   "id": "7ae6a2a0",
   "metadata": {},
   "outputs": [],
   "source": [
    "# Hop Issue"
   ]
  },
  {
   "cell_type": "code",
   "execution_count": 98,
   "id": "10d9fa91",
   "metadata": {},
   "outputs": [
    {
     "name": "stdout",
     "output_type": "stream",
     "text": [
      "50\n",
      "1 --> 1\n",
      "2 --> 3\n",
      "3 --> 6\n",
      "4 --> 7\n",
      "5 --> 9\n",
      "6 --> 12\n",
      "7 --> 13\n",
      "8 --> 15\n",
      "9 --> 18\n",
      "10 --> 19\n",
      "11 --> 21\n",
      "12 --> 24\n",
      "13 --> 25\n",
      "14 --> 27\n",
      "15 --> 30\n",
      "16 --> 31\n",
      "17 --> 33\n",
      "18 --> 36\n",
      "19 --> 37\n",
      "20 --> 39\n",
      "21 --> 42\n",
      "22 --> 43\n",
      "23 --> 45\n",
      "24 --> 48\n",
      "25 --> 49\n",
      "26 --> 51\n",
      "27 --> 54\n",
      "28 --> 55\n",
      "29 --> 57\n",
      "30 --> 60\n",
      "31 --> 61\n",
      "32 --> 63\n",
      "33 --> 66\n",
      "34 --> 67\n",
      "35 --> 69\n",
      "36 --> 72\n",
      "37 --> 73\n",
      "38 --> 75\n",
      "39 --> 78\n",
      "40 --> 79\n",
      "41 --> 81\n",
      "42 --> 84\n",
      "43 --> 85\n",
      "44 --> 87\n",
      "45 --> 90\n",
      "46 --> 91\n",
      "47 --> 93\n",
      "48 --> 96\n",
      "49 --> 97\n",
      "50 --> 99\n",
      "CPU times: total: 46.9 ms\n",
      "Wall time: 2.21 s\n"
     ]
    }
   ],
   "source": [
    "%%time\n",
    "N=int(input())\n",
    "hop=1\n",
    "pos=0\n",
    "for i in range(1,N+1):\n",
    "    if hop>3:\n",
    "        hop=1\n",
    "    pos+=hop\n",
    "    hop+=1\n",
    "    print(i, '-->', pos)"
   ]
  },
  {
   "cell_type": "code",
   "execution_count": 97,
   "id": "0ad90926",
   "metadata": {},
   "outputs": [
    {
     "name": "stdout",
     "output_type": "stream",
     "text": [
      "1000000\n",
      "1999999\n",
      "CPU times: total: 0 ns\n",
      "Wall time: 2.68 s\n"
     ]
    }
   ],
   "source": [
    "%%time\n",
    "N=int(input())\n",
    "pos=0\n",
    "if N%3==0:\n",
    "    pos=N*2\n",
    "else:\n",
    "    pos=N*2-1\n",
    "print(pos)"
   ]
  },
  {
   "cell_type": "code",
   "execution_count": 101,
   "id": "5f51418a",
   "metadata": {},
   "outputs": [
    {
     "name": "stdout",
     "output_type": "stream",
     "text": [
      "100\n",
      "NOT REACHABLE\n"
     ]
    }
   ],
   "source": [
    "pos=int(input())\n",
    "if pos%3==0 or pos%6==1:\n",
    "    print('REACHABLE')\n",
    "else:\n",
    "    print('NOT REACHABLE')"
   ]
  },
  {
   "cell_type": "code",
   "execution_count": 103,
   "id": "738b5cec",
   "metadata": {},
   "outputs": [
    {
     "name": "stdout",
     "output_type": "stream",
     "text": [
      "50\n",
      "1 --> 1 REACHABLE\n",
      "2 --> 3 REACHABLE\n",
      "3 --> 6 REACHABLE\n",
      "4 --> 7 REACHABLE\n",
      "5 --> 9 REACHABLE\n",
      "6 --> 12 REACHABLE\n",
      "7 --> 13 REACHABLE\n",
      "8 --> 15 REACHABLE\n",
      "9 --> 18 REACHABLE\n",
      "10 --> 19 REACHABLE\n",
      "11 --> 21 REACHABLE\n",
      "12 --> 24 REACHABLE\n",
      "13 --> 25 REACHABLE\n",
      "14 --> 27 REACHABLE\n",
      "15 --> 30 REACHABLE\n",
      "16 --> 31 REACHABLE\n",
      "17 --> 33 REACHABLE\n",
      "18 --> 36 REACHABLE\n",
      "19 --> 37 REACHABLE\n",
      "20 --> 39 REACHABLE\n",
      "21 --> 42 REACHABLE\n",
      "22 --> 43 REACHABLE\n",
      "23 --> 45 REACHABLE\n",
      "24 --> 48 REACHABLE\n",
      "25 --> 49 REACHABLE\n",
      "26 --> 51 REACHABLE\n",
      "27 --> 54 REACHABLE\n",
      "28 --> 55 REACHABLE\n",
      "29 --> 57 REACHABLE\n",
      "30 --> 60 REACHABLE\n",
      "31 --> 61 REACHABLE\n",
      "32 --> 63 REACHABLE\n",
      "33 --> 66 REACHABLE\n",
      "34 --> 67 REACHABLE\n",
      "35 --> 69 REACHABLE\n",
      "36 --> 72 REACHABLE\n",
      "37 --> 73 REACHABLE\n",
      "38 --> 75 REACHABLE\n",
      "39 --> 78 REACHABLE\n",
      "40 --> 79 REACHABLE\n",
      "41 --> 81 REACHABLE\n",
      "42 --> 84 REACHABLE\n",
      "43 --> 85 REACHABLE\n",
      "44 --> 87 REACHABLE\n",
      "45 --> 90 REACHABLE\n",
      "46 --> 91 REACHABLE\n",
      "47 --> 93 REACHABLE\n",
      "48 --> 96 REACHABLE\n",
      "49 --> 97 REACHABLE\n",
      "50 --> 99 REACHABLE\n"
     ]
    }
   ],
   "source": [
    "N=int(input())\n",
    "hop=1\n",
    "pos=0\n",
    "for i in range(1,N+1):\n",
    "    if hop>3:\n",
    "        hop=1\n",
    "    pos+=hop\n",
    "    hop+=1\n",
    "    print(i, '-->', pos, end=' ')\n",
    "    if pos%3==0 or pos%6==1:\n",
    "        print('REACHABLE')\n",
    "    else:\n",
    "        print('NOT REACHABLE')"
   ]
  },
  {
   "cell_type": "code",
   "execution_count": null,
   "id": "b642e225",
   "metadata": {},
   "outputs": [],
   "source": []
  },
  {
   "cell_type": "code",
   "execution_count": null,
   "id": "1e1ede95",
   "metadata": {},
   "outputs": [],
   "source": []
  },
  {
   "cell_type": "code",
   "execution_count": null,
   "id": "dfb7b952",
   "metadata": {},
   "outputs": [],
   "source": []
  }
 ],
 "metadata": {
  "kernelspec": {
   "display_name": "Python 3 (ipykernel)",
   "language": "python",
   "name": "python3"
  },
  "language_info": {
   "codemirror_mode": {
    "name": "ipython",
    "version": 3
   },
   "file_extension": ".py",
   "mimetype": "text/x-python",
   "name": "python",
   "nbconvert_exporter": "python",
   "pygments_lexer": "ipython3",
   "version": "3.9.12"
  }
 },
 "nbformat": 4,
 "nbformat_minor": 5
}
