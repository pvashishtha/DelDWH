{
 "cells": [
  {
   "cell_type": "code",
   "execution_count": 3,
   "id": "8c11d5a6",
   "metadata": {},
   "outputs": [
    {
     "name": "stdout",
     "output_type": "stream",
     "text": [
      "245\n",
      "Not Qualified\n"
     ]
    }
   ],
   "source": [
    "number=int(input())\n",
    "rev=int(str(number)[::-1])\n",
    "\n",
    "if (number%2==0 and rev%2==0) or (number%2!=0 and rev%2!=0):\n",
    "    print('Perfect ODD/EVEN')\n",
    "else:\n",
    "    print('Not Qualified')"
   ]
  },
  {
   "cell_type": "code",
   "execution_count": 8,
   "id": "729642eb",
   "metadata": {},
   "outputs": [
    {
     "name": "stdout",
     "output_type": "stream",
     "text": [
      "3,2,5,1,7,8\n",
      "[2, 8, 1, 3, 5, 7]\n"
     ]
    }
   ],
   "source": [
    "li=[int(n) for n in input().split(',')]\n",
    "odd=[]\n",
    "even=[]\n",
    "for n in li:\n",
    "    if n%2==0:\n",
    "        even.append(n)\n",
    "    else:\n",
    "        odd.append(n)\n",
    "li=[]\n",
    "li=sorted(even).copy()\n",
    "li.extend(sorted(odd))\n",
    "print(li)"
   ]
  },
  {
   "cell_type": "code",
   "execution_count": 16,
   "id": "e59a19a7",
   "metadata": {},
   "outputs": [
    {
     "name": "stdout",
     "output_type": "stream",
     "text": [
      "{1: [1], 2: [1, 2], 3: [1, 2, 3], 4: [1, 2, 3, 4], 5: [1, 2, 3, 4, 5]}\n"
     ]
    }
   ],
   "source": [
    "li=[1,2,3,4,5]\n",
    "d={}\n",
    "d=d.fromkeys(li,[])\n",
    "for key in d.keys():\n",
    "    d[key]=[n for n in range(1,key+1)]\n",
    "print(d)"
   ]
  },
  {
   "cell_type": "code",
   "execution_count": 17,
   "id": "abd1acd8",
   "metadata": {},
   "outputs": [],
   "source": [
    "def roll_game(player1, player2, seed):\n",
    "    import random\n",
    "    random.seed(seed)\n",
    "    dice=[1,2,3,4,5,6]\n",
    "    score1=0\n",
    "    score2=0\n",
    "    ch=0\n",
    "    counter=0\n",
    "    while score1<100 and score2<100:\n",
    "        counter+=1\n",
    "        ch=random.choice(dice)\n",
    "        score1+=ch\n",
    "        ch=random.choice(dice)\n",
    "        score2+=ch\n",
    "    if score1>=100:\n",
    "        print(player1, score1, counter)\n",
    "    else:\n",
    "        print(player2, score2, counter)"
   ]
  },
  {
   "cell_type": "code",
   "execution_count": 19,
   "id": "05cca940",
   "metadata": {},
   "outputs": [
    {
     "name": "stdout",
     "output_type": "stream",
     "text": [
      "john 100 28\n"
     ]
    }
   ],
   "source": [
    "roll_game('john','bob',42)"
   ]
  },
  {
   "cell_type": "code",
   "execution_count": 20,
   "id": "43322276",
   "metadata": {},
   "outputs": [
    {
     "name": "stdout",
     "output_type": "stream",
     "text": [
      "bob 105 30\n"
     ]
    }
   ],
   "source": [
    "roll_game('john','bob',90)"
   ]
  },
  {
   "cell_type": "code",
   "execution_count": null,
   "id": "09e71b6c",
   "metadata": {},
   "outputs": [],
   "source": []
  }
 ],
 "metadata": {
  "kernelspec": {
   "display_name": "Python 3 (ipykernel)",
   "language": "python",
   "name": "python3"
  },
  "language_info": {
   "codemirror_mode": {
    "name": "ipython",
    "version": 3
   },
   "file_extension": ".py",
   "mimetype": "text/x-python",
   "name": "python",
   "nbconvert_exporter": "python",
   "pygments_lexer": "ipython3",
   "version": "3.9.12"
  }
 },
 "nbformat": 4,
 "nbformat_minor": 5
}
