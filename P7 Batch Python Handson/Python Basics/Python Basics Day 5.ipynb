{
 "cells": [
  {
   "cell_type": "markdown",
   "id": "e8cd5195",
   "metadata": {},
   "source": [
    "## Python Basics Day 5"
   ]
  },
  {
   "cell_type": "markdown",
   "id": "e56c1559",
   "metadata": {},
   "source": [
    "#### Question:\n",
    "    Write python code to find the word from paragraph stored in a text file that has second highest frequncy of occurence in a paragraph"
   ]
  },
  {
   "cell_type": "code",
   "execution_count": null,
   "id": "a0355987",
   "metadata": {},
   "outputs": [],
   "source": [
    "with open('story.txt','r') as file:\n",
    "    text=file.read()\n",
    "    words=text.split()\n",
    "    words_set=set(words)\n",
    "    word_list=[]\n",
    "    freq=[]\n",
    "    for word in words_set:\n",
    "        word_list.append(word)\n",
    "        freq.append(words.count(word))\n",
    "        #print(f'{word} => {words.count(word)}')\n",
    "    mx=sorted(freq)[-2]\n",
    "    print(word_list[freq.index(mx)])"
   ]
  },
  {
   "cell_type": "markdown",
   "id": "c3603c81",
   "metadata": {},
   "source": [
    "#### Question:\n",
    "    For a given list of integers, find the maximum difference between the largest number and any \n",
    "    other lower indexed number"
   ]
  },
  {
   "cell_type": "code",
   "execution_count": 5,
   "id": "95ca4f72",
   "metadata": {},
   "outputs": [
    {
     "name": "stdout",
     "output_type": "stream",
     "text": [
      "(5) - (-10) = 15\n",
      "(5) - (-4) = 9\n",
      "(5) - (1) = 4\n",
      "(5) - (3) = 2\n",
      "(5) - (2) = 3\n",
      "max diff:  15\n"
     ]
    }
   ],
   "source": [
    "li=[-10, -4, 1,3,2,5,1]\n",
    "mx=max(li)\n",
    "idx=li.index(mx)\n",
    "diff=[]\n",
    "for i in range(idx):\n",
    "    diff.append(mx-li[i])\n",
    "    print(f'({mx}) - ({li[i]}) = {mx-li[i]}')\n",
    "print('max diff: ',max(diff))"
   ]
  },
  {
   "cell_type": "markdown",
   "id": "bbcef315",
   "metadata": {},
   "source": [
    "#### Question:\n",
    "    Find sum of absolute values of all elements provided as input from user as comma separated numbers\n",
    "    \n",
    "    Example:\n",
    "    Input=> 2, 3, -8, 5, 4, -1, -4, 7\n",
    "    Output=> 34\n",
    "    \n",
    "    Hint: Use abs() function to get absolute value"
   ]
  },
  {
   "cell_type": "code",
   "execution_count": 10,
   "id": "ed239b77",
   "metadata": {},
   "outputs": [
    {
     "name": "stdout",
     "output_type": "stream",
     "text": [
      "3,-2,4,5,-8,1\n",
      "23\n"
     ]
    }
   ],
   "source": [
    "vals=[ int(n) for n in input().split(',')]\n",
    "s=0\n",
    "for x in vals:\n",
    "    s+=abs(x)\n",
    "print(s)"
   ]
  },
  {
   "cell_type": "markdown",
   "id": "0c07033a",
   "metadata": {},
   "source": [
    "### Anonymous Function: Lambda"
   ]
  },
  {
   "cell_type": "code",
   "execution_count": 12,
   "id": "ebb49526",
   "metadata": {},
   "outputs": [],
   "source": [
    "# Lambda\n",
    "\n",
    "# lambda <args> : <expr>\n",
    "\n",
    "y=lambda x,y : x+y"
   ]
  },
  {
   "cell_type": "code",
   "execution_count": 13,
   "id": "4efb0dba",
   "metadata": {},
   "outputs": [
    {
     "data": {
      "text/plain": [
       "5"
      ]
     },
     "execution_count": 13,
     "metadata": {},
     "output_type": "execute_result"
    }
   ],
   "source": [
    "y(3,2)"
   ]
  },
  {
   "cell_type": "code",
   "execution_count": 14,
   "id": "d417913f",
   "metadata": {},
   "outputs": [],
   "source": [
    "def calc_power(n):\n",
    "    return lambda x: x**n"
   ]
  },
  {
   "cell_type": "code",
   "execution_count": 15,
   "id": "58ea6fa1",
   "metadata": {},
   "outputs": [],
   "source": [
    "p2=calc_power(2) # lambda x: x**2\n",
    "p3=calc_power(3) # lambda x: x**3\n",
    "p4=calc_power(4) # lambda x: x**4"
   ]
  },
  {
   "cell_type": "code",
   "execution_count": 16,
   "id": "75ffbb2b",
   "metadata": {},
   "outputs": [
    {
     "data": {
      "text/plain": [
       "16"
      ]
     },
     "execution_count": 16,
     "metadata": {},
     "output_type": "execute_result"
    }
   ],
   "source": [
    "p2(4)"
   ]
  },
  {
   "cell_type": "code",
   "execution_count": 17,
   "id": "ac535642",
   "metadata": {},
   "outputs": [
    {
     "data": {
      "text/plain": [
       "64"
      ]
     },
     "execution_count": 17,
     "metadata": {},
     "output_type": "execute_result"
    }
   ],
   "source": [
    "p3(4)"
   ]
  },
  {
   "cell_type": "code",
   "execution_count": 18,
   "id": "7b79b594",
   "metadata": {},
   "outputs": [
    {
     "data": {
      "text/plain": [
       "256"
      ]
     },
     "execution_count": 18,
     "metadata": {},
     "output_type": "execute_result"
    }
   ],
   "source": [
    "p4(4)"
   ]
  },
  {
   "cell_type": "markdown",
   "id": "4b73bb3b",
   "metadata": {},
   "source": [
    "## map()"
   ]
  },
  {
   "cell_type": "code",
   "execution_count": 20,
   "id": "ae81cbbf",
   "metadata": {},
   "outputs": [
    {
     "name": "stdout",
     "output_type": "stream",
     "text": [
      "[4, 9, 16, 25]\n"
     ]
    }
   ],
   "source": [
    "def sqr(x):\n",
    "    return x**2\n",
    "\n",
    "li=[2,3,4,5]\n",
    "\n",
    "print(list(map(sqr, li)))"
   ]
  },
  {
   "cell_type": "code",
   "execution_count": 21,
   "id": "6c8e60c0",
   "metadata": {},
   "outputs": [
    {
     "name": "stdout",
     "output_type": "stream",
     "text": [
      "[4, 9, 16, 25]\n"
     ]
    }
   ],
   "source": [
    "print(list(map( lambda x:x**2 ,li)))"
   ]
  },
  {
   "cell_type": "markdown",
   "id": "4341b6ba",
   "metadata": {},
   "source": [
    "## filter()"
   ]
  },
  {
   "cell_type": "code",
   "execution_count": 23,
   "id": "323e4125",
   "metadata": {},
   "outputs": [
    {
     "name": "stdout",
     "output_type": "stream",
     "text": [
      "[7, 14, 21, 28, 35, 42, 49, 56, 63, 70, 77, 84, 91, 98]\n"
     ]
    }
   ],
   "source": [
    "li=[n for n in range(1,101)]\n",
    "\n",
    "print(list(filter(lambda x: x%7==0, li)))"
   ]
  },
  {
   "cell_type": "markdown",
   "id": "739c2ced",
   "metadata": {},
   "source": [
    "## reduce()"
   ]
  },
  {
   "cell_type": "code",
   "execution_count": 24,
   "id": "9571d336",
   "metadata": {},
   "outputs": [
    {
     "data": {
      "text/plain": [
       "210"
      ]
     },
     "execution_count": 24,
     "metadata": {},
     "output_type": "execute_result"
    }
   ],
   "source": [
    "from functools import reduce\n",
    "\n",
    "li=[n for n in range(1,21)]\n",
    "\n",
    "sum_list=reduce(lambda x,y: x+y, li)\n",
    "sum_list"
   ]
  },
  {
   "cell_type": "code",
   "execution_count": 27,
   "id": "b115f3b0",
   "metadata": {},
   "outputs": [
    {
     "data": {
      "text/plain": [
       "1172"
      ]
     },
     "execution_count": 27,
     "metadata": {},
     "output_type": "execute_result"
    }
   ],
   "source": [
    "li=[n for n in range(1,5)]\n",
    "sum_of_sqr=reduce(lambda x,y: x**2+y**2, li)\n",
    "sum_of_sqr"
   ]
  },
  {
   "cell_type": "markdown",
   "id": "f4b973bb",
   "metadata": {},
   "source": [
    "## any() and all()"
   ]
  },
  {
   "cell_type": "code",
   "execution_count": 28,
   "id": "ca2b0838",
   "metadata": {},
   "outputs": [
    {
     "data": {
      "text/plain": [
       "True"
      ]
     },
     "execution_count": 28,
     "metadata": {},
     "output_type": "execute_result"
    }
   ],
   "source": [
    "li=[False, False, True, False, False]\n",
    "\n",
    "any(li)"
   ]
  },
  {
   "cell_type": "code",
   "execution_count": 29,
   "id": "566eb815",
   "metadata": {},
   "outputs": [
    {
     "data": {
      "text/plain": [
       "True"
      ]
     },
     "execution_count": 29,
     "metadata": {},
     "output_type": "execute_result"
    }
   ],
   "source": [
    "li=[3<2, 3>2, 3<1]\n",
    "any(li)"
   ]
  },
  {
   "cell_type": "code",
   "execution_count": 32,
   "id": "19a3a9c1",
   "metadata": {},
   "outputs": [
    {
     "data": {
      "text/plain": [
       "True"
      ]
     },
     "execution_count": 32,
     "metadata": {},
     "output_type": "execute_result"
    }
   ],
   "source": [
    "li=[False, False, False, 1]\n",
    "any(li)"
   ]
  },
  {
   "cell_type": "code",
   "execution_count": 33,
   "id": "6185142d",
   "metadata": {},
   "outputs": [
    {
     "data": {
      "text/plain": [
       "False"
      ]
     },
     "execution_count": 33,
     "metadata": {},
     "output_type": "execute_result"
    }
   ],
   "source": [
    "li=[]\n",
    "any(li)"
   ]
  },
  {
   "cell_type": "code",
   "execution_count": 34,
   "id": "b713b0ec",
   "metadata": {},
   "outputs": [
    {
     "data": {
      "text/plain": [
       "False"
      ]
     },
     "execution_count": 34,
     "metadata": {},
     "output_type": "execute_result"
    }
   ],
   "source": [
    "# all()\n",
    "li=[True, True, True, True, 0]\n",
    "all(li)"
   ]
  },
  {
   "cell_type": "code",
   "execution_count": 35,
   "id": "60223b64",
   "metadata": {},
   "outputs": [
    {
     "data": {
      "text/plain": [
       "True"
      ]
     },
     "execution_count": 35,
     "metadata": {},
     "output_type": "execute_result"
    }
   ],
   "source": [
    "# all()\n",
    "li=[True, True, True, True, 1]\n",
    "all(li)"
   ]
  },
  {
   "cell_type": "code",
   "execution_count": 36,
   "id": "b8cd8b29",
   "metadata": {},
   "outputs": [
    {
     "data": {
      "text/plain": [
       "False"
      ]
     },
     "execution_count": 36,
     "metadata": {},
     "output_type": "execute_result"
    }
   ],
   "source": [
    "# all()\n",
    "li=[True, True, False, True, 1]\n",
    "all(li)"
   ]
  },
  {
   "cell_type": "code",
   "execution_count": 38,
   "id": "c8655f6d",
   "metadata": {},
   "outputs": [
    {
     "data": {
      "text/plain": [
       "True"
      ]
     },
     "execution_count": 38,
     "metadata": {},
     "output_type": "execute_result"
    }
   ],
   "source": [
    "li=[]\n",
    "all(li)"
   ]
  },
  {
   "cell_type": "markdown",
   "id": "474b3e69",
   "metadata": {},
   "source": [
    "### Question:\n",
    "\n",
    "    Write a program that prints numbers from 1 to 100 eliminating the multiples of 3 and 7\n",
    "    \n",
    "    Note: do not use any inbuilt function"
   ]
  },
  {
   "cell_type": "code",
   "execution_count": 40,
   "id": "9f988189",
   "metadata": {},
   "outputs": [
    {
     "name": "stdout",
     "output_type": "stream",
     "text": [
      "1, 2, 4, 5, 8, 10, 11, 13, 16, 17, 19, 20, 22, 23, 25, 26, 29, 31, 32, 34, 37, 38, 40, 41, 43, 44, 46, 47, 50, 52, 53, 55, 58, 59, 61, 62, 64, 65, 67, 68, 71, 73, 74, 76, 79, 80, 82, 83, 85, 86, 88, 89, 92, 94, 95, 97, 100, "
     ]
    }
   ],
   "source": [
    "for i in range(1,101):\n",
    "    if i%3==0 or i%7==0:\n",
    "        continue\n",
    "    print(i, end=', ')"
   ]
  },
  {
   "cell_type": "markdown",
   "id": "fe63f985",
   "metadata": {},
   "source": [
    "### eval()"
   ]
  },
  {
   "cell_type": "code",
   "execution_count": 42,
   "id": "0437ed6e",
   "metadata": {},
   "outputs": [
    {
     "name": "stdout",
     "output_type": "stream",
     "text": [
      "3+(4**2)*9+1\n",
      "148\n"
     ]
    }
   ],
   "source": [
    "exp=eval(input())\n",
    "print(exp)"
   ]
  },
  {
   "cell_type": "markdown",
   "id": "e9ad409c",
   "metadata": {},
   "source": [
    "### exec()"
   ]
  },
  {
   "cell_type": "code",
   "execution_count": 47,
   "id": "c32000dd",
   "metadata": {},
   "outputs": [
    {
     "name": "stdout",
     "output_type": "stream",
     "text": [
      "Hi\n"
     ]
    }
   ],
   "source": [
    "exec('print(\"Hi\")')"
   ]
  },
  {
   "cell_type": "markdown",
   "id": "5422139b",
   "metadata": {},
   "source": [
    "### compile()"
   ]
  },
  {
   "cell_type": "code",
   "execution_count": 53,
   "id": "1349e705",
   "metadata": {},
   "outputs": [],
   "source": [
    "inp=\"x=int(input())\\nprint('Your input: ',x)\"\n",
    "# compile(input, file, mode=[exec | eval])\n",
    "code=compile(inp, 'mycodefile', 'exec')"
   ]
  },
  {
   "cell_type": "code",
   "execution_count": 54,
   "id": "bbe98ed8",
   "metadata": {},
   "outputs": [
    {
     "name": "stdout",
     "output_type": "stream",
     "text": [
      "56\n",
      "Your input:  56\n"
     ]
    }
   ],
   "source": [
    "exec(code)"
   ]
  },
  {
   "cell_type": "code",
   "execution_count": 55,
   "id": "41a1f362",
   "metadata": {},
   "outputs": [],
   "source": [
    "inp='''\n",
    "x=int(input())\n",
    "y=int(input())\n",
    "print(\"Sum: \", x+y)'''\n",
    "# compile(input, file, mode=[exec | eval])\n",
    "code=compile(inp, 'mycodefile', 'exec')"
   ]
  },
  {
   "cell_type": "code",
   "execution_count": 56,
   "id": "827250fd",
   "metadata": {},
   "outputs": [
    {
     "name": "stdout",
     "output_type": "stream",
     "text": [
      "34\n",
      "45\n",
      "Sum:  79\n"
     ]
    }
   ],
   "source": [
    "exec(code)"
   ]
  },
  {
   "cell_type": "code",
   "execution_count": 60,
   "id": "38113b87",
   "metadata": {},
   "outputs": [
    {
     "name": "stdout",
     "output_type": "stream",
     "text": [
      "Magic Number:  2442\n",
      "Magic Number:  4884\n",
      "Magic Number:  7326\n",
      "Magic Number:  9768\n",
      "END!\n"
     ]
    }
   ],
   "source": [
    "# compile()\n",
    "\n",
    "file=open('mycode.txt','r')\n",
    "text=file.read()\n",
    "code=compile(text, 'mycode', 'exec')\n",
    "exec(code)"
   ]
  },
  {
   "cell_type": "markdown",
   "id": "6cd14cd4",
   "metadata": {},
   "source": [
    "### hash()"
   ]
  },
  {
   "cell_type": "code",
   "execution_count": 64,
   "id": "e232430a",
   "metadata": {},
   "outputs": [],
   "source": [
    "i_number=34\n",
    "f_number=34.6798\n",
    "s_str='prateek vashishtha'"
   ]
  },
  {
   "cell_type": "code",
   "execution_count": 65,
   "id": "c1ebfb2b",
   "metadata": {},
   "outputs": [
    {
     "name": "stdout",
     "output_type": "stream",
     "text": [
      "Integer hash:  34\n",
      "Float hash:  1567512077663469602\n",
      "String hash:  235176231857412186\n"
     ]
    }
   ],
   "source": [
    "print('Integer hash: ', hash(i_number))\n",
    "print('Float hash: ', hash(f_number))\n",
    "print('String hash: ', hash(s_str))"
   ]
  },
  {
   "cell_type": "markdown",
   "id": "a4e5daae",
   "metadata": {},
   "source": [
    "### Cryptography"
   ]
  },
  {
   "cell_type": "code",
   "execution_count": 66,
   "id": "c47298f5",
   "metadata": {},
   "outputs": [
    {
     "name": "stdout",
     "output_type": "stream",
     "text": [
      "b'gAAAAABjt8X1UNykzb9hC0AhUIQNngq_R7JRg4wNMrAFsOXixhA46Ufe8q7OxFq9AyEvqAk4wF6wKSp3cwFuVGynWyPENn4Qtmf-TD5jIhCIXAI_8X7BnfY='\n"
     ]
    }
   ],
   "source": [
    "from cryptography.fernet import Fernet\n",
    "text=b'Happy Birthday Paradox'\n",
    "\n",
    "key=Fernet.generate_key()\n",
    "cipher=Fernet(key)\n",
    "encoded_text=cipher.encrypt(text)\n",
    "print(encoded_text)"
   ]
  },
  {
   "cell_type": "code",
   "execution_count": 67,
   "id": "24c16377",
   "metadata": {},
   "outputs": [
    {
     "name": "stdout",
     "output_type": "stream",
     "text": [
      "b'Happy Birthday Paradox'\n"
     ]
    }
   ],
   "source": [
    "plain_text=cipher.decrypt(encoded_text)\n",
    "print(plain_text)"
   ]
  },
  {
   "cell_type": "code",
   "execution_count": null,
   "id": "e595700a",
   "metadata": {},
   "outputs": [],
   "source": []
  },
  {
   "cell_type": "code",
   "execution_count": null,
   "id": "68dc06c6",
   "metadata": {},
   "outputs": [],
   "source": []
  },
  {
   "cell_type": "code",
   "execution_count": null,
   "id": "ad2237bf",
   "metadata": {},
   "outputs": [],
   "source": []
  }
 ],
 "metadata": {
  "kernelspec": {
   "display_name": "Python 3 (ipykernel)",
   "language": "python",
   "name": "python3"
  },
  "language_info": {
   "codemirror_mode": {
    "name": "ipython",
    "version": 3
   },
   "file_extension": ".py",
   "mimetype": "text/x-python",
   "name": "python",
   "nbconvert_exporter": "python",
   "pygments_lexer": "ipython3",
   "version": "3.9.12"
  }
 },
 "nbformat": 4,
 "nbformat_minor": 5
}
