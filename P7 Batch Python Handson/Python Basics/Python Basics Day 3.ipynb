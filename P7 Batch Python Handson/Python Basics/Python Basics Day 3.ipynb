{
 "cells": [
  {
   "cell_type": "markdown",
   "id": "18a901f4",
   "metadata": {},
   "source": [
    "## Python Basics Day 3"
   ]
  },
  {
   "cell_type": "code",
   "execution_count": 1,
   "id": "6413e7f1",
   "metadata": {},
   "outputs": [],
   "source": [
    "# write a python code to display all numbers between 500 and 1000 that are\n",
    "## divisible by 7 and are also multiple of 5."
   ]
  },
  {
   "cell_type": "code",
   "execution_count": 2,
   "id": "882ff0e4",
   "metadata": {},
   "outputs": [
    {
     "name": "stdout",
     "output_type": "stream",
     "text": [
      "525\n",
      "560\n",
      "595\n",
      "630\n",
      "665\n",
      "700\n",
      "735\n",
      "770\n",
      "805\n",
      "840\n",
      "875\n",
      "910\n",
      "945\n",
      "980\n"
     ]
    }
   ],
   "source": [
    "for i in range(500,1000):\n",
    "    if i%5==0 and i%7==0:\n",
    "        print(i)"
   ]
  },
  {
   "cell_type": "code",
   "execution_count": 3,
   "id": "10b394ec",
   "metadata": {},
   "outputs": [],
   "source": [
    "# write a code that prints the input integer number in reverse order of its digits\n",
    "## Example: input--> 4567, output--> 7654"
   ]
  },
  {
   "cell_type": "code",
   "execution_count": 4,
   "id": "0a901596",
   "metadata": {},
   "outputs": [
    {
     "name": "stdout",
     "output_type": "stream",
     "text": [
      "1234\n",
      "4321"
     ]
    }
   ],
   "source": [
    "# preffered method\n",
    "num=int(input())\n",
    "while num!=0:\n",
    "    a=num%10\n",
    "    print(a,end='')\n",
    "    num=num//10"
   ]
  },
  {
   "cell_type": "code",
   "execution_count": 5,
   "id": "be24acaf",
   "metadata": {},
   "outputs": [
    {
     "name": "stdout",
     "output_type": "stream",
     "text": [
      "1234\n",
      "4321\n"
     ]
    }
   ],
   "source": [
    "# indirect method\n",
    "num=int(input())\n",
    "num=str(num)[::-1]\n",
    "num=int(num)\n",
    "print(num)"
   ]
  },
  {
   "cell_type": "code",
   "execution_count": null,
   "id": "3a151d82",
   "metadata": {},
   "outputs": [],
   "source": [
    "# accept an integer number for user and find the sum of its digits\n",
    "\n",
    "# accept an integer number for user and find the sum of its digits down to single digit (1-9)"
   ]
  },
  {
   "cell_type": "code",
   "execution_count": 6,
   "id": "81ff7bbf",
   "metadata": {},
   "outputs": [
    {
     "name": "stdout",
     "output_type": "stream",
     "text": [
      "456\n",
      "15\n"
     ]
    }
   ],
   "source": [
    "n=int(input())\n",
    "sum=0\n",
    "while n!=0:\n",
    "    digit=n%10\n",
    "    sum+=digit\n",
    "    n=n//10\n",
    "print(sum)"
   ]
  },
  {
   "cell_type": "code",
   "execution_count": 9,
   "id": "e227e99a",
   "metadata": {},
   "outputs": [
    {
     "name": "stdout",
     "output_type": "stream",
     "text": [
      "18119185\n",
      "7\n"
     ]
    }
   ],
   "source": [
    "# Lucky Number Calculation - Numerology\n",
    "n=int(input())\n",
    "sum=10\n",
    "while sum>9:\n",
    "    sum=0\n",
    "    while n!=0:\n",
    "        digit=n%10\n",
    "        sum+=digit\n",
    "        n=n//10\n",
    "    n=sum\n",
    "print(sum)"
   ]
  },
  {
   "cell_type": "code",
   "execution_count": 11,
   "id": "c3189a78",
   "metadata": {},
   "outputs": [],
   "source": [
    "# write code that checks whether given 3 digit integer number is Amstrong Number or not.\n",
    "## 1. if number is not 3 digit, print \"INVALID NUMBER\"\n",
    "## 2. if sum-of-cube-of-digits of number is same as number itself, print \"AMSTRONG\"\n",
    "## 3. Else print NOT AMSTRONG\n",
    "\n",
    "### Example: 371 is AMSTRONG. 3^3 + 7^3 +1^3 = 371\n"
   ]
  },
  {
   "cell_type": "code",
   "execution_count": 16,
   "id": "12e6955a",
   "metadata": {},
   "outputs": [
    {
     "name": "stdout",
     "output_type": "stream",
     "text": [
      "78\n",
      "INVALID NUMBER\n"
     ]
    }
   ],
   "source": [
    "num=int(input())\n",
    "n=num\n",
    "sum=0\n",
    "if n<100 or n>999:\n",
    "    print('INVALID NUMBER')\n",
    "else:\n",
    "    while n!=0:\n",
    "        digit=n%10\n",
    "        sum+=digit**3\n",
    "        n=n//10\n",
    "    if sum==num:\n",
    "        print(\"AMSTRONG\")\n",
    "    else:\n",
    "        print(\"NOT AMSTRONG\")"
   ]
  },
  {
   "cell_type": "code",
   "execution_count": 14,
   "id": "7fbd42b8",
   "metadata": {},
   "outputs": [],
   "source": [
    "# find all AMSTRONG numbers between 100 and 999"
   ]
  },
  {
   "cell_type": "code",
   "execution_count": 6,
   "id": "5884b377",
   "metadata": {},
   "outputs": [
    {
     "name": "stdout",
     "output_type": "stream",
     "text": [
      "153\n",
      "370\n",
      "371\n",
      "407\n"
     ]
    }
   ],
   "source": [
    "for num in range(100,1000):\n",
    "    n=num\n",
    "    sum=0\n",
    "    while n!=0:\n",
    "        digit=n%10\n",
    "        sum+=digit**3\n",
    "        n=n//10\n",
    "    if sum==num:\n",
    "        print(num)"
   ]
  },
  {
   "cell_type": "markdown",
   "id": "62007a23",
   "metadata": {},
   "source": [
    "## Python Functions"
   ]
  },
  {
   "cell_type": "code",
   "execution_count": 2,
   "id": "bb2fcb83",
   "metadata": {},
   "outputs": [],
   "source": [
    "def greeting():\n",
    "    print('Welcome, Good Morning!')"
   ]
  },
  {
   "cell_type": "code",
   "execution_count": 3,
   "id": "a3705030",
   "metadata": {},
   "outputs": [
    {
     "name": "stdout",
     "output_type": "stream",
     "text": [
      "Welcome, Good Morning!\n"
     ]
    }
   ],
   "source": [
    "greeting()"
   ]
  },
  {
   "cell_type": "code",
   "execution_count": 4,
   "id": "0f29086d",
   "metadata": {},
   "outputs": [],
   "source": [
    "def greeting(person):\n",
    "    print(f'Welcome {person}, Good Morning!')"
   ]
  },
  {
   "cell_type": "code",
   "execution_count": 7,
   "id": "232f3356",
   "metadata": {},
   "outputs": [
    {
     "name": "stdout",
     "output_type": "stream",
     "text": [
      "Welcome Prateek, Good Morning!\n"
     ]
    }
   ],
   "source": [
    "greeting('Prateek')"
   ]
  },
  {
   "cell_type": "code",
   "execution_count": 8,
   "id": "e636faad",
   "metadata": {},
   "outputs": [],
   "source": [
    "def find_square(number):\n",
    "    sqr=number**2\n",
    "    return sqr"
   ]
  },
  {
   "cell_type": "code",
   "execution_count": 9,
   "id": "9d946a82",
   "metadata": {},
   "outputs": [
    {
     "name": "stdout",
     "output_type": "stream",
     "text": [
      "1156\n"
     ]
    }
   ],
   "source": [
    "sq=find_square(34)\n",
    "print(sq)"
   ]
  },
  {
   "cell_type": "code",
   "execution_count": 11,
   "id": "ec3bed80",
   "metadata": {},
   "outputs": [
    {
     "name": "stdout",
     "output_type": "stream",
     "text": [
      "2025\n"
     ]
    }
   ],
   "source": [
    "def find_square(number):\n",
    "    return number**2\n",
    "\n",
    "print(find_square(45))"
   ]
  },
  {
   "cell_type": "code",
   "execution_count": 13,
   "id": "f1f24ca3",
   "metadata": {},
   "outputs": [
    {
     "name": "stdout",
     "output_type": "stream",
     "text": [
      "34.9 3.14 Prateek 78\n"
     ]
    }
   ],
   "source": [
    "def myfun(a,b,s,x):\n",
    "    print(a,b,s,x)\n",
    "    \n",
    "myfun(34.90, 3.14, 'Prateek', 78)"
   ]
  },
  {
   "cell_type": "code",
   "execution_count": 19,
   "id": "ef44b5a7",
   "metadata": {},
   "outputs": [
    {
     "name": "stdout",
     "output_type": "stream",
     "text": [
      "Harry Potter loves Pizza\n"
     ]
    }
   ],
   "source": [
    "def disp(person, food='Pasta'): # default args must always follow non-default args\n",
    "    print(f'{person} loves {food}')\n",
    "    return None\n",
    "\n",
    "disp('Harry Potter', 'Pizza')"
   ]
  },
  {
   "cell_type": "code",
   "execution_count": 24,
   "id": "ae2c800d",
   "metadata": {},
   "outputs": [
    {
     "name": "stdout",
     "output_type": "stream",
     "text": [
      "Harry Potter Hates Pasta\n"
     ]
    }
   ],
   "source": [
    "def disp(person, food='Pasta', feeling='Loves'): # default args must always follow non-default args\n",
    "    print(f'{person} {feeling} {food}')\n",
    "    return None\n",
    "\n",
    "disp(feeling='Hates', person='Harry Potter')"
   ]
  },
  {
   "cell_type": "code",
   "execution_count": 25,
   "id": "5fa96617",
   "metadata": {},
   "outputs": [],
   "source": [
    "# RECURSION\n",
    "# programming construct where function calls itself"
   ]
  },
  {
   "cell_type": "code",
   "execution_count": 30,
   "id": "727a62c6",
   "metadata": {},
   "outputs": [],
   "source": [
    "def show_even(n):\n",
    "    if n<1 or n>20:\n",
    "        return None\n",
    "    else:\n",
    "        if n%2==0:\n",
    "            print('Even Number: ',n)\n",
    "        show_even(n+1)\n",
    "    return None"
   ]
  },
  {
   "cell_type": "code",
   "execution_count": 31,
   "id": "ad3ddfae",
   "metadata": {},
   "outputs": [
    {
     "name": "stdout",
     "output_type": "stream",
     "text": [
      "Even Number:  4\n",
      "Even Number:  6\n",
      "Even Number:  8\n",
      "Even Number:  10\n",
      "Even Number:  12\n",
      "Even Number:  14\n",
      "Even Number:  16\n",
      "Even Number:  18\n",
      "Even Number:  20\n"
     ]
    }
   ],
   "source": [
    "show_even(3)"
   ]
  },
  {
   "cell_type": "code",
   "execution_count": 32,
   "id": "58e529fe",
   "metadata": {},
   "outputs": [],
   "source": [
    "# factorial by recursion\n",
    "\n",
    "def find_factorial(number):\n",
    "    if number<2:\n",
    "        return 1\n",
    "    else:\n",
    "        return number*find_factorial(number-1)"
   ]
  },
  {
   "cell_type": "code",
   "execution_count": 33,
   "id": "6ef991e2",
   "metadata": {},
   "outputs": [
    {
     "data": {
      "text/plain": [
       "720"
      ]
     },
     "execution_count": 33,
     "metadata": {},
     "output_type": "execute_result"
    }
   ],
   "source": [
    "find_factorial(6)"
   ]
  },
  {
   "cell_type": "code",
   "execution_count": 38,
   "id": "29578725",
   "metadata": {},
   "outputs": [],
   "source": [
    "# lucky number by recursion\n",
    "def lucky(number):\n",
    "    if number<10:\n",
    "        return number\n",
    "    else:\n",
    "        sum=0\n",
    "        while number!=0:\n",
    "            sum+=number%10\n",
    "            number=number//10\n",
    "        if sum>9:\n",
    "            return lucky(sum)\n",
    "        else:\n",
    "            return sum"
   ]
  },
  {
   "cell_type": "code",
   "execution_count": 42,
   "id": "296b4123",
   "metadata": {},
   "outputs": [
    {
     "data": {
      "text/plain": [
       "6"
      ]
     },
     "execution_count": 42,
     "metadata": {},
     "output_type": "execute_result"
    }
   ],
   "source": [
    "lucky(8907)"
   ]
  },
  {
   "cell_type": "code",
   "execution_count": 1,
   "id": "c77806ea",
   "metadata": {},
   "outputs": [
    {
     "name": "stdout",
     "output_type": "stream",
     "text": [
      "<class 'range'>\n"
     ]
    }
   ],
   "source": [
    "range(10)\n",
    "print(range)"
   ]
  },
  {
   "cell_type": "code",
   "execution_count": 2,
   "id": "00273430",
   "metadata": {},
   "outputs": [],
   "source": [
    "range='myfun'"
   ]
  },
  {
   "cell_type": "code",
   "execution_count": 3,
   "id": "803bb57a",
   "metadata": {},
   "outputs": [
    {
     "name": "stdout",
     "output_type": "stream",
     "text": [
      "myfun\n"
     ]
    }
   ],
   "source": [
    "print(range)"
   ]
  },
  {
   "cell_type": "code",
   "execution_count": 4,
   "id": "f8a03088",
   "metadata": {},
   "outputs": [
    {
     "ename": "TypeError",
     "evalue": "'str' object is not callable",
     "output_type": "error",
     "traceback": [
      "\u001b[1;31m---------------------------------------------------------------------------\u001b[0m",
      "\u001b[1;31mTypeError\u001b[0m                                 Traceback (most recent call last)",
      "Input \u001b[1;32mIn [4]\u001b[0m, in \u001b[0;36m<cell line: 1>\u001b[1;34m()\u001b[0m\n\u001b[1;32m----> 1\u001b[0m \u001b[38;5;28;01mfor\u001b[39;00m i \u001b[38;5;129;01min\u001b[39;00m \u001b[38;5;28;43mrange\u001b[39;49m\u001b[43m(\u001b[49m\u001b[38;5;241;43m10\u001b[39;49m\u001b[43m)\u001b[49m:\n\u001b[0;32m      2\u001b[0m     \u001b[38;5;28mprint\u001b[39m(i)\n",
      "\u001b[1;31mTypeError\u001b[0m: 'str' object is not callable"
     ]
    }
   ],
   "source": [
    "for i in range(10):\n",
    "    print(i)"
   ]
  },
  {
   "cell_type": "code",
   "execution_count": 7,
   "id": "ee6cc211",
   "metadata": {},
   "outputs": [],
   "source": [
    "def calc_sum(a,b):\n",
    "    '''This is function to find sum of 2 numbers(integers/float)\n",
    "    example: calc_sum(2,3) will return value 5'''\n",
    "    return a+b"
   ]
  },
  {
   "cell_type": "code",
   "execution_count": 8,
   "id": "fc1e58b5",
   "metadata": {},
   "outputs": [
    {
     "data": {
      "text/plain": [
       "112"
      ]
     },
     "execution_count": 8,
     "metadata": {},
     "output_type": "execute_result"
    }
   ],
   "source": [
    "calc_sum(23,89)"
   ]
  },
  {
   "cell_type": "code",
   "execution_count": 9,
   "id": "99ad75f1",
   "metadata": {},
   "outputs": [
    {
     "name": "stdout",
     "output_type": "stream",
     "text": [
      "This is function to find sum of 2 numbers(integers/float)\n",
      "    example: calc_sum(2,3) will return value 5\n"
     ]
    }
   ],
   "source": [
    "print(calc_sum.__doc__)"
   ]
  },
  {
   "cell_type": "code",
   "execution_count": 10,
   "id": "90c57995",
   "metadata": {},
   "outputs": [
    {
     "name": "stdout",
     "output_type": "stream",
     "text": [
      "max(iterable, *[, default=obj, key=func]) -> value\n",
      "max(arg1, arg2, *args, *[, key=func]) -> value\n",
      "\n",
      "With a single iterable argument, return its biggest item. The\n",
      "default keyword-only argument specifies an object to return if\n",
      "the provided iterable is empty.\n",
      "With two or more arguments, return the largest argument.\n"
     ]
    }
   ],
   "source": [
    "print(max.__doc__)"
   ]
  },
  {
   "cell_type": "code",
   "execution_count": 11,
   "id": "ef5da915",
   "metadata": {},
   "outputs": [],
   "source": [
    "# variable number of arguments - dynamic argument list"
   ]
  },
  {
   "cell_type": "code",
   "execution_count": 18,
   "id": "a4ddb60a",
   "metadata": {},
   "outputs": [],
   "source": [
    "def mysum(*args):\n",
    "    sum=0\n",
    "    for num in args:\n",
    "        sum+=num\n",
    "    return sum"
   ]
  },
  {
   "cell_type": "code",
   "execution_count": 22,
   "id": "df103802",
   "metadata": {},
   "outputs": [
    {
     "data": {
      "text/plain": [
       "287"
      ]
     },
     "execution_count": 22,
     "metadata": {},
     "output_type": "execute_result"
    }
   ],
   "source": [
    "mysum(4,8, 12, 40, 56, 78 ,89)"
   ]
  },
  {
   "cell_type": "code",
   "execution_count": 34,
   "id": "f4f52d4a",
   "metadata": {},
   "outputs": [],
   "source": [
    "def myfunc(**kwargs):\n",
    "    for key, value in kwargs.items():\n",
    "        print(key, value)"
   ]
  },
  {
   "cell_type": "code",
   "execution_count": 35,
   "id": "f4a0a45d",
   "metadata": {},
   "outputs": [
    {
     "name": "stdout",
     "output_type": "stream",
     "text": [
      "a 3\n",
      "b 5\n",
      "name pv\n"
     ]
    }
   ],
   "source": [
    "myfunc(a=3, b=5, name='pv')"
   ]
  },
  {
   "cell_type": "code",
   "execution_count": 45,
   "id": "a7594db6",
   "metadata": {},
   "outputs": [],
   "source": [
    "def myfunc(var_x, *args, **kwargs):\n",
    "    print('static: ',var_x)\n",
    "    for arg in args:\n",
    "        print(arg)\n",
    "    for k,v in kwargs.items():\n",
    "        print(k, '=>', v)"
   ]
  },
  {
   "cell_type": "code",
   "execution_count": 46,
   "id": "0680352d",
   "metadata": {},
   "outputs": [
    {
     "name": "stdout",
     "output_type": "stream",
     "text": [
      "static:  23\n",
      "45\n",
      "prateek\n",
      "company => deloitte\n",
      "domain => python\n"
     ]
    }
   ],
   "source": [
    "myfunc(23, 45, 'prateek', company='deloitte', domain='python')"
   ]
  },
  {
   "cell_type": "code",
   "execution_count": 47,
   "id": "a2afb54e",
   "metadata": {},
   "outputs": [
    {
     "ename": "TypeError",
     "evalue": "myfunc() missing 1 required positional argument: 'var_x'",
     "output_type": "error",
     "traceback": [
      "\u001b[1;31m---------------------------------------------------------------------------\u001b[0m",
      "\u001b[1;31mTypeError\u001b[0m                                 Traceback (most recent call last)",
      "Input \u001b[1;32mIn [47]\u001b[0m, in \u001b[0;36m<cell line: 1>\u001b[1;34m()\u001b[0m\n\u001b[1;32m----> 1\u001b[0m \u001b[43mmyfunc\u001b[49m\u001b[43m(\u001b[49m\u001b[43m)\u001b[49m\n",
      "\u001b[1;31mTypeError\u001b[0m: myfunc() missing 1 required positional argument: 'var_x'"
     ]
    }
   ],
   "source": [
    "myfunc()"
   ]
  },
  {
   "cell_type": "markdown",
   "id": "03cc7a99",
   "metadata": {},
   "source": [
    "## Built-in Data Structures"
   ]
  },
  {
   "cell_type": "code",
   "execution_count": 48,
   "id": "1401643d",
   "metadata": {},
   "outputs": [],
   "source": [
    "# Tuple\n",
    "# List\n",
    "# Dictionary\n",
    "# Sets"
   ]
  },
  {
   "cell_type": "markdown",
   "id": "56ebea8a",
   "metadata": {},
   "source": [
    "### tuples"
   ]
  },
  {
   "cell_type": "code",
   "execution_count": 49,
   "id": "3cfeb28f",
   "metadata": {},
   "outputs": [],
   "source": [
    "t=tuple()"
   ]
  },
  {
   "cell_type": "code",
   "execution_count": 50,
   "id": "0996e6be",
   "metadata": {},
   "outputs": [],
   "source": [
    "t=(1,2,3,4,5)"
   ]
  },
  {
   "cell_type": "code",
   "execution_count": 51,
   "id": "547d4bf9",
   "metadata": {},
   "outputs": [
    {
     "name": "stdout",
     "output_type": "stream",
     "text": [
      "(1, 2, 3, 4, 5)\n"
     ]
    }
   ],
   "source": [
    "print(t)"
   ]
  },
  {
   "cell_type": "code",
   "execution_count": 52,
   "id": "4e49e482",
   "metadata": {},
   "outputs": [
    {
     "data": {
      "text/plain": [
       "1"
      ]
     },
     "execution_count": 52,
     "metadata": {},
     "output_type": "execute_result"
    }
   ],
   "source": [
    "t[0]"
   ]
  },
  {
   "cell_type": "code",
   "execution_count": 53,
   "id": "e7d69f0b",
   "metadata": {},
   "outputs": [
    {
     "data": {
      "text/plain": [
       "4"
      ]
     },
     "execution_count": 53,
     "metadata": {},
     "output_type": "execute_result"
    }
   ],
   "source": [
    "t[-2]"
   ]
  },
  {
   "cell_type": "code",
   "execution_count": 54,
   "id": "c7c4deef",
   "metadata": {},
   "outputs": [],
   "source": [
    "t=(1,2,3,4,5, 'deloitte', 3.1456879)"
   ]
  },
  {
   "cell_type": "code",
   "execution_count": 55,
   "id": "31c0a884",
   "metadata": {},
   "outputs": [
    {
     "data": {
      "text/plain": [
       "3.1456879"
      ]
     },
     "execution_count": 55,
     "metadata": {},
     "output_type": "execute_result"
    }
   ],
   "source": [
    "t[-1]"
   ]
  },
  {
   "cell_type": "code",
   "execution_count": 56,
   "id": "ffb103d3",
   "metadata": {},
   "outputs": [
    {
     "ename": "TypeError",
     "evalue": "'tuple' object does not support item assignment",
     "output_type": "error",
     "traceback": [
      "\u001b[1;31m---------------------------------------------------------------------------\u001b[0m",
      "\u001b[1;31mTypeError\u001b[0m                                 Traceback (most recent call last)",
      "Input \u001b[1;32mIn [56]\u001b[0m, in \u001b[0;36m<cell line: 1>\u001b[1;34m()\u001b[0m\n\u001b[1;32m----> 1\u001b[0m t[\u001b[38;5;241m1\u001b[39m]\u001b[38;5;241m=\u001b[39m\u001b[38;5;124m'\u001b[39m\u001b[38;5;124mhello\u001b[39m\u001b[38;5;124m'\u001b[39m\n",
      "\u001b[1;31mTypeError\u001b[0m: 'tuple' object does not support item assignment"
     ]
    }
   ],
   "source": [
    "t[1]='hello'"
   ]
  },
  {
   "cell_type": "code",
   "execution_count": 57,
   "id": "8632e039",
   "metadata": {},
   "outputs": [],
   "source": [
    "t=(1,2,3, 4+7j, '3.1345', (10,20,30))"
   ]
  },
  {
   "cell_type": "code",
   "execution_count": 58,
   "id": "6d0e5cec",
   "metadata": {},
   "outputs": [
    {
     "data": {
      "text/plain": [
       "(10, 20, 30)"
      ]
     },
     "execution_count": 58,
     "metadata": {},
     "output_type": "execute_result"
    }
   ],
   "source": [
    "t[-1]"
   ]
  },
  {
   "cell_type": "code",
   "execution_count": 61,
   "id": "1032ba87",
   "metadata": {},
   "outputs": [
    {
     "data": {
      "text/plain": [
       "30"
      ]
     },
     "execution_count": 61,
     "metadata": {},
     "output_type": "execute_result"
    }
   ],
   "source": [
    "t[5][2]"
   ]
  },
  {
   "cell_type": "code",
   "execution_count": 66,
   "id": "840bcac7",
   "metadata": {},
   "outputs": [],
   "source": [
    "t=(1,2,3, 4+7j, '3.1345', t)"
   ]
  },
  {
   "cell_type": "code",
   "execution_count": 67,
   "id": "622419d4",
   "metadata": {},
   "outputs": [
    {
     "name": "stdout",
     "output_type": "stream",
     "text": [
      "(1, 2, 3, (4+7j), '3.1345', (1, 2, 3, (4+7j), '3.1345', (1, 2, 3, (4+7j), '3.1345', (10, 20, 30))))\n"
     ]
    }
   ],
   "source": [
    "print(t)"
   ]
  },
  {
   "cell_type": "code",
   "execution_count": 68,
   "id": "9586051a",
   "metadata": {},
   "outputs": [
    {
     "data": {
      "text/plain": [
       "6"
      ]
     },
     "execution_count": 68,
     "metadata": {},
     "output_type": "execute_result"
    }
   ],
   "source": [
    "len(t)"
   ]
  },
  {
   "cell_type": "code",
   "execution_count": 69,
   "id": "a701077b",
   "metadata": {},
   "outputs": [
    {
     "data": {
      "text/plain": [
       "tuple"
      ]
     },
     "execution_count": 69,
     "metadata": {},
     "output_type": "execute_result"
    }
   ],
   "source": [
    "type(t)"
   ]
  },
  {
   "cell_type": "code",
   "execution_count": 71,
   "id": "fe2ebcc2",
   "metadata": {},
   "outputs": [],
   "source": [
    "t=(1,2,3,4,5,6,7,8,90)"
   ]
  },
  {
   "cell_type": "code",
   "execution_count": 72,
   "id": "2b60d9a6",
   "metadata": {},
   "outputs": [
    {
     "data": {
      "text/plain": [
       "90"
      ]
     },
     "execution_count": 72,
     "metadata": {},
     "output_type": "execute_result"
    }
   ],
   "source": [
    "max(t)"
   ]
  },
  {
   "cell_type": "code",
   "execution_count": 73,
   "id": "e11b831e",
   "metadata": {},
   "outputs": [
    {
     "data": {
      "text/plain": [
       "1"
      ]
     },
     "execution_count": 73,
     "metadata": {},
     "output_type": "execute_result"
    }
   ],
   "source": [
    "min(t)"
   ]
  },
  {
   "cell_type": "code",
   "execution_count": 74,
   "id": "54e62e59",
   "metadata": {},
   "outputs": [
    {
     "data": {
      "text/plain": [
       "126"
      ]
     },
     "execution_count": 74,
     "metadata": {},
     "output_type": "execute_result"
    }
   ],
   "source": [
    "sum(t)"
   ]
  },
  {
   "cell_type": "code",
   "execution_count": 75,
   "id": "22cf9338",
   "metadata": {},
   "outputs": [
    {
     "data": {
      "text/plain": [
       "'t'"
      ]
     },
     "execution_count": 75,
     "metadata": {},
     "output_type": "execute_result"
    }
   ],
   "source": [
    "max('prateek')"
   ]
  },
  {
   "cell_type": "code",
   "execution_count": 77,
   "id": "58cbe83a",
   "metadata": {},
   "outputs": [
    {
     "data": {
      "text/plain": [
       "'P'"
      ]
     },
     "execution_count": 77,
     "metadata": {},
     "output_type": "execute_result"
    }
   ],
   "source": [
    "min('Prateek')"
   ]
  },
  {
   "cell_type": "code",
   "execution_count": 78,
   "id": "5cc117ba",
   "metadata": {},
   "outputs": [
    {
     "name": "stdout",
     "output_type": "stream",
     "text": [
      "1\n",
      "2\n",
      "3\n",
      "4\n",
      "5\n",
      "6\n",
      "7\n",
      "8\n",
      "90\n"
     ]
    }
   ],
   "source": [
    "for val in t:\n",
    "    print(val)"
   ]
  },
  {
   "cell_type": "code",
   "execution_count": 79,
   "id": "4c4613ce",
   "metadata": {},
   "outputs": [],
   "source": [
    "def find_sum(t):\n",
    "    summation=0\n",
    "    for val in t:\n",
    "        summation+=val\n",
    "    return summation"
   ]
  },
  {
   "cell_type": "code",
   "execution_count": 80,
   "id": "a065eaae",
   "metadata": {},
   "outputs": [
    {
     "data": {
      "text/plain": [
       "126"
      ]
     },
     "execution_count": 80,
     "metadata": {},
     "output_type": "execute_result"
    }
   ],
   "source": [
    "find_sum(t)"
   ]
  },
  {
   "cell_type": "code",
   "execution_count": 84,
   "id": "d55c49d3",
   "metadata": {},
   "outputs": [],
   "source": [
    "def myfun(k):\n",
    "    k=k*5\n",
    "    return k"
   ]
  },
  {
   "cell_type": "code",
   "execution_count": 85,
   "id": "31c71828",
   "metadata": {},
   "outputs": [
    {
     "data": {
      "text/plain": [
       "450"
      ]
     },
     "execution_count": 85,
     "metadata": {},
     "output_type": "execute_result"
    }
   ],
   "source": [
    "k=90\n",
    "myfun(k)"
   ]
  },
  {
   "cell_type": "code",
   "execution_count": 87,
   "id": "229a9c4e",
   "metadata": {},
   "outputs": [
    {
     "name": "stdout",
     "output_type": "stream",
     "text": [
      "90\n"
     ]
    }
   ],
   "source": [
    "print(k)"
   ]
  },
  {
   "cell_type": "markdown",
   "id": "2877f690",
   "metadata": {},
   "source": [
    "## Lists"
   ]
  },
  {
   "cell_type": "code",
   "execution_count": 88,
   "id": "a0dcfb75",
   "metadata": {},
   "outputs": [],
   "source": [
    "li=list()"
   ]
  },
  {
   "cell_type": "code",
   "execution_count": 89,
   "id": "8483eb6f",
   "metadata": {},
   "outputs": [],
   "source": [
    "li=[10,20,30,40,50, 'prateek', 3.1467889, 7-3j, (7,8,9), [15,16,17]]"
   ]
  },
  {
   "cell_type": "code",
   "execution_count": 90,
   "id": "845a61c3",
   "metadata": {},
   "outputs": [
    {
     "data": {
      "text/plain": [
       "10"
      ]
     },
     "execution_count": 90,
     "metadata": {},
     "output_type": "execute_result"
    }
   ],
   "source": [
    "len(li)"
   ]
  },
  {
   "cell_type": "code",
   "execution_count": 91,
   "id": "41d1472e",
   "metadata": {},
   "outputs": [
    {
     "data": {
      "text/plain": [
       "list"
      ]
     },
     "execution_count": 91,
     "metadata": {},
     "output_type": "execute_result"
    }
   ],
   "source": [
    "type(li)"
   ]
  },
  {
   "cell_type": "code",
   "execution_count": 93,
   "id": "f9d8fe9b",
   "metadata": {},
   "outputs": [
    {
     "data": {
      "text/plain": [
       "10"
      ]
     },
     "execution_count": 93,
     "metadata": {},
     "output_type": "execute_result"
    }
   ],
   "source": [
    "sum([1,2,3,4])"
   ]
  },
  {
   "cell_type": "code",
   "execution_count": 94,
   "id": "5e08e743",
   "metadata": {},
   "outputs": [
    {
     "data": {
      "text/plain": [
       "4"
      ]
     },
     "execution_count": 94,
     "metadata": {},
     "output_type": "execute_result"
    }
   ],
   "source": [
    "max([1,2,3,4])"
   ]
  },
  {
   "cell_type": "code",
   "execution_count": 95,
   "id": "a66c77b5",
   "metadata": {},
   "outputs": [
    {
     "data": {
      "text/plain": [
       "1"
      ]
     },
     "execution_count": 95,
     "metadata": {},
     "output_type": "execute_result"
    }
   ],
   "source": [
    "min([1,2,3,4])"
   ]
  },
  {
   "cell_type": "code",
   "execution_count": 96,
   "id": "b02dc924",
   "metadata": {},
   "outputs": [
    {
     "data": {
      "text/plain": [
       "40"
      ]
     },
     "execution_count": 96,
     "metadata": {},
     "output_type": "execute_result"
    }
   ],
   "source": [
    "li[3]"
   ]
  },
  {
   "cell_type": "code",
   "execution_count": 97,
   "id": "fbe3d7eb",
   "metadata": {},
   "outputs": [
    {
     "data": {
      "text/plain": [
       "(7, 8, 9)"
      ]
     },
     "execution_count": 97,
     "metadata": {},
     "output_type": "execute_result"
    }
   ],
   "source": [
    "li[-2]"
   ]
  },
  {
   "cell_type": "code",
   "execution_count": 99,
   "id": "a60367cf",
   "metadata": {},
   "outputs": [
    {
     "data": {
      "text/plain": [
       "(1, 2, 3, 4, 5, 6, 7)"
      ]
     },
     "execution_count": 99,
     "metadata": {},
     "output_type": "execute_result"
    }
   ],
   "source": [
    "t[:7]"
   ]
  },
  {
   "cell_type": "code",
   "execution_count": 100,
   "id": "a3067f7c",
   "metadata": {},
   "outputs": [
    {
     "data": {
      "text/plain": [
       "[10, 20, 30]"
      ]
     },
     "execution_count": 100,
     "metadata": {},
     "output_type": "execute_result"
    }
   ],
   "source": [
    "li[:3]"
   ]
  },
  {
   "cell_type": "code",
   "execution_count": 101,
   "id": "673c7313",
   "metadata": {},
   "outputs": [
    {
     "data": {
      "text/plain": [
       "(90, 8, 7, 6, 5, 4, 3, 2, 1)"
      ]
     },
     "execution_count": 101,
     "metadata": {},
     "output_type": "execute_result"
    }
   ],
   "source": [
    "t[::-1]"
   ]
  },
  {
   "cell_type": "code",
   "execution_count": 102,
   "id": "ccff5c3e",
   "metadata": {},
   "outputs": [
    {
     "data": {
      "text/plain": [
       "[[15, 16, 17], (7, 8, 9), (7-3j), 3.1467889, 'prateek', 50, 40, 30, 20, 10]"
      ]
     },
     "execution_count": 102,
     "metadata": {},
     "output_type": "execute_result"
    }
   ],
   "source": [
    "li[::-1]"
   ]
  },
  {
   "cell_type": "code",
   "execution_count": 104,
   "id": "1c1ae909",
   "metadata": {},
   "outputs": [
    {
     "data": {
      "text/plain": [
       "[2, 4, 6, 8, 10]"
      ]
     },
     "execution_count": 104,
     "metadata": {},
     "output_type": "execute_result"
    }
   ],
   "source": [
    "li=[1,2,3,4,5,6,7,8,9,10]\n",
    "li[1::2]"
   ]
  },
  {
   "cell_type": "code",
   "execution_count": 106,
   "id": "e55d7e6d",
   "metadata": {},
   "outputs": [
    {
     "data": {
      "text/plain": [
       "[1, 2, 3, 4, 5, 6, 7, 8, 9, 10]"
      ]
     },
     "execution_count": 106,
     "metadata": {},
     "output_type": "execute_result"
    }
   ],
   "source": [
    "li"
   ]
  },
  {
   "cell_type": "code",
   "execution_count": 107,
   "id": "aeb6dab6",
   "metadata": {},
   "outputs": [],
   "source": [
    "li[0]=900"
   ]
  },
  {
   "cell_type": "code",
   "execution_count": 108,
   "id": "3bc87f95",
   "metadata": {},
   "outputs": [
    {
     "data": {
      "text/plain": [
       "[900, 2, 3, 4, 5, 6, 7, 8, 9, 10]"
      ]
     },
     "execution_count": 108,
     "metadata": {},
     "output_type": "execute_result"
    }
   ],
   "source": [
    "li"
   ]
  },
  {
   "cell_type": "code",
   "execution_count": 109,
   "id": "a25afd39",
   "metadata": {},
   "outputs": [
    {
     "name": "stdout",
     "output_type": "stream",
     "text": [
      "900,2,3,4,5,6,7,8,9,10,"
     ]
    }
   ],
   "source": [
    "for element in li:\n",
    "    print(element, end=',')"
   ]
  },
  {
   "cell_type": "code",
   "execution_count": 110,
   "id": "3d50c241",
   "metadata": {},
   "outputs": [],
   "source": [
    "del t"
   ]
  },
  {
   "cell_type": "code",
   "execution_count": 111,
   "id": "72a29975",
   "metadata": {},
   "outputs": [],
   "source": [
    "del li"
   ]
  },
  {
   "cell_type": "code",
   "execution_count": 115,
   "id": "bf5733df",
   "metadata": {},
   "outputs": [],
   "source": [
    "# Accept integer N from user, create a list of \"square of first N integers\"\n",
    "## e.g. [1,4,9,16,25,.....N^2]"
   ]
  },
  {
   "cell_type": "code",
   "execution_count": 1,
   "id": "16b1f6e7",
   "metadata": {},
   "outputs": [
    {
     "name": "stdout",
     "output_type": "stream",
     "text": [
      "10\n",
      "[1, 4, 9, 16, 25, 36, 49, 64, 81, 100]\n"
     ]
    }
   ],
   "source": [
    "N=int(input())\n",
    "li=[]\n",
    "for i in range(1, N+1):\n",
    "    li.append(i**2)\n",
    "print(li)"
   ]
  },
  {
   "cell_type": "code",
   "execution_count": 4,
   "id": "990885f8",
   "metadata": {},
   "outputs": [
    {
     "name": "stdout",
     "output_type": "stream",
     "text": [
      "20\n",
      "[1, 4, 9, 16, 25, 36, 49, 64, 81, 100, 121, 144, 169, 196, 225, 256, 289, 324, 361, 400]\n"
     ]
    }
   ],
   "source": [
    "N=int(input())\n",
    "li=[n**2 for n in range(1,N+1)] # list comprehension\n",
    "print(li)"
   ]
  },
  {
   "cell_type": "code",
   "execution_count": 5,
   "id": "01c518e8",
   "metadata": {},
   "outputs": [
    {
     "name": "stdout",
     "output_type": "stream",
     "text": [
      "10\n",
      "[4, 16, 36, 64, 100]\n"
     ]
    }
   ],
   "source": [
    "N=int(input())\n",
    "li=[n**2 for n in range(1,N+1) if n%2==0] # list comprehension\n",
    "print(li)"
   ]
  },
  {
   "cell_type": "code",
   "execution_count": 6,
   "id": "90bb63ba",
   "metadata": {},
   "outputs": [],
   "source": [
    "# write a function that takes a number list as input and identifies prime numbers"
   ]
  },
  {
   "cell_type": "code",
   "execution_count": 27,
   "id": "37977b90",
   "metadata": {},
   "outputs": [],
   "source": [
    "def check_prime(li):\n",
    "    for n in li:\n",
    "        for i in range(2,n):\n",
    "            if n%i==0:\n",
    "                print(n, '=> not prime')\n",
    "                break\n",
    "            if i==n-1:\n",
    "                print(n, '=> prime')"
   ]
  },
  {
   "cell_type": "code",
   "execution_count": 28,
   "id": "d319cf67",
   "metadata": {},
   "outputs": [
    {
     "name": "stdout",
     "output_type": "stream",
     "text": [
      "3 => prime\n",
      "4 => not prime\n",
      "5 => prime\n",
      "6 => not prime\n",
      "7 => prime\n",
      "8 => not prime\n",
      "9 => not prime\n",
      "10 => not prime\n",
      "11 => prime\n",
      "12 => not prime\n",
      "13 => prime\n",
      "14 => not prime\n",
      "15 => not prime\n",
      "16 => not prime\n",
      "17 => prime\n",
      "18 => not prime\n",
      "19 => prime\n",
      "20 => not prime\n",
      "21 => not prime\n",
      "22 => not prime\n",
      "23 => prime\n",
      "24 => not prime\n",
      "25 => not prime\n",
      "26 => not prime\n",
      "27 => not prime\n",
      "28 => not prime\n",
      "29 => prime\n",
      "30 => not prime\n",
      "31 => prime\n",
      "32 => not prime\n",
      "33 => not prime\n",
      "34 => not prime\n",
      "35 => not prime\n",
      "36 => not prime\n",
      "37 => prime\n",
      "38 => not prime\n",
      "39 => not prime\n",
      "40 => not prime\n",
      "41 => prime\n",
      "42 => not prime\n",
      "43 => prime\n",
      "44 => not prime\n",
      "45 => not prime\n",
      "46 => not prime\n",
      "47 => prime\n",
      "48 => not prime\n",
      "49 => not prime\n"
     ]
    }
   ],
   "source": [
    "mylist=[n for n in range(2,50)]\n",
    "check_prime(mylist)"
   ]
  },
  {
   "cell_type": "code",
   "execution_count": 30,
   "id": "4c3cb6d4",
   "metadata": {},
   "outputs": [],
   "source": [
    "def myfunc(li):\n",
    "    for i in range(len(li)):\n",
    "        li[i]=li[i]*5\n",
    "    print(li)\n",
    "    return None"
   ]
  },
  {
   "cell_type": "code",
   "execution_count": 32,
   "id": "247ffda1",
   "metadata": {},
   "outputs": [
    {
     "name": "stdout",
     "output_type": "stream",
     "text": [
      "[25, 30, 35, 40]\n",
      "[25, 30, 35, 40]\n"
     ]
    }
   ],
   "source": [
    "mylist=[5,6,7,8]\n",
    "myfunc(mylist)\n",
    "print(mylist)"
   ]
  },
  {
   "cell_type": "code",
   "execution_count": 33,
   "id": "5d7f8569",
   "metadata": {},
   "outputs": [],
   "source": [
    "def myfunc(li):\n",
    "    li.append(900)\n",
    "    print(li)\n",
    "    return None"
   ]
  },
  {
   "cell_type": "code",
   "execution_count": 34,
   "id": "17255d28",
   "metadata": {},
   "outputs": [
    {
     "name": "stdout",
     "output_type": "stream",
     "text": [
      "[5, 6, 7, 8, 900]\n",
      "[5, 6, 7, 8, 900]\n"
     ]
    }
   ],
   "source": [
    "mylist=[5,6,7,8]\n",
    "myfunc(mylist)\n",
    "print(mylist)"
   ]
  },
  {
   "cell_type": "markdown",
   "id": "021c781b",
   "metadata": {},
   "source": [
    "### List Functions"
   ]
  },
  {
   "cell_type": "code",
   "execution_count": 35,
   "id": "da2ee22e",
   "metadata": {},
   "outputs": [
    {
     "data": {
      "text/plain": [
       "[10, 20, 30, 40, 90]"
      ]
     },
     "execution_count": 35,
     "metadata": {},
     "output_type": "execute_result"
    }
   ],
   "source": [
    "# append elements - insert at the end\n",
    "\n",
    "li=[10,20,30,40]\n",
    "li.append(90)\n",
    "li"
   ]
  },
  {
   "cell_type": "code",
   "execution_count": 36,
   "id": "029a1ba2",
   "metadata": {},
   "outputs": [
    {
     "data": {
      "text/plain": [
       "[10, 20, 30, 40, 90, [100, 200, 300]]"
      ]
     },
     "execution_count": 36,
     "metadata": {},
     "output_type": "execute_result"
    }
   ],
   "source": [
    "li.append([100,200,300])\n",
    "li"
   ]
  },
  {
   "cell_type": "code",
   "execution_count": 37,
   "id": "592c61f9",
   "metadata": {},
   "outputs": [
    {
     "data": {
      "text/plain": [
       "['first', 10, 20, 30, 40, 90, [100, 200, 300]]"
      ]
     },
     "execution_count": 37,
     "metadata": {},
     "output_type": "execute_result"
    }
   ],
   "source": [
    "# insert(index, value)\n",
    "\n",
    "li.insert(0, 'first')\n",
    "li"
   ]
  },
  {
   "cell_type": "code",
   "execution_count": 38,
   "id": "2d676dfe",
   "metadata": {},
   "outputs": [
    {
     "data": {
      "text/plain": [
       "['first', 10, 20, 30, 78.987, 40, 90, [100, 200, 300]]"
      ]
     },
     "execution_count": 38,
     "metadata": {},
     "output_type": "execute_result"
    }
   ],
   "source": [
    "li.insert(4, 78.987)\n",
    "li"
   ]
  },
  {
   "cell_type": "code",
   "execution_count": 39,
   "id": "8a7c474d",
   "metadata": {},
   "outputs": [
    {
     "data": {
      "text/plain": [
       "[10, 20, 30, 40, 200, 300, 400, 500]"
      ]
     },
     "execution_count": 39,
     "metadata": {},
     "output_type": "execute_result"
    }
   ],
   "source": [
    "# extend(list)\n",
    "\n",
    "li=[10,20,30,40]\n",
    "li.extend([200,300,400,500])\n",
    "li"
   ]
  },
  {
   "cell_type": "code",
   "execution_count": 40,
   "id": "59a6b58e",
   "metadata": {},
   "outputs": [
    {
     "data": {
      "text/plain": [
       "[10, 20, 30, 40, 300, 400, 500]"
      ]
     },
     "execution_count": 40,
     "metadata": {},
     "output_type": "execute_result"
    }
   ],
   "source": [
    "# remove\n",
    "\n",
    "li.remove(200)\n",
    "li"
   ]
  },
  {
   "cell_type": "code",
   "execution_count": 41,
   "id": "fdd005bc",
   "metadata": {},
   "outputs": [
    {
     "data": {
      "text/plain": [
       "500"
      ]
     },
     "execution_count": 41,
     "metadata": {},
     "output_type": "execute_result"
    }
   ],
   "source": [
    "# pop() removes last element\n",
    "\n",
    "li.pop()"
   ]
  },
  {
   "cell_type": "code",
   "execution_count": 42,
   "id": "9a1b8ea6",
   "metadata": {},
   "outputs": [
    {
     "data": {
      "text/plain": [
       "[10, 20, 30, 40, 300, 400]"
      ]
     },
     "execution_count": 42,
     "metadata": {},
     "output_type": "execute_result"
    }
   ],
   "source": [
    "li"
   ]
  },
  {
   "cell_type": "code",
   "execution_count": 43,
   "id": "a2835e80",
   "metadata": {},
   "outputs": [
    {
     "data": {
      "text/plain": [
       "4"
      ]
     },
     "execution_count": 43,
     "metadata": {},
     "output_type": "execute_result"
    }
   ],
   "source": [
    "# index()\n",
    "\n",
    "li.index(300)"
   ]
  },
  {
   "cell_type": "code",
   "execution_count": 44,
   "id": "410aa345",
   "metadata": {},
   "outputs": [
    {
     "data": {
      "text/plain": [
       "[]"
      ]
     },
     "execution_count": 44,
     "metadata": {},
     "output_type": "execute_result"
    }
   ],
   "source": [
    "# clear\n",
    "\n",
    "li.clear()\n",
    "li"
   ]
  },
  {
   "cell_type": "code",
   "execution_count": 45,
   "id": "567b50a7",
   "metadata": {},
   "outputs": [
    {
     "data": {
      "text/plain": [
       "[1, 2, 3, 3, 5, 5, 6, 7, 8, 9, 90, 122]"
      ]
     },
     "execution_count": 45,
     "metadata": {},
     "output_type": "execute_result"
    }
   ],
   "source": [
    "# sort\n",
    "\n",
    "li=[1,5,3,8,9,2,3,90,6,122,5,7]\n",
    "\n",
    "li.sort()\n",
    "li"
   ]
  },
  {
   "cell_type": "code",
   "execution_count": 51,
   "id": "fdc98468",
   "metadata": {},
   "outputs": [
    {
     "data": {
      "text/plain": [
       "[122, 90, 9, 8, 7, 6, 5, 5, 3, 3, 2, 1]"
      ]
     },
     "execution_count": 51,
     "metadata": {},
     "output_type": "execute_result"
    }
   ],
   "source": [
    "li=[1,5,3,8,9,2,3,90,6,122,5,7]\n",
    "\n",
    "li.sort(reverse=True)\n",
    "li"
   ]
  },
  {
   "cell_type": "code",
   "execution_count": 52,
   "id": "dff8d2d0",
   "metadata": {},
   "outputs": [],
   "source": [
    "# write code to sort a given list in ascending order without using sort() function\n",
    "### Hint: Bubble Sort"
   ]
  },
  {
   "cell_type": "code",
   "execution_count": 58,
   "id": "e830c4a3",
   "metadata": {},
   "outputs": [
    {
     "data": {
      "text/plain": [
       "[1, 2, 3, 3, 5, 5, 6, 7, 8, 9, 90, 122]"
      ]
     },
     "execution_count": 58,
     "metadata": {},
     "output_type": "execute_result"
    }
   ],
   "source": [
    "def bubble_sort(li):\n",
    "    for i in range(len(li)):\n",
    "        for j in range(i, len(li)):\n",
    "            if li[i]>li[j]:\n",
    "                li[j],li[i]=li[i],li[j]\n",
    "    return li\n",
    "bubble_sort([1,5,3,8,9,2,3,90,6,122,5,7])"
   ]
  },
  {
   "cell_type": "code",
   "execution_count": 56,
   "id": "40882e9a",
   "metadata": {},
   "outputs": [],
   "source": [
    "# write code to filter a given list and arrange positive numbers before all negative numbers\n",
    "# Example:\n",
    "# input=> [-1, 2, 5, -9, 3, 4, -4, 6]\n",
    "# output=> [2, 5, 3, 4, 6, -1, -9, -4]"
   ]
  },
  {
   "cell_type": "code",
   "execution_count": 66,
   "id": "3a60c3d2",
   "metadata": {},
   "outputs": [
    {
     "name": "stdout",
     "output_type": "stream",
     "text": [
      "[2, 5, 3, 4, 6, -1, -9, -4]\n"
     ]
    }
   ],
   "source": [
    "li=[-1, 2, 5, -9, 3, 4, -4, 6]\n",
    "pos=[]\n",
    "neg=[]\n",
    "for num in li:\n",
    "    if num>=0:\n",
    "        pos.append(num)\n",
    "    else:\n",
    "        neg.append(num)\n",
    "pos.extend(neg)\n",
    "print(pos)"
   ]
  },
  {
   "cell_type": "code",
   "execution_count": 71,
   "id": "4ed51917",
   "metadata": {},
   "outputs": [
    {
     "name": "stdout",
     "output_type": "stream",
     "text": [
      "[2, 5, -9, 3, 4, -4, 6, -1]\n",
      "[2, 5, 3, 4, -4, 6, -1, -9]\n",
      "[2, 5, 3, 4, 6, -1, -9, -4]\n",
      "[2, 5, 3, 4, 6, -9, -4, -1]\n",
      "[2, 5, 3, 4, 6, -9, -1, -4]\n",
      "[2, 5, 3, 4, 6, -9, -1, -4]\n",
      "[2, 5, 3, 4, 6, -9, -1, -4]\n"
     ]
    }
   ],
   "source": [
    "li=[-1, 2, 5, -9, 3, 4, -4, 6]\n",
    "for i in range(len(li)):\n",
    "    if li[i]<0:\n",
    "        num=li[i]\n",
    "        li.remove(num)\n",
    "        li.append(num)\n",
    "        print(li)\n",
    "print(li)"
   ]
  },
  {
   "cell_type": "code",
   "execution_count": 78,
   "id": "e6546e23",
   "metadata": {
    "scrolled": true
   },
   "outputs": [
    {
     "data": {
      "text/plain": [
       "1"
      ]
     },
     "execution_count": 78,
     "metadata": {},
     "output_type": "execute_result"
    }
   ],
   "source": [
    "# count()\n",
    "li=[1,2,4,5,6,3,2,8,9,5,1,2,3,6,7]\n",
    "li.count(7)"
   ]
  },
  {
   "cell_type": "code",
   "execution_count": 80,
   "id": "dd68ec16",
   "metadata": {},
   "outputs": [
    {
     "name": "stdout",
     "output_type": "stream",
     "text": [
      "1 => 2\n",
      "2 => 3\n",
      "4 => 1\n",
      "5 => 2\n",
      "6 => 2\n",
      "3 => 2\n",
      "2 => 3\n",
      "8 => 1\n",
      "9 => 1\n",
      "5 => 2\n",
      "1 => 2\n",
      "2 => 3\n",
      "3 => 2\n",
      "6 => 2\n",
      "7 => 1\n"
     ]
    }
   ],
   "source": [
    "for num in li:\n",
    "    print(num, '=>', li.count(num))"
   ]
  },
  {
   "cell_type": "code",
   "execution_count": 81,
   "id": "f83a9cf4",
   "metadata": {},
   "outputs": [
    {
     "data": {
      "text/plain": [
       "[1, 2, 4, 5, 6, 3, 2, 8, 9, 5, 1, 2, 3, 6, 7]"
      ]
     },
     "execution_count": 81,
     "metadata": {},
     "output_type": "execute_result"
    }
   ],
   "source": [
    "# copy\n",
    "\n",
    "li2=li.copy()\n",
    "li2"
   ]
  },
  {
   "cell_type": "code",
   "execution_count": 82,
   "id": "0c3c6d19",
   "metadata": {},
   "outputs": [
    {
     "name": "stdout",
     "output_type": "stream",
     "text": [
      "[10, 20, 30]\n",
      "[10, 20, 30]\n"
     ]
    }
   ],
   "source": [
    "li=[10,20,30]\n",
    "li2=li\n",
    "print(li, li2, sep='\\n')"
   ]
  },
  {
   "cell_type": "code",
   "execution_count": 83,
   "id": "4ae97ad6",
   "metadata": {},
   "outputs": [
    {
     "name": "stdout",
     "output_type": "stream",
     "text": [
      "[100, 20, 30]\n",
      "[100, 20, 30]\n"
     ]
    }
   ],
   "source": [
    "li[0]=100\n",
    "print(li, li2, sep='\\n')"
   ]
  },
  {
   "cell_type": "code",
   "execution_count": 84,
   "id": "fd0c1758",
   "metadata": {},
   "outputs": [
    {
     "name": "stdout",
     "output_type": "stream",
     "text": [
      "[900, 20, 30]\n",
      "[100, 20, 30]\n"
     ]
    }
   ],
   "source": [
    "li2=li.copy()\n",
    "li2\n",
    "li[0]=900\n",
    "print(li, li2, sep='\\n')"
   ]
  },
  {
   "cell_type": "code",
   "execution_count": 89,
   "id": "ecf38a0e",
   "metadata": {},
   "outputs": [
    {
     "data": {
      "text/plain": [
       "[90, 60, 40, 30, 10]"
      ]
     },
     "execution_count": 89,
     "metadata": {},
     "output_type": "execute_result"
    }
   ],
   "source": [
    "# reverse()\n",
    "li=[10,30,40,60,90]\n",
    "li.reverse()\n",
    "li"
   ]
  },
  {
   "cell_type": "code",
   "execution_count": 90,
   "id": "e5878505",
   "metadata": {},
   "outputs": [
    {
     "data": {
      "text/plain": [
       "<list_reverseiterator at 0x2a3c5b82100>"
      ]
     },
     "execution_count": 90,
     "metadata": {},
     "output_type": "execute_result"
    }
   ],
   "source": [
    "# reversed()\n",
    "li=[10,30,40,60,90]\n",
    "reversed(li)"
   ]
  },
  {
   "cell_type": "code",
   "execution_count": 93,
   "id": "f7fa5a7c",
   "metadata": {},
   "outputs": [
    {
     "name": "stdout",
     "output_type": "stream",
     "text": [
      "90 60 40 30 10 \n",
      "[10, 30, 40, 60, 90]\n"
     ]
    }
   ],
   "source": [
    "li=[10,30,40,60,90]\n",
    "for num in reversed(li):\n",
    "    print(num, end=' ')\n",
    "print()\n",
    "print(li)"
   ]
  },
  {
   "cell_type": "markdown",
   "id": "973c4632",
   "metadata": {},
   "source": [
    "### Dictionaries"
   ]
  },
  {
   "cell_type": "code",
   "execution_count": 94,
   "id": "06aa14dd",
   "metadata": {},
   "outputs": [],
   "source": [
    "d=dict()"
   ]
  },
  {
   "cell_type": "code",
   "execution_count": 95,
   "id": "09d02324",
   "metadata": {},
   "outputs": [],
   "source": [
    "d={}"
   ]
  },
  {
   "cell_type": "code",
   "execution_count": 97,
   "id": "50d624da",
   "metadata": {},
   "outputs": [],
   "source": [
    "# is sollection of key:value pairs\n",
    "d={1: 100, 2: 200, 3: 300}"
   ]
  },
  {
   "cell_type": "code",
   "execution_count": 98,
   "id": "a2c39020",
   "metadata": {},
   "outputs": [
    {
     "name": "stdout",
     "output_type": "stream",
     "text": [
      "{1: 100, 2: 200, 3: 300}\n"
     ]
    }
   ],
   "source": [
    "print(d)"
   ]
  },
  {
   "cell_type": "code",
   "execution_count": 99,
   "id": "db2dc87d",
   "metadata": {},
   "outputs": [
    {
     "data": {
      "text/plain": [
       "dict_keys([1, 2, 3])"
      ]
     },
     "execution_count": 99,
     "metadata": {},
     "output_type": "execute_result"
    }
   ],
   "source": [
    "d.keys()"
   ]
  },
  {
   "cell_type": "code",
   "execution_count": 100,
   "id": "c8682448",
   "metadata": {},
   "outputs": [
    {
     "data": {
      "text/plain": [
       "dict_values([100, 200, 300])"
      ]
     },
     "execution_count": 100,
     "metadata": {},
     "output_type": "execute_result"
    }
   ],
   "source": [
    "d.values()"
   ]
  },
  {
   "cell_type": "code",
   "execution_count": 101,
   "id": "1292b47a",
   "metadata": {},
   "outputs": [
    {
     "data": {
      "text/plain": [
       "dict_items([(1, 100), (2, 200), (3, 300)])"
      ]
     },
     "execution_count": 101,
     "metadata": {},
     "output_type": "execute_result"
    }
   ],
   "source": [
    "d.items()"
   ]
  },
  {
   "cell_type": "code",
   "execution_count": 102,
   "id": "a5e32e88",
   "metadata": {},
   "outputs": [
    {
     "name": "stdout",
     "output_type": "stream",
     "text": [
      "1 => 100\n",
      "2 => 200\n",
      "3 => 300\n"
     ]
    }
   ],
   "source": [
    "for key, val in d.items():\n",
    "    print(key, '=>', val)"
   ]
  },
  {
   "cell_type": "code",
   "execution_count": 103,
   "id": "9b5726f5",
   "metadata": {},
   "outputs": [
    {
     "data": {
      "text/plain": [
       "dict"
      ]
     },
     "execution_count": 103,
     "metadata": {},
     "output_type": "execute_result"
    }
   ],
   "source": [
    "type(d)"
   ]
  },
  {
   "cell_type": "code",
   "execution_count": 104,
   "id": "d3cfbc53",
   "metadata": {},
   "outputs": [
    {
     "data": {
      "text/plain": [
       "3"
      ]
     },
     "execution_count": 104,
     "metadata": {},
     "output_type": "execute_result"
    }
   ],
   "source": [
    "len(d)"
   ]
  },
  {
   "cell_type": "code",
   "execution_count": 105,
   "id": "0964ca39",
   "metadata": {},
   "outputs": [
    {
     "data": {
      "text/plain": [
       "3"
      ]
     },
     "execution_count": 105,
     "metadata": {},
     "output_type": "execute_result"
    }
   ],
   "source": [
    "max(d)"
   ]
  },
  {
   "cell_type": "code",
   "execution_count": 106,
   "id": "7f2163ab",
   "metadata": {},
   "outputs": [
    {
     "data": {
      "text/plain": [
       "1"
      ]
     },
     "execution_count": 106,
     "metadata": {},
     "output_type": "execute_result"
    }
   ],
   "source": [
    "min(d)"
   ]
  },
  {
   "cell_type": "code",
   "execution_count": 108,
   "id": "19ed58cb",
   "metadata": {},
   "outputs": [
    {
     "data": {
      "text/plain": [
       "200"
      ]
     },
     "execution_count": 108,
     "metadata": {},
     "output_type": "execute_result"
    }
   ],
   "source": [
    "# pop\n",
    "\n",
    "d.pop(2)"
   ]
  },
  {
   "cell_type": "code",
   "execution_count": 109,
   "id": "0d894158",
   "metadata": {},
   "outputs": [
    {
     "data": {
      "text/plain": [
       "{1: 100, 3: 300}"
      ]
     },
     "execution_count": 109,
     "metadata": {},
     "output_type": "execute_result"
    }
   ],
   "source": [
    "d"
   ]
  },
  {
   "cell_type": "code",
   "execution_count": 110,
   "id": "86c88f86",
   "metadata": {},
   "outputs": [
    {
     "ename": "KeyError",
     "evalue": "2",
     "output_type": "error",
     "traceback": [
      "\u001b[1;31m---------------------------------------------------------------------------\u001b[0m",
      "\u001b[1;31mKeyError\u001b[0m                                  Traceback (most recent call last)",
      "Input \u001b[1;32mIn [110]\u001b[0m, in \u001b[0;36m<cell line: 1>\u001b[1;34m()\u001b[0m\n\u001b[1;32m----> 1\u001b[0m \u001b[43md\u001b[49m\u001b[38;5;241;43m.\u001b[39;49m\u001b[43mpop\u001b[49m\u001b[43m(\u001b[49m\u001b[38;5;241;43m2\u001b[39;49m\u001b[43m)\u001b[49m\n",
      "\u001b[1;31mKeyError\u001b[0m: 2"
     ]
    }
   ],
   "source": [
    "d.pop(2)"
   ]
  },
  {
   "cell_type": "code",
   "execution_count": 111,
   "id": "c2ec4dce",
   "metadata": {},
   "outputs": [
    {
     "data": {
      "text/plain": [
       "{1: 100, 3: 300, 4: 400}"
      ]
     },
     "execution_count": 111,
     "metadata": {},
     "output_type": "execute_result"
    }
   ],
   "source": [
    "# insertion\n",
    "\n",
    "d[4]=400\n",
    "d"
   ]
  },
  {
   "cell_type": "code",
   "execution_count": 112,
   "id": "3fc76429",
   "metadata": {},
   "outputs": [
    {
     "data": {
      "text/plain": [
       "[10, 20, 30, 40, 50, 60, 70, 80, 90]"
      ]
     },
     "execution_count": 112,
     "metadata": {},
     "output_type": "execute_result"
    }
   ],
   "source": [
    "li=[n for n in range(10,100,10)]\n",
    "li"
   ]
  },
  {
   "cell_type": "code",
   "execution_count": 114,
   "id": "ff63536c",
   "metadata": {},
   "outputs": [
    {
     "data": {
      "text/plain": [
       "{10: 0, 20: 0, 30: 0, 40: 0, 50: 0, 60: 0, 70: 0, 80: 0, 90: 0}"
      ]
     },
     "execution_count": 114,
     "metadata": {},
     "output_type": "execute_result"
    }
   ],
   "source": [
    "d={}\n",
    "d=d.fromkeys(li, 0)\n",
    "d"
   ]
  },
  {
   "cell_type": "code",
   "execution_count": 115,
   "id": "cd90cf41",
   "metadata": {},
   "outputs": [],
   "source": [
    "# popitem()\n",
    "\n",
    "d={'name':'prateek','city':'meerut', 'training':'python','exp':13}"
   ]
  },
  {
   "cell_type": "code",
   "execution_count": 116,
   "id": "826202e2",
   "metadata": {},
   "outputs": [
    {
     "data": {
      "text/plain": [
       "'meerut'"
      ]
     },
     "execution_count": 116,
     "metadata": {},
     "output_type": "execute_result"
    }
   ],
   "source": [
    "d.pop('city')"
   ]
  },
  {
   "cell_type": "code",
   "execution_count": 117,
   "id": "1d2ffb76",
   "metadata": {},
   "outputs": [
    {
     "data": {
      "text/plain": [
       "{'name': 'prateek', 'training': 'python', 'exp': 13}"
      ]
     },
     "execution_count": 117,
     "metadata": {},
     "output_type": "execute_result"
    }
   ],
   "source": [
    "d"
   ]
  },
  {
   "cell_type": "code",
   "execution_count": 118,
   "id": "769b984f",
   "metadata": {},
   "outputs": [
    {
     "data": {
      "text/plain": [
       "('exp', 13)"
      ]
     },
     "execution_count": 118,
     "metadata": {},
     "output_type": "execute_result"
    }
   ],
   "source": [
    "d.popitem()"
   ]
  },
  {
   "cell_type": "code",
   "execution_count": 119,
   "id": "b08f7d03",
   "metadata": {},
   "outputs": [
    {
     "data": {
      "text/plain": [
       "{'name': 'prateek', 'training': 'python'}"
      ]
     },
     "execution_count": 119,
     "metadata": {},
     "output_type": "execute_result"
    }
   ],
   "source": [
    "# copy\n",
    "\n",
    "d2=d.copy()\n",
    "d2"
   ]
  },
  {
   "cell_type": "code",
   "execution_count": 120,
   "id": "d2c93339",
   "metadata": {},
   "outputs": [],
   "source": [
    "d3={'company':'deloitte', 'skills':['python','sql','AI','ML','Java']}"
   ]
  },
  {
   "cell_type": "code",
   "execution_count": 122,
   "id": "764baadc",
   "metadata": {},
   "outputs": [
    {
     "data": {
      "text/plain": [
       "{'name': 'prateek',\n",
       " 'training': 'python',\n",
       " 'company': 'deloitte',\n",
       " 'skills': ['python', 'sql', 'AI', 'ML', 'Java']}"
      ]
     },
     "execution_count": 122,
     "metadata": {},
     "output_type": "execute_result"
    }
   ],
   "source": [
    "# update\n",
    "\n",
    "d.update(d3)\n",
    "d"
   ]
  },
  {
   "cell_type": "code",
   "execution_count": 123,
   "id": "e3c9c949",
   "metadata": {},
   "outputs": [
    {
     "data": {
      "text/plain": [
       "{'company': 'deloitte', 'skills': ['python', 'sql', 'AI', 'ML', 'Java']}"
      ]
     },
     "execution_count": 123,
     "metadata": {},
     "output_type": "execute_result"
    }
   ],
   "source": [
    "d3"
   ]
  },
  {
   "cell_type": "code",
   "execution_count": 124,
   "id": "ed93c3f7",
   "metadata": {},
   "outputs": [
    {
     "data": {
      "text/plain": [
       "{}"
      ]
     },
     "execution_count": 124,
     "metadata": {},
     "output_type": "execute_result"
    }
   ],
   "source": [
    "d3.clear()\n",
    "d3"
   ]
  },
  {
   "cell_type": "code",
   "execution_count": 126,
   "id": "b41a1990",
   "metadata": {},
   "outputs": [
    {
     "name": "stdout",
     "output_type": "stream",
     "text": [
      "prateek\n"
     ]
    }
   ],
   "source": [
    "print(d['name'])"
   ]
  },
  {
   "cell_type": "code",
   "execution_count": 127,
   "id": "97bbf662",
   "metadata": {},
   "outputs": [
    {
     "name": "stdout",
     "output_type": "stream",
     "text": [
      "prateek\n"
     ]
    }
   ],
   "source": [
    "print(d.get('name'))"
   ]
  },
  {
   "cell_type": "code",
   "execution_count": 128,
   "id": "34b8fcbb",
   "metadata": {},
   "outputs": [
    {
     "data": {
      "text/plain": [
       "{'name': 'prateek',\n",
       " 'training': 'python',\n",
       " 'company': 'deloitte',\n",
       " 'skills': ['python', 'sql', 'AI', 'ML', 'Java'],\n",
       " 'surname': 'deloitted'}"
      ]
     },
     "execution_count": 128,
     "metadata": {},
     "output_type": "execute_result"
    }
   ],
   "source": [
    "# setdefdault(key, def_val)\n",
    "\n",
    "d.setdefault('surname', 'deloitted')\n",
    "d"
   ]
  },
  {
   "cell_type": "code",
   "execution_count": 130,
   "id": "c81f949b",
   "metadata": {},
   "outputs": [
    {
     "data": {
      "text/plain": [
       "'prateek'"
      ]
     },
     "execution_count": 130,
     "metadata": {},
     "output_type": "execute_result"
    }
   ],
   "source": [
    "d.setdefault('name', 'employee')"
   ]
  },
  {
   "cell_type": "markdown",
   "id": "b1cb11f0",
   "metadata": {},
   "source": [
    "## Sets"
   ]
  },
  {
   "cell_type": "code",
   "execution_count": 131,
   "id": "a81d75b2",
   "metadata": {},
   "outputs": [],
   "source": [
    "s=set()"
   ]
  },
  {
   "cell_type": "code",
   "execution_count": 132,
   "id": "3c674b24",
   "metadata": {},
   "outputs": [],
   "source": [
    "s={}"
   ]
  },
  {
   "cell_type": "code",
   "execution_count": 133,
   "id": "7c34b570",
   "metadata": {},
   "outputs": [],
   "source": [
    "s={'first','second','third'}"
   ]
  },
  {
   "cell_type": "code",
   "execution_count": 134,
   "id": "62b8fb1a",
   "metadata": {},
   "outputs": [
    {
     "data": {
      "text/plain": [
       "{'first', 'second', 'third'}"
      ]
     },
     "execution_count": 134,
     "metadata": {},
     "output_type": "execute_result"
    }
   ],
   "source": [
    "s"
   ]
  },
  {
   "cell_type": "code",
   "execution_count": 135,
   "id": "f8706e67",
   "metadata": {},
   "outputs": [
    {
     "data": {
      "text/plain": [
       "{1, 2, 3, 4, 5, 6, 7}"
      ]
     },
     "execution_count": 135,
     "metadata": {},
     "output_type": "execute_result"
    }
   ],
   "source": [
    "t=(1,2,3,4,5,6,7)\n",
    "s=set(t)\n",
    "s"
   ]
  },
  {
   "cell_type": "code",
   "execution_count": 136,
   "id": "535c1073",
   "metadata": {},
   "outputs": [
    {
     "data": {
      "text/plain": [
       "{10, 20, 30, 40, 50}"
      ]
     },
     "execution_count": 136,
     "metadata": {},
     "output_type": "execute_result"
    }
   ],
   "source": [
    "li=[10,20,30,40,50]\n",
    "s=set(li)\n",
    "s"
   ]
  },
  {
   "cell_type": "code",
   "execution_count": 137,
   "id": "b9e81f9b",
   "metadata": {},
   "outputs": [
    {
     "data": {
      "text/plain": [
       "{'a', 'b', 'c'}"
      ]
     },
     "execution_count": 137,
     "metadata": {},
     "output_type": "execute_result"
    }
   ],
   "source": [
    "s=set(('a','b','c'))\n",
    "s"
   ]
  },
  {
   "cell_type": "code",
   "execution_count": 140,
   "id": "956bdbde",
   "metadata": {},
   "outputs": [
    {
     "data": {
      "text/plain": [
       "{0, 1, 2, 3, 4, 5, 6, 7, 8, 9}"
      ]
     },
     "execution_count": 140,
     "metadata": {},
     "output_type": "execute_result"
    }
   ],
   "source": [
    "li=[1,2,4,2,1,6,7,5,6,6,4,2,1,1,2,4,6,7,2,1,3,4,4,5,7,8,9,0,9,8,5,1,2,5,4,2,1]\n",
    "s=set(li)\n",
    "s"
   ]
  },
  {
   "cell_type": "code",
   "execution_count": 139,
   "id": "e631364c",
   "metadata": {},
   "outputs": [],
   "source": [
    "# write a code that prints frequncy of occurence for distinct list values"
   ]
  },
  {
   "cell_type": "code",
   "execution_count": 141,
   "id": "b687630f",
   "metadata": {},
   "outputs": [
    {
     "name": "stdout",
     "output_type": "stream",
     "text": [
      "0 => 1\n",
      "1 => 7\n",
      "2 => 7\n",
      "3 => 1\n",
      "4 => 6\n",
      "5 => 4\n",
      "6 => 4\n",
      "7 => 3\n",
      "8 => 2\n",
      "9 => 2\n"
     ]
    }
   ],
   "source": [
    "li=[1,2,4,2,1,6,7,5,6,6,4,2,1,1,2,4,6,7,2,1,3,4,4,5,7,8,9,0,9,8,5,1,2,5,4,2,1]\n",
    "s=set(li)\n",
    "\n",
    "for item in s:\n",
    "    print(item, '=>', li.count(item))"
   ]
  },
  {
   "cell_type": "code",
   "execution_count": 142,
   "id": "b679194c",
   "metadata": {},
   "outputs": [
    {
     "data": {
      "text/plain": [
       "{10, 20, 30, 40}"
      ]
     },
     "execution_count": 142,
     "metadata": {},
     "output_type": "execute_result"
    }
   ],
   "source": [
    "s=set((10,20,30,40))\n",
    "s"
   ]
  },
  {
   "cell_type": "code",
   "execution_count": 143,
   "id": "471e5389",
   "metadata": {},
   "outputs": [
    {
     "data": {
      "text/plain": [
       "{10, 20, 30, 40, 60}"
      ]
     },
     "execution_count": 143,
     "metadata": {},
     "output_type": "execute_result"
    }
   ],
   "source": [
    "# add\n",
    "s.add(60)\n",
    "s"
   ]
  },
  {
   "cell_type": "code",
   "execution_count": 144,
   "id": "6f64e83b",
   "metadata": {},
   "outputs": [
    {
     "data": {
      "text/plain": [
       "5"
      ]
     },
     "execution_count": 144,
     "metadata": {},
     "output_type": "execute_result"
    }
   ],
   "source": [
    "len(s)"
   ]
  },
  {
   "cell_type": "code",
   "execution_count": 145,
   "id": "560441a0",
   "metadata": {},
   "outputs": [
    {
     "data": {
      "text/plain": [
       "{10, 20, 40, 60}"
      ]
     },
     "execution_count": 145,
     "metadata": {},
     "output_type": "execute_result"
    }
   ],
   "source": [
    "s.remove(30)\n",
    "s"
   ]
  },
  {
   "cell_type": "code",
   "execution_count": 146,
   "id": "9fcd5c61",
   "metadata": {},
   "outputs": [
    {
     "data": {
      "text/plain": [
       "40"
      ]
     },
     "execution_count": 146,
     "metadata": {},
     "output_type": "execute_result"
    }
   ],
   "source": [
    "s.pop()"
   ]
  },
  {
   "cell_type": "code",
   "execution_count": 147,
   "id": "1de90967",
   "metadata": {},
   "outputs": [
    {
     "data": {
      "text/plain": [
       "{10, 20, 60}"
      ]
     },
     "execution_count": 147,
     "metadata": {},
     "output_type": "execute_result"
    }
   ],
   "source": [
    "s"
   ]
  },
  {
   "cell_type": "code",
   "execution_count": 148,
   "id": "0ce6757e",
   "metadata": {},
   "outputs": [
    {
     "data": {
      "text/plain": [
       "{1, 2, 3, 4, 5, 100, 200, 300}"
      ]
     },
     "execution_count": 148,
     "metadata": {},
     "output_type": "execute_result"
    }
   ],
   "source": [
    "# update\n",
    "\n",
    "s={1,2,3,4,5}\n",
    "s2={100,200,300}\n",
    "\n",
    "s.update(s2)\n",
    "s"
   ]
  },
  {
   "cell_type": "code",
   "execution_count": 149,
   "id": "dc19a6ef",
   "metadata": {},
   "outputs": [],
   "source": [
    "# discard vs remove\n",
    "\n",
    "s.remove(5)"
   ]
  },
  {
   "cell_type": "code",
   "execution_count": 150,
   "id": "74a85e6d",
   "metadata": {},
   "outputs": [
    {
     "data": {
      "text/plain": [
       "{1, 2, 3, 4, 100, 200, 300}"
      ]
     },
     "execution_count": 150,
     "metadata": {},
     "output_type": "execute_result"
    }
   ],
   "source": [
    "s"
   ]
  },
  {
   "cell_type": "code",
   "execution_count": 151,
   "id": "5dda67a5",
   "metadata": {},
   "outputs": [
    {
     "ename": "KeyError",
     "evalue": "34",
     "output_type": "error",
     "traceback": [
      "\u001b[1;31m---------------------------------------------------------------------------\u001b[0m",
      "\u001b[1;31mKeyError\u001b[0m                                  Traceback (most recent call last)",
      "Input \u001b[1;32mIn [151]\u001b[0m, in \u001b[0;36m<cell line: 1>\u001b[1;34m()\u001b[0m\n\u001b[1;32m----> 1\u001b[0m \u001b[43ms\u001b[49m\u001b[38;5;241;43m.\u001b[39;49m\u001b[43mremove\u001b[49m\u001b[43m(\u001b[49m\u001b[38;5;241;43m34\u001b[39;49m\u001b[43m)\u001b[49m\n",
      "\u001b[1;31mKeyError\u001b[0m: 34"
     ]
    }
   ],
   "source": [
    "s.remove(34)"
   ]
  },
  {
   "cell_type": "code",
   "execution_count": 152,
   "id": "7d8cdd90",
   "metadata": {},
   "outputs": [],
   "source": [
    "s.discard(34)"
   ]
  },
  {
   "cell_type": "code",
   "execution_count": 153,
   "id": "d9d2e9a8",
   "metadata": {},
   "outputs": [
    {
     "data": {
      "text/plain": [
       "{1, 2, 3, 4, 200, 300}"
      ]
     },
     "execution_count": 153,
     "metadata": {},
     "output_type": "execute_result"
    }
   ],
   "source": [
    "s.discard(100)\n",
    "\n",
    "s"
   ]
  },
  {
   "cell_type": "code",
   "execution_count": 154,
   "id": "3560f2f6",
   "metadata": {},
   "outputs": [
    {
     "data": {
      "text/plain": [
       "set()"
      ]
     },
     "execution_count": 154,
     "metadata": {},
     "output_type": "execute_result"
    }
   ],
   "source": [
    "s.clear()\n",
    "s"
   ]
  },
  {
   "cell_type": "markdown",
   "id": "0671fe6f",
   "metadata": {},
   "source": [
    "### Set Operations"
   ]
  },
  {
   "cell_type": "code",
   "execution_count": 155,
   "id": "893f69a4",
   "metadata": {},
   "outputs": [],
   "source": [
    "s1={1,2,3,4,5}\n",
    "s2={1,3,5,7,9}"
   ]
  },
  {
   "cell_type": "code",
   "execution_count": 156,
   "id": "a08e8157",
   "metadata": {},
   "outputs": [
    {
     "data": {
      "text/plain": [
       "{1, 2, 3, 4, 5, 7, 9}"
      ]
     },
     "execution_count": 156,
     "metadata": {},
     "output_type": "execute_result"
    }
   ],
   "source": [
    "s1.union(s2)"
   ]
  },
  {
   "cell_type": "code",
   "execution_count": 157,
   "id": "add0d40e",
   "metadata": {},
   "outputs": [
    {
     "data": {
      "text/plain": [
       "{1, 3, 5}"
      ]
     },
     "execution_count": 157,
     "metadata": {},
     "output_type": "execute_result"
    }
   ],
   "source": [
    "s1.intersection(s2)"
   ]
  },
  {
   "cell_type": "code",
   "execution_count": 162,
   "id": "73e53f32",
   "metadata": {},
   "outputs": [
    {
     "data": {
      "text/plain": [
       "{2, 4}"
      ]
     },
     "execution_count": 162,
     "metadata": {},
     "output_type": "execute_result"
    }
   ],
   "source": [
    "s1.difference(s2)"
   ]
  },
  {
   "cell_type": "code",
   "execution_count": 163,
   "id": "8046bf93",
   "metadata": {},
   "outputs": [
    {
     "data": {
      "text/plain": [
       "{2, 4, 7, 9}"
      ]
     },
     "execution_count": 163,
     "metadata": {},
     "output_type": "execute_result"
    }
   ],
   "source": [
    "s1.symmetric_difference(s2)"
   ]
  },
  {
   "cell_type": "code",
   "execution_count": 164,
   "id": "9ce32f8a",
   "metadata": {},
   "outputs": [],
   "source": [
    "# write code to create a dictionary with keys copied form another dictionary\n",
    "##"
   ]
  },
  {
   "cell_type": "code",
   "execution_count": 166,
   "id": "2fa76096",
   "metadata": {},
   "outputs": [
    {
     "data": {
      "text/plain": [
       "{'a': 0, 'b': 0, 'c': 0, 'd': 0}"
      ]
     },
     "execution_count": 166,
     "metadata": {},
     "output_type": "execute_result"
    }
   ],
   "source": [
    "temp={'a':'one','b':'two','c':'three','d':'four'}\n",
    "new_dict={}\n",
    "new_dict=new_dict.fromkeys(temp.keys(), 0)\n",
    "new_dict"
   ]
  },
  {
   "cell_type": "code",
   "execution_count": 167,
   "id": "3260bba3",
   "metadata": {},
   "outputs": [
    {
     "name": "stdout",
     "output_type": "stream",
     "text": [
      "hi\n",
      "hello\n",
      "welcome\n",
      "bye\n",
      "{'a': 'hi', 'b': 'hello', 'c': 'welcome', 'd': 'bye'}\n"
     ]
    }
   ],
   "source": [
    "temp={'a':'one','b':'two','c':'three','d':'four'}\n",
    "new_dict={}\n",
    "for key in temp.keys():\n",
    "    new_dict[key]=input()\n",
    "print(new_dict)"
   ]
  },
  {
   "cell_type": "code",
   "execution_count": 169,
   "id": "16c844df",
   "metadata": {},
   "outputs": [],
   "source": [
    "# write a code to create dictionary from two list\n",
    "## Hint: Use first list for keys and second list for values"
   ]
  },
  {
   "cell_type": "code",
   "execution_count": 168,
   "id": "92cf8ad2",
   "metadata": {},
   "outputs": [
    {
     "name": "stdout",
     "output_type": "stream",
     "text": [
      "{'a': 'A', 'b': 'B', 'c': 'C', 'd': 'D'}\n"
     ]
    }
   ],
   "source": [
    "temp={'a':'one','b':'two','c':'three','d':'four'}\n",
    "temp2={1:'A', 2:'B', 3:'C', 4:'D'}\n",
    "new_dict={}\n",
    "for key, val in zip(temp.keys(), temp2.values()):\n",
    "    new_dict[key]=val\n",
    "print(new_dict)"
   ]
  },
  {
   "cell_type": "code",
   "execution_count": 19,
   "id": "4f93e855",
   "metadata": {},
   "outputs": [
    {
     "name": "stdout",
     "output_type": "stream",
     "text": [
      "Spaces  6\n",
      "Wrods  7\n",
      "Other Characters  2\n"
     ]
    }
   ],
   "source": [
    "s='hello, are you enjoying the weather today?'\n",
    "space=s.count(' ')\n",
    "words=len(s.split())\n",
    "oc=0\n",
    "upper_alpha=[n for n in range(65,91)]\n",
    "lower_alpha=[n for n in range(97,123)]\n",
    "for ch in s:\n",
    "    if ord(ch) in upper_alpha or ord(ch) in lower_alpha:\n",
    "        pass\n",
    "    else:\n",
    "        oc+=1\n",
    "print('Spaces ', space)\n",
    "print('Wrods ', words)\n",
    "print('Other Characters ',oc-space)"
   ]
  },
  {
   "cell_type": "code",
   "execution_count": null,
   "id": "8c57e496",
   "metadata": {},
   "outputs": [],
   "source": []
  },
  {
   "cell_type": "code",
   "execution_count": null,
   "id": "c96af7ac",
   "metadata": {},
   "outputs": [],
   "source": []
  },
  {
   "cell_type": "code",
   "execution_count": null,
   "id": "7732a981",
   "metadata": {},
   "outputs": [],
   "source": []
  },
  {
   "cell_type": "code",
   "execution_count": null,
   "id": "332e7b46",
   "metadata": {},
   "outputs": [],
   "source": []
  },
  {
   "cell_type": "code",
   "execution_count": null,
   "id": "a079aa5c",
   "metadata": {},
   "outputs": [],
   "source": []
  },
  {
   "cell_type": "code",
   "execution_count": null,
   "id": "85270734",
   "metadata": {},
   "outputs": [],
   "source": []
  },
  {
   "cell_type": "code",
   "execution_count": null,
   "id": "4acd5219",
   "metadata": {},
   "outputs": [],
   "source": []
  },
  {
   "cell_type": "code",
   "execution_count": null,
   "id": "360a6927",
   "metadata": {},
   "outputs": [],
   "source": []
  },
  {
   "cell_type": "code",
   "execution_count": null,
   "id": "cb5fc924",
   "metadata": {},
   "outputs": [],
   "source": []
  },
  {
   "cell_type": "code",
   "execution_count": null,
   "id": "13f0675a",
   "metadata": {},
   "outputs": [],
   "source": []
  },
  {
   "cell_type": "code",
   "execution_count": null,
   "id": "89f89460",
   "metadata": {},
   "outputs": [],
   "source": []
  },
  {
   "cell_type": "code",
   "execution_count": null,
   "id": "c09620ab",
   "metadata": {},
   "outputs": [],
   "source": []
  },
  {
   "cell_type": "code",
   "execution_count": null,
   "id": "f0000dc5",
   "metadata": {},
   "outputs": [],
   "source": []
  },
  {
   "cell_type": "code",
   "execution_count": null,
   "id": "eac1d5d8",
   "metadata": {},
   "outputs": [],
   "source": []
  },
  {
   "cell_type": "code",
   "execution_count": null,
   "id": "ddd68b1a",
   "metadata": {},
   "outputs": [],
   "source": []
  },
  {
   "cell_type": "code",
   "execution_count": null,
   "id": "2a257c37",
   "metadata": {},
   "outputs": [],
   "source": []
  },
  {
   "cell_type": "code",
   "execution_count": null,
   "id": "c8ea3f4a",
   "metadata": {},
   "outputs": [],
   "source": []
  },
  {
   "cell_type": "code",
   "execution_count": null,
   "id": "539a9836",
   "metadata": {},
   "outputs": [],
   "source": []
  },
  {
   "cell_type": "code",
   "execution_count": null,
   "id": "6ce16ee5",
   "metadata": {},
   "outputs": [],
   "source": []
  },
  {
   "cell_type": "code",
   "execution_count": null,
   "id": "644279b5",
   "metadata": {},
   "outputs": [],
   "source": []
  }
 ],
 "metadata": {
  "kernelspec": {
   "display_name": "Python 3 (ipykernel)",
   "language": "python",
   "name": "python3"
  },
  "language_info": {
   "codemirror_mode": {
    "name": "ipython",
    "version": 3
   },
   "file_extension": ".py",
   "mimetype": "text/x-python",
   "name": "python",
   "nbconvert_exporter": "python",
   "pygments_lexer": "ipython3",
   "version": "3.9.12"
  }
 },
 "nbformat": 4,
 "nbformat_minor": 5
}
