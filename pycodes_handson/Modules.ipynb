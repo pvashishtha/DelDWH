{
 "cells": [
  {
   "cell_type": "markdown",
   "id": "5841c976",
   "metadata": {},
   "source": [
    "### Modules"
   ]
  },
  {
   "cell_type": "code",
   "execution_count": 1,
   "id": "daa38eff",
   "metadata": {},
   "outputs": [],
   "source": [
    "# Math Module\n",
    "\n",
    "import math"
   ]
  },
  {
   "cell_type": "code",
   "execution_count": 3,
   "id": "d7054621",
   "metadata": {},
   "outputs": [
    {
     "name": "stdout",
     "output_type": "stream",
     "text": [
      "['__name__', '__doc__', '__package__', '__loader__', '__spec__', 'acos', 'acosh', 'asin', 'asinh', 'atan', 'atan2', 'atanh', 'ceil', 'copysign', 'cos', 'cosh', 'degrees', 'dist', 'erf', 'erfc', 'exp', 'expm1', 'fabs', 'factorial', 'floor', 'fmod', 'frexp', 'fsum', 'gamma', 'gcd', 'hypot', 'isclose', 'isfinite', 'isinf', 'isnan', 'isqrt', 'lcm', 'ldexp', 'lgamma', 'log', 'log1p', 'log10', 'log2', 'modf', 'pow', 'radians', 'remainder', 'sin', 'sinh', 'sqrt', 'tan', 'tanh', 'trunc', 'prod', 'perm', 'comb', 'nextafter', 'ulp', 'pi', 'e', 'tau', 'inf', 'nan']\n"
     ]
    }
   ],
   "source": [
    "print(math.__dir__())"
   ]
  },
  {
   "cell_type": "code",
   "execution_count": 4,
   "id": "a9927cb3",
   "metadata": {},
   "outputs": [
    {
     "data": {
      "text/plain": [
       "26.038433132583073"
      ]
     },
     "execution_count": 4,
     "metadata": {},
     "output_type": "execute_result"
    }
   ],
   "source": [
    "math.sqrt(678)"
   ]
  },
  {
   "cell_type": "code",
   "execution_count": 7,
   "id": "3ffb11a4",
   "metadata": {},
   "outputs": [
    {
     "data": {
      "text/plain": [
       "583461742527454.9"
      ]
     },
     "execution_count": 7,
     "metadata": {},
     "output_type": "execute_result"
    }
   ],
   "source": [
    "math.exp(34)"
   ]
  },
  {
   "cell_type": "code",
   "execution_count": 10,
   "id": "bc70cebd",
   "metadata": {},
   "outputs": [
    {
     "data": {
      "text/plain": [
       "0.7071067811865476"
      ]
     },
     "execution_count": 10,
     "metadata": {},
     "output_type": "execute_result"
    }
   ],
   "source": [
    "math.sin(math.radians(45))"
   ]
  },
  {
   "cell_type": "code",
   "execution_count": 11,
   "id": "6e6a65ad",
   "metadata": {},
   "outputs": [
    {
     "data": {
      "text/plain": [
       "3.141592653589793"
      ]
     },
     "execution_count": 11,
     "metadata": {},
     "output_type": "execute_result"
    }
   ],
   "source": [
    "math.pi"
   ]
  },
  {
   "cell_type": "code",
   "execution_count": 12,
   "id": "ddd92d35",
   "metadata": {},
   "outputs": [
    {
     "data": {
      "text/plain": [
       "2.718281828459045"
      ]
     },
     "execution_count": 12,
     "metadata": {},
     "output_type": "execute_result"
    }
   ],
   "source": [
    "math.e"
   ]
  },
  {
   "cell_type": "code",
   "execution_count": 13,
   "id": "92763809",
   "metadata": {},
   "outputs": [
    {
     "data": {
      "text/plain": [
       "inf"
      ]
     },
     "execution_count": 13,
     "metadata": {},
     "output_type": "execute_result"
    }
   ],
   "source": [
    "math.inf"
   ]
  },
  {
   "cell_type": "code",
   "execution_count": 14,
   "id": "d7bea742",
   "metadata": {},
   "outputs": [
    {
     "data": {
      "text/plain": [
       "nan"
      ]
     },
     "execution_count": 14,
     "metadata": {},
     "output_type": "execute_result"
    }
   ],
   "source": [
    "math.nan"
   ]
  },
  {
   "cell_type": "code",
   "execution_count": 16,
   "id": "a634bf44",
   "metadata": {},
   "outputs": [
    {
     "data": {
      "text/plain": [
       "6.708203932499369"
      ]
     },
     "execution_count": 16,
     "metadata": {},
     "output_type": "execute_result"
    }
   ],
   "source": [
    "import math as m\n",
    "m.sqrt(45)\n"
   ]
  },
  {
   "cell_type": "code",
   "execution_count": 17,
   "id": "83d026cb",
   "metadata": {},
   "outputs": [
    {
     "data": {
      "text/plain": [
       "6.708203932499369"
      ]
     },
     "execution_count": 17,
     "metadata": {},
     "output_type": "execute_result"
    }
   ],
   "source": [
    "from math import sqrt\n",
    "sqrt(45)"
   ]
  },
  {
   "cell_type": "code",
   "execution_count": 18,
   "id": "f64f341f",
   "metadata": {},
   "outputs": [
    {
     "data": {
      "text/plain": [
       "6.708203932499369"
      ]
     },
     "execution_count": 18,
     "metadata": {},
     "output_type": "execute_result"
    }
   ],
   "source": [
    "from math import sqrt as sq\n",
    "sq(45)"
   ]
  },
  {
   "cell_type": "code",
   "execution_count": 21,
   "id": "c6a4972b",
   "metadata": {},
   "outputs": [
    {
     "name": "stdout",
     "output_type": "stream",
     "text": [
      "6.708203932499369\n",
      "45\n",
      "46\n"
     ]
    }
   ],
   "source": [
    "from math import sqrt, floor, ceil\n",
    "print(sqrt(45))\n",
    "print(floor(45.78))\n",
    "print(ceil(45.18))"
   ]
  },
  {
   "cell_type": "code",
   "execution_count": 22,
   "id": "66ce0ce5",
   "metadata": {},
   "outputs": [
    {
     "data": {
      "text/plain": [
       "1.6197751905438615"
      ]
     },
     "execution_count": 22,
     "metadata": {},
     "output_type": "execute_result"
    }
   ],
   "source": [
    "from math import *\n",
    "tan(45)"
   ]
  },
  {
   "cell_type": "markdown",
   "id": "01a2148a",
   "metadata": {},
   "source": [
    "#### OS Module"
   ]
  },
  {
   "cell_type": "code",
   "execution_count": 23,
   "id": "f8c62f0c",
   "metadata": {},
   "outputs": [
    {
     "name": "stdout",
     "output_type": "stream",
     "text": [
      "C:\\Users\\pvashishtha\\Desktop\n"
     ]
    }
   ],
   "source": [
    "import os\n",
    "\n",
    "print(os.getcwd())"
   ]
  },
  {
   "cell_type": "code",
   "execution_count": 24,
   "id": "ff9a75a1",
   "metadata": {},
   "outputs": [],
   "source": [
    "#os.chdir()\n",
    "#os.mkdir()\n",
    "#os.makedirs()\n",
    "\n",
    "directory='deloitte_python'\n",
    "\n",
    "parent=os.getcwd()\n",
    "\n",
    "path=os.path.join(parent,directory)\n",
    "\n",
    "os.mkdir(path)"
   ]
  },
  {
   "cell_type": "code",
   "execution_count": 31,
   "id": "dc5ce517",
   "metadata": {},
   "outputs": [
    {
     "data": {
      "text/plain": [
       "['.ipynb_checkpoints',\n",
       " 'Classes & Objects.ipynb',\n",
       " 'Deloitte Remote Assistance.lnk',\n",
       " 'Deloitte- Tech (Python)',\n",
       " 'desktop.ini',\n",
       " 'FDN_DWH_ETL Fundamentals_Testing_Agile Fundamentals_1wk',\n",
       " 'FDN_Python_2wk',\n",
       " 'FDN_SQL_Adv SQL_1wk',\n",
       " 'Microsoft Teams.lnk',\n",
       " 'Modules.ipynb',\n",
       " 'OneDrive.lnk',\n",
       " 'PV',\n",
       " 'RPMforTalentSnapshotCalendar.pdf',\n",
       " 'Untitled.png']"
      ]
     },
     "execution_count": 31,
     "metadata": {},
     "output_type": "execute_result"
    }
   ],
   "source": [
    "os.listdir(parent)"
   ]
  },
  {
   "cell_type": "code",
   "execution_count": 27,
   "id": "07d848fa",
   "metadata": {},
   "outputs": [],
   "source": [
    "os.rmdir(directory) #remove dir"
   ]
  },
  {
   "cell_type": "code",
   "execution_count": 30,
   "id": "4acfeb06",
   "metadata": {},
   "outputs": [],
   "source": [
    "os.remove('temp.png') #remove file"
   ]
  },
  {
   "cell_type": "code",
   "execution_count": 32,
   "id": "52efe088",
   "metadata": {},
   "outputs": [
    {
     "name": "stdout",
     "output_type": "stream",
     "text": [
      "nt\n"
     ]
    }
   ],
   "source": [
    "print(os.name)"
   ]
  },
  {
   "cell_type": "code",
   "execution_count": 34,
   "id": "57bd0e35",
   "metadata": {},
   "outputs": [
    {
     "data": {
      "text/plain": [
       "False"
      ]
     },
     "execution_count": 34,
     "metadata": {},
     "output_type": "execute_result"
    }
   ],
   "source": [
    "os.path.exists(path)"
   ]
  },
  {
   "cell_type": "code",
   "execution_count": 36,
   "id": "b2759225",
   "metadata": {
    "collapsed": true
   },
   "outputs": [
    {
     "ename": "FileNotFoundError",
     "evalue": "[WinError 2] The system cannot find the file specified: 'untitled.png' -> 'meeting_link.png'",
     "output_type": "error",
     "traceback": [
      "\u001b[1;31m---------------------------------------------------------------------------\u001b[0m",
      "\u001b[1;31mFileNotFoundError\u001b[0m                         Traceback (most recent call last)",
      "Input \u001b[1;32mIn [36]\u001b[0m, in \u001b[0;36m<cell line: 1>\u001b[1;34m()\u001b[0m\n\u001b[1;32m----> 1\u001b[0m \u001b[43mos\u001b[49m\u001b[38;5;241;43m.\u001b[39;49m\u001b[43mrename\u001b[49m\u001b[43m(\u001b[49m\u001b[38;5;124;43m'\u001b[39;49m\u001b[38;5;124;43muntitled.png\u001b[39;49m\u001b[38;5;124;43m'\u001b[39;49m\u001b[43m,\u001b[49m\u001b[43m \u001b[49m\u001b[38;5;124;43m'\u001b[39;49m\u001b[38;5;124;43mmeeting_link.png\u001b[39;49m\u001b[38;5;124;43m'\u001b[39;49m\u001b[43m)\u001b[49m\n",
      "\u001b[1;31mFileNotFoundError\u001b[0m: [WinError 2] The system cannot find the file specified: 'untitled.png' -> 'meeting_link.png'"
     ]
    }
   ],
   "source": [
    "os.rename('untitled.png', 'meeting_link.png')"
   ]
  },
  {
   "cell_type": "code",
   "execution_count": 37,
   "id": "703f914d",
   "metadata": {},
   "outputs": [],
   "source": [
    "# datetime\n",
    "\n",
    "import datetime\n"
   ]
  },
  {
   "cell_type": "code",
   "execution_count": 39,
   "id": "7fdc268a",
   "metadata": {},
   "outputs": [
    {
     "name": "stdout",
     "output_type": "stream",
     "text": [
      "2022-11-02 18:39:10.499777\n"
     ]
    }
   ],
   "source": [
    "print(datetime.datetime.now())"
   ]
  },
  {
   "cell_type": "code",
   "execution_count": 48,
   "id": "5101aa30",
   "metadata": {},
   "outputs": [
    {
     "data": {
      "text/plain": [
       "'2022-11-02'"
      ]
     },
     "execution_count": 48,
     "metadata": {},
     "output_type": "execute_result"
    }
   ],
   "source": [
    "dt=str(datetime.date.today())\n",
    "dt"
   ]
  },
  {
   "cell_type": "code",
   "execution_count": 49,
   "id": "dc271e5c",
   "metadata": {},
   "outputs": [],
   "source": [
    "dt=dt.split('-')\n"
   ]
  },
  {
   "cell_type": "code",
   "execution_count": 50,
   "id": "bbef7a4e",
   "metadata": {},
   "outputs": [
    {
     "name": "stdout",
     "output_type": "stream",
     "text": [
      "2\n"
     ]
    }
   ],
   "source": [
    "print(int(dt[2]))\n"
   ]
  },
  {
   "cell_type": "code",
   "execution_count": 51,
   "id": "3fea349e",
   "metadata": {},
   "outputs": [
    {
     "name": "stdout",
     "output_type": "stream",
     "text": [
      "2022\n"
     ]
    }
   ],
   "source": [
    "dt=datetime.date.today()\n",
    "print(dt.year)"
   ]
  },
  {
   "cell_type": "code",
   "execution_count": 52,
   "id": "7b26834f",
   "metadata": {},
   "outputs": [
    {
     "name": "stdout",
     "output_type": "stream",
     "text": [
      "11\n"
     ]
    }
   ],
   "source": [
    "print(dt.month)"
   ]
  },
  {
   "cell_type": "code",
   "execution_count": 53,
   "id": "60457e20",
   "metadata": {},
   "outputs": [
    {
     "name": "stdout",
     "output_type": "stream",
     "text": [
      "2\n"
     ]
    }
   ],
   "source": [
    "print(dt.day)"
   ]
  },
  {
   "cell_type": "code",
   "execution_count": null,
   "id": "2ed34f3e",
   "metadata": {},
   "outputs": [],
   "source": []
  }
 ],
 "metadata": {
  "kernelspec": {
   "display_name": "Python 3 (ipykernel)",
   "language": "python",
   "name": "python3"
  },
  "language_info": {
   "codemirror_mode": {
    "name": "ipython",
    "version": 3
   },
   "file_extension": ".py",
   "mimetype": "text/x-python",
   "name": "python",
   "nbconvert_exporter": "python",
   "pygments_lexer": "ipython3",
   "version": "3.9.12"
  }
 },
 "nbformat": 4,
 "nbformat_minor": 5
}
