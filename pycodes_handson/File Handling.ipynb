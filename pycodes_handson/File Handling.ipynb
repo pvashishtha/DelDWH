{
 "cells": [
  {
   "cell_type": "markdown",
   "id": "f22c3301",
   "metadata": {},
   "source": [
    "## File Handling"
   ]
  },
  {
   "cell_type": "code",
   "execution_count": 1,
   "id": "549d528e",
   "metadata": {},
   "outputs": [],
   "source": [
    "# text file\n",
    "# binary file\n",
    "\n",
    "# OPEN-IOCTL-CLOSE\n",
    "\n",
    "# OPENING- through file handle"
   ]
  },
  {
   "cell_type": "code",
   "execution_count": 37,
   "id": "0d585d4e",
   "metadata": {},
   "outputs": [],
   "source": [
    "# OPEN\n",
    "# Read-r, r+, begin\n",
    "# Write- w, w+, begin\n",
    "# Append- a, a+, end\n",
    "\n",
    "file=open('myfile.txt','a')"
   ]
  },
  {
   "cell_type": "code",
   "execution_count": 9,
   "id": "9a33e8b0",
   "metadata": {},
   "outputs": [
    {
     "data": {
      "text/plain": [
       "33"
      ]
     },
     "execution_count": 9,
     "metadata": {},
     "output_type": "execute_result"
    }
   ],
   "source": [
    "# WRITE\n",
    "file.write('Welcome to Deloitte\\n How are you?')"
   ]
  },
  {
   "cell_type": "code",
   "execution_count": 20,
   "id": "f57a904a",
   "metadata": {},
   "outputs": [],
   "source": [
    "print('Launchpad','Trainees', sep='#', end='@', file=file, flush=True)"
   ]
  },
  {
   "cell_type": "code",
   "execution_count": 21,
   "id": "a132dc49",
   "metadata": {},
   "outputs": [],
   "source": [
    "print('Welcome to deloitte!', file=file, flush=True)\n",
    "print('Can you feel the difference',file=file, flush=True)"
   ]
  },
  {
   "cell_type": "code",
   "execution_count": 35,
   "id": "53ebd6e2",
   "metadata": {},
   "outputs": [
    {
     "name": "stdout",
     "output_type": "stream",
     "text": [
      "\n"
     ]
    }
   ],
   "source": [
    "# READ\n",
    "data=file.read(10)\n",
    "print(data)"
   ]
  },
  {
   "cell_type": "code",
   "execution_count": 38,
   "id": "1b45b372",
   "metadata": {},
   "outputs": [
    {
     "data": {
      "text/plain": [
       "27"
      ]
     },
     "execution_count": 38,
     "metadata": {},
     "output_type": "execute_result"
    }
   ],
   "source": [
    "# Append\n",
    "\n",
    "file.write('This is new data on append.')"
   ]
  },
  {
   "cell_type": "code",
   "execution_count": 39,
   "id": "58460860",
   "metadata": {},
   "outputs": [],
   "source": [
    "#CLOSE\n",
    "file.close()"
   ]
  },
  {
   "cell_type": "code",
   "execution_count": 41,
   "id": "2694e317",
   "metadata": {},
   "outputs": [
    {
     "name": "stdout",
     "output_type": "stream",
     "text": [
      "Launchpad#Trainees@Welcome to deloitte!\n",
      "\n",
      "Can you feel the difference\n",
      "\n",
      "This is new data on append.\n"
     ]
    }
   ],
   "source": [
    "file=open('myfile.txt','r')\n",
    "print(file.readline())\n",
    "print(file.readline())\n",
    "print(file.readline())\n",
    "file.close()"
   ]
  },
  {
   "cell_type": "code",
   "execution_count": 42,
   "id": "ad76dbe6",
   "metadata": {},
   "outputs": [
    {
     "name": "stdout",
     "output_type": "stream",
     "text": [
      "['Launchpad#Trainees@Welcome to deloitte!\\n', 'Can you feel the difference\\n', 'This is new data on append.']\n"
     ]
    }
   ],
   "source": [
    "file=open('myfile.txt','r')\n",
    "print(file.readlines())\n",
    "file.close()"
   ]
  },
  {
   "cell_type": "code",
   "execution_count": 56,
   "id": "beb23159",
   "metadata": {},
   "outputs": [
    {
     "name": "stdout",
     "output_type": "stream",
     "text": [
      "Launchpad#Trainees@Welcome to deloitte!\n",
      "Can you feel the difference\n",
      "This is new data on append.\n",
      "['Launchpad#Trainees@Welcome to deloitte!', 'Can you feel the difference', 'This is new data on append.']\n",
      "['Launchpad#Trainees@Welcome', 'to', 'deloitte!\\nCan', 'you', 'feel', 'the', 'difference\\nThis', 'is', 'new', 'data', 'on', 'append.']\n",
      "95\n"
     ]
    }
   ],
   "source": [
    "file=open('myfile.txt','r')\n",
    "data=file.read()\n",
    "file.close()\n",
    "\n",
    "print(data)\n",
    "print(data.split('\\n'))\n",
    "print(data.split(' '))\n",
    "print(len(data))"
   ]
  },
  {
   "cell_type": "code",
   "execution_count": 58,
   "id": "c6060679",
   "metadata": {},
   "outputs": [],
   "source": [
    "# binary files\n",
    "\n",
    "# READ- rb, rb+\n",
    "# WRITE- wb, wb+\n",
    "# APPEND- ab, ab+\n",
    "\n",
    "file=open('mypic.jpg', 'rb')\n",
    "data=file.read()\n",
    "file.close()"
   ]
  },
  {
   "cell_type": "code",
   "execution_count": 60,
   "id": "911573fa",
   "metadata": {},
   "outputs": [],
   "source": [
    "# copy file to another\n",
    "file1=open('mypic.jpg', 'rb')\n",
    "file2=open('mynewpic.jpg', 'wb')\n",
    "\n",
    "data=file1.read()\n",
    "file2.write(data)\n",
    "\n",
    "file1.close()\n",
    "file2.close()"
   ]
  },
  {
   "cell_type": "code",
   "execution_count": 63,
   "id": "c18c01ff",
   "metadata": {},
   "outputs": [],
   "source": [
    "with open('myfile.txt','w') as file:\n",
    "    file.write('Hello new data!')"
   ]
  },
  {
   "cell_type": "code",
   "execution_count": null,
   "id": "103b2092",
   "metadata": {},
   "outputs": [],
   "source": []
  }
 ],
 "metadata": {
  "kernelspec": {
   "display_name": "Python 3 (ipykernel)",
   "language": "python",
   "name": "python3"
  },
  "language_info": {
   "codemirror_mode": {
    "name": "ipython",
    "version": 3
   },
   "file_extension": ".py",
   "mimetype": "text/x-python",
   "name": "python",
   "nbconvert_exporter": "python",
   "pygments_lexer": "ipython3",
   "version": "3.9.12"
  }
 },
 "nbformat": 4,
 "nbformat_minor": 5
}
