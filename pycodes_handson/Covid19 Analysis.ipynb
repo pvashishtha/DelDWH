{
 "cells": [
  {
   "cell_type": "markdown",
   "id": "4a0b3793",
   "metadata": {},
   "source": [
    "## Data Analysis using NumPy & Pandas"
   ]
  },
  {
   "cell_type": "code",
   "execution_count": 24,
   "id": "4fc595c3",
   "metadata": {},
   "outputs": [],
   "source": [
    "import numpy as np\n",
    "import pandas as pd\n",
    "import matplotlib.pyplot as plt"
   ]
  },
  {
   "cell_type": "code",
   "execution_count": 25,
   "id": "bf6539a8",
   "metadata": {},
   "outputs": [],
   "source": [
    "df=pd.read_csv('https://raw.githubusercontent.com/pvashishtha/DelDWH/main/covid19.csv')"
   ]
  },
  {
   "cell_type": "code",
   "execution_count": 26,
   "id": "1ca2dbb3",
   "metadata": {},
   "outputs": [
    {
     "data": {
      "text/html": [
       "<div>\n",
       "<style scoped>\n",
       "    .dataframe tbody tr th:only-of-type {\n",
       "        vertical-align: middle;\n",
       "    }\n",
       "\n",
       "    .dataframe tbody tr th {\n",
       "        vertical-align: top;\n",
       "    }\n",
       "\n",
       "    .dataframe thead th {\n",
       "        text-align: right;\n",
       "    }\n",
       "</style>\n",
       "<table border=\"1\" class=\"dataframe\">\n",
       "  <thead>\n",
       "    <tr style=\"text-align: right;\">\n",
       "      <th></th>\n",
       "      <th>Country/Region</th>\n",
       "      <th>Province/State</th>\n",
       "      <th>Confirmed</th>\n",
       "      <th>Recovered</th>\n",
       "      <th>Deaths</th>\n",
       "      <th>Date</th>\n",
       "    </tr>\n",
       "  </thead>\n",
       "  <tbody>\n",
       "    <tr>\n",
       "      <th>0</th>\n",
       "      <td>India</td>\n",
       "      <td>Andaman and Nicobar Islands</td>\n",
       "      <td>33</td>\n",
       "      <td>33</td>\n",
       "      <td>0</td>\n",
       "      <td>6/10/2020</td>\n",
       "    </tr>\n",
       "    <tr>\n",
       "      <th>1</th>\n",
       "      <td>India</td>\n",
       "      <td>Andhra Pradesh</td>\n",
       "      <td>5070</td>\n",
       "      <td>2802</td>\n",
       "      <td>77</td>\n",
       "      <td>6/10/2020</td>\n",
       "    </tr>\n",
       "    <tr>\n",
       "      <th>2</th>\n",
       "      <td>India</td>\n",
       "      <td>Arunachal Pradesh</td>\n",
       "      <td>57</td>\n",
       "      <td>1</td>\n",
       "      <td>0</td>\n",
       "      <td>6/10/2020</td>\n",
       "    </tr>\n",
       "    <tr>\n",
       "      <th>3</th>\n",
       "      <td>India</td>\n",
       "      <td>Assam</td>\n",
       "      <td>2937</td>\n",
       "      <td>1085</td>\n",
       "      <td>4</td>\n",
       "      <td>6/10/2020</td>\n",
       "    </tr>\n",
       "    <tr>\n",
       "      <th>4</th>\n",
       "      <td>India</td>\n",
       "      <td>Bihar</td>\n",
       "      <td>5459</td>\n",
       "      <td>2864</td>\n",
       "      <td>32</td>\n",
       "      <td>6/10/2020</td>\n",
       "    </tr>\n",
       "  </tbody>\n",
       "</table>\n",
       "</div>"
      ],
      "text/plain": [
       "  Country/Region               Province/State  Confirmed  Recovered  Deaths  \\\n",
       "0          India  Andaman and Nicobar Islands         33         33       0   \n",
       "1          India               Andhra Pradesh       5070       2802      77   \n",
       "2          India            Arunachal Pradesh         57          1       0   \n",
       "3          India                        Assam       2937       1085       4   \n",
       "4          India                        Bihar       5459       2864      32   \n",
       "\n",
       "        Date  \n",
       "0  6/10/2020  \n",
       "1  6/10/2020  \n",
       "2  6/10/2020  \n",
       "3  6/10/2020  \n",
       "4  6/10/2020  "
      ]
     },
     "execution_count": 26,
     "metadata": {},
     "output_type": "execute_result"
    }
   ],
   "source": [
    "df.head()"
   ]
  },
  {
   "cell_type": "code",
   "execution_count": 27,
   "id": "3b38ba75",
   "metadata": {},
   "outputs": [
    {
     "name": "stdout",
     "output_type": "stream",
     "text": [
      "<class 'pandas.core.frame.DataFrame'>\n",
      "RangeIndex: 5761 entries, 0 to 5760\n",
      "Data columns (total 6 columns):\n",
      " #   Column          Non-Null Count  Dtype \n",
      "---  ------          --------------  ----- \n",
      " 0   Country/Region  5761 non-null   object\n",
      " 1   Province/State  5761 non-null   object\n",
      " 2   Confirmed       5761 non-null   int64 \n",
      " 3   Recovered       5761 non-null   int64 \n",
      " 4   Deaths          5761 non-null   int64 \n",
      " 5   Date            5761 non-null   object\n",
      "dtypes: int64(3), object(3)\n",
      "memory usage: 270.2+ KB\n"
     ]
    }
   ],
   "source": [
    "df.info()\n"
   ]
  },
  {
   "cell_type": "code",
   "execution_count": 28,
   "id": "237ea7b7",
   "metadata": {},
   "outputs": [
    {
     "data": {
      "text/plain": [
       "Country/Region    0\n",
       "Province/State    0\n",
       "Confirmed         0\n",
       "Recovered         0\n",
       "Deaths            0\n",
       "Date              0\n",
       "dtype: int64"
      ]
     },
     "execution_count": 28,
     "metadata": {},
     "output_type": "execute_result"
    }
   ],
   "source": [
    "df.isna().sum()"
   ]
  },
  {
   "cell_type": "code",
   "execution_count": 29,
   "id": "0ecbfe89",
   "metadata": {},
   "outputs": [
    {
     "data": {
      "text/html": [
       "<div>\n",
       "<style scoped>\n",
       "    .dataframe tbody tr th:only-of-type {\n",
       "        vertical-align: middle;\n",
       "    }\n",
       "\n",
       "    .dataframe tbody tr th {\n",
       "        vertical-align: top;\n",
       "    }\n",
       "\n",
       "    .dataframe thead th {\n",
       "        text-align: right;\n",
       "    }\n",
       "</style>\n",
       "<table border=\"1\" class=\"dataframe\">\n",
       "  <thead>\n",
       "    <tr style=\"text-align: right;\">\n",
       "      <th></th>\n",
       "      <th>Confirmed</th>\n",
       "      <th>Recovered</th>\n",
       "      <th>Deaths</th>\n",
       "    </tr>\n",
       "  </thead>\n",
       "  <tbody>\n",
       "    <tr>\n",
       "      <th>count</th>\n",
       "      <td>5.761000e+03</td>\n",
       "      <td>5.761000e+03</td>\n",
       "      <td>5761.000000</td>\n",
       "    </tr>\n",
       "    <tr>\n",
       "      <th>mean</th>\n",
       "      <td>1.067698e+05</td>\n",
       "      <td>8.853623e+04</td>\n",
       "      <td>1780.701961</td>\n",
       "    </tr>\n",
       "    <tr>\n",
       "      <th>std</th>\n",
       "      <td>2.168770e+05</td>\n",
       "      <td>1.873636e+05</td>\n",
       "      <td>4900.147192</td>\n",
       "    </tr>\n",
       "    <tr>\n",
       "      <th>min</th>\n",
       "      <td>0.000000e+00</td>\n",
       "      <td>0.000000e+00</td>\n",
       "      <td>0.000000</td>\n",
       "    </tr>\n",
       "    <tr>\n",
       "      <th>25%</th>\n",
       "      <td>3.140000e+03</td>\n",
       "      <td>2.152000e+03</td>\n",
       "      <td>14.000000</td>\n",
       "    </tr>\n",
       "    <tr>\n",
       "      <th>50%</th>\n",
       "      <td>1.852200e+04</td>\n",
       "      <td>1.318600e+04</td>\n",
       "      <td>245.000000</td>\n",
       "    </tr>\n",
       "    <tr>\n",
       "      <th>75%</th>\n",
       "      <td>1.203360e+05</td>\n",
       "      <td>9.323600e+04</td>\n",
       "      <td>1293.000000</td>\n",
       "    </tr>\n",
       "    <tr>\n",
       "      <th>max</th>\n",
       "      <td>1.740461e+06</td>\n",
       "      <td>1.609607e+06</td>\n",
       "      <td>45809.000000</td>\n",
       "    </tr>\n",
       "  </tbody>\n",
       "</table>\n",
       "</div>"
      ],
      "text/plain": [
       "          Confirmed     Recovered        Deaths\n",
       "count  5.761000e+03  5.761000e+03   5761.000000\n",
       "mean   1.067698e+05  8.853623e+04   1780.701961\n",
       "std    2.168770e+05  1.873636e+05   4900.147192\n",
       "min    0.000000e+00  0.000000e+00      0.000000\n",
       "25%    3.140000e+03  2.152000e+03     14.000000\n",
       "50%    1.852200e+04  1.318600e+04    245.000000\n",
       "75%    1.203360e+05  9.323600e+04   1293.000000\n",
       "max    1.740461e+06  1.609607e+06  45809.000000"
      ]
     },
     "execution_count": 29,
     "metadata": {},
     "output_type": "execute_result"
    }
   ],
   "source": [
    "df.describe()"
   ]
  },
  {
   "cell_type": "code",
   "execution_count": 31,
   "id": "427f6b35",
   "metadata": {},
   "outputs": [
    {
     "data": {
      "text/html": [
       "<div>\n",
       "<style scoped>\n",
       "    .dataframe tbody tr th:only-of-type {\n",
       "        vertical-align: middle;\n",
       "    }\n",
       "\n",
       "    .dataframe tbody tr th {\n",
       "        vertical-align: top;\n",
       "    }\n",
       "\n",
       "    .dataframe thead th {\n",
       "        text-align: right;\n",
       "    }\n",
       "</style>\n",
       "<table border=\"1\" class=\"dataframe\">\n",
       "  <thead>\n",
       "    <tr style=\"text-align: right;\">\n",
       "      <th></th>\n",
       "      <th>Confirmed</th>\n",
       "    </tr>\n",
       "    <tr>\n",
       "      <th>Province/State</th>\n",
       "      <th></th>\n",
       "    </tr>\n",
       "  </thead>\n",
       "  <tbody>\n",
       "    <tr>\n",
       "      <th>Andaman and Nicobar Islands</th>\n",
       "      <td>2324.910828</td>\n",
       "    </tr>\n",
       "    <tr>\n",
       "      <th>Andhra Pradesh</th>\n",
       "      <td>401551.573248</td>\n",
       "    </tr>\n",
       "    <tr>\n",
       "      <th>Arunachal Pradesh</th>\n",
       "      <td>5791.872611</td>\n",
       "    </tr>\n",
       "    <tr>\n",
       "      <th>Assam</th>\n",
       "      <td>104240.350318</td>\n",
       "    </tr>\n",
       "    <tr>\n",
       "      <th>Bihar</th>\n",
       "      <td>114546.617834</td>\n",
       "    </tr>\n",
       "    <tr>\n",
       "      <th>Chandigarh</th>\n",
       "      <td>6167.191083</td>\n",
       "    </tr>\n",
       "    <tr>\n",
       "      <th>Chhattisgarh</th>\n",
       "      <td>65479.044586</td>\n",
       "    </tr>\n",
       "    <tr>\n",
       "      <th>Dadar Nagar Haveli</th>\n",
       "      <td>22.000000</td>\n",
       "    </tr>\n",
       "    <tr>\n",
       "      <th>Dadra and Nagar Haveli and Daman and Diu</th>\n",
       "      <td>1932.326923</td>\n",
       "    </tr>\n",
       "    <tr>\n",
       "      <th>Delhi</th>\n",
       "      <td>204967.490446</td>\n",
       "    </tr>\n",
       "    <tr>\n",
       "      <th>Goa</th>\n",
       "      <td>19493.019108</td>\n",
       "    </tr>\n",
       "    <tr>\n",
       "      <th>Gujarat</th>\n",
       "      <td>96438.146497</td>\n",
       "    </tr>\n",
       "    <tr>\n",
       "      <th>Haryana</th>\n",
       "      <td>78788.458599</td>\n",
       "    </tr>\n",
       "    <tr>\n",
       "      <th>Himachal Pradesh</th>\n",
       "      <td>8970.178344</td>\n",
       "    </tr>\n",
       "    <tr>\n",
       "      <th>Jammu and Kashmir</th>\n",
       "      <td>45111.216561</td>\n",
       "    </tr>\n",
       "    <tr>\n",
       "      <th>Jharkhand</th>\n",
       "      <td>45759.388535</td>\n",
       "    </tr>\n",
       "    <tr>\n",
       "      <th>Karnataka</th>\n",
       "      <td>364828.840764</td>\n",
       "    </tr>\n",
       "    <tr>\n",
       "      <th>Kerala</th>\n",
       "      <td>138739.286624</td>\n",
       "    </tr>\n",
       "    <tr>\n",
       "      <th>Ladakh</th>\n",
       "      <td>3008.840764</td>\n",
       "    </tr>\n",
       "    <tr>\n",
       "      <th>Lakshadweep</th>\n",
       "      <td>0.000000</td>\n",
       "    </tr>\n",
       "    <tr>\n",
       "      <th>Madhya Pradesh</th>\n",
       "      <td>78206.337580</td>\n",
       "    </tr>\n",
       "    <tr>\n",
       "      <th>Maharashtra</th>\n",
       "      <td>854702.611465</td>\n",
       "    </tr>\n",
       "    <tr>\n",
       "      <th>Manipur</th>\n",
       "      <td>7533.815287</td>\n",
       "    </tr>\n",
       "    <tr>\n",
       "      <th>Meghalaya</th>\n",
       "      <td>3569.847134</td>\n",
       "    </tr>\n",
       "    <tr>\n",
       "      <th>Mizoram</th>\n",
       "      <td>1215.573248</td>\n",
       "    </tr>\n",
       "    <tr>\n",
       "      <th>Nagaland</th>\n",
       "      <td>4112.598726</td>\n",
       "    </tr>\n",
       "    <tr>\n",
       "      <th>Odisha</th>\n",
       "      <td>123821.318471</td>\n",
       "    </tr>\n",
       "    <tr>\n",
       "      <th>Puducherry</th>\n",
       "      <td>15361.490446</td>\n",
       "    </tr>\n",
       "    <tr>\n",
       "      <th>Punjab</th>\n",
       "      <td>61543.961783</td>\n",
       "    </tr>\n",
       "    <tr>\n",
       "      <th>Rajasthan</th>\n",
       "      <td>90851.834395</td>\n",
       "    </tr>\n",
       "    <tr>\n",
       "      <th>Sikkim</th>\n",
       "      <td>1771.624204</td>\n",
       "    </tr>\n",
       "    <tr>\n",
       "      <th>Tamil Nadu</th>\n",
       "      <td>399579.656051</td>\n",
       "    </tr>\n",
       "    <tr>\n",
       "      <th>Telangana</th>\n",
       "      <td>122850.171975</td>\n",
       "    </tr>\n",
       "    <tr>\n",
       "      <th>Tripura</th>\n",
       "      <td>14395.458599</td>\n",
       "    </tr>\n",
       "    <tr>\n",
       "      <th>Unknown</th>\n",
       "      <td>1487.343949</td>\n",
       "    </tr>\n",
       "    <tr>\n",
       "      <th>Uttar Pradesh</th>\n",
       "      <td>233386.923567</td>\n",
       "    </tr>\n",
       "    <tr>\n",
       "      <th>Uttarakhand</th>\n",
       "      <td>26906.184713</td>\n",
       "    </tr>\n",
       "    <tr>\n",
       "      <th>West Bengal</th>\n",
       "      <td>168417.401274</td>\n",
       "    </tr>\n",
       "  </tbody>\n",
       "</table>\n",
       "</div>"
      ],
      "text/plain": [
       "                                              Confirmed\n",
       "Province/State                                         \n",
       "Andaman and Nicobar Islands                 2324.910828\n",
       "Andhra Pradesh                            401551.573248\n",
       "Arunachal Pradesh                           5791.872611\n",
       "Assam                                     104240.350318\n",
       "Bihar                                     114546.617834\n",
       "Chandigarh                                  6167.191083\n",
       "Chhattisgarh                               65479.044586\n",
       "Dadar Nagar Haveli                            22.000000\n",
       "Dadra and Nagar Haveli and Daman and Diu    1932.326923\n",
       "Delhi                                     204967.490446\n",
       "Goa                                        19493.019108\n",
       "Gujarat                                    96438.146497\n",
       "Haryana                                    78788.458599\n",
       "Himachal Pradesh                            8970.178344\n",
       "Jammu and Kashmir                          45111.216561\n",
       "Jharkhand                                  45759.388535\n",
       "Karnataka                                 364828.840764\n",
       "Kerala                                    138739.286624\n",
       "Ladakh                                      3008.840764\n",
       "Lakshadweep                                    0.000000\n",
       "Madhya Pradesh                             78206.337580\n",
       "Maharashtra                               854702.611465\n",
       "Manipur                                     7533.815287\n",
       "Meghalaya                                   3569.847134\n",
       "Mizoram                                     1215.573248\n",
       "Nagaland                                    4112.598726\n",
       "Odisha                                    123821.318471\n",
       "Puducherry                                 15361.490446\n",
       "Punjab                                     61543.961783\n",
       "Rajasthan                                  90851.834395\n",
       "Sikkim                                      1771.624204\n",
       "Tamil Nadu                                399579.656051\n",
       "Telangana                                 122850.171975\n",
       "Tripura                                    14395.458599\n",
       "Unknown                                     1487.343949\n",
       "Uttar Pradesh                             233386.923567\n",
       "Uttarakhand                                26906.184713\n",
       "West Bengal                               168417.401274"
      ]
     },
     "execution_count": 31,
     "metadata": {},
     "output_type": "execute_result"
    }
   ],
   "source": [
    "pt=df.pivot_table(index=['Province/State'],\n",
    "                 values=['Confirmed'],\n",
    "                 aggfunc='mean')\n",
    "pt"
   ]
  },
  {
   "cell_type": "code",
   "execution_count": 32,
   "id": "8ad968ff",
   "metadata": {},
   "outputs": [
    {
     "data": {
      "text/plain": [
       "164074.88005938593"
      ]
     },
     "execution_count": 32,
     "metadata": {},
     "output_type": "execute_result"
    }
   ],
   "source": [
    "np.std(pt['Confirmed'])"
   ]
  },
  {
   "cell_type": "code",
   "execution_count": 33,
   "id": "31b2bc13",
   "metadata": {},
   "outputs": [
    {
     "data": {
      "text/plain": [
       "26920566266.50188"
      ]
     },
     "execution_count": 33,
     "metadata": {},
     "output_type": "execute_result"
    }
   ],
   "source": [
    "np.var(pt['Confirmed'])"
   ]
  },
  {
   "cell_type": "code",
   "execution_count": 67,
   "id": "2f6d0d1c",
   "metadata": {},
   "outputs": [
    {
     "data": {
      "text/plain": [
       "106769.83093212984"
      ]
     },
     "execution_count": 67,
     "metadata": {},
     "output_type": "execute_result"
    }
   ],
   "source": [
    "np.mean(df['Confirmed'])"
   ]
  },
  {
   "cell_type": "code",
   "execution_count": 38,
   "id": "14e17a0f",
   "metadata": {},
   "outputs": [
    {
     "name": "stdout",
     "output_type": "stream",
     "text": [
      "[0.00000000e+00 2.20000000e+01 1.21557325e+03 1.48734395e+03\n",
      " 1.77162420e+03 1.93232692e+03 2.32491083e+03 3.00884076e+03\n",
      " 3.56984713e+03 4.11259873e+03 5.79187261e+03 6.16719108e+03\n",
      " 7.53381529e+03 8.97017834e+03 1.43954586e+04 1.53614904e+04\n",
      " 1.94930191e+04 2.69061847e+04 4.51112166e+04 4.57593885e+04\n",
      " 6.15439618e+04 6.54790446e+04 7.82063376e+04 7.87884586e+04\n",
      " 9.08518344e+04 9.64381465e+04 1.04240350e+05 1.14546618e+05\n",
      " 1.22850172e+05 1.23821318e+05 1.38739287e+05 1.68417401e+05\n",
      " 2.04967490e+05 2.33386924e+05 3.64828841e+05 3.99579656e+05\n",
      " 4.01551573e+05 8.54702611e+05]\n"
     ]
    }
   ],
   "source": [
    "print(np.sort(pt['Confirmed']))"
   ]
  },
  {
   "cell_type": "code",
   "execution_count": 44,
   "id": "84890e0c",
   "metadata": {
    "scrolled": true
   },
   "outputs": [
    {
     "data": {
      "text/plain": [
       "<AxesSubplot:xlabel='Province/State'>"
      ]
     },
     "execution_count": 44,
     "metadata": {},
     "output_type": "execute_result"
    },
    {
     "data": {
      "image/png": "[encoded data removed]",
      "text/plain": [
       "<Figure size 1080x360 with 1 Axes>"
      ]
     },
     "metadata": {
      "needs_background": "light"
     },
     "output_type": "display_data"
    }
   ],
   "source": [
    "pt.plot.bar(figsize=(15,5))"
   ]
  },
  {
   "cell_type": "code",
   "execution_count": 46,
   "id": "b71019fb",
   "metadata": {},
   "outputs": [],
   "source": [
    "kar=df[df['Province/State']=='Karnataka']"
   ]
  },
  {
   "cell_type": "code",
   "execution_count": 47,
   "id": "169baf57",
   "metadata": {},
   "outputs": [
    {
     "data": {
      "text/html": [
       "<div>\n",
       "<style scoped>\n",
       "    .dataframe tbody tr th:only-of-type {\n",
       "        vertical-align: middle;\n",
       "    }\n",
       "\n",
       "    .dataframe tbody tr th {\n",
       "        vertical-align: top;\n",
       "    }\n",
       "\n",
       "    .dataframe thead th {\n",
       "        text-align: right;\n",
       "    }\n",
       "</style>\n",
       "<table border=\"1\" class=\"dataframe\">\n",
       "  <thead>\n",
       "    <tr style=\"text-align: right;\">\n",
       "      <th></th>\n",
       "      <th>Country/Region</th>\n",
       "      <th>Province/State</th>\n",
       "      <th>Confirmed</th>\n",
       "      <th>Recovered</th>\n",
       "      <th>Deaths</th>\n",
       "      <th>Date</th>\n",
       "    </tr>\n",
       "  </thead>\n",
       "  <tbody>\n",
       "    <tr>\n",
       "      <th>15</th>\n",
       "      <td>India</td>\n",
       "      <td>Karnataka</td>\n",
       "      <td>5921</td>\n",
       "      <td>2604</td>\n",
       "      <td>66</td>\n",
       "      <td>6/10/2020</td>\n",
       "    </tr>\n",
       "    <tr>\n",
       "      <th>51</th>\n",
       "      <td>India</td>\n",
       "      <td>Karnataka</td>\n",
       "      <td>6245</td>\n",
       "      <td>2977</td>\n",
       "      <td>72</td>\n",
       "      <td>6/11/2020</td>\n",
       "    </tr>\n",
       "    <tr>\n",
       "      <th>87</th>\n",
       "      <td>India</td>\n",
       "      <td>Karnataka</td>\n",
       "      <td>6245</td>\n",
       "      <td>2977</td>\n",
       "      <td>72</td>\n",
       "      <td>6/12/2020</td>\n",
       "    </tr>\n",
       "    <tr>\n",
       "      <th>123</th>\n",
       "      <td>India</td>\n",
       "      <td>Karnataka</td>\n",
       "      <td>6516</td>\n",
       "      <td>3440</td>\n",
       "      <td>79</td>\n",
       "      <td>6/13/2020</td>\n",
       "    </tr>\n",
       "    <tr>\n",
       "      <th>159</th>\n",
       "      <td>India</td>\n",
       "      <td>Karnataka</td>\n",
       "      <td>6824</td>\n",
       "      <td>3648</td>\n",
       "      <td>81</td>\n",
       "      <td>6/14/2020</td>\n",
       "    </tr>\n",
       "  </tbody>\n",
       "</table>\n",
       "</div>"
      ],
      "text/plain": [
       "    Country/Region Province/State  Confirmed  Recovered  Deaths       Date\n",
       "15           India      Karnataka       5921       2604      66  6/10/2020\n",
       "51           India      Karnataka       6245       2977      72  6/11/2020\n",
       "87           India      Karnataka       6245       2977      72  6/12/2020\n",
       "123          India      Karnataka       6516       3440      79  6/13/2020\n",
       "159          India      Karnataka       6824       3648      81  6/14/2020"
      ]
     },
     "execution_count": 47,
     "metadata": {},
     "output_type": "execute_result"
    }
   ],
   "source": [
    "kar.head()"
   ]
  },
  {
   "cell_type": "code",
   "execution_count": 57,
   "id": "f3ad0d8d",
   "metadata": {},
   "outputs": [
    {
     "data": {
      "image/png": "[encoded data removed]",
      "text/plain": [
       "<Figure size 432x288 with 1 Axes>"
      ]
     },
     "metadata": {
      "needs_background": "light"
     },
     "output_type": "display_data"
    }
   ],
   "source": [
    "plt.scatter(x=kar['Date'],y=kar['Confirmed'],color='b', label='Confirmed')\n",
    "plt.scatter(x=kar['Date'],y=kar['Recovered'],color='g', label='Recovered')\n",
    "plt.scatter(x=kar['Date'],y=kar['Deaths'],color='r', label='Deaths')\n",
    "plt.legend()\n",
    "plt.show()"
   ]
  },
  {
   "cell_type": "code",
   "execution_count": 52,
   "id": "5f73aea9",
   "metadata": {},
   "outputs": [
    {
     "data": {
      "text/html": [
       "<div>\n",
       "<style scoped>\n",
       "    .dataframe tbody tr th:only-of-type {\n",
       "        vertical-align: middle;\n",
       "    }\n",
       "\n",
       "    .dataframe tbody tr th {\n",
       "        vertical-align: top;\n",
       "    }\n",
       "\n",
       "    .dataframe thead th {\n",
       "        text-align: right;\n",
       "    }\n",
       "</style>\n",
       "<table border=\"1\" class=\"dataframe\">\n",
       "  <thead>\n",
       "    <tr style=\"text-align: right;\">\n",
       "      <th></th>\n",
       "      <th>Country/Region</th>\n",
       "      <th>Province/State</th>\n",
       "      <th>Confirmed</th>\n",
       "      <th>Recovered</th>\n",
       "      <th>Deaths</th>\n",
       "      <th>Date</th>\n",
       "    </tr>\n",
       "  </thead>\n",
       "  <tbody>\n",
       "    <tr>\n",
       "      <th>19</th>\n",
       "      <td>India</td>\n",
       "      <td>Maharashtra</td>\n",
       "      <td>90787</td>\n",
       "      <td>42638</td>\n",
       "      <td>3289</td>\n",
       "      <td>6/10/2020</td>\n",
       "    </tr>\n",
       "    <tr>\n",
       "      <th>55</th>\n",
       "      <td>India</td>\n",
       "      <td>Maharashtra</td>\n",
       "      <td>97648</td>\n",
       "      <td>46078</td>\n",
       "      <td>3590</td>\n",
       "      <td>6/11/2020</td>\n",
       "    </tr>\n",
       "    <tr>\n",
       "      <th>91</th>\n",
       "      <td>India</td>\n",
       "      <td>Maharashtra</td>\n",
       "      <td>97648</td>\n",
       "      <td>46078</td>\n",
       "      <td>3590</td>\n",
       "      <td>6/12/2020</td>\n",
       "    </tr>\n",
       "    <tr>\n",
       "      <th>127</th>\n",
       "      <td>India</td>\n",
       "      <td>Maharashtra</td>\n",
       "      <td>101141</td>\n",
       "      <td>47796</td>\n",
       "      <td>3717</td>\n",
       "      <td>6/13/2020</td>\n",
       "    </tr>\n",
       "    <tr>\n",
       "      <th>163</th>\n",
       "      <td>India</td>\n",
       "      <td>Maharashtra</td>\n",
       "      <td>104568</td>\n",
       "      <td>49346</td>\n",
       "      <td>3830</td>\n",
       "      <td>6/14/2020</td>\n",
       "    </tr>\n",
       "  </tbody>\n",
       "</table>\n",
       "</div>"
      ],
      "text/plain": [
       "    Country/Region Province/State  Confirmed  Recovered  Deaths       Date\n",
       "19           India    Maharashtra      90787      42638    3289  6/10/2020\n",
       "55           India    Maharashtra      97648      46078    3590  6/11/2020\n",
       "91           India    Maharashtra      97648      46078    3590  6/12/2020\n",
       "127          India    Maharashtra     101141      47796    3717  6/13/2020\n",
       "163          India    Maharashtra     104568      49346    3830  6/14/2020"
      ]
     },
     "execution_count": 52,
     "metadata": {},
     "output_type": "execute_result"
    }
   ],
   "source": [
    "mar=df[df['Province/State']=='Maharashtra']\n",
    "mar.head()"
   ]
  },
  {
   "cell_type": "code",
   "execution_count": 53,
   "id": "f44ef546",
   "metadata": {},
   "outputs": [
    {
     "data": {
      "image/png": "[encoded data removed]",
      "text/plain": [
       "<Figure size 432x288 with 1 Axes>"
      ]
     },
     "metadata": {
      "needs_background": "light"
     },
     "output_type": "display_data"
    }
   ],
   "source": [
    "plt.scatter(x=mar['Date'],y=mar['Confirmed'],color='b', label='Confirmed')\n",
    "plt.scatter(x=mar['Date'],y=mar['Recovered'],color='g', label='Recovered')\n",
    "plt.scatter(x=mar['Date'],y=mar['Deaths'],color='r', label='Deaths')\n",
    "plt.legend()\n",
    "plt.show()"
   ]
  },
  {
   "cell_type": "code",
   "execution_count": null,
   "id": "2e5e6475",
   "metadata": {},
   "outputs": [],
   "source": []
  }
 ],
 "metadata": {
  "kernelspec": {
   "display_name": "Python 3 (ipykernel)",
   "language": "python",
   "name": "python3"
  },
  "language_info": {
   "codemirror_mode": {
    "name": "ipython",
    "version": 3
   },
   "file_extension": ".py",
   "mimetype": "text/x-python",
   "name": "python",
   "nbconvert_exporter": "python",
   "pygments_lexer": "ipython3",
   "version": "3.9.12"
  }
 },
 "nbformat": 4,
 "nbformat_minor": 5
}
