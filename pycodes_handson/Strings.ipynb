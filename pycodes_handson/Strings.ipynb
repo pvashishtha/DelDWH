{
 "cells": [
  {
   "cell_type": "markdown",
   "id": "1a5f06d3",
   "metadata": {},
   "source": [
    "# Strings in Python"
   ]
  },
  {
   "cell_type": "code",
   "execution_count": 1,
   "id": "fb81ff80",
   "metadata": {},
   "outputs": [],
   "source": [
    "st='Welcome to Deloitte'"
   ]
  },
  {
   "cell_type": "code",
   "execution_count": 2,
   "id": "36fb4cc4",
   "metadata": {},
   "outputs": [
    {
     "data": {
      "text/plain": [
       "str"
      ]
     },
     "execution_count": 2,
     "metadata": {},
     "output_type": "execute_result"
    }
   ],
   "source": [
    "type(st)"
   ]
  },
  {
   "cell_type": "code",
   "execution_count": 7,
   "id": "ce5fa5a9",
   "metadata": {},
   "outputs": [
    {
     "data": {
      "text/plain": [
       "'come'"
      ]
     },
     "execution_count": 7,
     "metadata": {},
     "output_type": "execute_result"
    }
   ],
   "source": [
    "st[3:7]"
   ]
  },
  {
   "cell_type": "code",
   "execution_count": 10,
   "id": "81e173bb",
   "metadata": {},
   "outputs": [
    {
     "ename": "TypeError",
     "evalue": "'str' object does not support item assignment",
     "output_type": "error",
     "traceback": [
      "\u001b[1;31m---------------------------------------------------------------------------\u001b[0m",
      "\u001b[1;31mTypeError\u001b[0m                                 Traceback (most recent call last)",
      "Input \u001b[1;32mIn [10]\u001b[0m, in \u001b[0;36m<cell line: 1>\u001b[1;34m()\u001b[0m\n\u001b[1;32m----> 1\u001b[0m st[\u001b[38;5;241m0\u001b[39m]\u001b[38;5;241m=\u001b[39m\u001b[38;5;124m'\u001b[39m\u001b[38;5;124mT\u001b[39m\u001b[38;5;124m'\u001b[39m\n",
      "\u001b[1;31mTypeError\u001b[0m: 'str' object does not support item assignment"
     ]
    }
   ],
   "source": [
    "st[0]='T' #immutable"
   ]
  },
  {
   "cell_type": "code",
   "execution_count": 11,
   "id": "9c9a54e2",
   "metadata": {},
   "outputs": [
    {
     "data": {
      "text/plain": [
       "'me to Deloitte'"
      ]
     },
     "execution_count": 11,
     "metadata": {},
     "output_type": "execute_result"
    }
   ],
   "source": [
    "# slicing\n",
    "\n",
    "st[5:]"
   ]
  },
  {
   "cell_type": "code",
   "execution_count": 12,
   "id": "0fc8fbe3",
   "metadata": {},
   "outputs": [
    {
     "data": {
      "text/plain": [
       "'Welcome t'"
      ]
     },
     "execution_count": 12,
     "metadata": {},
     "output_type": "execute_result"
    }
   ],
   "source": [
    "st[:9]"
   ]
  },
  {
   "cell_type": "code",
   "execution_count": 16,
   "id": "e6fabd07",
   "metadata": {},
   "outputs": [
    {
     "data": {
      "text/plain": [
       "'Deloit'"
      ]
     },
     "execution_count": 16,
     "metadata": {},
     "output_type": "execute_result"
    }
   ],
   "source": [
    "st[-8:-2]"
   ]
  },
  {
   "cell_type": "code",
   "execution_count": 18,
   "id": "c0420f40",
   "metadata": {},
   "outputs": [
    {
     "data": {
      "text/plain": [
       "'ettioleD ot emocleW'"
      ]
     },
     "execution_count": 18,
     "metadata": {},
     "output_type": "execute_result"
    }
   ],
   "source": [
    "st[::-1]"
   ]
  },
  {
   "cell_type": "code",
   "execution_count": 23,
   "id": "de145aec",
   "metadata": {},
   "outputs": [
    {
     "name": "stdout",
     "output_type": "stream",
     "text": [
      "palindrome\n"
     ]
    }
   ],
   "source": [
    "s='SONOS'\n",
    "\n",
    "if s==s[::-1]:\n",
    "    print('palindrome')"
   ]
  },
  {
   "cell_type": "code",
   "execution_count": null,
   "id": "e847fe36",
   "metadata": {},
   "outputs": [],
   "source": [
    "s='Hello'\n",
    "s=str()\n",
    "s=''\n",
    "s=\"Hello\"\n",
    "s='''Hello'''\n",
    "s=\"\"\"hello\"\"\""
   ]
  },
  {
   "cell_type": "code",
   "execution_count": 50,
   "id": "232ea876",
   "metadata": {},
   "outputs": [],
   "source": [
    "s='''hello i am in deloitte\n",
    "are you also from same office?\n",
    "I am not sure about this!'''"
   ]
  },
  {
   "cell_type": "code",
   "execution_count": 25,
   "id": "a211fc8e",
   "metadata": {},
   "outputs": [
    {
     "data": {
      "text/plain": [
       "'hello i am in deloitte\\nare you also from same office?\\nI am not sure about this!'"
      ]
     },
     "execution_count": 25,
     "metadata": {},
     "output_type": "execute_result"
    }
   ],
   "source": [
    "s"
   ]
  },
  {
   "cell_type": "code",
   "execution_count": 26,
   "id": "c5d8a0c6",
   "metadata": {},
   "outputs": [
    {
     "name": "stdout",
     "output_type": "stream",
     "text": [
      "hello i am in deloitte\n",
      "are you also from same office?\n",
      "I am not sure about this!\n"
     ]
    }
   ],
   "source": [
    "print(s)"
   ]
  },
  {
   "cell_type": "code",
   "execution_count": 30,
   "id": "8b542820",
   "metadata": {},
   "outputs": [
    {
     "name": "stdout",
     "output_type": "stream",
     "text": [
      "50\n"
     ]
    }
   ],
   "source": [
    "def calcSum(x,y):\n",
    "    '''calcSum(x,y) is a fucntion to calculate sum of 2 nos\n",
    "    It requires two numbers as arguments.\n",
    "    Usage: calcSum(20,30) will return 50 as answer'''\n",
    "    return x+y\n",
    "\n",
    "print(calcSum(20,30))"
   ]
  },
  {
   "cell_type": "code",
   "execution_count": 32,
   "id": "729e35cb",
   "metadata": {},
   "outputs": [
    {
     "name": "stdout",
     "output_type": "stream",
     "text": [
      "calcSum(x,y) is a fucntion to calculate sum of 2 nos\n",
      "    It requires two numbers as arguments.\n",
      "    Usage: calcSum(20,30) will return 50 as answer\n"
     ]
    }
   ],
   "source": [
    "print(calcSum.__doc__) #documentation string"
   ]
  },
  {
   "cell_type": "code",
   "execution_count": 39,
   "id": "1aba915f",
   "metadata": {},
   "outputs": [
    {
     "name": "stdout",
     "output_type": "stream",
     "text": [
      "Hello, I'm the \t manager here!\n"
     ]
    }
   ],
   "source": [
    "s='Hello, I\\'m the \\t manager here!'\n",
    "print(s)"
   ]
  },
  {
   "cell_type": "code",
   "execution_count": 40,
   "id": "c7c805f5",
   "metadata": {},
   "outputs": [],
   "source": [
    "path=\"C:\\\\Users\\\\Prateek\\\\Desktop\\\\PV\""
   ]
  },
  {
   "cell_type": "markdown",
   "id": "d1c568b9",
   "metadata": {},
   "source": [
    "### formatting string"
   ]
  },
  {
   "cell_type": "code",
   "execution_count": 43,
   "id": "9157a637",
   "metadata": {},
   "outputs": [
    {
     "name": "stdout",
     "output_type": "stream",
     "text": [
      "Prateek is designated as Manager\n"
     ]
    }
   ],
   "source": [
    "name='Prateek'\n",
    "designation='Manager'\n",
    "print(\"{0} is designated as {1}\".format(name, designation))"
   ]
  },
  {
   "cell_type": "code",
   "execution_count": 44,
   "id": "1b251987",
   "metadata": {},
   "outputs": [
    {
     "name": "stdout",
     "output_type": "stream",
     "text": [
      "Prateek is designated as Manager\n"
     ]
    }
   ],
   "source": [
    "print(f\"{name} is designated as {designation}\")"
   ]
  },
  {
   "cell_type": "code",
   "execution_count": 45,
   "id": "f1195eb6",
   "metadata": {},
   "outputs": [
    {
     "name": "stdout",
     "output_type": "stream",
     "text": [
      "Prateek is designated as Manager\n",
      "Vishal is designated as Analyst\n",
      "Ashritha is designated as Consultant\n",
      "Keerthana is designated as Analyst\n",
      "Deepali is designated as Senior Consultant\n",
      "Deepika is designated as DC Consultant\n"
     ]
    }
   ],
   "source": [
    "names=['Prateek','Vishal', 'Ashritha', 'Keerthana','Deepali','Deepika']\n",
    "designations=['Manager','Analyst','Consultant','Analyst','Senior Consultant','DC Consultant']\n",
    "\n",
    "for name, designation in zip(names, designations):\n",
    "    print(\"{0} is designated as {1}\".format(name, designation))"
   ]
  },
  {
   "cell_type": "code",
   "execution_count": 46,
   "id": "a6d7089c",
   "metadata": {},
   "outputs": [
    {
     "name": "stdout",
     "output_type": "stream",
     "text": [
      "Deloitte|DELOITTE|deloitte\n"
     ]
    }
   ],
   "source": [
    "print(\"{0}|{1}|{2}\".format('Deloitte','DELOITTE','deloitte'))"
   ]
  },
  {
   "cell_type": "code",
   "execution_count": 47,
   "id": "d3876f5c",
   "metadata": {},
   "outputs": [
    {
     "name": "stdout",
     "output_type": "stream",
     "text": [
      "Deloitte            |      DELOITTE      |            deloitte\n"
     ]
    }
   ],
   "source": [
    "# left, center, right aligned in N chars, e.g. N=20\n",
    "print(\"{0:<20}|{1:^20}|{2:>20}\".format('Deloitte','DELOITTE','deloitte'))"
   ]
  },
  {
   "cell_type": "markdown",
   "id": "27b1ad30",
   "metadata": {},
   "source": [
    "### String Functions"
   ]
  },
  {
   "cell_type": "code",
   "execution_count": 59,
   "id": "b64bbab5",
   "metadata": {},
   "outputs": [
    {
     "name": "stdout",
     "output_type": "stream",
     "text": [
      "Words:  15\n",
      "hello 5\n",
      "i 1\n",
      "am 2\n",
      "in 2\n",
      "deloitte\n",
      "are 12\n",
      "you 3\n",
      "also 4\n",
      "from 4\n",
      "same 4\n",
      "office?\n",
      "I 9\n",
      "am 2\n",
      "not 3\n",
      "sure 4\n",
      "about 5\n",
      "this! 5\n"
     ]
    },
    {
     "data": {
      "text/plain": [
       "['hello',\n",
       " 'i',\n",
       " 'am',\n",
       " 'in',\n",
       " 'deloitte\\nare',\n",
       " 'you',\n",
       " 'also',\n",
       " 'from',\n",
       " 'same',\n",
       " 'office?\\nI',\n",
       " 'am',\n",
       " 'not',\n",
       " 'sure',\n",
       " 'about',\n",
       " 'this!']"
      ]
     },
     "execution_count": 59,
     "metadata": {},
     "output_type": "execute_result"
    }
   ],
   "source": [
    "# split\n",
    "s.split(' ')\n",
    "\n",
    "print('Words: ',len(s.split(' ')))\n",
    "sl=s.split(' ')\n",
    "for word in sl:\n",
    "    print(word,len(word))\n",
    "    \n",
    "sl"
   ]
  },
  {
   "cell_type": "code",
   "execution_count": 60,
   "id": "bcd8641c",
   "metadata": {},
   "outputs": [
    {
     "data": {
      "text/plain": [
       "['hello i am in deloitte',\n",
       " 'are you also from same office?',\n",
       " 'I am not sure about this!']"
      ]
     },
     "execution_count": 60,
     "metadata": {},
     "output_type": "execute_result"
    }
   ],
   "source": [
    "s.split('\\n')"
   ]
  },
  {
   "cell_type": "code",
   "execution_count": 61,
   "id": "049cb73d",
   "metadata": {},
   "outputs": [
    {
     "data": {
      "text/plain": [
       "['hello i am in deloitte',\n",
       " 'are you also from same office?',\n",
       " 'I am not sure about this!']"
      ]
     },
     "execution_count": 61,
     "metadata": {},
     "output_type": "execute_result"
    }
   ],
   "source": [
    "s.splitlines()"
   ]
  },
  {
   "cell_type": "code",
   "execution_count": 64,
   "id": "a6361e0b",
   "metadata": {},
   "outputs": [
    {
     "data": {
      "text/plain": [
       "['hello',\n",
       " 'i',\n",
       " 'am in deloitte\\nare you also from same office?\\nI am not sure about this!']"
      ]
     },
     "execution_count": 64,
     "metadata": {},
     "output_type": "execute_result"
    }
   ],
   "source": [
    "s.split(' ',2)"
   ]
  },
  {
   "cell_type": "code",
   "execution_count": 66,
   "id": "393e8fbd",
   "metadata": {},
   "outputs": [
    {
     "name": "stdout",
     "output_type": "stream",
     "text": [
      "Email Name: prateek and Domain: gmail.com\n"
     ]
    }
   ],
   "source": [
    "k='prateek@gmail.com'.split('@')\n",
    "print('Email Name: {0} and Domain: {1}'.format(k[0],k[1]))"
   ]
  },
  {
   "cell_type": "code",
   "execution_count": 68,
   "id": "c88aa8c7",
   "metadata": {},
   "outputs": [
    {
     "name": "stdout",
     "output_type": "stream",
     "text": [
      "Mainnet: 192, Domain: 10, SystemID: 64\n"
     ]
    }
   ],
   "source": [
    "k='192.168.10.64'.split('.')\n",
    "print('Mainnet: {0}, Domain: {1}, SystemID: {2}'.format(k[0],k[2],k[3]))"
   ]
  },
  {
   "cell_type": "code",
   "execution_count": 69,
   "id": "ea5ec844",
   "metadata": {},
   "outputs": [
    {
     "name": "stdout",
     "output_type": "stream",
     "text": [
      "City Code: 022 and Phone: 6463134\n"
     ]
    }
   ],
   "source": [
    "k='022-6463134'.split('-')\n",
    "print('City Code: {0} and Phone: {1}'.format(k[0],k[1]))"
   ]
  },
  {
   "cell_type": "code",
   "execution_count": 77,
   "id": "a655f9bd",
   "metadata": {},
   "outputs": [
    {
     "name": "stdout",
     "output_type": "stream",
     "text": [
      "Prateek | Vashishtha\n"
     ]
    }
   ],
   "source": [
    "# JOIN\n",
    "\n",
    "firstname='Prateek'\n",
    "lastname='Vashishtha'\n",
    "\n",
    "print(' | '.join((firstname,lastname)))"
   ]
  },
  {
   "cell_type": "code",
   "execution_count": 79,
   "id": "cf522f72",
   "metadata": {},
   "outputs": [
    {
     "name": "stdout",
     "output_type": "stream",
     "text": [
      "192.168.11.54\n"
     ]
    }
   ],
   "source": [
    "print('.'.join(('192','168','11','54')))"
   ]
  },
  {
   "cell_type": "code",
   "execution_count": 80,
   "id": "886ca396",
   "metadata": {},
   "outputs": [
    {
     "name": "stdout",
     "output_type": "stream",
     "text": [
      "PrateekVashishtha@gmail.com\n"
     ]
    }
   ],
   "source": [
    "print('@'.join((firstname+lastname, 'gmail.com')))"
   ]
  },
  {
   "cell_type": "code",
   "execution_count": 82,
   "id": "2b60b5ee",
   "metadata": {},
   "outputs": [
    {
     "data": {
      "text/plain": [
       "'Prateek vashishtha'"
      ]
     },
     "execution_count": 82,
     "metadata": {},
     "output_type": "execute_result"
    }
   ],
   "source": [
    "'prateek vashishtha'.capitalize()"
   ]
  },
  {
   "cell_type": "code",
   "execution_count": 83,
   "id": "9a78bf5c",
   "metadata": {},
   "outputs": [
    {
     "data": {
      "text/plain": [
       "'PRATEEK VASHISHTHA'"
      ]
     },
     "execution_count": 83,
     "metadata": {},
     "output_type": "execute_result"
    }
   ],
   "source": [
    "'prateek vashishtha'.upper()"
   ]
  },
  {
   "cell_type": "code",
   "execution_count": 84,
   "id": "41610433",
   "metadata": {},
   "outputs": [
    {
     "data": {
      "text/plain": [
       "'prateek vashishtha'"
      ]
     },
     "execution_count": 84,
     "metadata": {},
     "output_type": "execute_result"
    }
   ],
   "source": [
    "'PRATEEK vashishtha'.lower()"
   ]
  },
  {
   "cell_type": "code",
   "execution_count": 89,
   "id": "32b4285a",
   "metadata": {},
   "outputs": [
    {
     "data": {
      "text/plain": [
       "'################prateek vashishtha################'"
      ]
     },
     "execution_count": 89,
     "metadata": {},
     "output_type": "execute_result"
    }
   ],
   "source": [
    "'prateek vashishtha'.center(50, '#')"
   ]
  },
  {
   "cell_type": "code",
   "execution_count": 94,
   "id": "e36fca5f",
   "metadata": {},
   "outputs": [
    {
     "data": {
      "text/plain": [
       "3"
      ]
     },
     "execution_count": 94,
     "metadata": {},
     "output_type": "execute_result"
    }
   ],
   "source": [
    "'prateek vashishtha'.count('a')"
   ]
  },
  {
   "cell_type": "code",
   "execution_count": 104,
   "id": "4cc4ede8",
   "metadata": {},
   "outputs": [
    {
     "data": {
      "text/plain": [
       "b'prateek vashishtha'"
      ]
     },
     "execution_count": 104,
     "metadata": {},
     "output_type": "execute_result"
    }
   ],
   "source": [
    "'prateek vashishtha'.encode('UTF-8')"
   ]
  },
  {
   "cell_type": "code",
   "execution_count": 105,
   "id": "1ef22a41",
   "metadata": {},
   "outputs": [
    {
     "data": {
      "text/plain": [
       "'prateek vashishtha'"
      ]
     },
     "execution_count": 105,
     "metadata": {},
     "output_type": "execute_result"
    }
   ],
   "source": [
    "k='prateek vashishtha'.encode('ASCII')\n",
    "\n",
    "k.decode('ASCII')"
   ]
  },
  {
   "cell_type": "code",
   "execution_count": 106,
   "id": "6e807999",
   "metadata": {},
   "outputs": [
    {
     "data": {
      "text/plain": [
       "'A'"
      ]
     },
     "execution_count": 106,
     "metadata": {},
     "output_type": "execute_result"
    }
   ],
   "source": [
    "chr(65)"
   ]
  },
  {
   "cell_type": "code",
   "execution_count": 107,
   "id": "5c889032",
   "metadata": {},
   "outputs": [
    {
     "data": {
      "text/plain": [
       "97"
      ]
     },
     "execution_count": 107,
     "metadata": {},
     "output_type": "execute_result"
    }
   ],
   "source": [
    "ord('a')"
   ]
  },
  {
   "cell_type": "code",
   "execution_count": 111,
   "id": "b7fc4e04",
   "metadata": {},
   "outputs": [
    {
     "data": {
      "text/plain": [
       "False"
      ]
     },
     "execution_count": 111,
     "metadata": {},
     "output_type": "execute_result"
    }
   ],
   "source": [
    "'prateek@gmail.com'.endswith('.in')"
   ]
  },
  {
   "cell_type": "code",
   "execution_count": 115,
   "id": "e6853de8",
   "metadata": {},
   "outputs": [
    {
     "data": {
      "text/plain": [
       "-1"
      ]
     },
     "execution_count": 115,
     "metadata": {},
     "output_type": "execute_result"
    }
   ],
   "source": [
    "'prateek vashishtha'.find('st')"
   ]
  },
  {
   "cell_type": "code",
   "execution_count": 117,
   "id": "41967ff3",
   "metadata": {},
   "outputs": [
    {
     "data": {
      "text/plain": [
       "10"
      ]
     },
     "execution_count": 117,
     "metadata": {},
     "output_type": "execute_result"
    }
   ],
   "source": [
    "'prateek vashishtha'.index('sh')"
   ]
  },
  {
   "cell_type": "code",
   "execution_count": 119,
   "id": "7930ebf6",
   "metadata": {},
   "outputs": [
    {
     "data": {
      "text/plain": [
       "False"
      ]
     },
     "execution_count": 119,
     "metadata": {},
     "output_type": "execute_result"
    }
   ],
   "source": [
    "'prateek vashishtha'.isalnum()"
   ]
  },
  {
   "cell_type": "code",
   "execution_count": 122,
   "id": "69088192",
   "metadata": {},
   "outputs": [
    {
     "data": {
      "text/plain": [
       "False"
      ]
     },
     "execution_count": 122,
     "metadata": {},
     "output_type": "execute_result"
    }
   ],
   "source": [
    "'prateek vashishtha'.isalpha()"
   ]
  },
  {
   "cell_type": "code",
   "execution_count": 123,
   "id": "0f9cc206",
   "metadata": {},
   "outputs": [
    {
     "data": {
      "text/plain": [
       "True"
      ]
     },
     "execution_count": 123,
     "metadata": {},
     "output_type": "execute_result"
    }
   ],
   "source": [
    "'prateekvashishtha'.isalpha()"
   ]
  },
  {
   "cell_type": "code",
   "execution_count": 125,
   "id": "ff2e0dc3",
   "metadata": {},
   "outputs": [
    {
     "data": {
      "text/plain": [
       "True"
      ]
     },
     "execution_count": 125,
     "metadata": {},
     "output_type": "execute_result"
    }
   ],
   "source": [
    "'  '.isspace()"
   ]
  },
  {
   "cell_type": "code",
   "execution_count": 128,
   "id": "e3161000",
   "metadata": {},
   "outputs": [
    {
     "data": {
      "text/plain": [
       "True"
      ]
     },
     "execution_count": 128,
     "metadata": {},
     "output_type": "execute_result"
    }
   ],
   "source": [
    "'387345'.isnumeric()"
   ]
  },
  {
   "cell_type": "code",
   "execution_count": 129,
   "id": "f21c6c86",
   "metadata": {},
   "outputs": [
    {
     "data": {
      "text/plain": [
       "True"
      ]
     },
     "execution_count": 129,
     "metadata": {},
     "output_type": "execute_result"
    }
   ],
   "source": [
    "'prateek vashishtha'.islower()"
   ]
  },
  {
   "cell_type": "code",
   "execution_count": 130,
   "id": "03f790aa",
   "metadata": {},
   "outputs": [
    {
     "data": {
      "text/plain": [
       "False"
      ]
     },
     "execution_count": 130,
     "metadata": {},
     "output_type": "execute_result"
    }
   ],
   "source": [
    "'prateek vashishtha'.isupper()"
   ]
  },
  {
   "cell_type": "code",
   "execution_count": 133,
   "id": "f73b7f92",
   "metadata": {},
   "outputs": [
    {
     "data": {
      "text/plain": [
       "True"
      ]
     },
     "execution_count": 133,
     "metadata": {},
     "output_type": "execute_result"
    }
   ],
   "source": [
    "'Prateek Vashishtha'.istitle()"
   ]
  },
  {
   "cell_type": "code",
   "execution_count": 134,
   "id": "431da727",
   "metadata": {},
   "outputs": [
    {
     "data": {
      "text/plain": [
       "'prateek vashishtha'"
      ]
     },
     "execution_count": 134,
     "metadata": {},
     "output_type": "execute_result"
    }
   ],
   "source": [
    "'        prateek vashishtha'.lstrip()"
   ]
  },
  {
   "cell_type": "code",
   "execution_count": 135,
   "id": "1d99b04e",
   "metadata": {},
   "outputs": [
    {
     "data": {
      "text/plain": [
       "'prateek vashishtha'"
      ]
     },
     "execution_count": 135,
     "metadata": {},
     "output_type": "execute_result"
    }
   ],
   "source": [
    "'prateek vashishtha      '.rstrip()"
   ]
  },
  {
   "cell_type": "code",
   "execution_count": 136,
   "id": "b23c6941",
   "metadata": {},
   "outputs": [
    {
     "data": {
      "text/plain": [
       "'prateek vashishtha'"
      ]
     },
     "execution_count": 136,
     "metadata": {},
     "output_type": "execute_result"
    }
   ],
   "source": [
    "'      prateek vashishtha      '.strip()"
   ]
  },
  {
   "cell_type": "code",
   "execution_count": 138,
   "id": "93366ca0",
   "metadata": {},
   "outputs": [
    {
     "data": {
      "text/plain": [
       "'v'"
      ]
     },
     "execution_count": 138,
     "metadata": {},
     "output_type": "execute_result"
    }
   ],
   "source": [
    "max('prateek vashishtha')"
   ]
  },
  {
   "cell_type": "code",
   "execution_count": 140,
   "id": "5d131126",
   "metadata": {},
   "outputs": [
    {
     "data": {
      "text/plain": [
       "'a'"
      ]
     },
     "execution_count": 140,
     "metadata": {},
     "output_type": "execute_result"
    }
   ],
   "source": [
    "min('prateekvashishtha')"
   ]
  },
  {
   "cell_type": "code",
   "execution_count": 145,
   "id": "f82a5764",
   "metadata": {},
   "outputs": [
    {
     "data": {
      "text/plain": [
       "'pr@teek v@shishtha'"
      ]
     },
     "execution_count": 145,
     "metadata": {},
     "output_type": "execute_result"
    }
   ],
   "source": [
    "'prateek vashishtha'.replace('a','@',2)"
   ]
  },
  {
   "cell_type": "code",
   "execution_count": 150,
   "id": "865d6891",
   "metadata": {},
   "outputs": [
    {
     "data": {
      "text/plain": [
       "True"
      ]
     },
     "execution_count": 150,
     "metadata": {},
     "output_type": "execute_result"
    }
   ],
   "source": [
    "k='prateek'.encode('UTF-8')\n",
    "k.isascii()"
   ]
  },
  {
   "cell_type": "code",
   "execution_count": 156,
   "id": "20f39ffc",
   "metadata": {},
   "outputs": [
    {
     "data": {
      "text/plain": [
       "17"
      ]
     },
     "execution_count": 156,
     "metadata": {},
     "output_type": "execute_result"
    }
   ],
   "source": [
    "'prateek vashishtha'.rfind('a')\n",
    "'prateek vashishtha'.rindex('a')"
   ]
  },
  {
   "cell_type": "code",
   "execution_count": 158,
   "id": "3fb53ad6",
   "metadata": {},
   "outputs": [
    {
     "data": {
      "text/plain": [
       "True"
      ]
     },
     "execution_count": 158,
     "metadata": {},
     "output_type": "execute_result"
    }
   ],
   "source": [
    "'prateek vashishtha'.startswith('pra')"
   ]
  },
  {
   "cell_type": "code",
   "execution_count": 159,
   "id": "63a5de6c",
   "metadata": {},
   "outputs": [
    {
     "data": {
      "text/plain": [
       "'PRATEEK VASHISHTHA'"
      ]
     },
     "execution_count": 159,
     "metadata": {},
     "output_type": "execute_result"
    }
   ],
   "source": [
    "'prateek vashishtha'.swapcase()"
   ]
  },
  {
   "cell_type": "code",
   "execution_count": 160,
   "id": "2744d990",
   "metadata": {},
   "outputs": [
    {
     "data": {
      "text/plain": [
       "'prateek'"
      ]
     },
     "execution_count": 160,
     "metadata": {},
     "output_type": "execute_result"
    }
   ],
   "source": [
    "'PRATEEK'.swapcase()"
   ]
  },
  {
   "cell_type": "code",
   "execution_count": 161,
   "id": "b734d672",
   "metadata": {},
   "outputs": [
    {
     "data": {
      "text/plain": [
       "'praTEEK'"
      ]
     },
     "execution_count": 161,
     "metadata": {},
     "output_type": "execute_result"
    }
   ],
   "source": [
    "'PRAteek'.swapcase()"
   ]
  },
  {
   "cell_type": "code",
   "execution_count": 166,
   "id": "68d1b9c5",
   "metadata": {},
   "outputs": [
    {
     "data": {
      "text/plain": [
       "'0000010111111111'"
      ]
     },
     "execution_count": 166,
     "metadata": {},
     "output_type": "execute_result"
    }
   ],
   "source": [
    "'10111111111'.zfill(16)"
   ]
  },
  {
   "cell_type": "code",
   "execution_count": 175,
   "id": "318346dc",
   "metadata": {},
   "outputs": [
    {
     "data": {
      "text/plain": [
       "'DBDBDBKKDDB'"
      ]
     },
     "execution_count": 175,
     "metadata": {},
     "output_type": "execute_result"
    }
   ],
   "source": [
    "'ABABABKKAAB'.translate({65:68})"
   ]
  },
  {
   "cell_type": "code",
   "execution_count": 176,
   "id": "e3cafdbf",
   "metadata": {},
   "outputs": [
    {
     "name": "stdout",
     "output_type": "stream",
     "text": [
      "\\nHello\\nWorld\n"
     ]
    }
   ],
   "source": [
    "print(r\"\\nHello\\nWorld\")"
   ]
  },
  {
   "cell_type": "code",
   "execution_count": null,
   "id": "da32849b",
   "metadata": {},
   "outputs": [],
   "source": []
  }
 ],
 "metadata": {
  "kernelspec": {
   "display_name": "Python 3 (ipykernel)",
   "language": "python",
   "name": "python3"
  },
  "language_info": {
   "codemirror_mode": {
    "name": "ipython",
    "version": 3
   },
   "file_extension": ".py",
   "mimetype": "text/x-python",
   "name": "python",
   "nbconvert_exporter": "python",
   "pygments_lexer": "ipython3",
   "version": "3.9.12"
  }
 },
 "nbformat": 4,
 "nbformat_minor": 5
}
