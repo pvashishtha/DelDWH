{
 "cells": [
  {
   "cell_type": "markdown",
   "id": "ef9c703b",
   "metadata": {},
   "source": [
    "## PyLint"
   ]
  },
  {
   "cell_type": "code",
   "execution_count": 1,
   "id": "ce8e1a47",
   "metadata": {
    "collapsed": true
   },
   "outputs": [
    {
     "name": "stdout",
     "output_type": "stream",
     "text": [
      "Requirement already satisfied: pylint in c:\\users\\pvashishtha\\anaconda3\\lib\\site-packages (2.9.6)\n",
      "Requirement already satisfied: isort<6,>=4.2.5 in c:\\users\\pvashishtha\\anaconda3\\lib\\site-packages (from pylint) (5.9.3)\n",
      "Requirement already satisfied: colorama in c:\\users\\pvashishtha\\anaconda3\\lib\\site-packages (from pylint) (0.4.4)\n",
      "Requirement already satisfied: astroid<2.7,>=2.6.5 in c:\\users\\pvashishtha\\anaconda3\\lib\\site-packages (from pylint) (2.6.6)\n",
      "Requirement already satisfied: toml>=0.7.1 in c:\\users\\pvashishtha\\anaconda3\\lib\\site-packages (from pylint) (0.10.2)\n",
      "Requirement already satisfied: mccabe<0.7,>=0.6 in c:\\users\\pvashishtha\\anaconda3\\lib\\site-packages (from pylint) (0.6.1)\n",
      "Requirement already satisfied: lazy-object-proxy>=1.4.0 in c:\\users\\pvashishtha\\anaconda3\\lib\\site-packages (from astroid<2.7,>=2.6.5->pylint) (1.6.0)\n",
      "Requirement already satisfied: wrapt<1.13,>=1.11 in c:\\users\\pvashishtha\\anaconda3\\lib\\site-packages (from astroid<2.7,>=2.6.5->pylint) (1.12.1)\n",
      "Requirement already satisfied: setuptools>=20.0 in c:\\users\\pvashishtha\\anaconda3\\lib\\site-packages (from astroid<2.7,>=2.6.5->pylint) (61.2.0)\n"
     ]
    }
   ],
   "source": [
    "! pip install pylint\n"
   ]
  },
  {
   "cell_type": "code",
   "execution_count": 2,
   "id": "5fd44dec",
   "metadata": {},
   "outputs": [],
   "source": [
    "import pylint"
   ]
  },
  {
   "cell_type": "code",
   "execution_count": 4,
   "id": "9eadd174",
   "metadata": {},
   "outputs": [],
   "source": [
    "def getSum():\n",
    "    a=10\n",
    "    b=20\n",
    "    sum=a+b\n",
    "    return sum"
   ]
  },
  {
   "cell_type": "code",
   "execution_count": 7,
   "id": "cb6dc9f5",
   "metadata": {},
   "outputs": [
    {
     "name": "stdout",
     "output_type": "stream",
     "text": [
      "************* Module getSum()\n",
      "getSum():1:0: F0001: No module named getSum() (fatal)\n"
     ]
    }
   ],
   "source": [
    "! pylint getSum()"
   ]
  },
  {
   "cell_type": "code",
   "execution_count": null,
   "id": "66d02caf",
   "metadata": {},
   "outputs": [],
   "source": []
  }
 ],
 "metadata": {
  "kernelspec": {
   "display_name": "Python 3 (ipykernel)",
   "language": "python",
   "name": "python3"
  },
  "language_info": {
   "codemirror_mode": {
    "name": "ipython",
    "version": 3
   },
   "file_extension": ".py",
   "mimetype": "text/x-python",
   "name": "python",
   "nbconvert_exporter": "python",
   "pygments_lexer": "ipython3",
   "version": "3.9.12"
  }
 },
 "nbformat": 4,
 "nbformat_minor": 5
}
