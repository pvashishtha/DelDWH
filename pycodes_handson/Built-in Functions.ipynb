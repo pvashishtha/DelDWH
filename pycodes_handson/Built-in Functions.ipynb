{
 "cells": [
  {
   "cell_type": "markdown",
   "id": "8a034c72",
   "metadata": {},
   "source": [
    "## Built-In Functions"
   ]
  },
  {
   "cell_type": "code",
   "execution_count": 1,
   "id": "2e8d2efa",
   "metadata": {},
   "outputs": [],
   "source": [
    "# print, input, len, type, id, chr, str, int, ord, "
   ]
  },
  {
   "cell_type": "code",
   "execution_count": 2,
   "id": "b2380c79",
   "metadata": {},
   "outputs": [
    {
     "name": "stdout",
     "output_type": "stream",
     "text": [
      "1886252722768\n",
      "1886252723088\n"
     ]
    }
   ],
   "source": [
    "x=10\n",
    "y=20\n",
    "print(id(x))\n",
    "print(id(y))"
   ]
  },
  {
   "cell_type": "code",
   "execution_count": 3,
   "id": "eee36b6a",
   "metadata": {},
   "outputs": [
    {
     "name": "stdout",
     "output_type": "stream",
     "text": [
      "1886252722768\n",
      "1886252722768\n"
     ]
    }
   ],
   "source": [
    "y=y//2\n",
    "print(id(x))\n",
    "print(id(y))"
   ]
  },
  {
   "cell_type": "code",
   "execution_count": null,
   "id": "48337cf2",
   "metadata": {},
   "outputs": [],
   "source": []
  },
  {
   "cell_type": "code",
   "execution_count": 8,
   "id": "0161429a",
   "metadata": {},
   "outputs": [
    {
     "data": {
      "text/plain": [
       "34"
      ]
     },
     "execution_count": 8,
     "metadata": {},
     "output_type": "execute_result"
    }
   ],
   "source": [
    "abs(-34)"
   ]
  },
  {
   "cell_type": "code",
   "execution_count": 9,
   "id": "a89bc342",
   "metadata": {},
   "outputs": [
    {
     "data": {
      "text/plain": [
       "5"
      ]
     },
     "execution_count": 9,
     "metadata": {},
     "output_type": "execute_result"
    }
   ],
   "source": [
    "max([1,2,3,4,5])"
   ]
  },
  {
   "cell_type": "code",
   "execution_count": 10,
   "id": "9f62515c",
   "metadata": {},
   "outputs": [
    {
     "data": {
      "text/plain": [
       "0"
      ]
     },
     "execution_count": 10,
     "metadata": {},
     "output_type": "execute_result"
    }
   ],
   "source": [
    "min([1,2,3,5,89,0])"
   ]
  },
  {
   "cell_type": "code",
   "execution_count": 14,
   "id": "00a17978",
   "metadata": {},
   "outputs": [
    {
     "data": {
      "text/plain": [
       "34.8"
      ]
     },
     "execution_count": 14,
     "metadata": {},
     "output_type": "execute_result"
    }
   ],
   "source": [
    "round(34.789,1)"
   ]
  },
  {
   "cell_type": "code",
   "execution_count": 15,
   "id": "f69b8587",
   "metadata": {},
   "outputs": [
    {
     "data": {
      "text/plain": [
       "206839702292837295898069916397721464874159505726286201136902256843873925605536354546725253670406846242312675776980767364202531211348787886241429313441234944"
      ]
     },
     "execution_count": 15,
     "metadata": {},
     "output_type": "execute_result"
    }
   ],
   "source": [
    "pow(98,78)"
   ]
  },
  {
   "cell_type": "code",
   "execution_count": 18,
   "id": "1bc5da59",
   "metadata": {},
   "outputs": [
    {
     "data": {
      "text/plain": [
       "\"'Python is great!'\""
      ]
     },
     "execution_count": 18,
     "metadata": {},
     "output_type": "execute_result"
    }
   ],
   "source": [
    "text='Python is great!'\n",
    "ascii(text)"
   ]
  },
  {
   "cell_type": "code",
   "execution_count": 21,
   "id": "5dbe5e30",
   "metadata": {},
   "outputs": [
    {
     "data": {
      "text/plain": [
       "'0b1001110'"
      ]
     },
     "execution_count": 21,
     "metadata": {},
     "output_type": "execute_result"
    }
   ],
   "source": [
    "bin(78)"
   ]
  },
  {
   "cell_type": "code",
   "execution_count": 22,
   "id": "bb817e2f",
   "metadata": {},
   "outputs": [
    {
     "data": {
      "text/plain": [
       "'0x4e'"
      ]
     },
     "execution_count": 22,
     "metadata": {},
     "output_type": "execute_result"
    }
   ],
   "source": [
    "hex(78)"
   ]
  },
  {
   "cell_type": "code",
   "execution_count": 24,
   "id": "a8e71812",
   "metadata": {},
   "outputs": [
    {
     "data": {
      "text/plain": [
       "False"
      ]
     },
     "execution_count": 24,
     "metadata": {},
     "output_type": "execute_result"
    }
   ],
   "source": [
    "all([True, True, False, True])"
   ]
  },
  {
   "cell_type": "code",
   "execution_count": 25,
   "id": "7a44f10e",
   "metadata": {},
   "outputs": [
    {
     "data": {
      "text/plain": [
       "True"
      ]
     },
     "execution_count": 25,
     "metadata": {},
     "output_type": "execute_result"
    }
   ],
   "source": [
    "any([True, False, False])"
   ]
  },
  {
   "cell_type": "code",
   "execution_count": 27,
   "id": "725663ca",
   "metadata": {},
   "outputs": [
    {
     "name": "stdout",
     "output_type": "stream",
     "text": [
      "[(0, 'Python'), (1, 'Java'), (2, 'C++'), (3, 'JSP')]\n"
     ]
    }
   ],
   "source": [
    "li=['Python','Java','C++','JSP']\n",
    "e=enumerate(li)\n",
    "print(list(e))"
   ]
  },
  {
   "cell_type": "code",
   "execution_count": 31,
   "id": "1dad423e",
   "metadata": {},
   "outputs": [
    {
     "name": "stdout",
     "output_type": "stream",
     "text": [
      "Original:  [23, 45, 67, 21, 89, 9]\n",
      "Reversed:  [9, 89, 21, 67, 45, 23]\n",
      "Sorted:  [9, 21, 23, 45, 67, 89]\n"
     ]
    }
   ],
   "source": [
    "li=[23,45,67,21,89,9]\n",
    "print('Original: ',li)\n",
    "print('Reversed: ',list(reversed(li)))\n",
    "print('Sorted: ',list(sorted(li)))"
   ]
  },
  {
   "cell_type": "code",
   "execution_count": null,
   "id": "d342c084",
   "metadata": {},
   "outputs": [],
   "source": []
  }
 ],
 "metadata": {
  "kernelspec": {
   "display_name": "Python 3 (ipykernel)",
   "language": "python",
   "name": "python3"
  },
  "language_info": {
   "codemirror_mode": {
    "name": "ipython",
    "version": 3
   },
   "file_extension": ".py",
   "mimetype": "text/x-python",
   "name": "python",
   "nbconvert_exporter": "python",
   "pygments_lexer": "ipython3",
   "version": "3.9.12"
  }
 },
 "nbformat": 4,
 "nbformat_minor": 5
}
