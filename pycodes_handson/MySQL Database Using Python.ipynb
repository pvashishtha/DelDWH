{
 "cells": [
  {
   "cell_type": "markdown",
   "id": "5dd79819",
   "metadata": {},
   "source": [
    "### MYSQL Using Python"
   ]
  },
  {
   "cell_type": "code",
   "execution_count": 1,
   "id": "99337ec6",
   "metadata": {},
   "outputs": [
    {
     "name": "stdout",
     "output_type": "stream",
     "text": [
      "Requirement already satisfied: mysql-connector-python in c:\\users\\pvashishtha\\anaconda3\\lib\\site-packages (8.0.31)\n",
      "Requirement already satisfied: protobuf<=3.20.1,>=3.11.0 in c:\\users\\pvashishtha\\anaconda3\\lib\\site-packages (from mysql-connector-python) (3.19.1)\n"
     ]
    }
   ],
   "source": [
    "# pymysql\n",
    "\n",
    "# mysql-connector-python\n",
    "\n",
    "! pip install mysql-connector-python"
   ]
  },
  {
   "cell_type": "code",
   "execution_count": 2,
   "id": "82e02c33",
   "metadata": {},
   "outputs": [
    {
     "name": "stdout",
     "output_type": "stream",
     "text": [
      "Requirement already satisfied: pymysql in c:\\users\\pvashishtha\\anaconda3\\lib\\site-packages (1.0.2)\n"
     ]
    }
   ],
   "source": [
    "! pip install pymysql"
   ]
  },
  {
   "cell_type": "code",
   "execution_count": 3,
   "id": "e5b19d24",
   "metadata": {},
   "outputs": [],
   "source": []
  },
  {
   "cell_type": "code",
   "execution_count": 4,
   "id": "3527599c",
   "metadata": {},
   "outputs": [],
   "source": [
    "# 1. connect to database\n",
    "\n",
    "# 2. create database cursor\n",
    "\n",
    "# 3. CRUD- Create, Read, Update, Delete/Drop\n",
    "\n",
    "# 4. Close connection"
   ]
  },
  {
   "cell_type": "code",
   "execution_count": 10,
   "id": "6e61ce37",
   "metadata": {},
   "outputs": [
    {
     "name": "stdout",
     "output_type": "stream",
     "text": [
      "<mysql.connector.connection_cext.CMySQLConnection object at 0x0000026233537760>\n"
     ]
    }
   ],
   "source": [
    "# connect to database\n",
    "\n",
    "import mysql.connector\n",
    "\n",
    "host='localhost'\n",
    "user='root'\n",
    "password=''\n",
    "database='training'\n",
    "port=3306\n",
    "\n",
    "try:\n",
    "    conn=mysql.connector.connect(host=host, user=user, password=password, database=database)\n",
    "    print(conn)\n",
    "except:\n",
    "    print('Database Not Connected')"
   ]
  },
  {
   "cell_type": "code",
   "execution_count": 11,
   "id": "4fe34903",
   "metadata": {},
   "outputs": [
    {
     "name": "stdout",
     "output_type": "stream",
     "text": [
      "CMySQLCursor: (Nothing executed yet)\n"
     ]
    }
   ],
   "source": [
    "# create cursor\n",
    "try:\n",
    "    cur=conn.cursor()\n",
    "    print(cur)\n",
    "except:\n",
    "    print('Cursor not created')"
   ]
  },
  {
   "cell_type": "code",
   "execution_count": 38,
   "id": "b4eebba1",
   "metadata": {},
   "outputs": [],
   "source": [
    "# CRUD- INSERT\n",
    "\n",
    "sql='insert into student values(101, \"Prateek\", \"Delhi\")'\n",
    "\n",
    "cur.execute(sql)\n",
    "\n",
    "conn.commit()"
   ]
  },
  {
   "cell_type": "code",
   "execution_count": 17,
   "id": "5a1237e6",
   "metadata": {},
   "outputs": [
    {
     "name": "stdout",
     "output_type": "stream",
     "text": [
      "CMySQLCursor: insert into student values(103, \"Deepika..\n"
     ]
    }
   ],
   "source": [
    "print(cur)"
   ]
  },
  {
   "cell_type": "code",
   "execution_count": 39,
   "id": "63d0b64b",
   "metadata": {},
   "outputs": [],
   "source": [
    "# CRUD- INSERT MANY\n",
    "\n",
    "sql='insert into student values(%s, %s, %s)'\n",
    "val=[\n",
    "    (104, \"Keerthana\", \"Hyderabad\"),\n",
    "    (105, \"Ashritha\", \"Vizag\"),\n",
    "    (106, \"Deepali\", \"Bhopal\"),\n",
    "    (107, \"Ram\", \"Mumbai\")\n",
    "]\n",
    "\n",
    "cur.executemany(sql, val)\n",
    "\n",
    "conn.commit()"
   ]
  },
  {
   "cell_type": "code",
   "execution_count": 40,
   "id": "29425c61",
   "metadata": {},
   "outputs": [
    {
     "name": "stdout",
     "output_type": "stream",
     "text": [
      "------------------------\n",
      "Student ID: 101\n",
      "Name: Prateek\n",
      "City: Delhi\n",
      "------------------------\n",
      "------------------------\n",
      "Student ID: 102\n",
      "Name: Vishal\n",
      "City: Delhi\n",
      "------------------------\n",
      "------------------------\n",
      "Student ID: 103\n",
      "Name: Deepika\n",
      "City: Chennai\n",
      "------------------------\n",
      "------------------------\n",
      "Student ID: 104\n",
      "Name: Keerthana\n",
      "City: Hyderabad\n",
      "------------------------\n",
      "------------------------\n",
      "Student ID: 105\n",
      "Name: Ashritha\n",
      "City: Vizag\n",
      "------------------------\n",
      "------------------------\n",
      "Student ID: 106\n",
      "Name: Deepali\n",
      "City: Bhopal\n",
      "------------------------\n",
      "------------------------\n",
      "Student ID: 107\n",
      "Name: Ram\n",
      "City: Mumbai\n",
      "------------------------\n"
     ]
    }
   ],
   "source": [
    "# CRUD- SELECT\n",
    "\n",
    "sql='select * from student'\n",
    "cur.execute(sql)\n",
    "result=cur.fetchall() # fetchone()\n",
    "\n",
    "for row in result:\n",
    "    print('------------------------')\n",
    "    print('Student ID: {0}\\nName: {1}\\nCity: {2}'.format(row[0],row[1],row[2]))\n",
    "    print('------------------------')"
   ]
  },
  {
   "cell_type": "code",
   "execution_count": 41,
   "id": "9980a821",
   "metadata": {},
   "outputs": [
    {
     "name": "stderr",
     "output_type": "stream",
     "text": [
      "C:\\Users\\pvashishtha\\Anaconda3\\lib\\site-packages\\pandas\\io\\sql.py:761: UserWarning: pandas only support SQLAlchemy connectable(engine/connection) ordatabase string URI or sqlite3 DBAPI2 connectionother DBAPI2 objects are not tested, please consider using SQLAlchemy\n",
      "  warnings.warn(\n"
     ]
    },
    {
     "data": {
      "text/html": [
       "<div>\n",
       "<style scoped>\n",
       "    .dataframe tbody tr th:only-of-type {\n",
       "        vertical-align: middle;\n",
       "    }\n",
       "\n",
       "    .dataframe tbody tr th {\n",
       "        vertical-align: top;\n",
       "    }\n",
       "\n",
       "    .dataframe thead th {\n",
       "        text-align: right;\n",
       "    }\n",
       "</style>\n",
       "<table border=\"1\" class=\"dataframe\">\n",
       "  <thead>\n",
       "    <tr style=\"text-align: right;\">\n",
       "      <th></th>\n",
       "      <th>id</th>\n",
       "      <th>name</th>\n",
       "      <th>city</th>\n",
       "    </tr>\n",
       "  </thead>\n",
       "  <tbody>\n",
       "    <tr>\n",
       "      <th>0</th>\n",
       "      <td>101</td>\n",
       "      <td>Prateek</td>\n",
       "      <td>Delhi</td>\n",
       "    </tr>\n",
       "    <tr>\n",
       "      <th>1</th>\n",
       "      <td>102</td>\n",
       "      <td>Vishal</td>\n",
       "      <td>Delhi</td>\n",
       "    </tr>\n",
       "    <tr>\n",
       "      <th>2</th>\n",
       "      <td>103</td>\n",
       "      <td>Deepika</td>\n",
       "      <td>Chennai</td>\n",
       "    </tr>\n",
       "    <tr>\n",
       "      <th>3</th>\n",
       "      <td>104</td>\n",
       "      <td>Keerthana</td>\n",
       "      <td>Hyderabad</td>\n",
       "    </tr>\n",
       "    <tr>\n",
       "      <th>4</th>\n",
       "      <td>105</td>\n",
       "      <td>Ashritha</td>\n",
       "      <td>Vizag</td>\n",
       "    </tr>\n",
       "    <tr>\n",
       "      <th>5</th>\n",
       "      <td>106</td>\n",
       "      <td>Deepali</td>\n",
       "      <td>Bhopal</td>\n",
       "    </tr>\n",
       "    <tr>\n",
       "      <th>6</th>\n",
       "      <td>107</td>\n",
       "      <td>Ram</td>\n",
       "      <td>Mumbai</td>\n",
       "    </tr>\n",
       "  </tbody>\n",
       "</table>\n",
       "</div>"
      ],
      "text/plain": [
       "    id       name       city\n",
       "0  101    Prateek      Delhi\n",
       "1  102     Vishal      Delhi\n",
       "2  103    Deepika    Chennai\n",
       "3  104  Keerthana  Hyderabad\n",
       "4  105   Ashritha      Vizag\n",
       "5  106    Deepali     Bhopal\n",
       "6  107        Ram     Mumbai"
      ]
     },
     "execution_count": 41,
     "metadata": {},
     "output_type": "execute_result"
    }
   ],
   "source": [
    "import pandas as pd\n",
    "sql='select * from student'\n",
    "data=pd.read_sql(sql, conn)\n",
    "data"
   ]
  },
  {
   "cell_type": "code",
   "execution_count": 42,
   "id": "d1d8c23b",
   "metadata": {},
   "outputs": [
    {
     "name": "stdout",
     "output_type": "stream",
     "text": [
      "1 rows updates in database\n"
     ]
    }
   ],
   "source": [
    "# CRUD- UPDATE\n",
    "sql='update student set city=\"Mumbai\" where id=102'\n",
    "cur.execute(sql)\n",
    "conn.commit()\n",
    "print('{0} rows updates in database'.format(cur.rowcount))"
   ]
  },
  {
   "cell_type": "code",
   "execution_count": 43,
   "id": "479a1851",
   "metadata": {},
   "outputs": [
    {
     "name": "stdout",
     "output_type": "stream",
     "text": [
      "1 rows deleted from database\n"
     ]
    }
   ],
   "source": [
    "# CRUD- DELETE\n",
    "sql='delete from student where city=\"Delhi\"'\n",
    "cur.execute(sql)\n",
    "print('{0} rows deleted from database'.format(cur.rowcount))"
   ]
  },
  {
   "cell_type": "code",
   "execution_count": 44,
   "id": "b1b80f8b",
   "metadata": {},
   "outputs": [],
   "source": [
    "conn.commit()"
   ]
  },
  {
   "cell_type": "code",
   "execution_count": 45,
   "id": "d860f2ae",
   "metadata": {},
   "outputs": [
    {
     "name": "stdout",
     "output_type": "stream",
     "text": [
      "Table Dropped!\n"
     ]
    }
   ],
   "source": [
    "# CRUD- DROP\n",
    "sql='drop table student'\n",
    "try:\n",
    "    cur.execute(sql)\n",
    "    print('Table Dropped!')\n",
    "except:\n",
    "    print('Drop Failed!')\n"
   ]
  },
  {
   "cell_type": "code",
   "execution_count": 46,
   "id": "dfb5fa3a",
   "metadata": {},
   "outputs": [],
   "source": [
    "# close connection\n",
    "\n",
    "cur.close()\n",
    "\n",
    "conn.close()"
   ]
  },
  {
   "cell_type": "code",
   "execution_count": 47,
   "id": "7d475e47",
   "metadata": {},
   "outputs": [],
   "source": [
    "conn.disconnect()"
   ]
  },
  {
   "cell_type": "markdown",
   "id": "b921fbd3",
   "metadata": {},
   "source": [
    "### Example"
   ]
  },
  {
   "cell_type": "code",
   "execution_count": null,
   "id": "493fb18f",
   "metadata": {},
   "outputs": [],
   "source": [
    "# create a class that manages database. It has functionalities like:\n",
    "# insert data, update, delete, select\n",
    "# use company database and employee table\n",
    "# "
   ]
  },
  {
   "cell_type": "code",
   "execution_count": null,
   "id": "b8eaf297",
   "metadata": {},
   "outputs": [],
   "source": [
    "# emp(eid int primary key, ename varchar(20), dept int, sal int);"
   ]
  },
  {
   "cell_type": "code",
   "execution_count": 83,
   "id": "854e3852",
   "metadata": {},
   "outputs": [],
   "source": [
    "import mysql.connector\n",
    "class Employee:\n",
    "    def __init__(self, host, user, password, database):\n",
    "        try:\n",
    "            self.conn=mysql.connector.connect(host=host, user=user, password=password,\n",
    "                                             database=database)\n",
    "            self.cur=self.conn.cursor()\n",
    "            print('Database Connected, Start Using now!')\n",
    "        except:\n",
    "            print('Error Connecting DB')\n",
    "        return None\n",
    "    def addEmployee(self, eid, ename, dept, sal):\n",
    "        sql='insert into emp values(%s,%s,%s,%s)'\n",
    "        val=(eid, ename, dept, sal)\n",
    "        self.cur.execute(sql, val)\n",
    "        self.conn.commit()\n",
    "        return self.cur.rowcount\n",
    "    def updateEmployee(self, sql):\n",
    "        self.cur.execute(sql)\n",
    "        self.conn.commit()\n",
    "        return self.cur.rowcount\n",
    "    def displayAll(self):\n",
    "        sql='select * from emp'\n",
    "        self.cur.execute(sql)\n",
    "        self.result=self.cur.fetchall()\n",
    "        for self.row in self.result:\n",
    "            print(self.row)\n",
    "    def deleteEmployee(self, id):\n",
    "        sql='delete from emp where eid={0}'.format(id)\n",
    "        self.cur.execute(sql)\n",
    "        self.conn.commit()\n",
    "        return self.cur.rowcount\n",
    "    def __del__(self):\n",
    "        self.cur.close()\n",
    "        self.conn.close()\n",
    "        print('Database Closed')\n",
    "        "
   ]
  },
  {
   "cell_type": "code",
   "execution_count": 87,
   "id": "2327c366",
   "metadata": {},
   "outputs": [
    {
     "name": "stdout",
     "output_type": "stream",
     "text": [
      "Database Connected, Start Using now!\n"
     ]
    }
   ],
   "source": [
    "emp=Employee('localhost','root','','company')"
   ]
  },
  {
   "cell_type": "code",
   "execution_count": 89,
   "id": "cf1b8347",
   "metadata": {
    "scrolled": true
   },
   "outputs": [
    {
     "data": {
      "text/plain": [
       "1"
      ]
     },
     "execution_count": 89,
     "metadata": {},
     "output_type": "execute_result"
    }
   ],
   "source": [
    "emp.addEmployee(94, 'Kiran',10, 90000)"
   ]
  },
  {
   "cell_type": "code",
   "execution_count": 90,
   "id": "a2b75350",
   "metadata": {},
   "outputs": [
    {
     "data": {
      "text/plain": [
       "0"
      ]
     },
     "execution_count": 90,
     "metadata": {},
     "output_type": "execute_result"
    }
   ],
   "source": [
    "emp.updateEmployee('update emp set sal=220000 where eid=90')"
   ]
  },
  {
   "cell_type": "code",
   "execution_count": 91,
   "id": "b2c5648e",
   "metadata": {},
   "outputs": [
    {
     "name": "stdout",
     "output_type": "stream",
     "text": [
      "(90, 'Prateek', 30, 220000)\n",
      "(91, 'Vishal', 20, 120000)\n",
      "(92, 'Deepali', 10, 130000)\n",
      "(93, 'Kiran', 10, 90000)\n",
      "(94, 'Kiran', 10, 90000)\n"
     ]
    }
   ],
   "source": [
    "emp.displayAll()"
   ]
  },
  {
   "cell_type": "code",
   "execution_count": 92,
   "id": "87c11752",
   "metadata": {},
   "outputs": [
    {
     "data": {
      "text/plain": [
       "1"
      ]
     },
     "execution_count": 92,
     "metadata": {},
     "output_type": "execute_result"
    }
   ],
   "source": [
    "emp.deleteEmployee(91)"
   ]
  },
  {
   "cell_type": "code",
   "execution_count": 94,
   "id": "a8901f8e",
   "metadata": {
    "collapsed": true
   },
   "outputs": [
    {
     "ename": "NameError",
     "evalue": "name 'emp' is not defined",
     "output_type": "error",
     "traceback": [
      "\u001b[1;31m---------------------------------------------------------------------------\u001b[0m",
      "\u001b[1;31mNameError\u001b[0m                                 Traceback (most recent call last)",
      "Input \u001b[1;32mIn [94]\u001b[0m, in \u001b[0;36m<cell line: 1>\u001b[1;34m()\u001b[0m\n\u001b[1;32m----> 1\u001b[0m \u001b[38;5;28;01mdel\u001b[39;00m emp\n",
      "\u001b[1;31mNameError\u001b[0m: name 'emp' is not defined"
     ]
    }
   ],
   "source": [
    "del emp"
   ]
  },
  {
   "cell_type": "code",
   "execution_count": null,
   "id": "80b04f64",
   "metadata": {},
   "outputs": [],
   "source": []
  }
 ],
 "metadata": {
  "kernelspec": {
   "display_name": "Python 3 (ipykernel)",
   "language": "python",
   "name": "python3"
  },
  "language_info": {
   "codemirror_mode": {
    "name": "ipython",
    "version": 3
   },
   "file_extension": ".py",
   "mimetype": "text/x-python",
   "name": "python",
   "nbconvert_exporter": "python",
   "pygments_lexer": "ipython3",
   "version": "3.9.12"
  }
 },
 "nbformat": 4,
 "nbformat_minor": 5
}
