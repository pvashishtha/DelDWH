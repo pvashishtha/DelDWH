{
 "cells": [
  {
   "cell_type": "markdown",
   "id": "622bd754",
   "metadata": {},
   "source": [
    "### Regular Expression Examples and Functionalities"
   ]
  },
  {
   "cell_type": "code",
   "execution_count": 1,
   "id": "91b7bfba",
   "metadata": {},
   "outputs": [],
   "source": [
    "import re"
   ]
  },
  {
   "cell_type": "code",
   "execution_count": 3,
   "id": "6b6c85b6",
   "metadata": {
    "collapsed": true
   },
   "outputs": [
    {
     "data": {
      "text/plain": [
       "['__name__',\n",
       " '__doc__',\n",
       " '__package__',\n",
       " '__loader__',\n",
       " '__spec__',\n",
       " '__file__',\n",
       " '__cached__',\n",
       " '__builtins__',\n",
       " 'enum',\n",
       " 'sre_compile',\n",
       " 'sre_parse',\n",
       " 'functools',\n",
       " '_locale',\n",
       " '__all__',\n",
       " '__version__',\n",
       " 'RegexFlag',\n",
       " 'ASCII',\n",
       " 'A',\n",
       " 'IGNORECASE',\n",
       " 'I',\n",
       " 'LOCALE',\n",
       " 'L',\n",
       " 'UNICODE',\n",
       " 'U',\n",
       " 'MULTILINE',\n",
       " 'M',\n",
       " 'DOTALL',\n",
       " 'S',\n",
       " 'VERBOSE',\n",
       " 'X',\n",
       " 'TEMPLATE',\n",
       " 'T',\n",
       " 'DEBUG',\n",
       " 'error',\n",
       " 'match',\n",
       " 'fullmatch',\n",
       " 'search',\n",
       " 'sub',\n",
       " 'subn',\n",
       " 'split',\n",
       " 'findall',\n",
       " 'finditer',\n",
       " 'compile',\n",
       " 'purge',\n",
       " 'template',\n",
       " '_special_chars_map',\n",
       " 'escape',\n",
       " 'Pattern',\n",
       " 'Match',\n",
       " '_cache',\n",
       " '_MAXCACHE',\n",
       " '_compile',\n",
       " '_compile_repl',\n",
       " '_expand',\n",
       " '_subx',\n",
       " 'copyreg',\n",
       " '_pickle',\n",
       " 'Scanner']"
      ]
     },
     "execution_count": 3,
     "metadata": {},
     "output_type": "execute_result"
    }
   ],
   "source": [
    "re.__dir__()"
   ]
  },
  {
   "cell_type": "code",
   "execution_count": 4,
   "id": "e3a6dd87",
   "metadata": {},
   "outputs": [
    {
     "name": "stdout",
     "output_type": "stream",
     "text": [
      "<re.Match object; span=(0, 1), match='d'>\n"
     ]
    }
   ],
   "source": [
    "s='deloitte.com'\n",
    "\n",
    "match=re.search(r'.',s)\n",
    "print(match)"
   ]
  },
  {
   "cell_type": "code",
   "execution_count": 5,
   "id": "b5f7a91c",
   "metadata": {},
   "outputs": [
    {
     "name": "stdout",
     "output_type": "stream",
     "text": [
      "<re.Match object; span=(8, 9), match='.'>\n"
     ]
    }
   ],
   "source": [
    "match=re.search(r'\\.',s)\n",
    "print(match)"
   ]
  },
  {
   "cell_type": "code",
   "execution_count": 17,
   "id": "b0211433",
   "metadata": {},
   "outputs": [
    {
     "name": "stdout",
     "output_type": "stream",
     "text": [
      "<re.Match object; span=(0, 3), match='for'>\n"
     ]
    }
   ],
   "source": [
    "s='for deloitte'\n",
    "\n",
    "print(re.search(r'\\Afor',s))"
   ]
  },
  {
   "cell_type": "code",
   "execution_count": 18,
   "id": "0b79251a",
   "metadata": {},
   "outputs": [
    {
     "name": "stdout",
     "output_type": "stream",
     "text": [
      "<re.Match object; span=(0, 2), match='te'>\n"
     ]
    }
   ],
   "source": [
    "s='tell deloitte'\n",
    "\n",
    "print(re.search(r'\\bte',s))"
   ]
  },
  {
   "cell_type": "code",
   "execution_count": 19,
   "id": "b34dbcd5",
   "metadata": {},
   "outputs": [
    {
     "name": "stdout",
     "output_type": "stream",
     "text": [
      "<re.Match object; span=(10, 12), match='te'>\n"
     ]
    }
   ],
   "source": [
    "s='The deloitte'\n",
    "\n",
    "print(re.search(r'te\\b',s))"
   ]
  },
  {
   "cell_type": "code",
   "execution_count": 27,
   "id": "17922a75",
   "metadata": {},
   "outputs": [
    {
     "name": "stdout",
     "output_type": "stream",
     "text": [
      "None\n"
     ]
    }
   ],
   "source": [
    "s='The deloitte'\n",
    "\n",
    "print(re.search(r'\\BThe',s))"
   ]
  },
  {
   "cell_type": "code",
   "execution_count": 28,
   "id": "5420910f",
   "metadata": {},
   "outputs": [
    {
     "name": "stdout",
     "output_type": "stream",
     "text": [
      "<re.Match object; span=(4, 5), match='3'>\n"
     ]
    }
   ],
   "source": [
    "s='The 3456 deloitte'\n",
    "\n",
    "print(re.search(r'\\d',s))"
   ]
  },
  {
   "cell_type": "code",
   "execution_count": 30,
   "id": "e0ec4028",
   "metadata": {},
   "outputs": [
    {
     "name": "stdout",
     "output_type": "stream",
     "text": [
      "<re.Match object; span=(4, 6), match='34'>\n"
     ]
    }
   ],
   "source": [
    "s='The 3456 deloitte'\n",
    "\n",
    "print(re.search(r'\\d{2}',s))"
   ]
  },
  {
   "cell_type": "code",
   "execution_count": 32,
   "id": "646b4924",
   "metadata": {},
   "outputs": [
    {
     "name": "stdout",
     "output_type": "stream",
     "text": [
      "<re.Match object; span=(28, 38), match='9808766699'>\n"
     ]
    }
   ],
   "source": [
    "s='Hi, My mobile number is +91-9808766699, you can save this.'\n",
    "\n",
    "print(re.search(r'\\d{10}',s))"
   ]
  },
  {
   "cell_type": "code",
   "execution_count": 36,
   "id": "96a04cf6",
   "metadata": {},
   "outputs": [
    {
     "name": "stdout",
     "output_type": "stream",
     "text": [
      "<re.Match object; span=(0, 25), match='Hi, My mobile number is +'>\n"
     ]
    }
   ],
   "source": [
    "s='Hi, My mobile number is +91-9808766699, you can save this.'\n",
    "\n",
    "print(re.search(r'\\D*',s))"
   ]
  },
  {
   "cell_type": "code",
   "execution_count": 45,
   "id": "dfaea053",
   "metadata": {},
   "outputs": [
    {
     "name": "stdout",
     "output_type": "stream",
     "text": [
      "<re.Match object; span=(13, 23), match='          '>\n"
     ]
    }
   ],
   "source": [
    "s='Hi, My mobile          number is +91-9808766699, you can save this.'\n",
    "\n",
    "print(re.search(r'\\s{10}',s))"
   ]
  },
  {
   "cell_type": "code",
   "execution_count": 39,
   "id": "cef6a7ea",
   "metadata": {},
   "outputs": [
    {
     "name": "stdout",
     "output_type": "stream",
     "text": [
      "<re.Match object; span=(0, 3), match='Hi,'>\n"
     ]
    }
   ],
   "source": [
    "s='Hi, My mobile number is +91-9808766699, you can save this.'\n",
    "\n",
    "print(re.search(r'\\S*',s))"
   ]
  },
  {
   "cell_type": "code",
   "execution_count": 46,
   "id": "3ea5b599",
   "metadata": {},
   "outputs": [
    {
     "name": "stdout",
     "output_type": "stream",
     "text": [
      "<re.Match object; span=(2, 3), match=','>\n"
     ]
    }
   ],
   "source": [
    "s='Hi, My mobile number is +91-9808766699, you can save this.'\n",
    "\n",
    "print(re.search(r'\\W',s))"
   ]
  },
  {
   "cell_type": "code",
   "execution_count": 48,
   "id": "e9c806c5",
   "metadata": {},
   "outputs": [
    {
     "name": "stdout",
     "output_type": "stream",
     "text": [
      "<re.Match object; span=(0, 2), match='Hi'>\n"
     ]
    }
   ],
   "source": [
    "s='Hi, My mobile number is +91-9808766699, you can save this.'\n",
    "\n",
    "print(re.search(r'\\w*',s))"
   ]
  },
  {
   "cell_type": "markdown",
   "id": "17b8e1dc",
   "metadata": {},
   "source": [
    "#### findall()"
   ]
  },
  {
   "cell_type": "code",
   "execution_count": 53,
   "id": "53181ca0",
   "metadata": {},
   "outputs": [
    {
     "name": "stdout",
     "output_type": "stream",
     "text": [
      "['9', '1', '9', '8', '0', '8', '7', '6', '6', '6', '9', '9']\n"
     ]
    }
   ],
   "source": [
    "s='Hi, My mobile number is +91-9808766699, you can save this.'\n",
    "\n",
    "print(re.findall(r'\\d',s))"
   ]
  },
  {
   "cell_type": "code",
   "execution_count": 56,
   "id": "423103ae",
   "metadata": {},
   "outputs": [
    {
     "name": "stdout",
     "output_type": "stream",
     "text": [
      "['9808766699', '8869088887']\n"
     ]
    }
   ],
   "source": [
    "s='Hi, My mobile number is +91-9808766699 or +91-8869088887, you can save this.'\n",
    "\n",
    "print(re.findall(r'\\d{10}',s))"
   ]
  },
  {
   "cell_type": "markdown",
   "id": "55cfda12",
   "metadata": {},
   "source": [
    "#### compile()"
   ]
  },
  {
   "cell_type": "code",
   "execution_count": 57,
   "id": "ca220483",
   "metadata": {},
   "outputs": [],
   "source": [
    "pattern=re.compile('\\d{10}')"
   ]
  },
  {
   "cell_type": "code",
   "execution_count": 59,
   "id": "41d964f4",
   "metadata": {},
   "outputs": [
    {
     "name": "stdout",
     "output_type": "stream",
     "text": [
      "<re.Match object; span=(13, 23), match='0123456789'>\n"
     ]
    }
   ],
   "source": [
    "print(pattern.search('my number is 0123456789 and 9876543210'))"
   ]
  },
  {
   "cell_type": "code",
   "execution_count": 60,
   "id": "b7e46f91",
   "metadata": {},
   "outputs": [
    {
     "name": "stdout",
     "output_type": "stream",
     "text": [
      "['0123456789', '9876543210']\n"
     ]
    }
   ],
   "source": [
    "print(pattern.findall('my number is 0123456789 and 9876543210'))"
   ]
  },
  {
   "cell_type": "code",
   "execution_count": 64,
   "id": "7e9822d2",
   "metadata": {},
   "outputs": [],
   "source": [
    "# exmaple\n",
    "\n",
    "s='''I am good. how are you? do you know what is date today?\n",
    "I'm sure you know that date is 16.'''\n",
    "\n",
    "pattern=re.compile('\\w+')"
   ]
  },
  {
   "cell_type": "code",
   "execution_count": 65,
   "id": "0341939d",
   "metadata": {},
   "outputs": [
    {
     "name": "stdout",
     "output_type": "stream",
     "text": [
      "<re.Match object; span=(0, 1), match='I'>\n"
     ]
    }
   ],
   "source": [
    "print(pattern.search(s))"
   ]
  },
  {
   "cell_type": "code",
   "execution_count": 66,
   "id": "fc94f443",
   "metadata": {},
   "outputs": [
    {
     "name": "stdout",
     "output_type": "stream",
     "text": [
      "['I', 'am', 'good', 'how', 'are', 'you', 'do', 'you', 'know', 'what', 'is', 'date', 'today', 'I', 'm', 'sure', 'you', 'know', 'that', 'date', 'is', '16']\n"
     ]
    }
   ],
   "source": [
    "print(pattern.findall(s))"
   ]
  },
  {
   "cell_type": "markdown",
   "id": "0de4c4fa",
   "metadata": {},
   "source": [
    "### split()"
   ]
  },
  {
   "cell_type": "code",
   "execution_count": 70,
   "id": "60b42cfd",
   "metadata": {},
   "outputs": [
    {
     "name": "stdout",
     "output_type": "stream",
     "text": [
      "['hello', 'how', 'are', 'you', 'my', 'rank', 'is', '100']\n"
     ]
    }
   ],
   "source": [
    "print(re.split('\\W+', 'hello how are you, my rank is 100'))"
   ]
  },
  {
   "cell_type": "code",
   "execution_count": 71,
   "id": "9352d61d",
   "metadata": {},
   "outputs": [
    {
     "name": "stdout",
     "output_type": "stream",
     "text": [
      "['hello how are you, my rank is ', '. Is your rank ', ' in same exam?']\n"
     ]
    }
   ],
   "source": [
    "print(re.split('\\d+', 'hello how are you, my rank is 100. Is your rank 90 in same exam?'))"
   ]
  },
  {
   "cell_type": "markdown",
   "id": "2703f007",
   "metadata": {},
   "source": [
    "### sub()"
   ]
  },
  {
   "cell_type": "code",
   "execution_count": 72,
   "id": "4a730a7e",
   "metadata": {},
   "outputs": [],
   "source": [
    "# substitute substring"
   ]
  },
  {
   "cell_type": "code",
   "execution_count": 77,
   "id": "89c20dc3",
   "metadata": {},
   "outputs": [
    {
     "name": "stdout",
     "output_type": "stream",
     "text": [
      "I like to book Ola cabs. Ola is less expensive.\n"
     ]
    }
   ],
   "source": [
    "s='I like to book Uber cabs. Uber is less expensive.'\n",
    "\n",
    "print(re.sub('UBER', 'Ola', s, flags=re.IGNORECASE))"
   ]
  },
  {
   "cell_type": "code",
   "execution_count": 79,
   "id": "fb0de051",
   "metadata": {},
   "outputs": [
    {
     "name": "stdout",
     "output_type": "stream",
     "text": [
      "I like to book Ola cabs. But, Uber is less expensive.\n"
     ]
    }
   ],
   "source": [
    "s='I like to book Uber cabs. But, Uber is less expensive.'\n",
    "\n",
    "print(re.sub('UBER', 'Ola', s, flags=re.IGNORECASE, count=1))"
   ]
  },
  {
   "cell_type": "code",
   "execution_count": 80,
   "id": "d6781695",
   "metadata": {},
   "outputs": [
    {
     "name": "stdout",
     "output_type": "stream",
     "text": [
      "I like to book Ola cabs. But, Ola is less expensive.\n"
     ]
    }
   ],
   "source": [
    "s='I like to book Uber cabs. But, Uber is less expensive.'\n",
    "\n",
    "print(re.sub('UBER', 'Ola', s, flags=re.IGNORECASE, count=2))"
   ]
  },
  {
   "cell_type": "markdown",
   "id": "5e91d5fe",
   "metadata": {},
   "source": [
    "### search()"
   ]
  },
  {
   "cell_type": "code",
   "execution_count": 81,
   "id": "15e1fffd",
   "metadata": {},
   "outputs": [
    {
     "name": "stdout",
     "output_type": "stream",
     "text": [
      "<re.Match object; span=(22, 33), match='18 November'>\n"
     ]
    }
   ],
   "source": [
    "s='I am not available on 18 November.'\n",
    "\n",
    "pattern=r'(\\d+) ([A-Za-z]+)'\n",
    "\n",
    "match=re.search(pattern, s)\n",
    "\n",
    "print(match)"
   ]
  },
  {
   "cell_type": "code",
   "execution_count": 87,
   "id": "4cc9ab59",
   "metadata": {},
   "outputs": [
    {
     "name": "stdout",
     "output_type": "stream",
     "text": [
      "22 to 33\n"
     ]
    }
   ],
   "source": [
    "print(match.start(), match.end(), sep=' to ')"
   ]
  },
  {
   "cell_type": "code",
   "execution_count": 84,
   "id": "5d2ef056",
   "metadata": {},
   "outputs": [
    {
     "name": "stdout",
     "output_type": "stream",
     "text": [
      "18 November\n"
     ]
    }
   ],
   "source": [
    "print(match.group(0))"
   ]
  },
  {
   "cell_type": "code",
   "execution_count": 85,
   "id": "422a5bef",
   "metadata": {},
   "outputs": [
    {
     "name": "stdout",
     "output_type": "stream",
     "text": [
      "18\n"
     ]
    }
   ],
   "source": [
    "print(match.group(1))"
   ]
  },
  {
   "cell_type": "code",
   "execution_count": 86,
   "id": "203112a0",
   "metadata": {},
   "outputs": [
    {
     "name": "stdout",
     "output_type": "stream",
     "text": [
      "November\n"
     ]
    }
   ],
   "source": [
    "print(match.group(2))"
   ]
  },
  {
   "cell_type": "markdown",
   "id": "6e15de09",
   "metadata": {},
   "source": [
    "### Example"
   ]
  },
  {
   "cell_type": "code",
   "execution_count": 125,
   "id": "25003244",
   "metadata": {},
   "outputs": [],
   "source": [
    "# find the email id & extract from the statement string.\n",
    "\n",
    "s='my email id is prateek9090@deloitte.com. you can text me details here.'"
   ]
  },
  {
   "cell_type": "code",
   "execution_count": 126,
   "id": "fd0e8749",
   "metadata": {},
   "outputs": [],
   "source": [
    "pattern=r'([A-Za-z0-9]+)(@deloitte.com)'"
   ]
  },
  {
   "cell_type": "code",
   "execution_count": 127,
   "id": "1c298fa3",
   "metadata": {},
   "outputs": [],
   "source": [
    "match=re.search(pattern,s)"
   ]
  },
  {
   "cell_type": "code",
   "execution_count": 128,
   "id": "ff345082",
   "metadata": {},
   "outputs": [
    {
     "name": "stdout",
     "output_type": "stream",
     "text": [
      "prateek9090@deloitte.com\n"
     ]
    }
   ],
   "source": [
    "print(match.group(0))"
   ]
  },
  {
   "cell_type": "code",
   "execution_count": null,
   "id": "17b609aa",
   "metadata": {},
   "outputs": [],
   "source": []
  }
 ],
 "metadata": {
  "kernelspec": {
   "display_name": "Python 3 (ipykernel)",
   "language": "python",
   "name": "python3"
  },
  "language_info": {
   "codemirror_mode": {
    "name": "ipython",
    "version": 3
   },
   "file_extension": ".py",
   "mimetype": "text/x-python",
   "name": "python",
   "nbconvert_exporter": "python",
   "pygments_lexer": "ipython3",
   "version": "3.9.12"
  }
 },
 "nbformat": 4,
 "nbformat_minor": 5
}
