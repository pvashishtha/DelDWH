{
 "cells": [
  {
   "cell_type": "markdown",
   "id": "6ef16363",
   "metadata": {},
   "source": [
    "## Classes & Objects- Concepts"
   ]
  },
  {
   "cell_type": "code",
   "execution_count": 26,
   "id": "32c945bc",
   "metadata": {},
   "outputs": [],
   "source": [
    "# syntax\n",
    "\n",
    "class Student:\n",
    "    name=''\n",
    "    rollno=0\n",
    "    city=''\n",
    "    \n",
    "    def __init__(self, name, rollno, city): \n",
    "        # constructor of class used for initialising vars.\n",
    "        self.name=name\n",
    "        self.rollno=rollno\n",
    "        self.city=city\n",
    "        return None\n",
    "    \n",
    "    def displayDetails(self):\n",
    "        print('Student Data: ')\n",
    "        print('Name: {0}\\nRoll No: {1}\\nCity: {2}'.format(self.name,self.rollno,self.city))\n",
    "        \n",
    "    def updateCity(self, city):\n",
    "        self.city=city\n",
    "        self.displayDetails()\n",
    "    \n",
    "    def __del__(self):\n",
    "        print('Object Removed')"
   ]
  },
  {
   "cell_type": "code",
   "execution_count": 33,
   "id": "bf013c56",
   "metadata": {},
   "outputs": [
    {
     "name": "stdout",
     "output_type": "stream",
     "text": [
      "Object Removed\n"
     ]
    }
   ],
   "source": [
    "# creating objetcs\n",
    "deepika=Student('Deepika', 101, 'Hyderabad')\n",
    "vishal=Student('Vishal',102, 'Patna')"
   ]
  },
  {
   "cell_type": "code",
   "execution_count": 34,
   "id": "e454f91c",
   "metadata": {},
   "outputs": [
    {
     "name": "stdout",
     "output_type": "stream",
     "text": [
      "Student Data: \n",
      "Name: Deepika\n",
      "Roll No: 101\n",
      "City: Hyderabad\n"
     ]
    }
   ],
   "source": [
    "deepika.displayDetails()"
   ]
  },
  {
   "cell_type": "code",
   "execution_count": 35,
   "id": "b77a7689",
   "metadata": {},
   "outputs": [
    {
     "name": "stdout",
     "output_type": "stream",
     "text": [
      "Student Data: \n",
      "Name: Vishal\n",
      "Roll No: 102\n",
      "City: Patna\n"
     ]
    }
   ],
   "source": [
    "vishal.displayDetails()"
   ]
  },
  {
   "cell_type": "code",
   "execution_count": 36,
   "id": "924006ca",
   "metadata": {},
   "outputs": [
    {
     "name": "stdout",
     "output_type": "stream",
     "text": [
      "Student Data: \n",
      "Name: Vishal\n",
      "Roll No: 102\n",
      "City: Mumbai\n"
     ]
    }
   ],
   "source": [
    "vishal.updateCity('Mumbai')"
   ]
  },
  {
   "cell_type": "code",
   "execution_count": 37,
   "id": "c9db5f27",
   "metadata": {},
   "outputs": [
    {
     "name": "stdout",
     "output_type": "stream",
     "text": [
      "Object Removed\n"
     ]
    }
   ],
   "source": [
    "del vishal"
   ]
  },
  {
   "cell_type": "code",
   "execution_count": 39,
   "id": "670dc16e",
   "metadata": {},
   "outputs": [
    {
     "ename": "NameError",
     "evalue": "name 'vishal' is not defined",
     "output_type": "error",
     "traceback": [
      "\u001b[1;31m---------------------------------------------------------------------------\u001b[0m",
      "\u001b[1;31mNameError\u001b[0m                                 Traceback (most recent call last)",
      "Input \u001b[1;32mIn [39]\u001b[0m, in \u001b[0;36m<cell line: 1>\u001b[1;34m()\u001b[0m\n\u001b[1;32m----> 1\u001b[0m \u001b[43mvishal\u001b[49m\u001b[38;5;241m.\u001b[39mdisplayDetails()\n",
      "\u001b[1;31mNameError\u001b[0m: name 'vishal' is not defined"
     ]
    }
   ],
   "source": [
    "vishal.displayDetails()"
   ]
  },
  {
   "cell_type": "markdown",
   "id": "1950169c",
   "metadata": {},
   "source": [
    "#### Write a python code to create a class CUSTOMER for banking institute.\n",
    "#### Attributes and methods must be chosen appropriately as per banking domain\n",
    "#### Any object created, should be able to perform required behavior"
   ]
  },
  {
   "cell_type": "code",
   "execution_count": 40,
   "id": "148065a3",
   "metadata": {},
   "outputs": [],
   "source": [
    "class Customer:\n",
    "    cust_name=''\n",
    "    account_no=0\n",
    "    ifsc_code=''\n",
    "    city=''\n",
    "    balance=0\n",
    "    \n",
    "    def __init__(self):\n",
    "        return None\n",
    "    def createCustomer(self):\n",
    "        return None\n",
    "    def depositMoney(self, amount):\n",
    "        return balance\n",
    "    def withdrawMoney(self, amount):\n",
    "        return balance\n",
    "    def checkBalance(self, account_no):\n",
    "        return balance\n",
    "    def updateCity(self):\n",
    "        return None\n",
    "    def updateIFSC(self):\n",
    "        return None\n",
    "    def updateBranch(self):\n",
    "        self.updateIFSC()\n",
    "        self.updateCity()\n",
    "        return None\n",
    "    def removeCustomer(self, account_no):\n",
    "        return True\n",
    "    "
   ]
  },
  {
   "cell_type": "markdown",
   "id": "8af7185d",
   "metadata": {},
   "source": [
    "## OOP Concepts"
   ]
  },
  {
   "cell_type": "code",
   "execution_count": 41,
   "id": "e5e89847",
   "metadata": {},
   "outputs": [],
   "source": [
    "# Inheritance\n",
    "\n",
    "# Polymorphism - Many, Forms\n",
    "\n",
    "# Abstraction\n",
    "\n",
    "# Encapsulation\n",
    "\n",
    "# Dynamic Binding\n",
    "\n",
    "# Message Passing\n",
    "\n",
    "# Overloading- methods has same name, different signature\n",
    "\n",
    "# overriding- preferential execution"
   ]
  },
  {
   "cell_type": "markdown",
   "id": "95fc7b8e",
   "metadata": {},
   "source": [
    "### Inheritance"
   ]
  },
  {
   "cell_type": "code",
   "execution_count": 61,
   "id": "9e39902f",
   "metadata": {},
   "outputs": [],
   "source": [
    "class Base: #parent\n",
    "    x=10\n",
    "    y=20\n",
    "    def __init__(self,x,y):\n",
    "        self.x=x\n",
    "        self.y=y\n",
    "        return None\n",
    "    def display_xy(self):\n",
    "        print('Values X= {0} and Y= {1}'.format(self.x,self.y))\n",
    "        \n",
    "class Derived(Base): #child\n",
    "    z=50\n",
    "    def __init__(self,z):\n",
    "        self.z=z\n",
    "        return None\n",
    "    def display_z(self):\n",
    "        print('Values X= {0} and Y= {1}'.format(self.x,self.y))\n",
    "        print('Value Z= {0}'.format(self.z))"
   ]
  },
  {
   "cell_type": "code",
   "execution_count": 62,
   "id": "6bedd42e",
   "metadata": {},
   "outputs": [],
   "source": [
    "base1=Base(100,200)\n",
    "\n",
    "derived1=Derived(500)"
   ]
  },
  {
   "cell_type": "code",
   "execution_count": 63,
   "id": "a51cdec9",
   "metadata": {},
   "outputs": [
    {
     "name": "stdout",
     "output_type": "stream",
     "text": [
      "Values X= 100 and Y= 200\n"
     ]
    }
   ],
   "source": [
    "base1.display_xy()"
   ]
  },
  {
   "cell_type": "code",
   "execution_count": 64,
   "id": "d2dfa416",
   "metadata": {},
   "outputs": [
    {
     "name": "stdout",
     "output_type": "stream",
     "text": [
      "Values X= 10 and Y= 20\n",
      "Value Z= 500\n"
     ]
    }
   ],
   "source": [
    "derived1.display_z()"
   ]
  },
  {
   "cell_type": "code",
   "execution_count": 65,
   "id": "2dd908f8",
   "metadata": {},
   "outputs": [
    {
     "name": "stdout",
     "output_type": "stream",
     "text": [
      "Values X= 10 and Y= 20\n"
     ]
    }
   ],
   "source": [
    "derived1.display_xy()"
   ]
  },
  {
   "cell_type": "code",
   "execution_count": 67,
   "id": "5786e2ab",
   "metadata": {},
   "outputs": [
    {
     "name": "stdout",
     "output_type": "stream",
     "text": [
      "Values X= 1500 and Y= 2300\n",
      "Value Z= 500\n"
     ]
    }
   ],
   "source": [
    "derived1.x=1500\n",
    "derived1.y=2300\n",
    "derived1.display_z()"
   ]
  },
  {
   "cell_type": "code",
   "execution_count": null,
   "id": "b64aef33",
   "metadata": {},
   "outputs": [],
   "source": [
    "class Student: #parent\n",
    "    name, rollno, enrno, contact\n",
    "\n",
    "class EngineeringStudent: #child\n",
    "    branch, CGPA, \n",
    "    \n",
    "class MedicalStudent: # child\n",
    "    specialization, percentage, major, minor\n",
    "    \n",
    "class HumanitiesStudent:\n",
    "    core, alterative, \n",
    "    \n",
    "class Commerce Student:\n",
    "    CA, CS, Sp\n",
    "\n"
   ]
  },
  {
   "cell_type": "code",
   "execution_count": 91,
   "id": "b5ded268",
   "metadata": {},
   "outputs": [],
   "source": [
    "class Base: #parent\n",
    "    x=10\n",
    "    y=20\n",
    "    def __init__(self,x,y):\n",
    "        self.x=x\n",
    "        self.y=y\n",
    "        return None\n",
    "    def display(self):\n",
    "        print('Values X= {0} and Y= {1}'.format(self.x,self.y))\n",
    "        \n",
    "class Derived(Base): #child\n",
    "    z=50\n",
    "    def __init__(self,z):\n",
    "        self.z=z\n",
    "        return None\n",
    "    def display(self):\n",
    "        print('Values X= {0} and Y= {1}'.format(self.x,self.y))\n",
    "        print('Value Z= {0}'.format(self.z))"
   ]
  },
  {
   "cell_type": "code",
   "execution_count": 92,
   "id": "88e83209",
   "metadata": {},
   "outputs": [],
   "source": [
    "base1=Base(100,200)\n",
    "derived1=Derived(500)"
   ]
  },
  {
   "cell_type": "code",
   "execution_count": 93,
   "id": "459356d9",
   "metadata": {},
   "outputs": [
    {
     "name": "stdout",
     "output_type": "stream",
     "text": [
      "Values X= 100 and Y= 200\n"
     ]
    }
   ],
   "source": [
    "base1.display()"
   ]
  },
  {
   "cell_type": "code",
   "execution_count": 94,
   "id": "ed3a5f0c",
   "metadata": {},
   "outputs": [
    {
     "name": "stdout",
     "output_type": "stream",
     "text": [
      "Values X= 10 and Y= 20\n",
      "Value Z= 500\n"
     ]
    }
   ],
   "source": [
    "derived1.display() # overriding"
   ]
  },
  {
   "cell_type": "code",
   "execution_count": 95,
   "id": "cf1ec150",
   "metadata": {},
   "outputs": [],
   "source": [
    "derived2=Derived(3000)"
   ]
  },
  {
   "cell_type": "code",
   "execution_count": 96,
   "id": "ba22a4e5",
   "metadata": {},
   "outputs": [
    {
     "name": "stdout",
     "output_type": "stream",
     "text": [
      "Values X= 10 and Y= 20\n",
      "Value Z= 3000\n"
     ]
    }
   ],
   "source": [
    "derived2.display()"
   ]
  },
  {
   "cell_type": "markdown",
   "id": "b723862d",
   "metadata": {},
   "source": [
    "#### Types of inheritance"
   ]
  },
  {
   "cell_type": "code",
   "execution_count": 97,
   "id": "0cf9d943",
   "metadata": {},
   "outputs": [],
   "source": [
    "# Single\n",
    "\n",
    "class A: # parent/base\n",
    "    pass\n",
    "class B(A): # child/derived\n",
    "    pass\n"
   ]
  },
  {
   "cell_type": "code",
   "execution_count": 98,
   "id": "98343da5",
   "metadata": {},
   "outputs": [],
   "source": [
    "# Hierarchical\n",
    "\n",
    "class A:\n",
    "    pass\n",
    "\n",
    "class B(A):\n",
    "    pass\n",
    "\n",
    "class C(A):\n",
    "    pass"
   ]
  },
  {
   "cell_type": "code",
   "execution_count": 99,
   "id": "0d252124",
   "metadata": {},
   "outputs": [],
   "source": [
    "# Multi Level\n",
    "class A:\n",
    "    pass\n",
    "\n",
    "class B(A):\n",
    "    pass\n",
    "\n",
    "class C(B):\n",
    "    pass"
   ]
  },
  {
   "cell_type": "code",
   "execution_count": 100,
   "id": "541859df",
   "metadata": {},
   "outputs": [],
   "source": [
    "# Multiple\n",
    "\n",
    "class A:\n",
    "    pass\n",
    "\n",
    "class B:\n",
    "    pass\n",
    "\n",
    "class C(A,B):\n",
    "    pass"
   ]
  },
  {
   "cell_type": "markdown",
   "id": "f33bac5f",
   "metadata": {},
   "source": [
    "### Hierarchical"
   ]
  },
  {
   "cell_type": "code",
   "execution_count": 109,
   "id": "06cf834f",
   "metadata": {},
   "outputs": [],
   "source": [
    "class A:\n",
    "    x=10\n",
    "    def dispx(self):\n",
    "        print('X=',self.x)\n",
    "\n",
    "class B(A):\n",
    "    y=20\n",
    "    def dispy(self):\n",
    "        print('Y=',self.y)\n",
    "        \n",
    "class C(A):\n",
    "    z=30\n",
    "    def dispz(self):\n",
    "        print('Z=',self.z)"
   ]
  },
  {
   "cell_type": "code",
   "execution_count": 110,
   "id": "f1844c3a",
   "metadata": {},
   "outputs": [
    {
     "name": "stdout",
     "output_type": "stream",
     "text": [
      "X= 10\n"
     ]
    }
   ],
   "source": [
    "a=A()\n",
    "a.dispx()"
   ]
  },
  {
   "cell_type": "code",
   "execution_count": 113,
   "id": "dab9dade",
   "metadata": {},
   "outputs": [
    {
     "name": "stdout",
     "output_type": "stream",
     "text": [
      "X= 35\n",
      "Y= 20\n"
     ]
    }
   ],
   "source": [
    "b=B()\n",
    "b.x=35\n",
    "b.dispx()\n",
    "b.dispy()\n"
   ]
  },
  {
   "cell_type": "code",
   "execution_count": 114,
   "id": "198d8d7e",
   "metadata": {},
   "outputs": [
    {
     "name": "stdout",
     "output_type": "stream",
     "text": [
      "X= 55\n",
      "Z= 30\n"
     ]
    }
   ],
   "source": [
    "c=C()\n",
    "c.x=55\n",
    "c.dispx()\n",
    "c.dispz()"
   ]
  },
  {
   "cell_type": "markdown",
   "id": "bfc56e52",
   "metadata": {},
   "source": [
    "## Multiple"
   ]
  },
  {
   "cell_type": "code",
   "execution_count": 115,
   "id": "b357cbee",
   "metadata": {},
   "outputs": [],
   "source": [
    "class A:\n",
    "    x=10\n",
    "    def dispx(self):\n",
    "        print('X=',self.x)\n",
    "        \n",
    "class B:\n",
    "    y=20\n",
    "    def dispy(self):\n",
    "        print('Y=',self.y)\n",
    "        \n",
    "class C(A,B):\n",
    "    z=30\n",
    "    def dispz(self):\n",
    "        print('Z=',self.z)"
   ]
  },
  {
   "cell_type": "code",
   "execution_count": 117,
   "id": "2a8cf4b2",
   "metadata": {},
   "outputs": [
    {
     "name": "stdout",
     "output_type": "stream",
     "text": [
      "X= 350\n",
      "Y= 670\n",
      "Z= 30\n"
     ]
    }
   ],
   "source": [
    "c=C()\n",
    "c.x=350\n",
    "c.y=670\n",
    "c.dispx()\n",
    "c.dispy()\n",
    "c.dispz()"
   ]
  },
  {
   "cell_type": "markdown",
   "id": "2cc9f57b",
   "metadata": {},
   "source": [
    "### Multi Level"
   ]
  },
  {
   "cell_type": "code",
   "execution_count": 118,
   "id": "67e556f7",
   "metadata": {},
   "outputs": [],
   "source": [
    "class A:\n",
    "    x=10\n",
    "    def dispx(self):\n",
    "        print('X=',self.x)\n",
    "        \n",
    "class B(A):\n",
    "    y=20\n",
    "    def dispy(self):\n",
    "        print('Y=',self.y)\n",
    "        \n",
    "class C(B):\n",
    "    z=30\n",
    "    def dispz(self):\n",
    "        print('Z=',self.z)"
   ]
  },
  {
   "cell_type": "code",
   "execution_count": 119,
   "id": "659edd5f",
   "metadata": {},
   "outputs": [
    {
     "name": "stdout",
     "output_type": "stream",
     "text": [
      "X= 200\n",
      "Y= 20\n"
     ]
    }
   ],
   "source": [
    "b=B()\n",
    "b.x=200\n",
    "b.dispx()\n",
    "b.dispy()"
   ]
  },
  {
   "cell_type": "code",
   "execution_count": 122,
   "id": "f4d155f8",
   "metadata": {},
   "outputs": [
    {
     "name": "stdout",
     "output_type": "stream",
     "text": [
      "X= 700\n",
      "Y= 900\n",
      "Z= 30\n"
     ]
    }
   ],
   "source": [
    "c=C()\n",
    "c.x=700\n",
    "c.y=900\n",
    "c.dispx()\n",
    "c.dispy()\n",
    "c.dispz()"
   ]
  },
  {
   "cell_type": "markdown",
   "id": "09e0bf7c",
   "metadata": {},
   "source": [
    "### Protected Members"
   ]
  },
  {
   "cell_type": "code",
   "execution_count": 145,
   "id": "8d8e6fbc",
   "metadata": {},
   "outputs": [],
   "source": [
    "class A:\n",
    "    def __init__(self):\n",
    "        self.x=10\n",
    "        self._y=20\n",
    "    def dispxy(self):\n",
    "        print(self.x,self._y)\n",
    "        \n",
    "class B(A):\n",
    "    def __init__(self):\n",
    "        self.z=30\n",
    "        #A.__init__(self)\n",
    "        print(self._y)\n",
    "    \n",
    "    def dispz(self):\n",
    "        print(self.z)"
   ]
  },
  {
   "cell_type": "code",
   "execution_count": 146,
   "id": "329a217d",
   "metadata": {},
   "outputs": [
    {
     "name": "stdout",
     "output_type": "stream",
     "text": [
      "100 200\n"
     ]
    }
   ],
   "source": [
    "a=A()\n",
    "a.x=100\n",
    "a._y=200\n",
    "a.dispxy()"
   ]
  },
  {
   "cell_type": "code",
   "execution_count": 147,
   "id": "0967d820",
   "metadata": {},
   "outputs": [
    {
     "ename": "AttributeError",
     "evalue": "'B' object has no attribute '_y'",
     "output_type": "error",
     "traceback": [
      "\u001b[1;31m---------------------------------------------------------------------------\u001b[0m",
      "\u001b[1;31mAttributeError\u001b[0m                            Traceback (most recent call last)",
      "Input \u001b[1;32mIn [147]\u001b[0m, in \u001b[0;36m<cell line: 1>\u001b[1;34m()\u001b[0m\n\u001b[1;32m----> 1\u001b[0m b\u001b[38;5;241m=\u001b[39m\u001b[43mB\u001b[49m\u001b[43m(\u001b[49m\u001b[43m)\u001b[49m\n\u001b[0;32m      2\u001b[0m b\u001b[38;5;241m.\u001b[39mdispz()\n",
      "Input \u001b[1;32mIn [145]\u001b[0m, in \u001b[0;36mB.__init__\u001b[1;34m(self)\u001b[0m\n\u001b[0;32m     10\u001b[0m \u001b[38;5;28mself\u001b[39m\u001b[38;5;241m.\u001b[39mz\u001b[38;5;241m=\u001b[39m\u001b[38;5;241m30\u001b[39m\n\u001b[0;32m     11\u001b[0m \u001b[38;5;66;03m#A.__init__(self)\u001b[39;00m\n\u001b[1;32m---> 12\u001b[0m \u001b[38;5;28mprint\u001b[39m(\u001b[38;5;28;43mself\u001b[39;49m\u001b[38;5;241;43m.\u001b[39;49m\u001b[43m_y\u001b[49m)\n",
      "\u001b[1;31mAttributeError\u001b[0m: 'B' object has no attribute '_y'"
     ]
    }
   ],
   "source": [
    "b=B()\n",
    "b.dispz()"
   ]
  },
  {
   "cell_type": "markdown",
   "id": "97415abe",
   "metadata": {},
   "source": [
    "### Private Members"
   ]
  },
  {
   "cell_type": "code",
   "execution_count": 153,
   "id": "dab783b7",
   "metadata": {},
   "outputs": [],
   "source": [
    "# can not be accessed outside class or by child class\n",
    "\n",
    "class A:\n",
    "    def __init__(self):\n",
    "        self.x=10\n",
    "        self.__y=20\n",
    "    def dispxy(self):\n",
    "        print(self.x,self.__y)\n",
    "        \n",
    "class B(A):\n",
    "    def __init__(self):\n",
    "        self.z=30\n",
    "        A.__init__(self)\n",
    "        print(self.__y)\n",
    "    \n",
    "    def dispz(self):\n",
    "        print(self.z)"
   ]
  },
  {
   "cell_type": "code",
   "execution_count": 154,
   "id": "bf6bb61d",
   "metadata": {},
   "outputs": [
    {
     "name": "stdout",
     "output_type": "stream",
     "text": [
      "10 20\n"
     ]
    }
   ],
   "source": [
    "a=A()\n",
    "a.__y=200\n",
    "a.dispxy()"
   ]
  },
  {
   "cell_type": "code",
   "execution_count": 155,
   "id": "7900c941",
   "metadata": {},
   "outputs": [
    {
     "ename": "AttributeError",
     "evalue": "'B' object has no attribute '_B__y'",
     "output_type": "error",
     "traceback": [
      "\u001b[1;31m---------------------------------------------------------------------------\u001b[0m",
      "\u001b[1;31mAttributeError\u001b[0m                            Traceback (most recent call last)",
      "Input \u001b[1;32mIn [155]\u001b[0m, in \u001b[0;36m<cell line: 1>\u001b[1;34m()\u001b[0m\n\u001b[1;32m----> 1\u001b[0m b\u001b[38;5;241m=\u001b[39m\u001b[43mB\u001b[49m\u001b[43m(\u001b[49m\u001b[43m)\u001b[49m\n\u001b[0;32m      2\u001b[0m b\u001b[38;5;241m.\u001b[39mdispz()\n",
      "Input \u001b[1;32mIn [153]\u001b[0m, in \u001b[0;36mB.__init__\u001b[1;34m(self)\u001b[0m\n\u001b[0;32m     12\u001b[0m \u001b[38;5;28mself\u001b[39m\u001b[38;5;241m.\u001b[39mz\u001b[38;5;241m=\u001b[39m\u001b[38;5;241m30\u001b[39m\n\u001b[0;32m     13\u001b[0m A\u001b[38;5;241m.\u001b[39m\u001b[38;5;21m__init__\u001b[39m(\u001b[38;5;28mself\u001b[39m)\n\u001b[1;32m---> 14\u001b[0m \u001b[38;5;28mprint\u001b[39m(\u001b[38;5;28;43mself\u001b[39;49m\u001b[38;5;241;43m.\u001b[39;49m\u001b[43m__y\u001b[49m)\n",
      "\u001b[1;31mAttributeError\u001b[0m: 'B' object has no attribute '_B__y'"
     ]
    }
   ],
   "source": [
    "b=B()\n",
    "b.dispz()"
   ]
  },
  {
   "cell_type": "markdown",
   "id": "b429f69f",
   "metadata": {},
   "source": [
    "#### Practice Questions"
   ]
  },
  {
   "cell_type": "markdown",
   "id": "ab9ed40d",
   "metadata": {},
   "source": [
    "#### Q1. Write a Python function to arrange the elements of a given list of integers where all positive integers appear before all the negative integers \n",
    "#### Input Format: The first integer N indicates number of elements in the list. The next N lines will have one integer per line. \n",
    "#### Output Format: Print a single list where all positive integers have appeared before all the negative integers."
   ]
  },
  {
   "cell_type": "code",
   "execution_count": 159,
   "id": "cbc94426",
   "metadata": {},
   "outputs": [
    {
     "name": "stdout",
     "output_type": "stream",
     "text": [
      "8\n",
      "2\n",
      "5\n",
      "-9\n",
      "3\n",
      "-8\n",
      "1\n",
      "0\n",
      "-10\n",
      "[2, 5, -9, 3, -8, 1, 0, -10]\n"
     ]
    }
   ],
   "source": [
    "li=list()\n",
    "n=int(input())\n",
    "for x in range(n):\n",
    "    li.append(int(input()))\n",
    "    \n",
    "print(li)"
   ]
  },
  {
   "cell_type": "code",
   "execution_count": 160,
   "id": "fc8d4126",
   "metadata": {},
   "outputs": [
    {
     "name": "stdout",
     "output_type": "stream",
     "text": [
      "[2, 5, 3, 1, 0, -9, -10, -8]\n"
     ]
    }
   ],
   "source": [
    "for num in li:\n",
    "    if num<0:\n",
    "        li.remove(num)\n",
    "        li.append(num)\n",
    "print(li)"
   ]
  },
  {
   "cell_type": "markdown",
   "id": "ee55b82b",
   "metadata": {},
   "source": [
    "#### Q2. You need to write a program that rewrites numbers from input to output until the number 7 is encountered."
   ]
  },
  {
   "cell_type": "code",
   "execution_count": 163,
   "id": "06f3cd7a",
   "metadata": {},
   "outputs": [
    {
     "name": "stdout",
     "output_type": "stream",
     "text": [
      "2\n",
      "2\n",
      "5\n",
      "5\n",
      "4\n",
      "4\n",
      "8\n",
      "8\n",
      "9\n",
      "9\n",
      "5\n",
      "5\n",
      "1\n",
      "1\n",
      "0\n",
      "0\n",
      "6\n",
      "6\n",
      "4\n",
      "4\n",
      "7\n"
     ]
    }
   ],
   "source": [
    "while True:\n",
    "    num=int(input())\n",
    "    if num==7:\n",
    "        break\n",
    "    print(num)"
   ]
  },
  {
   "cell_type": "markdown",
   "id": "f00d490c",
   "metadata": {},
   "source": [
    "#### Q3. Create a user defined function to find whether a given 3-digit number is an Armstrong number or not. An Armstrong number of three digits is an integer such that the sum of the cubes of its digits is equal to the number itself. For example, 371 is an Armstrong number since '3**3 + 7**3 + 1**3 = 371.'\n",
    "\n",
    "#### Following requirements should be taken care in the program.\n",
    "#### 1. Input should be taken through Console\n",
    "#### 2. Program should print the output as described in the Example Section below\n",
    "#### 3. If the number is not 3 digit output should show as INVALID_INPUT, else print AMSTRONG or NOT AMSTRONG accordingly\n"
   ]
  },
  {
   "cell_type": "code",
   "execution_count": 8,
   "id": "f7d633cd",
   "metadata": {},
   "outputs": [],
   "source": [
    "def findAmstrong(n):\n",
    "    sum=0\n",
    "    temp=n\n",
    "    if n<100 or n>999:\n",
    "        print('INVALID INPUT')\n",
    "    else:\n",
    "        while temp>0:\n",
    "            digit=temp%10\n",
    "            sum+=digit**3\n",
    "            temp=temp//10\n",
    "        if sum==n:\n",
    "            print('AMSTRONG')\n",
    "        else:\n",
    "            print('NOT AMSTRONG')"
   ]
  },
  {
   "cell_type": "code",
   "execution_count": 9,
   "id": "bdd97a4a",
   "metadata": {},
   "outputs": [
    {
     "name": "stdout",
     "output_type": "stream",
     "text": [
      "INVALID INPUT\n",
      "INVALID INPUT\n",
      "AMSTRONG\n",
      "NOT AMSTRONG\n"
     ]
    }
   ],
   "source": [
    "findAmstrong(45)\n",
    "findAmstrong(1004)\n",
    "findAmstrong(371)\n",
    "findAmstrong(860)"
   ]
  },
  {
   "cell_type": "markdown",
   "id": "6d612d0c",
   "metadata": {},
   "source": [
    "### Examples on OOPS:\n"
   ]
  },
  {
   "cell_type": "code",
   "execution_count": 11,
   "id": "bdc4acc1",
   "metadata": {},
   "outputs": [],
   "source": [
    "# Q1. create a class called Calculator that performs basic mathematical calculations"
   ]
  },
  {
   "cell_type": "code",
   "execution_count": 14,
   "id": "2ed8d980",
   "metadata": {},
   "outputs": [],
   "source": [
    "class Calculator:\n",
    "    def add(self,x,y):\n",
    "        return x+y\n",
    "    def sub(self,x,y):\n",
    "        return x-y\n",
    "    def div(self,x,y):\n",
    "        d=0\n",
    "        try:\n",
    "            d=x/y\n",
    "        except:\n",
    "            print('Zero Division Problem')\n",
    "        return d\n",
    "    def mul(self,x,y):\n",
    "        return x*y"
   ]
  },
  {
   "cell_type": "code",
   "execution_count": 15,
   "id": "22e83758",
   "metadata": {},
   "outputs": [],
   "source": [
    "calc=Calculator()"
   ]
  },
  {
   "cell_type": "code",
   "execution_count": 16,
   "id": "4099df92",
   "metadata": {},
   "outputs": [
    {
     "data": {
      "text/plain": [
       "79"
      ]
     },
     "execution_count": 16,
     "metadata": {},
     "output_type": "execute_result"
    }
   ],
   "source": [
    "calc.add(23,56)"
   ]
  },
  {
   "cell_type": "code",
   "execution_count": 18,
   "id": "e3e0af19",
   "metadata": {},
   "outputs": [
    {
     "data": {
      "text/plain": [
       "-55"
      ]
     },
     "execution_count": 18,
     "metadata": {},
     "output_type": "execute_result"
    }
   ],
   "source": [
    "calc.sub(34,89)"
   ]
  },
  {
   "cell_type": "code",
   "execution_count": 19,
   "id": "ecdb0728",
   "metadata": {},
   "outputs": [
    {
     "data": {
      "text/plain": [
       "27"
      ]
     },
     "execution_count": 19,
     "metadata": {},
     "output_type": "execute_result"
    }
   ],
   "source": [
    "calc.mul(3,9)"
   ]
  },
  {
   "cell_type": "code",
   "execution_count": 20,
   "id": "a87ece00",
   "metadata": {},
   "outputs": [
    {
     "name": "stdout",
     "output_type": "stream",
     "text": [
      "Zero Division Problem\n"
     ]
    },
    {
     "data": {
      "text/plain": [
       "0"
      ]
     },
     "execution_count": 20,
     "metadata": {},
     "output_type": "execute_result"
    }
   ],
   "source": [
    "calc.div(34,0)"
   ]
  },
  {
   "cell_type": "code",
   "execution_count": 21,
   "id": "01f7e970",
   "metadata": {},
   "outputs": [
    {
     "data": {
      "text/plain": [
       "6.8"
      ]
     },
     "execution_count": 21,
     "metadata": {},
     "output_type": "execute_result"
    }
   ],
   "source": [
    "calc.div(34,5)"
   ]
  },
  {
   "cell_type": "code",
   "execution_count": 22,
   "id": "ffa9caae",
   "metadata": {},
   "outputs": [],
   "source": [
    "# Q2. Create a class StatsCalculator that has basic Calculator functionalities and \n",
    "# its own special functions to find mean, median, mode, variance, standard deviation"
   ]
  },
  {
   "cell_type": "code",
   "execution_count": 45,
   "id": "e4ced103",
   "metadata": {},
   "outputs": [],
   "source": [
    "class StatsCalculator(Calculator):\n",
    "    def mean(self, nums):\n",
    "        sum=0\n",
    "        for n in nums:\n",
    "            sum+=n\n",
    "        return sum/len(nums)\n",
    "    def median(self, nums):\n",
    "        med=0\n",
    "        if len(nums)%2==0:\n",
    "            med=(nums[len(nums)//2]+nums[len(nums)//2-1])/2\n",
    "        else:\n",
    "            med=(nums[len(nums)//2]+1)\n",
    "        return med\n",
    "    def mode(self, nums):\n",
    "        freq=[]\n",
    "        for n in nums:\n",
    "            f=0\n",
    "            for m in nums:\n",
    "                if n==m:\n",
    "                    f+=1\n",
    "            freq.append(f)\n",
    "        i=freq.index(max(freq))\n",
    "        return nums[i]"
   ]
  },
  {
   "cell_type": "code",
   "execution_count": 46,
   "id": "d7e0a8f0",
   "metadata": {},
   "outputs": [],
   "source": [
    "sc=StatsCalculator()"
   ]
  },
  {
   "cell_type": "code",
   "execution_count": 47,
   "id": "ed60f976",
   "metadata": {},
   "outputs": [
    {
     "data": {
      "text/plain": [
       "3.375"
      ]
     },
     "execution_count": 47,
     "metadata": {},
     "output_type": "execute_result"
    }
   ],
   "source": [
    "li=[1,2,3,3,3,4,5,6]\n",
    "sc.mean(li)"
   ]
  },
  {
   "cell_type": "code",
   "execution_count": 48,
   "id": "c16e5aa6",
   "metadata": {},
   "outputs": [
    {
     "data": {
      "text/plain": [
       "3.0"
      ]
     },
     "execution_count": 48,
     "metadata": {},
     "output_type": "execute_result"
    }
   ],
   "source": [
    "sc.median(li)"
   ]
  },
  {
   "cell_type": "code",
   "execution_count": 49,
   "id": "d11f1c9c",
   "metadata": {},
   "outputs": [
    {
     "data": {
      "text/plain": [
       "3"
      ]
     },
     "execution_count": 49,
     "metadata": {},
     "output_type": "execute_result"
    }
   ],
   "source": [
    "sc.mode(li)"
   ]
  },
  {
   "cell_type": "code",
   "execution_count": 50,
   "id": "3407298d",
   "metadata": {},
   "outputs": [
    {
     "name": "stdout",
     "output_type": "stream",
     "text": [
      "Zero Division Problem\n"
     ]
    },
    {
     "data": {
      "text/plain": [
       "0"
      ]
     },
     "execution_count": 50,
     "metadata": {},
     "output_type": "execute_result"
    }
   ],
   "source": [
    "sc.div(56,0)"
   ]
  },
  {
   "cell_type": "code",
   "execution_count": 51,
   "id": "5ff2aeeb",
   "metadata": {},
   "outputs": [],
   "source": [
    "# Q3. create a class ConversionCalculator that has basic functionalities and \n",
    "# can convert length, areas, etc."
   ]
  },
  {
   "cell_type": "code",
   "execution_count": 52,
   "id": "5030d1c5",
   "metadata": {},
   "outputs": [],
   "source": [
    "class ConversionCalculator(Calculator):\n",
    "    def meterToCentimeter(self,num):\n",
    "        return num*100\n",
    "    def kmToMiles(self, num):\n",
    "        return num/1.6\n",
    "    def milesToKM(self, num):\n",
    "        return num*1.6\n",
    "    def msqToKMsq(self, num):\n",
    "        return num/1000000\n",
    "    "
   ]
  },
  {
   "cell_type": "code",
   "execution_count": 53,
   "id": "06d62799",
   "metadata": {},
   "outputs": [],
   "source": [
    "cc=ConversionCalculator()"
   ]
  },
  {
   "cell_type": "code",
   "execution_count": 54,
   "id": "bb5e05ee",
   "metadata": {},
   "outputs": [
    {
     "data": {
      "text/plain": [
       "3510"
      ]
     },
     "execution_count": 54,
     "metadata": {},
     "output_type": "execute_result"
    }
   ],
   "source": [
    "cc.mul(45,78)"
   ]
  },
  {
   "cell_type": "code",
   "execution_count": 55,
   "id": "67f05854",
   "metadata": {},
   "outputs": [
    {
     "data": {
      "text/plain": [
       "200.0"
      ]
     },
     "execution_count": 55,
     "metadata": {},
     "output_type": "execute_result"
    }
   ],
   "source": [
    "cc.kmToMiles(320)"
   ]
  },
  {
   "cell_type": "code",
   "execution_count": 56,
   "id": "12d2e269",
   "metadata": {},
   "outputs": [],
   "source": [
    "# Q4. create a class ScientificCalculator that has basic functions, Stats functions and \n",
    "# its own special functions for finding sqr root, square, cube root, cube, etc."
   ]
  },
  {
   "cell_type": "code",
   "execution_count": 57,
   "id": "f46b2b5e",
   "metadata": {},
   "outputs": [],
   "source": [
    "class ScientificCalculator(StatsCalculator):\n",
    "    def sqr(self, num):\n",
    "        return num**2\n",
    "    def cube(self, num):\n",
    "        return num**3\n",
    "    def sqrRoot(self, num):\n",
    "        import math\n",
    "        return math.sqrt(num)\n",
    "    "
   ]
  },
  {
   "cell_type": "code",
   "execution_count": 58,
   "id": "d2433399",
   "metadata": {},
   "outputs": [],
   "source": [
    "scc=ScientificCalculator()"
   ]
  },
  {
   "cell_type": "code",
   "execution_count": 59,
   "id": "2b6f6d07",
   "metadata": {},
   "outputs": [
    {
     "data": {
      "text/plain": [
       "7"
      ]
     },
     "execution_count": 59,
     "metadata": {},
     "output_type": "execute_result"
    }
   ],
   "source": [
    "scc.add(3,4) #calc"
   ]
  },
  {
   "cell_type": "code",
   "execution_count": 61,
   "id": "de2848c7",
   "metadata": {},
   "outputs": [
    {
     "data": {
      "text/plain": [
       "9.0"
      ]
     },
     "execution_count": 61,
     "metadata": {},
     "output_type": "execute_result"
    }
   ],
   "source": [
    "scc.mean([4,6,8, 18]) #statscalc"
   ]
  },
  {
   "cell_type": "code",
   "execution_count": 62,
   "id": "1a2c3f4e",
   "metadata": {},
   "outputs": [
    {
     "data": {
      "text/plain": [
       "19.209372712298546"
      ]
     },
     "execution_count": 62,
     "metadata": {},
     "output_type": "execute_result"
    }
   ],
   "source": [
    "scc.sqrRoot(369) #sctcalc"
   ]
  },
  {
   "cell_type": "markdown",
   "id": "0ae55fa1",
   "metadata": {},
   "source": [
    "### class functionalities"
   ]
  },
  {
   "cell_type": "code",
   "execution_count": 10,
   "id": "6a38cd61",
   "metadata": {},
   "outputs": [
    {
     "name": "stdout",
     "output_type": "stream",
     "text": [
      "False\n"
     ]
    }
   ],
   "source": [
    "class Base:\n",
    "    pass\n",
    "class Derived(Base):\n",
    "    pass\n",
    "class Derived2(Derived):\n",
    "    pass\n",
    "\n",
    "b=Base()\n",
    "d=Derived()\n",
    "\n",
    "#print(issubclass(Derived, Base))\n",
    "\n",
    "#print(issubclass(Derived2, Derived))\n",
    "\n",
    "#print(issubclass(Derived2, Base))\n",
    "\n",
    "print(isinstance(b, Derived))\n"
   ]
  },
  {
   "cell_type": "code",
   "execution_count": 42,
   "id": "d6163639",
   "metadata": {},
   "outputs": [],
   "source": [
    "class Main:\n",
    "    def __init__(self,m):\n",
    "        self.m=m\n",
    "        return None\n",
    "\n",
    "class Base(Main):\n",
    "    def __init__(self, x):\n",
    "        self.x=x\n",
    "        return None\n",
    "    \n",
    "class Derived(Base):\n",
    "    def __init__(self, x, y):\n",
    "        #Base.__init__(self,x)\n",
    "        #Base.x=x\n",
    "        super(Base, self).__init__(x)\n",
    "        self.y=y\n",
    "        return None\n",
    "    def printxy(self):\n",
    "        print('M= {0} and Y= {1}'.format(self.m,self.y))\n",
    "        return None\n",
    "\n",
    "d=Derived(20,70)\n"
   ]
  },
  {
   "cell_type": "code",
   "execution_count": 43,
   "id": "15976d12",
   "metadata": {},
   "outputs": [
    {
     "name": "stdout",
     "output_type": "stream",
     "text": [
      "M= 20 and Y= 70\n"
     ]
    }
   ],
   "source": [
    "d.printxy()"
   ]
  },
  {
   "cell_type": "code",
   "execution_count": 24,
   "id": "e29eb58f",
   "metadata": {},
   "outputs": [],
   "source": [
    "class Sample:\n",
    "    def __init__(self, x):\n",
    "        self.x=x\n",
    "    def update(self):\n",
    "        self.x=self.x*10\n",
    "    def show(self):\n",
    "        print('X= ',self.x)\n",
    "        \n",
    "s=Sample(15)"
   ]
  },
  {
   "cell_type": "code",
   "execution_count": 25,
   "id": "35868f8d",
   "metadata": {},
   "outputs": [
    {
     "name": "stdout",
     "output_type": "stream",
     "text": [
      "X=  15\n"
     ]
    }
   ],
   "source": [
    "s.show()"
   ]
  },
  {
   "cell_type": "code",
   "execution_count": 26,
   "id": "634996d8",
   "metadata": {},
   "outputs": [],
   "source": [
    "s.update()"
   ]
  },
  {
   "cell_type": "code",
   "execution_count": 27,
   "id": "d6377804",
   "metadata": {},
   "outputs": [
    {
     "name": "stdout",
     "output_type": "stream",
     "text": [
      "X=  150\n"
     ]
    }
   ],
   "source": [
    "s.show()"
   ]
  },
  {
   "cell_type": "code",
   "execution_count": 28,
   "id": "dc089655",
   "metadata": {},
   "outputs": [
    {
     "data": {
      "text/plain": [
       "150"
      ]
     },
     "execution_count": 28,
     "metadata": {},
     "output_type": "execute_result"
    }
   ],
   "source": [
    "s.x"
   ]
  },
  {
   "cell_type": "code",
   "execution_count": 29,
   "id": "51b49b29",
   "metadata": {},
   "outputs": [
    {
     "name": "stdout",
     "output_type": "stream",
     "text": [
      "X=  180\n",
      "X=  150\n"
     ]
    }
   ],
   "source": [
    "s2=Sample(18)\n",
    "s2.update()\n",
    "s2.show()\n",
    "s.show()"
   ]
  },
  {
   "cell_type": "code",
   "execution_count": 30,
   "id": "96304d86",
   "metadata": {},
   "outputs": [
    {
     "data": {
      "text/plain": [
       "150"
      ]
     },
     "execution_count": 30,
     "metadata": {},
     "output_type": "execute_result"
    }
   ],
   "source": [
    "s.x"
   ]
  },
  {
   "cell_type": "code",
   "execution_count": 31,
   "id": "b916ef4b",
   "metadata": {},
   "outputs": [
    {
     "data": {
      "text/plain": [
       "180"
      ]
     },
     "execution_count": 31,
     "metadata": {},
     "output_type": "execute_result"
    }
   ],
   "source": [
    "s2.x"
   ]
  },
  {
   "cell_type": "code",
   "execution_count": 33,
   "id": "f368341d",
   "metadata": {},
   "outputs": [
    {
     "data": {
      "text/plain": [
       "<super: __main__.Derived, None>"
      ]
     },
     "execution_count": 33,
     "metadata": {},
     "output_type": "execute_result"
    }
   ],
   "source": []
  },
  {
   "cell_type": "code",
   "execution_count": null,
   "id": "9754f305",
   "metadata": {},
   "outputs": [],
   "source": []
  }
 ],
 "metadata": {
  "kernelspec": {
   "display_name": "Python 3 (ipykernel)",
   "language": "python",
   "name": "python3"
  },
  "language_info": {
   "codemirror_mode": {
    "name": "ipython",
    "version": 3
   },
   "file_extension": ".py",
   "mimetype": "text/x-python",
   "name": "python",
   "nbconvert_exporter": "python",
   "pygments_lexer": "ipython3",
   "version": "3.9.12"
  }
 },
 "nbformat": 4,
 "nbformat_minor": 5
}
