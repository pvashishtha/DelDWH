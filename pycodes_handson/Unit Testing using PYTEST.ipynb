{
 "cells": [
  {
   "cell_type": "markdown",
   "id": "0e4b6550",
   "metadata": {},
   "source": [
    "## PyTest Module\n"
   ]
  },
  {
   "cell_type": "code",
   "execution_count": 1,
   "id": "99a7981d",
   "metadata": {
    "collapsed": true
   },
   "outputs": [
    {
     "name": "stdout",
     "output_type": "stream",
     "text": [
      "Requirement already satisfied: pytest in c:\\users\\pvashishtha\\anaconda3\\lib\\site-packages (7.1.1)\n",
      "Requirement already satisfied: attrs>=19.2.0 in c:\\users\\pvashishtha\\anaconda3\\lib\\site-packages (from pytest) (21.4.0)\n",
      "Requirement already satisfied: iniconfig in c:\\users\\pvashishtha\\anaconda3\\lib\\site-packages (from pytest) (1.1.1)\n",
      "Requirement already satisfied: packaging in c:\\users\\pvashishtha\\anaconda3\\lib\\site-packages (from pytest) (21.3)\n",
      "Requirement already satisfied: pluggy<2.0,>=0.12 in c:\\users\\pvashishtha\\anaconda3\\lib\\site-packages (from pytest) (1.0.0)\n",
      "Requirement already satisfied: py>=1.8.2 in c:\\users\\pvashishtha\\anaconda3\\lib\\site-packages (from pytest) (1.11.0)\n",
      "Requirement already satisfied: tomli>=1.0.0 in c:\\users\\pvashishtha\\anaconda3\\lib\\site-packages (from pytest) (1.2.2)\n",
      "Requirement already satisfied: atomicwrites>=1.0 in c:\\users\\pvashishtha\\anaconda3\\lib\\site-packages (from pytest) (1.4.0)\n",
      "Requirement already satisfied: colorama in c:\\users\\pvashishtha\\anaconda3\\lib\\site-packages (from pytest) (0.4.4)\n",
      "Requirement already satisfied: pyparsing!=3.0.5,>=2.0.2 in c:\\users\\pvashishtha\\anaconda3\\lib\\site-packages (from packaging->pytest) (3.0.4)\n"
     ]
    }
   ],
   "source": [
    "! pip install pytest"
   ]
  },
  {
   "cell_type": "code",
   "execution_count": 2,
   "id": "37ecac2a",
   "metadata": {},
   "outputs": [],
   "source": [
    "import pytest"
   ]
  },
  {
   "cell_type": "code",
   "execution_count": 6,
   "id": "acc56cf8",
   "metadata": {},
   "outputs": [],
   "source": [
    "\n",
    "def func(a,b):\n",
    "    sum=a+b\n",
    "    return sum\n",
    "\n"
   ]
  },
  {
   "cell_type": "code",
   "execution_count": 7,
   "id": "d689d09e",
   "metadata": {},
   "outputs": [],
   "source": [
    "def test_func():\n",
    "    a=100\n",
    "    b=200\n",
    "    ans=func(a,b)\n",
    "    assert ans==300"
   ]
  },
  {
   "cell_type": "code",
   "execution_count": 9,
   "id": "b053c025",
   "metadata": {},
   "outputs": [
    {
     "name": "stdout",
     "output_type": "stream",
     "text": [
      "============================= test session starts =============================\n",
      "platform win32 -- Python 3.9.12, pytest-7.1.1, pluggy-1.0.0\n",
      "rootdir: C:\\Users\\pvashishtha\\Desktop\n",
      "plugins: anyio-3.5.0\n",
      "collected 0 items\n",
      "\n",
      "============================ no tests ran in 0.02s ============================\n"
     ]
    },
    {
     "name": "stderr",
     "output_type": "stream",
     "text": [
      "ERROR: file or directory not found: test_func\n",
      "\n"
     ]
    }
   ],
   "source": [
    "! pytest test_func"
   ]
  },
  {
   "cell_type": "code",
   "execution_count": 11,
   "id": "187dc735",
   "metadata": {},
   "outputs": [
    {
     "data": {
      "text/plain": [
       "45"
      ]
     },
     "execution_count": 11,
     "metadata": {},
     "output_type": "execute_result"
    }
   ],
   "source": [
    "import numpy as np\n",
    "np.random.randint(-100,100,1)[0]\n"
   ]
  },
  {
   "cell_type": "code",
   "execution_count": null,
   "id": "4bd063bc",
   "metadata": {},
   "outputs": [],
   "source": []
  }
 ],
 "metadata": {
  "kernelspec": {
   "display_name": "Python 3 (ipykernel)",
   "language": "python",
   "name": "python3"
  },
  "language_info": {
   "codemirror_mode": {
    "name": "ipython",
    "version": 3
   },
   "file_extension": ".py",
   "mimetype": "text/x-python",
   "name": "python",
   "nbconvert_exporter": "python",
   "pygments_lexer": "ipython3",
   "version": "3.9.12"
  }
 },
 "nbformat": 4,
 "nbformat_minor": 5
}
