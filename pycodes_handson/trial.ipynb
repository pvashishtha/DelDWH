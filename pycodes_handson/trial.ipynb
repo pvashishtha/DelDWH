{
 "cells": [
  {
   "cell_type": "code",
   "execution_count": 1,
   "id": "d8be0b9b",
   "metadata": {},
   "outputs": [
    {
     "name": "stdout",
     "output_type": "stream",
     "text": [
      "Collecting pymysql\n",
      "  Downloading PyMySQL-1.0.2-py3-none-any.whl (43 kB)\n",
      "Installing collected packages: pymysql\n",
      "Successfully installed pymysql-1.0.2\n"
     ]
    }
   ],
   "source": [
    "! pip install pymysql"
   ]
  },
  {
   "cell_type": "code",
   "execution_count": 5,
   "id": "edfb38e0",
   "metadata": {},
   "outputs": [
    {
     "name": "stdout",
     "output_type": "stream",
     "text": [
      "Collecting mysql-connector-python\n",
      "  Downloading mysql_connector_python-8.0.31-cp39-cp39-win_amd64.whl (7.9 MB)\n",
      "Requirement already satisfied: protobuf<=3.20.1,>=3.11.0 in c:\\users\\pvashishtha\\anaconda3\\lib\\site-packages (from mysql-connector-python) (3.19.1)\n",
      "Installing collected packages: mysql-connector-python\n",
      "Successfully installed mysql-connector-python-8.0.31\n"
     ]
    }
   ],
   "source": [
    "! pip install mysql-connector-python"
   ]
  },
  {
   "cell_type": "code",
   "execution_count": 18,
   "id": "29964ae1",
   "metadata": {},
   "outputs": [
    {
     "name": "stdout",
     "output_type": "stream",
     "text": [
      "<mysql.connector.connection_cext.CMySQLConnection object at 0x0000014C9D7EE4C0>\n"
     ]
    }
   ],
   "source": [
    "import mysql.connector\n",
    "host='localhost'\n",
    "port=3306\n",
    "user='root'\n",
    "password=''\n",
    "database='try'\n",
    "conn=mysql.connector.connect(host=host, user=user, password=password, database=database)\n",
    "print(conn)"
   ]
  },
  {
   "cell_type": "code",
   "execution_count": 19,
   "id": "4911f939",
   "metadata": {},
   "outputs": [
    {
     "name": "stdout",
     "output_type": "stream",
     "text": [
      "<pymysql.connections.Connection object at 0x0000014C9D6DF730>\n"
     ]
    }
   ],
   "source": [
    "import pymysql\n",
    "host='localhost'\n",
    "port=3306\n",
    "user='root'\n",
    "password=''\n",
    "database='try'\n",
    "conn=pymysql.connect(host=host, user=user, password=password, database=database)\n",
    "print(conn)"
   ]
  },
  {
   "cell_type": "code",
   "execution_count": 20,
   "id": "94fae590",
   "metadata": {},
   "outputs": [],
   "source": [
    "cur=conn.cursor()"
   ]
  },
  {
   "cell_type": "code",
   "execution_count": 21,
   "id": "604cc1ed",
   "metadata": {},
   "outputs": [
    {
     "data": {
      "text/plain": [
       "1"
      ]
     },
     "execution_count": 21,
     "metadata": {},
     "output_type": "execute_result"
    }
   ],
   "source": [
    "cur.execute('insert into student values(101, \"Prateek\",\"Meerut\")')"
   ]
  },
  {
   "cell_type": "code",
   "execution_count": 23,
   "id": "5335f2ce",
   "metadata": {},
   "outputs": [],
   "source": [
    "conn.commit()"
   ]
  },
  {
   "cell_type": "code",
   "execution_count": 27,
   "id": "9e51c75a",
   "metadata": {},
   "outputs": [],
   "source": [
    "sql='insert into student values(%s, %s, %s)'\n",
    "val=[\n",
    "    (102, \"Aditi\", \"Meerut\"),\n",
    "    (103, \"Saksham\", \"Delhi\"),\n",
    "    (104, \"Dolly\", \"Gurugram\")\n",
    "]\n",
    "cur.executemany(sql, val)\n",
    "conn.commit()"
   ]
  },
  {
   "cell_type": "code",
   "execution_count": 28,
   "id": "ccf3c8eb",
   "metadata": {},
   "outputs": [
    {
     "name": "stdout",
     "output_type": "stream",
     "text": [
      "(101, 'Prateek', 'Meerut')\n",
      "(102, 'Aditi', 'Meerut')\n",
      "(103, 'Saksham', 'Delhi')\n",
      "(104, 'Dolly', 'Gurugram')\n"
     ]
    }
   ],
   "source": [
    "cur.execute('select * from student')\n",
    "result=cur.fetchall()\n",
    "for row in result:\n",
    "    print(row)"
   ]
  },
  {
   "cell_type": "code",
   "execution_count": 30,
   "id": "0e2b8a07",
   "metadata": {},
   "outputs": [
    {
     "data": {
      "text/plain": [
       "4"
      ]
     },
     "execution_count": 30,
     "metadata": {},
     "output_type": "execute_result"
    }
   ],
   "source": [
    "cur.rowcount"
   ]
  },
  {
   "cell_type": "code",
   "execution_count": null,
   "id": "a97108e5",
   "metadata": {},
   "outputs": [],
   "source": []
  }
 ],
 "metadata": {
  "kernelspec": {
   "display_name": "Python 3 (ipykernel)",
   "language": "python",
   "name": "python3"
  },
  "language_info": {
   "codemirror_mode": {
    "name": "ipython",
    "version": 3
   },
   "file_extension": ".py",
   "mimetype": "text/x-python",
   "name": "python",
   "nbconvert_exporter": "python",
   "pygments_lexer": "ipython3",
   "version": "3.9.12"
  }
 },
 "nbformat": 4,
 "nbformat_minor": 5
}
