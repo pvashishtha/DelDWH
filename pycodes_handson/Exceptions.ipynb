{
 "cells": [
  {
   "cell_type": "markdown",
   "id": "da461172",
   "metadata": {},
   "source": [
    "## Write a program to create a list with cube of first N integers.\n"
   ]
  },
  {
   "cell_type": "code",
   "execution_count": 2,
   "id": "8f4299a4",
   "metadata": {},
   "outputs": [
    {
     "name": "stdout",
     "output_type": "stream",
     "text": [
      "[1, 8, 27, 64, 125, 216, 343, 512, 729, 1000]\n"
     ]
    }
   ],
   "source": [
    "## [1, 8, 27, 64, ......]\n",
    "\n",
    "n=10\n",
    "l=list()\n",
    "for i in range(1, n+1):\n",
    "    l.append(i*i*i)\n",
    "print(l)"
   ]
  },
  {
   "cell_type": "code",
   "execution_count": 3,
   "id": "defe88f0",
   "metadata": {},
   "outputs": [],
   "source": [
    "l=[x**3 for x in range(1,n+1)]"
   ]
  },
  {
   "cell_type": "code",
   "execution_count": 4,
   "id": "b56d5f6f",
   "metadata": {},
   "outputs": [
    {
     "data": {
      "text/plain": [
       "[1, 8, 27, 64, 125, 216, 343, 512, 729, 1000]"
      ]
     },
     "execution_count": 4,
     "metadata": {},
     "output_type": "execute_result"
    }
   ],
   "source": [
    "l"
   ]
  },
  {
   "cell_type": "code",
   "execution_count": 5,
   "id": "d52ae967",
   "metadata": {},
   "outputs": [
    {
     "data": {
      "text/plain": [
       "{1: 1, 2: 8, 3: 27, 4: 64, 5: 125, 6: 216, 7: 343, 8: 512, 9: 729, 10: 1000}"
      ]
     },
     "execution_count": 5,
     "metadata": {},
     "output_type": "execute_result"
    }
   ],
   "source": [
    "d={x:x**3 for x in range(1,n+1)}\n",
    "d"
   ]
  },
  {
   "cell_type": "code",
   "execution_count": 6,
   "id": "d7c186fd",
   "metadata": {},
   "outputs": [
    {
     "name": "stdout",
     "output_type": "stream",
     "text": [
      "-10.0\n",
      "-11.11111111111111\n",
      "-12.5\n",
      "-14.285714285714286\n",
      "-16.666666666666668\n",
      "-20.0\n",
      "-25.0\n",
      "-33.333333333333336\n",
      "-50.0\n",
      "-100.0\n"
     ]
    },
    {
     "ename": "ZeroDivisionError",
     "evalue": "division by zero",
     "output_type": "error",
     "traceback": [
      "\u001b[1;31m---------------------------------------------------------------------------\u001b[0m",
      "\u001b[1;31mZeroDivisionError\u001b[0m                         Traceback (most recent call last)",
      "Input \u001b[1;32mIn [6]\u001b[0m, in \u001b[0;36m<cell line: 3>\u001b[1;34m()\u001b[0m\n\u001b[0;32m      2\u001b[0m x\u001b[38;5;241m=\u001b[39m\u001b[38;5;241m100\u001b[39m\n\u001b[0;32m      3\u001b[0m \u001b[38;5;28;01mfor\u001b[39;00m i  \u001b[38;5;129;01min\u001b[39;00m \u001b[38;5;28mrange\u001b[39m(\u001b[38;5;241m-\u001b[39m\u001b[38;5;241m10\u001b[39m, \u001b[38;5;241m10\u001b[39m):\n\u001b[1;32m----> 4\u001b[0m     \u001b[38;5;28mprint\u001b[39m(\u001b[43mx\u001b[49m\u001b[38;5;241;43m/\u001b[39;49m\u001b[43mi\u001b[49m)\n",
      "\u001b[1;31mZeroDivisionError\u001b[0m: division by zero"
     ]
    }
   ],
   "source": [
    "#\n",
    "x=100\n",
    "for i  in range(-10, 10):\n",
    "    print(x/i) #EXCEPTION"
   ]
  },
  {
   "cell_type": "markdown",
   "id": "4f0f502f",
   "metadata": {},
   "source": [
    "# Exception Handling"
   ]
  },
  {
   "cell_type": "code",
   "execution_count": 8,
   "id": "f4c73d8f",
   "metadata": {},
   "outputs": [],
   "source": [
    "# Runtime- Zero Div, Type Err, "
   ]
  },
  {
   "cell_type": "code",
   "execution_count": 14,
   "id": "34b3f733",
   "metadata": {},
   "outputs": [
    {
     "name": "stdout",
     "output_type": "stream",
     "text": [
      "Enter a number: 9\n",
      "Exception Occured!\n",
      "81\n"
     ]
    }
   ],
   "source": [
    "# try-except\n",
    "\n",
    "x=input('Enter a number: ')\n",
    "try:\n",
    "    print(x**2)\n",
    "except:\n",
    "    print('Exception Occured!')\n",
    "    x=int(x)\n",
    "    print(x**2)"
   ]
  },
  {
   "cell_type": "code",
   "execution_count": 15,
   "id": "e5ffcd49",
   "metadata": {},
   "outputs": [
    {
     "name": "stdout",
     "output_type": "stream",
     "text": [
      "-10.0\n",
      "-11.11111111111111\n",
      "-12.5\n",
      "-14.285714285714286\n",
      "-16.666666666666668\n",
      "-20.0\n",
      "-25.0\n",
      "-33.333333333333336\n",
      "-50.0\n",
      "-100.0\n",
      "Exception! \n",
      "0\n",
      "100.0\n",
      "50.0\n",
      "33.333333333333336\n",
      "25.0\n",
      "20.0\n",
      "16.666666666666668\n",
      "14.285714285714286\n",
      "12.5\n",
      "11.11111111111111\n"
     ]
    }
   ],
   "source": [
    "x=100\n",
    "for i in range(-10,10):\n",
    "    try:\n",
    "        print(x/i)\n",
    "    except:\n",
    "        print('Exception! ')\n",
    "        print(0)"
   ]
  },
  {
   "cell_type": "code",
   "execution_count": 23,
   "id": "1f69b25b",
   "metadata": {},
   "outputs": [
    {
     "name": "stdout",
     "output_type": "stream",
     "text": [
      "before exception\n",
      "10\n",
      "20\n",
      "30\n",
      "40\n",
      "50\n",
      "inside except\n",
      "inside except\n",
      "after try-except\n"
     ]
    }
   ],
   "source": [
    "l=[10,20,30,40,50]\n",
    "print('before exception')\n",
    "for i in range(7):\n",
    "    try:\n",
    "        print(l[i])\n",
    "    except:\n",
    "        print('inside except')\n",
    "print('after try-except')"
   ]
  },
  {
   "cell_type": "code",
   "execution_count": 36,
   "id": "b5ee2c65",
   "metadata": {},
   "outputs": [
    {
     "name": "stdout",
     "output_type": "stream",
     "text": [
      "[-10, -9, -8, -7, -6, -5, -4, -3, -2, -1, 0, 1, 2, 3, 4, 5, 6, 7, 8, 9]\n",
      "Enter Number: 1000\n",
      "-100.0\n",
      "Final Action\n",
      "-111.11111111111111\n",
      "Final Action\n",
      "-125.0\n",
      "Final Action\n",
      "-142.85714285714286\n",
      "Final Action\n",
      "-166.66666666666666\n",
      "Final Action\n",
      "-200.0\n",
      "Final Action\n",
      "-250.0\n",
      "Final Action\n",
      "-333.3333333333333\n",
      "Final Action\n",
      "-500.0\n",
      "Final Action\n",
      "-1000.0\n",
      "Final Action\n",
      "Divide by Zero\n",
      "Final Action\n",
      "1000.0\n",
      "Final Action\n",
      "500.0\n",
      "Final Action\n",
      "333.3333333333333\n",
      "Final Action\n",
      "250.0\n",
      "Final Action\n",
      "200.0\n",
      "Final Action\n",
      "166.66666666666666\n",
      "Final Action\n",
      "142.85714285714286\n",
      "Final Action\n",
      "125.0\n",
      "Final Action\n",
      "111.11111111111111\n",
      "Final Action\n",
      "Index gone out of range\n",
      "Final Action\n",
      "Index gone out of range\n",
      "Final Action\n"
     ]
    }
   ],
   "source": [
    "l=[x for x in range(-10,10)]\n",
    "print(l)\n",
    "x=int(input('Enter Number: '))\n",
    "\n",
    "for i in range(22):\n",
    "    try:\n",
    "        print(x/l[i])\n",
    "    except ZeroDivisionError:\n",
    "        print('Divide by Zero')\n",
    "    except IndexError:\n",
    "        print('Index gone out of range')\n",
    "    except:\n",
    "        print('General Handling')\n",
    "    finally:\n",
    "        print('Final Action')"
   ]
  },
  {
   "cell_type": "code",
   "execution_count": 37,
   "id": "e6ffb520",
   "metadata": {},
   "outputs": [
    {
     "name": "stdout",
     "output_type": "stream",
     "text": [
      "[-10, -9, -8, -7, -6, -5, -4, -3, -2, -1, 0, 1, 2, 3, 4, 5, 6, 7, 8, 9]\n",
      "Enter Number: 1000\n",
      "-100.0\n",
      "No Exception Occured!\n",
      "-111.11111111111111\n",
      "No Exception Occured!\n",
      "-125.0\n",
      "No Exception Occured!\n",
      "-142.85714285714286\n",
      "No Exception Occured!\n",
      "-166.66666666666666\n",
      "No Exception Occured!\n",
      "-200.0\n",
      "No Exception Occured!\n",
      "-250.0\n",
      "No Exception Occured!\n",
      "-333.3333333333333\n",
      "No Exception Occured!\n",
      "-500.0\n",
      "No Exception Occured!\n",
      "-1000.0\n",
      "No Exception Occured!\n",
      "Divide by Zero\n",
      "1000.0\n",
      "No Exception Occured!\n",
      "500.0\n",
      "No Exception Occured!\n",
      "333.3333333333333\n",
      "No Exception Occured!\n",
      "250.0\n",
      "No Exception Occured!\n",
      "200.0\n",
      "No Exception Occured!\n",
      "166.66666666666666\n",
      "No Exception Occured!\n",
      "142.85714285714286\n",
      "No Exception Occured!\n",
      "125.0\n",
      "No Exception Occured!\n",
      "111.11111111111111\n",
      "No Exception Occured!\n",
      "Index gone out of range\n",
      "Index gone out of range\n"
     ]
    }
   ],
   "source": [
    "l=[x for x in range(-10,10)]\n",
    "print(l)\n",
    "x=int(input('Enter Number: '))\n",
    "\n",
    "for i in range(22):\n",
    "    try:\n",
    "        print(x/l[i])\n",
    "    except ZeroDivisionError:\n",
    "        print('Divide by Zero')\n",
    "    except IndexError:\n",
    "        print('Index gone out of range')\n",
    "    except:\n",
    "        print('General Handling')\n",
    "    else:\n",
    "        print('No Exception Occured!')"
   ]
  },
  {
   "cell_type": "code",
   "execution_count": 54,
   "id": "f8816ec3",
   "metadata": {},
   "outputs": [
    {
     "name": "stdout",
     "output_type": "stream",
     "text": [
      "Enter a number: x\n",
      "Exception Message:  invalid literal for int() with base 10: 'x'\n",
      "<class 'str'>\n"
     ]
    }
   ],
   "source": [
    "def convert(x):\n",
    "    return int(x)\n",
    "\n",
    "n=input('Enter a number: ')\n",
    "\n",
    "try:\n",
    "    n=convert(n)\n",
    "except ValueError as Argument:\n",
    "    print(\"Exception Message: \",Argument)\n",
    "\n",
    "print(type(n))"
   ]
  },
  {
   "cell_type": "code",
   "execution_count": 68,
   "id": "64d57efe",
   "metadata": {},
   "outputs": [
    {
     "name": "stdout",
     "output_type": "stream",
     "text": [
      "Y is set to zero\n"
     ]
    }
   ],
   "source": [
    "# RAISE\n",
    "\n",
    "class IncorrectValue(ZeroDivisionError):  # exception class\n",
    "    msg=''\n",
    "    def __init__(self, m):\n",
    "        self.msg=m\n",
    "        return None\n",
    "x=10\n",
    "y=0\n",
    "try:\n",
    "    if y==0:\n",
    "        raise IncorrectValue(\"Y is set to zero\")\n",
    "    print(x/y)\n",
    "except IncorrectValue as e:\n",
    "    print(e.msg)"
   ]
  },
  {
   "cell_type": "code",
   "execution_count": 69,
   "id": "dfb427e6",
   "metadata": {},
   "outputs": [
    {
     "name": "stdout",
     "output_type": "stream",
     "text": [
      "139\n"
     ]
    }
   ],
   "source": [
    "# A naughty child has habit of moving or hopping down the street \n",
    "# in a specific style. He hops 1 move, then 2 moves and then 3 moves.\n",
    "# He then repeats this pattern everytim. If he starts at position M\n",
    "# and performs N hops, then determine how many moves he has made and \n",
    "# tell at which number ne is now.\n",
    "\n",
    "def findPosition(m,n):\n",
    "    moves=0\n",
    "    r=n%3\n",
    "    d=n//3\n",
    "    if r==0:\n",
    "        moves+=d*6\n",
    "    else:\n",
    "        if r==1:\n",
    "            moves+=(d*6)+1\n",
    "        else:\n",
    "            moves+=(d*6)+3\n",
    "    x=m+moves\n",
    "    return x\n",
    "print(findPosition(100,20))\n",
    "\n"
   ]
  },
  {
   "cell_type": "code",
   "execution_count": 77,
   "id": "007563ae",
   "metadata": {},
   "outputs": [
    {
     "name": "stdout",
     "output_type": "stream",
     "text": [
      "[0, 1, 3, 6, 7, 9, 12, 13, 15, 18, 19, 21, 24, 25, 27, 30, 31, 33, 36, 37, 39, 42, 43, 45, 48, 49, 51, 54, 55, 57, 60, 61, 63, 66, 67, 69, 72, 73, 75, 78, 79, 81, 84, 85, 87, 90, 91, 93, 96, 97, 99, 102, 103, 105, 108, 109, 111, 114, 115, 117, 120, 121, 123, 126, 127, 129, 132, 133, 135, 138, 139, 141, 144, 145, 147, 150, 151, 153, 156, 157, 159, 162, 163, 165, 168, 169, 171, 174, 175, 177, 180, 181, 183, 186, 187, 189, 192, 193, 195, 198, 199]\n"
     ]
    }
   ],
   "source": [
    "def printHops(m,n):\n",
    "    hops=[m]\n",
    "    k=1\n",
    "    for i in range(n):\n",
    "        hops.append(hops[i]+k)\n",
    "        k+=1\n",
    "        if k>3:\n",
    "            k=1\n",
    "    return hops\n",
    "print(printHops(0,100))\n"
   ]
  },
  {
   "cell_type": "code",
   "execution_count": null,
   "id": "3aac84ea",
   "metadata": {},
   "outputs": [],
   "source": []
  }
 ],
 "metadata": {
  "kernelspec": {
   "display_name": "Python 3 (ipykernel)",
   "language": "python",
   "name": "python3"
  },
  "language_info": {
   "codemirror_mode": {
    "name": "ipython",
    "version": 3
   },
   "file_extension": ".py",
   "mimetype": "text/x-python",
   "name": "python",
   "nbconvert_exporter": "python",
   "pygments_lexer": "ipython3",
   "version": "3.9.12"
  }
 },
 "nbformat": 4,
 "nbformat_minor": 5
}
