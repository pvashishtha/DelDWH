{
 "cells": [
  {
   "cell_type": "code",
   "execution_count": 1,
   "id": "5468fd9f",
   "metadata": {},
   "outputs": [],
   "source": [
    "import calc"
   ]
  },
  {
   "cell_type": "code",
   "execution_count": 2,
   "id": "b3b2b2d4",
   "metadata": {},
   "outputs": [
    {
     "data": {
      "text/plain": [
       "70"
      ]
     },
     "execution_count": 2,
     "metadata": {},
     "output_type": "execute_result"
    }
   ],
   "source": [
    "calc.add(30,40)"
   ]
  },
  {
   "cell_type": "code",
   "execution_count": 5,
   "id": "88461036",
   "metadata": {},
   "outputs": [
    {
     "data": {
      "text/plain": [
       "'Adds two numbers and returns the answer back.\\n    Example: add(10,20) will retun 30 as answer.'"
      ]
     },
     "execution_count": 5,
     "metadata": {},
     "output_type": "execute_result"
    }
   ],
   "source": [
    "calc.add.__doc__"
   ]
  },
  {
   "cell_type": "code",
   "execution_count": 6,
   "id": "0a90fc38",
   "metadata": {},
   "outputs": [],
   "source": [
    "from calc import div as d"
   ]
  },
  {
   "cell_type": "code",
   "execution_count": 7,
   "id": "9ecac67f",
   "metadata": {},
   "outputs": [
    {
     "data": {
      "text/plain": [
       "1.6666666666666667"
      ]
     },
     "execution_count": 7,
     "metadata": {},
     "output_type": "execute_result"
    }
   ],
   "source": [
    "d(5,3)"
   ]
  },
  {
   "cell_type": "code",
   "execution_count": 8,
   "id": "6ab1e489",
   "metadata": {},
   "outputs": [],
   "source": [
    "import pickle"
   ]
  },
  {
   "cell_type": "code",
   "execution_count": 10,
   "id": "d4e3a680",
   "metadata": {},
   "outputs": [
    {
     "name": "stdout",
     "output_type": "stream",
     "text": [
      "['__name__', '__doc__', '__package__', '__loader__', '__spec__', '__file__', '__cached__', '__builtins__', 'FunctionType', 'dispatch_table', '_extension_registry', '_inverted_registry', '_extension_cache', 'islice', 'partial', 'sys', 'maxsize', 'pack', 'unpack', 're', 'io', 'codecs', '_compat_pickle', '__all__', 'PickleBuffer', '_HAVE_PICKLE_BUFFER', 'bytes_types', 'format_version', 'compatible_formats', 'HIGHEST_PROTOCOL', 'DEFAULT_PROTOCOL', 'PickleError', 'PicklingError', 'UnpicklingError', '_Stop', 'PyStringMap', 'MARK', 'STOP', 'POP', 'POP_MARK', 'DUP', 'FLOAT', 'INT', 'BININT', 'BININT1', 'LONG', 'BININT2', 'NONE', 'PERSID', 'BINPERSID', 'REDUCE', 'STRING', 'BINSTRING', 'SHORT_BINSTRING', 'UNICODE', 'BINUNICODE', 'APPEND', 'BUILD', 'GLOBAL', 'DICT', 'EMPTY_DICT', 'APPENDS', 'GET', 'BINGET', 'INST', 'LONG_BINGET', 'LIST', 'EMPTY_LIST', 'OBJ', 'PUT', 'BINPUT', 'LONG_BINPUT', 'SETITEM', 'TUPLE', 'EMPTY_TUPLE', 'SETITEMS', 'BINFLOAT', 'TRUE', 'FALSE', 'PROTO', 'NEWOBJ', 'EXT1', 'EXT2', 'EXT4', 'TUPLE1', 'TUPLE2', 'TUPLE3', 'NEWTRUE', 'NEWFALSE', 'LONG1', 'LONG4', '_tuplesize2code', 'BINBYTES', 'SHORT_BINBYTES', 'SHORT_BINUNICODE', 'BINUNICODE8', 'BINBYTES8', 'EMPTY_SET', 'ADDITEMS', 'FROZENSET', 'NEWOBJ_EX', 'STACK_GLOBAL', 'MEMOIZE', 'FRAME', 'BYTEARRAY8', 'NEXT_BUFFER', 'READONLY_BUFFER', '_Framer', '_Unframer', '_getattribute', 'whichmodule', 'encode_long', 'decode_long', '_Pickler', '_Unpickler', '_dump', '_dumps', '_load', '_loads', 'Pickler', 'Unpickler', 'dump', 'dumps', 'load', 'loads', '_test']\n"
     ]
    }
   ],
   "source": [
    "print(pickle.__dir__())"
   ]
  },
  {
   "cell_type": "code",
   "execution_count": 15,
   "id": "bde26c7c",
   "metadata": {},
   "outputs": [
    {
     "name": "stdout",
     "output_type": "stream",
     "text": [
      "Write a pickled representation of obj to the open file object file.\n",
      "\n",
      "This is equivalent to ``Pickler(file, protocol).dump(obj)``, but may\n",
      "be more efficient.\n",
      "\n",
      "The optional *protocol* argument tells the pickler to use the given\n",
      "protocol; supported protocols are 0, 1, 2, 3, 4 and 5.  The default\n",
      "protocol is 4. It was introduced in Python 3.4, and is incompatible\n",
      "with previous versions.\n",
      "\n",
      "Specifying a negative protocol version selects the highest protocol\n",
      "version supported.  The higher the protocol used, the more recent the\n",
      "version of Python needed to read the pickle produced.\n",
      "\n",
      "The *file* argument must have a write() method that accepts a single\n",
      "bytes argument.  It can thus be a file object opened for binary\n",
      "writing, an io.BytesIO instance, or any other custom object that meets\n",
      "this interface.\n",
      "\n",
      "If *fix_imports* is True and protocol is less than 3, pickle will try\n",
      "to map the new Python 3 names to the old module names used in Python\n",
      "2, so that the pickle data stream is readable with Python 2.\n",
      "\n",
      "If *buffer_callback* is None (the default), buffer views are serialized\n",
      "into *file* as part of the pickle stream.  It is an error if\n",
      "*buffer_callback* is not None and *protocol* is None or smaller than 5.\n"
     ]
    }
   ],
   "source": [
    "print(pickle.dump.__doc__)"
   ]
  },
  {
   "cell_type": "code",
   "execution_count": 16,
   "id": "afb7a3e3",
   "metadata": {},
   "outputs": [],
   "source": [
    "# pickle is for serialization of objects"
   ]
  },
  {
   "cell_type": "code",
   "execution_count": 17,
   "id": "cd58c90d",
   "metadata": {},
   "outputs": [],
   "source": [
    "mylist=[1,2,3,4,5,6,7,8,9]"
   ]
  },
  {
   "cell_type": "code",
   "execution_count": 18,
   "id": "c5446435",
   "metadata": {},
   "outputs": [
    {
     "data": {
      "text/plain": [
       "[1, 2, 3, 4, 5, 6, 7, 8, 9]"
      ]
     },
     "execution_count": 18,
     "metadata": {},
     "output_type": "execute_result"
    }
   ],
   "source": [
    "mylist"
   ]
  },
  {
   "cell_type": "code",
   "execution_count": 19,
   "id": "6aab8c6f",
   "metadata": {},
   "outputs": [],
   "source": [
    "file=open('myobjects.pv','wb')\n",
    "pickle.dump(mylist, file)"
   ]
  },
  {
   "cell_type": "code",
   "execution_count": 20,
   "id": "e3b2f231",
   "metadata": {},
   "outputs": [],
   "source": [
    "file.close()"
   ]
  },
  {
   "cell_type": "code",
   "execution_count": 21,
   "id": "20b622d1",
   "metadata": {},
   "outputs": [],
   "source": [
    "file2=open('myobjects.pv','rb')\n",
    "new_list=pickle.load(file2)"
   ]
  },
  {
   "cell_type": "code",
   "execution_count": 22,
   "id": "af697b82",
   "metadata": {},
   "outputs": [
    {
     "name": "stdout",
     "output_type": "stream",
     "text": [
      "[1, 2, 3, 4, 5, 6, 7, 8, 9]\n"
     ]
    }
   ],
   "source": [
    "print(new_list)"
   ]
  },
  {
   "cell_type": "code",
   "execution_count": 23,
   "id": "1448512e",
   "metadata": {},
   "outputs": [],
   "source": [
    "file2.close()"
   ]
  },
  {
   "cell_type": "code",
   "execution_count": null,
   "id": "2f427596",
   "metadata": {},
   "outputs": [],
   "source": []
  }
 ],
 "metadata": {
  "kernelspec": {
   "display_name": "Python 3 (ipykernel)",
   "language": "python",
   "name": "python3"
  },
  "language_info": {
   "codemirror_mode": {
    "name": "ipython",
    "version": 3
   },
   "file_extension": ".py",
   "mimetype": "text/x-python",
   "name": "python",
   "nbconvert_exporter": "python",
   "pygments_lexer": "ipython3",
   "version": "3.9.12"
  }
 },
 "nbformat": 4,
 "nbformat_minor": 5
}
