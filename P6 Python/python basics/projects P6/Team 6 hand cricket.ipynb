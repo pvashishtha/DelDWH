{
 "cells": [
  {
   "cell_type": "code",
   "execution_count": 1,
   "id": "d91af8b7",
   "metadata": {},
   "outputs": [],
   "source": [
    "import random\n",
    "\n",
    "class MyValue(RuntimeError):\n",
    "    def __init__(self,arg):\n",
    "        self.arg = arg\n",
    " \n"
   ]
  },
  {
   "cell_type": "code",
   "execution_count": 2,
   "id": "c5da6112",
   "metadata": {},
   "outputs": [],
   "source": [
    "def Player_bowling():\n",
    "    try:\n",
    "        x=int(input(\"enter number\"))\n",
    "        if(1<x>6):\n",
    "            raise MyValue(\"enter valid no\")\n",
    "    except MyValue as e:\n",
    "        print(e.arg)\n",
    "    else:\n",
    "        return x\n",
    "            \n",
    "            "
   ]
  },
  {
   "cell_type": "code",
   "execution_count": 3,
   "id": "5bf8ffe0",
   "metadata": {},
   "outputs": [],
   "source": [
    "def computer_batting(t,score):\n",
    "    if(t==1):\n",
    "        target=score\n",
    "        wickets,runs=0,0\n",
    "        l=[1,2,3,4,5,6]\n",
    "        while(wickets<3):\n",
    "            p=Player_bowling()\n",
    "            b=random.choice(l)\n",
    "            if(p==b):\n",
    "                wickets+=1\n",
    "            elif(runs>target):\n",
    "                break\n",
    "            else:\n",
    "                runs+=b\n",
    "        return runs\n",
    "    else:\n",
    "        return get_target(0)\n",
    "   \n",
    "    "
   ]
  },
  {
   "cell_type": "code",
   "execution_count": 4,
   "id": "c6b5a30d",
   "metadata": {},
   "outputs": [],
   "source": [
    "def get_target(d):\n",
    "        wickets,runs=0,0\n",
    "        l=[1,2,3,4,5,6]\n",
    "        while(wickets<3):\n",
    "            if(d==0):\n",
    "                p=Player_bowling()\n",
    "                b=random.choice(l)\n",
    "            else:\n",
    "                b=int(input(\"enter the score:\"))\n",
    "                p=Computer_bowling()\n",
    "           \n",
    "            if(p==b):\n",
    "                wickets+=1\n",
    "            else:\n",
    "                runs+=b\n",
    "        return runs"
   ]
  },
  {
   "cell_type": "code",
   "execution_count": 5,
   "id": "a44de227",
   "metadata": {},
   "outputs": [],
   "source": [
    "def Computer_bowling():\n",
    "    l=[1,2,3,4,5,6]\n",
    "    b=random.choice(l)\n",
    "    return b\n",
    "    "
   ]
  },
  {
   "cell_type": "code",
   "execution_count": 6,
   "id": "8fca942a",
   "metadata": {},
   "outputs": [],
   "source": [
    "def player_batting(r,k):\n",
    "    if(r==0):\n",
    "        target=k\n",
    "   \n",
    "        wickets,runs=0,0\n",
    "        while(wickets<3 ):\n",
    "            p=int(input(\"enter the score:\"))\n",
    "            y=Computer_bowling()\n",
    "            if(p==y):\n",
    "                wickets+=1\n",
    "            elif(runs>target):\n",
    "                break\n",
    "            else:\n",
    "                runs+=p\n",
    "\n",
    "        return runs\n",
    "    else:\n",
    "        return get_target(1)\n",
    "    "
   ]
  },
  {
   "cell_type": "code",
   "execution_count": 8,
   "id": "dc093daa",
   "metadata": {},
   "outputs": [
    {
     "name": "stdout",
     "output_type": "stream",
     "text": [
      "Computer bats\n",
      "enter number1\n",
      "enter number1\n",
      "enter number1\n",
      "enter number1\n",
      "enter number1\n",
      "enter number1\n",
      "enter number1\n",
      "enter number1\n",
      "enter number1\n",
      "enter number1\n",
      "enter number1\n",
      "enter number1\n",
      "compter score: 39\n",
      "enter the score:1\n",
      "enter the score:1\n",
      "enter the score:1\n",
      "enter the score:1\n",
      "enter the score:1\n",
      "enter the score:1\n",
      "enter the score:1\n",
      "enter the score:1\n",
      "enter the score:1\n",
      "enter the score:1\n",
      "Player score: 7\n",
      "computer wins the match \n"
     ]
    }
   ],
   "source": [
    "toss_ran = ['H','T']\n",
    "toss = random.choice(toss_ran)\n",
    "   \n",
    "if toss == 'H' :\n",
    "        print('Computer bats')\n",
    "        c=computer_batting(0,0)\n",
    "        print(\"compter score:\",c)\n",
    "        runs=(player_batting(0,c))\n",
    "        print(\"Player score:\",runs)\n",
    "        if(runs>c):\n",
    "            print(\"player wins the match \")\n",
    "        elif(runs==c):\n",
    "            print(\"Match Tie \")\n",
    "        else:\n",
    "            print(\"computer wins the match \")\n",
    "        \n",
    "else:\n",
    "        print('Player bats')\n",
    "        p=player_batting(1,1)\n",
    "        print(\"Player score:\",p)\n",
    "        v=computer_batting(1,p)\n",
    "        print(\"compter score:\",v)\n",
    "        if(v>p):\n",
    "             print(\"Computer wins the match \")\n",
    "        elif(v==p):\n",
    "              print(\"Match Tie \")\n",
    "        else:\n",
    "            print(\"player wins the match \")"
   ]
  },
  {
   "cell_type": "markdown",
   "id": "42a956bd",
   "metadata": {},
   "source": []
  },
  {
   "cell_type": "code",
   "execution_count": null,
   "id": "74f3f940",
   "metadata": {},
   "outputs": [],
   "source": []
  }
 ],
 "metadata": {
  "kernelspec": {
   "display_name": "Python 3 (ipykernel)",
   "language": "python",
   "name": "python3"
  },
  "language_info": {
   "codemirror_mode": {
    "name": "ipython",
    "version": 3
   },
   "file_extension": ".py",
   "mimetype": "text/x-python",
   "name": "python",
   "nbconvert_exporter": "python",
   "pygments_lexer": "ipython3",
   "version": "3.9.13"
  }
 },
 "nbformat": 4,
 "nbformat_minor": 5
}
