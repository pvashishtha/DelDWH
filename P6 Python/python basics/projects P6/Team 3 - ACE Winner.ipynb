{
 "cells": [
  {
   "cell_type": "markdown",
   "id": "e0db3f03",
   "metadata": {},
   "source": [
    "# ACE Winner"
   ]
  },
  {
   "cell_type": "markdown",
   "id": "e98a3627",
   "metadata": {},
   "source": [
    "### Project by:\n",
    "* Aravind Subramanian V\n",
    "* Preet Porwal\n",
    "* Raghunath T"
   ]
  },
  {
   "cell_type": "markdown",
   "id": "071a88b5",
   "metadata": {},
   "source": [
    "## Priority\n",
    "* Spades\n",
    "* Clubs \n",
    "* Diamonds\n",
    "* Hearts"
   ]
  },
  {
   "cell_type": "markdown",
   "id": "0a859560",
   "metadata": {},
   "source": [
    "#### Functions to be created\n",
    "* function to shuffle the decks - random.shuffle()\n",
    "* function to compare choices"
   ]
  },
  {
   "cell_type": "markdown",
   "id": "30374642",
   "metadata": {},
   "source": [
    "#### How the code works\n",
    "* create a list of 52 cards                                                 - done \n",
    "* shuffle - function req.                                                   - done\n",
    "* assignment to two separate lists                                          - done\n",
    "* shuffle the sublists again                                                - done\n",
    "* random choice from both the lists - random module                         - done\n",
    "* comparison, declaration of winner, and removal+appending  - function req. - done\n",
    "* condition to end                                                          - done\n",
    "* disclaimer\n",
    "\n",
    "* error and exception - raise exception for equal number of cards \n"
   ]
  },
  {
   "cell_type": "markdown",
   "id": "72998657",
   "metadata": {},
   "source": [
    "### Driver code is in the last cell"
   ]
  },
  {
   "cell_type": "markdown",
   "id": "de800b6d",
   "metadata": {},
   "source": [
    "### Generating 52 cards "
   ]
  },
  {
   "cell_type": "code",
   "execution_count": 92,
   "id": "b30c61f8",
   "metadata": {},
   "outputs": [],
   "source": [
    "def gen_card():\n",
    "    li = ['2', '3', '4', '5', '6', '7', '8', '9', '10', '11', '12', '13', '14']\n",
    "    li2 = ['S', 'C', 'D', 'H']\n",
    "\n",
    "    cards = []\n",
    "    for i in range(len(li2)):\n",
    "        for j in range(len(li)):\n",
    "            cards.append(li2[i] + ' ' + li[j])\n",
    "    print('Cards dealt! Let\\'s Play')\n",
    "    return cards"
   ]
  },
  {
   "cell_type": "code",
   "execution_count": 91,
   "id": "d845206b",
   "metadata": {},
   "outputs": [],
   "source": [
    "import random\n",
    "def card_shuffle(card_list):  \n",
    "    random.shuffle(card_list)"
   ]
  },
  {
   "cell_type": "markdown",
   "id": "749a4abf",
   "metadata": {},
   "source": [
    "### Assignment to players "
   ]
  },
  {
   "cell_type": "code",
   "execution_count": 46,
   "id": "54b0be7a",
   "metadata": {},
   "outputs": [],
   "source": [
    "player1 = cards[0:26]\n",
    "player2 = cards[26:]\n",
    "#print(\"26 cards provided to player1\",player1)\n",
    "#print(\"26 cards provided to player2\",player2)"
   ]
  },
  {
   "cell_type": "code",
   "execution_count": 47,
   "id": "e90fa164",
   "metadata": {},
   "outputs": [],
   "source": [
    "card_shuffle(player1)\n",
    "card_shuffle(player2)\n",
    "#player2\n",
    "#player1"
   ]
  },
  {
   "cell_type": "markdown",
   "id": "84834645",
   "metadata": {},
   "source": [
    "### Random selection -- Needs to looped!!!!"
   ]
  },
  {
   "cell_type": "code",
   "execution_count": 48,
   "id": "83efcc78",
   "metadata": {},
   "outputs": [],
   "source": [
    "player1_choice = random.choice(player1)\n",
    "player2_choice = random.choice(player2)\n",
    "\n",
    "player1_split = player1_choice.split()\n",
    "player2_split = player2_choice.split()"
   ]
  },
  {
   "cell_type": "code",
   "execution_count": 49,
   "id": "fc4c671f",
   "metadata": {},
   "outputs": [],
   "source": [
    "#player1_split\n",
    "#player2_split"
   ]
  },
  {
   "cell_type": "markdown",
   "id": "f72f6870",
   "metadata": {},
   "source": [
    "### Comparison function -- Needs to be Looped!!!"
   ]
  },
  {
   "cell_type": "code",
   "execution_count": 50,
   "id": "58515e67",
   "metadata": {},
   "outputs": [],
   "source": [
    "def card_check(pls1, pls2):\n",
    "    if pls1[0] == pls2[0]:    ### Condition for same colors\n",
    "        if int(pls1[1]) > int(pls2[1]):\n",
    "            player1.pop(player1.index(player1_choice))\n",
    "            player2.append(player1_choice)\n",
    "        else:\n",
    "            player2.pop(player2.index(player2_choice))\n",
    "            player1.append(player2_choice)\n",
    "    \n",
    "    elif pls1[0] == 'S':   ## spade conditions\n",
    "        player1.pop(player1.index(player1_choice))\n",
    "        player2.append(player1_choice)\n",
    "    \n",
    "    elif pls2[0] == 'S':\n",
    "        player2.pop(player2.index(player2_choice))\n",
    "        player1.append(player2_choice)\n",
    "    \n",
    "    elif pls1[0] == 'C': ## clubs condition\n",
    "        if pls2[0] == 'S':\n",
    "            player2.pop(player2.index(player2_choice))\n",
    "            player1.append(player2_choice)\n",
    "        else:\n",
    "            player1.pop(player1.index(player1_choice))\n",
    "            player2.append(player1_choice)\n",
    "    \n",
    "    elif pls2[0] == 'C':\n",
    "        if pls1[0] == 'S':\n",
    "            player1.pop(player1.index(player1_choice))\n",
    "            player2.append(player1_choice)\n",
    "        else:\n",
    "            player2.pop(player2.index(player2_choice))\n",
    "            player1.append(player2_choice)\n",
    "            \n",
    "    elif pls1[0] == 'D': ## diamonds condition\n",
    "        if pls2[0] == 'S' or 'C':\n",
    "            player2.pop(player2.index(player2_choice))\n",
    "            player1.append(player2_choice)\n",
    "        else:\n",
    "            player1.pop(player1.index(player1_choice))\n",
    "            player2.append(player1_choice)\n",
    "                \n",
    "    elif pls2[0] == 'D': \n",
    "        if pls1[0] == 'S' or 'C':\n",
    "            player1.pop(player1.index(player1_choice))\n",
    "            player2.append(player1_choice)\n",
    "        else:\n",
    "            player2.pop(player2.index(player2_choice))\n",
    "            player1.append(player2_choice)\n",
    "      \n",
    "    elif pls1[0] == 'H': ## Hearts condition\n",
    "        if pls2[0] == 'S' or 'C' or 'D':\n",
    "            player2.pop(player2.index(player2_choice))\n",
    "            player1.append(player2_choice)\n",
    "        else:\n",
    "            player1.pop(player1.index(player1_choice))\n",
    "            player2.append(player1_choice)\n",
    "            \n",
    "    elif pls2[0] == 'H': \n",
    "        if pls1[0] == 'S' or 'C' or 'D':\n",
    "            player1.pop(player1.index(player1_choice))\n",
    "            player2.append(player1_choice)\n",
    "        else:\n",
    "            player2.pop(player2.index(player2_choice))\n",
    "            player1.append(player2_choice)"
   ]
  },
  {
   "cell_type": "code",
   "execution_count": 99,
   "id": "c45145e9",
   "metadata": {},
   "outputs": [
    {
     "name": "stdout",
     "output_type": "stream",
     "text": [
      "Cards dealt! Game begins\n"
     ]
    }
   ],
   "source": [
    "card_deck = gen_card()\n",
    "card_shuffle(card_deck)\n",
    "player1 = card_deck[0:26]\n",
    "player2 = card_deck[26:]\n",
    "for i in range(0,26):\n",
    "    card_shuffle(player1)\n",
    "    card_shuffle(player2)\n",
    "    \n",
    "    player1_choice = random.choice(player1)\n",
    "    player2_choice = random.choice(player2)\n",
    "\n",
    "    player1_split = player1_choice.split()\n",
    "    player2_split = player2_choice.split()\n",
    "    \n",
    "    card_check(player1_split,player2_split)"
   ]
  },
  {
   "cell_type": "code",
   "execution_count": 100,
   "id": "fcd33e0e",
   "metadata": {},
   "outputs": [
    {
     "name": "stdout",
     "output_type": "stream",
     "text": [
      "Cards with player1:  ['C 13', 'H 14', 'D 14', 'C 12', 'D 10', 'S 2', 'D 6', 'S 9', 'C 4', 'C 9', 'D 7', 'S 14', 'S 5', 'H 13', 'D 9', 'H 8', 'H 4', 'C 2', 'D 3', 'S 4', 'H 9', 'D 5', 'S 3', 'D 4', 'C 6', 'D 11', 'S 10', 'C 7'] \n",
      "Cards with player2:  ['H 12', 'D 13', 'S 6', 'H 10', 'H 3', 'H 2', 'C 3', 'S 8', 'C 5', 'C 10', 'S 13', 'D 2', 'S 11', 'S 12', 'S 7', 'H 6', 'H 7', 'D 8', 'C 14', 'D 12', 'C 11', 'H 5', 'H 11', 'C 8'] "
     ]
    }
   ],
   "source": [
    "c1=len(player1)\n",
    "c2=len(player2)\n",
    "print(\"Cards with player1: \",player1,end = ' ')\n",
    "print(\"\\nCards with player2: \",player2,end = ' ')"
   ]
  },
  {
   "cell_type": "code",
   "execution_count": 101,
   "id": "6f1d7f1a",
   "metadata": {},
   "outputs": [
    {
     "name": "stdout",
     "output_type": "stream",
     "text": [
      "Player 2 Wins\n"
     ]
    }
   ],
   "source": [
    "if c1>c2:\n",
    "    print('Player 2 Wins')\n",
    "elif c2>c1:\n",
    "    print('Player 1 Wins')\n",
    "else:\n",
    "    print('It\\'s a tie')"
   ]
  },
  {
   "cell_type": "code",
   "execution_count": 144,
   "id": "ccec2d06",
   "metadata": {},
   "outputs": [
    {
     "name": "stdout",
     "output_type": "stream",
     "text": [
      "Cards dealt! Game begins\n",
      "Cards are being shuffled...\n",
      "Let the matches begin!\n",
      "Match Intensifies\n",
      ".\n",
      ".\n",
      ".\n",
      "Match Over!\n",
      "\n",
      "Results:\n",
      "Cards with Player1:  ['H 3', 'D 8', 'S 7', 'S 8', 'D 4', 'C 6', 'D 10', 'C 3', 'S 5', 'C 9', 'C 5', 'S 14', 'S 2', 'S 6', 'H 5', 'C 12', 'D 2', 'H 9', 'D 5', 'H 13', 'C 11', 'D 11', 'D 9', 'C 14', 'H 4', 'H 8', 'C 7', 'D 3', 'D 6', 'C 10', 'S 11', 'S 12', 'C 13', 'D 7', 'H 14', 'C 4', 'S 9', 'H 7', 'H 12', 'D 12', 'D 14', 'H 11', 'S 10', 'S 13', 'H 6', 'S 3', 'H 10', 'D 13', 'C 2', 'H 2', 'S 4', 'C 8']\n",
      "Cards with Player2:  []\n",
      "Number of Rounds:  930\n",
      "The Winner is Player 2 . Congratulations!\n"
     ]
    }
   ],
   "source": [
    "import time\n",
    "card_deck = gen_card()\n",
    "time.sleep(2)\n",
    "\n",
    "card_shuffle(card_deck)\n",
    "print(\"Cards are being shuffled\", end='')\n",
    "time.sleep(1)\n",
    "print('.',end='')\n",
    "time.sleep(1)\n",
    "print('.',end='')\n",
    "time.sleep(1)\n",
    "print('.',end='')\n",
    "time.sleep(1)\n",
    "\n",
    "player1 = card_deck[0:26]\n",
    "player2 = card_deck[26:]\n",
    "flag = 0\n",
    "count = 0\n",
    "\n",
    "print('\\nLet the matches begin!')\n",
    "time.sleep(2)\n",
    "print('Match Intensifies')\n",
    "time.sleep(1)\n",
    "print('.')\n",
    "time.sleep(1)\n",
    "print('.')\n",
    "time.sleep(1)\n",
    "print('.')\n",
    "time.sleep(1)\n",
    "\n",
    "while(flag==0):\n",
    "    card_shuffle(player1)\n",
    "    card_shuffle(player2)\n",
    "    \n",
    "    player1_choice = random.choice(player1)\n",
    "    player2_choice = random.choice(player2)\n",
    "\n",
    "    player1_split = player1_choice.split()\n",
    "    player2_split = player2_choice.split()\n",
    "    \n",
    "    card_check(player1_split,player2_split)\n",
    "    count+=1\n",
    "    \n",
    "    if player1==[]:\n",
    "        flag = 1\n",
    "    elif player2==[]:\n",
    "        flag = 2\n",
    "        \n",
    "print('Match Over!\\n')\n",
    "time.sleep(2)\n",
    "print('Results:')\n",
    "time.sleep(1)\n",
    "print(\"Cards with Player1: \",player1)\n",
    "time.sleep(1)\n",
    "print(\"Cards with Player2: \",player2)\n",
    "time.sleep(1)\n",
    "print(\"Number of Rounds: \",count)\n",
    "time.sleep(1)\n",
    "print(\"The Winner is Player\",flag,\". Congratulations!\")"
   ]
  },
  {
   "cell_type": "code",
   "execution_count": null,
   "id": "3abdae00",
   "metadata": {},
   "outputs": [],
   "source": [
    "#2,2,1,2,1,2,1,2,1,2,2"
   ]
  },
  {
   "cell_type": "code",
   "execution_count": null,
   "id": "aeeaa489",
   "metadata": {},
   "outputs": [],
   "source": []
  }
 ],
 "metadata": {
  "kernelspec": {
   "display_name": "Python 3 (ipykernel)",
   "language": "python",
   "name": "python3"
  },
  "language_info": {
   "codemirror_mode": {
    "name": "ipython",
    "version": 3
   },
   "file_extension": ".py",
   "mimetype": "text/x-python",
   "name": "python",
   "nbconvert_exporter": "python",
   "pygments_lexer": "ipython3",
   "version": "3.9.13"
  }
 },
 "nbformat": 4,
 "nbformat_minor": 5
}
