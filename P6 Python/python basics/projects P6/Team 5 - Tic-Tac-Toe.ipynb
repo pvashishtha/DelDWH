{
 "cells": [
  {
   "cell_type": "code",
   "execution_count": 1,
   "id": "2da4788c",
   "metadata": {},
   "outputs": [],
   "source": [
    "from IPython.display import clear_output\n",
    "\n",
    "def display_board(board):\n",
    "    clear_output() \n",
    "    \n",
    "    print('   |   |')\n",
    "    print(' ' + board[1] + ' | ' + board[2] + ' | ' + board[3])\n",
    "    print('   |   |')\n",
    "    print('-----------')\n",
    "    print('   |   |')\n",
    "    print(' ' + board[4] + ' | ' + board[5] + ' | ' + board[6])\n",
    "    print('   |   |')\n",
    "    print('-----------')\n",
    "    print('   |   |')\n",
    "    print(' ' + board[7] + ' | ' + board[8] + ' | ' + board[9])\n",
    "    print('   |   |')"
   ]
  },
  {
   "cell_type": "code",
   "execution_count": 9,
   "id": "83642d5d",
   "metadata": {},
   "outputs": [],
   "source": [
    "def player_inp():\n",
    "    choice = ''\n",
    "    \n",
    "    while not (choice == 'X' or choice == 'O'):\n",
    "        choice = input('Player 1: Do you want to be X or O? ').upper()\n",
    "\n",
    "    if choice == 'X':\n",
    "        return ('X', 'O')\n",
    "    else:\n",
    "        return ('O', 'X')"
   ]
  },
  {
   "cell_type": "code",
   "execution_count": 2,
   "id": "6b0d927e",
   "metadata": {},
   "outputs": [],
   "source": [
    "def space_check(board, position):\n",
    "    \n",
    "    return board[position] == ' '"
   ]
  },
  {
   "cell_type": "code",
   "execution_count": 3,
   "id": "7e178bc9",
   "metadata": {},
   "outputs": [],
   "source": [
    "def player_pos(board):\n",
    "    position = 0\n",
    "\n",
    "    while position not in [1,2,3,4,5,6,7,8,9] or not space_check(board, position):\n",
    "        position = int(input('Choose your next position: (1-9) '))\n",
    "\n",
    "    return position"
   ]
  },
  {
   "cell_type": "code",
   "execution_count": 4,
   "id": "5ae4954b",
   "metadata": {},
   "outputs": [],
   "source": [
    "def position_set(board, choice, position):\n",
    "    \n",
    "\n",
    "    board[position] = choice\n",
    "    \n",
    "    \n",
    "    "
   ]
  },
  {
   "cell_type": "code",
   "execution_count": 5,
   "id": "c3827157",
   "metadata": {},
   "outputs": [],
   "source": [
    "def full_board_check(board):\n",
    "    for i in range(1,10):\n",
    "        if space_check(board, i):\n",
    "            return False\n",
    "    return True"
   ]
  },
  {
   "cell_type": "code",
   "execution_count": 6,
   "id": "29b96d86",
   "metadata": {},
   "outputs": [],
   "source": [
    "def win_check(board,c):\n",
    "    \n",
    "    return ((board[1] == c and board[2] == c and board[3] == c) or # across the top\n",
    "    (board[4] == c and board[5] == c and board[6] == c) or # across the middle\n",
    "    (board[7] == c and board[8] == c and board[9] == c) or # across the bottom\n",
    "    (board[2] == c and board[5] == c and board[8] == c) or # down the middle\n",
    "    (board[1] == c and board[4] == c and board[7] == c) or # left side\n",
    "    (board[3] == c and board[6] == c and board[9] == c) or # down the right side\n",
    "    (board[1] == c and board[5] == c and board[9] == c) or # diagonal\n",
    "    (board[3] == c and board[5] == c and board[7] == c)) # diagonal"
   ]
  },
  {
   "cell_type": "code",
   "execution_count": 7,
   "id": "58716ebd",
   "metadata": {},
   "outputs": [],
   "source": [
    "import random\n",
    "def first_go():\n",
    "    if random.randint(0, 1) == 0:\n",
    "        return 'Player 2'\n",
    "    else:\n",
    "        return 'Player 1'"
   ]
  },
  {
   "cell_type": "code",
   "execution_count": 10,
   "id": "592e87e1",
   "metadata": {},
   "outputs": [
    {
     "name": "stdout",
     "output_type": "stream",
     "text": [
      "   |   |\n",
      " O | X | O\n",
      "   |   |\n",
      "-----------\n",
      "   |   |\n",
      " X | O | X\n",
      "   |   |\n",
      "-----------\n",
      "   |   |\n",
      " O |   |  \n",
      "   |   |\n",
      "Player 2 has won!\n"
     ]
    }
   ],
   "source": [
    "print('Welcome to Tic Tac Toe!')\n",
    "theBoard = [' '] * 10\n",
    "player1_marker, player2_marker = player_inp()\n",
    "turn = first_go()\n",
    "print(turn + ' will go first.')\n",
    "    \n",
    "play_game = input('Are you ready to play? Enter Y or N.')\n",
    "    \n",
    "if play_game.lower() == 'y':\n",
    "    game_on = True\n",
    "else:\n",
    "    game_on = False\n",
    "\n",
    "while game_on:\n",
    "    if turn == 'Player 1':\n",
    "        display_board(theBoard)\n",
    "        position = player_pos(theBoard)\n",
    "        position_set(theBoard, player1_marker, position)\n",
    "\n",
    "        if win_check(theBoard, player1_marker):\n",
    "            display_board(theBoard)\n",
    "            print('Player 1 won the game')\n",
    "            game_on = False\n",
    "        else:\n",
    "            if full_board_check(theBoard):\n",
    "                display_board(theBoard)\n",
    "                print('The game is a draw!')\n",
    "                break\n",
    "            else:\n",
    "                turn = 'Player 2'\n",
    "\n",
    "    else: \n",
    "        display_board(theBoard)\n",
    "        position = player_pos(theBoard)\n",
    "        position_set(theBoard, player2_marker, position)\n",
    "\n",
    "        if win_check(theBoard, player2_marker):\n",
    "            display_board(theBoard)\n",
    "            print('Player 2 has won!')\n",
    "            game_on = False\n",
    "        else:\n",
    "            if full_board_check(theBoard):\n",
    "                display_board(theBoard)\n",
    "                print('The game is a draw!')\n",
    "                break\n",
    "            else:\n",
    "                turn = 'Player 1'\n",
    "\n",
    "   \n"
   ]
  },
  {
   "cell_type": "code",
   "execution_count": null,
   "id": "7885ffe5",
   "metadata": {},
   "outputs": [],
   "source": []
  }
 ],
 "metadata": {
  "kernelspec": {
   "display_name": "Python 3 (ipykernel)",
   "language": "python",
   "name": "python3"
  },
  "language_info": {
   "codemirror_mode": {
    "name": "ipython",
    "version": 3
   },
   "file_extension": ".py",
   "mimetype": "text/x-python",
   "name": "python",
   "nbconvert_exporter": "python",
   "pygments_lexer": "ipython3",
   "version": "3.9.13"
  }
 },
 "nbformat": 4,
 "nbformat_minor": 5
}
