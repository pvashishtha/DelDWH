{
 "cells": [
  {
   "cell_type": "markdown",
   "id": "82ac7937",
   "metadata": {},
   "source": [
    "##### Python basics Day 4"
   ]
  },
  {
   "cell_type": "code",
   "execution_count": 10,
   "id": "5a5591d2",
   "metadata": {},
   "outputs": [
    {
     "name": "stdout",
     "output_type": "stream",
     "text": [
      "['A girl is playing\\n', 'She is in a playground\\n', 'The sky above is pink\\n', 'A balloon is in the sky\\n', 'The balloon is blue\\n', 'The magic house\\n', 'house of wax\\n', 'Into the forest']\n"
     ]
    }
   ],
   "source": [
    "# open the file:\n",
    "\n",
    "with open('articles.txt', 'r') as file1:\n",
    "    data=file1.readlines()\n",
    "print(data)"
   ]
  },
  {
   "cell_type": "code",
   "execution_count": 11,
   "id": "3547e056",
   "metadata": {},
   "outputs": [
    {
     "name": "stdout",
     "output_type": "stream",
     "text": [
      "8\n",
      "The sky above is pink\n",
      "A balloon is in the sky\n",
      "The balloon is blue\n",
      "The magic house\n",
      "Into the forest\n"
     ]
    }
   ],
   "source": [
    "counter=0\n",
    "int_lines=''\n",
    "for line in data:\n",
    "    words=line.split()\n",
    "    for word in words:\n",
    "        if word.lower() in ['a', 'the', 'an']:\n",
    "            counter+=1\n",
    "        if word.lower()=='the':\n",
    "            int_lines+=line\n",
    "write_data=str(counter)+'\\n'+int_lines\n",
    "print(write_data)"
   ]
  },
  {
   "cell_type": "code",
   "execution_count": 14,
   "id": "da730848",
   "metadata": {},
   "outputs": [
    {
     "ename": "UnsupportedOperation",
     "evalue": "not writable",
     "output_type": "error",
     "traceback": [
      "\u001b[1;31m---------------------------------------------------------------------------\u001b[0m",
      "\u001b[1;31mUnsupportedOperation\u001b[0m                      Traceback (most recent call last)",
      "Input \u001b[1;32mIn [14]\u001b[0m, in \u001b[0;36m<cell line: 1>\u001b[1;34m()\u001b[0m\n\u001b[0;32m      1\u001b[0m \u001b[38;5;28;01mwith\u001b[39;00m \u001b[38;5;28mopen\u001b[39m(\u001b[38;5;124m'\u001b[39m\u001b[38;5;124mresults.txt\u001b[39m\u001b[38;5;124m'\u001b[39m,\u001b[38;5;124m'\u001b[39m\u001b[38;5;124mw\u001b[39m\u001b[38;5;124m'\u001b[39m) \u001b[38;5;28;01mas\u001b[39;00m file2:\n\u001b[1;32m----> 2\u001b[0m     \u001b[43mfile\u001b[49m\u001b[38;5;241;43m.\u001b[39;49m\u001b[43mwrite\u001b[49m\u001b[43m(\u001b[49m\u001b[43mwrite_data\u001b[49m\u001b[43m)\u001b[49m\n",
      "\u001b[1;31mUnsupportedOperation\u001b[0m: not writable"
     ]
    }
   ],
   "source": [
    "with open('results.txt','w') as file2:\n",
    "    file2.write(write_data)\n"
   ]
  },
  {
   "cell_type": "code",
   "execution_count": 13,
   "id": "3cb926c1",
   "metadata": {},
   "outputs": [
    {
     "name": "stdout",
     "output_type": "stream",
     "text": [
      "A girl is playing\n",
      "\n",
      "She is in a playground\n",
      "\n",
      "The sky above is pink\n",
      "\n",
      "A balloon is in the sky\n",
      "\n",
      "The balloon is blue\n",
      "\n",
      "The magic house\n",
      "\n",
      "house of wax\n",
      "\n",
      "Into the forest\n"
     ]
    }
   ],
   "source": [
    "file=open('articles.txt','r')\n",
    "for line in file:\n",
    "    print(line)"
   ]
  },
  {
   "cell_type": "markdown",
   "id": "d8cd6503",
   "metadata": {},
   "source": [
    "# Exception Handling"
   ]
  },
  {
   "cell_type": "markdown",
   "id": "99dbba63",
   "metadata": {},
   "source": [
    "### Try- Except"
   ]
  },
  {
   "cell_type": "code",
   "execution_count": 20,
   "id": "3783a014",
   "metadata": {},
   "outputs": [
    {
     "name": "stdout",
     "output_type": "stream",
     "text": [
      "200\n",
      "0\n",
      "Exception Occured!\n",
      "Processing Ends!\n"
     ]
    }
   ],
   "source": [
    "x=int(input())\n",
    "y=int(input())\n",
    "try:\n",
    "    division=x//y\n",
    "    print(division)\n",
    "except:\n",
    "    print('Exception Occured!')\n",
    "print('Processing Ends!')"
   ]
  },
  {
   "cell_type": "code",
   "execution_count": 21,
   "id": "6179d8f7",
   "metadata": {},
   "outputs": [],
   "source": [
    "# Named Exceptions"
   ]
  },
  {
   "cell_type": "code",
   "execution_count": 22,
   "id": "c75d4b1a",
   "metadata": {},
   "outputs": [
    {
     "ename": "ZeroDivisionError",
     "evalue": "division by zero",
     "output_type": "error",
     "traceback": [
      "\u001b[1;31m---------------------------------------------------------------------------\u001b[0m",
      "\u001b[1;31mZeroDivisionError\u001b[0m                         Traceback (most recent call last)",
      "Input \u001b[1;32mIn [22]\u001b[0m, in \u001b[0;36m<cell line: 1>\u001b[1;34m()\u001b[0m\n\u001b[1;32m----> 1\u001b[0m \u001b[38;5;241;43m20\u001b[39;49m\u001b[38;5;241;43m/\u001b[39;49m\u001b[38;5;241;43m0\u001b[39;49m\n",
      "\u001b[1;31mZeroDivisionError\u001b[0m: division by zero"
     ]
    }
   ],
   "source": [
    "20/0"
   ]
  },
  {
   "cell_type": "code",
   "execution_count": 23,
   "id": "2f2f1cf3",
   "metadata": {},
   "outputs": [
    {
     "ename": "FileNotFoundError",
     "evalue": "[Errno 2] No such file or directory: 'try.txt'",
     "output_type": "error",
     "traceback": [
      "\u001b[1;31m---------------------------------------------------------------------------\u001b[0m",
      "\u001b[1;31mFileNotFoundError\u001b[0m                         Traceback (most recent call last)",
      "Input \u001b[1;32mIn [23]\u001b[0m, in \u001b[0;36m<cell line: 1>\u001b[1;34m()\u001b[0m\n\u001b[1;32m----> 1\u001b[0m \u001b[38;5;28;01mwith\u001b[39;00m \u001b[38;5;28;43mopen\u001b[39;49m\u001b[43m(\u001b[49m\u001b[38;5;124;43m'\u001b[39;49m\u001b[38;5;124;43mtry.txt\u001b[39;49m\u001b[38;5;124;43m'\u001b[39;49m\u001b[43m,\u001b[49m\u001b[38;5;124;43m'\u001b[39;49m\u001b[38;5;124;43mr\u001b[39;49m\u001b[38;5;124;43m'\u001b[39;49m\u001b[43m)\u001b[49m \u001b[38;5;28;01mas\u001b[39;00m f:\n\u001b[0;32m      2\u001b[0m     \u001b[38;5;28mprint\u001b[39m(f)\n",
      "\u001b[1;31mFileNotFoundError\u001b[0m: [Errno 2] No such file or directory: 'try.txt'"
     ]
    }
   ],
   "source": [
    "with open('try.txt','r') as f:\n",
    "    print(f)"
   ]
  },
  {
   "cell_type": "code",
   "execution_count": 24,
   "id": "62fa4fd5",
   "metadata": {},
   "outputs": [
    {
     "ename": "PermissionError",
     "evalue": "[WinError 32] The process cannot access the file because it is being used by another process: 'articles.txt' -> 'trial.txt'",
     "output_type": "error",
     "traceback": [
      "\u001b[1;31m---------------------------------------------------------------------------\u001b[0m",
      "\u001b[1;31mPermissionError\u001b[0m                           Traceback (most recent call last)",
      "Input \u001b[1;32mIn [24]\u001b[0m, in \u001b[0;36m<cell line: 2>\u001b[1;34m()\u001b[0m\n\u001b[0;32m      1\u001b[0m \u001b[38;5;28;01mimport\u001b[39;00m \u001b[38;5;21;01mos\u001b[39;00m\n\u001b[1;32m----> 2\u001b[0m \u001b[43mos\u001b[49m\u001b[38;5;241;43m.\u001b[39;49m\u001b[43mrename\u001b[49m\u001b[43m(\u001b[49m\u001b[38;5;124;43m'\u001b[39;49m\u001b[38;5;124;43marticles.txt\u001b[39;49m\u001b[38;5;124;43m'\u001b[39;49m\u001b[43m,\u001b[49m\u001b[43m \u001b[49m\u001b[38;5;124;43m'\u001b[39;49m\u001b[38;5;124;43mtrial.txt\u001b[39;49m\u001b[38;5;124;43m'\u001b[39;49m\u001b[43m)\u001b[49m\n",
      "\u001b[1;31mPermissionError\u001b[0m: [WinError 32] The process cannot access the file because it is being used by another process: 'articles.txt' -> 'trial.txt'"
     ]
    }
   ],
   "source": [
    "import os\n",
    "os.rename('articles.txt', 'trial.txt')"
   ]
  },
  {
   "cell_type": "code",
   "execution_count": 29,
   "id": "d8f25cd2",
   "metadata": {},
   "outputs": [
    {
     "name": "stdout",
     "output_type": "stream",
     "text": [
      "45\n",
      "0\n",
      "Y is set to zero, can not divide!!!\n",
      "Program Over!\n"
     ]
    }
   ],
   "source": [
    "# example:\n",
    "\n",
    "import os\n",
    "try:\n",
    "    #os.rename('articles.txt', 'trial.txt')\n",
    "    #with open('trial.txt','r') as f:\n",
    "     #   print(f.read())\n",
    "    x=int(input())\n",
    "    y=int(input())\n",
    "    div=x//y\n",
    "    print(div)\n",
    "except PermissionError:\n",
    "    print('You do not have enough priviliges to rename a file on tis system')\n",
    "except FileNotFoundError:\n",
    "    print('File is not in this directory...')\n",
    "except ZeroDivisionError:\n",
    "    print('Y is set to zero, can not divide!!!')\n",
    "except:\n",
    "    print('unexpected exception occured!')\n",
    "print('Program Over!')"
   ]
  },
  {
   "cell_type": "code",
   "execution_count": 32,
   "id": "b0175399",
   "metadata": {},
   "outputs": [
    {
     "name": "stdout",
     "output_type": "stream",
     "text": [
      "File Issues!\n",
      "Program Over!\n"
     ]
    }
   ],
   "source": [
    "# example:\n",
    "\n",
    "import os\n",
    "try:\n",
    "    os.rename('articles.txt', 'trial.txt')\n",
    "    with open('trial.txt','r') as f:\n",
    "        print(f.read())\n",
    "    x=int(input())\n",
    "    y=int(input())\n",
    "    div=x//y\n",
    "    print(div)\n",
    "except (PermissionError, FileNotFoundError):\n",
    "    print('File Issues!')\n",
    "\n",
    "except ZeroDivisionError:\n",
    "    print('Y is set to zero, can not divide!!!')\n",
    "except:\n",
    "    print('unexpected exception occured!')\n",
    "print('Program Over!')"
   ]
  },
  {
   "cell_type": "code",
   "execution_count": 39,
   "id": "55ac9e32",
   "metadata": {},
   "outputs": [
    {
     "name": "stdout",
     "output_type": "stream",
     "text": [
      "Before try-except\n",
      "Exception Occured!\n",
      "Finally Runs!\n",
      "After try-except\n"
     ]
    }
   ],
   "source": [
    "print('Before try-except')\n",
    "try:\n",
    "    x=200\n",
    "    y=0\n",
    "    div=x//y\n",
    "    \n",
    "except:\n",
    "    print('Exception Occured!')\n",
    "else:\n",
    "    print(div)\n",
    "    print('No Exception Here!')\n",
    "finally:\n",
    "    print('Finally Runs!')\n",
    "print('After try-except')"
   ]
  },
  {
   "cell_type": "code",
   "execution_count": 44,
   "id": "990a73b5",
   "metadata": {},
   "outputs": [
    {
     "name": "stdout",
     "output_type": "stream",
     "text": [
      "file error\n",
      "file closed\n",
      "DONE!\n"
     ]
    }
   ],
   "source": [
    "f=open('articles.txt','r')\n",
    "#data=f.read()\n",
    "try:\n",
    "    f.write('####')\n",
    "except:\n",
    "    print('file error')\n",
    "else:\n",
    "    print('writing done...')\n",
    "finally:\n",
    "    f.close()\n",
    "    print('file closed')\n",
    "print('DONE!')"
   ]
  },
  {
   "cell_type": "code",
   "execution_count": 50,
   "id": "1c21b274",
   "metadata": {},
   "outputs": [
    {
     "name": "stdout",
     "output_type": "stream",
     "text": [
      "Invalid Function Argument.\n",
      " invalid literal for int() with base 10: 'xy'\n"
     ]
    }
   ],
   "source": [
    "# Example Argument in Exceptions\n",
    "\n",
    "def convert_to_integer(x):\n",
    "    try:\n",
    "        return int(x)\n",
    "    except ValueError as arg:\n",
    "        print('Invalid Function Argument.\\n', arg)\n",
    "convert_to_integer('xy')"
   ]
  },
  {
   "cell_type": "code",
   "execution_count": 54,
   "id": "4ff023c4",
   "metadata": {},
   "outputs": [],
   "source": [
    "# user defined exception\n",
    "\n",
    "class MyError(RuntimeError):\n",
    "    def __init__(self, arg):\n",
    "        self.arg=arg"
   ]
  },
  {
   "cell_type": "code",
   "execution_count": 57,
   "id": "a24a42d9",
   "metadata": {},
   "outputs": [
    {
     "name": "stdout",
     "output_type": "stream",
     "text": [
      "1\n",
      "1\n",
      "File is empty\n"
     ]
    }
   ],
   "source": [
    "try:\n",
    "    y=int(input())\n",
    "    if y==0:\n",
    "        raise MyError('Y can not be zero!')\n",
    "    x=int(input())\n",
    "    if x==0:\n",
    "        raise MyError('X can not be zero!!')\n",
    "    file=open('articles.txt')\n",
    "    if file.read()=='':\n",
    "        raise MyError('File is empty')\n",
    "except MyError as e:\n",
    "    print(e.arg)\n",
    "    "
   ]
  },
  {
   "cell_type": "code",
   "execution_count": 61,
   "id": "6519e766",
   "metadata": {},
   "outputs": [
    {
     "name": "stdout",
     "output_type": "stream",
     "text": [
      "An error occured!\n"
     ]
    },
    {
     "ename": "NameError",
     "evalue": "Hello Naming Error",
     "output_type": "error",
     "traceback": [
      "\u001b[1;31m---------------------------------------------------------------------------\u001b[0m",
      "\u001b[1;31mNameError\u001b[0m                                 Traceback (most recent call last)",
      "Input \u001b[1;32mIn [61]\u001b[0m, in \u001b[0;36m<cell line: 3>\u001b[1;34m()\u001b[0m\n\u001b[0;32m      1\u001b[0m \u001b[38;5;66;03m# Example raising exception\u001b[39;00m\n\u001b[0;32m      3\u001b[0m \u001b[38;5;28;01mtry\u001b[39;00m:\n\u001b[1;32m----> 4\u001b[0m     \u001b[38;5;28;01mraise\u001b[39;00m \u001b[38;5;167;01mNameError\u001b[39;00m(\u001b[38;5;124m'\u001b[39m\u001b[38;5;124mHello Naming Error\u001b[39m\u001b[38;5;124m'\u001b[39m)\n\u001b[0;32m      5\u001b[0m     \u001b[38;5;28mprint\u001b[39m(\u001b[38;5;124m'\u001b[39m\u001b[38;5;124mNot printed\u001b[39m\u001b[38;5;124m'\u001b[39m)\n\u001b[0;32m      6\u001b[0m \u001b[38;5;28;01mexcept\u001b[39;00m \u001b[38;5;167;01mNameError\u001b[39;00m:\n",
      "\u001b[1;31mNameError\u001b[0m: Hello Naming Error"
     ]
    }
   ],
   "source": [
    "# Example raising exception\n",
    "\n",
    "try:\n",
    "    raise NameError('Hello Naming Error')\n",
    "    print('Not printed')\n",
    "except NameError:\n",
    "    print('An error occured!')\n",
    "    raise"
   ]
  },
  {
   "cell_type": "code",
   "execution_count": null,
   "id": "8bc31e26",
   "metadata": {},
   "outputs": [],
   "source": []
  },
  {
   "cell_type": "markdown",
   "id": "42bc9dfc",
   "metadata": {},
   "source": [
    "#### String Alignments:"
   ]
  },
  {
   "cell_type": "code",
   "execution_count": 7,
   "id": "9acaf4d4",
   "metadata": {},
   "outputs": [
    {
     "data": {
      "text/plain": [
       "'Deloitte        |      India      |             USI'"
      ]
     },
     "execution_count": 7,
     "metadata": {},
     "output_type": "execute_result"
    }
   ],
   "source": [
    "s=\"{0:<15} | {2:^15} | {1:>15}\".format('Deloitte','USI','India')\n",
    "s"
   ]
  },
  {
   "cell_type": "code",
   "execution_count": 10,
   "id": "3924f102",
   "metadata": {},
   "outputs": [
    {
     "data": {
      "text/plain": [
       "'value: 3.143'"
      ]
     },
     "execution_count": 10,
     "metadata": {},
     "output_type": "execute_result"
    }
   ],
   "source": [
    "s=\"value: {0:.3f}\".format(22/7)\n",
    "s"
   ]
  },
  {
   "cell_type": "code",
   "execution_count": 11,
   "id": "8bacdd9f",
   "metadata": {},
   "outputs": [
    {
     "data": {
      "text/plain": [
       "'exponential value: 1.897678e+03'"
      ]
     },
     "execution_count": 11,
     "metadata": {},
     "output_type": "execute_result"
    }
   ],
   "source": [
    "s=\"exponential value: {0:e}\".format(1897.678)\n",
    "s"
   ]
  },
  {
   "cell_type": "code",
   "execution_count": 13,
   "id": "46f78e9e",
   "metadata": {},
   "outputs": [
    {
     "data": {
      "text/plain": [
       "'binary value: 1111100110'"
      ]
     },
     "execution_count": 13,
     "metadata": {},
     "output_type": "execute_result"
    }
   ],
   "source": [
    "s=\"binary value: {0:b}\".format(998)\n",
    "s"
   ]
  },
  {
   "cell_type": "markdown",
   "id": "f978b468",
   "metadata": {},
   "source": [
    "#### Doc Strings"
   ]
  },
  {
   "cell_type": "code",
   "execution_count": 14,
   "id": "5a2f292a",
   "metadata": {},
   "outputs": [],
   "source": [
    "def myexp(x,y):\n",
    "    '''This function returns the exponential value against 2 inputs x and y\n",
    "    It finds x raise to power y using the sybtax:\n",
    "    myexp(x,y).\n",
    "    Example call: myexp(2,3) will return 8 as output.'''\n",
    "    return x**y\n",
    "    "
   ]
  },
  {
   "cell_type": "code",
   "execution_count": 17,
   "id": "6e07eeed",
   "metadata": {},
   "outputs": [
    {
     "name": "stdout",
     "output_type": "stream",
     "text": [
      "This function returns the exponential value against 2 inputs x and y\n",
      "    It finds x raise to power y using the sybtax:\n",
      "    myexp(x,y).\n",
      "    Example call: myexp(2,3) will return 8 as output.\n"
     ]
    }
   ],
   "source": [
    "print(myexp.__doc__)"
   ]
  },
  {
   "cell_type": "code",
   "execution_count": 18,
   "id": "42f61368",
   "metadata": {},
   "outputs": [
    {
     "data": {
      "text/plain": [
       "'Return the square root of x.'"
      ]
     },
     "execution_count": 18,
     "metadata": {},
     "output_type": "execute_result"
    }
   ],
   "source": [
    "import math\n",
    "math.sqrt.__doc__"
   ]
  },
  {
   "cell_type": "code",
   "execution_count": 19,
   "id": "c4cb41cb",
   "metadata": {},
   "outputs": [
    {
     "data": {
      "text/plain": [
       "'Return the base 2 logarithm of x.'"
      ]
     },
     "execution_count": 19,
     "metadata": {},
     "output_type": "execute_result"
    }
   ],
   "source": [
    "math.log2.__doc__"
   ]
  },
  {
   "cell_type": "code",
   "execution_count": 20,
   "id": "f9d36706",
   "metadata": {},
   "outputs": [
    {
     "data": {
      "text/plain": [
       "'This module provides access to the mathematical functions\\ndefined by the C standard.'"
      ]
     },
     "execution_count": 20,
     "metadata": {},
     "output_type": "execute_result"
    }
   ],
   "source": [
    "math.__doc__"
   ]
  },
  {
   "attachments": {},
   "cell_type": "markdown",
   "id": "e279e1c7",
   "metadata": {},
   "source": [
    "### Write a Python program that accepts your date of birth as a parameter and prints your age."
   ]
  },
  {
   "cell_type": "code",
   "execution_count": null,
   "id": "73a65315",
   "metadata": {},
   "outputs": [],
   "source": []
  },
  {
   "cell_type": "code",
   "execution_count": null,
   "id": "aa014222",
   "metadata": {},
   "outputs": [],
   "source": []
  },
  {
   "cell_type": "code",
   "execution_count": null,
   "id": "e6a511fa",
   "metadata": {},
   "outputs": [],
   "source": []
  },
  {
   "cell_type": "code",
   "execution_count": null,
   "id": "e162f498",
   "metadata": {},
   "outputs": [],
   "source": []
  },
  {
   "cell_type": "code",
   "execution_count": null,
   "id": "8d4ed2bb",
   "metadata": {},
   "outputs": [],
   "source": []
  },
  {
   "cell_type": "code",
   "execution_count": null,
   "id": "7da346e7",
   "metadata": {},
   "outputs": [],
   "source": []
  },
  {
   "cell_type": "code",
   "execution_count": null,
   "id": "ef5c4242",
   "metadata": {},
   "outputs": [],
   "source": []
  },
  {
   "cell_type": "code",
   "execution_count": null,
   "id": "423684f6",
   "metadata": {},
   "outputs": [],
   "source": []
  },
  {
   "cell_type": "code",
   "execution_count": null,
   "id": "9fecc04d",
   "metadata": {},
   "outputs": [],
   "source": []
  },
  {
   "cell_type": "code",
   "execution_count": null,
   "id": "fe30ff22",
   "metadata": {},
   "outputs": [],
   "source": []
  },
  {
   "cell_type": "code",
   "execution_count": null,
   "id": "1e897c2f",
   "metadata": {},
   "outputs": [],
   "source": []
  },
  {
   "cell_type": "code",
   "execution_count": null,
   "id": "3778c6be",
   "metadata": {},
   "outputs": [],
   "source": []
  },
  {
   "cell_type": "code",
   "execution_count": null,
   "id": "b15c0bbc",
   "metadata": {},
   "outputs": [],
   "source": []
  },
  {
   "cell_type": "code",
   "execution_count": null,
   "id": "b8b10733",
   "metadata": {},
   "outputs": [],
   "source": []
  },
  {
   "cell_type": "code",
   "execution_count": null,
   "id": "a61ef55f",
   "metadata": {},
   "outputs": [],
   "source": []
  },
  {
   "cell_type": "code",
   "execution_count": null,
   "id": "a9a0c399",
   "metadata": {},
   "outputs": [],
   "source": []
  },
  {
   "cell_type": "code",
   "execution_count": null,
   "id": "67b78015",
   "metadata": {},
   "outputs": [],
   "source": []
  }
 ],
 "metadata": {
  "kernelspec": {
   "display_name": "Python 3 (ipykernel)",
   "language": "python",
   "name": "python3"
  },
  "language_info": {
   "codemirror_mode": {
    "name": "ipython",
    "version": 3
   },
   "file_extension": ".py",
   "mimetype": "text/x-python",
   "name": "python",
   "nbconvert_exporter": "python",
   "pygments_lexer": "ipython3",
   "version": "3.9.12"
  }
 },
 "nbformat": 4,
 "nbformat_minor": 5
}
