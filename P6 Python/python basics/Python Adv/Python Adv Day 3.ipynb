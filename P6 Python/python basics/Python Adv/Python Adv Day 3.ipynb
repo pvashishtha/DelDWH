{
 "cells": [
  {
   "cell_type": "markdown",
   "id": "d401d6bf",
   "metadata": {},
   "source": [
    "## Python Adv Day 3"
   ]
  },
  {
   "cell_type": "markdown",
   "id": "63e1c6d4",
   "metadata": {},
   "source": [
    "### Generators"
   ]
  },
  {
   "cell_type": "code",
   "execution_count": 7,
   "id": "209ac869",
   "metadata": {},
   "outputs": [],
   "source": [
    "# generate and yield\n",
    "\n",
    "def generate_number():\n",
    "    for i in range(1,11):\n",
    "        yield i"
   ]
  },
  {
   "cell_type": "code",
   "execution_count": 8,
   "id": "bebe893e",
   "metadata": {},
   "outputs": [],
   "source": [
    "numbers=generate_number()"
   ]
  },
  {
   "cell_type": "code",
   "execution_count": 9,
   "id": "c1f1e360",
   "metadata": {},
   "outputs": [
    {
     "name": "stdout",
     "output_type": "stream",
     "text": [
      "<generator object generate_number at 0x000001F77E072270>\n"
     ]
    }
   ],
   "source": [
    "print(numbers)"
   ]
  },
  {
   "cell_type": "code",
   "execution_count": 10,
   "id": "a4fee1e4",
   "metadata": {},
   "outputs": [
    {
     "name": "stdout",
     "output_type": "stream",
     "text": [
      "1\n",
      "2\n",
      "3\n",
      "4\n",
      "5\n",
      "6\n",
      "7\n",
      "8\n",
      "9\n",
      "10\n"
     ]
    }
   ],
   "source": [
    "for num in numbers:\n",
    "    print(num)"
   ]
  },
  {
   "cell_type": "code",
   "execution_count": 14,
   "id": "461bbc9b",
   "metadata": {},
   "outputs": [],
   "source": [
    "def random_generator():\n",
    "    import random\n",
    "    for _ in range(10):\n",
    "        yield random.randint(1,100)"
   ]
  },
  {
   "cell_type": "code",
   "execution_count": 21,
   "id": "810cbce6",
   "metadata": {},
   "outputs": [
    {
     "name": "stdout",
     "output_type": "stream",
     "text": [
      "[12, 14, 31, 20, 5, 87, 51, 3, 19, 52]\n",
      "[21, 82, 88, 37, 89, 80, 73, 60, 39, 1]\n",
      "[83, 24, 2, 58, 14, 22, 59, 21, 63, 96]\n",
      "[5, 62, 22, 85, 85, 4, 62, 22, 8, 27]\n",
      "[52, 10, 94, 49, 97, 99, 72, 43, 73, 54]\n"
     ]
    }
   ],
   "source": [
    "for _ in range(5):\n",
    "    rg=random_generator()\n",
    "    print(list(rg))"
   ]
  },
  {
   "cell_type": "code",
   "execution_count": 20,
   "id": "6f842103",
   "metadata": {},
   "outputs": [
    {
     "data": {
      "text/plain": [
       "[]"
      ]
     },
     "execution_count": 20,
     "metadata": {},
     "output_type": "execute_result"
    }
   ],
   "source": [
    "list(rg)"
   ]
  },
  {
   "cell_type": "code",
   "execution_count": 25,
   "id": "5a17a82a",
   "metadata": {},
   "outputs": [],
   "source": [
    "rg2=random_generator()"
   ]
  },
  {
   "cell_type": "code",
   "execution_count": 26,
   "id": "6b8a43be",
   "metadata": {},
   "outputs": [
    {
     "name": "stdout",
     "output_type": "stream",
     "text": [
      "98\n",
      "29\n",
      "57\n",
      "5\n",
      "26\n",
      "66\n",
      "99\n",
      "61\n",
      "80\n",
      "17\n"
     ]
    }
   ],
   "source": [
    "for _ in range(10):\n",
    "    print(next(rg2))"
   ]
  },
  {
   "cell_type": "code",
   "execution_count": 27,
   "id": "57845d2b",
   "metadata": {},
   "outputs": [
    {
     "ename": "StopIteration",
     "evalue": "",
     "output_type": "error",
     "traceback": [
      "\u001b[1;31m---------------------------------------------------------------------------\u001b[0m",
      "\u001b[1;31mStopIteration\u001b[0m                             Traceback (most recent call last)",
      "Input \u001b[1;32mIn [27]\u001b[0m, in \u001b[0;36m<cell line: 1>\u001b[1;34m()\u001b[0m\n\u001b[1;32m----> 1\u001b[0m \u001b[38;5;28;43mnext\u001b[39;49m\u001b[43m(\u001b[49m\u001b[43mrg2\u001b[49m\u001b[43m)\u001b[49m\n",
      "\u001b[1;31mStopIteration\u001b[0m: "
     ]
    }
   ],
   "source": [
    "next(rg2)"
   ]
  },
  {
   "cell_type": "markdown",
   "id": "3624a4cf",
   "metadata": {},
   "source": [
    "## Decorators"
   ]
  },
  {
   "cell_type": "code",
   "execution_count": 32,
   "id": "2f9e62a7",
   "metadata": {},
   "outputs": [
    {
     "name": "stdout",
     "output_type": "stream",
     "text": [
      "HELLO DELOITTE\n"
     ]
    }
   ],
   "source": [
    "# func as object\n",
    "def message(msg):\n",
    "    return msg.upper()\n",
    "\n",
    "print(message('Hello deloitte'))"
   ]
  },
  {
   "cell_type": "code",
   "execution_count": 33,
   "id": "76738ef7",
   "metadata": {},
   "outputs": [],
   "source": [
    "say=message"
   ]
  },
  {
   "cell_type": "code",
   "execution_count": 34,
   "id": "51cb12e0",
   "metadata": {},
   "outputs": [
    {
     "data": {
      "text/plain": [
       "'HELLO PYTHON'"
      ]
     },
     "execution_count": 34,
     "metadata": {},
     "output_type": "execute_result"
    }
   ],
   "source": [
    "say('hello python')"
   ]
  },
  {
   "cell_type": "code",
   "execution_count": 35,
   "id": "6b9677e8",
   "metadata": {},
   "outputs": [],
   "source": [
    "# func as parameter to another func\n",
    "\n",
    "def soft(text):\n",
    "    return text.lower()\n",
    "def loud(text):\n",
    "    return text.upper()\n",
    "\n",
    "def display(func):\n",
    "    msg=func(\"Hi! I am feeling good at Deloitte\")\n",
    "    print(msg)"
   ]
  },
  {
   "cell_type": "code",
   "execution_count": 36,
   "id": "320458b9",
   "metadata": {},
   "outputs": [
    {
     "name": "stdout",
     "output_type": "stream",
     "text": [
      "hi! i am feeling good at deloitte\n"
     ]
    }
   ],
   "source": [
    "display(soft)"
   ]
  },
  {
   "cell_type": "code",
   "execution_count": 37,
   "id": "c84602ef",
   "metadata": {},
   "outputs": [
    {
     "name": "stdout",
     "output_type": "stream",
     "text": [
      "HI! I AM FEELING GOOD AT DELOITTE\n"
     ]
    }
   ],
   "source": [
    "display(loud)"
   ]
  },
  {
   "cell_type": "code",
   "execution_count": 38,
   "id": "5bbdf163",
   "metadata": {},
   "outputs": [],
   "source": [
    "# Return function from another function\n",
    "\n",
    "def find_exp(x):\n",
    "    def exp(y):\n",
    "        return x**y\n",
    "    return exp\n"
   ]
  },
  {
   "cell_type": "code",
   "execution_count": 40,
   "id": "715ecb9a",
   "metadata": {},
   "outputs": [],
   "source": [
    "exponential=find_exp(5) # def exp(y): return 5**y"
   ]
  },
  {
   "cell_type": "code",
   "execution_count": 42,
   "id": "c8e87606",
   "metadata": {},
   "outputs": [
    {
     "data": {
      "text/plain": [
       "25"
      ]
     },
     "execution_count": 42,
     "metadata": {},
     "output_type": "execute_result"
    }
   ],
   "source": [
    "exponential(2)"
   ]
  },
  {
   "cell_type": "code",
   "execution_count": 43,
   "id": "efb8aa3d",
   "metadata": {},
   "outputs": [
    {
     "data": {
      "text/plain": [
       "729"
      ]
     },
     "execution_count": 43,
     "metadata": {},
     "output_type": "execute_result"
    }
   ],
   "source": [
    "exponential_again=find_exp(9) # def exp(y): return 9**y\n",
    "\n",
    "exponential_again(3)"
   ]
  },
  {
   "cell_type": "code",
   "execution_count": 44,
   "id": "e2921805",
   "metadata": {},
   "outputs": [],
   "source": [
    "# Decorator style"
   ]
  },
  {
   "cell_type": "code",
   "execution_count": 57,
   "id": "3889971c",
   "metadata": {},
   "outputs": [],
   "source": [
    "def outer(func):\n",
    "    def inner(name):\n",
    "        print('Start Inner')\n",
    "        ret=func()\n",
    "        print(name+' '+ret)\n",
    "        print('End Inner')\n",
    "    return inner\n",
    "\n",
    "def message():\n",
    "    return 'Welcome to Deloitte!'\n",
    "def message_new():\n",
    "    return 'Welcome to Deloitte USI'"
   ]
  },
  {
   "cell_type": "code",
   "execution_count": 61,
   "id": "f826d66e",
   "metadata": {},
   "outputs": [
    {
     "name": "stdout",
     "output_type": "stream",
     "text": [
      "Start Inner\n",
      "Prateek Welcome to Deloitte!\n",
      "End Inner\n"
     ]
    }
   ],
   "source": [
    "# option 1:\n",
    "call=outer(message)\n",
    "'''\n",
    "call=\n",
    "def inner(name):\n",
    "        print('Start Inner')\n",
    "        ret=message()\n",
    "        print(name+' '+ret)\n",
    "        print('End Inner')\n",
    "'''\n",
    "\n",
    "call('Prateek')"
   ]
  },
  {
   "cell_type": "code",
   "execution_count": 62,
   "id": "69c511a7",
   "metadata": {},
   "outputs": [
    {
     "name": "stdout",
     "output_type": "stream",
     "text": [
      "Start Inner\n",
      "Raj Welcome to Deloitte USI\n",
      "End Inner\n"
     ]
    }
   ],
   "source": [
    "# option 2:\n",
    "outer(message_new)('Raj')"
   ]
  },
  {
   "cell_type": "code",
   "execution_count": 76,
   "id": "e4d5d082",
   "metadata": {},
   "outputs": [],
   "source": [
    "# option 3: decorator syntax\n",
    "\n",
    "def outer(func):\n",
    "    def inner(*args, **kwargs):\n",
    "        print('Start Inner')\n",
    "        ret=func()\n",
    "        print(ret)\n",
    "        print('End Inner')\n",
    "    return inner\n",
    "\n",
    "@outer\n",
    "def message():\n",
    "    return 'Welcome to Python Training!!!'\n",
    "@outer\n",
    "def message_new():\n",
    "    return 'Python is best!!!'"
   ]
  },
  {
   "cell_type": "code",
   "execution_count": 77,
   "id": "57db6dd0",
   "metadata": {},
   "outputs": [
    {
     "name": "stdout",
     "output_type": "stream",
     "text": [
      "Start Inner\n",
      "Welcome to Python Training!!!\n",
      "End Inner\n"
     ]
    }
   ],
   "source": [
    "message()"
   ]
  },
  {
   "cell_type": "code",
   "execution_count": 78,
   "id": "147731ae",
   "metadata": {},
   "outputs": [
    {
     "name": "stdout",
     "output_type": "stream",
     "text": [
      "Start Inner\n",
      "Python is best!!!\n",
      "End Inner\n"
     ]
    }
   ],
   "source": [
    "message_new()"
   ]
  },
  {
   "cell_type": "code",
   "execution_count": 83,
   "id": "4fd22b14",
   "metadata": {},
   "outputs": [],
   "source": [
    "def outer(func):\n",
    "    def inner(*args, **kwargs):\n",
    "        print('Inner Starts!')\n",
    "        ret=func(*args, **kwargs)\n",
    "        print('Inner Ends!')\n",
    "        return ret\n",
    "    return inner\n",
    "\n",
    "@outer\n",
    "def find_sum(*args):\n",
    "    print('Finding Sum...')\n",
    "    return sum(args)"
   ]
  },
  {
   "cell_type": "code",
   "execution_count": 88,
   "id": "77ceb318",
   "metadata": {},
   "outputs": [
    {
     "name": "stdout",
     "output_type": "stream",
     "text": [
      "Inner Starts!\n",
      "Finding Sum...\n",
      "Inner Ends!\n",
      "Sum=  30\n"
     ]
    }
   ],
   "source": [
    "print('Sum= ', find_sum(10,20))"
   ]
  },
  {
   "cell_type": "code",
   "execution_count": 89,
   "id": "4aa662ba",
   "metadata": {},
   "outputs": [
    {
     "name": "stdout",
     "output_type": "stream",
     "text": [
      "Inner Starts!\n",
      "Finding Sum...\n",
      "Inner Ends!\n",
      "Sum=  320\n"
     ]
    }
   ],
   "source": [
    "print('Sum= ', find_sum(10,20, 50, 80, 90, 70))"
   ]
  },
  {
   "cell_type": "code",
   "execution_count": 12,
   "id": "7c36e19c",
   "metadata": {},
   "outputs": [],
   "source": [
    "# Example Timer\n",
    "\n",
    "import math\n",
    "import time\n",
    "def timer(func):\n",
    "    def inner(*args, **kwargs):\n",
    "        start=time.time()\n",
    "        func()\n",
    "        end=time.time()\n",
    "        print('Time to Execute by '+func.__name__+' is: '\n",
    "              +str(round((end-start),2))+' seconds')\n",
    "    return inner\n",
    "\n",
    "@timer\n",
    "def run_for():\n",
    "    for _ in range(10000):\n",
    "        for _ in range(10000):\n",
    "            pass\n",
    "        pass\n",
    "    return None"
   ]
  },
  {
   "cell_type": "code",
   "execution_count": 13,
   "id": "41dee43c",
   "metadata": {},
   "outputs": [
    {
     "name": "stdout",
     "output_type": "stream",
     "text": [
      "Time to Execute by run_for is: 2.92 seconds\n"
     ]
    }
   ],
   "source": [
    "run_for()"
   ]
  },
  {
   "cell_type": "code",
   "execution_count": null,
   "id": "2cfaa62d",
   "metadata": {},
   "outputs": [],
   "source": []
  },
  {
   "cell_type": "code",
   "execution_count": null,
   "id": "844d4a48",
   "metadata": {},
   "outputs": [],
   "source": []
  },
  {
   "cell_type": "code",
   "execution_count": 3,
   "id": "133c4368",
   "metadata": {},
   "outputs": [],
   "source": [
    "from db_learn import *"
   ]
  },
  {
   "cell_type": "code",
   "execution_count": 4,
   "id": "2a615878",
   "metadata": {},
   "outputs": [],
   "source": [
    "@insert\n",
    "def add_values(roll, name, city):\n",
    "    return 'insert into stud values({0},\"{1}\",\"{2}\")'.format(roll, name, city)"
   ]
  },
  {
   "cell_type": "code",
   "execution_count": 5,
   "id": "1db2fa0f",
   "metadata": {},
   "outputs": [
    {
     "name": "stdout",
     "output_type": "stream",
     "text": [
      "\u001b[42m\u001b[31mStarting DB Connection...\u001b[0m\n",
      "\u001b[30mInserting Values...\n",
      "Data Inserted!\n",
      "\u001b[31mClosing DB Connection...\n",
      "\u001b[43mConnections Closed!\n"
     ]
    }
   ],
   "source": [
    "add_values(roll=103, name='Raj',city='Jaipur')"
   ]
  },
  {
   "cell_type": "code",
   "execution_count": 6,
   "id": "07332a47",
   "metadata": {},
   "outputs": [],
   "source": [
    "import colorama\n",
    "from colorama import Fore, Back, Style"
   ]
  },
  {
   "cell_type": "code",
   "execution_count": 17,
   "id": "f7e99ba1",
   "metadata": {},
   "outputs": [
    {
     "name": "stdout",
     "output_type": "stream",
     "text": [
      "\u001b[31mMy RED Text\n",
      "\u001b[34mMy BLUE Text\n",
      "\u001b[43mMy YELLOW Background Text in BLUE color\n",
      "\u001b[2mDimming Text\n",
      "\u001b[40m\u001b[37mMy BLACK Background Text in WHITE color\n",
      "\u001b[0m\n",
      "Normal Text\n"
     ]
    }
   ],
   "source": [
    "print(Fore.RED+'My RED Text')\n",
    "print(Fore.BLUE+'My BLUE Text')\n",
    "print(Back.YELLOW+'My YELLOW Background Text in BLUE color')\n",
    "print(Style.DIM+'Dimming Text')\n",
    "print(Back.BLACK+Fore.WHITE+'My BLACK Background Text in WHITE color')\n",
    "print(Style.RESET_ALL)\n",
    "print('Normal Text')"
   ]
  },
  {
   "cell_type": "code",
   "execution_count": null,
   "id": "186b542c",
   "metadata": {},
   "outputs": [],
   "source": []
  },
  {
   "cell_type": "markdown",
   "id": "da47b795",
   "metadata": {},
   "source": [
    "# Numpy"
   ]
  },
  {
   "cell_type": "code",
   "execution_count": null,
   "id": "db5b1048",
   "metadata": {},
   "outputs": [],
   "source": [
    "! pip install numpy"
   ]
  },
  {
   "cell_type": "code",
   "execution_count": null,
   "id": "9cfa5027",
   "metadata": {},
   "outputs": [],
   "source": [
    "! conda install numpy"
   ]
  },
  {
   "cell_type": "code",
   "execution_count": 1,
   "id": "8955b7cb",
   "metadata": {},
   "outputs": [],
   "source": [
    "import numpy as np"
   ]
  },
  {
   "cell_type": "code",
   "execution_count": 2,
   "id": "c5ef0476",
   "metadata": {},
   "outputs": [
    {
     "name": "stdout",
     "output_type": "stream",
     "text": [
      "\n",
      "NumPy\n",
      "=====\n",
      "\n",
      "Provides\n",
      "  1. An array object of arbitrary homogeneous items\n",
      "  2. Fast mathematical operations over arrays\n",
      "  3. Linear Algebra, Fourier Transforms, Random Number Generation\n",
      "\n",
      "How to use the documentation\n",
      "----------------------------\n",
      "Documentation is available in two forms: docstrings provided\n",
      "with the code, and a loose standing reference guide, available from\n",
      "`the NumPy homepage <https://www.scipy.org>`_.\n",
      "\n",
      "We recommend exploring the docstrings using\n",
      "`IPython <https://ipython.org>`_, an advanced Python shell with\n",
      "TAB-completion and introspection capabilities.  See below for further\n",
      "instructions.\n",
      "\n",
      "The docstring examples assume that `numpy` has been imported as `np`::\n",
      "\n",
      "  >>> import numpy as np\n",
      "\n",
      "Code snippets are indicated by three greater-than signs::\n",
      "\n",
      "  >>> x = 42\n",
      "  >>> x = x + 1\n",
      "\n",
      "Use the built-in ``help`` function to view a function's docstring::\n",
      "\n",
      "  >>> help(np.sort)\n",
      "  ... # doctest: +SKIP\n",
      "\n",
      "For some objects, ``np.info(obj)`` may provide additional help.  This is\n",
      "particularly true if you see the line \"Help on ufunc object:\" at the top\n",
      "of the help() page.  Ufuncs are implemented in C, not Python, for speed.\n",
      "The native Python help() does not know how to view their help, but our\n",
      "np.info() function does.\n",
      "\n",
      "To search for documents containing a keyword, do::\n",
      "\n",
      "  >>> np.lookfor('keyword')\n",
      "  ... # doctest: +SKIP\n",
      "\n",
      "General-purpose documents like a glossary and help on the basic concepts\n",
      "of numpy are available under the ``doc`` sub-module::\n",
      "\n",
      "  >>> from numpy import doc\n",
      "  >>> help(doc)\n",
      "  ... # doctest: +SKIP\n",
      "\n",
      "Available subpackages\n",
      "---------------------\n",
      "doc\n",
      "    Topical documentation on broadcasting, indexing, etc.\n",
      "lib\n",
      "    Basic functions used by several sub-packages.\n",
      "random\n",
      "    Core Random Tools\n",
      "linalg\n",
      "    Core Linear Algebra Tools\n",
      "fft\n",
      "    Core FFT routines\n",
      "polynomial\n",
      "    Polynomial tools\n",
      "testing\n",
      "    NumPy testing tools\n",
      "f2py\n",
      "    Fortran to Python Interface Generator.\n",
      "distutils\n",
      "    Enhancements to distutils with support for\n",
      "    Fortran compilers support and more.\n",
      "\n",
      "Utilities\n",
      "---------\n",
      "test\n",
      "    Run numpy unittests\n",
      "show_config\n",
      "    Show numpy build configuration\n",
      "dual\n",
      "    Overwrite certain functions with high-performance SciPy tools.\n",
      "    Note: `numpy.dual` is deprecated.  Use the functions from NumPy or Scipy\n",
      "    directly instead of importing them from `numpy.dual`.\n",
      "matlib\n",
      "    Make everything matrices.\n",
      "__version__\n",
      "    NumPy version string\n",
      "\n",
      "Viewing documentation using IPython\n",
      "-----------------------------------\n",
      "Start IPython with the NumPy profile (``ipython -p numpy``), which will\n",
      "import `numpy` under the alias `np`.  Then, use the ``cpaste`` command to\n",
      "paste examples into the shell.  To see which functions are available in\n",
      "`numpy`, type ``np.<TAB>`` (where ``<TAB>`` refers to the TAB key), or use\n",
      "``np.*cos*?<ENTER>`` (where ``<ENTER>`` refers to the ENTER key) to narrow\n",
      "down the list.  To view the docstring for a function, use\n",
      "``np.cos?<ENTER>`` (to view the docstring) and ``np.cos??<ENTER>`` (to view\n",
      "the source code).\n",
      "\n",
      "Copies vs. in-place operation\n",
      "-----------------------------\n",
      "Most of the functions in `numpy` return a copy of the array argument\n",
      "(e.g., `np.sort`).  In-place versions of these functions are often\n",
      "available as array methods, i.e. ``x = np.array([1,2,3]); x.sort()``.\n",
      "Exceptions to this rule are documented.\n",
      "\n",
      "\n"
     ]
    }
   ],
   "source": [
    "print(np.__doc__)"
   ]
  },
  {
   "cell_type": "code",
   "execution_count": 3,
   "id": "b190995c",
   "metadata": {},
   "outputs": [],
   "source": [
    "a=np.array([1]) # singular\n"
   ]
  },
  {
   "cell_type": "code",
   "execution_count": 5,
   "id": "d16075a8",
   "metadata": {},
   "outputs": [
    {
     "data": {
      "text/plain": [
       "(1,)"
      ]
     },
     "execution_count": 5,
     "metadata": {},
     "output_type": "execute_result"
    }
   ],
   "source": [
    "a.shape"
   ]
  },
  {
   "cell_type": "code",
   "execution_count": 7,
   "id": "23983f67",
   "metadata": {},
   "outputs": [
    {
     "data": {
      "text/plain": [
       "(5,)"
      ]
     },
     "execution_count": 7,
     "metadata": {},
     "output_type": "execute_result"
    }
   ],
   "source": [
    "# 1-D array\n",
    "a=np.array([1,2,3,4,5]) # vector\n",
    "a.shape"
   ]
  },
  {
   "cell_type": "code",
   "execution_count": 8,
   "id": "484e6898",
   "metadata": {},
   "outputs": [
    {
     "data": {
      "text/plain": [
       "(2, 2)"
      ]
     },
     "execution_count": 8,
     "metadata": {},
     "output_type": "execute_result"
    }
   ],
   "source": [
    "# 2-D array\n",
    "a=np.array([\n",
    "    [1,2],\n",
    "    [3,4]\n",
    "])\n",
    "a.shape"
   ]
  },
  {
   "cell_type": "code",
   "execution_count": 12,
   "id": "a501a593",
   "metadata": {},
   "outputs": [
    {
     "data": {
      "text/plain": [
       "(5, 3)"
      ]
     },
     "execution_count": 12,
     "metadata": {},
     "output_type": "execute_result"
    }
   ],
   "source": [
    "a=np.array([\n",
    "    [1,2,3],\n",
    "    [4,5,6],\n",
    "    [7,8,9],\n",
    "    [10,11,12],\n",
    "    [13,14,15]\n",
    "])\n",
    "a.shape"
   ]
  },
  {
   "cell_type": "code",
   "execution_count": 14,
   "id": "28a532e3",
   "metadata": {},
   "outputs": [
    {
     "data": {
      "text/plain": [
       "8"
      ]
     },
     "execution_count": 14,
     "metadata": {},
     "output_type": "execute_result"
    }
   ],
   "source": [
    "# array indexing\n",
    "a[2,1] # array[row, col]"
   ]
  },
  {
   "cell_type": "code",
   "execution_count": 20,
   "id": "8896defe",
   "metadata": {},
   "outputs": [
    {
     "data": {
      "text/plain": [
       "array([[3],\n",
       "       [6],\n",
       "       [9]])"
      ]
     },
     "execution_count": 20,
     "metadata": {},
     "output_type": "execute_result"
    }
   ],
   "source": [
    "# index ranging\n",
    "a[:3, 2:3] # array[row_range, col_range]"
   ]
  },
  {
   "cell_type": "code",
   "execution_count": 21,
   "id": "b1d6f4be",
   "metadata": {},
   "outputs": [
    {
     "data": {
      "text/plain": [
       "array([ 5, 10, 15])"
      ]
     },
     "execution_count": 21,
     "metadata": {},
     "output_type": "execute_result"
    }
   ],
   "source": [
    "# filter arrays\n",
    "a[a%5==0]"
   ]
  },
  {
   "cell_type": "code",
   "execution_count": 23,
   "id": "8dc5e1df",
   "metadata": {},
   "outputs": [
    {
     "data": {
      "text/plain": [
       "array([11, 12, 13, 14, 15])"
      ]
     },
     "execution_count": 23,
     "metadata": {},
     "output_type": "execute_result"
    }
   ],
   "source": [
    "a[a>10]"
   ]
  },
  {
   "cell_type": "code",
   "execution_count": 24,
   "id": "b8e9af17",
   "metadata": {},
   "outputs": [
    {
     "data": {
      "text/plain": [
       "(3, 3, 2)"
      ]
     },
     "execution_count": 24,
     "metadata": {},
     "output_type": "execute_result"
    }
   ],
   "source": [
    "# 3-D array\n",
    "\n",
    "a=np.array([\n",
    "    [ [1,2], [3,4], [5,6] ],\n",
    "    [ [10,20], [30,40], [50,60] ],\n",
    "    [ [100,200], [300,400], [500,600] ]\n",
    "])\n",
    "a.shape"
   ]
  },
  {
   "cell_type": "code",
   "execution_count": 25,
   "id": "c205a880",
   "metadata": {},
   "outputs": [
    {
     "data": {
      "text/plain": [
       "50"
      ]
     },
     "execution_count": 25,
     "metadata": {},
     "output_type": "execute_result"
    }
   ],
   "source": [
    "a[1,2,0]"
   ]
  },
  {
   "cell_type": "code",
   "execution_count": 26,
   "id": "8ef9e044",
   "metadata": {},
   "outputs": [
    {
     "data": {
      "text/plain": [
       "array([200, 300, 400, 500, 600])"
      ]
     },
     "execution_count": 26,
     "metadata": {},
     "output_type": "execute_result"
    }
   ],
   "source": [
    "a[a>100]"
   ]
  },
  {
   "cell_type": "code",
   "execution_count": 27,
   "id": "8cff96d6",
   "metadata": {},
   "outputs": [
    {
     "data": {
      "text/plain": [
       "dtype('int32')"
      ]
     },
     "execution_count": 27,
     "metadata": {},
     "output_type": "execute_result"
    }
   ],
   "source": [
    "# datatype\n",
    "a.dtype"
   ]
  },
  {
   "cell_type": "code",
   "execution_count": 33,
   "id": "5cf20cb0",
   "metadata": {},
   "outputs": [
    {
     "data": {
      "text/plain": [
       "1"
      ]
     },
     "execution_count": 33,
     "metadata": {},
     "output_type": "execute_result"
    }
   ],
   "source": [
    "a[0,0,0]"
   ]
  },
  {
   "cell_type": "code",
   "execution_count": 32,
   "id": "c92c568a",
   "metadata": {},
   "outputs": [
    {
     "data": {
      "text/plain": [
       "dtype('int32')"
      ]
     },
     "execution_count": 32,
     "metadata": {},
     "output_type": "execute_result"
    }
   ],
   "source": [
    "a.dtype"
   ]
  },
  {
   "cell_type": "code",
   "execution_count": 37,
   "id": "96b814de",
   "metadata": {},
   "outputs": [
    {
     "data": {
      "text/plain": [
       "dtype('int32')"
      ]
     },
     "execution_count": 37,
     "metadata": {},
     "output_type": "execute_result"
    }
   ],
   "source": [
    "a=np.array([1.25,2,4,5], dtype='int32')\n",
    "a.dtype"
   ]
  },
  {
   "cell_type": "code",
   "execution_count": 38,
   "id": "995eeb5d",
   "metadata": {},
   "outputs": [
    {
     "data": {
      "text/plain": [
       "array([1, 2, 4, 5])"
      ]
     },
     "execution_count": 38,
     "metadata": {},
     "output_type": "execute_result"
    }
   ],
   "source": [
    "a"
   ]
  },
  {
   "cell_type": "code",
   "execution_count": 39,
   "id": "6e324146",
   "metadata": {},
   "outputs": [
    {
     "data": {
      "text/plain": [
       "dtype('float64')"
      ]
     },
     "execution_count": 39,
     "metadata": {},
     "output_type": "execute_result"
    }
   ],
   "source": [
    "a=np.array([1.25,2,4,5])\n",
    "a.dtype"
   ]
  },
  {
   "cell_type": "markdown",
   "id": "55742d04",
   "metadata": {},
   "source": [
    "### NumPy mathematical operations"
   ]
  },
  {
   "cell_type": "code",
   "execution_count": 41,
   "id": "e4ed89e7",
   "metadata": {},
   "outputs": [],
   "source": [
    "x=np.array([[1,2],[3,4]])\n",
    "y=np.array([[10,20],[30,40]])"
   ]
  },
  {
   "cell_type": "code",
   "execution_count": 42,
   "id": "0d530dc5",
   "metadata": {},
   "outputs": [
    {
     "name": "stdout",
     "output_type": "stream",
     "text": [
      "[[11 22]\n",
      " [33 44]]\n"
     ]
    }
   ],
   "source": [
    "print(x+y)"
   ]
  },
  {
   "cell_type": "code",
   "execution_count": 43,
   "id": "57e04c07",
   "metadata": {},
   "outputs": [
    {
     "name": "stdout",
     "output_type": "stream",
     "text": [
      "[[11 22]\n",
      " [33 44]]\n"
     ]
    }
   ],
   "source": [
    "print(np.add(x,y))"
   ]
  },
  {
   "cell_type": "code",
   "execution_count": 44,
   "id": "ab42604b",
   "metadata": {},
   "outputs": [
    {
     "name": "stdout",
     "output_type": "stream",
     "text": [
      "[[ -9 -18]\n",
      " [-27 -36]]\n"
     ]
    }
   ],
   "source": [
    "print(x-y)"
   ]
  },
  {
   "cell_type": "code",
   "execution_count": 45,
   "id": "ef9a8424",
   "metadata": {},
   "outputs": [
    {
     "name": "stdout",
     "output_type": "stream",
     "text": [
      "[[ -9 -18]\n",
      " [-27 -36]]\n"
     ]
    }
   ],
   "source": [
    "print(np.subtract(x,y))"
   ]
  },
  {
   "cell_type": "code",
   "execution_count": 46,
   "id": "834e189c",
   "metadata": {},
   "outputs": [
    {
     "name": "stdout",
     "output_type": "stream",
     "text": [
      "[[ 10  40]\n",
      " [ 90 160]]\n"
     ]
    }
   ],
   "source": [
    "print(x*y)"
   ]
  },
  {
   "cell_type": "code",
   "execution_count": 47,
   "id": "af93de3b",
   "metadata": {},
   "outputs": [
    {
     "name": "stdout",
     "output_type": "stream",
     "text": [
      "[[ 10  40]\n",
      " [ 90 160]]\n"
     ]
    }
   ],
   "source": [
    "print(np.multiply(x,y))"
   ]
  },
  {
   "cell_type": "code",
   "execution_count": 48,
   "id": "b1a7b068",
   "metadata": {},
   "outputs": [
    {
     "name": "stdout",
     "output_type": "stream",
     "text": [
      "[[0.1 0.1]\n",
      " [0.1 0.1]]\n"
     ]
    }
   ],
   "source": [
    "print(x/y)"
   ]
  },
  {
   "cell_type": "code",
   "execution_count": 49,
   "id": "d30874e2",
   "metadata": {},
   "outputs": [
    {
     "name": "stdout",
     "output_type": "stream",
     "text": [
      "[[0.1 0.1]\n",
      " [0.1 0.1]]\n"
     ]
    }
   ],
   "source": [
    "print(np.divide(x,y))"
   ]
  },
  {
   "cell_type": "code",
   "execution_count": 50,
   "id": "2ca9e553",
   "metadata": {},
   "outputs": [
    {
     "name": "stdout",
     "output_type": "stream",
     "text": [
      "[[3.16227766 4.47213595]\n",
      " [5.47722558 6.32455532]]\n"
     ]
    }
   ],
   "source": [
    "print(np.sqrt(y))"
   ]
  },
  {
   "cell_type": "code",
   "execution_count": 51,
   "id": "1cc6e5a6",
   "metadata": {},
   "outputs": [
    {
     "name": "stdout",
     "output_type": "stream",
     "text": [
      "25.0\n"
     ]
    }
   ],
   "source": [
    "print(np.mean(y))"
   ]
  },
  {
   "cell_type": "code",
   "execution_count": 53,
   "id": "23893934",
   "metadata": {},
   "outputs": [
    {
     "name": "stdout",
     "output_type": "stream",
     "text": [
      "25.0\n"
     ]
    }
   ],
   "source": [
    "print(np.median(y))"
   ]
  },
  {
   "cell_type": "code",
   "execution_count": 57,
   "id": "9dcfa8e2",
   "metadata": {},
   "outputs": [
    {
     "name": "stdout",
     "output_type": "stream",
     "text": [
      "[[0 0]\n",
      " [0 0]]\n"
     ]
    }
   ],
   "source": [
    "print(np.mod(y,x))"
   ]
  },
  {
   "cell_type": "code",
   "execution_count": 58,
   "id": "49bcfa6c",
   "metadata": {},
   "outputs": [
    {
     "name": "stdout",
     "output_type": "stream",
     "text": [
      "11.180339887498949\n"
     ]
    }
   ],
   "source": [
    "print(np.std(y))"
   ]
  },
  {
   "cell_type": "code",
   "execution_count": 60,
   "id": "d01edc67",
   "metadata": {},
   "outputs": [
    {
     "name": "stdout",
     "output_type": "stream",
     "text": [
      "125.0\n"
     ]
    }
   ],
   "source": [
    "print(np.var(y))"
   ]
  },
  {
   "cell_type": "code",
   "execution_count": 61,
   "id": "374ce9ac",
   "metadata": {},
   "outputs": [
    {
     "name": "stdout",
     "output_type": "stream",
     "text": [
      "[[ 0.5  0.5  5.   5. ]\n",
      " [ 0.5  0.5  5.   5. ]\n",
      " [ 5.   5.  50.  50. ]\n",
      " [ 5.   5.  50.  50. ]]\n"
     ]
    }
   ],
   "source": [
    "print(np.cov(x,y))"
   ]
  },
  {
   "cell_type": "code",
   "execution_count": 62,
   "id": "873eb91a",
   "metadata": {},
   "outputs": [
    {
     "name": "stdout",
     "output_type": "stream",
     "text": [
      "10\n"
     ]
    }
   ],
   "source": [
    "print(np.amin(y))"
   ]
  },
  {
   "cell_type": "code",
   "execution_count": 63,
   "id": "cb78139b",
   "metadata": {},
   "outputs": [
    {
     "name": "stdout",
     "output_type": "stream",
     "text": [
      "40\n"
     ]
    }
   ],
   "source": [
    "print(np.amax(y))"
   ]
  },
  {
   "cell_type": "code",
   "execution_count": 64,
   "id": "917d9440",
   "metadata": {},
   "outputs": [
    {
     "name": "stdout",
     "output_type": "stream",
     "text": [
      "25.0\n"
     ]
    }
   ],
   "source": [
    "print(np.average(y))"
   ]
  },
  {
   "cell_type": "code",
   "execution_count": 65,
   "id": "0d774dfb",
   "metadata": {},
   "outputs": [
    {
     "name": "stdout",
     "output_type": "stream",
     "text": [
      "27.5\n"
     ]
    }
   ],
   "source": [
    "print(np.average(y, weights=[[8,9],[13,14]]))"
   ]
  },
  {
   "cell_type": "code",
   "execution_count": 75,
   "id": "fd888732",
   "metadata": {},
   "outputs": [
    {
     "name": "stdout",
     "output_type": "stream",
     "text": [
      "9.0\n"
     ]
    }
   ],
   "source": [
    "a=np.array([5,6,7,9,5,3,1,6,8,4,8,6,5,3])\n",
    "print(np.percentile(a, 100,0))"
   ]
  },
  {
   "cell_type": "code",
   "execution_count": 76,
   "id": "f18dbac8",
   "metadata": {},
   "outputs": [],
   "source": [
    "# Broadcasting"
   ]
  },
  {
   "cell_type": "code",
   "execution_count": 77,
   "id": "6a5a30f8",
   "metadata": {},
   "outputs": [],
   "source": [
    "x=np.array([\n",
    "    [1,2,3],\n",
    "    [4,5,6],\n",
    "    [7,8,9],\n",
    "    [10,11,12]\n",
    "])\n",
    "\n",
    "y=np.array([1,0,1])"
   ]
  },
  {
   "cell_type": "code",
   "execution_count": 80,
   "id": "4a0ecba6",
   "metadata": {},
   "outputs": [],
   "source": [
    "z=np.empty_like(x)"
   ]
  },
  {
   "cell_type": "code",
   "execution_count": 81,
   "id": "9b05ae4c",
   "metadata": {},
   "outputs": [
    {
     "data": {
      "text/plain": [
       "array([[0, 0, 0],\n",
       "       [0, 0, 0],\n",
       "       [0, 0, 0],\n",
       "       [0, 0, 0]])"
      ]
     },
     "execution_count": 81,
     "metadata": {},
     "output_type": "execute_result"
    }
   ],
   "source": [
    "z"
   ]
  },
  {
   "cell_type": "code",
   "execution_count": 82,
   "id": "770ad277",
   "metadata": {},
   "outputs": [
    {
     "name": "stdout",
     "output_type": "stream",
     "text": [
      "[[ 2  2  4]\n",
      " [ 5  5  7]\n",
      " [ 8  8 10]\n",
      " [11 11 13]]\n"
     ]
    }
   ],
   "source": [
    "for i in range(4):\n",
    "    z[i,:]=x[i,:]+y\n",
    "print(z)"
   ]
  },
  {
   "cell_type": "code",
   "execution_count": 83,
   "id": "b7bfe6bf",
   "metadata": {},
   "outputs": [
    {
     "name": "stdout",
     "output_type": "stream",
     "text": [
      "[[ 2  2  4]\n",
      " [ 5  5  7]\n",
      " [ 8  8 10]\n",
      " [11 11 13]]\n"
     ]
    }
   ],
   "source": [
    "print(x+y)"
   ]
  },
  {
   "cell_type": "code",
   "execution_count": 84,
   "id": "57a0737a",
   "metadata": {},
   "outputs": [
    {
     "name": "stdout",
     "output_type": "stream",
     "text": [
      "[[ 1  0  3]\n",
      " [ 4  0  6]\n",
      " [ 7  0  9]\n",
      " [10  0 12]]\n"
     ]
    }
   ],
   "source": [
    "print(x*y)"
   ]
  },
  {
   "cell_type": "code",
   "execution_count": 86,
   "id": "f0289ce2",
   "metadata": {},
   "outputs": [],
   "source": [
    "y=np.array([1.45, 5.67, 3.14])"
   ]
  },
  {
   "cell_type": "code",
   "execution_count": 87,
   "id": "a5fc4456",
   "metadata": {},
   "outputs": [
    {
     "name": "stdout",
     "output_type": "stream",
     "text": [
      "[[0.68965517 0.35273369 0.95541401]\n",
      " [2.75862069 0.88183422 1.91082803]\n",
      " [4.82758621 1.41093474 2.86624204]\n",
      " [6.89655172 1.94003527 3.82165605]]\n"
     ]
    }
   ],
   "source": [
    "print(x/y)"
   ]
  },
  {
   "cell_type": "code",
   "execution_count": 88,
   "id": "88380d89",
   "metadata": {},
   "outputs": [
    {
     "name": "stdout",
     "output_type": "stream",
     "text": [
      "[[ 1.45 11.34  9.42]\n",
      " [ 5.8  28.35 18.84]\n",
      " [10.15 45.36 28.26]\n",
      " [14.5  62.37 37.68]]\n"
     ]
    }
   ],
   "source": [
    "print(x*y)"
   ]
  },
  {
   "cell_type": "code",
   "execution_count": 89,
   "id": "44976a94",
   "metadata": {},
   "outputs": [
    {
     "data": {
      "text/plain": [
       "array([[ 1,  2,  3],\n",
       "       [ 4,  5,  6],\n",
       "       [ 7,  8,  9],\n",
       "       [10, 11, 12]])"
      ]
     },
     "execution_count": 89,
     "metadata": {},
     "output_type": "execute_result"
    }
   ],
   "source": [
    "x"
   ]
  },
  {
   "cell_type": "code",
   "execution_count": 90,
   "id": "224d007b",
   "metadata": {},
   "outputs": [
    {
     "data": {
      "text/plain": [
       "array([[-31, -30, -29],\n",
       "       [-28, -27, -26],\n",
       "       [-25, -24, -23],\n",
       "       [-22, -21, -20]])"
      ]
     },
     "execution_count": 90,
     "metadata": {},
     "output_type": "execute_result"
    }
   ],
   "source": [
    "x-32"
   ]
  },
  {
   "cell_type": "code",
   "execution_count": 91,
   "id": "acca14e0",
   "metadata": {},
   "outputs": [
    {
     "data": {
      "text/plain": [
       "(4, 3)"
      ]
     },
     "execution_count": 91,
     "metadata": {},
     "output_type": "execute_result"
    }
   ],
   "source": [
    "x.shape"
   ]
  },
  {
   "cell_type": "code",
   "execution_count": 92,
   "id": "0b20f9cc",
   "metadata": {},
   "outputs": [
    {
     "data": {
      "text/plain": [
       "2"
      ]
     },
     "execution_count": 92,
     "metadata": {},
     "output_type": "execute_result"
    }
   ],
   "source": [
    "x.ndim"
   ]
  },
  {
   "cell_type": "code",
   "execution_count": 93,
   "id": "1169f345",
   "metadata": {},
   "outputs": [
    {
     "data": {
      "text/plain": [
       "array([[ 1,  2,  3],\n",
       "       [ 4,  5,  6],\n",
       "       [ 7,  8,  9],\n",
       "       [10, 11, 12]])"
      ]
     },
     "execution_count": 93,
     "metadata": {},
     "output_type": "execute_result"
    }
   ],
   "source": [
    "x"
   ]
  },
  {
   "cell_type": "code",
   "execution_count": 95,
   "id": "7ebb904a",
   "metadata": {},
   "outputs": [
    {
     "data": {
      "text/plain": [
       "array([[ 1,  2,  3,  4,  5,  6],\n",
       "       [ 7,  8,  9, 10, 11, 12]])"
      ]
     },
     "execution_count": 95,
     "metadata": {},
     "output_type": "execute_result"
    }
   ],
   "source": [
    "x.reshape(2,6)"
   ]
  },
  {
   "cell_type": "code",
   "execution_count": 96,
   "id": "4cba0125",
   "metadata": {},
   "outputs": [
    {
     "data": {
      "text/plain": [
       "dtype('int32')"
      ]
     },
     "execution_count": 96,
     "metadata": {},
     "output_type": "execute_result"
    }
   ],
   "source": [
    "x.dtype"
   ]
  },
  {
   "cell_type": "code",
   "execution_count": 97,
   "id": "d187b697",
   "metadata": {},
   "outputs": [
    {
     "data": {
      "text/plain": [
       "4"
      ]
     },
     "execution_count": 97,
     "metadata": {},
     "output_type": "execute_result"
    }
   ],
   "source": [
    "x.itemsize"
   ]
  },
  {
   "cell_type": "code",
   "execution_count": 99,
   "id": "f98ab2bb",
   "metadata": {},
   "outputs": [],
   "source": [
    "a=np.array([12,3,4,5],dtype='float64')"
   ]
  },
  {
   "cell_type": "code",
   "execution_count": 100,
   "id": "f791b3ac",
   "metadata": {},
   "outputs": [
    {
     "data": {
      "text/plain": [
       "8"
      ]
     },
     "execution_count": 100,
     "metadata": {},
     "output_type": "execute_result"
    }
   ],
   "source": [
    "a.itemsize"
   ]
  },
  {
   "cell_type": "code",
   "execution_count": 102,
   "id": "5904fc74",
   "metadata": {},
   "outputs": [
    {
     "data": {
      "text/plain": [
       "array([[0., 0., 0., 0., 0.],\n",
       "       [0., 0., 0., 0., 0.],\n",
       "       [0., 0., 0., 0., 0.],\n",
       "       [0., 0., 0., 0., 0.]])"
      ]
     },
     "execution_count": 102,
     "metadata": {},
     "output_type": "execute_result"
    }
   ],
   "source": [
    "a=np.zeros((4,5))\n",
    "a"
   ]
  },
  {
   "cell_type": "code",
   "execution_count": 104,
   "id": "872f05bc",
   "metadata": {},
   "outputs": [
    {
     "data": {
      "text/plain": [
       "array([[[1., 1.],\n",
       "        [1., 1.]],\n",
       "\n",
       "       [[1., 1.],\n",
       "        [1., 1.]],\n",
       "\n",
       "       [[1., 1.],\n",
       "        [1., 1.]]])"
      ]
     },
     "execution_count": 104,
     "metadata": {},
     "output_type": "execute_result"
    }
   ],
   "source": [
    "a=np.ones((3,2,2))\n",
    "a"
   ]
  },
  {
   "cell_type": "code",
   "execution_count": 105,
   "id": "f511d8e1",
   "metadata": {},
   "outputs": [],
   "source": [
    "# creating NP arrays from other structures"
   ]
  },
  {
   "cell_type": "code",
   "execution_count": 106,
   "id": "6bf946a6",
   "metadata": {},
   "outputs": [
    {
     "data": {
      "text/plain": [
       "list"
      ]
     },
     "execution_count": 106,
     "metadata": {},
     "output_type": "execute_result"
    }
   ],
   "source": [
    "a=[1,2,3,4,5,6,7,8,9]\n",
    "type(a)"
   ]
  },
  {
   "cell_type": "code",
   "execution_count": 110,
   "id": "886a079f",
   "metadata": {},
   "outputs": [
    {
     "data": {
      "text/plain": [
       "numpy.ndarray"
      ]
     },
     "execution_count": 110,
     "metadata": {},
     "output_type": "execute_result"
    }
   ],
   "source": [
    "ar=np.asarray(a).reshape((3,3))\n",
    "type(ar)"
   ]
  },
  {
   "cell_type": "code",
   "execution_count": 111,
   "id": "19ae8c56",
   "metadata": {},
   "outputs": [
    {
     "data": {
      "text/plain": [
       "array([[1, 2, 3],\n",
       "       [4, 5, 6],\n",
       "       [7, 8, 9]])"
      ]
     },
     "execution_count": 111,
     "metadata": {},
     "output_type": "execute_result"
    }
   ],
   "source": [
    "ar"
   ]
  },
  {
   "cell_type": "code",
   "execution_count": 112,
   "id": "8693df22",
   "metadata": {},
   "outputs": [],
   "source": [
    "# NumPy generator"
   ]
  },
  {
   "cell_type": "code",
   "execution_count": 113,
   "id": "38ad4075",
   "metadata": {},
   "outputs": [
    {
     "data": {
      "text/plain": [
       "array([10, 11, 12, 13, 14, 15, 16, 17, 18, 19, 20, 21, 22, 23, 24, 25, 26,\n",
       "       27, 28, 29, 30, 31, 32, 33, 34, 35, 36, 37, 38, 39, 40, 41, 42, 43,\n",
       "       44, 45, 46, 47, 48, 49, 50, 51, 52, 53, 54, 55, 56, 57, 58, 59, 60,\n",
       "       61, 62, 63, 64, 65, 66, 67, 68, 69, 70, 71, 72, 73, 74, 75, 76, 77,\n",
       "       78, 79, 80, 81, 82, 83, 84, 85, 86, 87, 88, 89, 90, 91, 92, 93, 94,\n",
       "       95, 96, 97, 98, 99])"
      ]
     },
     "execution_count": 113,
     "metadata": {},
     "output_type": "execute_result"
    }
   ],
   "source": [
    "a=np.arange(10,100)\n",
    "a"
   ]
  },
  {
   "cell_type": "code",
   "execution_count": null,
   "id": "9af0e632",
   "metadata": {},
   "outputs": [],
   "source": []
  },
  {
   "cell_type": "code",
   "execution_count": 118,
   "id": "791632cd",
   "metadata": {},
   "outputs": [
    {
     "data": {
      "text/plain": [
       "array([  5.5,   8. ,  10.5,  13. ,  15.5,  18. ,  20.5,  23. ,  25.5,\n",
       "        28. ,  30.5,  33. ,  35.5,  38. ,  40.5,  43. ,  45.5,  48. ,\n",
       "        50.5,  53. ,  55.5,  58. ,  60.5,  63. ,  65.5,  68. ,  70.5,\n",
       "        73. ,  75.5,  78. ,  80.5,  83. ,  85.5,  88. ,  90.5,  93. ,\n",
       "        95.5,  98. , 100.5])"
      ]
     },
     "execution_count": 118,
     "metadata": {},
     "output_type": "execute_result"
    }
   ],
   "source": [
    "a=np.arange(5.5, 101.5 , 2.5)\n",
    "a"
   ]
  },
  {
   "cell_type": "code",
   "execution_count": 120,
   "id": "6d68dfb3",
   "metadata": {},
   "outputs": [
    {
     "data": {
      "text/plain": [
       "array([50.        , 52.10526316, 54.21052632, 56.31578947, 58.42105263,\n",
       "       60.52631579, 62.63157895, 64.73684211, 66.84210526, 68.94736842,\n",
       "       71.05263158, 73.15789474, 75.26315789, 77.36842105, 79.47368421,\n",
       "       81.57894737, 83.68421053, 85.78947368, 87.89473684, 90.        ])"
      ]
     },
     "execution_count": 120,
     "metadata": {},
     "output_type": "execute_result"
    }
   ],
   "source": [
    "a=np.linspace(50, 90, 20)\n",
    "a"
   ]
  },
  {
   "cell_type": "code",
   "execution_count": 123,
   "id": "b4ee79eb",
   "metadata": {},
   "outputs": [],
   "source": [
    "# Dot Product"
   ]
  },
  {
   "cell_type": "code",
   "execution_count": 124,
   "id": "c121db26",
   "metadata": {},
   "outputs": [
    {
     "data": {
      "text/plain": [
       "array([[ 2,  2,  4],\n",
       "       [ 5,  5,  7],\n",
       "       [ 8,  8, 10],\n",
       "       [11, 11, 13]])"
      ]
     },
     "execution_count": 124,
     "metadata": {},
     "output_type": "execute_result"
    }
   ],
   "source": [
    "z"
   ]
  },
  {
   "cell_type": "code",
   "execution_count": 130,
   "id": "60e7adfa",
   "metadata": {},
   "outputs": [
    {
     "data": {
      "text/plain": [
       "array([[ 2,  2,  4,  5],\n",
       "       [ 5,  7,  8,  8],\n",
       "       [10, 11, 11, 13]])"
      ]
     },
     "execution_count": 130,
     "metadata": {},
     "output_type": "execute_result"
    }
   ],
   "source": [
    "z=z.reshape((3,4))\n",
    "z"
   ]
  },
  {
   "cell_type": "code",
   "execution_count": 131,
   "id": "948def60",
   "metadata": {},
   "outputs": [
    {
     "data": {
      "text/plain": [
       "array([[ 1,  2,  3],\n",
       "       [ 4,  5,  6],\n",
       "       [ 7,  8,  9],\n",
       "       [10, 11, 12]])"
      ]
     },
     "execution_count": 131,
     "metadata": {},
     "output_type": "execute_result"
    }
   ],
   "source": [
    "x"
   ]
  },
  {
   "cell_type": "code",
   "execution_count": 132,
   "id": "0f3e842a",
   "metadata": {},
   "outputs": [
    {
     "data": {
      "text/plain": [
       "array([[ 42,  49,  53,  60],\n",
       "       [ 93, 109, 122, 138],\n",
       "       [144, 169, 191, 216],\n",
       "       [195, 229, 260, 294]])"
      ]
     },
     "execution_count": 132,
     "metadata": {},
     "output_type": "execute_result"
    }
   ],
   "source": [
    "y=np.dot(x,z)\n",
    "y"
   ]
  },
  {
   "cell_type": "markdown",
   "id": "bb21c732",
   "metadata": {},
   "source": [
    "### Random Numbers in NumPy"
   ]
  },
  {
   "cell_type": "code",
   "execution_count": 133,
   "id": "7e702b53",
   "metadata": {},
   "outputs": [
    {
     "data": {
      "text/plain": [
       "2"
      ]
     },
     "execution_count": 133,
     "metadata": {},
     "output_type": "execute_result"
    }
   ],
   "source": [
    "np.random.randint(100)"
   ]
  },
  {
   "cell_type": "code",
   "execution_count": 134,
   "id": "814166a9",
   "metadata": {},
   "outputs": [
    {
     "data": {
      "text/plain": [
       "79"
      ]
     },
     "execution_count": 134,
     "metadata": {},
     "output_type": "execute_result"
    }
   ],
   "source": [
    "np.random.randint(70,100)"
   ]
  },
  {
   "cell_type": "code",
   "execution_count": 136,
   "id": "bd00a418",
   "metadata": {},
   "outputs": [
    {
     "data": {
      "text/plain": [
       "array([[166, 141,  99, 127,  77],\n",
       "       [ 95, 102,  66,  79,  65],\n",
       "       [ 51, 120, 155, 159,  96],\n",
       "       [159,  57, 185,  87,  52],\n",
       "       [154, 106, 166,  60,  53],\n",
       "       [128, 112, 129, 181,  63],\n",
       "       [157, 127,  95, 126,  64],\n",
       "       [ 78, 154,  58, 109, 117]])"
      ]
     },
     "execution_count": 136,
     "metadata": {},
     "output_type": "execute_result"
    }
   ],
   "source": [
    "np.random.randint(50,200,40).reshape(8,5)"
   ]
  },
  {
   "cell_type": "code",
   "execution_count": 137,
   "id": "083a2a5e",
   "metadata": {},
   "outputs": [],
   "source": [
    "np.random.seed(42)"
   ]
  },
  {
   "cell_type": "code",
   "execution_count": 138,
   "id": "28d0e05a",
   "metadata": {},
   "outputs": [
    {
     "data": {
      "text/plain": [
       "array([[152, 142,  64, 156, 121],\n",
       "       [ 70, 152, 171, 124, 137],\n",
       "       [166, 149, 153, 180, 199],\n",
       "       [102,  51, 137,  87, 179],\n",
       "       [ 70, 107,  71, 138,  98],\n",
       "       [108,  64, 100, 157, 104],\n",
       "       [113, 180, 100, 184,  70],\n",
       "       [122,  67, 181, 138, 109]])"
      ]
     },
     "execution_count": 138,
     "metadata": {},
     "output_type": "execute_result"
    }
   ],
   "source": [
    "np.random.randint(50,200,40).reshape(8,5)"
   ]
  },
  {
   "cell_type": "code",
   "execution_count": 139,
   "id": "892e2b58",
   "metadata": {},
   "outputs": [
    {
     "data": {
      "text/plain": [
       "array([0.56328822, 0.3854165 , 0.01596625, 0.23089383, 0.24102547,\n",
       "       0.68326352, 0.60999666, 0.83319491, 0.17336465, 0.39106061])"
      ]
     },
     "execution_count": 139,
     "metadata": {},
     "output_type": "execute_result"
    }
   ],
   "source": [
    "np.random.rand(10)"
   ]
  },
  {
   "cell_type": "code",
   "execution_count": 140,
   "id": "d1c66ef3",
   "metadata": {},
   "outputs": [
    {
     "data": {
      "text/plain": [
       "array([[0.18223609, 0.75536141, 0.42515587],\n",
       "       [0.20794166, 0.56770033, 0.03131329],\n",
       "       [0.84228477, 0.44975413, 0.39515024],\n",
       "       [0.92665887, 0.727272  , 0.32654077],\n",
       "       [0.57044397, 0.52083426, 0.96117202]])"
      ]
     },
     "execution_count": 140,
     "metadata": {},
     "output_type": "execute_result"
    }
   ],
   "source": [
    "np.random.rand(5,3)"
   ]
  },
  {
   "cell_type": "code",
   "execution_count": 148,
   "id": "ff600037",
   "metadata": {},
   "outputs": [],
   "source": [
    "np.random.seed(42)\n",
    "a=5\n",
    "b=3\n",
    "x=np.random.randint(200,5000,900).reshape(30,30)\n",
    "y=np.random.rand(30,30)"
   ]
  },
  {
   "cell_type": "code",
   "execution_count": 149,
   "id": "5af71c35",
   "metadata": {},
   "outputs": [
    {
     "name": "stdout",
     "output_type": "stream",
     "text": [
      "X=  [[1060 3972 3292  666 4626 3644 3371 3119  330 1885  969 2591 2633 1384\n",
      "  4755 3585 4317 3104  674 1282 2758 2247 2947 1175 2006  389 2934 3205\n",
      "  4858 2099]\n",
      " [1467 1728 3402 3756 4090  846 3088 2635  800 2563 2261  441 2241 3024\n",
      "  2812 1563 1678 2756  975 4214  234 3352 2155 1785 4143 3273 1221 3661\n",
      "  2813 4043]\n",
      " [1700 4998  361 4497 2181 1195 3542 4751 3998 1475 1216  537 1078 1276\n",
      "  4193  579  692 2262 4084  264 2768 2227 2895 1695  591 4714 4674 3761\n",
      "  2478 3299]\n",
      " [ 400 3304 4798 2654 3845 1004 2931 2973 1770 2890 4040 1228  702 4693\n",
      "  1070 4688  406 1684 1063 2990  763 4391 1957 1878 3442 4836 1259 1922\n",
      "  3514 3357]\n",
      " [2825 2929 1797 3260 2893 3827 1563 2181 1863 1729 2238 3502 2437 1506\n",
      "  4229 2875 1482  909 4944 4613 3948 4979  863 2198 3645 3943 1695 3504\n",
      "  3963 2053]\n",
      " [4859 1491 3781 3657 1836 3896 3199 3352  898 2360 4297 4937 1054 3674\n",
      "  1907 2977 1933 3710  402 3455 4418 4696  966 4589 2527 3131  397 2130\n",
      "  3782  808]\n",
      " [3472 1347 4482 3597 2711 1994  859 3011 1569 2186  346 3419 3111 1934\n",
      "  2043  688 3176 2159 2585 3119 4936 2002 4261 3569  462  823 1216 3843\n",
      "  2249 3923]\n",
      " [4748 3308 4290 2256 3370 1882 2455 1354 4699 3391 1896 4191 4923 4882\n",
      "  1848 1645 4399 4123  453 3383 2757  298 2400 3161 4633 3977 3069 3434\n",
      "  3991 1156]\n",
      " [4267  360 4693 1500 4187 1727 1418 4696 4935 3304 2935 4755 1154 4765\n",
      "  3646 1245 1893 3636  762 2685 3554  425 1159 4748 3267 1015 4954 4842\n",
      "  3320  216]\n",
      " [1443 2405 2724 1269 3644 2765 1260 2527 3620  501 4476  806 3370  899\n",
      "  1339  390 2500 1180 3175 1384 3527 3594  327 2265 2016  769 2095 2933\n",
      "  4063 4921]\n",
      " [4214 3101 1886 3209  354 2737 1609 4257  984 3375 4541 3006  737 2041\n",
      "  2655  724 3150 4331 4980 4315 2568 4047 4695 2901 1171 1366 2974 2182\n",
      "  1053 4346]\n",
      " [3936 3969  774 3461 1348 1915 4977 4054 2691 2860 3324 3251  204 1076\n",
      "  1191 4342 4564 4665  835 1893 1882 4952  319 1030 3875 1569  940  316\n",
      "  3038 1350]\n",
      " [2131 1212 1864 1281 4929  712 3049  759 3872 4783 3543 4270 4999 1670\n",
      "   780 2494 3347 4449 1879 3706 2944 3556 4245 1443 3318 2341 3259 4748\n",
      "  3159 2465]\n",
      " [2679 4846 1835 1957 4652 2270 3049 3451 3930 2689 1831 3016 1215 1548\n",
      "  4811 3287 3039  535 4792 1095 3746 1051 1887 2131 3946 2627 1768 4200\n",
      "  2938 3698]\n",
      " [4113 1266 4580 2644 4307 3573 4169 2746  953 2282 2974 3096 4385  975\n",
      "  1825 3269  617  314  816 4174 3467 1025 1716 3346  612  928 3548 3008\n",
      "   875 3665]\n",
      " [2704 3167 2986 1322 4279 1771 2343 1887 4332 4051 3640 3966 2526 3114\n",
      "  4152  795  928 1565 4692  898  595 4371 4560 2702 2019  917 2982 3777\n",
      "   343 3340]\n",
      " [4691 3138 3836 3422 1367 2816 1262 2356 3182 3494 4929 1356  932 4530\n",
      "  1153 2739 3524 3501 1742 1391 3193 2881 1417 1740 3436 2586 3919 1588\n",
      "  2056 1565]\n",
      " [ 699 1880  710 4512 1524 1355 2027 3341 3686 2010 3123 2414 4386  913\n",
      "  3802 4334 3722 4468 4948 1443 3909 1281  655 1094 1584 2158 3272 2196\n",
      "  4485  704]\n",
      " [1414 1731 3640 1023 1128  333 2305 3827 4980 2052 4375 3133 3484 4498\n",
      "  3011 1450 3712 1456 3576 3686 3784 1596 3837 3530 2903  670 1553 2983\n",
      "  3031  557]\n",
      " [3219  867 4668 1345 4385 3919 2945  739 2979 4336 3975 2708 2979 1124\n",
      "  3156 1781 3524 4685  455 2038 2144  209 3071  997 1215 2024 4669 3336\n",
      "  2393  423]\n",
      " [4358 4125 4984 4200 1833 2352  710  584  604 4813 4771 2200 2956 1868\n",
      "  1660 3836 2924 4378 2248 4346 4980  916 4744 4783 2023 2281 3619 1774\n",
      "   449  873]\n",
      " [4733 2365  970 4162 4563 2184 1277  435  588 3237 2048 4919 3014 3574\n",
      "  3478 1452 4181 4873 2322 4730 2350 1529 1558 2682 4742 2217 1531 4544\n",
      "  4461 1558]\n",
      " [4837 3377 2328 2380  337 3672 3032 3779 3231 4364 2793 4500 4018 4338\n",
      "  4023 4242 2106  960 3645 1099 4655 3147 1919  480 3466 2087 3466  866\n",
      "  4388  871]\n",
      " [2169 4356 3322 4899 4977 4100  723 2593 3317 2793 2168 1953 2496 2461\n",
      "  2486 4402 3078 4343 3844 4632 2255 4920 1476 2966  502  838  255  725\n",
      "  4769 4323]\n",
      " [2325 3487  564 4821 1846 1118 2997 1731 3545 2106 3286 4780 2275  913\n",
      "  1262 2176 1496  325 4832 3796 3483 1803  266  432 2356 1369 2358 4406\n",
      "  1693 4918]\n",
      " [4207 2672 2860 2939 1961 3714 2175 2562 1076 4012 3648 1512 1660 2909\n",
      "  2524 1933 1805 2763 3621 3717 2597 3935 3070 1360  442 2790 1263 4524\n",
      "  2795 1119]\n",
      " [ 205  667 4370  203  845  317 3128 2751 4489 1046 2962 1341 2010  923\n",
      "   424 4827 4408 4854 2248 4949 4615 1773 2028 2117 4434 2226 3944 1101\n",
      "  4985 2239]\n",
      " [ 209  460 1873 2419 2260 3913 1819  520 1542 2576 3032 3024 2194 3158\n",
      "  2238 3690 3877 1318 1804 4227  435 2169 4629 2108  575 3730 2835 1770\n",
      "  2760 3591]\n",
      " [3165 3843 4050 1072 1452 1514 3098  277 2821 4427  800 1265 2336 2649\n",
      "  2543 2063 1518 4911 3797 3962 4870 2390 1192 2912 2392 1448 3254 4798\n",
      "  4233 2197]\n",
      " [3887 2351 4218 3310 2170  397 2826 1402 2235  677 1454 1122  619 2404\n",
      "  2797 1320 3268 1150 2536 2443 2845 2057 4812 2065 3112 3053 3428 3919\n",
      "  3428 2571]]\n",
      "Y=  [[0.72225257 0.72003654 0.64114763 0.69394844 0.54272444 0.25179906\n",
      "  0.34569599 0.18159772 0.90845056 0.58339179 0.40085142 0.4620058\n",
      "  0.94728334 0.1533514  0.58622983 0.50588868 0.61145424 0.01811018\n",
      "  0.87212391 0.93211828 0.56513318 0.69665082 0.92249938 0.70723863\n",
      "  0.15253904 0.57628836 0.60671505 0.42413067 0.73644424 0.93436701]\n",
      " [0.92556851 0.45083937 0.11323805 0.9848412  0.83889809 0.12466268\n",
      "  0.92084188 0.86989636 0.51883806 0.59127544 0.3990027  0.05476164\n",
      "  0.33519724 0.80285345 0.00463202 0.33349917 0.39816869 0.5373956\n",
      "  0.91985562 0.34634599 0.3469532  0.73750125 0.45221794 0.22460482\n",
      "  0.45243952 0.14085702 0.17638699 0.49836777 0.41892545 0.9148459 ]\n",
      " [0.3623939  0.58058835 0.63226429 0.01309446 0.66353737 0.17803597\n",
      "  0.96107032 0.14866273 0.41462412 0.08534967 0.99687425 0.50219501\n",
      "  0.59538502 0.06707648 0.74996047 0.20990559 0.89805429 0.20513964\n",
      "  0.19068772 0.03654967 0.47206695 0.56484113 0.06570864 0.77552762\n",
      "  0.45328883 0.52439027 0.44076275 0.40076306 0.55964033 0.15524025]\n",
      " [0.18192813 0.86178562 0.94611546 0.37330932 0.27074467 0.64399954\n",
      "  0.40873417 0.02538636 0.1561526  0.71597223 0.65892394 0.02709599\n",
      "  0.22197216 0.2310748  0.67189274 0.01971054 0.10410858 0.79991609\n",
      "  0.17854466 0.65274611 0.23818278 0.09944139 0.24317219 0.72226693\n",
      "  0.85569647 0.83021986 0.39718353 0.66808514 0.2049843  0.29314773]\n",
      " [0.89633582 0.01300192 0.08550853 0.20788626 0.0265322  0.18143544\n",
      "  0.58304156 0.42142455 0.89267171 0.81744356 0.34181735 0.25942343\n",
      "  0.37969241 0.59029494 0.26806364 0.62414891 0.40941165 0.55204718\n",
      "  0.43612653 0.29446576 0.94845331 0.76360579 0.14011318 0.86846798\n",
      "  0.4874312  0.89455223 0.79985526 0.4252135  0.02246931 0.26867736]\n",
      " [0.54163421 0.63347822 0.25788769 0.13935607 0.83493024 0.98440218\n",
      "  0.52569018 0.17167929 0.27230733 0.01839068 0.91429881 0.11775108\n",
      "  0.57651648 0.27405522 0.554178   0.65142039 0.8297418  0.20642127\n",
      "  0.01099583 0.13688563 0.90001864 0.87389008 0.5974131  0.60051686\n",
      "  0.66503667 0.17537128 0.91441195 0.41877052 0.38313853 0.51891771]\n",
      " [0.04696597 0.16628337 0.73803362 0.08279867 0.60315211 0.24534911\n",
      "  0.38929561 0.28869374 0.35567272 0.71904591 0.29712172 0.56640464\n",
      "  0.4760504  0.66367117 0.93682974 0.7325721  0.21494038 0.03118314\n",
      "  0.26226404 0.59507793 0.05142581 0.49636625 0.59684285 0.33424389\n",
      "  0.7709122  0.10659825 0.07513778 0.72818876 0.49549132 0.6884024 ]\n",
      " [0.43482734 0.24640203 0.81910232 0.79941588 0.69469647 0.27214514\n",
      "  0.59023067 0.3609739  0.09158207 0.91731358 0.13681863 0.95023735\n",
      "  0.44600577 0.18513293 0.54190095 0.87294584 0.73222489 0.80656115\n",
      "  0.65878337 0.69227656 0.84919565 0.24966801 0.48942496 0.22120944\n",
      "  0.98766801 0.94405934 0.03942681 0.70557517 0.92524832 0.18057535]\n",
      " [0.56794523 0.9154883  0.03394598 0.69742027 0.29734901 0.9243962\n",
      "  0.97105825 0.94426649 0.47421422 0.86204265 0.8445494  0.31910047\n",
      "  0.82891547 0.03700763 0.59626988 0.23000884 0.12056689 0.0769532\n",
      "  0.69628878 0.33987496 0.72476677 0.06535634 0.31529034 0.53949129\n",
      "  0.79072316 0.3187525  0.62589138 0.88597775 0.61586319 0.23295947]\n",
      " [0.02440078 0.87009887 0.02126941 0.87470167 0.52893713 0.9390677\n",
      "  0.79878324 0.99793411 0.35071182 0.76718829 0.40193091 0.47987562\n",
      "  0.62750546 0.87367711 0.98408347 0.76827341 0.41776678 0.421357\n",
      "  0.7375823  0.23877715 0.11047411 0.35462216 0.28723899 0.29630812\n",
      "  0.23360775 0.04209319 0.01787393 0.98772239 0.42777313 0.38432665]\n",
      " [0.67964728 0.21825389 0.94996118 0.78634501 0.089411   0.41758078\n",
      "  0.87911831 0.94473202 0.46740151 0.61341139 0.16703395 0.99116863\n",
      "  0.2316717  0.94273177 0.64964665 0.60773679 0.51268851 0.23066981\n",
      "  0.17652803 0.22048621 0.18643826 0.77958447 0.35012526 0.05784268\n",
      "  0.96910263 0.88378588 0.92775228 0.99490782 0.17389525 0.39624202]\n",
      " [0.75823848 0.69602062 0.15389591 0.81583312 0.22444057 0.22381761\n",
      "  0.53697442 0.59293993 0.58008621 0.09148684 0.87746086 0.26560004\n",
      "  0.12951492 0.88874808 0.9556515  0.86212762 0.80951607 0.65524198\n",
      "  0.55085737 0.08698676 0.40845321 0.37268852 0.25975378 0.72342011\n",
      "  0.49587574 0.08104622 0.2201832  0.68325876 0.07613086 0.85120691]\n",
      " [0.49514653 0.48058658 0.59240778 0.82468097 0.34780921 0.67801615\n",
      "  0.56573196 0.26702827 0.87862999 0.79742602 0.65845183 0.85058173\n",
      "  0.8672942  0.70836298 0.83701333 0.69747146 0.68014077 0.61861138\n",
      "  0.75271664 0.15860511 0.88087076 0.87184353 0.02924728 0.82581675\n",
      "  0.12886987 0.33511885 0.74350826 0.1607599  0.81796702 0.83213418]\n",
      " [0.50746773 0.00638587 0.28703813 0.61692692 0.98118618 0.63181353\n",
      "  0.25980358 0.6340057  0.53998538 0.7798454  0.10698064 0.7610279\n",
      "  0.54126658 0.962992   0.34187217 0.63262189 0.93202811 0.10250973\n",
      "  0.93722849 0.68788572 0.06783706 0.30096357 0.70817209 0.0673506\n",
      "  0.58217046 0.34588306 0.62091552 0.04574203 0.87153681 0.97348897]\n",
      " [0.96887786 0.74965183 0.13008624 0.7582632  0.02458692 0.02212355\n",
      "  0.32361022 0.48864319 0.77040742 0.68329538 0.44590271 0.27362667\n",
      "  0.9971245  0.4261813  0.45138702 0.16362382 0.79480955 0.69368223\n",
      "  0.22076961 0.08238105 0.6804993  0.65451121 0.27325953 0.95086356\n",
      "  0.15105789 0.4323348  0.94361592 0.41972732 0.63852595 0.3975944 ]\n",
      " [0.2742152  0.98397765 0.40933401 0.8940992  0.22995461 0.2131047\n",
      "  0.03113408 0.65166683 0.36852634 0.86435825 0.47320991 0.96819343\n",
      "  0.18552552 0.86862317 0.77659685 0.77092184 0.84478323 0.76102399\n",
      "  0.62622032 0.13124488 0.03252618 0.92084785 0.61665031 0.79653729\n",
      "  0.48152235 0.11730819 0.12518579 0.68556529 0.43030589 0.20052473]\n",
      " [0.49159455 0.06420894 0.5819714  0.2689934  0.7975591  0.31036196\n",
      "  0.45522015 0.01162054 0.07244689 0.39249356 0.47993883 0.60002055\n",
      "  0.29166258 0.69498189 0.8601224  0.77985099 0.03961883 0.48050695\n",
      "  0.10493018 0.24204502 0.98666259 0.14249554 0.49888815 0.61815573\n",
      "  0.70246497 0.55964868 0.00977085 0.32646131 0.51771164 0.0878665 ]\n",
      " [0.35062693 0.03320311 0.0785785  0.39692328 0.13271575 0.56754085\n",
      "  0.68946497 0.8005867  0.20015024 0.16748258 0.10456784 0.63643025\n",
      "  0.70647573 0.03158614 0.93621225 0.05197128 0.54129634 0.70906052\n",
      "  0.87096912 0.71408693 0.80172808 0.33945019 0.81482511 0.08011485\n",
      "  0.89481666 0.54759238 0.81729777 0.45231828 0.6435777  0.52640266]\n",
      " [0.73158952 0.08162998 0.06035208 0.24710323 0.15954468 0.87178357\n",
      "  0.21921399 0.97586526 0.33689579 0.18211792 0.78969851 0.65870778\n",
      "  0.49819572 0.55536355 0.71920178 0.22845474 0.99633392 0.97479316\n",
      "  0.65032569 0.19954245 0.68022824 0.07219841 0.0306525  0.25768289\n",
      "  0.46262296 0.86827251 0.72716907 0.74270652 0.42549333 0.34593499]\n",
      " [0.37103876 0.98764956 0.04010919 0.8670315  0.57867541 0.43861542\n",
      "  0.72525766 0.48666894 0.87342324 0.90070186 0.42172093 0.2768278\n",
      "  0.59235033 0.91236335 0.21066219 0.62296658 0.63156022 0.73311302\n",
      "  0.13156769 0.71582496 0.90903252 0.17968311 0.23754332 0.97139509\n",
      "  0.18097695 0.85438509 0.49227786 0.24723107 0.8707499  0.44530526]\n",
      " [0.51481735 0.35923337 0.59295085 0.16352387 0.39108154 0.96941232\n",
      "  0.25813343 0.65673666 0.32519006 0.77347313 0.13087366 0.96982105\n",
      "  0.45378954 0.23605046 0.07349675 0.16975791 0.51977395 0.33700318\n",
      "  0.82888337 0.43088752 0.24871427 0.61714499 0.70677722 0.16704191\n",
      "  0.16761922 0.03667143 0.73640202 0.66380453 0.47463088 0.84417045]\n",
      " [0.80567015 0.58535436 0.86827128 0.20584121 0.11191962 0.26974961\n",
      "  0.05708686 0.53116953 0.93660569 0.03934354 0.12210991 0.45219903\n",
      "  0.93387502 0.3161561  0.50723481 0.04157286 0.1483432  0.98663012\n",
      "  0.9651187  0.00493998 0.95181179 0.63911994 0.86791829 0.45473986\n",
      "  0.51559603 0.48884658 0.66686426 0.13965125 0.02997359 0.30792994]\n",
      " [0.70468076 0.20185345 0.67343243 0.96991205 0.09390072 0.67260212\n",
      "  0.44375022 0.86814225 0.17714979 0.69262595 0.83811529 0.94461422\n",
      "  0.68324803 0.49717476 0.61784724 0.86890498 0.57060975 0.03038706\n",
      "  0.9309487  0.68952675 0.67651339 0.21567515 0.65888547 0.39386441\n",
      "  0.65123298 0.10659303 0.6578453  0.99941373 0.04821204 0.97717418]\n",
      " [0.40690796 0.87075345 0.78238548 0.56701626 0.73844921 0.87851556\n",
      "  0.40414032 0.32703316 0.66759339 0.80784594 0.76228513 0.79781365\n",
      "  0.43558331 0.81783422 0.12020906 0.5444891  0.00575866 0.32458583\n",
      "  0.36646153 0.39617269 0.69546721 0.3885581  0.44869362 0.23754413\n",
      "  0.37325179 0.22726963 0.07319592 0.60344859 0.6682128  0.61949035]\n",
      " [0.46349404 0.37978578 0.86333365 0.51908179 0.47918188 0.02564207\n",
      "  0.34124783 0.38019562 0.39882278 0.58017237 0.53360255 0.60790509\n",
      "  0.76488326 0.81298574 0.71812308 0.9555237  0.01823258 0.19577799\n",
      "  0.00756287 0.64747471 0.89803055 0.2434823  0.92703454 0.06026739\n",
      "  0.93443603 0.35162269 0.10142083 0.48587176 0.25677657 0.2848729 ]\n",
      " [0.30728996 0.8030259  0.53916128 0.3113077  0.61033378 0.71615067\n",
      "  0.272624   0.4135491  0.12188609 0.18114935 0.68111785 0.18143835\n",
      "  0.52516338 0.70904626 0.10687692 0.56731222 0.25656278 0.96292688\n",
      "  0.48354565 0.80599255 0.55022654 0.04341253 0.63315138 0.95140334\n",
      "  0.60161182 0.81918886 0.88420646 0.22807977 0.21204484 0.61098099]\n",
      " [0.41102847 0.8398613  0.90002312 0.35342138 0.23687056 0.78052552\n",
      "  0.27480604 0.82261432 0.42373825 0.6675499  0.09553531 0.62385932\n",
      "  0.45176768 0.58660846 0.16801421 0.73687374 0.86279708 0.2167398\n",
      "  0.09571456 0.02363859 0.6419715  0.60709404 0.54669741 0.2319471\n",
      "  0.390906   0.59447634 0.49676686 0.98778552 0.13643975 0.69514455]\n",
      " [0.40431877 0.42819961 0.71759777 0.69243615 0.99125599 0.12839429\n",
      "  0.10410965 0.72433882 0.57838692 0.27416067 0.07941937 0.08565825\n",
      "  0.89419087 0.19186732 0.32337156 0.2266564  0.35499631 0.06942384\n",
      "  0.51905979 0.06761256 0.80035651 0.23371208 0.54001191 0.88007909\n",
      "  0.65087737 0.53295779 0.32433375 0.33300191 0.66948696 0.99413936]\n",
      " [0.66183919 0.55778342 0.73065051 0.46520561 0.06014234 0.56229682\n",
      "  0.95762528 0.17530294 0.69000489 0.20093369 0.53582768 0.09667645\n",
      "  0.45037094 0.75616333 0.34757152 0.66491172 0.79544996 0.92717782\n",
      "  0.23464208 0.39931592 0.15241601 0.9924835  0.92700097 0.53995713\n",
      "  0.84203329 0.52095798 0.62358569 0.08912443 0.75527042 0.12771348]\n",
      " [0.82606763 0.78202809 0.7087447  0.03616038 0.30312836 0.26311257\n",
      "  0.36013641 0.08764275 0.93695782 0.55380224 0.30552431 0.39698152\n",
      "  0.44720254 0.60059433 0.51567943 0.91939197 0.49696348 0.99215801\n",
      "  0.85142496 0.20851051 0.93059521 0.1163664  0.81744971 0.38062329\n",
      "  0.87797432 0.86805669 0.8059254  0.79003044 0.30467914 0.08091928]]\n"
     ]
    }
   ],
   "source": [
    "print('X= ',x)\n",
    "print('Y= ',y)"
   ]
  },
  {
   "cell_type": "code",
   "execution_count": 150,
   "id": "eaff9115",
   "metadata": {},
   "outputs": [
    {
     "name": "stdout",
     "output_type": "stream",
     "text": [
      "[[ 434601.56494632 1628521.55535784 1349721.23321086  273061.44469333\n",
      "  1896660.88364946 1494040.1902083  1382110.35851716 1278790.09893319\n",
      "   135302.47584727  772851.02103796  397290.48204557 1062310.64034809\n",
      "  1079532.69203718  567440.07054996 1949551.03099625 1469850.76777007\n",
      "  1769971.12162885 1272640.00098394  276342.28180034  525622.60653348\n",
      "  1130780.95812655  921271.45596711 1208272.55301532  481751.50055946\n",
      "   822460.06980448  159490.99632482 1202941.10430944 1314050.53966048\n",
      "  1991781.62705034  860592.61912515]\n",
      " [ 601472.57003122  708480.60976842 1394820.03846857 1539962.90973656\n",
      "  1676902.11125     346860.04662235 1266082.54384932 1080352.27015904\n",
      "   328000.80757879 1050831.04881992  927010.47760947  180810.00899651\n",
      "   918810.33707157 1239841.93372098 1152920.00006437  640830.33366509\n",
      "   687980.47561493 1129960.8663821   399752.53840307 1727740.35986664\n",
      "    95940.36112957 1374321.63172427  883550.6135032   731850.15134198\n",
      "  1698630.61410455 1341930.0595221   500610.09333711 1501010.74511131\n",
      "  1153330.5264956  1657632.51082907]\n",
      " [ 697000.39398801 2049181.0112485   148011.19927439 1843770.00051439\n",
      "   894211.32084553  489950.09509042 1452222.77096847 1947910.06630182\n",
      "  1639180.51573949  604750.0218537   498562.98127482  220170.75659949\n",
      "   441981.06344996  523160.01349776 1719131.68732212  237390.13218107\n",
      "   283722.41950452  927420.12624682 1674440.10908542  108240.00400763\n",
      "  1134880.6685416   913070.95713652 1186950.01295288  694951.80432925\n",
      "   242310.6164123  1932740.82495546 1916340.5828154  1542010.48183309\n",
      "  1015980.9395919  1352590.0722986 ]\n",
      " [ 164000.09929353 1354642.22802337 1967182.6854034  1088140.41807954\n",
      "  1576450.21990803  411641.24420624 1201710.50119087 1218930.0019334\n",
      "   725700.0731509  1184901.5378487  1656401.30254228  503480.00220258\n",
      "   287820.14781492 1924130.16018668  438701.35431958 1922080.00116552\n",
      "   166460.03251579  690441.91959723  435830.09563459 1225901.27823244\n",
      "   312830.17019311 1800310.02966577  802370.17739814  769981.56500856\n",
      "  1411222.19664934 1982762.06779507  516190.47326427  788021.33901325\n",
      "  1440740.12605568 1376370.25780678]\n",
      " [1158252.4102537  1200890.00050715  736770.02193513 1336600.12965009\n",
      "  1186130.00211187 1569070.09875645  640831.01981239  894210.53279596\n",
      "   763832.39058835  708892.00464193  917580.35051731 1435820.20190155\n",
      "   999170.43249897  617461.04534436 1733890.21557435 1178751.16868558\n",
      "   607620.5028537   372690.91426827 2027040.57061905 1891330.26013025\n",
      "  1618682.69869103 2041391.74928143  353830.05889511  901182.26270988\n",
      "  1494450.71276752 1616632.40067106  694951.91930529 1436640.54241957\n",
      "  1624830.00151461  841730.21656257]\n",
      " [1992190.88010287  611311.20388397 1550210.19951817 1499370.05826035\n",
      "   752762.0913255  1597362.90714296 1311590.8290505  1374320.08842133\n",
      "   368180.22245384  967600.00101465 1761772.50782692 2024170.04159595\n",
      "   432140.99711374 1506340.22531879  781870.92133978 1220571.27304557\n",
      "   792532.06541438 1521100.12782922  164820.00036272 1416550.05621303\n",
      "  1811382.43010067 1925362.2910516   396061.07070724 1881491.0818615\n",
      "  1036071.32682134 1283710.09226526  162772.50844762  873300.52610626\n",
      "  1550620.4403854   331280.80782675]\n",
      " [1423520.00661741  552270.08295048 1837621.63408086 1474770.02056686\n",
      "  1111511.0913774   817540.18058856  352190.45465323 1234510.25003222\n",
      "   643290.37950924  896261.55108104  141860.26484394 1401790.96244265\n",
      "  1275510.67987196  792941.32137825  837632.63294988  282081.60998563\n",
      "  1302160.1385981   885190.00291716 1059850.20634729 1278791.06235323\n",
      "  2023760.00793384  820820.73913835 1747011.06866416 1463290.33515694\n",
      "   189421.78291688  337430.03408956  498560.01693706 1575631.59077659\n",
      "   922090.73653493 1608431.42169358]\n",
      " [1946680.56722444 1356280.18214189 1758902.01278582  924961.91719724\n",
      "  1381701.44780956  771620.22218893 1006551.04511672  555140.39090646\n",
      "  1926590.02516183 1390312.52439259  777360.05615801 1718312.70885309\n",
      "  2018430.59676345 2001620.1028226   757680.88096991  674452.2861033\n",
      "  1803591.60845985 1690431.95162266  185731.30198657 1387031.43774053\n",
      "  1130372.16339976  122180.18700234  984000.71861039 1296010.14680085\n",
      "  1899532.92646428 1630572.67374411 1258290.00466342 1407941.49350897\n",
      "  1636312.56825335  473960.09782237]\n",
      " [1749470.96768535  147602.51435647 1924130.00345699  615001.45918509\n",
      "  1716670.2652493   708072.56352498  581382.82886235 1925362.67491761\n",
      "  2023350.67463737 1354642.2293526  1203352.13979106 1949550.30547534\n",
      "   473142.06130259 1953650.0041087  1494861.0666133   510450.1587122\n",
      "   776130.04360912 1490760.01776539  312421.45445418 1100850.34654497\n",
      "  1457141.57586062  174250.01281435  475190.29822399 1946680.87315256\n",
      "  1339471.87572937  416150.30480947 2031141.17522005 1985222.35486971\n",
      "  1361201.1378624    88560.16281035]\n",
      " [ 591630.00178619  986052.27121615 1116840.00135716  520292.29530905\n",
      "  1494040.83932348 1133652.64554443  516601.91416397 1036072.98761747\n",
      "  1484200.36899633  205411.76573361 1835160.48464538  330460.69084183\n",
      "  1381701.18128932  368592.2899351   548992.90526082  159901.77073212\n",
      "  1025000.52358725  483800.53262517 1301751.63208295  567440.17104358\n",
      "  1446070.03661359 1473540.37727062  134070.24751871  928650.26339551\n",
      "   826560.16371774  315290.00531551  858950.00095843 1202532.92678656\n",
      "  1665830.54896956 2017610.44312092]\n",
      " [1727741.38576129 1271410.14290428  773262.70727875 1315691.85501545\n",
      "   145140.02398298 1122170.52312111  659692.318547   1745372.67755578\n",
      "   403440.65539252 1383751.1288206  1861810.08370102 1232462.94724574\n",
      "   302170.16101533  836812.66622959 1088551.26612231  296841.10803204\n",
      "  1291500.78854853 1775710.15962569 2041800.09348644 1769150.14584251\n",
      "  1052880.10427768 1659271.82325585 1924950.36776309 1189410.01003733\n",
      "   480112.81747972  560062.34323247 1219342.5821729   894622.96952473\n",
      "   431730.09071867 1781860.47102321]\n",
      " [1613761.72477676 1627291.4533341   317340.07105185 1419011.99675106\n",
      "   552680.15112071  785150.15028297 2040570.86502459 1662141.0547333\n",
      "  1103311.00950003 1172600.02510952 1362842.3098127  1332910.21163015\n",
      "    83640.05032234  441162.36961945  488312.73980936 1780222.22979209\n",
      "  1871241.96594883 1912651.28802616  342350.91033153  776130.02270009\n",
      "   771620.50050208 2030320.41669019  130790.20241608  422301.57000998\n",
      "  1588750.73767823  643290.01970547  385400.14544193  129561.40052761\n",
      "  1245580.01738772  553502.17365963]\n",
      " [ 873710.73551025  496920.69289037  764241.05284095  525212.04029609\n",
      "  2020890.36291374  291921.37911771 1250090.96015797  311190.21391229\n",
      "  1587522.31597196 1961031.90766478 1452631.30067646 1750702.17046783\n",
      "  2049592.25659769  684701.50533432  319802.10177394 1022541.45939932\n",
      "  1372271.38777441 1824091.14804011  770391.69974702 1519460.07546674\n",
      "  1207042.32779988 1457962.28033341 1740450.00256621  591632.04591992\n",
      "  1360380.04982233  959810.33691394 1336191.65841358 1946680.07753123\n",
      "  1295192.00721016 1010652.07734187]\n",
      " [1098390.7725705  1986860.00012234  752350.24717267  802371.14179647\n",
      "  1907322.88817895  930701.197565   1250090.2024937  1414911.20588969\n",
      "  1611300.87475263 1102491.82447652  750710.03433457 1236561.73749041\n",
      "   498150.87890853  634682.7820608  1972510.35062973 1347671.20063138\n",
      "  1245992.60602917  219350.03152473 1964722.63519171  448951.4195603\n",
      "  1535860.0138056   430910.27173721  773671.50452312  873710.01360831\n",
      "  1617861.01676733 1077070.35890527  724881.15660824 1722000.006277\n",
      "  1204582.27872921 1516182.84304232]\n",
      " [1686332.8161729   519061.68593361 1877800.05076729 1084041.72488922\n",
      "  1765870.00181355 1464930.00146835 1709290.31417072 1125860.7163165\n",
      "   390731.78058277  935621.40067772 1219340.59648767 1269360.22461466\n",
      "  1797852.98277181  399750.54489151  748250.61125074 1340290.08031826\n",
      "   252971.89516666  128741.44358509  334560.14621767 1711340.02035991\n",
      "  1421471.3892379   420251.28515479  703560.22401231 1371862.71242454\n",
      "   250920.06845546  380480.56074014 1454682.67123301 1233280.52851306\n",
      "   358751.22314616 1502650.47424392]\n",
      " [1108640.22558193 1298472.90463603 1224260.50266299  542022.39824016\n",
      "  1754390.15863736  726110.13624084  960630.00290799  773671.27400895\n",
      "  1776120.407435   1660912.24134555 1492400.67178285 1626062.81219554\n",
      "  1035660.10325915 1276742.26351862 1702321.80930802  325951.78296147\n",
      "   380482.14097611  641651.73747254 1923721.17645567  368180.05167565\n",
      "   243950.00317386 1792112.54388228 1869601.14077283 1107821.90341497\n",
      "   827790.69559133  375970.04128363 1222620.04701445 1548571.40999929\n",
      "   140630.55548949 1369400.1206305 ]\n",
      " [1923310.7249956  1286580.01236836 1572761.01607214 1403020.21707235\n",
      "   560471.90830156 1154560.28897364  517420.62167615  965960.00040511\n",
      "  1304620.01574565 1432540.46215358 2020890.69102386  555961.08007397\n",
      "   382120.25520118 1857301.44899947  472732.21943161 1122991.82450269\n",
      "  1444840.00470895 1435410.69266078  714220.03303103  570310.17575737\n",
      "  1309132.92050922 1181210.06091494  580970.74666817  713401.14634954\n",
      "  1408761.4803711  1060260.93961995 1606790.00028641  651080.31973096\n",
      "   842960.80407604  641650.02316157]\n",
      " [ 286590.36881773  770800.00330734  291100.01852374 1849920.47264426\n",
      "   624840.05284041  555550.96630784  831071.42608583 1369811.92281719\n",
      "  1511260.12018036  824100.08415125 1280430.0328033   989741.21513039\n",
      "  1798261.49732386  374330.00299305 1558822.62948011 1776940.00810304\n",
      "  1526020.87900517 1831881.50830046 2028682.27576164  591631.52976044\n",
      "  1602691.92830376  525210.3456793   268551.9918199   448540.01925517\n",
      "   649442.40209054  884780.89957223 1341522.00392693  900360.61377549\n",
      "  1838851.24257675  288640.83129928]\n",
      " [ 579741.60566969  709710.01999036 1492400.01092712  419430.18318002\n",
      "   462480.07636351  136532.28001976  945050.14416432 1569072.85693899\n",
      "  2041800.34049632  841320.09950081 1793751.8708712  1284531.3016878\n",
      "  1428440.74459692 1844180.92528602 1234511.55175359  594500.15657471\n",
      "  1521922.97804382  596962.85066513 1466161.26877049 1511260.11945157\n",
      "  1551441.38813139  654360.01563783 1573170.00281873 1447300.19920141\n",
      "  1190230.64206     274702.26169143  636731.58632457 1223031.65483893\n",
      "  1242710.54313373  228370.35901306]\n",
      " [1319790.41300929  355472.92635498 1913880.00482624  551452.25523085\n",
      "  1797851.00459569 1606790.57715046 1207451.57799602  302990.71053998\n",
      "  1221392.28860446 1777762.43379154 1629750.53354562 1110280.22990089\n",
      "  1221391.05263674  460842.49722062 1293960.13313567  730211.16426209\n",
      "  1444841.19660493 1920851.61236411  186550.05193017  835581.53721614\n",
      "   879042.47902037   85690.09685806 1259110.16928049  408772.83082529\n",
      "   498150.09825797  829842.18992166 1914290.72701246 1367760.18336961\n",
      "   981132.27461617  173430.59489031]\n",
      " [1786780.79511072 1691250.38714584 2043441.05477214 1722000.08022017\n",
      "   751530.4588343   964322.81928075  291100.19989861  239441.29390914\n",
      "   247640.31724573 1973331.79478203 1956110.05138375  902002.82165858\n",
      "  1211960.61777484  765880.16715946  680600.01620532 1572760.08645324\n",
      "  1198840.81049487 1794980.34071342  921682.0611429  1781860.55699217\n",
      "  2041800.18557637  375561.1426038  1945041.4986021  1961030.083709\n",
      "   829430.08428861  935210.00403438 1483791.62686378  727341.32190935\n",
      "   184090.6758234   357932.13787124]\n",
      " [1940531.94731319  969651.0279192   397702.26168505 1706420.12711181\n",
      "  1870830.037578    895440.21829456  523570.00977673  178350.8464232\n",
      "   241082.63169067 1327170.00464374  839680.04473249 2016790.61345188\n",
      "  1235742.61636765 1465340.29986405 1425980.77186145  595320.00518491\n",
      "  1714210.06601712 1997932.920317    952022.79436229 1939300.00007321\n",
      "   963502.71783702  626891.22542288  638782.2598465  1099620.62036501\n",
      "  1944220.79751779  908970.71691294  627711.33412381 1863040.05850742\n",
      "  1829010.00269525  638780.28446255]\n",
      " [1983171.48972493 1384570.12223445  954481.36053373  975802.82218813\n",
      "   138170.02645203 1505521.35718083 1243120.59074277 1549392.26101292\n",
      "  1324710.09414614 1789241.43919213 1145132.10731172 1845002.67688807\n",
      "  1647381.4004836  1778580.74154824 1649431.14520564 1739222.26498762\n",
      "   863460.97678645  393600.00277012 1494452.59999642  450591.42634142\n",
      "  1908551.37301108 1290270.13954731  786791.30239019  196800.46538751\n",
      "  1421061.27231317  855670.03408622 1421061.29828133  355062.99648339\n",
      "  1799080.0069732   357112.86460816]\n",
      " [ 889290.49672227 1785962.27463471 1362021.83638114 2008590.96452232\n",
      "  2040571.6359217  1681002.31536877  296430.4899882  1063130.32085207\n",
      "  1359971.33704279 1145131.9578452   888881.74323588  800731.90951985\n",
      "  1023360.56919847 1009012.00655842 1019260.04335065 1804820.88940513\n",
      "  1261980.00009949 1780630.31606788 1576040.40288217 1899120.4708584\n",
      "   924551.45102391 2017200.45293219  605160.6039779  1216060.16928164\n",
      "   205820.4179507   343580.15495445  104550.01607293  297251.09245061\n",
      "  1955291.33952503 1772431.15130487]\n",
      " [ 953250.64448019 1429670.43271172  231242.23603497 1976610.8083377\n",
      "   756860.68884582  458380.00197255 1228770.34935024  709710.43364613\n",
      "  1453450.47717883  863461.00979993 1347260.85419503 1959801.10864581\n",
      "   932751.75513921  374331.98283743  517421.54710226  892162.7390766\n",
      "   613360.00099728  133250.11498706 1981120.00017159 1556361.25767052\n",
      "  1428032.4193766   739230.17785089  109062.57817914  177120.01089647\n",
      "   965962.61951206  561290.37091554  966780.03085855 1806460.7082141\n",
      "   694130.19780262 2016380.24345771]\n",
      " [1724870.28328137 1095521.93455178 1172600.87208465 1204990.29073745\n",
      "   804011.11752198 1522741.53861536  891750.22297154 1050420.51306858\n",
      "   441160.04456866 1644920.09844526 1495681.39176459  619920.09875962\n",
      "   680600.82738974 1192691.5082398  1034840.03426803  792530.96552946\n",
      "   740050.19747339 1132832.7816845  1484610.70144918 1523971.94887197\n",
      "  1064770.90824774 1613350.00565394 1258701.20264199  557602.71550496\n",
      "   181221.08581035 1143902.01321116  517832.34546321 1854840.15606115\n",
      "  1145950.13488904  458791.11989331]\n",
      " [  84050.50683321  273472.11610102 1791702.43012487   83230.37472001\n",
      "   346450.16832299  129971.82766024 1282480.22655507 1127912.03008295\n",
      "  1840490.53866232  428861.3368686  1214420.02738099  549811.16760137\n",
      "   824100.61228211  378431.03232847  173840.08468632 1979071.62894875\n",
      "  1807282.23325639 1990140.14092842  921680.02748383 2029090.00167635\n",
      "  1892151.23638222  726931.10568951  831480.89663418  867970.16139837\n",
      "  1817940.45842249  912661.06020634 1617040.74033194  451412.9271607\n",
      "  2043850.05584742  917991.44967785]\n",
      " [  85690.490421    188600.55006473  767931.54483966  991791.43840347\n",
      "   926602.94776534 1604330.04945528  745790.03251646  213201.57400017\n",
      "   632221.00359428 1056160.22549221 1243120.01892231 1239840.02201201\n",
      "   899542.39873196 1294780.11043921  917580.3137075  1512900.15411937\n",
      "  1589570.37806713  540380.01445901  739640.8082692  1733070.01371438\n",
      "   178351.92171162  889290.16386401 1897890.8748386   864282.3236176\n",
      "   235751.27092405 1529300.85213201 1162350.31557715  725700.33267082\n",
      "  1131601.34463835 1472312.96493921]\n",
      " [1297651.31409334 1575630.93336702 1660501.6015505   439520.64924879\n",
      "   595320.0108513   620740.94853313 1270182.75113856  113570.09219336\n",
      "  1156611.42832025 1815070.12112304  328000.86133392  518650.02803901\n",
      "   957760.60850194 1086091.71534894 1042630.36241789  845831.3263228\n",
      "   622381.89822192 2013512.57897613 1556770.16517072 1624420.4783596\n",
      "  1996700.06969192  979902.95507051  488722.57799238 1193920.87466111\n",
      "   980722.12706021  593680.81419164 1334141.16657733 1967180.02382949\n",
      "  1735531.71130022  900770.0489322 ]\n",
      " [1593672.04716319  963911.83470379 1729381.50695714 1357100.00392272\n",
      "   889700.2756604   162770.20768467 1158660.3890947   574820.02304375\n",
      "   916352.63366989  277570.92009077  596140.28003531  460020.47278297\n",
      "   253790.59997034  985641.08214066 1146770.79777582  541202.5358448\n",
      "  1339880.74091811  471502.95313258 1039762.17477338 1001630.1304299\n",
      "  1166452.59802236  843370.04062342 1972922.00467208  846650.43462227\n",
      "  1275922.31251672 1251732.26056725 1405481.94854725 1606791.87244427\n",
      "  1405480.27848813 1054110.01964379]]\n"
     ]
    }
   ],
   "source": [
    "z=a*x*82+b*y**2\n",
    "print(z)"
   ]
  },
  {
   "cell_type": "code",
   "execution_count": 151,
   "id": "f3d55e5c",
   "metadata": {},
   "outputs": [
    {
     "name": "stdout",
     "output_type": "stream",
     "text": [
      "[[ 3.00362919e+11  6.32135979e+09 -1.61004164e+10 ...  9.44369083e+02\n",
      "   3.64897992e+03 -1.24160786e+04]\n",
      " [ 6.32135979e+09  2.27885716e+11 -5.61691181e+09 ...  2.28505791e+04\n",
      "   6.14091407e+03 -5.36936437e+04]\n",
      " [-1.61004164e+10 -5.61691181e+09  4.03009204e+11 ...  3.88746694e+04\n",
      "  -3.21861726e+04  1.38294242e+04]\n",
      " ...\n",
      " [ 9.44369083e+02  2.28505791e+04  3.88746694e+04 ...  8.47139215e-02\n",
      "  -2.59104261e-02 -8.79408363e-03]\n",
      " [ 3.64897992e+03  6.14091407e+03 -3.21861726e+04 ... -2.59104261e-02\n",
      "   8.21894367e-02  1.81837009e-02]\n",
      " [-1.24160786e+04 -5.36936437e+04  1.38294242e+04 ... -8.79408363e-03\n",
      "   1.81837009e-02  9.12709984e-02]]\n"
     ]
    }
   ],
   "source": [
    "print(np.cov(z,y))"
   ]
  },
  {
   "cell_type": "code",
   "execution_count": 152,
   "id": "0f83525d",
   "metadata": {},
   "outputs": [
    {
     "data": {
      "text/plain": [
       "1089043.928016484"
      ]
     },
     "execution_count": 152,
     "metadata": {},
     "output_type": "execute_result"
    }
   ],
   "source": [
    "np.mean(z)"
   ]
  },
  {
   "cell_type": "code",
   "execution_count": 153,
   "id": "8be43d00",
   "metadata": {},
   "outputs": [
    {
     "data": {
      "text/plain": [
       "(30, 30)"
      ]
     },
     "execution_count": 153,
     "metadata": {},
     "output_type": "execute_result"
    }
   ],
   "source": [
    "z.shape"
   ]
  },
  {
   "cell_type": "code",
   "execution_count": 1,
   "id": "dca98481",
   "metadata": {},
   "outputs": [],
   "source": [
    "import numpy as np"
   ]
  },
  {
   "cell_type": "code",
   "execution_count": 2,
   "id": "a751a315",
   "metadata": {},
   "outputs": [],
   "source": [
    "np.random.seed(18)\n",
    "a=5\n",
    "b=3\n",
    "x=np.random.randint(1,150000,90000).reshape(300,300)\n",
    "y=np.random.rand(300,300)"
   ]
  },
  {
   "cell_type": "code",
   "execution_count": 3,
   "id": "dd465e6b",
   "metadata": {},
   "outputs": [
    {
     "name": "stdout",
     "output_type": "stream",
     "text": [
      "CPU times: total: 15.6 ms\n",
      "Wall time: 41 ms\n"
     ]
    },
    {
     "data": {
      "text/plain": [
       "(300, 300)"
      ]
     },
     "execution_count": 3,
     "metadata": {},
     "output_type": "execute_result"
    }
   ],
   "source": [
    "%%time\n",
    "z=np.dot(x,y)\n",
    "z.shape"
   ]
  },
  {
   "cell_type": "code",
   "execution_count": 8,
   "id": "7e9a935b",
   "metadata": {},
   "outputs": [
    {
     "name": "stdout",
     "output_type": "stream",
     "text": [
      "CPU times: total: 93.8 ms\n",
      "Wall time: 93 ms\n"
     ]
    }
   ],
   "source": [
    "%%time\n",
    "l1=[x for x in range(900000)]\n",
    "l2=[x for x in range(900000)]\n",
    "l3=l1+l2"
   ]
  },
  {
   "cell_type": "code",
   "execution_count": null,
   "id": "86d020ea",
   "metadata": {},
   "outputs": [],
   "source": []
  },
  {
   "cell_type": "code",
   "execution_count": null,
   "id": "3883eea8",
   "metadata": {},
   "outputs": [],
   "source": []
  },
  {
   "cell_type": "code",
   "execution_count": null,
   "id": "27a101ec",
   "metadata": {},
   "outputs": [],
   "source": []
  },
  {
   "cell_type": "code",
   "execution_count": null,
   "id": "de566936",
   "metadata": {},
   "outputs": [],
   "source": []
  },
  {
   "cell_type": "code",
   "execution_count": null,
   "id": "3130684f",
   "metadata": {},
   "outputs": [],
   "source": []
  },
  {
   "cell_type": "code",
   "execution_count": null,
   "id": "b1cdad3c",
   "metadata": {},
   "outputs": [],
   "source": []
  },
  {
   "cell_type": "code",
   "execution_count": null,
   "id": "2ea6f2e7",
   "metadata": {},
   "outputs": [],
   "source": []
  },
  {
   "cell_type": "code",
   "execution_count": null,
   "id": "4faf8ea0",
   "metadata": {},
   "outputs": [],
   "source": [
    "\n"
   ]
  }
 ],
 "metadata": {
  "kernelspec": {
   "display_name": "Python 3 (ipykernel)",
   "language": "python",
   "name": "python3"
  },
  "language_info": {
   "codemirror_mode": {
    "name": "ipython",
    "version": 3
   },
   "file_extension": ".py",
   "mimetype": "text/x-python",
   "name": "python",
   "nbconvert_exporter": "python",
   "pygments_lexer": "ipython3",
   "version": "3.9.12"
  }
 },
 "nbformat": 4,
 "nbformat_minor": 5
}
