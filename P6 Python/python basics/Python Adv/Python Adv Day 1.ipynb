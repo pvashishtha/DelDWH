{
 "cells": [
  {
   "cell_type": "markdown",
   "id": "522ae731",
   "metadata": {},
   "source": [
    "## Python Adv Day 1"
   ]
  },
  {
   "cell_type": "markdown",
   "id": "171178a0",
   "metadata": {},
   "source": [
    "### Python OOP- Classes & Objects"
   ]
  },
  {
   "cell_type": "code",
   "execution_count": 1,
   "id": "a6f91fdb",
   "metadata": {},
   "outputs": [],
   "source": [
    "# Student as any object"
   ]
  },
  {
   "cell_type": "code",
   "execution_count": 3,
   "id": "c53ee9f6",
   "metadata": {},
   "outputs": [],
   "source": [
    "class Student:\n",
    "    name=''\n",
    "    rollno=0\n",
    "    course=''\n",
    "        \n",
    "    def enroll_student(self, rollno, name, course):\n",
    "        self.rollno=rollno\n",
    "        self.name=name\n",
    "        self.course=course\n",
    "    def modify_student_details(self, rollno, name, course):\n",
    "        if self.rollno:\n",
    "            self.name=name\n",
    "            self.course=course\n",
    "        else:\n",
    "            print('Student does not exist')\n",
    "    def remove_dropout_student(self, rollno):\n",
    "        if self.rollno:\n",
    "            del self.name\n",
    "            del self.course\n",
    "            self.rollno=0\n",
    "        else:\n",
    "            print('Student does not exist')\n",
    "    "
   ]
  },
  {
   "cell_type": "code",
   "execution_count": 5,
   "id": "a3415d8d",
   "metadata": {},
   "outputs": [],
   "source": [
    "devika=Student()\n",
    "arvind=Student()"
   ]
  },
  {
   "cell_type": "code",
   "execution_count": 8,
   "id": "360ed755",
   "metadata": {},
   "outputs": [],
   "source": [
    "arvind.enroll_student(101, 'Arvind', 'JAVA')"
   ]
  },
  {
   "cell_type": "code",
   "execution_count": 9,
   "id": "e6d30063",
   "metadata": {},
   "outputs": [
    {
     "data": {
      "text/plain": [
       "101"
      ]
     },
     "execution_count": 9,
     "metadata": {},
     "output_type": "execute_result"
    }
   ],
   "source": [
    "arvind.rollno"
   ]
  },
  {
   "cell_type": "code",
   "execution_count": 10,
   "id": "6aa38721",
   "metadata": {},
   "outputs": [],
   "source": [
    "devika.enroll_student(102, 'Devika', 'Python')"
   ]
  },
  {
   "cell_type": "code",
   "execution_count": 11,
   "id": "e4d4f609",
   "metadata": {},
   "outputs": [
    {
     "data": {
      "text/plain": [
       "'Python'"
      ]
     },
     "execution_count": 11,
     "metadata": {},
     "output_type": "execute_result"
    }
   ],
   "source": [
    "devika.course"
   ]
  },
  {
   "cell_type": "code",
   "execution_count": 12,
   "id": "a848cd83",
   "metadata": {},
   "outputs": [
    {
     "data": {
      "text/plain": [
       "'C/C++'"
      ]
     },
     "execution_count": 12,
     "metadata": {},
     "output_type": "execute_result"
    }
   ],
   "source": [
    "devika.modify_student_details(102, 'Devika', 'C/C++')\n",
    "devika.course"
   ]
  },
  {
   "cell_type": "code",
   "execution_count": 15,
   "id": "819835ac",
   "metadata": {},
   "outputs": [],
   "source": [
    "devika.remove_dropout_student(102)"
   ]
  },
  {
   "cell_type": "code",
   "execution_count": 18,
   "id": "22143d85",
   "metadata": {},
   "outputs": [
    {
     "data": {
      "text/plain": [
       "0"
      ]
     },
     "execution_count": 18,
     "metadata": {},
     "output_type": "execute_result"
    }
   ],
   "source": [
    "devika.rollno"
   ]
  },
  {
   "cell_type": "code",
   "execution_count": null,
   "id": "8e7b3f30",
   "metadata": {},
   "outputs": [],
   "source": [
    "# Think of features and behaviors for RoboCar\n",
    "class RoboCar:\n",
    "    \n",
    "    def park():\n",
    "        pass\n",
    "    def apply_brakes():\n",
    "        pass\n",
    "    def move_forward():\n",
    "        pass\n",
    "    def move_backward():\n",
    "        pass\n",
    "    def turn_right():\n",
    "        pass\n",
    "    def turn_left():\n",
    "        pass\n",
    "    def identify_objects():\n",
    "        pass\n",
    "    def identify_symbols():\n",
    "        pass"
   ]
  },
  {
   "cell_type": "code",
   "execution_count": 19,
   "id": "f65b5e1a",
   "metadata": {},
   "outputs": [],
   "source": [
    "# Ques. Create a class based implementation for an Employee (HR Scenario)"
   ]
  },
  {
   "cell_type": "code",
   "execution_count": 60,
   "id": "4c36f107",
   "metadata": {},
   "outputs": [],
   "source": [
    "class Employee:\n",
    "    def __init__(self, eid, name, dept): # constructor function\n",
    "        self.eid=eid\n",
    "        self.name=name\n",
    "        self.dept=dept\n",
    "        return None\n",
    "    def __str__(self):\n",
    "        return 'This is class Employee object.'\n",
    "    def __repr__(self):\n",
    "        return 'This is also string rep of object'\n",
    "    def display_employee(self):\n",
    "        print('Employee ID: ', self.eid)\n",
    "        print('Full Name: ', self.name)\n",
    "        print('Department: ',self.dept)\n",
    "        return None\n",
    "    def __del__(self): # destructor function\n",
    "        print('Object removed from memory...')\n",
    "        "
   ]
  },
  {
   "cell_type": "code",
   "execution_count": 61,
   "id": "b6a967c8",
   "metadata": {},
   "outputs": [
    {
     "name": "stdout",
     "output_type": "stream",
     "text": [
      "Object removed from memory...\n"
     ]
    }
   ],
   "source": [
    "emp1=Employee(700, 'Prateek','IT')\n",
    "emp2=Employee(800,'Raj','DC')"
   ]
  },
  {
   "cell_type": "code",
   "execution_count": 62,
   "id": "01a9948d",
   "metadata": {},
   "outputs": [],
   "source": [
    "# Constructor:\n",
    "# 1. always named as __init__()\n",
    "# 2. called automatically while creating object\n",
    "# 3. it is special method in class\n",
    "# 4. used for initialization only"
   ]
  },
  {
   "cell_type": "code",
   "execution_count": 63,
   "id": "863f746b",
   "metadata": {},
   "outputs": [],
   "source": [
    "# desctructor is also called automatically when either object goes out \n",
    "# of scope, removed automatically by memory manager or \n",
    "# deleted explicitly"
   ]
  },
  {
   "cell_type": "code",
   "execution_count": 64,
   "id": "b40d495b",
   "metadata": {},
   "outputs": [
    {
     "name": "stdout",
     "output_type": "stream",
     "text": [
      "Employee ID:  700\n",
      "Full Name:  Prateek\n",
      "Department:  IT\n"
     ]
    }
   ],
   "source": [
    "emp1.display_employee()"
   ]
  },
  {
   "cell_type": "code",
   "execution_count": 65,
   "id": "5685062a",
   "metadata": {},
   "outputs": [
    {
     "name": "stdout",
     "output_type": "stream",
     "text": [
      "Employee ID:  800\n",
      "Full Name:  Raj\n",
      "Department:  DC\n"
     ]
    }
   ],
   "source": [
    "emp2.display_employee()"
   ]
  },
  {
   "cell_type": "code",
   "execution_count": 66,
   "id": "44767b9d",
   "metadata": {},
   "outputs": [
    {
     "name": "stdout",
     "output_type": "stream",
     "text": [
      "Object removed from memory...\n"
     ]
    }
   ],
   "source": [
    "del emp1"
   ]
  },
  {
   "cell_type": "code",
   "execution_count": 67,
   "id": "ce3525f9",
   "metadata": {},
   "outputs": [
    {
     "name": "stdout",
     "output_type": "stream",
     "text": [
      "This is class Employee object.\n"
     ]
    }
   ],
   "source": [
    "print(emp2) # string representation from __str__"
   ]
  },
  {
   "cell_type": "code",
   "execution_count": 68,
   "id": "06efdd01",
   "metadata": {},
   "outputs": [
    {
     "data": {
      "text/plain": [
       "'This is class Employee object.'"
      ]
     },
     "execution_count": 68,
     "metadata": {},
     "output_type": "execute_result"
    }
   ],
   "source": [
    "str(emp2)"
   ]
  },
  {
   "cell_type": "code",
   "execution_count": 69,
   "id": "3582c05f",
   "metadata": {},
   "outputs": [
    {
     "data": {
      "text/plain": [
       "'This is also string rep of object'"
      ]
     },
     "execution_count": 69,
     "metadata": {},
     "output_type": "execute_result"
    }
   ],
   "source": [
    "repr(emp2)"
   ]
  },
  {
   "cell_type": "markdown",
   "id": "732118cf",
   "metadata": {},
   "source": [
    "#### Other Special Functions"
   ]
  },
  {
   "cell_type": "code",
   "execution_count": 119,
   "id": "95f5c45f",
   "metadata": {},
   "outputs": [],
   "source": [
    "class Sample:\n",
    "    def __init__(self, x):\n",
    "        self.x=x\n",
    "    def __add__(self, obj_reference):\n",
    "        return self.x + obj_reference.x  \n",
    "    def __sub__(self, obj_reference):\n",
    "        return self.x - obj_reference.x\n",
    "    def __mul__(self, obj_reference):\n",
    "        return self.x * obj_reference.x  \n",
    "    def __truediv__(self, obj_reference):\n",
    "        return self.x / obj_reference.x  \n",
    "    def __floordiv__(self, obj_reference):\n",
    "        return self.x // obj_reference.x  "
   ]
  },
  {
   "cell_type": "code",
   "execution_count": 120,
   "id": "176be44c",
   "metadata": {},
   "outputs": [],
   "source": [
    "ob1=Sample(100)\n",
    "ob2=Sample(20)"
   ]
  },
  {
   "cell_type": "code",
   "execution_count": 121,
   "id": "a65c4554",
   "metadata": {},
   "outputs": [
    {
     "name": "stdout",
     "output_type": "stream",
     "text": [
      "100 20\n"
     ]
    }
   ],
   "source": [
    "print(ob1.x, ob2.x)"
   ]
  },
  {
   "cell_type": "code",
   "execution_count": 122,
   "id": "6bd8848b",
   "metadata": {},
   "outputs": [
    {
     "name": "stdout",
     "output_type": "stream",
     "text": [
      "120\n",
      "80\n",
      "2000\n",
      "5.0\n",
      "5\n"
     ]
    }
   ],
   "source": [
    "print(ob1+ob2)\n",
    "print(ob1-ob2)\n",
    "print(ob1*ob2)\n",
    "print(ob1/ob2)\n",
    "print(ob1//ob2)"
   ]
  },
  {
   "cell_type": "code",
   "execution_count": 131,
   "id": "4c4f974f",
   "metadata": {},
   "outputs": [],
   "source": [
    "class Sample:\n",
    "    def __init__(self, x):\n",
    "        self.x=x\n",
    "    def __lt__(self, obj_reference):\n",
    "        return self.x<obj_reference.x\n",
    "    def __gt__(self, obj_reference):\n",
    "        return self.x>obj_reference.x\n",
    "    def __le__(self, obj_reference):\n",
    "        return self.x<=obj_reference.x\n",
    "    def __ge__(self, obj_reference):\n",
    "        return self.x>=obj_reference.x\n",
    "    def __eq__(self, obj_reference):\n",
    "        return self.x==obj_reference.x"
   ]
  },
  {
   "cell_type": "code",
   "execution_count": 132,
   "id": "ded6b152",
   "metadata": {},
   "outputs": [
    {
     "name": "stdout",
     "output_type": "stream",
     "text": [
      "False\n",
      "True\n",
      "False\n",
      "True\n",
      "False\n"
     ]
    }
   ],
   "source": [
    "ob1=Sample(100)\n",
    "ob2=Sample(20)\n",
    "print(ob1<ob2)\n",
    "print(ob1>ob2)\n",
    "print(ob1<=ob2)\n",
    "print(ob1>=ob2)\n",
    "print(ob1==ob2)\n"
   ]
  },
  {
   "cell_type": "markdown",
   "id": "c0bb60f9",
   "metadata": {},
   "source": [
    "#### ceating new instance"
   ]
  },
  {
   "cell_type": "code",
   "execution_count": 139,
   "id": "d80b2910",
   "metadata": {},
   "outputs": [
    {
     "name": "stdout",
     "output_type": "stream",
     "text": [
      "This is inside __new__\n",
      "This is from __init__\n"
     ]
    }
   ],
   "source": [
    "class Employee:\n",
    "    \n",
    "    def __new__(cls):\n",
    "        print('This is inside __new__')\n",
    "        return object.__new__(cls)\n",
    "    \n",
    "    def __init__(self):\n",
    "        print('This is from __init__')\n",
    "        self.name='Prateek'\n",
    "        return None\n",
    "    def __del__(self):\n",
    "        return 'Deleted'\n",
    "    \n",
    "obj=Employee()"
   ]
  },
  {
   "cell_type": "code",
   "execution_count": 140,
   "id": "1b8662a7",
   "metadata": {},
   "outputs": [
    {
     "data": {
      "text/plain": [
       "'Prateek'"
      ]
     },
     "execution_count": 140,
     "metadata": {},
     "output_type": "execute_result"
    }
   ],
   "source": [
    "obj.name"
   ]
  },
  {
   "cell_type": "code",
   "execution_count": 141,
   "id": "48388d54",
   "metadata": {},
   "outputs": [],
   "source": [
    "del obj"
   ]
  },
  {
   "cell_type": "markdown",
   "id": "ce43dc99",
   "metadata": {},
   "source": [
    "## Inheritance"
   ]
  },
  {
   "cell_type": "code",
   "execution_count": 164,
   "id": "952e0755",
   "metadata": {},
   "outputs": [],
   "source": [
    "# Single Inheritance\n",
    "\n",
    "class A:\n",
    "    def __init__(self, x):\n",
    "        self.x=x\n",
    "    def display_x(self):\n",
    "        print('X= ',self.x)\n",
    "        return None\n",
    "        \n",
    "class B(A):\n",
    "    def __init__(self, x, y):\n",
    "        A.__init__(self, x)\n",
    "        self.y=y\n",
    "    def display_y(self):\n",
    "        print('Y= ',self.y)\n",
    "        return None"
   ]
  },
  {
   "cell_type": "code",
   "execution_count": 165,
   "id": "9a6e7dc9",
   "metadata": {},
   "outputs": [],
   "source": [
    "obj_a=A(100)\n",
    "obj_b=B(200,50)"
   ]
  },
  {
   "cell_type": "code",
   "execution_count": 166,
   "id": "20ea341f",
   "metadata": {},
   "outputs": [
    {
     "name": "stdout",
     "output_type": "stream",
     "text": [
      "X=  200\n"
     ]
    }
   ],
   "source": [
    "obj_b.display_x()"
   ]
  },
  {
   "cell_type": "code",
   "execution_count": 168,
   "id": "5a86304e",
   "metadata": {},
   "outputs": [
    {
     "name": "stdout",
     "output_type": "stream",
     "text": [
      "Y=  50\n"
     ]
    }
   ],
   "source": [
    "obj_b.display_y()"
   ]
  },
  {
   "cell_type": "code",
   "execution_count": 170,
   "id": "87c15e27",
   "metadata": {},
   "outputs": [
    {
     "data": {
      "text/plain": [
       "50"
      ]
     },
     "execution_count": 170,
     "metadata": {},
     "output_type": "execute_result"
    }
   ],
   "source": [
    "obj_b.y"
   ]
  },
  {
   "cell_type": "code",
   "execution_count": 181,
   "id": "093d6714",
   "metadata": {},
   "outputs": [],
   "source": [
    "# Example:\n",
    "\n",
    "class Client:\n",
    "    def __init__(self, cname, cid, ctype):\n",
    "        self.cname=cname\n",
    "        self.cid=cid\n",
    "        self.ctype=ctype\n",
    "        return None\n",
    "    def disp_client_basic(self):\n",
    "        print('Client ID: ', self.cid)\n",
    "        print('Client Name: ', self.cname)\n",
    "        print('Client Type: ', self.ctype)\n",
    "        \n",
    "class SoftClient(Client):\n",
    "    def __init__(self, cname, cid, ctype, cloc, cemail):\n",
    "        Client.__init__(self, cname, cid, ctype)\n",
    "        self.cloc=cloc\n",
    "        self.cemail=cemail\n",
    "    def disp_client_full_details(self):\n",
    "        self.disp_client_basic()\n",
    "        print('Client Location: ', self.cloc)\n",
    "        print('Client Email: ',self.cemail)"
   ]
  },
  {
   "cell_type": "code",
   "execution_count": 182,
   "id": "16ec07e2",
   "metadata": {},
   "outputs": [
    {
     "name": "stdout",
     "output_type": "stream",
     "text": [
      "Client ID:  100\n",
      "Client Name:  IBM\n",
      "Client Type:  Hardware Support\n"
     ]
    }
   ],
   "source": [
    "c1=Client('IBM', 100, 'Hardware Support')\n",
    "c1.disp_client_basic()"
   ]
  },
  {
   "cell_type": "code",
   "execution_count": 183,
   "id": "cda9d1b4",
   "metadata": {},
   "outputs": [
    {
     "name": "stdout",
     "output_type": "stream",
     "text": [
      "Client ID:  200\n",
      "Client Name:  Microsoft\n",
      "Client Type:  Software Product\n"
     ]
    }
   ],
   "source": [
    "sc1=SoftClient('Microsoft', 200, 'Software Product','US','ms@exchange.com')\n",
    "sc1.disp_client_basic()"
   ]
  },
  {
   "cell_type": "code",
   "execution_count": 184,
   "id": "6a57d0bb",
   "metadata": {},
   "outputs": [
    {
     "name": "stdout",
     "output_type": "stream",
     "text": [
      "Client ID:  200\n",
      "Client Name:  Microsoft\n",
      "Client Type:  Software Product\n",
      "Client Location:  US\n",
      "Client Email:  ms@exchange.com\n"
     ]
    }
   ],
   "source": [
    "sc1.disp_client_full_details()"
   ]
  },
  {
   "cell_type": "code",
   "execution_count": 185,
   "id": "96e1a579",
   "metadata": {},
   "outputs": [
    {
     "name": "stdout",
     "output_type": "stream",
     "text": [
      "True\n"
     ]
    }
   ],
   "source": [
    "# checking instance\n",
    "\n",
    "print(isinstance(c1, Client))"
   ]
  },
  {
   "cell_type": "code",
   "execution_count": 186,
   "id": "35867860",
   "metadata": {},
   "outputs": [
    {
     "name": "stdout",
     "output_type": "stream",
     "text": [
      "False\n"
     ]
    }
   ],
   "source": [
    "print(isinstance(c1, SoftClient))\n"
   ]
  },
  {
   "cell_type": "code",
   "execution_count": 187,
   "id": "19dd1520",
   "metadata": {},
   "outputs": [
    {
     "name": "stdout",
     "output_type": "stream",
     "text": [
      "True\n"
     ]
    }
   ],
   "source": [
    "print(isinstance(sc1, Client))"
   ]
  },
  {
   "cell_type": "code",
   "execution_count": 188,
   "id": "5c64f087",
   "metadata": {},
   "outputs": [
    {
     "name": "stdout",
     "output_type": "stream",
     "text": [
      "True\n"
     ]
    }
   ],
   "source": [
    "print(isinstance(sc1, SoftClient))"
   ]
  },
  {
   "cell_type": "code",
   "execution_count": 192,
   "id": "c97171cc",
   "metadata": {},
   "outputs": [],
   "source": [
    "## Multi Level Inheritance\n",
    "class A:\n",
    "    def __init__(self, x):\n",
    "        self.x=x\n",
    "    def dispx(self):\n",
    "        print('X= ',self.x)\n",
    "        \n",
    "class B(A):\n",
    "    def __init__(self, x, y):\n",
    "        A.__init__(self, x)\n",
    "        self.y=y\n",
    "    def dispy(self):\n",
    "        self.dispx()\n",
    "        print('Y= ',self.y)\n",
    "        \n",
    "class C(B):\n",
    "    def __init__(self, x, y, z):\n",
    "        B.__init__(self, x, y)\n",
    "        self.z=z\n",
    "    def dispz(self):\n",
    "        self.dispy()\n",
    "        print('Z= ',self.z)"
   ]
  },
  {
   "cell_type": "code",
   "execution_count": 193,
   "id": "038d2e3d",
   "metadata": {},
   "outputs": [
    {
     "name": "stdout",
     "output_type": "stream",
     "text": [
      "X=  50\n"
     ]
    }
   ],
   "source": [
    "a=A(50)\n",
    "a.dispx()"
   ]
  },
  {
   "cell_type": "code",
   "execution_count": 194,
   "id": "ba5b4422",
   "metadata": {},
   "outputs": [
    {
     "name": "stdout",
     "output_type": "stream",
     "text": [
      "X=  300\n",
      "X=  300\n",
      "Y=  900\n"
     ]
    }
   ],
   "source": [
    "b=B(300,900)\n",
    "b.dispx()\n",
    "b.dispy()"
   ]
  },
  {
   "cell_type": "code",
   "execution_count": 195,
   "id": "1fa8eb95",
   "metadata": {},
   "outputs": [
    {
     "name": "stdout",
     "output_type": "stream",
     "text": [
      "X=  15\n",
      "X=  15\n",
      "Y=  35\n",
      "X=  15\n",
      "Y=  35\n",
      "Z=  75\n"
     ]
    }
   ],
   "source": [
    "c=C(15,35,75)\n",
    "c.dispx()\n",
    "c.dispy()\n",
    "c.dispz()"
   ]
  },
  {
   "cell_type": "code",
   "execution_count": 196,
   "id": "db2176d8",
   "metadata": {},
   "outputs": [],
   "source": [
    "# Example\n",
    "class Vehicle:\n",
    "    def dispv(self):\n",
    "        print('Vehicle Moves')\n",
    "class Car(Vehicle):\n",
    "    def dispc(self):\n",
    "        print('Car has 4 wheels')\n",
    "class BMW(Car):\n",
    "    def dispbmw(self):\n",
    "        print('BMW supports bi-fuel tech')"
   ]
  },
  {
   "cell_type": "code",
   "execution_count": 197,
   "id": "761eeeb0",
   "metadata": {},
   "outputs": [
    {
     "name": "stdout",
     "output_type": "stream",
     "text": [
      "Vehicle Moves\n"
     ]
    }
   ],
   "source": [
    "v=Vehicle()\n",
    "v.dispv()"
   ]
  },
  {
   "cell_type": "code",
   "execution_count": 198,
   "id": "42adc7fc",
   "metadata": {},
   "outputs": [
    {
     "name": "stdout",
     "output_type": "stream",
     "text": [
      "Vehicle Moves\n",
      "Car has 4 wheels\n"
     ]
    }
   ],
   "source": [
    "c=Car()\n",
    "c.dispv()\n",
    "c.dispc()"
   ]
  },
  {
   "cell_type": "code",
   "execution_count": 199,
   "id": "61149862",
   "metadata": {},
   "outputs": [
    {
     "name": "stdout",
     "output_type": "stream",
     "text": [
      "Vehicle Moves\n",
      "Car has 4 wheels\n",
      "BMW supports bi-fuel tech\n"
     ]
    }
   ],
   "source": [
    "bmw=BMW()\n",
    "bmw.dispv()\n",
    "bmw.dispc()\n",
    "bmw.dispbmw()"
   ]
  },
  {
   "cell_type": "code",
   "execution_count": 200,
   "id": "8439674a",
   "metadata": {},
   "outputs": [],
   "source": [
    "# Hierarchical Inheritance\n",
    "\n",
    "class A:\n",
    "    def dispA(self):\n",
    "        print('Class A')\n",
    "class B(A):\n",
    "    def dispB(self):\n",
    "        self.dispA()\n",
    "        print('Class B')\n",
    "class C(A):\n",
    "    def dispC(self):\n",
    "        self.dispA()\n",
    "        print('Class C')"
   ]
  },
  {
   "cell_type": "code",
   "execution_count": 201,
   "id": "b743f0d1",
   "metadata": {},
   "outputs": [
    {
     "name": "stdout",
     "output_type": "stream",
     "text": [
      "Class A\n",
      "Class B\n"
     ]
    }
   ],
   "source": [
    "b=B()\n",
    "b.dispB()"
   ]
  },
  {
   "cell_type": "code",
   "execution_count": 202,
   "id": "7af04c29",
   "metadata": {},
   "outputs": [
    {
     "name": "stdout",
     "output_type": "stream",
     "text": [
      "Class A\n",
      "Class C\n"
     ]
    }
   ],
   "source": [
    "c=C()\n",
    "c.dispC()"
   ]
  },
  {
   "cell_type": "code",
   "execution_count": 203,
   "id": "e0019ee8",
   "metadata": {},
   "outputs": [],
   "source": [
    "# Example:\n",
    "\n",
    "class iphone14:\n",
    "    def disp(self):\n",
    "        print('This is iphone 14 series')\n",
    "class iphone14pro(iphone14):\n",
    "    def disppro(self):\n",
    "        self.disp()\n",
    "        print('This has 3 cameras')\n",
    "class iphone14plus(iphone14):\n",
    "    def dispplus(self):\n",
    "        self.disp()\n",
    "        print('This has bigger screen')"
   ]
  },
  {
   "cell_type": "code",
   "execution_count": 204,
   "id": "5a8abf45",
   "metadata": {},
   "outputs": [
    {
     "name": "stdout",
     "output_type": "stream",
     "text": [
      "This is iphone 14 series\n",
      "This has 3 cameras\n"
     ]
    }
   ],
   "source": [
    "pro=iphone14pro()\n",
    "pro.disppro()"
   ]
  },
  {
   "cell_type": "code",
   "execution_count": 205,
   "id": "4c856963",
   "metadata": {},
   "outputs": [
    {
     "name": "stdout",
     "output_type": "stream",
     "text": [
      "This is iphone 14 series\n",
      "This has bigger screen\n"
     ]
    }
   ],
   "source": [
    "plus=iphone14plus()\n",
    "plus.dispplus()"
   ]
  },
  {
   "cell_type": "code",
   "execution_count": 218,
   "id": "3d0fa5d0",
   "metadata": {},
   "outputs": [],
   "source": [
    "# Multiple Inheritance\n",
    "class EmpPersonal:\n",
    "    def __init__(self, name, dob, city):\n",
    "        self.name=name\n",
    "        self.dob=dob\n",
    "        self.city=city\n",
    "    def disp_personal(self):\n",
    "        personal_data='''Name: {0}\\nDOB: {1}\\nCity: {2}\n",
    "        '''.format(self.name, self.dob, self.city)\n",
    "        print(personal_data)\n",
    "    \n",
    "class EmpDept:\n",
    "    def __init__(self, dept, job, salary):\n",
    "        self.dept=dept\n",
    "        self.job=job\n",
    "        self.salary=salary\n",
    "    def disp_department(self):\n",
    "        department_data='''Department: {0}\\nJob: {1}\\nSalary: {2}\n",
    "        '''.format(self.dept,self.job,self.salary)\n",
    "        print(department_data)\n",
    "\n",
    "class EmployeeData(EmpPersonal, EmpDept):\n",
    "    def __init__(self, name, dob, city, dept, job, salary):\n",
    "        EmpPersonal.__init__(self, name, dob, city)\n",
    "        EmpDept.__init__(self, dept, job, salary)\n",
    "    def display(self):\n",
    "        self.disp_personal()\n",
    "        self.disp_department()\n",
    "        print('New Salary: ', self.salary*1.2)"
   ]
  },
  {
   "cell_type": "code",
   "execution_count": 219,
   "id": "630c0b45",
   "metadata": {},
   "outputs": [],
   "source": [
    "emp1=EmployeeData('Prateek','18-11','Delhi','IT','Manager',20000)\n",
    "emp2=EmployeeData('Srinivas','15-08','Chennai','HR','VP',50000)"
   ]
  },
  {
   "cell_type": "code",
   "execution_count": 220,
   "id": "895a76e9",
   "metadata": {},
   "outputs": [
    {
     "name": "stdout",
     "output_type": "stream",
     "text": [
      "Name: Prateek\n",
      "DOB: 18-11\n",
      "City: Delhi\n",
      "        \n",
      "Department: IT\n",
      "Job: Manager\n",
      "Salary: 20000\n",
      "        \n",
      "New Salary:  24000.0\n"
     ]
    }
   ],
   "source": [
    "emp1.display()"
   ]
  },
  {
   "cell_type": "code",
   "execution_count": 221,
   "id": "aa36e68c",
   "metadata": {},
   "outputs": [
    {
     "name": "stdout",
     "output_type": "stream",
     "text": [
      "Name: Srinivas\n",
      "DOB: 15-08\n",
      "City: Chennai\n",
      "        \n",
      "Department: HR\n",
      "Job: VP\n",
      "Salary: 50000\n",
      "        \n",
      "New Salary:  60000.0\n"
     ]
    }
   ],
   "source": [
    "emp2.display()"
   ]
  },
  {
   "cell_type": "code",
   "execution_count": null,
   "id": "83cbd404",
   "metadata": {},
   "outputs": [],
   "source": [
    "# create a class that accepts multiple employee data from user,\n",
    "# calculates commission and updates salary\n",
    "# displays full information when required for specific user\n",
    "# display details of all employees\n"
   ]
  },
  {
   "cell_type": "code",
   "execution_count": 229,
   "id": "d7fbe437",
   "metadata": {},
   "outputs": [],
   "source": [
    "class Emp:\n",
    "    def __init__(self):\n",
    "        self.eid=input('Emp ID: ')\n",
    "        self.name=input('Emp Name: ')\n",
    "        self.dept=input('Emp Dept: ')\n",
    "        self.salary=float(input('Emp Salary: '))\n",
    "        self.comm=0\n",
    "    def calc(self):\n",
    "        self.salary=self.salary*1.3\n",
    "        self.comm=self.salary*0.01\n",
    "    def display(self):\n",
    "        print('EID: {0}\\nName: {1}\\nDept: {2}'.format(self.eid, self.name, self.dept))\n",
    "        print('New Salary: {0}\\nCommission: {1}'.format(self.salary, self.comm))\n",
    "        "
   ]
  },
  {
   "cell_type": "code",
   "execution_count": 230,
   "id": "e9d98381",
   "metadata": {},
   "outputs": [
    {
     "name": "stdout",
     "output_type": "stream",
     "text": [
      "Do you wish to enter details: yes\n",
      "Emp ID: 101\n",
      "Emp Name: prateek\n",
      "Emp Dept: IT\n",
      "Emp Salary: 24000\n",
      "Do you wish to enter details: yes\n",
      "Emp ID: 102\n",
      "Emp Name: anjali\n",
      "Emp Dept: HR\n",
      "Emp Salary: 25000\n",
      "Do you wish to enter details: no\n"
     ]
    }
   ],
   "source": [
    "li=[]\n",
    "while True:\n",
    "    ch=input('Do you wish to enter details: ')\n",
    "    if ch.lower()=='no':\n",
    "        break\n",
    "    else:\n",
    "        li.append(Emp())"
   ]
  },
  {
   "cell_type": "code",
   "execution_count": 231,
   "id": "73e0b83f",
   "metadata": {},
   "outputs": [
    {
     "name": "stdout",
     "output_type": "stream",
     "text": [
      "2\n"
     ]
    }
   ],
   "source": [
    "print(len(li))"
   ]
  },
  {
   "cell_type": "code",
   "execution_count": 233,
   "id": "399ccce6",
   "metadata": {},
   "outputs": [],
   "source": [
    "for i in range(len(li)):\n",
    "    li[i].calc()"
   ]
  },
  {
   "cell_type": "code",
   "execution_count": 234,
   "id": "7a78857a",
   "metadata": {},
   "outputs": [
    {
     "name": "stdout",
     "output_type": "stream",
     "text": [
      "EID: 101\n",
      "Name: prateek\n",
      "Dept: IT\n",
      "New Salary: 31200.0\n",
      "Commission: 312.0\n",
      "EID: 102\n",
      "Name: anjali\n",
      "Dept: HR\n",
      "New Salary: 32500.0\n",
      "Commission: 325.0\n"
     ]
    }
   ],
   "source": [
    "for i in range(len(li)):\n",
    "    li[i].display()"
   ]
  },
  {
   "cell_type": "code",
   "execution_count": 235,
   "id": "863f7336",
   "metadata": {},
   "outputs": [
    {
     "name": "stdout",
     "output_type": "stream",
     "text": [
      "Enter EID of person to search: 102\n",
      "EID: 102\n",
      "Name: anjali\n",
      "Dept: HR\n",
      "New Salary: 32500.0\n",
      "Commission: 325.0\n"
     ]
    }
   ],
   "source": [
    "e=input('Enter EID of person to search: ')\n",
    "for i in range(len(li)):\n",
    "    if li[i].eid==e:\n",
    "        li[i].display()\n",
    "        break\n"
   ]
  },
  {
   "cell_type": "markdown",
   "id": "6766157e",
   "metadata": {},
   "source": [
    "### Polymorphism"
   ]
  },
  {
   "cell_type": "code",
   "execution_count": 246,
   "id": "752cd130",
   "metadata": {},
   "outputs": [],
   "source": [
    "class A:\n",
    "    def __init__(self, x):\n",
    "        self.x=x\n",
    "    def update(self):\n",
    "        self.x+=10\n",
    "        \n",
    "class B(A):\n",
    "    def __init__(self,x):\n",
    "        A.__init__(self, x)\n",
    "    def update(self):\n",
    "        A.update(self)\n",
    "        self.x+=15"
   ]
  },
  {
   "cell_type": "code",
   "execution_count": 247,
   "id": "d041491e",
   "metadata": {},
   "outputs": [],
   "source": [
    "b=B(150)"
   ]
  },
  {
   "cell_type": "code",
   "execution_count": 248,
   "id": "9c6da0e6",
   "metadata": {},
   "outputs": [
    {
     "name": "stdout",
     "output_type": "stream",
     "text": [
      "175\n"
     ]
    }
   ],
   "source": [
    "b.update()\n",
    "print(b.x)"
   ]
  },
  {
   "cell_type": "markdown",
   "id": "ccd07eeb",
   "metadata": {},
   "source": [
    "### Access Modifiers- Public, Protected & Private"
   ]
  },
  {
   "cell_type": "code",
   "execution_count": 256,
   "id": "28f4970c",
   "metadata": {},
   "outputs": [
    {
     "name": "stdout",
     "output_type": "stream",
     "text": [
      "10\n"
     ]
    }
   ],
   "source": [
    "# public access - var and func is accessible outside class & inheritable\n",
    "\n",
    "class Sample:\n",
    "    x=10\n",
    "    def disp(self):\n",
    "        print(self.x)\n",
    "class Derived(Sample):\n",
    "    def do_nothing(self):\n",
    "        Sample.disp(self)\n",
    "obj=Derived()\n",
    "obj.do_nothing()"
   ]
  },
  {
   "cell_type": "code",
   "execution_count": 264,
   "id": "31cdcd25",
   "metadata": {},
   "outputs": [
    {
     "name": "stdout",
     "output_type": "stream",
     "text": [
      "Parent Var:  10\n"
     ]
    }
   ],
   "source": [
    "# protected access - vars and func not accessible outside but inheritable\n",
    "\n",
    "class Sample:\n",
    "    _y=10\n",
    "    def _dispy(self):\n",
    "        print(self._y)\n",
    "class Derived(Sample):\n",
    "    def dispall(self):\n",
    "        Sample._dispy(self)\n",
    "        print('Parent Var: ',self._y)\n",
    "class Third(Derived):\n",
    "    def disp_sample_y(self):\n",
    "        print('Parent Var: ',self._y)        \n",
    "        \n",
    "obj=Third()\n",
    "obj.disp_sample_y()"
   ]
  },
  {
   "cell_type": "code",
   "execution_count": 272,
   "id": "b093719f",
   "metadata": {},
   "outputs": [],
   "source": [
    "# private access - not inherited at all, not accessible outside class\n",
    "\n",
    "class Sample:\n",
    "    __z=20\n",
    "    def __privatefun(self):\n",
    "        print('private func')\n",
    "    def displayz(self):\n",
    "        print(self.__z)\n",
    "        self.__privatefun()"
   ]
  },
  {
   "cell_type": "code",
   "execution_count": 273,
   "id": "60127635",
   "metadata": {},
   "outputs": [
    {
     "ename": "AttributeError",
     "evalue": "'Sample' object has no attribute '__z'",
     "output_type": "error",
     "traceback": [
      "\u001b[1;31m---------------------------------------------------------------------------\u001b[0m",
      "\u001b[1;31mAttributeError\u001b[0m                            Traceback (most recent call last)",
      "Input \u001b[1;32mIn [273]\u001b[0m, in \u001b[0;36m<cell line: 2>\u001b[1;34m()\u001b[0m\n\u001b[0;32m      1\u001b[0m obj\u001b[38;5;241m=\u001b[39mSample()\n\u001b[1;32m----> 2\u001b[0m \u001b[43mobj\u001b[49m\u001b[38;5;241;43m.\u001b[39;49m\u001b[43m__z\u001b[49m\n",
      "\u001b[1;31mAttributeError\u001b[0m: 'Sample' object has no attribute '__z'"
     ]
    }
   ],
   "source": [
    "obj=Sample()\n",
    "obj.__z"
   ]
  },
  {
   "cell_type": "code",
   "execution_count": 274,
   "id": "74736fb6",
   "metadata": {},
   "outputs": [
    {
     "name": "stdout",
     "output_type": "stream",
     "text": [
      "20\n",
      "private func\n"
     ]
    }
   ],
   "source": [
    "obj.displayz()"
   ]
  },
  {
   "cell_type": "code",
   "execution_count": 275,
   "id": "1eb47d0e",
   "metadata": {},
   "outputs": [
    {
     "ename": "AttributeError",
     "evalue": "'Sample' object has no attribute '__privatefun'",
     "output_type": "error",
     "traceback": [
      "\u001b[1;31m---------------------------------------------------------------------------\u001b[0m",
      "\u001b[1;31mAttributeError\u001b[0m                            Traceback (most recent call last)",
      "Input \u001b[1;32mIn [275]\u001b[0m, in \u001b[0;36m<cell line: 1>\u001b[1;34m()\u001b[0m\n\u001b[1;32m----> 1\u001b[0m \u001b[43mobj\u001b[49m\u001b[38;5;241;43m.\u001b[39;49m\u001b[43m__privatefun\u001b[49m()\n",
      "\u001b[1;31mAttributeError\u001b[0m: 'Sample' object has no attribute '__privatefun'"
     ]
    }
   ],
   "source": [
    "obj.__privatefun()"
   ]
  },
  {
   "cell_type": "code",
   "execution_count": 283,
   "id": "9b9d2f7e",
   "metadata": {},
   "outputs": [],
   "source": [
    "# private access - not inherited at all, not accessible outside class\n",
    "\n",
    "class Sample:\n",
    "    __z=20\n",
    "    def __privatefun(self):\n",
    "        print('private func')\n",
    "    def displayz(self):\n",
    "        print(self.__z)\n",
    "        self.__privatefun()\n",
    "        \n",
    "class Derived(Sample):\n",
    "    def print_z(self):\n",
    "        #print(self.__z)\n",
    "        self.displayz()"
   ]
  },
  {
   "cell_type": "code",
   "execution_count": 284,
   "id": "fc714e0a",
   "metadata": {},
   "outputs": [
    {
     "name": "stdout",
     "output_type": "stream",
     "text": [
      "20\n",
      "private func\n"
     ]
    }
   ],
   "source": [
    "obj=Derived()\n",
    "obj.print_z()"
   ]
  },
  {
   "cell_type": "code",
   "execution_count": null,
   "id": "e87d6727",
   "metadata": {},
   "outputs": [],
   "source": []
  },
  {
   "cell_type": "code",
   "execution_count": null,
   "id": "686149bc",
   "metadata": {},
   "outputs": [],
   "source": [
    "class A:\n",
    "    def __init():\n",
    "        \n",
    "class B(A):\n",
    "    def __init__():\n",
    "        \n"
   ]
  },
  {
   "cell_type": "code",
   "execution_count": 286,
   "id": "a71a4257",
   "metadata": {},
   "outputs": [],
   "source": [
    "def disp():\n",
    "    print('nothing')\n",
    "def disp(x):\n",
    "    print('x=',x)\n",
    "def disp(x,y):\n",
    "    print('x={0}, y={1}'.format(x,y))"
   ]
  },
  {
   "cell_type": "code",
   "execution_count": 293,
   "id": "25f4f171",
   "metadata": {},
   "outputs": [
    {
     "ename": "TypeError",
     "evalue": "disp() missing 2 required positional arguments: 'x' and 'y'",
     "output_type": "error",
     "traceback": [
      "\u001b[1;31m---------------------------------------------------------------------------\u001b[0m",
      "\u001b[1;31mTypeError\u001b[0m                                 Traceback (most recent call last)",
      "Input \u001b[1;32mIn [293]\u001b[0m, in \u001b[0;36m<cell line: 1>\u001b[1;34m()\u001b[0m\n\u001b[1;32m----> 1\u001b[0m \u001b[43mdisp\u001b[49m\u001b[43m(\u001b[49m\u001b[43m)\u001b[49m\n",
      "\u001b[1;31mTypeError\u001b[0m: disp() missing 2 required positional arguments: 'x' and 'y'"
     ]
    }
   ],
   "source": [
    "disp()"
   ]
  },
  {
   "cell_type": "code",
   "execution_count": 291,
   "id": "d1582c85",
   "metadata": {},
   "outputs": [
    {
     "name": "stdout",
     "output_type": "stream",
     "text": [
      "20\n"
     ]
    }
   ],
   "source": [
    "str=20\n",
    "print(str)"
   ]
  },
  {
   "cell_type": "code",
   "execution_count": 292,
   "id": "d89ea48e",
   "metadata": {},
   "outputs": [
    {
     "ename": "TypeError",
     "evalue": "'int' object is not callable",
     "output_type": "error",
     "traceback": [
      "\u001b[1;31m---------------------------------------------------------------------------\u001b[0m",
      "\u001b[1;31mTypeError\u001b[0m                                 Traceback (most recent call last)",
      "Input \u001b[1;32mIn [292]\u001b[0m, in \u001b[0;36m<cell line: 1>\u001b[1;34m()\u001b[0m\n\u001b[1;32m----> 1\u001b[0m \u001b[38;5;28;43mstr\u001b[39;49m\u001b[43m(\u001b[49m\u001b[38;5;124;43m'\u001b[39;49m\u001b[38;5;124;43m23\u001b[39;49m\u001b[38;5;124;43m'\u001b[39;49m\u001b[43m)\u001b[49m\n",
      "\u001b[1;31mTypeError\u001b[0m: 'int' object is not callable"
     ]
    }
   ],
   "source": [
    "str('23')"
   ]
  },
  {
   "cell_type": "code",
   "execution_count": null,
   "id": "488c498e",
   "metadata": {},
   "outputs": [],
   "source": []
  },
  {
   "cell_type": "code",
   "execution_count": null,
   "id": "947a2885",
   "metadata": {},
   "outputs": [],
   "source": []
  },
  {
   "cell_type": "code",
   "execution_count": null,
   "id": "b38af8be",
   "metadata": {},
   "outputs": [],
   "source": []
  }
 ],
 "metadata": {
  "kernelspec": {
   "display_name": "Python 3 (ipykernel)",
   "language": "python",
   "name": "python3"
  },
  "language_info": {
   "codemirror_mode": {
    "name": "ipython",
    "version": 3
   },
   "file_extension": ".py",
   "mimetype": "text/x-python",
   "name": "python",
   "nbconvert_exporter": "python",
   "pygments_lexer": "ipython3",
   "version": "3.9.12"
  }
 },
 "nbformat": 4,
 "nbformat_minor": 5
}
