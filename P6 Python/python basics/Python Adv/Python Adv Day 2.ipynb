{
 "cells": [
  {
   "cell_type": "markdown",
   "id": "38afdd8c",
   "metadata": {},
   "source": [
    "## Python & MySQL"
   ]
  },
  {
   "cell_type": "code",
   "execution_count": 1,
   "id": "29811451",
   "metadata": {},
   "outputs": [
    {
     "name": "stdout",
     "output_type": "stream",
     "text": [
      "Requirement already satisfied: mysql-connector-python in c:\\users\\pvashishtha\\anaconda3\\lib\\site-packages (8.0.31)\n",
      "Requirement already satisfied: protobuf<=3.20.1,>=3.11.0 in c:\\users\\pvashishtha\\anaconda3\\lib\\site-packages (from mysql-connector-python) (3.19.1)\n"
     ]
    }
   ],
   "source": [
    "! pip install mysql-connector-python"
   ]
  },
  {
   "cell_type": "code",
   "execution_count": 2,
   "id": "76f974bc",
   "metadata": {},
   "outputs": [
    {
     "name": "stdout",
     "output_type": "stream",
     "text": [
      "Requirement already satisfied: pymysql in c:\\users\\pvashishtha\\anaconda3\\lib\\site-packages (1.0.2)\n"
     ]
    }
   ],
   "source": [
    "! pip install pymysql"
   ]
  },
  {
   "cell_type": "code",
   "execution_count": 3,
   "id": "5ab49a4c",
   "metadata": {},
   "outputs": [],
   "source": [
    "# 1. Connect to Database\n",
    "# 2. Create a DB Cursor\n",
    "# 3. CRUD - Create, Read, update, Delete\n",
    "# 4. Close the connection to DB"
   ]
  },
  {
   "cell_type": "code",
   "execution_count": 36,
   "id": "85113ff8",
   "metadata": {},
   "outputs": [
    {
     "name": "stdout",
     "output_type": "stream",
     "text": [
      "<mysql.connector.connection_cext.CMySQLConnection object at 0x0000027EB416E670>\n"
     ]
    }
   ],
   "source": [
    "# connect to database\n",
    "\n",
    "import mysql.connector\n",
    "\n",
    "host='localhost'\n",
    "user='root'\n",
    "password=''\n",
    "database='student'\n",
    "port=3306\n",
    "\n",
    "try:\n",
    "    conn=mysql.connector.connect(host=host, user=user, password=password, \n",
    "                                 database=database, port=port)\n",
    "    print(conn)\n",
    "    \n",
    "except:\n",
    "    print('Database Not Connected!')\n"
   ]
  },
  {
   "cell_type": "code",
   "execution_count": 37,
   "id": "4491b56c",
   "metadata": {},
   "outputs": [
    {
     "name": "stdout",
     "output_type": "stream",
     "text": [
      "CMySQLCursor: (Nothing executed yet)\n"
     ]
    }
   ],
   "source": [
    "# create cursor\n",
    "try:\n",
    "    cur=conn.cursor()\n",
    "    print(cur)\n",
    "except:\n",
    "    print('Cursor Not Created!')"
   ]
  },
  {
   "cell_type": "code",
   "execution_count": 9,
   "id": "aeb067dc",
   "metadata": {},
   "outputs": [],
   "source": [
    "# CRUD - INSERT\n",
    "\n",
    "sql='insert into student_data values(104, \"Ishita\", \"JAVA\", \"2022-12-06\")'\n",
    "cur.execute(sql)\n",
    "conn.commit()"
   ]
  },
  {
   "cell_type": "code",
   "execution_count": 11,
   "id": "aaca817d",
   "metadata": {},
   "outputs": [
    {
     "name": "stdout",
     "output_type": "stream",
     "text": [
      "CMySQLCursor: insert into student_data values(104, \"Is..\n"
     ]
    }
   ],
   "source": [
    "print(cur)"
   ]
  },
  {
   "cell_type": "code",
   "execution_count": 16,
   "id": "ef445421",
   "metadata": {},
   "outputs": [],
   "source": [
    "# Insert Many Records at once\n",
    "\n",
    "sql='insert into student_data values(%s, %s, %s, %s)'\n",
    "vals=[\n",
    "    \n",
    "    (105, \"Srinivas\", \"PHP\", \"2022-08-09\"),\n",
    "    (106, \"Tribhuvan\", \"C/C++\", \"2022-09-13\"),\n",
    "    (107, \"Aditi\", \"Python\", \"2022-11-11\")\n",
    "]\n",
    "\n",
    "cur.executemany(sql, vals)\n",
    "conn.commit()"
   ]
  },
  {
   "cell_type": "code",
   "execution_count": 17,
   "id": "921a3393",
   "metadata": {},
   "outputs": [],
   "source": [
    "# CRUD- READ\n",
    "\n",
    "sql='select * from student_data'\n",
    "cur.execute(sql)"
   ]
  },
  {
   "cell_type": "code",
   "execution_count": 18,
   "id": "f85ca3d2",
   "metadata": {},
   "outputs": [
    {
     "name": "stdout",
     "output_type": "stream",
     "text": [
      "------------------------------\n",
      "Roll No: 101\n",
      " Name: Prateek\n",
      " Course: Python\n",
      " DOJ: None\n",
      "------------------------------\n",
      "------------------------------\n",
      "Roll No: 102\n",
      " Name: Rahul\n",
      " Course: JAVA\n",
      " DOJ: None\n",
      "------------------------------\n",
      "------------------------------\n",
      "Roll No: 103\n",
      " Name: Anjali\n",
      " Course: AI\n",
      " DOJ: None\n",
      "------------------------------\n",
      "------------------------------\n",
      "Roll No: 104\n",
      " Name: Ishita\n",
      " Course: JAVA\n",
      " DOJ: 2022-12-06\n",
      "------------------------------\n",
      "------------------------------\n",
      "Roll No: 105\n",
      " Name: Srinivas\n",
      " Course: PHP\n",
      " DOJ: 2022-08-09\n",
      "------------------------------\n",
      "------------------------------\n",
      "Roll No: 106\n",
      " Name: Tribhuvan\n",
      " Course: C/C++\n",
      " DOJ: 2022-09-13\n",
      "------------------------------\n",
      "------------------------------\n",
      "Roll No: 107\n",
      " Name: Aditi\n",
      " Course: Python\n",
      " DOJ: 2022-11-11\n",
      "------------------------------\n"
     ]
    }
   ],
   "source": [
    "result=cur.fetchall()\n",
    "\n",
    "for record in result:\n",
    "    print('------------------------------')\n",
    "    print('Roll No: {0}\\n Name: {1}\\n Course: {2}\\n DOJ: {3}'.format(\n",
    "    record[0], record[1], record[2], record[3]))\n",
    "    print('------------------------------')"
   ]
  },
  {
   "cell_type": "code",
   "execution_count": 29,
   "id": "c5cb381a",
   "metadata": {},
   "outputs": [
    {
     "name": "stdout",
     "output_type": "stream",
     "text": [
      "------------------------------\n",
      "Roll No: 107\n",
      " Name: Aditi\n",
      " Course: Python\n",
      " DOJ: 2022-11-11\n",
      "------------------------------\n"
     ]
    }
   ],
   "source": [
    "# READ one record at a time\n",
    "sql='select * from student_data order by roll desc'\n",
    "cur.execute(sql)\n",
    "\n",
    "record=cur.fetchone()\n",
    "print('------------------------------')\n",
    "print('Roll No: {0}\\n Name: {1}\\n Course: {2}\\n DOJ: {3}'.format(\n",
    "record[0], record[1], record[2], record[3]))\n",
    "print('------------------------------')"
   ]
  },
  {
   "cell_type": "code",
   "execution_count": 40,
   "id": "f15e0e39",
   "metadata": {},
   "outputs": [
    {
     "name": "stderr",
     "output_type": "stream",
     "text": [
      "C:\\Users\\pvashishtha\\Anaconda3\\lib\\site-packages\\pandas\\io\\sql.py:761: UserWarning: pandas only support SQLAlchemy connectable(engine/connection) ordatabase string URI or sqlite3 DBAPI2 connectionother DBAPI2 objects are not tested, please consider using SQLAlchemy\n",
      "  warnings.warn(\n"
     ]
    },
    {
     "data": {
      "text/html": [
       "<div>\n",
       "<style scoped>\n",
       "    .dataframe tbody tr th:only-of-type {\n",
       "        vertical-align: middle;\n",
       "    }\n",
       "\n",
       "    .dataframe tbody tr th {\n",
       "        vertical-align: top;\n",
       "    }\n",
       "\n",
       "    .dataframe thead th {\n",
       "        text-align: right;\n",
       "    }\n",
       "</style>\n",
       "<table border=\"1\" class=\"dataframe\">\n",
       "  <thead>\n",
       "    <tr style=\"text-align: right;\">\n",
       "      <th></th>\n",
       "      <th>roll</th>\n",
       "      <th>name</th>\n",
       "      <th>course</th>\n",
       "      <th>doj</th>\n",
       "    </tr>\n",
       "  </thead>\n",
       "  <tbody>\n",
       "    <tr>\n",
       "      <th>0</th>\n",
       "      <td>101</td>\n",
       "      <td>Prateek</td>\n",
       "      <td>Python</td>\n",
       "      <td>None</td>\n",
       "    </tr>\n",
       "    <tr>\n",
       "      <th>1</th>\n",
       "      <td>102</td>\n",
       "      <td>Rahul</td>\n",
       "      <td>JAVA</td>\n",
       "      <td>None</td>\n",
       "    </tr>\n",
       "    <tr>\n",
       "      <th>2</th>\n",
       "      <td>103</td>\n",
       "      <td>Anjali</td>\n",
       "      <td>AI</td>\n",
       "      <td>None</td>\n",
       "    </tr>\n",
       "    <tr>\n",
       "      <th>3</th>\n",
       "      <td>104</td>\n",
       "      <td>Ishita</td>\n",
       "      <td>JAVA</td>\n",
       "      <td>2022-12-06</td>\n",
       "    </tr>\n",
       "    <tr>\n",
       "      <th>4</th>\n",
       "      <td>105</td>\n",
       "      <td>Srinivas</td>\n",
       "      <td>PHP</td>\n",
       "      <td>2022-08-09</td>\n",
       "    </tr>\n",
       "    <tr>\n",
       "      <th>5</th>\n",
       "      <td>106</td>\n",
       "      <td>Tribhuvan</td>\n",
       "      <td>C/C++</td>\n",
       "      <td>2022-09-13</td>\n",
       "    </tr>\n",
       "    <tr>\n",
       "      <th>6</th>\n",
       "      <td>107</td>\n",
       "      <td>Aditi</td>\n",
       "      <td>Python</td>\n",
       "      <td>2022-11-11</td>\n",
       "    </tr>\n",
       "  </tbody>\n",
       "</table>\n",
       "</div>"
      ],
      "text/plain": [
       "   roll       name  course         doj\n",
       "0   101    Prateek  Python        None\n",
       "1   102      Rahul    JAVA        None\n",
       "2   103     Anjali      AI        None\n",
       "3   104     Ishita    JAVA  2022-12-06\n",
       "4   105   Srinivas     PHP  2022-08-09\n",
       "5   106  Tribhuvan   C/C++  2022-09-13\n",
       "6   107      Aditi  Python  2022-11-11"
      ]
     },
     "execution_count": 40,
     "metadata": {},
     "output_type": "execute_result"
    }
   ],
   "source": [
    "import pandas as pd\n",
    "sql='select * from student_data'\n",
    "data=pd.read_sql(sql, conn)\n",
    "data"
   ]
  },
  {
   "cell_type": "code",
   "execution_count": 39,
   "id": "59a697d4",
   "metadata": {},
   "outputs": [
    {
     "data": {
      "text/html": [
       "<div>\n",
       "<style scoped>\n",
       "    .dataframe tbody tr th:only-of-type {\n",
       "        vertical-align: middle;\n",
       "    }\n",
       "\n",
       "    .dataframe tbody tr th {\n",
       "        vertical-align: top;\n",
       "    }\n",
       "\n",
       "    .dataframe thead th {\n",
       "        text-align: right;\n",
       "    }\n",
       "</style>\n",
       "<table border=\"1\" class=\"dataframe\">\n",
       "  <thead>\n",
       "    <tr style=\"text-align: right;\">\n",
       "      <th></th>\n",
       "      <th>roll</th>\n",
       "      <th>name</th>\n",
       "      <th>course</th>\n",
       "      <th>doj</th>\n",
       "    </tr>\n",
       "  </thead>\n",
       "  <tbody>\n",
       "    <tr>\n",
       "      <th>0</th>\n",
       "      <td>101</td>\n",
       "      <td>Prateek</td>\n",
       "      <td>Python</td>\n",
       "      <td>None</td>\n",
       "    </tr>\n",
       "    <tr>\n",
       "      <th>1</th>\n",
       "      <td>102</td>\n",
       "      <td>Rahul</td>\n",
       "      <td>JAVA</td>\n",
       "      <td>None</td>\n",
       "    </tr>\n",
       "    <tr>\n",
       "      <th>2</th>\n",
       "      <td>103</td>\n",
       "      <td>Anjali</td>\n",
       "      <td>AI</td>\n",
       "      <td>None</td>\n",
       "    </tr>\n",
       "    <tr>\n",
       "      <th>3</th>\n",
       "      <td>104</td>\n",
       "      <td>Ishita</td>\n",
       "      <td>JAVA</td>\n",
       "      <td>2022-12-06</td>\n",
       "    </tr>\n",
       "    <tr>\n",
       "      <th>4</th>\n",
       "      <td>105</td>\n",
       "      <td>Srinivas</td>\n",
       "      <td>PHP</td>\n",
       "      <td>2022-08-09</td>\n",
       "    </tr>\n",
       "    <tr>\n",
       "      <th>5</th>\n",
       "      <td>106</td>\n",
       "      <td>Tribhuvan</td>\n",
       "      <td>C/C++</td>\n",
       "      <td>2022-09-13</td>\n",
       "    </tr>\n",
       "    <tr>\n",
       "      <th>6</th>\n",
       "      <td>107</td>\n",
       "      <td>Aditi</td>\n",
       "      <td>Python</td>\n",
       "      <td>2022-11-11</td>\n",
       "    </tr>\n",
       "  </tbody>\n",
       "</table>\n",
       "</div>"
      ],
      "text/plain": [
       "   roll       name  course         doj\n",
       "0   101    Prateek  Python        None\n",
       "1   102      Rahul    JAVA        None\n",
       "2   103     Anjali      AI        None\n",
       "3   104     Ishita    JAVA  2022-12-06\n",
       "4   105   Srinivas     PHP  2022-08-09\n",
       "5   106  Tribhuvan   C/C++  2022-09-13\n",
       "6   107      Aditi  Python  2022-11-11"
      ]
     },
     "execution_count": 39,
     "metadata": {},
     "output_type": "execute_result"
    }
   ],
   "source": [
    "data"
   ]
  },
  {
   "cell_type": "code",
   "execution_count": 41,
   "id": "a13f793a",
   "metadata": {},
   "outputs": [
    {
     "name": "stdout",
     "output_type": "stream",
     "text": [
      "1 rows updated in database\n"
     ]
    }
   ],
   "source": [
    "# CRUD - UPDATE\n",
    "\n",
    "sql='update student_data set doj=\"2022-11-18\" where roll=101'\n",
    "cur.execute(sql)\n",
    "conn.commit()\n",
    "print('{0} rows updated in database'.format(cur.rowcount))"
   ]
  },
  {
   "cell_type": "code",
   "execution_count": 42,
   "id": "407f157f",
   "metadata": {},
   "outputs": [
    {
     "name": "stdout",
     "output_type": "stream",
     "text": [
      "2 row(s) deleted form database.\n"
     ]
    }
   ],
   "source": [
    "# CRUD - DELETE\n",
    "\n",
    "sql='delete from student_data where course=\"JAVA\"'\n",
    "cur.execute(sql)\n",
    "conn.commit()\n",
    "print('{0} row(s) deleted form database.'.format(cur.rowcount))"
   ]
  },
  {
   "cell_type": "code",
   "execution_count": 43,
   "id": "b92e83e1",
   "metadata": {},
   "outputs": [
    {
     "name": "stdout",
     "output_type": "stream",
     "text": [
      "Table Dropped!!!\n"
     ]
    }
   ],
   "source": [
    "# CRUD - DROP | TRUNCATE\n",
    "\n",
    "sql='drop table student_data'\n",
    "try:\n",
    "    cur.execute(sql)\n",
    "    print('Table Dropped!!!')\n",
    "except:\n",
    "    print('Drop Failed!, Chek Your Priviliges')"
   ]
  },
  {
   "cell_type": "code",
   "execution_count": 44,
   "id": "eb9fa646",
   "metadata": {},
   "outputs": [],
   "source": [
    "# close conn\n",
    "cur.close()\n",
    "conn.close()"
   ]
  },
  {
   "cell_type": "code",
   "execution_count": 45,
   "id": "3fd67fb3",
   "metadata": {},
   "outputs": [],
   "source": [
    "conn.disconnect()"
   ]
  },
  {
   "cell_type": "code",
   "execution_count": null,
   "id": "3b225dcc",
   "metadata": {},
   "outputs": [],
   "source": []
  },
  {
   "cell_type": "code",
   "execution_count": null,
   "id": "cf6f306d",
   "metadata": {},
   "outputs": [],
   "source": [
    "# Problem:\n",
    "# create a class that will implement following methods to interact with\n",
    "# employee database\n",
    "# get_connection()\n",
    "    # get_emp_details_from_user()\n",
    "    # validate_details()\n",
    "    # insert_emp_data()\n",
    "# update_emp_data()\n",
    "# get_emp()\n",
    "# get_all_emp()\n",
    "# remove_emp()\n",
    "# close_connection()\n",
    "\n",
    "### create emp table for internal use"
   ]
  },
  {
   "cell_type": "code",
   "execution_count": null,
   "id": "b2230e99",
   "metadata": {},
   "outputs": [],
   "source": [
    "class Employee:\n",
    "    def __init__(self, host, user, password, database, port):\n",
    "        self.host=host\n",
    "        self.user=user\n",
    "        self.password=password\n",
    "        self.database=database\n",
    "        self.port=port\n",
    "        self.conn=''\n",
    "        self.cur=''\n",
    "        return None\n",
    "    def get_connection(self):\n",
    "        import mysql.connector\n",
    "        try:\n",
    "            self.conn=mysql.connector.connect(host=self.host, user=self.user,\n",
    "                                         password=self.password,\n",
    "                                          database=self.database,\n",
    "                                          port=self.port)\n",
    "            self.cur=self.conn.curosr()\n",
    "        except:\n",
    "            print('Connection/Cursor Failed!')\n",
    "        return self.conn, self.cur\n",
    "    def get_data_from_user(self):\n",
    "        self.eid=input('Enter EID: ')\n",
    "        self.name=input('Enter Name: ')\n",
    "        self.email=input('Enter Email: ')\n",
    "        if self.validate_data():\n",
    "            self.insert_data()\n",
    "        else:\n",
    "            print('Data Validation Failed!')\n",
    "        return None\n",
    "    def validate_data(self):\n",
    "        if self.email.index('@')>=0:\n",
    "            return True\n",
    "        else:\n",
    "            return False\n",
    "    def insert_data(self):\n",
    "        sql='insert into emp values(%s,%s,%s)'%(self.eid, self.name, self.email)\n",
    "        try:\n",
    "            conn, cur=get_connection()\n",
    "            cur.execute(sql)\n",
    "            print('Data inserted!')\n",
    "        except:\n",
    "            print('Insert Error!')\n",
    "        finally:\n",
    "            close_connection()\n",
    "        return None\n",
    "    \n",
    "    def close_connection(self):\n",
    "        self.cur.close()\n",
    "        self.conn.close()\n",
    "        \n",
    "    \n",
    "    "
   ]
  },
  {
   "cell_type": "code",
   "execution_count": null,
   "id": "f88e38b7",
   "metadata": {},
   "outputs": [],
   "source": []
  },
  {
   "cell_type": "markdown",
   "id": "99384a23",
   "metadata": {},
   "source": [
    "## Python RegEx"
   ]
  },
  {
   "cell_type": "code",
   "execution_count": 46,
   "id": "ec7019e1",
   "metadata": {},
   "outputs": [],
   "source": [
    "import re"
   ]
  },
  {
   "cell_type": "code",
   "execution_count": 49,
   "id": "ff3558f7",
   "metadata": {
    "scrolled": true
   },
   "outputs": [
    {
     "data": {
      "text/plain": [
       "['__name__',\n",
       " '__doc__',\n",
       " '__package__',\n",
       " '__loader__',\n",
       " '__spec__',\n",
       " '__file__',\n",
       " '__cached__',\n",
       " '__builtins__',\n",
       " 'enum',\n",
       " 'sre_compile',\n",
       " 'sre_parse',\n",
       " 'functools',\n",
       " '_locale',\n",
       " '__all__',\n",
       " '__version__',\n",
       " 'RegexFlag',\n",
       " 'ASCII',\n",
       " 'A',\n",
       " 'IGNORECASE',\n",
       " 'I',\n",
       " 'LOCALE',\n",
       " 'L',\n",
       " 'UNICODE',\n",
       " 'U',\n",
       " 'MULTILINE',\n",
       " 'M',\n",
       " 'DOTALL',\n",
       " 'S',\n",
       " 'VERBOSE',\n",
       " 'X',\n",
       " 'TEMPLATE',\n",
       " 'T',\n",
       " 'DEBUG',\n",
       " 'error',\n",
       " 'match',\n",
       " 'fullmatch',\n",
       " 'search',\n",
       " 'sub',\n",
       " 'subn',\n",
       " 'split',\n",
       " 'findall',\n",
       " 'finditer',\n",
       " 'compile',\n",
       " 'purge',\n",
       " 'template',\n",
       " '_special_chars_map',\n",
       " 'escape',\n",
       " 'Pattern',\n",
       " 'Match',\n",
       " '_cache',\n",
       " '_MAXCACHE',\n",
       " '_compile',\n",
       " '_compile_repl',\n",
       " '_expand',\n",
       " '_subx',\n",
       " 'copyreg',\n",
       " '_pickle',\n",
       " 'Scanner']"
      ]
     },
     "execution_count": 49,
     "metadata": {},
     "output_type": "execute_result"
    }
   ],
   "source": [
    "re.__dir__()"
   ]
  },
  {
   "cell_type": "code",
   "execution_count": 55,
   "id": "f2fe43f3",
   "metadata": {},
   "outputs": [
    {
     "name": "stdout",
     "output_type": "stream",
     "text": [
      "<re.Match object; span=(8, 9), match='.'>\n"
     ]
    }
   ],
   "source": [
    "s='deloitte.com'\n",
    "\n",
    "match=re.search(r'\\.',s)\n",
    "print(match)"
   ]
  },
  {
   "cell_type": "code",
   "execution_count": 56,
   "id": "92530bad",
   "metadata": {},
   "outputs": [
    {
     "name": "stdout",
     "output_type": "stream",
     "text": [
      "<re.Match object; span=(0, 3), match='for'>\n"
     ]
    }
   ],
   "source": [
    "s='for Deloitte'\n",
    "print(re.search(r'for', s))"
   ]
  },
  {
   "cell_type": "code",
   "execution_count": 59,
   "id": "5e386ab5",
   "metadata": {},
   "outputs": [
    {
     "name": "stdout",
     "output_type": "stream",
     "text": [
      "<re.Match object; span=(0, 2), match='te'>\n"
     ]
    }
   ],
   "source": [
    "s='tell deloitte'\n",
    "print(re.search(r'\\bte', s))"
   ]
  },
  {
   "cell_type": "code",
   "execution_count": 60,
   "id": "f0d403e3",
   "metadata": {},
   "outputs": [
    {
     "name": "stdout",
     "output_type": "stream",
     "text": [
      "<re.Match object; span=(11, 13), match='te'>\n"
     ]
    }
   ],
   "source": [
    "print(re.search(r'te\\b', s))"
   ]
  },
  {
   "cell_type": "code",
   "execution_count": 61,
   "id": "b688fd92",
   "metadata": {},
   "outputs": [
    {
     "name": "stdout",
     "output_type": "stream",
     "text": [
      "<re.Match object; span=(0, 3), match='the'>\n"
     ]
    }
   ],
   "source": [
    "s='the wind and the rain'\n",
    "print(re.search(r'\\Athe',s))"
   ]
  },
  {
   "cell_type": "code",
   "execution_count": 62,
   "id": "55ef4d90",
   "metadata": {},
   "outputs": [
    {
     "name": "stdout",
     "output_type": "stream",
     "text": [
      "<re.Match object; span=(1, 4), match='ain'>\n"
     ]
    }
   ],
   "source": [
    "s='raining in the training'\n",
    "print(re.search(r'\\Bain',s))"
   ]
  },
  {
   "cell_type": "code",
   "execution_count": 65,
   "id": "960d5eab",
   "metadata": {},
   "outputs": [
    {
     "name": "stdout",
     "output_type": "stream",
     "text": [
      "<re.Match object; span=(7, 10), match='123'>\n"
     ]
    }
   ],
   "source": [
    "s=' hello 123 testing'\n",
    "print(re.search(r'\\d\\d\\d',s))"
   ]
  },
  {
   "cell_type": "code",
   "execution_count": 67,
   "id": "06e17dc0",
   "metadata": {},
   "outputs": [
    {
     "name": "stdout",
     "output_type": "stream",
     "text": [
      "<re.Match object; span=(5, 6), match=' '>\n"
     ]
    }
   ],
   "source": [
    "s='hello 123 testing'\n",
    "print(re.search(r'\\s',s))"
   ]
  },
  {
   "cell_type": "code",
   "execution_count": 71,
   "id": "257b1033",
   "metadata": {},
   "outputs": [
    {
     "data": {
      "text/plain": [
       "' '"
      ]
     },
     "execution_count": 71,
     "metadata": {},
     "output_type": "execute_result"
    }
   ],
   "source": [
    "re.search(r'\\s',s)[0]"
   ]
  },
  {
   "cell_type": "code",
   "execution_count": 2,
   "id": "d0f340f3",
   "metadata": {},
   "outputs": [
    {
     "name": "stdout",
     "output_type": "stream",
     "text": [
      "<re.Match object; span=(17, 22), match='98087'>\n",
      "<re.Match object; span=(17, 22), match='98087'>\n"
     ]
    }
   ],
   "source": [
    "s='my mobile is +91-9808766699. dont save!'\n",
    "print(re.search(r'\\d{5}',s))"
   ]
  },
  {
   "cell_type": "code",
   "execution_count": 77,
   "id": "f86470f0",
   "metadata": {},
   "outputs": [
    {
     "name": "stdout",
     "output_type": "stream",
     "text": [
      "<re.Match object; span=(2, 3), match=','>\n"
     ]
    }
   ],
   "source": [
    "s='Hi, i am Alexa!'\n",
    "print(re.search(r'\\W',s))"
   ]
  },
  {
   "cell_type": "markdown",
   "id": "bd9a906b",
   "metadata": {},
   "source": [
    "### findall()"
   ]
  },
  {
   "cell_type": "code",
   "execution_count": 79,
   "id": "e7df1d7a",
   "metadata": {},
   "outputs": [
    {
     "name": "stdout",
     "output_type": "stream",
     "text": [
      "['9', '1', '9', '8', '0', '8', '7', '6', '6', '6', '9', '9']\n"
     ]
    }
   ],
   "source": [
    "s='my mobile is +91-9808766699. dont save!'\n",
    "print(re.findall(r'\\d',s))"
   ]
  },
  {
   "cell_type": "code",
   "execution_count": 4,
   "id": "3a232a2e",
   "metadata": {},
   "outputs": [
    {
     "name": "stdout",
     "output_type": "stream",
     "text": [
      "['9808766699', '8869088887']\n"
     ]
    }
   ],
   "source": [
    "s='my mobile is +91-9808766699 and +91-8869088887. dont save!'\n",
    "print(re.findall(r'\\d{10}',s))"
   ]
  },
  {
   "cell_type": "markdown",
   "id": "f2bfb9e5",
   "metadata": {},
   "source": [
    "### compile()"
   ]
  },
  {
   "cell_type": "code",
   "execution_count": 81,
   "id": "bd782bf5",
   "metadata": {},
   "outputs": [],
   "source": [
    "pattern=re.compile('\\d{10}')"
   ]
  },
  {
   "cell_type": "code",
   "execution_count": 82,
   "id": "9c52ac4b",
   "metadata": {},
   "outputs": [
    {
     "name": "stdout",
     "output_type": "stream",
     "text": [
      "<re.Match object; span=(13, 23), match='1234567890'>\n"
     ]
    }
   ],
   "source": [
    "print(pattern.search('my number is 1234567890'))"
   ]
  },
  {
   "cell_type": "code",
   "execution_count": 83,
   "id": "f27468eb",
   "metadata": {},
   "outputs": [
    {
     "name": "stdout",
     "output_type": "stream",
     "text": [
      "['9808766699', '8869088887']\n"
     ]
    }
   ],
   "source": [
    "print(pattern.findall('my numbers are 9808766699 and 8869088887'))"
   ]
  },
  {
   "cell_type": "code",
   "execution_count": 85,
   "id": "52240d2d",
   "metadata": {},
   "outputs": [],
   "source": [
    "s='''How are you? I am feeling good today. \n",
    "Do you know what is date today? It is December 06.'''"
   ]
  },
  {
   "cell_type": "code",
   "execution_count": 86,
   "id": "6d4bc0cc",
   "metadata": {},
   "outputs": [],
   "source": [
    "pattern=re.compile('\\w+')"
   ]
  },
  {
   "cell_type": "code",
   "execution_count": 87,
   "id": "960acd83",
   "metadata": {},
   "outputs": [
    {
     "name": "stdout",
     "output_type": "stream",
     "text": [
      "<re.Match object; span=(0, 3), match='How'>\n"
     ]
    }
   ],
   "source": [
    "print(pattern.search(s))"
   ]
  },
  {
   "cell_type": "code",
   "execution_count": 88,
   "id": "13950967",
   "metadata": {},
   "outputs": [
    {
     "name": "stdout",
     "output_type": "stream",
     "text": [
      "['How', 'are', 'you', 'I', 'am', 'feeling', 'good', 'today', 'Do', 'you', 'know', 'what', 'is', 'date', 'today', 'It', 'is', 'December', '06']\n"
     ]
    }
   ],
   "source": [
    "print(pattern.findall(s))"
   ]
  },
  {
   "cell_type": "markdown",
   "id": "8ff87950",
   "metadata": {},
   "source": [
    "### split()"
   ]
  },
  {
   "cell_type": "code",
   "execution_count": 89,
   "id": "93cb3648",
   "metadata": {},
   "outputs": [
    {
     "name": "stdout",
     "output_type": "stream",
     "text": [
      "['hello', 'how', 'are', 'you', 'my', 'rank', 'is', '100']\n"
     ]
    }
   ],
   "source": [
    "print(re.split('\\W+','hello how are you? my rank is 100'))"
   ]
  },
  {
   "cell_type": "code",
   "execution_count": 90,
   "id": "750aa182",
   "metadata": {},
   "outputs": [
    {
     "name": "stdout",
     "output_type": "stream",
     "text": [
      "['my rank is ', ' and your rank is ', '']\n"
     ]
    }
   ],
   "source": [
    "print(re.split('\\d+','my rank is 100 and your rank is 99'))"
   ]
  },
  {
   "cell_type": "code",
   "execution_count": 91,
   "id": "294f3698",
   "metadata": {},
   "outputs": [
    {
     "name": "stdout",
     "output_type": "stream",
     "text": [
      "['192', '168', '45', '254']\n"
     ]
    }
   ],
   "source": [
    "print(re.split('\\.','192.168.45.254'))"
   ]
  },
  {
   "cell_type": "markdown",
   "id": "4fad1a86",
   "metadata": {},
   "source": [
    "### sub()"
   ]
  },
  {
   "cell_type": "code",
   "execution_count": 92,
   "id": "2e7d23a9",
   "metadata": {},
   "outputs": [],
   "source": [
    "# substitute the substring"
   ]
  },
  {
   "cell_type": "code",
   "execution_count": 94,
   "id": "0dadfd4e",
   "metadata": {},
   "outputs": [
    {
     "name": "stdout",
     "output_type": "stream",
     "text": [
      "I like to book OLA cabs. OLA is better quality\n"
     ]
    }
   ],
   "source": [
    "s='I like to book Uber cabs. Uber is better quality'\n",
    "print(re.sub('UBER','OLA',s, flags=re.IGNORECASE))"
   ]
  },
  {
   "cell_type": "code",
   "execution_count": 95,
   "id": "e96cfb27",
   "metadata": {},
   "outputs": [
    {
     "name": "stdout",
     "output_type": "stream",
     "text": [
      "I like to book OLA cabs. Uber is better quality\n"
     ]
    }
   ],
   "source": [
    "s='I like to book Uber cabs. Uber is better quality'\n",
    "print(re.sub('UBER','OLA',s, flags=re.IGNORECASE, count=1))"
   ]
  },
  {
   "cell_type": "markdown",
   "id": "e7c6f41a",
   "metadata": {},
   "source": [
    "### Pattern Based Search"
   ]
  },
  {
   "cell_type": "code",
   "execution_count": 96,
   "id": "c292b035",
   "metadata": {},
   "outputs": [
    {
     "name": "stdout",
     "output_type": "stream",
     "text": [
      "<re.Match object; span=(24, 35), match='23 December'>\n"
     ]
    }
   ],
   "source": [
    "s='I am not available from 23 December'\n",
    "pattern='(\\d+) ([A-Za-z]+)'\n",
    "match=re.search(pattern, s)\n",
    "print(match)"
   ]
  },
  {
   "cell_type": "code",
   "execution_count": 97,
   "id": "4690b88a",
   "metadata": {},
   "outputs": [
    {
     "name": "stdout",
     "output_type": "stream",
     "text": [
      "24 to 35\n"
     ]
    }
   ],
   "source": [
    "print(match.start(), match.end(), sep=' to ')"
   ]
  },
  {
   "cell_type": "code",
   "execution_count": 99,
   "id": "beee92aa",
   "metadata": {},
   "outputs": [
    {
     "name": "stdout",
     "output_type": "stream",
     "text": [
      "23 December"
     ]
    }
   ],
   "source": [
    "for char in range(match.start(), match.end()):\n",
    "    print(s[char], end='')"
   ]
  },
  {
   "cell_type": "code",
   "execution_count": 100,
   "id": "5e639e64",
   "metadata": {},
   "outputs": [
    {
     "name": "stdout",
     "output_type": "stream",
     "text": [
      "23 December\n"
     ]
    }
   ],
   "source": [
    "print(match.group(0))"
   ]
  },
  {
   "cell_type": "code",
   "execution_count": 101,
   "id": "68c05e88",
   "metadata": {},
   "outputs": [
    {
     "name": "stdout",
     "output_type": "stream",
     "text": [
      "23\n"
     ]
    }
   ],
   "source": [
    "print(match.group(1))"
   ]
  },
  {
   "cell_type": "code",
   "execution_count": 102,
   "id": "32b40cfb",
   "metadata": {},
   "outputs": [
    {
     "name": "stdout",
     "output_type": "stream",
     "text": [
      "December\n"
     ]
    }
   ],
   "source": [
    "print(match.group(2))"
   ]
  },
  {
   "cell_type": "markdown",
   "id": "36f6835c",
   "metadata": {},
   "source": [
    "### Example:"
   ]
  },
  {
   "cell_type": "code",
   "execution_count": 110,
   "id": "489f9623",
   "metadata": {},
   "outputs": [],
   "source": [
    "#  find email id from str and extract it.\n",
    "\n",
    "string='my email id is prateek_9090@deloitte.com. you can send me details here.'"
   ]
  },
  {
   "cell_type": "code",
   "execution_count": 111,
   "id": "45261f15",
   "metadata": {},
   "outputs": [],
   "source": [
    "pattern=r'([A-Za-z\\_0-9]+)(@deloitte.com)'"
   ]
  },
  {
   "cell_type": "code",
   "execution_count": 112,
   "id": "ffb0b7d8",
   "metadata": {},
   "outputs": [],
   "source": [
    "match=re.search(pattern, string)"
   ]
  },
  {
   "cell_type": "code",
   "execution_count": 113,
   "id": "29b435cc",
   "metadata": {},
   "outputs": [
    {
     "name": "stdout",
     "output_type": "stream",
     "text": [
      "prateek_9090@deloitte.com\n"
     ]
    }
   ],
   "source": [
    "print(match.group(0))"
   ]
  },
  {
   "cell_type": "code",
   "execution_count": 114,
   "id": "a79cb12c",
   "metadata": {},
   "outputs": [],
   "source": [
    "# write a function code that returns number of blank spaces, \n",
    "# special characters and words in a long text"
   ]
  },
  {
   "cell_type": "code",
   "execution_count": 128,
   "id": "931519c2",
   "metadata": {},
   "outputs": [],
   "source": [
    "def counters(s):\n",
    "    pattern_spaces='\\s'\n",
    "    pattern_spcl_chars='\\W'\n",
    "    pattern_words='\\w+'\n",
    "    \n",
    "    space_count=len(re.findall(pattern_spaces,s))\n",
    "    spcl_char_count=len(re.findall(pattern_spcl_chars,s))-space_count\n",
    "    word_count=len(re.findall(pattern_words,s))\n",
    "    \n",
    "    return space_count, spcl_char_count, word_count"
   ]
  },
  {
   "cell_type": "code",
   "execution_count": 129,
   "id": "54897f27",
   "metadata": {},
   "outputs": [
    {
     "data": {
      "text/plain": [
       "(3, 2, 4)"
      ]
     },
     "execution_count": 129,
     "metadata": {},
     "output_type": "execute_result"
    }
   ],
   "source": [
    "counters('hello, I am good!')"
   ]
  },
  {
   "cell_type": "code",
   "execution_count": null,
   "id": "756064d4",
   "metadata": {},
   "outputs": [],
   "source": []
  },
  {
   "cell_type": "code",
   "execution_count": null,
   "id": "916009b4",
   "metadata": {},
   "outputs": [],
   "source": []
  }
 ],
 "metadata": {
  "kernelspec": {
   "display_name": "Python 3 (ipykernel)",
   "language": "python",
   "name": "python3"
  },
  "language_info": {
   "codemirror_mode": {
    "name": "ipython",
    "version": 3
   },
   "file_extension": ".py",
   "mimetype": "text/x-python",
   "name": "python",
   "nbconvert_exporter": "python",
   "pygments_lexer": "ipython3",
   "version": "3.9.12"
  }
 },
 "nbformat": 4,
 "nbformat_minor": 5
}
