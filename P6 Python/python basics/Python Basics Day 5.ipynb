{
 "cells": [
  {
   "cell_type": "markdown",
   "id": "c3847f8e",
   "metadata": {},
   "source": [
    "#### Python Basics Day 5"
   ]
  },
  {
   "cell_type": "markdown",
   "id": "c0b24a39",
   "metadata": {},
   "source": [
    "#### Q1. Write a program to take string S as an input and replace all vowels by *. \n",
    "#### Also print the modified string."
   ]
  },
  {
   "cell_type": "code",
   "execution_count": 2,
   "id": "0bce7ec2",
   "metadata": {},
   "outputs": [
    {
     "name": "stdout",
     "output_type": "stream",
     "text": [
      "Prateek\n",
      "Pr*t**k\n"
     ]
    }
   ],
   "source": [
    "user_string=input()\n",
    "updated_string=''\n",
    "for s in user_string:\n",
    "    updated_string+=s if s.lower() not in ['a','e','i','o','u'] else '*'\n",
    "print(updated_string)"
   ]
  },
  {
   "cell_type": "markdown",
   "id": "21dc7b92",
   "metadata": {},
   "source": [
    "##### Q2. Take two numbers N and K as an input. Create a list L of length N and initialize it with zeros. \n",
    "##### Change the value to 1 of even indexes if k is even, otherwise change the value of odd indexes. \n",
    "#### Print list L in the end.(Consider 0 as even)"
   ]
  },
  {
   "cell_type": "code",
   "execution_count": null,
   "id": "b9b97e38",
   "metadata": {},
   "outputs": [],
   "source": [
    "N=int(input())\n",
    "K=int(input())\n",
    "L=[]\n",
    "if K%2!=0:\n",
    "  for x in range(N):\n",
    "    if x%2==0:\n",
    "      L.append(0)\n",
    "    else:\n",
    "      L.append(1)\n",
    "else:\n",
    "  for x in range(N):\n",
    "    if x%2!=0:\n",
    "        L.append(0)\n",
    "    else:\n",
    "        L.append(1)\n",
    "print(L,end=\"\")"
   ]
  },
  {
   "cell_type": "markdown",
   "id": "8177b499",
   "metadata": {},
   "source": [
    "### Multithreading in Python"
   ]
  },
  {
   "cell_type": "code",
   "execution_count": 14,
   "id": "2d4b6627",
   "metadata": {},
   "outputs": [],
   "source": [
    "# to implement threads\n",
    "\n",
    "import threading\n",
    "import time"
   ]
  },
  {
   "cell_type": "code",
   "execution_count": 4,
   "id": "f80a5956",
   "metadata": {},
   "outputs": [],
   "source": [
    "# threading.Thread(target_process) to initialize thread\n",
    "# start() to run the thread"
   ]
  },
  {
   "cell_type": "code",
   "execution_count": 22,
   "id": "bd7eafa7",
   "metadata": {},
   "outputs": [],
   "source": [
    "def get_sqr(number):\n",
    "    print('Sqr of Number: {0}'.format(number**2))\n",
    "\n",
    "def get_exp(number):\n",
    "    print('Self Exponential: {0}'.format(number**number))\n",
    "    time.sleep(1)"
   ]
  },
  {
   "cell_type": "code",
   "execution_count": 25,
   "id": "0a5a63bb",
   "metadata": {},
   "outputs": [
    {
     "name": "stdout",
     "output_type": "stream",
     "text": [
      "Self Exponential: 1\n",
      "Sqr of Number: 0\n",
      "Self Exponential: 1\n",
      "Sqr of Number: 1\n",
      "Self Exponential: 4\n",
      "Sqr of Number: 4\n",
      "Self Exponential: 27Sqr of Number: 9\n",
      "\n",
      "Self Exponential: 256\n",
      "Sqr of Number: 16\n",
      "Self Exponential: 3125\n",
      "Sqr of Number: 25\n",
      "Self Exponential: 46656\n",
      "Sqr of Number: 36\n",
      "Self Exponential: 823543\n",
      "Sqr of Number: 49\n",
      "Self Exponential: 16777216\n",
      "Sqr of Number: 64\n",
      "Self Exponential: 387420489\n",
      "Sqr of Number: 81\n",
      "main Module Ends!\n"
     ]
    }
   ],
   "source": [
    "if __name__==\"__main__\":\n",
    "    for i in range(10):\n",
    "        t1=threading.Thread(target=get_exp, args=(i,))\n",
    "        t2=threading.Thread(target=get_sqr, args=(i,))\n",
    "        t1.start()\n",
    "        t2.start()\n",
    "        t1.join()\n",
    "        t2.join()\n",
    "    print('main Module Ends!')"
   ]
  },
  {
   "cell_type": "code",
   "execution_count": 28,
   "id": "5ce2ae41",
   "metadata": {},
   "outputs": [
    {
     "name": "stdout",
     "output_type": "stream",
     "text": [
      "Main Process ID: 25864\n",
      "Main thread name: MainThread\n",
      "task 1 assigned to thread Thread-1\n",
      "process running task 1 has ID: 25864\n",
      "task 2 assigned to thread Thread-2\n",
      "process running task 2 has ID: 25864\n"
     ]
    }
   ],
   "source": [
    "import threading\n",
    "import os\n",
    "\n",
    "def task1():\n",
    "    print('task 1 assigned to thread {}'.format(threading.current_thread().name))\n",
    "    print('process running task 1 has ID: {}'.format(os.getpid()))\n",
    "    \n",
    "def task2():\n",
    "    print('task 2 assigned to thread {}'.format(threading.current_thread().name))\n",
    "    print('process running task 2 has ID: {}'.format(os.getpid()))\n",
    "    \n",
    "if __name__==\"__main__\":\n",
    "        print(\"Main Process ID: {}\".format(os.getpid()))\n",
    "        print(\"Main thread name: {}\".format(threading.current_thread().name))\n",
    "        \n",
    "        t1=threading.Thread(target=task1, name='Thread-1')\n",
    "        t2=threading.Thread(target=task2, name='Thread-2')\n",
    "        \n",
    "        t1.start()\n",
    "        t2.start()\n",
    "        t1.join()\n",
    "        t2.join()"
   ]
  },
  {
   "cell_type": "markdown",
   "id": "f64df3b4",
   "metadata": {},
   "source": [
    "### Race Condition and Synchronization"
   ]
  },
  {
   "cell_type": "code",
   "execution_count": 34,
   "id": "4a2d2ad2",
   "metadata": {},
   "outputs": [
    {
     "name": "stdout",
     "output_type": "stream",
     "text": [
      "Iteration No 0, X= 200000\n",
      "Iteration No 1, X= 200000\n",
      "Iteration No 2, X= 200000\n",
      "Iteration No 3, X= 200000\n",
      "Iteration No 4, X= 200000\n",
      "Iteration No 5, X= 200000\n",
      "Iteration No 6, X= 200000\n",
      "Iteration No 7, X= 200000\n",
      "Iteration No 8, X= 200000\n",
      "Iteration No 9, X= 200000\n"
     ]
    }
   ],
   "source": [
    "import threading\n",
    "x=0\n",
    "def increment():\n",
    "    global x\n",
    "    x+=1\n",
    "def task(lock):\n",
    "    for _ in range(100000):\n",
    "        lock.acquire()\n",
    "        increment()\n",
    "        lock.release()\n",
    "\n",
    "def main_task():\n",
    "    global x\n",
    "    x=0\n",
    "    lock=threading.Lock()\n",
    "    t1=threading.Thread(target=task, args=(lock,))\n",
    "    t2=threading.Thread(target=task, args=(lock,))\n",
    "    t1.start()\n",
    "    t2.start()\n",
    "    t1.join()\n",
    "    t2.join()\n",
    "    \n",
    "if __name__==\"__main__\":\n",
    "    for i in range(10):\n",
    "        main_task()\n",
    "        print(\"Iteration No {0}, X= {1}\".format(i, x)) "
   ]
  },
  {
   "cell_type": "code",
   "execution_count": null,
   "id": "e355cd61",
   "metadata": {},
   "outputs": [],
   "source": []
  },
  {
   "cell_type": "code",
   "execution_count": 40,
   "id": "5abe0d64",
   "metadata": {},
   "outputs": [
    {
     "name": "stdout",
     "output_type": "stream",
     "text": [
      "1\n",
      "2\n",
      "3\n",
      "4\n",
      "5\n",
      "exit\n"
     ]
    }
   ],
   "source": [
    "li=[]\n",
    "val=0\n",
    "while val!='exit':\n",
    "    val=input()\n",
    "    li.append(val)"
   ]
  },
  {
   "cell_type": "code",
   "execution_count": 36,
   "id": "5393a3f1",
   "metadata": {},
   "outputs": [
    {
     "data": {
      "text/plain": [
       "[0, 0, 0, 0, 0, 0, 0, 0, 0, 0]"
      ]
     },
     "execution_count": 36,
     "metadata": {},
     "output_type": "execute_result"
    }
   ],
   "source": [
    "li"
   ]
  },
  {
   "cell_type": "code",
   "execution_count": 41,
   "id": "ce568c91",
   "metadata": {},
   "outputs": [
    {
     "name": "stdout",
     "output_type": "stream",
     "text": [
      "1 2 3 4 5\n"
     ]
    }
   ],
   "source": [
    "li=[]\n",
    "vals=input()\n",
    "vals=vals.split()\n",
    "for num in vals:\n",
    "    li.append(int(num))"
   ]
  },
  {
   "cell_type": "code",
   "execution_count": 42,
   "id": "452127e8",
   "metadata": {},
   "outputs": [
    {
     "data": {
      "text/plain": [
       "[1, 2, 3, 4, 5]"
      ]
     },
     "execution_count": 42,
     "metadata": {},
     "output_type": "execute_result"
    }
   ],
   "source": [
    "li"
   ]
  },
  {
   "cell_type": "code",
   "execution_count": 43,
   "id": "d90c5478",
   "metadata": {},
   "outputs": [
    {
     "name": "stdout",
     "output_type": "stream",
     "text": [
      "20\n",
      "30\n"
     ]
    }
   ],
   "source": [
    "x,y=input(),input()"
   ]
  },
  {
   "cell_type": "code",
   "execution_count": 44,
   "id": "d1fa0da6",
   "metadata": {},
   "outputs": [
    {
     "name": "stdout",
     "output_type": "stream",
     "text": [
      "20 30\n"
     ]
    }
   ],
   "source": [
    "print(x,y)"
   ]
  },
  {
   "cell_type": "code",
   "execution_count": 45,
   "id": "8d58e23c",
   "metadata": {},
   "outputs": [
    {
     "name": "stdout",
     "output_type": "stream",
     "text": [
      "1 2 3 4 5 6 7 8 9\n"
     ]
    }
   ],
   "source": [
    "li=input().split()\n",
    "li=[int(x) for x in li]"
   ]
  },
  {
   "cell_type": "code",
   "execution_count": 46,
   "id": "4557169a",
   "metadata": {},
   "outputs": [
    {
     "data": {
      "text/plain": [
       "[1, 2, 3, 4, 5, 6, 7, 8, 9]"
      ]
     },
     "execution_count": 46,
     "metadata": {},
     "output_type": "execute_result"
    }
   ],
   "source": [
    "li"
   ]
  },
  {
   "cell_type": "code",
   "execution_count": null,
   "id": "d2054889",
   "metadata": {},
   "outputs": [],
   "source": []
  },
  {
   "cell_type": "code",
   "execution_count": null,
   "id": "7161ec22",
   "metadata": {},
   "outputs": [],
   "source": []
  },
  {
   "cell_type": "code",
   "execution_count": null,
   "id": "ba5f3623",
   "metadata": {},
   "outputs": [],
   "source": []
  },
  {
   "cell_type": "code",
   "execution_count": null,
   "id": "cba8ca40",
   "metadata": {},
   "outputs": [],
   "source": []
  },
  {
   "cell_type": "code",
   "execution_count": null,
   "id": "aa348824",
   "metadata": {},
   "outputs": [],
   "source": []
  },
  {
   "cell_type": "code",
   "execution_count": null,
   "id": "2062d4a2",
   "metadata": {},
   "outputs": [],
   "source": []
  },
  {
   "cell_type": "code",
   "execution_count": null,
   "id": "8301006b",
   "metadata": {},
   "outputs": [],
   "source": []
  },
  {
   "cell_type": "code",
   "execution_count": null,
   "id": "3da502a8",
   "metadata": {},
   "outputs": [],
   "source": []
  },
  {
   "cell_type": "code",
   "execution_count": null,
   "id": "f033b9ca",
   "metadata": {},
   "outputs": [],
   "source": []
  },
  {
   "cell_type": "code",
   "execution_count": null,
   "id": "de8e6b95",
   "metadata": {},
   "outputs": [],
   "source": []
  },
  {
   "cell_type": "code",
   "execution_count": null,
   "id": "df7afabe",
   "metadata": {},
   "outputs": [],
   "source": []
  },
  {
   "cell_type": "code",
   "execution_count": null,
   "id": "e615bc4f",
   "metadata": {},
   "outputs": [],
   "source": []
  },
  {
   "cell_type": "code",
   "execution_count": null,
   "id": "6b17a298",
   "metadata": {},
   "outputs": [],
   "source": []
  },
  {
   "cell_type": "code",
   "execution_count": null,
   "id": "8542cfb1",
   "metadata": {},
   "outputs": [],
   "source": []
  },
  {
   "cell_type": "code",
   "execution_count": null,
   "id": "a875a3b3",
   "metadata": {},
   "outputs": [],
   "source": []
  },
  {
   "cell_type": "code",
   "execution_count": null,
   "id": "27844ea7",
   "metadata": {},
   "outputs": [],
   "source": []
  },
  {
   "cell_type": "code",
   "execution_count": null,
   "id": "734fe655",
   "metadata": {},
   "outputs": [],
   "source": []
  },
  {
   "cell_type": "code",
   "execution_count": null,
   "id": "59874f12",
   "metadata": {},
   "outputs": [],
   "source": []
  },
  {
   "cell_type": "code",
   "execution_count": null,
   "id": "188f38a2",
   "metadata": {},
   "outputs": [],
   "source": []
  },
  {
   "cell_type": "code",
   "execution_count": null,
   "id": "c5845782",
   "metadata": {},
   "outputs": [],
   "source": []
  },
  {
   "cell_type": "code",
   "execution_count": null,
   "id": "ab083cd7",
   "metadata": {},
   "outputs": [],
   "source": []
  },
  {
   "cell_type": "code",
   "execution_count": null,
   "id": "860c5e31",
   "metadata": {},
   "outputs": [],
   "source": []
  }
 ],
 "metadata": {
  "kernelspec": {
   "display_name": "Python 3 (ipykernel)",
   "language": "python",
   "name": "python3"
  },
  "language_info": {
   "codemirror_mode": {
    "name": "ipython",
    "version": 3
   },
   "file_extension": ".py",
   "mimetype": "text/x-python",
   "name": "python",
   "nbconvert_exporter": "python",
   "pygments_lexer": "ipython3",
   "version": "3.9.12"
  }
 },
 "nbformat": 4,
 "nbformat_minor": 5
}
