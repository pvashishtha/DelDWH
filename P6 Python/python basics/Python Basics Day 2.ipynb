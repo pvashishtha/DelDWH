{
 "cells": [
  {
   "cell_type": "markdown",
   "id": "3a33793b",
   "metadata": {},
   "source": [
    "### Python Basics Day 2"
   ]
  },
  {
   "cell_type": "markdown",
   "id": "a9337bfb",
   "metadata": {},
   "source": [
    "##### Write a program to print following pattern\n",
    "\n",
    "##### A\n",
    "##### B C\n",
    "##### D E F\n",
    "##### G H I J\n",
    "##### K L M N O\n",
    "##### P Q R S T U"
   ]
  },
  {
   "cell_type": "code",
   "execution_count": 2,
   "id": "fd02edf7",
   "metadata": {},
   "outputs": [
    {
     "name": "stdout",
     "output_type": "stream",
     "text": [
      "A \n",
      "B C \n",
      "D E F \n",
      "G H I J \n",
      "K L M N O \n",
      "P Q R S T U \n"
     ]
    }
   ],
   "source": [
    "char=65\n",
    "for i in range(1,7):\n",
    "    for j in range(i):\n",
    "        print(chr(char), end=' ')\n",
    "        char+=1\n",
    "    print()"
   ]
  },
  {
   "cell_type": "markdown",
   "id": "3ee80a16",
   "metadata": {},
   "source": [
    "## Python Functions"
   ]
  },
  {
   "cell_type": "code",
   "execution_count": 3,
   "id": "7f536033",
   "metadata": {},
   "outputs": [],
   "source": [
    "def function_name(x,y,z):\n",
    "    print(x,y,z)\n",
    "    return None"
   ]
  },
  {
   "cell_type": "code",
   "execution_count": 4,
   "id": "62231390",
   "metadata": {},
   "outputs": [
    {
     "name": "stdout",
     "output_type": "stream",
     "text": [
      "10 20 30\n"
     ]
    }
   ],
   "source": [
    "function_name(10,20,30)"
   ]
  },
  {
   "cell_type": "code",
   "execution_count": 5,
   "id": "ad2e8f54",
   "metadata": {},
   "outputs": [],
   "source": [
    "def func():\n",
    "    print('no parameter func')"
   ]
  },
  {
   "cell_type": "code",
   "execution_count": 6,
   "id": "ab510e38",
   "metadata": {},
   "outputs": [
    {
     "name": "stdout",
     "output_type": "stream",
     "text": [
      "no parameter func\n"
     ]
    }
   ],
   "source": [
    "func()"
   ]
  },
  {
   "cell_type": "code",
   "execution_count": 7,
   "id": "9ed98540",
   "metadata": {},
   "outputs": [],
   "source": [
    "def func():\n",
    "    return \"Hello\""
   ]
  },
  {
   "cell_type": "code",
   "execution_count": 9,
   "id": "3921d2b8",
   "metadata": {},
   "outputs": [
    {
     "name": "stdout",
     "output_type": "stream",
     "text": [
      "Hello\n"
     ]
    }
   ],
   "source": [
    "msg=func()\n",
    "print(msg)"
   ]
  },
  {
   "cell_type": "code",
   "execution_count": 10,
   "id": "35146c21",
   "metadata": {},
   "outputs": [],
   "source": [
    "# default parameters\n",
    "\n",
    "def func(x,y=20):\n",
    "    return x+y"
   ]
  },
  {
   "cell_type": "code",
   "execution_count": 11,
   "id": "0950dff8",
   "metadata": {},
   "outputs": [
    {
     "data": {
      "text/plain": [
       "80"
      ]
     },
     "execution_count": 11,
     "metadata": {},
     "output_type": "execute_result"
    }
   ],
   "source": [
    "func(35,45)"
   ]
  },
  {
   "cell_type": "code",
   "execution_count": 12,
   "id": "faf01f66",
   "metadata": {},
   "outputs": [
    {
     "data": {
      "text/plain": [
       "55"
      ]
     },
     "execution_count": 12,
     "metadata": {},
     "output_type": "execute_result"
    }
   ],
   "source": [
    "func(35)"
   ]
  },
  {
   "cell_type": "code",
   "execution_count": 14,
   "id": "62a35455",
   "metadata": {},
   "outputs": [],
   "source": [
    "def func(b,c,d,a=10,e=40,f=60): # default arg must follow no-default args\n",
    "    return a+b+c+d+e+f"
   ]
  },
  {
   "cell_type": "code",
   "execution_count": 15,
   "id": "f26014a7",
   "metadata": {},
   "outputs": [],
   "source": [
    "# keyword args\n",
    "\n",
    "def message(greet, company):\n",
    "    return greet+' '+company"
   ]
  },
  {
   "cell_type": "code",
   "execution_count": 18,
   "id": "20ebfff1",
   "metadata": {},
   "outputs": [
    {
     "data": {
      "text/plain": [
       "'welcome to deloitte'"
      ]
     },
     "execution_count": 18,
     "metadata": {},
     "output_type": "execute_result"
    }
   ],
   "source": [
    "message(company='deloitte',greet='welcome to')"
   ]
  },
  {
   "cell_type": "code",
   "execution_count": 20,
   "id": "839c56cd",
   "metadata": {},
   "outputs": [
    {
     "name": "stdout",
     "output_type": "stream",
     "text": [
      "welcome to deloitte\n",
      "welcome to deloitte\n",
      "welcome to deloitte\n",
      "welcome to deloitte\n",
      "welcome to deloitte\n"
     ]
    }
   ],
   "source": [
    "for i in range(5):\n",
    "    print(message(company='deloitte',greet='welcome to'))"
   ]
  },
  {
   "cell_type": "code",
   "execution_count": 21,
   "id": "b09f58fd",
   "metadata": {},
   "outputs": [],
   "source": [
    "def invoke():\n",
    "    for i in range(5):\n",
    "        print(message(company='deloitte',greet='welcome to'))\n",
    "    return None"
   ]
  },
  {
   "cell_type": "code",
   "execution_count": 22,
   "id": "8db7cf86",
   "metadata": {},
   "outputs": [
    {
     "name": "stdout",
     "output_type": "stream",
     "text": [
      "welcome to deloitte\n",
      "welcome to deloitte\n",
      "welcome to deloitte\n",
      "welcome to deloitte\n",
      "welcome to deloitte\n"
     ]
    }
   ],
   "source": [
    "invoke()"
   ]
  },
  {
   "cell_type": "code",
   "execution_count": 23,
   "id": "0400dd60",
   "metadata": {},
   "outputs": [],
   "source": [
    "def draw(shape, size_mm, color='red', annotation=True):\n",
    "    print(shape, size_mm, color, annotation)\n",
    "    return None"
   ]
  },
  {
   "cell_type": "code",
   "execution_count": 26,
   "id": "81b4302e",
   "metadata": {},
   "outputs": [
    {
     "name": "stdout",
     "output_type": "stream",
     "text": [
      "circle 34 red False\n"
     ]
    }
   ],
   "source": [
    "draw('circle', 34, annotation=False)"
   ]
  },
  {
   "cell_type": "code",
   "execution_count": 27,
   "id": "c16cd386",
   "metadata": {},
   "outputs": [],
   "source": [
    "# write a function that checks whether given number is prime or not\n",
    "# if not prime, find the factorial of the number by calling another \n",
    "# function and return the result back to calling statement.\n",
    "\n",
    "# Example Run:\n",
    "# find_fact(7) - Prime Number, Factorial Not Calculated\n",
    "# find_fact(4) - Not Prime, Factorial is: 24"
   ]
  },
  {
   "cell_type": "code",
   "execution_count": 28,
   "id": "5987fab4",
   "metadata": {},
   "outputs": [],
   "source": [
    "def find_fact(n):\n",
    "    fact=1\n",
    "    for i in range(1,n+1):\n",
    "        fact=fact*i;\n",
    "    return fact\n"
   ]
  },
  {
   "cell_type": "code",
   "execution_count": 30,
   "id": "42e9d906",
   "metadata": {},
   "outputs": [],
   "source": [
    "def check_prime(n):\n",
    "    flag=0\n",
    "    for i in range(2,n//2+1):\n",
    "        if n%i==0:\n",
    "            flag=1\n",
    "            break\n",
    "    if flag==1:\n",
    "        print('Not Prime')\n",
    "        return find_fact(n)\n",
    "    else:\n",
    "        print('Prime Number, Factorial Not Calculated')\n",
    "    return None"
   ]
  },
  {
   "cell_type": "code",
   "execution_count": 31,
   "id": "330ddb61",
   "metadata": {},
   "outputs": [
    {
     "name": "stdout",
     "output_type": "stream",
     "text": [
      "Prime Number, Factorial Not Calculated\n"
     ]
    }
   ],
   "source": [
    "check_prime(5)"
   ]
  },
  {
   "cell_type": "code",
   "execution_count": 32,
   "id": "2b79de63",
   "metadata": {},
   "outputs": [
    {
     "name": "stdout",
     "output_type": "stream",
     "text": [
      "Not Prime\n"
     ]
    },
    {
     "data": {
      "text/plain": [
       "720"
      ]
     },
     "execution_count": 32,
     "metadata": {},
     "output_type": "execute_result"
    }
   ],
   "source": [
    "check_prime(6)"
   ]
  },
  {
   "cell_type": "code",
   "execution_count": 33,
   "id": "0ccf3ab0",
   "metadata": {},
   "outputs": [],
   "source": [
    "# RECURSION\n",
    "def fact(n):\n",
    "    if n<1:\n",
    "        return 1\n",
    "    else:\n",
    "        return n*fact(n-1)"
   ]
  },
  {
   "cell_type": "code",
   "execution_count": 34,
   "id": "e5857a72",
   "metadata": {},
   "outputs": [
    {
     "data": {
      "text/plain": [
       "120"
      ]
     },
     "execution_count": 34,
     "metadata": {},
     "output_type": "execute_result"
    }
   ],
   "source": [
    "fact(5)"
   ]
  },
  {
   "cell_type": "code",
   "execution_count": 35,
   "id": "2e8b0477",
   "metadata": {},
   "outputs": [],
   "source": [
    "# write a function that will keep accepting integer values from user as\n",
    "# input, calculates and prints back the cube of number.\n",
    "# function should stop when the input value is 7.\n",
    "\n",
    "# Example Run:\n",
    "# 1 1\n",
    "# 2 8\n",
    "# 2 8\n",
    "# 3 27\n",
    "# 1 1\n",
    "# 5 125\n",
    "# 4 64\n",
    "# 7"
   ]
  },
  {
   "cell_type": "code",
   "execution_count": 37,
   "id": "85892267",
   "metadata": {},
   "outputs": [],
   "source": [
    "def cube_mania():\n",
    "    while True:\n",
    "        n=int(input())\n",
    "        if n==7:\n",
    "            print(n)\n",
    "            break\n",
    "        else:\n",
    "            print(n, n**3)\n",
    "    return None"
   ]
  },
  {
   "cell_type": "code",
   "execution_count": 38,
   "id": "23a8898d",
   "metadata": {},
   "outputs": [
    {
     "name": "stdout",
     "output_type": "stream",
     "text": [
      "3\n",
      "3 27\n",
      "5\n",
      "5 125\n",
      "2\n",
      "2 8\n",
      "1\n",
      "1 1\n",
      "6\n",
      "6 216\n",
      "7\n",
      "7\n"
     ]
    }
   ],
   "source": [
    "cube_mania()"
   ]
  },
  {
   "cell_type": "code",
   "execution_count": 39,
   "id": "f13e6856",
   "metadata": {},
   "outputs": [],
   "source": [
    "def cube(n):\n",
    "    return n**3"
   ]
  },
  {
   "cell_type": "code",
   "execution_count": 41,
   "id": "0ae2c9e2",
   "metadata": {},
   "outputs": [
    {
     "name": "stdout",
     "output_type": "stream",
     "text": [
      "4\n",
      "4 64\n",
      "3\n",
      "3 27\n",
      "2\n",
      "2 8\n",
      "5\n",
      "5 125\n",
      "6\n",
      "6 216\n",
      "7\n"
     ]
    }
   ],
   "source": [
    "n=int(input())\n",
    "while (n!=7):\n",
    "    print(n,cube(n))\n",
    "    n=int(input())"
   ]
  },
  {
   "cell_type": "markdown",
   "id": "2de61d40",
   "metadata": {},
   "source": [
    "### Scope of Variables"
   ]
  },
  {
   "cell_type": "code",
   "execution_count": 45,
   "id": "6c530e1b",
   "metadata": {},
   "outputs": [
    {
     "name": "stdout",
     "output_type": "stream",
     "text": [
      "value of x=  10\n",
      "value of y=  20\n",
      "value of x+y=  30\n"
     ]
    }
   ],
   "source": [
    "x=10\n",
    "if x<100:\n",
    "    y=20\n",
    "    print('value of x= ',x)\n",
    "    print('value of y= ',y)\n",
    "print('value of x+y= ',x+y)"
   ]
  },
  {
   "cell_type": "code",
   "execution_count": 47,
   "id": "5763721e",
   "metadata": {},
   "outputs": [
    {
     "name": "stdout",
     "output_type": "stream",
     "text": [
      "value of x=  10\n",
      "value of y=  20\n",
      "value of x=  10\n",
      "value of y=  20\n",
      "value of x=  10\n",
      "value of y=  20\n",
      "value of x+y=  32\n"
     ]
    }
   ],
   "source": [
    "x=10\n",
    "for i in range(3):\n",
    "    y=20\n",
    "    print('value of x= ',x)\n",
    "    print('value of y= ',y)\n",
    "print('value of x+y= ',x+y+i)"
   ]
  },
  {
   "cell_type": "code",
   "execution_count": 51,
   "id": "1805a7e1",
   "metadata": {},
   "outputs": [
    {
     "name": "stdout",
     "output_type": "stream",
     "text": [
      "value of x=  10\n",
      "value of y=  20\n",
      "value of x+y=  30\n"
     ]
    }
   ],
   "source": [
    "x=10\n",
    "def func():\n",
    "    y=20\n",
    "    print('value of x= ',x)\n",
    "    print('value of y= ',y)\n",
    "func()\n",
    "print('value of x+y= ',x+y)"
   ]
  },
  {
   "cell_type": "code",
   "execution_count": 52,
   "id": "d1be4964",
   "metadata": {},
   "outputs": [],
   "source": [
    "def func2():\n",
    "    print(y)"
   ]
  },
  {
   "cell_type": "code",
   "execution_count": 53,
   "id": "4d048b57",
   "metadata": {},
   "outputs": [
    {
     "name": "stdout",
     "output_type": "stream",
     "text": [
      "20\n"
     ]
    }
   ],
   "source": [
    "func2()"
   ]
  },
  {
   "cell_type": "code",
   "execution_count": 55,
   "id": "9e54d44c",
   "metadata": {},
   "outputs": [],
   "source": [
    "global x"
   ]
  },
  {
   "cell_type": "code",
   "execution_count": null,
   "id": "146fcc4a",
   "metadata": {},
   "outputs": [],
   "source": []
  },
  {
   "cell_type": "markdown",
   "id": "1f139448",
   "metadata": {},
   "source": [
    "### Strings"
   ]
  },
  {
   "cell_type": "code",
   "execution_count": 56,
   "id": "62667fda",
   "metadata": {},
   "outputs": [],
   "source": [
    "# sequence of characters\n",
    "\n",
    "s='hello world'"
   ]
  },
  {
   "cell_type": "code",
   "execution_count": 57,
   "id": "f12abf6e",
   "metadata": {},
   "outputs": [
    {
     "data": {
      "text/plain": [
       "str"
      ]
     },
     "execution_count": 57,
     "metadata": {},
     "output_type": "execute_result"
    }
   ],
   "source": [
    "type(s)"
   ]
  },
  {
   "cell_type": "code",
   "execution_count": 58,
   "id": "0e3442b9",
   "metadata": {},
   "outputs": [
    {
     "data": {
      "text/plain": [
       "'h'"
      ]
     },
     "execution_count": 58,
     "metadata": {},
     "output_type": "execute_result"
    }
   ],
   "source": [
    "s[0]"
   ]
  },
  {
   "cell_type": "code",
   "execution_count": 60,
   "id": "f00752c6",
   "metadata": {},
   "outputs": [
    {
     "data": {
      "text/plain": [
       "'w'"
      ]
     },
     "execution_count": 60,
     "metadata": {},
     "output_type": "execute_result"
    }
   ],
   "source": [
    "s[-5]"
   ]
  },
  {
   "cell_type": "code",
   "execution_count": 61,
   "id": "79060989",
   "metadata": {},
   "outputs": [
    {
     "data": {
      "text/plain": [
       "11"
      ]
     },
     "execution_count": 61,
     "metadata": {},
     "output_type": "execute_result"
    }
   ],
   "source": [
    "len(s)"
   ]
  },
  {
   "cell_type": "code",
   "execution_count": 62,
   "id": "1d7a709e",
   "metadata": {},
   "outputs": [
    {
     "data": {
      "text/plain": [
       "'hel'"
      ]
     },
     "execution_count": 62,
     "metadata": {},
     "output_type": "execute_result"
    }
   ],
   "source": [
    "# subscripting\n",
    "\n",
    "s[0:3]"
   ]
  },
  {
   "cell_type": "code",
   "execution_count": 64,
   "id": "17e0a36e",
   "metadata": {},
   "outputs": [
    {
     "data": {
      "text/plain": [
       "'rl'"
      ]
     },
     "execution_count": 64,
     "metadata": {},
     "output_type": "execute_result"
    }
   ],
   "source": [
    "s[-3:-1]"
   ]
  },
  {
   "cell_type": "code",
   "execution_count": 65,
   "id": "f4c496d2",
   "metadata": {},
   "outputs": [
    {
     "data": {
      "text/plain": [
       "'o world'"
      ]
     },
     "execution_count": 65,
     "metadata": {},
     "output_type": "execute_result"
    }
   ],
   "source": [
    "s[4:]"
   ]
  },
  {
   "cell_type": "code",
   "execution_count": 66,
   "id": "4717ea68",
   "metadata": {},
   "outputs": [
    {
     "data": {
      "text/plain": [
       "'orld'"
      ]
     },
     "execution_count": 66,
     "metadata": {},
     "output_type": "execute_result"
    }
   ],
   "source": [
    "s[-4:]"
   ]
  },
  {
   "cell_type": "code",
   "execution_count": 67,
   "id": "34cc2b52",
   "metadata": {},
   "outputs": [
    {
     "data": {
      "text/plain": [
       "'dlrow olleh'"
      ]
     },
     "execution_count": 67,
     "metadata": {},
     "output_type": "execute_result"
    }
   ],
   "source": [
    "s[::-1]"
   ]
  },
  {
   "cell_type": "code",
   "execution_count": 70,
   "id": "9ca24101",
   "metadata": {},
   "outputs": [
    {
     "name": "stdout",
     "output_type": "stream",
     "text": [
      "4\n"
     ]
    }
   ],
   "source": [
    "blank=0\n",
    "for ch in 'hello how are you today':\n",
    "    if ch==' ':\n",
    "        blank+=1\n",
    "print(blank)"
   ]
  },
  {
   "cell_type": "markdown",
   "id": "5cabd4c4",
   "metadata": {},
   "source": [
    "#### String Functions"
   ]
  },
  {
   "cell_type": "code",
   "execution_count": 71,
   "id": "ba13b136",
   "metadata": {},
   "outputs": [
    {
     "data": {
      "text/plain": [
       "'HELLO WORLD'"
      ]
     },
     "execution_count": 71,
     "metadata": {},
     "output_type": "execute_result"
    }
   ],
   "source": [
    "s.upper()"
   ]
  },
  {
   "cell_type": "code",
   "execution_count": 72,
   "id": "b161ccb1",
   "metadata": {},
   "outputs": [
    {
     "data": {
      "text/plain": [
       "'hello deloitte'"
      ]
     },
     "execution_count": 72,
     "metadata": {},
     "output_type": "execute_result"
    }
   ],
   "source": [
    "s='HELLO DELOITTE'\n",
    "s.lower()"
   ]
  },
  {
   "cell_type": "code",
   "execution_count": 73,
   "id": "45454a46",
   "metadata": {},
   "outputs": [
    {
     "data": {
      "text/plain": [
       "False"
      ]
     },
     "execution_count": 73,
     "metadata": {},
     "output_type": "execute_result"
    }
   ],
   "source": [
    "s.islower()"
   ]
  },
  {
   "cell_type": "code",
   "execution_count": 74,
   "id": "94dfe63a",
   "metadata": {},
   "outputs": [
    {
     "data": {
      "text/plain": [
       "True"
      ]
     },
     "execution_count": 74,
     "metadata": {},
     "output_type": "execute_result"
    }
   ],
   "source": [
    "s.isupper()"
   ]
  },
  {
   "cell_type": "code",
   "execution_count": 76,
   "id": "bf01ca31",
   "metadata": {},
   "outputs": [
    {
     "data": {
      "text/plain": [
       "True"
      ]
     },
     "execution_count": 76,
     "metadata": {},
     "output_type": "execute_result"
    }
   ],
   "source": [
    "s='abc123'\n",
    "s.isalnum()"
   ]
  },
  {
   "cell_type": "code",
   "execution_count": 78,
   "id": "c953e60c",
   "metadata": {},
   "outputs": [
    {
     "data": {
      "text/plain": [
       "False"
      ]
     },
     "execution_count": 78,
     "metadata": {},
     "output_type": "execute_result"
    }
   ],
   "source": [
    "s='123'\n",
    "s.isalpha()"
   ]
  },
  {
   "cell_type": "code",
   "execution_count": 79,
   "id": "0be22053",
   "metadata": {},
   "outputs": [
    {
     "data": {
      "text/plain": [
       "'123123123123123123123123123123123123'"
      ]
     },
     "execution_count": 79,
     "metadata": {},
     "output_type": "execute_result"
    }
   ],
   "source": [
    "s*12"
   ]
  },
  {
   "cell_type": "code",
   "execution_count": 80,
   "id": "def278e4",
   "metadata": {},
   "outputs": [
    {
     "data": {
      "text/plain": [
       "'prateekvashishtha'"
      ]
     },
     "execution_count": 80,
     "metadata": {},
     "output_type": "execute_result"
    }
   ],
   "source": [
    "fname='prateek'\n",
    "lname='vashishtha'\n",
    "fname+lname"
   ]
  },
  {
   "cell_type": "code",
   "execution_count": 81,
   "id": "87be0fc8",
   "metadata": {},
   "outputs": [],
   "source": [
    "s=\"He said, \\\"I am not going\\\". Then he left\""
   ]
  },
  {
   "cell_type": "code",
   "execution_count": 82,
   "id": "c02dd977",
   "metadata": {},
   "outputs": [
    {
     "data": {
      "text/plain": [
       "'He said, \"I am not going\". Then he left'"
      ]
     },
     "execution_count": 82,
     "metadata": {},
     "output_type": "execute_result"
    }
   ],
   "source": [
    "s"
   ]
  },
  {
   "cell_type": "code",
   "execution_count": 83,
   "id": "83a80ea3",
   "metadata": {},
   "outputs": [],
   "source": [
    "s='hello deloitte \\n i am excited!'"
   ]
  },
  {
   "cell_type": "code",
   "execution_count": 89,
   "id": "821b1b44",
   "metadata": {},
   "outputs": [
    {
     "name": "stdout",
     "output_type": "stream",
     "text": [
      "hello deloitte \n",
      " i am excited!\n"
     ]
    }
   ],
   "source": [
    "print(s)"
   ]
  },
  {
   "cell_type": "code",
   "execution_count": 90,
   "id": "7edfbb02",
   "metadata": {},
   "outputs": [
    {
     "name": "stdout",
     "output_type": "stream",
     "text": [
      "hello deloitte \\n i am excited!\n"
     ]
    }
   ],
   "source": [
    "print(r'hello deloitte \\n i am excited!')"
   ]
  },
  {
   "cell_type": "code",
   "execution_count": 93,
   "id": "7822d9df",
   "metadata": {},
   "outputs": [
    {
     "name": "stdout",
     "output_type": "stream",
     "text": [
      "hello deloitte \tjoinees\n"
     ]
    }
   ],
   "source": [
    "print('hello deloitte \\tjoinees')"
   ]
  },
  {
   "cell_type": "code",
   "execution_count": 99,
   "id": "2ffe0a9d",
   "metadata": {},
   "outputs": [
    {
     "name": "stdout",
     "output_type": "stream",
     "text": [
      "Hi Prateek, Your discount is 20 percent\n"
     ]
    }
   ],
   "source": [
    "fname='Prateek'\n",
    "disc=20\n",
    "print(\"Hi %s, Your discount is %d percent\"%(fname,disc))"
   ]
  },
  {
   "cell_type": "code",
   "execution_count": 101,
   "id": "453963e5",
   "metadata": {},
   "outputs": [
    {
     "name": "stdout",
     "output_type": "stream",
     "text": [
      "Hi Prateek, Your discount is 20 percent\n"
     ]
    }
   ],
   "source": [
    "print(\"Hi \"+fname+\", Your discount is \"+str(disc)+\" percent\")"
   ]
  },
  {
   "cell_type": "code",
   "execution_count": 103,
   "id": "a9a24f7c",
   "metadata": {},
   "outputs": [
    {
     "name": "stdout",
     "output_type": "stream",
     "text": [
      "Hi Prateek, your discount is 20 percent\n"
     ]
    }
   ],
   "source": [
    "print(\"Hi {0}, your discount is {1} percent\".format(fname, disc))"
   ]
  },
  {
   "cell_type": "code",
   "execution_count": 104,
   "id": "8826c419",
   "metadata": {},
   "outputs": [
    {
     "name": "stdout",
     "output_type": "stream",
     "text": [
      "Hi Prateek, your discount is 20 percent\n"
     ]
    }
   ],
   "source": [
    "print(\"Hi {name}, your discount is {discount} percent\".\n",
    "     format(name=fname, discount=disc))"
   ]
  },
  {
   "cell_type": "code",
   "execution_count": 105,
   "id": "f9632f0d",
   "metadata": {},
   "outputs": [
    {
     "data": {
      "text/plain": [
       "'567'"
      ]
     },
     "execution_count": 105,
     "metadata": {},
     "output_type": "execute_result"
    }
   ],
   "source": [
    "str(567)"
   ]
  },
  {
   "cell_type": "code",
   "execution_count": 106,
   "id": "ad7148b4",
   "metadata": {},
   "outputs": [],
   "source": [
    "str=45"
   ]
  },
  {
   "cell_type": "code",
   "execution_count": 107,
   "id": "38a4b411",
   "metadata": {},
   "outputs": [
    {
     "ename": "TypeError",
     "evalue": "'int' object is not callable",
     "output_type": "error",
     "traceback": [
      "\u001b[1;31m---------------------------------------------------------------------------\u001b[0m",
      "\u001b[1;31mTypeError\u001b[0m                                 Traceback (most recent call last)",
      "Input \u001b[1;32mIn [107]\u001b[0m, in \u001b[0;36m<cell line: 1>\u001b[1;34m()\u001b[0m\n\u001b[1;32m----> 1\u001b[0m \u001b[38;5;28;43mstr\u001b[39;49m\u001b[43m(\u001b[49m\u001b[38;5;241;43m567\u001b[39;49m\u001b[43m)\u001b[49m\n",
      "\u001b[1;31mTypeError\u001b[0m: 'int' object is not callable"
     ]
    }
   ],
   "source": [
    "str(567)"
   ]
  },
  {
   "cell_type": "code",
   "execution_count": 108,
   "id": "3385d944",
   "metadata": {},
   "outputs": [],
   "source": [
    "def str():\n",
    "    return 'hi'"
   ]
  },
  {
   "cell_type": "code",
   "execution_count": 110,
   "id": "24c4e766",
   "metadata": {},
   "outputs": [
    {
     "data": {
      "text/plain": [
       "'hi'"
      ]
     },
     "execution_count": 110,
     "metadata": {},
     "output_type": "execute_result"
    }
   ],
   "source": [
    "str()"
   ]
  },
  {
   "cell_type": "code",
   "execution_count": 113,
   "id": "9ff61fbf",
   "metadata": {},
   "outputs": [
    {
     "data": {
      "text/plain": [
       "'Hello deloitte \\n i am excited!'"
      ]
     },
     "execution_count": 113,
     "metadata": {},
     "output_type": "execute_result"
    }
   ],
   "source": [
    "s.capitalize()"
   ]
  },
  {
   "cell_type": "code",
   "execution_count": 114,
   "id": "9a6ffc0c",
   "metadata": {},
   "outputs": [
    {
     "data": {
      "text/plain": [
       "'hello deloitte \\n i am excited!'"
      ]
     },
     "execution_count": 114,
     "metadata": {},
     "output_type": "execute_result"
    }
   ],
   "source": [
    "s.casefold()"
   ]
  },
  {
   "cell_type": "code",
   "execution_count": 117,
   "id": "32da2182",
   "metadata": {},
   "outputs": [
    {
     "data": {
      "text/plain": [
       "'******deloitte******'"
      ]
     },
     "execution_count": 117,
     "metadata": {},
     "output_type": "execute_result"
    }
   ],
   "source": [
    "s='deloitte'\n",
    "s.center(20, '*')"
   ]
  },
  {
   "cell_type": "code",
   "execution_count": 120,
   "id": "e004c3f5",
   "metadata": {},
   "outputs": [
    {
     "data": {
      "text/plain": [
       "3"
      ]
     },
     "execution_count": 120,
     "metadata": {},
     "output_type": "execute_result"
    }
   ],
   "source": [
    "s='deloitte is largest consulting group. deloitte is best. deloitte is located in india'\n",
    "s.count('deloitte')"
   ]
  },
  {
   "cell_type": "code",
   "execution_count": 121,
   "id": "611cb269",
   "metadata": {},
   "outputs": [
    {
     "data": {
      "text/plain": [
       "b'deloitte is largest consulting group. deloitte is best. deloitte is located in india'"
      ]
     },
     "execution_count": 121,
     "metadata": {},
     "output_type": "execute_result"
    }
   ],
   "source": [
    "s.encode('ASCII')"
   ]
  },
  {
   "cell_type": "code",
   "execution_count": 123,
   "id": "68deaf7b",
   "metadata": {},
   "outputs": [],
   "source": [
    "# other functions"
   ]
  },
  {
   "cell_type": "code",
   "execution_count": 125,
   "id": "4961112d",
   "metadata": {},
   "outputs": [
    {
     "data": {
      "text/plain": [
       "True"
      ]
     },
     "execution_count": 125,
     "metadata": {},
     "output_type": "execute_result"
    }
   ],
   "source": [
    "s.endswith('india')"
   ]
  },
  {
   "cell_type": "code",
   "execution_count": 126,
   "id": "ee4ddc8a",
   "metadata": {},
   "outputs": [
    {
     "data": {
      "text/plain": [
       "True"
      ]
     },
     "execution_count": 126,
     "metadata": {},
     "output_type": "execute_result"
    }
   ],
   "source": [
    "s.startswith('deloitte')"
   ]
  },
  {
   "cell_type": "code",
   "execution_count": 140,
   "id": "5c2979b4",
   "metadata": {},
   "outputs": [
    {
     "data": {
      "text/plain": [
       "True"
      ]
     },
     "execution_count": 140,
     "metadata": {},
     "output_type": "execute_result"
    }
   ],
   "source": [
    "st='46'\n",
    "st.isdigit()"
   ]
  },
  {
   "cell_type": "code",
   "execution_count": 142,
   "id": "648bd7e6",
   "metadata": {},
   "outputs": [
    {
     "data": {
      "text/plain": [
       "False"
      ]
     },
     "execution_count": 142,
     "metadata": {},
     "output_type": "execute_result"
    }
   ],
   "source": [
    "st='56.90'\n",
    "st.isdecimal()"
   ]
  },
  {
   "cell_type": "code",
   "execution_count": 146,
   "id": "1f56ee1c",
   "metadata": {},
   "outputs": [
    {
     "data": {
      "text/plain": [
       "56"
      ]
     },
     "execution_count": 146,
     "metadata": {},
     "output_type": "execute_result"
    }
   ],
   "source": [
    "s.find('deloitte',40)"
   ]
  },
  {
   "cell_type": "code",
   "execution_count": 148,
   "id": "6d384d9d",
   "metadata": {},
   "outputs": [
    {
     "data": {
      "text/plain": [
       "38"
      ]
     },
     "execution_count": 148,
     "metadata": {},
     "output_type": "execute_result"
    }
   ],
   "source": [
    "s.find('deloitte',20,48)"
   ]
  },
  {
   "cell_type": "code",
   "execution_count": 149,
   "id": "93269202",
   "metadata": {},
   "outputs": [
    {
     "data": {
      "text/plain": [
       "0"
      ]
     },
     "execution_count": 149,
     "metadata": {},
     "output_type": "execute_result"
    }
   ],
   "source": [
    "s.index('deloitte')"
   ]
  },
  {
   "cell_type": "code",
   "execution_count": 152,
   "id": "a15e4570",
   "metadata": {},
   "outputs": [
    {
     "ename": "ValueError",
     "evalue": "substring not found",
     "output_type": "error",
     "traceback": [
      "\u001b[1;31m---------------------------------------------------------------------------\u001b[0m",
      "\u001b[1;31mValueError\u001b[0m                                Traceback (most recent call last)",
      "Input \u001b[1;32mIn [152]\u001b[0m, in \u001b[0;36m<cell line: 1>\u001b[1;34m()\u001b[0m\n\u001b[1;32m----> 1\u001b[0m \u001b[43ms\u001b[49m\u001b[38;5;241;43m.\u001b[39;49m\u001b[43mindex\u001b[49m\u001b[43m(\u001b[49m\u001b[38;5;124;43m'\u001b[39;49m\u001b[38;5;124;43mdeloitte\u001b[39;49m\u001b[38;5;124;43m'\u001b[39;49m\u001b[43m,\u001b[49m\u001b[38;5;241;43m20\u001b[39;49m\u001b[43m,\u001b[49m\u001b[38;5;241;43m40\u001b[39;49m\u001b[43m)\u001b[49m\n",
      "\u001b[1;31mValueError\u001b[0m: substring not found"
     ]
    }
   ],
   "source": [
    "s.index('deloitte',20,40)"
   ]
  },
  {
   "cell_type": "code",
   "execution_count": 161,
   "id": "6b58b1cb",
   "metadata": {},
   "outputs": [
    {
     "data": {
      "text/plain": [
       "True"
      ]
     },
     "execution_count": 161,
     "metadata": {},
     "output_type": "execute_result"
    }
   ],
   "source": [
    "st='fact'\n",
    "st.isidentifier()"
   ]
  },
  {
   "cell_type": "code",
   "execution_count": 162,
   "id": "5e7ff35c",
   "metadata": {},
   "outputs": [
    {
     "data": {
      "text/plain": [
       "True"
      ]
     },
     "execution_count": 162,
     "metadata": {},
     "output_type": "execute_result"
    }
   ],
   "source": [
    "s.islower()"
   ]
  },
  {
   "cell_type": "code",
   "execution_count": 163,
   "id": "3adee851",
   "metadata": {},
   "outputs": [
    {
     "data": {
      "text/plain": [
       "False"
      ]
     },
     "execution_count": 163,
     "metadata": {},
     "output_type": "execute_result"
    }
   ],
   "source": [
    "s.isupper()"
   ]
  },
  {
   "cell_type": "code",
   "execution_count": 164,
   "id": "32dbcae1",
   "metadata": {},
   "outputs": [],
   "source": [
    "s='    deloitte    '"
   ]
  },
  {
   "cell_type": "code",
   "execution_count": 165,
   "id": "d7562289",
   "metadata": {},
   "outputs": [
    {
     "data": {
      "text/plain": [
       "'deloitte    '"
      ]
     },
     "execution_count": 165,
     "metadata": {},
     "output_type": "execute_result"
    }
   ],
   "source": [
    "s.lstrip()"
   ]
  },
  {
   "cell_type": "code",
   "execution_count": 166,
   "id": "b417c414",
   "metadata": {},
   "outputs": [
    {
     "data": {
      "text/plain": [
       "'    deloitte'"
      ]
     },
     "execution_count": 166,
     "metadata": {},
     "output_type": "execute_result"
    }
   ],
   "source": [
    "s.rstrip()"
   ]
  },
  {
   "cell_type": "code",
   "execution_count": 167,
   "id": "9e97831b",
   "metadata": {},
   "outputs": [
    {
     "data": {
      "text/plain": [
       "'deloitte'"
      ]
     },
     "execution_count": 167,
     "metadata": {},
     "output_type": "execute_result"
    }
   ],
   "source": [
    "s.strip()"
   ]
  },
  {
   "cell_type": "code",
   "execution_count": 168,
   "id": "845e2583",
   "metadata": {},
   "outputs": [
    {
     "data": {
      "text/plain": [
       "('prateek', '@', 'deloitte.com')"
      ]
     },
     "execution_count": 168,
     "metadata": {},
     "output_type": "execute_result"
    }
   ],
   "source": [
    "s='prateek@deloitte.com'\n",
    "s.partition('@')"
   ]
  },
  {
   "cell_type": "code",
   "execution_count": 170,
   "id": "9e4ea183",
   "metadata": {},
   "outputs": [
    {
     "data": {
      "text/plain": [
       "('+91', '-', '9080706070')"
      ]
     },
     "execution_count": 170,
     "metadata": {},
     "output_type": "execute_result"
    }
   ],
   "source": [
    "s='+91-9080706070'\n",
    "s.partition('-')"
   ]
  },
  {
   "cell_type": "code",
   "execution_count": 171,
   "id": "e694876a",
   "metadata": {},
   "outputs": [
    {
     "data": {
      "text/plain": [
       "'welcome to deloitte. you will be working for deloitte USI branch'"
      ]
     },
     "execution_count": 171,
     "metadata": {},
     "output_type": "execute_result"
    }
   ],
   "source": [
    "s='welcome to company. you will be working for company USI branch'\n",
    "s.replace('company', 'deloitte')"
   ]
  },
  {
   "cell_type": "code",
   "execution_count": 172,
   "id": "62585c7a",
   "metadata": {},
   "outputs": [
    {
     "data": {
      "text/plain": [
       "'welcome to deloitte. you will be working for company USI branch'"
      ]
     },
     "execution_count": 172,
     "metadata": {},
     "output_type": "execute_result"
    }
   ],
   "source": [
    "s.replace('company', 'deloitte',1)"
   ]
  },
  {
   "cell_type": "code",
   "execution_count": 173,
   "id": "1e34e194",
   "metadata": {},
   "outputs": [
    {
     "data": {
      "text/plain": [
       "['192', '168', '90', '254']"
      ]
     },
     "execution_count": 173,
     "metadata": {},
     "output_type": "execute_result"
    }
   ],
   "source": [
    "s='192.168.90.254'\n",
    "s.split('.')"
   ]
  },
  {
   "cell_type": "code",
   "execution_count": 174,
   "id": "d294853f",
   "metadata": {},
   "outputs": [
    {
     "data": {
      "text/plain": [
       "['welcome',\n",
       " 'to',\n",
       " 'deloitte.',\n",
       " 'you',\n",
       " 'will',\n",
       " 'be',\n",
       " 'working',\n",
       " 'for',\n",
       " 'deloitte',\n",
       " 'USI',\n",
       " 'branch']"
      ]
     },
     "execution_count": 174,
     "metadata": {},
     "output_type": "execute_result"
    }
   ],
   "source": [
    "s='welcome to deloitte. you will be working for deloitte USI branch'\n",
    "s.split()"
   ]
  },
  {
   "cell_type": "code",
   "execution_count": 179,
   "id": "d89f9386",
   "metadata": {},
   "outputs": [
    {
     "name": "stdout",
     "output_type": "stream",
     "text": [
      "10 20 30 40 50\n"
     ]
    }
   ],
   "source": [
    "val=input().split()\n"
   ]
  },
  {
   "cell_type": "code",
   "execution_count": 180,
   "id": "af2e216c",
   "metadata": {},
   "outputs": [
    {
     "data": {
      "text/plain": [
       "['10', '20', '30', '40', '50']"
      ]
     },
     "execution_count": 180,
     "metadata": {},
     "output_type": "execute_result"
    }
   ],
   "source": [
    "val"
   ]
  },
  {
   "cell_type": "code",
   "execution_count": 181,
   "id": "53ec6d8c",
   "metadata": {},
   "outputs": [
    {
     "data": {
      "text/plain": [
       "'hello and welcome\\ndo you work at deloitte?\\nplease refer to guidelines.'"
      ]
     },
     "execution_count": 181,
     "metadata": {},
     "output_type": "execute_result"
    }
   ],
   "source": [
    "s='''hello and welcome\n",
    "do you work at deloitte?\n",
    "please refer to guidelines.'''\n",
    "s"
   ]
  },
  {
   "cell_type": "code",
   "execution_count": 182,
   "id": "ee44f14a",
   "metadata": {},
   "outputs": [
    {
     "data": {
      "text/plain": [
       "['hello and welcome',\n",
       " 'do you work at deloitte?',\n",
       " 'please refer to guidelines.']"
      ]
     },
     "execution_count": 182,
     "metadata": {},
     "output_type": "execute_result"
    }
   ],
   "source": [
    "s.splitlines()"
   ]
  },
  {
   "cell_type": "code",
   "execution_count": 184,
   "id": "4f2d6ee0",
   "metadata": {},
   "outputs": [
    {
     "name": "stdout",
     "output_type": "stream",
     "text": [
      "lines=  3\n",
      "words=  12\n"
     ]
    }
   ],
   "source": [
    "lines=s.splitlines()\n",
    "words=s.split()\n",
    "\n",
    "print('lines= ',len(lines))\n",
    "print('words= ',len(words))"
   ]
  },
  {
   "cell_type": "code",
   "execution_count": 185,
   "id": "7d71965c",
   "metadata": {},
   "outputs": [
    {
     "data": {
      "text/plain": [
       "'HELLO AND WELCOME\\nDO YOU WORK AT DELOITTE?\\nPLEASE REFER TO GUIDELINES.'"
      ]
     },
     "execution_count": 185,
     "metadata": {},
     "output_type": "execute_result"
    }
   ],
   "source": [
    "s.swapcase()"
   ]
  },
  {
   "cell_type": "code",
   "execution_count": 188,
   "id": "52c57692",
   "metadata": {},
   "outputs": [
    {
     "data": {
      "text/plain": [
       "'0000000000000100'"
      ]
     },
     "execution_count": 188,
     "metadata": {},
     "output_type": "execute_result"
    }
   ],
   "source": [
    "s='0100'\n",
    "s.zfill(16)"
   ]
  },
  {
   "cell_type": "markdown",
   "id": "e698a469",
   "metadata": {},
   "source": [
    "## In-Built Data Structures"
   ]
  },
  {
   "cell_type": "code",
   "execution_count": 189,
   "id": "16ddd95f",
   "metadata": {},
   "outputs": [],
   "source": [
    "# tuple\n",
    "# list\n",
    "# dictionary\n",
    "# sets\n"
   ]
  },
  {
   "cell_type": "markdown",
   "id": "8fcb6eff",
   "metadata": {},
   "source": [
    "#### TUPLE"
   ]
  },
  {
   "cell_type": "code",
   "execution_count": 190,
   "id": "38491882",
   "metadata": {},
   "outputs": [],
   "source": [
    "# immutable list of values"
   ]
  },
  {
   "cell_type": "code",
   "execution_count": 191,
   "id": "73048825",
   "metadata": {},
   "outputs": [],
   "source": [
    "t=tuple()"
   ]
  },
  {
   "cell_type": "code",
   "execution_count": 192,
   "id": "2db681a2",
   "metadata": {},
   "outputs": [
    {
     "data": {
      "text/plain": [
       "()"
      ]
     },
     "execution_count": 192,
     "metadata": {},
     "output_type": "execute_result"
    }
   ],
   "source": [
    "t"
   ]
  },
  {
   "cell_type": "code",
   "execution_count": 193,
   "id": "09d5dd48",
   "metadata": {},
   "outputs": [],
   "source": [
    "t=(1,2,3,4,5)"
   ]
  },
  {
   "cell_type": "code",
   "execution_count": 194,
   "id": "0bbf9edd",
   "metadata": {},
   "outputs": [],
   "source": [
    "t=(10,20,'hello','hi',78.56)"
   ]
  },
  {
   "cell_type": "code",
   "execution_count": 196,
   "id": "02c08e9a",
   "metadata": {},
   "outputs": [
    {
     "data": {
      "text/plain": [
       "'hello'"
      ]
     },
     "execution_count": 196,
     "metadata": {},
     "output_type": "execute_result"
    }
   ],
   "source": [
    "t[2]"
   ]
  },
  {
   "cell_type": "code",
   "execution_count": 199,
   "id": "a35e317f",
   "metadata": {},
   "outputs": [
    {
     "data": {
      "text/plain": [
       "('hi', 78.56)"
      ]
     },
     "execution_count": 199,
     "metadata": {},
     "output_type": "execute_result"
    }
   ],
   "source": [
    "t[3:5]"
   ]
  },
  {
   "cell_type": "code",
   "execution_count": 200,
   "id": "fd1099ff",
   "metadata": {},
   "outputs": [
    {
     "data": {
      "text/plain": [
       "20"
      ]
     },
     "execution_count": 200,
     "metadata": {},
     "output_type": "execute_result"
    }
   ],
   "source": [
    "t[-4]"
   ]
  },
  {
   "cell_type": "code",
   "execution_count": 201,
   "id": "4859f8a8",
   "metadata": {},
   "outputs": [
    {
     "data": {
      "text/plain": [
       "5"
      ]
     },
     "execution_count": 201,
     "metadata": {},
     "output_type": "execute_result"
    }
   ],
   "source": [
    "len(t)"
   ]
  },
  {
   "cell_type": "code",
   "execution_count": 203,
   "id": "d5ab4723",
   "metadata": {},
   "outputs": [
    {
     "ename": "TypeError",
     "evalue": "'tuple' object does not support item assignment",
     "output_type": "error",
     "traceback": [
      "\u001b[1;31m---------------------------------------------------------------------------\u001b[0m",
      "\u001b[1;31mTypeError\u001b[0m                                 Traceback (most recent call last)",
      "Input \u001b[1;32mIn [203]\u001b[0m, in \u001b[0;36m<cell line: 1>\u001b[1;34m()\u001b[0m\n\u001b[1;32m----> 1\u001b[0m t[\u001b[38;5;241m0\u001b[39m]\u001b[38;5;241m=\u001b[39m\u001b[38;5;241m200\u001b[39m\n",
      "\u001b[1;31mTypeError\u001b[0m: 'tuple' object does not support item assignment"
     ]
    }
   ],
   "source": [
    "t[0]=200"
   ]
  },
  {
   "cell_type": "code",
   "execution_count": 204,
   "id": "44a1c099",
   "metadata": {},
   "outputs": [],
   "source": [
    "t=(23, 45, (700,800), 'hi')"
   ]
  },
  {
   "cell_type": "code",
   "execution_count": 206,
   "id": "6277673e",
   "metadata": {},
   "outputs": [
    {
     "data": {
      "text/plain": [
       "800"
      ]
     },
     "execution_count": 206,
     "metadata": {},
     "output_type": "execute_result"
    }
   ],
   "source": [
    "t[2][1]"
   ]
  },
  {
   "cell_type": "code",
   "execution_count": 209,
   "id": "68743c5b",
   "metadata": {},
   "outputs": [],
   "source": [
    "t2=(300,400,t2,900)"
   ]
  },
  {
   "cell_type": "code",
   "execution_count": 210,
   "id": "98f6b958",
   "metadata": {},
   "outputs": [
    {
     "data": {
      "text/plain": [
       "(300, 400, (23, 45, (700, 800), 'hi'), 900)"
      ]
     },
     "execution_count": 210,
     "metadata": {},
     "output_type": "execute_result"
    }
   ],
   "source": [
    "t2[2]"
   ]
  },
  {
   "cell_type": "code",
   "execution_count": 211,
   "id": "39826166",
   "metadata": {},
   "outputs": [
    {
     "ename": "NameError",
     "evalue": "name 't3' is not defined",
     "output_type": "error",
     "traceback": [
      "\u001b[1;31m---------------------------------------------------------------------------\u001b[0m",
      "\u001b[1;31mNameError\u001b[0m                                 Traceback (most recent call last)",
      "Input \u001b[1;32mIn [211]\u001b[0m, in \u001b[0;36m<cell line: 1>\u001b[1;34m()\u001b[0m\n\u001b[1;32m----> 1\u001b[0m t3\u001b[38;5;241m=\u001b[39m(\u001b[38;5;241m1\u001b[39m,\u001b[38;5;241m2\u001b[39m,\u001b[38;5;241m3\u001b[39m,\u001b[43mt3\u001b[49m)\n",
      "\u001b[1;31mNameError\u001b[0m: name 't3' is not defined"
     ]
    }
   ],
   "source": [
    "t3=(1,2,3,t3)"
   ]
  },
  {
   "cell_type": "code",
   "execution_count": 212,
   "id": "4d072dfb",
   "metadata": {},
   "outputs": [
    {
     "data": {
      "text/plain": [
       "tuple"
      ]
     },
     "execution_count": 212,
     "metadata": {},
     "output_type": "execute_result"
    }
   ],
   "source": [
    "type(t)"
   ]
  },
  {
   "cell_type": "code",
   "execution_count": 213,
   "id": "572b0a34",
   "metadata": {},
   "outputs": [
    {
     "data": {
      "text/plain": [
       "2852764877744"
      ]
     },
     "execution_count": 213,
     "metadata": {},
     "output_type": "execute_result"
    }
   ],
   "source": [
    "id(t)"
   ]
  },
  {
   "cell_type": "code",
   "execution_count": 214,
   "id": "e084129f",
   "metadata": {},
   "outputs": [
    {
     "data": {
      "text/plain": [
       "(8, 27, 64)"
      ]
     },
     "execution_count": 214,
     "metadata": {},
     "output_type": "execute_result"
    }
   ],
   "source": [
    "def get_cube(x,y,z):\n",
    "    return (x**3, y**3, z**3)\n",
    "data=get_cube(2,3,4)\n",
    "data"
   ]
  },
  {
   "cell_type": "code",
   "execution_count": 216,
   "id": "c4b372c5",
   "metadata": {},
   "outputs": [
    {
     "ename": "TypeError",
     "evalue": "'tuple' object does not support item assignment",
     "output_type": "error",
     "traceback": [
      "\u001b[1;31m---------------------------------------------------------------------------\u001b[0m",
      "\u001b[1;31mTypeError\u001b[0m                                 Traceback (most recent call last)",
      "Input \u001b[1;32mIn [216]\u001b[0m, in \u001b[0;36m<cell line: 1>\u001b[1;34m()\u001b[0m\n\u001b[1;32m----> 1\u001b[0m data[\u001b[38;5;241m0\u001b[39m]\u001b[38;5;241m=\u001b[39m\u001b[38;5;241m90\u001b[39m\n",
      "\u001b[1;31mTypeError\u001b[0m: 'tuple' object does not support item assignment"
     ]
    }
   ],
   "source": [
    "data[0]=90"
   ]
  },
  {
   "cell_type": "markdown",
   "id": "a4787885",
   "metadata": {},
   "source": [
    "### LIST"
   ]
  },
  {
   "cell_type": "code",
   "execution_count": 217,
   "id": "eaab5874",
   "metadata": {},
   "outputs": [
    {
     "data": {
      "text/plain": [
       "[]"
      ]
     },
     "execution_count": 217,
     "metadata": {},
     "output_type": "execute_result"
    }
   ],
   "source": [
    "li=list()\n",
    "li"
   ]
  },
  {
   "cell_type": "code",
   "execution_count": 218,
   "id": "adf62b96",
   "metadata": {},
   "outputs": [],
   "source": [
    "li=[1,2,3,4,5]"
   ]
  },
  {
   "cell_type": "code",
   "execution_count": 219,
   "id": "561a29d7",
   "metadata": {},
   "outputs": [],
   "source": [
    "li=[1,2,'hi',90.56]"
   ]
  },
  {
   "cell_type": "code",
   "execution_count": 220,
   "id": "8b21c426",
   "metadata": {},
   "outputs": [
    {
     "data": {
      "text/plain": [
       "90.56"
      ]
     },
     "execution_count": 220,
     "metadata": {},
     "output_type": "execute_result"
    }
   ],
   "source": [
    "li[3]"
   ]
  },
  {
   "cell_type": "code",
   "execution_count": 221,
   "id": "dea295df",
   "metadata": {},
   "outputs": [
    {
     "data": {
      "text/plain": [
       "[2, 'hi']"
      ]
     },
     "execution_count": 221,
     "metadata": {},
     "output_type": "execute_result"
    }
   ],
   "source": [
    "li[1:3]"
   ]
  },
  {
   "cell_type": "code",
   "execution_count": 222,
   "id": "7b03ebc6",
   "metadata": {},
   "outputs": [
    {
     "data": {
      "text/plain": [
       "[100, 2, 'hi', 90.56]"
      ]
     },
     "execution_count": 222,
     "metadata": {},
     "output_type": "execute_result"
    }
   ],
   "source": [
    "li[0]=100\n",
    "li"
   ]
  },
  {
   "cell_type": "code",
   "execution_count": 223,
   "id": "1b01d89c",
   "metadata": {},
   "outputs": [
    {
     "data": {
      "text/plain": [
       "4"
      ]
     },
     "execution_count": 223,
     "metadata": {},
     "output_type": "execute_result"
    }
   ],
   "source": [
    "len(li)"
   ]
  },
  {
   "cell_type": "code",
   "execution_count": 224,
   "id": "d573884a",
   "metadata": {},
   "outputs": [
    {
     "data": {
      "text/plain": [
       "list"
      ]
     },
     "execution_count": 224,
     "metadata": {},
     "output_type": "execute_result"
    }
   ],
   "source": [
    "type(li)"
   ]
  },
  {
   "cell_type": "code",
   "execution_count": 227,
   "id": "863029c2",
   "metadata": {},
   "outputs": [
    {
     "name": "stdout",
     "output_type": "stream",
     "text": [
      "100\n",
      "2\n",
      "hi\n",
      "90.56\n"
     ]
    }
   ],
   "source": [
    "for i in li:\n",
    "    print(i)"
   ]
  },
  {
   "cell_type": "code",
   "execution_count": 228,
   "id": "69e00f02",
   "metadata": {},
   "outputs": [],
   "source": [
    "# LIST FUNCTIONS"
   ]
  },
  {
   "cell_type": "code",
   "execution_count": 229,
   "id": "1c802a93",
   "metadata": {},
   "outputs": [
    {
     "data": {
      "text/plain": [
       "[100, 2, 'hi', 90.56, 900]"
      ]
     },
     "execution_count": 229,
     "metadata": {},
     "output_type": "execute_result"
    }
   ],
   "source": [
    "li.append(900)\n",
    "li"
   ]
  },
  {
   "cell_type": "code",
   "execution_count": 230,
   "id": "67edfec9",
   "metadata": {},
   "outputs": [],
   "source": [
    "li.insert(2, 'welcome')"
   ]
  },
  {
   "cell_type": "code",
   "execution_count": 231,
   "id": "37c3ca56",
   "metadata": {},
   "outputs": [
    {
     "data": {
      "text/plain": [
       "[100, 2, 'welcome', 'hi', 90.56, 900]"
      ]
     },
     "execution_count": 231,
     "metadata": {},
     "output_type": "execute_result"
    }
   ],
   "source": [
    "li"
   ]
  },
  {
   "cell_type": "code",
   "execution_count": 232,
   "id": "4d2a1b57",
   "metadata": {},
   "outputs": [
    {
     "data": {
      "text/plain": [
       "900"
      ]
     },
     "execution_count": 232,
     "metadata": {},
     "output_type": "execute_result"
    }
   ],
   "source": [
    "li.pop()"
   ]
  },
  {
   "cell_type": "code",
   "execution_count": 233,
   "id": "ba894d88",
   "metadata": {},
   "outputs": [
    {
     "data": {
      "text/plain": [
       "[100, 2, 'welcome', 'hi', 90.56]"
      ]
     },
     "execution_count": 233,
     "metadata": {},
     "output_type": "execute_result"
    }
   ],
   "source": [
    "li"
   ]
  },
  {
   "cell_type": "code",
   "execution_count": 234,
   "id": "5dab3c38",
   "metadata": {},
   "outputs": [],
   "source": [
    "li.remove('hi')"
   ]
  },
  {
   "cell_type": "code",
   "execution_count": 235,
   "id": "9df2c0ac",
   "metadata": {},
   "outputs": [
    {
     "data": {
      "text/plain": [
       "[100, 2, 'welcome', 90.56]"
      ]
     },
     "execution_count": 235,
     "metadata": {},
     "output_type": "execute_result"
    }
   ],
   "source": [
    "li"
   ]
  },
  {
   "cell_type": "code",
   "execution_count": 236,
   "id": "289cba31",
   "metadata": {},
   "outputs": [],
   "source": [
    "li.extend([5,6,7,8,9])"
   ]
  },
  {
   "cell_type": "code",
   "execution_count": 237,
   "id": "75bd4a79",
   "metadata": {},
   "outputs": [
    {
     "data": {
      "text/plain": [
       "[100, 2, 'welcome', 90.56, 5, 6, 7, 8, 9]"
      ]
     },
     "execution_count": 237,
     "metadata": {},
     "output_type": "execute_result"
    }
   ],
   "source": [
    "li"
   ]
  },
  {
   "cell_type": "code",
   "execution_count": 238,
   "id": "a10d687b",
   "metadata": {},
   "outputs": [
    {
     "ename": "ValueError",
     "evalue": "list.remove(x): x not in list",
     "output_type": "error",
     "traceback": [
      "\u001b[1;31m---------------------------------------------------------------------------\u001b[0m",
      "\u001b[1;31mValueError\u001b[0m                                Traceback (most recent call last)",
      "Input \u001b[1;32mIn [238]\u001b[0m, in \u001b[0;36m<cell line: 1>\u001b[1;34m()\u001b[0m\n\u001b[1;32m----> 1\u001b[0m \u001b[43mli\u001b[49m\u001b[38;5;241;43m.\u001b[39;49m\u001b[43mremove\u001b[49m\u001b[43m(\u001b[49m\u001b[38;5;124;43m'\u001b[39;49m\u001b[38;5;124;43m9000\u001b[39;49m\u001b[38;5;124;43m'\u001b[39;49m\u001b[43m)\u001b[49m\n",
      "\u001b[1;31mValueError\u001b[0m: list.remove(x): x not in list"
     ]
    }
   ],
   "source": [
    "li.remove('9000')"
   ]
  },
  {
   "cell_type": "code",
   "execution_count": 239,
   "id": "da15136e",
   "metadata": {},
   "outputs": [],
   "source": [
    "# Question:\n",
    "# given a list, arrange all negative numbers of the list after all \n",
    "# positive numbers\n",
    "\n",
    "# example: list=[1,2,-4,-5,7,-3,6,9,-1,2,3]\n",
    "# after processing=> [1,2,7,6,9,2,3,-4,-5,-3,-1]"
   ]
  },
  {
   "cell_type": "code",
   "execution_count": 248,
   "id": "750d76f4",
   "metadata": {},
   "outputs": [
    {
     "name": "stdout",
     "output_type": "stream",
     "text": [
      "[1, 2, 7, 6, 9, 2, 3, -4, -5, -3, -1]\n"
     ]
    }
   ],
   "source": [
    "li=[1,2,-4,-5,7,-3,6,9,-1,2,3]\n",
    "li_pos=[]\n",
    "li_neg=[]\n",
    "for num in li:\n",
    "    if num<0:\n",
    "        li_neg.append(num)\n",
    "    else:\n",
    "        li_pos.append(num)\n",
    "li_pos.extend(li_neg)\n",
    "print(li_pos)"
   ]
  },
  {
   "cell_type": "code",
   "execution_count": 249,
   "id": "cadb0939",
   "metadata": {},
   "outputs": [
    {
     "data": {
      "text/plain": [
       "[1, 2, -4, -5, 7, -3, 6, 9, -1, 2, 3]"
      ]
     },
     "execution_count": 249,
     "metadata": {},
     "output_type": "execute_result"
    }
   ],
   "source": [
    "li"
   ]
  },
  {
   "cell_type": "code",
   "execution_count": 250,
   "id": "634e631d",
   "metadata": {},
   "outputs": [],
   "source": [
    "li2=li.copy()"
   ]
  },
  {
   "cell_type": "code",
   "execution_count": 251,
   "id": "fcf099d4",
   "metadata": {},
   "outputs": [
    {
     "data": {
      "text/plain": [
       "[1, 2, -4, -5, 7, -3, 6, 9, -1, 2, 3]"
      ]
     },
     "execution_count": 251,
     "metadata": {},
     "output_type": "execute_result"
    }
   ],
   "source": [
    "li2"
   ]
  },
  {
   "cell_type": "code",
   "execution_count": 252,
   "id": "0ceedebd",
   "metadata": {},
   "outputs": [],
   "source": [
    "li2.clear()"
   ]
  },
  {
   "cell_type": "code",
   "execution_count": 253,
   "id": "413e40c0",
   "metadata": {},
   "outputs": [
    {
     "data": {
      "text/plain": [
       "[]"
      ]
     },
     "execution_count": 253,
     "metadata": {},
     "output_type": "execute_result"
    }
   ],
   "source": [
    "li2"
   ]
  },
  {
   "cell_type": "code",
   "execution_count": 256,
   "id": "bee10351",
   "metadata": {},
   "outputs": [
    {
     "data": {
      "text/plain": [
       "7"
      ]
     },
     "execution_count": 256,
     "metadata": {},
     "output_type": "execute_result"
    }
   ],
   "source": [
    "li=[1,2,1,3,1,4,1,5,6,7,11,1,1,1,8,9]\n",
    "li.count(1)"
   ]
  },
  {
   "cell_type": "code",
   "execution_count": 257,
   "id": "f928acaf",
   "metadata": {},
   "outputs": [
    {
     "data": {
      "text/plain": [
       "[1, 1, 1, 1, 1, 1, 1, 2, 3, 4, 5, 6, 7, 8, 9, 11]"
      ]
     },
     "execution_count": 257,
     "metadata": {},
     "output_type": "execute_result"
    }
   ],
   "source": [
    "li.sort()\n",
    "li"
   ]
  },
  {
   "cell_type": "code",
   "execution_count": 258,
   "id": "c2aae406",
   "metadata": {},
   "outputs": [
    {
     "data": {
      "text/plain": [
       "[1, 1, 1, 1, 1, 1, 1, 2, 3, 4, 5, 6, 7, 8, 9, 11]"
      ]
     },
     "execution_count": 258,
     "metadata": {},
     "output_type": "execute_result"
    }
   ],
   "source": [
    "sorted(li)"
   ]
  },
  {
   "cell_type": "code",
   "execution_count": 259,
   "id": "70404694",
   "metadata": {},
   "outputs": [
    {
     "data": {
      "text/plain": [
       "[10, 30, 40, 70, 80, 90]"
      ]
     },
     "execution_count": 259,
     "metadata": {},
     "output_type": "execute_result"
    }
   ],
   "source": [
    "li3=[10,90,30,80,40,70]\n",
    "sorted(li3)"
   ]
  },
  {
   "cell_type": "code",
   "execution_count": 260,
   "id": "c51a7792",
   "metadata": {},
   "outputs": [
    {
     "data": {
      "text/plain": [
       "[10, 90, 30, 80, 40, 70]"
      ]
     },
     "execution_count": 260,
     "metadata": {},
     "output_type": "execute_result"
    }
   ],
   "source": [
    "li3"
   ]
  },
  {
   "cell_type": "code",
   "execution_count": 261,
   "id": "0a401e50",
   "metadata": {},
   "outputs": [
    {
     "data": {
      "text/plain": [
       "[10, 30, 40, 70, 80, 90]"
      ]
     },
     "execution_count": 261,
     "metadata": {},
     "output_type": "execute_result"
    }
   ],
   "source": [
    "li3.sort()\n",
    "li3"
   ]
  },
  {
   "cell_type": "markdown",
   "id": "6c130e63",
   "metadata": {},
   "source": [
    "### DICTIONARY"
   ]
  },
  {
   "cell_type": "code",
   "execution_count": 262,
   "id": "c289eab0",
   "metadata": {},
   "outputs": [],
   "source": [
    "d=dict()\n",
    "d={}"
   ]
  },
  {
   "cell_type": "code",
   "execution_count": 263,
   "id": "20489d52",
   "metadata": {},
   "outputs": [],
   "source": [
    "d={10:100, 20:200, 30:300}"
   ]
  },
  {
   "cell_type": "code",
   "execution_count": 267,
   "id": "3ec4b8c4",
   "metadata": {},
   "outputs": [
    {
     "data": {
      "text/plain": [
       "300"
      ]
     },
     "execution_count": 267,
     "metadata": {},
     "output_type": "execute_result"
    }
   ],
   "source": [
    "d[30]"
   ]
  },
  {
   "cell_type": "code",
   "execution_count": 268,
   "id": "e193a4dc",
   "metadata": {},
   "outputs": [
    {
     "data": {
      "text/plain": [
       "dict_keys([10, 20, 30])"
      ]
     },
     "execution_count": 268,
     "metadata": {},
     "output_type": "execute_result"
    }
   ],
   "source": [
    "d.keys()"
   ]
  },
  {
   "cell_type": "code",
   "execution_count": 269,
   "id": "b10d7f88",
   "metadata": {},
   "outputs": [
    {
     "data": {
      "text/plain": [
       "dict_values([100, 200, 300])"
      ]
     },
     "execution_count": 269,
     "metadata": {},
     "output_type": "execute_result"
    }
   ],
   "source": [
    "d.values()"
   ]
  },
  {
   "cell_type": "code",
   "execution_count": 270,
   "id": "1831fd8e",
   "metadata": {},
   "outputs": [
    {
     "data": {
      "text/plain": [
       "dict_items([(10, 100), (20, 200), (30, 300)])"
      ]
     },
     "execution_count": 270,
     "metadata": {},
     "output_type": "execute_result"
    }
   ],
   "source": [
    "d.items()"
   ]
  },
  {
   "cell_type": "code",
   "execution_count": 271,
   "id": "fbcf4d30",
   "metadata": {},
   "outputs": [
    {
     "data": {
      "text/plain": [
       "{10: 100, 20: 200, 30: 900}"
      ]
     },
     "execution_count": 271,
     "metadata": {},
     "output_type": "execute_result"
    }
   ],
   "source": [
    "d[30]=900\n",
    "d"
   ]
  },
  {
   "cell_type": "code",
   "execution_count": 272,
   "id": "08669cb7",
   "metadata": {},
   "outputs": [
    {
     "data": {
      "text/plain": [
       "{10: 100, 20: 200, 30: 900, 40: 400}"
      ]
     },
     "execution_count": 272,
     "metadata": {},
     "output_type": "execute_result"
    }
   ],
   "source": [
    "d[40]=400\n",
    "d"
   ]
  },
  {
   "cell_type": "code",
   "execution_count": 273,
   "id": "997a1915",
   "metadata": {},
   "outputs": [
    {
     "data": {
      "text/plain": [
       "{10: 100, 20: 200, 30: 900, 40: 400, 50: 500, 60: 600}"
      ]
     },
     "execution_count": 273,
     "metadata": {},
     "output_type": "execute_result"
    }
   ],
   "source": [
    "d[50]=500\n",
    "d[60]=600\n",
    "d"
   ]
  },
  {
   "cell_type": "code",
   "execution_count": 275,
   "id": "738b0161",
   "metadata": {},
   "outputs": [
    {
     "data": {
      "text/plain": [
       "400"
      ]
     },
     "execution_count": 275,
     "metadata": {},
     "output_type": "execute_result"
    }
   ],
   "source": [
    "d.pop(40)"
   ]
  },
  {
   "cell_type": "code",
   "execution_count": 276,
   "id": "6e032f02",
   "metadata": {},
   "outputs": [
    {
     "data": {
      "text/plain": [
       "(60, 600)"
      ]
     },
     "execution_count": 276,
     "metadata": {},
     "output_type": "execute_result"
    }
   ],
   "source": [
    "d.popitem()"
   ]
  },
  {
   "cell_type": "code",
   "execution_count": 277,
   "id": "f41b5ca8",
   "metadata": {},
   "outputs": [
    {
     "data": {
      "text/plain": [
       "{'rollno': 101, 'fname': 'Prateek', 'lname': 'Vashishtha', 'city': 'meerut'}"
      ]
     },
     "execution_count": 277,
     "metadata": {},
     "output_type": "execute_result"
    }
   ],
   "source": [
    "d={'rollno':101, 'fname':'Prateek','lname':'Vashishtha',\n",
    "  'city':'meerut'}\n",
    "d"
   ]
  },
  {
   "cell_type": "code",
   "execution_count": 279,
   "id": "6758e8b4",
   "metadata": {},
   "outputs": [
    {
     "data": {
      "text/plain": [
       "'meerut'"
      ]
     },
     "execution_count": 279,
     "metadata": {},
     "output_type": "execute_result"
    }
   ],
   "source": [
    "d['city']"
   ]
  },
  {
   "cell_type": "code",
   "execution_count": 281,
   "id": "7635721e",
   "metadata": {},
   "outputs": [
    {
     "data": {
      "text/plain": [
       "{1: 0, 2: 0, 3: 0, 4: 0, 5: 0, 6: 0, 7: 0, 8: 0, 9: 0}"
      ]
     },
     "execution_count": 281,
     "metadata": {},
     "output_type": "execute_result"
    }
   ],
   "source": [
    "li=[1,2,3,4,5,6,7,8,9]\n",
    "d=dict.fromkeys(li, 0)\n",
    "d"
   ]
  },
  {
   "cell_type": "code",
   "execution_count": 282,
   "id": "111a9129",
   "metadata": {},
   "outputs": [
    {
     "data": {
      "text/plain": [
       "{1: 0, 2: 0, 3: 0, 4: 0, 5: 0, 6: 0, 7: 0, 8: 0, 9: 0}"
      ]
     },
     "execution_count": 282,
     "metadata": {},
     "output_type": "execute_result"
    }
   ],
   "source": [
    "d2=d.copy()\n",
    "d2"
   ]
  },
  {
   "cell_type": "code",
   "execution_count": 283,
   "id": "58ad7aea",
   "metadata": {},
   "outputs": [
    {
     "data": {
      "text/plain": [
       "{}"
      ]
     },
     "execution_count": 283,
     "metadata": {},
     "output_type": "execute_result"
    }
   ],
   "source": [
    "d2.clear()\n",
    "d2"
   ]
  },
  {
   "cell_type": "code",
   "execution_count": 284,
   "id": "435ed079",
   "metadata": {},
   "outputs": [
    {
     "data": {
      "text/plain": [
       "0"
      ]
     },
     "execution_count": 284,
     "metadata": {},
     "output_type": "execute_result"
    }
   ],
   "source": [
    "d.get(9)"
   ]
  },
  {
   "cell_type": "code",
   "execution_count": 285,
   "id": "6c33846a",
   "metadata": {},
   "outputs": [
    {
     "data": {
      "text/plain": [
       "{1: 0, 2: 0, 3: 0, 4: 0, 5: 0, 6: 0, 7: 0, 8: 0, 9: 0, 10: 100, 20: 200}"
      ]
     },
     "execution_count": 285,
     "metadata": {},
     "output_type": "execute_result"
    }
   ],
   "source": [
    "d.update({10:100, 20:200})\n",
    "d"
   ]
  },
  {
   "cell_type": "code",
   "execution_count": 287,
   "id": "9c4cf760",
   "metadata": {},
   "outputs": [
    {
     "data": {
      "text/plain": [
       "{1: 1, 2: 8, 3: 27, 4: 64, 5: 125, 6: 216, 7: 343, 8: 512, 9: 729, 10: 1000}"
      ]
     },
     "execution_count": 287,
     "metadata": {},
     "output_type": "execute_result"
    }
   ],
   "source": [
    "# write a code to create a dictionary that holds first N integres as KEY\n",
    "# and cube of N as respective values\n",
    "\n",
    "N=10\n",
    "d={x:x**3 for x in range(1,N+1)}\n",
    "d"
   ]
  },
  {
   "cell_type": "code",
   "execution_count": 288,
   "id": "aed0bb40",
   "metadata": {},
   "outputs": [
    {
     "data": {
      "text/plain": [
       "['h', 'e', 'l', 'l', 'o', ' ', 'w', 'o', 'r', 'l', 'd']"
      ]
     },
     "execution_count": 288,
     "metadata": {},
     "output_type": "execute_result"
    }
   ],
   "source": [
    "# Comprehension Method\n",
    "\n",
    "lis=[x for x in 'hello world']\n",
    "lis"
   ]
  },
  {
   "cell_type": "code",
   "execution_count": 294,
   "id": "878c0e87",
   "metadata": {},
   "outputs": [
    {
     "name": "stdout",
     "output_type": "stream",
     "text": [
      "9090\n",
      "INVALID NUMBER\n"
     ]
    }
   ],
   "source": [
    "# Example Problem - AMSTRONG NUMBER\n",
    "\n",
    "def amstrong(n):\n",
    "    if n<100 or n>999:\n",
    "        return \"INVALID NUMBER\"\n",
    "    else:\n",
    "        cube=0\n",
    "        digit=0\n",
    "        temp=n\n",
    "        while n>0:\n",
    "            digit=n%10\n",
    "            cube+=digit**3\n",
    "            n=n//10\n",
    "        if cube==temp:\n",
    "            return \"AMSTRONG\"\n",
    "        else:\n",
    "            return \"NOT AMSTRONG\"  \n",
    "n=int(input())\n",
    "print(amstrong(n))\n",
    "\n",
    "    "
   ]
  },
  {
   "cell_type": "code",
   "execution_count": 299,
   "id": "01beb832",
   "metadata": {},
   "outputs": [
    {
     "data": {
      "text/plain": [
       "[1, 4, 8, 2, 5, 9]"
      ]
     },
     "execution_count": 299,
     "metadata": {},
     "output_type": "execute_result"
    }
   ],
   "source": [
    "li=[1,4,8,2,5,9]\n",
    "li"
   ]
  },
  {
   "cell_type": "code",
   "execution_count": 300,
   "id": "523b024c",
   "metadata": {},
   "outputs": [],
   "source": [
    "li.reverse()"
   ]
  },
  {
   "cell_type": "code",
   "execution_count": 301,
   "id": "4eea9b9a",
   "metadata": {},
   "outputs": [
    {
     "data": {
      "text/plain": [
       "[9, 5, 2, 8, 4, 1]"
      ]
     },
     "execution_count": 301,
     "metadata": {},
     "output_type": "execute_result"
    }
   ],
   "source": [
    "li"
   ]
  },
  {
   "cell_type": "code",
   "execution_count": 302,
   "id": "ad2a19b9",
   "metadata": {},
   "outputs": [
    {
     "data": {
      "text/plain": [
       "9"
      ]
     },
     "execution_count": 302,
     "metadata": {},
     "output_type": "execute_result"
    }
   ],
   "source": [
    "max(li)"
   ]
  },
  {
   "cell_type": "code",
   "execution_count": 303,
   "id": "2f7c2134",
   "metadata": {},
   "outputs": [
    {
     "data": {
      "text/plain": [
       "1"
      ]
     },
     "execution_count": 303,
     "metadata": {},
     "output_type": "execute_result"
    }
   ],
   "source": [
    "min(li)"
   ]
  },
  {
   "cell_type": "markdown",
   "id": "08576529",
   "metadata": {},
   "source": [
    "### SETS"
   ]
  },
  {
   "cell_type": "code",
   "execution_count": 304,
   "id": "54226c25",
   "metadata": {},
   "outputs": [],
   "source": [
    "s=set()\n",
    "s={1,2,3}"
   ]
  },
  {
   "cell_type": "code",
   "execution_count": 305,
   "id": "4e8f9f6f",
   "metadata": {},
   "outputs": [
    {
     "data": {
      "text/plain": [
       "{1, 2, 3, 4, 5, 6, 8, 9}"
      ]
     },
     "execution_count": 305,
     "metadata": {},
     "output_type": "execute_result"
    }
   ],
   "source": [
    "li=[1,2,5,6,3,1,8,9,3,1,4,3]\n",
    "s=set(li)\n",
    "s"
   ]
  },
  {
   "cell_type": "code",
   "execution_count": 306,
   "id": "c0f85869",
   "metadata": {},
   "outputs": [
    {
     "data": {
      "text/plain": [
       "8"
      ]
     },
     "execution_count": 306,
     "metadata": {},
     "output_type": "execute_result"
    }
   ],
   "source": [
    "len(s)"
   ]
  },
  {
   "cell_type": "code",
   "execution_count": 307,
   "id": "6a9f8ad8",
   "metadata": {},
   "outputs": [
    {
     "data": {
      "text/plain": [
       "set"
      ]
     },
     "execution_count": 307,
     "metadata": {},
     "output_type": "execute_result"
    }
   ],
   "source": [
    "type(s)"
   ]
  },
  {
   "cell_type": "code",
   "execution_count": 308,
   "id": "87ca2db2",
   "metadata": {},
   "outputs": [
    {
     "ename": "TypeError",
     "evalue": "'set' object is not subscriptable",
     "output_type": "error",
     "traceback": [
      "\u001b[1;31m---------------------------------------------------------------------------\u001b[0m",
      "\u001b[1;31mTypeError\u001b[0m                                 Traceback (most recent call last)",
      "Input \u001b[1;32mIn [308]\u001b[0m, in \u001b[0;36m<cell line: 1>\u001b[1;34m()\u001b[0m\n\u001b[1;32m----> 1\u001b[0m \u001b[43ms\u001b[49m\u001b[43m[\u001b[49m\u001b[38;5;241;43m0\u001b[39;49m\u001b[43m]\u001b[49m\n",
      "\u001b[1;31mTypeError\u001b[0m: 'set' object is not subscriptable"
     ]
    }
   ],
   "source": [
    "s[0] # not a seq"
   ]
  },
  {
   "cell_type": "code",
   "execution_count": 309,
   "id": "c4b6b8ea",
   "metadata": {},
   "outputs": [],
   "source": [
    "s1={1,2,3,4,5,6,7,8,9}\n",
    "s2={6,7,8,10,11,12,13}"
   ]
  },
  {
   "cell_type": "code",
   "execution_count": 310,
   "id": "e65cb5af",
   "metadata": {},
   "outputs": [
    {
     "data": {
      "text/plain": [
       "{1, 2, 3, 4, 5, 6, 7, 8, 9, 10, 11, 12, 13}"
      ]
     },
     "execution_count": 310,
     "metadata": {},
     "output_type": "execute_result"
    }
   ],
   "source": [
    "s1.union(s2)"
   ]
  },
  {
   "cell_type": "code",
   "execution_count": 312,
   "id": "33f999b0",
   "metadata": {},
   "outputs": [
    {
     "data": {
      "text/plain": [
       "{6, 7, 8}"
      ]
     },
     "execution_count": 312,
     "metadata": {},
     "output_type": "execute_result"
    }
   ],
   "source": [
    "s1.intersection(s2)"
   ]
  },
  {
   "cell_type": "code",
   "execution_count": 314,
   "id": "f0164d1d",
   "metadata": {},
   "outputs": [
    {
     "data": {
      "text/plain": [
       "{1, 2, 3, 4, 5, 9}"
      ]
     },
     "execution_count": 314,
     "metadata": {},
     "output_type": "execute_result"
    }
   ],
   "source": [
    "s1-s2"
   ]
  },
  {
   "cell_type": "code",
   "execution_count": 315,
   "id": "3a346469",
   "metadata": {},
   "outputs": [
    {
     "data": {
      "text/plain": [
       "{1, 2, 3, 4, 5, 9}"
      ]
     },
     "execution_count": 315,
     "metadata": {},
     "output_type": "execute_result"
    }
   ],
   "source": [
    "s1.difference(s2)"
   ]
  },
  {
   "cell_type": "code",
   "execution_count": 316,
   "id": "17ec4ee3",
   "metadata": {},
   "outputs": [
    {
     "data": {
      "text/plain": [
       "{1, 2, 3, 4, 5, 6, 7, 8, 9, 90}"
      ]
     },
     "execution_count": 316,
     "metadata": {},
     "output_type": "execute_result"
    }
   ],
   "source": [
    "s1.add(90)\n",
    "s1"
   ]
  },
  {
   "cell_type": "code",
   "execution_count": 317,
   "id": "695ebc1b",
   "metadata": {},
   "outputs": [
    {
     "data": {
      "text/plain": [
       "{1, 2, 3, 4, 5, 6, 7, 9, 90}"
      ]
     },
     "execution_count": 317,
     "metadata": {},
     "output_type": "execute_result"
    }
   ],
   "source": [
    "s1.discard(8)\n",
    "s1"
   ]
  },
  {
   "cell_type": "markdown",
   "id": "4f7eee76",
   "metadata": {},
   "source": [
    "#### In-Built Functions"
   ]
  },
  {
   "cell_type": "code",
   "execution_count": 321,
   "id": "bbcc007c",
   "metadata": {},
   "outputs": [
    {
     "data": {
      "text/plain": [
       "23"
      ]
     },
     "execution_count": 321,
     "metadata": {},
     "output_type": "execute_result"
    }
   ],
   "source": [
    "# abs, aiter, all, any, ascii\n",
    "\n",
    "abs(-23)"
   ]
  },
  {
   "cell_type": "code",
   "execution_count": 322,
   "id": "07f3edff",
   "metadata": {},
   "outputs": [
    {
     "data": {
      "text/plain": [
       "'[1, 2, 5, 6, 3, 1, 8, 9, 3, 1, 4, 3]'"
      ]
     },
     "execution_count": 322,
     "metadata": {},
     "output_type": "execute_result"
    }
   ],
   "source": [
    "ascii(li)"
   ]
  },
  {
   "cell_type": "code",
   "execution_count": 328,
   "id": "bc667149",
   "metadata": {},
   "outputs": [
    {
     "data": {
      "text/plain": [
       "True"
      ]
     },
     "execution_count": 328,
     "metadata": {},
     "output_type": "execute_result"
    }
   ],
   "source": [
    "all([1,2,4,5,6,7,2])"
   ]
  },
  {
   "cell_type": "code",
   "execution_count": 326,
   "id": "4ca72aad",
   "metadata": {},
   "outputs": [
    {
     "data": {
      "text/plain": [
       "True"
      ]
     },
     "execution_count": 326,
     "metadata": {},
     "output_type": "execute_result"
    }
   ],
   "source": [
    "bool(-2)"
   ]
  },
  {
   "cell_type": "code",
   "execution_count": 331,
   "id": "d568709e",
   "metadata": {},
   "outputs": [
    {
     "data": {
      "text/plain": [
       "False"
      ]
     },
     "execution_count": 331,
     "metadata": {},
     "output_type": "execute_result"
    }
   ],
   "source": [
    "any([0,0,0,0,0,0])"
   ]
  },
  {
   "cell_type": "code",
   "execution_count": 333,
   "id": "a3c8536a",
   "metadata": {},
   "outputs": [
    {
     "data": {
      "text/plain": [
       "'0b10100100'"
      ]
     },
     "execution_count": 333,
     "metadata": {},
     "output_type": "execute_result"
    }
   ],
   "source": [
    "bin(164)"
   ]
  },
  {
   "cell_type": "code",
   "execution_count": 334,
   "id": "62dbda0e",
   "metadata": {},
   "outputs": [
    {
     "data": {
      "text/plain": [
       "'0xa4'"
      ]
     },
     "execution_count": 334,
     "metadata": {},
     "output_type": "execute_result"
    }
   ],
   "source": [
    "hex(164)"
   ]
  },
  {
   "cell_type": "code",
   "execution_count": 335,
   "id": "a2a0043a",
   "metadata": {},
   "outputs": [],
   "source": [
    "# id, chr, ord, type, len, set, list, dict, tuple, help, max, min"
   ]
  },
  {
   "cell_type": "code",
   "execution_count": 336,
   "id": "5931defd",
   "metadata": {},
   "outputs": [],
   "source": [
    "# float, int, str, print, input, sorted, reversed, range, "
   ]
  },
  {
   "cell_type": "code",
   "execution_count": 337,
   "id": "d5fe35b7",
   "metadata": {},
   "outputs": [
    {
     "data": {
      "text/plain": [
       "46"
      ]
     },
     "execution_count": 337,
     "metadata": {},
     "output_type": "execute_result"
    }
   ],
   "source": [
    "round(45.6789)"
   ]
  },
  {
   "cell_type": "code",
   "execution_count": 338,
   "id": "7abc0f03",
   "metadata": {},
   "outputs": [
    {
     "data": {
      "text/plain": [
       "45.68"
      ]
     },
     "execution_count": 338,
     "metadata": {},
     "output_type": "execute_result"
    }
   ],
   "source": [
    "round(45.6789,2)"
   ]
  },
  {
   "cell_type": "code",
   "execution_count": 339,
   "id": "7406d9d5",
   "metadata": {},
   "outputs": [
    {
     "data": {
      "text/plain": [
       "<zip at 0x29836456e40>"
      ]
     },
     "execution_count": 339,
     "metadata": {},
     "output_type": "execute_result"
    }
   ],
   "source": [
    "l1=[1,2,3,4,5]\n",
    "l2=[10,20,30,40,50]\n",
    "z=zip(l1,l2)\n",
    "z"
   ]
  },
  {
   "cell_type": "code",
   "execution_count": 341,
   "id": "aab7ac5f",
   "metadata": {},
   "outputs": [
    {
     "name": "stdout",
     "output_type": "stream",
     "text": [
      "1 : 10\n",
      "2 : 20\n",
      "3 : 30\n",
      "4 : 40\n",
      "5 : 50\n"
     ]
    }
   ],
   "source": [
    "for x,y in zip(l1,l2):\n",
    "    print(x, ':', y)"
   ]
  },
  {
   "cell_type": "code",
   "execution_count": 342,
   "id": "7602dc56",
   "metadata": {},
   "outputs": [
    {
     "name": "stdout",
     "output_type": "stream",
     "text": [
      "3+2*45/5-1\n"
     ]
    },
    {
     "data": {
      "text/plain": [
       "20.0"
      ]
     },
     "execution_count": 342,
     "metadata": {},
     "output_type": "execute_result"
    }
   ],
   "source": [
    "eval(input())"
   ]
  },
  {
   "cell_type": "code",
   "execution_count": 343,
   "id": "9abdc3aa",
   "metadata": {},
   "outputs": [
    {
     "data": {
      "text/plain": [
       "46"
      ]
     },
     "execution_count": 343,
     "metadata": {},
     "output_type": "execute_result"
    }
   ],
   "source": [
    "sum(li)"
   ]
  },
  {
   "cell_type": "code",
   "execution_count": 344,
   "id": "9c4a2c8c",
   "metadata": {},
   "outputs": [
    {
     "data": {
      "text/plain": [
       "[1, 2, 5, 6, 3, 1, 8, 9, 3, 1, 4, 3]"
      ]
     },
     "execution_count": 344,
     "metadata": {},
     "output_type": "execute_result"
    }
   ],
   "source": [
    "li"
   ]
  },
  {
   "cell_type": "code",
   "execution_count": 348,
   "id": "be6b14c8",
   "metadata": {},
   "outputs": [
    {
     "data": {
      "text/plain": [
       "8"
      ]
     },
     "execution_count": 348,
     "metadata": {},
     "output_type": "execute_result"
    }
   ],
   "source": [
    "pow(2,3)"
   ]
  },
  {
   "cell_type": "code",
   "execution_count": 349,
   "id": "9f447de3",
   "metadata": {},
   "outputs": [],
   "source": [
    "def check_even(n):\n",
    "    if n%2==0:\n",
    "        return True\n",
    "    else:\n",
    "        return False"
   ]
  },
  {
   "cell_type": "code",
   "execution_count": 351,
   "id": "706d77c2",
   "metadata": {},
   "outputs": [
    {
     "data": {
      "text/plain": [
       "[4, 6, 8, 2]"
      ]
     },
     "execution_count": 351,
     "metadata": {},
     "output_type": "execute_result"
    }
   ],
   "source": [
    "li=[1,4,6,8,5,3,2,7,9,1,3]\n",
    "\n",
    "list(filter(check_even, li))"
   ]
  },
  {
   "cell_type": "code",
   "execution_count": 353,
   "id": "14b25efe",
   "metadata": {},
   "outputs": [
    {
     "data": {
      "text/plain": [
       "[1, 16, 36, 64, 25, 9, 4, 49, 81, 1, 9]"
      ]
     },
     "execution_count": 353,
     "metadata": {},
     "output_type": "execute_result"
    }
   ],
   "source": [
    "def sqr(n):\n",
    "    return n**2\n",
    "list(map(sqr, li))"
   ]
  },
  {
   "cell_type": "code",
   "execution_count": 358,
   "id": "b38ffa82",
   "metadata": {},
   "outputs": [
    {
     "name": "stdout",
     "output_type": "stream",
     "text": [
      "a-b-c\n"
     ]
    }
   ],
   "source": [
    "print(\"-\".join(['a','b','c']))"
   ]
  },
  {
   "cell_type": "code",
   "execution_count": null,
   "id": "93d9494c",
   "metadata": {},
   "outputs": [],
   "source": []
  },
  {
   "cell_type": "code",
   "execution_count": 363,
   "id": "405ef9f8",
   "metadata": {},
   "outputs": [
    {
     "name": "stdout",
     "output_type": "stream",
     "text": [
      "CPU times: total: 0 ns\n",
      "Wall time: 0 ns\n"
     ]
    },
    {
     "data": {
      "text/plain": [
       "6689502913449127057588118054090372586752746333138029810295671352301633557244962989366874165271984981308157637893214090552534408589408121859898481114389650005964960521256960000000000000000000000000000"
      ]
     },
     "execution_count": 363,
     "metadata": {},
     "output_type": "execute_result"
    }
   ],
   "source": [
    "%time\n",
    "find_fact(120)"
   ]
  },
  {
   "cell_type": "code",
   "execution_count": 365,
   "id": "2da42f0e",
   "metadata": {},
   "outputs": [],
   "source": [
    "# find largest prime before N\n",
    "\n",
    "def check_prime(n):\n",
    "    for i in range(2,n//2+1):\n",
    "        if n%i==0:\n",
    "            return False\n",
    "    return True"
   ]
  },
  {
   "cell_type": "code",
   "execution_count": 369,
   "id": "ad975498",
   "metadata": {},
   "outputs": [],
   "source": [
    "def find_max_prime(n):\n",
    "    for num in range(n-1, 1, -1):\n",
    "        if check_prime(num)== True:\n",
    "            print(num)\n",
    "            break"
   ]
  },
  {
   "cell_type": "code",
   "execution_count": 374,
   "id": "348f4dfc",
   "metadata": {},
   "outputs": [
    {
     "name": "stdout",
     "output_type": "stream",
     "text": [
      "CPU times: total: 0 ns\n",
      "Wall time: 0 ns\n",
      "2534789\n"
     ]
    }
   ],
   "source": [
    "%time\n",
    "find_max_prime(2534800)"
   ]
  },
  {
   "cell_type": "code",
   "execution_count": 375,
   "id": "a47680be",
   "metadata": {},
   "outputs": [],
   "source": [
    "li=[{'phase':'morning', 'id':1},{'phase':'evening', 'id':3},\n",
    "    {'phase':'afternoon', 'id':2}]"
   ]
  },
  {
   "cell_type": "markdown",
   "id": "cac5f2eb",
   "metadata": {},
   "source": [
    "##### Variable length arguments"
   ]
  },
  {
   "cell_type": "code",
   "execution_count": 381,
   "id": "c3e51063",
   "metadata": {},
   "outputs": [],
   "source": [
    "def find_sum(*num):\n",
    "    sum=0\n",
    "    for i in num:\n",
    "        sum+=i\n",
    "    return sum"
   ]
  },
  {
   "cell_type": "code",
   "execution_count": 384,
   "id": "68813a24",
   "metadata": {},
   "outputs": [
    {
     "data": {
      "text/plain": [
       "22"
      ]
     },
     "execution_count": 384,
     "metadata": {},
     "output_type": "execute_result"
    }
   ],
   "source": [
    "find_sum(4,3,4,5,6)"
   ]
  },
  {
   "cell_type": "code",
   "execution_count": 386,
   "id": "8a8658e3",
   "metadata": {},
   "outputs": [],
   "source": [
    "def find_sum(**num):\n",
    "    print(num)\n",
    "    return None"
   ]
  },
  {
   "cell_type": "code",
   "execution_count": 387,
   "id": "c781fd17",
   "metadata": {},
   "outputs": [
    {
     "name": "stdout",
     "output_type": "stream",
     "text": [
      "{'x': 10, 'y': 20}\n"
     ]
    }
   ],
   "source": [
    "find_sum(x=10, y=20)"
   ]
  },
  {
   "cell_type": "code",
   "execution_count": 389,
   "id": "a92bc1b1",
   "metadata": {},
   "outputs": [],
   "source": [
    "def find_sum(*num):\n",
    "    print(num)\n",
    "    return None"
   ]
  },
  {
   "cell_type": "code",
   "execution_count": 390,
   "id": "59105c03",
   "metadata": {},
   "outputs": [
    {
     "name": "stdout",
     "output_type": "stream",
     "text": [
      "(2, 3, 4, 5)\n"
     ]
    }
   ],
   "source": [
    "find_sum(2,3,4,5)"
   ]
  },
  {
   "cell_type": "code",
   "execution_count": 391,
   "id": "65f77e46",
   "metadata": {},
   "outputs": [],
   "source": [
    "# write a code to rename key of a dictionary"
   ]
  },
  {
   "cell_type": "code",
   "execution_count": null,
   "id": "4bb708ee",
   "metadata": {},
   "outputs": [],
   "source": [
    "# Hint: add a new key, copy value from old key"
   ]
  },
  {
   "cell_type": "code",
   "execution_count": null,
   "id": "1058c89f",
   "metadata": {},
   "outputs": [],
   "source": []
  },
  {
   "cell_type": "code",
   "execution_count": 392,
   "id": "b496f431",
   "metadata": {},
   "outputs": [],
   "source": [
    "# write a code to calculate and print frequency of list elements"
   ]
  },
  {
   "cell_type": "code",
   "execution_count": 395,
   "id": "890cba21",
   "metadata": {},
   "outputs": [
    {
     "data": {
      "text/plain": [
       "{0: 2, 1: 5, 2: 4, 3: 3, 4: 4, 5: 4, 6: 1, 7: 1, 8: 3, 9: 4}"
      ]
     },
     "execution_count": 395,
     "metadata": {},
     "output_type": "execute_result"
    }
   ],
   "source": [
    "li=[1,2,4,5,6,3,2,4,1,7,8,9,9,0,9,8,5,4,3,2,1,4,5,8,9,5,2,1,1,3,0]\n",
    "uniq=set(li)\n",
    "#for num in uniq:\n",
    "#    print(num, \"=>\", li.count(num))\n",
    "d={num:li.count(num) for num in uniq}\n",
    "d"
   ]
  },
  {
   "cell_type": "code",
   "execution_count": null,
   "id": "c00c1539",
   "metadata": {},
   "outputs": [],
   "source": []
  }
 ],
 "metadata": {
  "kernelspec": {
   "display_name": "Python 3 (ipykernel)",
   "language": "python",
   "name": "python3"
  },
  "language_info": {
   "codemirror_mode": {
    "name": "ipython",
    "version": 3
   },
   "file_extension": ".py",
   "mimetype": "text/x-python",
   "name": "python",
   "nbconvert_exporter": "python",
   "pygments_lexer": "ipython3",
   "version": "3.9.12"
  }
 },
 "nbformat": 4,
 "nbformat_minor": 5
}
