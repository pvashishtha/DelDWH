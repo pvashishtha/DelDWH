{
 "cells": [
  {
   "cell_type": "markdown",
   "id": "7ae41d30",
   "metadata": {},
   "source": [
    "#### Python Basics- Hello World\n",
    "<i> hello world is always the first program"
   ]
  },
  {
   "cell_type": "code",
   "execution_count": 1,
   "id": "a46a4775",
   "metadata": {},
   "outputs": [
    {
     "name": "stdout",
     "output_type": "stream",
     "text": [
      "Hello World\n"
     ]
    }
   ],
   "source": [
    "print(\"Hello World\")"
   ]
  },
  {
   "cell_type": "markdown",
   "id": "f96e0dac",
   "metadata": {},
   "source": [
    "#### print() function"
   ]
  },
  {
   "cell_type": "code",
   "execution_count": 2,
   "id": "3e1fc361",
   "metadata": {},
   "outputs": [],
   "source": [
    "# print() functionality\n",
    "# print(\"value/text\", \"val/text\", end='\\n', sep=' ', \n",
    "#                      file=file, flush=True|False)"
   ]
  },
  {
   "cell_type": "code",
   "execution_count": 5,
   "id": "b91392d3",
   "metadata": {},
   "outputs": [
    {
     "name": "stdout",
     "output_type": "stream",
     "text": [
      "prateek vashishtha 90 3.14\n",
      "second line text\n"
     ]
    }
   ],
   "source": [
    "print('prateek', \"vashishtha\", 90, 3.14)\n",
    "print('second line text')"
   ]
  },
  {
   "cell_type": "code",
   "execution_count": 8,
   "id": "53e6bcb6",
   "metadata": {},
   "outputs": [
    {
     "name": "stdout",
     "output_type": "stream",
     "text": [
      "prateek\n",
      "vashishtha\n",
      "90\n",
      "3.14@second line text\n"
     ]
    }
   ],
   "source": [
    "print('prateek', \"vashishtha\", 90, 3.14, sep='\\n', end='@')\n",
    "print('second line text')"
   ]
  },
  {
   "cell_type": "markdown",
   "id": "f450aac9",
   "metadata": {},
   "source": [
    "#### input() function"
   ]
  },
  {
   "cell_type": "code",
   "execution_count": 10,
   "id": "523b6f9f",
   "metadata": {},
   "outputs": [
    {
     "name": "stdout",
     "output_type": "stream",
     "text": [
      "Enter a number: 789\n"
     ]
    },
    {
     "data": {
      "text/plain": [
       "'789'"
      ]
     },
     "execution_count": 10,
     "metadata": {},
     "output_type": "execute_result"
    }
   ],
   "source": [
    "# input() returns string\n",
    "\n",
    "input('Enter a number: ')"
   ]
  },
  {
   "cell_type": "markdown",
   "id": "8d101b2b",
   "metadata": {},
   "source": [
    "#### variables"
   ]
  },
  {
   "cell_type": "code",
   "execution_count": 11,
   "id": "090f052c",
   "metadata": {},
   "outputs": [],
   "source": [
    "# variables\n",
    "\n",
    "a=10"
   ]
  },
  {
   "cell_type": "code",
   "execution_count": 13,
   "id": "b3b8709a",
   "metadata": {},
   "outputs": [
    {
     "name": "stdout",
     "output_type": "stream",
     "text": [
      "10\n"
     ]
    }
   ],
   "source": [
    "print(a)"
   ]
  },
  {
   "cell_type": "code",
   "execution_count": 14,
   "id": "df18e187",
   "metadata": {},
   "outputs": [],
   "source": [
    "## naming convention\n",
    "\n",
    "# start with letter\n",
    "# can have numbers after letters\n",
    "# it can have underscore symbol\n",
    "\n",
    "first_name='Prateek'\n"
   ]
  },
  {
   "cell_type": "code",
   "execution_count": 15,
   "id": "01544ff2",
   "metadata": {},
   "outputs": [
    {
     "ename": "SyntaxError",
     "evalue": "cannot assign to operator (3922294228.py, line 1)",
     "output_type": "error",
     "traceback": [
      "\u001b[1;36m  Input \u001b[1;32mIn [15]\u001b[1;36m\u001b[0m\n\u001b[1;33m    first-name='Prateek'\u001b[0m\n\u001b[1;37m    ^\u001b[0m\n\u001b[1;31mSyntaxError\u001b[0m\u001b[1;31m:\u001b[0m cannot assign to operator\n"
     ]
    }
   ],
   "source": [
    "first-name='Prateek'"
   ]
  },
  {
   "cell_type": "code",
   "execution_count": 16,
   "id": "f7d450c6",
   "metadata": {},
   "outputs": [
    {
     "name": "stdout",
     "output_type": "stream",
     "text": [
      "10 20 30\n"
     ]
    }
   ],
   "source": [
    "a,b,c=10,20,30\n",
    "print(a,b,c)"
   ]
  },
  {
   "cell_type": "code",
   "execution_count": 19,
   "id": "e123ab73",
   "metadata": {},
   "outputs": [
    {
     "name": "stdout",
     "output_type": "stream",
     "text": [
      "300 10\n"
     ]
    }
   ],
   "source": [
    "a=10\n",
    "b=300\n",
    "a,b=b,a #swapping values\n",
    "print(a,b)"
   ]
  },
  {
   "cell_type": "markdown",
   "id": "55ac2bc1",
   "metadata": {},
   "source": [
    "#### type()"
   ]
  },
  {
   "cell_type": "code",
   "execution_count": 21,
   "id": "dfde49fa",
   "metadata": {},
   "outputs": [
    {
     "name": "stdout",
     "output_type": "stream",
     "text": [
      "<class 'int'> <class 'str'> <class 'float'>\n"
     ]
    }
   ],
   "source": [
    "a=30\n",
    "b='prateek'\n",
    "c=45.89\n",
    "\n",
    "print(type(a), type(b), type(c))"
   ]
  },
  {
   "cell_type": "markdown",
   "id": "1d4e5083",
   "metadata": {},
   "source": [
    "### id()"
   ]
  },
  {
   "cell_type": "code",
   "execution_count": 29,
   "id": "3507a830",
   "metadata": {},
   "outputs": [
    {
     "data": {
      "text/plain": [
       "1992590185936"
      ]
     },
     "execution_count": 29,
     "metadata": {},
     "output_type": "execute_result"
    }
   ],
   "source": [
    "a=100\n",
    "id(a)"
   ]
  },
  {
   "cell_type": "code",
   "execution_count": 30,
   "id": "cd738195",
   "metadata": {},
   "outputs": [
    {
     "data": {
      "text/plain": [
       "1992698852720"
      ]
     },
     "execution_count": 30,
     "metadata": {},
     "output_type": "execute_result"
    }
   ],
   "source": [
    "b=300\n",
    "id(b)"
   ]
  },
  {
   "cell_type": "code",
   "execution_count": 31,
   "id": "7a446a69",
   "metadata": {},
   "outputs": [
    {
     "data": {
      "text/plain": [
       "1992698852400"
      ]
     },
     "execution_count": 31,
     "metadata": {},
     "output_type": "execute_result"
    }
   ],
   "source": [
    "a=300\n",
    "id(a)"
   ]
  },
  {
   "cell_type": "markdown",
   "id": "7a76a573",
   "metadata": {},
   "source": [
    "### chr() and ord()"
   ]
  },
  {
   "cell_type": "code",
   "execution_count": 32,
   "id": "f5913a89",
   "metadata": {},
   "outputs": [
    {
     "data": {
      "text/plain": [
       "'A'"
      ]
     },
     "execution_count": 32,
     "metadata": {},
     "output_type": "execute_result"
    }
   ],
   "source": [
    "chr(65)"
   ]
  },
  {
   "cell_type": "code",
   "execution_count": 33,
   "id": "60e2e5f2",
   "metadata": {},
   "outputs": [
    {
     "data": {
      "text/plain": [
       "'a'"
      ]
     },
     "execution_count": 33,
     "metadata": {},
     "output_type": "execute_result"
    }
   ],
   "source": [
    "chr(97)"
   ]
  },
  {
   "cell_type": "code",
   "execution_count": 34,
   "id": "158f5d93",
   "metadata": {},
   "outputs": [
    {
     "data": {
      "text/plain": [
       "65"
      ]
     },
     "execution_count": 34,
     "metadata": {},
     "output_type": "execute_result"
    }
   ],
   "source": [
    "ord('A')"
   ]
  },
  {
   "cell_type": "code",
   "execution_count": 36,
   "id": "48f988f1",
   "metadata": {},
   "outputs": [
    {
     "data": {
      "text/plain": [
       "32"
      ]
     },
     "execution_count": 36,
     "metadata": {},
     "output_type": "execute_result"
    }
   ],
   "source": [
    "ord(' ')"
   ]
  },
  {
   "cell_type": "code",
   "execution_count": 37,
   "id": "e4fc78f8",
   "metadata": {},
   "outputs": [
    {
     "name": "stdout",
     "output_type": "stream",
     "text": [
      "3.142857142857143\n"
     ]
    }
   ],
   "source": [
    "number=22/7\n",
    "print(number)"
   ]
  },
  {
   "cell_type": "code",
   "execution_count": 1,
   "id": "b3557c00",
   "metadata": {},
   "outputs": [
    {
     "name": "stdout",
     "output_type": "stream",
     "text": [
      "7038708375013531964052379338051128083487074598408887865067002435963413067838177122971015825196473604725606307357462662730433472370405501752513125266080075657079365211572263205555127585890851402662745374346917227774877294857421144901410498718657031334578267379644740317121851336551582892405673017011896605854837582695096512716132573302256164074280293573615524584129062173456873505823463483983210519134593060804942484888038106750999132937788681723189210078249507404907035398426625594806047270533505184788025781898964920059308435430820498581968862555998151128840578703674573462401389191268589251164795421565905053464598199779529417691012411064395868254328425731872736988966495506999029708631149825117648685338026674395993657543774785364944029155941442094276683702498806038736449604513547976865132832232891003424396286755036889786288804652712678779722237887392357114383764242438387525825317626307042365626036367396731647306878362014973744359464817342332639512255580305459428340688208957524656278457035295210478528887982798494964409846047090851986595618468180902685367786706550343477542197210087854944895108191856149454370182708685676551055788740819413827718308467693559220735007693872478874147982411274775089819254820016323395196894585206250283491067546020139266752176687858309028799437398538897612455413143427152628973268566543184945505328482172206235370813499851690776839403175640610584651208822658786264049621997192686168635058351724316091005170228569332629592825371117472182508905075476318805497058256151276689178402043685152806122068265100000000000000000000000000000000000000000000000000000000000000000000000000000000000000000000000000000000000000000000000000000000000000000000000000000000000000000000000000000000000000000000000000000000000000000000000000000000000000000000000000000000000000000000000000000000000000000000000000000000000000000000000000000000000000000000000000000000000000000000000000000000000000000000000000000000000000000000000000000000000000000000000000000000000000000000000000000000000000000000000000000000000000000000000000000000000000000000000000000000000000000000000000000000000000000000000000000000000000000000000000000000000000000000000000000000000000000000000000000000000000000000000000000000000000000000000000000000000000000000000000000000000000000000000000000000000000000000000000000000000000000\n"
     ]
    }
   ],
   "source": [
    "num=910**785\n",
    "print(num)"
   ]
  },
  {
   "cell_type": "code",
   "execution_count": 10,
   "id": "b1b89bf5",
   "metadata": {},
   "outputs": [
    {
     "name": "stdout",
     "output_type": "stream",
     "text": [
      "Enter a number: 678\n",
      "678\n"
     ]
    }
   ],
   "source": [
    "# input() function return value\n",
    "\n",
    "x=input('Enter a number: ')\n",
    "print(x)"
   ]
  },
  {
   "cell_type": "code",
   "execution_count": 11,
   "id": "93244e8f",
   "metadata": {},
   "outputs": [
    {
     "data": {
      "text/plain": [
       "str"
      ]
     },
     "execution_count": 11,
     "metadata": {},
     "output_type": "execute_result"
    }
   ],
   "source": [
    "type(x)"
   ]
  },
  {
   "cell_type": "markdown",
   "id": "01688377",
   "metadata": {},
   "source": [
    "## Type Conversion"
   ]
  },
  {
   "cell_type": "code",
   "execution_count": 12,
   "id": "617a0b07",
   "metadata": {},
   "outputs": [
    {
     "name": "stdout",
     "output_type": "stream",
     "text": [
      "678\n",
      "<class 'str'>\n",
      "<class 'int'>\n"
     ]
    }
   ],
   "source": [
    "# int to str\n",
    "# str to int\n",
    "print(x)\n",
    "print(type(x))\n",
    "x=int(x) # explicit conversion\n",
    "print(type(x))"
   ]
  },
  {
   "cell_type": "code",
   "execution_count": 13,
   "id": "d32eab15",
   "metadata": {},
   "outputs": [
    {
     "name": "stdout",
     "output_type": "stream",
     "text": [
      "<class 'str'>\n"
     ]
    }
   ],
   "source": [
    "a=3.45\n",
    "a=str(a)\n",
    "print(type(a))"
   ]
  },
  {
   "cell_type": "code",
   "execution_count": 15,
   "id": "2ec09c0f",
   "metadata": {},
   "outputs": [
    {
     "data": {
      "text/plain": [
       "3.45"
      ]
     },
     "execution_count": 15,
     "metadata": {},
     "output_type": "execute_result"
    }
   ],
   "source": [
    "# str to float\n",
    "a\n",
    "temp=float(a)\n",
    "temp"
   ]
  },
  {
   "cell_type": "code",
   "execution_count": 16,
   "id": "301df1ff",
   "metadata": {},
   "outputs": [
    {
     "name": "stdout",
     "output_type": "stream",
     "text": [
      "Enter Number: 789\n"
     ]
    },
    {
     "data": {
      "text/plain": [
       "int"
      ]
     },
     "execution_count": 16,
     "metadata": {},
     "output_type": "execute_result"
    }
   ],
   "source": [
    "num=int(input('Enter Number: '))\n",
    "type(num)"
   ]
  },
  {
   "cell_type": "markdown",
   "id": "3537d3d0",
   "metadata": {},
   "source": [
    "### Strings"
   ]
  },
  {
   "cell_type": "code",
   "execution_count": 17,
   "id": "e73620c2",
   "metadata": {},
   "outputs": [],
   "source": [
    "# 1. single quoted\n",
    "# 2. double quoted\n",
    "# 3. triple quoted by using any of single or double quote symbols"
   ]
  },
  {
   "cell_type": "code",
   "execution_count": 18,
   "id": "78727d2f",
   "metadata": {},
   "outputs": [],
   "source": [
    "s='this is singkle quoted string'"
   ]
  },
  {
   "cell_type": "code",
   "execution_count": 19,
   "id": "077a256e",
   "metadata": {},
   "outputs": [],
   "source": [
    "s=\"this is double quoted string\""
   ]
  },
  {
   "cell_type": "code",
   "execution_count": 20,
   "id": "00f2dd29",
   "metadata": {},
   "outputs": [],
   "source": [
    "s='''this is triple quoted string.\n",
    "this allows multiple lines of text\n",
    "if you don\\'t believe try it yourself!'''"
   ]
  },
  {
   "cell_type": "code",
   "execution_count": 21,
   "id": "2674a9c9",
   "metadata": {},
   "outputs": [],
   "source": [
    "s=\"\"\"this is also triple quoted.\n",
    "multi line text\n",
    "same as above in single quotes\"\"\""
   ]
  },
  {
   "cell_type": "markdown",
   "id": "519e09de",
   "metadata": {},
   "source": [
    "### Basic Mathematical Operators"
   ]
  },
  {
   "cell_type": "code",
   "execution_count": 24,
   "id": "94d3e797",
   "metadata": {},
   "outputs": [
    {
     "name": "stdout",
     "output_type": "stream",
     "text": [
      "a+b=  400\n",
      "a-b=  -200\n",
      "a/b= 0.3333333333333333\n",
      "a*b=  30000\n",
      "b//a=  3\n",
      "b**3=  27000000\n"
     ]
    }
   ],
   "source": [
    "# addition +\n",
    "# substraction -\n",
    "# division /\n",
    "# multiplication *\n",
    "# integer division //\n",
    "# exponent **\n",
    "\n",
    "a=100\n",
    "b=300\n",
    "\n",
    "print('a+b= ',a+b)\n",
    "print('a-b= ',a-b)\n",
    "print('a/b=',a/b)\n",
    "print('a*b= ',a*b)\n",
    "print('b//a= ',b//a)\n",
    "print('b**3= ',b**3)"
   ]
  },
  {
   "cell_type": "code",
   "execution_count": 26,
   "id": "8c16ad2a",
   "metadata": {},
   "outputs": [
    {
     "name": "stdout",
     "output_type": "stream",
     "text": [
      "11\n"
     ]
    }
   ],
   "source": [
    "# integer division\n",
    "\n",
    "print(45//4)"
   ]
  },
  {
   "cell_type": "code",
   "execution_count": 27,
   "id": "bde680ae",
   "metadata": {},
   "outputs": [
    {
     "name": "stdout",
     "output_type": "stream",
     "text": [
      "6561\n"
     ]
    }
   ],
   "source": [
    "# exponential **\n",
    "\n",
    "print(9**4)"
   ]
  },
  {
   "cell_type": "code",
   "execution_count": 37,
   "id": "52a2751e",
   "metadata": {},
   "outputs": [
    {
     "name": "stdout",
     "output_type": "stream",
     "text": [
      "3\n"
     ]
    }
   ],
   "source": [
    "# Modulus operator %\n",
    "\n",
    "print(63%10)"
   ]
  },
  {
   "cell_type": "code",
   "execution_count": 39,
   "id": "b2c3ec5d",
   "metadata": {},
   "outputs": [
    {
     "name": "stdout",
     "output_type": "stream",
     "text": [
      "(53+15j)\n"
     ]
    }
   ],
   "source": [
    "# complex number\n",
    "\n",
    "print((45+6j)+(8+9j))"
   ]
  },
  {
   "cell_type": "markdown",
   "id": "0ecda9eb",
   "metadata": {},
   "source": [
    "#### Write a code to extract digits of a number like 45678"
   ]
  },
  {
   "cell_type": "code",
   "execution_count": 42,
   "id": "43c4d5f5",
   "metadata": {},
   "outputs": [
    {
     "name": "stdout",
     "output_type": "stream",
     "text": [
      "87654"
     ]
    }
   ],
   "source": [
    "x=45678\n",
    "\n",
    "print(x%10, end='')\n",
    "x=x//10\n",
    "print(x%10, end='')\n",
    "x=x//10\n",
    "print(x%10, end='')\n",
    "x=x//10\n",
    "print(x%10, end='')\n",
    "x=x//10\n",
    "print(x%10, end='')"
   ]
  },
  {
   "cell_type": "code",
   "execution_count": null,
   "id": "d92facce",
   "metadata": {},
   "outputs": [],
   "source": []
  },
  {
   "cell_type": "markdown",
   "id": "165a323f",
   "metadata": {},
   "source": [
    "### Comparison Operator"
   ]
  },
  {
   "cell_type": "code",
   "execution_count": 28,
   "id": "2e1ec266",
   "metadata": {},
   "outputs": [
    {
     "name": "stdout",
     "output_type": "stream",
     "text": [
      "True\n"
     ]
    }
   ],
   "source": [
    "# <, >, <=, >=, !=, ==\n",
    "# True | False\n",
    "\n",
    "print(10<20)"
   ]
  },
  {
   "cell_type": "code",
   "execution_count": 30,
   "id": "99fe1472",
   "metadata": {},
   "outputs": [
    {
     "name": "stdout",
     "output_type": "stream",
     "text": [
      "False\n"
     ]
    }
   ],
   "source": [
    "print(10==15)"
   ]
  },
  {
   "cell_type": "markdown",
   "id": "9aaf092c",
   "metadata": {},
   "source": [
    "### Bitwise Operators"
   ]
  },
  {
   "cell_type": "code",
   "execution_count": 32,
   "id": "01ea366b",
   "metadata": {},
   "outputs": [
    {
     "name": "stdout",
     "output_type": "stream",
     "text": [
      "True\n",
      "False\n"
     ]
    }
   ],
   "source": [
    "# &- bitwise AND, |- bitwise OR,\n",
    "\n",
    "print(True | True)\n",
    "print(True & False)"
   ]
  },
  {
   "cell_type": "code",
   "execution_count": 33,
   "id": "8811a274",
   "metadata": {},
   "outputs": [
    {
     "name": "stdout",
     "output_type": "stream",
     "text": [
      "True\n"
     ]
    }
   ],
   "source": [
    "print((10<20)&(20<30))"
   ]
  },
  {
   "cell_type": "code",
   "execution_count": 35,
   "id": "88fad6c0",
   "metadata": {},
   "outputs": [
    {
     "name": "stdout",
     "output_type": "stream",
     "text": [
      "True\n"
     ]
    }
   ],
   "source": [
    "print((10<20)|(120<30))"
   ]
  },
  {
   "cell_type": "markdown",
   "id": "3101beec",
   "metadata": {},
   "source": [
    "### Logical Operators"
   ]
  },
  {
   "cell_type": "code",
   "execution_count": 36,
   "id": "8af51483",
   "metadata": {},
   "outputs": [
    {
     "name": "stdout",
     "output_type": "stream",
     "text": [
      "True\n"
     ]
    }
   ],
   "source": [
    "# AND, OR, NOT\n",
    "\n",
    "x=100\n",
    "print((x<1000) and (x==100))"
   ]
  },
  {
   "cell_type": "markdown",
   "id": "374ff73b",
   "metadata": {},
   "source": [
    "### Other Operators"
   ]
  },
  {
   "cell_type": "code",
   "execution_count": 44,
   "id": "ddba4777",
   "metadata": {},
   "outputs": [],
   "source": [
    "# MEMBERSHIP OPERATOR - \"in\" and \"not in\"\n",
    "\n",
    "# IDENTITY OPERATORS - \"is\" and \"is not\""
   ]
  },
  {
   "cell_type": "markdown",
   "id": "30992d16",
   "metadata": {},
   "source": [
    "### Assignment Operators"
   ]
  },
  {
   "cell_type": "code",
   "execution_count": 46,
   "id": "2d68252b",
   "metadata": {},
   "outputs": [
    {
     "name": "stdout",
     "output_type": "stream",
     "text": [
      "20\n",
      "15\n",
      "7.5\n",
      "37.5\n",
      "1.5\n",
      "5.0625\n"
     ]
    }
   ],
   "source": [
    "x=10\n",
    "\n",
    "x+=10\n",
    "print(x)\n",
    "x-=5\n",
    "print(x)\n",
    "x/=2\n",
    "print(x)\n",
    "x*=5\n",
    "print(x)\n",
    "x%=3\n",
    "print(x)\n",
    "x**=4\n",
    "print(x)"
   ]
  },
  {
   "cell_type": "markdown",
   "id": "68c2c064",
   "metadata": {},
   "source": [
    "##### Shifting bitwise"
   ]
  },
  {
   "cell_type": "code",
   "execution_count": 47,
   "id": "39f09872",
   "metadata": {},
   "outputs": [
    {
     "name": "stdout",
     "output_type": "stream",
     "text": [
      "32\n"
     ]
    }
   ],
   "source": [
    "x=8\n",
    "\n",
    "# 0000 1000 << 2\n",
    "\n",
    "# 0010 0000 = 32\n",
    "\n",
    "print(x<<2)"
   ]
  },
  {
   "cell_type": "code",
   "execution_count": 48,
   "id": "216acbbb",
   "metadata": {},
   "outputs": [
    {
     "name": "stdout",
     "output_type": "stream",
     "text": [
      "4\n"
     ]
    }
   ],
   "source": [
    "print(x>>1)"
   ]
  },
  {
   "cell_type": "code",
   "execution_count": 49,
   "id": "92863cfb",
   "metadata": {},
   "outputs": [
    {
     "name": "stdout",
     "output_type": "stream",
     "text": [
      "-48.0\n"
     ]
    }
   ],
   "source": [
    "# 23+16/4-3*5**2\n",
    "print(23+16/4-3*5**2)\n",
    "\n",
    "# 23+16/4-3*25\n",
    "# 23+4-75\n",
    "# 27-75\n",
    "# -48"
   ]
  },
  {
   "cell_type": "code",
   "execution_count": 52,
   "id": "05247946",
   "metadata": {},
   "outputs": [
    {
     "name": "stdout",
     "output_type": "stream",
     "text": [
      "423.0\n"
     ]
    }
   ],
   "source": [
    "print(23+16/(4-3)*5**2)"
   ]
  },
  {
   "cell_type": "code",
   "execution_count": null,
   "id": "ab1734cf",
   "metadata": {},
   "outputs": [],
   "source": []
  },
  {
   "cell_type": "markdown",
   "id": "97303ad7",
   "metadata": {},
   "source": [
    "### Flow Control"
   ]
  },
  {
   "cell_type": "markdown",
   "id": "3ae28b73",
   "metadata": {},
   "source": [
    "#### Conditional Control using if-else"
   ]
  },
  {
   "cell_type": "code",
   "execution_count": 58,
   "id": "f72b8c5d",
   "metadata": {},
   "outputs": [
    {
     "name": "stdout",
     "output_type": "stream",
     "text": [
      "outside if block\n"
     ]
    }
   ],
   "source": [
    "x=5\n",
    "\n",
    "if x>10: # header\n",
    "    print('inside if block') #indentation provided\n",
    "    print('more than 10')\n",
    "print('outside if block')"
   ]
  },
  {
   "cell_type": "code",
   "execution_count": 59,
   "id": "1c74656f",
   "metadata": {},
   "outputs": [
    {
     "name": "stdout",
     "output_type": "stream",
     "text": [
      "inside else block\n",
      "x is not more than 5\n",
      "outise if-else blocks\n"
     ]
    }
   ],
   "source": [
    "# if-else\n",
    "\n",
    "x=5\n",
    "\n",
    "if x>5:\n",
    "    print('inside if block')\n",
    "    print('x is more than 5')\n",
    "else:\n",
    "    print('inside else block')\n",
    "    print('x is not more than 5')\n",
    "print('outise if-else blocks')"
   ]
  },
  {
   "cell_type": "code",
   "execution_count": 61,
   "id": "1d06e0cf",
   "metadata": {},
   "outputs": [
    {
     "name": "stdout",
     "output_type": "stream",
     "text": [
      "y is larger\n"
     ]
    }
   ],
   "source": [
    "# find largest number from 2 numbers\n",
    "x=100\n",
    "y=200\n",
    "\n",
    "if x>y:\n",
    "    print('x is larger')\n",
    "else:\n",
    "    print('y is larger')\n",
    "    "
   ]
  },
  {
   "cell_type": "code",
   "execution_count": 62,
   "id": "8b7c275c",
   "metadata": {},
   "outputs": [
    {
     "name": "stdout",
     "output_type": "stream",
     "text": [
      "c is largest\n"
     ]
    }
   ],
   "source": [
    "# find largest number from given 3 numbers\n",
    "\n",
    "a=20\n",
    "b=5\n",
    "c=30\n",
    "\n",
    "# nested if-else\n",
    "if a>b:\n",
    "    if a>c:\n",
    "        print('a is largest')\n",
    "    else:\n",
    "        print('c is largest')\n",
    "else:\n",
    "    if b>c:\n",
    "        print('b is largest')\n",
    "    else:\n",
    "        print('c is largest')"
   ]
  },
  {
   "cell_type": "code",
   "execution_count": 67,
   "id": "a0ce01d8",
   "metadata": {},
   "outputs": [
    {
     "name": "stdout",
     "output_type": "stream",
     "text": [
      "b is largest\n",
      "c is largest\n"
     ]
    }
   ],
   "source": [
    "a=20\n",
    "b=30\n",
    "c=30\n",
    "\n",
    "if a>=b and a>=c:\n",
    "    print('a is largest')\n",
    "if b>=a and b>=c:\n",
    "    print('b is largest')\n",
    "if c>=a and c>=b:\n",
    "    print('c is largest')"
   ]
  },
  {
   "cell_type": "code",
   "execution_count": 68,
   "id": "a8e55d6c",
   "metadata": {},
   "outputs": [],
   "source": [
    "# if-elif-else ladder"
   ]
  },
  {
   "cell_type": "code",
   "execution_count": 71,
   "id": "9b0f52f7",
   "metadata": {},
   "outputs": [
    {
     "name": "stdout",
     "output_type": "stream",
     "text": [
      "there is some equality\n"
     ]
    }
   ],
   "source": [
    "a=20\n",
    "b=30\n",
    "c=30\n",
    "\n",
    "if a>b and a>c:\n",
    "    print('a is largest')\n",
    "elif b>a and b>c:\n",
    "    print('b is largest')\n",
    "elif c>a and c>b:\n",
    "    print('c is largest')\n",
    "else:\n",
    "    print('there is some equality')"
   ]
  },
  {
   "cell_type": "code",
   "execution_count": 76,
   "id": "816913fe",
   "metadata": {},
   "outputs": [
    {
     "name": "stdout",
     "output_type": "stream",
     "text": [
      "Enter Total Marks(0-100): 92\n",
      "A\n"
     ]
    }
   ],
   "source": [
    "# accept marks as input from user and evaluate the grade for student\n",
    "\n",
    "# 91-100 A grade\n",
    "# 76-90 B grade\n",
    "# 60-75 C grade\n",
    "# 40-59 D grade\n",
    "# below 40 F grade\n",
    "\n",
    "# Then based on grade calculate GPA range with formula:\n",
    "    # A=10, B=8, C=6, D=4, F=0\n",
    "\n",
    "grade='E'\n",
    "marks=int(input('Enter Total Marks(0-100): '))\n",
    "\n",
    "if marks>=91 and marks<=100:\n",
    "    grade='A'\n",
    "elif marks>=76:\n",
    "    grade='B'\n",
    "elif marks>=60:\n",
    "    grade='C'\n",
    "elif marks>=40:\n",
    "    grade='D'\n",
    "else:\n",
    "    grade='F'\n",
    "\n",
    "print(grade)"
   ]
  },
  {
   "cell_type": "code",
   "execution_count": 78,
   "id": "f3adba2a",
   "metadata": {},
   "outputs": [
    {
     "name": "stdout",
     "output_type": "stream",
     "text": [
      "GPA is upto 10\n"
     ]
    }
   ],
   "source": [
    "if grade=='A':\n",
    "    print('GPA is upto 10')"
   ]
  },
  {
   "cell_type": "code",
   "execution_count": 79,
   "id": "cea5929a",
   "metadata": {},
   "outputs": [],
   "source": [
    "# Accept total salary from user and calculate tax as per given slab:\n",
    "# upto 4,99,999 - NO TAX\n",
    "# 5,00,000 - tax is 12,500\n",
    "# 5,00,001-10,00,000 tax is 10% of value in between range\n",
    "# 10,00,001-20,00,000 tax is 20% of value in range\n",
    "# over 20,00,001 tax is 30% of value above 20,00,000\n",
    "\n",
    "# Example: total_salary= 13,50,000\n",
    "\n",
    "# tax till 5,00,000 is 12,500\n",
    "# tax 5L to 10L is 10% of 5,00,000 i.e. 50,000\n",
    "# tax for val between 10L to 20L is 20% of 3,50,000 i.e. 70,000\n",
    "\n",
    "# total_tax= 12,500+50,000+70,000 = 1,32,500/-"
   ]
  },
  {
   "cell_type": "code",
   "execution_count": 85,
   "id": "0c3695aa",
   "metadata": {},
   "outputs": [
    {
     "name": "stdout",
     "output_type": "stream",
     "text": [
      "480000\n",
      "0\n"
     ]
    }
   ],
   "source": [
    "sal=int(input())\n",
    "tax=0\n",
    "if sal<500000:\n",
    "    tax=0\n",
    "else:\n",
    "    tax=12500\n",
    "    if sal>500000 and sal<1000000:\n",
    "        tax=tax+((sal-500000)*0.1)\n",
    "    if sal>1000000 and sal<2000000:\n",
    "        tax=tax+50000+((sal-1000000)*0.2)\n",
    "    if sal>2000000:\n",
    "        tax=tax+250000+((sal-2000000)*0.3)\n",
    "print(tax)"
   ]
  },
  {
   "cell_type": "markdown",
   "id": "44b01d89",
   "metadata": {},
   "source": [
    "## Loop Controls"
   ]
  },
  {
   "cell_type": "code",
   "execution_count": 86,
   "id": "6bf1b3fa",
   "metadata": {},
   "outputs": [
    {
     "name": "stdout",
     "output_type": "stream",
     "text": [
      "Deloitte\n"
     ]
    }
   ],
   "source": [
    "print('Deloitte')"
   ]
  },
  {
   "cell_type": "code",
   "execution_count": 87,
   "id": "55027aea",
   "metadata": {},
   "outputs": [],
   "source": [
    "# while loop\n",
    "# for loop"
   ]
  },
  {
   "cell_type": "code",
   "execution_count": 89,
   "id": "9810eee5",
   "metadata": {},
   "outputs": [
    {
     "name": "stdout",
     "output_type": "stream",
     "text": [
      "Deloitte\n",
      "Deloitte\n",
      "Deloitte\n",
      "Deloitte\n",
      "Deloitte\n",
      "after loop\n"
     ]
    }
   ],
   "source": [
    "# WHILE LOOP\n",
    "\n",
    "i=0             # initialisation\n",
    "while i<5:      #condition check\n",
    "    print('Deloitte')\n",
    "    i+=1        #increment\n",
    "print('after loop')"
   ]
  },
  {
   "cell_type": "code",
   "execution_count": 94,
   "id": "060972c4",
   "metadata": {},
   "outputs": [
    {
     "name": "stdout",
     "output_type": "stream",
     "text": [
      "15\n",
      "0 1 1 2 3 5 8 13 21 34 55 89 144 233 377 610 987 "
     ]
    }
   ],
   "source": [
    "# write a code to print fibonacci series of N values\n",
    "# 0,1,1,2,3,5,8,13,21,34,55,.....\n",
    "\n",
    "a=0\n",
    "b=1\n",
    "n=int(input())\n",
    "i=0\n",
    "print(a,b,sep=' ', end=' ')\n",
    "while i<n:\n",
    "    c=a+b\n",
    "    print(c, end=' ')\n",
    "    a=b\n",
    "    b=c\n",
    "    i+=1"
   ]
  },
  {
   "cell_type": "markdown",
   "id": "7ad9b575",
   "metadata": {},
   "source": [
    "### break statement"
   ]
  },
  {
   "cell_type": "code",
   "execution_count": 96,
   "id": "f3d0562e",
   "metadata": {},
   "outputs": [
    {
     "name": "stdout",
     "output_type": "stream",
     "text": [
      "value of i is:  0\n",
      "value of i is:  1\n",
      "value of i is:  2\n",
      "value of i is:  3\n",
      "value of i is:  4\n",
      "value of i is:  5\n",
      "value of i is:  6\n",
      "value of i is:  7\n",
      "value of i is:  8\n",
      "value of i is:  9\n",
      "value of i is:  10\n",
      "value of i is:  11\n",
      "value of i is:  12\n",
      "value of i is:  13\n",
      "value of i is:  14\n",
      "value of i is:  15\n"
     ]
    }
   ],
   "source": [
    "i=0\n",
    "while i<100:\n",
    "    print('value of i is: ',i)\n",
    "    i+=1\n",
    "    if i>15:\n",
    "        break    # termination"
   ]
  },
  {
   "cell_type": "markdown",
   "id": "27eb03a9",
   "metadata": {},
   "source": [
    "### Continue statement"
   ]
  },
  {
   "cell_type": "code",
   "execution_count": 98,
   "id": "fda8bcff",
   "metadata": {},
   "outputs": [
    {
     "name": "stdout",
     "output_type": "stream",
     "text": [
      "value is:  1\n",
      "value is:  3\n",
      "value is:  5\n",
      "value is:  7\n",
      "value is:  9\n",
      "value is:  11\n",
      "value is:  13\n",
      "value is:  15\n",
      "value is:  17\n",
      "value is:  19\n",
      "value is:  21\n",
      "value is:  23\n",
      "value is:  25\n",
      "value is:  27\n",
      "value is:  29\n",
      "value is:  31\n",
      "value is:  33\n",
      "value is:  35\n",
      "value is:  37\n",
      "value is:  39\n",
      "value is:  41\n",
      "value is:  43\n",
      "value is:  45\n",
      "value is:  47\n",
      "value is:  49\n"
     ]
    }
   ],
   "source": [
    "i=0\n",
    "while i<50:\n",
    "    i+=1\n",
    "    if i%2==0:\n",
    "        continue     # skip iteration\n",
    "    print('value is: ',i)"
   ]
  },
  {
   "cell_type": "markdown",
   "id": "b4a16635",
   "metadata": {},
   "source": [
    "### FOR LOOP"
   ]
  },
  {
   "cell_type": "code",
   "execution_count": 99,
   "id": "b68707a5",
   "metadata": {},
   "outputs": [
    {
     "name": "stdout",
     "output_type": "stream",
     "text": [
      "0\n",
      "1\n",
      "2\n",
      "3\n",
      "4\n",
      "5\n",
      "6\n"
     ]
    }
   ],
   "source": [
    "for i in range(7):  # range(n)- enumerate values o to n-1\n",
    "    print(i)"
   ]
  },
  {
   "cell_type": "code",
   "execution_count": 100,
   "id": "d58a7c43",
   "metadata": {},
   "outputs": [
    {
     "name": "stdout",
     "output_type": "stream",
     "text": [
      "15\n",
      "16\n",
      "17\n",
      "18\n",
      "19\n",
      "20\n",
      "21\n",
      "22\n",
      "23\n",
      "24\n"
     ]
    }
   ],
   "source": [
    "for i in range(15,25): # range(n,m) - enumerate values from n to m-1\n",
    "    print(i)"
   ]
  },
  {
   "cell_type": "code",
   "execution_count": 101,
   "id": "eeaa5a93",
   "metadata": {},
   "outputs": [
    {
     "name": "stdout",
     "output_type": "stream",
     "text": [
      "10\n",
      "15\n",
      "20\n",
      "25\n",
      "30\n",
      "35\n",
      "40\n",
      "45\n"
     ]
    }
   ],
   "source": [
    "for i in range(10,50,5): \n",
    "    # range(n,m,k) - enumerate from n to m-1 with increment of k\n",
    "    print(i)"
   ]
  },
  {
   "cell_type": "code",
   "execution_count": 102,
   "id": "aa67bb3b",
   "metadata": {},
   "outputs": [
    {
     "data": {
      "text/plain": [
       "range"
      ]
     },
     "execution_count": 102,
     "metadata": {},
     "output_type": "execute_result"
    }
   ],
   "source": [
    "x=range(10)\n",
    "type(x)"
   ]
  },
  {
   "cell_type": "code",
   "execution_count": 103,
   "id": "837cfc39",
   "metadata": {},
   "outputs": [
    {
     "data": {
      "text/plain": [
       "range(0, 10)"
      ]
     },
     "execution_count": 103,
     "metadata": {},
     "output_type": "execute_result"
    }
   ],
   "source": [
    "x"
   ]
  },
  {
   "cell_type": "code",
   "execution_count": 107,
   "id": "add32418",
   "metadata": {},
   "outputs": [
    {
     "name": "stdout",
     "output_type": "stream",
     "text": [
      "Magic Number is:  40000\n",
      "Magic Number is:  37636\n",
      "Magic Number is:  35344\n",
      "Magic Number is:  33124\n",
      "Magic Number is:  30976\n",
      "Magic Number is:  28900\n",
      "Magic Number is:  26896\n",
      "Magic Number is:  24964\n",
      "Magic Number is:  23104\n",
      "Magic Number is:  21316\n",
      "Magic Number is:  19600\n",
      "Magic Number is:  17956\n",
      "Magic Number is:  16384\n",
      "Magic Number is:  14884\n",
      "Magic Number is:  13456\n",
      "Magic Number is:  12100\n",
      "Magic Number is:  10816\n"
     ]
    }
   ],
   "source": [
    "# example:\n",
    "number=0\n",
    "for i in range(200,100,-3):\n",
    "    if i%2==0:\n",
    "        number=i**2\n",
    "        print('Magic Number is: ', number)"
   ]
  },
  {
   "cell_type": "code",
   "execution_count": 109,
   "id": "7fd41506",
   "metadata": {},
   "outputs": [],
   "source": [
    "# Question\n",
    "q=''' A naughty child is playing out in field and has habit of making \n",
    "hops in a specific pattern. \n",
    "first hop is 01 step ahead\n",
    "next hop is 02 steps ahead \n",
    "next hop is 03 steps ahead\n",
    "\n",
    "he follows this pattern thruoghout\n",
    "\n",
    "Calculate the total steps he takes for given N hops; considering that\n",
    "he starts from 0 (zero)'''"
   ]
  },
  {
   "cell_type": "code",
   "execution_count": 112,
   "id": "89a6a7ef",
   "metadata": {},
   "outputs": [
    {
     "name": "stdout",
     "output_type": "stream",
     "text": [
      "Enter Hops: 100\n",
      "Position:  199\n"
     ]
    }
   ],
   "source": [
    "position=0\n",
    "step=0\n",
    "n=int(input('Enter Hops: '))\n",
    "for i in range(n):\n",
    "    step+=1\n",
    "    position+=step\n",
    "    if step==3:\n",
    "        step=0\n",
    "print('Position: ',position)"
   ]
  },
  {
   "cell_type": "code",
   "execution_count": 116,
   "id": "ef37e19e",
   "metadata": {},
   "outputs": [
    {
     "name": "stdout",
     "output_type": "stream",
     "text": [
      "199\n"
     ]
    }
   ],
   "source": [
    "n=100\n",
    "step=0\n",
    "if n%3==0:\n",
    "    step=(n//3)*6\n",
    "elif n%3==1:\n",
    "    step=(n//3)*6+1\n",
    "else:\n",
    "    step=(n//3)*6+3\n",
    "print(step)"
   ]
  },
  {
   "cell_type": "code",
   "execution_count": 117,
   "id": "a1126bbe",
   "metadata": {},
   "outputs": [],
   "source": [
    "# Question\n",
    "q='''if given a final position for this naughty child, \n",
    "identify if that position is approachable using the pattern or not'''\n",
    "\n",
    "# example: position=150, then tell whether 150 reachable \n",
    "# or not in this pattern"
   ]
  },
  {
   "cell_type": "code",
   "execution_count": 118,
   "id": "4100d43d",
   "metadata": {},
   "outputs": [
    {
     "name": "stdout",
     "output_type": "stream",
     "text": [
      "possible\n"
     ]
    }
   ],
   "source": [
    "position=99\n",
    "rem=position%6\n",
    "if rem==0 or rem==1 or rem==3:\n",
    "    print('possible')\n",
    "else:\n",
    "    print('not possible')"
   ]
  },
  {
   "cell_type": "code",
   "execution_count": 119,
   "id": "2aabbf7c",
   "metadata": {},
   "outputs": [],
   "source": [
    "# print the following pattern for N number of lines\n",
    "p='''\n",
    "       #\n",
    "      ##\n",
    "     ####\n",
    "    ######\n",
    "   ########\n",
    "  ##########\n",
    " ############\n",
    "##############\n",
    "'''"
   ]
  },
  {
   "cell_type": "code",
   "execution_count": 124,
   "id": "22a1812e",
   "metadata": {},
   "outputs": [
    {
     "name": "stdout",
     "output_type": "stream",
     "text": [
      "      ##\n",
      "     ####\n",
      "    ######\n",
      "   ########\n",
      "  ##########\n",
      " ############\n",
      "##############\n"
     ]
    }
   ],
   "source": [
    "n=7\n",
    "for line in range(1,n+1):\n",
    "    print(' '*(n-line),end='', sep='')\n",
    "    print('#'*(2*line), sep='')"
   ]
  },
  {
   "cell_type": "code",
   "execution_count": null,
   "id": "11c55958",
   "metadata": {},
   "outputs": [],
   "source": []
  }
 ],
 "metadata": {
  "kernelspec": {
   "display_name": "Python 3 (ipykernel)",
   "language": "python",
   "name": "python3"
  },
  "language_info": {
   "codemirror_mode": {
    "name": "ipython",
    "version": 3
   },
   "file_extension": ".py",
   "mimetype": "text/x-python",
   "name": "python",
   "nbconvert_exporter": "python",
   "pygments_lexer": "ipython3",
   "version": "3.9.12"
  }
 },
 "nbformat": 4,
 "nbformat_minor": 5
}
