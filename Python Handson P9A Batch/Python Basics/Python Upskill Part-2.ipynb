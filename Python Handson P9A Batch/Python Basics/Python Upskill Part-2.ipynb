{
 "cells": [
  {
   "cell_type": "markdown",
   "id": "d89553ee",
   "metadata": {},
   "source": [
    "### Python Upskill Part-2"
   ]
  },
  {
   "cell_type": "code",
   "execution_count": 1,
   "id": "5bac83da",
   "metadata": {},
   "outputs": [],
   "source": [
    "# Functions, File Handling, Data Structures, Exceptions"
   ]
  },
  {
   "cell_type": "markdown",
   "id": "7299d63d",
   "metadata": {},
   "source": [
    "### Functions"
   ]
  },
  {
   "cell_type": "code",
   "execution_count": 2,
   "id": "732d5247",
   "metadata": {},
   "outputs": [],
   "source": [
    "# id(), type(), len() - inbuilt functions"
   ]
  },
  {
   "cell_type": "code",
   "execution_count": 3,
   "id": "c4022cc1",
   "metadata": {},
   "outputs": [],
   "source": [
    "# user defined functions\n",
    "\n",
    "# def <func-name>(params_list):\n",
    "    # ........."
   ]
  },
  {
   "cell_type": "code",
   "execution_count": 6,
   "id": "b626d25a",
   "metadata": {},
   "outputs": [],
   "source": [
    "def myfun():\n",
    "    print('Inside Function')\n",
    "    return None"
   ]
  },
  {
   "cell_type": "code",
   "execution_count": 7,
   "id": "5d14569c",
   "metadata": {},
   "outputs": [],
   "source": [
    "def myfun():\n",
    "    pass"
   ]
  },
  {
   "cell_type": "code",
   "execution_count": 8,
   "id": "2ab5916e",
   "metadata": {},
   "outputs": [],
   "source": [
    "def find_sum(x, y):\n",
    "    return x+y"
   ]
  },
  {
   "cell_type": "code",
   "execution_count": 10,
   "id": "baf86a7f",
   "metadata": {},
   "outputs": [
    {
     "data": {
      "text/plain": [
       "60"
      ]
     },
     "execution_count": 10,
     "metadata": {},
     "output_type": "execute_result"
    }
   ],
   "source": [
    "a=20\n",
    "b=40\n",
    "find_sum(a,b)"
   ]
  },
  {
   "cell_type": "code",
   "execution_count": 14,
   "id": "ac9b3bca",
   "metadata": {},
   "outputs": [],
   "source": [
    "def find_factorial(n):\n",
    "    '''Function to calculate factorial of inetger n\n",
    "    Usage: find_factorial(5) will return 120'''\n",
    "    fact=1\n",
    "    for i in range(1,n+1):\n",
    "        fact=fact*i\n",
    "    return fact"
   ]
  },
  {
   "cell_type": "code",
   "execution_count": 15,
   "id": "9c1fe0c2",
   "metadata": {},
   "outputs": [
    {
     "data": {
      "text/plain": [
       "5040"
      ]
     },
     "execution_count": 15,
     "metadata": {},
     "output_type": "execute_result"
    }
   ],
   "source": [
    "find_factorial(7)"
   ]
  },
  {
   "cell_type": "code",
   "execution_count": 17,
   "id": "75b152f3",
   "metadata": {},
   "outputs": [
    {
     "name": "stdout",
     "output_type": "stream",
     "text": [
      "Function to calculate factorial of inetger n\n",
      "    Usage: find_factorial(5) will return 120\n"
     ]
    }
   ],
   "source": [
    "print(find_factorial.__doc__)"
   ]
  },
  {
   "cell_type": "code",
   "execution_count": 27,
   "id": "4b6c4ef2",
   "metadata": {},
   "outputs": [],
   "source": [
    "def display(greet, name, company='Deloitte'):\n",
    "    print(f'{greet}, {name}. Welcome to {company}')"
   ]
  },
  {
   "cell_type": "code",
   "execution_count": 28,
   "id": "84e32604",
   "metadata": {},
   "outputs": [
    {
     "name": "stdout",
     "output_type": "stream",
     "text": [
      "Good Morning!, Prateek. Welcome to Deloitte USI\n"
     ]
    }
   ],
   "source": [
    "greet='Good Morning!'\n",
    "name='Prateek'\n",
    "company='Deloitte USI'\n",
    "\n",
    "display(greet, name, company)"
   ]
  },
  {
   "cell_type": "code",
   "execution_count": 30,
   "id": "50fc339f",
   "metadata": {},
   "outputs": [],
   "source": [
    "def display(greet, name, company):\n",
    "    print(f'{greet}, {name}. Welcome to {company}')"
   ]
  },
  {
   "cell_type": "code",
   "execution_count": 32,
   "id": "44c27a69",
   "metadata": {},
   "outputs": [
    {
     "name": "stdout",
     "output_type": "stream",
     "text": [
      "Good Afternoon, Prateek. Welcome to Deloitte\n"
     ]
    }
   ],
   "source": [
    "display(name='Prateek', company='Deloitte', greet='Good Afternoon')"
   ]
  },
  {
   "cell_type": "code",
   "execution_count": 33,
   "id": "2f2f0df0",
   "metadata": {},
   "outputs": [],
   "source": [
    "# recursion - phenomenon when a function calls itself"
   ]
  },
  {
   "cell_type": "code",
   "execution_count": 36,
   "id": "12044618",
   "metadata": {},
   "outputs": [],
   "source": [
    "def factorial(n):\n",
    "    if n<2:\n",
    "        return 1\n",
    "    else:\n",
    "        return n*factorial(n-1)"
   ]
  },
  {
   "cell_type": "code",
   "execution_count": 37,
   "id": "f5d650f9",
   "metadata": {},
   "outputs": [
    {
     "data": {
      "text/plain": [
       "720"
      ]
     },
     "execution_count": 37,
     "metadata": {},
     "output_type": "execute_result"
    }
   ],
   "source": [
    "factorial(6)"
   ]
  },
  {
   "cell_type": "code",
   "execution_count": 38,
   "id": "586f6353",
   "metadata": {
    "collapsed": true
   },
   "outputs": [
    {
     "data": {
      "text/plain": [
       "'\\n6*5*4*3*2*1\\n5*4*3*2*1\\n4*3*2*1\\n3*2*1\\n2*1\\n1\\n'"
      ]
     },
     "execution_count": 38,
     "metadata": {},
     "output_type": "execute_result"
    }
   ],
   "source": [
    "'''\n",
    "6*5*4*3*2*1\n",
    "5*4*3*2*1\n",
    "4*3*2*1\n",
    "3*2*1\n",
    "2*1\n",
    "1\n",
    "'''"
   ]
  },
  {
   "cell_type": "code",
   "execution_count": 41,
   "id": "5c3d936a",
   "metadata": {},
   "outputs": [],
   "source": [
    "def myfun(x):\n",
    "    return x\n",
    "def myfun(x,y):\n",
    "    return x+y"
   ]
  },
  {
   "cell_type": "code",
   "execution_count": 42,
   "id": "a676eb79",
   "metadata": {},
   "outputs": [
    {
     "ename": "TypeError",
     "evalue": "myfun() missing 1 required positional argument: 'y'",
     "output_type": "error",
     "traceback": [
      "\u001b[1;31m---------------------------------------------------------------------------\u001b[0m",
      "\u001b[1;31mTypeError\u001b[0m                                 Traceback (most recent call last)",
      "Input \u001b[1;32mIn [42]\u001b[0m, in \u001b[0;36m<cell line: 1>\u001b[1;34m()\u001b[0m\n\u001b[1;32m----> 1\u001b[0m \u001b[43mmyfun\u001b[49m\u001b[43m(\u001b[49m\u001b[38;5;241;43m10\u001b[39;49m\u001b[43m)\u001b[49m\n",
      "\u001b[1;31mTypeError\u001b[0m: myfun() missing 1 required positional argument: 'y'"
     ]
    }
   ],
   "source": [
    "myfun(10)"
   ]
  },
  {
   "cell_type": "code",
   "execution_count": 43,
   "id": "ab6f4b5e",
   "metadata": {},
   "outputs": [
    {
     "data": {
      "text/plain": [
       "15"
      ]
     },
     "execution_count": 43,
     "metadata": {},
     "output_type": "execute_result"
    }
   ],
   "source": [
    "sum([1,2,3,4,5])"
   ]
  },
  {
   "cell_type": "code",
   "execution_count": 44,
   "id": "3ab8a0e3",
   "metadata": {},
   "outputs": [],
   "source": [
    "sum=23"
   ]
  },
  {
   "cell_type": "code",
   "execution_count": 45,
   "id": "c16008f0",
   "metadata": {},
   "outputs": [
    {
     "ename": "TypeError",
     "evalue": "'int' object is not callable",
     "output_type": "error",
     "traceback": [
      "\u001b[1;31m---------------------------------------------------------------------------\u001b[0m",
      "\u001b[1;31mTypeError\u001b[0m                                 Traceback (most recent call last)",
      "Input \u001b[1;32mIn [45]\u001b[0m, in \u001b[0;36m<cell line: 1>\u001b[1;34m()\u001b[0m\n\u001b[1;32m----> 1\u001b[0m \u001b[38;5;28;43msum\u001b[39;49m\u001b[43m(\u001b[49m\u001b[43m[\u001b[49m\u001b[38;5;241;43m2\u001b[39;49m\u001b[43m,\u001b[49m\u001b[38;5;241;43m3\u001b[39;49m\u001b[43m,\u001b[49m\u001b[38;5;241;43m4\u001b[39;49m\u001b[43m]\u001b[49m\u001b[43m)\u001b[49m\n",
      "\u001b[1;31mTypeError\u001b[0m: 'int' object is not callable"
     ]
    }
   ],
   "source": [
    "sum([2,3,4])"
   ]
  },
  {
   "cell_type": "code",
   "execution_count": 46,
   "id": "5f11bce6",
   "metadata": {},
   "outputs": [],
   "source": [
    "# func are first class objects"
   ]
  },
  {
   "cell_type": "code",
   "execution_count": 47,
   "id": "54aa682c",
   "metadata": {},
   "outputs": [],
   "source": [
    "def myfun():\n",
    "    return 'Hello World!'"
   ]
  },
  {
   "cell_type": "code",
   "execution_count": 52,
   "id": "fa2b2749",
   "metadata": {},
   "outputs": [],
   "source": [
    "fun=myfun()"
   ]
  },
  {
   "cell_type": "code",
   "execution_count": 53,
   "id": "3fac29c8",
   "metadata": {},
   "outputs": [
    {
     "data": {
      "text/plain": [
       "'Hello World!'"
      ]
     },
     "execution_count": 53,
     "metadata": {},
     "output_type": "execute_result"
    }
   ],
   "source": [
    "fun"
   ]
  },
  {
   "cell_type": "code",
   "execution_count": 54,
   "id": "41f5b542",
   "metadata": {},
   "outputs": [],
   "source": [
    "x=myfun"
   ]
  },
  {
   "cell_type": "code",
   "execution_count": 55,
   "id": "01046ce2",
   "metadata": {},
   "outputs": [
    {
     "data": {
      "text/plain": [
       "<function __main__.myfun()>"
      ]
     },
     "execution_count": 55,
     "metadata": {},
     "output_type": "execute_result"
    }
   ],
   "source": [
    "x"
   ]
  },
  {
   "cell_type": "code",
   "execution_count": 56,
   "id": "a5ab84fc",
   "metadata": {},
   "outputs": [
    {
     "data": {
      "text/plain": [
       "'Hello World!'"
      ]
     },
     "execution_count": 56,
     "metadata": {},
     "output_type": "execute_result"
    }
   ],
   "source": [
    "x()"
   ]
  },
  {
   "cell_type": "code",
   "execution_count": 57,
   "id": "6b0dff75",
   "metadata": {},
   "outputs": [],
   "source": [
    "# generator"
   ]
  },
  {
   "cell_type": "code",
   "execution_count": 58,
   "id": "e44c0d4b",
   "metadata": {},
   "outputs": [],
   "source": [
    "def mygen(n):\n",
    "    for i in range(1, n+1):\n",
    "        yield i"
   ]
  },
  {
   "cell_type": "code",
   "execution_count": 72,
   "id": "32b5a589",
   "metadata": {},
   "outputs": [],
   "source": [
    "val=mygen(10)"
   ]
  },
  {
   "cell_type": "code",
   "execution_count": 73,
   "id": "026cdfed",
   "metadata": {},
   "outputs": [
    {
     "data": {
      "text/plain": [
       "<generator object mygen at 0x000002564D1839E0>"
      ]
     },
     "execution_count": 73,
     "metadata": {},
     "output_type": "execute_result"
    }
   ],
   "source": [
    "val"
   ]
  },
  {
   "cell_type": "code",
   "execution_count": 75,
   "id": "e5c4dbab",
   "metadata": {},
   "outputs": [
    {
     "data": {
      "text/plain": [
       "2"
      ]
     },
     "execution_count": 75,
     "metadata": {},
     "output_type": "execute_result"
    }
   ],
   "source": [
    "next(val)"
   ]
  },
  {
   "cell_type": "code",
   "execution_count": 76,
   "id": "541ac9bb",
   "metadata": {},
   "outputs": [],
   "source": [
    "# Anonymous Functions - lambda"
   ]
  },
  {
   "cell_type": "code",
   "execution_count": 77,
   "id": "57a615be",
   "metadata": {},
   "outputs": [],
   "source": [
    "# lambda <params> : <expr>"
   ]
  },
  {
   "cell_type": "code",
   "execution_count": 78,
   "id": "37d426de",
   "metadata": {},
   "outputs": [],
   "source": [
    "f= lambda x: x**2"
   ]
  },
  {
   "cell_type": "code",
   "execution_count": 79,
   "id": "893c0c30",
   "metadata": {},
   "outputs": [
    {
     "data": {
      "text/plain": [
       "<function __main__.<lambda>(x)>"
      ]
     },
     "execution_count": 79,
     "metadata": {},
     "output_type": "execute_result"
    }
   ],
   "source": [
    "f"
   ]
  },
  {
   "cell_type": "code",
   "execution_count": 80,
   "id": "a16183bc",
   "metadata": {},
   "outputs": [
    {
     "data": {
      "text/plain": [
       "9"
      ]
     },
     "execution_count": 80,
     "metadata": {},
     "output_type": "execute_result"
    }
   ],
   "source": [
    "f(3)"
   ]
  },
  {
   "cell_type": "code",
   "execution_count": 83,
   "id": "122e186d",
   "metadata": {},
   "outputs": [],
   "source": [
    "f=lambda x,y,z,a,b: (x**y)%z+a+b"
   ]
  },
  {
   "cell_type": "code",
   "execution_count": 84,
   "id": "4ed4ff35",
   "metadata": {},
   "outputs": [
    {
     "data": {
      "text/plain": [
       "11"
      ]
     },
     "execution_count": 84,
     "metadata": {},
     "output_type": "execute_result"
    }
   ],
   "source": [
    "f(2,3,3,4,5)"
   ]
  },
  {
   "cell_type": "code",
   "execution_count": 94,
   "id": "348231bb",
   "metadata": {},
   "outputs": [],
   "source": [
    "def power(y):\n",
    "    return lambda x: x**y"
   ]
  },
  {
   "cell_type": "code",
   "execution_count": 95,
   "id": "58f2d4be",
   "metadata": {},
   "outputs": [],
   "source": [
    "p2=power(2) # lambda x:x**2"
   ]
  },
  {
   "cell_type": "code",
   "execution_count": 96,
   "id": "26dffb41",
   "metadata": {},
   "outputs": [],
   "source": [
    "p3=power(3) # lambda x:x**3"
   ]
  },
  {
   "cell_type": "code",
   "execution_count": 97,
   "id": "107f1d21",
   "metadata": {},
   "outputs": [
    {
     "data": {
      "text/plain": [
       "16"
      ]
     },
     "execution_count": 97,
     "metadata": {},
     "output_type": "execute_result"
    }
   ],
   "source": [
    "p2(4)"
   ]
  },
  {
   "cell_type": "code",
   "execution_count": 98,
   "id": "8bd291d0",
   "metadata": {},
   "outputs": [
    {
     "data": {
      "text/plain": [
       "64"
      ]
     },
     "execution_count": 98,
     "metadata": {},
     "output_type": "execute_result"
    }
   ],
   "source": [
    "p3(4)"
   ]
  },
  {
   "cell_type": "markdown",
   "id": "b61edd24",
   "metadata": {},
   "source": [
    "### Data Structures"
   ]
  },
  {
   "cell_type": "code",
   "execution_count": 99,
   "id": "a186dbb6",
   "metadata": {},
   "outputs": [],
   "source": [
    "# Sequences - Strings, Tuple, List\n",
    "# Non-Sequences- Dictionary\n",
    "# Sets"
   ]
  },
  {
   "cell_type": "code",
   "execution_count": 100,
   "id": "44f048f7",
   "metadata": {},
   "outputs": [],
   "source": [
    "# tuple"
   ]
  },
  {
   "cell_type": "code",
   "execution_count": 101,
   "id": "0d2f8d3c",
   "metadata": {},
   "outputs": [],
   "source": [
    "t=tuple()"
   ]
  },
  {
   "cell_type": "code",
   "execution_count": 102,
   "id": "b31742a8",
   "metadata": {},
   "outputs": [],
   "source": [
    "t=()"
   ]
  },
  {
   "cell_type": "code",
   "execution_count": 103,
   "id": "46b4edfa",
   "metadata": {},
   "outputs": [],
   "source": [
    "t=1,2,3"
   ]
  },
  {
   "cell_type": "code",
   "execution_count": 104,
   "id": "3f62ab15",
   "metadata": {},
   "outputs": [
    {
     "data": {
      "text/plain": [
       "tuple"
      ]
     },
     "execution_count": 104,
     "metadata": {},
     "output_type": "execute_result"
    }
   ],
   "source": [
    "type(t)"
   ]
  },
  {
   "cell_type": "code",
   "execution_count": 105,
   "id": "cdaad0b0",
   "metadata": {},
   "outputs": [
    {
     "data": {
      "text/plain": [
       "(1, 2, 3)"
      ]
     },
     "execution_count": 105,
     "metadata": {},
     "output_type": "execute_result"
    }
   ],
   "source": [
    "t"
   ]
  },
  {
   "cell_type": "code",
   "execution_count": 106,
   "id": "8ea04d54",
   "metadata": {},
   "outputs": [],
   "source": [
    "t=(1,2,3,4,5)"
   ]
  },
  {
   "cell_type": "code",
   "execution_count": 107,
   "id": "fa79d685",
   "metadata": {},
   "outputs": [],
   "source": [
    "t2=(10,20,30)\n",
    "t=(1,2,3, 'hello', 3.14, 5+3j, t2, ('a','b','c'))"
   ]
  },
  {
   "cell_type": "code",
   "execution_count": 108,
   "id": "b99706fd",
   "metadata": {},
   "outputs": [
    {
     "name": "stdout",
     "output_type": "stream",
     "text": [
      "(1, 2, 3, 'hello', 3.14, (5+3j), (10, 20, 30), ('a', 'b', 'c'))\n"
     ]
    }
   ],
   "source": [
    "print(t)"
   ]
  },
  {
   "cell_type": "code",
   "execution_count": 109,
   "id": "5ce5351e",
   "metadata": {},
   "outputs": [],
   "source": [
    "# sequence - allows indexing, slicing"
   ]
  },
  {
   "cell_type": "code",
   "execution_count": 111,
   "id": "56325a44",
   "metadata": {},
   "outputs": [
    {
     "data": {
      "text/plain": [
       "'hello'"
      ]
     },
     "execution_count": 111,
     "metadata": {},
     "output_type": "execute_result"
    }
   ],
   "source": [
    "t[3]"
   ]
  },
  {
   "cell_type": "code",
   "execution_count": 114,
   "id": "e70ead2a",
   "metadata": {},
   "outputs": [
    {
     "data": {
      "text/plain": [
       "(10, 20, 30)"
      ]
     },
     "execution_count": 114,
     "metadata": {},
     "output_type": "execute_result"
    }
   ],
   "source": [
    "t[6]"
   ]
  },
  {
   "cell_type": "code",
   "execution_count": 115,
   "id": "36d905fa",
   "metadata": {},
   "outputs": [
    {
     "data": {
      "text/plain": [
       "20"
      ]
     },
     "execution_count": 115,
     "metadata": {},
     "output_type": "execute_result"
    }
   ],
   "source": [
    "t[6][1]"
   ]
  },
  {
   "cell_type": "code",
   "execution_count": 116,
   "id": "4d456974",
   "metadata": {},
   "outputs": [
    {
     "data": {
      "text/plain": [
       "'c'"
      ]
     },
     "execution_count": 116,
     "metadata": {},
     "output_type": "execute_result"
    }
   ],
   "source": [
    "t[7][2]"
   ]
  },
  {
   "cell_type": "code",
   "execution_count": 119,
   "id": "a1e8f564",
   "metadata": {},
   "outputs": [
    {
     "data": {
      "text/plain": [
       "(3.14, (5+3j), (10, 20, 30), ('a', 'b', 'c'))"
      ]
     },
     "execution_count": 119,
     "metadata": {},
     "output_type": "execute_result"
    }
   ],
   "source": [
    "t[4:]"
   ]
  },
  {
   "cell_type": "code",
   "execution_count": 120,
   "id": "f5cca014",
   "metadata": {},
   "outputs": [
    {
     "data": {
      "text/plain": [
       "('a', 'b', 'c')"
      ]
     },
     "execution_count": 120,
     "metadata": {},
     "output_type": "execute_result"
    }
   ],
   "source": [
    "t[-1]"
   ]
  },
  {
   "cell_type": "code",
   "execution_count": 127,
   "id": "bab76b2c",
   "metadata": {},
   "outputs": [
    {
     "data": {
      "text/plain": [
       "(('a', 'b', 'c'), (10, 20, 30), (5+3j), 3.14, 'hello', 3, 2, 1)"
      ]
     },
     "execution_count": 127,
     "metadata": {},
     "output_type": "execute_result"
    }
   ],
   "source": [
    "t[::-1]"
   ]
  },
  {
   "cell_type": "code",
   "execution_count": 122,
   "id": "a378a505",
   "metadata": {},
   "outputs": [],
   "source": [
    "# tuple are immutable"
   ]
  },
  {
   "cell_type": "code",
   "execution_count": 124,
   "id": "f2610766",
   "metadata": {},
   "outputs": [
    {
     "ename": "TypeError",
     "evalue": "'tuple' object does not support item assignment",
     "output_type": "error",
     "traceback": [
      "\u001b[1;31m---------------------------------------------------------------------------\u001b[0m",
      "\u001b[1;31mTypeError\u001b[0m                                 Traceback (most recent call last)",
      "Input \u001b[1;32mIn [124]\u001b[0m, in \u001b[0;36m<cell line: 1>\u001b[1;34m()\u001b[0m\n\u001b[1;32m----> 1\u001b[0m t[\u001b[38;5;241m0\u001b[39m]\u001b[38;5;241m=\u001b[39m\u001b[38;5;241m100\u001b[39m\n",
      "\u001b[1;31mTypeError\u001b[0m: 'tuple' object does not support item assignment"
     ]
    }
   ],
   "source": [
    "t[0]=100"
   ]
  },
  {
   "cell_type": "code",
   "execution_count": 128,
   "id": "daee9982",
   "metadata": {},
   "outputs": [
    {
     "data": {
      "text/plain": [
       "tuple"
      ]
     },
     "execution_count": 128,
     "metadata": {},
     "output_type": "execute_result"
    }
   ],
   "source": [
    "type(t)"
   ]
  },
  {
   "cell_type": "code",
   "execution_count": 129,
   "id": "dce2fc10",
   "metadata": {},
   "outputs": [
    {
     "data": {
      "text/plain": [
       "8"
      ]
     },
     "execution_count": 129,
     "metadata": {},
     "output_type": "execute_result"
    }
   ],
   "source": [
    "len(t)"
   ]
  },
  {
   "cell_type": "code",
   "execution_count": 130,
   "id": "f02a6b24",
   "metadata": {},
   "outputs": [
    {
     "data": {
      "text/plain": [
       "2569684271552"
      ]
     },
     "execution_count": 130,
     "metadata": {},
     "output_type": "execute_result"
    }
   ],
   "source": [
    "id(t)"
   ]
  },
  {
   "cell_type": "code",
   "execution_count": 131,
   "id": "fd41561b",
   "metadata": {},
   "outputs": [],
   "source": [
    "# List"
   ]
  },
  {
   "cell_type": "code",
   "execution_count": 132,
   "id": "db1e23a2",
   "metadata": {},
   "outputs": [],
   "source": [
    "li=list()"
   ]
  },
  {
   "cell_type": "code",
   "execution_count": 133,
   "id": "54af6833",
   "metadata": {},
   "outputs": [],
   "source": [
    "li=[]"
   ]
  },
  {
   "cell_type": "code",
   "execution_count": 134,
   "id": "1d2b30e2",
   "metadata": {},
   "outputs": [],
   "source": [
    "li=[1,2,3,4]"
   ]
  },
  {
   "cell_type": "code",
   "execution_count": 136,
   "id": "e20fb72f",
   "metadata": {},
   "outputs": [
    {
     "name": "stdout",
     "output_type": "stream",
     "text": [
      "<class 'list'>\n"
     ]
    }
   ],
   "source": [
    "print(type(li))"
   ]
  },
  {
   "cell_type": "code",
   "execution_count": 137,
   "id": "ca62ca7e",
   "metadata": {},
   "outputs": [
    {
     "data": {
      "text/plain": [
       "4"
      ]
     },
     "execution_count": 137,
     "metadata": {},
     "output_type": "execute_result"
    }
   ],
   "source": [
    "len(li)"
   ]
  },
  {
   "cell_type": "code",
   "execution_count": 138,
   "id": "bdb8c677",
   "metadata": {},
   "outputs": [],
   "source": [
    "li=[1,2,3, 'hello', 3+4j, (10,20,30), ['a','b','c']]"
   ]
  },
  {
   "cell_type": "code",
   "execution_count": 139,
   "id": "0943377d",
   "metadata": {},
   "outputs": [],
   "source": [
    "# List are mutable"
   ]
  },
  {
   "cell_type": "code",
   "execution_count": 140,
   "id": "177907db",
   "metadata": {},
   "outputs": [
    {
     "data": {
      "text/plain": [
       "'hello'"
      ]
     },
     "execution_count": 140,
     "metadata": {},
     "output_type": "execute_result"
    }
   ],
   "source": [
    "# indexing and slicing\n",
    "li[3]"
   ]
  },
  {
   "cell_type": "code",
   "execution_count": 141,
   "id": "46168ab5",
   "metadata": {},
   "outputs": [
    {
     "data": {
      "text/plain": [
       "30"
      ]
     },
     "execution_count": 141,
     "metadata": {},
     "output_type": "execute_result"
    }
   ],
   "source": [
    "li[5][2]"
   ]
  },
  {
   "cell_type": "code",
   "execution_count": 142,
   "id": "fac0d0dc",
   "metadata": {},
   "outputs": [
    {
     "data": {
      "text/plain": [
       "[1, 2, 3, 'hello', (3+4j), (10, 20, 30), ['a', 'b', 'c']]"
      ]
     },
     "execution_count": 142,
     "metadata": {},
     "output_type": "execute_result"
    }
   ],
   "source": [
    "li"
   ]
  },
  {
   "cell_type": "code",
   "execution_count": 144,
   "id": "5c1c70bc",
   "metadata": {},
   "outputs": [],
   "source": [
    "li[3]='welcome'"
   ]
  },
  {
   "cell_type": "code",
   "execution_count": 145,
   "id": "c155e1f2",
   "metadata": {},
   "outputs": [
    {
     "data": {
      "text/plain": [
       "[1, 2, 3, 'welcome', (3+4j), (10, 20, 30), ['a', 'b', 'c']]"
      ]
     },
     "execution_count": 145,
     "metadata": {},
     "output_type": "execute_result"
    }
   ],
   "source": [
    "li"
   ]
  },
  {
   "cell_type": "code",
   "execution_count": 147,
   "id": "8ba65e8e",
   "metadata": {},
   "outputs": [
    {
     "ename": "TypeError",
     "evalue": "'tuple' object does not support item assignment",
     "output_type": "error",
     "traceback": [
      "\u001b[1;31m---------------------------------------------------------------------------\u001b[0m",
      "\u001b[1;31mTypeError\u001b[0m                                 Traceback (most recent call last)",
      "Input \u001b[1;32mIn [147]\u001b[0m, in \u001b[0;36m<cell line: 1>\u001b[1;34m()\u001b[0m\n\u001b[1;32m----> 1\u001b[0m li[\u001b[38;5;241m5\u001b[39m][\u001b[38;5;241m1\u001b[39m]\u001b[38;5;241m=\u001b[39m\u001b[38;5;241m50\u001b[39m\n",
      "\u001b[1;31mTypeError\u001b[0m: 'tuple' object does not support item assignment"
     ]
    }
   ],
   "source": [
    "li[5][1]=50"
   ]
  },
  {
   "cell_type": "code",
   "execution_count": 148,
   "id": "93c3ba7b",
   "metadata": {},
   "outputs": [],
   "source": [
    "li[5]=50"
   ]
  },
  {
   "cell_type": "code",
   "execution_count": 150,
   "id": "b42107f0",
   "metadata": {},
   "outputs": [
    {
     "data": {
      "text/plain": [
       "[1, 2, 3, 'welcome', (3+4j), 50, ['a', 'b', 'c']]"
      ]
     },
     "execution_count": 150,
     "metadata": {},
     "output_type": "execute_result"
    }
   ],
   "source": [
    "li"
   ]
  },
  {
   "cell_type": "code",
   "execution_count": 151,
   "id": "79e35d90",
   "metadata": {},
   "outputs": [],
   "source": [
    "t=(1,2,3, 'hello', [10,20,30])"
   ]
  },
  {
   "cell_type": "code",
   "execution_count": 154,
   "id": "f2f9893b",
   "metadata": {},
   "outputs": [],
   "source": [
    "t[-1][1]=200"
   ]
  },
  {
   "cell_type": "code",
   "execution_count": 155,
   "id": "0f5fb483",
   "metadata": {},
   "outputs": [
    {
     "data": {
      "text/plain": [
       "(1, 2, 3, 'hello', [10, 200, 30])"
      ]
     },
     "execution_count": 155,
     "metadata": {},
     "output_type": "execute_result"
    }
   ],
   "source": [
    "t"
   ]
  },
  {
   "cell_type": "code",
   "execution_count": 156,
   "id": "dfe5bf96",
   "metadata": {},
   "outputs": [
    {
     "ename": "TypeError",
     "evalue": "'tuple' object does not support item assignment",
     "output_type": "error",
     "traceback": [
      "\u001b[1;31m---------------------------------------------------------------------------\u001b[0m",
      "\u001b[1;31mTypeError\u001b[0m                                 Traceback (most recent call last)",
      "Input \u001b[1;32mIn [156]\u001b[0m, in \u001b[0;36m<cell line: 1>\u001b[1;34m()\u001b[0m\n\u001b[1;32m----> 1\u001b[0m t[\u001b[38;5;241m-\u001b[39m\u001b[38;5;241m1\u001b[39m]\u001b[38;5;241m=\u001b[39m\u001b[38;5;241m200\u001b[39m\n",
      "\u001b[1;31mTypeError\u001b[0m: 'tuple' object does not support item assignment"
     ]
    }
   ],
   "source": [
    "t[-1]=200"
   ]
  },
  {
   "cell_type": "code",
   "execution_count": 157,
   "id": "90249edb",
   "metadata": {},
   "outputs": [],
   "source": [
    "# list in mutable - add, remove, change seq"
   ]
  },
  {
   "cell_type": "code",
   "execution_count": 158,
   "id": "cbf0688a",
   "metadata": {},
   "outputs": [],
   "source": [
    "# Inbuilt Functions for List"
   ]
  },
  {
   "cell_type": "code",
   "execution_count": 159,
   "id": "da33e0e6",
   "metadata": {},
   "outputs": [],
   "source": [
    "li=[1,2,3,4,5]"
   ]
  },
  {
   "cell_type": "code",
   "execution_count": 160,
   "id": "878f9796",
   "metadata": {},
   "outputs": [],
   "source": [
    "# insert(index, val)\n",
    "li.insert(0, 100)"
   ]
  },
  {
   "cell_type": "code",
   "execution_count": 161,
   "id": "74c82c5c",
   "metadata": {},
   "outputs": [
    {
     "data": {
      "text/plain": [
       "[100, 1, 2, 3, 4, 5]"
      ]
     },
     "execution_count": 161,
     "metadata": {},
     "output_type": "execute_result"
    }
   ],
   "source": [
    "li"
   ]
  },
  {
   "cell_type": "code",
   "execution_count": 162,
   "id": "d8a04de2",
   "metadata": {},
   "outputs": [
    {
     "data": {
      "text/plain": [
       "[100, 1, 2, 200, 3, 4, 5]"
      ]
     },
     "execution_count": 162,
     "metadata": {},
     "output_type": "execute_result"
    }
   ],
   "source": [
    "li.insert(3, 200)\n",
    "li"
   ]
  },
  {
   "cell_type": "code",
   "execution_count": 164,
   "id": "c8c1610c",
   "metadata": {},
   "outputs": [
    {
     "data": {
      "text/plain": [
       "[100, 1, 2, 300, 3, 4, 5]"
      ]
     },
     "execution_count": 164,
     "metadata": {},
     "output_type": "execute_result"
    }
   ],
   "source": [
    "li[3]=300\n",
    "li"
   ]
  },
  {
   "cell_type": "code",
   "execution_count": 165,
   "id": "8ed61bbb",
   "metadata": {},
   "outputs": [
    {
     "data": {
      "text/plain": [
       "[100, 1, 2, 300, 3, 4, 5, 500]"
      ]
     },
     "execution_count": 165,
     "metadata": {},
     "output_type": "execute_result"
    }
   ],
   "source": [
    "# append(val)\n",
    "li.append(500)\n",
    "li"
   ]
  },
  {
   "cell_type": "code",
   "execution_count": 166,
   "id": "37055625",
   "metadata": {},
   "outputs": [],
   "source": [
    "# remove(val)\n",
    "li.remove(2)"
   ]
  },
  {
   "cell_type": "code",
   "execution_count": 167,
   "id": "9c14c954",
   "metadata": {},
   "outputs": [
    {
     "data": {
      "text/plain": [
       "[100, 1, 300, 3, 4, 5, 500]"
      ]
     },
     "execution_count": 167,
     "metadata": {},
     "output_type": "execute_result"
    }
   ],
   "source": [
    "li"
   ]
  },
  {
   "cell_type": "code",
   "execution_count": 168,
   "id": "7dba58ed",
   "metadata": {},
   "outputs": [
    {
     "data": {
      "text/plain": [
       "300"
      ]
     },
     "execution_count": 168,
     "metadata": {},
     "output_type": "execute_result"
    }
   ],
   "source": [
    "# pop(index)\n",
    "li.pop(2)"
   ]
  },
  {
   "cell_type": "code",
   "execution_count": 169,
   "id": "18f781bc",
   "metadata": {},
   "outputs": [
    {
     "data": {
      "text/plain": [
       "[100, 1, 3, 4, 5, 500]"
      ]
     },
     "execution_count": 169,
     "metadata": {},
     "output_type": "execute_result"
    }
   ],
   "source": [
    "li"
   ]
  },
  {
   "cell_type": "code",
   "execution_count": 170,
   "id": "ef49953a",
   "metadata": {},
   "outputs": [
    {
     "data": {
      "text/plain": [
       "[100, 1, 3, 4, 5, 500, 'a', 'b', 'c']"
      ]
     },
     "execution_count": 170,
     "metadata": {},
     "output_type": "execute_result"
    }
   ],
   "source": [
    "# extend(list)\n",
    "li2=['a','b','c']\n",
    "\n",
    "li.extend(li2)\n",
    "li"
   ]
  },
  {
   "cell_type": "code",
   "execution_count": 171,
   "id": "973ba834",
   "metadata": {},
   "outputs": [
    {
     "data": {
      "text/plain": [
       "[0, 1, 1, 2, 3, 3, 4, 4, 4, 5, 6, 6, 7, 7, 9]"
      ]
     },
     "execution_count": 171,
     "metadata": {},
     "output_type": "execute_result"
    }
   ],
   "source": [
    "# sort() - modifies original list to sorted list\n",
    "li=[1,4,6,7,3,2,1,4,6,7,9,0,5,4,3]\n",
    "li.sort()\n",
    "li"
   ]
  },
  {
   "cell_type": "code",
   "execution_count": 172,
   "id": "51cada63",
   "metadata": {},
   "outputs": [
    {
     "name": "stdout",
     "output_type": "stream",
     "text": [
      "[0, 1, 1, 2, 3, 3, 4, 4, 4, 5, 6, 6, 7, 7, 9]\n",
      "[1, 4, 6, 7, 3, 2, 1, 4, 6, 7, 9, 0, 5, 4, 3]\n"
     ]
    }
   ],
   "source": [
    "# sorted(list) - does not change list, returns sorted version\n",
    "li=[1,4,6,7,3,2,1,4,6,7,9,0,5,4,3]\n",
    "print(sorted(li))\n",
    "print(li)"
   ]
  },
  {
   "cell_type": "code",
   "execution_count": 173,
   "id": "767643f9",
   "metadata": {},
   "outputs": [
    {
     "data": {
      "text/plain": [
       "[3, 4, 5, 0, 9, 7, 6, 4, 1, 2, 3, 7, 6, 4, 1]"
      ]
     },
     "execution_count": 173,
     "metadata": {},
     "output_type": "execute_result"
    }
   ],
   "source": [
    "# reverse()\n",
    "li=[1,4,6,7,3,2,1,4,6,7,9,0,5,4,3]\n",
    "li.reverse()\n",
    "li"
   ]
  },
  {
   "cell_type": "code",
   "execution_count": 175,
   "id": "f056886d",
   "metadata": {},
   "outputs": [
    {
     "name": "stdout",
     "output_type": "stream",
     "text": [
      "[3, 4, 5, 0, 9, 7, 6, 4, 1, 2, 3, 7, 6, 4, 1]\n",
      "[1, 4, 6, 7, 3, 2, 1, 4, 6, 7, 9, 0, 5, 4, 3]\n"
     ]
    }
   ],
   "source": [
    "# reversed(list)\n",
    "li=[1,4,6,7,3,2,1,4,6,7,9,0,5,4,3]\n",
    "print(list(reversed(li)))\n",
    "print(li)"
   ]
  },
  {
   "cell_type": "code",
   "execution_count": 180,
   "id": "d5efb8f8",
   "metadata": {},
   "outputs": [
    {
     "data": {
      "text/plain": [
       "[9, 7, 7, 6, 6, 5, 4, 4, 4, 3, 3, 2, 1, 1, 0]"
      ]
     },
     "execution_count": 180,
     "metadata": {},
     "output_type": "execute_result"
    }
   ],
   "source": [
    "li=[1,4,6,7,3,2,1,4,6,7,9,0,5,4,3]\n",
    "li.sort(reverse=True) # sort in descending order\n",
    "li"
   ]
  },
  {
   "cell_type": "code",
   "execution_count": 181,
   "id": "bf4a1534",
   "metadata": {},
   "outputs": [
    {
     "data": {
      "text/plain": [
       "[9, 7, 7, 6, 6, 5, 4, 4, 4, 3, 3, 2, 1, 1, 0]"
      ]
     },
     "execution_count": 181,
     "metadata": {},
     "output_type": "execute_result"
    }
   ],
   "source": [
    "li=[1,4,6,7,3,2,1,4,6,7,9,0,5,4,3]\n",
    "sorted(li, reverse=True)"
   ]
  },
  {
   "cell_type": "code",
   "execution_count": 184,
   "id": "01c378a3",
   "metadata": {},
   "outputs": [
    {
     "data": {
      "text/plain": [
       "1"
      ]
     },
     "execution_count": 184,
     "metadata": {},
     "output_type": "execute_result"
    }
   ],
   "source": [
    "# count(element)\n",
    "li=[1,4,6,7,3,2,1,4,6,7,9,0,5,4,3]\n",
    "li.count(2)"
   ]
  },
  {
   "cell_type": "code",
   "execution_count": 185,
   "id": "83f5f19c",
   "metadata": {},
   "outputs": [
    {
     "name": "stdout",
     "output_type": "stream",
     "text": [
      "1 occurs 2 times\n",
      "4 occurs 3 times\n",
      "6 occurs 2 times\n",
      "7 occurs 2 times\n",
      "3 occurs 2 times\n",
      "2 occurs 1 times\n",
      "1 occurs 2 times\n",
      "4 occurs 3 times\n",
      "6 occurs 2 times\n",
      "7 occurs 2 times\n",
      "9 occurs 1 times\n",
      "0 occurs 1 times\n",
      "5 occurs 1 times\n",
      "4 occurs 3 times\n",
      "3 occurs 2 times\n"
     ]
    }
   ],
   "source": [
    "for element in li:\n",
    "    print(f'{element} occurs {li.count(element)} times')"
   ]
  },
  {
   "cell_type": "code",
   "execution_count": 186,
   "id": "9b977400",
   "metadata": {},
   "outputs": [],
   "source": [
    "# Dictionary"
   ]
  },
  {
   "cell_type": "code",
   "execution_count": 187,
   "id": "c913d21b",
   "metadata": {},
   "outputs": [],
   "source": [
    "# key:value pairs"
   ]
  },
  {
   "cell_type": "code",
   "execution_count": 188,
   "id": "bc5fd5c8",
   "metadata": {},
   "outputs": [],
   "source": [
    "d=dict()"
   ]
  },
  {
   "cell_type": "code",
   "execution_count": 189,
   "id": "bd5dbe9e",
   "metadata": {},
   "outputs": [],
   "source": [
    "d={}"
   ]
  },
  {
   "cell_type": "code",
   "execution_count": 190,
   "id": "7c4d6477",
   "metadata": {},
   "outputs": [],
   "source": [
    "d={'a':10, 'b':20, 'c':30}"
   ]
  },
  {
   "cell_type": "code",
   "execution_count": 192,
   "id": "18f965d4",
   "metadata": {},
   "outputs": [
    {
     "data": {
      "text/plain": [
       "10"
      ]
     },
     "execution_count": 192,
     "metadata": {},
     "output_type": "execute_result"
    }
   ],
   "source": [
    "d['a']"
   ]
  },
  {
   "cell_type": "code",
   "execution_count": 193,
   "id": "16c39c66",
   "metadata": {},
   "outputs": [
    {
     "data": {
      "text/plain": [
       "dict_keys(['a', 'b', 'c'])"
      ]
     },
     "execution_count": 193,
     "metadata": {},
     "output_type": "execute_result"
    }
   ],
   "source": [
    "d.keys()"
   ]
  },
  {
   "cell_type": "code",
   "execution_count": 195,
   "id": "8c054204",
   "metadata": {},
   "outputs": [
    {
     "data": {
      "text/plain": [
       "dict_values([10, 20, 30])"
      ]
     },
     "execution_count": 195,
     "metadata": {},
     "output_type": "execute_result"
    }
   ],
   "source": [
    "d.values()"
   ]
  },
  {
   "cell_type": "code",
   "execution_count": 196,
   "id": "39f5a643",
   "metadata": {},
   "outputs": [
    {
     "data": {
      "text/plain": [
       "dict_items([('a', 10), ('b', 20), ('c', 30)])"
      ]
     },
     "execution_count": 196,
     "metadata": {},
     "output_type": "execute_result"
    }
   ],
   "source": [
    "d.items()"
   ]
  },
  {
   "cell_type": "code",
   "execution_count": 197,
   "id": "51009f65",
   "metadata": {},
   "outputs": [
    {
     "name": "stdout",
     "output_type": "stream",
     "text": [
      "10\n",
      "20\n",
      "30\n"
     ]
    }
   ],
   "source": [
    "for key in d.keys():\n",
    "    print(d[key])"
   ]
  },
  {
   "cell_type": "code",
   "execution_count": 198,
   "id": "965819ab",
   "metadata": {},
   "outputs": [
    {
     "name": "stdout",
     "output_type": "stream",
     "text": [
      "10\n",
      "20\n",
      "30\n"
     ]
    }
   ],
   "source": [
    "for value in d.values():\n",
    "    print(value)"
   ]
  },
  {
   "cell_type": "code",
   "execution_count": 200,
   "id": "571c31e9",
   "metadata": {},
   "outputs": [
    {
     "name": "stdout",
     "output_type": "stream",
     "text": [
      "d[a]=>10\n",
      "d[b]=>20\n",
      "d[c]=>30\n"
     ]
    }
   ],
   "source": [
    "for key, val in d.items():\n",
    "    print(f'd[{key}]=>{val}')"
   ]
  },
  {
   "cell_type": "code",
   "execution_count": 201,
   "id": "f2ed5058",
   "metadata": {},
   "outputs": [
    {
     "name": "stdout",
     "output_type": "stream",
     "text": [
      "a\n",
      "b\n",
      "c\n"
     ]
    }
   ],
   "source": [
    "for i in d:\n",
    "    print(i)"
   ]
  },
  {
   "cell_type": "code",
   "execution_count": 202,
   "id": "ca64ab43",
   "metadata": {},
   "outputs": [],
   "source": [
    "# fromkeys(list, def_val)\n",
    "li=[10,20,30,40,50]\n",
    "d=dict.fromkeys(li, 0)"
   ]
  },
  {
   "cell_type": "code",
   "execution_count": 203,
   "id": "5e3f557a",
   "metadata": {},
   "outputs": [
    {
     "data": {
      "text/plain": [
       "{10: 0, 20: 0, 30: 0, 40: 0, 50: 0}"
      ]
     },
     "execution_count": 203,
     "metadata": {},
     "output_type": "execute_result"
    }
   ],
   "source": [
    "d"
   ]
  },
  {
   "cell_type": "code",
   "execution_count": 204,
   "id": "5c79b773",
   "metadata": {},
   "outputs": [],
   "source": [
    "# dict keys are immutable and unique\n",
    "# dict values are mutable and can be repetive"
   ]
  },
  {
   "cell_type": "code",
   "execution_count": 205,
   "id": "7665b836",
   "metadata": {},
   "outputs": [
    {
     "data": {
      "text/plain": [
       "0"
      ]
     },
     "execution_count": 205,
     "metadata": {},
     "output_type": "execute_result"
    }
   ],
   "source": [
    "d.get(10)"
   ]
  },
  {
   "cell_type": "code",
   "execution_count": 206,
   "id": "a36781a4",
   "metadata": {},
   "outputs": [],
   "source": [
    "d={'a':10, 'b':20,'c':30,'d':40,'e':50}"
   ]
  },
  {
   "cell_type": "code",
   "execution_count": 207,
   "id": "1fb17fd1",
   "metadata": {},
   "outputs": [
    {
     "data": {
      "text/plain": [
       "{'a': 10, 'b': 20, 'c': 30, 'd': 40, 'e': 50}"
      ]
     },
     "execution_count": 207,
     "metadata": {},
     "output_type": "execute_result"
    }
   ],
   "source": [
    "d"
   ]
  },
  {
   "cell_type": "code",
   "execution_count": 208,
   "id": "c013bfb9",
   "metadata": {},
   "outputs": [
    {
     "data": {
      "text/plain": [
       "40"
      ]
     },
     "execution_count": 208,
     "metadata": {},
     "output_type": "execute_result"
    }
   ],
   "source": [
    "# pop(key)\n",
    "d.pop('d')"
   ]
  },
  {
   "cell_type": "code",
   "execution_count": 209,
   "id": "157c4c1a",
   "metadata": {},
   "outputs": [
    {
     "data": {
      "text/plain": [
       "{'a': 10, 'b': 20, 'c': 30, 'e': 50}"
      ]
     },
     "execution_count": 209,
     "metadata": {},
     "output_type": "execute_result"
    }
   ],
   "source": [
    "d"
   ]
  },
  {
   "cell_type": "code",
   "execution_count": 210,
   "id": "3a5ebc55",
   "metadata": {},
   "outputs": [
    {
     "data": {
      "text/plain": [
       "('e', 50)"
      ]
     },
     "execution_count": 210,
     "metadata": {},
     "output_type": "execute_result"
    }
   ],
   "source": [
    "# popitem()\n",
    "d.popitem()"
   ]
  },
  {
   "cell_type": "code",
   "execution_count": 216,
   "id": "e33f5d48",
   "metadata": {},
   "outputs": [
    {
     "data": {
      "text/plain": [
       "{'a': 10, 'b': 20, 'c': 30, 'g': 2000, 'h': 900}"
      ]
     },
     "execution_count": 216,
     "metadata": {},
     "output_type": "execute_result"
    }
   ],
   "source": [
    "# update({key:val})\n",
    "d.update({'g':2000})\n",
    "d"
   ]
  },
  {
   "cell_type": "code",
   "execution_count": 214,
   "id": "039127db",
   "metadata": {},
   "outputs": [],
   "source": [
    "d['h']=900"
   ]
  },
  {
   "cell_type": "code",
   "execution_count": 215,
   "id": "3a3bf634",
   "metadata": {},
   "outputs": [
    {
     "data": {
      "text/plain": [
       "{'a': 10, 'b': 20, 'c': 30, 'g': 200, 'h': 900}"
      ]
     },
     "execution_count": 215,
     "metadata": {},
     "output_type": "execute_result"
    }
   ],
   "source": [
    "d"
   ]
  },
  {
   "cell_type": "code",
   "execution_count": 217,
   "id": "c11c7f3a",
   "metadata": {},
   "outputs": [
    {
     "data": {
      "text/plain": [
       "2000"
      ]
     },
     "execution_count": 217,
     "metadata": {},
     "output_type": "execute_result"
    }
   ],
   "source": [
    "# setdefault(key, val)\n",
    "d.setdefault('g', 3000)"
   ]
  },
  {
   "cell_type": "code",
   "execution_count": 218,
   "id": "419de383",
   "metadata": {},
   "outputs": [
    {
     "data": {
      "text/plain": [
       "{'a': 10, 'b': 20, 'c': 30, 'g': 2000, 'h': 900}"
      ]
     },
     "execution_count": 218,
     "metadata": {},
     "output_type": "execute_result"
    }
   ],
   "source": [
    "d"
   ]
  },
  {
   "cell_type": "code",
   "execution_count": 219,
   "id": "91726c12",
   "metadata": {},
   "outputs": [
    {
     "data": {
      "text/plain": [
       "3000"
      ]
     },
     "execution_count": 219,
     "metadata": {},
     "output_type": "execute_result"
    }
   ],
   "source": [
    "d.setdefault('k', 3000)"
   ]
  },
  {
   "cell_type": "code",
   "execution_count": 220,
   "id": "7fbb3318",
   "metadata": {},
   "outputs": [
    {
     "data": {
      "text/plain": [
       "{'a': 10, 'b': 20, 'c': 30, 'g': 2000, 'h': 900, 'k': 3000}"
      ]
     },
     "execution_count": 220,
     "metadata": {},
     "output_type": "execute_result"
    }
   ],
   "source": [
    "d"
   ]
  },
  {
   "cell_type": "code",
   "execution_count": 221,
   "id": "d4f68897",
   "metadata": {},
   "outputs": [],
   "source": [
    "# copy, # clear"
   ]
  },
  {
   "cell_type": "code",
   "execution_count": 223,
   "id": "effde8e5",
   "metadata": {},
   "outputs": [
    {
     "data": {
      "text/plain": [
       "[10, 20, 30, 40, 50]"
      ]
     },
     "execution_count": 223,
     "metadata": {},
     "output_type": "execute_result"
    }
   ],
   "source": [
    "li"
   ]
  },
  {
   "cell_type": "code",
   "execution_count": 224,
   "id": "3a964384",
   "metadata": {},
   "outputs": [],
   "source": [
    "li2=li # deep copy"
   ]
  },
  {
   "cell_type": "code",
   "execution_count": 225,
   "id": "d7977b86",
   "metadata": {},
   "outputs": [
    {
     "data": {
      "text/plain": [
       "[10, 20, 30, 40, 50]"
      ]
     },
     "execution_count": 225,
     "metadata": {},
     "output_type": "execute_result"
    }
   ],
   "source": [
    "li2"
   ]
  },
  {
   "cell_type": "code",
   "execution_count": 226,
   "id": "b6be654b",
   "metadata": {},
   "outputs": [
    {
     "data": {
      "text/plain": [
       "[100, 20, 30, 40, 50]"
      ]
     },
     "execution_count": 226,
     "metadata": {},
     "output_type": "execute_result"
    }
   ],
   "source": [
    "li2[0]=100\n",
    "li2"
   ]
  },
  {
   "cell_type": "code",
   "execution_count": 227,
   "id": "9626a111",
   "metadata": {},
   "outputs": [
    {
     "data": {
      "text/plain": [
       "[100, 20, 30, 40, 50]"
      ]
     },
     "execution_count": 227,
     "metadata": {},
     "output_type": "execute_result"
    }
   ],
   "source": [
    "li"
   ]
  },
  {
   "cell_type": "code",
   "execution_count": 228,
   "id": "16cdf205",
   "metadata": {},
   "outputs": [],
   "source": [
    "# copy() - creates shallow copy\n",
    "li2=li.copy()"
   ]
  },
  {
   "cell_type": "code",
   "execution_count": 229,
   "id": "a9a6063c",
   "metadata": {},
   "outputs": [
    {
     "data": {
      "text/plain": [
       "[2000, 20, 30, 40, 50]"
      ]
     },
     "execution_count": 229,
     "metadata": {},
     "output_type": "execute_result"
    }
   ],
   "source": [
    "li2[0]=2000\n",
    "li2"
   ]
  },
  {
   "cell_type": "code",
   "execution_count": 231,
   "id": "37b5be3e",
   "metadata": {},
   "outputs": [
    {
     "data": {
      "text/plain": [
       "[100, 20, 30, 40, 50]"
      ]
     },
     "execution_count": 231,
     "metadata": {},
     "output_type": "execute_result"
    }
   ],
   "source": [
    "li"
   ]
  },
  {
   "cell_type": "code",
   "execution_count": 232,
   "id": "fb227b05",
   "metadata": {},
   "outputs": [
    {
     "data": {
      "text/plain": [
       "[]"
      ]
     },
     "execution_count": 232,
     "metadata": {},
     "output_type": "execute_result"
    }
   ],
   "source": [
    "# clear()\n",
    "li.clear()\n",
    "li"
   ]
  },
  {
   "cell_type": "code",
   "execution_count": 233,
   "id": "d29f74ac",
   "metadata": {},
   "outputs": [
    {
     "data": {
      "text/plain": [
       "{}"
      ]
     },
     "execution_count": 233,
     "metadata": {},
     "output_type": "execute_result"
    }
   ],
   "source": [
    "d.clear()\n",
    "d"
   ]
  },
  {
   "cell_type": "code",
   "execution_count": 234,
   "id": "a58fb580",
   "metadata": {},
   "outputs": [],
   "source": [
    "del li"
   ]
  },
  {
   "cell_type": "code",
   "execution_count": 235,
   "id": "deedd582",
   "metadata": {},
   "outputs": [],
   "source": [
    "del d"
   ]
  },
  {
   "cell_type": "code",
   "execution_count": 236,
   "id": "6a5afed3",
   "metadata": {},
   "outputs": [],
   "source": [
    "del t"
   ]
  },
  {
   "cell_type": "code",
   "execution_count": 237,
   "id": "2bc0ca3b",
   "metadata": {},
   "outputs": [],
   "source": [
    "t=tuple()\n",
    "li=list()\n",
    "d=dict()"
   ]
  },
  {
   "cell_type": "code",
   "execution_count": 238,
   "id": "46920393",
   "metadata": {},
   "outputs": [],
   "source": [
    "# sets"
   ]
  },
  {
   "cell_type": "code",
   "execution_count": 239,
   "id": "cbd372a3",
   "metadata": {},
   "outputs": [],
   "source": [
    "s={1,2,3,4,5}"
   ]
  },
  {
   "cell_type": "code",
   "execution_count": 240,
   "id": "9996c3c5",
   "metadata": {},
   "outputs": [],
   "source": [
    "s=set()"
   ]
  },
  {
   "cell_type": "code",
   "execution_count": 241,
   "id": "49d2bfad",
   "metadata": {},
   "outputs": [],
   "source": [
    "li=[1,2,3,1,2,4,1,5,6,7,5,5,7,8,9,0,1,2,3,4,5,6,3,2,1]"
   ]
  },
  {
   "cell_type": "code",
   "execution_count": 242,
   "id": "7d814fe1",
   "metadata": {},
   "outputs": [],
   "source": [
    "s=set(li)"
   ]
  },
  {
   "cell_type": "code",
   "execution_count": 243,
   "id": "2770833e",
   "metadata": {},
   "outputs": [
    {
     "data": {
      "text/plain": [
       "{0, 1, 2, 3, 4, 5, 6, 7, 8, 9}"
      ]
     },
     "execution_count": 243,
     "metadata": {},
     "output_type": "execute_result"
    }
   ],
   "source": [
    "s"
   ]
  },
  {
   "cell_type": "code",
   "execution_count": 244,
   "id": "2d95b9e1",
   "metadata": {},
   "outputs": [
    {
     "data": {
      "text/plain": [
       "{0, 1, 2, 3, 4, 5, 6, 7, 8, 9, 10}"
      ]
     },
     "execution_count": 244,
     "metadata": {},
     "output_type": "execute_result"
    }
   ],
   "source": [
    "# add(val)\n",
    "s.add(10)\n",
    "s"
   ]
  },
  {
   "cell_type": "code",
   "execution_count": 245,
   "id": "2053d684",
   "metadata": {},
   "outputs": [
    {
     "data": {
      "text/plain": [
       "{0, 1, 2, 3, 5, 6, 7, 8, 9, 10}"
      ]
     },
     "execution_count": 245,
     "metadata": {},
     "output_type": "execute_result"
    }
   ],
   "source": [
    "# remove(val)\n",
    "s.remove(4)\n",
    "s"
   ]
  },
  {
   "cell_type": "code",
   "execution_count": 246,
   "id": "880fc372",
   "metadata": {},
   "outputs": [],
   "source": [
    "# copy and # clear"
   ]
  },
  {
   "cell_type": "code",
   "execution_count": 247,
   "id": "cef72256",
   "metadata": {},
   "outputs": [],
   "source": [
    "s1={10,20,30,40,50,60}\n",
    "s2={0,50,60,70,80,90,100}"
   ]
  },
  {
   "cell_type": "code",
   "execution_count": 248,
   "id": "ee1b72df",
   "metadata": {},
   "outputs": [
    {
     "data": {
      "text/plain": [
       "{0, 10, 20, 30, 40, 50, 60, 70, 80, 90, 100}"
      ]
     },
     "execution_count": 248,
     "metadata": {},
     "output_type": "execute_result"
    }
   ],
   "source": [
    "s1.union(s2)"
   ]
  },
  {
   "cell_type": "code",
   "execution_count": 249,
   "id": "ca552b6a",
   "metadata": {},
   "outputs": [
    {
     "data": {
      "text/plain": [
       "{50, 60}"
      ]
     },
     "execution_count": 249,
     "metadata": {},
     "output_type": "execute_result"
    }
   ],
   "source": [
    "s1.intersection(s2)"
   ]
  },
  {
   "cell_type": "code",
   "execution_count": 250,
   "id": "66f19366",
   "metadata": {},
   "outputs": [
    {
     "data": {
      "text/plain": [
       "{10, 20, 30, 40}"
      ]
     },
     "execution_count": 250,
     "metadata": {},
     "output_type": "execute_result"
    }
   ],
   "source": [
    "s1.difference(s2)"
   ]
  },
  {
   "cell_type": "code",
   "execution_count": 251,
   "id": "b7dcb853",
   "metadata": {},
   "outputs": [
    {
     "name": "stdout",
     "output_type": "stream",
     "text": [
      "{0, 1, 2, 3, 5, 6, 7, 8, 9, 10}\n"
     ]
    }
   ],
   "source": [
    "li=[300,400,500]\n",
    "print(s)"
   ]
  },
  {
   "cell_type": "code",
   "execution_count": 252,
   "id": "3a8e1242",
   "metadata": {},
   "outputs": [
    {
     "data": {
      "text/plain": [
       "{0, 1, 2, 3, 5, 6, 7, 8, 9, 10, 300, 400, 500}"
      ]
     },
     "execution_count": 252,
     "metadata": {},
     "output_type": "execute_result"
    }
   ],
   "source": [
    "s.update(li)\n",
    "s"
   ]
  },
  {
   "cell_type": "code",
   "execution_count": 253,
   "id": "1ea27c15",
   "metadata": {},
   "outputs": [
    {
     "name": "stdout",
     "output_type": "stream",
     "text": [
      "0 occurs 1 times\n",
      "1 occurs 5 times\n",
      "2 occurs 4 times\n",
      "3 occurs 3 times\n",
      "4 occurs 2 times\n",
      "5 occurs 4 times\n",
      "6 occurs 2 times\n",
      "7 occurs 2 times\n",
      "8 occurs 1 times\n",
      "9 occurs 1 times\n"
     ]
    }
   ],
   "source": [
    "li=[1,2,3,1,2,4,1,5,6,7,5,5,7,8,9,0,1,2,3,4,5,6,3,2,1]\n",
    "for el in set(li):\n",
    "    print(f'{el} occurs {li.count(el)} times')"
   ]
  },
  {
   "cell_type": "markdown",
   "id": "1ed04eee",
   "metadata": {},
   "source": [
    "### map, filter, reduce"
   ]
  },
  {
   "cell_type": "code",
   "execution_count": 254,
   "id": "768fe240",
   "metadata": {},
   "outputs": [],
   "source": [
    "# filter"
   ]
  },
  {
   "cell_type": "code",
   "execution_count": 256,
   "id": "a75e5a24",
   "metadata": {},
   "outputs": [],
   "source": [
    "# filter(func, iterable) - filter vlaues in iterable using func criteria"
   ]
  },
  {
   "cell_type": "code",
   "execution_count": 257,
   "id": "12bc6b5f",
   "metadata": {},
   "outputs": [],
   "source": [
    "def positives(x):\n",
    "    if x>=0:\n",
    "        return x"
   ]
  },
  {
   "cell_type": "code",
   "execution_count": 259,
   "id": "ce386443",
   "metadata": {},
   "outputs": [
    {
     "data": {
      "text/plain": [
       "[1, 2, 3, 4, 9]"
      ]
     },
     "execution_count": 259,
     "metadata": {},
     "output_type": "execute_result"
    }
   ],
   "source": [
    "list(filter(positives, [1,2,3,4,-3,-4,-5,0,9]))"
   ]
  },
  {
   "cell_type": "code",
   "execution_count": 260,
   "id": "d10586a8",
   "metadata": {},
   "outputs": [],
   "source": [
    "# lambda with filter"
   ]
  },
  {
   "cell_type": "code",
   "execution_count": 261,
   "id": "6f26b1e0",
   "metadata": {},
   "outputs": [
    {
     "data": {
      "text/plain": [
       "[1, 2, 3, 4, 9]"
      ]
     },
     "execution_count": 261,
     "metadata": {},
     "output_type": "execute_result"
    }
   ],
   "source": [
    "list(filter(lambda x:x>0, [1,2,3,4,-3,-4,-5,0,9]))"
   ]
  },
  {
   "cell_type": "code",
   "execution_count": 263,
   "id": "beeb20ac",
   "metadata": {},
   "outputs": [],
   "source": [
    "# map(func, iterable) - \n",
    "# maps a common functionality of func to each iterable value"
   ]
  },
  {
   "cell_type": "code",
   "execution_count": 264,
   "id": "a07edded",
   "metadata": {},
   "outputs": [],
   "source": [
    "li=[1,2,3,4,5]\n",
    "\n",
    "def sqr(x):\n",
    "    return x**2"
   ]
  },
  {
   "cell_type": "code",
   "execution_count": 265,
   "id": "c11825ef",
   "metadata": {},
   "outputs": [
    {
     "data": {
      "text/plain": [
       "[1, 4, 9, 16, 25]"
      ]
     },
     "execution_count": 265,
     "metadata": {},
     "output_type": "execute_result"
    }
   ],
   "source": [
    "list(map(sqr, li))"
   ]
  },
  {
   "cell_type": "code",
   "execution_count": 266,
   "id": "ce64c894",
   "metadata": {},
   "outputs": [
    {
     "data": {
      "text/plain": [
       "[1, 8, 27, 64, 125]"
      ]
     },
     "execution_count": 266,
     "metadata": {},
     "output_type": "execute_result"
    }
   ],
   "source": [
    "# lambda with map\n",
    "list(map(lambda x:x**3, li))"
   ]
  },
  {
   "cell_type": "code",
   "execution_count": 267,
   "id": "71d6cc28",
   "metadata": {},
   "outputs": [
    {
     "data": {
      "text/plain": [
       "[11, 12, 13, 14, 15]"
      ]
     },
     "execution_count": 267,
     "metadata": {},
     "output_type": "execute_result"
    }
   ],
   "source": [
    "list(map(lambda x:x+10, li))"
   ]
  },
  {
   "cell_type": "code",
   "execution_count": 268,
   "id": "94d6fa5b",
   "metadata": {},
   "outputs": [],
   "source": [
    "# reduce(agg_func, iter)"
   ]
  },
  {
   "cell_type": "code",
   "execution_count": 269,
   "id": "cef739b9",
   "metadata": {},
   "outputs": [
    {
     "name": "stdout",
     "output_type": "stream",
     "text": [
      "15\n"
     ]
    }
   ],
   "source": [
    "li=[1,2,3,4,5]\n",
    "from functools import reduce\n",
    "print(reduce(lambda x,y:x+y, li))"
   ]
  },
  {
   "cell_type": "code",
   "execution_count": 270,
   "id": "7590f976",
   "metadata": {},
   "outputs": [
    {
     "name": "stdout",
     "output_type": "stream",
     "text": [
      "120\n"
     ]
    }
   ],
   "source": [
    "print(reduce(lambda x,y:x*y, li))"
   ]
  },
  {
   "cell_type": "code",
   "execution_count": null,
   "id": "f850755c",
   "metadata": {},
   "outputs": [],
   "source": []
  }
 ],
 "metadata": {
  "kernelspec": {
   "display_name": "Python 3 (ipykernel)",
   "language": "python",
   "name": "python3"
  },
  "language_info": {
   "codemirror_mode": {
    "name": "ipython",
    "version": 3
   },
   "file_extension": ".py",
   "mimetype": "text/x-python",
   "name": "python",
   "nbconvert_exporter": "python",
   "pygments_lexer": "ipython3",
   "version": "3.9.12"
  }
 },
 "nbformat": 4,
 "nbformat_minor": 5
}
