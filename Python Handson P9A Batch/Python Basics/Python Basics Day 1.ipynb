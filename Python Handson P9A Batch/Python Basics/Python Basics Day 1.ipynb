{
 "cells": [
  {
   "cell_type": "code",
   "execution_count": 2,
   "id": "2baae525",
   "metadata": {},
   "outputs": [
    {
     "name": "stdout",
     "output_type": "stream",
     "text": [
      "hello world\n"
     ]
    }
   ],
   "source": [
    "print('hello world')"
   ]
  },
  {
   "cell_type": "code",
   "execution_count": 3,
   "id": "b843fe5b",
   "metadata": {},
   "outputs": [
    {
     "name": "stdout",
     "output_type": "stream",
     "text": [
      "Enter City: Delhi\n",
      "Delhi\n"
     ]
    }
   ],
   "source": [
    "print(input('Enter City: '))"
   ]
  },
  {
   "cell_type": "markdown",
   "id": "406317db",
   "metadata": {},
   "source": [
    "### Python Basics Day 1"
   ]
  },
  {
   "cell_type": "code",
   "execution_count": 4,
   "id": "12e1aa17",
   "metadata": {},
   "outputs": [
    {
     "name": "stdout",
     "output_type": "stream",
     "text": [
      "HELLO\n"
     ]
    }
   ],
   "source": [
    "# here is example of print\n",
    "print('HELLO')"
   ]
  },
  {
   "cell_type": "code",
   "execution_count": 5,
   "id": "35275e4c",
   "metadata": {},
   "outputs": [
    {
     "name": "stdout",
     "output_type": "stream",
     "text": [
      "12\n",
      "-4\n",
      "27\n",
      "19683\n",
      "3.5\n",
      "2\n",
      "7\n"
     ]
    }
   ],
   "source": [
    "print(10+2)\n",
    "print(1-5)\n",
    "print(3*9)\n",
    "print(3**9)\n",
    "print(14/4)\n",
    "print(14%4)\n",
    "print(15//2)"
   ]
  },
  {
   "cell_type": "code",
   "execution_count": 6,
   "id": "3ce17c6e",
   "metadata": {},
   "outputs": [
    {
     "ename": "ZeroDivisionError",
     "evalue": "division by zero",
     "output_type": "error",
     "traceback": [
      "\u001b[1;31m---------------------------------------------------------------------------\u001b[0m",
      "\u001b[1;31mZeroDivisionError\u001b[0m                         Traceback (most recent call last)",
      "Input \u001b[1;32mIn [6]\u001b[0m, in \u001b[0;36m<cell line: 1>\u001b[1;34m()\u001b[0m\n\u001b[1;32m----> 1\u001b[0m \u001b[38;5;28mprint\u001b[39m(\u001b[38;5;241;43m13\u001b[39;49m\u001b[38;5;241;43m/\u001b[39;49m\u001b[38;5;241;43m0\u001b[39;49m)\n",
      "\u001b[1;31mZeroDivisionError\u001b[0m: division by zero"
     ]
    }
   ],
   "source": [
    "print(13/0)"
   ]
  },
  {
   "cell_type": "markdown",
   "id": "1695cc3a",
   "metadata": {},
   "source": [
    "#### variables"
   ]
  },
  {
   "cell_type": "code",
   "execution_count": 7,
   "id": "b9809000",
   "metadata": {},
   "outputs": [],
   "source": [
    "# data-type <var-name> int x;\n",
    "# python <var-name>=<value>\n",
    "\n",
    "name='Prateek' # strings in single/double quotes. Also triple quotes.\n",
    "name=\"Prateek\" # normal string\n",
    "name='''Prateek''' # multi line str\n",
    "name=\"\"\"Prateek\"\"\"\n",
    "\n",
    "# multiline text in 3-q str\n",
    "text='''hello all.\n",
    "welcome to Deloitte!\n",
    "how ae you feeling today?'''"
   ]
  },
  {
   "cell_type": "code",
   "execution_count": 8,
   "id": "87f33076",
   "metadata": {},
   "outputs": [],
   "source": [
    "x=10\n",
    "y=13.678"
   ]
  },
  {
   "cell_type": "code",
   "execution_count": 10,
   "id": "ea788896",
   "metadata": {},
   "outputs": [
    {
     "name": "stdout",
     "output_type": "stream",
     "text": [
      "10 13.678 Prateek\n"
     ]
    }
   ],
   "source": [
    "print(x, y, name)"
   ]
  },
  {
   "cell_type": "code",
   "execution_count": 11,
   "id": "e413abee",
   "metadata": {},
   "outputs": [
    {
     "name": "stdout",
     "output_type": "stream",
     "text": [
      "hello all.\n",
      "welcome to Deloitte!\n",
      "how ae you feeling today?\n"
     ]
    }
   ],
   "source": [
    "print(text)"
   ]
  },
  {
   "cell_type": "code",
   "execution_count": 12,
   "id": "b95fdf63",
   "metadata": {},
   "outputs": [
    {
     "data": {
      "text/plain": [
       "23.678"
      ]
     },
     "execution_count": 12,
     "metadata": {},
     "output_type": "execute_result"
    }
   ],
   "source": [
    "x+y"
   ]
  },
  {
   "cell_type": "code",
   "execution_count": 13,
   "id": "166a5d4c",
   "metadata": {},
   "outputs": [
    {
     "data": {
      "text/plain": [
       "136.78"
      ]
     },
     "execution_count": 13,
     "metadata": {},
     "output_type": "execute_result"
    }
   ],
   "source": [
    "x*y"
   ]
  },
  {
   "cell_type": "markdown",
   "id": "a9e7c46f",
   "metadata": {},
   "source": [
    "##### type()"
   ]
  },
  {
   "cell_type": "code",
   "execution_count": 14,
   "id": "1cf70711",
   "metadata": {},
   "outputs": [
    {
     "data": {
      "text/plain": [
       "int"
      ]
     },
     "execution_count": 14,
     "metadata": {},
     "output_type": "execute_result"
    }
   ],
   "source": [
    "type(x)"
   ]
  },
  {
   "cell_type": "code",
   "execution_count": 15,
   "id": "3b6fc466",
   "metadata": {},
   "outputs": [
    {
     "data": {
      "text/plain": [
       "str"
      ]
     },
     "execution_count": 15,
     "metadata": {},
     "output_type": "execute_result"
    }
   ],
   "source": [
    "type(text)"
   ]
  },
  {
   "cell_type": "code",
   "execution_count": 16,
   "id": "ebd190cc",
   "metadata": {},
   "outputs": [
    {
     "data": {
      "text/plain": [
       "float"
      ]
     },
     "execution_count": 16,
     "metadata": {},
     "output_type": "execute_result"
    }
   ],
   "source": [
    "type(y)"
   ]
  },
  {
   "cell_type": "markdown",
   "id": "174e884d",
   "metadata": {},
   "source": [
    "###### id()"
   ]
  },
  {
   "cell_type": "code",
   "execution_count": 18,
   "id": "b9eb838a",
   "metadata": {},
   "outputs": [
    {
     "data": {
      "text/plain": [
       "1524316531280"
      ]
     },
     "execution_count": 18,
     "metadata": {},
     "output_type": "execute_result"
    }
   ],
   "source": [
    "id(x) # adrress of var"
   ]
  },
  {
   "cell_type": "code",
   "execution_count": 19,
   "id": "7a847aea",
   "metadata": {},
   "outputs": [
    {
     "data": {
      "text/plain": [
       "1524430344016"
      ]
     },
     "execution_count": 19,
     "metadata": {},
     "output_type": "execute_result"
    }
   ],
   "source": [
    "id(y)"
   ]
  },
  {
   "cell_type": "code",
   "execution_count": 20,
   "id": "ee8eb3c2",
   "metadata": {},
   "outputs": [
    {
     "name": "stdout",
     "output_type": "stream",
     "text": [
      "10 20 30\n"
     ]
    }
   ],
   "source": [
    "# declaring variables is fun\n",
    "\n",
    "a,b,c=10,20,30\n",
    "print(a,b,c)"
   ]
  },
  {
   "cell_type": "code",
   "execution_count": 21,
   "id": "ff75d566",
   "metadata": {},
   "outputs": [
    {
     "name": "stdout",
     "output_type": "stream",
     "text": [
      "10 20\n"
     ]
    }
   ],
   "source": [
    "a,b=10,20\n",
    "print(a,b)"
   ]
  },
  {
   "cell_type": "code",
   "execution_count": 22,
   "id": "cd1e20f1",
   "metadata": {},
   "outputs": [
    {
     "name": "stdout",
     "output_type": "stream",
     "text": [
      "20 10\n"
     ]
    }
   ],
   "source": [
    "a,b=b,a\n",
    "print(a,b)"
   ]
  },
  {
   "cell_type": "markdown",
   "id": "f4423a96",
   "metadata": {},
   "source": [
    "##### print() as a function"
   ]
  },
  {
   "cell_type": "code",
   "execution_count": 25,
   "id": "db43dc51",
   "metadata": {},
   "outputs": [],
   "source": [
    "# print(val(s)/var(s), sep=' ' , end='\\n', flush=False, file=file)"
   ]
  },
  {
   "cell_type": "code",
   "execution_count": 28,
   "id": "f6ec0dde",
   "metadata": {},
   "outputs": [
    {
     "name": "stdout",
     "output_type": "stream",
     "text": [
      "20 , 10 , 30\n"
     ]
    }
   ],
   "source": [
    "print(a,b,c, sep=' , ')"
   ]
  },
  {
   "cell_type": "code",
   "execution_count": 32,
   "id": "fba5938d",
   "metadata": {},
   "outputs": [
    {
     "name": "stdout",
     "output_type": "stream",
     "text": [
      "a , b , c -- 20#10#30\n"
     ]
    }
   ],
   "source": [
    "print('a','b','c', sep=' , ', end=' -- ')\n",
    "print(a,b,c, sep='#')"
   ]
  },
  {
   "cell_type": "markdown",
   "id": "e46b7ed3",
   "metadata": {},
   "source": [
    "###### input() function"
   ]
  },
  {
   "cell_type": "code",
   "execution_count": 33,
   "id": "4003a12f",
   "metadata": {},
   "outputs": [
    {
     "name": "stdout",
     "output_type": "stream",
     "text": [
      "Enter Programming Language: Python\n"
     ]
    }
   ],
   "source": [
    "x=input('Enter Programming Language: ')"
   ]
  },
  {
   "cell_type": "code",
   "execution_count": 34,
   "id": "3d42104e",
   "metadata": {},
   "outputs": [
    {
     "data": {
      "text/plain": [
       "str"
      ]
     },
     "execution_count": 34,
     "metadata": {},
     "output_type": "execute_result"
    }
   ],
   "source": [
    "type(x)"
   ]
  },
  {
   "cell_type": "code",
   "execution_count": 35,
   "id": "eb88b9b2",
   "metadata": {},
   "outputs": [
    {
     "name": "stdout",
     "output_type": "stream",
     "text": [
      "Enter Temperature in C: 37.9\n"
     ]
    }
   ],
   "source": [
    "x=input('Enter Temperature in C: ')"
   ]
  },
  {
   "cell_type": "code",
   "execution_count": 36,
   "id": "9a94808c",
   "metadata": {},
   "outputs": [
    {
     "data": {
      "text/plain": [
       "str"
      ]
     },
     "execution_count": 36,
     "metadata": {},
     "output_type": "execute_result"
    }
   ],
   "source": [
    "type(x)"
   ]
  },
  {
   "cell_type": "markdown",
   "id": "cdd9117b",
   "metadata": {},
   "source": [
    "###### str() int() float() datatype casting"
   ]
  },
  {
   "cell_type": "code",
   "execution_count": 37,
   "id": "a2adc880",
   "metadata": {},
   "outputs": [
    {
     "data": {
      "text/plain": [
       "str"
      ]
     },
     "execution_count": 37,
     "metadata": {},
     "output_type": "execute_result"
    }
   ],
   "source": [
    "type(x)"
   ]
  },
  {
   "cell_type": "code",
   "execution_count": 39,
   "id": "f902edde",
   "metadata": {},
   "outputs": [
    {
     "data": {
      "text/plain": [
       "float"
      ]
     },
     "execution_count": 39,
     "metadata": {},
     "output_type": "execute_result"
    }
   ],
   "source": [
    "x=float(x)\n",
    "type(x)"
   ]
  },
  {
   "cell_type": "code",
   "execution_count": 42,
   "id": "bc4c8198",
   "metadata": {},
   "outputs": [
    {
     "name": "stdout",
     "output_type": "stream",
     "text": [
      "Enter Age: 23\n",
      "<class 'int'>\n"
     ]
    }
   ],
   "source": [
    "age=int(input('Enter Age: '))\n",
    "    # age=int(age)\n",
    "print(type(age))"
   ]
  },
  {
   "cell_type": "markdown",
   "id": "df9bca6c",
   "metadata": {},
   "source": [
    "### Operators"
   ]
  },
  {
   "cell_type": "code",
   "execution_count": 43,
   "id": "78833da6",
   "metadata": {},
   "outputs": [],
   "source": [
    "# mathematical operators\n",
    "# +, -, /, *, **, %, //"
   ]
  },
  {
   "cell_type": "code",
   "execution_count": 44,
   "id": "7ff951ac",
   "metadata": {},
   "outputs": [],
   "source": [
    "# assignment operators\n",
    "# =, +=, -=, /=, *=, %=, **=, //="
   ]
  },
  {
   "cell_type": "code",
   "execution_count": 51,
   "id": "40d74efb",
   "metadata": {},
   "outputs": [
    {
     "data": {
      "text/plain": [
       "100000"
      ]
     },
     "execution_count": 51,
     "metadata": {},
     "output_type": "execute_result"
    }
   ],
   "source": [
    "x=10\n",
    "x**=5\n",
    "x"
   ]
  },
  {
   "cell_type": "code",
   "execution_count": 52,
   "id": "f84be24a",
   "metadata": {},
   "outputs": [],
   "source": [
    "# comparison operators\n",
    "# <, >, <=, >=, ==, !="
   ]
  },
  {
   "cell_type": "code",
   "execution_count": 53,
   "id": "415d9404",
   "metadata": {},
   "outputs": [],
   "source": [
    "# Boolean Datatypes\n",
    "# True | False # uppercase T and F"
   ]
  },
  {
   "cell_type": "code",
   "execution_count": 54,
   "id": "cf41494d",
   "metadata": {},
   "outputs": [],
   "source": [
    "a,b=10,5"
   ]
  },
  {
   "cell_type": "code",
   "execution_count": 55,
   "id": "155cc9ae",
   "metadata": {},
   "outputs": [
    {
     "data": {
      "text/plain": [
       "False"
      ]
     },
     "execution_count": 55,
     "metadata": {},
     "output_type": "execute_result"
    }
   ],
   "source": [
    "a<b"
   ]
  },
  {
   "cell_type": "code",
   "execution_count": 56,
   "id": "4181b4a7",
   "metadata": {},
   "outputs": [
    {
     "data": {
      "text/plain": [
       "True"
      ]
     },
     "execution_count": 56,
     "metadata": {},
     "output_type": "execute_result"
    }
   ],
   "source": [
    "a>b"
   ]
  },
  {
   "cell_type": "code",
   "execution_count": 57,
   "id": "f2dfa0a3",
   "metadata": {},
   "outputs": [
    {
     "data": {
      "text/plain": [
       "True"
      ]
     },
     "execution_count": 57,
     "metadata": {},
     "output_type": "execute_result"
    }
   ],
   "source": [
    "a,b=10,10\n",
    "a==b"
   ]
  },
  {
   "cell_type": "code",
   "execution_count": 58,
   "id": "b39441a9",
   "metadata": {},
   "outputs": [
    {
     "data": {
      "text/plain": [
       "True"
      ]
     },
     "execution_count": 58,
     "metadata": {},
     "output_type": "execute_result"
    }
   ],
   "source": [
    "a<=b"
   ]
  },
  {
   "cell_type": "code",
   "execution_count": 59,
   "id": "55c887fe",
   "metadata": {},
   "outputs": [
    {
     "data": {
      "text/plain": [
       "False"
      ]
     },
     "execution_count": 59,
     "metadata": {},
     "output_type": "execute_result"
    }
   ],
   "source": [
    "a!=b"
   ]
  },
  {
   "cell_type": "code",
   "execution_count": 1,
   "id": "73fb3349",
   "metadata": {},
   "outputs": [],
   "source": [
    "# logical operators\n",
    "# and, or, not, ^ (xor)"
   ]
  },
  {
   "cell_type": "code",
   "execution_count": 2,
   "id": "4b0f909b",
   "metadata": {},
   "outputs": [
    {
     "data": {
      "text/plain": [
       "True"
      ]
     },
     "execution_count": 2,
     "metadata": {},
     "output_type": "execute_result"
    },
    {
     "data": {
      "text/plain": [
       "True"
      ]
     },
     "execution_count": 2,
     "metadata": {},
     "output_type": "execute_result"
    }
   ],
   "source": [
    "a,b,c=10,20,30\n",
    "\n",
    "a<b and a<c"
   ]
  },
  {
   "cell_type": "code",
   "execution_count": 3,
   "id": "c7844a94",
   "metadata": {},
   "outputs": [
    {
     "data": {
      "text/plain": [
       "False"
      ]
     },
     "execution_count": 3,
     "metadata": {},
     "output_type": "execute_result"
    },
    {
     "data": {
      "text/plain": [
       "False"
      ]
     },
     "execution_count": 3,
     "metadata": {},
     "output_type": "execute_result"
    }
   ],
   "source": [
    "a<b and a>c"
   ]
  },
  {
   "cell_type": "code",
   "execution_count": 4,
   "id": "1aba4c48",
   "metadata": {},
   "outputs": [
    {
     "data": {
      "text/plain": [
       "True"
      ]
     },
     "execution_count": 4,
     "metadata": {},
     "output_type": "execute_result"
    },
    {
     "data": {
      "text/plain": [
       "True"
      ]
     },
     "execution_count": 4,
     "metadata": {},
     "output_type": "execute_result"
    }
   ],
   "source": [
    "a<b or a>c"
   ]
  },
  {
   "cell_type": "code",
   "execution_count": 6,
   "id": "b84fa172",
   "metadata": {},
   "outputs": [
    {
     "data": {
      "text/plain": [
       "True"
      ]
     },
     "execution_count": 6,
     "metadata": {},
     "output_type": "execute_result"
    },
    {
     "data": {
      "text/plain": [
       "True"
      ]
     },
     "execution_count": 6,
     "metadata": {},
     "output_type": "execute_result"
    }
   ],
   "source": [
    "a<b and not(a>c)"
   ]
  },
  {
   "cell_type": "code",
   "execution_count": 8,
   "id": "9972dd97",
   "metadata": {},
   "outputs": [
    {
     "data": {
      "text/plain": [
       "False"
      ]
     },
     "execution_count": 8,
     "metadata": {},
     "output_type": "execute_result"
    },
    {
     "data": {
      "text/plain": [
       "False"
      ]
     },
     "execution_count": 8,
     "metadata": {},
     "output_type": "execute_result"
    }
   ],
   "source": [
    "not(True)"
   ]
  },
  {
   "cell_type": "code",
   "execution_count": 12,
   "id": "c3910a52",
   "metadata": {},
   "outputs": [
    {
     "data": {
      "text/plain": [
       "30"
      ]
     },
     "execution_count": 12,
     "metadata": {},
     "output_type": "execute_result"
    },
    {
     "data": {
      "text/plain": [
       "30"
      ]
     },
     "execution_count": 12,
     "metadata": {},
     "output_type": "execute_result"
    }
   ],
   "source": [
    "a ^ b"
   ]
  },
  {
   "cell_type": "code",
   "execution_count": 13,
   "id": "a37acbea",
   "metadata": {},
   "outputs": [],
   "source": [
    "# Bitwise Operators\n",
    "# &(and), |(or), ~(not), ^(xor)"
   ]
  },
  {
   "cell_type": "code",
   "execution_count": 14,
   "id": "a741f194",
   "metadata": {},
   "outputs": [
    {
     "data": {
      "text/plain": [
       "5"
      ]
     },
     "execution_count": 14,
     "metadata": {},
     "output_type": "execute_result"
    },
    {
     "data": {
      "text/plain": [
       "5"
      ]
     },
     "execution_count": 14,
     "metadata": {},
     "output_type": "execute_result"
    }
   ],
   "source": [
    "a=5\n",
    "b=7\n",
    "\n",
    "a & b"
   ]
  },
  {
   "cell_type": "code",
   "execution_count": 15,
   "id": "51f2f328",
   "metadata": {},
   "outputs": [
    {
     "data": {
      "text/plain": [
       "7"
      ]
     },
     "execution_count": 15,
     "metadata": {},
     "output_type": "execute_result"
    },
    {
     "data": {
      "text/plain": [
       "7"
      ]
     },
     "execution_count": 15,
     "metadata": {},
     "output_type": "execute_result"
    }
   ],
   "source": [
    "a | b"
   ]
  },
  {
   "cell_type": "code",
   "execution_count": 16,
   "id": "c725a5b2",
   "metadata": {},
   "outputs": [
    {
     "data": {
      "text/plain": [
       "2"
      ]
     },
     "execution_count": 16,
     "metadata": {},
     "output_type": "execute_result"
    },
    {
     "data": {
      "text/plain": [
       "2"
      ]
     },
     "execution_count": 16,
     "metadata": {},
     "output_type": "execute_result"
    }
   ],
   "source": [
    "a ^ b"
   ]
  },
  {
   "cell_type": "code",
   "execution_count": 17,
   "id": "3a4eaa52",
   "metadata": {},
   "outputs": [],
   "source": [
    "# True and True or False and not False"
   ]
  },
  {
   "cell_type": "code",
   "execution_count": 19,
   "id": "aa1d5709",
   "metadata": {},
   "outputs": [
    {
     "name": "stdout",
     "output_type": "stream",
     "text": [
      "True\n",
      "True\n"
     ]
    }
   ],
   "source": [
    "print(True and True or False and not False)"
   ]
  },
  {
   "cell_type": "code",
   "execution_count": 20,
   "id": "1013ee77",
   "metadata": {},
   "outputs": [],
   "source": [
    "# 5+8*4-2**12/3"
   ]
  },
  {
   "cell_type": "code",
   "execution_count": 21,
   "id": "b78cd309",
   "metadata": {},
   "outputs": [
    {
     "name": "stdout",
     "output_type": "stream",
     "text": [
      "-1328.3333333333333\n",
      "-1328.3333333333333\n"
     ]
    }
   ],
   "source": [
    "print(5+8*4-2**12/3)"
   ]
  },
  {
   "cell_type": "code",
   "execution_count": 22,
   "id": "824c795f",
   "metadata": {},
   "outputs": [
    {
     "name": "stdout",
     "output_type": "stream",
     "text": [
      "36\n",
      "36\n"
     ]
    }
   ],
   "source": [
    "print(5+8*4-2**12%3)"
   ]
  },
  {
   "cell_type": "markdown",
   "id": "63a05720",
   "metadata": {},
   "source": [
    "#### Bitwise Operation- Left and Right Shift using << and >>"
   ]
  },
  {
   "cell_type": "code",
   "execution_count": 7,
   "id": "8d0982ac",
   "metadata": {},
   "outputs": [
    {
     "name": "stdout",
     "output_type": "stream",
     "text": [
      "80\n",
      "80\n"
     ]
    }
   ],
   "source": [
    "a=10\n",
    "v=a<<3\n",
    "print(v)"
   ]
  },
  {
   "cell_type": "code",
   "execution_count": 9,
   "id": "4ff798c9",
   "metadata": {},
   "outputs": [
    {
     "name": "stdout",
     "output_type": "stream",
     "text": [
      "6\n",
      "6\n"
     ]
    }
   ],
   "source": [
    "a=51\n",
    "print(a>>3)"
   ]
  },
  {
   "cell_type": "markdown",
   "id": "b75ff64e",
   "metadata": {},
   "source": [
    "##### Complex Data"
   ]
  },
  {
   "cell_type": "code",
   "execution_count": 1,
   "id": "9575a47c",
   "metadata": {},
   "outputs": [],
   "source": [
    "d=4+3j"
   ]
  },
  {
   "cell_type": "code",
   "execution_count": 2,
   "id": "e82a060b",
   "metadata": {},
   "outputs": [],
   "source": [
    "e=12-6j"
   ]
  },
  {
   "cell_type": "code",
   "execution_count": 3,
   "id": "40aadd41",
   "metadata": {},
   "outputs": [
    {
     "data": {
      "text/plain": [
       "(16-3j)"
      ]
     },
     "execution_count": 3,
     "metadata": {},
     "output_type": "execute_result"
    }
   ],
   "source": [
    "d+e"
   ]
  },
  {
   "cell_type": "markdown",
   "id": "90b2c376",
   "metadata": {},
   "source": [
    "### Strings"
   ]
  },
  {
   "cell_type": "code",
   "execution_count": 4,
   "id": "bc43b79d",
   "metadata": {},
   "outputs": [],
   "source": [
    "# strings are sequneces\n",
    "# strings are immutable\n",
    "# strings has inbuilt functionalities\n",
    "# strings use regex in background for some manipulations\n",
    "# strings use indexing to refer any character, even negative indexes\n",
    "# strings can be sliced using index"
   ]
  },
  {
   "cell_type": "code",
   "execution_count": 5,
   "id": "3dad1c66",
   "metadata": {},
   "outputs": [],
   "source": [
    "s='hello deloitte'\n",
    "s=\"hello participants\""
   ]
  },
  {
   "cell_type": "code",
   "execution_count": 6,
   "id": "a5dc4f9f",
   "metadata": {},
   "outputs": [
    {
     "data": {
      "text/plain": [
       "str"
      ]
     },
     "execution_count": 6,
     "metadata": {},
     "output_type": "execute_result"
    }
   ],
   "source": [
    "type(s)"
   ]
  },
  {
   "cell_type": "code",
   "execution_count": 8,
   "id": "4d62d949",
   "metadata": {},
   "outputs": [
    {
     "data": {
      "text/plain": [
       "18"
      ]
     },
     "execution_count": 8,
     "metadata": {},
     "output_type": "execute_result"
    }
   ],
   "source": [
    "len(s) # length of given sequnce"
   ]
  },
  {
   "cell_type": "code",
   "execution_count": 9,
   "id": "5f42197e",
   "metadata": {},
   "outputs": [
    {
     "name": "stdout",
     "output_type": "stream",
     "text": [
      "hello\n"
     ]
    }
   ],
   "source": [
    "s=r'hello' # raw string\n",
    "print(s)"
   ]
  },
  {
   "cell_type": "code",
   "execution_count": 10,
   "id": "22566266",
   "metadata": {},
   "outputs": [
    {
     "name": "stdout",
     "output_type": "stream",
     "text": [
      "hello \n",
      " hi\n"
     ]
    }
   ],
   "source": [
    "s='hello \\n hi'\n",
    "print(s)"
   ]
  },
  {
   "cell_type": "code",
   "execution_count": 11,
   "id": "1b432c53",
   "metadata": {},
   "outputs": [
    {
     "name": "stdout",
     "output_type": "stream",
     "text": [
      "hello \\n hi\n"
     ]
    }
   ],
   "source": [
    "s=r'hello \\n hi'\n",
    "print(s)"
   ]
  },
  {
   "cell_type": "code",
   "execution_count": 12,
   "id": "72ec01db",
   "metadata": {},
   "outputs": [],
   "source": [
    "# escape sequnces\n",
    "# \\n new line\n",
    "# \\t tab\n",
    "# \\b backspace"
   ]
  },
  {
   "cell_type": "code",
   "execution_count": 13,
   "id": "5d9399e9",
   "metadata": {},
   "outputs": [
    {
     "name": "stdout",
     "output_type": "stream",
     "text": [
      "hi \n",
      " hello\n"
     ]
    }
   ],
   "source": [
    "print('hi \\n hello')"
   ]
  },
  {
   "cell_type": "code",
   "execution_count": 14,
   "id": "3fe5771b",
   "metadata": {},
   "outputs": [
    {
     "name": "stdout",
     "output_type": "stream",
     "text": [
      "hi \t hello\n"
     ]
    }
   ],
   "source": [
    "print('hi \\t hello')"
   ]
  },
  {
   "cell_type": "code",
   "execution_count": 15,
   "id": "dda5393f",
   "metadata": {},
   "outputs": [
    {
     "name": "stdout",
     "output_type": "stream",
     "text": [
      "hello\b\b\n"
     ]
    }
   ],
   "source": [
    "print('hello\\b\\b')"
   ]
  },
  {
   "cell_type": "code",
   "execution_count": 19,
   "id": "40ed76a3",
   "metadata": {},
   "outputs": [],
   "source": [
    "# indexing\n",
    "s='PIZZA PARATHA'"
   ]
  },
  {
   "cell_type": "code",
   "execution_count": 23,
   "id": "06b9870a",
   "metadata": {},
   "outputs": [
    {
     "data": {
      "text/plain": [
       "'Z'"
      ]
     },
     "execution_count": 23,
     "metadata": {},
     "output_type": "execute_result"
    }
   ],
   "source": [
    "s[-11]"
   ]
  },
  {
   "cell_type": "code",
   "execution_count": 25,
   "id": "0584a1d3",
   "metadata": {},
   "outputs": [
    {
     "data": {
      "text/plain": [
       "'ZZA '"
      ]
     },
     "execution_count": 25,
     "metadata": {},
     "output_type": "execute_result"
    }
   ],
   "source": [
    "# slicing\n",
    "s[2:6] # start from index 2 and end at 5 (i.e. 6-1)"
   ]
  },
  {
   "cell_type": "code",
   "execution_count": 26,
   "id": "e52fedc1",
   "metadata": {},
   "outputs": [
    {
     "data": {
      "text/plain": [
       "'ZZA PAR'"
      ]
     },
     "execution_count": 26,
     "metadata": {},
     "output_type": "execute_result"
    }
   ],
   "source": [
    "s[-11:-4] # start from -11 and at -5 (i.e. (-4)-1)"
   ]
  },
  {
   "cell_type": "code",
   "execution_count": 27,
   "id": "a9de4f1e",
   "metadata": {},
   "outputs": [
    {
     "data": {
      "text/plain": [
       "'deloitte USI'"
      ]
     },
     "execution_count": 27,
     "metadata": {},
     "output_type": "execute_result"
    }
   ],
   "source": [
    "a='deloitte '\n",
    "b='USI'\n",
    "a+b # concatenate strings with '+'"
   ]
  },
  {
   "cell_type": "code",
   "execution_count": 28,
   "id": "f963135a",
   "metadata": {},
   "outputs": [
    {
     "ename": "TypeError",
     "evalue": "can only concatenate str (not \"int\") to str",
     "output_type": "error",
     "traceback": [
      "\u001b[1;31m---------------------------------------------------------------------------\u001b[0m",
      "\u001b[1;31mTypeError\u001b[0m                                 Traceback (most recent call last)",
      "Input \u001b[1;32mIn [28]\u001b[0m, in \u001b[0;36m<cell line: 1>\u001b[1;34m()\u001b[0m\n\u001b[1;32m----> 1\u001b[0m \u001b[43ma\u001b[49m\u001b[38;5;241;43m+\u001b[39;49m\u001b[38;5;241;43m5\u001b[39;49m\n",
      "\u001b[1;31mTypeError\u001b[0m: can only concatenate str (not \"int\") to str"
     ]
    }
   ],
   "source": [
    "a+5"
   ]
  },
  {
   "cell_type": "code",
   "execution_count": 29,
   "id": "86eaa9b1",
   "metadata": {},
   "outputs": [
    {
     "data": {
      "text/plain": [
       "'deloitte deloitte deloitte deloitte deloitte '"
      ]
     },
     "execution_count": 29,
     "metadata": {},
     "output_type": "execute_result"
    }
   ],
   "source": [
    "a*5 # concatenate multiple times"
   ]
  },
  {
   "cell_type": "code",
   "execution_count": 30,
   "id": "91b18ca9",
   "metadata": {},
   "outputs": [
    {
     "data": {
      "text/plain": [
       "'PIZ'"
      ]
     },
     "execution_count": 30,
     "metadata": {},
     "output_type": "execute_result"
    }
   ],
   "source": [
    "s[:3]"
   ]
  },
  {
   "cell_type": "code",
   "execution_count": 32,
   "id": "33f3d9cb",
   "metadata": {},
   "outputs": [
    {
     "data": {
      "text/plain": [
       "'PARATHA'"
      ]
     },
     "execution_count": 32,
     "metadata": {},
     "output_type": "execute_result"
    }
   ],
   "source": [
    "s[6:]"
   ]
  },
  {
   "cell_type": "code",
   "execution_count": 33,
   "id": "9076e9a9",
   "metadata": {},
   "outputs": [
    {
     "data": {
      "text/plain": [
       "'PIZZAPIZZAPIZZAPIZZAPIZZAPIZZAPIZZAPIZZAPIZZAPIZZAPIZZAPIZZAPIZZAPIZZAPIZZAPIZZAPIZZAPIZZAPIZZAPIZZAPIZZAPIZZAPIZZAPIZZAPIZZAPIZZAPIZZAPIZZAPIZZAPIZZAPIZZAPIZZAPIZZAPIZZAPIZZAPIZZAPIZZAPIZZAPIZZAPIZZAPIZZAPIZZAPIZZAPIZZAPIZZAPIZZAPIZZAPIZZAPIZZAPIZZAPIZZAPIZZAPIZZAPIZZAPIZZAPIZZAPIZZAPIZZAPIZZAPIZZAPIZZAPIZZAPIZZAPIZZAPIZZAPIZZAPIZZAPIZZAPIZZAPIZZAPIZZAPIZZAPIZZAPIZZAPIZZAPIZZAPIZZAPIZZAPIZZAPIZZAPIZZAPIZZAPIZZAPIZZAPIZZAPIZZAPIZZAPIZZAPIZZAPIZZAPIZZAPIZZAPIZZAPIZZAPIZZAPIZZAPIZZAPIZZAPIZZAPIZZA'"
      ]
     },
     "execution_count": 33,
     "metadata": {},
     "output_type": "execute_result"
    }
   ],
   "source": [
    "s[:5]*100"
   ]
  },
  {
   "cell_type": "code",
   "execution_count": 37,
   "id": "7f809c45",
   "metadata": {},
   "outputs": [],
   "source": [
    "s='''\n",
    "First Line\n",
    "    second line with tab\n",
    "Second Line\n",
    "Third Line\n",
    "'''"
   ]
  },
  {
   "cell_type": "code",
   "execution_count": 38,
   "id": "5cafb4fe",
   "metadata": {},
   "outputs": [
    {
     "name": "stdout",
     "output_type": "stream",
     "text": [
      "\n",
      "First Line\n",
      "    second line with tab\n",
      "Second Line\n",
      "Third Line\n",
      "\n"
     ]
    }
   ],
   "source": [
    "print(s)"
   ]
  },
  {
   "cell_type": "code",
   "execution_count": 39,
   "id": "ff24cfde",
   "metadata": {},
   "outputs": [
    {
     "data": {
      "text/plain": [
       "'\\nFirst Line\\n    second line with tab\\nSecond Line\\nThird Line\\n'"
      ]
     },
     "execution_count": 39,
     "metadata": {},
     "output_type": "execute_result"
    }
   ],
   "source": [
    "s"
   ]
  },
  {
   "cell_type": "code",
   "execution_count": 40,
   "id": "f887db5b",
   "metadata": {},
   "outputs": [
    {
     "data": {
      "text/plain": [
       "'\\nFirst'"
      ]
     },
     "execution_count": 40,
     "metadata": {},
     "output_type": "execute_result"
    }
   ],
   "source": [
    "s[:6]"
   ]
  },
  {
   "cell_type": "code",
   "execution_count": 41,
   "id": "13ad2689",
   "metadata": {},
   "outputs": [
    {
     "data": {
      "text/plain": [
       "'\\n'"
      ]
     },
     "execution_count": 41,
     "metadata": {},
     "output_type": "execute_result"
    }
   ],
   "source": [
    "s[0]"
   ]
  },
  {
   "cell_type": "code",
   "execution_count": 42,
   "id": "97a109c9",
   "metadata": {},
   "outputs": [
    {
     "data": {
      "text/plain": [
       "'First First First '"
      ]
     },
     "execution_count": 42,
     "metadata": {},
     "output_type": "execute_result"
    }
   ],
   "source": [
    "s[1:7]*3"
   ]
  },
  {
   "cell_type": "code",
   "execution_count": 43,
   "id": "cccae43f",
   "metadata": {},
   "outputs": [
    {
     "data": {
      "text/plain": [
       "60"
      ]
     },
     "execution_count": 43,
     "metadata": {},
     "output_type": "execute_result"
    }
   ],
   "source": [
    "len(s)"
   ]
  },
  {
   "cell_type": "code",
   "execution_count": 44,
   "id": "485e1db2",
   "metadata": {},
   "outputs": [
    {
     "data": {
      "text/plain": [
       "str"
      ]
     },
     "execution_count": 44,
     "metadata": {},
     "output_type": "execute_result"
    }
   ],
   "source": [
    "type(s)"
   ]
  },
  {
   "cell_type": "markdown",
   "id": "5974d964",
   "metadata": {},
   "source": [
    "#### String inbuilt functions"
   ]
  },
  {
   "cell_type": "code",
   "execution_count": 45,
   "id": "55a4d9ca",
   "metadata": {},
   "outputs": [],
   "source": [
    "s='welcome to deloitte'"
   ]
  },
  {
   "cell_type": "code",
   "execution_count": 46,
   "id": "68a3c2a6",
   "metadata": {},
   "outputs": [
    {
     "data": {
      "text/plain": [
       "'WELCOME TO DELOITTE'"
      ]
     },
     "execution_count": 46,
     "metadata": {},
     "output_type": "execute_result"
    }
   ],
   "source": [
    "s.upper()"
   ]
  },
  {
   "cell_type": "code",
   "execution_count": 47,
   "id": "1e189404",
   "metadata": {},
   "outputs": [
    {
     "data": {
      "text/plain": [
       "'hello deloitte'"
      ]
     },
     "execution_count": 47,
     "metadata": {},
     "output_type": "execute_result"
    }
   ],
   "source": [
    "s='HELLO DELOITTE'\n",
    "s.lower()"
   ]
  },
  {
   "cell_type": "code",
   "execution_count": 48,
   "id": "3d2e2dbd",
   "metadata": {},
   "outputs": [
    {
     "data": {
      "text/plain": [
       "'Hello deloitte'"
      ]
     },
     "execution_count": 48,
     "metadata": {},
     "output_type": "execute_result"
    }
   ],
   "source": [
    "s.capitalize()"
   ]
  },
  {
   "cell_type": "code",
   "execution_count": 49,
   "id": "d2789494",
   "metadata": {},
   "outputs": [
    {
     "data": {
      "text/plain": [
       "'Hello Deloitte'"
      ]
     },
     "execution_count": 49,
     "metadata": {},
     "output_type": "execute_result"
    }
   ],
   "source": [
    "s.title()"
   ]
  },
  {
   "cell_type": "code",
   "execution_count": 50,
   "id": "a032b217",
   "metadata": {},
   "outputs": [],
   "source": [
    "# check functions- return boolean"
   ]
  },
  {
   "cell_type": "code",
   "execution_count": 54,
   "id": "9e0e1074",
   "metadata": {},
   "outputs": [
    {
     "data": {
      "text/plain": [
       "True"
      ]
     },
     "execution_count": 54,
     "metadata": {},
     "output_type": "execute_result"
    }
   ],
   "source": [
    "s='hello'\n",
    "s.isalpha()"
   ]
  },
  {
   "cell_type": "code",
   "execution_count": 55,
   "id": "2f3f47c7",
   "metadata": {},
   "outputs": [
    {
     "data": {
      "text/plain": [
       "False"
      ]
     },
     "execution_count": 55,
     "metadata": {},
     "output_type": "execute_result"
    }
   ],
   "source": [
    "s='hello123'\n",
    "s.isalpha()"
   ]
  },
  {
   "cell_type": "code",
   "execution_count": 56,
   "id": "209c6d66",
   "metadata": {},
   "outputs": [
    {
     "data": {
      "text/plain": [
       "False"
      ]
     },
     "execution_count": 56,
     "metadata": {},
     "output_type": "execute_result"
    }
   ],
   "source": [
    "s='hi hello'\n",
    "s.isalpha()"
   ]
  },
  {
   "cell_type": "code",
   "execution_count": 57,
   "id": "f75b7ee8",
   "metadata": {},
   "outputs": [
    {
     "data": {
      "text/plain": [
       "True"
      ]
     },
     "execution_count": 57,
     "metadata": {},
     "output_type": "execute_result"
    }
   ],
   "source": [
    "s='hello123'\n",
    "s.isalnum()"
   ]
  },
  {
   "cell_type": "code",
   "execution_count": 58,
   "id": "67ac9491",
   "metadata": {},
   "outputs": [
    {
     "data": {
      "text/plain": [
       "False"
      ]
     },
     "execution_count": 58,
     "metadata": {},
     "output_type": "execute_result"
    }
   ],
   "source": [
    "s='hello 123'\n",
    "s.isalnum()"
   ]
  },
  {
   "cell_type": "code",
   "execution_count": 65,
   "id": "471f80fb",
   "metadata": {},
   "outputs": [
    {
     "data": {
      "text/plain": [
       "True"
      ]
     },
     "execution_count": 65,
     "metadata": {},
     "output_type": "execute_result"
    }
   ],
   "source": [
    "s='657'\n",
    "s.isdigit()"
   ]
  },
  {
   "cell_type": "code",
   "execution_count": 66,
   "id": "bf5c5854",
   "metadata": {},
   "outputs": [
    {
     "data": {
      "text/plain": [
       "True"
      ]
     },
     "execution_count": 66,
     "metadata": {},
     "output_type": "execute_result"
    }
   ],
   "source": [
    "s='7853'\n",
    "s.isnumeric()"
   ]
  },
  {
   "cell_type": "code",
   "execution_count": 68,
   "id": "bded7b2a",
   "metadata": {},
   "outputs": [
    {
     "data": {
      "text/plain": [
       "True"
      ]
     },
     "execution_count": 68,
     "metadata": {},
     "output_type": "execute_result"
    }
   ],
   "source": [
    "s='hi hello'\n",
    "s[2].isspace()"
   ]
  },
  {
   "cell_type": "code",
   "execution_count": 69,
   "id": "07405c44",
   "metadata": {},
   "outputs": [
    {
     "data": {
      "text/plain": [
       "'deloitte'"
      ]
     },
     "execution_count": 69,
     "metadata": {},
     "output_type": "execute_result"
    }
   ],
   "source": [
    "s='    deloitte    '\n",
    "s.strip()"
   ]
  },
  {
   "cell_type": "code",
   "execution_count": 70,
   "id": "618da65e",
   "metadata": {},
   "outputs": [
    {
     "data": {
      "text/plain": [
       "'    deloitte'"
      ]
     },
     "execution_count": 70,
     "metadata": {},
     "output_type": "execute_result"
    }
   ],
   "source": [
    "s.rstrip()"
   ]
  },
  {
   "cell_type": "code",
   "execution_count": 71,
   "id": "078efc89",
   "metadata": {},
   "outputs": [
    {
     "data": {
      "text/plain": [
       "'deloitte    '"
      ]
     },
     "execution_count": 71,
     "metadata": {},
     "output_type": "execute_result"
    }
   ],
   "source": [
    "s.lstrip()"
   ]
  },
  {
   "cell_type": "code",
   "execution_count": 73,
   "id": "40c762b8",
   "metadata": {},
   "outputs": [
    {
     "data": {
      "text/plain": [
       "',,,aaa-----deloitte'"
      ]
     },
     "execution_count": 73,
     "metadata": {},
     "output_type": "execute_result"
    }
   ],
   "source": [
    "s='------,,,aaa-----deloitte'\n",
    "s.lstrip('-')"
   ]
  },
  {
   "cell_type": "code",
   "execution_count": 75,
   "id": "4531da06",
   "metadata": {},
   "outputs": [
    {
     "data": {
      "text/plain": [
       "'deloitte'"
      ]
     },
     "execution_count": 75,
     "metadata": {},
     "output_type": "execute_result"
    }
   ],
   "source": [
    "s.lstrip('-,a')"
   ]
  },
  {
   "cell_type": "code",
   "execution_count": 79,
   "id": "d73423bf",
   "metadata": {},
   "outputs": [
    {
     "data": {
      "text/plain": [
       "'w---deloitte'"
      ]
     },
     "execution_count": 79,
     "metadata": {},
     "output_type": "execute_result"
    }
   ],
   "source": [
    "s='------,,,aaa--w---deloitte'\n",
    "s.lstrip('-,a')"
   ]
  },
  {
   "cell_type": "code",
   "execution_count": 84,
   "id": "b0761368",
   "metadata": {},
   "outputs": [
    {
     "data": {
      "text/plain": [
       "['DELOITTE', 'USI', 'IN', 'INDIA', 'OFFICES']"
      ]
     },
     "execution_count": 84,
     "metadata": {},
     "output_type": "execute_result"
    }
   ],
   "source": [
    "s='DELOITTE USI IN INDIA OFFICES'\n",
    "s.split()"
   ]
  },
  {
   "cell_type": "code",
   "execution_count": 85,
   "id": "441e27ae",
   "metadata": {},
   "outputs": [
    {
     "data": {
      "text/plain": [
       "['192', '168', '10', '254']"
      ]
     },
     "execution_count": 85,
     "metadata": {},
     "output_type": "execute_result"
    }
   ],
   "source": [
    "ip='192.168.10.254'\n",
    "ip.split('.')"
   ]
  },
  {
   "cell_type": "code",
   "execution_count": 88,
   "id": "3f644609",
   "metadata": {},
   "outputs": [
    {
     "data": {
      "text/plain": [
       "'192#168#10#254'"
      ]
     },
     "execution_count": 88,
     "metadata": {},
     "output_type": "execute_result"
    }
   ],
   "source": [
    "ip='192.168.10.254'\n",
    "ipdata=ip.split('.')\n",
    "'#'.join(ipdata)"
   ]
  },
  {
   "cell_type": "code",
   "execution_count": 89,
   "id": "527c3cc0",
   "metadata": {},
   "outputs": [
    {
     "data": {
      "text/plain": [
       "'prateek@deloitte.com'"
      ]
     },
     "execution_count": 89,
     "metadata": {},
     "output_type": "execute_result"
    }
   ],
   "source": [
    "'@'.join(('prateek','deloitte.com'))"
   ]
  },
  {
   "cell_type": "code",
   "execution_count": 90,
   "id": "370c7633",
   "metadata": {},
   "outputs": [
    {
     "data": {
      "text/plain": [
       "('prateek', '@', 'deloitte.com')"
      ]
     },
     "execution_count": 90,
     "metadata": {},
     "output_type": "execute_result"
    }
   ],
   "source": [
    "s='prateek@deloitte.com'\n",
    "s.partition('@')"
   ]
  },
  {
   "cell_type": "code",
   "execution_count": 91,
   "id": "1c63ad7a",
   "metadata": {},
   "outputs": [
    {
     "data": {
      "text/plain": [
       "('work ', 'is', ' worship')"
      ]
     },
     "execution_count": 91,
     "metadata": {},
     "output_type": "execute_result"
    }
   ],
   "source": [
    "s='work is worship'\n",
    "s.partition('is')"
   ]
  },
  {
   "cell_type": "code",
   "execution_count": 92,
   "id": "9e85a27c",
   "metadata": {},
   "outputs": [
    {
     "data": {
      "text/plain": [
       "['work ', ' worship']"
      ]
     },
     "execution_count": 92,
     "metadata": {},
     "output_type": "execute_result"
    }
   ],
   "source": [
    "s.split('is')"
   ]
  },
  {
   "cell_type": "code",
   "execution_count": 97,
   "id": "dbbb061b",
   "metadata": {},
   "outputs": [
    {
     "data": {
      "text/plain": [
       "('abrakada', 'b', 'ra')"
      ]
     },
     "execution_count": 97,
     "metadata": {},
     "output_type": "execute_result"
    }
   ],
   "source": [
    "'abrakadabra'.rpartition('b')"
   ]
  },
  {
   "cell_type": "code",
   "execution_count": 99,
   "id": "3e61b3d5",
   "metadata": {},
   "outputs": [
    {
     "data": {
      "text/plain": [
       "('a', 'b', 'rakadabra')"
      ]
     },
     "execution_count": 99,
     "metadata": {},
     "output_type": "execute_result"
    }
   ],
   "source": [
    "'abrakadabra'.partition('b')"
   ]
  },
  {
   "cell_type": "code",
   "execution_count": 100,
   "id": "5ac69817",
   "metadata": {},
   "outputs": [
    {
     "data": {
      "text/plain": [
       "('she ', 'is', ' good and she is also beautiful')"
      ]
     },
     "execution_count": 100,
     "metadata": {},
     "output_type": "execute_result"
    }
   ],
   "source": [
    "s='she is good and she is also beautiful'\n",
    "\n",
    "s.partition('is')"
   ]
  },
  {
   "cell_type": "code",
   "execution_count": 101,
   "id": "27d4fb4b",
   "metadata": {},
   "outputs": [
    {
     "data": {
      "text/plain": [
       "('she is good and she ', 'is', ' also beautiful')"
      ]
     },
     "execution_count": 101,
     "metadata": {},
     "output_type": "execute_result"
    }
   ],
   "source": [
    "s.rpartition('is')"
   ]
  },
  {
   "cell_type": "code",
   "execution_count": 102,
   "id": "77d0ff3a",
   "metadata": {},
   "outputs": [],
   "source": [
    "# find and index"
   ]
  },
  {
   "cell_type": "code",
   "execution_count": 105,
   "id": "f0b0d2a6",
   "metadata": {},
   "outputs": [
    {
     "data": {
      "text/plain": [
       "11"
      ]
     },
     "execution_count": 105,
     "metadata": {},
     "output_type": "execute_result"
    }
   ],
   "source": [
    "s='working is fun for some people, and it is not for some'\n",
    "s.find('fun')"
   ]
  },
  {
   "cell_type": "code",
   "execution_count": 106,
   "id": "538b88cf",
   "metadata": {},
   "outputs": [
    {
     "data": {
      "text/plain": [
       "-1"
      ]
     },
     "execution_count": 106,
     "metadata": {},
     "output_type": "execute_result"
    }
   ],
   "source": [
    "s.find('hello')"
   ]
  },
  {
   "cell_type": "code",
   "execution_count": 107,
   "id": "24f3df6b",
   "metadata": {},
   "outputs": [
    {
     "data": {
      "text/plain": [
       "8"
      ]
     },
     "execution_count": 107,
     "metadata": {},
     "output_type": "execute_result"
    }
   ],
   "source": [
    "s.find('is')"
   ]
  },
  {
   "cell_type": "code",
   "execution_count": 108,
   "id": "29f2aaf9",
   "metadata": {},
   "outputs": [
    {
     "data": {
      "text/plain": [
       "39"
      ]
     },
     "execution_count": 108,
     "metadata": {},
     "output_type": "execute_result"
    }
   ],
   "source": [
    "s.rfind('is')"
   ]
  },
  {
   "cell_type": "code",
   "execution_count": 109,
   "id": "30086943",
   "metadata": {},
   "outputs": [
    {
     "data": {
      "text/plain": [
       "8"
      ]
     },
     "execution_count": 109,
     "metadata": {},
     "output_type": "execute_result"
    }
   ],
   "source": [
    "s.index('is')"
   ]
  },
  {
   "cell_type": "code",
   "execution_count": 110,
   "id": "b9ef8885",
   "metadata": {},
   "outputs": [
    {
     "data": {
      "text/plain": [
       "39"
      ]
     },
     "execution_count": 110,
     "metadata": {},
     "output_type": "execute_result"
    }
   ],
   "source": [
    "s.rindex('is')"
   ]
  },
  {
   "cell_type": "code",
   "execution_count": 111,
   "id": "32094429",
   "metadata": {},
   "outputs": [
    {
     "ename": "ValueError",
     "evalue": "substring not found",
     "output_type": "error",
     "traceback": [
      "\u001b[1;31m---------------------------------------------------------------------------\u001b[0m",
      "\u001b[1;31mValueError\u001b[0m                                Traceback (most recent call last)",
      "Input \u001b[1;32mIn [111]\u001b[0m, in \u001b[0;36m<cell line: 1>\u001b[1;34m()\u001b[0m\n\u001b[1;32m----> 1\u001b[0m \u001b[43ms\u001b[49m\u001b[38;5;241;43m.\u001b[39;49m\u001b[43mindex\u001b[49m\u001b[43m(\u001b[49m\u001b[38;5;124;43m'\u001b[39;49m\u001b[38;5;124;43mhello\u001b[39;49m\u001b[38;5;124;43m'\u001b[39;49m\u001b[43m)\u001b[49m\n",
      "\u001b[1;31mValueError\u001b[0m: substring not found"
     ]
    }
   ],
   "source": [
    "s.index('hello')"
   ]
  },
  {
   "cell_type": "code",
   "execution_count": 119,
   "id": "65015a49",
   "metadata": {},
   "outputs": [
    {
     "data": {
      "text/plain": [
       "True"
      ]
     },
     "execution_count": 119,
     "metadata": {},
     "output_type": "execute_result"
    }
   ],
   "source": [
    "'as'.isidentifier() # valid identifier or not"
   ]
  },
  {
   "cell_type": "code",
   "execution_count": 126,
   "id": "21b68d7b",
   "metadata": {},
   "outputs": [
    {
     "data": {
      "text/plain": [
       "'i like India'"
      ]
     },
     "execution_count": 126,
     "metadata": {},
     "output_type": "execute_result"
    }
   ],
   "source": [
    "# replace\n",
    "s='i like USA'\n",
    "s.replace('USA', 'India')"
   ]
  },
  {
   "cell_type": "code",
   "execution_count": 127,
   "id": "397997ba",
   "metadata": {},
   "outputs": [
    {
     "data": {
      "text/plain": [
       "'thwill will not what it is meant!'"
      ]
     },
     "execution_count": 127,
     "metadata": {},
     "output_type": "execute_result"
    }
   ],
   "source": [
    "s='this is not what it is meant!'\n",
    "s.replace('is', 'will', 2)"
   ]
  },
  {
   "cell_type": "code",
   "execution_count": 133,
   "id": "04f491da",
   "metadata": {},
   "outputs": [
    {
     "data": {
      "text/plain": [
       "'this will not what it is meant!'"
      ]
     },
     "execution_count": 133,
     "metadata": {},
     "output_type": "execute_result"
    }
   ],
   "source": [
    "s='this is not what it is meant!'\n",
    "s.replace(' is ', ' will ', 1)"
   ]
  },
  {
   "cell_type": "code",
   "execution_count": 134,
   "id": "a6376e69",
   "metadata": {},
   "outputs": [
    {
     "data": {
      "text/plain": [
       "['first', 'line', 'second', 'line', 'third', 'line']"
      ]
     },
     "execution_count": 134,
     "metadata": {},
     "output_type": "execute_result"
    }
   ],
   "source": [
    "s='''first line\n",
    "second line\n",
    "third line'''\n",
    "s.split()"
   ]
  },
  {
   "cell_type": "code",
   "execution_count": 135,
   "id": "358e1997",
   "metadata": {},
   "outputs": [
    {
     "data": {
      "text/plain": [
       "['first line', 'second line', 'third line']"
      ]
     },
     "execution_count": 135,
     "metadata": {},
     "output_type": "execute_result"
    }
   ],
   "source": [
    "s.splitlines()"
   ]
  },
  {
   "cell_type": "code",
   "execution_count": 137,
   "id": "8b8dfbb7",
   "metadata": {},
   "outputs": [
    {
     "data": {
      "text/plain": [
       "'0000000256'"
      ]
     },
     "execution_count": 137,
     "metadata": {},
     "output_type": "execute_result"
    }
   ],
   "source": [
    "'256'.zfill(10)"
   ]
  },
  {
   "cell_type": "code",
   "execution_count": 138,
   "id": "3f6a5eb0",
   "metadata": {},
   "outputs": [
    {
     "data": {
      "text/plain": [
       "'0000000000001011'"
      ]
     },
     "execution_count": 138,
     "metadata": {},
     "output_type": "execute_result"
    }
   ],
   "source": [
    "'1011'.zfill(16)"
   ]
  },
  {
   "cell_type": "code",
   "execution_count": 141,
   "id": "7227ab05",
   "metadata": {},
   "outputs": [
    {
     "data": {
      "text/plain": [
       "'0000000010111110'"
      ]
     },
     "execution_count": 141,
     "metadata": {},
     "output_type": "execute_result"
    }
   ],
   "source": [
    "'10111110'.zfill(16)"
   ]
  },
  {
   "cell_type": "code",
   "execution_count": 142,
   "id": "f880d0a9",
   "metadata": {},
   "outputs": [
    {
     "data": {
      "text/plain": [
       "'HELLO deloitte'"
      ]
     },
     "execution_count": 142,
     "metadata": {},
     "output_type": "execute_result"
    }
   ],
   "source": [
    "s='hello DELOITTE'\n",
    "s.swapcase()"
   ]
  },
  {
   "cell_type": "code",
   "execution_count": 144,
   "id": "9ec864ab",
   "metadata": {},
   "outputs": [
    {
     "data": {
      "text/plain": [
       "'deloitte            '"
      ]
     },
     "execution_count": 144,
     "metadata": {},
     "output_type": "execute_result"
    }
   ],
   "source": [
    "s='deloitte'\n",
    "s.ljust(20)"
   ]
  },
  {
   "cell_type": "code",
   "execution_count": 145,
   "id": "e427f0fe",
   "metadata": {},
   "outputs": [
    {
     "data": {
      "text/plain": [
       "'            deloitte'"
      ]
     },
     "execution_count": 145,
     "metadata": {},
     "output_type": "execute_result"
    }
   ],
   "source": [
    "s.rjust(20)"
   ]
  },
  {
   "cell_type": "code",
   "execution_count": 146,
   "id": "27737741",
   "metadata": {},
   "outputs": [
    {
     "data": {
      "text/plain": [
       "'                deloitte                '"
      ]
     },
     "execution_count": 146,
     "metadata": {},
     "output_type": "execute_result"
    }
   ],
   "source": [
    "s.center(40)"
   ]
  },
  {
   "cell_type": "code",
   "execution_count": 148,
   "id": "2e27697a",
   "metadata": {},
   "outputs": [
    {
     "data": {
      "text/plain": [
       "b'this is test'"
      ]
     },
     "execution_count": 148,
     "metadata": {},
     "output_type": "execute_result"
    }
   ],
   "source": [
    "s='this is test'\n",
    "\n",
    "s.encode(encoding='ascii')"
   ]
  },
  {
   "cell_type": "code",
   "execution_count": 149,
   "id": "889fae0e",
   "metadata": {},
   "outputs": [
    {
     "data": {
      "text/plain": [
       "b'this is test'"
      ]
     },
     "execution_count": 149,
     "metadata": {},
     "output_type": "execute_result"
    }
   ],
   "source": [
    "s.encode(encoding='UTF-8')"
   ]
  },
  {
   "cell_type": "code",
   "execution_count": 150,
   "id": "0346bc51",
   "metadata": {},
   "outputs": [
    {
     "data": {
      "text/plain": [
       "3"
      ]
     },
     "execution_count": 150,
     "metadata": {},
     "output_type": "execute_result"
    }
   ],
   "source": [
    "s='deloitte is not a company. deloitte is a family. deloitte is everywhere'\n",
    "\n",
    "s.count('deloitte')"
   ]
  },
  {
   "cell_type": "code",
   "execution_count": 152,
   "id": "3d565ccc",
   "metadata": {},
   "outputs": [
    {
     "data": {
      "text/plain": [
       "7"
      ]
     },
     "execution_count": 152,
     "metadata": {},
     "output_type": "execute_result"
    }
   ],
   "source": [
    "s.count('t')"
   ]
  },
  {
   "cell_type": "code",
   "execution_count": 158,
   "id": "7b2a8d41",
   "metadata": {},
   "outputs": [
    {
     "name": "stdout",
     "output_type": "stream",
     "text": [
      "h       e       l       l       o\n",
      "h       e       l       l       o\n",
      "h e l l o\n",
      "h   e   l   l   o\n",
      "h     e     l     l     o\n",
      "h         e         l         l         o\n"
     ]
    }
   ],
   "source": [
    "s='h\\te\\tl\\tl\\to'\n",
    "print(s.expandtabs())\n",
    "print(s.expandtabs(8))\n",
    "\n",
    "print(s.expandtabs(2))\n",
    "print(s.expandtabs(4))\n",
    "print(s.expandtabs(6))\n",
    "print(s.expandtabs(10))"
   ]
  },
  {
   "cell_type": "code",
   "execution_count": 167,
   "id": "7a7e3e4b",
   "metadata": {},
   "outputs": [],
   "source": [
    "# translating data\n",
    "s='Welcome User,NThis is test module!'\n",
    "# create translation table\n",
    "tr_table=s.maketrans('N', '\\n')"
   ]
  },
  {
   "cell_type": "code",
   "execution_count": 168,
   "id": "71d53d5a",
   "metadata": {},
   "outputs": [
    {
     "name": "stdout",
     "output_type": "stream",
     "text": [
      "Welcome User,\n",
      "This is test module!\n"
     ]
    }
   ],
   "source": [
    "print(s.translate(tr_table))"
   ]
  },
  {
   "cell_type": "code",
   "execution_count": 169,
   "id": "48376704",
   "metadata": {},
   "outputs": [
    {
     "name": "stdout",
     "output_type": "stream",
     "text": [
      "hello\n",
      "this is second line\n",
      "this is third line\n"
     ]
    }
   ],
   "source": [
    "s='helloNthis is second lineNthis is third line'\n",
    "print(s.translate(tr_table))"
   ]
  },
  {
   "cell_type": "code",
   "execution_count": 170,
   "id": "a97ee08a",
   "metadata": {},
   "outputs": [
    {
     "data": {
      "text/plain": [
       "False"
      ]
     },
     "execution_count": 170,
     "metadata": {},
     "output_type": "execute_result"
    }
   ],
   "source": [
    "s='this is deloitte campus'\n",
    "s.endswith('deloitte')"
   ]
  },
  {
   "cell_type": "code",
   "execution_count": 171,
   "id": "86e0a587",
   "metadata": {},
   "outputs": [
    {
     "data": {
      "text/plain": [
       "True"
      ]
     },
     "execution_count": 171,
     "metadata": {},
     "output_type": "execute_result"
    }
   ],
   "source": [
    "s.endswith('campus')"
   ]
  },
  {
   "cell_type": "code",
   "execution_count": 172,
   "id": "2e8f5bbb",
   "metadata": {},
   "outputs": [
    {
     "data": {
      "text/plain": [
       "True"
      ]
     },
     "execution_count": 172,
     "metadata": {},
     "output_type": "execute_result"
    }
   ],
   "source": [
    "s.startswith('this')"
   ]
  },
  {
   "cell_type": "code",
   "execution_count": 173,
   "id": "83407ad0",
   "metadata": {},
   "outputs": [
    {
     "name": "stdout",
     "output_type": "stream",
     "text": [
      "Enter Email: prateek@deloitte.com\n"
     ]
    },
    {
     "data": {
      "text/plain": [
       "True"
      ]
     },
     "execution_count": 173,
     "metadata": {},
     "output_type": "execute_result"
    }
   ],
   "source": [
    "email=input('Enter Email: ')\n",
    "email.endswith('.com')"
   ]
  },
  {
   "cell_type": "code",
   "execution_count": 175,
   "id": "c31406a4",
   "metadata": {},
   "outputs": [
    {
     "name": "stdout",
     "output_type": "stream",
     "text": [
      "14\n"
     ]
    }
   ],
   "source": [
    "# find the number of words in a sentence\n",
    "s='this is a test string and can be used for testing count of words'\n",
    "print(len(s.split()))"
   ]
  },
  {
   "cell_type": "code",
   "execution_count": 177,
   "id": "0e20bdbf",
   "metadata": {},
   "outputs": [
    {
     "name": "stdout",
     "output_type": "stream",
     "text": [
      "First: 10\n",
      "Second: 21\n",
      "Third: 25\n"
     ]
    }
   ],
   "source": [
    "# count number of characters in each line of multiple string\n",
    "s='''first line\n",
    "second line is better\n",
    "third line is not so good'''\n",
    "print('First:',len(s.splitlines()[0]))\n",
    "print('Second:',len(s.splitlines()[1]))\n",
    "print('Third:',len(s.splitlines()[2]))"
   ]
  },
  {
   "cell_type": "code",
   "execution_count": 178,
   "id": "12c4985f",
   "metadata": {},
   "outputs": [
    {
     "name": "stdout",
     "output_type": "stream",
     "text": [
      "First: 10\n",
      "Second: 21\n",
      "Third: 25\n"
     ]
    }
   ],
   "source": [
    "result=s.splitlines()\n",
    "print('First:',len(result[0]))\n",
    "print('Second:',len(result[1]))\n",
    "print('Third:',len(result[2]))"
   ]
  },
  {
   "cell_type": "code",
   "execution_count": 187,
   "id": "6a05b661",
   "metadata": {},
   "outputs": [
    {
     "name": "stdout",
     "output_type": "stream",
     "text": [
      "a 1\n",
      "e 6\n",
      "i 6\n",
      "o 4\n",
      "u 0\n"
     ]
    }
   ],
   "source": [
    "# find freq for each vowel in given string\n",
    "s1='peter piper is looking to have pipe for piper pit'\n",
    "print('a',s1.lower().count('a'))\n",
    "print('e',s1.lower().count('e'))\n",
    "print('i',s1.lower().count('i'))\n",
    "print('o',s1.lower().count('o'))\n",
    "print('u',s1.lower().count('u'))"
   ]
  },
  {
   "cell_type": "code",
   "execution_count": 198,
   "id": "c467a361",
   "metadata": {},
   "outputs": [
    {
     "name": "stdout",
     "output_type": "stream",
     "text": [
      "11\n"
     ]
    }
   ],
   "source": [
    "# find number of words starts with letter 'b'\n",
    "s2='''betty bring some bitter butter\n",
    "betty bit the bitter butter\n",
    "to make the bitter butter better'''\n",
    "s3=' '+s2\n",
    "s3=s3.replace(' b','$')\n",
    "s3=s3.replace('\\nb', '$')\n",
    "\n",
    "print(s3.replace(' b','$').count('$'))"
   ]
  },
  {
   "cell_type": "markdown",
   "id": "674d8d34",
   "metadata": {},
   "source": [
    "#### ord() and chr() functions"
   ]
  },
  {
   "cell_type": "code",
   "execution_count": 200,
   "id": "490e7102",
   "metadata": {},
   "outputs": [
    {
     "data": {
      "text/plain": [
       "65"
      ]
     },
     "execution_count": 200,
     "metadata": {},
     "output_type": "execute_result"
    }
   ],
   "source": [
    "ord('A') # ascii value 8 bit"
   ]
  },
  {
   "cell_type": "code",
   "execution_count": 201,
   "id": "eed2a068",
   "metadata": {},
   "outputs": [
    {
     "data": {
      "text/plain": [
       "'a'"
      ]
     },
     "execution_count": 201,
     "metadata": {},
     "output_type": "execute_result"
    }
   ],
   "source": [
    "chr(97)"
   ]
  },
  {
   "cell_type": "code",
   "execution_count": 209,
   "id": "101d16da",
   "metadata": {},
   "outputs": [
    {
     "name": "stdout",
     "output_type": "stream",
     "text": [
      "Prateek\n",
      "Upper Case:  True\n",
      "Lower Case:  False\n"
     ]
    }
   ],
   "source": [
    "# using only ord() function find whether entered character by user \n",
    "# is upper case or not\n",
    "c=input()\n",
    "c=c[0]\n",
    "print('Upper Case: ', ord(c)>64 and ord(c)<91)\n",
    "print('Lower Case: ', ord(c)>96 and ord(c)<123)"
   ]
  },
  {
   "cell_type": "markdown",
   "id": "2e091ee2",
   "metadata": {},
   "source": [
    "##### range() function"
   ]
  },
  {
   "cell_type": "code",
   "execution_count": 210,
   "id": "f332387e",
   "metadata": {},
   "outputs": [],
   "source": [
    "# range(N) # enumerates numbers from 0 to N-1\n",
    "# range(N, M) # enumerates nubers from N to M-1\n",
    "# range(N,M,k) # enumerates numbers form n to M-1 with increment of k"
   ]
  },
  {
   "cell_type": "code",
   "execution_count": 211,
   "id": "3c22c634",
   "metadata": {},
   "outputs": [
    {
     "name": "stdout",
     "output_type": "stream",
     "text": [
      "range(0, 10)\n"
     ]
    }
   ],
   "source": [
    "print(range(10)) # creates iterable object\n",
    "# 0,1,2,3,4,5,6,7,8,9"
   ]
  },
  {
   "cell_type": "code",
   "execution_count": 212,
   "id": "d01fbc48",
   "metadata": {},
   "outputs": [
    {
     "data": {
      "text/plain": [
       "True"
      ]
     },
     "execution_count": 212,
     "metadata": {},
     "output_type": "execute_result"
    }
   ],
   "source": [
    "5 in range(10) # 0,1,2,3,4,5,6,7,8,9"
   ]
  },
  {
   "cell_type": "code",
   "execution_count": 213,
   "id": "176a2a83",
   "metadata": {},
   "outputs": [
    {
     "data": {
      "text/plain": [
       "True"
      ]
     },
     "execution_count": 213,
     "metadata": {},
     "output_type": "execute_result"
    }
   ],
   "source": [
    "25 in range(10,30) # 10,11,12,13.....29"
   ]
  },
  {
   "cell_type": "code",
   "execution_count": 215,
   "id": "6823adc0",
   "metadata": {},
   "outputs": [
    {
     "data": {
      "text/plain": [
       "False"
      ]
     },
     "execution_count": 215,
     "metadata": {},
     "output_type": "execute_result"
    }
   ],
   "source": [
    "25 in range(10,30,2) # 10,12,14,16,.....28"
   ]
  },
  {
   "cell_type": "code",
   "execution_count": 216,
   "id": "885dfbcd",
   "metadata": {},
   "outputs": [
    {
     "name": "stdout",
     "output_type": "stream",
     "text": [
      "Prateek\n",
      "Upper Case:  True\n",
      "Lower Case:  False\n"
     ]
    }
   ],
   "source": [
    "# using only ord() function find whether entered character by user \n",
    "# is upper case or not\n",
    "c=input()\n",
    "c=c[0]\n",
    "print('Upper Case: ', ord(c) in range(65,91))\n",
    "print('Lower Case: ', ord(c) in range(97,123))"
   ]
  },
  {
   "cell_type": "code",
   "execution_count": 221,
   "id": "843672f9",
   "metadata": {},
   "outputs": [
    {
     "name": "stdout",
     "output_type": "stream",
     "text": [
      "j\n",
      "Even Position Character:  True\n"
     ]
    }
   ],
   "source": [
    "# find whether a given letter is at even position in alphabets or not\n",
    "z=input().upper()\n",
    "print('Even Position Character: ', ord(z) in range(66,91,2))"
   ]
  },
  {
   "cell_type": "code",
   "execution_count": 219,
   "id": "582af260",
   "metadata": {},
   "outputs": [
    {
     "name": "stdout",
     "output_type": "stream",
     "text": [
      "P\n",
      "Even Position Character:  True\n"
     ]
    }
   ],
   "source": [
    "s='BDFHJLNPRTVXZ'\n",
    "z=input().upper()\n",
    "print('Even Position Character: ', z in s)"
   ]
  },
  {
   "cell_type": "markdown",
   "id": "c4c98eb6",
   "metadata": {},
   "source": [
    "##### some more inbuilt functions"
   ]
  },
  {
   "cell_type": "code",
   "execution_count": 223,
   "id": "936b4fea",
   "metadata": {},
   "outputs": [
    {
     "data": {
      "text/plain": [
       "56"
      ]
     },
     "execution_count": 223,
     "metadata": {},
     "output_type": "execute_result"
    }
   ],
   "source": [
    "abs(-56) #absolute value"
   ]
  },
  {
   "cell_type": "code",
   "execution_count": 224,
   "id": "c4139781",
   "metadata": {},
   "outputs": [
    {
     "data": {
      "text/plain": [
       "'0b101101'"
      ]
     },
     "execution_count": 224,
     "metadata": {},
     "output_type": "execute_result"
    }
   ],
   "source": [
    "bin(45) # returns binary of number"
   ]
  },
  {
   "cell_type": "code",
   "execution_count": 225,
   "id": "d1f7a008",
   "metadata": {},
   "outputs": [
    {
     "data": {
      "text/plain": [
       "'0x315'"
      ]
     },
     "execution_count": 225,
     "metadata": {},
     "output_type": "execute_result"
    }
   ],
   "source": [
    "hex(789) # hexadecimal value"
   ]
  },
  {
   "cell_type": "code",
   "execution_count": 226,
   "id": "49ee45f5",
   "metadata": {},
   "outputs": [
    {
     "data": {
      "text/plain": [
       "(7, 2)"
      ]
     },
     "execution_count": 226,
     "metadata": {},
     "output_type": "execute_result"
    }
   ],
   "source": [
    "divmod(23, 3) # ret division and remainder for agr1 div by arg2"
   ]
  },
  {
   "cell_type": "code",
   "execution_count": 228,
   "id": "6c92b512",
   "metadata": {},
   "outputs": [
    {
     "name": "stdout",
     "output_type": "stream",
     "text": [
      "7,2\n"
     ]
    }
   ],
   "source": [
    "print(23//3, 23%3, sep=',')"
   ]
  },
  {
   "cell_type": "code",
   "execution_count": 229,
   "id": "4e50398c",
   "metadata": {},
   "outputs": [
    {
     "data": {
      "text/plain": [
       "-4301791302677717694"
      ]
     },
     "execution_count": 229,
     "metadata": {},
     "output_type": "execute_result"
    }
   ],
   "source": [
    "s='Prateek'\n",
    "hash(s)"
   ]
  },
  {
   "cell_type": "code",
   "execution_count": 230,
   "id": "a48dae2d",
   "metadata": {},
   "outputs": [
    {
     "data": {
      "text/plain": [
       "1291272085159543573"
      ]
     },
     "execution_count": 230,
     "metadata": {},
     "output_type": "execute_result"
    }
   ],
   "source": [
    "num=789.56\n",
    "hash(num)"
   ]
  },
  {
   "cell_type": "code",
   "execution_count": 231,
   "id": "7e1ae57d",
   "metadata": {},
   "outputs": [
    {
     "data": {
      "text/plain": [
       "89"
      ]
     },
     "execution_count": 231,
     "metadata": {},
     "output_type": "execute_result"
    }
   ],
   "source": [
    "max((23,3,5,7,56,89,12))"
   ]
  },
  {
   "cell_type": "code",
   "execution_count": 232,
   "id": "7f4ca8fd",
   "metadata": {},
   "outputs": [
    {
     "data": {
      "text/plain": [
       "3"
      ]
     },
     "execution_count": 232,
     "metadata": {},
     "output_type": "execute_result"
    }
   ],
   "source": [
    "min((23,3,5,7,56,89,12))"
   ]
  },
  {
   "cell_type": "code",
   "execution_count": 233,
   "id": "b27e5793",
   "metadata": {},
   "outputs": [
    {
     "data": {
      "text/plain": [
       "'0o116'"
      ]
     },
     "execution_count": 233,
     "metadata": {},
     "output_type": "execute_result"
    }
   ],
   "source": [
    "oct(78) # converts to octal"
   ]
  },
  {
   "cell_type": "code",
   "execution_count": 234,
   "id": "fc50a8e6",
   "metadata": {},
   "outputs": [
    {
     "data": {
      "text/plain": [
       "729"
      ]
     },
     "execution_count": 234,
     "metadata": {},
     "output_type": "execute_result"
    }
   ],
   "source": [
    "pow(3,6)"
   ]
  },
  {
   "cell_type": "code",
   "execution_count": 237,
   "id": "7e0dc58e",
   "metadata": {},
   "outputs": [
    {
     "name": "stdout",
     "output_type": "stream",
     "text": [
      "<memory at 0x0000023B8B5A2C40>\n",
      "68\n",
      "101\n"
     ]
    }
   ],
   "source": [
    "s=b'Deloitte'\n",
    "x=memoryview(s)\n",
    "print(x)\n",
    "print(x[0])\n",
    "print(x[1])"
   ]
  },
  {
   "cell_type": "code",
   "execution_count": 238,
   "id": "a828b45a",
   "metadata": {},
   "outputs": [
    {
     "data": {
      "text/plain": [
       "57"
      ]
     },
     "execution_count": 238,
     "metadata": {},
     "output_type": "execute_result"
    }
   ],
   "source": [
    "round(56.98)"
   ]
  },
  {
   "cell_type": "code",
   "execution_count": 239,
   "id": "9c43f5cd",
   "metadata": {},
   "outputs": [
    {
     "data": {
      "text/plain": [
       "56"
      ]
     },
     "execution_count": 239,
     "metadata": {},
     "output_type": "execute_result"
    }
   ],
   "source": [
    "round(56.23)"
   ]
  },
  {
   "cell_type": "code",
   "execution_count": 240,
   "id": "94139535",
   "metadata": {},
   "outputs": [
    {
     "data": {
      "text/plain": [
       "1275"
      ]
     },
     "execution_count": 240,
     "metadata": {},
     "output_type": "execute_result"
    }
   ],
   "source": [
    "sum(range(51))"
   ]
  },
  {
   "cell_type": "code",
   "execution_count": 241,
   "id": "83e92196",
   "metadata": {
    "collapsed": true
   },
   "outputs": [
    {
     "name": "stdout",
     "output_type": "stream",
     "text": [
      "\n",
      "Welcome to Python 3.9's help utility!\n",
      "\n",
      "If this is your first time using Python, you should definitely check out\n",
      "the tutorial on the Internet at https://docs.python.org/3.9/tutorial/.\n",
      "\n",
      "Enter the name of any module, keyword, or topic to get help on writing\n",
      "Python programs and using Python modules.  To quit this help utility and\n",
      "return to the interpreter, just type \"quit\".\n",
      "\n",
      "To get a list of available modules, keywords, symbols, or topics, type\n",
      "\"modules\", \"keywords\", \"symbols\", or \"topics\".  Each module also comes\n",
      "with a one-line summary of what it does; to list the modules whose name\n",
      "or summary contain a given string such as \"spam\", type \"modules spam\".\n",
      "\n",
      "help> pow\n",
      "Help on built-in function pow in module builtins:\n",
      "\n",
      "pow(base, exp, mod=None)\n",
      "    Equivalent to base**exp with 2 arguments or base**exp % mod with 3 arguments\n",
      "    \n",
      "    Some types, such as ints, are able to use a more efficient algorithm when\n",
      "    invoked using the three argument form.\n",
      "\n",
      "help> exit\n",
      "No Python documentation found for 'exit'.\n",
      "Use help() to get the interactive help utility.\n",
      "Use help(str) for help on the str class.\n",
      "\n",
      "\n",
      "You are now leaving help and returning to the Python interpreter.\n",
      "If you want to ask for help on a particular object directly from the\n",
      "interpreter, you can type \"help(object)\".  Executing \"help('string')\"\n",
      "has the same effect as typing a particular string at the help> prompt.\n"
     ]
    }
   ],
   "source": [
    "help()"
   ]
  },
  {
   "cell_type": "code",
   "execution_count": 243,
   "id": "1d357938",
   "metadata": {},
   "outputs": [
    {
     "data": {
      "text/plain": [
       "237"
      ]
     },
     "execution_count": 243,
     "metadata": {},
     "output_type": "execute_result"
    }
   ],
   "source": [
    "sum((23,45,4,89,76))"
   ]
  },
  {
   "cell_type": "code",
   "execution_count": 244,
   "id": "088f2122",
   "metadata": {},
   "outputs": [
    {
     "data": {
      "text/plain": [
       "213.5"
      ]
     },
     "execution_count": 244,
     "metadata": {},
     "output_type": "execute_result"
    }
   ],
   "source": [
    "# eval()\n",
    "\n",
    "eval('23+56*3+45/2')"
   ]
  },
  {
   "cell_type": "code",
   "execution_count": 246,
   "id": "6eb08076",
   "metadata": {},
   "outputs": [
    {
     "name": "stdout",
     "output_type": "stream",
     "text": [
      "23+5-6**2\n",
      "-8\n"
     ]
    }
   ],
   "source": [
    "print(eval(input()))"
   ]
  },
  {
   "cell_type": "code",
   "execution_count": 248,
   "id": "88f057cf",
   "metadata": {},
   "outputs": [
    {
     "name": "stdout",
     "output_type": "stream",
     "text": [
      "0\n"
     ]
    }
   ],
   "source": [
    "x=iter(range(10))\n",
    "print(next(x))"
   ]
  },
  {
   "cell_type": "code",
   "execution_count": 249,
   "id": "ad1efede",
   "metadata": {},
   "outputs": [
    {
     "data": {
      "text/plain": [
       "1"
      ]
     },
     "execution_count": 249,
     "metadata": {},
     "output_type": "execute_result"
    }
   ],
   "source": [
    "next(x)"
   ]
  },
  {
   "cell_type": "code",
   "execution_count": 250,
   "id": "ef3caa90",
   "metadata": {},
   "outputs": [
    {
     "data": {
      "text/plain": [
       "2"
      ]
     },
     "execution_count": 250,
     "metadata": {},
     "output_type": "execute_result"
    }
   ],
   "source": [
    "next(x)"
   ]
  },
  {
   "cell_type": "code",
   "execution_count": 251,
   "id": "e80af78e",
   "metadata": {},
   "outputs": [
    {
     "name": "stdout",
     "output_type": "stream",
     "text": [
      "<memory at 0x0000023B8B5A2C40>\n"
     ]
    }
   ],
   "source": [
    "# memoryview\n",
    "\n",
    "s=b'Hello India'\n",
    "\n",
    "x=memoryview(s)\n",
    "print(x) # memoryview object"
   ]
  },
  {
   "cell_type": "code",
   "execution_count": 252,
   "id": "d47ccca3",
   "metadata": {},
   "outputs": [
    {
     "name": "stdout",
     "output_type": "stream",
     "text": [
      "72\n"
     ]
    }
   ],
   "source": [
    "print(x[0]) # unicode repr of data element"
   ]
  },
  {
   "cell_type": "code",
   "execution_count": 253,
   "id": "0b17b5a0",
   "metadata": {},
   "outputs": [
    {
     "data": {
      "text/plain": [
       "108"
      ]
     },
     "execution_count": 253,
     "metadata": {},
     "output_type": "execute_result"
    }
   ],
   "source": [
    "x[3]"
   ]
  },
  {
   "cell_type": "code",
   "execution_count": 255,
   "id": "a123259e",
   "metadata": {},
   "outputs": [
    {
     "data": {
      "text/plain": [
       "97"
      ]
     },
     "execution_count": 255,
     "metadata": {},
     "output_type": "execute_result"
    }
   ],
   "source": [
    "x[10]"
   ]
  },
  {
   "cell_type": "code",
   "execution_count": 258,
   "id": "da5d20b7",
   "metadata": {},
   "outputs": [
    {
     "name": "stdout",
     "output_type": "stream",
     "text": [
      "<memory at 0x0000023B8B5A2C40>\n",
      "50\n"
     ]
    }
   ],
   "source": [
    "v=b'23.56'\n",
    "x=memoryview(v)\n",
    "print(x)\n",
    "print(x[0])"
   ]
  },
  {
   "cell_type": "code",
   "execution_count": null,
   "id": "f2667fa7",
   "metadata": {},
   "outputs": [],
   "source": []
  }
 ],
 "metadata": {
  "kernelspec": {
   "display_name": "Python 3 (ipykernel)",
   "language": "python",
   "name": "python3"
  },
  "language_info": {
   "codemirror_mode": {
    "name": "ipython",
    "version": 3
   },
   "file_extension": ".py",
   "mimetype": "text/x-python",
   "name": "python",
   "nbconvert_exporter": "python",
   "pygments_lexer": "ipython3",
   "version": "3.9.12"
  }
 },
 "nbformat": 4,
 "nbformat_minor": 5
}
