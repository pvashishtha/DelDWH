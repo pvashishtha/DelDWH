{
 "cells": [
  {
   "cell_type": "markdown",
   "id": "0152de91",
   "metadata": {},
   "source": [
    "## Python Basics Day 4\n"
   ]
  },
  {
   "cell_type": "markdown",
   "id": "cc15fadf",
   "metadata": {},
   "source": [
    "### Question:\n",
    "Write a function that accepts N as integer parameter and generates a N character long CAPTCHA code containing both digits, upper case alphabets and lower case alphabets."
   ]
  },
  {
   "cell_type": "code",
   "execution_count": 23,
   "id": "c0dbf6d1",
   "metadata": {},
   "outputs": [
    {
     "data": {
      "text/plain": [
       "'SP4j4z'"
      ]
     },
     "execution_count": 23,
     "metadata": {},
     "output_type": "execute_result"
    }
   ],
   "source": [
    "# Hint: Use Random Module\n",
    "\n",
    "def captcha(N):\n",
    "    import random\n",
    "    digits=[x for x in range(10)]\n",
    "    lower_alpha=[chr(ch) for ch in range(65, 91)]\n",
    "    upper_alpha=[chr(ch) for ch in range(97, 123)]\n",
    "    char_set=digits+lower_alpha+upper_alpha\n",
    "    captcha_code=''\n",
    "    for i in range(N):\n",
    "        captcha_code+=str(random.choice(char_set))\n",
    "    return captcha_code\n",
    "captcha(6)"
   ]
  },
  {
   "cell_type": "code",
   "execution_count": 31,
   "id": "f33be23d",
   "metadata": {},
   "outputs": [
    {
     "data": {
      "text/plain": [
       "'0K2K56'"
      ]
     },
     "execution_count": 31,
     "metadata": {},
     "output_type": "execute_result"
    }
   ],
   "source": [
    "def captcha(N):\n",
    "    import random\n",
    "    import string\n",
    "    digits=[x for x in range(10)]\n",
    "    lower_alpha=string.ascii_lowercase\n",
    "    upper_alpha=string.ascii_uppercase\n",
    "    char_set=[digits,lower_alpha,upper_alpha]\n",
    "    captcha_code=''\n",
    "    for i in range(N):\n",
    "        element=random.choice([0,1,2])\n",
    "        captcha_code+=str(random.choice(char_set[element]))\n",
    "    return captcha_code\n",
    "captcha(6)"
   ]
  },
  {
   "cell_type": "markdown",
   "id": "f7ec6c3a",
   "metadata": {},
   "source": [
    "### File Handling"
   ]
  },
  {
   "cell_type": "code",
   "execution_count": null,
   "id": "82c93c57",
   "metadata": {},
   "outputs": [],
   "source": [
    "# IOCTL\n",
    "'''\n",
    "opena file- open()\n",
    "\n",
    "MODES   simple   |  extended   |      binary    |  functions | cursor\n",
    "-------------------------------------------------------------\n",
    "\n",
    "# read -  'r'    |     'r+'    |   'rb' or 'rb+' |   read()  | begin\n",
    "\n",
    "# write-  'w'    |     'w+'    |   'wb' or 'wb+' |   write() | begin\n",
    "\n",
    "# append- 'a'    |     'a+'    |   'ab' or 'ab+' |   write() | end\n",
    "\n",
    "moving cursor- seek()\n",
    "get cursor position- tell()\n",
    "commit_data- flush()\n",
    "reading through lines- readline() and readlines()\n",
    "\n",
    "close a file- close()\n",
    "'''"
   ]
  },
  {
   "cell_type": "code",
   "execution_count": 43,
   "id": "99872b72",
   "metadata": {},
   "outputs": [
    {
     "data": {
      "text/plain": [
       "22"
      ]
     },
     "execution_count": 43,
     "metadata": {},
     "output_type": "execute_result"
    }
   ],
   "source": [
    "# open('file_name/path', 'mode')\n",
    "# if file exists, opens a file\n",
    "# if file does not exist, creates new blank file(if write mode)\n",
    "# returns file_handler\n",
    "\n",
    "file=open('myfile.txt', 'w')\n",
    "\n",
    "#write(data)\n",
    "file.write('Welcome to DELOITTE!!!')\n"
   ]
  },
  {
   "cell_type": "code",
   "execution_count": 44,
   "id": "0f5957d6",
   "metadata": {},
   "outputs": [
    {
     "data": {
      "text/plain": [
       "12"
      ]
     },
     "execution_count": 44,
     "metadata": {},
     "output_type": "execute_result"
    }
   ],
   "source": [
    "file.flush()\n",
    "file.write('\\nSecond Line')\n"
   ]
  },
  {
   "cell_type": "code",
   "execution_count": 45,
   "id": "56f4e412",
   "metadata": {},
   "outputs": [
    {
     "data": {
      "text/plain": [
       "11"
      ]
     },
     "execution_count": 45,
     "metadata": {},
     "output_type": "execute_result"
    }
   ],
   "source": [
    "file.flush()\n",
    "file.write('\\nThird line')"
   ]
  },
  {
   "cell_type": "code",
   "execution_count": 46,
   "id": "0cc2984d",
   "metadata": {},
   "outputs": [],
   "source": [
    "file.close()"
   ]
  },
  {
   "cell_type": "code",
   "execution_count": 47,
   "id": "c70309fd",
   "metadata": {},
   "outputs": [
    {
     "name": "stdout",
     "output_type": "stream",
     "text": [
      "Welcome to DELOITTE!!!\n",
      "Second Line\n",
      "Third line\n"
     ]
    }
   ],
   "source": [
    "# reading\n",
    "#read()\n",
    "#read(bytes)\n",
    "file=open('myfile.txt', 'r')\n",
    "data=file.read()\n",
    "file.close()\n",
    "print(data)"
   ]
  },
  {
   "cell_type": "code",
   "execution_count": 54,
   "id": "1928ad10",
   "metadata": {},
   "outputs": [
    {
     "name": "stdout",
     "output_type": "stream",
     "text": [
      "Welcome to DELOITTE!!!\n"
     ]
    }
   ],
   "source": [
    "file=open('myfile.txt', 'r')\n",
    "data=file.read(22)\n",
    "print(data)"
   ]
  },
  {
   "cell_type": "code",
   "execution_count": 55,
   "id": "e80f4d80",
   "metadata": {},
   "outputs": [
    {
     "data": {
      "text/plain": [
       "22"
      ]
     },
     "execution_count": 55,
     "metadata": {},
     "output_type": "execute_result"
    }
   ],
   "source": [
    "file.tell()"
   ]
  },
  {
   "cell_type": "code",
   "execution_count": 56,
   "id": "89bd2790",
   "metadata": {},
   "outputs": [
    {
     "name": "stdout",
     "output_type": "stream",
     "text": [
      "\n",
      "Second Line\n"
     ]
    }
   ],
   "source": [
    "data=file.read(12)\n",
    "print(data)"
   ]
  },
  {
   "cell_type": "code",
   "execution_count": 57,
   "id": "12a9be81",
   "metadata": {},
   "outputs": [
    {
     "name": "stdout",
     "output_type": "stream",
     "text": [
      "\n",
      "Third line\n"
     ]
    }
   ],
   "source": [
    "data=file.read(11)\n",
    "print(data)\n",
    "file.close()"
   ]
  },
  {
   "cell_type": "code",
   "execution_count": 60,
   "id": "ae83884b",
   "metadata": {},
   "outputs": [
    {
     "name": "stdout",
     "output_type": "stream",
     "text": [
      "Welcome to DELOITTE!!!\n",
      "Second Line\n",
      "Third line"
     ]
    }
   ],
   "source": [
    "import time\n",
    "file=open('myfile.txt','r')\n",
    "char=file.read(1)\n",
    "while char!='':\n",
    "    print(char, end='')\n",
    "    char=file.read(1)\n",
    "    time.sleep(0.3)\n",
    "else:\n",
    "    file.close()"
   ]
  },
  {
   "cell_type": "code",
   "execution_count": 65,
   "id": "04422725",
   "metadata": {},
   "outputs": [
    {
     "name": "stdout",
     "output_type": "stream",
     "text": [
      "Welcome to DELOITTE!!!\n",
      "\n"
     ]
    }
   ],
   "source": [
    "# readline()\n",
    "file=open('myfile.txt','r')\n",
    "line=file.readline()\n",
    "print(line)"
   ]
  },
  {
   "cell_type": "code",
   "execution_count": 66,
   "id": "012db86e",
   "metadata": {},
   "outputs": [
    {
     "name": "stdout",
     "output_type": "stream",
     "text": [
      "Second Line\n",
      "\n"
     ]
    }
   ],
   "source": [
    "line=file.readline()\n",
    "print(line)"
   ]
  },
  {
   "cell_type": "code",
   "execution_count": 67,
   "id": "5812c1df",
   "metadata": {},
   "outputs": [
    {
     "name": "stdout",
     "output_type": "stream",
     "text": [
      "Third line\n"
     ]
    }
   ],
   "source": [
    "line=file.readline()\n",
    "print(line)"
   ]
  },
  {
   "cell_type": "code",
   "execution_count": 68,
   "id": "cead0bc2",
   "metadata": {},
   "outputs": [
    {
     "name": "stdout",
     "output_type": "stream",
     "text": [
      "\n"
     ]
    }
   ],
   "source": [
    "line=file.readline()\n",
    "print(line)"
   ]
  },
  {
   "cell_type": "code",
   "execution_count": 64,
   "id": "2d449a35",
   "metadata": {},
   "outputs": [],
   "source": [
    "file.close()"
   ]
  },
  {
   "cell_type": "code",
   "execution_count": 71,
   "id": "0fccd300",
   "metadata": {},
   "outputs": [
    {
     "name": "stdout",
     "output_type": "stream",
     "text": [
      "Welcome to DELOITTE!!!\n",
      "\n",
      "Second Line\n",
      "\n",
      "Third line\n"
     ]
    }
   ],
   "source": [
    "# readline()\n",
    "file=open('myfile.txt','r')\n",
    "while True:\n",
    "    line=file.readline()\n",
    "    if line=='':\n",
    "        break\n",
    "    print(line)\n",
    "    time.sleep(0.3)\n",
    "else:\n",
    "    file.close()"
   ]
  },
  {
   "cell_type": "code",
   "execution_count": 72,
   "id": "0e60250a",
   "metadata": {},
   "outputs": [
    {
     "name": "stdout",
     "output_type": "stream",
     "text": [
      "['Welcome to DELOITTE!!!\\n', 'Second Line\\n', 'Third line']\n"
     ]
    }
   ],
   "source": [
    "# readlines() returns list of file text lines\n",
    "\n",
    "file=open('myfile.txt','r')\n",
    "data=file.readlines()\n",
    "print(data)\n",
    "file.close()"
   ]
  },
  {
   "cell_type": "code",
   "execution_count": 75,
   "id": "0fa40572",
   "metadata": {},
   "outputs": [
    {
     "name": "stdout",
     "output_type": "stream",
     "text": [
      "Lines: 3\n",
      "Words at Line1: 3\n",
      "Words at Line2: 2\n",
      "Words at Line3: 2\n",
      "Total Vowels: 15\n"
     ]
    }
   ],
   "source": [
    "# read a file and return number of lines, number of words in each line\n",
    "# and number of vowels\n",
    "\n",
    "def file_stat(filename):\n",
    "    file=open(filename, 'r')\n",
    "    word_count=[]\n",
    "    vowel_count=0\n",
    "    while True:\n",
    "        line=file.readline()\n",
    "        if line=='':\n",
    "            break\n",
    "        else:\n",
    "            word_count.append(len(line.split()))\n",
    "            vowel_count+=sum([1 if ch.lower() in 'aeiou' else 0 \n",
    "                             for ch in line])\n",
    "    return (len(word_count), word_count, vowel_count)\n",
    "\n",
    "stats=file_stat('myfile.txt')\n",
    "print(f'Lines: {stats[0]}')\n",
    "for x in range(len(stats[1])):\n",
    "    print(f'Words at Line{x+1}: {stats[1][x]}')\n",
    "print(f'Total Vowels: {stats[2]}')"
   ]
  },
  {
   "cell_type": "code",
   "execution_count": 138,
   "id": "63365064",
   "metadata": {},
   "outputs": [],
   "source": [
    "# w+ mode\n",
    "\n",
    "file=open('myfile.txt','w+')\n",
    "file.write('text line 1')\n",
    "file.flush()"
   ]
  },
  {
   "cell_type": "code",
   "execution_count": 139,
   "id": "29e3b0db",
   "metadata": {},
   "outputs": [
    {
     "name": "stdout",
     "output_type": "stream",
     "text": [
      "text line 1\n"
     ]
    }
   ],
   "source": [
    "file.seek(0)\n",
    "print(file.read())"
   ]
  },
  {
   "cell_type": "code",
   "execution_count": 140,
   "id": "71b7ae8b",
   "metadata": {},
   "outputs": [],
   "source": [
    "file.write('\\ntext line 2')\n",
    "file.flush()"
   ]
  },
  {
   "cell_type": "code",
   "execution_count": 141,
   "id": "64fee4a9",
   "metadata": {},
   "outputs": [
    {
     "name": "stdout",
     "output_type": "stream",
     "text": [
      "text line 2\n"
     ]
    }
   ],
   "source": [
    "file.seek(13)\n",
    "print(file.read())"
   ]
  },
  {
   "cell_type": "code",
   "execution_count": 142,
   "id": "60480ead",
   "metadata": {},
   "outputs": [],
   "source": [
    "file.close()"
   ]
  },
  {
   "cell_type": "code",
   "execution_count": 143,
   "id": "96633110",
   "metadata": {},
   "outputs": [
    {
     "name": "stdout",
     "output_type": "stream",
     "text": [
      "text line 1\n",
      "text line 2\n"
     ]
    }
   ],
   "source": [
    "# r+\n",
    "\n",
    "file=open('myfile.txt','r+')\n",
    "print(file.read())"
   ]
  },
  {
   "cell_type": "code",
   "execution_count": 144,
   "id": "9651364f",
   "metadata": {},
   "outputs": [
    {
     "name": "stdout",
     "output_type": "stream",
     "text": [
      "text line 1\n",
      "text line 2\n",
      "new data line\n"
     ]
    }
   ],
   "source": [
    "file.write('\\nnew data line')\n",
    "file.seek(0)\n",
    "print(file.read())"
   ]
  },
  {
   "cell_type": "code",
   "execution_count": 145,
   "id": "124e0c70",
   "metadata": {},
   "outputs": [
    {
     "name": "stdout",
     "output_type": "stream",
     "text": [
      "text line 1\n",
      "############\n",
      "new data line\n"
     ]
    }
   ],
   "source": [
    "file.seek(12)\n",
    "file.write('#'*12)\n",
    "file.seek(0)\n",
    "print(file.read())"
   ]
  },
  {
   "cell_type": "code",
   "execution_count": 146,
   "id": "282f2c11",
   "metadata": {},
   "outputs": [],
   "source": [
    "file.close()"
   ]
  },
  {
   "cell_type": "code",
   "execution_count": 147,
   "id": "4ed71320",
   "metadata": {},
   "outputs": [],
   "source": [
    "# append mode a and a+\n",
    "file=open('myfile.txt', 'a')\n",
    "file.write('this should be text line 4')\n",
    "file.flush()"
   ]
  },
  {
   "cell_type": "code",
   "execution_count": 148,
   "id": "f96e9979",
   "metadata": {},
   "outputs": [],
   "source": [
    "file.write('\\n file text lilne 5')\n",
    "file.flush()\n",
    "file.close()"
   ]
  },
  {
   "cell_type": "code",
   "execution_count": 149,
   "id": "28d9fc4e",
   "metadata": {},
   "outputs": [],
   "source": [
    "file=open('myfile.txt', 'a+')\n",
    "file.write('\\nLine number 6 is added successfully!!!')\n",
    "file.flush()"
   ]
  },
  {
   "cell_type": "code",
   "execution_count": 150,
   "id": "1440e5e4",
   "metadata": {},
   "outputs": [
    {
     "name": "stdout",
     "output_type": "stream",
     "text": [
      "text line 1\n",
      "############\n",
      "new data linethis should be text line 4\n",
      " file text lilne 5\n",
      "Line number 6 is added successfully!!!\n"
     ]
    }
   ],
   "source": [
    "file.seek(0)\n",
    "print(file.read())\n",
    "file.close()"
   ]
  },
  {
   "cell_type": "code",
   "execution_count": 153,
   "id": "1055d25b",
   "metadata": {
    "collapsed": true
   },
   "outputs": [
    {
     "name": "stdout",
     "output_type": "stream",
     "text": [
      "The sky above is pink\n",
      "\n",
      "A balloon is in the sky\n",
      "\n",
      "The balloon is blue\n",
      "\n",
      "The magic house\n",
      "\n",
      "House is in the woods\n",
      "7\n"
     ]
    }
   ],
   "source": [
    "'''\n",
    "A girl is playing\n",
    "She is in playground\n",
    "The sky above is pink\n",
    "A balloon is in the sky\n",
    "The balloon is blue\n",
    "The magic house\n",
    "House of wax\n",
    "House is in the woods\n",
    "'''\n",
    "\n",
    "# with file having above text find:\n",
    "# For a given text file, find how many time the words \n",
    "# 'a', 'the', 'an' appear in the file text.\n",
    "# Also print only the lines that has \"the\" in the line text.\n",
    "\n",
    "with open('article.txt', 'r') as file:\n",
    "    counter=0\n",
    "    for line in file:\n",
    "        words=line.split()\n",
    "        for word in words:\n",
    "            if word.lower() in ['a', 'the', 'an']:\n",
    "                counter+=1\n",
    "            if word.lower()=='the':\n",
    "                print(line)\n",
    "    print(counter)"
   ]
  },
  {
   "cell_type": "code",
   "execution_count": 154,
   "id": "b4673cf0",
   "metadata": {},
   "outputs": [],
   "source": [
    "# write a program to copy a text file to another file.\n",
    "file=open('myfile.txt','r')\n",
    "data=file.read()\n",
    "file.close()\n",
    "file2=open('myfilecopy.txt','w')\n",
    "file2.write(data)\n",
    "file2.close()"
   ]
  },
  {
   "cell_type": "code",
   "execution_count": 155,
   "id": "a0e2eccf",
   "metadata": {},
   "outputs": [
    {
     "name": "stdout",
     "output_type": "stream",
     "text": [
      "b'\\xff\\xd8\\xff\\xe1\\x00\\x18Exif\\x00\\x00II*\\x00\\x08\\x00\\x00\\x00\\x00\\x00\\x00\\x00\\x00\\x00\\x00\\x00\\xff\\xec\\x00\\x11Ducky\\x00\\x01\\x00\\x04\\x00\\x00\\x00C\\x00\\x00\\xff\\xe1\\x03\\x19http://ns.adobe.com/xap/1.0/\\x00<?xpacket begin=\"\\xef\\xbb\\xbf'\n"
     ]
    }
   ],
   "source": [
    "# Reading binary files:\n",
    "\n",
    "file=open('panda.jpg', 'rb')\n",
    "data=file.read(100)\n",
    "print(data)\n",
    "file.close()"
   ]
  },
  {
   "cell_type": "code",
   "execution_count": 156,
   "id": "1a7368f3",
   "metadata": {},
   "outputs": [],
   "source": [
    "# write program to copy binary file of large size and\n",
    "# that can work on system with small memory"
   ]
  },
  {
   "cell_type": "code",
   "execution_count": 160,
   "id": "8b1ae716",
   "metadata": {},
   "outputs": [
    {
     "name": "stdout",
     "output_type": "stream",
     "text": [
      "original File Size:  79348\n",
      "Fixed Partitions:  7\n",
      "Last Chunk Size:  9348\n",
      "*** writing full chunk ***\n",
      "*** writing full chunk ***\n",
      "*** writing full chunk ***\n",
      "*** writing full chunk ***\n",
      "*** writing full chunk ***\n",
      "*** writing full chunk ***\n",
      "*** writing full chunk ***\n",
      "*** writing last chunk ***\n",
      "File Copy Ended!\n"
     ]
    }
   ],
   "source": [
    "# write code for copying large size file in multiple parts\n",
    "\n",
    "def file_copy(file1, file2, memory_size):\n",
    "    fp1=open(file1, 'rb')#, encoding='UTF-8')\n",
    "    fp2=open(file2,'wb')#, encoding='UTF-8')\n",
    "    fp1.seek(0,2)\n",
    "    file_size=fp1.tell()\n",
    "    print('original File Size: ',file_size)\n",
    "    fixed_partition=file_size//memory_size\n",
    "    remaining_partition_size=file_size-(fixed_partition*memory_size)\n",
    "    print('Fixed Partitions: ', fixed_partition)\n",
    "    print('Last Chunk Size: ',remaining_partition_size)\n",
    "    fp1.seek(0)\n",
    "    for it in range(fixed_partition+1):\n",
    "        if it==fixed_partition:\n",
    "            if remaining_partition_size==0:\n",
    "                break\n",
    "            else:\n",
    "                data=fp1.read(remaining_partition_size)\n",
    "                fp2.write(data)\n",
    "                fp2.flush()\n",
    "                print('*** writing last chunk ***')\n",
    "        else:\n",
    "            data=fp1.read(memory_size)\n",
    "            fp2.write(data)\n",
    "            fp2.flush()\n",
    "            print('*** writing full chunk ***')\n",
    "    fp1.close()\n",
    "    fp2.close()\n",
    "    print('File Copy Ended!')\n",
    "\n",
    "file_copy('panda.jpg', 'panda_copy.jpg', 10000)"
   ]
  },
  {
   "cell_type": "markdown",
   "id": "5e1c1ae5",
   "metadata": {},
   "source": [
    "### Keeping Python Objects in File- Serialization"
   ]
  },
  {
   "cell_type": "code",
   "execution_count": 161,
   "id": "0b2136b8",
   "metadata": {},
   "outputs": [],
   "source": [
    "import pickle"
   ]
  },
  {
   "cell_type": "code",
   "execution_count": 163,
   "id": "e13cdc1b",
   "metadata": {},
   "outputs": [],
   "source": [
    "li=[10,23,45,12,33,26,42]\n",
    "d={'name':'prateek', 'city':'delhi', 'id':98776543}\n",
    "data=(li, d)"
   ]
  },
  {
   "cell_type": "code",
   "execution_count": 165,
   "id": "094eba92",
   "metadata": {},
   "outputs": [],
   "source": [
    "# pickle.dump(data, file)\n",
    "file=open('mydata.pv', 'wb')\n",
    "pickle.dump(data, file)"
   ]
  },
  {
   "cell_type": "code",
   "execution_count": 166,
   "id": "33fd0fb6",
   "metadata": {},
   "outputs": [],
   "source": [
    "file.close()"
   ]
  },
  {
   "cell_type": "code",
   "execution_count": 169,
   "id": "05378c0f",
   "metadata": {},
   "outputs": [],
   "source": [
    "# retrieval\n",
    "file=open('mydata.pv','rb')\n",
    "data_copy=pickle.load(file)\n",
    "file.close()"
   ]
  },
  {
   "cell_type": "code",
   "execution_count": 170,
   "id": "f79913b1",
   "metadata": {},
   "outputs": [
    {
     "data": {
      "text/plain": [
       "([10, 23, 45, 12, 33, 26, 42],\n",
       " {'name': 'prateek', 'city': 'delhi', 'id': 98776543})"
      ]
     },
     "execution_count": 170,
     "metadata": {},
     "output_type": "execute_result"
    }
   ],
   "source": [
    "data_copy"
   ]
  },
  {
   "cell_type": "code",
   "execution_count": 171,
   "id": "94c0c44e",
   "metadata": {},
   "outputs": [
    {
     "data": {
      "text/plain": [
       "[10, 23, 45, 12, 33, 26, 42]"
      ]
     },
     "execution_count": 171,
     "metadata": {},
     "output_type": "execute_result"
    }
   ],
   "source": [
    "data_copy[0]"
   ]
  },
  {
   "cell_type": "code",
   "execution_count": 172,
   "id": "0342f845",
   "metadata": {},
   "outputs": [
    {
     "data": {
      "text/plain": [
       "{'name': 'prateek', 'city': 'delhi', 'id': 98776543}"
      ]
     },
     "execution_count": 172,
     "metadata": {},
     "output_type": "execute_result"
    }
   ],
   "source": [
    "data_copy[1]"
   ]
  },
  {
   "cell_type": "markdown",
   "id": "adf3520e",
   "metadata": {},
   "source": [
    "### Exception handling"
   ]
  },
  {
   "cell_type": "code",
   "execution_count": 175,
   "id": "9d5926a8",
   "metadata": {},
   "outputs": [
    {
     "name": "stdout",
     "output_type": "stream",
     "text": [
      "34\n",
      "0\n"
     ]
    },
    {
     "ename": "ZeroDivisionError",
     "evalue": "float floor division by zero",
     "output_type": "error",
     "traceback": [
      "\u001b[1;31m---------------------------------------------------------------------------\u001b[0m",
      "\u001b[1;31mZeroDivisionError\u001b[0m                         Traceback (most recent call last)",
      "Input \u001b[1;32mIn [175]\u001b[0m, in \u001b[0;36m<cell line: 3>\u001b[1;34m()\u001b[0m\n\u001b[0;32m      1\u001b[0m x\u001b[38;5;241m=\u001b[39m\u001b[38;5;28mint\u001b[39m(\u001b[38;5;28minput\u001b[39m())\n\u001b[0;32m      2\u001b[0m y\u001b[38;5;241m=\u001b[39m\u001b[38;5;28mfloat\u001b[39m(\u001b[38;5;28minput\u001b[39m())\n\u001b[1;32m----> 3\u001b[0m division\u001b[38;5;241m=\u001b[39m\u001b[43mx\u001b[49m\u001b[38;5;241;43m/\u001b[39;49m\u001b[38;5;241;43m/\u001b[39;49m\u001b[43my\u001b[49m\n\u001b[0;32m      4\u001b[0m \u001b[38;5;28mprint\u001b[39m(division)\n\u001b[0;32m      5\u001b[0m \u001b[38;5;28mprint\u001b[39m(\u001b[38;5;124m'\u001b[39m\u001b[38;5;124mhello\u001b[39m\u001b[38;5;124m'\u001b[39m)\n",
      "\u001b[1;31mZeroDivisionError\u001b[0m: float floor division by zero"
     ]
    }
   ],
   "source": [
    "x=int(input())\n",
    "y=float(input())\n",
    "division=x//y\n",
    "print(division)\n",
    "print('hello')\n",
    "print('hi')"
   ]
  },
  {
   "cell_type": "code",
   "execution_count": 179,
   "id": "3d0cb11e",
   "metadata": {},
   "outputs": [
    {
     "name": "stdout",
     "output_type": "stream",
     "text": [
      "34\n",
      "23\n",
      "Excception Occured!\n",
      "Program Ends!\n"
     ]
    }
   ],
   "source": [
    "# try-except\n",
    "\n",
    "x=int(input())\n",
    "y=input()\n",
    "try:\n",
    "    division=x//y\n",
    "    print(division)\n",
    "except:\n",
    "    print('Excception Occured!')\n",
    "print('Program Ends!')"
   ]
  },
  {
   "cell_type": "code",
   "execution_count": 183,
   "id": "4af27a9e",
   "metadata": {},
   "outputs": [
    {
     "name": "stdout",
     "output_type": "stream",
     "text": [
      "34\n",
      "2\n",
      "17\n",
      "Excception Occured: Unknown\n",
      "Program Ends!\n"
     ]
    }
   ],
   "source": [
    "# try-except with NAMED exceptions\n",
    "# try with multiple except blocks\n",
    "\n",
    "x=int(input())\n",
    "y=int(input())\n",
    "try:\n",
    "    division=x//y\n",
    "    print(division)\n",
    "    file.write(division)\n",
    "except TypeError:\n",
    "    print('Excception Occured: Type Error')\n",
    "except ZeroDivisionError:\n",
    "    print('Excception Occured: Zero Division Error')\n",
    "except:\n",
    "    print('Excception Occured: Unknown')\n",
    "\n",
    "print('Program Ends!')"
   ]
  },
  {
   "cell_type": "code",
   "execution_count": 184,
   "id": "ec0687d2",
   "metadata": {},
   "outputs": [
    {
     "ename": "FileNotFoundError",
     "evalue": "[Errno 2] No such file or directory: 'myfile2.txt'",
     "output_type": "error",
     "traceback": [
      "\u001b[1;31m---------------------------------------------------------------------------\u001b[0m",
      "\u001b[1;31mFileNotFoundError\u001b[0m                         Traceback (most recent call last)",
      "Input \u001b[1;32mIn [184]\u001b[0m, in \u001b[0;36m<cell line: 1>\u001b[1;34m()\u001b[0m\n\u001b[1;32m----> 1\u001b[0m \u001b[38;5;28;01mwith\u001b[39;00m \u001b[38;5;28;43mopen\u001b[39;49m\u001b[43m(\u001b[49m\u001b[38;5;124;43m'\u001b[39;49m\u001b[38;5;124;43mmyfile2.txt\u001b[39;49m\u001b[38;5;124;43m'\u001b[39;49m\u001b[43m,\u001b[49m\u001b[38;5;124;43m'\u001b[39;49m\u001b[38;5;124;43mr\u001b[39;49m\u001b[38;5;124;43m'\u001b[39;49m\u001b[43m)\u001b[49m \u001b[38;5;28;01mas\u001b[39;00m file:\n\u001b[0;32m      2\u001b[0m     \u001b[38;5;28mprint\u001b[39m(file\u001b[38;5;241m.\u001b[39mread())\n",
      "\u001b[1;31mFileNotFoundError\u001b[0m: [Errno 2] No such file or directory: 'myfile2.txt'"
     ]
    }
   ],
   "source": [
    "with open('myfile2.txt','r') as file:\n",
    "    print(file.read())"
   ]
  },
  {
   "cell_type": "code",
   "execution_count": 185,
   "id": "bc98e4d1",
   "metadata": {},
   "outputs": [
    {
     "name": "stdout",
     "output_type": "stream",
     "text": [
      "3\n",
      "2\n",
      "1\n",
      "No Error Occured!\n",
      "Program Ends!\n"
     ]
    }
   ],
   "source": [
    "# try-except with NAMED exceptions\n",
    "# try with multiple except blocks\n",
    "\n",
    "x=int(input())\n",
    "y=int(input())\n",
    "try:\n",
    "    division=x//y\n",
    "    print(division)\n",
    "    #file.write(division)\n",
    "except TypeError:\n",
    "    print('Excception Occured: Type Error')\n",
    "except ZeroDivisionError:\n",
    "    print('Excception Occured: Zero Division Error')\n",
    "except:\n",
    "    print('Excception Occured: Unknown')\n",
    "else:\n",
    "    print('No Error Occured!')\n",
    "print('Program Ends!')"
   ]
  },
  {
   "cell_type": "code",
   "execution_count": 186,
   "id": "49a4214a",
   "metadata": {},
   "outputs": [
    {
     "name": "stdout",
     "output_type": "stream",
     "text": [
      "3\n",
      "2\n",
      "1\n",
      "No Error Occured!\n",
      "This is always executed!!!\n",
      "Program Ends!\n"
     ]
    }
   ],
   "source": [
    "# try-except with NAMED exceptions\n",
    "# try with multiple except blocks\n",
    "\n",
    "x=int(input())\n",
    "y=int(input())\n",
    "try:\n",
    "    division=x//y\n",
    "    print(division)\n",
    "    #file.write(division)\n",
    "except TypeError:\n",
    "    print('Excception Occured: Type Error')\n",
    "except ZeroDivisionError:\n",
    "    print('Excception Occured: Zero Division Error')\n",
    "except:\n",
    "    print('Excception Occured: Unknown')\n",
    "else:\n",
    "    print('No Error Occured!')\n",
    "finally:\n",
    "    print('This is always executed!!!')\n",
    "print('Program Ends!')"
   ]
  },
  {
   "cell_type": "code",
   "execution_count": 193,
   "id": "0a402e6a",
   "metadata": {},
   "outputs": [
    {
     "name": "stdout",
     "output_type": "stream",
     "text": [
      "text line 1\n",
      "############\n",
      "new data linethis should be text line 4\n",
      " file text lilne 5\n",
      "Line number 6 is added successfully!!!\n",
      "Some Error\n",
      "File Closed\n",
      "End!\n"
     ]
    }
   ],
   "source": [
    "try:\n",
    "    file=open('myfile.txt','r')\n",
    "    print(file.read())\n",
    "    #print(file.write('########'))\n",
    "except FileNotFoundError:\n",
    "    print('File Not Found Error!')\n",
    "except UnsupportedOperation:\n",
    "    print('Unsupported Operation Error')\n",
    "except:\n",
    "    print('Some Error')\n",
    "else:\n",
    "    print('File Operation Done')\n",
    "finally:\n",
    "    file.close()\n",
    "    print('File Closed')\n",
    "print('End!')"
   ]
  },
  {
   "cell_type": "code",
   "execution_count": 197,
   "id": "668a3a65",
   "metadata": {},
   "outputs": [
    {
     "name": "stdout",
     "output_type": "stream",
     "text": [
      "Invlaid Argument: invalid literal for int() with base 10: '45y'\n"
     ]
    }
   ],
   "source": [
    "def convert_to_integer(x):\n",
    "    try:\n",
    "        return int(x)\n",
    "    except ValueError as arg:\n",
    "        print('Invlaid Argument:', arg)\n",
    "convert_to_integer('45y')"
   ]
  },
  {
   "cell_type": "code",
   "execution_count": 199,
   "id": "d6aba905",
   "metadata": {},
   "outputs": [],
   "source": [
    "# user def exceptions\n",
    "class MyError(RuntimeError):\n",
    "    def __init__(self, msg):\n",
    "        self.msg=msg"
   ]
  },
  {
   "cell_type": "code",
   "execution_count": 201,
   "id": "b92a9650",
   "metadata": {},
   "outputs": [
    {
     "name": "stdout",
     "output_type": "stream",
     "text": [
      "3\n",
      "0\n",
      "Either X or Y is Zero!\n"
     ]
    }
   ],
   "source": [
    "try:\n",
    "    x=int(input())\n",
    "    y=int(input())\n",
    "    if x==0 or y==0:\n",
    "        raise MyError('Either X or Y is Zero!')\n",
    "except MyError as e:\n",
    "    print(e.msg)\n",
    "except:\n",
    "    print('Some Other Error!')"
   ]
  },
  {
   "cell_type": "code",
   "execution_count": 202,
   "id": "aa4ff774",
   "metadata": {},
   "outputs": [
    {
     "name": "stdout",
     "output_type": "stream",
     "text": [
      "3\n",
      "0\n",
      "Either X or Y is Zero!\n"
     ]
    },
    {
     "ename": "MyError",
     "evalue": "Either X or Y is Zero!",
     "output_type": "error",
     "traceback": [
      "\u001b[1;31m---------------------------------------------------------------------------\u001b[0m",
      "\u001b[1;31mMyError\u001b[0m                                   Traceback (most recent call last)",
      "Input \u001b[1;32mIn [202]\u001b[0m, in \u001b[0;36m<cell line: 1>\u001b[1;34m()\u001b[0m\n\u001b[0;32m      3\u001b[0m     y\u001b[38;5;241m=\u001b[39m\u001b[38;5;28mint\u001b[39m(\u001b[38;5;28minput\u001b[39m())\n\u001b[0;32m      4\u001b[0m     \u001b[38;5;28;01mif\u001b[39;00m x\u001b[38;5;241m==\u001b[39m\u001b[38;5;241m0\u001b[39m \u001b[38;5;129;01mor\u001b[39;00m y\u001b[38;5;241m==\u001b[39m\u001b[38;5;241m0\u001b[39m:\n\u001b[1;32m----> 5\u001b[0m         \u001b[38;5;28;01mraise\u001b[39;00m MyError(\u001b[38;5;124m'\u001b[39m\u001b[38;5;124mEither X or Y is Zero!\u001b[39m\u001b[38;5;124m'\u001b[39m)\n\u001b[0;32m      6\u001b[0m \u001b[38;5;28;01mexcept\u001b[39;00m MyError \u001b[38;5;28;01mas\u001b[39;00m e:\n\u001b[0;32m      7\u001b[0m     \u001b[38;5;28mprint\u001b[39m(e\u001b[38;5;241m.\u001b[39mmsg)\n",
      "\u001b[1;31mMyError\u001b[0m: Either X or Y is Zero!"
     ]
    }
   ],
   "source": [
    "try:\n",
    "    x=int(input())\n",
    "    y=int(input())\n",
    "    if x==0 or y==0:\n",
    "        raise MyError('Either X or Y is Zero!')\n",
    "except MyError as e:\n",
    "    print(e.msg)\n",
    "    raise\n",
    "except:\n",
    "    print('Some Other Error!')"
   ]
  },
  {
   "cell_type": "markdown",
   "id": "6fc8f83f",
   "metadata": {},
   "source": [
    "#### Cryptography"
   ]
  },
  {
   "cell_type": "code",
   "execution_count": 203,
   "id": "72482458",
   "metadata": {},
   "outputs": [],
   "source": [
    "from cryptography.fernet import Fernet\n",
    "key=Fernet.generate_key()\n",
    "cipher=Fernet(key)"
   ]
  },
  {
   "cell_type": "code",
   "execution_count": 204,
   "id": "68a0504a",
   "metadata": {},
   "outputs": [
    {
     "name": "stdout",
     "output_type": "stream",
     "text": [
      "b'gAAAAABj5NAG_Gx2sPjuNItZIz3vIrin5CbEKDSSmCHXLp65w4US2h3bgbMKpBVbfH-SvWxwX1FbdYZs6ElOU5OUXy2tEaXadg=='\n"
     ]
    }
   ],
   "source": [
    "#sender\n",
    "text=b'Happy Birthday'\n",
    "encoded_text=cipher.encrypt(text)\n",
    "print(encoded_text)"
   ]
  },
  {
   "cell_type": "code",
   "execution_count": 205,
   "id": "cfc89c02",
   "metadata": {},
   "outputs": [
    {
     "name": "stdout",
     "output_type": "stream",
     "text": [
      "b'Happy Birthday'\n"
     ]
    }
   ],
   "source": [
    "#receiver\n",
    "plain_text=cipher.decrypt(encoded_text)\n",
    "print(plain_text)"
   ]
  },
  {
   "cell_type": "code",
   "execution_count": 206,
   "id": "a1108e70",
   "metadata": {},
   "outputs": [
    {
     "data": {
      "text/plain": [
       "b'hFqt-9esoxeU8-MDvRiQtNfbS3RLHbCTr3R52eXmNls='"
      ]
     },
     "execution_count": 206,
     "metadata": {},
     "output_type": "execute_result"
    }
   ],
   "source": [
    "key"
   ]
  },
  {
   "cell_type": "code",
   "execution_count": 207,
   "id": "6bacc799",
   "metadata": {},
   "outputs": [
    {
     "name": "stdout",
     "output_type": "stream",
     "text": [
      "525, 560, 595, 630, 665, 700, 735, 770, 805, 840, 875, 910, 945, 980, "
     ]
    }
   ],
   "source": [
    "# # write a python code to display all numbers between 500 and 1000 that are\n",
    "## divisible by 7 and are also multiple of 5.\n",
    "for i in range(500, 1001):\n",
    "    if i%5==0 and i%7==0:\n",
    "        print(i, end=', ')"
   ]
  },
  {
   "cell_type": "code",
   "execution_count": 213,
   "id": "b11cff5e",
   "metadata": {},
   "outputs": [
    {
     "name": "stdout",
     "output_type": "stream",
     "text": [
      "18111985\n",
      "7\n"
     ]
    }
   ],
   "source": [
    "# accept an integer number from user and find the sum of its digits \n",
    "# down to single digit (1-9)\n",
    "# Lucky Number Calculation:\n",
    "#Example: input=> 1998\n",
    "# output: 9       \n",
    "# 1+9+9+8=27 step 1\n",
    "# 2+7=9      step 2\n",
    "\n",
    "n=int(input())\n",
    "k=10\n",
    "while k>9:\n",
    "    k=sum([int(d) for d in str(n)])\n",
    "    n=k\n",
    "else:\n",
    "    print(k)"
   ]
  },
  {
   "cell_type": "code",
   "execution_count": 218,
   "id": "fe3ba617",
   "metadata": {},
   "outputs": [
    {
     "data": {
      "text/plain": [
       "5"
      ]
     },
     "execution_count": 218,
     "metadata": {},
     "output_type": "execute_result"
    }
   ],
   "source": [
    "# create the same using recursion\n",
    "def find_sum(n):\n",
    "    if n<10:\n",
    "        return n\n",
    "    else:\n",
    "        return find_sum(sum([int(d) for d in str(n)]))\n",
    "find_sum(19112018)"
   ]
  },
  {
   "cell_type": "code",
   "execution_count": 219,
   "id": "cdf7234c",
   "metadata": {},
   "outputs": [
    {
     "name": "stdout",
     "output_type": "stream",
     "text": [
      "{1: 'one', 2: 'two', 3: 'three'}\n"
     ]
    }
   ],
   "source": [
    "## write a code to create dictionary from two list\n",
    "## Hint: Use first list for keys and second list for values\n",
    "li1=[1,2,3]\n",
    "li2=['one','two','three']\n",
    "d=dict()\n",
    "if len(li1)==len(li2):\n",
    "    for i in range(len(li1)):\n",
    "        d[li1[i]]=li2[i]\n",
    "print(d)"
   ]
  },
  {
   "cell_type": "code",
   "execution_count": 220,
   "id": "ae6b188b",
   "metadata": {},
   "outputs": [
    {
     "data": {
      "text/plain": [
       "{1: 'one', 2: 'two', 3: 'three'}"
      ]
     },
     "execution_count": 220,
     "metadata": {},
     "output_type": "execute_result"
    }
   ],
   "source": [
    "# ver2\n",
    "li1=[1,2,3]\n",
    "li2=['one','two','three']\n",
    "d={li1[i]:li2[i] for i in range(len(li1))}\n",
    "d"
   ]
  },
  {
   "cell_type": "code",
   "execution_count": 222,
   "id": "e3c41a40",
   "metadata": {},
   "outputs": [
    {
     "data": {
      "text/plain": [
       "{1: 'one', 2: 'two', 3: 'three'}"
      ]
     },
     "execution_count": 222,
     "metadata": {},
     "output_type": "execute_result"
    }
   ],
   "source": [
    "# ver3\n",
    "li1=[1,2,3]\n",
    "li2=['one','two','three']\n",
    "d={key:val for key,val in zip(li1, li2)}\n",
    "d"
   ]
  },
  {
   "cell_type": "code",
   "execution_count": 223,
   "id": "acb119a0",
   "metadata": {},
   "outputs": [
    {
     "name": "stdout",
     "output_type": "stream",
     "text": [
      "a=1 and b=100\n",
      "a=2 and b=200\n",
      "a=3 and b=300\n"
     ]
    }
   ],
   "source": [
    "# zip(iter, iter)\n",
    "# combine iterables, package them together and we can \n",
    "# iter over both togeteher\n",
    "\n",
    "for a,b in zip([1,2,3], [100,200,300]):\n",
    "    print(f'a={a} and b={b}')\n"
   ]
  },
  {
   "cell_type": "code",
   "execution_count": 224,
   "id": "52c354da",
   "metadata": {},
   "outputs": [
    {
     "data": {
      "text/plain": [
       "{'a': 'A', 'b': 'B', 'c': 'C', 'd': 'D'}"
      ]
     },
     "execution_count": 224,
     "metadata": {},
     "output_type": "execute_result"
    }
   ],
   "source": [
    "## write a code to create dictionary from two dictionaries\n",
    "## taking keys from first dictionary and values from secodn dictionary\n",
    "## check before you proceed, that both dictionary are equal in size\n",
    "\n",
    "# Example: INPUT\n",
    "# temp={'a':'one','b':'two','c':'three','d':'four'}\n",
    "# temp2={1:'A', 2:'B', 3:'C', 4:'D'}\n",
    "# OUTPUT: {'a': 'A', 'b': 'B', 'c': 'C', 'd': 'D'}\n",
    "\n",
    "temp={'a':'one','b':'two','c':'three','d':'four'}\n",
    "temp2={1:'A', 2:'B', 3:'C', 4:'D'}\n",
    "d={key:val for key,val in zip(temp.keys(), temp2.values())}\n",
    "d"
   ]
  },
  {
   "cell_type": "code",
   "execution_count": 226,
   "id": "5c01c31e",
   "metadata": {},
   "outputs": [
    {
     "name": "stdout",
     "output_type": "stream",
     "text": [
      "Spaces  6\n",
      "Words  7\n",
      "Other Characters  2\n"
     ]
    }
   ],
   "source": [
    "# count number of blank spaces, words and other characters in a string\n",
    "# S='hello, are you enjoying the weather today?' # output=> 6, 7, 2\n",
    "s='hello, are you enjoying the weather today?'\n",
    "space=s.count(' ')\n",
    "words=len(s.split())\n",
    "oc=0\n",
    "upper_alpha=[n for n in range(65,91)]\n",
    "lower_alpha=[n for n in range(97,123)]\n",
    "for ch in s:\n",
    "    if ord(ch) in upper_alpha or ord(ch) in lower_alpha:\n",
    "        pass\n",
    "    else:\n",
    "        oc+=1\n",
    "print('Spaces ', space)\n",
    "print('Words ', words)\n",
    "print('Other Characters ',oc-space)"
   ]
  },
  {
   "cell_type": "markdown",
   "id": "187ae2f2",
   "metadata": {},
   "source": [
    "#### A list rotation consists of taking the last element and moving it to the front. For instance, if we rotate the list [1,2,3,4,5], we get [5,1,2,3,4]. If we rotate it again, we get [4,5,1,2,3]. Write a Python function rotatelist(ls,k) that takes a list ls and a positive integer k and returns the list ls after k rotations. If k is not positive, your function should return ls unchanged. Note that your function should not change ls itself, and should return the rotated list."
   ]
  },
  {
   "cell_type": "markdown",
   "id": "d4c83543",
   "metadata": {},
   "source": [
    "#### Here are some examples to show how your function should work:\n",
    "• rotatelist([1,2,3,4,5], 1) #output is [5, 1, 2, 3, 4]\n",
    "\n",
    "• rotatelist([1,2,3,4,5], 3) #output is [3, 4, 5, 1, 2]\n",
    "\n",
    "• rotatelist([1,2,3,4,5], 12) #output is[4, 5, 1, 2, 3]"
   ]
  },
  {
   "cell_type": "code",
   "execution_count": 230,
   "id": "be5148df",
   "metadata": {},
   "outputs": [
    {
     "name": "stdout",
     "output_type": "stream",
     "text": [
      "[5, 1, 2, 3, 4]\n",
      "[3, 4, 5, 1, 2]\n",
      "[4, 5, 1, 2, 3]\n"
     ]
    }
   ],
   "source": [
    "def rotatelist(li, k):\n",
    "    while k!=0:\n",
    "        temp=li.pop()\n",
    "        li.insert(0,temp)\n",
    "        k-=1\n",
    "    return li\n",
    "print(rotatelist([1,2,3,4,5], 1))\n",
    "print(rotatelist([1,2,3,4,5], 3))\n",
    "print(rotatelist([1,2,3,4,5], 12))"
   ]
  },
  {
   "cell_type": "code",
   "execution_count": 238,
   "id": "d6c194d5",
   "metadata": {},
   "outputs": [
    {
     "name": "stdout",
     "output_type": "stream",
     "text": [
      "[3, 4, 5, 1, 2]\n",
      "CPU times: total: 0 ns\n",
      "Wall time: 0 ns\n"
     ]
    }
   ],
   "source": [
    "%%time\n",
    "def rotatelist(li, k):\n",
    "    if k>len(li):\n",
    "        k=k%len(li)\n",
    "    while k!=0:\n",
    "        temp=li.pop()\n",
    "        li.insert(0,temp)\n",
    "        k-=1\n",
    "    return li\n",
    "print(rotatelist([1,2,3,4,5], 1000013))"
   ]
  },
  {
   "cell_type": "markdown",
   "id": "697a3241",
   "metadata": {},
   "source": [
    "#### Question 2:\n",
    "\n",
    "Define a Python function alternating() that returns True if the values in the input list alternately go up and down (in a strict manner).\n",
    "\n",
    "Input:\n",
    "A series of values separated by comma\n",
    "\n",
    "Output:\n",
    "Either True or False depending on whether the elements are arranged alternatively as per their values.\n",
    "#### Example:\n",
    "1,3,2,3,1,5\n",
    "True\n",
    "\n",
    "3,2,2,1,5\n",
    "False\n"
   ]
  },
  {
   "cell_type": "code",
   "execution_count": 255,
   "id": "7f7ddac3",
   "metadata": {},
   "outputs": [],
   "source": [
    "def alternating(ls):\n",
    "    ls=[int(x) for x in ls.split(',')]\n",
    "    for i in range(len(ls)-2):\n",
    "        if (ls[i]<ls[i+1] and ls[i+2]<ls[i+1]) or (ls[i]>ls[i+1] and ls[i+2]>ls[i+1]):\n",
    "            continue\n",
    "        else:\n",
    "            return False\n",
    "    return True"
   ]
  },
  {
   "cell_type": "code",
   "execution_count": 249,
   "id": "219d4d54",
   "metadata": {},
   "outputs": [
    {
     "data": {
      "text/plain": [
       "True"
      ]
     },
     "execution_count": 249,
     "metadata": {},
     "output_type": "execute_result"
    }
   ],
   "source": [
    "alternating('1,3,2,3,1,5')"
   ]
  },
  {
   "cell_type": "code",
   "execution_count": 250,
   "id": "17f08eb7",
   "metadata": {},
   "outputs": [
    {
     "data": {
      "text/plain": [
       "False"
      ]
     },
     "execution_count": 250,
     "metadata": {},
     "output_type": "execute_result"
    }
   ],
   "source": [
    "alternating('3,2,2,1,5')"
   ]
  },
  {
   "cell_type": "code",
   "execution_count": 251,
   "id": "e6201a47",
   "metadata": {},
   "outputs": [
    {
     "data": {
      "text/plain": [
       "False"
      ]
     },
     "execution_count": 251,
     "metadata": {},
     "output_type": "execute_result"
    }
   ],
   "source": [
    "alternating('1,3,3,3,1,5')"
   ]
  },
  {
   "cell_type": "code",
   "execution_count": 252,
   "id": "99f86845",
   "metadata": {},
   "outputs": [
    {
     "data": {
      "text/plain": [
       "False"
      ]
     },
     "execution_count": 252,
     "metadata": {},
     "output_type": "execute_result"
    }
   ],
   "source": [
    "alternating('1,3,2,3,1,0')"
   ]
  },
  {
   "cell_type": "code",
   "execution_count": null,
   "id": "b5f6e15d",
   "metadata": {},
   "outputs": [],
   "source": []
  },
  {
   "cell_type": "code",
   "execution_count": null,
   "id": "5a3979c5",
   "metadata": {},
   "outputs": [],
   "source": []
  },
  {
   "cell_type": "code",
   "execution_count": null,
   "id": "5e457974",
   "metadata": {},
   "outputs": [],
   "source": []
  },
  {
   "cell_type": "code",
   "execution_count": null,
   "id": "5bab3474",
   "metadata": {},
   "outputs": [],
   "source": []
  }
 ],
 "metadata": {
  "kernelspec": {
   "display_name": "Python 3 (ipykernel)",
   "language": "python",
   "name": "python3"
  },
  "language_info": {
   "codemirror_mode": {
    "name": "ipython",
    "version": 3
   },
   "file_extension": ".py",
   "mimetype": "text/x-python",
   "name": "python",
   "nbconvert_exporter": "python",
   "pygments_lexer": "ipython3",
   "version": "3.9.12"
  }
 },
 "nbformat": 4,
 "nbformat_minor": 5
}
