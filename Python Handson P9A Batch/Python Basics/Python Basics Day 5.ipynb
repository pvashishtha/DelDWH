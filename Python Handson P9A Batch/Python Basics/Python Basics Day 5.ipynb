{
 "cells": [
  {
   "cell_type": "markdown",
   "id": "322c61e5",
   "metadata": {},
   "source": [
    "### Python Basics Day 5"
   ]
  },
  {
   "cell_type": "markdown",
   "id": "ed57da4b",
   "metadata": {},
   "source": [
    "#### Useful Python Inbuilt Functions"
   ]
  },
  {
   "cell_type": "code",
   "execution_count": 1,
   "id": "0aa9014e",
   "metadata": {},
   "outputs": [
    {
     "data": {
      "text/plain": [
       "True"
      ]
     },
     "execution_count": 1,
     "metadata": {},
     "output_type": "execute_result"
    }
   ],
   "source": [
    "# any() - return boolean True if any of the values in \n",
    "# iterable or collection is True\n",
    "any([True, False, False, False, True])"
   ]
  },
  {
   "cell_type": "code",
   "execution_count": 2,
   "id": "4a76ae64",
   "metadata": {},
   "outputs": [
    {
     "data": {
      "text/plain": [
       "True"
      ]
     },
     "execution_count": 2,
     "metadata": {},
     "output_type": "execute_result"
    }
   ],
   "source": [
    "any([10>20, 20>30, 30>40, 40<50])"
   ]
  },
  {
   "cell_type": "code",
   "execution_count": 3,
   "id": "fc261ba8",
   "metadata": {},
   "outputs": [
    {
     "data": {
      "text/plain": [
       "True"
      ]
     },
     "execution_count": 3,
     "metadata": {},
     "output_type": "execute_result"
    }
   ],
   "source": [
    "any([0,0,0,0,0,0.1])"
   ]
  },
  {
   "cell_type": "code",
   "execution_count": 5,
   "id": "28802929",
   "metadata": {},
   "outputs": [
    {
     "data": {
      "text/plain": [
       "False"
      ]
     },
     "execution_count": 5,
     "metadata": {},
     "output_type": "execute_result"
    }
   ],
   "source": [
    "# all() - checks if all values are boolean true\n",
    "all([True, True, True, False, True])"
   ]
  },
  {
   "cell_type": "code",
   "execution_count": 6,
   "id": "b14f116c",
   "metadata": {},
   "outputs": [
    {
     "data": {
      "text/plain": [
       "True"
      ]
     },
     "execution_count": 6,
     "metadata": {},
     "output_type": "execute_result"
    }
   ],
   "source": [
    "all([True, True, True, True, True])"
   ]
  },
  {
   "cell_type": "code",
   "execution_count": 7,
   "id": "28e26d76",
   "metadata": {},
   "outputs": [
    {
     "data": {
      "text/plain": [
       "True"
      ]
     },
     "execution_count": 7,
     "metadata": {},
     "output_type": "execute_result"
    }
   ],
   "source": [
    "all([10<20, 20<30, 30<40, 40<50])"
   ]
  },
  {
   "cell_type": "code",
   "execution_count": 8,
   "id": "ffcf1147",
   "metadata": {},
   "outputs": [
    {
     "data": {
      "text/plain": [
       "False"
      ]
     },
     "execution_count": 8,
     "metadata": {},
     "output_type": "execute_result"
    }
   ],
   "source": [
    "all([1,1,1,1,3,5,6,7,8,0])"
   ]
  },
  {
   "cell_type": "code",
   "execution_count": 9,
   "id": "b164f633",
   "metadata": {},
   "outputs": [],
   "source": [
    "code='''x=input(\"Enter Your Name: \")\n",
    "print(f\"Welcome {x} to DTA!\")\n",
    "print(\"Visit https://www.deloittenet.com for more information.\")'''"
   ]
  },
  {
   "cell_type": "code",
   "execution_count": 13,
   "id": "7b06c193",
   "metadata": {},
   "outputs": [],
   "source": [
    "# compile(str_code)\n",
    "compiled_code=compile(code, '', 'exec')"
   ]
  },
  {
   "cell_type": "code",
   "execution_count": 14,
   "id": "19ef984f",
   "metadata": {},
   "outputs": [
    {
     "name": "stdout",
     "output_type": "stream",
     "text": [
      "Enter Your Name: Prateek\n",
      "Welcome Prateek to DTA!\n",
      "Visit https://www.deloittenet.com for more information.\n"
     ]
    }
   ],
   "source": [
    "# exec()\n",
    "exec(compiled_code)"
   ]
  },
  {
   "cell_type": "code",
   "execution_count": 15,
   "id": "588e94da",
   "metadata": {},
   "outputs": [
    {
     "data": {
      "text/plain": [
       "code"
      ]
     },
     "execution_count": 15,
     "metadata": {},
     "output_type": "execute_result"
    }
   ],
   "source": [
    "type(compiled_code)"
   ]
  },
  {
   "cell_type": "code",
   "execution_count": 16,
   "id": "26cd93f8",
   "metadata": {},
   "outputs": [
    {
     "name": "stdout",
     "output_type": "stream",
     "text": [
      "Expressions Result: 39155492540.5\n",
      "Expressions Result: 12.0\n",
      "Expressions Result: 113\n"
     ]
    }
   ],
   "source": [
    "file=open('expressions.txt','r')\n",
    "for exp_line in file:\n",
    "    cc=compile(exp_line, 'expressions.txt', 'eval')\n",
    "    print(f'Expressions Result: {eval(cc)}')"
   ]
  },
  {
   "cell_type": "code",
   "execution_count": 21,
   "id": "79a50213",
   "metadata": {},
   "outputs": [
    {
     "name": "stdout",
     "output_type": "stream",
     "text": [
      "23\n",
      "12\n",
      "complex:  (23+12j)\n",
      "sum:  35\n",
      "min:  12\n",
      "max:  23\n"
     ]
    }
   ],
   "source": [
    "with open('mycode.py','r') as file:\n",
    "    code=file.read()\n",
    "    cc=compile(code, 'code.py','exec')\n",
    "    exec(cc)"
   ]
  },
  {
   "cell_type": "code",
   "execution_count": 27,
   "id": "94ec2e7b",
   "metadata": {},
   "outputs": [
    {
     "name": "stdout",
     "output_type": "stream",
     "text": [
      "Magic Number:  2442\n",
      "Magic Number:  4884\n",
      "Magic Number:  7326\n",
      "Magic Number:  9768\n",
      "END!\n"
     ]
    }
   ],
   "source": [
    "import requests\n",
    "url = 'https://raw.githubusercontent.com/pvashishtha/DelDWH/main/mycode.txt'\n",
    "page = requests.get(url)\n",
    "code=page.text\n",
    "cc=compile(code, '','exec')\n",
    "exec(cc)"
   ]
  },
  {
   "cell_type": "code",
   "execution_count": 29,
   "id": "48b3efac",
   "metadata": {},
   "outputs": [],
   "source": [
    "# enumerate()\n",
    "tup=(10,12,14,16,18,20,22)\n",
    "enum=enumerate(tup)"
   ]
  },
  {
   "cell_type": "code",
   "execution_count": 30,
   "id": "16d0e18d",
   "metadata": {},
   "outputs": [
    {
     "data": {
      "text/plain": [
       "[(0, 10), (1, 12), (2, 14), (3, 16), (4, 18), (5, 20), (6, 22)]"
      ]
     },
     "execution_count": 30,
     "metadata": {},
     "output_type": "execute_result"
    }
   ],
   "source": [
    "list(enum)"
   ]
  },
  {
   "cell_type": "markdown",
   "id": "9c5f4015",
   "metadata": {},
   "source": [
    "### Scope of variables"
   ]
  },
  {
   "cell_type": "code",
   "execution_count": 6,
   "id": "af8dd348",
   "metadata": {},
   "outputs": [
    {
     "name": "stdout",
     "output_type": "stream",
     "text": [
      "200000000000000000000010\n"
     ]
    },
    {
     "ename": "NameError",
     "evalue": "name 'x' is not defined",
     "output_type": "error",
     "traceback": [
      "\u001b[1;31m---------------------------------------------------------------------------\u001b[0m",
      "\u001b[1;31mNameError\u001b[0m                                 Traceback (most recent call last)",
      "Input \u001b[1;32mIn [6]\u001b[0m, in \u001b[0;36m<cell line: 7>\u001b[1;34m()\u001b[0m\n\u001b[0;32m      5\u001b[0m     \u001b[38;5;28;01mreturn\u001b[39;00m \u001b[38;5;28;01mNone\u001b[39;00m\n\u001b[0;32m      6\u001b[0m myfun()\n\u001b[1;32m----> 7\u001b[0m \u001b[38;5;28mprint\u001b[39m(\u001b[43mx\u001b[49m)\n",
      "\u001b[1;31mNameError\u001b[0m: name 'x' is not defined"
     ]
    }
   ],
   "source": [
    "def myfun():\n",
    "    x=10 # local variable\n",
    "    x=x+10**24//5\n",
    "    print(x)\n",
    "    return None\n",
    "myfun()\n",
    "print(x) # x is not accessible"
   ]
  },
  {
   "cell_type": "code",
   "execution_count": 9,
   "id": "a6fdc836",
   "metadata": {},
   "outputs": [
    {
     "name": "stdout",
     "output_type": "stream",
     "text": [
      "Insider: 10 20\n"
     ]
    },
    {
     "ename": "NameError",
     "evalue": "name 'y' is not defined",
     "output_type": "error",
     "traceback": [
      "\u001b[1;31m---------------------------------------------------------------------------\u001b[0m",
      "\u001b[1;31mNameError\u001b[0m                                 Traceback (most recent call last)",
      "Input \u001b[1;32mIn [9]\u001b[0m, in \u001b[0;36m<cell line: 8>\u001b[1;34m()\u001b[0m\n\u001b[0;32m      6\u001b[0m     myfun2()\n\u001b[0;32m      7\u001b[0m     \u001b[38;5;28mprint\u001b[39m(\u001b[38;5;124m'\u001b[39m\u001b[38;5;124mOutsider:\u001b[39m\u001b[38;5;124m'\u001b[39m,x,y)\n\u001b[1;32m----> 8\u001b[0m \u001b[43mmyfun1\u001b[49m\u001b[43m(\u001b[49m\u001b[43m)\u001b[49m\n",
      "Input \u001b[1;32mIn [9]\u001b[0m, in \u001b[0;36mmyfun1\u001b[1;34m()\u001b[0m\n\u001b[0;32m      5\u001b[0m     \u001b[38;5;28mprint\u001b[39m(\u001b[38;5;124m'\u001b[39m\u001b[38;5;124mInsider:\u001b[39m\u001b[38;5;124m'\u001b[39m,x,y)\n\u001b[0;32m      6\u001b[0m myfun2()\n\u001b[1;32m----> 7\u001b[0m \u001b[38;5;28mprint\u001b[39m(\u001b[38;5;124m'\u001b[39m\u001b[38;5;124mOutsider:\u001b[39m\u001b[38;5;124m'\u001b[39m,x,\u001b[43my\u001b[49m)\n",
      "\u001b[1;31mNameError\u001b[0m: name 'y' is not defined"
     ]
    }
   ],
   "source": [
    "def myfun1():\n",
    "    x=10 # local to outer function and accessible by inner function \n",
    "    # as it is member of outer func.\n",
    "    def myfun2():\n",
    "        y=20 # local to inner function\n",
    "        print('Insider:',x,y)\n",
    "    myfun2()\n",
    "    print('Outsider:',x,y) # no access to inner func local Y\n",
    "myfun1()"
   ]
  },
  {
   "cell_type": "code",
   "execution_count": 11,
   "id": "2e23ac77",
   "metadata": {},
   "outputs": [
    {
     "name": "stdout",
     "output_type": "stream",
     "text": [
      "values xy: 10 20\n"
     ]
    }
   ],
   "source": [
    "x=10 # global var\n",
    "def myfunc3():\n",
    "    y=20 # local var\n",
    "    print('values xy:',x,y)\n",
    "myfunc3()"
   ]
  },
  {
   "cell_type": "code",
   "execution_count": 39,
   "id": "0476d70f",
   "metadata": {},
   "outputs": [
    {
     "name": "stdout",
     "output_type": "stream",
     "text": [
      "Global Old vlaue: 500\n",
      "Local: 866\n",
      "Global New value: 500\n"
     ]
    }
   ],
   "source": [
    "a=500\n",
    "def myfunc4():\n",
    "    global a\n",
    "    b=700+a//3\n",
    "    print('Local:',b)\n",
    "print('Global Old vlaue:',a)\n",
    "myfunc4()\n",
    "print('Global New value:',a)"
   ]
  },
  {
   "cell_type": "code",
   "execution_count": 52,
   "id": "15d6d7da",
   "metadata": {},
   "outputs": [
    {
     "name": "stdout",
     "output_type": "stream",
     "text": [
      "10\n"
     ]
    }
   ],
   "source": [
    "x=10\n",
    "def func1():\n",
    "    x=20\n",
    "    def func2():\n",
    "        nonlocal x\n",
    "        def func3():\n",
    "            global x\n",
    "            print(x)\n",
    "        func3()\n",
    "    func2()\n",
    "func1()"
   ]
  },
  {
   "cell_type": "code",
   "execution_count": 62,
   "id": "e5b1fd9d",
   "metadata": {},
   "outputs": [
    {
     "name": "stdout",
     "output_type": "stream",
     "text": [
      "PrAtEeK\n",
      "rAjAt\n"
     ]
    }
   ],
   "source": [
    "# write a python code that changes string as per given condition:\n",
    "# if first letter is upper case, convert all odd index characters\n",
    "# to upper case & remaining as lower case\n",
    "# else convert all even letters to upper case remaining as lower case\n",
    "# example: INPUT: Prateek OUTPUT: PrAtEeK\n",
    "# INPUT: rajat  OUTPUT: rAjAt\n",
    "\n",
    "def str_fun(s):\n",
    "    k=''\n",
    "    if ord(s[0]) in range(65, 91):\n",
    "        k=[s[i].upper() if i%2==0 else s[i].lower() for i in range(len(s))]  \n",
    "    else:\n",
    "        k=[s[i].upper() if i%2!=0 else s[i].lower() for i in range(len(s))]        \n",
    "    return ''.join(k)\n",
    "print(str_fun('Prateek'))\n",
    "print(str_fun('rajat'))"
   ]
  },
  {
   "cell_type": "code",
   "execution_count": 77,
   "id": "764629f7",
   "metadata": {},
   "outputs": [
    {
     "data": {
      "text/plain": [
       "'elloh'"
      ]
     },
     "execution_count": 77,
     "metadata": {},
     "output_type": "execute_result"
    }
   ],
   "source": [
    "# create function rotate_string(s, k) as follows:\n",
    "# rotate string either clockwise or anticlockwise depending on value of k\n",
    "# if k is odd number, rotate anticlockwise else clockwise\n",
    "# rotate string characters K*12 times; where K>0 always.\n",
    "def rotate_string(s,k):\n",
    "    if k%2==0:\n",
    "        for i in range((k*12)%len(s)):\n",
    "            # even-clockwise\n",
    "            s=s[1:]+s[0]\n",
    "    else:\n",
    "        for i in range((k*12)%len(s)):\n",
    "            # odd-anticlockwise\n",
    "            s=s[-1]+s[:-1]\n",
    "    return s\n",
    "rotate_string('hello', 7)"
   ]
  },
  {
   "cell_type": "code",
   "execution_count": null,
   "id": "ff98c4fc",
   "metadata": {},
   "outputs": [],
   "source": []
  },
  {
   "cell_type": "code",
   "execution_count": null,
   "id": "efb86af8",
   "metadata": {},
   "outputs": [],
   "source": []
  },
  {
   "cell_type": "code",
   "execution_count": null,
   "id": "f882702f",
   "metadata": {},
   "outputs": [],
   "source": []
  },
  {
   "cell_type": "code",
   "execution_count": null,
   "id": "f8142b8b",
   "metadata": {},
   "outputs": [],
   "source": []
  },
  {
   "cell_type": "code",
   "execution_count": null,
   "id": "67566945",
   "metadata": {},
   "outputs": [],
   "source": []
  },
  {
   "cell_type": "code",
   "execution_count": null,
   "id": "4d5143b2",
   "metadata": {},
   "outputs": [],
   "source": []
  },
  {
   "cell_type": "code",
   "execution_count": null,
   "id": "5f51a436",
   "metadata": {},
   "outputs": [],
   "source": []
  },
  {
   "cell_type": "code",
   "execution_count": null,
   "id": "9189008a",
   "metadata": {},
   "outputs": [],
   "source": []
  },
  {
   "cell_type": "code",
   "execution_count": null,
   "id": "4b74e6d5",
   "metadata": {},
   "outputs": [],
   "source": []
  },
  {
   "cell_type": "code",
   "execution_count": null,
   "id": "e57740c5",
   "metadata": {},
   "outputs": [],
   "source": []
  },
  {
   "cell_type": "code",
   "execution_count": null,
   "id": "7e9fe11a",
   "metadata": {},
   "outputs": [],
   "source": []
  },
  {
   "cell_type": "code",
   "execution_count": null,
   "id": "16f6b16f",
   "metadata": {},
   "outputs": [],
   "source": []
  },
  {
   "cell_type": "code",
   "execution_count": null,
   "id": "21a03484",
   "metadata": {},
   "outputs": [],
   "source": []
  },
  {
   "cell_type": "code",
   "execution_count": null,
   "id": "11cb8be8",
   "metadata": {},
   "outputs": [],
   "source": []
  },
  {
   "cell_type": "code",
   "execution_count": null,
   "id": "f6db034d",
   "metadata": {},
   "outputs": [],
   "source": []
  },
  {
   "cell_type": "code",
   "execution_count": null,
   "id": "02403002",
   "metadata": {},
   "outputs": [],
   "source": []
  },
  {
   "cell_type": "code",
   "execution_count": null,
   "id": "f6758b58",
   "metadata": {},
   "outputs": [],
   "source": []
  },
  {
   "cell_type": "code",
   "execution_count": null,
   "id": "9093905b",
   "metadata": {},
   "outputs": [],
   "source": []
  },
  {
   "cell_type": "code",
   "execution_count": null,
   "id": "d67447c5",
   "metadata": {},
   "outputs": [],
   "source": []
  },
  {
   "cell_type": "code",
   "execution_count": null,
   "id": "014408ea",
   "metadata": {},
   "outputs": [],
   "source": []
  },
  {
   "cell_type": "code",
   "execution_count": null,
   "id": "ced496ba",
   "metadata": {},
   "outputs": [],
   "source": []
  },
  {
   "cell_type": "code",
   "execution_count": null,
   "id": "89f350b9",
   "metadata": {},
   "outputs": [],
   "source": []
  },
  {
   "cell_type": "code",
   "execution_count": null,
   "id": "296798ec",
   "metadata": {},
   "outputs": [],
   "source": []
  },
  {
   "cell_type": "code",
   "execution_count": null,
   "id": "13df3d79",
   "metadata": {},
   "outputs": [],
   "source": []
  },
  {
   "cell_type": "code",
   "execution_count": null,
   "id": "2276bfcb",
   "metadata": {},
   "outputs": [],
   "source": []
  },
  {
   "cell_type": "code",
   "execution_count": null,
   "id": "ef0c4339",
   "metadata": {},
   "outputs": [],
   "source": []
  },
  {
   "cell_type": "code",
   "execution_count": null,
   "id": "f9fc9538",
   "metadata": {},
   "outputs": [],
   "source": []
  },
  {
   "cell_type": "code",
   "execution_count": null,
   "id": "e5579cbd",
   "metadata": {},
   "outputs": [],
   "source": []
  },
  {
   "cell_type": "code",
   "execution_count": null,
   "id": "232d35e2",
   "metadata": {},
   "outputs": [],
   "source": []
  },
  {
   "cell_type": "code",
   "execution_count": null,
   "id": "792dce94",
   "metadata": {},
   "outputs": [],
   "source": []
  },
  {
   "cell_type": "code",
   "execution_count": null,
   "id": "3a787763",
   "metadata": {},
   "outputs": [],
   "source": []
  },
  {
   "cell_type": "code",
   "execution_count": null,
   "id": "1eeb92cf",
   "metadata": {},
   "outputs": [],
   "source": []
  },
  {
   "cell_type": "code",
   "execution_count": null,
   "id": "46078b12",
   "metadata": {},
   "outputs": [],
   "source": []
  },
  {
   "cell_type": "code",
   "execution_count": null,
   "id": "8ea06f2b",
   "metadata": {},
   "outputs": [],
   "source": []
  },
  {
   "cell_type": "code",
   "execution_count": null,
   "id": "d847f10b",
   "metadata": {},
   "outputs": [],
   "source": []
  },
  {
   "cell_type": "code",
   "execution_count": null,
   "id": "bc979227",
   "metadata": {},
   "outputs": [],
   "source": []
  },
  {
   "cell_type": "code",
   "execution_count": null,
   "id": "aa32652f",
   "metadata": {},
   "outputs": [],
   "source": []
  },
  {
   "cell_type": "code",
   "execution_count": null,
   "id": "1f4879be",
   "metadata": {},
   "outputs": [],
   "source": []
  },
  {
   "cell_type": "code",
   "execution_count": null,
   "id": "a13ed6c0",
   "metadata": {},
   "outputs": [],
   "source": []
  },
  {
   "cell_type": "code",
   "execution_count": null,
   "id": "ae726a6f",
   "metadata": {},
   "outputs": [],
   "source": []
  },
  {
   "cell_type": "code",
   "execution_count": null,
   "id": "66095ed0",
   "metadata": {},
   "outputs": [],
   "source": []
  },
  {
   "cell_type": "code",
   "execution_count": null,
   "id": "5dc41cb0",
   "metadata": {},
   "outputs": [],
   "source": []
  },
  {
   "cell_type": "code",
   "execution_count": null,
   "id": "d65bf9d0",
   "metadata": {},
   "outputs": [],
   "source": []
  },
  {
   "cell_type": "code",
   "execution_count": null,
   "id": "70ca930f",
   "metadata": {},
   "outputs": [],
   "source": []
  }
 ],
 "metadata": {
  "kernelspec": {
   "display_name": "Python 3 (ipykernel)",
   "language": "python",
   "name": "python3"
  },
  "language_info": {
   "codemirror_mode": {
    "name": "ipython",
    "version": 3
   },
   "file_extension": ".py",
   "mimetype": "text/x-python",
   "name": "python",
   "nbconvert_exporter": "python",
   "pygments_lexer": "ipython3",
   "version": "3.9.12"
  }
 },
 "nbformat": 4,
 "nbformat_minor": 5
}
