{
 "cells": [
  {
   "cell_type": "markdown",
   "id": "7922f951",
   "metadata": {},
   "source": [
    "### Python Basics Day 2"
   ]
  },
  {
   "cell_type": "markdown",
   "id": "f3af3d44",
   "metadata": {},
   "source": [
    "#### Conditional Statements"
   ]
  },
  {
   "cell_type": "code",
   "execution_count": 3,
   "id": "490dd9ed",
   "metadata": {},
   "outputs": [
    {
     "name": "stdout",
     "output_type": "stream",
     "text": [
      "15\n",
      "x is more than 15\n"
     ]
    }
   ],
   "source": [
    "# checking for certain conditions using if statement\n",
    "\n",
    "x=int(input())\n",
    "\n",
    "if x>=15:\n",
    "    print('x is more than 15')"
   ]
  },
  {
   "cell_type": "code",
   "execution_count": 5,
   "id": "456e81d8",
   "metadata": {},
   "outputs": [
    {
     "name": "stdout",
     "output_type": "stream",
     "text": [
      "22\n",
      "x is equal or more than 15\n"
     ]
    }
   ],
   "source": [
    "# checking for certain conditions using if statement\n",
    "\n",
    "x=int(input())\n",
    "\n",
    "if x>=15:\n",
    "    print('x is equal or more than 15')\n",
    "else:\n",
    "    print('x is smaller than 15')"
   ]
  },
  {
   "cell_type": "code",
   "execution_count": 6,
   "id": "3a18a201",
   "metadata": {},
   "outputs": [
    {
     "name": "stdout",
     "output_type": "stream",
     "text": [
      "23\n",
      "24\n",
      "S2 is elder\n"
     ]
    }
   ],
   "source": [
    "# There are two siblings, s1 and s2. Ask them to enter their age\n",
    "# and determine who is elder?\n",
    "s1=int(input())\n",
    "s2=int(input())\n",
    "if s1>s2:\n",
    "    print('S1 is elder')\n",
    "else:\n",
    "    print('S2 is elder')"
   ]
  },
  {
   "cell_type": "code",
   "execution_count": 8,
   "id": "522357cb",
   "metadata": {},
   "outputs": [],
   "source": [
    "# we can also use logical operators:\n",
    "a=10\n",
    "b=20\n",
    "c=30\n",
    "\n",
    "if a>b and a>c:\n",
    "    print('a is greatest')\n",
    "\n",
    "if a>b or a>c:\n",
    "    print('a is better than b and c')"
   ]
  },
  {
   "cell_type": "code",
   "execution_count": 9,
   "id": "62f115f9",
   "metadata": {},
   "outputs": [
    {
     "name": "stdout",
     "output_type": "stream",
     "text": [
      "345\n",
      "triple digit number\n"
     ]
    }
   ],
   "source": [
    "# creating if-elif-else ladder\n",
    "a=int(input())\n",
    "if a>0 and a<10:\n",
    "    print('Single digit number')\n",
    "elif a>=10 and a<100:\n",
    "    print('double digit number')\n",
    "elif a>=100 and a<1000:\n",
    "    print('triple digit number')\n",
    "else:\n",
    "    print('a is more than 3 digits')"
   ]
  },
  {
   "cell_type": "code",
   "execution_count": 11,
   "id": "71f24ca7",
   "metadata": {},
   "outputs": [
    {
     "name": "stdout",
     "output_type": "stream",
     "text": [
      "b\n"
     ]
    }
   ],
   "source": [
    "# find the largest of 3 integers\n",
    "a,b,c=20,25,14\n",
    "\n",
    "if a>b and a>c:\n",
    "    print('a')\n",
    "elif b>c and b>a:\n",
    "    print('b')\n",
    "else:\n",
    "    print('c')"
   ]
  },
  {
   "cell_type": "code",
   "execution_count": 12,
   "id": "c536b35e",
   "metadata": {},
   "outputs": [
    {
     "name": "stdout",
     "output_type": "stream",
     "text": [
      "c\n"
     ]
    }
   ],
   "source": [
    "# nestef if statements\n",
    "\n",
    "a,b,c=20,23,24\n",
    "\n",
    "if a>b:\n",
    "    if a>c:\n",
    "        print('a')\n",
    "    else:\n",
    "        print('c')\n",
    "else:\n",
    "    if b>c:\n",
    "        print('b')\n",
    "    else:\n",
    "        print('c')"
   ]
  },
  {
   "cell_type": "code",
   "execution_count": 13,
   "id": "d93a266c",
   "metadata": {},
   "outputs": [
    {
     "name": "stdout",
     "output_type": "stream",
     "text": [
      "89\n",
      "grade A\n"
     ]
    }
   ],
   "source": [
    "# Allocate the grades to student based on marks obtained(0-100)\n",
    "# according to table given below:\n",
    "# 91-100 Grade A+\n",
    "# 81-90 Grade A\n",
    "# 76-80 Grade B\n",
    "# 66-75 Grade C\n",
    "# 50-65 Grade D\n",
    "# below 50 Fail\n",
    "a=float(input())\n",
    "if a>90:\n",
    "    print('grade A+')\n",
    "elif a>=80 and a<=90:\n",
    "    print('grade A')\n",
    "elif a>=76 and a<80:\n",
    "    print('grade B')"
   ]
  },
  {
   "cell_type": "code",
   "execution_count": 14,
   "id": "ce6c489f",
   "metadata": {},
   "outputs": [
    {
     "name": "stdout",
     "output_type": "stream",
     "text": [
      "x in range 0-100\n"
     ]
    }
   ],
   "source": [
    "# if with IN operator:\n",
    "\n",
    "x=78\n",
    "\n",
    "if x in range(0,100):\n",
    "    print('x in range 0-100')\n",
    "# IN operator checks membership"
   ]
  },
  {
   "cell_type": "code",
   "execution_count": 15,
   "id": "11f38138",
   "metadata": {},
   "outputs": [
    {
     "name": "stdout",
     "output_type": "stream",
     "text": [
      "It is out of range\n"
     ]
    }
   ],
   "source": [
    "x=34\n",
    "\n",
    "if x not in range(50,100):\n",
    "    print('It is out of range')\n",
    "else:\n",
    "    print('within range')"
   ]
  },
  {
   "cell_type": "code",
   "execution_count": 16,
   "id": "e0e136cc",
   "metadata": {},
   "outputs": [
    {
     "name": "stdout",
     "output_type": "stream",
     "text": [
      "Hola!\n"
     ]
    }
   ],
   "source": [
    "values=iter(range(50))\n",
    "\n",
    "if 23 in values:\n",
    "    print('Hola!')"
   ]
  },
  {
   "cell_type": "code",
   "execution_count": 18,
   "id": "915e612a",
   "metadata": {},
   "outputs": [
    {
     "name": "stdout",
     "output_type": "stream",
     "text": [
      "29\n",
      "EUREKA\n"
     ]
    }
   ],
   "source": [
    "# create a tricky collection of values and ask user to guess a number\n",
    "# if number is in collection print \"EUREKA\"\n",
    "# else print \"Try Again!\"\n",
    "\n",
    "values=iter(range(23, 78, 3))\n",
    "guess=int(input())\n",
    "if guess in values:\n",
    "    print('EUREKA')\n",
    "else:\n",
    "    print('try Again!')"
   ]
  },
  {
   "cell_type": "markdown",
   "id": "c9b0e7a3",
   "metadata": {},
   "source": [
    "## Loops in Python"
   ]
  },
  {
   "cell_type": "markdown",
   "id": "031113be",
   "metadata": {},
   "source": [
    "#### While Loop"
   ]
  },
  {
   "cell_type": "code",
   "execution_count": 20,
   "id": "b81c7bd0",
   "metadata": {},
   "outputs": [
    {
     "name": "stdout",
     "output_type": "stream",
     "text": [
      "Before Loop\n",
      "I is less than 10\n",
      "I is less than 10\n",
      "I is less than 10\n",
      "I is less than 10\n",
      "I is less than 10\n",
      "After Loop\n"
     ]
    }
   ],
   "source": [
    "i=0\n",
    "print('Before Loop')\n",
    "while i<5:\n",
    "    print('I is less than 10')\n",
    "    i+=1\n",
    "print('After Loop')"
   ]
  },
  {
   "cell_type": "code",
   "execution_count": 25,
   "id": "35e649d9",
   "metadata": {},
   "outputs": [
    {
     "name": "stdout",
     "output_type": "stream",
     "text": [
      "10\n",
      "1 \n",
      "2 3 \n",
      "4 5 6 \n",
      "7 8 9 10 \n",
      "11 12 13 14 15 \n",
      "16 17 18 19 20 21 \n",
      "22 23 24 25 26 27 28 \n",
      "29 30 31 32 33 34 35 36 \n",
      "37 38 39 40 41 42 43 44 45 \n",
      "46 47 48 49 50 51 52 53 54 55 \n"
     ]
    }
   ],
   "source": [
    "# write a python code to print following:\n",
    "# 1\n",
    "# 2 3\n",
    "# 4 5 6\n",
    "# 7 8 9 10\n",
    "#\n",
    "n=int(input())\n",
    "i=1\n",
    "j=1\n",
    "while j<=n:\n",
    "    k=0\n",
    "    while k<j:\n",
    "        print(i, end=' ')\n",
    "        i+=1\n",
    "        k+=1\n",
    "    print()\n",
    "    j+=1"
   ]
  },
  {
   "cell_type": "code",
   "execution_count": 27,
   "id": "b88de9f6",
   "metadata": {},
   "outputs": [
    {
     "name": "stdout",
     "output_type": "stream",
     "text": [
      "Enter No of Lines: 10\n",
      "Enter Marker Symbol: #\n",
      "         #\n",
      "        ##\n",
      "       ###\n",
      "      ####\n",
      "     #####\n",
      "    ######\n",
      "   #######\n",
      "  ########\n",
      " #########\n",
      "##########\n"
     ]
    }
   ],
   "source": [
    "# print following pattern for given N lines:\n",
    "\n",
    "#       *\n",
    "#     * *\n",
    "#   * * *\n",
    "# * * * *\n",
    "\n",
    "n=int(input('Enter No of Lines: '))\n",
    "line=1\n",
    "marker_symbol=input('Enter Marker Symbol: ')\n",
    "while line<=n:\n",
    "    spaces=n-line\n",
    "    markers=line\n",
    "    print(' '*spaces, marker_symbol*markers, sep='')\n",
    "    line+=1"
   ]
  },
  {
   "cell_type": "code",
   "execution_count": 64,
   "id": "6733a417",
   "metadata": {},
   "outputs": [
    {
     "name": "stdout",
     "output_type": "stream",
     "text": [
      "7\n",
      "31                               *                               \n",
      "31                               **                               \n",
      "30                              ****                              \n",
      "28                            ********                            \n",
      "24                        ****************                        \n",
      "16                ********************************                \n",
      "0****************************************************************\n"
     ]
    }
   ],
   "source": [
    "#         *    \n",
    "#        **   \n",
    "#       ****  \n",
    "#     ********\n",
    "# ****************\n",
    "n=int(input())\n",
    "line=0\n",
    "while line<n:\n",
    "    markers=pow(2,line)\n",
    "    spaces=(pow(2,n-1)-markers)//2\n",
    "    print(spaces,end='')\n",
    "    print(' '*spaces, end='')\n",
    "    print('*'*markers, end='')\n",
    "    print(' '*spaces)\n",
    "    line+=1"
   ]
  },
  {
   "cell_type": "markdown",
   "id": "a9c6af5a",
   "metadata": {},
   "source": [
    "#### BREAK"
   ]
  },
  {
   "cell_type": "code",
   "execution_count": 46,
   "id": "bea6b6bf",
   "metadata": {},
   "outputs": [
    {
     "name": "stdout",
     "output_type": "stream",
     "text": [
      "value of i= 50\tvalue of i= 51\tvalue of i= 52\tvalue of i= 53\tvalue of i= 54\tvalue of i= 55\tvalue of i= 56\t"
     ]
    }
   ],
   "source": [
    "i=50\n",
    "while i<100:\n",
    "    print('value of i=',i, end='\\t')\n",
    "    i+=1\n",
    "    if i%19==0:\n",
    "        break"
   ]
  },
  {
   "cell_type": "code",
   "execution_count": 57,
   "id": "684db1f2",
   "metadata": {},
   "outputs": [
    {
     "name": "stdout",
     "output_type": "stream",
     "text": [
      "2\n",
      "2\n",
      "5\n",
      "5\n",
      "98\n",
      "98\n",
      "432\n",
      "432\n",
      "777\n"
     ]
    }
   ],
   "source": [
    "# write a code that keeps accepting int from user and prints it\n",
    "# back to screen until number 777 is received.\n",
    "\n",
    "while True:\n",
    "    val=int(input())\n",
    "    if val==777:\n",
    "        break\n",
    "    else:\n",
    "        print(val)"
   ]
  },
  {
   "cell_type": "markdown",
   "id": "7b5c7d40",
   "metadata": {},
   "source": [
    "#### while-else"
   ]
  },
  {
   "cell_type": "code",
   "execution_count": 74,
   "id": "334cfe1a",
   "metadata": {},
   "outputs": [
    {
     "name": "stdout",
     "output_type": "stream",
     "text": [
      "counter=  0\n"
     ]
    }
   ],
   "source": [
    "i=0\n",
    "counter=0\n",
    "while i>10:\n",
    "    counter+=5\n",
    "    i+=1\n",
    "else:\n",
    "    print('counter= ', counter)"
   ]
  },
  {
   "cell_type": "code",
   "execution_count": 72,
   "id": "dcb58cf2",
   "metadata": {},
   "outputs": [
    {
     "name": "stdout",
     "output_type": "stream",
     "text": [
      "END\n"
     ]
    }
   ],
   "source": [
    "i=0\n",
    "counter=0\n",
    "while True:\n",
    "    counter+=5\n",
    "    i+=1\n",
    "    if i%117==8:\n",
    "        break\n",
    "else:\n",
    "    print('counter= ', counter)\n",
    "print('END')"
   ]
  },
  {
   "cell_type": "markdown",
   "id": "2637bba9",
   "metadata": {},
   "source": [
    "#### continue"
   ]
  },
  {
   "cell_type": "code",
   "execution_count": 9,
   "id": "53e6a49e",
   "metadata": {
    "collapsed": true
   },
   "outputs": [
    {
     "name": "stdout",
     "output_type": "stream",
     "text": [
      " i= 1\n",
      " i= 2\n",
      " i= 4\n",
      " i= 5\n",
      " i= 7\n",
      " i= 8\n",
      " i= 10\n",
      " i= 11\n",
      " i= 13\n",
      " i= 14\n",
      " i= 16\n",
      " i= 17\n",
      " i= 19\n",
      " i= 20\n",
      " i= 22\n",
      " i= 23\n",
      " i= 25\n",
      " i= 26\n",
      " i= 28\n",
      " i= 29\n",
      " i= 31\n",
      " i= 32\n",
      " i= 34\n",
      " i= 35\n",
      " i= 37\n",
      " i= 38\n",
      " i= 40\n",
      " i= 41\n",
      " i= 43\n",
      " i= 44\n",
      " i= 46\n",
      " i= 47\n",
      " i= 49\n",
      " i= 50\n",
      " i= 52\n",
      " i= 53\n",
      " i= 55\n",
      " i= 56\n",
      " i= 58\n",
      " i= 59\n",
      " i= 61\n",
      " i= 62\n",
      " i= 64\n",
      " i= 65\n",
      " i= 67\n",
      " i= 68\n",
      " i= 70\n",
      " i= 71\n",
      " i= 73\n",
      " i= 74\n",
      " i= 76\n",
      " i= 77\n",
      " i= 79\n",
      " i= 80\n",
      " i= 82\n",
      " i= 83\n",
      " i= 85\n",
      " i= 86\n",
      " i= 88\n",
      " i= 89\n",
      " i= 91\n",
      " i= 92\n",
      " i= 94\n",
      " i= 95\n",
      " i= 97\n",
      " i= 98\n",
      " i= 100\n"
     ]
    }
   ],
   "source": [
    "# continue is opposite of break\n",
    "i=0\n",
    "while i<100:\n",
    "    i+=1\n",
    "    if i%3==0:\n",
    "        continue\n",
    "    print(' i= ', i, sep='')"
   ]
  },
  {
   "cell_type": "markdown",
   "id": "92eca3c0",
   "metadata": {},
   "source": [
    "### FOR LOOP"
   ]
  },
  {
   "cell_type": "code",
   "execution_count": 10,
   "id": "1131df35",
   "metadata": {},
   "outputs": [],
   "source": [
    "# for <iterator> in <iterable>:\n",
    "#      do something"
   ]
  },
  {
   "cell_type": "code",
   "execution_count": 12,
   "id": "9a266dd2",
   "metadata": {},
   "outputs": [
    {
     "name": "stdout",
     "output_type": "stream",
     "text": [
      "0\n",
      "1\n",
      "2\n",
      "3\n",
      "4\n"
     ]
    }
   ],
   "source": [
    "for i in range(5):\n",
    "    print(i)"
   ]
  },
  {
   "cell_type": "code",
   "execution_count": 13,
   "id": "03fc4882",
   "metadata": {},
   "outputs": [
    {
     "name": "stdout",
     "output_type": "stream",
     "text": [
      "5\n",
      "6\n",
      "7\n",
      "8\n",
      "9\n"
     ]
    }
   ],
   "source": [
    "for i in range(5,10):\n",
    "    print(i)"
   ]
  },
  {
   "cell_type": "code",
   "execution_count": 14,
   "id": "4e3755e5",
   "metadata": {
    "scrolled": true
   },
   "outputs": [
    {
     "name": "stdout",
     "output_type": "stream",
     "text": [
      "5\n",
      "8\n",
      "11\n",
      "14\n",
      "17\n",
      "20\n",
      "23\n",
      "26\n",
      "29\n"
     ]
    }
   ],
   "source": [
    "for i in range(5,30, 3):\n",
    "    print(i)"
   ]
  },
  {
   "cell_type": "code",
   "execution_count": 15,
   "id": "8cb735c8",
   "metadata": {},
   "outputs": [
    {
     "name": "stdout",
     "output_type": "stream",
     "text": [
      "8\n",
      "7\n",
      "6\n",
      "5\n",
      "4\n",
      "3\n",
      "2\n",
      "1\n"
     ]
    }
   ],
   "source": [
    "i=8\n",
    "while i>0:\n",
    "    print(i)\n",
    "    i-=1"
   ]
  },
  {
   "cell_type": "code",
   "execution_count": 16,
   "id": "fd63aa66",
   "metadata": {},
   "outputs": [
    {
     "name": "stdout",
     "output_type": "stream",
     "text": [
      "30\n",
      "26\n",
      "22\n",
      "18\n",
      "14\n"
     ]
    }
   ],
   "source": [
    "for i in range(30,10, -4):\n",
    "    print(i)"
   ]
  },
  {
   "cell_type": "code",
   "execution_count": 21,
   "id": "0632b378",
   "metadata": {},
   "outputs": [
    {
     "name": "stdout",
     "output_type": "stream",
     "text": [
      "1\n",
      "2\n",
      "3\n",
      "4\n",
      "5\n",
      "6\n",
      "7\n",
      "8\n",
      "9\n"
     ]
    }
   ],
   "source": [
    "for i in range(1, 10, 1):\n",
    "    print(i)"
   ]
  },
  {
   "cell_type": "code",
   "execution_count": 22,
   "id": "e41a69e8",
   "metadata": {},
   "outputs": [
    {
     "name": "stdout",
     "output_type": "stream",
     "text": [
      "5\n",
      "4.6\n",
      "4.199999999999999\n",
      "3.7999999999999994\n",
      "3.3999999999999995\n",
      "2.9999999999999996\n",
      "2.5999999999999996\n",
      "2.1999999999999997\n",
      "1.7999999999999998\n",
      "1.4\n"
     ]
    }
   ],
   "source": [
    "i=5\n",
    "while i>1:\n",
    "    print(i)\n",
    "    i-=0.4"
   ]
  },
  {
   "cell_type": "code",
   "execution_count": 27,
   "id": "dd2554c0",
   "metadata": {},
   "outputs": [
    {
     "name": "stdout",
     "output_type": "stream",
     "text": [
      "\n",
      "A \n",
      "B C \n",
      "D E F \n",
      "G H I J \n",
      "K L M N O \n",
      "P Q R S T U \n"
     ]
    }
   ],
   "source": [
    "# Print following pattern\n",
    "'''\n",
    "A \n",
    "B C \n",
    "D E F \n",
    "G H I J \n",
    "K L M N O \n",
    "P Q R S T U \n",
    "'''\n",
    "char=65\n",
    "for i in range(7):\n",
    "    for j in range(i):\n",
    "        print(chr(char),end=' ')\n",
    "        char+=1\n",
    "    print()"
   ]
  },
  {
   "cell_type": "code",
   "execution_count": 33,
   "id": "f3915ba3",
   "metadata": {},
   "outputs": [
    {
     "name": "stdout",
     "output_type": "stream",
     "text": [
      "67895\n",
      "INVALID NUMBER\n"
     ]
    }
   ],
   "source": [
    "# Accept an integer from user. If it has less than 3 digits or\n",
    "# more than 4 digits, print \"INVALID NUMBER\".\n",
    "# In other case print the number in reverse order of digits:\n",
    "# example: 456 => 654\n",
    "# examlpe: 5632 => 2365\n",
    "# example: 12 => INVALID NUMBER\n",
    "\n",
    "num=int(input())\n",
    "if num<100 or num>9999:\n",
    "    print('INVALID NUMBER')\n",
    "else:\n",
    "    while num>0:\n",
    "        print(num%10, end='')\n",
    "        num=num//10"
   ]
  },
  {
   "cell_type": "code",
   "execution_count": 34,
   "id": "2c033e04",
   "metadata": {},
   "outputs": [
    {
     "name": "stdout",
     "output_type": "stream",
     "text": [
      "456\n",
      "654\n"
     ]
    }
   ],
   "source": [
    "num=int(input())\n",
    "if num<100 or num>9999:\n",
    "    print('INVALID NUMBER')\n",
    "else:\n",
    "    print(int(str(num)[::-1]))"
   ]
  },
  {
   "cell_type": "code",
   "execution_count": 42,
   "id": "aaf8267d",
   "metadata": {},
   "outputs": [
    {
     "name": "stdout",
     "output_type": "stream",
     "text": [
      "34\n",
      "INVALID NUMBER\n"
     ]
    }
   ],
   "source": [
    "'''\n",
    "Accept an integer from user. If it is not 3 digit integer then\n",
    "print INVALID NUMBER else find whether it is AMSTRONG number or not.\n",
    "A 3 digit AMSTRONG number is one whose sum of cubes of its digits is \n",
    "same as number itself. In such case print AMSTRONG or NOT AMSTRONG.\n",
    "Example: 371 => AMSTRONG\n",
    "        (3**3 + 7**3 + 1**3) = 371\n",
    "Example: 262 => NOT AMSTRONG\n",
    "\n",
    "Example: 97 => INVALID NUMBER\n",
    "'''\n",
    "\n",
    "num=int(input())\n",
    "if num in range(100,1000):\n",
    "    sum=0\n",
    "    temp=num\n",
    "    while num>0:\n",
    "        sum+=(num%10)**3\n",
    "        num//=10\n",
    "    if sum==temp:\n",
    "        print(\"AMSTRONG\")\n",
    "    else:\n",
    "        print(\"NOT AMSTRONG\")\n",
    "else:\n",
    "    print('INVALID NUMBER')"
   ]
  },
  {
   "cell_type": "code",
   "execution_count": 48,
   "id": "63a60824",
   "metadata": {},
   "outputs": [
    {
     "name": "stdout",
     "output_type": "stream",
     "text": [
      "45\n",
      "INVALID NUMBER\n"
     ]
    }
   ],
   "source": [
    "num=input()\n",
    "if len(num)==3:\n",
    "    sum=0\n",
    "    for digit in num:\n",
    "        sum+=int(digit)**3\n",
    "    if sum==int(num):\n",
    "        print('AMSTRONG')\n",
    "    else:\n",
    "        print('NOT AMSTRONG')\n",
    "else:\n",
    "    print('INVALID NUMBER')"
   ]
  },
  {
   "cell_type": "code",
   "execution_count": 59,
   "id": "7042187a",
   "metadata": {},
   "outputs": [
    {
     "name": "stdout",
     "output_type": "stream",
     "text": [
      "153\n",
      "370\n",
      "371\n",
      "407\n"
     ]
    }
   ],
   "source": [
    "# find all AMSTRONG numbers between 100 and 1000\n",
    "for num in range(100, 1000):\n",
    "    temp=num\n",
    "    sum=0\n",
    "    while num>0:\n",
    "        sum+=(num%10)**3\n",
    "        num//=10\n",
    "    if sum==temp:\n",
    "        print(sum)"
   ]
  },
  {
   "cell_type": "code",
   "execution_count": 60,
   "id": "f7499661",
   "metadata": {},
   "outputs": [
    {
     "name": "stdout",
     "output_type": "stream",
     "text": [
      "10\n",
      "0,1,1,2,3,5,8,13,21,34,"
     ]
    }
   ],
   "source": [
    "# genearte fibonacci series of first N numbers\n",
    "# series: 0,1,1,2,3,5,8,13,21,34,55,89.....N\n",
    "\n",
    "n=int(input())\n",
    "last=0\n",
    "curr=1\n",
    "print(last, curr, sep=',',end=',')\n",
    "for i in range(2,n):\n",
    "    term=curr+last\n",
    "    print(term, end=',')\n",
    "    last=curr\n",
    "    curr=term"
   ]
  },
  {
   "cell_type": "code",
   "execution_count": 71,
   "id": "e71fcf9e",
   "metadata": {},
   "outputs": [
    {
     "data": {
      "text/plain": [
       "' A naughty child is playing out in field and has habit of making \\nhops in a specific pattern. \\nfirst hop is 01 step ahead\\nnext hop is 02 steps ahead \\nnext hop is 03 steps ahead\\n\\nhe follows this pattern throughout\\n\\nCalculate the step position he reaches for given N hops; \\nconsidering that he starts from 0 (zero)'"
      ]
     },
     "execution_count": 71,
     "metadata": {},
     "output_type": "execute_result"
    }
   ],
   "source": [
    "# Question\n",
    "''' A naughty child is playing out in field and has habit of making \n",
    "hops in a specific pattern. \n",
    "first hop is 01 step ahead\n",
    "next hop is 02 steps ahead \n",
    "next hop is 03 steps ahead\n",
    "\n",
    "he follows this pattern throughout\n",
    "\n",
    "Calculate the step position he reaches for given N hops; \n",
    "considering that he starts from 0 (zero)'''\n",
    "\n",
    "# Example: hop=7, position=13\n",
    "# Example: hop=50, position=99\n",
    "# Example: hop=100, position=199"
   ]
  },
  {
   "cell_type": "code",
   "execution_count": 72,
   "id": "a78447da",
   "metadata": {},
   "outputs": [
    {
     "name": "stdout",
     "output_type": "stream",
     "text": [
      "Enter Hops: 100\n",
      "1 => 1\n",
      "2 => 3\n",
      "3 => 6\n",
      "4 => 7\n",
      "5 => 9\n",
      "6 => 12\n",
      "7 => 13\n",
      "8 => 15\n",
      "9 => 18\n",
      "10 => 19\n",
      "11 => 21\n",
      "12 => 24\n",
      "13 => 25\n",
      "14 => 27\n",
      "15 => 30\n",
      "16 => 31\n",
      "17 => 33\n",
      "18 => 36\n",
      "19 => 37\n",
      "20 => 39\n",
      "21 => 42\n",
      "22 => 43\n",
      "23 => 45\n",
      "24 => 48\n",
      "25 => 49\n",
      "26 => 51\n",
      "27 => 54\n",
      "28 => 55\n",
      "29 => 57\n",
      "30 => 60\n",
      "31 => 61\n",
      "32 => 63\n",
      "33 => 66\n",
      "34 => 67\n",
      "35 => 69\n",
      "36 => 72\n",
      "37 => 73\n",
      "38 => 75\n",
      "39 => 78\n",
      "40 => 79\n",
      "41 => 81\n",
      "42 => 84\n",
      "43 => 85\n",
      "44 => 87\n",
      "45 => 90\n",
      "46 => 91\n",
      "47 => 93\n",
      "48 => 96\n",
      "49 => 97\n",
      "50 => 99\n",
      "51 => 102\n",
      "52 => 103\n",
      "53 => 105\n",
      "54 => 108\n",
      "55 => 109\n",
      "56 => 111\n",
      "57 => 114\n",
      "58 => 115\n",
      "59 => 117\n",
      "60 => 120\n",
      "61 => 121\n",
      "62 => 123\n",
      "63 => 126\n",
      "64 => 127\n",
      "65 => 129\n",
      "66 => 132\n",
      "67 => 133\n",
      "68 => 135\n",
      "69 => 138\n",
      "70 => 139\n",
      "71 => 141\n",
      "72 => 144\n",
      "73 => 145\n",
      "74 => 147\n",
      "75 => 150\n",
      "76 => 151\n",
      "77 => 153\n",
      "78 => 156\n",
      "79 => 157\n",
      "80 => 159\n",
      "81 => 162\n",
      "82 => 163\n",
      "83 => 165\n",
      "84 => 168\n",
      "85 => 169\n",
      "86 => 171\n",
      "87 => 174\n",
      "88 => 175\n",
      "89 => 177\n",
      "90 => 180\n",
      "91 => 181\n",
      "92 => 183\n",
      "93 => 186\n",
      "94 => 187\n",
      "95 => 189\n",
      "96 => 192\n",
      "97 => 193\n",
      "98 => 195\n",
      "99 => 198\n",
      "100 => 199\n",
      "Position after  100  hops is  199\n"
     ]
    }
   ],
   "source": [
    "hops=int(input('Enter Hops: '))\n",
    "step=0\n",
    "position=0\n",
    "for hop in range(1,hops+1):\n",
    "    step+=1\n",
    "    position+=step\n",
    "    print(hop, '=>', position)\n",
    "    if step==3:\n",
    "        step=0\n",
    "print('Position after ',hops,' hops is ',position)"
   ]
  },
  {
   "cell_type": "code",
   "execution_count": 66,
   "id": "236f1fbb",
   "metadata": {},
   "outputs": [
    {
     "name": "stdout",
     "output_type": "stream",
     "text": [
      "50\n",
      "99\n"
     ]
    }
   ],
   "source": [
    "# version 2\n",
    "hops=int(input())\n",
    "c=0\n",
    "for i in range(1,hops+1):\n",
    "    if i%3==1:\n",
    "        c+=1\n",
    "    elif i%3==2:\n",
    "        c+=2\n",
    "    else:\n",
    "        c+=3\n",
    "print(c)"
   ]
  },
  {
   "cell_type": "code",
   "execution_count": 70,
   "id": "dea5090d",
   "metadata": {},
   "outputs": [
    {
     "name": "stdout",
     "output_type": "stream",
     "text": [
      "7\n",
      "13\n"
     ]
    }
   ],
   "source": [
    "# version 3\n",
    "hops=int(input())\n",
    "rem=hops%3\n",
    "steps=(hops//3)*6\n",
    "if rem==1:\n",
    "    steps+=1\n",
    "elif rem==2:\n",
    "    steps+=3\n",
    "print(steps)"
   ]
  },
  {
   "cell_type": "code",
   "execution_count": 75,
   "id": "e33c0cd3",
   "metadata": {},
   "outputs": [
    {
     "name": "stdout",
     "output_type": "stream",
     "text": [
      "13\n",
      "valid\n"
     ]
    }
   ],
   "source": [
    "# Using above question logic, determine whether a given position\n",
    "# is possible to achieve or not.\n",
    "\n",
    "position=int(input())\n",
    "if position%3==0 or position%3==1:\n",
    "    print('valid')\n",
    "else:\n",
    "    print('invalid')"
   ]
  },
  {
   "cell_type": "code",
   "execution_count": 76,
   "id": "8348932f",
   "metadata": {},
   "outputs": [
    {
     "name": "stdout",
     "output_type": "stream",
     "text": [
      "Enter Hops: 100\n",
      "1 => 1 valid\n",
      "2 => 3 valid\n",
      "3 => 6 valid\n",
      "4 => 7 valid\n",
      "5 => 9 valid\n",
      "6 => 12 valid\n",
      "7 => 13 valid\n",
      "8 => 15 valid\n",
      "9 => 18 valid\n",
      "10 => 19 valid\n",
      "11 => 21 valid\n",
      "12 => 24 valid\n",
      "13 => 25 valid\n",
      "14 => 27 valid\n",
      "15 => 30 valid\n",
      "16 => 31 valid\n",
      "17 => 33 valid\n",
      "18 => 36 valid\n",
      "19 => 37 valid\n",
      "20 => 39 valid\n",
      "21 => 42 valid\n",
      "22 => 43 valid\n",
      "23 => 45 valid\n",
      "24 => 48 valid\n",
      "25 => 49 valid\n",
      "26 => 51 valid\n",
      "27 => 54 valid\n",
      "28 => 55 valid\n",
      "29 => 57 valid\n",
      "30 => 60 valid\n",
      "31 => 61 valid\n",
      "32 => 63 valid\n",
      "33 => 66 valid\n",
      "34 => 67 valid\n",
      "35 => 69 valid\n",
      "36 => 72 valid\n",
      "37 => 73 valid\n",
      "38 => 75 valid\n",
      "39 => 78 valid\n",
      "40 => 79 valid\n",
      "41 => 81 valid\n",
      "42 => 84 valid\n",
      "43 => 85 valid\n",
      "44 => 87 valid\n",
      "45 => 90 valid\n",
      "46 => 91 valid\n",
      "47 => 93 valid\n",
      "48 => 96 valid\n",
      "49 => 97 valid\n",
      "50 => 99 valid\n",
      "51 => 102 valid\n",
      "52 => 103 valid\n",
      "53 => 105 valid\n",
      "54 => 108 valid\n",
      "55 => 109 valid\n",
      "56 => 111 valid\n",
      "57 => 114 valid\n",
      "58 => 115 valid\n",
      "59 => 117 valid\n",
      "60 => 120 valid\n",
      "61 => 121 valid\n",
      "62 => 123 valid\n",
      "63 => 126 valid\n",
      "64 => 127 valid\n",
      "65 => 129 valid\n",
      "66 => 132 valid\n",
      "67 => 133 valid\n",
      "68 => 135 valid\n",
      "69 => 138 valid\n",
      "70 => 139 valid\n",
      "71 => 141 valid\n",
      "72 => 144 valid\n",
      "73 => 145 valid\n",
      "74 => 147 valid\n",
      "75 => 150 valid\n",
      "76 => 151 valid\n",
      "77 => 153 valid\n",
      "78 => 156 valid\n",
      "79 => 157 valid\n",
      "80 => 159 valid\n",
      "81 => 162 valid\n",
      "82 => 163 valid\n",
      "83 => 165 valid\n",
      "84 => 168 valid\n",
      "85 => 169 valid\n",
      "86 => 171 valid\n",
      "87 => 174 valid\n",
      "88 => 175 valid\n",
      "89 => 177 valid\n",
      "90 => 180 valid\n",
      "91 => 181 valid\n",
      "92 => 183 valid\n",
      "93 => 186 valid\n",
      "94 => 187 valid\n",
      "95 => 189 valid\n",
      "96 => 192 valid\n",
      "97 => 193 valid\n",
      "98 => 195 valid\n",
      "99 => 198 valid\n",
      "100 => 199 valid\n",
      "Position after  100  hops is  199\n"
     ]
    }
   ],
   "source": [
    "# verify\n",
    "hops=int(input('Enter Hops: '))\n",
    "step=0\n",
    "position=0\n",
    "status=''\n",
    "for hop in range(1,hops+1):\n",
    "    step+=1\n",
    "    position+=step\n",
    "    if position%3==0 or position%3==1:\n",
    "        status='valid'\n",
    "    else:\n",
    "        status='invalid'\n",
    "    print(hop, '=>', position, status)\n",
    "    if step==3:\n",
    "        step=0\n",
    "print('Position after ',hops,' hops is ',position)"
   ]
  },
  {
   "cell_type": "code",
   "execution_count": 77,
   "id": "c15e8a4c",
   "metadata": {
    "collapsed": true
   },
   "outputs": [
    {
     "name": "stdout",
     "output_type": "stream",
     "text": [
      "1 valid\n",
      "2 invalid\n",
      "3 valid\n",
      "4 valid\n",
      "5 invalid\n",
      "6 valid\n",
      "7 valid\n",
      "8 invalid\n",
      "9 valid\n",
      "10 valid\n",
      "11 invalid\n",
      "12 valid\n",
      "13 valid\n",
      "14 invalid\n",
      "15 valid\n",
      "16 valid\n",
      "17 invalid\n",
      "18 valid\n",
      "19 valid\n",
      "20 invalid\n",
      "21 valid\n",
      "22 valid\n",
      "23 invalid\n",
      "24 valid\n",
      "25 valid\n",
      "26 invalid\n",
      "27 valid\n",
      "28 valid\n",
      "29 invalid\n",
      "30 valid\n",
      "31 valid\n",
      "32 invalid\n",
      "33 valid\n",
      "34 valid\n",
      "35 invalid\n",
      "36 valid\n",
      "37 valid\n",
      "38 invalid\n",
      "39 valid\n",
      "40 valid\n",
      "41 invalid\n",
      "42 valid\n",
      "43 valid\n",
      "44 invalid\n",
      "45 valid\n",
      "46 valid\n",
      "47 invalid\n",
      "48 valid\n",
      "49 valid\n",
      "50 invalid\n",
      "51 valid\n",
      "52 valid\n",
      "53 invalid\n",
      "54 valid\n",
      "55 valid\n",
      "56 invalid\n",
      "57 valid\n",
      "58 valid\n",
      "59 invalid\n",
      "60 valid\n",
      "61 valid\n",
      "62 invalid\n",
      "63 valid\n",
      "64 valid\n",
      "65 invalid\n",
      "66 valid\n",
      "67 valid\n",
      "68 invalid\n",
      "69 valid\n",
      "70 valid\n",
      "71 invalid\n",
      "72 valid\n",
      "73 valid\n",
      "74 invalid\n",
      "75 valid\n",
      "76 valid\n",
      "77 invalid\n",
      "78 valid\n",
      "79 valid\n",
      "80 invalid\n",
      "81 valid\n",
      "82 valid\n",
      "83 invalid\n",
      "84 valid\n",
      "85 valid\n",
      "86 invalid\n",
      "87 valid\n",
      "88 valid\n",
      "89 invalid\n",
      "90 valid\n",
      "91 valid\n",
      "92 invalid\n",
      "93 valid\n",
      "94 valid\n",
      "95 invalid\n",
      "96 valid\n",
      "97 valid\n",
      "98 invalid\n",
      "99 valid\n",
      "100 valid\n",
      "101 invalid\n",
      "102 valid\n",
      "103 valid\n",
      "104 invalid\n",
      "105 valid\n",
      "106 valid\n",
      "107 invalid\n",
      "108 valid\n",
      "109 valid\n",
      "110 invalid\n",
      "111 valid\n",
      "112 valid\n",
      "113 invalid\n",
      "114 valid\n",
      "115 valid\n",
      "116 invalid\n",
      "117 valid\n",
      "118 valid\n",
      "119 invalid\n",
      "120 valid\n",
      "121 valid\n",
      "122 invalid\n",
      "123 valid\n",
      "124 valid\n",
      "125 invalid\n",
      "126 valid\n",
      "127 valid\n",
      "128 invalid\n",
      "129 valid\n",
      "130 valid\n",
      "131 invalid\n",
      "132 valid\n",
      "133 valid\n",
      "134 invalid\n",
      "135 valid\n",
      "136 valid\n",
      "137 invalid\n",
      "138 valid\n",
      "139 valid\n",
      "140 invalid\n",
      "141 valid\n",
      "142 valid\n",
      "143 invalid\n",
      "144 valid\n",
      "145 valid\n",
      "146 invalid\n",
      "147 valid\n",
      "148 valid\n",
      "149 invalid\n",
      "150 valid\n",
      "151 valid\n",
      "152 invalid\n",
      "153 valid\n",
      "154 valid\n",
      "155 invalid\n",
      "156 valid\n",
      "157 valid\n",
      "158 invalid\n",
      "159 valid\n",
      "160 valid\n",
      "161 invalid\n",
      "162 valid\n",
      "163 valid\n",
      "164 invalid\n",
      "165 valid\n",
      "166 valid\n",
      "167 invalid\n",
      "168 valid\n",
      "169 valid\n",
      "170 invalid\n",
      "171 valid\n",
      "172 valid\n",
      "173 invalid\n",
      "174 valid\n",
      "175 valid\n",
      "176 invalid\n",
      "177 valid\n",
      "178 valid\n",
      "179 invalid\n",
      "180 valid\n",
      "181 valid\n",
      "182 invalid\n",
      "183 valid\n",
      "184 valid\n",
      "185 invalid\n",
      "186 valid\n",
      "187 valid\n",
      "188 invalid\n",
      "189 valid\n",
      "190 valid\n",
      "191 invalid\n",
      "192 valid\n",
      "193 valid\n",
      "194 invalid\n",
      "195 valid\n",
      "196 valid\n",
      "197 invalid\n",
      "198 valid\n",
      "199 valid\n"
     ]
    }
   ],
   "source": [
    "for position in range(1,200):\n",
    "    if position%3==0 or position%3==1:\n",
    "        print(position, 'valid')\n",
    "    else:\n",
    "        print(position, 'invalid')"
   ]
  },
  {
   "cell_type": "code",
   "execution_count": 78,
   "id": "78eced5f",
   "metadata": {},
   "outputs": [
    {
     "name": "stdout",
     "output_type": "stream",
     "text": [
      "7\n",
      "5040\n"
     ]
    }
   ],
   "source": [
    "# find factorial of given number using while loop and using for loop\n",
    "n=int(input())\n",
    "fact=1\n",
    "while n>0:\n",
    "    fact*=n\n",
    "    n-=1\n",
    "print(fact)"
   ]
  },
  {
   "cell_type": "code",
   "execution_count": 79,
   "id": "d0a98602",
   "metadata": {},
   "outputs": [
    {
     "name": "stdout",
     "output_type": "stream",
     "text": [
      "7\n",
      "5040\n"
     ]
    }
   ],
   "source": [
    "n=int(input())\n",
    "fact=1\n",
    "for i in range(1,n+1):\n",
    "    fact*=i\n",
    "print(fact)"
   ]
  },
  {
   "cell_type": "code",
   "execution_count": 88,
   "id": "f2a6b9ca",
   "metadata": {},
   "outputs": [
    {
     "name": "stdout",
     "output_type": "stream",
     "text": [
      "3\n"
     ]
    }
   ],
   "source": [
    "# write a simple code to identify a number is prime number or not.\n",
    "n=int(input())\n",
    "for num in range(2,n//2+1):\n",
    "    if n%num==0:\n",
    "        print('Not Prime')\n",
    "        break\n",
    "    if num==n//2:\n",
    "        print('Prime')"
   ]
  },
  {
   "cell_type": "code",
   "execution_count": 98,
   "id": "33c89cc2",
   "metadata": {},
   "outputs": [
    {
     "name": "stdout",
     "output_type": "stream",
     "text": [
      "2\n",
      "Prime\n"
     ]
    }
   ],
   "source": [
    "# write a simple code to identify a number is prime number or not.\n",
    "import math\n",
    "n=int(input())\n",
    "flag=True\n",
    "for num in range(2,round(math.sqrt(n))+1):\n",
    "    if n%num==0:\n",
    "        flag=False\n",
    "        break\n",
    "    else:\n",
    "        flag=True\n",
    "if flag:\n",
    "    print('Prime')\n",
    "else:\n",
    "    print('Not prime')"
   ]
  },
  {
   "cell_type": "markdown",
   "id": "417acc43",
   "metadata": {},
   "source": [
    "### Modules in Python"
   ]
  },
  {
   "cell_type": "code",
   "execution_count": 99,
   "id": "59b4f49a",
   "metadata": {},
   "outputs": [],
   "source": [
    "import math"
   ]
  },
  {
   "cell_type": "code",
   "execution_count": 105,
   "id": "869f1cf5",
   "metadata": {},
   "outputs": [
    {
     "name": "stdout",
     "output_type": "stream",
     "text": [
      "['__name__', '__doc__', '__package__', '__loader__', '__spec__', 'acos', 'acosh', 'asin', 'asinh', 'atan', 'atan2', 'atanh', 'ceil', 'copysign', 'cos', 'cosh', 'degrees', 'dist', 'erf', 'erfc', 'exp', 'expm1', 'fabs', 'factorial', 'floor', 'fmod', 'frexp', 'fsum', 'gamma', 'gcd', 'hypot', 'isclose', 'isfinite', 'isinf', 'isnan', 'isqrt', 'lcm', 'ldexp', 'lgamma', 'log', 'log1p', 'log10', 'log2', 'modf', 'pow', 'radians', 'remainder', 'sin', 'sinh', 'sqrt', 'tan', 'tanh', 'trunc', 'prod', 'perm', 'comb', 'nextafter', 'ulp', 'pi', 'e', 'tau', 'inf', 'nan']\n"
     ]
    }
   ],
   "source": [
    "print(math.__dir__())"
   ]
  },
  {
   "cell_type": "code",
   "execution_count": 106,
   "id": "361a379c",
   "metadata": {},
   "outputs": [
    {
     "data": {
      "text/plain": [
       "75.35250493513803"
      ]
     },
     "execution_count": 106,
     "metadata": {},
     "output_type": "execute_result"
    }
   ],
   "source": [
    "math.sqrt(5678)"
   ]
  },
  {
   "cell_type": "code",
   "execution_count": 110,
   "id": "6bc93cc2",
   "metadata": {},
   "outputs": [
    {
     "data": {
      "text/plain": [
       "0.7071067811865476"
      ]
     },
     "execution_count": 110,
     "metadata": {},
     "output_type": "execute_result"
    }
   ],
   "source": [
    "math.sin(math.radians(45))"
   ]
  },
  {
   "cell_type": "code",
   "execution_count": 108,
   "id": "cd02a9b7",
   "metadata": {},
   "outputs": [
    {
     "data": {
      "text/plain": [
       "0.7071067811865475"
      ]
     },
     "execution_count": 108,
     "metadata": {},
     "output_type": "execute_result"
    }
   ],
   "source": [
    "1/math.sqrt(2)"
   ]
  },
  {
   "cell_type": "code",
   "execution_count": 111,
   "id": "5652a129",
   "metadata": {},
   "outputs": [
    {
     "data": {
      "text/plain": [
       "5040"
      ]
     },
     "execution_count": 111,
     "metadata": {},
     "output_type": "execute_result"
    }
   ],
   "source": [
    "math.factorial(7)"
   ]
  },
  {
   "cell_type": "code",
   "execution_count": 112,
   "id": "7f712786",
   "metadata": {},
   "outputs": [
    {
     "data": {
      "text/plain": [
       "5.08746284125034"
      ]
     },
     "execution_count": 112,
     "metadata": {},
     "output_type": "execute_result"
    }
   ],
   "source": [
    "math.log(34,2)"
   ]
  },
  {
   "cell_type": "code",
   "execution_count": 114,
   "id": "f2545a5c",
   "metadata": {},
   "outputs": [
    {
     "data": {
      "text/plain": [
       "3.141592653589793"
      ]
     },
     "execution_count": 114,
     "metadata": {},
     "output_type": "execute_result"
    }
   ],
   "source": [
    "math.pi"
   ]
  },
  {
   "cell_type": "code",
   "execution_count": 115,
   "id": "8977ce0b",
   "metadata": {},
   "outputs": [
    {
     "data": {
      "text/plain": [
       "2.718281828459045"
      ]
     },
     "execution_count": 115,
     "metadata": {},
     "output_type": "execute_result"
    }
   ],
   "source": [
    "math.e"
   ]
  },
  {
   "cell_type": "code",
   "execution_count": 116,
   "id": "b7a4178f",
   "metadata": {},
   "outputs": [
    {
     "data": {
      "text/plain": [
       "inf"
      ]
     },
     "execution_count": 116,
     "metadata": {},
     "output_type": "execute_result"
    }
   ],
   "source": [
    "math.inf"
   ]
  },
  {
   "cell_type": "code",
   "execution_count": 117,
   "id": "9c08dce6",
   "metadata": {},
   "outputs": [],
   "source": [
    "import math"
   ]
  },
  {
   "cell_type": "code",
   "execution_count": 118,
   "id": "1415d741",
   "metadata": {},
   "outputs": [
    {
     "data": {
      "text/plain": [
       "81.0"
      ]
     },
     "execution_count": 118,
     "metadata": {},
     "output_type": "execute_result"
    }
   ],
   "source": [
    "import math as m\n",
    "m.pow(3,4)"
   ]
  },
  {
   "cell_type": "code",
   "execution_count": 119,
   "id": "95373e6c",
   "metadata": {},
   "outputs": [
    {
     "data": {
      "text/plain": [
       "5.08746284125034"
      ]
     },
     "execution_count": 119,
     "metadata": {},
     "output_type": "execute_result"
    }
   ],
   "source": [
    "from math import *\n",
    "log(34,2)"
   ]
  },
  {
   "cell_type": "code",
   "execution_count": 121,
   "id": "f091f9bd",
   "metadata": {},
   "outputs": [
    {
     "data": {
      "text/plain": [
       "0.5000000000000001"
      ]
     },
     "execution_count": 121,
     "metadata": {},
     "output_type": "execute_result"
    }
   ],
   "source": [
    "from math import sin, cos\n",
    "cos(radians(60))"
   ]
  },
  {
   "cell_type": "code",
   "execution_count": 122,
   "id": "598c703c",
   "metadata": {},
   "outputs": [
    {
     "data": {
      "text/plain": [
       "2.9899782515341085"
      ]
     },
     "execution_count": 122,
     "metadata": {},
     "output_type": "execute_result"
    }
   ],
   "source": [
    "from math import log as lg\n",
    "lg(123,5)"
   ]
  },
  {
   "cell_type": "code",
   "execution_count": 123,
   "id": "7a13c98f",
   "metadata": {},
   "outputs": [],
   "source": [
    "import math\n",
    "import math as m\n",
    "from math import *\n",
    "from math import sin\n",
    "from math import cos as cs"
   ]
  },
  {
   "cell_type": "code",
   "execution_count": 124,
   "id": "a3beb618",
   "metadata": {},
   "outputs": [
    {
     "data": {
      "text/plain": [
       "int"
      ]
     },
     "execution_count": 124,
     "metadata": {},
     "output_type": "execute_result"
    }
   ],
   "source": [
    "x=10\n",
    "type(x)"
   ]
  },
  {
   "cell_type": "code",
   "execution_count": 130,
   "id": "8c0ea752",
   "metadata": {
    "collapsed": true
   },
   "outputs": [
    {
     "data": {
      "text/plain": [
       "234239299879702051035370357608819614252616694877551832610411343916990304383845783602805598769461217862125513270782493460646465430876542687156557322455719675216776257702680964685939765914655679449428057896830775273476880478324250213228622834435884059349090171040785033342701948058284382030770174068035461036157080161593289067868428257855992840338115245749522270251615078534164097321930476696440895305982065754617847466439438324926764048059818093153782554176769372724208790459470045883206677140047910424149074201537448243420127205543672973004366914140949526708331425779806436511010908230401087335989589447293976781203387744105685426479290548766233050968021300733819518187396502417945976106257559803691685671283768030985635938728621447123146580324252814659222899112768668530641606691005327199555194435026930236184395716383782038711704428029670192548802199823236613376688741331026045020239379573109234705944080600049910795893176289405235472722243033724814423348773533987076477594536447003134088923935874805208064633433713523564221377583458378631959161168206528061271441782430123184341197121739627684899938764050050728992692147182256794573863977587940482782914307943706198654174658947514602129906931964723256715688868310182023338932854504341453874759030445985100676630191855029096204219901081049870913868547745388052547571274831418242393912531016100696172537745206221362982422118717637374580534179243537312995818781700414723468122921634414666666020882802016630693796152587657709980251870077395964339603349877019650939634640684576305623417197390471945361711781542488308959408704110238585073464018317468576091349925683659031702094156138889251330931327692636965038846412417107588149405940848919757181361948244079204854351657878890499117099174546039957061261086284451982915581351598230780539621458215496265166286955617195929044866325363400122153187683097238005329762724863546954655623672077264235947913333799323126561516092195285546532170636429191931896720005176369874054468110654986721443168338055553787122433472862527419964690810229964371604784983628941212294601291934909387652675673239492916971614755986748001548769741674106284763895138138787689365883018722992727535511442389377465628107646365491558420837839361666811479463333198541834438043749972253552698587190757811997303636072426997635423935151930397994499645634217202813922666503627104397501413822322306913004615918496779713622140506694100824485101359932318203252985783517004196441048034744242261163210041003941354033264263497593566076875694704460995641976742533858690527504797903473198960385602338113869047251038119203574042716179868857176583459581506298296681977913493004334047966551347840751947647093682591411751294408146002036565899179026143972899328674377691170104275868575842060365482126894357801714154433723827002188814431819659042261437461727549937407789530204984113011445904563246229836053150872754778140365092022424648529594765970546613572897805117095691863428863140568760111766931402459513765220047154925739387940576409280676038406791402547507524149275802272670666619804741251543291708299576850530748440855754340187878211035297909672004468927869369148850283652672316136296472081210688574017686863904897265360453023407463414543787787009608375233891063407634213693933061654721455057352560919277065280875671028078862290215239701025127179461298395927360114642813648319742096391287670586063271302252302284541535159416263123244306143533322028815746307373046875"
      ]
     },
     "execution_count": 130,
     "metadata": {},
     "output_type": "execute_result"
    }
   ],
   "source": [
    "x=4555**933\n",
    "x"
   ]
  },
  {
   "cell_type": "markdown",
   "id": "f546d4f4",
   "metadata": {},
   "source": [
    "### Functions"
   ]
  },
  {
   "cell_type": "code",
   "execution_count": 131,
   "id": "800ee371",
   "metadata": {},
   "outputs": [],
   "source": [
    "def first_func():\n",
    "    print('Inside Function')\n",
    "    return None"
   ]
  },
  {
   "cell_type": "code",
   "execution_count": 132,
   "id": "b86ad35a",
   "metadata": {},
   "outputs": [
    {
     "name": "stdout",
     "output_type": "stream",
     "text": [
      "Inside Function\n"
     ]
    }
   ],
   "source": [
    "first_func()"
   ]
  },
  {
   "cell_type": "code",
   "execution_count": 135,
   "id": "cfac7c85",
   "metadata": {},
   "outputs": [
    {
     "name": "stdout",
     "output_type": "stream",
     "text": [
      "Inside Function\n",
      "None\n"
     ]
    }
   ],
   "source": [
    "ret=first_func()\n",
    "print(ret)"
   ]
  },
  {
   "cell_type": "code",
   "execution_count": 137,
   "id": "c92e6a2f",
   "metadata": {},
   "outputs": [
    {
     "name": "stdout",
     "output_type": "stream",
     "text": [
      "Inside Function\n",
      "100\n"
     ]
    }
   ],
   "source": [
    "def func():\n",
    "    print('Inside Function')\n",
    "    return 100\n",
    "\n",
    "x=func()\n",
    "print(x)"
   ]
  },
  {
   "cell_type": "code",
   "execution_count": 138,
   "id": "d28db3e5",
   "metadata": {},
   "outputs": [
    {
     "name": "stdout",
     "output_type": "stream",
     "text": [
      "Sum= 68\n"
     ]
    }
   ],
   "source": [
    "def func(a,b):\n",
    "    return a+b\n",
    "\n",
    "s=func(23,45)\n",
    "print('Sum=',s)"
   ]
  },
  {
   "cell_type": "code",
   "execution_count": 140,
   "id": "b91ab2aa",
   "metadata": {},
   "outputs": [
    {
     "name": "stdout",
     "output_type": "stream",
     "text": [
      "Sum=  0\n",
      "Sum=  2\n",
      "Sum=  6\n",
      "Sum=  12\n",
      "Sum=  20\n"
     ]
    }
   ],
   "source": [
    "for i in range(5):\n",
    "    print('Sum= ',func(i, i**2))"
   ]
  },
  {
   "cell_type": "code",
   "execution_count": 142,
   "id": "594bd1b6",
   "metadata": {},
   "outputs": [],
   "source": [
    "# generate all prime numbers between 500 and 600 using\n",
    "# check_prime function\n",
    "def check_prime(n):\n",
    "    for num in range(2,n//2+1):\n",
    "        if n%num==0:\n",
    "            return False\n",
    "        if num==n//2:\n",
    "            return True\n",
    "    return None"
   ]
  },
  {
   "cell_type": "code",
   "execution_count": 148,
   "id": "7d5ad511",
   "metadata": {},
   "outputs": [
    {
     "name": "stdout",
     "output_type": "stream",
     "text": [
      "503, 509, 521, 523, 541, 547, 557, 563, 569, 571, 577, 587, 593, 599, "
     ]
    }
   ],
   "source": [
    "for i in range(500,600):\n",
    "    if check_prime(i):\n",
    "        print(i, end=', ')"
   ]
  },
  {
   "cell_type": "code",
   "execution_count": 149,
   "id": "bd04a677",
   "metadata": {},
   "outputs": [],
   "source": [
    "# default arguments in functions\n",
    "\n",
    "def func(a, b, c=10):\n",
    "    return a+b+c"
   ]
  },
  {
   "cell_type": "code",
   "execution_count": 150,
   "id": "32cc8d75",
   "metadata": {},
   "outputs": [
    {
     "data": {
      "text/plain": [
       "60"
      ]
     },
     "execution_count": 150,
     "metadata": {},
     "output_type": "execute_result"
    }
   ],
   "source": [
    "func(10,20,30)"
   ]
  },
  {
   "cell_type": "code",
   "execution_count": 151,
   "id": "8411ccd0",
   "metadata": {},
   "outputs": [
    {
     "data": {
      "text/plain": [
       "40"
      ]
     },
     "execution_count": 151,
     "metadata": {},
     "output_type": "execute_result"
    }
   ],
   "source": [
    "func(10,20)"
   ]
  },
  {
   "cell_type": "code",
   "execution_count": 153,
   "id": "e1c8ffd8",
   "metadata": {},
   "outputs": [
    {
     "ename": "SyntaxError",
     "evalue": "non-default argument follows default argument (260702935.py, line 3)",
     "output_type": "error",
     "traceback": [
      "\u001b[1;36m  Input \u001b[1;32mIn [153]\u001b[1;36m\u001b[0m\n\u001b[1;33m    def func(a=10, b, c):\u001b[0m\n\u001b[1;37m                      ^\u001b[0m\n\u001b[1;31mSyntaxError\u001b[0m\u001b[1;31m:\u001b[0m non-default argument follows default argument\n"
     ]
    }
   ],
   "source": [
    "# default args must always follow non-default args\n",
    "\n",
    "def func(a=10, b, c):\n",
    "    return a+b+c"
   ]
  },
  {
   "cell_type": "code",
   "execution_count": 156,
   "id": "39dea974",
   "metadata": {},
   "outputs": [],
   "source": [
    "def area(radius, pi=3.14):\n",
    "    return pi*radius**2"
   ]
  },
  {
   "cell_type": "code",
   "execution_count": 157,
   "id": "78544c67",
   "metadata": {},
   "outputs": [
    {
     "data": {
      "text/plain": [
       "78.53981633974483"
      ]
     },
     "execution_count": 157,
     "metadata": {},
     "output_type": "execute_result"
    }
   ],
   "source": [
    "area(5, math.pi)"
   ]
  },
  {
   "cell_type": "code",
   "execution_count": 160,
   "id": "0bbe1e91",
   "metadata": {},
   "outputs": [
    {
     "data": {
      "text/plain": [
       "78.5"
      ]
     },
     "execution_count": 160,
     "metadata": {},
     "output_type": "execute_result"
    }
   ],
   "source": [
    "area(5)"
   ]
  },
  {
   "cell_type": "code",
   "execution_count": 161,
   "id": "5402b5d7",
   "metadata": {},
   "outputs": [],
   "source": [
    "# keyword arguments in functions\n",
    "\n",
    "def func(a,b,c):\n",
    "    print('a=',a)\n",
    "    print('b=',b)\n",
    "    print('c=',c)\n",
    "    return None"
   ]
  },
  {
   "cell_type": "code",
   "execution_count": 162,
   "id": "fd26e57a",
   "metadata": {},
   "outputs": [
    {
     "name": "stdout",
     "output_type": "stream",
     "text": [
      "a= 1\n",
      "b= 2\n",
      "c= 3\n"
     ]
    }
   ],
   "source": [
    "func(1,2,3)"
   ]
  },
  {
   "cell_type": "code",
   "execution_count": 163,
   "id": "db25b921",
   "metadata": {},
   "outputs": [
    {
     "name": "stdout",
     "output_type": "stream",
     "text": [
      "a= 10\n",
      "b= 3\n",
      "c= 1\n"
     ]
    }
   ],
   "source": [
    "func(b=3, c=1, a=10)"
   ]
  },
  {
   "cell_type": "code",
   "execution_count": 168,
   "id": "b979f377",
   "metadata": {},
   "outputs": [],
   "source": [
    "# write a function that finds the number vowels in ech word \n",
    "# in given string\n",
    "def find_words_vowels(text):\n",
    "    words=text.split()\n",
    "    for word in words:\n",
    "        counter=0\n",
    "        for char in word:\n",
    "            if char in 'aeiou':\n",
    "                counter+=1\n",
    "        print(word, '=>', counter)\n",
    "    return None"
   ]
  },
  {
   "cell_type": "code",
   "execution_count": 169,
   "id": "9e5b24fd",
   "metadata": {},
   "outputs": [
    {
     "name": "stdout",
     "output_type": "stream",
     "text": [
      "hello => 2\n",
      "deloitte => 4\n",
      "trainees => 4\n"
     ]
    }
   ],
   "source": [
    "find_words_vowels('hello deloitte trainees')"
   ]
  },
  {
   "cell_type": "code",
   "execution_count": 170,
   "id": "0585e734",
   "metadata": {},
   "outputs": [],
   "source": [
    "# write a function code that checks if given string is\n",
    "# palindrome or calindrome ???"
   ]
  },
  {
   "cell_type": "code",
   "execution_count": 177,
   "id": "0fffe247",
   "metadata": {},
   "outputs": [],
   "source": [
    "def check_pal_cal(text):\n",
    "    if text==text[::-1]:\n",
    "        if text.isdigit():\n",
    "            print('Calindrome')\n",
    "        else:\n",
    "            print('Palindrome')\n",
    "    else:\n",
    "        print('Nothing!!')\n",
    "    return None"
   ]
  },
  {
   "cell_type": "code",
   "execution_count": 181,
   "id": "f5c7eb0e",
   "metadata": {},
   "outputs": [
    {
     "name": "stdout",
     "output_type": "stream",
     "text": [
      "Calindrome\n",
      "Palindrome\n",
      "Nothing!!\n"
     ]
    }
   ],
   "source": [
    "check_pal_cal('12321')\n",
    "check_pal_cal('aa9aa')\n",
    "check_pal_cal('hello')"
   ]
  },
  {
   "cell_type": "code",
   "execution_count": null,
   "id": "11a26d62",
   "metadata": {},
   "outputs": [],
   "source": []
  }
 ],
 "metadata": {
  "kernelspec": {
   "display_name": "Python 3 (ipykernel)",
   "language": "python",
   "name": "python3"
  },
  "language_info": {
   "codemirror_mode": {
    "name": "ipython",
    "version": 3
   },
   "file_extension": ".py",
   "mimetype": "text/x-python",
   "name": "python",
   "nbconvert_exporter": "python",
   "pygments_lexer": "ipython3",
   "version": "3.9.12"
  }
 },
 "nbformat": 4,
 "nbformat_minor": 5
}
