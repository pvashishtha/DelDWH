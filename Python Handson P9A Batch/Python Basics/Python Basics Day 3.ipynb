{
 "cells": [
  {
   "cell_type": "markdown",
   "id": "97f978d0",
   "metadata": {},
   "source": [
    "### Python Basics Day 3"
   ]
  },
  {
   "cell_type": "markdown",
   "id": "efba0915",
   "metadata": {},
   "source": [
    "##### Functions Cont..."
   ]
  },
  {
   "cell_type": "code",
   "execution_count": 2,
   "id": "0913e8b5",
   "metadata": {},
   "outputs": [],
   "source": [
    "# write a function that receives a string and checks whether the\n",
    "# given string/text is a single sentence or multiline of text.\n",
    "\n",
    "def check_multiline(text):\n",
    "    if '\\n' in text:\n",
    "        print('Multiline')\n",
    "    else:\n",
    "        print('Single Line')\n",
    "    return None"
   ]
  },
  {
   "cell_type": "code",
   "execution_count": 3,
   "id": "d2d4987a",
   "metadata": {},
   "outputs": [
    {
     "name": "stdout",
     "output_type": "stream",
     "text": [
      "Single Line\n",
      "Multiline\n"
     ]
    }
   ],
   "source": [
    "s1='this is single line text'\n",
    "s2='''this is multiline of text\n",
    "this may be caught by smart function'''\n",
    "check_multiline(s1)\n",
    "check_multiline(s2)"
   ]
  },
  {
   "cell_type": "code",
   "execution_count": 4,
   "id": "a8414d86",
   "metadata": {},
   "outputs": [
    {
     "data": {
      "text/plain": [
       "'h*ppy b*rthd*y p*r*d*x *n*bl*d'"
      ]
     },
     "execution_count": 4,
     "metadata": {},
     "output_type": "execute_result"
    }
   ],
   "source": [
    "# write a function to accept string argument and replace all\n",
    "# vowels in string with \"*\" symbol.\n",
    "\n",
    "def encode_vowels(text):\n",
    "    # code here...\n",
    "    new_text=''\n",
    "    for char in text:\n",
    "        if char.lower() in 'aeiou':\n",
    "            new_text+='*'\n",
    "        else:\n",
    "            new_text+=char\n",
    "    return new_text\n",
    "\n",
    "s1='happy birthday paradox enabled'\n",
    "encode_vowels(s1)"
   ]
  },
  {
   "cell_type": "code",
   "execution_count": 7,
   "id": "3aa22990",
   "metadata": {},
   "outputs": [
    {
     "data": {
      "text/plain": [
       "'h*ppy b*rthd*y p*r*d*x *n*bl*d'"
      ]
     },
     "execution_count": 7,
     "metadata": {},
     "output_type": "execute_result"
    }
   ],
   "source": [
    "# write a function to accept string argument and replace all\n",
    "# vowels in string with \"*\" symbol.\n",
    "\n",
    "def encode_vowels_ver2(text):\n",
    "    # code here...\n",
    "    for char in 'aeiou':\n",
    "        text=text.replace(char, '*')\n",
    "    return text\n",
    "\n",
    "s1='happy birthday paradox enabled'\n",
    "encode_vowels_ver2(s1)"
   ]
  },
  {
   "cell_type": "code",
   "execution_count": 10,
   "id": "1fb33c10",
   "metadata": {},
   "outputs": [
    {
     "data": {
      "text/plain": [
       "'h*ppy b*rthd*y p*r*d*x *n*bl*d'"
      ]
     },
     "execution_count": 10,
     "metadata": {},
     "output_type": "execute_result"
    }
   ],
   "source": [
    "def encode_vowels_ver3(text):\n",
    "    # code here...\n",
    "    for char in text:\n",
    "        if char.lower() in 'aeiou':\n",
    "            text=text.replace(char, '*')\n",
    "    return text\n",
    "\n",
    "s1='happy birthday paradox enabled'\n",
    "encode_vowels_ver3(s1)"
   ]
  },
  {
   "cell_type": "markdown",
   "id": "883930a5",
   "metadata": {},
   "source": [
    "## Data Structures"
   ]
  },
  {
   "cell_type": "markdown",
   "id": "01f77fed",
   "metadata": {},
   "source": [
    "#### Sequence\n"
   ]
  },
  {
   "cell_type": "code",
   "execution_count": 11,
   "id": "96d144a5",
   "metadata": {},
   "outputs": [],
   "source": [
    "# strings\n",
    "# tuple\n",
    "# list"
   ]
  },
  {
   "cell_type": "markdown",
   "id": "0661704a",
   "metadata": {},
   "source": [
    "#### TUPLES"
   ]
  },
  {
   "cell_type": "code",
   "execution_count": 12,
   "id": "93cff4e2",
   "metadata": {},
   "outputs": [],
   "source": [
    "# sequnces, immutable, ordered, heterogeneous values, "
   ]
  },
  {
   "cell_type": "code",
   "execution_count": 13,
   "id": "1734464e",
   "metadata": {},
   "outputs": [],
   "source": [
    "t=tuple()"
   ]
  },
  {
   "cell_type": "code",
   "execution_count": 14,
   "id": "df80568a",
   "metadata": {},
   "outputs": [],
   "source": [
    "t=(1,2,3,4,5)"
   ]
  },
  {
   "cell_type": "code",
   "execution_count": 15,
   "id": "29320ecf",
   "metadata": {},
   "outputs": [
    {
     "data": {
      "text/plain": [
       "tuple"
      ]
     },
     "execution_count": 15,
     "metadata": {},
     "output_type": "execute_result"
    }
   ],
   "source": [
    "type(t)"
   ]
  },
  {
   "cell_type": "code",
   "execution_count": 16,
   "id": "13221b5a",
   "metadata": {},
   "outputs": [
    {
     "data": {
      "text/plain": [
       "5"
      ]
     },
     "execution_count": 16,
     "metadata": {},
     "output_type": "execute_result"
    }
   ],
   "source": [
    "len(t)"
   ]
  },
  {
   "cell_type": "code",
   "execution_count": 17,
   "id": "78b00785",
   "metadata": {},
   "outputs": [
    {
     "data": {
      "text/plain": [
       "1"
      ]
     },
     "execution_count": 17,
     "metadata": {},
     "output_type": "execute_result"
    }
   ],
   "source": [
    "t[0]"
   ]
  },
  {
   "cell_type": "code",
   "execution_count": 18,
   "id": "89455b30",
   "metadata": {},
   "outputs": [
    {
     "data": {
      "text/plain": [
       "4"
      ]
     },
     "execution_count": 18,
     "metadata": {},
     "output_type": "execute_result"
    }
   ],
   "source": [
    "t[3]"
   ]
  },
  {
   "cell_type": "code",
   "execution_count": 19,
   "id": "136c8bf0",
   "metadata": {},
   "outputs": [
    {
     "data": {
      "text/plain": [
       "(3, 4)"
      ]
     },
     "execution_count": 19,
     "metadata": {},
     "output_type": "execute_result"
    }
   ],
   "source": [
    "t[2:4]"
   ]
  },
  {
   "cell_type": "code",
   "execution_count": 20,
   "id": "e4f3366b",
   "metadata": {},
   "outputs": [
    {
     "name": "stdout",
     "output_type": "stream",
     "text": [
      "(23, 78.45, True, (4+3j), 'Prateek', (1, 2, 3, 4, 5))\n"
     ]
    }
   ],
   "source": [
    "t2=(23, 78.45, True, 4+3j, 'Prateek', t)\n",
    "print(t2)"
   ]
  },
  {
   "cell_type": "code",
   "execution_count": 21,
   "id": "3ff20494",
   "metadata": {},
   "outputs": [
    {
     "data": {
      "text/plain": [
       "(1, 2, 3, 4, 5)"
      ]
     },
     "execution_count": 21,
     "metadata": {},
     "output_type": "execute_result"
    }
   ],
   "source": [
    "t2[5]"
   ]
  },
  {
   "cell_type": "code",
   "execution_count": 22,
   "id": "f37b2dc9",
   "metadata": {},
   "outputs": [
    {
     "data": {
      "text/plain": [
       "3"
      ]
     },
     "execution_count": 22,
     "metadata": {},
     "output_type": "execute_result"
    }
   ],
   "source": [
    "t2[5][2]"
   ]
  },
  {
   "cell_type": "code",
   "execution_count": 23,
   "id": "69593e91",
   "metadata": {},
   "outputs": [
    {
     "data": {
      "text/plain": [
       "(1, 2, 3)"
      ]
     },
     "execution_count": 23,
     "metadata": {},
     "output_type": "execute_result"
    }
   ],
   "source": [
    "t3=1,2,3\n",
    "t3"
   ]
  },
  {
   "cell_type": "code",
   "execution_count": 25,
   "id": "ab8f0c1d",
   "metadata": {},
   "outputs": [
    {
     "ename": "TypeError",
     "evalue": "'tuple' object does not support item assignment",
     "output_type": "error",
     "traceback": [
      "\u001b[1;31m---------------------------------------------------------------------------\u001b[0m",
      "\u001b[1;31mTypeError\u001b[0m                                 Traceback (most recent call last)",
      "Input \u001b[1;32mIn [25]\u001b[0m, in \u001b[0;36m<cell line: 1>\u001b[1;34m()\u001b[0m\n\u001b[1;32m----> 1\u001b[0m t2[\u001b[38;5;241m1\u001b[39m]\u001b[38;5;241m=\u001b[39m\u001b[38;5;241m3.14\u001b[39m\n",
      "\u001b[1;31mTypeError\u001b[0m: 'tuple' object does not support item assignment"
     ]
    }
   ],
   "source": [
    "t2[1]=3.14"
   ]
  },
  {
   "cell_type": "code",
   "execution_count": 26,
   "id": "efe5324b",
   "metadata": {},
   "outputs": [
    {
     "data": {
      "text/plain": [
       "(23, 78.45, True, (4+3j))"
      ]
     },
     "execution_count": 26,
     "metadata": {},
     "output_type": "execute_result"
    }
   ],
   "source": [
    "t2=t2[:4]\n",
    "t2"
   ]
  },
  {
   "cell_type": "code",
   "execution_count": 28,
   "id": "66c5ec8e",
   "metadata": {},
   "outputs": [],
   "source": [
    "t3=t2"
   ]
  },
  {
   "cell_type": "code",
   "execution_count": 29,
   "id": "9194ad6f",
   "metadata": {},
   "outputs": [
    {
     "data": {
      "text/plain": [
       "(23, 78.45, True, (4+3j))"
      ]
     },
     "execution_count": 29,
     "metadata": {},
     "output_type": "execute_result"
    }
   ],
   "source": [
    "t3"
   ]
  },
  {
   "cell_type": "code",
   "execution_count": 30,
   "id": "56b04e44",
   "metadata": {},
   "outputs": [
    {
     "data": {
      "text/plain": [
       "(23, 78.45, True, (4+3j))"
      ]
     },
     "execution_count": 30,
     "metadata": {},
     "output_type": "execute_result"
    }
   ],
   "source": [
    "t2"
   ]
  },
  {
   "cell_type": "code",
   "execution_count": 31,
   "id": "ff4cc088",
   "metadata": {},
   "outputs": [
    {
     "data": {
      "text/plain": [
       "(23, 78.45, True, (4+3j))"
      ]
     },
     "execution_count": 31,
     "metadata": {},
     "output_type": "execute_result"
    }
   ],
   "source": [
    "t2"
   ]
  },
  {
   "cell_type": "code",
   "execution_count": 32,
   "id": "02052bc8",
   "metadata": {},
   "outputs": [
    {
     "data": {
      "text/plain": [
       "((4+3j), True, 78.45, 23)"
      ]
     },
     "execution_count": 32,
     "metadata": {},
     "output_type": "execute_result"
    }
   ],
   "source": [
    "t2[::-1]"
   ]
  },
  {
   "cell_type": "code",
   "execution_count": 38,
   "id": "7c70096f",
   "metadata": {},
   "outputs": [
    {
     "name": "stdout",
     "output_type": "stream",
     "text": [
      "(1, 2, 3, 4, 5, 23, 78.45, True, (4+3j))\n"
     ]
    }
   ],
   "source": [
    "tup4=t+t2\n",
    "print(tup4)"
   ]
  },
  {
   "cell_type": "markdown",
   "id": "1069eab3",
   "metadata": {},
   "source": [
    "#### LIST"
   ]
  },
  {
   "cell_type": "code",
   "execution_count": 44,
   "id": "9e987ad0",
   "metadata": {},
   "outputs": [],
   "source": [
    "# sequence, index ref, mutable, heterogeneous values"
   ]
  },
  {
   "cell_type": "code",
   "execution_count": 42,
   "id": "7fe44c77",
   "metadata": {},
   "outputs": [],
   "source": [
    "li=list()"
   ]
  },
  {
   "cell_type": "code",
   "execution_count": 43,
   "id": "18248170",
   "metadata": {},
   "outputs": [],
   "source": [
    "li=[1,2,3,4,5]"
   ]
  },
  {
   "cell_type": "code",
   "execution_count": 45,
   "id": "a0a2087a",
   "metadata": {},
   "outputs": [],
   "source": [
    "li=[23, 45.23, 'Prateek', 4-2j, False, (5,6,7,8), [10,20,30]]"
   ]
  },
  {
   "cell_type": "code",
   "execution_count": 46,
   "id": "1a11dbc1",
   "metadata": {},
   "outputs": [
    {
     "data": {
      "text/plain": [
       "'Prateek'"
      ]
     },
     "execution_count": 46,
     "metadata": {},
     "output_type": "execute_result"
    }
   ],
   "source": [
    "li[2]"
   ]
  },
  {
   "cell_type": "code",
   "execution_count": 47,
   "id": "8aadae59",
   "metadata": {},
   "outputs": [
    {
     "data": {
      "text/plain": [
       "[(4-2j), False, (5, 6, 7, 8)]"
      ]
     },
     "execution_count": 47,
     "metadata": {},
     "output_type": "execute_result"
    }
   ],
   "source": [
    "li[3:6]"
   ]
  },
  {
   "cell_type": "code",
   "execution_count": 48,
   "id": "3a386917",
   "metadata": {},
   "outputs": [
    {
     "data": {
      "text/plain": [
       "[[10, 20, 30], (5, 6, 7, 8), False, (4-2j), 'Prateek', 45.23, 23]"
      ]
     },
     "execution_count": 48,
     "metadata": {},
     "output_type": "execute_result"
    }
   ],
   "source": [
    "li[::-1]"
   ]
  },
  {
   "cell_type": "code",
   "execution_count": 50,
   "id": "25f850a4",
   "metadata": {},
   "outputs": [],
   "source": [
    "li[0]=12330"
   ]
  },
  {
   "cell_type": "code",
   "execution_count": 51,
   "id": "23477df7",
   "metadata": {},
   "outputs": [
    {
     "data": {
      "text/plain": [
       "12330"
      ]
     },
     "execution_count": 51,
     "metadata": {},
     "output_type": "execute_result"
    }
   ],
   "source": [
    "li[0]"
   ]
  },
  {
   "cell_type": "code",
   "execution_count": 52,
   "id": "40887445",
   "metadata": {},
   "outputs": [
    {
     "data": {
      "text/plain": [
       "[12330, 45.23, 'Prateek', (4-2j), False, (5, 6, 7, 8), [10, 20, 30]]"
      ]
     },
     "execution_count": 52,
     "metadata": {},
     "output_type": "execute_result"
    }
   ],
   "source": [
    "li"
   ]
  },
  {
   "cell_type": "code",
   "execution_count": 53,
   "id": "40689695",
   "metadata": {},
   "outputs": [],
   "source": [
    "tup1=(1,2,3, [40,50,60])"
   ]
  },
  {
   "cell_type": "code",
   "execution_count": 56,
   "id": "bc4cf939",
   "metadata": {},
   "outputs": [],
   "source": [
    "tup1[3][0]=90"
   ]
  },
  {
   "cell_type": "code",
   "execution_count": 57,
   "id": "e74e1e8f",
   "metadata": {},
   "outputs": [
    {
     "data": {
      "text/plain": [
       "(1, 2, 3, [90, 50, 60])"
      ]
     },
     "execution_count": 57,
     "metadata": {},
     "output_type": "execute_result"
    }
   ],
   "source": [
    "tup1"
   ]
  },
  {
   "cell_type": "code",
   "execution_count": 60,
   "id": "1044c537",
   "metadata": {},
   "outputs": [
    {
     "ename": "TypeError",
     "evalue": "'tuple' object does not support item assignment",
     "output_type": "error",
     "traceback": [
      "\u001b[1;31m---------------------------------------------------------------------------\u001b[0m",
      "\u001b[1;31mTypeError\u001b[0m                                 Traceback (most recent call last)",
      "Input \u001b[1;32mIn [60]\u001b[0m, in \u001b[0;36m<cell line: 1>\u001b[1;34m()\u001b[0m\n\u001b[1;32m----> 1\u001b[0m li[\u001b[38;5;241m5\u001b[39m][\u001b[38;5;241m1\u001b[39m]\u001b[38;5;241m=\u001b[39m\u001b[38;5;241m67\u001b[39m\n",
      "\u001b[1;31mTypeError\u001b[0m: 'tuple' object does not support item assignment"
     ]
    }
   ],
   "source": [
    "li[5][1]=67"
   ]
  },
  {
   "cell_type": "code",
   "execution_count": 63,
   "id": "bf825073",
   "metadata": {},
   "outputs": [],
   "source": [
    "li_rev=list(reversed(li))"
   ]
  },
  {
   "cell_type": "code",
   "execution_count": 64,
   "id": "b7e9372c",
   "metadata": {},
   "outputs": [
    {
     "data": {
      "text/plain": [
       "[[10, 20, 30], (5, 6, 7, 8), False, (4-2j), 'Prateek', 45.23, 12330]"
      ]
     },
     "execution_count": 64,
     "metadata": {},
     "output_type": "execute_result"
    }
   ],
   "source": [
    "li_rev"
   ]
  },
  {
   "cell_type": "code",
   "execution_count": 65,
   "id": "394c8912",
   "metadata": {},
   "outputs": [],
   "source": [
    "tup_rev=tuple(reversed(tup1))"
   ]
  },
  {
   "cell_type": "code",
   "execution_count": 66,
   "id": "38612fa2",
   "metadata": {},
   "outputs": [
    {
     "data": {
      "text/plain": [
       "([90, 50, 60], 3, 2, 1)"
      ]
     },
     "execution_count": 66,
     "metadata": {},
     "output_type": "execute_result"
    }
   ],
   "source": [
    "tup_rev"
   ]
  },
  {
   "cell_type": "code",
   "execution_count": 68,
   "id": "b53e8edd",
   "metadata": {},
   "outputs": [],
   "source": [
    "li=[2,5,1,8,4,90,43,12]"
   ]
  },
  {
   "cell_type": "code",
   "execution_count": 69,
   "id": "9af276ce",
   "metadata": {},
   "outputs": [
    {
     "data": {
      "text/plain": [
       "[1, 2, 4, 5, 8, 12, 43, 90]"
      ]
     },
     "execution_count": 69,
     "metadata": {},
     "output_type": "execute_result"
    }
   ],
   "source": [
    "list(sorted(li))"
   ]
  },
  {
   "cell_type": "code",
   "execution_count": 70,
   "id": "5cf965cc",
   "metadata": {},
   "outputs": [
    {
     "data": {
      "text/plain": [
       "(1, 2, 4, 5, 8, 12, 43, 90)"
      ]
     },
     "execution_count": 70,
     "metadata": {},
     "output_type": "execute_result"
    }
   ],
   "source": [
    "tup=(2,5,1,8,4,90,43,12)\n",
    "tuple(sorted(tup))"
   ]
  },
  {
   "cell_type": "code",
   "execution_count": 71,
   "id": "6762fb60",
   "metadata": {},
   "outputs": [
    {
     "data": {
      "text/plain": [
       "[1, 2, 3, 4, 10, 20, 30, 40]"
      ]
     },
     "execution_count": 71,
     "metadata": {},
     "output_type": "execute_result"
    }
   ],
   "source": [
    "li1=[1,2,3,4]\n",
    "li2=[10,20,30,40]\n",
    "\n",
    "li3=li1+li2\n",
    "li3"
   ]
  },
  {
   "cell_type": "code",
   "execution_count": 73,
   "id": "2f8df714",
   "metadata": {},
   "outputs": [
    {
     "data": {
      "text/plain": [
       "[1, 2, 3, 4, 1, 2, 3, 4, 1, 2, 3, 4]"
      ]
     },
     "execution_count": 73,
     "metadata": {},
     "output_type": "execute_result"
    }
   ],
   "source": [
    "li1*3"
   ]
  },
  {
   "cell_type": "markdown",
   "id": "c56f4b96",
   "metadata": {},
   "source": [
    "#### List Functions"
   ]
  },
  {
   "cell_type": "code",
   "execution_count": 74,
   "id": "2786c7a3",
   "metadata": {},
   "outputs": [
    {
     "name": "stdout",
     "output_type": "stream",
     "text": [
      "[1, 2, 3, 4, 5]\n",
      "[1, 2, 3, 4, 5, 90]\n"
     ]
    }
   ],
   "source": [
    "# append()\n",
    "li=[1,2,3,4,5]\n",
    "print(li)\n",
    "li.append(90)\n",
    "print(li)"
   ]
  },
  {
   "cell_type": "code",
   "execution_count": 75,
   "id": "616aa418",
   "metadata": {},
   "outputs": [
    {
     "data": {
      "text/plain": [
       "4"
      ]
     },
     "execution_count": 75,
     "metadata": {},
     "output_type": "execute_result"
    }
   ],
   "source": [
    "# count()\n",
    "li=[1,2,3,1,3,2,4,5,1,6,3,2,1]\n",
    "li.count(1)"
   ]
  },
  {
   "cell_type": "code",
   "execution_count": 76,
   "id": "635ca92c",
   "metadata": {},
   "outputs": [
    {
     "name": "stdout",
     "output_type": "stream",
     "text": [
      "[1, 2, 3, 5]\n"
     ]
    }
   ],
   "source": [
    "# copy()\n",
    "li=[1,2,3,5]\n",
    "li2=li.copy()\n",
    "print(li2)"
   ]
  },
  {
   "cell_type": "code",
   "execution_count": 77,
   "id": "10724393",
   "metadata": {},
   "outputs": [
    {
     "data": {
      "text/plain": [
       "[10, 20, 30]"
      ]
     },
     "execution_count": 77,
     "metadata": {},
     "output_type": "execute_result"
    }
   ],
   "source": [
    "li1=[10,20,30]\n",
    "li2=li1\n",
    "li2"
   ]
  },
  {
   "cell_type": "code",
   "execution_count": 78,
   "id": "ef194f14",
   "metadata": {},
   "outputs": [
    {
     "data": {
      "text/plain": [
       "[900, 20, 30]"
      ]
     },
     "execution_count": 78,
     "metadata": {},
     "output_type": "execute_result"
    }
   ],
   "source": [
    "li2[0]=900\n",
    "li2"
   ]
  },
  {
   "cell_type": "code",
   "execution_count": 79,
   "id": "2d2e5b60",
   "metadata": {},
   "outputs": [
    {
     "data": {
      "text/plain": [
       "[900, 20, 30]"
      ]
     },
     "execution_count": 79,
     "metadata": {},
     "output_type": "execute_result"
    }
   ],
   "source": [
    "li1"
   ]
  },
  {
   "cell_type": "code",
   "execution_count": 81,
   "id": "37cc99ea",
   "metadata": {},
   "outputs": [
    {
     "data": {
      "text/plain": [
       "[900, 20, 30]"
      ]
     },
     "execution_count": 81,
     "metadata": {},
     "output_type": "execute_result"
    }
   ],
   "source": [
    "li2=li1.copy()\n",
    "li2"
   ]
  },
  {
   "cell_type": "code",
   "execution_count": 82,
   "id": "eb89a61c",
   "metadata": {},
   "outputs": [
    {
     "data": {
      "text/plain": [
       "[999, 20, 30]"
      ]
     },
     "execution_count": 82,
     "metadata": {},
     "output_type": "execute_result"
    }
   ],
   "source": [
    "li2[0]=999\n",
    "li2"
   ]
  },
  {
   "cell_type": "code",
   "execution_count": 83,
   "id": "0f9f8dbb",
   "metadata": {},
   "outputs": [
    {
     "data": {
      "text/plain": [
       "[900, 20, 30]"
      ]
     },
     "execution_count": 83,
     "metadata": {},
     "output_type": "execute_result"
    }
   ],
   "source": [
    "li1"
   ]
  },
  {
   "cell_type": "code",
   "execution_count": 87,
   "id": "0b150f9a",
   "metadata": {},
   "outputs": [
    {
     "data": {
      "text/plain": [
       "4"
      ]
     },
     "execution_count": 87,
     "metadata": {},
     "output_type": "execute_result"
    }
   ],
   "source": [
    "# index()\n",
    "li1=[10,20,30,'hello', 'hi', 4-3j, 'hi', 'hi']\n",
    "li1.index('hi')"
   ]
  },
  {
   "cell_type": "code",
   "execution_count": 88,
   "id": "bad97ebe",
   "metadata": {},
   "outputs": [
    {
     "data": {
      "text/plain": [
       "[50, 60, 70, 80, 90]"
      ]
     },
     "execution_count": 88,
     "metadata": {},
     "output_type": "execute_result"
    }
   ],
   "source": [
    "# reverse()\n",
    "li=[90,80,70,60,50]\n",
    "li.reverse()\n",
    "li"
   ]
  },
  {
   "cell_type": "code",
   "execution_count": 89,
   "id": "08ac0408",
   "metadata": {},
   "outputs": [
    {
     "data": {
      "text/plain": [
       "[1, 2, 2, 4, 4, 6, 7, 8, 9]"
      ]
     },
     "execution_count": 89,
     "metadata": {},
     "output_type": "execute_result"
    }
   ],
   "source": [
    "# sort()\n",
    "li=[1,4,7,2,8,9,2,4,6]\n",
    "li.sort()\n",
    "li"
   ]
  },
  {
   "cell_type": "code",
   "execution_count": 92,
   "id": "f1a71d9e",
   "metadata": {},
   "outputs": [
    {
     "data": {
      "text/plain": [
       "[1, 2, 3, 300, 4, 5]"
      ]
     },
     "execution_count": 92,
     "metadata": {},
     "output_type": "execute_result"
    }
   ],
   "source": [
    "# insert(index, val)\n",
    "li=[1,2,3,4,5]\n",
    "li.insert(3, 300)\n",
    "li"
   ]
  },
  {
   "cell_type": "code",
   "execution_count": 94,
   "id": "bc0c1ca1",
   "metadata": {},
   "outputs": [
    {
     "data": {
      "text/plain": [
       "[200, 300, 500, 400, 400, 600]"
      ]
     },
     "execution_count": 94,
     "metadata": {},
     "output_type": "execute_result"
    }
   ],
   "source": [
    "# remove(val)\n",
    "li=[200,300,400,500,400, 400,600]\n",
    "li.remove(400)\n",
    "li"
   ]
  },
  {
   "cell_type": "code",
   "execution_count": 95,
   "id": "9f6874c6",
   "metadata": {},
   "outputs": [
    {
     "data": {
      "text/plain": [
       "[200, 300, 400, 400, 400, 600]"
      ]
     },
     "execution_count": 95,
     "metadata": {},
     "output_type": "execute_result"
    }
   ],
   "source": [
    "# pop(index)\n",
    "li=[200,300,400,500,400, 400,600]\n",
    "li.pop(3)\n",
    "li"
   ]
  },
  {
   "cell_type": "code",
   "execution_count": 96,
   "id": "292274f3",
   "metadata": {},
   "outputs": [
    {
     "data": {
      "text/plain": [
       "[]"
      ]
     },
     "execution_count": 96,
     "metadata": {},
     "output_type": "execute_result"
    }
   ],
   "source": [
    "# clear()\n",
    "li=[1,2,3,4,5]\n",
    "li.clear()\n",
    "li"
   ]
  },
  {
   "cell_type": "code",
   "execution_count": 97,
   "id": "67ab8fac",
   "metadata": {},
   "outputs": [
    {
     "data": {
      "text/plain": [
       "[1, 2, 3, 100, 200, 300]"
      ]
     },
     "execution_count": 97,
     "metadata": {},
     "output_type": "execute_result"
    }
   ],
   "source": [
    "# extend(2nd_list)\n",
    "li1=[1,2,3]\n",
    "li2=[100,200,300]\n",
    "li1.extend(li2)\n",
    "li1"
   ]
  },
  {
   "cell_type": "code",
   "execution_count": 101,
   "id": "1c4f3e38",
   "metadata": {},
   "outputs": [
    {
     "name": "stdout",
     "output_type": "stream",
     "text": [
      "2,3,4,5,6\n",
      "Sum= 20\n"
     ]
    }
   ],
   "source": [
    "# write a code that accepts comma separated list of integervalues from\n",
    "# user create a list object from these values and find sum of values.\n",
    "# Example: Input: 2,3,4,5,6 \n",
    "# output: Sum=20\n",
    "\n",
    "vals=input().split(',')\n",
    "for i in range(len(vals)):\n",
    "    vals[i]=int(vals[i])\n",
    "print('Sum=', sum(vals))\n"
   ]
  },
  {
   "cell_type": "markdown",
   "id": "10da94a3",
   "metadata": {},
   "source": [
    "#### List Comprehension"
   ]
  },
  {
   "cell_type": "code",
   "execution_count": 102,
   "id": "550709f9",
   "metadata": {
    "collapsed": true
   },
   "outputs": [
    {
     "data": {
      "text/plain": [
       "[10,\n",
       " 11,\n",
       " 12,\n",
       " 13,\n",
       " 14,\n",
       " 15,\n",
       " 16,\n",
       " 17,\n",
       " 18,\n",
       " 19,\n",
       " 20,\n",
       " 21,\n",
       " 22,\n",
       " 23,\n",
       " 24,\n",
       " 25,\n",
       " 26,\n",
       " 27,\n",
       " 28,\n",
       " 29,\n",
       " 30,\n",
       " 31,\n",
       " 32,\n",
       " 33,\n",
       " 34,\n",
       " 35,\n",
       " 36,\n",
       " 37,\n",
       " 38,\n",
       " 39,\n",
       " 40,\n",
       " 41,\n",
       " 42,\n",
       " 43,\n",
       " 44,\n",
       " 45,\n",
       " 46,\n",
       " 47,\n",
       " 48,\n",
       " 49,\n",
       " 50,\n",
       " 51,\n",
       " 52,\n",
       " 53,\n",
       " 54,\n",
       " 55,\n",
       " 56,\n",
       " 57,\n",
       " 58,\n",
       " 59,\n",
       " 60,\n",
       " 61,\n",
       " 62,\n",
       " 63,\n",
       " 64,\n",
       " 65,\n",
       " 66,\n",
       " 67,\n",
       " 68,\n",
       " 69,\n",
       " 70,\n",
       " 71,\n",
       " 72,\n",
       " 73,\n",
       " 74,\n",
       " 75,\n",
       " 76,\n",
       " 77,\n",
       " 78,\n",
       " 79,\n",
       " 80,\n",
       " 81,\n",
       " 82,\n",
       " 83,\n",
       " 84,\n",
       " 85,\n",
       " 86,\n",
       " 87,\n",
       " 88,\n",
       " 89,\n",
       " 90]"
      ]
     },
     "execution_count": 102,
     "metadata": {},
     "output_type": "execute_result"
    }
   ],
   "source": [
    "li=[]\n",
    "for i in range(10,91):\n",
    "    li.append(i)\n",
    "li"
   ]
  },
  {
   "cell_type": "code",
   "execution_count": 104,
   "id": "b3c7a535",
   "metadata": {},
   "outputs": [
    {
     "name": "stdout",
     "output_type": "stream",
     "text": [
      "[10, 11, 12, 13, 14, 15, 16, 17, 18, 19, 20, 21, 22, 23, 24, 25, 26, 27, 28, 29, 30, 31, 32, 33, 34, 35, 36, 37, 38, 39, 40, 41, 42, 43, 44, 45, 46, 47, 48, 49, 50, 51, 52, 53, 54, 55, 56, 57, 58, 59, 60, 61, 62, 63, 64, 65, 66, 67, 68, 69, 70, 71, 72, 73, 74, 75, 76, 77, 78, 79, 80, 81, 82, 83, 84, 85, 86, 87, 88, 89, 90]\n"
     ]
    }
   ],
   "source": [
    "li=[num for num in range(10,91)]\n",
    "print(li)"
   ]
  },
  {
   "cell_type": "code",
   "execution_count": 105,
   "id": "10030342",
   "metadata": {},
   "outputs": [
    {
     "name": "stdout",
     "output_type": "stream",
     "text": [
      "[110, 111, 112, 113, 114, 115, 116, 117, 118, 119, 120, 121, 122, 123, 124, 125, 126, 127, 128, 129, 130, 131, 132, 133, 134, 135, 136, 137, 138, 139, 140, 141, 142, 143, 144, 145, 146, 147, 148, 149, 150, 151, 152, 153, 154, 155, 156, 157, 158, 159, 160, 161, 162, 163, 164, 165, 166, 167, 168, 169, 170, 171, 172, 173, 174, 175, 176, 177, 178, 179, 180, 181, 182, 183, 184, 185, 186, 187, 188, 189, 190]\n"
     ]
    }
   ],
   "source": [
    "li=[num+100 for num in li]\n",
    "print(li)"
   ]
  },
  {
   "cell_type": "code",
   "execution_count": 110,
   "id": "f155dbcc",
   "metadata": {},
   "outputs": [
    {
     "name": "stdout",
     "output_type": "stream",
     "text": [
      "2,3,4,5,6,7,8\n",
      "Sum= 35\n"
     ]
    }
   ],
   "source": [
    "print('Sum=',sum([int(num) for num in input().split(',')]))"
   ]
  },
  {
   "cell_type": "code",
   "execution_count": 115,
   "id": "feac5db4",
   "metadata": {},
   "outputs": [],
   "source": [
    "tup=(x for x in range(10))"
   ]
  },
  {
   "cell_type": "code",
   "execution_count": 116,
   "id": "80e5021e",
   "metadata": {},
   "outputs": [
    {
     "data": {
      "text/plain": [
       "<generator object <genexpr> at 0x000002BAB4AE52E0>"
      ]
     },
     "execution_count": 116,
     "metadata": {},
     "output_type": "execute_result"
    }
   ],
   "source": [
    "tup"
   ]
  },
  {
   "cell_type": "code",
   "execution_count": 127,
   "id": "f95a6f92",
   "metadata": {},
   "outputs": [],
   "source": [
    "# Write a function that receives a list as argument\n",
    "# finds the odd numbers in list and change them to zero\n",
    "\n",
    "def change_list_odds(li):\n",
    "    for indx in range(len(li)):\n",
    "        if li[indx]%2!=0:\n",
    "            li[indx]=0\n",
    "    return li"
   ]
  },
  {
   "cell_type": "code",
   "execution_count": 128,
   "id": "1e65fe94",
   "metadata": {},
   "outputs": [
    {
     "name": "stdout",
     "output_type": "stream",
     "text": [
      "[0, 2, 0, 4, 0, 6, 0, 8, 0]\n"
     ]
    }
   ],
   "source": [
    "new_li=[1,2,3,4,5,6,7,8,9]\n",
    "updated_li=change_list_odds(new_li)\n",
    "print(updated_li)"
   ]
  },
  {
   "cell_type": "code",
   "execution_count": 129,
   "id": "281419b0",
   "metadata": {},
   "outputs": [
    {
     "name": "stdout",
     "output_type": "stream",
     "text": [
      "[0, 2, 0, 4, 0, 6, 0, 8, 0]\n"
     ]
    }
   ],
   "source": [
    "print(new_li) # pass by reference"
   ]
  },
  {
   "cell_type": "code",
   "execution_count": 131,
   "id": "bd713c2c",
   "metadata": {},
   "outputs": [
    {
     "name": "stdout",
     "output_type": "stream",
     "text": [
      "500\n",
      "100\n"
     ]
    }
   ],
   "source": [
    "def change(x):\n",
    "    x=x*5\n",
    "    return x\n",
    "\n",
    "val=100\n",
    "print(change(val))\n",
    "print(val)"
   ]
  },
  {
   "cell_type": "code",
   "execution_count": null,
   "id": "6c44f6c3",
   "metadata": {},
   "outputs": [],
   "source": []
  },
  {
   "cell_type": "code",
   "execution_count": 124,
   "id": "28ceadf0",
   "metadata": {},
   "outputs": [],
   "source": [
    "def change_list_odds_ver2(li):\n",
    "    return [x if x%2==0 else 0 for x in li]"
   ]
  },
  {
   "cell_type": "code",
   "execution_count": 125,
   "id": "386d8628",
   "metadata": {},
   "outputs": [
    {
     "name": "stdout",
     "output_type": "stream",
     "text": [
      "[0, 2, 0, 4, 0, 6, 0, 8, 0]\n"
     ]
    }
   ],
   "source": [
    "new_li=[1,2,3,4,5,6,7,8,9]\n",
    "updated_li=change_list_odds_ver2(new_li)\n",
    "print(updated_li)"
   ]
  },
  {
   "cell_type": "code",
   "execution_count": null,
   "id": "a36d78eb",
   "metadata": {},
   "outputs": [],
   "source": [
    "# write a function code that accepts two arguments N and K.\n",
    "# create a list L with N elements, all set to initial value as zero.\n",
    "# If K is even, set all even index values in list L as 1\n",
    "# Else, If K is odd, set all odd index values in list L as 1\n",
    "# finally print the list. (consider \"0\" index as even index)\n",
    "\n",
    "# Example: N=5, K=43\n",
    "# output: [0,1,0,1,0]\n",
    "\n",
    "# Example: N=5, K=26\n",
    "# output: [1,0,1,0,1]"
   ]
  },
  {
   "cell_type": "code",
   "execution_count": 136,
   "id": "d8af1c79",
   "metadata": {},
   "outputs": [],
   "source": [
    "def alternating(N, K):\n",
    "    li=[0]*N\n",
    "    if K%2==0:\n",
    "        li=[1 if indx%2==0 else 0 for indx in range(N)]\n",
    "    else:\n",
    "        li=[1 if indx%2!=0 else 0 for indx in range(N)]\n",
    "    return li"
   ]
  },
  {
   "cell_type": "code",
   "execution_count": 137,
   "id": "129da214",
   "metadata": {},
   "outputs": [
    {
     "data": {
      "text/plain": [
       "[0, 1, 0, 1, 0]"
      ]
     },
     "execution_count": 137,
     "metadata": {},
     "output_type": "execute_result"
    }
   ],
   "source": [
    "alternating(5, 43)"
   ]
  },
  {
   "cell_type": "code",
   "execution_count": 138,
   "id": "4f6d8ce9",
   "metadata": {},
   "outputs": [
    {
     "data": {
      "text/plain": [
       "[1, 0, 1, 0, 1]"
      ]
     },
     "execution_count": 138,
     "metadata": {},
     "output_type": "execute_result"
    }
   ],
   "source": [
    "alternating(5, 26)"
   ]
  },
  {
   "cell_type": "code",
   "execution_count": 141,
   "id": "f81ca5d5",
   "metadata": {},
   "outputs": [],
   "source": [
    "# Question:\n",
    "# given a list, arrange all negative numbers of the list after all \n",
    "# positive numbers\n",
    "\n",
    "# example: list=[1,2,-4,-5,7,-3,6,9,-1,2,3]\n",
    "# after processing=> [1,2,7,6,9,2,3,-4,-5,-3,-1]"
   ]
  },
  {
   "cell_type": "code",
   "execution_count": 159,
   "id": "6b78a177",
   "metadata": {},
   "outputs": [
    {
     "name": "stdout",
     "output_type": "stream",
     "text": [
      "[1, 2, 7, 6, 9, 2, 3, -4, -5, -3, -1]\n"
     ]
    }
   ],
   "source": [
    "li=[1,2,-4,-5,7,-3,6,9,-1,2,3]\n",
    "pos=[]\n",
    "neg=[]\n",
    "for num in li:\n",
    "    if num<0:\n",
    "        neg.append(num)\n",
    "    else:\n",
    "        pos.append(num)\n",
    "li=pos+neg\n",
    "del pos\n",
    "del neg\n",
    "print(li)"
   ]
  },
  {
   "cell_type": "code",
   "execution_count": 160,
   "id": "713d17cb",
   "metadata": {},
   "outputs": [
    {
     "name": "stdout",
     "output_type": "stream",
     "text": [
      "[1, 2, 7, 6, 9, 2, 3, -4, -5, -3, -1]\n"
     ]
    }
   ],
   "source": [
    "li=[1,2,-4,-5,7,-3,6,9,-1,2,3]\n",
    "indx=0\n",
    "k=0\n",
    "N=len(li)\n",
    "while k<N:\n",
    "    if li[indx]<0:\n",
    "        li.append(li[indx])\n",
    "        li.pop(indx)\n",
    "        indx-=1\n",
    "    indx+=1\n",
    "    k+=1\n",
    "print(li)"
   ]
  },
  {
   "cell_type": "code",
   "execution_count": 161,
   "id": "39a7faf7",
   "metadata": {},
   "outputs": [
    {
     "name": "stdout",
     "output_type": "stream",
     "text": [
      "[1, 2, 7, 6, 9, 2, 3, -4, -5, -3, -1]\n"
     ]
    }
   ],
   "source": [
    "li=[1,2,-4,-5,7,-3,6,9,-1,2,3]\n",
    "indx=0\n",
    "for k in range(len(li)):\n",
    "    if li[indx]<0:\n",
    "        li.append(li[indx])\n",
    "        li.pop(indx)\n",
    "        indx-=1\n",
    "    indx+=1\n",
    "print(li)"
   ]
  },
  {
   "cell_type": "code",
   "execution_count": null,
   "id": "24f165c5",
   "metadata": {},
   "outputs": [],
   "source": [
    "# write a function that checks whether given number is prime or not\n",
    "# if not prime, find the factorial of the number by calling another \n",
    "# function and return the result back to calling statement.\n",
    "\n",
    "# Example Run:\n",
    "# find_fact(7) - Prime Number, Factorial Not Calculated\n",
    "# find_fact(4) - Not Prime, Factorial is: 24"
   ]
  },
  {
   "cell_type": "code",
   "execution_count": 162,
   "id": "c0b1d74e",
   "metadata": {},
   "outputs": [],
   "source": [
    "# RECURSION\n",
    "def find_fact(n):\n",
    "    if n<=1:\n",
    "        return 1\n",
    "    else:\n",
    "        return n*find_fact(n-1)\n",
    "    return None"
   ]
  },
  {
   "cell_type": "code",
   "execution_count": 171,
   "id": "fa5bb918",
   "metadata": {},
   "outputs": [],
   "source": [
    "def check_prime(n):\n",
    "    from math import sqrt\n",
    "    for i in range(2, round(sqrt(n))+1):\n",
    "        if n%i==0:\n",
    "            return 'Not Prime, '+str(find_fact(n))\n",
    "    return 'Prime, Factorial Not Calculated'"
   ]
  },
  {
   "cell_type": "code",
   "execution_count": 174,
   "id": "850114db",
   "metadata": {},
   "outputs": [
    {
     "name": "stdout",
     "output_type": "stream",
     "text": [
      "Prime, Factorial Not Calculated\n",
      "Prime, Factorial Not Calculated\n",
      "Prime, Factorial Not Calculated\n",
      "Not Prime, 720\n",
      "Not Prime, 40320\n",
      "Not Prime, 362880\n"
     ]
    }
   ],
   "source": [
    "li=[3,5,7,6,8,9]\n",
    "for num in li:\n",
    "    print(check_prime(num))"
   ]
  },
  {
   "cell_type": "markdown",
   "id": "1951a24e",
   "metadata": {},
   "source": [
    "### Dictionaries"
   ]
  },
  {
   "cell_type": "code",
   "execution_count": 175,
   "id": "7ab244d7",
   "metadata": {},
   "outputs": [],
   "source": [
    "# key-value pairs\n",
    "# key:value => d={k1:v1, k2:v2, k3:v3}\n",
    "# keys= k1,k2,k3\n",
    "# values=v1,v2,v3\n",
    "# no order is guarantied\n",
    "# key can be any valid object\n",
    "# value can be any valid object\n",
    "\n",
    "# keys are immutable\n",
    "# values can be modified"
   ]
  },
  {
   "cell_type": "code",
   "execution_count": 176,
   "id": "bbcc6c93",
   "metadata": {},
   "outputs": [],
   "source": [
    "d=dict()"
   ]
  },
  {
   "cell_type": "code",
   "execution_count": 177,
   "id": "f257442a",
   "metadata": {},
   "outputs": [],
   "source": [
    "d={1:10, 2:30, 3:30, 4:40}"
   ]
  },
  {
   "cell_type": "code",
   "execution_count": 178,
   "id": "954c2225",
   "metadata": {},
   "outputs": [
    {
     "data": {
      "text/plain": [
       "dict_keys([1, 2, 3, 4])"
      ]
     },
     "execution_count": 178,
     "metadata": {},
     "output_type": "execute_result"
    }
   ],
   "source": [
    "d.keys()"
   ]
  },
  {
   "cell_type": "code",
   "execution_count": 179,
   "id": "9a251b99",
   "metadata": {},
   "outputs": [
    {
     "data": {
      "text/plain": [
       "dict_values([10, 30, 30, 40])"
      ]
     },
     "execution_count": 179,
     "metadata": {},
     "output_type": "execute_result"
    }
   ],
   "source": [
    "d.values()"
   ]
  },
  {
   "cell_type": "code",
   "execution_count": 180,
   "id": "02d7933e",
   "metadata": {},
   "outputs": [
    {
     "data": {
      "text/plain": [
       "dict_items([(1, 10), (2, 30), (3, 30), (4, 40)])"
      ]
     },
     "execution_count": 180,
     "metadata": {},
     "output_type": "execute_result"
    }
   ],
   "source": [
    "d.items()"
   ]
  },
  {
   "cell_type": "code",
   "execution_count": 181,
   "id": "100830ee",
   "metadata": {},
   "outputs": [
    {
     "name": "stdout",
     "output_type": "stream",
     "text": [
      "dict_keys(['name', 'age', 'city', 'salary'])\n",
      "dict_values(['prateek', 37, 'delhi', 24000])\n"
     ]
    }
   ],
   "source": [
    "d={'name':'prateek','age':37,'city':'delhi','salary':24000}\n",
    "print(d.keys())\n",
    "print(d.values())"
   ]
  },
  {
   "cell_type": "code",
   "execution_count": 183,
   "id": "92f817f0",
   "metadata": {},
   "outputs": [],
   "source": [
    "d1={'name':'sarthak','marks':[20,30,32,45,67,32]}\n",
    "d2={'name':'manya','marks':[34,56,21,45,67,32]}"
   ]
  },
  {
   "cell_type": "code",
   "execution_count": 186,
   "id": "14172141",
   "metadata": {},
   "outputs": [
    {
     "data": {
      "text/plain": [
       "{101: {'name': 'sarthak', 'marks': [20, 30, 32, 45, 67, 32]},\n",
       " 102: {'name': 'manya', 'marks': [34, 56, 21, 45, 67, 32]}}"
      ]
     },
     "execution_count": 186,
     "metadata": {},
     "output_type": "execute_result"
    }
   ],
   "source": [
    "D={101: d1, 102: d2}\n",
    "D"
   ]
  },
  {
   "cell_type": "code",
   "execution_count": 187,
   "id": "00242590",
   "metadata": {},
   "outputs": [
    {
     "data": {
      "text/plain": [
       "'sarthak'"
      ]
     },
     "execution_count": 187,
     "metadata": {},
     "output_type": "execute_result"
    }
   ],
   "source": [
    "d1['name']"
   ]
  },
  {
   "cell_type": "code",
   "execution_count": 188,
   "id": "e1c5ec39",
   "metadata": {},
   "outputs": [
    {
     "data": {
      "text/plain": [
       "[34, 56, 21, 45, 67, 32]"
      ]
     },
     "execution_count": 188,
     "metadata": {},
     "output_type": "execute_result"
    }
   ],
   "source": [
    "d2['marks']"
   ]
  },
  {
   "cell_type": "code",
   "execution_count": 191,
   "id": "85542059",
   "metadata": {},
   "outputs": [
    {
     "data": {
      "text/plain": [
       "'manya'"
      ]
     },
     "execution_count": 191,
     "metadata": {},
     "output_type": "execute_result"
    }
   ],
   "source": [
    "D[102]['name']"
   ]
  },
  {
   "cell_type": "code",
   "execution_count": 193,
   "id": "085507f7",
   "metadata": {},
   "outputs": [
    {
     "data": {
      "text/plain": [
       "20"
      ]
     },
     "execution_count": 193,
     "metadata": {},
     "output_type": "execute_result"
    }
   ],
   "source": [
    "# pop(key)\n",
    "d={1:10, 2:20, 3:30}\n",
    "d.pop(2) # removes key-value pair and returns value"
   ]
  },
  {
   "cell_type": "code",
   "execution_count": 194,
   "id": "0999a549",
   "metadata": {},
   "outputs": [
    {
     "data": {
      "text/plain": [
       "(3, 30)"
      ]
     },
     "execution_count": 194,
     "metadata": {},
     "output_type": "execute_result"
    }
   ],
   "source": [
    "# popitem()\n",
    "d={1:10, 2:20, 3:30}\n",
    "d.popitem() # removes and return key-value pair as tuple, last in order"
   ]
  },
  {
   "cell_type": "code",
   "execution_count": 205,
   "id": "72cd44a1",
   "metadata": {},
   "outputs": [
    {
     "data": {
      "text/plain": [
       "{'a': 0, 'b': 0, 'c': 0, 'd': 0, 'e': 0}"
      ]
     },
     "execution_count": 205,
     "metadata": {},
     "output_type": "execute_result"
    }
   ],
   "source": [
    "# fromkeys(list, common_default_value)\n",
    "li=['a','b','c','d','e']\n",
    "d=dict()\n",
    "d=d.fromkeys(li, 0)\n",
    "d"
   ]
  },
  {
   "cell_type": "code",
   "execution_count": 206,
   "id": "3bce5afe",
   "metadata": {},
   "outputs": [
    {
     "data": {
      "text/plain": [
       "{'a': 100, 'b': 0, 'c': 0, 'd': 0, 'e': 0}"
      ]
     },
     "execution_count": 206,
     "metadata": {},
     "output_type": "execute_result"
    }
   ],
   "source": [
    "d['a']=100\n",
    "d"
   ]
  },
  {
   "cell_type": "code",
   "execution_count": 207,
   "id": "0da4840c",
   "metadata": {},
   "outputs": [
    {
     "data": {
      "text/plain": [
       "{'a': 100, 'b': 0, 'c': 0, 'd': 0, 'e': 0, 'K': 990}"
      ]
     },
     "execution_count": 207,
     "metadata": {},
     "output_type": "execute_result"
    }
   ],
   "source": [
    "d['K']=990\n",
    "d"
   ]
  },
  {
   "cell_type": "code",
   "execution_count": 208,
   "id": "ea24c586",
   "metadata": {},
   "outputs": [
    {
     "name": "stdout",
     "output_type": "stream",
     "text": [
      "a => 108\n",
      "b => 8\n",
      "c => 8\n",
      "d => 8\n",
      "e => 8\n",
      "K => 998\n"
     ]
    }
   ],
   "source": [
    "for key in d.keys():\n",
    "    d[key]=d[key]+2**3\n",
    "    print(key, '=>', d[key])"
   ]
  },
  {
   "cell_type": "code",
   "execution_count": 209,
   "id": "2d1da829",
   "metadata": {},
   "outputs": [
    {
     "data": {
      "text/plain": [
       "8"
      ]
     },
     "execution_count": 209,
     "metadata": {},
     "output_type": "execute_result"
    }
   ],
   "source": [
    "# get(key)\n",
    "d.get('c')"
   ]
  },
  {
   "cell_type": "code",
   "execution_count": 210,
   "id": "7a0e7274",
   "metadata": {},
   "outputs": [
    {
     "data": {
      "text/plain": [
       "{'a': 108, 'b': 8, 'c': 8, 'd': 8, 'e': 8, 'K': 998, 'R': 3932}"
      ]
     },
     "execution_count": 210,
     "metadata": {},
     "output_type": "execute_result"
    }
   ],
   "source": [
    "# update({key:value})\n",
    "d.update({'R':3932})\n",
    "d"
   ]
  },
  {
   "cell_type": "code",
   "execution_count": 211,
   "id": "bf2f0966",
   "metadata": {},
   "outputs": [
    {
     "data": {
      "text/plain": [
       "{'a': 108, 'b': 8, 'c': 8, 'd': 8, 'e': 8, 'K': 998, 'R': 3932}"
      ]
     },
     "execution_count": 211,
     "metadata": {},
     "output_type": "execute_result"
    }
   ],
   "source": [
    "# copy()\n",
    "d2=d.copy()\n",
    "d2"
   ]
  },
  {
   "cell_type": "code",
   "execution_count": 212,
   "id": "18bb91e2",
   "metadata": {},
   "outputs": [
    {
     "data": {
      "text/plain": [
       "{'a': 108, 'b': 8, 'c': 8, 'd': 8, 'e': 8, 'K': 998, 'R': 45}"
      ]
     },
     "execution_count": 212,
     "metadata": {},
     "output_type": "execute_result"
    }
   ],
   "source": [
    "d2['R']=45\n",
    "d2"
   ]
  },
  {
   "cell_type": "code",
   "execution_count": 213,
   "id": "56fc1a41",
   "metadata": {},
   "outputs": [
    {
     "data": {
      "text/plain": [
       "{'a': 108, 'b': 8, 'c': 8, 'd': 8, 'e': 8, 'K': 998, 'R': 3932}"
      ]
     },
     "execution_count": 213,
     "metadata": {},
     "output_type": "execute_result"
    }
   ],
   "source": [
    "d"
   ]
  },
  {
   "cell_type": "code",
   "execution_count": 214,
   "id": "15f7014e",
   "metadata": {},
   "outputs": [
    {
     "data": {
      "text/plain": [
       "{}"
      ]
     },
     "execution_count": 214,
     "metadata": {},
     "output_type": "execute_result"
    }
   ],
   "source": [
    "# clear()\n",
    "d2.clear()\n",
    "d2"
   ]
  },
  {
   "cell_type": "code",
   "execution_count": 216,
   "id": "a8c11b31",
   "metadata": {},
   "outputs": [
    {
     "data": {
      "text/plain": [
       "3932"
      ]
     },
     "execution_count": 216,
     "metadata": {},
     "output_type": "execute_result"
    }
   ],
   "source": [
    "# setdefault(key, value)\n",
    "d.setdefault('R', 56) \n",
    "# does nothing if key exists and return values against key"
   ]
  },
  {
   "cell_type": "code",
   "execution_count": 217,
   "id": "713e56bb",
   "metadata": {},
   "outputs": [
    {
     "data": {
      "text/plain": [
       "56"
      ]
     },
     "execution_count": 217,
     "metadata": {},
     "output_type": "execute_result"
    }
   ],
   "source": [
    "# setdefault(key, value)\n",
    "d.setdefault('Q', 56)\n",
    "# if key does not exist, insert key-value pair and return value"
   ]
  },
  {
   "cell_type": "code",
   "execution_count": 218,
   "id": "77184df6",
   "metadata": {},
   "outputs": [
    {
     "data": {
      "text/plain": [
       "{'a': 108, 'b': 8, 'c': 8, 'd': 8, 'e': 8, 'K': 998, 'R': 3932, 'Q': 56}"
      ]
     },
     "execution_count": 218,
     "metadata": {},
     "output_type": "execute_result"
    }
   ],
   "source": [
    "d"
   ]
  },
  {
   "cell_type": "markdown",
   "id": "1924821b",
   "metadata": {},
   "source": [
    "#### Sets"
   ]
  },
  {
   "cell_type": "code",
   "execution_count": 220,
   "id": "ed9ffe92",
   "metadata": {},
   "outputs": [],
   "source": [
    "# collectrion of values\n",
    "# values are distinct, no repeat\n",
    "# set operations- union, intersection, difference\n",
    "# homogeneous values"
   ]
  },
  {
   "cell_type": "code",
   "execution_count": 221,
   "id": "edfbea80",
   "metadata": {},
   "outputs": [],
   "source": [
    "s=set()"
   ]
  },
  {
   "cell_type": "code",
   "execution_count": 222,
   "id": "17e3c713",
   "metadata": {},
   "outputs": [
    {
     "data": {
      "text/plain": [
       "{1, 2, 3, 4, 5, 6, 7, 8, 9}"
      ]
     },
     "execution_count": 222,
     "metadata": {},
     "output_type": "execute_result"
    }
   ],
   "source": [
    "s={1,2,3,4,2,5,7,1,2,7,8,9,2,4,6}\n",
    "s"
   ]
  },
  {
   "cell_type": "code",
   "execution_count": 223,
   "id": "9aaa90e5",
   "metadata": {},
   "outputs": [
    {
     "data": {
      "text/plain": [
       "{1, 2, 3, 4, 5, 6, 7, 8, 9}"
      ]
     },
     "execution_count": 223,
     "metadata": {},
     "output_type": "execute_result"
    }
   ],
   "source": [
    "li=[1,2,3,4,2,5,7,1,2,7,8,9,2,4,6]\n",
    "s=set(li)\n",
    "s"
   ]
  },
  {
   "cell_type": "code",
   "execution_count": 224,
   "id": "0d2887c6",
   "metadata": {},
   "outputs": [],
   "source": [
    "s1={1,2,3,4,5,6,7,8,9}\n",
    "s2={2,4,6,8,10,12,14}"
   ]
  },
  {
   "cell_type": "code",
   "execution_count": 225,
   "id": "a40b99fa",
   "metadata": {},
   "outputs": [
    {
     "data": {
      "text/plain": [
       "{1, 2, 3, 4, 5, 6, 7, 8, 9, 10, 12, 14}"
      ]
     },
     "execution_count": 225,
     "metadata": {},
     "output_type": "execute_result"
    }
   ],
   "source": [
    "s1.union(s2)"
   ]
  },
  {
   "cell_type": "code",
   "execution_count": 226,
   "id": "a1d97f81",
   "metadata": {},
   "outputs": [
    {
     "data": {
      "text/plain": [
       "{2, 4, 6, 8}"
      ]
     },
     "execution_count": 226,
     "metadata": {},
     "output_type": "execute_result"
    }
   ],
   "source": [
    "s1.intersection(s2)"
   ]
  },
  {
   "cell_type": "code",
   "execution_count": 227,
   "id": "64aacfaa",
   "metadata": {},
   "outputs": [
    {
     "data": {
      "text/plain": [
       "{1, 3, 5, 7, 9}"
      ]
     },
     "execution_count": 227,
     "metadata": {},
     "output_type": "execute_result"
    }
   ],
   "source": [
    "s1.difference(s2)"
   ]
  },
  {
   "cell_type": "code",
   "execution_count": 228,
   "id": "034a428a",
   "metadata": {},
   "outputs": [
    {
     "data": {
      "text/plain": [
       "{10, 12, 14}"
      ]
     },
     "execution_count": 228,
     "metadata": {},
     "output_type": "execute_result"
    }
   ],
   "source": [
    "s2.difference(s1)"
   ]
  },
  {
   "cell_type": "code",
   "execution_count": 229,
   "id": "7541c607",
   "metadata": {},
   "outputs": [
    {
     "data": {
      "text/plain": [
       "{1, 2, 3, 4, 5, 6, 7, 8, 9}"
      ]
     },
     "execution_count": 229,
     "metadata": {},
     "output_type": "execute_result"
    }
   ],
   "source": [
    "s1"
   ]
  },
  {
   "cell_type": "code",
   "execution_count": 231,
   "id": "142f2cc1",
   "metadata": {},
   "outputs": [
    {
     "data": {
      "text/plain": [
       "{1, 2, 3, 4, 5, 6, 7, 8, 9, 12}"
      ]
     },
     "execution_count": 231,
     "metadata": {},
     "output_type": "execute_result"
    }
   ],
   "source": [
    "# add(val)\n",
    "s1.add(12)\n",
    "s1"
   ]
  },
  {
   "cell_type": "code",
   "execution_count": 232,
   "id": "9c258ae0",
   "metadata": {},
   "outputs": [
    {
     "data": {
      "text/plain": [
       "{1, 2, 3, 4, 6, 7, 8, 9, 12}"
      ]
     },
     "execution_count": 232,
     "metadata": {},
     "output_type": "execute_result"
    }
   ],
   "source": [
    "# discard(val)\n",
    "s1.discard(5)\n",
    "s1"
   ]
  },
  {
   "cell_type": "code",
   "execution_count": 233,
   "id": "dd8e1f63",
   "metadata": {},
   "outputs": [
    {
     "data": {
      "text/plain": [
       "{1, 2, 3, 4, 6, 7, 8, 12}"
      ]
     },
     "execution_count": 233,
     "metadata": {},
     "output_type": "execute_result"
    }
   ],
   "source": [
    "# remove(val)\n",
    "s1.remove(9)\n",
    "s1"
   ]
  },
  {
   "cell_type": "code",
   "execution_count": 234,
   "id": "3951141f",
   "metadata": {},
   "outputs": [
    {
     "data": {
      "text/plain": [
       "{1, 2, 3, 4, 6, 7, 8, 12, 20, 30, 40}"
      ]
     },
     "execution_count": 234,
     "metadata": {},
     "output_type": "execute_result"
    }
   ],
   "source": [
    "# update(iterable/set)\n",
    "s1.update({20,30,40})\n",
    "s1"
   ]
  },
  {
   "cell_type": "code",
   "execution_count": 235,
   "id": "810181f8",
   "metadata": {},
   "outputs": [
    {
     "data": {
      "text/plain": [
       "{1, 2, 3, 4, 6, 7, 8, 10, 12, 20, 30, 40, 100, 200, 300}"
      ]
     },
     "execution_count": 235,
     "metadata": {},
     "output_type": "execute_result"
    }
   ],
   "source": [
    "s1.update([100,200,300,10,20,40])\n",
    "s1"
   ]
  },
  {
   "cell_type": "code",
   "execution_count": 236,
   "id": "588eee96",
   "metadata": {},
   "outputs": [
    {
     "data": {
      "text/plain": [
       "1"
      ]
     },
     "execution_count": 236,
     "metadata": {},
     "output_type": "execute_result"
    }
   ],
   "source": [
    "# pop()\n",
    "s1.pop()"
   ]
  },
  {
   "cell_type": "code",
   "execution_count": 237,
   "id": "9622eaa9",
   "metadata": {},
   "outputs": [
    {
     "data": {
      "text/plain": [
       "2"
      ]
     },
     "execution_count": 237,
     "metadata": {},
     "output_type": "execute_result"
    }
   ],
   "source": [
    "s1.pop()"
   ]
  },
  {
   "cell_type": "code",
   "execution_count": 238,
   "id": "ef23b01d",
   "metadata": {},
   "outputs": [
    {
     "data": {
      "text/plain": [
       "{3, 4, 6, 7, 8, 10, 12, 20, 30, 40, 100, 200, 300}"
      ]
     },
     "execution_count": 238,
     "metadata": {},
     "output_type": "execute_result"
    }
   ],
   "source": [
    "# copy()\n",
    "s3=s1.copy()\n",
    "s3"
   ]
  },
  {
   "cell_type": "code",
   "execution_count": 239,
   "id": "2982e185",
   "metadata": {},
   "outputs": [
    {
     "data": {
      "text/plain": [
       "set()"
      ]
     },
     "execution_count": 239,
     "metadata": {},
     "output_type": "execute_result"
    }
   ],
   "source": [
    "# clear()\n",
    "s3.clear()\n",
    "s3"
   ]
  },
  {
   "cell_type": "code",
   "execution_count": 242,
   "id": "ad8d4e3f",
   "metadata": {},
   "outputs": [
    {
     "name": "stdout",
     "output_type": "stream",
     "text": [
      "1 => 5\n",
      "2 => 5\n",
      "3 => 4\n",
      "4 => 3\n",
      "5 => 3\n",
      "6 => 2\n",
      "7 => 1\n",
      "8 => 1\n",
      "9 => 1\n"
     ]
    }
   ],
   "source": [
    "# write a function that receives a list and prints the count\n",
    "# or frequency of occurence of each element in list\n",
    "\n",
    "def get_freq(li):\n",
    "    for num in set(li):\n",
    "        print(num, '=>', li.count(num))\n",
    "    return None\n",
    "\n",
    "get_freq([2,1,3,4,5,6,3,2,1,3,4,5,7,9,8,4,2,1,3,5,6,2,2,1,1,])"
   ]
  },
  {
   "cell_type": "markdown",
   "id": "56a8f02d",
   "metadata": {},
   "source": [
    "#### Lambda Functions"
   ]
  },
  {
   "cell_type": "code",
   "execution_count": 243,
   "id": "5a6a9d71",
   "metadata": {},
   "outputs": [],
   "source": [
    "# anonymous function in python\n",
    "# a function without name"
   ]
  },
  {
   "cell_type": "code",
   "execution_count": 244,
   "id": "f3dd056d",
   "metadata": {},
   "outputs": [
    {
     "data": {
      "text/plain": [
       "<function __main__.<lambda>(x, y)>"
      ]
     },
     "execution_count": 244,
     "metadata": {},
     "output_type": "execute_result"
    }
   ],
   "source": [
    "lambda x,y: x**y"
   ]
  },
  {
   "cell_type": "code",
   "execution_count": 245,
   "id": "4e6fc719",
   "metadata": {},
   "outputs": [],
   "source": [
    "power=lambda x,y: x**y"
   ]
  },
  {
   "cell_type": "code",
   "execution_count": 246,
   "id": "0098a8e4",
   "metadata": {},
   "outputs": [
    {
     "data": {
      "text/plain": [
       "8"
      ]
     },
     "execution_count": 246,
     "metadata": {},
     "output_type": "execute_result"
    }
   ],
   "source": [
    "power(2,3)"
   ]
  },
  {
   "cell_type": "code",
   "execution_count": 247,
   "id": "caa34819",
   "metadata": {},
   "outputs": [
    {
     "data": {
      "text/plain": [
       "4096"
      ]
     },
     "execution_count": 247,
     "metadata": {},
     "output_type": "execute_result"
    }
   ],
   "source": [
    "power(4,6)"
   ]
  },
  {
   "cell_type": "code",
   "execution_count": 257,
   "id": "ac7d1673",
   "metadata": {},
   "outputs": [],
   "source": [
    "def calc(n):\n",
    "    return lambda x : x**n"
   ]
  },
  {
   "cell_type": "code",
   "execution_count": 258,
   "id": "5e44c008",
   "metadata": {},
   "outputs": [
    {
     "data": {
      "text/plain": [
       "<function __main__.calc.<locals>.<lambda>(x)>"
      ]
     },
     "execution_count": 258,
     "metadata": {},
     "output_type": "execute_result"
    }
   ],
   "source": [
    "calc(3)"
   ]
  },
  {
   "cell_type": "code",
   "execution_count": 259,
   "id": "8e5c2b61",
   "metadata": {},
   "outputs": [],
   "source": [
    "p3=calc(3) # lambda x:x**3\n",
    "p4=calc(4) # lambda x:x**4\n",
    "p5=calc(5) # lambda x:x**5"
   ]
  },
  {
   "cell_type": "code",
   "execution_count": 260,
   "id": "d655d0d4",
   "metadata": {},
   "outputs": [
    {
     "data": {
      "text/plain": [
       "1728"
      ]
     },
     "execution_count": 260,
     "metadata": {},
     "output_type": "execute_result"
    }
   ],
   "source": [
    "p3(12)"
   ]
  },
  {
   "cell_type": "code",
   "execution_count": 261,
   "id": "0ad28202",
   "metadata": {},
   "outputs": [
    {
     "data": {
      "text/plain": [
       "20736"
      ]
     },
     "execution_count": 261,
     "metadata": {},
     "output_type": "execute_result"
    }
   ],
   "source": [
    "p4(12)"
   ]
  },
  {
   "cell_type": "code",
   "execution_count": 262,
   "id": "c708223c",
   "metadata": {},
   "outputs": [
    {
     "data": {
      "text/plain": [
       "248832"
      ]
     },
     "execution_count": 262,
     "metadata": {},
     "output_type": "execute_result"
    }
   ],
   "source": [
    "p5(12)"
   ]
  },
  {
   "cell_type": "markdown",
   "id": "ee9b74fb",
   "metadata": {},
   "source": [
    "### map() with Lambda"
   ]
  },
  {
   "cell_type": "code",
   "execution_count": 266,
   "id": "d3c20813",
   "metadata": {},
   "outputs": [
    {
     "data": {
      "text/plain": [
       "[4, 9, 16, 25, 36, 49]"
      ]
     },
     "execution_count": 266,
     "metadata": {},
     "output_type": "execute_result"
    }
   ],
   "source": [
    "# map(func, iterable)\n",
    "# applies func to each element of iterable\n",
    "def find_sqr(n):\n",
    "    return n**2\n",
    "li=[2,3,4,5,6,7]\n",
    "list(map(find_sqr, li)) # find_sqr applied to every value in list li"
   ]
  },
  {
   "cell_type": "code",
   "execution_count": 267,
   "id": "be53a7be",
   "metadata": {},
   "outputs": [
    {
     "data": {
      "text/plain": [
       "[8, 27, 64, 125, 216, 343]"
      ]
     },
     "execution_count": 267,
     "metadata": {},
     "output_type": "execute_result"
    }
   ],
   "source": [
    "list(map(lambda x: x**3, li)) # cube of every element of list li"
   ]
  },
  {
   "cell_type": "markdown",
   "id": "e833ab5c",
   "metadata": {},
   "source": [
    "#### filter() and lambda"
   ]
  },
  {
   "cell_type": "code",
   "execution_count": 271,
   "id": "14d66232",
   "metadata": {},
   "outputs": [
    {
     "data": {
      "text/plain": [
       "[102, 3099]"
      ]
     },
     "execution_count": 271,
     "metadata": {},
     "output_type": "execute_result"
    }
   ],
   "source": [
    "# filter(func, iter)\n",
    "\n",
    "def filter_data(n):\n",
    "    if n <100:\n",
    "        return False\n",
    "    else: \n",
    "        return True\n",
    "    \n",
    "li=[10,34,78,102,3099,23]\n",
    "\n",
    "list(filter(filter_data, li))"
   ]
  },
  {
   "cell_type": "code",
   "execution_count": 272,
   "id": "db1f4b0d",
   "metadata": {},
   "outputs": [
    {
     "name": "stdout",
     "output_type": "stream",
     "text": [
      "[10, 34, 78, 102, 3099, 23] [10, 34, 78, 23]\n"
     ]
    }
   ],
   "source": [
    "print(li, list(filter(lambda x:True if x<100 else False, li )))"
   ]
  },
  {
   "cell_type": "markdown",
   "id": "a6e63b7b",
   "metadata": {},
   "source": [
    "### reduce() and lambda"
   ]
  },
  {
   "cell_type": "code",
   "execution_count": 273,
   "id": "36d71db9",
   "metadata": {},
   "outputs": [],
   "source": [
    "# reduce(func, iter)\n",
    "# reduces list of values to single aggregated value"
   ]
  },
  {
   "cell_type": "code",
   "execution_count": 280,
   "id": "d70219b3",
   "metadata": {},
   "outputs": [
    {
     "data": {
      "text/plain": [
       "3346"
      ]
     },
     "execution_count": 280,
     "metadata": {},
     "output_type": "execute_result"
    }
   ],
   "source": [
    "from functools import reduce\n",
    "def find_sum(x,y):\n",
    "    return x+y\n",
    "li=[10,34,78,102,3099,23]\n",
    "reduce(find_sum, li)"
   ]
  },
  {
   "cell_type": "code",
   "execution_count": 281,
   "id": "1a23fef4",
   "metadata": {},
   "outputs": [
    {
     "data": {
      "text/plain": [
       "3346"
      ]
     },
     "execution_count": 281,
     "metadata": {},
     "output_type": "execute_result"
    }
   ],
   "source": [
    "reduce(lambda x,y:x+y, li)"
   ]
  },
  {
   "cell_type": "code",
   "execution_count": 282,
   "id": "18ef4987",
   "metadata": {},
   "outputs": [],
   "source": [
    "# 10+34 =44\n",
    "# 44+78 =122\n",
    "# 122+102 = 224\n",
    "# 224+3099 =3323\n",
    "# 3323+23 =3346"
   ]
  },
  {
   "cell_type": "markdown",
   "id": "08ed1fe1",
   "metadata": {},
   "source": [
    "### Variable Number of Arguments"
   ]
  },
  {
   "cell_type": "code",
   "execution_count": 283,
   "id": "e6094b99",
   "metadata": {},
   "outputs": [],
   "source": [
    "def func(x,y):\n",
    "    return x+y\n",
    "\n",
    "def func2(x,y,z):\n",
    "    return x+y+z"
   ]
  },
  {
   "cell_type": "code",
   "execution_count": 284,
   "id": "6be15962",
   "metadata": {},
   "outputs": [
    {
     "data": {
      "text/plain": [
       "50"
      ]
     },
     "execution_count": 284,
     "metadata": {},
     "output_type": "execute_result"
    }
   ],
   "source": [
    "func(20,30)"
   ]
  },
  {
   "cell_type": "code",
   "execution_count": 285,
   "id": "4fb699f3",
   "metadata": {},
   "outputs": [
    {
     "data": {
      "text/plain": [
       "14"
      ]
     },
     "execution_count": 285,
     "metadata": {},
     "output_type": "execute_result"
    }
   ],
   "source": [
    "func2(2,4,8)"
   ]
  },
  {
   "cell_type": "code",
   "execution_count": 288,
   "id": "df015051",
   "metadata": {},
   "outputs": [],
   "source": [
    "# var args\n",
    "def sum_numbers(*args):\n",
    "    sum_num=0\n",
    "    for num in args:\n",
    "        sum_num+=num\n",
    "    return sum_num"
   ]
  },
  {
   "cell_type": "code",
   "execution_count": 289,
   "id": "777808a1",
   "metadata": {},
   "outputs": [
    {
     "data": {
      "text/plain": [
       "9"
      ]
     },
     "execution_count": 289,
     "metadata": {},
     "output_type": "execute_result"
    }
   ],
   "source": [
    "sum_numbers(2,3,4)"
   ]
  },
  {
   "cell_type": "code",
   "execution_count": 290,
   "id": "6ad13ef8",
   "metadata": {},
   "outputs": [
    {
     "data": {
      "text/plain": [
       "30"
      ]
     },
     "execution_count": 290,
     "metadata": {},
     "output_type": "execute_result"
    }
   ],
   "source": [
    "sum_numbers(2,3,4,7,9,1,4)"
   ]
  },
  {
   "cell_type": "code",
   "execution_count": 291,
   "id": "5d802712",
   "metadata": {},
   "outputs": [],
   "source": [
    "def display(**kwargs):\n",
    "    for key in kwargs.keys():\n",
    "        print(key, '=>', kwargs[key])"
   ]
  },
  {
   "cell_type": "code",
   "execution_count": 292,
   "id": "8b78c72b",
   "metadata": {},
   "outputs": [
    {
     "name": "stdout",
     "output_type": "stream",
     "text": [
      "name => prateek\n",
      "marks => 98\n"
     ]
    }
   ],
   "source": [
    "display(name='prateek',marks=98)"
   ]
  },
  {
   "cell_type": "code",
   "execution_count": 293,
   "id": "7827944f",
   "metadata": {},
   "outputs": [
    {
     "name": "stdout",
     "output_type": "stream",
     "text": [
      "name => prateek\n",
      "marks => 98\n",
      "course => Python\n",
      "duration => 2\n"
     ]
    }
   ],
   "source": [
    "display(name='prateek',marks=98, course='Python', duration=2)"
   ]
  },
  {
   "cell_type": "code",
   "execution_count": 298,
   "id": "d9f7bdfb",
   "metadata": {},
   "outputs": [],
   "source": [
    "def display(*args, **kwargs):\n",
    "    print(args)\n",
    "    print(kwargs)"
   ]
  },
  {
   "cell_type": "code",
   "execution_count": 299,
   "id": "881c656d",
   "metadata": {},
   "outputs": [
    {
     "name": "stdout",
     "output_type": "stream",
     "text": [
      "(2, 3, 4)\n",
      "{'name': 'prateek'}\n"
     ]
    }
   ],
   "source": [
    "display(2,3,4, name='prateek')"
   ]
  },
  {
   "cell_type": "code",
   "execution_count": 300,
   "id": "2c554775",
   "metadata": {},
   "outputs": [
    {
     "name": "stdout",
     "output_type": "stream",
     "text": [
      "()\n",
      "{}\n"
     ]
    }
   ],
   "source": [
    "display()"
   ]
  },
  {
   "cell_type": "code",
   "execution_count": 301,
   "id": "1aed2f47",
   "metadata": {},
   "outputs": [],
   "source": [
    "def display(x,y, *args, **kwargs):\n",
    "    print(x,y)\n",
    "    print(args)\n",
    "    print(kwargs)"
   ]
  },
  {
   "cell_type": "code",
   "execution_count": 306,
   "id": "212e0c5f",
   "metadata": {},
   "outputs": [
    {
     "name": "stdout",
     "output_type": "stream",
     "text": [
      "100 200\n",
      "(300, 400)\n",
      "{'a': 3.14, 'b': 2.71}\n"
     ]
    }
   ],
   "source": [
    "display(100,200, 300, 400, a=3.14, b=2.71)"
   ]
  },
  {
   "cell_type": "code",
   "execution_count": 312,
   "id": "85feffb0",
   "metadata": {},
   "outputs": [
    {
     "name": "stdout",
     "output_type": "stream",
     "text": [
      "Original:  {10: 100, 20: 200, 30: 300}\n",
      "20\n",
      "50\n",
      "Updated:  {10: 100, 30: 300, 50: 200}\n"
     ]
    }
   ],
   "source": [
    "# write a program code to modify the dictionary key provided by user\n",
    "# d={10:100, 20:200, 30:300}\n",
    "#Example: input=> old_key, new_key (20, 50)\n",
    "# output: d={10:100, 50:200, 30:300}\n",
    "\n",
    "d={10:100, 20:200, 30:300}\n",
    "print('Original: ',d)\n",
    "old_key=int(input())\n",
    "new_key=int(input())\n",
    "d.update({new_key:d[old_key]})\n",
    "d.pop(old_key)\n",
    "print('Updated: ',d)"
   ]
  },
  {
   "cell_type": "code",
   "execution_count": 314,
   "id": "0e59df68",
   "metadata": {},
   "outputs": [
    {
     "name": "stdout",
     "output_type": "stream",
     "text": [
      "10\n",
      "{0: 0, 1: 1, 2: 8, 3: 27, 4: 64, 5: 125, 6: 216, 7: 343, 8: 512, 9: 729}\n"
     ]
    }
   ],
   "source": [
    "# Take N as integer from user and create a dictionary that contains\n",
    "# 1....N as keys and cube of 1...N as values\n",
    "#Example: input=>4\n",
    "# output: {1:1, 2:8, 3:27, 4:64}\n",
    "\n",
    "N=int(input())\n",
    "d={x:x**3 for x in range(N)}\n",
    "print(d)"
   ]
  },
  {
   "cell_type": "code",
   "execution_count": 333,
   "id": "cbd24633",
   "metadata": {},
   "outputs": [
    {
     "name": "stdout",
     "output_type": "stream",
     "text": [
      "6 => 600\n",
      "10 => 100\n",
      "20 => 230\n",
      "40 => 400\n",
      "70 => 786\n"
     ]
    }
   ],
   "source": [
    "# write a function that takes dictionary as input and\n",
    "# prints dictionary sorted by keys\n",
    "\n",
    "def sort_dict_by_keys(d):\n",
    "    for key in sorted(d.keys()):\n",
    "        print(key, '=>', d[key])\n",
    "    return None\n",
    "\n",
    "sort_dict_by_keys({10:100,40:400,20:230,6:600,70:786})"
   ]
  },
  {
   "cell_type": "code",
   "execution_count": 337,
   "id": "4dc5cca3",
   "metadata": {},
   "outputs": [
    {
     "data": {
      "text/plain": [
       "{6: 600, 10: 100, 20: 230, 40: 400, 70: 786}"
      ]
     },
     "execution_count": 337,
     "metadata": {},
     "output_type": "execute_result"
    }
   ],
   "source": [
    "def sort_dict_by_keys(d):\n",
    "    return dict(sorted(d.items()))\n",
    "sort_dict_by_keys({10:100,40:400,20:230,6:600,70:786})"
   ]
  },
  {
   "cell_type": "markdown",
   "id": "6df0ba62",
   "metadata": {},
   "source": [
    "### Documentation Strings"
   ]
  },
  {
   "cell_type": "code",
   "execution_count": 341,
   "id": "2609f05a",
   "metadata": {},
   "outputs": [],
   "source": [
    "def add_numbers(x,y):\n",
    "    '''Function to calculate sum of two numbers\n",
    "    Example: add_numbers(2,3) returns 5\n",
    "    input type integer | float\n",
    "    return type integer | float'''\n",
    "    return x+y"
   ]
  },
  {
   "cell_type": "code",
   "execution_count": 342,
   "id": "726c494d",
   "metadata": {},
   "outputs": [
    {
     "data": {
      "text/plain": [
       "5"
      ]
     },
     "execution_count": 342,
     "metadata": {},
     "output_type": "execute_result"
    }
   ],
   "source": [
    "add_numbers(2,3)"
   ]
  },
  {
   "cell_type": "code",
   "execution_count": 344,
   "id": "ce0daf75",
   "metadata": {},
   "outputs": [
    {
     "name": "stdout",
     "output_type": "stream",
     "text": [
      "Function to calculate sum of two numbers\n",
      "    Example: add_numbers(2,3) returns 5\n",
      "    input type integer | float\n",
      "    return type integer | float\n"
     ]
    }
   ],
   "source": [
    "print(add_numbers.__doc__)"
   ]
  },
  {
   "cell_type": "code",
   "execution_count": 345,
   "id": "637bf4cb",
   "metadata": {},
   "outputs": [
    {
     "name": "stdout",
     "output_type": "stream",
     "text": [
      "Return the base 2 logarithm of x.\n"
     ]
    }
   ],
   "source": [
    "import math\n",
    "print(math.log2.__doc__)"
   ]
  },
  {
   "cell_type": "code",
   "execution_count": 347,
   "id": "d4bd950c",
   "metadata": {},
   "outputs": [
    {
     "name": "stdout",
     "output_type": "stream",
     "text": [
      "Convert angle x from degrees to radians.\n"
     ]
    }
   ],
   "source": [
    "print(math.radians.__doc__)"
   ]
  },
  {
   "cell_type": "code",
   "execution_count": 348,
   "id": "e11ff58d",
   "metadata": {},
   "outputs": [
    {
     "name": "stdout",
     "output_type": "stream",
     "text": [
      "Return a new list containing all items from the iterable in ascending order.\n",
      "\n",
      "A custom key function can be supplied to customize the sort order, and the\n",
      "reverse flag can be set to request the result in descending order.\n"
     ]
    }
   ],
   "source": [
    "print(sorted.__doc__)"
   ]
  },
  {
   "cell_type": "markdown",
   "id": "94a01f4d",
   "metadata": {},
   "source": [
    "## Formatting Strings"
   ]
  },
  {
   "cell_type": "markdown",
   "id": "065db5a0",
   "metadata": {},
   "source": [
    "### format()"
   ]
  },
  {
   "cell_type": "code",
   "execution_count": 350,
   "id": "8a884e52",
   "metadata": {},
   "outputs": [
    {
     "name": "stdout",
     "output_type": "stream",
     "text": [
      "Welcome to  Deloitte ,  Prateek !\n"
     ]
    }
   ],
   "source": [
    "name='Prateek'\n",
    "company='Deloitte'\n",
    "\n",
    "print(\"Welcome to \", company, \", \", name, '!')"
   ]
  },
  {
   "cell_type": "code",
   "execution_count": 351,
   "id": "80b89bf1",
   "metadata": {},
   "outputs": [
    {
     "name": "stdout",
     "output_type": "stream",
     "text": [
      "Welcome to Deloitte, Prateek !\n"
     ]
    }
   ],
   "source": [
    "print(\"Welcome to {0}, {1} !\".format(company, name))"
   ]
  },
  {
   "cell_type": "code",
   "execution_count": 352,
   "id": "ca7bb4c5",
   "metadata": {},
   "outputs": [
    {
     "name": "stdout",
     "output_type": "stream",
     "text": [
      "Welcome to Deloitte, Prateek !\n"
     ]
    }
   ],
   "source": [
    "print(f\"Welcome to {company}, {name} !\")"
   ]
  },
  {
   "cell_type": "code",
   "execution_count": 353,
   "id": "d78f3d5e",
   "metadata": {},
   "outputs": [
    {
     "name": "stdout",
     "output_type": "stream",
     "text": [
      "Value of PI is 3.142857142857143\n"
     ]
    }
   ],
   "source": [
    "print(\"Value of PI is {0}\".format(22/7))"
   ]
  },
  {
   "cell_type": "code",
   "execution_count": 355,
   "id": "db3b051c",
   "metadata": {},
   "outputs": [
    {
     "name": "stdout",
     "output_type": "stream",
     "text": [
      "Value of PI is 3.14\n"
     ]
    }
   ],
   "source": [
    "print(\"Value of PI is {0:.2f}\".format(22/7))"
   ]
  },
  {
   "cell_type": "code",
   "execution_count": 356,
   "id": "6f999a72",
   "metadata": {},
   "outputs": [
    {
     "name": "stdout",
     "output_type": "stream",
     "text": [
      "Value is: 183.678\n"
     ]
    }
   ],
   "source": [
    "print('Value is: {0}'.format(183.678))"
   ]
  },
  {
   "cell_type": "code",
   "execution_count": 357,
   "id": "39f9f791",
   "metadata": {},
   "outputs": [
    {
     "name": "stdout",
     "output_type": "stream",
     "text": [
      "Value is: 1.836780e+02\n"
     ]
    }
   ],
   "source": [
    "print('Value is: {0:e}'.format(183.678))"
   ]
  },
  {
   "cell_type": "code",
   "execution_count": 358,
   "id": "47ebb4f2",
   "metadata": {},
   "outputs": [
    {
     "name": "stdout",
     "output_type": "stream",
     "text": [
      "Binary Value: 1001110\n"
     ]
    }
   ],
   "source": [
    "print('Binary Value: {0:b}'.format(78))"
   ]
  },
  {
   "cell_type": "code",
   "execution_count": 359,
   "id": "b5573cc2",
   "metadata": {},
   "outputs": [
    {
     "name": "stdout",
     "output_type": "stream",
     "text": [
      "Deloitte         |     Deloitte     |         Deloitte\n"
     ]
    }
   ],
   "source": [
    "print(\"{0:<16} | {1:^16} | {2:>16}\".format('Deloitte','Deloitte','Deloitte'))"
   ]
  },
  {
   "cell_type": "code",
   "execution_count": 360,
   "id": "cb1048dc",
   "metadata": {},
   "outputs": [
    {
     "name": "stdout",
     "output_type": "stream",
     "text": [
      "Deloitte Inc. India USI\n"
     ]
    }
   ],
   "source": [
    "print(\"{0} {3} {2} {1}\".format('Deloitte','USI','India','Inc.'))"
   ]
  },
  {
   "cell_type": "code",
   "execution_count": 361,
   "id": "2b7baf97",
   "metadata": {},
   "outputs": [
    {
     "name": "stdout",
     "output_type": "stream",
     "text": [
      "Deloitte         |     Deloitte     |         Deloitte\n"
     ]
    }
   ],
   "source": [
    "print(\"{0:<16} | {0:^16} | {0:>16}\".format('Deloitte'))"
   ]
  },
  {
   "cell_type": "code",
   "execution_count": 366,
   "id": "1a97d43f",
   "metadata": {},
   "outputs": [
    {
     "name": "stdout",
     "output_type": "stream",
     "text": [
      "Deloitte             |             Deloitte\n"
     ]
    }
   ],
   "source": [
    "company='Deloitte'\n",
    "print(f'{company:<20} | {company:>20}')"
   ]
  },
  {
   "cell_type": "code",
   "execution_count": 368,
   "id": "f0f3137d",
   "metadata": {},
   "outputs": [
    {
     "name": "stdout",
     "output_type": "stream",
     "text": [
      "21\n"
     ]
    }
   ],
   "source": [
    "# Write a Python function that accepts your date of birth as a parameter \n",
    "# and prints your age\n",
    "\n",
    "def get_age(date):\n",
    "    d=date.split('-')\n",
    "    print(2023-int(d[2]))\n",
    "    return None\n",
    "get_age('22-08-2002')"
   ]
  },
  {
   "cell_type": "code",
   "execution_count": 373,
   "id": "70d65593",
   "metadata": {},
   "outputs": [
    {
     "data": {
      "text/plain": [
       "2023"
      ]
     },
     "execution_count": 373,
     "metadata": {},
     "output_type": "execute_result"
    }
   ],
   "source": [
    "import datetime\n",
    "t=datetime.datetime.now()\n",
    "t.year"
   ]
  },
  {
   "cell_type": "markdown",
   "id": "e5096d0e",
   "metadata": {},
   "source": [
    "### OS module"
   ]
  },
  {
   "cell_type": "code",
   "execution_count": 374,
   "id": "b73527b5",
   "metadata": {},
   "outputs": [],
   "source": [
    "import os"
   ]
  },
  {
   "cell_type": "code",
   "execution_count": 375,
   "id": "00a78ad1",
   "metadata": {},
   "outputs": [
    {
     "data": {
      "text/plain": [
       "'nt'"
      ]
     },
     "execution_count": 375,
     "metadata": {},
     "output_type": "execute_result"
    }
   ],
   "source": [
    "os.name"
   ]
  },
  {
   "cell_type": "code",
   "execution_count": 376,
   "id": "afd2e7d5",
   "metadata": {},
   "outputs": [
    {
     "data": {
      "text/plain": [
       "'C:\\\\Users\\\\pvashishtha\\\\Desktop\\\\Python Basics'"
      ]
     },
     "execution_count": 376,
     "metadata": {},
     "output_type": "execute_result"
    }
   ],
   "source": [
    "os.getcwd()"
   ]
  },
  {
   "cell_type": "code",
   "execution_count": 377,
   "id": "55c33374",
   "metadata": {},
   "outputs": [],
   "source": [
    "os.mkdir(\"C:\\\\Users\\\\pvashishtha\\\\Desktop\\\\Python Basics\\\\trial\")"
   ]
  },
  {
   "cell_type": "code",
   "execution_count": 378,
   "id": "fc2db361",
   "metadata": {},
   "outputs": [],
   "source": [
    "os.chdir(\"C:\\\\Users\\\\pvashishtha\\\\Desktop\\\\Python Basics\\\\trial\")"
   ]
  },
  {
   "cell_type": "code",
   "execution_count": 379,
   "id": "3b2b27cd",
   "metadata": {},
   "outputs": [
    {
     "data": {
      "text/plain": [
       "'C:\\\\Users\\\\pvashishtha\\\\Desktop\\\\Python Basics\\\\trial'"
      ]
     },
     "execution_count": 379,
     "metadata": {},
     "output_type": "execute_result"
    }
   ],
   "source": [
    "os.getcwd()"
   ]
  },
  {
   "cell_type": "code",
   "execution_count": 380,
   "id": "5b8f47a0",
   "metadata": {},
   "outputs": [],
   "source": [
    "os.chdir(\"C:\\\\Users\\\\pvashishtha\\\\Desktop\\\\Python Basics\")"
   ]
  },
  {
   "cell_type": "code",
   "execution_count": 381,
   "id": "fd06c47c",
   "metadata": {},
   "outputs": [],
   "source": [
    "os.rmdir(\"C:\\\\Users\\\\pvashishtha\\\\Desktop\\\\Python Basics\\\\trial\")"
   ]
  },
  {
   "cell_type": "code",
   "execution_count": 383,
   "id": "304a584b",
   "metadata": {},
   "outputs": [],
   "source": [
    "os.rename('first_script.py', 'first.py')"
   ]
  },
  {
   "cell_type": "code",
   "execution_count": 384,
   "id": "4156a382",
   "metadata": {},
   "outputs": [
    {
     "data": {
      "text/plain": [
       "'pvashishtha'"
      ]
     },
     "execution_count": 384,
     "metadata": {},
     "output_type": "execute_result"
    }
   ],
   "source": [
    "os.getlogin()"
   ]
  },
  {
   "cell_type": "code",
   "execution_count": 385,
   "id": "450ee914",
   "metadata": {},
   "outputs": [
    {
     "data": {
      "text/plain": [
       "21772"
      ]
     },
     "execution_count": 385,
     "metadata": {},
     "output_type": "execute_result"
    }
   ],
   "source": [
    "os.getpid()"
   ]
  },
  {
   "cell_type": "code",
   "execution_count": 386,
   "id": "793866d0",
   "metadata": {},
   "outputs": [
    {
     "data": {
      "text/plain": [
       "['.ipynb_checkpoints',\n",
       " 'first.py',\n",
       " 'Python Basics Day 1.ipynb',\n",
       " 'Python Basics Day 2.ipynb',\n",
       " 'Python Basics Day 3.ipynb']"
      ]
     },
     "execution_count": 386,
     "metadata": {},
     "output_type": "execute_result"
    }
   ],
   "source": [
    "os.listdir()"
   ]
  },
  {
   "cell_type": "code",
   "execution_count": 387,
   "id": "5c96353d",
   "metadata": {},
   "outputs": [
    {
     "data": {
      "text/plain": [
       "['.ipynb_checkpoints',\n",
       " 'aditi_resume_v2.pdf',\n",
       " 'Deloitte Remote Assistance.lnk',\n",
       " 'Deloitte- Tech (Python)',\n",
       " 'desktop.ini',\n",
       " 'FDN_DWH_ETL Fundamentals_Testing_Agile Fundamentals_1wk',\n",
       " 'FDN_Python_2wk',\n",
       " 'FDN_SQL_Adv SQL_1wk',\n",
       " 'Following are the agenda items that I would like to discuss.docx',\n",
       " 'GCP',\n",
       " 'Microsoft Teams.lnk',\n",
       " 'object_oriented_python_tutorial.pdf',\n",
       " 'OneDrive.lnk',\n",
       " 'P7 AA week 5 roster DTA faculty.xlsx',\n",
       " 'PRE_SQL_PLSQL_4d',\n",
       " 'PV',\n",
       " 'Python Basics',\n",
       " 'subjective_Python_.docx',\n",
       " 'Week 4 - Internal.xlsx']"
      ]
     },
     "execution_count": 387,
     "metadata": {},
     "output_type": "execute_result"
    }
   ],
   "source": [
    "os.listdir(\"C:\\\\Users\\\\pvashishtha\\\\Desktop\")"
   ]
  },
  {
   "cell_type": "code",
   "execution_count": 389,
   "id": "0df72b1b",
   "metadata": {},
   "outputs": [
    {
     "data": {
      "text/plain": [
       "'C:\\\\Users\\\\pvashishtha\\\\Anaconda3;C:\\\\Users\\\\pvashishtha\\\\Anaconda3\\\\Library\\\\mingw-w64\\\\bin;C:\\\\Users\\\\pvashishtha\\\\Anaconda3\\\\Library\\\\usr\\\\bin;C:\\\\Users\\\\pvashishtha\\\\Anaconda3\\\\Library\\\\bin;C:\\\\Users\\\\pvashishtha\\\\Anaconda3\\\\Scripts;C:\\\\WINDOWS\\\\system32;C:\\\\WINDOWS;C:\\\\WINDOWS\\\\System32\\\\Wbem;C:\\\\WINDOWS\\\\System32\\\\WindowsPowerShell\\\\v1.0\\\\;C:\\\\WINDOWS\\\\System32\\\\OpenSSH\\\\;C:\\\\Users\\\\pvashishtha\\\\AppData\\\\Local\\\\Programs\\\\Python\\\\Python38;C:\\\\Users\\\\pvashishtha\\\\AppData\\\\Local\\\\Programs\\\\Python\\\\Python38\\\\Scripts;C:\\\\Users\\\\pvashishtha\\\\AppData\\\\Local\\\\Microsoft\\\\WindowsApps;C:\\\\Program Files\\\\Microsoft SQL Server\\\\Client SDK\\\\ODBC\\\\170\\\\Tools\\\\Binn\\\\;C:\\\\Program Files (x86)\\\\Microsoft SQL Server\\\\150\\\\Tools\\\\Binn\\\\;C:\\\\Program Files\\\\Microsoft SQL Server\\\\150\\\\Tools\\\\Binn\\\\;C:\\\\Program Files\\\\Microsoft SQL Server\\\\150\\\\DTS\\\\Binn\\\\;C:\\\\Program Files (x86)\\\\Microsoft SQL Server\\\\150\\\\DTS\\\\Binn\\\\;C:\\\\Program Files\\\\Azure Data Studio\\\\bin;C:\\\\Users\\\\pvashishtha\\\\Anaconda3\\\\Scripts;C:\\\\Users\\\\pvashishtha\\\\Anaconda3;C:\\\\Users\\\\pvashishtha\\\\Anaconda3\\\\Scripts;C:\\\\Users\\\\pvashishtha\\\\AppData\\\\Local\\\\Programs\\\\Python\\\\Python38;C:\\\\Users\\\\pvashishtha\\\\AppData\\\\Local\\\\Programs\\\\Python\\\\Python38\\\\Scripts;C:\\\\Users\\\\pvashishtha\\\\AppData\\\\Local\\\\Microsoft\\\\WindowsApps;C:\\\\Users\\\\pvashishtha\\\\AppData\\\\Local\\\\Programs\\\\Microsoft VS Code\\\\bin;C:\\\\Users\\\\pvashishtha\\\\Anaconda3\\\\condabin;C:\\\\Users\\\\pvashishtha\\\\Anaconda3\\\\Scripts;C:\\\\Program Files\\\\Azure Data Studio\\\\bin;C:\\\\Users\\\\pvashishtha\\\\Anaconda3;'"
      ]
     },
     "execution_count": 389,
     "metadata": {},
     "output_type": "execute_result"
    }
   ],
   "source": [
    "os.getenv('path')"
   ]
  },
  {
   "cell_type": "code",
   "execution_count": 390,
   "id": "6bd4b0ac",
   "metadata": {},
   "outputs": [
    {
     "data": {
      "text/plain": [
       "os.stat_result(st_mode=33206, st_ino=41376821576472884, st_dev=1320782998, st_nlink=1, st_uid=0, st_gid=0, st_size=3479286, st_atime=1672635724, st_mtime=1670214040, st_ctime=1670214039)"
      ]
     },
     "execution_count": 390,
     "metadata": {},
     "output_type": "execute_result"
    }
   ],
   "source": [
    "os.stat('C:\\\\Users\\\\pvashishtha\\\\Desktop\\\\object_oriented_python_tutorial.pdf')"
   ]
  },
  {
   "cell_type": "code",
   "execution_count": 391,
   "id": "4fedf6bc",
   "metadata": {},
   "outputs": [
    {
     "data": {
      "text/plain": [
       "nt.times_result(user=77.609375, system=19.515625, children_user=0.0, children_system=0.0, elapsed=0.0)"
      ]
     },
     "execution_count": 391,
     "metadata": {},
     "output_type": "execute_result"
    }
   ],
   "source": [
    "os.times()"
   ]
  },
  {
   "cell_type": "markdown",
   "id": "5affb2bf",
   "metadata": {},
   "source": [
    "### Time Module"
   ]
  },
  {
   "cell_type": "code",
   "execution_count": 392,
   "id": "fe98bdfe",
   "metadata": {},
   "outputs": [],
   "source": [
    "import time"
   ]
  },
  {
   "cell_type": "code",
   "execution_count": 394,
   "id": "40bbc6da",
   "metadata": {},
   "outputs": [
    {
     "data": {
      "text/plain": [
       "1675858915.4942772"
      ]
     },
     "execution_count": 394,
     "metadata": {},
     "output_type": "execute_result"
    }
   ],
   "source": [
    "time.time()"
   ]
  },
  {
   "cell_type": "code",
   "execution_count": 395,
   "id": "ab3bede8",
   "metadata": {},
   "outputs": [
    {
     "data": {
      "text/plain": [
       "'Wed Feb  8 17:52:18 2023'"
      ]
     },
     "execution_count": 395,
     "metadata": {},
     "output_type": "execute_result"
    }
   ],
   "source": [
    "time.ctime()"
   ]
  },
  {
   "cell_type": "code",
   "execution_count": 397,
   "id": "4ee51278",
   "metadata": {},
   "outputs": [
    {
     "name": "stdout",
     "output_type": "stream",
     "text": [
      "one\n",
      "two\n",
      "three\n",
      "four\n",
      "five\n",
      "Go!!\n"
     ]
    }
   ],
   "source": [
    "li=['one','two','three','four','five','Go!!']\n",
    "for val in li:\n",
    "    print(val)\n",
    "    time.sleep(1.5)"
   ]
  },
  {
   "cell_type": "code",
   "execution_count": 400,
   "id": "c7136df2",
   "metadata": {},
   "outputs": [
    {
     "data": {
      "text/plain": [
       "2023"
      ]
     },
     "execution_count": 400,
     "metadata": {},
     "output_type": "execute_result"
    }
   ],
   "source": [
    "result=time.localtime(time.time())\n",
    "result.tm_year"
   ]
  },
  {
   "cell_type": "code",
   "execution_count": 403,
   "id": "01699fec",
   "metadata": {},
   "outputs": [
    {
     "data": {
      "text/plain": [
       "2"
      ]
     },
     "execution_count": 403,
     "metadata": {},
     "output_type": "execute_result"
    }
   ],
   "source": [
    "result.tm_mon"
   ]
  },
  {
   "cell_type": "code",
   "execution_count": 405,
   "id": "601f3f30",
   "metadata": {},
   "outputs": [
    {
     "data": {
      "text/plain": [
       "8"
      ]
     },
     "execution_count": 405,
     "metadata": {},
     "output_type": "execute_result"
    }
   ],
   "source": [
    "result.tm_mday"
   ]
  },
  {
   "cell_type": "code",
   "execution_count": 406,
   "id": "d0e6bffe",
   "metadata": {},
   "outputs": [
    {
     "name": "stdout",
     "output_type": "stream",
     "text": [
      "17 54 30\n"
     ]
    }
   ],
   "source": [
    "print(result.tm_hour, result.tm_min, result.tm_sec)"
   ]
  },
  {
   "cell_type": "code",
   "execution_count": 407,
   "id": "1848ef56",
   "metadata": {},
   "outputs": [
    {
     "data": {
      "text/plain": [
       "time.struct_time(tm_year=2023, tm_mon=2, tm_mday=8, tm_hour=17, tm_min=54, tm_sec=30, tm_wday=2, tm_yday=39, tm_isdst=0)"
      ]
     },
     "execution_count": 407,
     "metadata": {},
     "output_type": "execute_result"
    }
   ],
   "source": [
    "result"
   ]
  },
  {
   "cell_type": "code",
   "execution_count": 408,
   "id": "f9e37dbd",
   "metadata": {},
   "outputs": [
    {
     "data": {
      "text/plain": [
       "'02/08/2023, 17:57:43'"
      ]
     },
     "execution_count": 408,
     "metadata": {},
     "output_type": "execute_result"
    }
   ],
   "source": [
    "time.strftime(\"%m/%d/%Y, %H:%M:%S\", time.localtime())"
   ]
  },
  {
   "cell_type": "markdown",
   "id": "95287440",
   "metadata": {},
   "source": [
    "## Random Module"
   ]
  },
  {
   "cell_type": "code",
   "execution_count": 409,
   "id": "6c19715a",
   "metadata": {},
   "outputs": [],
   "source": [
    "import random"
   ]
  },
  {
   "cell_type": "code",
   "execution_count": 410,
   "id": "306fe3a6",
   "metadata": {},
   "outputs": [
    {
     "data": {
      "text/plain": [
       "0.01732622246138593"
      ]
     },
     "execution_count": 410,
     "metadata": {},
     "output_type": "execute_result"
    }
   ],
   "source": [
    "random.random()"
   ]
  },
  {
   "cell_type": "code",
   "execution_count": 412,
   "id": "a9a72ae4",
   "metadata": {},
   "outputs": [
    {
     "data": {
      "text/plain": [
       "782"
      ]
     },
     "execution_count": 412,
     "metadata": {},
     "output_type": "execute_result"
    }
   ],
   "source": [
    "random.randint(500,800)"
   ]
  },
  {
   "cell_type": "code",
   "execution_count": 413,
   "id": "317a64b2",
   "metadata": {},
   "outputs": [
    {
     "data": {
      "text/plain": [
       "2"
      ]
     },
     "execution_count": 413,
     "metadata": {},
     "output_type": "execute_result"
    }
   ],
   "source": [
    "li=[1,2,3,4,5,6]\n",
    "random.choice(li)"
   ]
  },
  {
   "cell_type": "code",
   "execution_count": 416,
   "id": "b27fd9aa",
   "metadata": {},
   "outputs": [
    {
     "data": {
      "text/plain": [
       "'five'"
      ]
     },
     "execution_count": 416,
     "metadata": {},
     "output_type": "execute_result"
    }
   ],
   "source": [
    "li=['one','two','three','four','five','five','six']\n",
    "random.choice(li)"
   ]
  },
  {
   "cell_type": "code",
   "execution_count": 417,
   "id": "09d01852",
   "metadata": {},
   "outputs": [
    {
     "data": {
      "text/plain": [
       "812"
      ]
     },
     "execution_count": 417,
     "metadata": {},
     "output_type": "execute_result"
    }
   ],
   "source": [
    "random.randrange(800,900)"
   ]
  },
  {
   "cell_type": "code",
   "execution_count": 418,
   "id": "0951bbe1",
   "metadata": {},
   "outputs": [
    {
     "data": {
      "text/plain": [
       "0.6394267984578837"
      ]
     },
     "execution_count": 418,
     "metadata": {},
     "output_type": "execute_result"
    }
   ],
   "source": [
    "random.seed(42)\n",
    "random.random()"
   ]
  },
  {
   "cell_type": "code",
   "execution_count": 421,
   "id": "114850ac",
   "metadata": {},
   "outputs": [
    {
     "data": {
      "text/plain": [
       "12.750293183691193"
      ]
     },
     "execution_count": 421,
     "metadata": {},
     "output_type": "execute_result"
    }
   ],
   "source": [
    "random.uniform(10,20)"
   ]
  },
  {
   "cell_type": "code",
   "execution_count": 422,
   "id": "1241410d",
   "metadata": {},
   "outputs": [
    {
     "data": {
      "text/plain": [
       "0.2735990065583831"
      ]
     },
     "execution_count": 422,
     "metadata": {},
     "output_type": "execute_result"
    }
   ],
   "source": [
    "random.gauss(0,1)"
   ]
  },
  {
   "cell_type": "code",
   "execution_count": null,
   "id": "f2849155",
   "metadata": {},
   "outputs": [],
   "source": []
  },
  {
   "cell_type": "code",
   "execution_count": 424,
   "id": "d6968656",
   "metadata": {},
   "outputs": [
    {
     "data": {
      "text/plain": [
       "[1, 4, 9, 16, 25]"
      ]
     },
     "execution_count": 424,
     "metadata": {},
     "output_type": "execute_result"
    }
   ],
   "source": [
    "li=[1,2,3,4,5]\n",
    "\n",
    "# map()\n",
    "list(map(lambda x: x**2, li))"
   ]
  },
  {
   "cell_type": "code",
   "execution_count": 426,
   "id": "97935394",
   "metadata": {},
   "outputs": [
    {
     "data": {
      "text/plain": [
       "[1, 3, 5]"
      ]
     },
     "execution_count": 426,
     "metadata": {},
     "output_type": "execute_result"
    }
   ],
   "source": [
    "list(filter(lambda x: x%2!=0, li))"
   ]
  },
  {
   "cell_type": "code",
   "execution_count": 427,
   "id": "5d20728e",
   "metadata": {},
   "outputs": [
    {
     "data": {
      "text/plain": [
       "[2, 4]"
      ]
     },
     "execution_count": 427,
     "metadata": {},
     "output_type": "execute_result"
    }
   ],
   "source": [
    "list(filter(lambda x: x%2==0, li))"
   ]
  },
  {
   "cell_type": "code",
   "execution_count": 430,
   "id": "468310ac",
   "metadata": {},
   "outputs": [
    {
     "data": {
      "text/plain": [
       "15"
      ]
     },
     "execution_count": 430,
     "metadata": {},
     "output_type": "execute_result"
    }
   ],
   "source": [
    "reduce(lambda x,y: x+y, li)"
   ]
  },
  {
   "cell_type": "code",
   "execution_count": null,
   "id": "13af10c1",
   "metadata": {},
   "outputs": [],
   "source": []
  },
  {
   "cell_type": "code",
   "execution_count": 434,
   "id": "42415b93",
   "metadata": {},
   "outputs": [],
   "source": [
    "d={1:10, 2:20, 3:30}"
   ]
  },
  {
   "cell_type": "code",
   "execution_count": 435,
   "id": "1a82c98e",
   "metadata": {},
   "outputs": [
    {
     "name": "stdout",
     "output_type": "stream",
     "text": [
      "20\n",
      "{1: 10, 2: 20, 3: 30}\n"
     ]
    }
   ],
   "source": [
    "print(d.setdefault(2, 40))\n",
    "print(d)"
   ]
  },
  {
   "cell_type": "code",
   "execution_count": 436,
   "id": "fade9dad",
   "metadata": {},
   "outputs": [
    {
     "name": "stdout",
     "output_type": "stream",
     "text": [
      "50\n",
      "{1: 10, 2: 20, 3: 30, 5: 50}\n"
     ]
    }
   ],
   "source": [
    "print(d.setdefault(5,50))\n",
    "print(d)"
   ]
  },
  {
   "cell_type": "code",
   "execution_count": null,
   "id": "a742226f",
   "metadata": {},
   "outputs": [],
   "source": []
  }
 ],
 "metadata": {
  "kernelspec": {
   "display_name": "Python 3 (ipykernel)",
   "language": "python",
   "name": "python3"
  },
  "language_info": {
   "codemirror_mode": {
    "name": "ipython",
    "version": 3
   },
   "file_extension": ".py",
   "mimetype": "text/x-python",
   "name": "python",
   "nbconvert_exporter": "python",
   "pygments_lexer": "ipython3",
   "version": "3.9.12"
  }
 },
 "nbformat": 4,
 "nbformat_minor": 5
}
