{
 "cells": [
  {
   "cell_type": "markdown",
   "id": "bb71d597",
   "metadata": {},
   "source": [
    "### REVISION TOPICS"
   ]
  },
  {
   "cell_type": "code",
   "execution_count": 1,
   "id": "d258ec28",
   "metadata": {},
   "outputs": [],
   "source": [
    "# file handling in print()"
   ]
  },
  {
   "cell_type": "code",
   "execution_count": 2,
   "id": "336d79db",
   "metadata": {},
   "outputs": [],
   "source": [
    "file=open('message.txt', 'w')\n",
    "file.write('welcome to deloitte!')\n",
    "file.close()"
   ]
  },
  {
   "cell_type": "code",
   "execution_count": 3,
   "id": "be99e5dc",
   "metadata": {},
   "outputs": [],
   "source": [
    "with open('message.txt', 'w') as file:\n",
    "    file.write('hello, how are you?')"
   ]
  },
  {
   "cell_type": "code",
   "execution_count": 7,
   "id": "0ca66fd0",
   "metadata": {},
   "outputs": [],
   "source": [
    "f=open('message.txt', 'w')\n",
    "print('Welcome to DTA!', file=f, flush=True)\n",
    "f.close()"
   ]
  },
  {
   "cell_type": "code",
   "execution_count": 9,
   "id": "ef41ab35",
   "metadata": {},
   "outputs": [],
   "source": [
    "d=34.89\n",
    "e=2.71\n",
    "s='hello DTA'\n",
    "f=open('message.txt', 'w')\n",
    "print(d,e,s, file=f, flush=True, sep=',')\n",
    "f.close()"
   ]
  },
  {
   "cell_type": "code",
   "execution_count": 10,
   "id": "c0a4aa32",
   "metadata": {},
   "outputs": [],
   "source": [
    "# LAMBDA"
   ]
  },
  {
   "cell_type": "code",
   "execution_count": null,
   "id": "23000094",
   "metadata": {},
   "outputs": [],
   "source": [
    "# lambda x,y: x+y"
   ]
  },
  {
   "cell_type": "code",
   "execution_count": 14,
   "id": "50f713a2",
   "metadata": {},
   "outputs": [],
   "source": [
    "def find_exp(y):\n",
    "    return lambda x: x**y"
   ]
  },
  {
   "cell_type": "code",
   "execution_count": 15,
   "id": "f7e68529",
   "metadata": {},
   "outputs": [],
   "source": [
    "sqr=find_exp(2)\n",
    "cube=find_exp(3)"
   ]
  },
  {
   "cell_type": "code",
   "execution_count": 16,
   "id": "9978e438",
   "metadata": {},
   "outputs": [
    {
     "data": {
      "text/plain": [
       "25"
      ]
     },
     "execution_count": 16,
     "metadata": {},
     "output_type": "execute_result"
    }
   ],
   "source": [
    "sqr(5)"
   ]
  },
  {
   "cell_type": "code",
   "execution_count": 17,
   "id": "8f08d483",
   "metadata": {},
   "outputs": [
    {
     "data": {
      "text/plain": [
       "729"
      ]
     },
     "execution_count": 17,
     "metadata": {},
     "output_type": "execute_result"
    }
   ],
   "source": [
    "cube(9)"
   ]
  },
  {
   "cell_type": "code",
   "execution_count": 19,
   "id": "c65583aa",
   "metadata": {},
   "outputs": [
    {
     "data": {
      "text/plain": [
       "[1, 3, 4, 5, 90, 45]"
      ]
     },
     "execution_count": 19,
     "metadata": {},
     "output_type": "execute_result"
    }
   ],
   "source": [
    "# filter\n",
    "li=[1,3,4,5,-1,-4,-100,90,45]\n",
    "def get_pos(x):\n",
    "    if x>=0:\n",
    "        return x\n",
    "    return None\n",
    "list(filter(get_pos, li))"
   ]
  },
  {
   "cell_type": "code",
   "execution_count": 21,
   "id": "45de6bde",
   "metadata": {},
   "outputs": [
    {
     "data": {
      "text/plain": [
       "[1, 3, 4, 5, 90, 45]"
      ]
     },
     "execution_count": 21,
     "metadata": {},
     "output_type": "execute_result"
    }
   ],
   "source": [
    "# filter\n",
    "li=[1,3,4,5,-1,-4,-100,90,45]\n",
    "\n",
    "list(filter(lambda x : x if x>=0 else None, li))"
   ]
  },
  {
   "cell_type": "code",
   "execution_count": 22,
   "id": "53e3b37d",
   "metadata": {},
   "outputs": [
    {
     "data": {
      "text/plain": [
       "[1, 9, 16, 25, 1, 16, 10000, 8100, 2025]"
      ]
     },
     "execution_count": 22,
     "metadata": {},
     "output_type": "execute_result"
    }
   ],
   "source": [
    "# map()\n",
    "\n",
    "li=[1,3,4,5,-1,-4,-100,90,45]\n",
    "\n",
    "def find_sqr(x):\n",
    "    return x**2\n",
    "\n",
    "list(map(find_sqr, li))"
   ]
  },
  {
   "cell_type": "code",
   "execution_count": 23,
   "id": "fb71272d",
   "metadata": {},
   "outputs": [
    {
     "data": {
      "text/plain": [
       "[1, 9, 16, 25, 1, 16, 10000, 8100, 2025]"
      ]
     },
     "execution_count": 23,
     "metadata": {},
     "output_type": "execute_result"
    }
   ],
   "source": [
    "li=[1,3,4,5,-1,-4,-100,90,45]\n",
    "\n",
    "list(map(lambda x: x**2, li))"
   ]
  },
  {
   "cell_type": "code",
   "execution_count": 29,
   "id": "dcc4d385",
   "metadata": {},
   "outputs": [
    {
     "data": {
      "text/plain": [
       "43"
      ]
     },
     "execution_count": 29,
     "metadata": {},
     "output_type": "execute_result"
    }
   ],
   "source": [
    "# reduce - reduce the iterable value set to single agg value\n",
    "from functools import reduce\n",
    "\n",
    "li=[1,3,4,5,-1,-4,-100,90,45]\n",
    "\n",
    "def find_sum(x,y):\n",
    "    return x+y\n",
    "\n",
    "reduce(find_sum, li)"
   ]
  },
  {
   "cell_type": "code",
   "execution_count": 30,
   "id": "8437a3c5",
   "metadata": {},
   "outputs": [
    {
     "name": "stdout",
     "output_type": "stream",
     "text": [
      "43\n"
     ]
    }
   ],
   "source": [
    "from functools import reduce\n",
    "li=[1,3,4,5,-1,-4,-100,90,45]\n",
    "\n",
    "print(reduce(lambda x,y: x+y, li))"
   ]
  },
  {
   "cell_type": "code",
   "execution_count": 31,
   "id": "e930cc5b",
   "metadata": {},
   "outputs": [],
   "source": [
    "# (((1,3),4),5....)"
   ]
  },
  {
   "cell_type": "code",
   "execution_count": 32,
   "id": "962519e7",
   "metadata": {},
   "outputs": [],
   "source": [
    "# Access Modes"
   ]
  },
  {
   "cell_type": "code",
   "execution_count": 67,
   "id": "513c20f6",
   "metadata": {},
   "outputs": [],
   "source": [
    "class A:\n",
    "    __x=10\n",
    "    def disp(self):\n",
    "        print(self.__x)\n",
    "class B(A):\n",
    "    y=20\n",
    "    def disp(self): # overriding disp() from class A /parent\n",
    "        print(self.__x)"
   ]
  },
  {
   "cell_type": "code",
   "execution_count": 68,
   "id": "def905c8",
   "metadata": {},
   "outputs": [],
   "source": [
    "a=A()"
   ]
  },
  {
   "cell_type": "code",
   "execution_count": 69,
   "id": "a958bfb9",
   "metadata": {},
   "outputs": [
    {
     "ename": "AttributeError",
     "evalue": "'A' object has no attribute '__x'",
     "output_type": "error",
     "traceback": [
      "\u001b[1;31m---------------------------------------------------------------------------\u001b[0m",
      "\u001b[1;31mAttributeError\u001b[0m                            Traceback (most recent call last)",
      "Input \u001b[1;32mIn [69]\u001b[0m, in \u001b[0;36m<cell line: 1>\u001b[1;34m()\u001b[0m\n\u001b[1;32m----> 1\u001b[0m \u001b[43ma\u001b[49m\u001b[38;5;241;43m.\u001b[39;49m\u001b[43m__x\u001b[49m\n",
      "\u001b[1;31mAttributeError\u001b[0m: 'A' object has no attribute '__x'"
     ]
    }
   ],
   "source": [
    "a.__x"
   ]
  },
  {
   "cell_type": "code",
   "execution_count": 70,
   "id": "71d976ce",
   "metadata": {},
   "outputs": [
    {
     "name": "stdout",
     "output_type": "stream",
     "text": [
      "10\n"
     ]
    }
   ],
   "source": [
    "a.disp()"
   ]
  },
  {
   "cell_type": "code",
   "execution_count": 71,
   "id": "ab9f3396",
   "metadata": {},
   "outputs": [
    {
     "ename": "AttributeError",
     "evalue": "'B' object has no attribute '__x'",
     "output_type": "error",
     "traceback": [
      "\u001b[1;31m---------------------------------------------------------------------------\u001b[0m",
      "\u001b[1;31mAttributeError\u001b[0m                            Traceback (most recent call last)",
      "Input \u001b[1;32mIn [71]\u001b[0m, in \u001b[0;36m<cell line: 2>\u001b[1;34m()\u001b[0m\n\u001b[0;32m      1\u001b[0m b\u001b[38;5;241m=\u001b[39mB()\n\u001b[1;32m----> 2\u001b[0m \u001b[43mb\u001b[49m\u001b[38;5;241;43m.\u001b[39;49m\u001b[43m__x\u001b[49m\n",
      "\u001b[1;31mAttributeError\u001b[0m: 'B' object has no attribute '__x'"
     ]
    }
   ],
   "source": [
    "b=B()\n",
    "b.__x"
   ]
  },
  {
   "cell_type": "code",
   "execution_count": 72,
   "id": "85b68ce5",
   "metadata": {},
   "outputs": [
    {
     "ename": "AttributeError",
     "evalue": "'B' object has no attribute '_B__x'",
     "output_type": "error",
     "traceback": [
      "\u001b[1;31m---------------------------------------------------------------------------\u001b[0m",
      "\u001b[1;31mAttributeError\u001b[0m                            Traceback (most recent call last)",
      "Input \u001b[1;32mIn [72]\u001b[0m, in \u001b[0;36m<cell line: 1>\u001b[1;34m()\u001b[0m\n\u001b[1;32m----> 1\u001b[0m \u001b[43mb\u001b[49m\u001b[38;5;241;43m.\u001b[39;49m\u001b[43mdisp\u001b[49m\u001b[43m(\u001b[49m\u001b[43m)\u001b[49m\n",
      "Input \u001b[1;32mIn [67]\u001b[0m, in \u001b[0;36mB.disp\u001b[1;34m(self)\u001b[0m\n\u001b[0;32m      7\u001b[0m \u001b[38;5;28;01mdef\u001b[39;00m \u001b[38;5;21mdisp\u001b[39m(\u001b[38;5;28mself\u001b[39m): \u001b[38;5;66;03m# overriding disp() from class A /parent\u001b[39;00m\n\u001b[1;32m----> 8\u001b[0m     \u001b[38;5;28mprint\u001b[39m(\u001b[38;5;28;43mself\u001b[39;49m\u001b[38;5;241;43m.\u001b[39;49m\u001b[43m__x\u001b[49m)\n",
      "\u001b[1;31mAttributeError\u001b[0m: 'B' object has no attribute '_B__x'"
     ]
    }
   ],
   "source": [
    "b.disp()"
   ]
  },
  {
   "cell_type": "code",
   "execution_count": 73,
   "id": "b6193757",
   "metadata": {},
   "outputs": [],
   "source": [
    "# user Deifned Exception"
   ]
  },
  {
   "cell_type": "code",
   "execution_count": 79,
   "id": "85e25e95",
   "metadata": {},
   "outputs": [
    {
     "name": "stdout",
     "output_type": "stream",
     "text": [
      "Enter Age: 12\n",
      "Error\n"
     ]
    },
    {
     "ename": "InvalidAge",
     "evalue": "Age 12 is less than 18. Age is Invalid.",
     "output_type": "error",
     "traceback": [
      "\u001b[1;31m---------------------------------------------------------------------------\u001b[0m",
      "\u001b[1;31mInvalidAge\u001b[0m                                Traceback (most recent call last)",
      "Input \u001b[1;32mIn [79]\u001b[0m, in \u001b[0;36m<cell line: 7>\u001b[1;34m()\u001b[0m\n\u001b[0;32m      8\u001b[0m age\u001b[38;5;241m=\u001b[39m\u001b[38;5;28mint\u001b[39m(\u001b[38;5;28minput\u001b[39m(\u001b[38;5;124m'\u001b[39m\u001b[38;5;124mEnter Age: \u001b[39m\u001b[38;5;124m'\u001b[39m))\n\u001b[0;32m      9\u001b[0m \u001b[38;5;28;01mif\u001b[39;00m age\u001b[38;5;241m<\u001b[39m\u001b[38;5;241m18\u001b[39m:\n\u001b[1;32m---> 10\u001b[0m     \u001b[38;5;28;01mraise\u001b[39;00m InvalidAge(age)\n\u001b[0;32m     11\u001b[0m \u001b[38;5;28;01melse\u001b[39;00m:\n\u001b[0;32m     12\u001b[0m     \u001b[38;5;28mprint\u001b[39m(\u001b[38;5;124m'\u001b[39m\u001b[38;5;124mEligible to Vote\u001b[39m\u001b[38;5;124m'\u001b[39m)\n",
      "\u001b[1;31mInvalidAge\u001b[0m: Age 12 is less than 18. Age is Invalid."
     ]
    }
   ],
   "source": [
    "class InvalidAge(Exception):\n",
    "    def __init__(self, age):\n",
    "        self.age=age\n",
    "        self.message=f'Age {age} is less than 18. Age is Invalid.'\n",
    "        super().__init__(self.message)\n",
    "\n",
    "try:\n",
    "    age=int(input('Enter Age: '))\n",
    "    if age<18:\n",
    "        raise InvalidAge(age)\n",
    "    else:\n",
    "        print('Eligible to Vote')\n",
    "except InvalidAge:\n",
    "    print('Error')\n",
    "    #raise\n",
    "except:\n",
    "    print('generic Error!')"
   ]
  },
  {
   "cell_type": "code",
   "execution_count": 80,
   "id": "5c2b8558",
   "metadata": {},
   "outputs": [],
   "source": [
    "# RegEx"
   ]
  },
  {
   "cell_type": "code",
   "execution_count": 92,
   "id": "a9b26b38",
   "metadata": {},
   "outputs": [
    {
     "data": {
      "text/plain": [
       "<re.Match object; span=(13, 13), match=''>"
      ]
     },
     "execution_count": 92,
     "metadata": {},
     "output_type": "execute_result"
    }
   ],
   "source": [
    "pattern=r'\\W*$'\n",
    "import re\n",
    "re.search(pattern, 'hello mr. 123')"
   ]
  },
  {
   "cell_type": "code",
   "execution_count": null,
   "id": "425c0587",
   "metadata": {},
   "outputs": [],
   "source": []
  }
 ],
 "metadata": {
  "kernelspec": {
   "display_name": "Python 3 (ipykernel)",
   "language": "python",
   "name": "python3"
  },
  "language_info": {
   "codemirror_mode": {
    "name": "ipython",
    "version": 3
   },
   "file_extension": ".py",
   "mimetype": "text/x-python",
   "name": "python",
   "nbconvert_exporter": "python",
   "pygments_lexer": "ipython3",
   "version": "3.9.12"
  }
 },
 "nbformat": 4,
 "nbformat_minor": 5
}
