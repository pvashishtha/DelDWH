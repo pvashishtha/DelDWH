{
 "cells": [
  {
   "cell_type": "markdown",
   "id": "e2015835",
   "metadata": {},
   "source": [
    "## Python Advance Day 1\n"
   ]
  },
  {
   "cell_type": "markdown",
   "id": "fab6026a",
   "metadata": {},
   "source": [
    "#### Object Oriented Programming using Python\n"
   ]
  },
  {
   "cell_type": "code",
   "execution_count": 1,
   "id": "63c2c85f",
   "metadata": {},
   "outputs": [],
   "source": [
    "# Classes\n",
    "# objects"
   ]
  },
  {
   "cell_type": "code",
   "execution_count": 10,
   "id": "e6f809c0",
   "metadata": {},
   "outputs": [],
   "source": [
    "# syntax: object as student\n",
    "\n",
    "class Student:\n",
    "    # characteristics\n",
    "    rollno=0\n",
    "    name=''\n",
    "    course=''\n",
    "    fees=0.0\n",
    "    # behaviors\n",
    "    def update_student(self):\n",
    "        self.rollno=int(input('Enter Roll No: '))\n",
    "        self.name=input('Enter Full Name: ')\n",
    "        self.course=input('Enter Course: ')\n",
    "        self.fees=float(input('Enter Fee: '))\n",
    "    def view_student_details(self):\n",
    "        print('Roll No: ',self.rollno)\n",
    "        print('Name: ',self.name)\n",
    "        print('Course: ',self.course)\n",
    "        print('Fees: ',self.fees)"
   ]
  },
  {
   "cell_type": "code",
   "execution_count": 15,
   "id": "22902a2b",
   "metadata": {},
   "outputs": [],
   "source": [
    "manya=Student()\n",
    "sarthak=Student()"
   ]
  },
  {
   "cell_type": "code",
   "execution_count": 13,
   "id": "feaab50f",
   "metadata": {},
   "outputs": [
    {
     "name": "stdout",
     "output_type": "stream",
     "text": [
      "Enter Roll No: 101\n",
      "Enter Full Name: Manya\n",
      "Enter Course: Python Adv\n",
      "Enter Fee: 2200\n"
     ]
    }
   ],
   "source": [
    "manya.update_student()"
   ]
  },
  {
   "cell_type": "code",
   "execution_count": 14,
   "id": "aa96eb75",
   "metadata": {},
   "outputs": [
    {
     "name": "stdout",
     "output_type": "stream",
     "text": [
      "Roll No:  101\n",
      "Name:  Manya\n",
      "Course:  Python Adv\n",
      "Fees:  2200.0\n"
     ]
    }
   ],
   "source": [
    "manya.view_student_details()"
   ]
  },
  {
   "cell_type": "code",
   "execution_count": 17,
   "id": "c314db81",
   "metadata": {},
   "outputs": [
    {
     "name": "stdout",
     "output_type": "stream",
     "text": [
      "Enter Roll No: 102\n",
      "Enter Full Name: Sarthak\n",
      "Enter Course: Python Adv\n",
      "Enter Fee: 2300\n"
     ]
    }
   ],
   "source": [
    "sarthak.update_student()"
   ]
  },
  {
   "cell_type": "code",
   "execution_count": 18,
   "id": "13b96386",
   "metadata": {},
   "outputs": [
    {
     "name": "stdout",
     "output_type": "stream",
     "text": [
      "Roll No:  102\n",
      "Name:  Sarthak\n",
      "Course:  Python Adv\n",
      "Fees:  2300.0\n"
     ]
    }
   ],
   "source": [
    "sarthak.view_student_details()"
   ]
  },
  {
   "cell_type": "code",
   "execution_count": 19,
   "id": "2559e59e",
   "metadata": {},
   "outputs": [],
   "source": [
    "# Abstraction- Revealing only required details\n",
    "# Encapsulation- Wrapping up data and functionalities into single-unit:class"
   ]
  },
  {
   "cell_type": "code",
   "execution_count": 20,
   "id": "6737432f",
   "metadata": {},
   "outputs": [],
   "source": [
    "# constructor:\n",
    "    # names as __init__(self)\n",
    "    # used to initialise class properties\n",
    "    # It is automatically invoked when we create any object\n",
    "    # it allocates memory to objects\n",
    "    # it can be both parametrised or no-parametric\n",
    "    # constructor without parameters is called default constructor\n",
    "    \n",
    "# Destructor:\n",
    "    # named as __del__(self)\n",
    "    # used to deallocate memory from objects\n",
    "    # called automatically when object goes out of scope or is deleted\n",
    "    \n",
    "# falls under category of special functions"
   ]
  },
  {
   "cell_type": "code",
   "execution_count": 66,
   "id": "07521612",
   "metadata": {},
   "outputs": [],
   "source": [
    "class Student:\n",
    "    course='Python'\n",
    "    fees=2500.00\n",
    "    \n",
    "    def __init__(self, rollno, name):\n",
    "        self.rollno=rollno\n",
    "        self.name=name\n",
    "        return None\n",
    "    def __str__(self):\n",
    "        return f'{self.name} object representation!'\n",
    "    def view(self):\n",
    "        print('Roll No: ',self.rollno)\n",
    "        print('Name: ',self.name)\n",
    "        print('Course: ',Student.course)\n",
    "        print('Fees: ',Student.fees)\n",
    "        return None\n",
    "    def __del__(self):\n",
    "        print(self, 'Deleted')\n",
    "        return None"
   ]
  },
  {
   "cell_type": "code",
   "execution_count": 67,
   "id": "656e4351",
   "metadata": {},
   "outputs": [
    {
     "name": "stdout",
     "output_type": "stream",
     "text": [
      "This is Student class, meant to store data and perform manipulations Deleted\n"
     ]
    }
   ],
   "source": [
    "obj1=Student(101, 'Manya')"
   ]
  },
  {
   "cell_type": "code",
   "execution_count": 68,
   "id": "06fe7214",
   "metadata": {},
   "outputs": [
    {
     "name": "stdout",
     "output_type": "stream",
     "text": [
      "This is Student class, meant to store data and perform manipulations Deleted\n"
     ]
    }
   ],
   "source": [
    "obj2=Student(102, 'Ayush')"
   ]
  },
  {
   "cell_type": "code",
   "execution_count": 69,
   "id": "57c0f838",
   "metadata": {
    "collapsed": true
   },
   "outputs": [
    {
     "name": "stdout",
     "output_type": "stream",
     "text": [
      "Roll No:  101\n",
      "Name:  Manya\n",
      "Course:  Python\n",
      "Fees:  2500.0\n"
     ]
    }
   ],
   "source": [
    "obj1.view()"
   ]
  },
  {
   "cell_type": "code",
   "execution_count": 70,
   "id": "6481c7cd",
   "metadata": {
    "collapsed": true
   },
   "outputs": [
    {
     "name": "stdout",
     "output_type": "stream",
     "text": [
      "Roll No:  102\n",
      "Name:  Ayush\n",
      "Course:  Python\n",
      "Fees:  2500.0\n"
     ]
    }
   ],
   "source": [
    "obj2.view()"
   ]
  },
  {
   "cell_type": "code",
   "execution_count": 71,
   "id": "90b45189",
   "metadata": {},
   "outputs": [
    {
     "data": {
      "text/plain": [
       "'Manya object representation!'"
      ]
     },
     "execution_count": 71,
     "metadata": {},
     "output_type": "execute_result"
    }
   ],
   "source": [
    "str(obj1)"
   ]
  },
  {
   "cell_type": "code",
   "execution_count": 72,
   "id": "afa8489c",
   "metadata": {},
   "outputs": [
    {
     "data": {
      "text/plain": [
       "'Ayush object representation!'"
      ]
     },
     "execution_count": 72,
     "metadata": {},
     "output_type": "execute_result"
    }
   ],
   "source": [
    "str(obj2)"
   ]
  },
  {
   "cell_type": "code",
   "execution_count": null,
   "id": "041c348a",
   "metadata": {},
   "outputs": [],
   "source": [
    "# write a class implementation for a CAR\n",
    "\n",
    "class Car:\n",
    "    # properties\n",
    "    current=0\n",
    "    lmotor=0\n",
    "    rmotor=0\n",
    "    # actions/behavior\n",
    "    def __init__(self, current, lmotor, rmotor):\n",
    "        self.current=current\n",
    "        self.lmotor=lmotor\n",
    "        self.rmotor=rmotor\n",
    "    def forward(self, speed):\n",
    "        self.lmotor=speed\n",
    "        self.rmotor=speed\n",
    "    def backward(self, speed):\n",
    "        self.lmotor=-speed\n",
    "        self.rmotor=-speed\n",
    "    def left(self):\n",
    "        self.lmotor=self.lmotor-20\n",
    "        self.rmotor=self.rmotor+20\n",
    "    def right(self):\n",
    "        self.lmotor=self.lmotor+20\n",
    "        self.rmotor=self.rmotor-20\n",
    "    def brakes(self):\n",
    "        while not self.lmotor<=0:\n",
    "            self.lmotor=self.lmotor-10\n",
    "            self.rmotor=self.rmotor-10\n",
    "    def accelerate(self, speed):\n",
    "        while self.rmotor<speed:\n",
    "            self.lmotor=self.lmotor+10\n",
    "            self.rmotor=self.rmotor+10\n",
    "    def start(self):\n",
    "        self.current=15\n",
    "        self.lmotor=5\n",
    "        self.rmotor=5\n",
    "    def stop(self):\n",
    "        self.lmotor=0\n",
    "        self.rmotor=0\n",
    "        self.current=0\n",
    "    def __del__(self):\n",
    "        del self.current\n",
    "        del self.lmotor\n",
    "        del self.rmotor"
   ]
  },
  {
   "cell_type": "code",
   "execution_count": 73,
   "id": "5fb5c168",
   "metadata": {},
   "outputs": [],
   "source": [
    "# INHERITANCE\n",
    "# ransfer of characteristics from parent class to child class\n",
    "\n",
    "# parent class (Base Class) - child class (Derived Class) relation"
   ]
  },
  {
   "cell_type": "code",
   "execution_count": null,
   "id": "7a5f48a5",
   "metadata": {},
   "outputs": [],
   "source": [
    "class Parent:\n",
    "    a=10\n",
    "    b=20\n",
    "    def view_ab(self):\n",
    "        pass\n",
    "    \n",
    "class Child(Parent): # inherits a, b and view_ab() from Parent\n",
    "    c=30\n",
    "    def view_c(self):\n",
    "        pass"
   ]
  },
  {
   "cell_type": "code",
   "execution_count": 74,
   "id": "48eed769",
   "metadata": {},
   "outputs": [],
   "source": [
    "class Car:\n",
    "    wheels=4\n",
    "    doors=5\n",
    "    def start(self):\n",
    "        print('Start Car')\n",
    "    def stop(self):\n",
    "        print('Stop Car')\n",
    "\n",
    "class BMW(Car):\n",
    "    engine=4000\n",
    "    price=8500000\n",
    "    def show(self):\n",
    "        print('Engine CC: ', self.engine)\n",
    "        print('Price: ', self.price)"
   ]
  },
  {
   "cell_type": "code",
   "execution_count": 75,
   "id": "9df147c7",
   "metadata": {},
   "outputs": [
    {
     "name": "stdout",
     "output_type": "stream",
     "text": [
      "4\n",
      "5\n",
      "Start Car\n",
      "Stop Car\n"
     ]
    }
   ],
   "source": [
    "car=Car()\n",
    "print(car.wheels)\n",
    "print(car.doors)\n",
    "car.start()\n",
    "car.stop()"
   ]
  },
  {
   "cell_type": "code",
   "execution_count": 76,
   "id": "ab748791",
   "metadata": {},
   "outputs": [
    {
     "name": "stdout",
     "output_type": "stream",
     "text": [
      "4\n",
      "5\n",
      "4000\n",
      "8500000\n",
      "Start Car\n",
      "Stop Car\n",
      "Engine CC:  4000\n",
      "Price:  8500000\n"
     ]
    }
   ],
   "source": [
    "bmw=BMW()\n",
    "print(bmw.wheels)\n",
    "print(bmw.doors)\n",
    "print(bmw.engine)\n",
    "print(bmw.price)\n",
    "bmw.start()\n",
    "bmw.stop()\n",
    "bmw.show()"
   ]
  },
  {
   "cell_type": "code",
   "execution_count": 77,
   "id": "d68f8a3f",
   "metadata": {},
   "outputs": [],
   "source": [
    "# Types:\n",
    "    # Single\n",
    "    # Multilevel\n",
    "    # Hierarchical\n",
    "    # Multiple\n",
    "    # Hybrid"
   ]
  },
  {
   "cell_type": "code",
   "execution_count": 78,
   "id": "23614e42",
   "metadata": {},
   "outputs": [],
   "source": [
    "# Single Inheritance\n",
    "class A:\n",
    "    pass\n",
    "class B(A):\n",
    "    pass"
   ]
  },
  {
   "cell_type": "code",
   "execution_count": 96,
   "id": "c409d0f0",
   "metadata": {},
   "outputs": [],
   "source": [
    "class Student:\n",
    "    def __init__(self, roll, name, mob, city):\n",
    "        self.roll=roll\n",
    "        self.name=name\n",
    "        self.mob=mob\n",
    "        self.city=city\n",
    "        return None\n",
    "    def view(self):\n",
    "        print(f'Roll: {self.roll}\\nName: {self.name}')\n",
    "        print(f'Mobile: {self.mob}\\nCity: {self.city}')\n",
    "        return None\n",
    "class Student_BTECH(Student):\n",
    "    course='B.Tech'\n",
    "    def __init__(self, roll, name, mob, city, branch, year, sem):\n",
    "        Student.__init__(self, roll, name, mob, city)\n",
    "        self.branch=branch\n",
    "        self.year, self.sem= year, sem\n",
    "        return None\n",
    "    def view_btech(self):\n",
    "        self.view()\n",
    "        print(f'Course: {self.course}')\n",
    "        print(f'Branch: {self.branch}')\n",
    "        print(f'Year: {self.year}\\nSemester: {self.sem}')\n",
    "        return None"
   ]
  },
  {
   "cell_type": "code",
   "execution_count": 97,
   "id": "5b5205de",
   "metadata": {},
   "outputs": [],
   "source": [
    "s1=Student(101, 'Prateek',9808766699, 'Delhi')"
   ]
  },
  {
   "cell_type": "code",
   "execution_count": 98,
   "id": "91e7aa50",
   "metadata": {},
   "outputs": [
    {
     "name": "stdout",
     "output_type": "stream",
     "text": [
      "Roll: 101\n",
      "Name: Prateek\n",
      "Mobile: 9808766699\n",
      "City: Delhi\n"
     ]
    }
   ],
   "source": [
    "s1.view()"
   ]
  },
  {
   "cell_type": "code",
   "execution_count": 99,
   "id": "8faf9f52",
   "metadata": {},
   "outputs": [],
   "source": [
    "sb1=Student_BTECH(103, 'Prateek',9808766699, 'Delhi','CSE',3, 6)"
   ]
  },
  {
   "cell_type": "code",
   "execution_count": 100,
   "id": "c162f174",
   "metadata": {},
   "outputs": [
    {
     "name": "stdout",
     "output_type": "stream",
     "text": [
      "Roll: 103\n",
      "Name: Prateek\n",
      "Mobile: 9808766699\n",
      "City: Delhi\n",
      "Course: B.Tech\n",
      "Branch: CSE\n",
      "Year: 3\n",
      "Semester: 6\n"
     ]
    }
   ],
   "source": [
    "sb1.view_btech()"
   ]
  },
  {
   "cell_type": "code",
   "execution_count": 107,
   "id": "2be06020",
   "metadata": {},
   "outputs": [],
   "source": [
    "# Hierarchical Inheritance\n",
    "class A:\n",
    "    pass\n",
    "class B(A):\n",
    "    pass\n",
    "class C(A):\n",
    "    pass"
   ]
  },
  {
   "cell_type": "code",
   "execution_count": 102,
   "id": "7885ca86",
   "metadata": {},
   "outputs": [],
   "source": [
    "# Hierarchical Inheritance\n",
    "class Student:\n",
    "    def __init__(self, roll, name, mob, city):\n",
    "        self.roll=roll\n",
    "        self.name=name\n",
    "        self.mob=mob\n",
    "        self.city=city\n",
    "        return None\n",
    "    def view(self):\n",
    "        print(f'Roll: {self.roll}\\nName: {self.name}')\n",
    "        print(f'Mobile: {self.mob}\\nCity: {self.city}')\n",
    "        return None\n",
    "class Student_BTECH(Student):\n",
    "    course='B.Tech'\n",
    "    def __init__(self, roll, name, mob, city, branch, year, sem):\n",
    "        Student.__init__(self, roll, name, mob, city)\n",
    "        self.branch=branch\n",
    "        self.year, self.sem= year, sem\n",
    "        return None\n",
    "    def view_btech(self):\n",
    "        self.view()\n",
    "        print(f'Course: {self.course}')\n",
    "        print(f'Branch: {self.branch}')\n",
    "        print(f'Year: {self.year}\\nSemester: {self.sem}')\n",
    "        return None\n",
    "class Student_MBA(Student):\n",
    "    course='MBA'\n",
    "    def __init__(self, roll, name, mob, city, major, minor, trim):\n",
    "        Student.__init__(self, roll, name, mob, city)\n",
    "        self.major=major\n",
    "        self.minor, self.trim= minor, trim\n",
    "        return None\n",
    "    def view_mba(self):\n",
    "        self.view()\n",
    "        print(f'Course: {self.course}')\n",
    "        print(f'Major Spcl: {self.major}')\n",
    "        print(f'Minor Spcl: {self.minor}\\nTrimester: {self.trim}')"
   ]
  },
  {
   "cell_type": "code",
   "execution_count": 103,
   "id": "608176a4",
   "metadata": {},
   "outputs": [
    {
     "name": "stdout",
     "output_type": "stream",
     "text": [
      "Roll: 1001\n",
      "Name: Prateek\n",
      "Mobile: 88690\n",
      "City: Delhi\n",
      "Course: B.Tech\n",
      "Branch: CSE\n",
      "Year: 3\n",
      "Semester: 6\n"
     ]
    }
   ],
   "source": [
    "sb=Student_BTECH(1001, 'Prateek',88690, 'Delhi', 'CSE',3,6)\n",
    "sb.view_btech()"
   ]
  },
  {
   "cell_type": "code",
   "execution_count": 105,
   "id": "fcfc19d4",
   "metadata": {},
   "outputs": [
    {
     "name": "stdout",
     "output_type": "stream",
     "text": [
      "Roll: 3001\n",
      "Name: Anjali\n",
      "Mobile: 4565667\n",
      "City: Cochin\n",
      "Course: MBA\n",
      "Major Spcl: HR\n",
      "Minor Spcl: Mkt\n",
      "Trimester: 4\n"
     ]
    }
   ],
   "source": [
    "sm=Student_MBA(3001, 'Anjali',4565667, 'Cochin', 'HR','Mkt',4)\n",
    "sm.view_mba()"
   ]
  },
  {
   "cell_type": "code",
   "execution_count": 106,
   "id": "0f201a56",
   "metadata": {},
   "outputs": [],
   "source": [
    "# Multi-Level Inheritance\n",
    "class A:\n",
    "    pass\n",
    "class B(A):\n",
    "    pass\n",
    "class C(B):\n",
    "    pass"
   ]
  },
  {
   "cell_type": "code",
   "execution_count": 108,
   "id": "2d402435",
   "metadata": {},
   "outputs": [],
   "source": [
    "class Aquatic_Animal:\n",
    "    def prop(self):\n",
    "        print('Lives in Water(Sea/River)')\n",
    "class Fish(Aquatic_Animal):\n",
    "    def prop_fish(self):\n",
    "        self.prop()\n",
    "        print('Has Fins and Gills')\n",
    "class Prawns(Fish):\n",
    "    def prop_prawns(self):\n",
    "        #self.prop()\n",
    "        self.prop_fish()\n",
    "        print('Is non-vertebrate')"
   ]
  },
  {
   "cell_type": "code",
   "execution_count": 110,
   "id": "6f3b00ff",
   "metadata": {},
   "outputs": [
    {
     "name": "stdout",
     "output_type": "stream",
     "text": [
      "Lives in Water(Sea/River)\n",
      "Has Fins and Gills\n",
      "Is non-vertebrate\n"
     ]
    }
   ],
   "source": [
    "prawn=Prawns()\n",
    "prawn.prop_prawns()"
   ]
  },
  {
   "cell_type": "code",
   "execution_count": 111,
   "id": "9fcf72dd",
   "metadata": {},
   "outputs": [
    {
     "name": "stdout",
     "output_type": "stream",
     "text": [
      "Lives in Water(Sea/River)\n"
     ]
    }
   ],
   "source": [
    "a=Aquatic_Animal()\n",
    "a.prop()"
   ]
  },
  {
   "cell_type": "code",
   "execution_count": 112,
   "id": "bd011ff2",
   "metadata": {},
   "outputs": [
    {
     "name": "stdout",
     "output_type": "stream",
     "text": [
      "Lives in Water(Sea/River)\n"
     ]
    }
   ],
   "source": [
    "b=Fish()\n",
    "b.prop()"
   ]
  },
  {
   "cell_type": "code",
   "execution_count": 113,
   "id": "971cc5b0",
   "metadata": {},
   "outputs": [
    {
     "name": "stdout",
     "output_type": "stream",
     "text": [
      "Lives in Water(Sea/River)\n",
      "Has Fins and Gills\n"
     ]
    }
   ],
   "source": [
    "b.prop_fish()"
   ]
  },
  {
   "cell_type": "code",
   "execution_count": 114,
   "id": "ad6f502f",
   "metadata": {},
   "outputs": [
    {
     "name": "stdout",
     "output_type": "stream",
     "text": [
      "Lives in Water(Sea/River)\n"
     ]
    }
   ],
   "source": [
    "c=Prawns()\n",
    "c.prop()"
   ]
  },
  {
   "cell_type": "code",
   "execution_count": 115,
   "id": "95cd2c8b",
   "metadata": {},
   "outputs": [
    {
     "name": "stdout",
     "output_type": "stream",
     "text": [
      "Lives in Water(Sea/River)\n",
      "Has Fins and Gills\n"
     ]
    }
   ],
   "source": [
    "c.prop_fish()"
   ]
  },
  {
   "cell_type": "code",
   "execution_count": 116,
   "id": "e7486658",
   "metadata": {},
   "outputs": [
    {
     "name": "stdout",
     "output_type": "stream",
     "text": [
      "Lives in Water(Sea/River)\n",
      "Has Fins and Gills\n",
      "Is non-vertebrate\n"
     ]
    }
   ],
   "source": [
    "c.prop_prawns()"
   ]
  },
  {
   "cell_type": "code",
   "execution_count": 117,
   "id": "d3e6050d",
   "metadata": {},
   "outputs": [],
   "source": [
    "# Multiple Inheritance\n",
    "class A:\n",
    "    pass\n",
    "class B:\n",
    "    pass\n",
    "class C(A,B):\n",
    "    pass"
   ]
  },
  {
   "cell_type": "code",
   "execution_count": 118,
   "id": "eae286d3",
   "metadata": {},
   "outputs": [],
   "source": [
    "class Mfg_cost:\n",
    "    def __init__(self, mfg):\n",
    "        self.mfg=mfg\n",
    "class Tax:\n",
    "    def __init__(self, gst):\n",
    "        self.gst=gst\n",
    "class Bill(Mfg_cost, Tax):\n",
    "    def __init__(self, mfg, gst):\n",
    "        Mfg_cost.__init__(self, mfg)\n",
    "        Tax.__init__(self, gst)\n",
    "    def get_bill(self):\n",
    "        print(f'Total Cost: {self.mfg + self.gst}')"
   ]
  },
  {
   "cell_type": "code",
   "execution_count": 120,
   "id": "46dc322c",
   "metadata": {},
   "outputs": [
    {
     "name": "stdout",
     "output_type": "stream",
     "text": [
      "Total Cost: 2215\n"
     ]
    }
   ],
   "source": [
    "b=Bill(2000, 215)\n",
    "b.get_bill()"
   ]
  },
  {
   "cell_type": "code",
   "execution_count": 121,
   "id": "23d48a0c",
   "metadata": {},
   "outputs": [],
   "source": [
    "# Hybrid Inheritance\n",
    "class A:\n",
    "    pass\n",
    "class B(A):\n",
    "    pass\n",
    "class C(A):\n",
    "    pass\n",
    "\n",
    "class D(B, C):\n",
    "    pass"
   ]
  },
  {
   "cell_type": "code",
   "execution_count": 125,
   "id": "678e3a4b",
   "metadata": {},
   "outputs": [],
   "source": [
    "class Car:\n",
    "    wheels=4\n",
    "    doors=5\n",
    "    def show(self):\n",
    "        print('Wheels:', self.wheels)\n",
    "        print('Doors:', self.doors)\n",
    "class PetrolCar(Car):\n",
    "    fuel='Petrol'\n",
    "    def show_fuel(self):\n",
    "        print('Fuel Type: ',self.fuel)\n",
    "        print('Runs on IC Engine')\n",
    "class ElectricCar(Car):\n",
    "    fuel_elec='Electric'\n",
    "    def show_fuel_elec(self):\n",
    "        print('Fuel Type: ', self.fuel_elec)\n",
    "        print('Runs on Electric Motor')\n",
    "class HybridCar(PetrolCar, ElectricCar):\n",
    "    def show_details(self):\n",
    "        self.show()\n",
    "        self.show_fuel()\n",
    "        self.show_fuel_elec()"
   ]
  },
  {
   "cell_type": "code",
   "execution_count": 126,
   "id": "8abf335f",
   "metadata": {},
   "outputs": [
    {
     "name": "stdout",
     "output_type": "stream",
     "text": [
      "Wheels: 4\n",
      "Doors: 5\n",
      "Fuel Type:  Petrol\n",
      "Runs on IC Engine\n",
      "Fuel Type:  Electric\n",
      "Runs on Electric Motor\n"
     ]
    }
   ],
   "source": [
    "hc=HybridCar()\n",
    "hc.show_details()"
   ]
  },
  {
   "cell_type": "code",
   "execution_count": 135,
   "id": "b486e689",
   "metadata": {},
   "outputs": [
    {
     "name": "stdout",
     "output_type": "stream",
     "text": [
      "Name: Prateek\n",
      "Roll No: 1001\n",
      "Year: 2\n",
      "Sem: 3\n",
      "College: Imperial College\n",
      "Course: MBA\n",
      "City: Delhi\n",
      "Mobile: 8869088887\n"
     ]
    }
   ],
   "source": [
    "# write a code using classe(s) to create student data management module:\n",
    "# enroll new student\n",
    "# update student details like semester, year, mobile\n",
    "# show student data\n",
    "\n",
    "class Student:\n",
    "    roll=1000\n",
    "    def __init__(self, college='Imperial College', course='MBA'):\n",
    "        self.college=college\n",
    "        self.course=course\n",
    "        self.year=1\n",
    "        self.sem=1\n",
    "        return None\n",
    "    def enroll(self, name, mobile, city):\n",
    "        Student.roll+=1\n",
    "        self.roll=Student.roll\n",
    "        self.name=name\n",
    "        self.mobile=mobile\n",
    "        self.city=city\n",
    "        return None\n",
    "    def view(self):\n",
    "        print(f'Name: {self.name}')\n",
    "        print(f'Roll No: {self.roll}')\n",
    "        print(f'Year: {self.year}')\n",
    "        print(f'Sem: {self.sem}')\n",
    "        print(f'College: {self.college}')\n",
    "        print(f'Course: {self.course}')\n",
    "        print(f'City: {self.city}')\n",
    "        print(f'Mobile: {self.mobile}')\n",
    "        return None\n",
    "    def update_mobile(self, mobile):\n",
    "        self.mobile=mobile\n",
    "        return True\n",
    "    def update_year_sem(self, year, sem):\n",
    "        self.year=year\n",
    "        self.sem=sem\n",
    "        return True\n",
    "\n",
    "obj1=Student()\n",
    "obj1.enroll('Prateek',9808766699, 'Delhi')\n",
    "obj1.update_mobile(8869088887)\n",
    "obj1.update_year_sem(2,3)\n",
    "obj1.view()"
   ]
  },
  {
   "cell_type": "code",
   "execution_count": 136,
   "id": "c2dc7157",
   "metadata": {},
   "outputs": [
    {
     "name": "stdout",
     "output_type": "stream",
     "text": [
      "Name: Shubham\n",
      "Roll No: 1002\n",
      "Year: 1\n",
      "Sem: 1\n",
      "College: St. Stephen's\n",
      "Course: M.Tech\n",
      "City: Mumbai\n",
      "Mobile: 123909090\n"
     ]
    }
   ],
   "source": [
    "obj1=Student('St. Stephen\\'s', 'M.Tech')\n",
    "obj1.enroll('Shubham',123909090, 'Mumbai')\n",
    "obj1.view()"
   ]
  },
  {
   "cell_type": "code",
   "execution_count": 137,
   "id": "5233ddaf",
   "metadata": {},
   "outputs": [],
   "source": [
    "# write code that has following:\n",
    "# class Employee that takes basic details of employee\n",
    "# class Manager that assigns designation, role and salary to manager\n",
    "# class Labour that assigns dept, task and wages to labour\n",
    "# create objects for both type- Manager and Labour (both inherit Employee)\n",
    "# display their indivisual details\n"
   ]
  },
  {
   "cell_type": "code",
   "execution_count": 143,
   "id": "9532ef92",
   "metadata": {},
   "outputs": [],
   "source": [
    "class Employee:\n",
    "    def __init__(self):\n",
    "        self.name=input('Enter Name: ')\n",
    "        self.dept=input('Enter Department: ')\n",
    "        self.email=self.name.split()[0]+'@company.com'\n",
    "    def view(self):\n",
    "        print(self.name)\n",
    "        print(self.dept)\n",
    "        print(self.email)\n",
    "class Manager(Employee):\n",
    "    def __init__(self):\n",
    "        Employee.__init__(self)\n",
    "        self.role='Manager'\n",
    "        self.salary=200000\n",
    "    def view_manager(self):\n",
    "        self.view()\n",
    "        print(self.role)\n",
    "        print(self.salary)\n",
    "class Labour(Employee):\n",
    "    def __init__(self):\n",
    "        Employee.__init__(self)\n",
    "        self.role='Worker'\n",
    "        self.salary=15000\n",
    "    def view_labour(self):\n",
    "        self.view()\n",
    "        print(self.role)\n",
    "        print(self.salary)"
   ]
  },
  {
   "cell_type": "code",
   "execution_count": 144,
   "id": "e4610f4f",
   "metadata": {},
   "outputs": [
    {
     "name": "stdout",
     "output_type": "stream",
     "text": [
      "Enter Name: Prateek\n",
      "Enter Department: IT\n"
     ]
    }
   ],
   "source": [
    "obj1=Manager()"
   ]
  },
  {
   "cell_type": "code",
   "execution_count": 145,
   "id": "1cd6890a",
   "metadata": {},
   "outputs": [
    {
     "name": "stdout",
     "output_type": "stream",
     "text": [
      "Enter Name: Raju\n",
      "Enter Department: Hospitality\n"
     ]
    }
   ],
   "source": [
    "obj2=Labour()"
   ]
  },
  {
   "cell_type": "code",
   "execution_count": 146,
   "id": "a375a7af",
   "metadata": {},
   "outputs": [
    {
     "name": "stdout",
     "output_type": "stream",
     "text": [
      "Prateek\n",
      "IT\n",
      "Prateek@company.com\n",
      "Manager\n",
      "200000\n"
     ]
    }
   ],
   "source": [
    "obj1.view_manager()"
   ]
  },
  {
   "cell_type": "code",
   "execution_count": 147,
   "id": "696c191c",
   "metadata": {},
   "outputs": [
    {
     "name": "stdout",
     "output_type": "stream",
     "text": [
      "Raju\n",
      "Hospitality\n",
      "Raju@company.com\n",
      "Worker\n",
      "15000\n"
     ]
    }
   ],
   "source": [
    "obj2.view_labour()"
   ]
  },
  {
   "cell_type": "code",
   "execution_count": 151,
   "id": "bfd75cec",
   "metadata": {},
   "outputs": [],
   "source": [
    "# Polymorphism - many forms\n",
    "class A:\n",
    "    def show(self):\n",
    "        print('This is class A')\n",
    "        return None\n",
    "\n",
    "class B(A):\n",
    "    def show(self):    # overriding\n",
    "        print('This is class B')\n",
    "        return None"
   ]
  },
  {
   "cell_type": "code",
   "execution_count": 152,
   "id": "c3e2f562",
   "metadata": {},
   "outputs": [
    {
     "name": "stdout",
     "output_type": "stream",
     "text": [
      "This is class A\n"
     ]
    }
   ],
   "source": [
    "a=A()\n",
    "a.show()"
   ]
  },
  {
   "cell_type": "code",
   "execution_count": 153,
   "id": "d2271ffe",
   "metadata": {},
   "outputs": [
    {
     "name": "stdout",
     "output_type": "stream",
     "text": [
      "This is class B\n"
     ]
    }
   ],
   "source": [
    "b=B()\n",
    "b.show()"
   ]
  },
  {
   "cell_type": "code",
   "execution_count": 160,
   "id": "519a1383",
   "metadata": {},
   "outputs": [],
   "source": [
    "class Car:\n",
    "    def details(self):\n",
    "        print('It has 4 wheels')\n",
    "        print('It has 5 doors')\n",
    "        print('It has an IC engine')\n",
    "        return None\n",
    "class ElectricCar(Car):\n",
    "    def details(self):\n",
    "        print('It has 2, 3 or 5 doors')\n",
    "        print('It has 4 wheels')\n",
    "        print('I runs on DC motor')\n",
    "        return None"
   ]
  },
  {
   "cell_type": "code",
   "execution_count": 161,
   "id": "8b6219d8",
   "metadata": {},
   "outputs": [
    {
     "name": "stdout",
     "output_type": "stream",
     "text": [
      "It has 4 wheels\n",
      "It has 5 doors\n",
      "It has an IC engine\n"
     ]
    }
   ],
   "source": [
    "car=Car()\n",
    "car.details()"
   ]
  },
  {
   "cell_type": "code",
   "execution_count": 162,
   "id": "8c8123f8",
   "metadata": {},
   "outputs": [
    {
     "name": "stdout",
     "output_type": "stream",
     "text": [
      "It has 2, 3 or 5 doors\n",
      "It has 4 wheels\n",
      "I runs on DC motor\n"
     ]
    }
   ],
   "source": [
    "elec_car=ElectricCar()\n",
    "elec_car.details()"
   ]
  },
  {
   "cell_type": "code",
   "execution_count": 169,
   "id": "2ef82abc",
   "metadata": {},
   "outputs": [],
   "source": [
    "# create classes Employee, Manager, ExecManager\n",
    "# update salary of Manager and ExecManager separately using function\n",
    "# update_sal(self, salary) definition as per designation (overriding)\n",
    "\n",
    "class Employee:\n",
    "    def update_sal(self, salary):\n",
    "        self.salary=salary\n",
    "    def display_sal(self):\n",
    "        print(f'Salary: {self.salary}')\n",
    "class Manager(Employee):\n",
    "    def update_sal(self, salary):\n",
    "        self.salary=salary\n",
    "        self.display_sal()\n",
    "class ExecManager(Employee):\n",
    "    def update_sal(self, salary):\n",
    "        self.salary=salary\n",
    "        self.display_sal()"
   ]
  },
  {
   "cell_type": "code",
   "execution_count": 170,
   "id": "214a794f",
   "metadata": {},
   "outputs": [
    {
     "name": "stdout",
     "output_type": "stream",
     "text": [
      "Salary: 25000\n"
     ]
    }
   ],
   "source": [
    "manager=Manager()\n",
    "manager.update_sal(25000)"
   ]
  },
  {
   "cell_type": "code",
   "execution_count": 171,
   "id": "9be51b4c",
   "metadata": {},
   "outputs": [
    {
     "name": "stdout",
     "output_type": "stream",
     "text": [
      "Salary: 40000\n"
     ]
    }
   ],
   "source": [
    "execm=ExecManager()\n",
    "execm.update_sal(40000)"
   ]
  },
  {
   "cell_type": "markdown",
   "id": "fdc269d6",
   "metadata": {},
   "source": [
    "#### Acess Specifiers - Public, Private & Protected Modes"
   ]
  },
  {
   "cell_type": "code",
   "execution_count": 174,
   "id": "590c1901",
   "metadata": {},
   "outputs": [],
   "source": [
    "# public mode\n",
    "# it can be inherited to child/derived class\n",
    "# they can be accessed outside the class with objects of class A or B\n",
    "\n",
    "class A:\n",
    "    x=10 # public var\n",
    "    def show_x(self): # public func\n",
    "        print(self.x)\n",
    "\n",
    "class B(A):\n",
    "    y=20\n",
    "    def show_y(self):\n",
    "        print(self.y)"
   ]
  },
  {
   "cell_type": "code",
   "execution_count": 175,
   "id": "114224cb",
   "metadata": {},
   "outputs": [
    {
     "data": {
      "text/plain": [
       "10"
      ]
     },
     "execution_count": 175,
     "metadata": {},
     "output_type": "execute_result"
    }
   ],
   "source": [
    "objA=A()\n",
    "objA.x #accessible outisde class"
   ]
  },
  {
   "cell_type": "code",
   "execution_count": 176,
   "id": "1ff9f749",
   "metadata": {},
   "outputs": [
    {
     "name": "stdout",
     "output_type": "stream",
     "text": [
      "10\n"
     ]
    }
   ],
   "source": [
    "objA.show_x() #accessible outisde class"
   ]
  },
  {
   "cell_type": "code",
   "execution_count": 177,
   "id": "95cd419c",
   "metadata": {},
   "outputs": [
    {
     "data": {
      "text/plain": [
       "20"
      ]
     },
     "execution_count": 177,
     "metadata": {},
     "output_type": "execute_result"
    }
   ],
   "source": [
    "objB=B()\n",
    "objB.y"
   ]
  },
  {
   "cell_type": "code",
   "execution_count": 178,
   "id": "c86acb1a",
   "metadata": {},
   "outputs": [
    {
     "name": "stdout",
     "output_type": "stream",
     "text": [
      "20\n"
     ]
    }
   ],
   "source": [
    "objB.show_y()"
   ]
  },
  {
   "cell_type": "code",
   "execution_count": 179,
   "id": "51d02225",
   "metadata": {},
   "outputs": [
    {
     "data": {
      "text/plain": [
       "10"
      ]
     },
     "execution_count": 179,
     "metadata": {},
     "output_type": "execute_result"
    }
   ],
   "source": [
    "objB.x # inherited and accessible"
   ]
  },
  {
   "cell_type": "code",
   "execution_count": 181,
   "id": "492b90fe",
   "metadata": {},
   "outputs": [
    {
     "name": "stdout",
     "output_type": "stream",
     "text": [
      "10\n"
     ]
    }
   ],
   "source": [
    "objB.show_x() # inherited and accessible"
   ]
  },
  {
   "cell_type": "code",
   "execution_count": 188,
   "id": "c7e77038",
   "metadata": {},
   "outputs": [],
   "source": [
    "# Protected\n",
    "# prevents inheritance\n",
    "# add _ symbol \n",
    "\n",
    "class A:\n",
    "    _x=10 # protected\n",
    "    def show_x(self):\n",
    "        print(self._x)\n",
    "        \n",
    "class B(A):\n",
    "    y=20\n",
    "    def show_y(self):\n",
    "        print(self.y)\n",
    "\n",
    "class C(B):\n",
    "    z=30\n",
    "    def show_z(self):\n",
    "        print(self.z)"
   ]
  },
  {
   "cell_type": "code",
   "execution_count": 189,
   "id": "64e12b67",
   "metadata": {},
   "outputs": [
    {
     "data": {
      "text/plain": [
       "10"
      ]
     },
     "execution_count": 189,
     "metadata": {},
     "output_type": "execute_result"
    }
   ],
   "source": [
    "objA=A()\n",
    "objA._x"
   ]
  },
  {
   "cell_type": "code",
   "execution_count": 190,
   "id": "d9eee68b",
   "metadata": {},
   "outputs": [
    {
     "data": {
      "text/plain": [
       "20"
      ]
     },
     "execution_count": 190,
     "metadata": {},
     "output_type": "execute_result"
    }
   ],
   "source": [
    "objB=B()\n",
    "objB.y"
   ]
  },
  {
   "cell_type": "code",
   "execution_count": 191,
   "id": "df4ba96c",
   "metadata": {},
   "outputs": [
    {
     "data": {
      "text/plain": [
       "10"
      ]
     },
     "execution_count": 191,
     "metadata": {},
     "output_type": "execute_result"
    }
   ],
   "source": [
    "objB._x"
   ]
  },
  {
   "cell_type": "code",
   "execution_count": 192,
   "id": "308b628e",
   "metadata": {},
   "outputs": [
    {
     "data": {
      "text/plain": [
       "30"
      ]
     },
     "execution_count": 192,
     "metadata": {},
     "output_type": "execute_result"
    }
   ],
   "source": [
    "objC=C()\n",
    "objC.z"
   ]
  },
  {
   "cell_type": "code",
   "execution_count": 193,
   "id": "61172a8e",
   "metadata": {},
   "outputs": [
    {
     "data": {
      "text/plain": [
       "20"
      ]
     },
     "execution_count": 193,
     "metadata": {},
     "output_type": "execute_result"
    }
   ],
   "source": [
    "objC.y"
   ]
  },
  {
   "cell_type": "code",
   "execution_count": 194,
   "id": "3e428dc8",
   "metadata": {},
   "outputs": [
    {
     "data": {
      "text/plain": [
       "10"
      ]
     },
     "execution_count": 194,
     "metadata": {},
     "output_type": "execute_result"
    }
   ],
   "source": [
    "objC._x"
   ]
  },
  {
   "cell_type": "code",
   "execution_count": 195,
   "id": "a015751b",
   "metadata": {},
   "outputs": [],
   "source": [
    "objB._x=20"
   ]
  },
  {
   "cell_type": "code",
   "execution_count": 196,
   "id": "fc71af8a",
   "metadata": {},
   "outputs": [],
   "source": [
    "objC._x=50"
   ]
  },
  {
   "cell_type": "code",
   "execution_count": 200,
   "id": "19bc6431",
   "metadata": {},
   "outputs": [],
   "source": [
    "# Private Mode\n",
    "# prevents inheritance and access outside class\n",
    "# marked with __ (double underscore) symbol\n",
    "\n",
    "class A:\n",
    "    __x=10           # private\n",
    "    def show_x(self):\n",
    "        print(self.__x)\n",
    "        \n",
    "class B(A):\n",
    "    y=20\n",
    "    def show_y(self):\n",
    "        # print(self.__x) # not allowed\n",
    "        print(self.y)"
   ]
  },
  {
   "cell_type": "code",
   "execution_count": 201,
   "id": "4bc6f9e6",
   "metadata": {},
   "outputs": [
    {
     "ename": "AttributeError",
     "evalue": "'A' object has no attribute '__x'",
     "output_type": "error",
     "traceback": [
      "\u001b[1;31m---------------------------------------------------------------------------\u001b[0m",
      "\u001b[1;31mAttributeError\u001b[0m                            Traceback (most recent call last)",
      "Input \u001b[1;32mIn [201]\u001b[0m, in \u001b[0;36m<cell line: 2>\u001b[1;34m()\u001b[0m\n\u001b[0;32m      1\u001b[0m objA\u001b[38;5;241m=\u001b[39mA()\n\u001b[1;32m----> 2\u001b[0m \u001b[43mobjA\u001b[49m\u001b[38;5;241;43m.\u001b[39;49m\u001b[43m__x\u001b[49m\n",
      "\u001b[1;31mAttributeError\u001b[0m: 'A' object has no attribute '__x'"
     ]
    }
   ],
   "source": [
    "objA=A()\n",
    "objA.__x"
   ]
  },
  {
   "cell_type": "code",
   "execution_count": 202,
   "id": "85975cd8",
   "metadata": {},
   "outputs": [
    {
     "ename": "AttributeError",
     "evalue": "'B' object has no attribute '_B__x'",
     "output_type": "error",
     "traceback": [
      "\u001b[1;31m---------------------------------------------------------------------------\u001b[0m",
      "\u001b[1;31mAttributeError\u001b[0m                            Traceback (most recent call last)",
      "Input \u001b[1;32mIn [202]\u001b[0m, in \u001b[0;36m<cell line: 2>\u001b[1;34m()\u001b[0m\n\u001b[0;32m      1\u001b[0m objB\u001b[38;5;241m=\u001b[39mB()\n\u001b[1;32m----> 2\u001b[0m \u001b[43mobjB\u001b[49m\u001b[38;5;241;43m.\u001b[39;49m\u001b[43mshow_y\u001b[49m\u001b[43m(\u001b[49m\u001b[43m)\u001b[49m\n",
      "Input \u001b[1;32mIn [200]\u001b[0m, in \u001b[0;36mB.show_y\u001b[1;34m(self)\u001b[0m\n\u001b[0;32m     12\u001b[0m \u001b[38;5;28;01mdef\u001b[39;00m \u001b[38;5;21mshow_y\u001b[39m(\u001b[38;5;28mself\u001b[39m):\n\u001b[1;32m---> 13\u001b[0m     \u001b[38;5;28mprint\u001b[39m(\u001b[38;5;28;43mself\u001b[39;49m\u001b[38;5;241;43m.\u001b[39;49m\u001b[43m__x\u001b[49m)\n\u001b[0;32m     14\u001b[0m     \u001b[38;5;28mprint\u001b[39m(\u001b[38;5;28mself\u001b[39m\u001b[38;5;241m.\u001b[39my)\n",
      "\u001b[1;31mAttributeError\u001b[0m: 'B' object has no attribute '_B__x'"
     ]
    }
   ],
   "source": [
    "objB=B()\n",
    "objB.show_y()"
   ]
  },
  {
   "cell_type": "code",
   "execution_count": 203,
   "id": "da45f424",
   "metadata": {},
   "outputs": [
    {
     "name": "stdout",
     "output_type": "stream",
     "text": [
      "10\n"
     ]
    }
   ],
   "source": [
    "objA.show_x()"
   ]
  },
  {
   "cell_type": "markdown",
   "id": "420c2705",
   "metadata": {},
   "source": [
    "#### Class Special Functions"
   ]
  },
  {
   "cell_type": "code",
   "execution_count": 242,
   "id": "ef7c7390",
   "metadata": {},
   "outputs": [],
   "source": [
    "class A:\n",
    "    x=10\n",
    "    def show_x(self):\n",
    "        print(self.x)\n",
    "        return None\n",
    "class B(A):\n",
    "    y=20\n",
    "    def show_y(self):\n",
    "        print(self.y)\n",
    "        return None"
   ]
  },
  {
   "cell_type": "code",
   "execution_count": 243,
   "id": "8dd8ef49",
   "metadata": {},
   "outputs": [],
   "source": [
    "a=A()\n",
    "b=B()"
   ]
  },
  {
   "cell_type": "code",
   "execution_count": 207,
   "id": "50cd9892",
   "metadata": {},
   "outputs": [
    {
     "name": "stdout",
     "output_type": "stream",
     "text": [
      "True\n"
     ]
    }
   ],
   "source": [
    "print(isinstance(a, A)) # a is object of class A"
   ]
  },
  {
   "cell_type": "code",
   "execution_count": 208,
   "id": "9331278b",
   "metadata": {},
   "outputs": [
    {
     "name": "stdout",
     "output_type": "stream",
     "text": [
      "True\n"
     ]
    }
   ],
   "source": [
    "print(isinstance(b, B))"
   ]
  },
  {
   "cell_type": "code",
   "execution_count": 209,
   "id": "e0618198",
   "metadata": {},
   "outputs": [
    {
     "name": "stdout",
     "output_type": "stream",
     "text": [
      "False\n"
     ]
    }
   ],
   "source": [
    "print(isinstance(a, B))"
   ]
  },
  {
   "cell_type": "code",
   "execution_count": 210,
   "id": "9d749463",
   "metadata": {},
   "outputs": [
    {
     "name": "stdout",
     "output_type": "stream",
     "text": [
      "True\n"
     ]
    }
   ],
   "source": [
    "print(isinstance(b, A))"
   ]
  },
  {
   "cell_type": "code",
   "execution_count": 211,
   "id": "f49a6f73",
   "metadata": {},
   "outputs": [
    {
     "name": "stdout",
     "output_type": "stream",
     "text": [
      "True\n"
     ]
    }
   ],
   "source": [
    "print(issubclass(B,A))"
   ]
  },
  {
   "cell_type": "code",
   "execution_count": 212,
   "id": "09e8aa07",
   "metadata": {},
   "outputs": [
    {
     "name": "stdout",
     "output_type": "stream",
     "text": [
      "False\n"
     ]
    }
   ],
   "source": [
    "print(issubclass(A,B))"
   ]
  },
  {
   "cell_type": "code",
   "execution_count": 213,
   "id": "efce4628",
   "metadata": {},
   "outputs": [
    {
     "data": {
      "text/plain": [
       "'<__main__.A object at 0x000001F950C724F0>'"
      ]
     },
     "execution_count": 213,
     "metadata": {},
     "output_type": "execute_result"
    }
   ],
   "source": [
    "repr(a)"
   ]
  },
  {
   "cell_type": "code",
   "execution_count": 215,
   "id": "28251698",
   "metadata": {},
   "outputs": [
    {
     "data": {
      "text/plain": [
       "{}"
      ]
     },
     "execution_count": 215,
     "metadata": {},
     "output_type": "execute_result"
    }
   ],
   "source": [
    "vars(b)"
   ]
  },
  {
   "cell_type": "code",
   "execution_count": 231,
   "id": "87fadf0a",
   "metadata": {},
   "outputs": [
    {
     "data": {
      "text/plain": [
       "True"
      ]
     },
     "execution_count": 231,
     "metadata": {},
     "output_type": "execute_result"
    }
   ],
   "source": [
    "hasattr(a, 'show_x')"
   ]
  },
  {
   "cell_type": "code",
   "execution_count": 232,
   "id": "c5191df4",
   "metadata": {},
   "outputs": [
    {
     "data": {
      "text/plain": [
       "True"
      ]
     },
     "execution_count": 232,
     "metadata": {},
     "output_type": "execute_result"
    }
   ],
   "source": [
    "hasattr(b, 'show_x') # inherited method"
   ]
  },
  {
   "cell_type": "code",
   "execution_count": 241,
   "id": "b4ca8383",
   "metadata": {},
   "outputs": [
    {
     "name": "stdout",
     "output_type": "stream",
     "text": [
      "10\n",
      "None\n"
     ]
    }
   ],
   "source": [
    "w=getattr(A, 'show_x')\n",
    "a=A()\n",
    "print(w(a))"
   ]
  },
  {
   "cell_type": "code",
   "execution_count": 255,
   "id": "3ca2bcfd",
   "metadata": {},
   "outputs": [],
   "source": [
    "A.p=classmethod(A.show_x)"
   ]
  },
  {
   "cell_type": "code",
   "execution_count": 256,
   "id": "7d50342d",
   "metadata": {},
   "outputs": [
    {
     "name": "stdout",
     "output_type": "stream",
     "text": [
      "10\n"
     ]
    }
   ],
   "source": [
    "A.p()"
   ]
  },
  {
   "cell_type": "markdown",
   "id": "4defc847",
   "metadata": {},
   "source": [
    "#### Class Magic Functions"
   ]
  },
  {
   "cell_type": "code",
   "execution_count": 315,
   "id": "113ddaa5",
   "metadata": {},
   "outputs": [],
   "source": [
    "class Magic:\n",
    "    def __init__(self, x):\n",
    "        self.x=x\n",
    "        return None\n",
    "    \n",
    "    def __add__(self, myobject):\n",
    "        return self.x+myobject.x\n",
    "    \n",
    "    def __sub__(self, m):\n",
    "        return self.x-m.x\n",
    "    \n",
    "    def __truediv__(self, m):\n",
    "        return self.x/m.x\n",
    "    \n",
    "    def __floordiv__(self, m):\n",
    "        return self.x//m.x\n",
    "    \n",
    "    def __mod__(self, m):\n",
    "        return self.x%m.x\n",
    "    \n",
    "    def __le__(self, m):\n",
    "        return self.x<=m.x\n",
    "    \n",
    "    def __ge__(self, m):\n",
    "        return self.x>=m.x\n",
    "    \n",
    "    def __gt__(self, m):\n",
    "        return self.x>m.x\n",
    "    \n",
    "    def __lt__(self, m):\n",
    "        return self.x<m.x\n",
    "    \n",
    "    def __eq__(self, m):\n",
    "        return self.x==m.x\n",
    "    \n",
    "    def __ne__(self, m):\n",
    "        return self.x!=m.x\n",
    "    \n",
    "    def __len__(self):\n",
    "        return 0\n",
    "    \n",
    "    def __repr__(self):\n",
    "        return 'representation in str'\n",
    "    \n",
    "    def __del__(self):\n",
    "        return None"
   ]
  },
  {
   "cell_type": "code",
   "execution_count": 316,
   "id": "5a81b55b",
   "metadata": {},
   "outputs": [],
   "source": [
    "a=Magic(10)\n",
    "b=Magic(20)"
   ]
  },
  {
   "cell_type": "code",
   "execution_count": 317,
   "id": "b6bfa704",
   "metadata": {},
   "outputs": [
    {
     "data": {
      "text/plain": [
       "'representation in str'"
      ]
     },
     "execution_count": 317,
     "metadata": {},
     "output_type": "execute_result"
    }
   ],
   "source": [
    "repr(a)"
   ]
  },
  {
   "cell_type": "code",
   "execution_count": 318,
   "id": "c3c60e8a",
   "metadata": {},
   "outputs": [],
   "source": [
    "# Create a program for given details:\n",
    "# class Task, that creates values for \n",
    "    # name of task, priority of task and assignee name\n",
    "# class TaskPriority that performs following:\n",
    "    # creates task\n",
    "    # update task priority\n",
    "        # if task to be deleted, given is priority to -1\n",
    "        # else update to given task priority\n",
    "    # display all tasks\n",
    "        # priority wise sorted tasks\n",
    "    \n",
    "# Hint: Create a menu driven program for create, \n",
    "#   update_priority \n",
    "#   and remove task. ALSO, maintain tasks objects in a \n",
    "#   list."
   ]
  },
  {
   "cell_type": "code",
   "execution_count": 322,
   "id": "0e4b608e",
   "metadata": {},
   "outputs": [],
   "source": [
    "class Task:\n",
    "    def __init__(self, name, priority, assignee):\n",
    "        self.name=name\n",
    "        self.priority=priority\n",
    "        self.assignee=assignee\n",
    "        return None\n",
    "\n",
    "class PriorityTask(Task):\n",
    "    def __init__(self, name, priority, assignee):\n",
    "        self.name=name\n",
    "        self.priority=priority\n",
    "        self.assignee=assignee\n",
    "        self.create_task()\n",
    "        return None\n",
    "    def create_task(self):\n",
    "        return Task.__init__(self, self.name, self.priority, self.assignee)\n",
    "    def update_priority(self, priority):\n",
    "        if self.priority==-1:\n",
    "            self.__del__()\n",
    "        else:\n",
    "            self.priority=priority\n",
    "        return None\n",
    "    def list_tasks(self, task_list):\n",
    "        for task in task_list:\n",
    "            print(f'{task.name} created by {task.assignee} has priority as {task.priority}')"
   ]
  },
  {
   "cell_type": "code",
   "execution_count": 323,
   "id": "8b859013",
   "metadata": {},
   "outputs": [],
   "source": [
    "task_list=[]"
   ]
  },
  {
   "cell_type": "code",
   "execution_count": 325,
   "id": "2a69cad4",
   "metadata": {},
   "outputs": [],
   "source": [
    "def get_pr(el):\n",
    "    return el.priority"
   ]
  },
  {
   "cell_type": "code",
   "execution_count": 328,
   "id": "93e4562e",
   "metadata": {},
   "outputs": [
    {
     "name": "stdout",
     "output_type": "stream",
     "text": [
      "Menu:\n",
      "1. Create Task\n",
      "2. Update Task Priority\n",
      "3. List All Task\n",
      "4. Exit\n",
      "3\n",
      "coding created by rohan has priority as 1\n",
      "requirements created by prateek has priority as 2\n",
      "Menu:\n",
      "1. Create Task\n",
      "2. Update Task Priority\n",
      "3. List All Task\n",
      "4. Exit\n",
      "1\n",
      "Enter Task Name: Feasibility\n",
      "Enter Task Priority: 5\n",
      "Enter Assignee Name: prateek\n",
      "Menu:\n",
      "1. Create Task\n",
      "2. Update Task Priority\n",
      "3. List All Task\n",
      "4. Exit\n",
      "1\n",
      "Enter Task Name: Deploy\n",
      "Enter Task Priority: 3\n",
      "Enter Assignee Name: prateek\n",
      "Menu:\n",
      "1. Create Task\n",
      "2. Update Task Priority\n",
      "3. List All Task\n",
      "4. Exit\n",
      "3\n",
      "coding created by rohan has priority as 1\n",
      "requirements created by prateek has priority as 2\n",
      "Deploy created by prateek has priority as 3\n",
      "Feasibility created by prateek has priority as 5\n",
      "Menu:\n",
      "1. Create Task\n",
      "2. Update Task Priority\n",
      "3. List All Task\n",
      "4. Exit\n",
      "2\n",
      "Enter Task Index: 2\n",
      "Enter Task Priority: -1\n",
      "Menu:\n",
      "1. Create Task\n",
      "2. Update Task Priority\n",
      "3. List All Task\n",
      "4. Exit\n",
      "3\n",
      "coding created by rohan has priority as 1\n",
      "requirements created by prateek has priority as 2\n",
      "Deploy created by prateek has priority as 3\n",
      "Menu:\n",
      "1. Create Task\n",
      "2. Update Task Priority\n",
      "3. List All Task\n",
      "4. Exit\n",
      "4\n"
     ]
    }
   ],
   "source": [
    "while True:\n",
    "    print('Menu:\\n1. Create Task\\n2. Update Task Priority')\n",
    "    print('3. List All Task\\n4. Exit')\n",
    "    choice=int(input())\n",
    "    if choice==1:\n",
    "        name=input('Enter Task Name: ')\n",
    "        priority=int(input('Enter Task Priority: '))\n",
    "        assignee=input('Enter Assignee Name: ')\n",
    "        obj=PriorityTask(name, priority, assignee)\n",
    "        task_list.append(obj)\n",
    "    elif choice==2:\n",
    "        index=int(input('Enter Task Index: '))\n",
    "        pr=int(input('Enter Task Priority: '))\n",
    "        if pr==-1:\n",
    "            del task_list[index]\n",
    "        else:\n",
    "            task_list[index].update_priority(pr)\n",
    "    elif choice==3:\n",
    "        if len(task_list)==0:\n",
    "            print('No Task to Display!!!')\n",
    "        else:\n",
    "            PriorityTask.list_tasks(task_list[0], sorted(task_list, key=get_pr))\n",
    "    else:\n",
    "        break"
   ]
  },
  {
   "cell_type": "code",
   "execution_count": null,
   "id": "18ad5971",
   "metadata": {},
   "outputs": [],
   "source": []
  },
  {
   "cell_type": "code",
   "execution_count": null,
   "id": "9cd9e751",
   "metadata": {},
   "outputs": [],
   "source": []
  },
  {
   "cell_type": "code",
   "execution_count": null,
   "id": "d51efb5d",
   "metadata": {},
   "outputs": [],
   "source": []
  },
  {
   "cell_type": "code",
   "execution_count": null,
   "id": "0f9e2aa8",
   "metadata": {},
   "outputs": [],
   "source": []
  },
  {
   "cell_type": "code",
   "execution_count": null,
   "id": "34092cf3",
   "metadata": {},
   "outputs": [],
   "source": []
  },
  {
   "cell_type": "code",
   "execution_count": null,
   "id": "e9594dbe",
   "metadata": {},
   "outputs": [],
   "source": []
  },
  {
   "cell_type": "code",
   "execution_count": null,
   "id": "321b864e",
   "metadata": {},
   "outputs": [],
   "source": []
  },
  {
   "cell_type": "code",
   "execution_count": null,
   "id": "e52111e8",
   "metadata": {},
   "outputs": [],
   "source": []
  },
  {
   "cell_type": "code",
   "execution_count": null,
   "id": "4b5ddd56",
   "metadata": {},
   "outputs": [],
   "source": []
  },
  {
   "cell_type": "code",
   "execution_count": null,
   "id": "dbd6a705",
   "metadata": {},
   "outputs": [],
   "source": []
  },
  {
   "cell_type": "code",
   "execution_count": null,
   "id": "39bd64c6",
   "metadata": {},
   "outputs": [],
   "source": []
  },
  {
   "cell_type": "code",
   "execution_count": null,
   "id": "50cc91c1",
   "metadata": {},
   "outputs": [],
   "source": []
  },
  {
   "cell_type": "code",
   "execution_count": null,
   "id": "fe5d6551",
   "metadata": {},
   "outputs": [],
   "source": []
  },
  {
   "cell_type": "code",
   "execution_count": null,
   "id": "b145d2d4",
   "metadata": {},
   "outputs": [],
   "source": []
  },
  {
   "cell_type": "code",
   "execution_count": null,
   "id": "320a76b7",
   "metadata": {},
   "outputs": [],
   "source": []
  },
  {
   "cell_type": "code",
   "execution_count": null,
   "id": "aa58fbf6",
   "metadata": {},
   "outputs": [],
   "source": []
  },
  {
   "cell_type": "code",
   "execution_count": null,
   "id": "32c91514",
   "metadata": {},
   "outputs": [],
   "source": []
  }
 ],
 "metadata": {
  "kernelspec": {
   "display_name": "Python 3 (ipykernel)",
   "language": "python",
   "name": "python3"
  },
  "language_info": {
   "codemirror_mode": {
    "name": "ipython",
    "version": 3
   },
   "file_extension": ".py",
   "mimetype": "text/x-python",
   "name": "python",
   "nbconvert_exporter": "python",
   "pygments_lexer": "ipython3",
   "version": "3.9.12"
  }
 },
 "nbformat": 4,
 "nbformat_minor": 5
}
