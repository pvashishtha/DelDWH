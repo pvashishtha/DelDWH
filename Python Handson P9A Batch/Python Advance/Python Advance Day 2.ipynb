{
 "cells": [
  {
   "cell_type": "markdown",
   "id": "ba5f3719",
   "metadata": {},
   "source": [
    "## Python Advance Day 2"
   ]
  },
  {
   "cell_type": "markdown",
   "id": "099b210b",
   "metadata": {},
   "source": [
    "#### Working with MySQL Database"
   ]
  },
  {
   "cell_type": "code",
   "execution_count": 1,
   "id": "11863e33",
   "metadata": {},
   "outputs": [
    {
     "name": "stdout",
     "output_type": "stream",
     "text": [
      "Requirement already satisfied: mysql-connector-python in c:\\users\\pvashishtha\\anaconda3\\lib\\site-packages (8.0.31)\n",
      "Requirement already satisfied: protobuf<=3.20.1,>=3.11.0 in c:\\users\\pvashishtha\\anaconda3\\lib\\site-packages (from mysql-connector-python) (3.19.1)\n"
     ]
    }
   ],
   "source": [
    "! pip install mysql-connector-python"
   ]
  },
  {
   "cell_type": "code",
   "execution_count": 2,
   "id": "012aa659",
   "metadata": {},
   "outputs": [],
   "source": [
    "# 1. Connect to database\n",
    "# 2. Create a database CURSOR\n",
    "# 3. CRUD- create, read, update, delete\n",
    "# 4. close connection"
   ]
  },
  {
   "cell_type": "code",
   "execution_count": 3,
   "id": "4d20e457",
   "metadata": {},
   "outputs": [
    {
     "name": "stdout",
     "output_type": "stream",
     "text": [
      "<mysql.connector.connection_cext.CMySQLConnection object at 0x000001D2EB349B80>\n"
     ]
    }
   ],
   "source": [
    "# connect to database\n",
    "\n",
    "import mysql.connector\n",
    "\n",
    "host='localhost'\n",
    "user='root'\n",
    "password=''\n",
    "port=3306\n",
    "database='abccorp'\n",
    "\n",
    "try:\n",
    "    conn=mysql.connector.connect(host=host,\n",
    "                                user=user,\n",
    "                                password=password,\n",
    "                                port=port,\n",
    "                                database=database)\n",
    "    print(conn)\n",
    "except:\n",
    "    print('Database Not Connected!')"
   ]
  },
  {
   "cell_type": "code",
   "execution_count": 4,
   "id": "d6e26de6",
   "metadata": {},
   "outputs": [
    {
     "name": "stdout",
     "output_type": "stream",
     "text": [
      "CMySQLCursor: (Nothing executed yet)\n"
     ]
    }
   ],
   "source": [
    "# create database CURSOR\n",
    "\n",
    "try:\n",
    "    cur=conn.cursor()\n",
    "    print(cur)\n",
    "except:\n",
    "    print('Cursor Not Created!')"
   ]
  },
  {
   "cell_type": "code",
   "execution_count": 5,
   "id": "0a72dc8b",
   "metadata": {},
   "outputs": [],
   "source": [
    "# Insert\n",
    "\n",
    "sql='insert into employee values(101, \"Prateek\", \"Vashishtha\", \"2022-07-11\", \"Bangalore\", 25600.00)'\n",
    "\n",
    "cur.execute(sql)\n",
    "conn.commit()"
   ]
  },
  {
   "cell_type": "code",
   "execution_count": 6,
   "id": "c900ae82",
   "metadata": {},
   "outputs": [
    {
     "name": "stdout",
     "output_type": "stream",
     "text": [
      "CMySQLCursor: insert into employee values(101, \"Pratee..\n"
     ]
    }
   ],
   "source": [
    "print(cur)"
   ]
  },
  {
   "cell_type": "code",
   "execution_count": 7,
   "id": "bdb4553f",
   "metadata": {
    "collapsed": true
   },
   "outputs": [
    {
     "ename": "IntegrityError",
     "evalue": "1062 (23000): Duplicate entry '105' for key 'PRIMARY'",
     "output_type": "error",
     "traceback": [
      "\u001b[1;31m---------------------------------------------------------------------------\u001b[0m",
      "\u001b[1;31mMySQLInterfaceError\u001b[0m                       Traceback (most recent call last)",
      "File \u001b[1;32m~\\Anaconda3\\lib\\site-packages\\mysql\\connector\\connection_cext.py:565\u001b[0m, in \u001b[0;36mCMySQLConnection.cmd_query\u001b[1;34m(self, query, raw, buffered, raw_as_string)\u001b[0m\n\u001b[0;32m    564\u001b[0m         query \u001b[38;5;241m=\u001b[39m query\u001b[38;5;241m.\u001b[39mencode(\u001b[38;5;124m\"\u001b[39m\u001b[38;5;124mutf-8\u001b[39m\u001b[38;5;124m\"\u001b[39m)\n\u001b[1;32m--> 565\u001b[0m     \u001b[38;5;28;43mself\u001b[39;49m\u001b[38;5;241;43m.\u001b[39;49m\u001b[43m_cmysql\u001b[49m\u001b[38;5;241;43m.\u001b[39;49m\u001b[43mquery\u001b[49m\u001b[43m(\u001b[49m\n\u001b[0;32m    566\u001b[0m \u001b[43m        \u001b[49m\u001b[43mquery\u001b[49m\u001b[43m,\u001b[49m\n\u001b[0;32m    567\u001b[0m \u001b[43m        \u001b[49m\u001b[43mraw\u001b[49m\u001b[38;5;241;43m=\u001b[39;49m\u001b[43mraw\u001b[49m\u001b[43m,\u001b[49m\n\u001b[0;32m    568\u001b[0m \u001b[43m        \u001b[49m\u001b[43mbuffered\u001b[49m\u001b[38;5;241;43m=\u001b[39;49m\u001b[43mbuffered\u001b[49m\u001b[43m,\u001b[49m\n\u001b[0;32m    569\u001b[0m \u001b[43m        \u001b[49m\u001b[43mraw_as_string\u001b[49m\u001b[38;5;241;43m=\u001b[39;49m\u001b[43mraw_as_string\u001b[49m\u001b[43m,\u001b[49m\n\u001b[0;32m    570\u001b[0m \u001b[43m        \u001b[49m\u001b[43mquery_attrs\u001b[49m\u001b[38;5;241;43m=\u001b[39;49m\u001b[38;5;28;43mself\u001b[39;49m\u001b[38;5;241;43m.\u001b[39;49m\u001b[43m_query_attrs\u001b[49m\u001b[43m,\u001b[49m\n\u001b[0;32m    571\u001b[0m \u001b[43m    \u001b[49m\u001b[43m)\u001b[49m\n\u001b[0;32m    572\u001b[0m \u001b[38;5;28;01mexcept\u001b[39;00m MySQLInterfaceError \u001b[38;5;28;01mas\u001b[39;00m err:\n",
      "\u001b[1;31mMySQLInterfaceError\u001b[0m: Duplicate entry '105' for key 'PRIMARY'",
      "\nThe above exception was the direct cause of the following exception:\n",
      "\u001b[1;31mIntegrityError\u001b[0m                            Traceback (most recent call last)",
      "Input \u001b[1;32mIn [7]\u001b[0m, in \u001b[0;36m<cell line: 13>\u001b[1;34m()\u001b[0m\n\u001b[0;32m      3\u001b[0m sql\u001b[38;5;241m=\u001b[39m\u001b[38;5;124m'\u001b[39m\u001b[38;5;124minsert into employee values(\u001b[39m\u001b[38;5;132;01m%s\u001b[39;00m\u001b[38;5;124m,\u001b[39m\u001b[38;5;132;01m%s\u001b[39;00m\u001b[38;5;124m,\u001b[39m\u001b[38;5;132;01m%s\u001b[39;00m\u001b[38;5;124m,\u001b[39m\u001b[38;5;132;01m%s\u001b[39;00m\u001b[38;5;124m,\u001b[39m\u001b[38;5;132;01m%s\u001b[39;00m\u001b[38;5;124m,\u001b[39m\u001b[38;5;132;01m%s\u001b[39;00m\u001b[38;5;124m)\u001b[39m\u001b[38;5;124m'\u001b[39m\n\u001b[0;32m      4\u001b[0m val\u001b[38;5;241m=\u001b[39m[\n\u001b[0;32m      5\u001b[0m     (\u001b[38;5;241m102\u001b[39m, \u001b[38;5;124m\"\u001b[39m\u001b[38;5;124mAnjali\u001b[39m\u001b[38;5;124m\"\u001b[39m, \u001b[38;5;124m\"\u001b[39m\u001b[38;5;124mJoy\u001b[39m\u001b[38;5;124m\"\u001b[39m, \u001b[38;5;124m\"\u001b[39m\u001b[38;5;124m2023-01-16\u001b[39m\u001b[38;5;124m\"\u001b[39m, \u001b[38;5;124m\"\u001b[39m\u001b[38;5;124mCochin\u001b[39m\u001b[38;5;124m\"\u001b[39m, \u001b[38;5;241m23000.89\u001b[39m),\n\u001b[0;32m      6\u001b[0m     (\u001b[38;5;241m103\u001b[39m, \u001b[38;5;124m\"\u001b[39m\u001b[38;5;124mAyush\u001b[39m\u001b[38;5;124m\"\u001b[39m, \u001b[38;5;124m\"\u001b[39m\u001b[38;5;124mGupta\u001b[39m\u001b[38;5;124m\"\u001b[39m, \u001b[38;5;124m\"\u001b[39m\u001b[38;5;124m2022-11-08\u001b[39m\u001b[38;5;124m\"\u001b[39m, \u001b[38;5;124m\"\u001b[39m\u001b[38;5;124mDelhi\u001b[39m\u001b[38;5;124m\"\u001b[39m, \u001b[38;5;241m23500.00\u001b[39m),\n\u001b[1;32m   (...)\u001b[0m\n\u001b[0;32m     10\u001b[0m     (\u001b[38;5;241m107\u001b[39m, \u001b[38;5;124m\"\u001b[39m\u001b[38;5;124mRohan\u001b[39m\u001b[38;5;124m\"\u001b[39m, \u001b[38;5;124m\"\u001b[39m\u001b[38;5;124mJajee\u001b[39m\u001b[38;5;124m\"\u001b[39m, \u001b[38;5;124m\"\u001b[39m\u001b[38;5;124m2022-11-11\u001b[39m\u001b[38;5;124m\"\u001b[39m, \u001b[38;5;124m\"\u001b[39m\u001b[38;5;124mMumbai\u001b[39m\u001b[38;5;124m\"\u001b[39m, \u001b[38;5;241m25000.00\u001b[39m)\n\u001b[0;32m     11\u001b[0m ]\n\u001b[1;32m---> 13\u001b[0m \u001b[43mcur\u001b[49m\u001b[38;5;241;43m.\u001b[39;49m\u001b[43mexecutemany\u001b[49m\u001b[43m(\u001b[49m\u001b[43msql\u001b[49m\u001b[43m,\u001b[49m\u001b[43m \u001b[49m\u001b[43mval\u001b[49m\u001b[43m)\u001b[49m\n\u001b[0;32m     14\u001b[0m conn\u001b[38;5;241m.\u001b[39mcommit()\n",
      "File \u001b[1;32m~\\Anaconda3\\lib\\site-packages\\mysql\\connector\\cursor_cext.py:406\u001b[0m, in \u001b[0;36mCMySQLCursor.executemany\u001b[1;34m(self, operation, seq_params)\u001b[0m\n\u001b[0;32m    399\u001b[0m \u001b[38;5;28;01mtry\u001b[39;00m:\n\u001b[0;32m    400\u001b[0m     \u001b[38;5;66;03m# When processing read ops (e.g., SELECT), rowcnt is updated\u001b[39;00m\n\u001b[0;32m    401\u001b[0m     \u001b[38;5;66;03m# based on self._rowcount. For write ops (e.g., INSERT) is\u001b[39;00m\n\u001b[0;32m    402\u001b[0m     \u001b[38;5;66;03m# updated based on self._affected_rows.\u001b[39;00m\n\u001b[0;32m    403\u001b[0m     \u001b[38;5;66;03m# The variable self._description is None for write ops, that's\u001b[39;00m\n\u001b[0;32m    404\u001b[0m     \u001b[38;5;66;03m# why we use it as indicator for updating rowcnt.\u001b[39;00m\n\u001b[0;32m    405\u001b[0m     \u001b[38;5;28;01mfor\u001b[39;00m params \u001b[38;5;129;01min\u001b[39;00m seq_params:\n\u001b[1;32m--> 406\u001b[0m         \u001b[38;5;28;43mself\u001b[39;49m\u001b[38;5;241;43m.\u001b[39;49m\u001b[43mexecute\u001b[49m\u001b[43m(\u001b[49m\u001b[43moperation\u001b[49m\u001b[43m,\u001b[49m\u001b[43m \u001b[49m\u001b[43mparams\u001b[49m\u001b[43m)\u001b[49m\n\u001b[0;32m    407\u001b[0m         \u001b[38;5;28;01mif\u001b[39;00m \u001b[38;5;28mself\u001b[39m\u001b[38;5;241m.\u001b[39mwith_rows \u001b[38;5;129;01mand\u001b[39;00m \u001b[38;5;28mself\u001b[39m\u001b[38;5;241m.\u001b[39m_cnx\u001b[38;5;241m.\u001b[39munread_result:\n\u001b[0;32m    408\u001b[0m             \u001b[38;5;28mself\u001b[39m\u001b[38;5;241m.\u001b[39mfetchall()\n",
      "File \u001b[1;32m~\\Anaconda3\\lib\\site-packages\\mysql\\connector\\cursor_cext.py:279\u001b[0m, in \u001b[0;36mCMySQLCursor.execute\u001b[1;34m(self, operation, params, multi)\u001b[0m\n\u001b[0;32m    274\u001b[0m             \u001b[38;5;28;01mraise\u001b[39;00m ProgrammingError(\n\u001b[0;32m    275\u001b[0m                 \u001b[38;5;124m\"\u001b[39m\u001b[38;5;124mNot all parameters were used in the SQL statement\u001b[39m\u001b[38;5;124m\"\u001b[39m\n\u001b[0;32m    276\u001b[0m             )\n\u001b[0;32m    278\u001b[0m \u001b[38;5;28;01mtry\u001b[39;00m:\n\u001b[1;32m--> 279\u001b[0m     result \u001b[38;5;241m=\u001b[39m \u001b[38;5;28;43mself\u001b[39;49m\u001b[38;5;241;43m.\u001b[39;49m\u001b[43m_cnx\u001b[49m\u001b[38;5;241;43m.\u001b[39;49m\u001b[43mcmd_query\u001b[49m\u001b[43m(\u001b[49m\n\u001b[0;32m    280\u001b[0m \u001b[43m        \u001b[49m\u001b[43mstmt\u001b[49m\u001b[43m,\u001b[49m\n\u001b[0;32m    281\u001b[0m \u001b[43m        \u001b[49m\u001b[43mraw\u001b[49m\u001b[38;5;241;43m=\u001b[39;49m\u001b[38;5;28;43mself\u001b[39;49m\u001b[38;5;241;43m.\u001b[39;49m\u001b[43m_raw\u001b[49m\u001b[43m,\u001b[49m\n\u001b[0;32m    282\u001b[0m \u001b[43m        \u001b[49m\u001b[43mbuffered\u001b[49m\u001b[38;5;241;43m=\u001b[39;49m\u001b[38;5;28;43mself\u001b[39;49m\u001b[38;5;241;43m.\u001b[39;49m\u001b[43m_buffered\u001b[49m\u001b[43m,\u001b[49m\n\u001b[0;32m    283\u001b[0m \u001b[43m        \u001b[49m\u001b[43mraw_as_string\u001b[49m\u001b[38;5;241;43m=\u001b[39;49m\u001b[38;5;28;43mself\u001b[39;49m\u001b[38;5;241;43m.\u001b[39;49m\u001b[43m_raw_as_string\u001b[49m\u001b[43m,\u001b[49m\n\u001b[0;32m    284\u001b[0m \u001b[43m    \u001b[49m\u001b[43m)\u001b[49m\n\u001b[0;32m    285\u001b[0m \u001b[38;5;28;01mexcept\u001b[39;00m MySQLInterfaceError \u001b[38;5;28;01mas\u001b[39;00m err:\n\u001b[0;32m    286\u001b[0m     \u001b[38;5;28;01mraise\u001b[39;00m get_mysql_exception(\n\u001b[0;32m    287\u001b[0m         msg\u001b[38;5;241m=\u001b[39merr\u001b[38;5;241m.\u001b[39mmsg, errno\u001b[38;5;241m=\u001b[39merr\u001b[38;5;241m.\u001b[39merrno, sqlstate\u001b[38;5;241m=\u001b[39merr\u001b[38;5;241m.\u001b[39msqlstate\n\u001b[0;32m    288\u001b[0m     ) \u001b[38;5;28;01mfrom\u001b[39;00m \u001b[38;5;21;01merr\u001b[39;00m\n",
      "File \u001b[1;32m~\\Anaconda3\\lib\\site-packages\\mysql\\connector\\connection_cext.py:573\u001b[0m, in \u001b[0;36mCMySQLConnection.cmd_query\u001b[1;34m(self, query, raw, buffered, raw_as_string)\u001b[0m\n\u001b[0;32m    565\u001b[0m     \u001b[38;5;28mself\u001b[39m\u001b[38;5;241m.\u001b[39m_cmysql\u001b[38;5;241m.\u001b[39mquery(\n\u001b[0;32m    566\u001b[0m         query,\n\u001b[0;32m    567\u001b[0m         raw\u001b[38;5;241m=\u001b[39mraw,\n\u001b[1;32m   (...)\u001b[0m\n\u001b[0;32m    570\u001b[0m         query_attrs\u001b[38;5;241m=\u001b[39m\u001b[38;5;28mself\u001b[39m\u001b[38;5;241m.\u001b[39m_query_attrs,\n\u001b[0;32m    571\u001b[0m     )\n\u001b[0;32m    572\u001b[0m \u001b[38;5;28;01mexcept\u001b[39;00m MySQLInterfaceError \u001b[38;5;28;01mas\u001b[39;00m err:\n\u001b[1;32m--> 573\u001b[0m     \u001b[38;5;28;01mraise\u001b[39;00m get_mysql_exception(\n\u001b[0;32m    574\u001b[0m         err\u001b[38;5;241m.\u001b[39merrno, msg\u001b[38;5;241m=\u001b[39merr\u001b[38;5;241m.\u001b[39mmsg, sqlstate\u001b[38;5;241m=\u001b[39merr\u001b[38;5;241m.\u001b[39msqlstate\n\u001b[0;32m    575\u001b[0m     ) \u001b[38;5;28;01mfrom\u001b[39;00m \u001b[38;5;21;01merr\u001b[39;00m\n\u001b[0;32m    576\u001b[0m \u001b[38;5;28;01mexcept\u001b[39;00m \u001b[38;5;167;01mAttributeError\u001b[39;00m \u001b[38;5;28;01mas\u001b[39;00m err:\n\u001b[0;32m    577\u001b[0m     addr \u001b[38;5;241m=\u001b[39m (\n\u001b[0;32m    578\u001b[0m         \u001b[38;5;28mself\u001b[39m\u001b[38;5;241m.\u001b[39m_unix_socket \u001b[38;5;28;01mif\u001b[39;00m \u001b[38;5;28mself\u001b[39m\u001b[38;5;241m.\u001b[39m_unix_socket \u001b[38;5;28;01melse\u001b[39;00m \u001b[38;5;124mf\u001b[39m\u001b[38;5;124m\"\u001b[39m\u001b[38;5;132;01m{\u001b[39;00m\u001b[38;5;28mself\u001b[39m\u001b[38;5;241m.\u001b[39m_host\u001b[38;5;132;01m}\u001b[39;00m\u001b[38;5;124m:\u001b[39m\u001b[38;5;132;01m{\u001b[39;00m\u001b[38;5;28mself\u001b[39m\u001b[38;5;241m.\u001b[39m_port\u001b[38;5;132;01m}\u001b[39;00m\u001b[38;5;124m\"\u001b[39m\n\u001b[0;32m    579\u001b[0m     )\n",
      "\u001b[1;31mIntegrityError\u001b[0m: 1062 (23000): Duplicate entry '105' for key 'PRIMARY'"
     ]
    }
   ],
   "source": [
    "# Insert Many\n",
    "\n",
    "sql='insert into employee values(%s,%s,%s,%s,%s,%s)'\n",
    "val=[\n",
    "    (102, \"Anjali\", \"Joy\", \"2023-01-16\", \"Cochin\", 23000.89),\n",
    "    (103, \"Ayush\", \"Gupta\", \"2022-11-08\", \"Delhi\", 23500.00),\n",
    "    (104, \"Bani\", \"Ghosh\", \"2022-10-10\", \"Kolkatta\", 24000.00),\n",
    "    (105, \"Gowri\", \"D\", \"2023-01-15\", \"Chennai\", 22900.90),\n",
    "    (106, \"Vignesh\", \"Menon\", \"2023-01-01\", \"Banagalore\", 23000.00),\n",
    "    (107, \"Rohan\", \"Jajee\", \"2022-11-11\", \"Mumbai\", 25000.00)\n",
    "]\n",
    "\n",
    "cur.executemany(sql, val)\n",
    "conn.commit()"
   ]
  },
  {
   "cell_type": "code",
   "execution_count": 8,
   "id": "6eca1726",
   "metadata": {},
   "outputs": [],
   "source": [
    "# Read Database Values- SELECT\n",
    "sql='select * from employee'\n",
    "cur.execute(sql)"
   ]
  },
  {
   "cell_type": "code",
   "execution_count": 9,
   "id": "cc6c9946",
   "metadata": {},
   "outputs": [],
   "source": [
    "result=cur.fetchall()"
   ]
  },
  {
   "cell_type": "code",
   "execution_count": 10,
   "id": "c955a77d",
   "metadata": {},
   "outputs": [
    {
     "name": "stdout",
     "output_type": "stream",
     "text": [
      "================================\n",
      "EID: 101\n",
      "First Name: Prateek\n",
      "Last Name: Vashishtha\n",
      "Date of Joining: 2022-07-11\n",
      "City: Bangalore\n",
      "Salary: 25600.0\n",
      "================================\n",
      "================================\n",
      "EID: 102\n",
      "First Name: Anjali\n",
      "Last Name: Joy\n",
      "Date of Joining: 2023-01-16\n",
      "City: Cochin\n",
      "Salary: 23000.89\n",
      "================================\n",
      "================================\n",
      "EID: 103\n",
      "First Name: Ayush\n",
      "Last Name: Gupta\n",
      "Date of Joining: 2022-11-08\n",
      "City: Delhi\n",
      "Salary: 23500.0\n",
      "================================\n",
      "================================\n",
      "EID: 104\n",
      "First Name: Bani\n",
      "Last Name: Ghosh\n",
      "Date of Joining: 2022-10-10\n",
      "City: Kolkatta\n",
      "Salary: 24000.0\n",
      "================================\n",
      "================================\n",
      "EID: 105\n",
      "First Name: Gowri\n",
      "Last Name: D\n",
      "Date of Joining: 2023-01-15\n",
      "City: Bangalore\n",
      "Salary: 22900.9\n",
      "================================\n",
      "================================\n",
      "EID: 106\n",
      "First Name: Vignesh\n",
      "Last Name: Menon\n",
      "Date of Joining: 2023-01-01\n",
      "City: Banagalore\n",
      "Salary: 23000.0\n",
      "================================\n",
      "================================\n",
      "EID: 107\n",
      "First Name: Rohan\n",
      "Last Name: Jajee\n",
      "Date of Joining: 2022-11-11\n",
      "City: Mumbai\n",
      "Salary: 25000.0\n",
      "================================\n"
     ]
    }
   ],
   "source": [
    "for row in result:\n",
    "    print('================================')\n",
    "    print(f'EID: {row[0]}\\nFirst Name: {row[1]}')\n",
    "    print(f'Last Name: {row[2]}\\nDate of Joining: {row[3]}')\n",
    "    print(f'City: {row[4]}\\nSalary: {row[5]}')\n",
    "    print('================================')"
   ]
  },
  {
   "cell_type": "code",
   "execution_count": 11,
   "id": "06b48332",
   "metadata": {},
   "outputs": [],
   "source": [
    "sql='select * from employee'\n",
    "cur.execute(sql)"
   ]
  },
  {
   "cell_type": "code",
   "execution_count": 12,
   "id": "3f772385",
   "metadata": {},
   "outputs": [
    {
     "name": "stdout",
     "output_type": "stream",
     "text": [
      "================================\n",
      "EID: 101\n",
      "First Name: Prateek\n",
      "Last Name: Vashishtha\n",
      "Date of Joining: 2022-07-11\n",
      "City: Bangalore\n",
      "Salary: 25600.0\n",
      "================================\n",
      "================================\n",
      "EID: 102\n",
      "First Name: Anjali\n",
      "Last Name: Joy\n",
      "Date of Joining: 2023-01-16\n",
      "City: Cochin\n",
      "Salary: 23000.89\n",
      "================================\n",
      "================================\n",
      "EID: 103\n",
      "First Name: Ayush\n",
      "Last Name: Gupta\n",
      "Date of Joining: 2022-11-08\n",
      "City: Delhi\n",
      "Salary: 23500.0\n",
      "================================\n",
      "================================\n",
      "EID: 104\n",
      "First Name: Bani\n",
      "Last Name: Ghosh\n",
      "Date of Joining: 2022-10-10\n",
      "City: Kolkatta\n",
      "Salary: 24000.0\n",
      "================================\n",
      "================================\n",
      "EID: 105\n",
      "First Name: Gowri\n",
      "Last Name: D\n",
      "Date of Joining: 2023-01-15\n",
      "City: Bangalore\n",
      "Salary: 22900.9\n",
      "================================\n",
      "================================\n",
      "EID: 106\n",
      "First Name: Vignesh\n",
      "Last Name: Menon\n",
      "Date of Joining: 2023-01-01\n",
      "City: Banagalore\n",
      "Salary: 23000.0\n",
      "================================\n",
      "================================\n",
      "EID: 107\n",
      "First Name: Rohan\n",
      "Last Name: Jajee\n",
      "Date of Joining: 2022-11-11\n",
      "City: Mumbai\n",
      "Salary: 25000.0\n",
      "================================\n"
     ]
    }
   ],
   "source": [
    "row=cur.fetchone()\n",
    "while row!=None:\n",
    "    print('================================')\n",
    "    print(f'EID: {row[0]}\\nFirst Name: {row[1]}')\n",
    "    print(f'Last Name: {row[2]}\\nDate of Joining: {row[3]}')\n",
    "    print(f'City: {row[4]}\\nSalary: {row[5]}')\n",
    "    print('================================')\n",
    "    row=cur.fetchone()"
   ]
  },
  {
   "cell_type": "code",
   "execution_count": 13,
   "id": "80158f31",
   "metadata": {},
   "outputs": [
    {
     "name": "stderr",
     "output_type": "stream",
     "text": [
      "C:\\Users\\pvashishtha\\Anaconda3\\lib\\site-packages\\pandas\\io\\sql.py:761: UserWarning: pandas only support SQLAlchemy connectable(engine/connection) ordatabase string URI or sqlite3 DBAPI2 connectionother DBAPI2 objects are not tested, please consider using SQLAlchemy\n",
      "  warnings.warn(\n"
     ]
    },
    {
     "data": {
      "text/html": [
       "<div>\n",
       "<style scoped>\n",
       "    .dataframe tbody tr th:only-of-type {\n",
       "        vertical-align: middle;\n",
       "    }\n",
       "\n",
       "    .dataframe tbody tr th {\n",
       "        vertical-align: top;\n",
       "    }\n",
       "\n",
       "    .dataframe thead th {\n",
       "        text-align: right;\n",
       "    }\n",
       "</style>\n",
       "<table border=\"1\" class=\"dataframe\">\n",
       "  <thead>\n",
       "    <tr style=\"text-align: right;\">\n",
       "      <th></th>\n",
       "      <th>eid</th>\n",
       "      <th>fname</th>\n",
       "      <th>lname</th>\n",
       "      <th>doj</th>\n",
       "      <th>city</th>\n",
       "      <th>salary</th>\n",
       "    </tr>\n",
       "  </thead>\n",
       "  <tbody>\n",
       "    <tr>\n",
       "      <th>0</th>\n",
       "      <td>101</td>\n",
       "      <td>Prateek</td>\n",
       "      <td>Vashishtha</td>\n",
       "      <td>2022-07-11</td>\n",
       "      <td>Bangalore</td>\n",
       "      <td>25600.00</td>\n",
       "    </tr>\n",
       "    <tr>\n",
       "      <th>1</th>\n",
       "      <td>102</td>\n",
       "      <td>Anjali</td>\n",
       "      <td>Joy</td>\n",
       "      <td>2023-01-16</td>\n",
       "      <td>Cochin</td>\n",
       "      <td>23000.89</td>\n",
       "    </tr>\n",
       "    <tr>\n",
       "      <th>2</th>\n",
       "      <td>103</td>\n",
       "      <td>Ayush</td>\n",
       "      <td>Gupta</td>\n",
       "      <td>2022-11-08</td>\n",
       "      <td>Delhi</td>\n",
       "      <td>23500.00</td>\n",
       "    </tr>\n",
       "    <tr>\n",
       "      <th>3</th>\n",
       "      <td>104</td>\n",
       "      <td>Bani</td>\n",
       "      <td>Ghosh</td>\n",
       "      <td>2022-10-10</td>\n",
       "      <td>Kolkatta</td>\n",
       "      <td>24000.00</td>\n",
       "    </tr>\n",
       "    <tr>\n",
       "      <th>4</th>\n",
       "      <td>105</td>\n",
       "      <td>Gowri</td>\n",
       "      <td>D</td>\n",
       "      <td>2023-01-15</td>\n",
       "      <td>Bangalore</td>\n",
       "      <td>22900.90</td>\n",
       "    </tr>\n",
       "    <tr>\n",
       "      <th>5</th>\n",
       "      <td>106</td>\n",
       "      <td>Vignesh</td>\n",
       "      <td>Menon</td>\n",
       "      <td>2023-01-01</td>\n",
       "      <td>Banagalore</td>\n",
       "      <td>23000.00</td>\n",
       "    </tr>\n",
       "    <tr>\n",
       "      <th>6</th>\n",
       "      <td>107</td>\n",
       "      <td>Rohan</td>\n",
       "      <td>Jajee</td>\n",
       "      <td>2022-11-11</td>\n",
       "      <td>Mumbai</td>\n",
       "      <td>25000.00</td>\n",
       "    </tr>\n",
       "  </tbody>\n",
       "</table>\n",
       "</div>"
      ],
      "text/plain": [
       "   eid    fname       lname         doj        city    salary\n",
       "0  101  Prateek  Vashishtha  2022-07-11   Bangalore  25600.00\n",
       "1  102   Anjali         Joy  2023-01-16      Cochin  23000.89\n",
       "2  103    Ayush       Gupta  2022-11-08       Delhi  23500.00\n",
       "3  104     Bani       Ghosh  2022-10-10    Kolkatta  24000.00\n",
       "4  105    Gowri           D  2023-01-15   Bangalore  22900.90\n",
       "5  106  Vignesh       Menon  2023-01-01  Banagalore  23000.00\n",
       "6  107    Rohan       Jajee  2022-11-11      Mumbai  25000.00"
      ]
     },
     "execution_count": 13,
     "metadata": {},
     "output_type": "execute_result"
    }
   ],
   "source": [
    "import pandas as pd\n",
    "data=pd.read_sql(\"select * from employee\", conn)\n",
    "data"
   ]
  },
  {
   "cell_type": "code",
   "execution_count": 14,
   "id": "21302e64",
   "metadata": {},
   "outputs": [
    {
     "name": "stdout",
     "output_type": "stream",
     "text": [
      "1 rows updated\n"
     ]
    }
   ],
   "source": [
    "# UPDATE\n",
    "sql='update employee set city=\"Delhi\" where eid=101'\n",
    "cur.execute(sql)\n",
    "conn.commit()\n",
    "print(f'{cur.rowcount} rows updated')"
   ]
  },
  {
   "cell_type": "code",
   "execution_count": 15,
   "id": "a5d949e9",
   "metadata": {},
   "outputs": [
    {
     "name": "stdout",
     "output_type": "stream",
     "text": [
      "2 rows deleted\n"
     ]
    }
   ],
   "source": [
    "# DELETE\n",
    "sql='delete from employee where city=\"Delhi\"'\n",
    "cur.execute(sql)\n",
    "conn.commit()\n",
    "print(f'{cur.rowcount} rows deleted')"
   ]
  },
  {
   "cell_type": "code",
   "execution_count": 16,
   "id": "3fc48da3",
   "metadata": {},
   "outputs": [
    {
     "name": "stdout",
     "output_type": "stream",
     "text": [
      "Table is Dropped\n"
     ]
    }
   ],
   "source": [
    "# DROP\n",
    "sql='drop table employee'\n",
    "try:\n",
    "    cur.execute(sql)\n",
    "    print('Table is Dropped')\n",
    "except:\n",
    "    print('Table Drop Error! Check Logs.')"
   ]
  },
  {
   "cell_type": "code",
   "execution_count": 17,
   "id": "4c8fee67",
   "metadata": {},
   "outputs": [],
   "source": [
    "# close\n",
    "cur.close()\n",
    "conn.close()"
   ]
  },
  {
   "cell_type": "code",
   "execution_count": 18,
   "id": "97834aae",
   "metadata": {},
   "outputs": [],
   "source": [
    "conn.disconnect()"
   ]
  },
  {
   "cell_type": "code",
   "execution_count": null,
   "id": "4846f451",
   "metadata": {},
   "outputs": [],
   "source": [
    "# create a class that manages database. \n",
    "# It has functionalities like:\n",
    "# insert data, update, delete, select\n",
    "# use abccorp database and employee table\n",
    "# \n",
    "# emp(eid int primary key, ename varchar(20), \n",
    "    # dept int, sal int);"
   ]
  },
  {
   "cell_type": "code",
   "execution_count": 28,
   "id": "30e7a499",
   "metadata": {},
   "outputs": [],
   "source": [
    "class Employee:\n",
    "    def __init__(self, host, user, pwd, port, db):\n",
    "        import mysql.connector\n",
    "        try:\n",
    "            self.conn=mysql.connector.connect(host=host,\n",
    "                                             user=user,\n",
    "                                             password=pwd,\n",
    "                                             port=port,\n",
    "                                             database=db)\n",
    "            self.cur=self.conn.cursor()\n",
    "            print(self.conn)\n",
    "            print(self.cur)\n",
    "        except:\n",
    "            print('Database Not Connected!')\n",
    "        return None\n",
    "    def insert(self, eid, fname, lname, doj, city, sal):\n",
    "        sql=f'insert into employee values({eid}, \"{fname}\",\"{lname}\",\"{doj}\",\"{city}\",{sal})'\n",
    "        self.cur.execute(sql)\n",
    "        self.conn.commit()\n",
    "        return self.cur.rowcount\n",
    "    def read_all(self):\n",
    "        sql=\"select * from employee\"\n",
    "        self.cur.execute(sql)\n",
    "        result=self.cur.fetchall()\n",
    "        for record in result:\n",
    "            print(record)\n",
    "        return None\n",
    "    def __del__(self):\n",
    "        self.cur.close()\n",
    "        self.conn.close()"
   ]
  },
  {
   "cell_type": "code",
   "execution_count": 29,
   "id": "fa6d8664",
   "metadata": {},
   "outputs": [
    {
     "name": "stdout",
     "output_type": "stream",
     "text": [
      "<mysql.connector.connection_cext.CMySQLConnection object at 0x000001D2EF0ACFA0>\n",
      "CMySQLCursor: (Nothing executed yet)\n"
     ]
    }
   ],
   "source": [
    "emp=Employee('localhost','root','',3306,'abccorp')"
   ]
  },
  {
   "cell_type": "code",
   "execution_count": 32,
   "id": "cc990d0a",
   "metadata": {},
   "outputs": [
    {
     "data": {
      "text/plain": [
       "1"
      ]
     },
     "execution_count": 32,
     "metadata": {},
     "output_type": "execute_result"
    }
   ],
   "source": [
    "emp.insert(902, 'Keerthana','GS','2022-07-11','Tumkur',50000)"
   ]
  },
  {
   "cell_type": "code",
   "execution_count": 33,
   "id": "bb8be111",
   "metadata": {},
   "outputs": [
    {
     "name": "stdout",
     "output_type": "stream",
     "text": [
      "(901, 'Prateek', 'vashishtha', datetime.date(2022, 7, 11), 'Meerut', 50000.0)\n",
      "(902, 'Keerthana', 'GS', datetime.date(2022, 7, 11), 'Tumkur', 50000.0)\n"
     ]
    }
   ],
   "source": [
    "emp.read_all()"
   ]
  },
  {
   "cell_type": "markdown",
   "id": "f165578d",
   "metadata": {},
   "source": [
    "### Generator Functions"
   ]
  },
  {
   "cell_type": "code",
   "execution_count": 38,
   "id": "ba1b42fc",
   "metadata": {},
   "outputs": [],
   "source": [
    "def mygenerator():\n",
    "    for i in range(10):\n",
    "        yield i"
   ]
  },
  {
   "cell_type": "code",
   "execution_count": 39,
   "id": "e5013956",
   "metadata": {
    "collapsed": true
   },
   "outputs": [
    {
     "name": "stdout",
     "output_type": "stream",
     "text": [
      "0\n",
      "1\n",
      "2\n",
      "3\n",
      "4\n",
      "5\n",
      "6\n",
      "7\n",
      "8\n",
      "9\n"
     ]
    }
   ],
   "source": [
    "for val in mygenerator():\n",
    "    print(val)"
   ]
  },
  {
   "cell_type": "code",
   "execution_count": 44,
   "id": "535d81a7",
   "metadata": {},
   "outputs": [],
   "source": [
    "def mygenerator():\n",
    "    for i in range(750001, 780999):\n",
    "        yield i"
   ]
  },
  {
   "cell_type": "code",
   "execution_count": 45,
   "id": "dc4fc512",
   "metadata": {},
   "outputs": [],
   "source": [
    "val=mygenerator()"
   ]
  },
  {
   "cell_type": "code",
   "execution_count": 46,
   "id": "307d3bb1",
   "metadata": {},
   "outputs": [
    {
     "data": {
      "text/plain": [
       "750001"
      ]
     },
     "execution_count": 46,
     "metadata": {},
     "output_type": "execute_result"
    }
   ],
   "source": [
    "next(val)"
   ]
  },
  {
   "cell_type": "code",
   "execution_count": 47,
   "id": "4a0160dd",
   "metadata": {},
   "outputs": [
    {
     "data": {
      "text/plain": [
       "750002"
      ]
     },
     "execution_count": 47,
     "metadata": {},
     "output_type": "execute_result"
    }
   ],
   "source": [
    "next(val)"
   ]
  },
  {
   "cell_type": "code",
   "execution_count": 48,
   "id": "ecead27a",
   "metadata": {},
   "outputs": [],
   "source": [
    "# insert into employee(next(val), ...)"
   ]
  },
  {
   "cell_type": "markdown",
   "id": "272e958a",
   "metadata": {},
   "source": [
    "#### Modules & Packages"
   ]
  },
  {
   "cell_type": "code",
   "execution_count": 50,
   "id": "fa034e4c",
   "metadata": {},
   "outputs": [],
   "source": [
    "import basicmath as bm"
   ]
  },
  {
   "cell_type": "code",
   "execution_count": 51,
   "id": "457fc467",
   "metadata": {},
   "outputs": [
    {
     "name": "stdout",
     "output_type": "stream",
     "text": [
      "90\n"
     ]
    }
   ],
   "source": [
    "print(bm.add_num(34,56))"
   ]
  },
  {
   "cell_type": "code",
   "execution_count": 52,
   "id": "e1bc31d7",
   "metadata": {},
   "outputs": [
    {
     "data": {
      "text/plain": [
       "16384"
      ]
     },
     "execution_count": 52,
     "metadata": {},
     "output_type": "execute_result"
    }
   ],
   "source": [
    "bm.expo(4,7)"
   ]
  },
  {
   "cell_type": "code",
   "execution_count": 3,
   "id": "ccb0b63a",
   "metadata": {},
   "outputs": [],
   "source": [
    "import utility.basicmath as bm"
   ]
  },
  {
   "cell_type": "code",
   "execution_count": 4,
   "id": "bc86fa5d",
   "metadata": {},
   "outputs": [
    {
     "data": {
      "text/plain": [
       "64"
      ]
     },
     "execution_count": 4,
     "metadata": {},
     "output_type": "execute_result"
    }
   ],
   "source": [
    "bm.expo(4,3)"
   ]
  },
  {
   "cell_type": "code",
   "execution_count": 5,
   "id": "f60f26cf",
   "metadata": {},
   "outputs": [],
   "source": [
    "import utility.scimath as sm"
   ]
  },
  {
   "cell_type": "code",
   "execution_count": 6,
   "id": "8d7fd0f6",
   "metadata": {},
   "outputs": [
    {
     "data": {
      "text/plain": [
       "0.9893582466233818"
      ]
     },
     "execution_count": 6,
     "metadata": {},
     "output_type": "execute_result"
    }
   ],
   "source": [
    "sm.sine(8)"
   ]
  },
  {
   "cell_type": "code",
   "execution_count": 7,
   "id": "23e0a021",
   "metadata": {},
   "outputs": [],
   "source": [
    "from utility.scimath import loge as le"
   ]
  },
  {
   "cell_type": "code",
   "execution_count": 8,
   "id": "7cd57cbc",
   "metadata": {},
   "outputs": [
    {
     "data": {
      "text/plain": [
       "1.9459101490553132"
      ]
     },
     "execution_count": 8,
     "metadata": {},
     "output_type": "execute_result"
    }
   ],
   "source": [
    "le(7)"
   ]
  },
  {
   "cell_type": "markdown",
   "id": "c6e5c016",
   "metadata": {},
   "source": [
    "### RegEx"
   ]
  },
  {
   "cell_type": "code",
   "execution_count": 10,
   "id": "2e1c8662",
   "metadata": {},
   "outputs": [],
   "source": [
    "# Regular Expressions - generic syntax for representing\n",
    "    # patterns in strings"
   ]
  },
  {
   "cell_type": "code",
   "execution_count": 11,
   "id": "732148ec",
   "metadata": {},
   "outputs": [],
   "source": [
    "import re"
   ]
  },
  {
   "cell_type": "code",
   "execution_count": 13,
   "id": "3bffde6b",
   "metadata": {},
   "outputs": [
    {
     "name": "stdout",
     "output_type": "stream",
     "text": [
      "['__name__', '__doc__', '__package__', '__loader__', '__spec__', '__file__', '__cached__', '__builtins__', 'enum', 'sre_compile', 'sre_parse', 'functools', '_locale', '__all__', '__version__', 'RegexFlag', 'ASCII', 'A', 'IGNORECASE', 'I', 'LOCALE', 'L', 'UNICODE', 'U', 'MULTILINE', 'M', 'DOTALL', 'S', 'VERBOSE', 'X', 'TEMPLATE', 'T', 'DEBUG', 'error', 'match', 'fullmatch', 'search', 'sub', 'subn', 'split', 'findall', 'finditer', 'compile', 'purge', 'template', '_special_chars_map', 'escape', 'Pattern', 'Match', '_cache', '_MAXCACHE', '_compile', '_compile_repl', '_expand', '_subx', 'copyreg', '_pickle', 'Scanner']\n"
     ]
    }
   ],
   "source": [
    "print(re.__dir__())"
   ]
  },
  {
   "cell_type": "code",
   "execution_count": 15,
   "id": "36866c14",
   "metadata": {},
   "outputs": [
    {
     "name": "stdout",
     "output_type": "stream",
     "text": [
      "<re.Match object; span=(0, 1), match='d'>\n"
     ]
    }
   ],
   "source": [
    "s='deloitte.com'\n",
    "match=re.search(r'.', s)\n",
    "print(match)"
   ]
  },
  {
   "cell_type": "code",
   "execution_count": 16,
   "id": "0f201f01",
   "metadata": {},
   "outputs": [
    {
     "name": "stdout",
     "output_type": "stream",
     "text": [
      "<re.Match object; span=(8, 9), match='.'>\n"
     ]
    }
   ],
   "source": [
    "print(re.search(r'\\.', s))"
   ]
  },
  {
   "cell_type": "code",
   "execution_count": 17,
   "id": "1fb5111c",
   "metadata": {},
   "outputs": [
    {
     "name": "stdout",
     "output_type": "stream",
     "text": [
      "<re.Match object; span=(0, 3), match='for'>\n"
     ]
    }
   ],
   "source": [
    "s='for deloitte'\n",
    "print(re.search(r'\\Afor', s))"
   ]
  },
  {
   "cell_type": "code",
   "execution_count": 18,
   "id": "7fa54107",
   "metadata": {},
   "outputs": [
    {
     "name": "stdout",
     "output_type": "stream",
     "text": [
      "<re.Match object; span=(0, 3), match='for'>\n"
     ]
    }
   ],
   "source": [
    "print(re.search(r'\\bfor', s))"
   ]
  },
  {
   "cell_type": "code",
   "execution_count": 20,
   "id": "fda69494",
   "metadata": {},
   "outputs": [
    {
     "name": "stdout",
     "output_type": "stream",
     "text": [
      "<re.Match object; span=(0, 2), match='te'>\n"
     ]
    }
   ],
   "source": [
    "s='tell deloitte'\n",
    "print(re.search(r'\\bte',s))"
   ]
  },
  {
   "cell_type": "code",
   "execution_count": 21,
   "id": "a2c11fcc",
   "metadata": {},
   "outputs": [
    {
     "name": "stdout",
     "output_type": "stream",
     "text": [
      "<re.Match object; span=(11, 13), match='te'>\n"
     ]
    }
   ],
   "source": [
    "print(re.search(r'te\\b',s))"
   ]
  },
  {
   "cell_type": "code",
   "execution_count": 27,
   "id": "d04e1e56",
   "metadata": {},
   "outputs": [
    {
     "name": "stdout",
     "output_type": "stream",
     "text": [
      "<re.Match object; span=(18, 19), match='1'>\n"
     ]
    }
   ],
   "source": [
    "s='deloitte helpline 1800'\n",
    "print(re.search(r'\\d', s))"
   ]
  },
  {
   "cell_type": "code",
   "execution_count": 28,
   "id": "73e3a145",
   "metadata": {},
   "outputs": [
    {
     "name": "stdout",
     "output_type": "stream",
     "text": [
      "<re.Match object; span=(18, 21), match='180'>\n"
     ]
    }
   ],
   "source": [
    "print(re.search(r'\\d{3}', s))"
   ]
  },
  {
   "cell_type": "code",
   "execution_count": 30,
   "id": "b2f2e7b9",
   "metadata": {},
   "outputs": [
    {
     "name": "stdout",
     "output_type": "stream",
     "text": [
      "<re.Match object; span=(30, 40), match='9808766699'>\n"
     ]
    }
   ],
   "source": [
    "s='Alexa! recharge my mobile +91-9808766699'\n",
    "print(re.search(r'\\d{10}', s))"
   ]
  },
  {
   "cell_type": "code",
   "execution_count": 32,
   "id": "53daa701",
   "metadata": {},
   "outputs": [
    {
     "name": "stdout",
     "output_type": "stream",
     "text": [
      "<re.Match object; span=(0, 27), match='Alexa! recharge my mobile +'>\n"
     ]
    }
   ],
   "source": [
    "s='Alexa! recharge my mobile +91-9808766699'\n",
    "print(re.search(r'\\D*', s))"
   ]
  },
  {
   "cell_type": "code",
   "execution_count": 37,
   "id": "76bb16ec",
   "metadata": {},
   "outputs": [
    {
     "name": "stdout",
     "output_type": "stream",
     "text": [
      "<re.Match object; span=(15, 20), match='     '>\n"
     ]
    }
   ],
   "source": [
    "s='Alexa! recharge           my mobile +91-9808766699'\n",
    "print(re.search(r'\\s{5}', s))"
   ]
  },
  {
   "cell_type": "code",
   "execution_count": 35,
   "id": "961ef6b0",
   "metadata": {},
   "outputs": [
    {
     "name": "stdout",
     "output_type": "stream",
     "text": [
      "<re.Match object; span=(0, 6), match='Alexa!'>\n"
     ]
    }
   ],
   "source": [
    "s='Alexa! recharge my mobile +91-9808766699'\n",
    "print(re.search(r'\\S*', s))"
   ]
  },
  {
   "cell_type": "code",
   "execution_count": 38,
   "id": "39994fc2",
   "metadata": {},
   "outputs": [
    {
     "name": "stdout",
     "output_type": "stream",
     "text": [
      "<re.Match object; span=(5, 6), match='!'>\n"
     ]
    }
   ],
   "source": [
    "s='Alexa! recharge my mobile +91-9808766699'\n",
    "print(re.search(r'\\W', s))"
   ]
  },
  {
   "cell_type": "code",
   "execution_count": 40,
   "id": "66f8a362",
   "metadata": {},
   "outputs": [
    {
     "name": "stdout",
     "output_type": "stream",
     "text": [
      "<re.Match object; span=(0, 5), match='Alexa'>\n"
     ]
    }
   ],
   "source": [
    "s='Alexa! recharge my mobile +91-9808766699'\n",
    "print(re.search(r'\\w*', s))"
   ]
  },
  {
   "cell_type": "markdown",
   "id": "4c8bad71",
   "metadata": {},
   "source": [
    "#### findall()"
   ]
  },
  {
   "cell_type": "code",
   "execution_count": 41,
   "id": "f00dbf37",
   "metadata": {},
   "outputs": [
    {
     "name": "stdout",
     "output_type": "stream",
     "text": [
      "['9', '1', '9', '8', '0', '8', '7', '6', '6', '6', '9', '9']\n"
     ]
    }
   ],
   "source": [
    "s='Alexa! recharge my mobile +91-9808766699'\n",
    "print(re.findall(r'\\d', s))"
   ]
  },
  {
   "cell_type": "code",
   "execution_count": 42,
   "id": "bb80ef1d",
   "metadata": {},
   "outputs": [
    {
     "name": "stdout",
     "output_type": "stream",
     "text": [
      "['9808766699', '9837772595']\n"
     ]
    }
   ],
   "source": [
    "s='Alexa! recharge my mobile +91-9808766699 and +91-9837772595'\n",
    "print(re.findall(r'\\d{10}', s))"
   ]
  },
  {
   "cell_type": "code",
   "execution_count": 43,
   "id": "2f7fceb8",
   "metadata": {},
   "outputs": [
    {
     "name": "stdout",
     "output_type": "stream",
     "text": [
      "['!', ' ', ' ', ' ', ' ', '+', '-']\n"
     ]
    }
   ],
   "source": [
    "s='Alexa! recharge my mobile +91-9808766699'\n",
    "print(re.findall(r'\\W', s))"
   ]
  },
  {
   "cell_type": "code",
   "execution_count": 46,
   "id": "f41d196f",
   "metadata": {},
   "outputs": [
    {
     "name": "stdout",
     "output_type": "stream",
     "text": [
      "['Alexa', 'recharge', 'my', 'mobile', '91', '9808766699']\n"
     ]
    }
   ],
   "source": [
    "s='Alexa! recharge my mobile +91-9808766699'\n",
    "print(re.findall(r'\\w+', s))"
   ]
  },
  {
   "cell_type": "markdown",
   "id": "6179f899",
   "metadata": {},
   "source": [
    "#### compile()"
   ]
  },
  {
   "cell_type": "code",
   "execution_count": 47,
   "id": "c8fff4e7",
   "metadata": {},
   "outputs": [],
   "source": [
    "pattern=re.compile('\\d{2}-\\d{2}-\\d{4}')"
   ]
  },
  {
   "cell_type": "code",
   "execution_count": 48,
   "id": "fe0b1a85",
   "metadata": {},
   "outputs": [],
   "source": [
    "s='my birthday falls on 14-02-2023'"
   ]
  },
  {
   "cell_type": "code",
   "execution_count": 49,
   "id": "567a572f",
   "metadata": {},
   "outputs": [
    {
     "name": "stdout",
     "output_type": "stream",
     "text": [
      "<re.Match object; span=(21, 31), match='14-02-2023'>\n"
     ]
    }
   ],
   "source": [
    "print(pattern.search(s))"
   ]
  },
  {
   "cell_type": "code",
   "execution_count": 50,
   "id": "eb034061",
   "metadata": {},
   "outputs": [
    {
     "name": "stdout",
     "output_type": "stream",
     "text": [
      "['14-02-2023']\n"
     ]
    }
   ],
   "source": [
    "print(pattern.findall(s))"
   ]
  },
  {
   "cell_type": "code",
   "execution_count": 52,
   "id": "d5e4ea60",
   "metadata": {},
   "outputs": [
    {
     "name": "stdout",
     "output_type": "stream",
     "text": [
      "['I', 'am', 'good', 'how', 'are', 'you', 'do', 'you', 'know', 'what', 'is', 'date', 'today', 'I', 'm', 'sure', 'you', 'know', 'that', 'date', 'is', '16']\n"
     ]
    }
   ],
   "source": [
    "s='''I am good. how are you? do you know what is date today?\n",
    "I'm sure you know that date is 16.'''\n",
    "pattern=re.compile('\\w+')\n",
    "print(pattern.findall(s))"
   ]
  },
  {
   "cell_type": "markdown",
   "id": "3a11c00e",
   "metadata": {},
   "source": [
    "#### split()"
   ]
  },
  {
   "cell_type": "code",
   "execution_count": 53,
   "id": "c79e413e",
   "metadata": {},
   "outputs": [
    {
     "name": "stdout",
     "output_type": "stream",
     "text": [
      "['hello', 'how', 'are', 'you', 'I', 'am', 'feeling', 'good', '']\n"
     ]
    }
   ],
   "source": [
    "s='hello how are you? I am feeling good!'\n",
    "print(re.split('\\W+', s))"
   ]
  },
  {
   "cell_type": "code",
   "execution_count": 54,
   "id": "31a968cd",
   "metadata": {},
   "outputs": [
    {
     "name": "stdout",
     "output_type": "stream",
     "text": [
      "['hello', 'how', 'are', 'you?', 'I', 'am', 'feeling', 'good!']\n"
     ]
    }
   ],
   "source": [
    "s='hello how are you? I am feeling good!'\n",
    "print(re.split('\\s', s))"
   ]
  },
  {
   "cell_type": "markdown",
   "id": "8e54b913",
   "metadata": {},
   "source": [
    "#### sub()"
   ]
  },
  {
   "cell_type": "code",
   "execution_count": 55,
   "id": "dbc0a2e5",
   "metadata": {},
   "outputs": [],
   "source": [
    "# substitute substring"
   ]
  },
  {
   "cell_type": "code",
   "execution_count": 56,
   "id": "688ec225",
   "metadata": {},
   "outputs": [
    {
     "name": "stdout",
     "output_type": "stream",
     "text": [
      "I like to ride Ola cabs. Ola is better!\n"
     ]
    }
   ],
   "source": [
    "s=\"I like to ride Uber cabs. Uber is better!\"\n",
    "\n",
    "print(re.sub('Uber', 'Ola', s))"
   ]
  },
  {
   "cell_type": "code",
   "execution_count": 58,
   "id": "55b3992c",
   "metadata": {},
   "outputs": [
    {
     "name": "stdout",
     "output_type": "stream",
     "text": [
      "I like to ride OLA cabs. OLA is better!\n"
     ]
    }
   ],
   "source": [
    "s=\"I like to ride Uber cabs. Uber is better!\"\n",
    "\n",
    "print(re.sub('UBER', 'OLA', s, flags=re.IGNORECASE))"
   ]
  },
  {
   "cell_type": "code",
   "execution_count": 59,
   "id": "23349ee2",
   "metadata": {},
   "outputs": [
    {
     "name": "stdout",
     "output_type": "stream",
     "text": [
      "I like to ride OLA cabs. Uber is better!\n"
     ]
    }
   ],
   "source": [
    "s=\"I like to ride Uber cabs. Uber is better!\"\n",
    "\n",
    "print(re.sub('UBER', 'OLA', s, flags=re.IGNORECASE, count=1))"
   ]
  },
  {
   "cell_type": "markdown",
   "id": "a320b45c",
   "metadata": {},
   "source": [
    "### search()"
   ]
  },
  {
   "cell_type": "code",
   "execution_count": 61,
   "id": "a65b63b5",
   "metadata": {},
   "outputs": [
    {
     "name": "stdout",
     "output_type": "stream",
     "text": [
      "<re.Match object; span=(37, 48), match='15 February'>\n"
     ]
    }
   ],
   "source": [
    "s='I am not available tomorrow, i.e. on 15 February.'\n",
    "\n",
    "pattern=r'(\\d+) ([A-Za-z]+)'\n",
    "\n",
    "match=re.search(pattern, s)\n",
    "\n",
    "print(match)"
   ]
  },
  {
   "cell_type": "code",
   "execution_count": 62,
   "id": "5c972b58",
   "metadata": {},
   "outputs": [
    {
     "name": "stdout",
     "output_type": "stream",
     "text": [
      "37 48\n"
     ]
    }
   ],
   "source": [
    "print(match.start(), match.end())"
   ]
  },
  {
   "cell_type": "code",
   "execution_count": 63,
   "id": "35954439",
   "metadata": {},
   "outputs": [
    {
     "name": "stdout",
     "output_type": "stream",
     "text": [
      "15 February\n"
     ]
    }
   ],
   "source": [
    "print(match.group(0))"
   ]
  },
  {
   "cell_type": "code",
   "execution_count": 64,
   "id": "d1c25a9e",
   "metadata": {},
   "outputs": [
    {
     "name": "stdout",
     "output_type": "stream",
     "text": [
      "15\n"
     ]
    }
   ],
   "source": [
    "print(match.group(1))"
   ]
  },
  {
   "cell_type": "code",
   "execution_count": 65,
   "id": "5baea8b0",
   "metadata": {},
   "outputs": [
    {
     "name": "stdout",
     "output_type": "stream",
     "text": [
      "February\n"
     ]
    }
   ],
   "source": [
    "print(match.group(2))"
   ]
  },
  {
   "cell_type": "markdown",
   "id": "65f23216",
   "metadata": {},
   "source": [
    "#### Example"
   ]
  },
  {
   "cell_type": "code",
   "execution_count": 66,
   "id": "84788115",
   "metadata": {},
   "outputs": [],
   "source": [
    "# find the email id & extract from the statement string.\n",
    "\n",
    "s='my email id is prateek9090@deloitte.com. you can text me details here.'"
   ]
  },
  {
   "cell_type": "code",
   "execution_count": 69,
   "id": "5f89e3ad",
   "metadata": {},
   "outputs": [
    {
     "name": "stdout",
     "output_type": "stream",
     "text": [
      "Email:  prateek9090@deloitte.com\n",
      "Username:  prateek9090\n",
      "Domain:  deloitte.com\n"
     ]
    }
   ],
   "source": [
    "pattern=r'([A-Za-z0-9]+)(@deloitte.com)'\n",
    "match=re.search(pattern, s)\n",
    "print('Email: ',match.group(0))\n",
    "print('Username: ',match.group(1))\n",
    "print('Domain: ',match.group(2)[1:])"
   ]
  },
  {
   "cell_type": "markdown",
   "id": "3ba9ebd9",
   "metadata": {},
   "source": [
    "### Practice"
   ]
  },
  {
   "cell_type": "code",
   "execution_count": 71,
   "id": "398aea74",
   "metadata": {},
   "outputs": [],
   "source": [
    "# consider an input from user which is comma separated numbers/integers\n",
    "# ceate a list from the input string\n",
    "# then do the following:\n",
    "# find the distance of all numbers from maximum number in the list\n",
    "# print all such preceding number pairs and then \n",
    "# find maximum distance\n",
    "\n",
    "#INPUT: '1,3,7,2,4,15,6,8'\n",
    "# Example: [1,3,7,2,4,15,6,8]\n",
    "# Pairs=>(max, element)=distance \n",
    "    # (15,1)=14,(15,3)=12,(15,7)=8,(15,2)=13,(15,4)=11\n",
    "# max distance=> = 14"
   ]
  },
  {
   "cell_type": "code",
   "execution_count": 73,
   "id": "c85e7ae7",
   "metadata": {},
   "outputs": [
    {
     "name": "stdout",
     "output_type": "stream",
     "text": [
      "1,3,7,2,4,15,6,8\n",
      "(15 , 1) = 14\n",
      "(15 , 3) = 12\n",
      "(15 , 7) = 8\n",
      "(15 , 2) = 13\n",
      "(15 , 4) = 11\n",
      "Max Distance= 14\n"
     ]
    }
   ],
   "source": [
    "data=[int(x) for x in input().split(',')]\n",
    "mx=max(data)\n",
    "idx=data.index(mx)\n",
    "dist=[]\n",
    "for i in range(idx):\n",
    "    dist.append(mx-data[i])\n",
    "    print(f'({mx} , {data[i]}) = {mx-data[i]}')\n",
    "print(f'Max Distance= {max(dist)}')"
   ]
  },
  {
   "cell_type": "code",
   "execution_count": 74,
   "id": "6ec2c15e",
   "metadata": {},
   "outputs": [],
   "source": [
    "# using REGEX find number of spaces, words and\n",
    "# special characters from a text stored in text file\n"
   ]
  },
  {
   "cell_type": "code",
   "execution_count": 85,
   "id": "a814fcf3",
   "metadata": {},
   "outputs": [
    {
     "name": "stdout",
     "output_type": "stream",
     "text": [
      "26, 30, 11\n"
     ]
    }
   ],
   "source": [
    "import re\n",
    "with open('mystory.txt','r') as file:\n",
    "    text=file.read()\n",
    "    spaces=len(re.findall(r' ', text))\n",
    "    words=len(re.findall(r'\\w+', text))\n",
    "    sc=len(re.findall(r'\\W', text))-len(re.findall(r'\\s', text))\n",
    "    print(spaces, words, sc, sep=', ')"
   ]
  },
  {
   "cell_type": "code",
   "execution_count": null,
   "id": "9a33f271",
   "metadata": {},
   "outputs": [],
   "source": [
    "# "
   ]
  },
  {
   "cell_type": "code",
   "execution_count": null,
   "id": "b68cfc37",
   "metadata": {},
   "outputs": [],
   "source": []
  },
  {
   "cell_type": "code",
   "execution_count": null,
   "id": "8b4c73bd",
   "metadata": {},
   "outputs": [],
   "source": []
  }
 ],
 "metadata": {
  "kernelspec": {
   "display_name": "Python 3 (ipykernel)",
   "language": "python",
   "name": "python3"
  },
  "language_info": {
   "codemirror_mode": {
    "name": "ipython",
    "version": 3
   },
   "file_extension": ".py",
   "mimetype": "text/x-python",
   "name": "python",
   "nbconvert_exporter": "python",
   "pygments_lexer": "ipython3",
   "version": "3.9.12"
  }
 },
 "nbformat": 4,
 "nbformat_minor": 5
}
